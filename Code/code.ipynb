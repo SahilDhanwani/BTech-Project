{
 "cells": [
  {
   "cell_type": "code",
   "execution_count": 85,
   "metadata": {},
   "outputs": [
    {
     "data": {
      "text/html": [
       "        <script type=\"text/javascript\">\n",
       "        window.PlotlyConfig = {MathJaxConfig: 'local'};\n",
       "        if (window.MathJax && window.MathJax.Hub && window.MathJax.Hub.Config) {window.MathJax.Hub.Config({SVG: {font: \"STIX-Web\"}});}\n",
       "        if (typeof require !== 'undefined') {\n",
       "        require.undef(\"plotly\");\n",
       "        requirejs.config({\n",
       "            paths: {\n",
       "                'plotly': ['https://cdn.plot.ly/plotly-2.27.0.min']\n",
       "            }\n",
       "        });\n",
       "        require(['plotly'], function(Plotly) {\n",
       "            window._Plotly = Plotly;\n",
       "        });\n",
       "        }\n",
       "        </script>\n",
       "        "
      ]
     },
     "metadata": {},
     "output_type": "display_data"
    }
   ],
   "source": [
    "# Import numpy, pandas for data manipulation\n",
    "import numpy as np\n",
    "import pandas as pd\n",
    "from collections import Counter\n",
    "import time\n",
    "\n",
    "# Import plotly, matplotlib and seaborn as visualization tools\n",
    "import matplotlib.pyplot as plt\n",
    "from plotly import tools\n",
    "import chart_studio.plotly as py\n",
    "import plotly.graph_objs as go\n",
    "import plotly.figure_factory as ff\n",
    "import plotly.express as px\n",
    "from plotly.subplots import make_subplots\n",
    "from plotly.offline import download_plotlyjs, init_notebook_mode\n",
    "import seaborn as sns\n",
    "\n",
    "# Import for resampling the data\n",
    "from imblearn.over_sampling import SMOTE\n",
    "\n",
    "# Import for scaling the data\n",
    "from sklearn.preprocessing import MinMaxScaler, OrdinalEncoder, LabelEncoder\n",
    "\n",
    "# Import machine learning models\n",
    "from sklearn.ensemble import RandomForestClassifier, GradientBoostingClassifier, AdaBoostClassifier\n",
    "from sklearn.svm import SVC\n",
    "from sklearn.neighbors import KNeighborsClassifier\n",
    "from sklearn.linear_model import LogisticRegression\n",
    "import xgboost as xgb\n",
    "from catboost import CatBoostClassifier\n",
    "import lightgbm as lgb\n",
    "from sklearn.tree import DecisionTreeClassifier\n",
    "\n",
    "# Import model evaluation metrics\n",
    "from sklearn.metrics import classification_report, confusion_matrix, RocCurveDisplay\n",
    "\n",
    "from sklearn.metrics import accuracy_score, precision_score, recall_score, f1_score\n",
    "from sklearn.model_selection import train_test_split, cross_val_score\n",
    "from sklearn.model_selection import RandomizedSearchCV, GridSearchCV\n",
    "\n",
    "# Plot should appear inside the jupyter notebook\n",
    "%matplotlib inline\n",
    "\n",
    "init_notebook_mode(connected=True)"
   ]
  },
  {
   "cell_type": "code",
   "execution_count": 86,
   "metadata": {
    "scrolled": true
   },
   "outputs": [
    {
     "data": {
      "text/html": [
       "<div>\n",
       "<style scoped>\n",
       "    .dataframe tbody tr th:only-of-type {\n",
       "        vertical-align: middle;\n",
       "    }\n",
       "\n",
       "    .dataframe tbody tr th {\n",
       "        vertical-align: top;\n",
       "    }\n",
       "\n",
       "    .dataframe thead th {\n",
       "        text-align: right;\n",
       "    }\n",
       "</style>\n",
       "<table border=\"1\" class=\"dataframe\">\n",
       "  <thead>\n",
       "    <tr style=\"text-align: right;\">\n",
       "      <th></th>\n",
       "      <th>STATE</th>\n",
       "      <th>CONSTITUENCY</th>\n",
       "      <th>NAME</th>\n",
       "      <th>WINNER</th>\n",
       "      <th>PARTY</th>\n",
       "      <th>SYMBOL</th>\n",
       "      <th>GENDER</th>\n",
       "      <th>CRIMINAL CASES</th>\n",
       "      <th>AGE</th>\n",
       "      <th>CATEGORY</th>\n",
       "      <th>EDUCATION</th>\n",
       "      <th>ASSETS</th>\n",
       "      <th>LIABILITIES</th>\n",
       "      <th>GENERAL VOTES</th>\n",
       "      <th>POSTAL VOTES</th>\n",
       "      <th>TOTAL VOTES</th>\n",
       "      <th>TOTAL ELECTORS</th>\n",
       "      <th>TOTAL VOTING</th>\n",
       "      <th>OVER TOTAL ELECTORS IN CONSTITUENCY</th>\n",
       "      <th>OVER TOTAL VOTES POLLED IN CONSTITUENCY</th>\n",
       "    </tr>\n",
       "  </thead>\n",
       "  <tbody>\n",
       "    <tr>\n",
       "      <th>0</th>\n",
       "      <td>Andhra Pradesh</td>\n",
       "      <td>Araku</td>\n",
       "      <td>gumma thanuja rani</td>\n",
       "      <td>1</td>\n",
       "      <td>YSRCP</td>\n",
       "      <td>Ceiling fan</td>\n",
       "      <td>FEMALE</td>\n",
       "      <td>0.0</td>\n",
       "      <td>31.0</td>\n",
       "      <td>ST</td>\n",
       "      <td>Graduate Professional</td>\n",
       "      <td>Rs 23,54,678~ 23 Lacs+</td>\n",
       "      <td>Rs 0~</td>\n",
       "      <td>471470</td>\n",
       "      <td>5535</td>\n",
       "      <td>477005</td>\n",
       "      <td>1557153</td>\n",
       "      <td>1113975</td>\n",
       "      <td>30.63</td>\n",
       "      <td>42.82</td>\n",
       "    </tr>\n",
       "    <tr>\n",
       "      <th>1</th>\n",
       "      <td>Andhra Pradesh</td>\n",
       "      <td>Araku</td>\n",
       "      <td>kothapalli geetha</td>\n",
       "      <td>0</td>\n",
       "      <td>BJP</td>\n",
       "      <td>Lotus</td>\n",
       "      <td>FEMALE</td>\n",
       "      <td>2.0</td>\n",
       "      <td>53.0</td>\n",
       "      <td>ST</td>\n",
       "      <td>Post Graduate</td>\n",
       "      <td>Unknown</td>\n",
       "      <td>Unknown</td>\n",
       "      <td>417113</td>\n",
       "      <td>9312</td>\n",
       "      <td>426425</td>\n",
       "      <td>1557153</td>\n",
       "      <td>1113975</td>\n",
       "      <td>27.38</td>\n",
       "      <td>38.28</td>\n",
       "    </tr>\n",
       "    <tr>\n",
       "      <th>2</th>\n",
       "      <td>Andhra Pradesh</td>\n",
       "      <td>Araku</td>\n",
       "      <td>appalanarasa pachipenta</td>\n",
       "      <td>0</td>\n",
       "      <td>CPI(M)</td>\n",
       "      <td>Hammer, Sickle and Star</td>\n",
       "      <td>MALE</td>\n",
       "      <td>4.0</td>\n",
       "      <td>41.0</td>\n",
       "      <td>ST</td>\n",
       "      <td>Post Graduate</td>\n",
       "      <td>Rs 29,25,792~ 29 Lacs+</td>\n",
       "      <td>Rs 2,43,125~ 2 Lacs+</td>\n",
       "      <td>119016</td>\n",
       "      <td>4113</td>\n",
       "      <td>123129</td>\n",
       "      <td>1557153</td>\n",
       "      <td>1113975</td>\n",
       "      <td>7.91</td>\n",
       "      <td>11.05</td>\n",
       "    </tr>\n",
       "    <tr>\n",
       "      <th>3</th>\n",
       "      <td>Andhra Pradesh</td>\n",
       "      <td>Araku</td>\n",
       "      <td>avashya lahari . varam</td>\n",
       "      <td>0</td>\n",
       "      <td>BSP</td>\n",
       "      <td>Elephant</td>\n",
       "      <td>FEMALE</td>\n",
       "      <td>0.0</td>\n",
       "      <td>30.0</td>\n",
       "      <td>ST</td>\n",
       "      <td>Graduate Professional</td>\n",
       "      <td>Rs 53,90,634~ 53 Lacs+</td>\n",
       "      <td>Rs 16,27,956~ 16 Lacs+</td>\n",
       "      <td>24858</td>\n",
       "      <td>892</td>\n",
       "      <td>25750</td>\n",
       "      <td>1557153</td>\n",
       "      <td>1113975</td>\n",
       "      <td>1.65</td>\n",
       "      <td>2.31</td>\n",
       "    </tr>\n",
       "    <tr>\n",
       "      <th>4</th>\n",
       "      <td>Andhra Pradesh</td>\n",
       "      <td>Araku</td>\n",
       "      <td>samareddy balakrishna</td>\n",
       "      <td>0</td>\n",
       "      <td>IND</td>\n",
       "      <td>Gas cylinder</td>\n",
       "      <td>MALE</td>\n",
       "      <td>0.0</td>\n",
       "      <td>48.0</td>\n",
       "      <td>ST</td>\n",
       "      <td>Post Graduate</td>\n",
       "      <td>Unknown</td>\n",
       "      <td>Unknown</td>\n",
       "      <td>9493</td>\n",
       "      <td>42</td>\n",
       "      <td>9535</td>\n",
       "      <td>1557153</td>\n",
       "      <td>1113975</td>\n",
       "      <td>0.61</td>\n",
       "      <td>0.86</td>\n",
       "    </tr>\n",
       "  </tbody>\n",
       "</table>\n",
       "</div>"
      ],
      "text/plain": [
       "            STATE CONSTITUENCY                     NAME  WINNER   PARTY  \\\n",
       "0  Andhra Pradesh        Araku       gumma thanuja rani       1   YSRCP   \n",
       "1  Andhra Pradesh        Araku        kothapalli geetha       0     BJP   \n",
       "2  Andhra Pradesh        Araku  appalanarasa pachipenta       0  CPI(M)   \n",
       "3  Andhra Pradesh        Araku   avashya lahari . varam       0     BSP   \n",
       "4  Andhra Pradesh        Araku    samareddy balakrishna       0     IND   \n",
       "\n",
       "                    SYMBOL  GENDER  CRIMINAL CASES   AGE CATEGORY  \\\n",
       "0              Ceiling fan  FEMALE             0.0  31.0       ST   \n",
       "1                    Lotus  FEMALE             2.0  53.0       ST   \n",
       "2  Hammer, Sickle and Star    MALE             4.0  41.0       ST   \n",
       "3                 Elephant  FEMALE             0.0  30.0       ST   \n",
       "4             Gas cylinder    MALE             0.0  48.0       ST   \n",
       "\n",
       "               EDUCATION                  ASSETS             LIABILITIES  \\\n",
       "0  Graduate Professional  Rs 23,54,678~ 23 Lacs+                   Rs 0~   \n",
       "1          Post Graduate                 Unknown                 Unknown   \n",
       "2          Post Graduate  Rs 29,25,792~ 29 Lacs+    Rs 2,43,125~ 2 Lacs+   \n",
       "3  Graduate Professional  Rs 53,90,634~ 53 Lacs+  Rs 16,27,956~ 16 Lacs+   \n",
       "4          Post Graduate                 Unknown                 Unknown   \n",
       "\n",
       "   GENERAL VOTES  POSTAL VOTES  TOTAL VOTES  TOTAL ELECTORS  TOTAL VOTING  \\\n",
       "0         471470          5535       477005         1557153       1113975   \n",
       "1         417113          9312       426425         1557153       1113975   \n",
       "2         119016          4113       123129         1557153       1113975   \n",
       "3          24858           892        25750         1557153       1113975   \n",
       "4           9493            42         9535         1557153       1113975   \n",
       "\n",
       "   OVER TOTAL ELECTORS IN CONSTITUENCY  \\\n",
       "0                                30.63   \n",
       "1                                27.38   \n",
       "2                                 7.91   \n",
       "3                                 1.65   \n",
       "4                                 0.61   \n",
       "\n",
       "   OVER TOTAL VOTES POLLED IN CONSTITUENCY  \n",
       "0                                    42.82  \n",
       "1                                    38.28  \n",
       "2                                    11.05  \n",
       "3                                     2.31  \n",
       "4                                     0.86  "
      ]
     },
     "execution_count": 86,
     "metadata": {},
     "output_type": "execute_result"
    }
   ],
   "source": [
    "# Loading the dataset\n",
    "df = pd.read_csv(\"data/main_data.csv\")\n",
    "df.head()\n"
   ]
  },
  {
   "cell_type": "code",
   "execution_count": 87,
   "metadata": {},
   "outputs": [],
   "source": [
    "df.replace({'Not Available': np.nan}, inplace=True)"
   ]
  },
  {
   "cell_type": "code",
   "execution_count": 88,
   "metadata": {},
   "outputs": [
    {
     "name": "stdout",
     "output_type": "stream",
     "text": [
      "<class 'pandas.core.frame.DataFrame'>\n",
      "RangeIndex: 8359 entries, 0 to 8358\n",
      "Data columns (total 20 columns):\n",
      " #   Column                                   Non-Null Count  Dtype  \n",
      "---  ------                                   --------------  -----  \n",
      " 0   STATE                                    8359 non-null   object \n",
      " 1   CONSTITUENCY                             8359 non-null   object \n",
      " 2   NAME                                     8359 non-null   object \n",
      " 3   WINNER                                   8359 non-null   int64  \n",
      " 4   PARTY                                    8359 non-null   object \n",
      " 5   SYMBOL                                   8359 non-null   object \n",
      " 6   GENDER                                   8359 non-null   object \n",
      " 7   CRIMINAL CASES                           8359 non-null   float64\n",
      " 8   AGE                                      8359 non-null   float64\n",
      " 9   CATEGORY                                 8359 non-null   object \n",
      " 10  EDUCATION                                8359 non-null   object \n",
      " 11  ASSETS                                   8359 non-null   object \n",
      " 12  LIABILITIES                              8359 non-null   object \n",
      " 13  GENERAL VOTES                            8359 non-null   int64  \n",
      " 14  POSTAL VOTES                             8359 non-null   int64  \n",
      " 15  TOTAL VOTES                              8359 non-null   int64  \n",
      " 16  TOTAL ELECTORS                           8359 non-null   int64  \n",
      " 17  TOTAL VOTING                             8359 non-null   int64  \n",
      " 18  OVER TOTAL ELECTORS IN CONSTITUENCY      8359 non-null   float64\n",
      " 19  OVER TOTAL VOTES POLLED IN CONSTITUENCY  8359 non-null   float64\n",
      "dtypes: float64(4), int64(6), object(10)\n",
      "memory usage: 1.3+ MB\n"
     ]
    }
   ],
   "source": [
    "df.info()"
   ]
  },
  {
   "cell_type": "code",
   "execution_count": 89,
   "metadata": {},
   "outputs": [],
   "source": [
    "df.columns = df.columns.str.replace('\\r','')\n",
    "df.columns = df.columns.str.replace('\\n','')"
   ]
  },
  {
   "cell_type": "code",
   "execution_count": 90,
   "metadata": {},
   "outputs": [
    {
     "data": {
      "text/html": [
       "<div>\n",
       "<style scoped>\n",
       "    .dataframe tbody tr th:only-of-type {\n",
       "        vertical-align: middle;\n",
       "    }\n",
       "\n",
       "    .dataframe tbody tr th {\n",
       "        vertical-align: top;\n",
       "    }\n",
       "\n",
       "    .dataframe thead th {\n",
       "        text-align: right;\n",
       "    }\n",
       "</style>\n",
       "<table border=\"1\" class=\"dataframe\">\n",
       "  <thead>\n",
       "    <tr style=\"text-align: right;\">\n",
       "      <th></th>\n",
       "      <th>WINNER</th>\n",
       "      <th>CRIMINAL CASES</th>\n",
       "      <th>AGE</th>\n",
       "      <th>GENERAL VOTES</th>\n",
       "      <th>POSTAL VOTES</th>\n",
       "      <th>TOTAL VOTES</th>\n",
       "      <th>TOTAL ELECTORS</th>\n",
       "      <th>TOTAL VOTING</th>\n",
       "      <th>OVER TOTAL ELECTORS IN CONSTITUENCY</th>\n",
       "      <th>OVER TOTAL VOTES POLLED IN CONSTITUENCY</th>\n",
       "    </tr>\n",
       "  </thead>\n",
       "  <tbody>\n",
       "    <tr>\n",
       "      <th>count</th>\n",
       "      <td>8359.000000</td>\n",
       "      <td>8359.000000</td>\n",
       "      <td>8359.000000</td>\n",
       "      <td>8.359000e+03</td>\n",
       "      <td>8359.00000</td>\n",
       "      <td>8.359000e+03</td>\n",
       "      <td>8.359000e+03</td>\n",
       "      <td>8.359000e+03</td>\n",
       "      <td>8359.000000</td>\n",
       "      <td>8359.000000</td>\n",
       "    </tr>\n",
       "    <tr>\n",
       "      <th>mean</th>\n",
       "      <td>0.068549</td>\n",
       "      <td>0.632133</td>\n",
       "      <td>47.765163</td>\n",
       "      <td>7.600097e+04</td>\n",
       "      <td>442.46764</td>\n",
       "      <td>7.644344e+04</td>\n",
       "      <td>1.841400e+06</td>\n",
       "      <td>1.201633e+06</td>\n",
       "      <td>4.285400</td>\n",
       "      <td>6.484028</td>\n",
       "    </tr>\n",
       "    <tr>\n",
       "      <th>std</th>\n",
       "      <td>0.252701</td>\n",
       "      <td>4.323564</td>\n",
       "      <td>11.971231</td>\n",
       "      <td>1.838803e+05</td>\n",
       "      <td>1379.91211</td>\n",
       "      <td>1.849374e+05</td>\n",
       "      <td>3.458819e+05</td>\n",
       "      <td>2.203456e+05</td>\n",
       "      <td>10.158091</td>\n",
       "      <td>15.193354</td>\n",
       "    </tr>\n",
       "    <tr>\n",
       "      <th>min</th>\n",
       "      <td>0.000000</td>\n",
       "      <td>0.000000</td>\n",
       "      <td>25.000000</td>\n",
       "      <td>5.800000e+01</td>\n",
       "      <td>0.00000</td>\n",
       "      <td>6.100000e+01</td>\n",
       "      <td>5.795300e+04</td>\n",
       "      <td>4.906700e+04</td>\n",
       "      <td>0.000000</td>\n",
       "      <td>0.010000</td>\n",
       "    </tr>\n",
       "    <tr>\n",
       "      <th>25%</th>\n",
       "      <td>0.000000</td>\n",
       "      <td>0.000000</td>\n",
       "      <td>38.000000</td>\n",
       "      <td>1.034500e+03</td>\n",
       "      <td>3.00000</td>\n",
       "      <td>1.043000e+03</td>\n",
       "      <td>1.641887e+06</td>\n",
       "      <td>1.073913e+06</td>\n",
       "      <td>0.060000</td>\n",
       "      <td>0.090000</td>\n",
       "    </tr>\n",
       "    <tr>\n",
       "      <th>50%</th>\n",
       "      <td>0.000000</td>\n",
       "      <td>0.000000</td>\n",
       "      <td>47.000000</td>\n",
       "      <td>2.459000e+03</td>\n",
       "      <td>8.00000</td>\n",
       "      <td>2.468000e+03</td>\n",
       "      <td>1.823717e+06</td>\n",
       "      <td>1.200032e+06</td>\n",
       "      <td>0.140000</td>\n",
       "      <td>0.210000</td>\n",
       "    </tr>\n",
       "    <tr>\n",
       "      <th>75%</th>\n",
       "      <td>0.000000</td>\n",
       "      <td>0.000000</td>\n",
       "      <td>56.000000</td>\n",
       "      <td>8.541500e+03</td>\n",
       "      <td>41.00000</td>\n",
       "      <td>8.586000e+03</td>\n",
       "      <td>2.015928e+06</td>\n",
       "      <td>1.353736e+06</td>\n",
       "      <td>0.480000</td>\n",
       "      <td>0.720000</td>\n",
       "    </tr>\n",
       "    <tr>\n",
       "      <th>max</th>\n",
       "      <td>1.000000</td>\n",
       "      <td>243.000000</td>\n",
       "      <td>88.000000</td>\n",
       "      <td>1.468549e+06</td>\n",
       "      <td>19827.00000</td>\n",
       "      <td>1.471885e+06</td>\n",
       "      <td>3.780453e+06</td>\n",
       "      <td>2.438593e+06</td>\n",
       "      <td>59.980000</td>\n",
       "      <td>91.320000</td>\n",
       "    </tr>\n",
       "  </tbody>\n",
       "</table>\n",
       "</div>"
      ],
      "text/plain": [
       "            WINNER  CRIMINAL CASES          AGE  GENERAL VOTES  POSTAL VOTES  \\\n",
       "count  8359.000000     8359.000000  8359.000000   8.359000e+03    8359.00000   \n",
       "mean      0.068549        0.632133    47.765163   7.600097e+04     442.46764   \n",
       "std       0.252701        4.323564    11.971231   1.838803e+05    1379.91211   \n",
       "min       0.000000        0.000000    25.000000   5.800000e+01       0.00000   \n",
       "25%       0.000000        0.000000    38.000000   1.034500e+03       3.00000   \n",
       "50%       0.000000        0.000000    47.000000   2.459000e+03       8.00000   \n",
       "75%       0.000000        0.000000    56.000000   8.541500e+03      41.00000   \n",
       "max       1.000000      243.000000    88.000000   1.468549e+06   19827.00000   \n",
       "\n",
       "        TOTAL VOTES  TOTAL ELECTORS  TOTAL VOTING  \\\n",
       "count  8.359000e+03    8.359000e+03  8.359000e+03   \n",
       "mean   7.644344e+04    1.841400e+06  1.201633e+06   \n",
       "std    1.849374e+05    3.458819e+05  2.203456e+05   \n",
       "min    6.100000e+01    5.795300e+04  4.906700e+04   \n",
       "25%    1.043000e+03    1.641887e+06  1.073913e+06   \n",
       "50%    2.468000e+03    1.823717e+06  1.200032e+06   \n",
       "75%    8.586000e+03    2.015928e+06  1.353736e+06   \n",
       "max    1.471885e+06    3.780453e+06  2.438593e+06   \n",
       "\n",
       "       OVER TOTAL ELECTORS IN CONSTITUENCY  \\\n",
       "count                          8359.000000   \n",
       "mean                              4.285400   \n",
       "std                              10.158091   \n",
       "min                               0.000000   \n",
       "25%                               0.060000   \n",
       "50%                               0.140000   \n",
       "75%                               0.480000   \n",
       "max                              59.980000   \n",
       "\n",
       "       OVER TOTAL VOTES POLLED IN CONSTITUENCY  \n",
       "count                              8359.000000  \n",
       "mean                                  6.484028  \n",
       "std                                  15.193354  \n",
       "min                                   0.010000  \n",
       "25%                                   0.090000  \n",
       "50%                                   0.210000  \n",
       "75%                                   0.720000  \n",
       "max                                  91.320000  "
      ]
     },
     "execution_count": 90,
     "metadata": {},
     "output_type": "execute_result"
    }
   ],
   "source": [
    "df.describe()"
   ]
  },
  {
   "cell_type": "code",
   "execution_count": 91,
   "metadata": {},
   "outputs": [
    {
     "data": {
      "text/plain": [
       "STATE                                      0\n",
       "CONSTITUENCY                               0\n",
       "NAME                                       0\n",
       "WINNER                                     0\n",
       "PARTY                                      0\n",
       "SYMBOL                                     0\n",
       "GENDER                                     0\n",
       "CRIMINAL CASES                             0\n",
       "AGE                                        0\n",
       "CATEGORY                                   0\n",
       "EDUCATION                                  0\n",
       "ASSETS                                     0\n",
       "LIABILITIES                                0\n",
       "GENERAL VOTES                              0\n",
       "POSTAL VOTES                               0\n",
       "TOTAL VOTES                                0\n",
       "TOTAL ELECTORS                             0\n",
       "TOTAL VOTING                               0\n",
       "OVER TOTAL ELECTORS IN CONSTITUENCY        0\n",
       "OVER TOTAL VOTES POLLED IN CONSTITUENCY    0\n",
       "dtype: int64"
      ]
     },
     "execution_count": 91,
     "metadata": {},
     "output_type": "execute_result"
    }
   ],
   "source": [
    "# Checking to see if the dataset contains any null values. We need to exclude NOTA votes while checking it.\n",
    "df = df[df['PARTY']!= 'NOTA']\n",
    "df = df.dropna()\n",
    "df.isna().sum()"
   ]
  },
  {
   "cell_type": "code",
   "execution_count": 92,
   "metadata": {},
   "outputs": [
    {
     "data": {
      "text/html": [
       "<div>\n",
       "<style scoped>\n",
       "    .dataframe tbody tr th:only-of-type {\n",
       "        vertical-align: middle;\n",
       "    }\n",
       "\n",
       "    .dataframe tbody tr th {\n",
       "        vertical-align: top;\n",
       "    }\n",
       "\n",
       "    .dataframe thead th {\n",
       "        text-align: right;\n",
       "    }\n",
       "</style>\n",
       "<table border=\"1\" class=\"dataframe\">\n",
       "  <thead>\n",
       "    <tr style=\"text-align: right;\">\n",
       "      <th></th>\n",
       "      <th>STATE</th>\n",
       "      <th>CONSTITUENCY</th>\n",
       "      <th>NAME</th>\n",
       "      <th>WINNER</th>\n",
       "      <th>PARTY</th>\n",
       "      <th>SYMBOL</th>\n",
       "      <th>GENDER</th>\n",
       "      <th>CRIMINAL CASES</th>\n",
       "      <th>AGE</th>\n",
       "      <th>CATEGORY</th>\n",
       "      <th>EDUCATION</th>\n",
       "      <th>ASSETS</th>\n",
       "      <th>LIABILITIES</th>\n",
       "      <th>GENERAL VOTES</th>\n",
       "      <th>POSTAL VOTES</th>\n",
       "      <th>TOTAL VOTES</th>\n",
       "      <th>TOTAL ELECTORS</th>\n",
       "      <th>TOTAL VOTING</th>\n",
       "      <th>OVER TOTAL ELECTORS IN CONSTITUENCY</th>\n",
       "      <th>OVER TOTAL VOTES POLLED IN CONSTITUENCY</th>\n",
       "    </tr>\n",
       "  </thead>\n",
       "  <tbody>\n",
       "    <tr>\n",
       "      <th>0</th>\n",
       "      <td>Andhra Pradesh</td>\n",
       "      <td>Araku</td>\n",
       "      <td>gumma thanuja rani</td>\n",
       "      <td>1</td>\n",
       "      <td>YSRCP</td>\n",
       "      <td>Ceiling fan</td>\n",
       "      <td>FEMALE</td>\n",
       "      <td>0.0</td>\n",
       "      <td>31.0</td>\n",
       "      <td>ST</td>\n",
       "      <td>Graduate Professional</td>\n",
       "      <td>Rs 23,54,678~ 23 Lacs+</td>\n",
       "      <td>Rs 0~</td>\n",
       "      <td>471470</td>\n",
       "      <td>5535</td>\n",
       "      <td>477005</td>\n",
       "      <td>1557153</td>\n",
       "      <td>1113975</td>\n",
       "      <td>30.63</td>\n",
       "      <td>42.82</td>\n",
       "    </tr>\n",
       "    <tr>\n",
       "      <th>1</th>\n",
       "      <td>Andhra Pradesh</td>\n",
       "      <td>Araku</td>\n",
       "      <td>kothapalli geetha</td>\n",
       "      <td>0</td>\n",
       "      <td>BJP</td>\n",
       "      <td>Lotus</td>\n",
       "      <td>FEMALE</td>\n",
       "      <td>2.0</td>\n",
       "      <td>53.0</td>\n",
       "      <td>ST</td>\n",
       "      <td>Post Graduate</td>\n",
       "      <td>Unknown</td>\n",
       "      <td>Unknown</td>\n",
       "      <td>417113</td>\n",
       "      <td>9312</td>\n",
       "      <td>426425</td>\n",
       "      <td>1557153</td>\n",
       "      <td>1113975</td>\n",
       "      <td>27.38</td>\n",
       "      <td>38.28</td>\n",
       "    </tr>\n",
       "    <tr>\n",
       "      <th>2</th>\n",
       "      <td>Andhra Pradesh</td>\n",
       "      <td>Araku</td>\n",
       "      <td>appalanarasa pachipenta</td>\n",
       "      <td>0</td>\n",
       "      <td>CPI(M)</td>\n",
       "      <td>Hammer, Sickle and Star</td>\n",
       "      <td>MALE</td>\n",
       "      <td>4.0</td>\n",
       "      <td>41.0</td>\n",
       "      <td>ST</td>\n",
       "      <td>Post Graduate</td>\n",
       "      <td>Rs 29,25,792~ 29 Lacs+</td>\n",
       "      <td>Rs 2,43,125~ 2 Lacs+</td>\n",
       "      <td>119016</td>\n",
       "      <td>4113</td>\n",
       "      <td>123129</td>\n",
       "      <td>1557153</td>\n",
       "      <td>1113975</td>\n",
       "      <td>7.91</td>\n",
       "      <td>11.05</td>\n",
       "    </tr>\n",
       "    <tr>\n",
       "      <th>3</th>\n",
       "      <td>Andhra Pradesh</td>\n",
       "      <td>Araku</td>\n",
       "      <td>avashya lahari . varam</td>\n",
       "      <td>0</td>\n",
       "      <td>BSP</td>\n",
       "      <td>Elephant</td>\n",
       "      <td>FEMALE</td>\n",
       "      <td>0.0</td>\n",
       "      <td>30.0</td>\n",
       "      <td>ST</td>\n",
       "      <td>Graduate Professional</td>\n",
       "      <td>Rs 53,90,634~ 53 Lacs+</td>\n",
       "      <td>Rs 16,27,956~ 16 Lacs+</td>\n",
       "      <td>24858</td>\n",
       "      <td>892</td>\n",
       "      <td>25750</td>\n",
       "      <td>1557153</td>\n",
       "      <td>1113975</td>\n",
       "      <td>1.65</td>\n",
       "      <td>2.31</td>\n",
       "    </tr>\n",
       "    <tr>\n",
       "      <th>4</th>\n",
       "      <td>Andhra Pradesh</td>\n",
       "      <td>Araku</td>\n",
       "      <td>samareddy balakrishna</td>\n",
       "      <td>0</td>\n",
       "      <td>IND</td>\n",
       "      <td>Gas cylinder</td>\n",
       "      <td>MALE</td>\n",
       "      <td>0.0</td>\n",
       "      <td>48.0</td>\n",
       "      <td>ST</td>\n",
       "      <td>Post Graduate</td>\n",
       "      <td>Unknown</td>\n",
       "      <td>Unknown</td>\n",
       "      <td>9493</td>\n",
       "      <td>42</td>\n",
       "      <td>9535</td>\n",
       "      <td>1557153</td>\n",
       "      <td>1113975</td>\n",
       "      <td>0.61</td>\n",
       "      <td>0.86</td>\n",
       "    </tr>\n",
       "    <tr>\n",
       "      <th>5</th>\n",
       "      <td>Andhra Pradesh</td>\n",
       "      <td>Araku</td>\n",
       "      <td>nimmaka jayaraju</td>\n",
       "      <td>0</td>\n",
       "      <td>IND</td>\n",
       "      <td>Bat</td>\n",
       "      <td>MALE</td>\n",
       "      <td>0.0</td>\n",
       "      <td>64.0</td>\n",
       "      <td>ST</td>\n",
       "      <td>12th Pass</td>\n",
       "      <td>Rs 1,26,17,000~ 1 Crore+</td>\n",
       "      <td>Rs 32,28,000~ 32 Lacs+</td>\n",
       "      <td>8798</td>\n",
       "      <td>664</td>\n",
       "      <td>9462</td>\n",
       "      <td>1557153</td>\n",
       "      <td>1113975</td>\n",
       "      <td>0.61</td>\n",
       "      <td>0.85</td>\n",
       "    </tr>\n",
       "    <tr>\n",
       "      <th>6</th>\n",
       "      <td>Andhra Pradesh</td>\n",
       "      <td>Araku</td>\n",
       "      <td>athidhi</td>\n",
       "      <td>0</td>\n",
       "      <td>IND</td>\n",
       "      <td>Plate containing food</td>\n",
       "      <td>FEMALE</td>\n",
       "      <td>0.0</td>\n",
       "      <td>32.0</td>\n",
       "      <td>ST</td>\n",
       "      <td>Graduate</td>\n",
       "      <td>Rs 20,43,321~ 20 Lacs+</td>\n",
       "      <td>Rs 17,93,245~ 17 Lacs+</td>\n",
       "      <td>8121</td>\n",
       "      <td>15</td>\n",
       "      <td>8136</td>\n",
       "      <td>1557153</td>\n",
       "      <td>1113975</td>\n",
       "      <td>0.52</td>\n",
       "      <td>0.73</td>\n",
       "    </tr>\n",
       "    <tr>\n",
       "      <th>7</th>\n",
       "      <td>Andhra Pradesh</td>\n",
       "      <td>Araku</td>\n",
       "      <td>chanti badnaina</td>\n",
       "      <td>0</td>\n",
       "      <td>JBNP</td>\n",
       "      <td>Battery Torch</td>\n",
       "      <td>MALE</td>\n",
       "      <td>0.0</td>\n",
       "      <td>28.0</td>\n",
       "      <td>ST</td>\n",
       "      <td>12th Pass</td>\n",
       "      <td>Rs 1,80,000~ 1 Lacs+</td>\n",
       "      <td>Rs 0~</td>\n",
       "      <td>7205</td>\n",
       "      <td>47</td>\n",
       "      <td>7252</td>\n",
       "      <td>1557153</td>\n",
       "      <td>1113975</td>\n",
       "      <td>0.47</td>\n",
       "      <td>0.65</td>\n",
       "    </tr>\n",
       "    <tr>\n",
       "      <th>8</th>\n",
       "      <td>Andhra Pradesh</td>\n",
       "      <td>Araku</td>\n",
       "      <td>mottadam . rajababu</td>\n",
       "      <td>0</td>\n",
       "      <td>BHRTADVSIP</td>\n",
       "      <td>Hockey and ball</td>\n",
       "      <td>MALE</td>\n",
       "      <td>0.0</td>\n",
       "      <td>47.0</td>\n",
       "      <td>ST</td>\n",
       "      <td>Graduate Professional</td>\n",
       "      <td>Nil</td>\n",
       "      <td>Rs 0~</td>\n",
       "      <td>6370</td>\n",
       "      <td>396</td>\n",
       "      <td>6766</td>\n",
       "      <td>1557153</td>\n",
       "      <td>1113975</td>\n",
       "      <td>0.43</td>\n",
       "      <td>0.61</td>\n",
       "    </tr>\n",
       "    <tr>\n",
       "      <th>9</th>\n",
       "      <td>Andhra Pradesh</td>\n",
       "      <td>Araku</td>\n",
       "      <td>ranjith kumar palaka</td>\n",
       "      <td>0</td>\n",
       "      <td>IND</td>\n",
       "      <td>Biscuit</td>\n",
       "      <td>MALE</td>\n",
       "      <td>0.0</td>\n",
       "      <td>42.0</td>\n",
       "      <td>ST</td>\n",
       "      <td>Graduate</td>\n",
       "      <td>Rs 35,000~ 35 Thou+</td>\n",
       "      <td>Rs 0~</td>\n",
       "      <td>6000</td>\n",
       "      <td>47</td>\n",
       "      <td>6047</td>\n",
       "      <td>1557153</td>\n",
       "      <td>1113975</td>\n",
       "      <td>0.39</td>\n",
       "      <td>0.54</td>\n",
       "    </tr>\n",
       "  </tbody>\n",
       "</table>\n",
       "</div>"
      ],
      "text/plain": [
       "            STATE CONSTITUENCY                     NAME  WINNER       PARTY  \\\n",
       "0  Andhra Pradesh        Araku       gumma thanuja rani       1       YSRCP   \n",
       "1  Andhra Pradesh        Araku        kothapalli geetha       0         BJP   \n",
       "2  Andhra Pradesh        Araku  appalanarasa pachipenta       0      CPI(M)   \n",
       "3  Andhra Pradesh        Araku   avashya lahari . varam       0         BSP   \n",
       "4  Andhra Pradesh        Araku    samareddy balakrishna       0         IND   \n",
       "5  Andhra Pradesh        Araku         nimmaka jayaraju       0         IND   \n",
       "6  Andhra Pradesh        Araku                  athidhi       0         IND   \n",
       "7  Andhra Pradesh        Araku          chanti badnaina       0        JBNP   \n",
       "8  Andhra Pradesh        Araku      mottadam . rajababu       0  BHRTADVSIP   \n",
       "9  Andhra Pradesh        Araku     ranjith kumar palaka       0         IND   \n",
       "\n",
       "                    SYMBOL  GENDER  CRIMINAL CASES   AGE CATEGORY  \\\n",
       "0              Ceiling fan  FEMALE             0.0  31.0       ST   \n",
       "1                    Lotus  FEMALE             2.0  53.0       ST   \n",
       "2  Hammer, Sickle and Star    MALE             4.0  41.0       ST   \n",
       "3                 Elephant  FEMALE             0.0  30.0       ST   \n",
       "4             Gas cylinder    MALE             0.0  48.0       ST   \n",
       "5                      Bat    MALE             0.0  64.0       ST   \n",
       "6    Plate containing food  FEMALE             0.0  32.0       ST   \n",
       "7            Battery Torch    MALE             0.0  28.0       ST   \n",
       "8          Hockey and ball    MALE             0.0  47.0       ST   \n",
       "9                  Biscuit    MALE             0.0  42.0       ST   \n",
       "\n",
       "               EDUCATION                    ASSETS             LIABILITIES  \\\n",
       "0  Graduate Professional    Rs 23,54,678~ 23 Lacs+                   Rs 0~   \n",
       "1          Post Graduate                   Unknown                 Unknown   \n",
       "2          Post Graduate    Rs 29,25,792~ 29 Lacs+    Rs 2,43,125~ 2 Lacs+   \n",
       "3  Graduate Professional    Rs 53,90,634~ 53 Lacs+  Rs 16,27,956~ 16 Lacs+   \n",
       "4          Post Graduate                   Unknown                 Unknown   \n",
       "5              12th Pass  Rs 1,26,17,000~ 1 Crore+  Rs 32,28,000~ 32 Lacs+   \n",
       "6               Graduate    Rs 20,43,321~ 20 Lacs+  Rs 17,93,245~ 17 Lacs+   \n",
       "7              12th Pass      Rs 1,80,000~ 1 Lacs+                   Rs 0~   \n",
       "8  Graduate Professional                       Nil                   Rs 0~   \n",
       "9               Graduate       Rs 35,000~ 35 Thou+                   Rs 0~   \n",
       "\n",
       "   GENERAL VOTES  POSTAL VOTES  TOTAL VOTES  TOTAL ELECTORS  TOTAL VOTING  \\\n",
       "0         471470          5535       477005         1557153       1113975   \n",
       "1         417113          9312       426425         1557153       1113975   \n",
       "2         119016          4113       123129         1557153       1113975   \n",
       "3          24858           892        25750         1557153       1113975   \n",
       "4           9493            42         9535         1557153       1113975   \n",
       "5           8798           664         9462         1557153       1113975   \n",
       "6           8121            15         8136         1557153       1113975   \n",
       "7           7205            47         7252         1557153       1113975   \n",
       "8           6370           396         6766         1557153       1113975   \n",
       "9           6000            47         6047         1557153       1113975   \n",
       "\n",
       "   OVER TOTAL ELECTORS IN CONSTITUENCY  \\\n",
       "0                                30.63   \n",
       "1                                27.38   \n",
       "2                                 7.91   \n",
       "3                                 1.65   \n",
       "4                                 0.61   \n",
       "5                                 0.61   \n",
       "6                                 0.52   \n",
       "7                                 0.47   \n",
       "8                                 0.43   \n",
       "9                                 0.39   \n",
       "\n",
       "   OVER TOTAL VOTES POLLED IN CONSTITUENCY  \n",
       "0                                    42.82  \n",
       "1                                    38.28  \n",
       "2                                    11.05  \n",
       "3                                     2.31  \n",
       "4                                     0.86  \n",
       "5                                     0.85  \n",
       "6                                     0.73  \n",
       "7                                     0.65  \n",
       "8                                     0.61  \n",
       "9                                     0.54  "
      ]
     },
     "execution_count": 92,
     "metadata": {},
     "output_type": "execute_result"
    }
   ],
   "source": [
    "df.head(10)"
   ]
  },
  {
   "cell_type": "code",
   "execution_count": 93,
   "metadata": {},
   "outputs": [
    {
     "data": {
      "text/plain": [
       "STATE                                       object\n",
       "CONSTITUENCY                                object\n",
       "NAME                                        object\n",
       "WINNER                                       int64\n",
       "PARTY                                       object\n",
       "SYMBOL                                      object\n",
       "GENDER                                      object\n",
       "CRIMINAL CASES                             float64\n",
       "AGE                                        float64\n",
       "CATEGORY                                    object\n",
       "EDUCATION                                   object\n",
       "ASSETS                                      object\n",
       "LIABILITIES                                 object\n",
       "GENERAL VOTES                                int64\n",
       "POSTAL VOTES                                 int64\n",
       "TOTAL VOTES                                  int64\n",
       "TOTAL ELECTORS                               int64\n",
       "TOTAL VOTING                                 int64\n",
       "OVER TOTAL ELECTORS IN CONSTITUENCY        float64\n",
       "OVER TOTAL VOTES POLLED IN CONSTITUENCY    float64\n",
       "dtype: object"
      ]
     },
     "execution_count": 93,
     "metadata": {},
     "output_type": "execute_result"
    }
   ],
   "source": [
    "df.dtypes"
   ]
  },
  {
   "cell_type": "code",
   "execution_count": 94,
   "metadata": {},
   "outputs": [],
   "source": [
    "def value_cleaner(x):\n",
    "    try:\n",
    "        str_temp = (x.split('Rs')[1].split('\\n')[0].strip())\n",
    "        str_temp_2 = ''\n",
    "        for i in str_temp.split(\",\"):\n",
    "            str_temp_2 = str_temp_2+i\n",
    "        return str_temp_2\n",
    "    except:\n",
    "        x = 0\n",
    "        return x\n",
    "\n",
    "# df['ASSETS'] = df['ASSETS'].apply((value_cleaner))\n",
    "# df['LIABILITIES'] = df['LIABILITIES'].apply((value_cleaner))\n",
    "\n",
    "\n",
    "def clean_numeric(value):\n",
    "    if isinstance(value, str):  \n",
    "        # Remove unwanted characters (~, +, Rs, etc.)\n",
    "        value = value.replace(\",\", \"\").replace(\"~\", \"\").replace(\"+\", \"\").replace(\"Rs\", \"\").strip()\n",
    "        \n",
    "        # If there are multiple numbers (e.g., \"2354678 23 Lacs\"), take the first numeric part\n",
    "        value = value.split()[0] \n",
    "        \n",
    "    try:\n",
    "        return float(value)\n",
    "    except ValueError:\n",
    "        return 0  # If conversion fails, return 0\n",
    "\n",
    "# Apply the cleaning function to financial columns\n",
    "df[\"ASSETS\"] = df[\"ASSETS\"].apply(clean_numeric)\n",
    "df[\"LIABILITIES\"] = df[\"LIABILITIES\"].apply(clean_numeric)"
   ]
  },
  {
   "cell_type": "code",
   "execution_count": 95,
   "metadata": {},
   "outputs": [
    {
     "data": {
      "text/plain": [
       "EDUCATION\n",
       "Post Graduate            1445\n",
       "Graduate                 1405\n",
       "12th Pass                1242\n",
       "10th Pass                1087\n",
       "Graduate Professional     891\n",
       "8th Pass                  615\n",
       "Unknown                   601\n",
       "5th Pass                  318\n",
       "Others                    262\n",
       "Literate                  201\n",
       "Doctorate                 176\n",
       "Illiterate                104\n",
       "Not Given                  12\n",
       "Name: count, dtype: int64"
      ]
     },
     "execution_count": 95,
     "metadata": {},
     "output_type": "execute_result"
    }
   ],
   "source": [
    "df['EDUCATION'].value_counts()"
   ]
  },
  {
   "cell_type": "code",
   "execution_count": 96,
   "metadata": {},
   "outputs": [
    {
     "data": {
      "text/plain": [
       "0            Graduate\n",
       "1       Post Graduate\n",
       "2       Post Graduate\n",
       "3            Graduate\n",
       "4       Post Graduate\n",
       "            ...      \n",
       "8354         8th Pass\n",
       "8355           Others\n",
       "8356        10th Pass\n",
       "8357    Post Graduate\n",
       "8358         Graduate\n",
       "Name: EDUCATION, Length: 8359, dtype: object"
      ]
     },
     "execution_count": 96,
     "metadata": {},
     "output_type": "execute_result"
    }
   ],
   "source": [
    "# Removing the \\n from 'Post Graduate\\n'\n",
    "df['EDUCATION'].replace({\n",
    "    'Post Graduate\\r\\n': 'Post Graduate',\n",
    "    'Graduate Professional': 'Graduate',\n",
    "    'Literate': '8th Pass',\n",
    "    '5th Pass': 'Illiterate'\n",
    "})"
   ]
  },
  {
   "cell_type": "code",
   "execution_count": 97,
   "metadata": {},
   "outputs": [
    {
     "data": {
      "text/html": [
       "<div>\n",
       "<style scoped>\n",
       "    .dataframe tbody tr th:only-of-type {\n",
       "        vertical-align: middle;\n",
       "    }\n",
       "\n",
       "    .dataframe tbody tr th {\n",
       "        vertical-align: top;\n",
       "    }\n",
       "\n",
       "    .dataframe thead th {\n",
       "        text-align: right;\n",
       "    }\n",
       "</style>\n",
       "<table border=\"1\" class=\"dataframe\">\n",
       "  <thead>\n",
       "    <tr style=\"text-align: right;\">\n",
       "      <th></th>\n",
       "      <th>STATE</th>\n",
       "      <th>CONSTITUENCY</th>\n",
       "      <th>NAME</th>\n",
       "      <th>WINNER</th>\n",
       "      <th>PARTY</th>\n",
       "      <th>SYMBOL</th>\n",
       "      <th>GENDER</th>\n",
       "      <th>CRIMINAL CASES</th>\n",
       "      <th>AGE</th>\n",
       "      <th>CATEGORY</th>\n",
       "      <th>EDUCATION</th>\n",
       "      <th>ASSETS</th>\n",
       "      <th>LIABILITIES</th>\n",
       "      <th>GENERAL VOTES</th>\n",
       "      <th>POSTAL VOTES</th>\n",
       "      <th>TOTAL VOTES</th>\n",
       "      <th>TOTAL ELECTORS</th>\n",
       "      <th>TOTAL VOTING</th>\n",
       "      <th>OVER TOTAL ELECTORS IN CONSTITUENCY</th>\n",
       "      <th>OVER TOTAL VOTES POLLED IN CONSTITUENCY</th>\n",
       "    </tr>\n",
       "  </thead>\n",
       "  <tbody>\n",
       "    <tr>\n",
       "      <th>0</th>\n",
       "      <td>Andhra Pradesh</td>\n",
       "      <td>Araku</td>\n",
       "      <td>gumma thanuja rani</td>\n",
       "      <td>1</td>\n",
       "      <td>YSRCP</td>\n",
       "      <td>Ceiling fan</td>\n",
       "      <td>FEMALE</td>\n",
       "      <td>0.0</td>\n",
       "      <td>31.0</td>\n",
       "      <td>ST</td>\n",
       "      <td>Graduate Professional</td>\n",
       "      <td>2354678.0</td>\n",
       "      <td>0.0</td>\n",
       "      <td>471470</td>\n",
       "      <td>5535</td>\n",
       "      <td>477005</td>\n",
       "      <td>1557153</td>\n",
       "      <td>1113975</td>\n",
       "      <td>30.63</td>\n",
       "      <td>42.82</td>\n",
       "    </tr>\n",
       "    <tr>\n",
       "      <th>1</th>\n",
       "      <td>Andhra Pradesh</td>\n",
       "      <td>Araku</td>\n",
       "      <td>kothapalli geetha</td>\n",
       "      <td>0</td>\n",
       "      <td>BJP</td>\n",
       "      <td>Lotus</td>\n",
       "      <td>FEMALE</td>\n",
       "      <td>2.0</td>\n",
       "      <td>53.0</td>\n",
       "      <td>ST</td>\n",
       "      <td>Post Graduate</td>\n",
       "      <td>0.0</td>\n",
       "      <td>0.0</td>\n",
       "      <td>417113</td>\n",
       "      <td>9312</td>\n",
       "      <td>426425</td>\n",
       "      <td>1557153</td>\n",
       "      <td>1113975</td>\n",
       "      <td>27.38</td>\n",
       "      <td>38.28</td>\n",
       "    </tr>\n",
       "    <tr>\n",
       "      <th>2</th>\n",
       "      <td>Andhra Pradesh</td>\n",
       "      <td>Araku</td>\n",
       "      <td>appalanarasa pachipenta</td>\n",
       "      <td>0</td>\n",
       "      <td>CPI(M)</td>\n",
       "      <td>Hammer, Sickle and Star</td>\n",
       "      <td>MALE</td>\n",
       "      <td>4.0</td>\n",
       "      <td>41.0</td>\n",
       "      <td>ST</td>\n",
       "      <td>Post Graduate</td>\n",
       "      <td>2925792.0</td>\n",
       "      <td>243125.0</td>\n",
       "      <td>119016</td>\n",
       "      <td>4113</td>\n",
       "      <td>123129</td>\n",
       "      <td>1557153</td>\n",
       "      <td>1113975</td>\n",
       "      <td>7.91</td>\n",
       "      <td>11.05</td>\n",
       "    </tr>\n",
       "    <tr>\n",
       "      <th>3</th>\n",
       "      <td>Andhra Pradesh</td>\n",
       "      <td>Araku</td>\n",
       "      <td>avashya lahari . varam</td>\n",
       "      <td>0</td>\n",
       "      <td>BSP</td>\n",
       "      <td>Elephant</td>\n",
       "      <td>FEMALE</td>\n",
       "      <td>0.0</td>\n",
       "      <td>30.0</td>\n",
       "      <td>ST</td>\n",
       "      <td>Graduate Professional</td>\n",
       "      <td>5390634.0</td>\n",
       "      <td>1627956.0</td>\n",
       "      <td>24858</td>\n",
       "      <td>892</td>\n",
       "      <td>25750</td>\n",
       "      <td>1557153</td>\n",
       "      <td>1113975</td>\n",
       "      <td>1.65</td>\n",
       "      <td>2.31</td>\n",
       "    </tr>\n",
       "    <tr>\n",
       "      <th>4</th>\n",
       "      <td>Andhra Pradesh</td>\n",
       "      <td>Araku</td>\n",
       "      <td>samareddy balakrishna</td>\n",
       "      <td>0</td>\n",
       "      <td>IND</td>\n",
       "      <td>Gas cylinder</td>\n",
       "      <td>MALE</td>\n",
       "      <td>0.0</td>\n",
       "      <td>48.0</td>\n",
       "      <td>ST</td>\n",
       "      <td>Post Graduate</td>\n",
       "      <td>0.0</td>\n",
       "      <td>0.0</td>\n",
       "      <td>9493</td>\n",
       "      <td>42</td>\n",
       "      <td>9535</td>\n",
       "      <td>1557153</td>\n",
       "      <td>1113975</td>\n",
       "      <td>0.61</td>\n",
       "      <td>0.86</td>\n",
       "    </tr>\n",
       "  </tbody>\n",
       "</table>\n",
       "</div>"
      ],
      "text/plain": [
       "            STATE CONSTITUENCY                     NAME  WINNER   PARTY  \\\n",
       "0  Andhra Pradesh        Araku       gumma thanuja rani       1   YSRCP   \n",
       "1  Andhra Pradesh        Araku        kothapalli geetha       0     BJP   \n",
       "2  Andhra Pradesh        Araku  appalanarasa pachipenta       0  CPI(M)   \n",
       "3  Andhra Pradesh        Araku   avashya lahari . varam       0     BSP   \n",
       "4  Andhra Pradesh        Araku    samareddy balakrishna       0     IND   \n",
       "\n",
       "                    SYMBOL  GENDER  CRIMINAL CASES   AGE CATEGORY  \\\n",
       "0              Ceiling fan  FEMALE             0.0  31.0       ST   \n",
       "1                    Lotus  FEMALE             2.0  53.0       ST   \n",
       "2  Hammer, Sickle and Star    MALE             4.0  41.0       ST   \n",
       "3                 Elephant  FEMALE             0.0  30.0       ST   \n",
       "4             Gas cylinder    MALE             0.0  48.0       ST   \n",
       "\n",
       "               EDUCATION     ASSETS  LIABILITIES  GENERAL VOTES  POSTAL VOTES  \\\n",
       "0  Graduate Professional  2354678.0          0.0         471470          5535   \n",
       "1          Post Graduate        0.0          0.0         417113          9312   \n",
       "2          Post Graduate  2925792.0     243125.0         119016          4113   \n",
       "3  Graduate Professional  5390634.0    1627956.0          24858           892   \n",
       "4          Post Graduate        0.0          0.0           9493            42   \n",
       "\n",
       "   TOTAL VOTES  TOTAL ELECTORS  TOTAL VOTING  \\\n",
       "0       477005         1557153       1113975   \n",
       "1       426425         1557153       1113975   \n",
       "2       123129         1557153       1113975   \n",
       "3        25750         1557153       1113975   \n",
       "4         9535         1557153       1113975   \n",
       "\n",
       "   OVER TOTAL ELECTORS IN CONSTITUENCY  \\\n",
       "0                                30.63   \n",
       "1                                27.38   \n",
       "2                                 7.91   \n",
       "3                                 1.65   \n",
       "4                                 0.61   \n",
       "\n",
       "   OVER TOTAL VOTES POLLED IN CONSTITUENCY  \n",
       "0                                    42.82  \n",
       "1                                    38.28  \n",
       "2                                    11.05  \n",
       "3                                     2.31  \n",
       "4                                     0.86  "
      ]
     },
     "execution_count": 97,
     "metadata": {},
     "output_type": "execute_result"
    }
   ],
   "source": [
    "df.head()"
   ]
  },
  {
   "cell_type": "code",
   "execution_count": 98,
   "metadata": {},
   "outputs": [
    {
     "data": {
      "text/plain": [
       "STATE                                       object\n",
       "CONSTITUENCY                                object\n",
       "NAME                                        object\n",
       "WINNER                                       int64\n",
       "PARTY                                       object\n",
       "SYMBOL                                      object\n",
       "GENDER                                      object\n",
       "CRIMINAL CASES                             float64\n",
       "AGE                                        float64\n",
       "CATEGORY                                    object\n",
       "EDUCATION                                   object\n",
       "ASSETS                                     float64\n",
       "LIABILITIES                                float64\n",
       "GENERAL VOTES                                int64\n",
       "POSTAL VOTES                                 int64\n",
       "TOTAL VOTES                                  int64\n",
       "TOTAL ELECTORS                               int64\n",
       "TOTAL VOTING                                 int64\n",
       "OVER TOTAL ELECTORS IN CONSTITUENCY        float64\n",
       "OVER TOTAL VOTES POLLED IN CONSTITUENCY    float64\n",
       "dtype: object"
      ]
     },
     "execution_count": 98,
     "metadata": {},
     "output_type": "execute_result"
    }
   ],
   "source": [
    "df.dtypes"
   ]
  },
  {
   "cell_type": "code",
   "execution_count": 99,
   "metadata": {},
   "outputs": [],
   "source": [
    "df['CRIMINAL CASES'] = df['CRIMINAL CASES'].astype(int, errors='raise')\n",
    "df['ASSETS'] = df['ASSETS'].astype(float, errors='raise')\n",
    "df['LIABILITIES'] = df['LIABILITIES'].astype(float, errors='raise')"
   ]
  },
  {
   "cell_type": "code",
   "execution_count": 100,
   "metadata": {},
   "outputs": [
    {
     "data": {
      "text/html": [
       "<div>\n",
       "<style scoped>\n",
       "    .dataframe tbody tr th:only-of-type {\n",
       "        vertical-align: middle;\n",
       "    }\n",
       "\n",
       "    .dataframe tbody tr th {\n",
       "        vertical-align: top;\n",
       "    }\n",
       "\n",
       "    .dataframe thead th {\n",
       "        text-align: right;\n",
       "    }\n",
       "</style>\n",
       "<table border=\"1\" class=\"dataframe\">\n",
       "  <thead>\n",
       "    <tr style=\"text-align: right;\">\n",
       "      <th></th>\n",
       "      <th>STATE</th>\n",
       "      <th>CONSTITUENCY</th>\n",
       "      <th>NAME</th>\n",
       "      <th>WINNER</th>\n",
       "      <th>PARTY</th>\n",
       "      <th>SYMBOL</th>\n",
       "      <th>GENDER</th>\n",
       "      <th>CRIMINAL CASES</th>\n",
       "      <th>AGE</th>\n",
       "      <th>CATEGORY</th>\n",
       "      <th>EDUCATION</th>\n",
       "      <th>ASSETS</th>\n",
       "      <th>LIABILITIES</th>\n",
       "      <th>GENERAL VOTES</th>\n",
       "      <th>POSTAL VOTES</th>\n",
       "      <th>TOTAL VOTES</th>\n",
       "      <th>TOTAL ELECTORS</th>\n",
       "      <th>TOTAL VOTING</th>\n",
       "      <th>OVER TOTAL ELECTORS IN CONSTITUENCY</th>\n",
       "      <th>OVER TOTAL VOTES POLLED IN CONSTITUENCY</th>\n",
       "    </tr>\n",
       "  </thead>\n",
       "  <tbody>\n",
       "    <tr>\n",
       "      <th>0</th>\n",
       "      <td>Andhra Pradesh</td>\n",
       "      <td>Araku</td>\n",
       "      <td>gumma thanuja rani</td>\n",
       "      <td>1</td>\n",
       "      <td>YSRCP</td>\n",
       "      <td>Ceiling fan</td>\n",
       "      <td>FEMALE</td>\n",
       "      <td>0</td>\n",
       "      <td>31.0</td>\n",
       "      <td>ST</td>\n",
       "      <td>Graduate Professional</td>\n",
       "      <td>2354678.0</td>\n",
       "      <td>0.0</td>\n",
       "      <td>471470</td>\n",
       "      <td>5535</td>\n",
       "      <td>477005</td>\n",
       "      <td>1557153</td>\n",
       "      <td>1113975</td>\n",
       "      <td>30.63</td>\n",
       "      <td>42.82</td>\n",
       "    </tr>\n",
       "    <tr>\n",
       "      <th>1</th>\n",
       "      <td>Andhra Pradesh</td>\n",
       "      <td>Araku</td>\n",
       "      <td>kothapalli geetha</td>\n",
       "      <td>0</td>\n",
       "      <td>BJP</td>\n",
       "      <td>Lotus</td>\n",
       "      <td>FEMALE</td>\n",
       "      <td>2</td>\n",
       "      <td>53.0</td>\n",
       "      <td>ST</td>\n",
       "      <td>Post Graduate</td>\n",
       "      <td>0.0</td>\n",
       "      <td>0.0</td>\n",
       "      <td>417113</td>\n",
       "      <td>9312</td>\n",
       "      <td>426425</td>\n",
       "      <td>1557153</td>\n",
       "      <td>1113975</td>\n",
       "      <td>27.38</td>\n",
       "      <td>38.28</td>\n",
       "    </tr>\n",
       "    <tr>\n",
       "      <th>2</th>\n",
       "      <td>Andhra Pradesh</td>\n",
       "      <td>Araku</td>\n",
       "      <td>appalanarasa pachipenta</td>\n",
       "      <td>0</td>\n",
       "      <td>CPI(M)</td>\n",
       "      <td>Hammer, Sickle and Star</td>\n",
       "      <td>MALE</td>\n",
       "      <td>4</td>\n",
       "      <td>41.0</td>\n",
       "      <td>ST</td>\n",
       "      <td>Post Graduate</td>\n",
       "      <td>2925792.0</td>\n",
       "      <td>243125.0</td>\n",
       "      <td>119016</td>\n",
       "      <td>4113</td>\n",
       "      <td>123129</td>\n",
       "      <td>1557153</td>\n",
       "      <td>1113975</td>\n",
       "      <td>7.91</td>\n",
       "      <td>11.05</td>\n",
       "    </tr>\n",
       "    <tr>\n",
       "      <th>3</th>\n",
       "      <td>Andhra Pradesh</td>\n",
       "      <td>Araku</td>\n",
       "      <td>avashya lahari . varam</td>\n",
       "      <td>0</td>\n",
       "      <td>BSP</td>\n",
       "      <td>Elephant</td>\n",
       "      <td>FEMALE</td>\n",
       "      <td>0</td>\n",
       "      <td>30.0</td>\n",
       "      <td>ST</td>\n",
       "      <td>Graduate Professional</td>\n",
       "      <td>5390634.0</td>\n",
       "      <td>1627956.0</td>\n",
       "      <td>24858</td>\n",
       "      <td>892</td>\n",
       "      <td>25750</td>\n",
       "      <td>1557153</td>\n",
       "      <td>1113975</td>\n",
       "      <td>1.65</td>\n",
       "      <td>2.31</td>\n",
       "    </tr>\n",
       "    <tr>\n",
       "      <th>4</th>\n",
       "      <td>Andhra Pradesh</td>\n",
       "      <td>Araku</td>\n",
       "      <td>samareddy balakrishna</td>\n",
       "      <td>0</td>\n",
       "      <td>IND</td>\n",
       "      <td>Gas cylinder</td>\n",
       "      <td>MALE</td>\n",
       "      <td>0</td>\n",
       "      <td>48.0</td>\n",
       "      <td>ST</td>\n",
       "      <td>Post Graduate</td>\n",
       "      <td>0.0</td>\n",
       "      <td>0.0</td>\n",
       "      <td>9493</td>\n",
       "      <td>42</td>\n",
       "      <td>9535</td>\n",
       "      <td>1557153</td>\n",
       "      <td>1113975</td>\n",
       "      <td>0.61</td>\n",
       "      <td>0.86</td>\n",
       "    </tr>\n",
       "  </tbody>\n",
       "</table>\n",
       "</div>"
      ],
      "text/plain": [
       "            STATE CONSTITUENCY                     NAME  WINNER   PARTY  \\\n",
       "0  Andhra Pradesh        Araku       gumma thanuja rani       1   YSRCP   \n",
       "1  Andhra Pradesh        Araku        kothapalli geetha       0     BJP   \n",
       "2  Andhra Pradesh        Araku  appalanarasa pachipenta       0  CPI(M)   \n",
       "3  Andhra Pradesh        Araku   avashya lahari . varam       0     BSP   \n",
       "4  Andhra Pradesh        Araku    samareddy balakrishna       0     IND   \n",
       "\n",
       "                    SYMBOL  GENDER  CRIMINAL CASES   AGE CATEGORY  \\\n",
       "0              Ceiling fan  FEMALE               0  31.0       ST   \n",
       "1                    Lotus  FEMALE               2  53.0       ST   \n",
       "2  Hammer, Sickle and Star    MALE               4  41.0       ST   \n",
       "3                 Elephant  FEMALE               0  30.0       ST   \n",
       "4             Gas cylinder    MALE               0  48.0       ST   \n",
       "\n",
       "               EDUCATION     ASSETS  LIABILITIES  GENERAL VOTES  POSTAL VOTES  \\\n",
       "0  Graduate Professional  2354678.0          0.0         471470          5535   \n",
       "1          Post Graduate        0.0          0.0         417113          9312   \n",
       "2          Post Graduate  2925792.0     243125.0         119016          4113   \n",
       "3  Graduate Professional  5390634.0    1627956.0          24858           892   \n",
       "4          Post Graduate        0.0          0.0           9493            42   \n",
       "\n",
       "   TOTAL VOTES  TOTAL ELECTORS  TOTAL VOTING  \\\n",
       "0       477005         1557153       1113975   \n",
       "1       426425         1557153       1113975   \n",
       "2       123129         1557153       1113975   \n",
       "3        25750         1557153       1113975   \n",
       "4         9535         1557153       1113975   \n",
       "\n",
       "   OVER TOTAL ELECTORS IN CONSTITUENCY  \\\n",
       "0                                30.63   \n",
       "1                                27.38   \n",
       "2                                 7.91   \n",
       "3                                 1.65   \n",
       "4                                 0.61   \n",
       "\n",
       "   OVER TOTAL VOTES POLLED IN CONSTITUENCY  \n",
       "0                                    42.82  \n",
       "1                                    38.28  \n",
       "2                                    11.05  \n",
       "3                                     2.31  \n",
       "4                                     0.86  "
      ]
     },
     "execution_count": 100,
     "metadata": {},
     "output_type": "execute_result"
    }
   ],
   "source": [
    "df.head()"
   ]
  },
  {
   "cell_type": "code",
   "execution_count": 101,
   "metadata": {},
   "outputs": [
    {
     "data": {
      "application/vnd.plotly.v1+json": {
       "config": {
        "plotlyServerURL": "https://plot.ly"
       },
       "data": [
        {
         "branchvalues": "total",
         "customdata": [
          [
           1999399
          ],
          [
           2075093
          ],
          [
           2003510
          ],
          [
           1849517
          ],
          [
           1568140
          ],
          [
           1499659
          ],
          [
           1652394
          ],
          [
           2075821
          ],
          [
           2040263
          ],
          [
           1727645
          ],
          [
           1988934
          ],
          [
           1875912
          ],
          [
           1894657
          ],
          [
           1406689
          ],
          [
           1340183
          ],
          [
           2002868
          ],
          [
           1778463
          ],
          [
           1828159
          ],
          [
           1368432
          ],
          [
           1532229
          ],
          [
           1913756
          ],
          [
           1798715
          ],
          [
           1838767
          ],
          [
           1733367
          ],
          [
           1617542
          ],
          [
           1720677
          ],
          [
           1601365
          ],
          [
           1780709
          ],
          [
           1740606
          ],
          [
           1769264
          ],
          [
           315745
          ],
          [
           1893622
          ],
          [
           1557153
          ],
          [
           1885001
          ],
          [
           2019757
          ],
          [
           2183625
          ],
          [
           378357
          ],
          [
           520085
          ],
          [
           1771875
          ],
          [
           1623404
          ],
          [
           1401114
          ],
          [
           1875809
          ],
          [
           2061220
          ],
          [
           1871946
          ],
          [
           1875760
          ],
          [
           2200607
          ],
          [
           1744525
          ],
          [
           2208630
          ],
          [
           1473810
          ],
          [
           1897989
          ],
          [
           2124971
          ],
          [
           2148657
          ],
          [
           1913389
          ],
          [
           1821764
          ],
          [
           2339411
          ],
          [
           2050748
          ],
          [
           2103937
          ],
          [
           2010304
          ],
          [
           1810090
          ],
          [
           1665208
          ],
          [
           1839281
          ],
          [
           1789424
          ],
          [
           1610043
          ],
          [
           1936995
          ],
          [
           1563941
          ],
          [
           1963312
          ],
          [
           1749034
          ],
          [
           3215291
          ],
          [
           2802956
          ],
          [
           2341895
          ],
          [
           2434254
          ],
          [
           1841292
          ],
          [
           1859967
          ],
          [
           1785138
          ],
          [
           1825711
          ],
          [
           1511177
          ],
          [
           1919282
          ],
          [
           2374884
          ],
          [
           1907604
          ],
          [
           1803240
          ],
          [
           1853336
          ],
          [
           2048788
          ],
          [
           1926167
          ],
          [
           1633893
          ],
          [
           1979051
          ],
          [
           1512101
          ],
          [
           1805874
          ],
          [
           1904843
          ],
          [
           1659163
          ],
          [
           2147063
          ],
          [
           2200435
          ],
          [
           1931746
          ],
          [
           1884472
          ],
          [
           1595228
          ],
          [
           2039941
          ],
          [
           1773928
          ],
          [
           1988207
          ],
          [
           1830399
          ],
          [
           1723670
          ],
          [
           1918394
          ],
          [
           2087604
          ],
          [
           1809241
          ],
          [
           1675019
          ],
          [
           1894364
          ],
          [
           1947976
          ],
          [
           1743213
          ],
          [
           1859447
          ],
          [
           1758481
          ],
          [
           1803544
          ],
          [
           1842192
          ],
          [
           1867981
          ],
          [
           1787095
          ],
          [
           1934352
          ],
          [
           1350334
          ],
          [
           1496459
          ],
          [
           2023381
          ],
          [
           1634721
          ],
          [
           1520970
          ],
          [
           2170738
          ],
          [
           2222213
          ],
          [
           2106500
          ],
          [
           1413170
          ],
          [
           1311257
          ],
          [
           1778667
          ],
          [
           1850547
          ],
          [
           660552
          ],
          [
           1646467
          ],
          [
           1839760
          ],
          [
           1692698
          ],
          [
           2939057
          ],
          [
           1822437
          ],
          [
           1981767
          ],
          [
           1770523
          ],
          [
           1857385
          ],
          [
           1643593
          ],
          [
           1970743
          ],
          [
           1574979
          ],
          [
           1926000
          ],
          [
           1903520
          ],
          [
           1943559
          ],
          [
           1955117
          ],
          [
           1526799
          ],
          [
           1608624
          ],
          [
           2092551
          ],
          [
           283035
          ],
          [
           1876247
          ],
          [
           1818127
          ],
          [
           134201
          ],
          [
           1782853
          ],
          [
           1776898
          ],
          [
           2214516
          ],
          [
           1709809
          ],
          [
           1877227
          ],
          [
           2290354
          ],
          [
           1834015
          ],
          [
           1719979
          ],
          [
           1533702
          ],
          [
           2663987
          ],
          [
           2025275
          ],
          [
           1881552
          ],
          [
           1661998
          ],
          [
           1857924
          ],
          [
           902050
          ],
          [
           1962205
          ],
          [
           1700882
          ],
          [
           1592192
          ],
          [
           1538960
          ],
          [
           2121610
          ],
          [
           1638116
          ],
          [
           1324757
          ],
          [
           1703935
          ],
          [
           1834489
          ],
          [
           2436637
          ],
          [
           1929399
          ],
          [
           1599861
          ],
          [
           1751985
          ],
          [
           1557201
          ],
          [
           1942597
          ],
          [
           1807314
          ],
          [
           1896052
          ],
          [
           1674979
          ],
          [
           2103968
          ],
          [
           1890695
          ],
          [
           2584982
          ],
          [
           2160206
          ],
          [
           1618690
          ],
          [
           2183402
          ],
          [
           1404233
          ],
          [
           2681482
          ],
          [
           1821330
          ],
          [
           1942313
          ],
          [
           2948720
          ],
          [
           2088636
          ],
          [
           2090637
          ],
          [
           1866763
          ],
          [
           2030444
          ],
          [
           1843873
          ],
          [
           2027054
          ],
          [
           2101746
          ],
          [
           2098778
          ],
          [
           1793324
          ],
          [
           1627611
          ],
          [
           2039765
          ],
          [
           1456099
          ],
          [
           1799539
          ],
          [
           1858158
          ],
          [
           1972915
          ],
          [
           1841604
          ],
          [
           1911779
          ],
          [
           2041472
          ],
          [
           1738818
          ],
          [
           1946138
          ],
          [
           1818396
          ],
          [
           1794394
          ],
          [
           1942771
          ],
          [
           1658529
          ],
          [
           1819082
          ],
          [
           1860103
          ],
          [
           1618186
          ],
          [
           1769973
          ],
          [
           2217305
          ],
          [
           2527978
          ],
          [
           1251172
          ],
          [
           1001115
          ],
          [
           1898180
          ],
          [
           2288793
          ],
          [
           2194555
          ],
          [
           2297692
          ],
          [
           1818657
          ],
          [
           2058260
          ],
          [
           2030974
          ],
          [
           2097732
          ],
          [
           2138241
          ],
          [
           2034251
          ],
          [
           1703489
          ],
          [
           1678716
          ],
          [
           1548594
          ],
          [
           1655868
          ],
          [
           2010583
          ],
          [
           2000402
          ],
          [
           1969953
          ],
          [
           1889840
          ],
          [
           1818959
          ],
          [
           1871388
          ],
          [
           1910619
          ],
          [
           1807556
          ],
          [
           1979004
          ],
          [
           1845363
          ],
          [
           2005278
          ],
          [
           2162404
          ],
          [
           1782435
          ],
          [
           1732944
          ],
          [
           1796532
          ],
          [
           1569097
          ],
          [
           1749192
          ],
          [
           1524032
          ],
          [
           1659374
          ],
          [
           1566048
          ],
          [
           1980182
          ],
          [
           2109702
          ],
          [
           1430499
          ],
          [
           1998536
          ],
          [
           2112874
          ],
          [
           2046409
          ],
          [
           1620051
          ],
          [
           2088853
          ],
          [
           1627851
          ],
          [
           1799822
          ],
          [
           1943633
          ],
          [
           1641349
          ],
          [
           1727579
          ],
          [
           1906032
          ],
          [
           1634921
          ],
          [
           1702038
          ],
          [
           2082800
          ],
          [
           1340580
          ],
          [
           1993616
          ],
          [
           1363080
          ],
          [
           1664794
          ],
          [
           1797658
          ],
          [
           1888005
          ],
          [
           1414520
          ],
          [
           1798168
          ],
          [
           1455530
          ],
          [
           1834512
          ],
          [
           1912536
          ],
          [
           2053805
          ],
          [
           1795725
          ],
          [
           1589941
          ],
          [
           1680035
          ],
          [
           1843767
          ],
          [
           1631952
          ],
          [
           2008281
          ],
          [
           1871224
          ],
          [
           1329423
          ],
          [
           1830197
          ],
          [
           2207845
          ],
          [
           1494404
          ],
          [
           1728198
          ],
          [
           1942725
          ],
          [
           1850115
          ],
          [
           1505686
          ],
          [
           1330873
          ],
          [
           1867016
          ],
          [
           1481642
          ],
          [
           1256138
          ],
          [
           1432508
          ],
          [
           1762599
          ],
          [
           1724191
          ],
          [
           1876962
          ],
          [
           190576
          ],
          [
           1580500
          ],
          [
           57953
          ],
          [
           1841110
          ],
          [
           1980409
          ],
          [
           1448225
          ],
          [
           2173953
          ],
          [
           1760756
          ],
          [
           1583250
          ],
          [
           1763698
          ],
          [
           1377173
          ],
          [
           2103244
          ],
          [
           1900808
          ],
          [
           1546075
          ],
          [
           861327
          ],
          [
           2015928
          ],
          [
           1943763
          ],
          [
           1540045
          ],
          [
           1996298
          ],
          [
           2073608
          ],
          [
           1936759
          ],
          [
           1533858
          ],
          [
           1942449
          ],
          [
           2007065
          ],
          [
           1683709
          ],
          [
           1772048
          ],
          [
           1798051
          ],
          [
           1480714
          ],
          [
           1784407
          ],
          [
           1864285
          ],
          [
           3780453
          ],
          [
           1780149
          ],
          [
           1939130
          ],
          [
           1818113
          ],
          [
           2585776
          ],
          [
           1339159
          ],
          [
           1546274
          ],
          [
           1828717
          ],
          [
           1813205
          ],
          [
           2005669
          ],
          [
           1909448
          ],
          [
           1879798
          ],
          [
           2189866
          ],
          [
           2062642
          ],
          [
           1812115
          ],
          [
           1744297
          ],
          [
           1637292
          ],
          [
           1735295
          ],
          [
           1536443
          ],
          [
           1474660
          ],
          [
           2051829
          ],
          [
           1890589
          ],
          [
           1823717
          ],
          [
           1869072
          ],
          [
           2094310
          ],
          [
           1345708
          ],
          [
           2155502
          ],
          [
           1452952
          ],
          [
           1428889
          ],
          [
           1514610
          ],
          [
           1325383
          ],
          [
           1821023
          ],
          [
           1739310
          ],
          [
           1647310
          ],
          [
           2224282
          ],
          [
           2026438
          ],
          [
           2293994
          ],
          [
           1726204
          ],
          [
           1853532
          ],
          [
           1971324
          ],
          [
           1724191
          ],
          [
           1473811
          ],
          [
           1736162
          ],
          [
           2033175
          ],
          [
           2223804
          ],
          [
           2010286
          ],
          [
           1712840
          ],
          [
           1526694
          ],
          [
           1705591
          ],
          [
           580710
          ],
          [
           2464397
          ],
          [
           2569274
          ],
          [
           1614525
          ],
          [
           1996484
          ],
          [
           1050242
          ],
          [
           2348274
          ],
          [
           1447197
          ],
          [
           1597717
          ],
          [
           1024024
          ],
          [
           1400914
          ],
          [
           2248082
          ],
          [
           2148850
          ],
          [
           1898234
          ],
          [
           2124497
          ],
          [
           1759234
          ],
          [
           2021772
          ],
          [
           1433956
          ],
          [
           1811580
          ],
          [
           2080613
          ],
          [
           2295527
          ],
          [
           1597892
          ],
          [
           2071536
          ],
          [
           1833961
          ],
          [
           1471260
          ],
          [
           1769594
          ],
          [
           1836748
          ],
          [
           2062172
          ],
          [
           1589698
          ],
          [
           1895036
          ],
          [
           1825625
          ],
          [
           1793440
          ],
          [
           1840847
          ],
          [
           2376030
          ],
          [
           1876672
          ],
          [
           1869229
          ],
          [
           2064478
          ],
          [
           1619761
          ],
          [
           2095109
          ],
          [
           1859439
          ],
          [
           1913628
          ],
          [
           1788731
          ],
          [
           2010441
          ],
          [
           1669722
          ],
          [
           1791574
          ],
          [
           1623852
          ],
          [
           1667385
          ],
          [
           2112726
          ],
          [
           1705708
          ],
          [
           1733243
          ],
          [
           2050952
          ],
          [
           1877599
          ],
          [
           2202528
          ],
          [
           1452664
          ],
          [
           1823827
          ],
          [
           1780728
          ],
          [
           1746640
          ],
          [
           1659269
          ],
          [
           1708823
          ],
          [
           1778158
          ],
          [
           1354665
          ],
          [
           2030095
          ],
          [
           2232334
          ],
          [
           1941319
          ],
          [
           1635655
          ],
          [
           1777008
          ],
          [
           1748803
          ],
          [
           2382578
          ],
          [
           1820880
          ],
          [
           1980797
          ],
          [
           1857816
          ],
          [
           1784412
          ],
          [
           1820016
          ],
          [
           1501538
          ],
          [
           1899292
          ],
          [
           1874176
          ],
          [
           1563808
          ],
          [
           2076050
          ],
          [
           1800790
          ],
          [
           1914914
          ],
          [
           1899325
          ],
          [
           2120550
          ],
          [
           2333143
          ],
          [
           1834437
          ],
          [
           1402892
          ],
          [
           1753615
          ],
          [
           1680067
          ],
          [
           2541750
          ],
          [
           1980743
          ],
          [
           466643
          ],
          [
           1374559
          ],
          [
           1449471
          ],
          [
           1950028
          ],
          [
           1760367
          ],
          [
           1901956
          ],
          [
           2031921
          ],
          [
           1638992
          ],
          [
           2293698
          ],
          [
           598934
          ],
          [
           1928256
          ],
          [
           1646686
          ],
          [
           1855602
          ],
          [
           1579096
          ],
          [
           1928887
          ],
          [
           2035001
          ],
          [
           1529130
          ],
          [
           1502056
          ],
          [
           1630328
          ],
          [
           1461182
          ],
          [
           1827976
          ],
          [
           1554620
          ],
          [
           1656265
          ],
          [
           1608720
          ],
          [
           2086686
          ],
          [
           1536993
          ],
          [
           2150616
          ],
          [
           1853363
          ],
          [
           1590526
          ],
          [
           2508072
          ],
          [
           1730318
          ],
          [
           1434657
          ],
          [
           1483783
          ],
          [
           1401443
          ],
          [
           1469453
          ],
          [
           1661834
          ],
          [
           827559
          ],
          [
           2231240
          ],
          [
           1640846
          ],
          [
           1800347
          ],
          [
           1585721
          ],
          [
           1748377
          ],
          [
           1742388
          ],
          [
           2344843
          ],
          [
           1645721
          ],
          [
           1534347
          ],
          [
           1946631
          ],
          [
           1503959
          ],
          [
           1505927
          ],
          [
           1424792
          ],
          [
           1950123
          ],
          [
           1871877
          ],
          [
           1829052
          ],
          [
           1860207
          ],
          [
           1999861
          ],
          [
           1704469
          ],
          [
           1931398
          ],
          [
           1590994
          ],
          [
           1825492
          ],
          [
           1684292
          ],
          [
           1464472
          ],
          [
           2592498
          ],
          [
           1942461
          ],
          [
           1642425
          ],
          [
           315745
          ],
          [
           1682046.6187881317
          ],
          [
           470053.6532489937
          ],
          [
           1883785.389906961
          ],
          [
           1960003.6658251581
          ],
          [
           660552
          ],
          [
           2002274.1402614727
          ],
          [
           223654.73571614834
          ],
          [
           589962.7688149984
          ],
          [
           1948091.7270437204
          ],
          [
           2050875.997067518
          ],
          [
           1442229.4490797096
          ],
          [
           1772698.25336254
          ],
          [
           1934175.6846856098
          ],
          [
           2045404.2308809035
          ],
          [
           1391124.2645312077
          ],
          [
           190576
          ],
          [
           57953
          ],
          [
           1986281.5951437785
          ],
          [
           2014539.6503487702
          ],
          [
           1021333.2474115022
          ],
          [
           1240498.1634678845
          ],
          [
           861327
          ],
          [
           2279534.564915832
          ],
          [
           1325383
          ],
          [
           1613175.2799283194
          ],
          [
           1024024
          ],
          [
           1673258.6679781042
          ],
          [
           2160622.5008472227
          ],
          [
           466643
          ],
          [
           1641333.4956850691
          ],
          [
           2105875.8459700746
          ],
          [
           1436253.560372093
          ],
          [
           1968408.187285607
          ],
          [
           1762478.2075254251
          ],
          [
           1814754.938498397
          ]
         ],
         "domain": {
          "x": [
           0,
           1
          ],
          "y": [
           0,
           1
          ]
         },
         "hovertemplate": "labels=%{label}<br>TOTAL ELECTORS_sum=%{value}<br>parent=%{parent}<br>id=%{id}<br>TOTAL ELECTORS=%{color}<extra></extra>",
         "ids": [
          "Rajasthan/AJMER",
          "Rajasthan/ALWAR",
          "Haryana/AMBALA",
          "Jammu and Kashmir/ANANTNAG-RAJOURI",
          "Tamil Nadu/ARAKKONAM",
          "Tamil Nadu/ARANI",
          "Telangana/Adilabad",
          "Uttar Pradesh/Agra",
          "Gujarat/Ahmedabad East",
          "Gujarat/Ahmedabad West",
          "Maharashtra/Ahmednagar",
          "Uttar Pradesh/Akbarpur",
          "Maharashtra/Akola",
          "Kerala/Alappuzha",
          "Kerala/Alathur",
          "Uttar Pradesh/Aligarh",
          "West Bengal/Alipurduars",
          "Uttar Pradesh/Allahabad",
          "Uttarakhand/Almora",
          "Andhra Pradesh/Amalapuram",
          "Uttar Pradesh/Ambedkar Nagar",
          "Uttar Pradesh/Amethi",
          "Maharashtra/Amravati",
          "Gujarat/Amreli",
          "Punjab/Amritsar",
          "Uttar Pradesh/Amroha",
          "Andhra Pradesh/Anakapalle",
          "Gujarat/Anand",
          "Punjab/Anandpur Sahib",
          "Andhra Pradesh/Ananthapur",
          "Andaman & Nicobar Islands/Andaman & Nicobar Islands",
          "Uttar Pradesh/Aonla",
          "Andhra Pradesh/Araku",
          "West Bengal/Arambag",
          "Bihar/Araria",
          "Bihar/Arrah",
          "Arunachal Pradesh/Arunachal East",
          "Arunachal Pradesh/Arunachal West",
          "West Bengal/Asansol",
          "Odisha/Aska",
          "Kerala/Attingal",
          "Bihar/Aurangabad",
          "Maharashtra/Aurangabad",
          "Uttar Pradesh/Azamgarh",
          "Madhya Pradesh/BALAGHAT",
          "Rajasthan/BANSWARA",
          "Jammu and Kashmir/BARAMULLA",
          "Rajasthan/BARMER",
          "Chhattisgarh/BASTAR",
          "Madhya Pradesh/BETUL",
          "Rajasthan/BHARATPUR",
          "Rajasthan/BHILWARA",
          "Madhya Pradesh/BHIND",
          "Haryana/BHIWANI-MAHENDRAGARH",
          "Madhya Pradesh/BHOPAL",
          "Rajasthan/BIKANER",
          "Chhattisgarh/BILASPUR",
          "Uttar Pradesh/Badaun",
          "Karnataka/Bagalkot",
          "Uttar Pradesh/Baghpat",
          "Uttar Pradesh/Baharaich",
          "West Bengal/Baharampur",
          "Odisha/Balasore",
          "Uttar Pradesh/Ballia",
          "West Bengal/Balurghat",
          "Gujarat/Banaskantha",
          "Uttar Pradesh/Banda",
          "Karnataka/Bangalore North",
          "Karnataka/Bangalore Rural",
          "Karnataka/Bangalore South",
          "Karnataka/Bangalore central",
          "West Bengal/Bangaon",
          "Bihar/Banka",
          "West Bengal/Bankura",
          "Uttar Pradesh/Bansgaon",
          "Andhra Pradesh/Bapatla",
          "Uttar Pradesh/Barabanki",
          "Maharashtra/Baramati",
          "West Bengal/Barasat",
          "West Bengal/Bardhaman Purba",
          "West Bengal/Bardhaman-Durgapur",
          "Gujarat/Bardoli",
          "Uttar Pradesh/Bareilly",
          "Odisha/Bargarh",
          "Assam/Barpeta",
          "West Bengal/Barrackpur",
          "West Bengal/Basirhat",
          "Uttar Pradesh/Basti",
          "Punjab/Bathinda",
          "Maharashtra/Beed",
          "Bihar/Begusarai",
          "Karnataka/Belgaum",
          "Karnataka/Bellary",
          "Odisha/Berhampur",
          "Uttar Pradesh/Bhadohi",
          "Odisha/Bhadrak",
          "Bihar/Bhagalpur",
          "Maharashtra/Bhandara Gondiya",
          "Gujarat/Bharuch",
          "Gujarat/Bhavnagar",
          "Maharashtra/Bhiwandi",
          "Telangana/Bhongir",
          "Odisha/Bhubaneswar",
          "Karnataka/Bidar",
          "Karnataka/Bijapur",
          "Uttar Pradesh/Bijnor",
          "West Bengal/Birbhum",
          "West Bengal/Bishnupur",
          "Odisha/Bolangir",
          "West Bengal/Bolpur",
          "Uttar Pradesh/Bulandshahr",
          "Maharashtra/Buldhana",
          "Bihar/Buxar",
          "Tamil Nadu/CHENNAI CENTRAL",
          "Tamil Nadu/CHENNAI NORTH",
          "Tamil Nadu/CHENNAI SOUTH",
          "Madhya Pradesh/CHHINDWARA",
          "Tamil Nadu/CHIDAMBARAM",
          "Rajasthan/CHITTORGARH",
          "Rajasthan/CHURU",
          "Tamil Nadu/COIMBATORE",
          "Tamil Nadu/CUDDALORE",
          "Kerala/Chalakudy",
          "Karnataka/Chamarajanagar",
          "Uttar Pradesh/Chandauli",
          "Chandigarh/Chandigarh",
          "NCT OF Delhi/Chandni Chowk",
          "Maharashtra/Chandrapur",
          "Jharkhand/Chatra",
          "Telangana/Chevella",
          "Gujarat/Chhota Udaipur",
          "Karnataka/Chikkballapur",
          "Karnataka/Chikkodi",
          "Karnataka/Chitradurga",
          "Andhra Pradesh/Chittoor",
          "West Bengal/Coochbehar",
          "Odisha/Cuttack",
          "Madhya Pradesh/DAMOH",
          "Rajasthan/DAUSA",
          "Madhya Pradesh/DEWAS",
          "Madhya Pradesh/DHAR",
          "Tamil Nadu/DHARMAPURI",
          "Tamil Nadu/DINDIGUL",
          "Chhattisgarh/DURG",
          "Dadra & Nagar Haveli and Daman & Diu/Dadar & Nagar Haveli",
          "Gujarat/Dahod",
          "Karnataka/Dakshina Kannada",
          "Dadra & Nagar Haveli and Daman & Diu/Daman & Diu",
          "Bihar/Darbhanga",
          "West Bengal/Darjeeling",
          "Assam/Darrang-Udalguri",
          "Karnataka/Davanagere",
          "Uttar Pradesh/Deoria",
          "Jharkhand/Dhanbad",
          "Karnataka/Dharwad",
          "Uttar Pradesh/Dhaurahra",
          "Odisha/Dhenkanal",
          "Assam/Dhubri",
          "Maharashtra/Dhule",
          "West Bengal/Diamond harbour",
          "Assam/Dibrugarh",
          "Maharashtra/Dindori",
          "Assam/Diphu",
          "Uttar Pradesh/Domariyaganj",
          "West Bengal/Dum dum",
          "Jharkhand/Dumka",
          "Tamil Nadu/ERODE",
          "NCT OF Delhi/East Delhi",
          "Andhra Pradesh/Eluru",
          "Kerala/Ernakulam",
          "Uttar Pradesh/Etah",
          "Uttar Pradesh/Etawah",
          "Haryana/FARIDABAD",
          "Uttar Pradesh/Faizabad",
          "Punjab/Faridkot",
          "Uttar Pradesh/Farrukhabad",
          "Punjab/Fatehgarh Sahib",
          "Uttar Pradesh/Fatehpur",
          "Uttar Pradesh/Fatehpur Sikri",
          "Uttar Pradesh/Firozabad",
          "Punjab/Firozpur",
          "Rajasthan/GANGANAGAR",
          "Madhya Pradesh/GUNA",
          "Haryana/GURGAON",
          "Madhya Pradesh/GWALIOR",
          "Maharashtra/Gadchiroli - Chimur",
          "Gujarat/Gandhinagar",
          "Uttarakhand/Garhwal",
          "Uttar Pradesh/Gautam Buddha Nagar",
          "Bihar/Gaya",
          "West Bengal/Ghatal",
          "Uttar Pradesh/Ghaziabad",
          "Uttar Pradesh/Ghazipur",
          "Uttar Pradesh/Ghosi",
          "Jharkhand/Giridih",
          "Jharkhand/Godda",
          "Uttar Pradesh/Gonda",
          "Bihar/Gopalganj",
          "Uttar Pradesh/Gorakhpur",
          "Karnataka/Gulbarga",
          "Andhra Pradesh/Guntur",
          "Punjab/Gurdaspur",
          "Assam/Guwahati",
          "Himachal Pradesh/HAMIRPUR",
          "Haryana/HISAR",
          "Madhya Pradesh/HOSHANGABAD",
          "Bihar/Hajipur",
          "Uttar Pradesh/Hamirpur",
          "Uttar Pradesh/Hardoi",
          "Uttarakhand/Haridwar",
          "Karnataka/Hassan",
          "Uttar Pradesh/Hathras",
          "Maharashtra/Hatkanangale",
          "Karnataka/Haveri",
          "Jharkhand/Hazaribagh",
          "Andhra Pradesh/Hindupur",
          "Maharashtra/Hingoli",
          "West Bengal/Hooghly",
          "Punjab/Hoshiarpur",
          "West Bengal/Howrah",
          "Telangana/Hyderabad",
          "Madhya Pradesh/INDORE",
          "Kerala/Idukki",
          "Manipur/Inner Manipur",
          "Madhya Pradesh/JABALPUR",
          "Rajasthan/JAIPUR",
          "Rajasthan/JAIPUR RURAL",
          "Rajasthan/JALORE",
          "Jammu and Kashmir/JAMMU",
          "Chhattisgarh/JANJGIR-CHAMPA",
          "Rajasthan/JHALAWAR-BARAN",
          "Rajasthan/JHUNJHUNU",
          "Rajasthan/JODHPUR",
          "West Bengal/Jadavpur",
          "Odisha/Jagatsinghpur",
          "Bihar/Jahanabad",
          "Odisha/Jajpur",
          "Punjab/Jalandhar",
          "Uttar Pradesh/Jalaun",
          "Maharashtra/Jalgaon",
          "Maharashtra/Jalna",
          "West Bengal/Jalpaiguri",
          "Gujarat/Jamnagar",
          "Jharkhand/Jamshedpur",
          "Bihar/Jamui",
          "West Bengal/Jangipur",
          "Uttar Pradesh/Jaunpur",
          "West Bengal/Jaynagar",
          "Bihar/Jhanjharpur",
          "Uttar Pradesh/Jhansi",
          "West Bengal/Jhargram",
          "Assam/Jorhat",
          "Gujarat/Junagadh",
          "Tamil Nadu/KALLAKURICHI",
          "Tamil Nadu/KANCHEEPURAM",
          "Himachal Pradesh/KANGRA",
          "Chhattisgarh/KANKER",
          "Tamil Nadu/KANNIYAKUMARI",
          "Rajasthan/KARAULI-DHOLPUR",
          "Haryana/KARNAL",
          "Tamil Nadu/KARUR",
          "Madhya Pradesh/KHAJURAHO",
          "Madhya Pradesh/KHANDWA",
          "Madhya Pradesh/KHARGONE",
          "Chhattisgarh/KORBA",
          "Rajasthan/KOTA",
          "Tamil Nadu/KRISHNAGIRI",
          "Haryana/KURUKSHETRA",
          "Gujarat/Kachchh",
          "Andhra Pradesh/Kadapa",
          "Uttar Pradesh/Kairana",
          "Uttar Pradesh/Kaiserganj",
          "Andhra Pradesh/Kakinada",
          "Odisha/Kalahandi",
          "Maharashtra/Kalyan",
          "Odisha/Kandhamal",
          "Uttar Pradesh/Kannauj",
          "Kerala/Kannur",
          "Uttar Pradesh/Kanpur",
          "West Bengal/Kanthi",
          "Bihar/Karakat",
          "Assam/Karimganj",
          "Telangana/Karimnagar",
          "Kerala/Kasaragod",
          "Bihar/Katihar",
          "Uttar Pradesh/Kaushambi",
          "Assam/Kaziranga",
          "Odisha/Kendrapara",
          "Odisha/Keonjhar",
          "Punjab/Khadoor Sahib",
          "Bihar/Khagaria",
          "Telangana/Khammam",
          "Gujarat/Kheda",
          "Uttar Pradesh/Kheri",
          "Jharkhand/Khunti",
          "Bihar/Kishanganj",
          "Jharkhand/Kodarma",
          "Assam/Kokrajhar",
          "Karnataka/Kolar",
          "Maharashtra/Kolhapur",
          "West Bengal/Kolkata Dakshin",
          "West Bengal/Kolkata Uttar",
          "Kerala/Kollam",
          "Karnataka/Koppal",
          "Odisha/Koraput",
          "Kerala/Kottayam",
          "Kerala/Kozhikode",
          "West Bengal/Krishnanagar",
          "Andhra Pradesh/Kurnoolu",
          "Uttar Pradesh/Kushi Nagar",
          "Ladakh/Ladakh",
          "Assam/Lakhimpur",
          "Lakshadweep/Lakshadweep",
          "Uttar Pradesh/Lalganj",
          "Maharashtra/Latur",
          "Jharkhand/Lohardaga",
          "Uttar Pradesh/Lucknow",
          "Punjab/Ludhiana",
          "Tamil Nadu/MADURAI",
          "Chhattisgarh/MAHASAMUND",
          "Himachal Pradesh/MANDI",
          "Madhya Pradesh/MANDLA",
          "Madhya Pradesh/MANDSOUR",
          "Tamil Nadu/MAYILADUTHURAI",
          "Mizoram/MIZORAM",
          "Madhya Pradesh/MORENA",
          "Uttar Pradesh/Machhlishahr",
          "Andhra Pradesh/Machilipatnam",
          "Maharashtra/Madha",
          "Bihar/Madhepura",
          "Bihar/Madhubani",
          "Telangana/Mahabubabad",
          "Bihar/Maharajganj",
          "Uttar Pradesh/Maharajganj",
          "Telangana/Mahbubnagar",
          "Gujarat/Mahesana",
          "Uttar Pradesh/Mainpuri",
          "Kerala/Malappuram",
          "West Bengal/Maldaha Dakshin",
          "West Bengal/Maldaha Uttar",
          "Telangana/Malkajgiri",
          "Karnataka/Mandya",
          "Uttar Pradesh/Mathura",
          "West Bengal/Mathurapur",
          "Maharashtra/Maval",
          "Kerala/Mavelikkara",
          "Odisha/Mayurbhanj",
          "Telangana/Medak",
          "West Bengal/Medinipur",
          "Uttar Pradesh/Meerut",
          "Uttar Pradesh/Mirzapur",
          "Uttar Pradesh/Misrikh",
          "Uttar Pradesh/Mohanlalganj",
          "Uttar Pradesh/Moradabad",
          "Maharashtra/Mumbai North",
          "Maharashtra/Mumbai North Central",
          "Maharashtra/Mumbai North East",
          "Maharashtra/Mumbai North West",
          "Maharashtra/Mumbai South",
          "Maharashtra/Mumbai South Central",
          "Bihar/Munger",
          "West Bengal/Murshidabad",
          "Uttar Pradesh/Muzaffarnagar",
          "Bihar/Muzaffarpur",
          "Karnataka/Mysore",
          "Tamil Nadu/NAGAPATTINAM",
          "Rajasthan/NAGAUR",
          "Tamil Nadu/NAMAKKAL",
          "Tamil Nadu/NILGIRIS",
          "Odisha/Nabarangpur",
          "Nagaland/Nagaland",
          "Assam/Nagaon",
          "Telangana/Nagarkurnool",
          "Uttar Pradesh/Nagina",
          "Maharashtra/Nagpur",
          "Uttarakhand/Nainital-Udhamsingh Nagar",
          "Bihar/Nalanda",
          "Telangana/Nalgonda",
          "Maharashtra/Nanded",
          "Maharashtra/Nandurbar",
          "Andhra Pradesh/Nandyal",
          "Andhra Pradesh/Narsapuram",
          "Andhra Pradesh/Narsaraopet",
          "Maharashtra/Nashik",
          "Gujarat/Navsari",
          "Bihar/Nawada",
          "Andhra Pradesh/Nellore",
          "NCT OF Delhi/New Delhi",
          "Telangana/Nizamabad",
          "Goa/North Goa",
          "NCT OF Delhi/North-East Delhi",
          "NCT OF Delhi/North-West Delhi",
          "Andhra Pradesh/Ongole",
          "Maharashtra/Osmanabad",
          "Manipur/Outer Manipur",
          "Rajasthan/PALI",
          "Tamil Nadu/PERAMBALUR",
          "Tamil Nadu/POLLACHI",
          "Puducherry/PUDUCHERRY",
          "Kerala/Palakkad",
          "Jharkhand/Palamu",
          "Maharashtra/Palghar",
          "Gujarat/Panchmahal",
          "Maharashtra/Parbhani",
          "Bihar/Paschim Champaran",
          "Gujarat/Patan",
          "Kerala/Pathanamthitta",
          "Punjab/Patiala",
          "Bihar/Patliputra",
          "Bihar/Patna Sahib",
          "Telangana/Peddapalle",
          "Uttar Pradesh/Phulpur",
          "Uttar Pradesh/Pilibhit",
          "Kerala/Ponnani",
          "Gujarat/Porbandar",
          "Uttar Pradesh/Pratapgarh",
          "Maharashtra/Pune",
          "Odisha/Puri",
          "Bihar/Purnia",
          "West Bengal/Purulia",
          "Bihar/Purvi Champaran",
          "Chhattisgarh/RAIGARH",
          "Chhattisgarh/RAIPUR",
          "Madhya Pradesh/RAJGARH",
          "Chhattisgarh/RAJNANDGAON",
          "Rajasthan/RAJSAMAND",
          "Tamil Nadu/RAMANATHAPURAM",
          "Madhya Pradesh/RATLAM",
          "Madhya Pradesh/REWA",
          "Haryana/ROHTAK",
          "Uttar Pradesh/Rae Bareli",
          "Karnataka/Raichur",
          "Maharashtra/Raigad",
          "West Bengal/Raiganj",
          "Andhra Pradesh/Rajahmundry",
          "Andhra Pradesh/Rajampet",
          "Gujarat/Rajkot",
          "Jharkhand/Rajmahal",
          "Uttar Pradesh/Rampur",
          "Maharashtra/Ramtek",
          "West Bengal/Ranaghat",
          "Jharkhand/Ranchi",
          "Maharashtra/Ratnagiri- Sindhudurg",
          "Maharashtra/Raver",
          "Uttar Pradesh/Robertsganj",
          "Madhya Pradesh/SAGAR",
          "Tamil Nadu/SALEM",
          "Madhya Pradesh/SATNA",
          "Madhya Pradesh/SHAHDOL",
          "Himachal Pradesh/SHIMLA",
          "Madhya Pradesh/SIDHI",
          "Rajasthan/SIKAR",
          "Haryana/SIRSA",
          "Tamil Nadu/SIVAGANGA",
          "Haryana/SONIPAT",
          "Jammu and Kashmir/SRINAGAR",
          "Tamil Nadu/SRIPERUMBUDUR",
          "Chhattisgarh/SURGUJA",
          "Gujarat/Sabarkantha",
          "Uttar Pradesh/Saharanpur",
          "Uttar Pradesh/Salempur",
          "Bihar/Samastipur",
          "Odisha/Sambalpur",
          "Uttar Pradesh/Sambhal",
          "Maharashtra/Sangli",
          "Punjab/Sangrur",
          "Uttar Pradesh/Sant Kabir Nagar",
          "Bihar/Saran",
          "Bihar/Sasaram",
          "Maharashtra/Satara",
          "Telangana/Secunderabad",
          "Uttar Pradesh/Shahjahanpur",
          "Bihar/Sheohar",
          "Meghalaya/Shillong",
          "Karnataka/Shimoga",
          "Maharashtra/Shirdi",
          "Maharashtra/Shirur",
          "Uttar Pradesh/Shrawasti",
          "Sikkim/Sikkim",
          "Assam/Silchar",
          "Jharkhand/Singhbhum",
          "Bihar/Sitamarhi",
          "Uttar Pradesh/Sitapur",
          "Bihar/Siwan",
          "Maharashtra/Solapur",
          "Assam/Sonitpur",
          "NCT OF Delhi/South Delhi",
          "Goa/South Goa",
          "West Bengal/Sreerampur",
          "Andhra Pradesh/Srikakulam",
          "Uttar Pradesh/Sultanpur",
          "Odisha/Sundargarh",
          "Bihar/Supaul",
          "Gujarat/Surendranagar",
          "Tamil Nadu/TENKASI",
          "Tamil Nadu/THANJAVUR",
          "Tamil Nadu/THENI",
          "Tamil Nadu/THOOTHUKKUDI",
          "Madhya Pradesh/TIKAMGARH",
          "Tamil Nadu/TIRUCHIRAPPALLI",
          "Tamil Nadu/TIRUNELVELI",
          "Tamil Nadu/TIRUPPUR",
          "Tamil Nadu/TIRUVALLUR",
          "Tamil Nadu/TIRUVANNAMALAI",
          "Rajasthan/TONK-SAWAI MADHOPUR",
          "West Bengal/Tamluk",
          "Uttarakhand/Tehri Garhwal",
          "Maharashtra/Thane",
          "Andhra Pradesh/Thirupathi",
          "Kerala/Thiruvananthapuram",
          "Kerala/Thrissur",
          "Tripura/Tripura East",
          "Tripura/Tripura West",
          "Karnataka/Tumkur",
          "Meghalaya/Tura",
          "Rajasthan/UDAIPUR",
          "Jammu and Kashmir/UDHAMPUR",
          "Madhya Pradesh/UJJAIN",
          "Karnataka/Udupi Chikmagalur",
          "Bihar/Ujiarpur",
          "West Bengal/Uluberia",
          "Uttar Pradesh/Unnao",
          "Karnataka/Uttara Kannada",
          "Tamil Nadu/VELLORE",
          "Madhya Pradesh/VIDISHA",
          "Tamil Nadu/VILUPPURAM",
          "Tamil Nadu/VIRUDHUNAGAR",
          "Kerala/Vadakara",
          "Gujarat/Vadodara",
          "Bihar/Vaishali",
          "Bihar/Valmiki Nagar",
          "Gujarat/Valsad",
          "Uttar Pradesh/Varanasi",
          "Andhra Pradesh/Vijayawada",
          "Andhra Pradesh/Visakhapatnam",
          "Andhra Pradesh/Vizianagaram",
          "Telangana/Warangal",
          "Maharashtra/Wardha",
          "Kerala/Wayanad",
          "NCT OF Delhi/West Delhi",
          "Maharashtra/Yavatmal- Washim",
          "Telangana/Zahirabad",
          "Andaman & Nicobar Islands",
          "Andhra Pradesh",
          "Arunachal Pradesh",
          "Assam",
          "Bihar",
          "Chandigarh",
          "Chhattisgarh",
          "Dadra & Nagar Haveli and Daman & Diu",
          "Goa",
          "Gujarat",
          "Haryana",
          "Himachal Pradesh",
          "Jammu and Kashmir",
          "Jharkhand",
          "Karnataka",
          "Kerala",
          "Ladakh",
          "Lakshadweep",
          "Madhya Pradesh",
          "Maharashtra",
          "Manipur",
          "Meghalaya",
          "Mizoram",
          "NCT OF Delhi",
          "Nagaland",
          "Odisha",
          "Puducherry",
          "Punjab",
          "Rajasthan",
          "Sikkim",
          "Tamil Nadu",
          "Telangana",
          "Tripura",
          "Uttar Pradesh",
          "Uttarakhand",
          "West Bengal"
         ],
         "labels": [
          "AJMER",
          "ALWAR",
          "AMBALA",
          "ANANTNAG-RAJOURI",
          "ARAKKONAM",
          "ARANI",
          "Adilabad",
          "Agra",
          "Ahmedabad East",
          "Ahmedabad West",
          "Ahmednagar",
          "Akbarpur",
          "Akola",
          "Alappuzha",
          "Alathur",
          "Aligarh",
          "Alipurduars",
          "Allahabad",
          "Almora",
          "Amalapuram",
          "Ambedkar Nagar",
          "Amethi",
          "Amravati",
          "Amreli",
          "Amritsar",
          "Amroha",
          "Anakapalle",
          "Anand",
          "Anandpur Sahib",
          "Ananthapur",
          "Andaman & Nicobar Islands",
          "Aonla",
          "Araku",
          "Arambag",
          "Araria",
          "Arrah",
          "Arunachal East",
          "Arunachal West",
          "Asansol",
          "Aska",
          "Attingal",
          "Aurangabad",
          "Aurangabad",
          "Azamgarh",
          "BALAGHAT",
          "BANSWARA",
          "BARAMULLA",
          "BARMER",
          "BASTAR",
          "BETUL",
          "BHARATPUR",
          "BHILWARA",
          "BHIND",
          "BHIWANI-MAHENDRAGARH",
          "BHOPAL",
          "BIKANER",
          "BILASPUR",
          "Badaun",
          "Bagalkot",
          "Baghpat",
          "Baharaich",
          "Baharampur",
          "Balasore",
          "Ballia",
          "Balurghat",
          "Banaskantha",
          "Banda",
          "Bangalore North",
          "Bangalore Rural",
          "Bangalore South",
          "Bangalore central",
          "Bangaon",
          "Banka",
          "Bankura",
          "Bansgaon",
          "Bapatla",
          "Barabanki",
          "Baramati",
          "Barasat",
          "Bardhaman Purba",
          "Bardhaman-Durgapur",
          "Bardoli",
          "Bareilly",
          "Bargarh",
          "Barpeta",
          "Barrackpur",
          "Basirhat",
          "Basti",
          "Bathinda",
          "Beed",
          "Begusarai",
          "Belgaum",
          "Bellary",
          "Berhampur",
          "Bhadohi",
          "Bhadrak",
          "Bhagalpur",
          "Bhandara Gondiya",
          "Bharuch",
          "Bhavnagar",
          "Bhiwandi",
          "Bhongir",
          "Bhubaneswar",
          "Bidar",
          "Bijapur",
          "Bijnor",
          "Birbhum",
          "Bishnupur",
          "Bolangir",
          "Bolpur",
          "Bulandshahr",
          "Buldhana",
          "Buxar",
          "CHENNAI CENTRAL",
          "CHENNAI NORTH",
          "CHENNAI SOUTH",
          "CHHINDWARA",
          "CHIDAMBARAM",
          "CHITTORGARH",
          "CHURU",
          "COIMBATORE",
          "CUDDALORE",
          "Chalakudy",
          "Chamarajanagar",
          "Chandauli",
          "Chandigarh",
          "Chandni Chowk",
          "Chandrapur",
          "Chatra",
          "Chevella",
          "Chhota Udaipur",
          "Chikkballapur",
          "Chikkodi",
          "Chitradurga",
          "Chittoor",
          "Coochbehar",
          "Cuttack",
          "DAMOH",
          "DAUSA",
          "DEWAS",
          "DHAR",
          "DHARMAPURI",
          "DINDIGUL",
          "DURG",
          "Dadar & Nagar Haveli",
          "Dahod",
          "Dakshina Kannada",
          "Daman & Diu",
          "Darbhanga",
          "Darjeeling",
          "Darrang-Udalguri",
          "Davanagere",
          "Deoria",
          "Dhanbad",
          "Dharwad",
          "Dhaurahra",
          "Dhenkanal",
          "Dhubri",
          "Dhule",
          "Diamond harbour",
          "Dibrugarh",
          "Dindori",
          "Diphu",
          "Domariyaganj",
          "Dum dum",
          "Dumka",
          "ERODE",
          "East Delhi",
          "Eluru",
          "Ernakulam",
          "Etah",
          "Etawah",
          "FARIDABAD",
          "Faizabad",
          "Faridkot",
          "Farrukhabad",
          "Fatehgarh Sahib",
          "Fatehpur",
          "Fatehpur Sikri",
          "Firozabad",
          "Firozpur",
          "GANGANAGAR",
          "GUNA",
          "GURGAON",
          "GWALIOR",
          "Gadchiroli - Chimur",
          "Gandhinagar",
          "Garhwal",
          "Gautam Buddha Nagar",
          "Gaya",
          "Ghatal",
          "Ghaziabad",
          "Ghazipur",
          "Ghosi",
          "Giridih",
          "Godda",
          "Gonda",
          "Gopalganj",
          "Gorakhpur",
          "Gulbarga",
          "Guntur",
          "Gurdaspur",
          "Guwahati",
          "HAMIRPUR",
          "HISAR",
          "HOSHANGABAD",
          "Hajipur",
          "Hamirpur",
          "Hardoi",
          "Haridwar",
          "Hassan",
          "Hathras",
          "Hatkanangale",
          "Haveri",
          "Hazaribagh",
          "Hindupur",
          "Hingoli",
          "Hooghly",
          "Hoshiarpur",
          "Howrah",
          "Hyderabad",
          "INDORE",
          "Idukki",
          "Inner Manipur",
          "JABALPUR",
          "JAIPUR",
          "JAIPUR RURAL",
          "JALORE",
          "JAMMU",
          "JANJGIR-CHAMPA",
          "JHALAWAR-BARAN",
          "JHUNJHUNU",
          "JODHPUR",
          "Jadavpur",
          "Jagatsinghpur",
          "Jahanabad",
          "Jajpur",
          "Jalandhar",
          "Jalaun",
          "Jalgaon",
          "Jalna",
          "Jalpaiguri",
          "Jamnagar",
          "Jamshedpur",
          "Jamui",
          "Jangipur",
          "Jaunpur",
          "Jaynagar",
          "Jhanjharpur",
          "Jhansi",
          "Jhargram",
          "Jorhat",
          "Junagadh",
          "KALLAKURICHI",
          "KANCHEEPURAM",
          "KANGRA",
          "KANKER",
          "KANNIYAKUMARI",
          "KARAULI-DHOLPUR",
          "KARNAL",
          "KARUR",
          "KHAJURAHO",
          "KHANDWA",
          "KHARGONE",
          "KORBA",
          "KOTA",
          "KRISHNAGIRI",
          "KURUKSHETRA",
          "Kachchh",
          "Kadapa",
          "Kairana",
          "Kaiserganj",
          "Kakinada",
          "Kalahandi",
          "Kalyan",
          "Kandhamal",
          "Kannauj",
          "Kannur",
          "Kanpur",
          "Kanthi",
          "Karakat",
          "Karimganj",
          "Karimnagar",
          "Kasaragod",
          "Katihar",
          "Kaushambi",
          "Kaziranga",
          "Kendrapara",
          "Keonjhar",
          "Khadoor Sahib",
          "Khagaria",
          "Khammam",
          "Kheda",
          "Kheri",
          "Khunti",
          "Kishanganj",
          "Kodarma",
          "Kokrajhar",
          "Kolar",
          "Kolhapur",
          "Kolkata Dakshin",
          "Kolkata Uttar",
          "Kollam",
          "Koppal",
          "Koraput",
          "Kottayam",
          "Kozhikode",
          "Krishnanagar",
          "Kurnoolu",
          "Kushi Nagar",
          "Ladakh",
          "Lakhimpur",
          "Lakshadweep",
          "Lalganj",
          "Latur",
          "Lohardaga",
          "Lucknow",
          "Ludhiana",
          "MADURAI",
          "MAHASAMUND",
          "MANDI",
          "MANDLA",
          "MANDSOUR",
          "MAYILADUTHURAI",
          "MIZORAM",
          "MORENA",
          "Machhlishahr",
          "Machilipatnam",
          "Madha",
          "Madhepura",
          "Madhubani",
          "Mahabubabad",
          "Maharajganj",
          "Maharajganj",
          "Mahbubnagar",
          "Mahesana",
          "Mainpuri",
          "Malappuram",
          "Maldaha Dakshin",
          "Maldaha Uttar",
          "Malkajgiri",
          "Mandya",
          "Mathura",
          "Mathurapur",
          "Maval",
          "Mavelikkara",
          "Mayurbhanj",
          "Medak",
          "Medinipur",
          "Meerut",
          "Mirzapur",
          "Misrikh",
          "Mohanlalganj",
          "Moradabad",
          "Mumbai North",
          "Mumbai North Central",
          "Mumbai North East",
          "Mumbai North West",
          "Mumbai South",
          "Mumbai South Central",
          "Munger",
          "Murshidabad",
          "Muzaffarnagar",
          "Muzaffarpur",
          "Mysore",
          "NAGAPATTINAM",
          "NAGAUR",
          "NAMAKKAL",
          "NILGIRIS",
          "Nabarangpur",
          "Nagaland",
          "Nagaon",
          "Nagarkurnool",
          "Nagina",
          "Nagpur",
          "Nainital-Udhamsingh Nagar",
          "Nalanda",
          "Nalgonda",
          "Nanded",
          "Nandurbar",
          "Nandyal",
          "Narsapuram",
          "Narsaraopet",
          "Nashik",
          "Navsari",
          "Nawada",
          "Nellore",
          "New Delhi",
          "Nizamabad",
          "North Goa",
          "North-East Delhi",
          "North-West Delhi",
          "Ongole",
          "Osmanabad",
          "Outer Manipur",
          "PALI",
          "PERAMBALUR",
          "POLLACHI",
          "PUDUCHERRY",
          "Palakkad",
          "Palamu",
          "Palghar",
          "Panchmahal",
          "Parbhani",
          "Paschim Champaran",
          "Patan",
          "Pathanamthitta",
          "Patiala",
          "Patliputra",
          "Patna Sahib",
          "Peddapalle",
          "Phulpur",
          "Pilibhit",
          "Ponnani",
          "Porbandar",
          "Pratapgarh",
          "Pune",
          "Puri",
          "Purnia",
          "Purulia",
          "Purvi Champaran",
          "RAIGARH",
          "RAIPUR",
          "RAJGARH",
          "RAJNANDGAON",
          "RAJSAMAND",
          "RAMANATHAPURAM",
          "RATLAM",
          "REWA",
          "ROHTAK",
          "Rae Bareli",
          "Raichur",
          "Raigad",
          "Raiganj",
          "Rajahmundry",
          "Rajampet",
          "Rajkot",
          "Rajmahal",
          "Rampur",
          "Ramtek",
          "Ranaghat",
          "Ranchi",
          "Ratnagiri- Sindhudurg",
          "Raver",
          "Robertsganj",
          "SAGAR",
          "SALEM",
          "SATNA",
          "SHAHDOL",
          "SHIMLA",
          "SIDHI",
          "SIKAR",
          "SIRSA",
          "SIVAGANGA",
          "SONIPAT",
          "SRINAGAR",
          "SRIPERUMBUDUR",
          "SURGUJA",
          "Sabarkantha",
          "Saharanpur",
          "Salempur",
          "Samastipur",
          "Sambalpur",
          "Sambhal",
          "Sangli",
          "Sangrur",
          "Sant Kabir Nagar",
          "Saran",
          "Sasaram",
          "Satara",
          "Secunderabad",
          "Shahjahanpur",
          "Sheohar",
          "Shillong",
          "Shimoga",
          "Shirdi",
          "Shirur",
          "Shrawasti",
          "Sikkim",
          "Silchar",
          "Singhbhum",
          "Sitamarhi",
          "Sitapur",
          "Siwan",
          "Solapur",
          "Sonitpur",
          "South Delhi",
          "South Goa",
          "Sreerampur",
          "Srikakulam",
          "Sultanpur",
          "Sundargarh",
          "Supaul",
          "Surendranagar",
          "TENKASI",
          "THANJAVUR",
          "THENI",
          "THOOTHUKKUDI",
          "TIKAMGARH",
          "TIRUCHIRAPPALLI",
          "TIRUNELVELI",
          "TIRUPPUR",
          "TIRUVALLUR",
          "TIRUVANNAMALAI",
          "TONK-SAWAI MADHOPUR",
          "Tamluk",
          "Tehri Garhwal",
          "Thane",
          "Thirupathi",
          "Thiruvananthapuram",
          "Thrissur",
          "Tripura East",
          "Tripura West",
          "Tumkur",
          "Tura",
          "UDAIPUR",
          "UDHAMPUR",
          "UJJAIN",
          "Udupi Chikmagalur",
          "Ujiarpur",
          "Uluberia",
          "Unnao",
          "Uttara Kannada",
          "VELLORE",
          "VIDISHA",
          "VILUPPURAM",
          "VIRUDHUNAGAR",
          "Vadakara",
          "Vadodara",
          "Vaishali",
          "Valmiki Nagar",
          "Valsad",
          "Varanasi",
          "Vijayawada",
          "Visakhapatnam",
          "Vizianagaram",
          "Warangal",
          "Wardha",
          "Wayanad",
          "West Delhi",
          "Yavatmal- Washim",
          "Zahirabad",
          "Andaman & Nicobar Islands",
          "Andhra Pradesh",
          "Arunachal Pradesh",
          "Assam",
          "Bihar",
          "Chandigarh",
          "Chhattisgarh",
          "Dadra & Nagar Haveli and Daman & Diu",
          "Goa",
          "Gujarat",
          "Haryana",
          "Himachal Pradesh",
          "Jammu and Kashmir",
          "Jharkhand",
          "Karnataka",
          "Kerala",
          "Ladakh",
          "Lakshadweep",
          "Madhya Pradesh",
          "Maharashtra",
          "Manipur",
          "Meghalaya",
          "Mizoram",
          "NCT OF Delhi",
          "Nagaland",
          "Odisha",
          "Puducherry",
          "Punjab",
          "Rajasthan",
          "Sikkim",
          "Tamil Nadu",
          "Telangana",
          "Tripura",
          "Uttar Pradesh",
          "Uttarakhand",
          "West Bengal"
         ],
         "marker": {
          "coloraxis": "coloraxis",
          "colors": [
           1999399,
           2075093,
           2003510,
           1849517,
           1568140,
           1499659,
           1652394,
           2075821,
           2040263,
           1727645,
           1988934,
           1875912,
           1894657,
           1406689,
           1340183,
           2002868,
           1778463,
           1828159,
           1368432,
           1532229,
           1913756,
           1798715,
           1838767,
           1733367,
           1617542,
           1720677,
           1601365,
           1780709,
           1740606,
           1769264,
           315745,
           1893622,
           1557153,
           1885001,
           2019757,
           2183625,
           378357,
           520085,
           1771875,
           1623404,
           1401114,
           1875809,
           2061220,
           1871946,
           1875760,
           2200607,
           1744525,
           2208630,
           1473810,
           1897989,
           2124971,
           2148657,
           1913389,
           1821764,
           2339411,
           2050748,
           2103937,
           2010304,
           1810090,
           1665208,
           1839281,
           1789424,
           1610043,
           1936995,
           1563941,
           1963312,
           1749034,
           3215291,
           2802956,
           2341895,
           2434254,
           1841292,
           1859967,
           1785138,
           1825711,
           1511177,
           1919282,
           2374884,
           1907604,
           1803240,
           1853336,
           2048788,
           1926167,
           1633893,
           1979051,
           1512101,
           1805874,
           1904843,
           1659163,
           2147063,
           2200435,
           1931746,
           1884472,
           1595228,
           2039941,
           1773928,
           1988207,
           1830399,
           1723670,
           1918394,
           2087604,
           1809241,
           1675019,
           1894364,
           1947976,
           1743213,
           1859447,
           1758481,
           1803544,
           1842192,
           1867981,
           1787095,
           1934352,
           1350334,
           1496459,
           2023381,
           1634721,
           1520970,
           2170738,
           2222213,
           2106500,
           1413170,
           1311257,
           1778667,
           1850547,
           660552,
           1646467,
           1839760,
           1692698,
           2939057,
           1822437,
           1981767,
           1770523,
           1857385,
           1643593,
           1970743,
           1574979,
           1926000,
           1903520,
           1943559,
           1955117,
           1526799,
           1608624,
           2092551,
           283035,
           1876247,
           1818127,
           134201,
           1782853,
           1776898,
           2214516,
           1709809,
           1877227,
           2290354,
           1834015,
           1719979,
           1533702,
           2663987,
           2025275,
           1881552,
           1661998,
           1857924,
           902050,
           1962205,
           1700882,
           1592192,
           1538960,
           2121610,
           1638116,
           1324757,
           1703935,
           1834489,
           2436637,
           1929399,
           1599861,
           1751985,
           1557201,
           1942597,
           1807314,
           1896052,
           1674979,
           2103968,
           1890695,
           2584982,
           2160206,
           1618690,
           2183402,
           1404233,
           2681482,
           1821330,
           1942313,
           2948720,
           2088636,
           2090637,
           1866763,
           2030444,
           1843873,
           2027054,
           2101746,
           2098778,
           1793324,
           1627611,
           2039765,
           1456099,
           1799539,
           1858158,
           1972915,
           1841604,
           1911779,
           2041472,
           1738818,
           1946138,
           1818396,
           1794394,
           1942771,
           1658529,
           1819082,
           1860103,
           1618186,
           1769973,
           2217305,
           2527978,
           1251172,
           1001115,
           1898180,
           2288793,
           2194555,
           2297692,
           1818657,
           2058260,
           2030974,
           2097732,
           2138241,
           2034251,
           1703489,
           1678716,
           1548594,
           1655868,
           2010583,
           2000402,
           1969953,
           1889840,
           1818959,
           1871388,
           1910619,
           1807556,
           1979004,
           1845363,
           2005278,
           2162404,
           1782435,
           1732944,
           1796532,
           1569097,
           1749192,
           1524032,
           1659374,
           1566048,
           1980182,
           2109702,
           1430499,
           1998536,
           2112874,
           2046409,
           1620051,
           2088853,
           1627851,
           1799822,
           1943633,
           1641349,
           1727579,
           1906032,
           1634921,
           1702038,
           2082800,
           1340580,
           1993616,
           1363080,
           1664794,
           1797658,
           1888005,
           1414520,
           1798168,
           1455530,
           1834512,
           1912536,
           2053805,
           1795725,
           1589941,
           1680035,
           1843767,
           1631952,
           2008281,
           1871224,
           1329423,
           1830197,
           2207845,
           1494404,
           1728198,
           1942725,
           1850115,
           1505686,
           1330873,
           1867016,
           1481642,
           1256138,
           1432508,
           1762599,
           1724191,
           1876962,
           190576,
           1580500,
           57953,
           1841110,
           1980409,
           1448225,
           2173953,
           1760756,
           1583250,
           1763698,
           1377173,
           2103244,
           1900808,
           1546075,
           861327,
           2015928,
           1943763,
           1540045,
           1996298,
           2073608,
           1936759,
           1533858,
           1942449,
           2007065,
           1683709,
           1772048,
           1798051,
           1480714,
           1784407,
           1864285,
           3780453,
           1780149,
           1939130,
           1818113,
           2585776,
           1339159,
           1546274,
           1828717,
           1813205,
           2005669,
           1909448,
           1879798,
           2189866,
           2062642,
           1812115,
           1744297,
           1637292,
           1735295,
           1536443,
           1474660,
           2051829,
           1890589,
           1823717,
           1869072,
           2094310,
           1345708,
           2155502,
           1452952,
           1428889,
           1514610,
           1325383,
           1821023,
           1739310,
           1647310,
           2224282,
           2026438,
           2293994,
           1726204,
           1853532,
           1971324,
           1724191,
           1473811,
           1736162,
           2033175,
           2223804,
           2010286,
           1712840,
           1526694,
           1705591,
           580710,
           2464397,
           2569274,
           1614525,
           1996484,
           1050242,
           2348274,
           1447197,
           1597717,
           1024024,
           1400914,
           2248082,
           2148850,
           1898234,
           2124497,
           1759234,
           2021772,
           1433956,
           1811580,
           2080613,
           2295527,
           1597892,
           2071536,
           1833961,
           1471260,
           1769594,
           1836748,
           2062172,
           1589698,
           1895036,
           1825625,
           1793440,
           1840847,
           2376030,
           1876672,
           1869229,
           2064478,
           1619761,
           2095109,
           1859439,
           1913628,
           1788731,
           2010441,
           1669722,
           1791574,
           1623852,
           1667385,
           2112726,
           1705708,
           1733243,
           2050952,
           1877599,
           2202528,
           1452664,
           1823827,
           1780728,
           1746640,
           1659269,
           1708823,
           1778158,
           1354665,
           2030095,
           2232334,
           1941319,
           1635655,
           1777008,
           1748803,
           2382578,
           1820880,
           1980797,
           1857816,
           1784412,
           1820016,
           1501538,
           1899292,
           1874176,
           1563808,
           2076050,
           1800790,
           1914914,
           1899325,
           2120550,
           2333143,
           1834437,
           1402892,
           1753615,
           1680067,
           2541750,
           1980743,
           466643,
           1374559,
           1449471,
           1950028,
           1760367,
           1901956,
           2031921,
           1638992,
           2293698,
           598934,
           1928256,
           1646686,
           1855602,
           1579096,
           1928887,
           2035001,
           1529130,
           1502056,
           1630328,
           1461182,
           1827976,
           1554620,
           1656265,
           1608720,
           2086686,
           1536993,
           2150616,
           1853363,
           1590526,
           2508072,
           1730318,
           1434657,
           1483783,
           1401443,
           1469453,
           1661834,
           827559,
           2231240,
           1640846,
           1800347,
           1585721,
           1748377,
           1742388,
           2344843,
           1645721,
           1534347,
           1946631,
           1503959,
           1505927,
           1424792,
           1950123,
           1871877,
           1829052,
           1860207,
           1999861,
           1704469,
           1931398,
           1590994,
           1825492,
           1684292,
           1464472,
           2592498,
           1942461,
           1642425,
           315745,
           1682046.6187881317,
           470053.6532489937,
           1883785.389906961,
           1960003.6658251581,
           660552,
           2002274.1402614727,
           223654.73571614834,
           589962.7688149984,
           1948091.7270437204,
           2050875.997067518,
           1442229.4490797096,
           1772698.25336254,
           1934175.6846856098,
           2045404.2308809035,
           1391124.2645312077,
           190576,
           57953,
           1986281.5951437785,
           2014539.6503487702,
           1021333.2474115022,
           1240498.1634678845,
           861327,
           2279534.564915832,
           1325383,
           1613175.2799283194,
           1024024,
           1673258.6679781042,
           2160622.5008472227,
           466643,
           1641333.4956850691,
           2105875.8459700746,
           1436253.560372093,
           1968408.187285607,
           1762478.2075254251,
           1814754.938498397
          ]
         },
         "name": "",
         "parents": [
          "Rajasthan",
          "Rajasthan",
          "Haryana",
          "Jammu and Kashmir",
          "Tamil Nadu",
          "Tamil Nadu",
          "Telangana",
          "Uttar Pradesh",
          "Gujarat",
          "Gujarat",
          "Maharashtra",
          "Uttar Pradesh",
          "Maharashtra",
          "Kerala",
          "Kerala",
          "Uttar Pradesh",
          "West Bengal",
          "Uttar Pradesh",
          "Uttarakhand",
          "Andhra Pradesh",
          "Uttar Pradesh",
          "Uttar Pradesh",
          "Maharashtra",
          "Gujarat",
          "Punjab",
          "Uttar Pradesh",
          "Andhra Pradesh",
          "Gujarat",
          "Punjab",
          "Andhra Pradesh",
          "Andaman & Nicobar Islands",
          "Uttar Pradesh",
          "Andhra Pradesh",
          "West Bengal",
          "Bihar",
          "Bihar",
          "Arunachal Pradesh",
          "Arunachal Pradesh",
          "West Bengal",
          "Odisha",
          "Kerala",
          "Bihar",
          "Maharashtra",
          "Uttar Pradesh",
          "Madhya Pradesh",
          "Rajasthan",
          "Jammu and Kashmir",
          "Rajasthan",
          "Chhattisgarh",
          "Madhya Pradesh",
          "Rajasthan",
          "Rajasthan",
          "Madhya Pradesh",
          "Haryana",
          "Madhya Pradesh",
          "Rajasthan",
          "Chhattisgarh",
          "Uttar Pradesh",
          "Karnataka",
          "Uttar Pradesh",
          "Uttar Pradesh",
          "West Bengal",
          "Odisha",
          "Uttar Pradesh",
          "West Bengal",
          "Gujarat",
          "Uttar Pradesh",
          "Karnataka",
          "Karnataka",
          "Karnataka",
          "Karnataka",
          "West Bengal",
          "Bihar",
          "West Bengal",
          "Uttar Pradesh",
          "Andhra Pradesh",
          "Uttar Pradesh",
          "Maharashtra",
          "West Bengal",
          "West Bengal",
          "West Bengal",
          "Gujarat",
          "Uttar Pradesh",
          "Odisha",
          "Assam",
          "West Bengal",
          "West Bengal",
          "Uttar Pradesh",
          "Punjab",
          "Maharashtra",
          "Bihar",
          "Karnataka",
          "Karnataka",
          "Odisha",
          "Uttar Pradesh",
          "Odisha",
          "Bihar",
          "Maharashtra",
          "Gujarat",
          "Gujarat",
          "Maharashtra",
          "Telangana",
          "Odisha",
          "Karnataka",
          "Karnataka",
          "Uttar Pradesh",
          "West Bengal",
          "West Bengal",
          "Odisha",
          "West Bengal",
          "Uttar Pradesh",
          "Maharashtra",
          "Bihar",
          "Tamil Nadu",
          "Tamil Nadu",
          "Tamil Nadu",
          "Madhya Pradesh",
          "Tamil Nadu",
          "Rajasthan",
          "Rajasthan",
          "Tamil Nadu",
          "Tamil Nadu",
          "Kerala",
          "Karnataka",
          "Uttar Pradesh",
          "Chandigarh",
          "NCT OF Delhi",
          "Maharashtra",
          "Jharkhand",
          "Telangana",
          "Gujarat",
          "Karnataka",
          "Karnataka",
          "Karnataka",
          "Andhra Pradesh",
          "West Bengal",
          "Odisha",
          "Madhya Pradesh",
          "Rajasthan",
          "Madhya Pradesh",
          "Madhya Pradesh",
          "Tamil Nadu",
          "Tamil Nadu",
          "Chhattisgarh",
          "Dadra & Nagar Haveli and Daman & Diu",
          "Gujarat",
          "Karnataka",
          "Dadra & Nagar Haveli and Daman & Diu",
          "Bihar",
          "West Bengal",
          "Assam",
          "Karnataka",
          "Uttar Pradesh",
          "Jharkhand",
          "Karnataka",
          "Uttar Pradesh",
          "Odisha",
          "Assam",
          "Maharashtra",
          "West Bengal",
          "Assam",
          "Maharashtra",
          "Assam",
          "Uttar Pradesh",
          "West Bengal",
          "Jharkhand",
          "Tamil Nadu",
          "NCT OF Delhi",
          "Andhra Pradesh",
          "Kerala",
          "Uttar Pradesh",
          "Uttar Pradesh",
          "Haryana",
          "Uttar Pradesh",
          "Punjab",
          "Uttar Pradesh",
          "Punjab",
          "Uttar Pradesh",
          "Uttar Pradesh",
          "Uttar Pradesh",
          "Punjab",
          "Rajasthan",
          "Madhya Pradesh",
          "Haryana",
          "Madhya Pradesh",
          "Maharashtra",
          "Gujarat",
          "Uttarakhand",
          "Uttar Pradesh",
          "Bihar",
          "West Bengal",
          "Uttar Pradesh",
          "Uttar Pradesh",
          "Uttar Pradesh",
          "Jharkhand",
          "Jharkhand",
          "Uttar Pradesh",
          "Bihar",
          "Uttar Pradesh",
          "Karnataka",
          "Andhra Pradesh",
          "Punjab",
          "Assam",
          "Himachal Pradesh",
          "Haryana",
          "Madhya Pradesh",
          "Bihar",
          "Uttar Pradesh",
          "Uttar Pradesh",
          "Uttarakhand",
          "Karnataka",
          "Uttar Pradesh",
          "Maharashtra",
          "Karnataka",
          "Jharkhand",
          "Andhra Pradesh",
          "Maharashtra",
          "West Bengal",
          "Punjab",
          "West Bengal",
          "Telangana",
          "Madhya Pradesh",
          "Kerala",
          "Manipur",
          "Madhya Pradesh",
          "Rajasthan",
          "Rajasthan",
          "Rajasthan",
          "Jammu and Kashmir",
          "Chhattisgarh",
          "Rajasthan",
          "Rajasthan",
          "Rajasthan",
          "West Bengal",
          "Odisha",
          "Bihar",
          "Odisha",
          "Punjab",
          "Uttar Pradesh",
          "Maharashtra",
          "Maharashtra",
          "West Bengal",
          "Gujarat",
          "Jharkhand",
          "Bihar",
          "West Bengal",
          "Uttar Pradesh",
          "West Bengal",
          "Bihar",
          "Uttar Pradesh",
          "West Bengal",
          "Assam",
          "Gujarat",
          "Tamil Nadu",
          "Tamil Nadu",
          "Himachal Pradesh",
          "Chhattisgarh",
          "Tamil Nadu",
          "Rajasthan",
          "Haryana",
          "Tamil Nadu",
          "Madhya Pradesh",
          "Madhya Pradesh",
          "Madhya Pradesh",
          "Chhattisgarh",
          "Rajasthan",
          "Tamil Nadu",
          "Haryana",
          "Gujarat",
          "Andhra Pradesh",
          "Uttar Pradesh",
          "Uttar Pradesh",
          "Andhra Pradesh",
          "Odisha",
          "Maharashtra",
          "Odisha",
          "Uttar Pradesh",
          "Kerala",
          "Uttar Pradesh",
          "West Bengal",
          "Bihar",
          "Assam",
          "Telangana",
          "Kerala",
          "Bihar",
          "Uttar Pradesh",
          "Assam",
          "Odisha",
          "Odisha",
          "Punjab",
          "Bihar",
          "Telangana",
          "Gujarat",
          "Uttar Pradesh",
          "Jharkhand",
          "Bihar",
          "Jharkhand",
          "Assam",
          "Karnataka",
          "Maharashtra",
          "West Bengal",
          "West Bengal",
          "Kerala",
          "Karnataka",
          "Odisha",
          "Kerala",
          "Kerala",
          "West Bengal",
          "Andhra Pradesh",
          "Uttar Pradesh",
          "Ladakh",
          "Assam",
          "Lakshadweep",
          "Uttar Pradesh",
          "Maharashtra",
          "Jharkhand",
          "Uttar Pradesh",
          "Punjab",
          "Tamil Nadu",
          "Chhattisgarh",
          "Himachal Pradesh",
          "Madhya Pradesh",
          "Madhya Pradesh",
          "Tamil Nadu",
          "Mizoram",
          "Madhya Pradesh",
          "Uttar Pradesh",
          "Andhra Pradesh",
          "Maharashtra",
          "Bihar",
          "Bihar",
          "Telangana",
          "Bihar",
          "Uttar Pradesh",
          "Telangana",
          "Gujarat",
          "Uttar Pradesh",
          "Kerala",
          "West Bengal",
          "West Bengal",
          "Telangana",
          "Karnataka",
          "Uttar Pradesh",
          "West Bengal",
          "Maharashtra",
          "Kerala",
          "Odisha",
          "Telangana",
          "West Bengal",
          "Uttar Pradesh",
          "Uttar Pradesh",
          "Uttar Pradesh",
          "Uttar Pradesh",
          "Uttar Pradesh",
          "Maharashtra",
          "Maharashtra",
          "Maharashtra",
          "Maharashtra",
          "Maharashtra",
          "Maharashtra",
          "Bihar",
          "West Bengal",
          "Uttar Pradesh",
          "Bihar",
          "Karnataka",
          "Tamil Nadu",
          "Rajasthan",
          "Tamil Nadu",
          "Tamil Nadu",
          "Odisha",
          "Nagaland",
          "Assam",
          "Telangana",
          "Uttar Pradesh",
          "Maharashtra",
          "Uttarakhand",
          "Bihar",
          "Telangana",
          "Maharashtra",
          "Maharashtra",
          "Andhra Pradesh",
          "Andhra Pradesh",
          "Andhra Pradesh",
          "Maharashtra",
          "Gujarat",
          "Bihar",
          "Andhra Pradesh",
          "NCT OF Delhi",
          "Telangana",
          "Goa",
          "NCT OF Delhi",
          "NCT OF Delhi",
          "Andhra Pradesh",
          "Maharashtra",
          "Manipur",
          "Rajasthan",
          "Tamil Nadu",
          "Tamil Nadu",
          "Puducherry",
          "Kerala",
          "Jharkhand",
          "Maharashtra",
          "Gujarat",
          "Maharashtra",
          "Bihar",
          "Gujarat",
          "Kerala",
          "Punjab",
          "Bihar",
          "Bihar",
          "Telangana",
          "Uttar Pradesh",
          "Uttar Pradesh",
          "Kerala",
          "Gujarat",
          "Uttar Pradesh",
          "Maharashtra",
          "Odisha",
          "Bihar",
          "West Bengal",
          "Bihar",
          "Chhattisgarh",
          "Chhattisgarh",
          "Madhya Pradesh",
          "Chhattisgarh",
          "Rajasthan",
          "Tamil Nadu",
          "Madhya Pradesh",
          "Madhya Pradesh",
          "Haryana",
          "Uttar Pradesh",
          "Karnataka",
          "Maharashtra",
          "West Bengal",
          "Andhra Pradesh",
          "Andhra Pradesh",
          "Gujarat",
          "Jharkhand",
          "Uttar Pradesh",
          "Maharashtra",
          "West Bengal",
          "Jharkhand",
          "Maharashtra",
          "Maharashtra",
          "Uttar Pradesh",
          "Madhya Pradesh",
          "Tamil Nadu",
          "Madhya Pradesh",
          "Madhya Pradesh",
          "Himachal Pradesh",
          "Madhya Pradesh",
          "Rajasthan",
          "Haryana",
          "Tamil Nadu",
          "Haryana",
          "Jammu and Kashmir",
          "Tamil Nadu",
          "Chhattisgarh",
          "Gujarat",
          "Uttar Pradesh",
          "Uttar Pradesh",
          "Bihar",
          "Odisha",
          "Uttar Pradesh",
          "Maharashtra",
          "Punjab",
          "Uttar Pradesh",
          "Bihar",
          "Bihar",
          "Maharashtra",
          "Telangana",
          "Uttar Pradesh",
          "Bihar",
          "Meghalaya",
          "Karnataka",
          "Maharashtra",
          "Maharashtra",
          "Uttar Pradesh",
          "Sikkim",
          "Assam",
          "Jharkhand",
          "Bihar",
          "Uttar Pradesh",
          "Bihar",
          "Maharashtra",
          "Assam",
          "NCT OF Delhi",
          "Goa",
          "West Bengal",
          "Andhra Pradesh",
          "Uttar Pradesh",
          "Odisha",
          "Bihar",
          "Gujarat",
          "Tamil Nadu",
          "Tamil Nadu",
          "Tamil Nadu",
          "Tamil Nadu",
          "Madhya Pradesh",
          "Tamil Nadu",
          "Tamil Nadu",
          "Tamil Nadu",
          "Tamil Nadu",
          "Tamil Nadu",
          "Rajasthan",
          "West Bengal",
          "Uttarakhand",
          "Maharashtra",
          "Andhra Pradesh",
          "Kerala",
          "Kerala",
          "Tripura",
          "Tripura",
          "Karnataka",
          "Meghalaya",
          "Rajasthan",
          "Jammu and Kashmir",
          "Madhya Pradesh",
          "Karnataka",
          "Bihar",
          "West Bengal",
          "Uttar Pradesh",
          "Karnataka",
          "Tamil Nadu",
          "Madhya Pradesh",
          "Tamil Nadu",
          "Tamil Nadu",
          "Kerala",
          "Gujarat",
          "Bihar",
          "Bihar",
          "Gujarat",
          "Uttar Pradesh",
          "Andhra Pradesh",
          "Andhra Pradesh",
          "Andhra Pradesh",
          "Telangana",
          "Maharashtra",
          "Kerala",
          "NCT OF Delhi",
          "Maharashtra",
          "Telangana",
          "",
          "",
          "",
          "",
          "",
          "",
          "",
          "",
          "",
          "",
          "",
          "",
          "",
          "",
          "",
          "",
          "",
          "",
          "",
          "",
          "",
          "",
          "",
          "",
          "",
          "",
          "",
          "",
          "",
          "",
          "",
          "",
          "",
          "",
          "",
          ""
         ],
         "type": "sunburst",
         "values": [
          27991586,
          18675837,
          28049140,
          36990340,
          40771640,
          43490111,
          19828728,
          22834031,
          36724734,
          10365870,
          49723350,
          16883208,
          28419855,
          15473579,
          6700915,
          28040152,
          19563093,
          25594226,
          9579024,
          22983435,
          15310048,
          23383295,
          68034379,
          13866936,
          48526260,
          20648124,
          24020475,
          12464963,
          48736968,
          37154544,
          3788940,
          17042598,
          20242989,
          18850010,
          18177813,
          30570750,
          2270142,
          4160680,
          12403125,
          11363828,
          9807798,
          16882281,
          76265140,
          16847514,
          24384880,
          17604856,
          38379550,
          24294930,
          16211910,
          15183912,
          12749826,
          21486570,
          13393723,
          30969988,
          51467042,
          18456732,
          77845669,
          22113344,
          39821980,
          11656456,
          18392810,
          26841360,
          17710473,
          25180935,
          20331233,
          23559744,
          20988408,
          67521111,
          42044340,
          51521690,
          58422096,
          27619380,
          18599670,
          23206794,
          14605688,
          22667655,
          24950666,
          90245592,
          22891248,
          12622680,
          14826688,
          6146364,
          25040171,
          11437251,
          27706714,
          21169414,
          27088110,
          17143587,
          29864934,
          88029583,
          22004350,
          25112698,
          18844720,
          17547508,
          20399410,
          14191424,
          23858484,
          32947182,
          22407710,
          24939122,
          56365308,
          70560399,
          20100228,
          34098552,
          15583808,
          19175343,
          22313364,
          12309367,
          18035440,
          14737536,
          11207886,
          37528995,
          27080928,
          41860354,
          52376065,
          82958621,
          24520815,
          21293580,
          39073284,
          28888769,
          77940500,
          26850230,
          14423827,
          24901338,
          18505470,
          12550488,
          41161675,
          27596400,
          37239356,
          126379451,
          10934622,
          57471243,
          31869414,
          37147700,
          31228267,
          27590402,
          15749790,
          26964000,
          9517600,
          15548472,
          13685819,
          36643176,
          24129360,
          52313775,
          1415175,
          16886223,
          16363143,
          939407,
          14262824,
          24876572,
          24359676,
          51294270,
          13140589,
          57258850,
          31178255,
          20639748,
          15337020,
          34631831,
          36454950,
          22578624,
          4985994,
          18579240,
          4510250,
          11773230,
          23812348,
          30251648,
          47707760,
          42432200,
          21295508,
          13247570,
          17039350,
          12841423,
          58479288,
          25082187,
          44796108,
          14015880,
          21800814,
          29138955,
          16265826,
          13272364,
          48574391,
          18935712,
          28360425,
          59454586,
          41043914,
          16186900,
          30567628,
          18255029,
          40222230,
          25498620,
          13596191,
          41282080,
          20886360,
          58537836,
          29868208,
          38578436,
          14750984,
          22297594,
          27322698,
          29382892,
          53799720,
          42317886,
          16318120,
          17473188,
          50387092,
          22297896,
          27620810,
          20257644,
          22941348,
          28580608,
          26082270,
          19461380,
          49096692,
          25121516,
          33027107,
          21560877,
          60029706,
          22321236,
          25890976,
          24779622,
          66519150,
          35391692,
          8758204,
          6006690,
          36065420,
          29754309,
          32918325,
          27572304,
          40010454,
          37048680,
          14216818,
          16781856,
          32073615,
          32548016,
          18738379,
          25180740,
          20131722,
          33117360,
          12063498,
          28005628,
          51218778,
          22678080,
          25465426,
          46784700,
          13374333,
          25305784,
          27706056,
          20298993,
          20052780,
          21624040,
          23171655,
          6931776,
          19761852,
          32951037,
          19241112,
          15240320,
          14934366,
          34453056,
          7920728,
          40084338,
          77246946,
          27979504,
          23241614,
          10232045,
          43741377,
          31332795,
          43951977,
          55794482,
          21379963,
          22978886,
          24186106,
          7624128,
          24523815,
          18722418,
          58318400,
          10724640,
          29904240,
          16356960,
          18312734,
          16178922,
          24544065,
          33948480,
          50348704,
          13099770,
          16510608,
          19125360,
          22591855,
          17957250,
          17489351,
          45360945,
          22125204,
          57118320,
          24099372,
          20583464,
          9305961,
          21962364,
          33117675,
          17932848,
          31107564,
          44682675,
          31451955,
          22585290,
          15970476,
          35473304,
          16298062,
          17585932,
          18622604,
          19388589,
          32759629,
          16892658,
          571728,
          14224500,
          231812,
          12887770,
          55451452,
          21723375,
          21739530,
          75712508,
          33248250,
          29982866,
          13771730,
          29445416,
          15206464,
          26283275,
          5167962,
          30238920,
          23325156,
          23100675,
          63881536,
          16588864,
          23241108,
          35278734,
          9712245,
          16056520,
          52194979,
          10632288,
          14384408,
          11845712,
          30334919,
          27964275,
          83169966,
          24922086,
          29086950,
          21817356,
          85330608,
          12052431,
          20101562,
          80463548,
          16318845,
          16045352,
          19094480,
          16918182,
          24088526,
          24751704,
          34430185,
          47096019,
          32745840,
          36441195,
          21510202,
          22119900,
          24621948,
          20796479,
          20060887,
          48595872,
          37697580,
          12111372,
          19399518,
          58118080,
          22862224,
          6058440,
          3976149,
          23673299,
          33046890,
          9883860,
          57831332,
          20264380,
          66525826,
          37976488,
          42631236,
          21684564,
          53449921,
          30950031,
          26042430,
          63028425,
          31133256,
          16082288,
          23979760,
          25953798,
          49462139,
          4645680,
          69003116,
          66801124,
          40363125,
          61891004,
          4200968,
          30527562,
          33285531,
          23965755,
          26624624,
          14009140,
          20232738,
          21488500,
          15185872,
          72232898,
          14073872,
          20217720,
          11471648,
          47101080,
          45773486,
          39023959,
          67111464,
          31073040,
          18339610,
          11770080,
          21235128,
          47755448,
          72176020,
          11127886,
          13265252,
          21907500,
          21521280,
          23931011,
          90289140,
          28150080,
          28038435,
          20644780,
          40494025,
          25141308,
          26032146,
          49754328,
          14309848,
          16083528,
          21706386,
          35831480,
          19486224,
          30012930,
          19014534,
          23879912,
          10399458,
          57426656,
          13143193,
          59468256,
          13073976,
          43771848,
          21368736,
          22706320,
          41481725,
          32467637,
          17781580,
          6773325,
          34511615,
          31252676,
          36885061,
          32713100,
          39094176,
          41971272,
          73859918,
          18208800,
          27731158,
          18578160,
          16059708,
          21840192,
          21021532,
          22791504,
          37483520,
          35967584,
          22836550,
          25211060,
          19149140,
          30389200,
          95424750,
          23331430,
          22013244,
          8417352,
          40333145,
          33601340,
          81336000,
          23768916,
          6533002,
          10996472,
          20292594,
          27300392,
          14082936,
          24725428,
          42670341,
          13111936,
          50461356,
          4791472,
          21210816,
          21406918,
          16700418,
          12632768,
          28933305,
          28490014,
          22936950,
          18024672,
          40758200,
          40913096,
          12795832,
          54411700,
          38094095,
          20913360,
          29213604,
          47646783,
          23656776,
          16680267,
          17495786,
          60193728,
          39797314,
          17215884,
          13354047,
          12612987,
          13225077,
          29913012,
          3310236,
          17849920,
          19690152,
          16203123,
          15857210,
          22728901,
          20908656,
          18758744,
          21394373,
          47564757,
          25306203,
          25567303,
          40660029,
          14247920,
          27301722,
          28078155,
          18290520,
          13021449,
          13999027,
          28975973,
          63736134,
          23864910,
          76670664,
          40423008,
          13180248,
          62219952,
          33021837,
          31206075,
          3788940,
          760382145,
          6430822,
          255923751,
          967900555,
          12550488,
          432546029,
          2354582,
          9437152,
          513533670,
          448952479,
          53258563,
          177041768,
          461028816,
          936564838,
          269194745,
          571728,
          231812,
          725747817,
          2224797509,
          10207658,
          11727588,
          5167962,
          358033221,
          3976149,
          332476972,
          26624624,
          547767814,
          573577684,
          6533002,
          1528993329,
          1032760449,
          25838064,
          1655314624,
          94174827,
          916849467
         ]
        }
       ],
       "layout": {
        "coloraxis": {
         "colorbar": {
          "title": {
           "text": "TOTAL ELECTORS"
          }
         },
         "colorscale": [
          [
           0,
           "rgb(236, 218, 154)"
          ],
          [
           0.16666666666666666,
           "rgb(239, 196, 126)"
          ],
          [
           0.3333333333333333,
           "rgb(243, 173, 106)"
          ],
          [
           0.5,
           "rgb(247, 148, 93)"
          ],
          [
           0.6666666666666666,
           "rgb(249, 123, 87)"
          ],
          [
           0.8333333333333334,
           "rgb(246, 99, 86)"
          ],
          [
           1,
           "rgb(238, 77, 90)"
          ]
         ]
        },
        "font": {
         "color": "#351f39",
         "family": "Courier New"
        },
        "legend": {
         "tracegroupgap": 0
        },
        "margin": {
         "t": 60
        },
        "template": {
         "data": {
          "bar": [
           {
            "error_x": {
             "color": "#2a3f5f"
            },
            "error_y": {
             "color": "#2a3f5f"
            },
            "marker": {
             "line": {
              "color": "#E5ECF6",
              "width": 0.5
             },
             "pattern": {
              "fillmode": "overlay",
              "size": 10,
              "solidity": 0.2
             }
            },
            "type": "bar"
           }
          ],
          "barpolar": [
           {
            "marker": {
             "line": {
              "color": "#E5ECF6",
              "width": 0.5
             },
             "pattern": {
              "fillmode": "overlay",
              "size": 10,
              "solidity": 0.2
             }
            },
            "type": "barpolar"
           }
          ],
          "carpet": [
           {
            "aaxis": {
             "endlinecolor": "#2a3f5f",
             "gridcolor": "white",
             "linecolor": "white",
             "minorgridcolor": "white",
             "startlinecolor": "#2a3f5f"
            },
            "baxis": {
             "endlinecolor": "#2a3f5f",
             "gridcolor": "white",
             "linecolor": "white",
             "minorgridcolor": "white",
             "startlinecolor": "#2a3f5f"
            },
            "type": "carpet"
           }
          ],
          "choropleth": [
           {
            "colorbar": {
             "outlinewidth": 0,
             "ticks": ""
            },
            "type": "choropleth"
           }
          ],
          "contour": [
           {
            "colorbar": {
             "outlinewidth": 0,
             "ticks": ""
            },
            "colorscale": [
             [
              0,
              "#0d0887"
             ],
             [
              0.1111111111111111,
              "#46039f"
             ],
             [
              0.2222222222222222,
              "#7201a8"
             ],
             [
              0.3333333333333333,
              "#9c179e"
             ],
             [
              0.4444444444444444,
              "#bd3786"
             ],
             [
              0.5555555555555556,
              "#d8576b"
             ],
             [
              0.6666666666666666,
              "#ed7953"
             ],
             [
              0.7777777777777778,
              "#fb9f3a"
             ],
             [
              0.8888888888888888,
              "#fdca26"
             ],
             [
              1,
              "#f0f921"
             ]
            ],
            "type": "contour"
           }
          ],
          "contourcarpet": [
           {
            "colorbar": {
             "outlinewidth": 0,
             "ticks": ""
            },
            "type": "contourcarpet"
           }
          ],
          "heatmap": [
           {
            "colorbar": {
             "outlinewidth": 0,
             "ticks": ""
            },
            "colorscale": [
             [
              0,
              "#0d0887"
             ],
             [
              0.1111111111111111,
              "#46039f"
             ],
             [
              0.2222222222222222,
              "#7201a8"
             ],
             [
              0.3333333333333333,
              "#9c179e"
             ],
             [
              0.4444444444444444,
              "#bd3786"
             ],
             [
              0.5555555555555556,
              "#d8576b"
             ],
             [
              0.6666666666666666,
              "#ed7953"
             ],
             [
              0.7777777777777778,
              "#fb9f3a"
             ],
             [
              0.8888888888888888,
              "#fdca26"
             ],
             [
              1,
              "#f0f921"
             ]
            ],
            "type": "heatmap"
           }
          ],
          "heatmapgl": [
           {
            "colorbar": {
             "outlinewidth": 0,
             "ticks": ""
            },
            "colorscale": [
             [
              0,
              "#0d0887"
             ],
             [
              0.1111111111111111,
              "#46039f"
             ],
             [
              0.2222222222222222,
              "#7201a8"
             ],
             [
              0.3333333333333333,
              "#9c179e"
             ],
             [
              0.4444444444444444,
              "#bd3786"
             ],
             [
              0.5555555555555556,
              "#d8576b"
             ],
             [
              0.6666666666666666,
              "#ed7953"
             ],
             [
              0.7777777777777778,
              "#fb9f3a"
             ],
             [
              0.8888888888888888,
              "#fdca26"
             ],
             [
              1,
              "#f0f921"
             ]
            ],
            "type": "heatmapgl"
           }
          ],
          "histogram": [
           {
            "marker": {
             "pattern": {
              "fillmode": "overlay",
              "size": 10,
              "solidity": 0.2
             }
            },
            "type": "histogram"
           }
          ],
          "histogram2d": [
           {
            "colorbar": {
             "outlinewidth": 0,
             "ticks": ""
            },
            "colorscale": [
             [
              0,
              "#0d0887"
             ],
             [
              0.1111111111111111,
              "#46039f"
             ],
             [
              0.2222222222222222,
              "#7201a8"
             ],
             [
              0.3333333333333333,
              "#9c179e"
             ],
             [
              0.4444444444444444,
              "#bd3786"
             ],
             [
              0.5555555555555556,
              "#d8576b"
             ],
             [
              0.6666666666666666,
              "#ed7953"
             ],
             [
              0.7777777777777778,
              "#fb9f3a"
             ],
             [
              0.8888888888888888,
              "#fdca26"
             ],
             [
              1,
              "#f0f921"
             ]
            ],
            "type": "histogram2d"
           }
          ],
          "histogram2dcontour": [
           {
            "colorbar": {
             "outlinewidth": 0,
             "ticks": ""
            },
            "colorscale": [
             [
              0,
              "#0d0887"
             ],
             [
              0.1111111111111111,
              "#46039f"
             ],
             [
              0.2222222222222222,
              "#7201a8"
             ],
             [
              0.3333333333333333,
              "#9c179e"
             ],
             [
              0.4444444444444444,
              "#bd3786"
             ],
             [
              0.5555555555555556,
              "#d8576b"
             ],
             [
              0.6666666666666666,
              "#ed7953"
             ],
             [
              0.7777777777777778,
              "#fb9f3a"
             ],
             [
              0.8888888888888888,
              "#fdca26"
             ],
             [
              1,
              "#f0f921"
             ]
            ],
            "type": "histogram2dcontour"
           }
          ],
          "mesh3d": [
           {
            "colorbar": {
             "outlinewidth": 0,
             "ticks": ""
            },
            "type": "mesh3d"
           }
          ],
          "parcoords": [
           {
            "line": {
             "colorbar": {
              "outlinewidth": 0,
              "ticks": ""
             }
            },
            "type": "parcoords"
           }
          ],
          "pie": [
           {
            "automargin": true,
            "type": "pie"
           }
          ],
          "scatter": [
           {
            "fillpattern": {
             "fillmode": "overlay",
             "size": 10,
             "solidity": 0.2
            },
            "type": "scatter"
           }
          ],
          "scatter3d": [
           {
            "line": {
             "colorbar": {
              "outlinewidth": 0,
              "ticks": ""
             }
            },
            "marker": {
             "colorbar": {
              "outlinewidth": 0,
              "ticks": ""
             }
            },
            "type": "scatter3d"
           }
          ],
          "scattercarpet": [
           {
            "marker": {
             "colorbar": {
              "outlinewidth": 0,
              "ticks": ""
             }
            },
            "type": "scattercarpet"
           }
          ],
          "scattergeo": [
           {
            "marker": {
             "colorbar": {
              "outlinewidth": 0,
              "ticks": ""
             }
            },
            "type": "scattergeo"
           }
          ],
          "scattergl": [
           {
            "marker": {
             "colorbar": {
              "outlinewidth": 0,
              "ticks": ""
             }
            },
            "type": "scattergl"
           }
          ],
          "scattermapbox": [
           {
            "marker": {
             "colorbar": {
              "outlinewidth": 0,
              "ticks": ""
             }
            },
            "type": "scattermapbox"
           }
          ],
          "scatterpolar": [
           {
            "marker": {
             "colorbar": {
              "outlinewidth": 0,
              "ticks": ""
             }
            },
            "type": "scatterpolar"
           }
          ],
          "scatterpolargl": [
           {
            "marker": {
             "colorbar": {
              "outlinewidth": 0,
              "ticks": ""
             }
            },
            "type": "scatterpolargl"
           }
          ],
          "scatterternary": [
           {
            "marker": {
             "colorbar": {
              "outlinewidth": 0,
              "ticks": ""
             }
            },
            "type": "scatterternary"
           }
          ],
          "surface": [
           {
            "colorbar": {
             "outlinewidth": 0,
             "ticks": ""
            },
            "colorscale": [
             [
              0,
              "#0d0887"
             ],
             [
              0.1111111111111111,
              "#46039f"
             ],
             [
              0.2222222222222222,
              "#7201a8"
             ],
             [
              0.3333333333333333,
              "#9c179e"
             ],
             [
              0.4444444444444444,
              "#bd3786"
             ],
             [
              0.5555555555555556,
              "#d8576b"
             ],
             [
              0.6666666666666666,
              "#ed7953"
             ],
             [
              0.7777777777777778,
              "#fb9f3a"
             ],
             [
              0.8888888888888888,
              "#fdca26"
             ],
             [
              1,
              "#f0f921"
             ]
            ],
            "type": "surface"
           }
          ],
          "table": [
           {
            "cells": {
             "fill": {
              "color": "#EBF0F8"
             },
             "line": {
              "color": "white"
             }
            },
            "header": {
             "fill": {
              "color": "#C8D4E3"
             },
             "line": {
              "color": "white"
             }
            },
            "type": "table"
           }
          ]
         },
         "layout": {
          "annotationdefaults": {
           "arrowcolor": "#2a3f5f",
           "arrowhead": 0,
           "arrowwidth": 1
          },
          "autotypenumbers": "strict",
          "coloraxis": {
           "colorbar": {
            "outlinewidth": 0,
            "ticks": ""
           }
          },
          "colorscale": {
           "diverging": [
            [
             0,
             "#8e0152"
            ],
            [
             0.1,
             "#c51b7d"
            ],
            [
             0.2,
             "#de77ae"
            ],
            [
             0.3,
             "#f1b6da"
            ],
            [
             0.4,
             "#fde0ef"
            ],
            [
             0.5,
             "#f7f7f7"
            ],
            [
             0.6,
             "#e6f5d0"
            ],
            [
             0.7,
             "#b8e186"
            ],
            [
             0.8,
             "#7fbc41"
            ],
            [
             0.9,
             "#4d9221"
            ],
            [
             1,
             "#276419"
            ]
           ],
           "sequential": [
            [
             0,
             "#0d0887"
            ],
            [
             0.1111111111111111,
             "#46039f"
            ],
            [
             0.2222222222222222,
             "#7201a8"
            ],
            [
             0.3333333333333333,
             "#9c179e"
            ],
            [
             0.4444444444444444,
             "#bd3786"
            ],
            [
             0.5555555555555556,
             "#d8576b"
            ],
            [
             0.6666666666666666,
             "#ed7953"
            ],
            [
             0.7777777777777778,
             "#fb9f3a"
            ],
            [
             0.8888888888888888,
             "#fdca26"
            ],
            [
             1,
             "#f0f921"
            ]
           ],
           "sequentialminus": [
            [
             0,
             "#0d0887"
            ],
            [
             0.1111111111111111,
             "#46039f"
            ],
            [
             0.2222222222222222,
             "#7201a8"
            ],
            [
             0.3333333333333333,
             "#9c179e"
            ],
            [
             0.4444444444444444,
             "#bd3786"
            ],
            [
             0.5555555555555556,
             "#d8576b"
            ],
            [
             0.6666666666666666,
             "#ed7953"
            ],
            [
             0.7777777777777778,
             "#fb9f3a"
            ],
            [
             0.8888888888888888,
             "#fdca26"
            ],
            [
             1,
             "#f0f921"
            ]
           ]
          },
          "colorway": [
           "#636efa",
           "#EF553B",
           "#00cc96",
           "#ab63fa",
           "#FFA15A",
           "#19d3f3",
           "#FF6692",
           "#B6E880",
           "#FF97FF",
           "#FECB52"
          ],
          "font": {
           "color": "#2a3f5f"
          },
          "geo": {
           "bgcolor": "white",
           "lakecolor": "white",
           "landcolor": "#E5ECF6",
           "showlakes": true,
           "showland": true,
           "subunitcolor": "white"
          },
          "hoverlabel": {
           "align": "left"
          },
          "hovermode": "closest",
          "mapbox": {
           "style": "light"
          },
          "paper_bgcolor": "white",
          "plot_bgcolor": "#E5ECF6",
          "polar": {
           "angularaxis": {
            "gridcolor": "white",
            "linecolor": "white",
            "ticks": ""
           },
           "bgcolor": "#E5ECF6",
           "radialaxis": {
            "gridcolor": "white",
            "linecolor": "white",
            "ticks": ""
           }
          },
          "scene": {
           "xaxis": {
            "backgroundcolor": "#E5ECF6",
            "gridcolor": "white",
            "gridwidth": 2,
            "linecolor": "white",
            "showbackground": true,
            "ticks": "",
            "zerolinecolor": "white"
           },
           "yaxis": {
            "backgroundcolor": "#E5ECF6",
            "gridcolor": "white",
            "gridwidth": 2,
            "linecolor": "white",
            "showbackground": true,
            "ticks": "",
            "zerolinecolor": "white"
           },
           "zaxis": {
            "backgroundcolor": "#E5ECF6",
            "gridcolor": "white",
            "gridwidth": 2,
            "linecolor": "white",
            "showbackground": true,
            "ticks": "",
            "zerolinecolor": "white"
           }
          },
          "shapedefaults": {
           "line": {
            "color": "#2a3f5f"
           }
          },
          "ternary": {
           "aaxis": {
            "gridcolor": "white",
            "linecolor": "white",
            "ticks": ""
           },
           "baxis": {
            "gridcolor": "white",
            "linecolor": "white",
            "ticks": ""
           },
           "bgcolor": "#E5ECF6",
           "caxis": {
            "gridcolor": "white",
            "linecolor": "white",
            "ticks": ""
           }
          },
          "title": {
           "x": 0.05
          },
          "xaxis": {
           "automargin": true,
           "gridcolor": "white",
           "linecolor": "white",
           "ticks": "",
           "title": {
            "standoff": 15
           },
           "zerolinecolor": "white",
           "zerolinewidth": 2
          },
          "yaxis": {
           "automargin": true,
           "gridcolor": "white",
           "linecolor": "white",
           "ticks": "",
           "title": {
            "standoff": 15
           },
           "zerolinecolor": "white",
           "zerolinewidth": 2
          }
         }
        },
        "title": {
         "font": {
          "color": "#351f39",
          "family": "Courier New"
         },
         "text": "State and Constituency by total electors"
        },
        "xaxis": {
         "title": {
          "text": "Party"
         }
        },
        "yaxis": {
         "title": {
          "text": "Seats"
         }
        }
       }
      },
      "text/html": [
       "<div>                            <div id=\"2519af52-6178-4811-b991-44cd55f9ed14\" class=\"plotly-graph-div\" style=\"height:525px; width:100%;\"></div>            <script type=\"text/javascript\">                require([\"plotly\"], function(Plotly) {                    window.PLOTLYENV=window.PLOTLYENV || {};                                    if (document.getElementById(\"2519af52-6178-4811-b991-44cd55f9ed14\")) {                    Plotly.newPlot(                        \"2519af52-6178-4811-b991-44cd55f9ed14\",                        [{\"branchvalues\":\"total\",\"customdata\":[[1999399.0],[2075093.0],[2003510.0],[1849517.0],[1568140.0],[1499659.0],[1652394.0],[2075821.0],[2040263.0],[1727645.0],[1988934.0],[1875912.0],[1894657.0],[1406689.0],[1340183.0],[2002868.0],[1778463.0],[1828159.0],[1368432.0],[1532229.0],[1913756.0],[1798715.0],[1838767.0],[1733367.0],[1617542.0],[1720677.0],[1601365.0],[1780709.0],[1740606.0],[1769264.0],[315745.0],[1893622.0],[1557153.0],[1885001.0],[2019757.0],[2183625.0],[378357.0],[520085.0],[1771875.0],[1623404.0],[1401114.0],[1875809.0],[2061220.0],[1871946.0],[1875760.0],[2200607.0],[1744525.0],[2208630.0],[1473810.0],[1897989.0],[2124971.0],[2148657.0],[1913389.0],[1821764.0],[2339411.0],[2050748.0],[2103937.0],[2010304.0],[1810090.0],[1665208.0],[1839281.0],[1789424.0],[1610043.0],[1936995.0],[1563941.0],[1963312.0],[1749034.0],[3215291.0],[2802956.0],[2341895.0],[2434254.0],[1841292.0],[1859967.0],[1785138.0],[1825711.0],[1511177.0],[1919282.0],[2374884.0],[1907604.0],[1803240.0],[1853336.0],[2048788.0],[1926167.0],[1633893.0],[1979051.0],[1512101.0],[1805874.0],[1904843.0],[1659163.0],[2147063.0],[2200435.0],[1931746.0],[1884472.0],[1595228.0],[2039941.0],[1773928.0],[1988207.0],[1830399.0],[1723670.0],[1918394.0],[2087604.0],[1809241.0],[1675019.0],[1894364.0],[1947976.0],[1743213.0],[1859447.0],[1758481.0],[1803544.0],[1842192.0],[1867981.0],[1787095.0],[1934352.0],[1350334.0],[1496459.0],[2023381.0],[1634721.0],[1520970.0],[2170738.0],[2222213.0],[2106500.0],[1413170.0],[1311257.0],[1778667.0],[1850547.0],[660552.0],[1646467.0],[1839760.0],[1692698.0],[2939057.0],[1822437.0],[1981767.0],[1770523.0],[1857385.0],[1643593.0],[1970743.0],[1574979.0],[1926000.0],[1903520.0],[1943559.0],[1955117.0],[1526799.0],[1608624.0],[2092551.0],[283035.0],[1876247.0],[1818127.0],[134201.0],[1782853.0],[1776898.0],[2214516.0],[1709809.0],[1877227.0],[2290354.0],[1834015.0],[1719979.0],[1533702.0],[2663987.0],[2025275.0],[1881552.0],[1661998.0],[1857924.0],[902050.0],[1962205.0],[1700882.0],[1592192.0],[1538960.0],[2121610.0],[1638116.0],[1324757.0],[1703935.0],[1834489.0],[2436637.0],[1929399.0],[1599861.0],[1751985.0],[1557201.0],[1942597.0],[1807314.0],[1896052.0],[1674979.0],[2103968.0],[1890695.0],[2584982.0],[2160206.0],[1618690.0],[2183402.0],[1404233.0],[2681482.0],[1821330.0],[1942313.0],[2948720.0],[2088636.0],[2090637.0],[1866763.0],[2030444.0],[1843873.0],[2027054.0],[2101746.0],[2098778.0],[1793324.0],[1627611.0],[2039765.0],[1456099.0],[1799539.0],[1858158.0],[1972915.0],[1841604.0],[1911779.0],[2041472.0],[1738818.0],[1946138.0],[1818396.0],[1794394.0],[1942771.0],[1658529.0],[1819082.0],[1860103.0],[1618186.0],[1769973.0],[2217305.0],[2527978.0],[1251172.0],[1001115.0],[1898180.0],[2288793.0],[2194555.0],[2297692.0],[1818657.0],[2058260.0],[2030974.0],[2097732.0],[2138241.0],[2034251.0],[1703489.0],[1678716.0],[1548594.0],[1655868.0],[2010583.0],[2000402.0],[1969953.0],[1889840.0],[1818959.0],[1871388.0],[1910619.0],[1807556.0],[1979004.0],[1845363.0],[2005278.0],[2162404.0],[1782435.0],[1732944.0],[1796532.0],[1569097.0],[1749192.0],[1524032.0],[1659374.0],[1566048.0],[1980182.0],[2109702.0],[1430499.0],[1998536.0],[2112874.0],[2046409.0],[1620051.0],[2088853.0],[1627851.0],[1799822.0],[1943633.0],[1641349.0],[1727579.0],[1906032.0],[1634921.0],[1702038.0],[2082800.0],[1340580.0],[1993616.0],[1363080.0],[1664794.0],[1797658.0],[1888005.0],[1414520.0],[1798168.0],[1455530.0],[1834512.0],[1912536.0],[2053805.0],[1795725.0],[1589941.0],[1680035.0],[1843767.0],[1631952.0],[2008281.0],[1871224.0],[1329423.0],[1830197.0],[2207845.0],[1494404.0],[1728198.0],[1942725.0],[1850115.0],[1505686.0],[1330873.0],[1867016.0],[1481642.0],[1256138.0],[1432508.0],[1762599.0],[1724191.0],[1876962.0],[190576.0],[1580500.0],[57953.0],[1841110.0],[1980409.0],[1448225.0],[2173953.0],[1760756.0],[1583250.0],[1763698.0],[1377173.0],[2103244.0],[1900808.0],[1546075.0],[861327.0],[2015928.0],[1943763.0],[1540045.0],[1996298.0],[2073608.0],[1936759.0],[1533858.0],[1942449.0],[2007065.0],[1683709.0],[1772048.0],[1798051.0],[1480714.0],[1784407.0],[1864285.0],[3780453.0],[1780149.0],[1939130.0],[1818113.0],[2585776.0],[1339159.0],[1546274.0],[1828717.0],[1813205.0],[2005669.0],[1909448.0],[1879798.0],[2189866.0],[2062642.0],[1812115.0],[1744297.0],[1637292.0],[1735295.0],[1536443.0],[1474660.0],[2051829.0],[1890589.0],[1823717.0],[1869072.0],[2094310.0],[1345708.0],[2155502.0],[1452952.0],[1428889.0],[1514610.0],[1325383.0],[1821023.0],[1739310.0],[1647310.0],[2224282.0],[2026438.0],[2293994.0],[1726204.0],[1853532.0],[1971324.0],[1724191.0],[1473811.0],[1736162.0],[2033175.0],[2223804.0],[2010286.0],[1712840.0],[1526694.0],[1705591.0],[580710.0],[2464397.0],[2569274.0],[1614525.0],[1996484.0],[1050242.0],[2348274.0],[1447197.0],[1597717.0],[1024024.0],[1400914.0],[2248082.0],[2148850.0],[1898234.0],[2124497.0],[1759234.0],[2021772.0],[1433956.0],[1811580.0],[2080613.0],[2295527.0],[1597892.0],[2071536.0],[1833961.0],[1471260.0],[1769594.0],[1836748.0],[2062172.0],[1589698.0],[1895036.0],[1825625.0],[1793440.0],[1840847.0],[2376030.0],[1876672.0],[1869229.0],[2064478.0],[1619761.0],[2095109.0],[1859439.0],[1913628.0],[1788731.0],[2010441.0],[1669722.0],[1791574.0],[1623852.0],[1667385.0],[2112726.0],[1705708.0],[1733243.0],[2050952.0],[1877599.0],[2202528.0],[1452664.0],[1823827.0],[1780728.0],[1746640.0],[1659269.0],[1708823.0],[1778158.0],[1354665.0],[2030095.0],[2232334.0],[1941319.0],[1635655.0],[1777008.0],[1748803.0],[2382578.0],[1820880.0],[1980797.0],[1857816.0],[1784412.0],[1820016.0],[1501538.0],[1899292.0],[1874176.0],[1563808.0],[2076050.0],[1800790.0],[1914914.0],[1899325.0],[2120550.0],[2333143.0],[1834437.0],[1402892.0],[1753615.0],[1680067.0],[2541750.0],[1980743.0],[466643.0],[1374559.0],[1449471.0],[1950028.0],[1760367.0],[1901956.0],[2031921.0],[1638992.0],[2293698.0],[598934.0],[1928256.0],[1646686.0],[1855602.0],[1579096.0],[1928887.0],[2035001.0],[1529130.0],[1502056.0],[1630328.0],[1461182.0],[1827976.0],[1554620.0],[1656265.0],[1608720.0],[2086686.0],[1536993.0],[2150616.0],[1853363.0],[1590526.0],[2508072.0],[1730318.0],[1434657.0],[1483783.0],[1401443.0],[1469453.0],[1661834.0],[827559.0],[2231240.0],[1640846.0],[1800347.0],[1585721.0],[1748377.0],[1742388.0],[2344843.0],[1645721.0],[1534347.0],[1946631.0],[1503959.0],[1505927.0],[1424792.0],[1950123.0],[1871877.0],[1829052.0],[1860207.0],[1999861.0],[1704469.0],[1931398.0],[1590994.0],[1825492.0],[1684292.0],[1464472.0],[2592498.0],[1942461.0],[1642425.0],[315745.0],[1682046.6187881317],[470053.6532489937],[1883785.389906961],[1960003.6658251581],[660552.0],[2002274.1402614727],[223654.73571614834],[589962.7688149984],[1948091.7270437204],[2050875.997067518],[1442229.4490797096],[1772698.25336254],[1934175.6846856098],[2045404.2308809035],[1391124.2645312077],[190576.0],[57953.0],[1986281.5951437785],[2014539.6503487702],[1021333.2474115022],[1240498.1634678845],[861327.0],[2279534.564915832],[1325383.0],[1613175.2799283194],[1024024.0],[1673258.6679781042],[2160622.5008472227],[466643.0],[1641333.4956850691],[2105875.8459700746],[1436253.560372093],[1968408.187285607],[1762478.2075254251],[1814754.938498397]],\"domain\":{\"x\":[0.0,1.0],\"y\":[0.0,1.0]},\"hovertemplate\":\"labels=%{label}\\u003cbr\\u003eTOTAL ELECTORS_sum=%{value}\\u003cbr\\u003eparent=%{parent}\\u003cbr\\u003eid=%{id}\\u003cbr\\u003eTOTAL ELECTORS=%{color}\\u003cextra\\u003e\\u003c\\u002fextra\\u003e\",\"ids\":[\"Rajasthan\\u002fAJMER\",\"Rajasthan\\u002fALWAR\",\"Haryana\\u002fAMBALA\",\"Jammu and Kashmir\\u002fANANTNAG-RAJOURI\",\"Tamil Nadu\\u002fARAKKONAM\",\"Tamil Nadu\\u002fARANI\",\"Telangana\\u002fAdilabad\",\"Uttar Pradesh\\u002fAgra\",\"Gujarat\\u002fAhmedabad East\",\"Gujarat\\u002fAhmedabad West\",\"Maharashtra\\u002fAhmednagar\",\"Uttar Pradesh\\u002fAkbarpur\",\"Maharashtra\\u002fAkola\",\"Kerala\\u002fAlappuzha\",\"Kerala\\u002fAlathur\",\"Uttar Pradesh\\u002fAligarh\",\"West Bengal\\u002fAlipurduars\",\"Uttar Pradesh\\u002fAllahabad\",\"Uttarakhand\\u002fAlmora\",\"Andhra Pradesh\\u002fAmalapuram\",\"Uttar Pradesh\\u002fAmbedkar Nagar\",\"Uttar Pradesh\\u002fAmethi\",\"Maharashtra\\u002fAmravati\",\"Gujarat\\u002fAmreli\",\"Punjab\\u002fAmritsar\",\"Uttar Pradesh\\u002fAmroha\",\"Andhra Pradesh\\u002fAnakapalle\",\"Gujarat\\u002fAnand\",\"Punjab\\u002fAnandpur Sahib\",\"Andhra Pradesh\\u002fAnanthapur\",\"Andaman & Nicobar Islands\\u002fAndaman & Nicobar Islands\",\"Uttar Pradesh\\u002fAonla\",\"Andhra Pradesh\\u002fAraku\",\"West Bengal\\u002fArambag\",\"Bihar\\u002fAraria\",\"Bihar\\u002fArrah\",\"Arunachal Pradesh\\u002fArunachal East\",\"Arunachal Pradesh\\u002fArunachal West\",\"West Bengal\\u002fAsansol\",\"Odisha\\u002fAska\",\"Kerala\\u002fAttingal\",\"Bihar\\u002fAurangabad\",\"Maharashtra\\u002fAurangabad\",\"Uttar Pradesh\\u002fAzamgarh\",\"Madhya Pradesh\\u002fBALAGHAT\",\"Rajasthan\\u002fBANSWARA\",\"Jammu and Kashmir\\u002fBARAMULLA\",\"Rajasthan\\u002fBARMER\",\"Chhattisgarh\\u002fBASTAR\",\"Madhya Pradesh\\u002fBETUL\",\"Rajasthan\\u002fBHARATPUR\",\"Rajasthan\\u002fBHILWARA\",\"Madhya Pradesh\\u002fBHIND\",\"Haryana\\u002fBHIWANI-MAHENDRAGARH\",\"Madhya Pradesh\\u002fBHOPAL\",\"Rajasthan\\u002fBIKANER\",\"Chhattisgarh\\u002fBILASPUR\",\"Uttar Pradesh\\u002fBadaun\",\"Karnataka\\u002fBagalkot\",\"Uttar Pradesh\\u002fBaghpat\",\"Uttar Pradesh\\u002fBaharaich\",\"West Bengal\\u002fBaharampur\",\"Odisha\\u002fBalasore\",\"Uttar Pradesh\\u002fBallia\",\"West Bengal\\u002fBalurghat\",\"Gujarat\\u002fBanaskantha\",\"Uttar Pradesh\\u002fBanda\",\"Karnataka\\u002fBangalore North\",\"Karnataka\\u002fBangalore Rural\",\"Karnataka\\u002fBangalore South\",\"Karnataka\\u002fBangalore central\",\"West Bengal\\u002fBangaon\",\"Bihar\\u002fBanka\",\"West Bengal\\u002fBankura\",\"Uttar Pradesh\\u002fBansgaon\",\"Andhra Pradesh\\u002fBapatla\",\"Uttar Pradesh\\u002fBarabanki\",\"Maharashtra\\u002fBaramati\",\"West Bengal\\u002fBarasat\",\"West Bengal\\u002fBardhaman Purba\",\"West Bengal\\u002fBardhaman-Durgapur\",\"Gujarat\\u002fBardoli\",\"Uttar Pradesh\\u002fBareilly\",\"Odisha\\u002fBargarh\",\"Assam\\u002fBarpeta\",\"West Bengal\\u002fBarrackpur\",\"West Bengal\\u002fBasirhat\",\"Uttar Pradesh\\u002fBasti\",\"Punjab\\u002fBathinda\",\"Maharashtra\\u002fBeed\",\"Bihar\\u002fBegusarai\",\"Karnataka\\u002fBelgaum\",\"Karnataka\\u002fBellary\",\"Odisha\\u002fBerhampur\",\"Uttar Pradesh\\u002fBhadohi\",\"Odisha\\u002fBhadrak\",\"Bihar\\u002fBhagalpur\",\"Maharashtra\\u002fBhandara Gondiya\",\"Gujarat\\u002fBharuch\",\"Gujarat\\u002fBhavnagar\",\"Maharashtra\\u002fBhiwandi\",\"Telangana\\u002fBhongir\",\"Odisha\\u002fBhubaneswar\",\"Karnataka\\u002fBidar\",\"Karnataka\\u002fBijapur\",\"Uttar Pradesh\\u002fBijnor\",\"West Bengal\\u002fBirbhum\",\"West Bengal\\u002fBishnupur\",\"Odisha\\u002fBolangir\",\"West Bengal\\u002fBolpur\",\"Uttar Pradesh\\u002fBulandshahr\",\"Maharashtra\\u002fBuldhana\",\"Bihar\\u002fBuxar\",\"Tamil Nadu\\u002fCHENNAI CENTRAL\",\"Tamil Nadu\\u002fCHENNAI NORTH\",\"Tamil Nadu\\u002fCHENNAI SOUTH\",\"Madhya Pradesh\\u002fCHHINDWARA\",\"Tamil Nadu\\u002fCHIDAMBARAM\",\"Rajasthan\\u002fCHITTORGARH\",\"Rajasthan\\u002fCHURU\",\"Tamil Nadu\\u002fCOIMBATORE\",\"Tamil Nadu\\u002fCUDDALORE\",\"Kerala\\u002fChalakudy\",\"Karnataka\\u002fChamarajanagar\",\"Uttar Pradesh\\u002fChandauli\",\"Chandigarh\\u002fChandigarh\",\"NCT OF Delhi\\u002fChandni Chowk\",\"Maharashtra\\u002fChandrapur\",\"Jharkhand\\u002fChatra\",\"Telangana\\u002fChevella\",\"Gujarat\\u002fChhota Udaipur\",\"Karnataka\\u002fChikkballapur\",\"Karnataka\\u002fChikkodi\",\"Karnataka\\u002fChitradurga\",\"Andhra Pradesh\\u002fChittoor\",\"West Bengal\\u002fCoochbehar\",\"Odisha\\u002fCuttack\",\"Madhya Pradesh\\u002fDAMOH\",\"Rajasthan\\u002fDAUSA\",\"Madhya Pradesh\\u002fDEWAS\",\"Madhya Pradesh\\u002fDHAR\",\"Tamil Nadu\\u002fDHARMAPURI\",\"Tamil Nadu\\u002fDINDIGUL\",\"Chhattisgarh\\u002fDURG\",\"Dadra & Nagar Haveli and Daman & Diu\\u002fDadar & Nagar Haveli\",\"Gujarat\\u002fDahod\",\"Karnataka\\u002fDakshina Kannada\",\"Dadra & Nagar Haveli and Daman & Diu\\u002fDaman & Diu\",\"Bihar\\u002fDarbhanga\",\"West Bengal\\u002fDarjeeling\",\"Assam\\u002fDarrang-Udalguri\",\"Karnataka\\u002fDavanagere\",\"Uttar Pradesh\\u002fDeoria\",\"Jharkhand\\u002fDhanbad\",\"Karnataka\\u002fDharwad\",\"Uttar Pradesh\\u002fDhaurahra\",\"Odisha\\u002fDhenkanal\",\"Assam\\u002fDhubri\",\"Maharashtra\\u002fDhule\",\"West Bengal\\u002fDiamond harbour\",\"Assam\\u002fDibrugarh\",\"Maharashtra\\u002fDindori\",\"Assam\\u002fDiphu\",\"Uttar Pradesh\\u002fDomariyaganj\",\"West Bengal\\u002fDum dum\",\"Jharkhand\\u002fDumka\",\"Tamil Nadu\\u002fERODE\",\"NCT OF Delhi\\u002fEast Delhi\",\"Andhra Pradesh\\u002fEluru\",\"Kerala\\u002fErnakulam\",\"Uttar Pradesh\\u002fEtah\",\"Uttar Pradesh\\u002fEtawah\",\"Haryana\\u002fFARIDABAD\",\"Uttar Pradesh\\u002fFaizabad\",\"Punjab\\u002fFaridkot\",\"Uttar Pradesh\\u002fFarrukhabad\",\"Punjab\\u002fFatehgarh Sahib\",\"Uttar Pradesh\\u002fFatehpur\",\"Uttar Pradesh\\u002fFatehpur Sikri\",\"Uttar Pradesh\\u002fFirozabad\",\"Punjab\\u002fFirozpur\",\"Rajasthan\\u002fGANGANAGAR\",\"Madhya Pradesh\\u002fGUNA\",\"Haryana\\u002fGURGAON\",\"Madhya Pradesh\\u002fGWALIOR\",\"Maharashtra\\u002fGadchiroli - Chimur\",\"Gujarat\\u002fGandhinagar\",\"Uttarakhand\\u002fGarhwal\",\"Uttar Pradesh\\u002fGautam Buddha Nagar\",\"Bihar\\u002fGaya\",\"West Bengal\\u002fGhatal\",\"Uttar Pradesh\\u002fGhaziabad\",\"Uttar Pradesh\\u002fGhazipur\",\"Uttar Pradesh\\u002fGhosi\",\"Jharkhand\\u002fGiridih\",\"Jharkhand\\u002fGodda\",\"Uttar Pradesh\\u002fGonda\",\"Bihar\\u002fGopalganj\",\"Uttar Pradesh\\u002fGorakhpur\",\"Karnataka\\u002fGulbarga\",\"Andhra Pradesh\\u002fGuntur\",\"Punjab\\u002fGurdaspur\",\"Assam\\u002fGuwahati\",\"Himachal Pradesh\\u002fHAMIRPUR\",\"Haryana\\u002fHISAR\",\"Madhya Pradesh\\u002fHOSHANGABAD\",\"Bihar\\u002fHajipur\",\"Uttar Pradesh\\u002fHamirpur\",\"Uttar Pradesh\\u002fHardoi\",\"Uttarakhand\\u002fHaridwar\",\"Karnataka\\u002fHassan\",\"Uttar Pradesh\\u002fHathras\",\"Maharashtra\\u002fHatkanangale\",\"Karnataka\\u002fHaveri\",\"Jharkhand\\u002fHazaribagh\",\"Andhra Pradesh\\u002fHindupur\",\"Maharashtra\\u002fHingoli\",\"West Bengal\\u002fHooghly\",\"Punjab\\u002fHoshiarpur\",\"West Bengal\\u002fHowrah\",\"Telangana\\u002fHyderabad\",\"Madhya Pradesh\\u002fINDORE\",\"Kerala\\u002fIdukki\",\"Manipur\\u002fInner Manipur\",\"Madhya Pradesh\\u002fJABALPUR\",\"Rajasthan\\u002fJAIPUR\",\"Rajasthan\\u002fJAIPUR RURAL\",\"Rajasthan\\u002fJALORE\",\"Jammu and Kashmir\\u002fJAMMU\",\"Chhattisgarh\\u002fJANJGIR-CHAMPA\",\"Rajasthan\\u002fJHALAWAR-BARAN\",\"Rajasthan\\u002fJHUNJHUNU\",\"Rajasthan\\u002fJODHPUR\",\"West Bengal\\u002fJadavpur\",\"Odisha\\u002fJagatsinghpur\",\"Bihar\\u002fJahanabad\",\"Odisha\\u002fJajpur\",\"Punjab\\u002fJalandhar\",\"Uttar Pradesh\\u002fJalaun\",\"Maharashtra\\u002fJalgaon\",\"Maharashtra\\u002fJalna\",\"West Bengal\\u002fJalpaiguri\",\"Gujarat\\u002fJamnagar\",\"Jharkhand\\u002fJamshedpur\",\"Bihar\\u002fJamui\",\"West Bengal\\u002fJangipur\",\"Uttar Pradesh\\u002fJaunpur\",\"West Bengal\\u002fJaynagar\",\"Bihar\\u002fJhanjharpur\",\"Uttar Pradesh\\u002fJhansi\",\"West Bengal\\u002fJhargram\",\"Assam\\u002fJorhat\",\"Gujarat\\u002fJunagadh\",\"Tamil Nadu\\u002fKALLAKURICHI\",\"Tamil Nadu\\u002fKANCHEEPURAM\",\"Himachal Pradesh\\u002fKANGRA\",\"Chhattisgarh\\u002fKANKER\",\"Tamil Nadu\\u002fKANNIYAKUMARI\",\"Rajasthan\\u002fKARAULI-DHOLPUR\",\"Haryana\\u002fKARNAL\",\"Tamil Nadu\\u002fKARUR\",\"Madhya Pradesh\\u002fKHAJURAHO\",\"Madhya Pradesh\\u002fKHANDWA\",\"Madhya Pradesh\\u002fKHARGONE\",\"Chhattisgarh\\u002fKORBA\",\"Rajasthan\\u002fKOTA\",\"Tamil Nadu\\u002fKRISHNAGIRI\",\"Haryana\\u002fKURUKSHETRA\",\"Gujarat\\u002fKachchh\",\"Andhra Pradesh\\u002fKadapa\",\"Uttar Pradesh\\u002fKairana\",\"Uttar Pradesh\\u002fKaiserganj\",\"Andhra Pradesh\\u002fKakinada\",\"Odisha\\u002fKalahandi\",\"Maharashtra\\u002fKalyan\",\"Odisha\\u002fKandhamal\",\"Uttar Pradesh\\u002fKannauj\",\"Kerala\\u002fKannur\",\"Uttar Pradesh\\u002fKanpur\",\"West Bengal\\u002fKanthi\",\"Bihar\\u002fKarakat\",\"Assam\\u002fKarimganj\",\"Telangana\\u002fKarimnagar\",\"Kerala\\u002fKasaragod\",\"Bihar\\u002fKatihar\",\"Uttar Pradesh\\u002fKaushambi\",\"Assam\\u002fKaziranga\",\"Odisha\\u002fKendrapara\",\"Odisha\\u002fKeonjhar\",\"Punjab\\u002fKhadoor Sahib\",\"Bihar\\u002fKhagaria\",\"Telangana\\u002fKhammam\",\"Gujarat\\u002fKheda\",\"Uttar Pradesh\\u002fKheri\",\"Jharkhand\\u002fKhunti\",\"Bihar\\u002fKishanganj\",\"Jharkhand\\u002fKodarma\",\"Assam\\u002fKokrajhar\",\"Karnataka\\u002fKolar\",\"Maharashtra\\u002fKolhapur\",\"West Bengal\\u002fKolkata Dakshin\",\"West Bengal\\u002fKolkata Uttar\",\"Kerala\\u002fKollam\",\"Karnataka\\u002fKoppal\",\"Odisha\\u002fKoraput\",\"Kerala\\u002fKottayam\",\"Kerala\\u002fKozhikode\",\"West Bengal\\u002fKrishnanagar\",\"Andhra Pradesh\\u002fKurnoolu\",\"Uttar Pradesh\\u002fKushi Nagar\",\"Ladakh\\u002fLadakh\",\"Assam\\u002fLakhimpur\",\"Lakshadweep\\u002fLakshadweep\",\"Uttar Pradesh\\u002fLalganj\",\"Maharashtra\\u002fLatur\",\"Jharkhand\\u002fLohardaga\",\"Uttar Pradesh\\u002fLucknow\",\"Punjab\\u002fLudhiana\",\"Tamil Nadu\\u002fMADURAI\",\"Chhattisgarh\\u002fMAHASAMUND\",\"Himachal Pradesh\\u002fMANDI\",\"Madhya Pradesh\\u002fMANDLA\",\"Madhya Pradesh\\u002fMANDSOUR\",\"Tamil Nadu\\u002fMAYILADUTHURAI\",\"Mizoram\\u002fMIZORAM\",\"Madhya Pradesh\\u002fMORENA\",\"Uttar Pradesh\\u002fMachhlishahr\",\"Andhra Pradesh\\u002fMachilipatnam\",\"Maharashtra\\u002fMadha\",\"Bihar\\u002fMadhepura\",\"Bihar\\u002fMadhubani\",\"Telangana\\u002fMahabubabad\",\"Bihar\\u002fMaharajganj\",\"Uttar Pradesh\\u002fMaharajganj\",\"Telangana\\u002fMahbubnagar\",\"Gujarat\\u002fMahesana\",\"Uttar Pradesh\\u002fMainpuri\",\"Kerala\\u002fMalappuram\",\"West Bengal\\u002fMaldaha Dakshin\",\"West Bengal\\u002fMaldaha Uttar\",\"Telangana\\u002fMalkajgiri\",\"Karnataka\\u002fMandya\",\"Uttar Pradesh\\u002fMathura\",\"West Bengal\\u002fMathurapur\",\"Maharashtra\\u002fMaval\",\"Kerala\\u002fMavelikkara\",\"Odisha\\u002fMayurbhanj\",\"Telangana\\u002fMedak\",\"West Bengal\\u002fMedinipur\",\"Uttar Pradesh\\u002fMeerut\",\"Uttar Pradesh\\u002fMirzapur\",\"Uttar Pradesh\\u002fMisrikh\",\"Uttar Pradesh\\u002fMohanlalganj\",\"Uttar Pradesh\\u002fMoradabad\",\"Maharashtra\\u002fMumbai North\",\"Maharashtra\\u002fMumbai North Central\",\"Maharashtra\\u002fMumbai North East\",\"Maharashtra\\u002fMumbai North West\",\"Maharashtra\\u002fMumbai South\",\"Maharashtra\\u002fMumbai South Central\",\"Bihar\\u002fMunger\",\"West Bengal\\u002fMurshidabad\",\"Uttar Pradesh\\u002fMuzaffarnagar\",\"Bihar\\u002fMuzaffarpur\",\"Karnataka\\u002fMysore\",\"Tamil Nadu\\u002fNAGAPATTINAM\",\"Rajasthan\\u002fNAGAUR\",\"Tamil Nadu\\u002fNAMAKKAL\",\"Tamil Nadu\\u002fNILGIRIS\",\"Odisha\\u002fNabarangpur\",\"Nagaland\\u002fNagaland\",\"Assam\\u002fNagaon\",\"Telangana\\u002fNagarkurnool\",\"Uttar Pradesh\\u002fNagina\",\"Maharashtra\\u002fNagpur\",\"Uttarakhand\\u002fNainital-Udhamsingh Nagar\",\"Bihar\\u002fNalanda\",\"Telangana\\u002fNalgonda\",\"Maharashtra\\u002fNanded\",\"Maharashtra\\u002fNandurbar\",\"Andhra Pradesh\\u002fNandyal\",\"Andhra Pradesh\\u002fNarsapuram\",\"Andhra Pradesh\\u002fNarsaraopet\",\"Maharashtra\\u002fNashik\",\"Gujarat\\u002fNavsari\",\"Bihar\\u002fNawada\",\"Andhra Pradesh\\u002fNellore\",\"NCT OF Delhi\\u002fNew Delhi\",\"Telangana\\u002fNizamabad\",\"Goa\\u002fNorth Goa\",\"NCT OF Delhi\\u002fNorth-East Delhi\",\"NCT OF Delhi\\u002fNorth-West Delhi\",\"Andhra Pradesh\\u002fOngole\",\"Maharashtra\\u002fOsmanabad\",\"Manipur\\u002fOuter Manipur\",\"Rajasthan\\u002fPALI\",\"Tamil Nadu\\u002fPERAMBALUR\",\"Tamil Nadu\\u002fPOLLACHI\",\"Puducherry\\u002fPUDUCHERRY\",\"Kerala\\u002fPalakkad\",\"Jharkhand\\u002fPalamu\",\"Maharashtra\\u002fPalghar\",\"Gujarat\\u002fPanchmahal\",\"Maharashtra\\u002fParbhani\",\"Bihar\\u002fPaschim Champaran\",\"Gujarat\\u002fPatan\",\"Kerala\\u002fPathanamthitta\",\"Punjab\\u002fPatiala\",\"Bihar\\u002fPatliputra\",\"Bihar\\u002fPatna Sahib\",\"Telangana\\u002fPeddapalle\",\"Uttar Pradesh\\u002fPhulpur\",\"Uttar Pradesh\\u002fPilibhit\",\"Kerala\\u002fPonnani\",\"Gujarat\\u002fPorbandar\",\"Uttar Pradesh\\u002fPratapgarh\",\"Maharashtra\\u002fPune\",\"Odisha\\u002fPuri\",\"Bihar\\u002fPurnia\",\"West Bengal\\u002fPurulia\",\"Bihar\\u002fPurvi Champaran\",\"Chhattisgarh\\u002fRAIGARH\",\"Chhattisgarh\\u002fRAIPUR\",\"Madhya Pradesh\\u002fRAJGARH\",\"Chhattisgarh\\u002fRAJNANDGAON\",\"Rajasthan\\u002fRAJSAMAND\",\"Tamil Nadu\\u002fRAMANATHAPURAM\",\"Madhya Pradesh\\u002fRATLAM\",\"Madhya Pradesh\\u002fREWA\",\"Haryana\\u002fROHTAK\",\"Uttar Pradesh\\u002fRae Bareli\",\"Karnataka\\u002fRaichur\",\"Maharashtra\\u002fRaigad\",\"West Bengal\\u002fRaiganj\",\"Andhra Pradesh\\u002fRajahmundry\",\"Andhra Pradesh\\u002fRajampet\",\"Gujarat\\u002fRajkot\",\"Jharkhand\\u002fRajmahal\",\"Uttar Pradesh\\u002fRampur\",\"Maharashtra\\u002fRamtek\",\"West Bengal\\u002fRanaghat\",\"Jharkhand\\u002fRanchi\",\"Maharashtra\\u002fRatnagiri- Sindhudurg\",\"Maharashtra\\u002fRaver\",\"Uttar Pradesh\\u002fRobertsganj\",\"Madhya Pradesh\\u002fSAGAR\",\"Tamil Nadu\\u002fSALEM\",\"Madhya Pradesh\\u002fSATNA\",\"Madhya Pradesh\\u002fSHAHDOL\",\"Himachal Pradesh\\u002fSHIMLA\",\"Madhya Pradesh\\u002fSIDHI\",\"Rajasthan\\u002fSIKAR\",\"Haryana\\u002fSIRSA\",\"Tamil Nadu\\u002fSIVAGANGA\",\"Haryana\\u002fSONIPAT\",\"Jammu and Kashmir\\u002fSRINAGAR\",\"Tamil Nadu\\u002fSRIPERUMBUDUR\",\"Chhattisgarh\\u002fSURGUJA\",\"Gujarat\\u002fSabarkantha\",\"Uttar Pradesh\\u002fSaharanpur\",\"Uttar Pradesh\\u002fSalempur\",\"Bihar\\u002fSamastipur\",\"Odisha\\u002fSambalpur\",\"Uttar Pradesh\\u002fSambhal\",\"Maharashtra\\u002fSangli\",\"Punjab\\u002fSangrur\",\"Uttar Pradesh\\u002fSant Kabir Nagar\",\"Bihar\\u002fSaran\",\"Bihar\\u002fSasaram\",\"Maharashtra\\u002fSatara\",\"Telangana\\u002fSecunderabad\",\"Uttar Pradesh\\u002fShahjahanpur\",\"Bihar\\u002fSheohar\",\"Meghalaya\\u002fShillong\",\"Karnataka\\u002fShimoga\",\"Maharashtra\\u002fShirdi\",\"Maharashtra\\u002fShirur\",\"Uttar Pradesh\\u002fShrawasti\",\"Sikkim\\u002fSikkim\",\"Assam\\u002fSilchar\",\"Jharkhand\\u002fSinghbhum\",\"Bihar\\u002fSitamarhi\",\"Uttar Pradesh\\u002fSitapur\",\"Bihar\\u002fSiwan\",\"Maharashtra\\u002fSolapur\",\"Assam\\u002fSonitpur\",\"NCT OF Delhi\\u002fSouth Delhi\",\"Goa\\u002fSouth Goa\",\"West Bengal\\u002fSreerampur\",\"Andhra Pradesh\\u002fSrikakulam\",\"Uttar Pradesh\\u002fSultanpur\",\"Odisha\\u002fSundargarh\",\"Bihar\\u002fSupaul\",\"Gujarat\\u002fSurendranagar\",\"Tamil Nadu\\u002fTENKASI\",\"Tamil Nadu\\u002fTHANJAVUR\",\"Tamil Nadu\\u002fTHENI\",\"Tamil Nadu\\u002fTHOOTHUKKUDI\",\"Madhya Pradesh\\u002fTIKAMGARH\",\"Tamil Nadu\\u002fTIRUCHIRAPPALLI\",\"Tamil Nadu\\u002fTIRUNELVELI\",\"Tamil Nadu\\u002fTIRUPPUR\",\"Tamil Nadu\\u002fTIRUVALLUR\",\"Tamil Nadu\\u002fTIRUVANNAMALAI\",\"Rajasthan\\u002fTONK-SAWAI MADHOPUR\",\"West Bengal\\u002fTamluk\",\"Uttarakhand\\u002fTehri Garhwal\",\"Maharashtra\\u002fThane\",\"Andhra Pradesh\\u002fThirupathi\",\"Kerala\\u002fThiruvananthapuram\",\"Kerala\\u002fThrissur\",\"Tripura\\u002fTripura East\",\"Tripura\\u002fTripura West\",\"Karnataka\\u002fTumkur\",\"Meghalaya\\u002fTura\",\"Rajasthan\\u002fUDAIPUR\",\"Jammu and Kashmir\\u002fUDHAMPUR\",\"Madhya Pradesh\\u002fUJJAIN\",\"Karnataka\\u002fUdupi Chikmagalur\",\"Bihar\\u002fUjiarpur\",\"West Bengal\\u002fUluberia\",\"Uttar Pradesh\\u002fUnnao\",\"Karnataka\\u002fUttara Kannada\",\"Tamil Nadu\\u002fVELLORE\",\"Madhya Pradesh\\u002fVIDISHA\",\"Tamil Nadu\\u002fVILUPPURAM\",\"Tamil Nadu\\u002fVIRUDHUNAGAR\",\"Kerala\\u002fVadakara\",\"Gujarat\\u002fVadodara\",\"Bihar\\u002fVaishali\",\"Bihar\\u002fValmiki Nagar\",\"Gujarat\\u002fValsad\",\"Uttar Pradesh\\u002fVaranasi\",\"Andhra Pradesh\\u002fVijayawada\",\"Andhra Pradesh\\u002fVisakhapatnam\",\"Andhra Pradesh\\u002fVizianagaram\",\"Telangana\\u002fWarangal\",\"Maharashtra\\u002fWardha\",\"Kerala\\u002fWayanad\",\"NCT OF Delhi\\u002fWest Delhi\",\"Maharashtra\\u002fYavatmal- Washim\",\"Telangana\\u002fZahirabad\",\"Andaman & Nicobar Islands\",\"Andhra Pradesh\",\"Arunachal Pradesh\",\"Assam\",\"Bihar\",\"Chandigarh\",\"Chhattisgarh\",\"Dadra & Nagar Haveli and Daman & Diu\",\"Goa\",\"Gujarat\",\"Haryana\",\"Himachal Pradesh\",\"Jammu and Kashmir\",\"Jharkhand\",\"Karnataka\",\"Kerala\",\"Ladakh\",\"Lakshadweep\",\"Madhya Pradesh\",\"Maharashtra\",\"Manipur\",\"Meghalaya\",\"Mizoram\",\"NCT OF Delhi\",\"Nagaland\",\"Odisha\",\"Puducherry\",\"Punjab\",\"Rajasthan\",\"Sikkim\",\"Tamil Nadu\",\"Telangana\",\"Tripura\",\"Uttar Pradesh\",\"Uttarakhand\",\"West Bengal\"],\"labels\":[\"AJMER\",\"ALWAR\",\"AMBALA\",\"ANANTNAG-RAJOURI\",\"ARAKKONAM\",\"ARANI\",\"Adilabad\",\"Agra\",\"Ahmedabad East\",\"Ahmedabad West\",\"Ahmednagar\",\"Akbarpur\",\"Akola\",\"Alappuzha\",\"Alathur\",\"Aligarh\",\"Alipurduars\",\"Allahabad\",\"Almora\",\"Amalapuram\",\"Ambedkar Nagar\",\"Amethi\",\"Amravati\",\"Amreli\",\"Amritsar\",\"Amroha\",\"Anakapalle\",\"Anand\",\"Anandpur Sahib\",\"Ananthapur\",\"Andaman & Nicobar Islands\",\"Aonla\",\"Araku\",\"Arambag\",\"Araria\",\"Arrah\",\"Arunachal East\",\"Arunachal West\",\"Asansol\",\"Aska\",\"Attingal\",\"Aurangabad\",\"Aurangabad\",\"Azamgarh\",\"BALAGHAT\",\"BANSWARA\",\"BARAMULLA\",\"BARMER\",\"BASTAR\",\"BETUL\",\"BHARATPUR\",\"BHILWARA\",\"BHIND\",\"BHIWANI-MAHENDRAGARH\",\"BHOPAL\",\"BIKANER\",\"BILASPUR\",\"Badaun\",\"Bagalkot\",\"Baghpat\",\"Baharaich\",\"Baharampur\",\"Balasore\",\"Ballia\",\"Balurghat\",\"Banaskantha\",\"Banda\",\"Bangalore North\",\"Bangalore Rural\",\"Bangalore South\",\"Bangalore central\",\"Bangaon\",\"Banka\",\"Bankura\",\"Bansgaon\",\"Bapatla\",\"Barabanki\",\"Baramati\",\"Barasat\",\"Bardhaman Purba\",\"Bardhaman-Durgapur\",\"Bardoli\",\"Bareilly\",\"Bargarh\",\"Barpeta\",\"Barrackpur\",\"Basirhat\",\"Basti\",\"Bathinda\",\"Beed\",\"Begusarai\",\"Belgaum\",\"Bellary\",\"Berhampur\",\"Bhadohi\",\"Bhadrak\",\"Bhagalpur\",\"Bhandara Gondiya\",\"Bharuch\",\"Bhavnagar\",\"Bhiwandi\",\"Bhongir\",\"Bhubaneswar\",\"Bidar\",\"Bijapur\",\"Bijnor\",\"Birbhum\",\"Bishnupur\",\"Bolangir\",\"Bolpur\",\"Bulandshahr\",\"Buldhana\",\"Buxar\",\"CHENNAI CENTRAL\",\"CHENNAI NORTH\",\"CHENNAI SOUTH\",\"CHHINDWARA\",\"CHIDAMBARAM\",\"CHITTORGARH\",\"CHURU\",\"COIMBATORE\",\"CUDDALORE\",\"Chalakudy\",\"Chamarajanagar\",\"Chandauli\",\"Chandigarh\",\"Chandni Chowk\",\"Chandrapur\",\"Chatra\",\"Chevella\",\"Chhota Udaipur\",\"Chikkballapur\",\"Chikkodi\",\"Chitradurga\",\"Chittoor\",\"Coochbehar\",\"Cuttack\",\"DAMOH\",\"DAUSA\",\"DEWAS\",\"DHAR\",\"DHARMAPURI\",\"DINDIGUL\",\"DURG\",\"Dadar & Nagar Haveli\",\"Dahod\",\"Dakshina Kannada\",\"Daman & Diu\",\"Darbhanga\",\"Darjeeling\",\"Darrang-Udalguri\",\"Davanagere\",\"Deoria\",\"Dhanbad\",\"Dharwad\",\"Dhaurahra\",\"Dhenkanal\",\"Dhubri\",\"Dhule\",\"Diamond harbour\",\"Dibrugarh\",\"Dindori\",\"Diphu\",\"Domariyaganj\",\"Dum dum\",\"Dumka\",\"ERODE\",\"East Delhi\",\"Eluru\",\"Ernakulam\",\"Etah\",\"Etawah\",\"FARIDABAD\",\"Faizabad\",\"Faridkot\",\"Farrukhabad\",\"Fatehgarh Sahib\",\"Fatehpur\",\"Fatehpur Sikri\",\"Firozabad\",\"Firozpur\",\"GANGANAGAR\",\"GUNA\",\"GURGAON\",\"GWALIOR\",\"Gadchiroli - Chimur\",\"Gandhinagar\",\"Garhwal\",\"Gautam Buddha Nagar\",\"Gaya\",\"Ghatal\",\"Ghaziabad\",\"Ghazipur\",\"Ghosi\",\"Giridih\",\"Godda\",\"Gonda\",\"Gopalganj\",\"Gorakhpur\",\"Gulbarga\",\"Guntur\",\"Gurdaspur\",\"Guwahati\",\"HAMIRPUR\",\"HISAR\",\"HOSHANGABAD\",\"Hajipur\",\"Hamirpur\",\"Hardoi\",\"Haridwar\",\"Hassan\",\"Hathras\",\"Hatkanangale\",\"Haveri\",\"Hazaribagh\",\"Hindupur\",\"Hingoli\",\"Hooghly\",\"Hoshiarpur\",\"Howrah\",\"Hyderabad\",\"INDORE\",\"Idukki\",\"Inner Manipur\",\"JABALPUR\",\"JAIPUR\",\"JAIPUR RURAL\",\"JALORE\",\"JAMMU\",\"JANJGIR-CHAMPA\",\"JHALAWAR-BARAN\",\"JHUNJHUNU\",\"JODHPUR\",\"Jadavpur\",\"Jagatsinghpur\",\"Jahanabad\",\"Jajpur\",\"Jalandhar\",\"Jalaun\",\"Jalgaon\",\"Jalna\",\"Jalpaiguri\",\"Jamnagar\",\"Jamshedpur\",\"Jamui\",\"Jangipur\",\"Jaunpur\",\"Jaynagar\",\"Jhanjharpur\",\"Jhansi\",\"Jhargram\",\"Jorhat\",\"Junagadh\",\"KALLAKURICHI\",\"KANCHEEPURAM\",\"KANGRA\",\"KANKER\",\"KANNIYAKUMARI\",\"KARAULI-DHOLPUR\",\"KARNAL\",\"KARUR\",\"KHAJURAHO\",\"KHANDWA\",\"KHARGONE\",\"KORBA\",\"KOTA\",\"KRISHNAGIRI\",\"KURUKSHETRA\",\"Kachchh\",\"Kadapa\",\"Kairana\",\"Kaiserganj\",\"Kakinada\",\"Kalahandi\",\"Kalyan\",\"Kandhamal\",\"Kannauj\",\"Kannur\",\"Kanpur\",\"Kanthi\",\"Karakat\",\"Karimganj\",\"Karimnagar\",\"Kasaragod\",\"Katihar\",\"Kaushambi\",\"Kaziranga\",\"Kendrapara\",\"Keonjhar\",\"Khadoor Sahib\",\"Khagaria\",\"Khammam\",\"Kheda\",\"Kheri\",\"Khunti\",\"Kishanganj\",\"Kodarma\",\"Kokrajhar\",\"Kolar\",\"Kolhapur\",\"Kolkata Dakshin\",\"Kolkata Uttar\",\"Kollam\",\"Koppal\",\"Koraput\",\"Kottayam\",\"Kozhikode\",\"Krishnanagar\",\"Kurnoolu\",\"Kushi Nagar\",\"Ladakh\",\"Lakhimpur\",\"Lakshadweep\",\"Lalganj\",\"Latur\",\"Lohardaga\",\"Lucknow\",\"Ludhiana\",\"MADURAI\",\"MAHASAMUND\",\"MANDI\",\"MANDLA\",\"MANDSOUR\",\"MAYILADUTHURAI\",\"MIZORAM\",\"MORENA\",\"Machhlishahr\",\"Machilipatnam\",\"Madha\",\"Madhepura\",\"Madhubani\",\"Mahabubabad\",\"Maharajganj\",\"Maharajganj\",\"Mahbubnagar\",\"Mahesana\",\"Mainpuri\",\"Malappuram\",\"Maldaha Dakshin\",\"Maldaha Uttar\",\"Malkajgiri\",\"Mandya\",\"Mathura\",\"Mathurapur\",\"Maval\",\"Mavelikkara\",\"Mayurbhanj\",\"Medak\",\"Medinipur\",\"Meerut\",\"Mirzapur\",\"Misrikh\",\"Mohanlalganj\",\"Moradabad\",\"Mumbai North\",\"Mumbai North Central\",\"Mumbai North East\",\"Mumbai North West\",\"Mumbai South\",\"Mumbai South Central\",\"Munger\",\"Murshidabad\",\"Muzaffarnagar\",\"Muzaffarpur\",\"Mysore\",\"NAGAPATTINAM\",\"NAGAUR\",\"NAMAKKAL\",\"NILGIRIS\",\"Nabarangpur\",\"Nagaland\",\"Nagaon\",\"Nagarkurnool\",\"Nagina\",\"Nagpur\",\"Nainital-Udhamsingh Nagar\",\"Nalanda\",\"Nalgonda\",\"Nanded\",\"Nandurbar\",\"Nandyal\",\"Narsapuram\",\"Narsaraopet\",\"Nashik\",\"Navsari\",\"Nawada\",\"Nellore\",\"New Delhi\",\"Nizamabad\",\"North Goa\",\"North-East Delhi\",\"North-West Delhi\",\"Ongole\",\"Osmanabad\",\"Outer Manipur\",\"PALI\",\"PERAMBALUR\",\"POLLACHI\",\"PUDUCHERRY\",\"Palakkad\",\"Palamu\",\"Palghar\",\"Panchmahal\",\"Parbhani\",\"Paschim Champaran\",\"Patan\",\"Pathanamthitta\",\"Patiala\",\"Patliputra\",\"Patna Sahib\",\"Peddapalle\",\"Phulpur\",\"Pilibhit\",\"Ponnani\",\"Porbandar\",\"Pratapgarh\",\"Pune\",\"Puri\",\"Purnia\",\"Purulia\",\"Purvi Champaran\",\"RAIGARH\",\"RAIPUR\",\"RAJGARH\",\"RAJNANDGAON\",\"RAJSAMAND\",\"RAMANATHAPURAM\",\"RATLAM\",\"REWA\",\"ROHTAK\",\"Rae Bareli\",\"Raichur\",\"Raigad\",\"Raiganj\",\"Rajahmundry\",\"Rajampet\",\"Rajkot\",\"Rajmahal\",\"Rampur\",\"Ramtek\",\"Ranaghat\",\"Ranchi\",\"Ratnagiri- Sindhudurg\",\"Raver\",\"Robertsganj\",\"SAGAR\",\"SALEM\",\"SATNA\",\"SHAHDOL\",\"SHIMLA\",\"SIDHI\",\"SIKAR\",\"SIRSA\",\"SIVAGANGA\",\"SONIPAT\",\"SRINAGAR\",\"SRIPERUMBUDUR\",\"SURGUJA\",\"Sabarkantha\",\"Saharanpur\",\"Salempur\",\"Samastipur\",\"Sambalpur\",\"Sambhal\",\"Sangli\",\"Sangrur\",\"Sant Kabir Nagar\",\"Saran\",\"Sasaram\",\"Satara\",\"Secunderabad\",\"Shahjahanpur\",\"Sheohar\",\"Shillong\",\"Shimoga\",\"Shirdi\",\"Shirur\",\"Shrawasti\",\"Sikkim\",\"Silchar\",\"Singhbhum\",\"Sitamarhi\",\"Sitapur\",\"Siwan\",\"Solapur\",\"Sonitpur\",\"South Delhi\",\"South Goa\",\"Sreerampur\",\"Srikakulam\",\"Sultanpur\",\"Sundargarh\",\"Supaul\",\"Surendranagar\",\"TENKASI\",\"THANJAVUR\",\"THENI\",\"THOOTHUKKUDI\",\"TIKAMGARH\",\"TIRUCHIRAPPALLI\",\"TIRUNELVELI\",\"TIRUPPUR\",\"TIRUVALLUR\",\"TIRUVANNAMALAI\",\"TONK-SAWAI MADHOPUR\",\"Tamluk\",\"Tehri Garhwal\",\"Thane\",\"Thirupathi\",\"Thiruvananthapuram\",\"Thrissur\",\"Tripura East\",\"Tripura West\",\"Tumkur\",\"Tura\",\"UDAIPUR\",\"UDHAMPUR\",\"UJJAIN\",\"Udupi Chikmagalur\",\"Ujiarpur\",\"Uluberia\",\"Unnao\",\"Uttara Kannada\",\"VELLORE\",\"VIDISHA\",\"VILUPPURAM\",\"VIRUDHUNAGAR\",\"Vadakara\",\"Vadodara\",\"Vaishali\",\"Valmiki Nagar\",\"Valsad\",\"Varanasi\",\"Vijayawada\",\"Visakhapatnam\",\"Vizianagaram\",\"Warangal\",\"Wardha\",\"Wayanad\",\"West Delhi\",\"Yavatmal- Washim\",\"Zahirabad\",\"Andaman & Nicobar Islands\",\"Andhra Pradesh\",\"Arunachal Pradesh\",\"Assam\",\"Bihar\",\"Chandigarh\",\"Chhattisgarh\",\"Dadra & Nagar Haveli and Daman & Diu\",\"Goa\",\"Gujarat\",\"Haryana\",\"Himachal Pradesh\",\"Jammu and Kashmir\",\"Jharkhand\",\"Karnataka\",\"Kerala\",\"Ladakh\",\"Lakshadweep\",\"Madhya Pradesh\",\"Maharashtra\",\"Manipur\",\"Meghalaya\",\"Mizoram\",\"NCT OF Delhi\",\"Nagaland\",\"Odisha\",\"Puducherry\",\"Punjab\",\"Rajasthan\",\"Sikkim\",\"Tamil Nadu\",\"Telangana\",\"Tripura\",\"Uttar Pradesh\",\"Uttarakhand\",\"West Bengal\"],\"marker\":{\"coloraxis\":\"coloraxis\",\"colors\":[1999399.0,2075093.0,2003510.0,1849517.0,1568140.0,1499659.0,1652394.0,2075821.0,2040263.0,1727645.0,1988934.0,1875912.0,1894657.0,1406689.0,1340183.0,2002868.0,1778463.0,1828159.0,1368432.0,1532229.0,1913756.0,1798715.0,1838767.0,1733367.0,1617542.0,1720677.0,1601365.0,1780709.0,1740606.0,1769264.0,315745.0,1893622.0,1557153.0,1885001.0,2019757.0,2183625.0,378357.0,520085.0,1771875.0,1623404.0,1401114.0,1875809.0,2061220.0,1871946.0,1875760.0,2200607.0,1744525.0,2208630.0,1473810.0,1897989.0,2124971.0,2148657.0,1913389.0,1821764.0,2339411.0,2050748.0,2103937.0,2010304.0,1810090.0,1665208.0,1839281.0,1789424.0,1610043.0,1936995.0,1563941.0,1963312.0,1749034.0,3215291.0,2802956.0,2341895.0,2434254.0,1841292.0,1859967.0,1785138.0,1825711.0,1511177.0,1919282.0,2374884.0,1907604.0,1803240.0,1853336.0,2048788.0,1926167.0,1633893.0,1979051.0,1512101.0,1805874.0,1904843.0,1659163.0,2147063.0,2200435.0,1931746.0,1884472.0,1595228.0,2039941.0,1773928.0,1988207.0,1830399.0,1723670.0,1918394.0,2087604.0,1809241.0,1675019.0,1894364.0,1947976.0,1743213.0,1859447.0,1758481.0,1803544.0,1842192.0,1867981.0,1787095.0,1934352.0,1350334.0,1496459.0,2023381.0,1634721.0,1520970.0,2170738.0,2222213.0,2106500.0,1413170.0,1311257.0,1778667.0,1850547.0,660552.0,1646467.0,1839760.0,1692698.0,2939057.0,1822437.0,1981767.0,1770523.0,1857385.0,1643593.0,1970743.0,1574979.0,1926000.0,1903520.0,1943559.0,1955117.0,1526799.0,1608624.0,2092551.0,283035.0,1876247.0,1818127.0,134201.0,1782853.0,1776898.0,2214516.0,1709809.0,1877227.0,2290354.0,1834015.0,1719979.0,1533702.0,2663987.0,2025275.0,1881552.0,1661998.0,1857924.0,902050.0,1962205.0,1700882.0,1592192.0,1538960.0,2121610.0,1638116.0,1324757.0,1703935.0,1834489.0,2436637.0,1929399.0,1599861.0,1751985.0,1557201.0,1942597.0,1807314.0,1896052.0,1674979.0,2103968.0,1890695.0,2584982.0,2160206.0,1618690.0,2183402.0,1404233.0,2681482.0,1821330.0,1942313.0,2948720.0,2088636.0,2090637.0,1866763.0,2030444.0,1843873.0,2027054.0,2101746.0,2098778.0,1793324.0,1627611.0,2039765.0,1456099.0,1799539.0,1858158.0,1972915.0,1841604.0,1911779.0,2041472.0,1738818.0,1946138.0,1818396.0,1794394.0,1942771.0,1658529.0,1819082.0,1860103.0,1618186.0,1769973.0,2217305.0,2527978.0,1251172.0,1001115.0,1898180.0,2288793.0,2194555.0,2297692.0,1818657.0,2058260.0,2030974.0,2097732.0,2138241.0,2034251.0,1703489.0,1678716.0,1548594.0,1655868.0,2010583.0,2000402.0,1969953.0,1889840.0,1818959.0,1871388.0,1910619.0,1807556.0,1979004.0,1845363.0,2005278.0,2162404.0,1782435.0,1732944.0,1796532.0,1569097.0,1749192.0,1524032.0,1659374.0,1566048.0,1980182.0,2109702.0,1430499.0,1998536.0,2112874.0,2046409.0,1620051.0,2088853.0,1627851.0,1799822.0,1943633.0,1641349.0,1727579.0,1906032.0,1634921.0,1702038.0,2082800.0,1340580.0,1993616.0,1363080.0,1664794.0,1797658.0,1888005.0,1414520.0,1798168.0,1455530.0,1834512.0,1912536.0,2053805.0,1795725.0,1589941.0,1680035.0,1843767.0,1631952.0,2008281.0,1871224.0,1329423.0,1830197.0,2207845.0,1494404.0,1728198.0,1942725.0,1850115.0,1505686.0,1330873.0,1867016.0,1481642.0,1256138.0,1432508.0,1762599.0,1724191.0,1876962.0,190576.0,1580500.0,57953.0,1841110.0,1980409.0,1448225.0,2173953.0,1760756.0,1583250.0,1763698.0,1377173.0,2103244.0,1900808.0,1546075.0,861327.0,2015928.0,1943763.0,1540045.0,1996298.0,2073608.0,1936759.0,1533858.0,1942449.0,2007065.0,1683709.0,1772048.0,1798051.0,1480714.0,1784407.0,1864285.0,3780453.0,1780149.0,1939130.0,1818113.0,2585776.0,1339159.0,1546274.0,1828717.0,1813205.0,2005669.0,1909448.0,1879798.0,2189866.0,2062642.0,1812115.0,1744297.0,1637292.0,1735295.0,1536443.0,1474660.0,2051829.0,1890589.0,1823717.0,1869072.0,2094310.0,1345708.0,2155502.0,1452952.0,1428889.0,1514610.0,1325383.0,1821023.0,1739310.0,1647310.0,2224282.0,2026438.0,2293994.0,1726204.0,1853532.0,1971324.0,1724191.0,1473811.0,1736162.0,2033175.0,2223804.0,2010286.0,1712840.0,1526694.0,1705591.0,580710.0,2464397.0,2569274.0,1614525.0,1996484.0,1050242.0,2348274.0,1447197.0,1597717.0,1024024.0,1400914.0,2248082.0,2148850.0,1898234.0,2124497.0,1759234.0,2021772.0,1433956.0,1811580.0,2080613.0,2295527.0,1597892.0,2071536.0,1833961.0,1471260.0,1769594.0,1836748.0,2062172.0,1589698.0,1895036.0,1825625.0,1793440.0,1840847.0,2376030.0,1876672.0,1869229.0,2064478.0,1619761.0,2095109.0,1859439.0,1913628.0,1788731.0,2010441.0,1669722.0,1791574.0,1623852.0,1667385.0,2112726.0,1705708.0,1733243.0,2050952.0,1877599.0,2202528.0,1452664.0,1823827.0,1780728.0,1746640.0,1659269.0,1708823.0,1778158.0,1354665.0,2030095.0,2232334.0,1941319.0,1635655.0,1777008.0,1748803.0,2382578.0,1820880.0,1980797.0,1857816.0,1784412.0,1820016.0,1501538.0,1899292.0,1874176.0,1563808.0,2076050.0,1800790.0,1914914.0,1899325.0,2120550.0,2333143.0,1834437.0,1402892.0,1753615.0,1680067.0,2541750.0,1980743.0,466643.0,1374559.0,1449471.0,1950028.0,1760367.0,1901956.0,2031921.0,1638992.0,2293698.0,598934.0,1928256.0,1646686.0,1855602.0,1579096.0,1928887.0,2035001.0,1529130.0,1502056.0,1630328.0,1461182.0,1827976.0,1554620.0,1656265.0,1608720.0,2086686.0,1536993.0,2150616.0,1853363.0,1590526.0,2508072.0,1730318.0,1434657.0,1483783.0,1401443.0,1469453.0,1661834.0,827559.0,2231240.0,1640846.0,1800347.0,1585721.0,1748377.0,1742388.0,2344843.0,1645721.0,1534347.0,1946631.0,1503959.0,1505927.0,1424792.0,1950123.0,1871877.0,1829052.0,1860207.0,1999861.0,1704469.0,1931398.0,1590994.0,1825492.0,1684292.0,1464472.0,2592498.0,1942461.0,1642425.0,315745.0,1682046.6187881317,470053.6532489937,1883785.389906961,1960003.6658251581,660552.0,2002274.1402614727,223654.73571614834,589962.7688149984,1948091.7270437204,2050875.997067518,1442229.4490797096,1772698.25336254,1934175.6846856098,2045404.2308809035,1391124.2645312077,190576.0,57953.0,1986281.5951437785,2014539.6503487702,1021333.2474115022,1240498.1634678845,861327.0,2279534.564915832,1325383.0,1613175.2799283194,1024024.0,1673258.6679781042,2160622.5008472227,466643.0,1641333.4956850691,2105875.8459700746,1436253.560372093,1968408.187285607,1762478.2075254251,1814754.938498397]},\"name\":\"\",\"parents\":[\"Rajasthan\",\"Rajasthan\",\"Haryana\",\"Jammu and Kashmir\",\"Tamil Nadu\",\"Tamil Nadu\",\"Telangana\",\"Uttar Pradesh\",\"Gujarat\",\"Gujarat\",\"Maharashtra\",\"Uttar Pradesh\",\"Maharashtra\",\"Kerala\",\"Kerala\",\"Uttar Pradesh\",\"West Bengal\",\"Uttar Pradesh\",\"Uttarakhand\",\"Andhra Pradesh\",\"Uttar Pradesh\",\"Uttar Pradesh\",\"Maharashtra\",\"Gujarat\",\"Punjab\",\"Uttar Pradesh\",\"Andhra Pradesh\",\"Gujarat\",\"Punjab\",\"Andhra Pradesh\",\"Andaman & Nicobar Islands\",\"Uttar Pradesh\",\"Andhra Pradesh\",\"West Bengal\",\"Bihar\",\"Bihar\",\"Arunachal Pradesh\",\"Arunachal Pradesh\",\"West Bengal\",\"Odisha\",\"Kerala\",\"Bihar\",\"Maharashtra\",\"Uttar Pradesh\",\"Madhya Pradesh\",\"Rajasthan\",\"Jammu and Kashmir\",\"Rajasthan\",\"Chhattisgarh\",\"Madhya Pradesh\",\"Rajasthan\",\"Rajasthan\",\"Madhya Pradesh\",\"Haryana\",\"Madhya Pradesh\",\"Rajasthan\",\"Chhattisgarh\",\"Uttar Pradesh\",\"Karnataka\",\"Uttar Pradesh\",\"Uttar Pradesh\",\"West Bengal\",\"Odisha\",\"Uttar Pradesh\",\"West Bengal\",\"Gujarat\",\"Uttar Pradesh\",\"Karnataka\",\"Karnataka\",\"Karnataka\",\"Karnataka\",\"West Bengal\",\"Bihar\",\"West Bengal\",\"Uttar Pradesh\",\"Andhra Pradesh\",\"Uttar Pradesh\",\"Maharashtra\",\"West Bengal\",\"West Bengal\",\"West Bengal\",\"Gujarat\",\"Uttar Pradesh\",\"Odisha\",\"Assam\",\"West Bengal\",\"West Bengal\",\"Uttar Pradesh\",\"Punjab\",\"Maharashtra\",\"Bihar\",\"Karnataka\",\"Karnataka\",\"Odisha\",\"Uttar Pradesh\",\"Odisha\",\"Bihar\",\"Maharashtra\",\"Gujarat\",\"Gujarat\",\"Maharashtra\",\"Telangana\",\"Odisha\",\"Karnataka\",\"Karnataka\",\"Uttar Pradesh\",\"West Bengal\",\"West Bengal\",\"Odisha\",\"West Bengal\",\"Uttar Pradesh\",\"Maharashtra\",\"Bihar\",\"Tamil Nadu\",\"Tamil Nadu\",\"Tamil Nadu\",\"Madhya Pradesh\",\"Tamil Nadu\",\"Rajasthan\",\"Rajasthan\",\"Tamil Nadu\",\"Tamil Nadu\",\"Kerala\",\"Karnataka\",\"Uttar Pradesh\",\"Chandigarh\",\"NCT OF Delhi\",\"Maharashtra\",\"Jharkhand\",\"Telangana\",\"Gujarat\",\"Karnataka\",\"Karnataka\",\"Karnataka\",\"Andhra Pradesh\",\"West Bengal\",\"Odisha\",\"Madhya Pradesh\",\"Rajasthan\",\"Madhya Pradesh\",\"Madhya Pradesh\",\"Tamil Nadu\",\"Tamil Nadu\",\"Chhattisgarh\",\"Dadra & Nagar Haveli and Daman & Diu\",\"Gujarat\",\"Karnataka\",\"Dadra & Nagar Haveli and Daman & Diu\",\"Bihar\",\"West Bengal\",\"Assam\",\"Karnataka\",\"Uttar Pradesh\",\"Jharkhand\",\"Karnataka\",\"Uttar Pradesh\",\"Odisha\",\"Assam\",\"Maharashtra\",\"West Bengal\",\"Assam\",\"Maharashtra\",\"Assam\",\"Uttar Pradesh\",\"West Bengal\",\"Jharkhand\",\"Tamil Nadu\",\"NCT OF Delhi\",\"Andhra Pradesh\",\"Kerala\",\"Uttar Pradesh\",\"Uttar Pradesh\",\"Haryana\",\"Uttar Pradesh\",\"Punjab\",\"Uttar Pradesh\",\"Punjab\",\"Uttar Pradesh\",\"Uttar Pradesh\",\"Uttar Pradesh\",\"Punjab\",\"Rajasthan\",\"Madhya Pradesh\",\"Haryana\",\"Madhya Pradesh\",\"Maharashtra\",\"Gujarat\",\"Uttarakhand\",\"Uttar Pradesh\",\"Bihar\",\"West Bengal\",\"Uttar Pradesh\",\"Uttar Pradesh\",\"Uttar Pradesh\",\"Jharkhand\",\"Jharkhand\",\"Uttar Pradesh\",\"Bihar\",\"Uttar Pradesh\",\"Karnataka\",\"Andhra Pradesh\",\"Punjab\",\"Assam\",\"Himachal Pradesh\",\"Haryana\",\"Madhya Pradesh\",\"Bihar\",\"Uttar Pradesh\",\"Uttar Pradesh\",\"Uttarakhand\",\"Karnataka\",\"Uttar Pradesh\",\"Maharashtra\",\"Karnataka\",\"Jharkhand\",\"Andhra Pradesh\",\"Maharashtra\",\"West Bengal\",\"Punjab\",\"West Bengal\",\"Telangana\",\"Madhya Pradesh\",\"Kerala\",\"Manipur\",\"Madhya Pradesh\",\"Rajasthan\",\"Rajasthan\",\"Rajasthan\",\"Jammu and Kashmir\",\"Chhattisgarh\",\"Rajasthan\",\"Rajasthan\",\"Rajasthan\",\"West Bengal\",\"Odisha\",\"Bihar\",\"Odisha\",\"Punjab\",\"Uttar Pradesh\",\"Maharashtra\",\"Maharashtra\",\"West Bengal\",\"Gujarat\",\"Jharkhand\",\"Bihar\",\"West Bengal\",\"Uttar Pradesh\",\"West Bengal\",\"Bihar\",\"Uttar Pradesh\",\"West Bengal\",\"Assam\",\"Gujarat\",\"Tamil Nadu\",\"Tamil Nadu\",\"Himachal Pradesh\",\"Chhattisgarh\",\"Tamil Nadu\",\"Rajasthan\",\"Haryana\",\"Tamil Nadu\",\"Madhya Pradesh\",\"Madhya Pradesh\",\"Madhya Pradesh\",\"Chhattisgarh\",\"Rajasthan\",\"Tamil Nadu\",\"Haryana\",\"Gujarat\",\"Andhra Pradesh\",\"Uttar Pradesh\",\"Uttar Pradesh\",\"Andhra Pradesh\",\"Odisha\",\"Maharashtra\",\"Odisha\",\"Uttar Pradesh\",\"Kerala\",\"Uttar Pradesh\",\"West Bengal\",\"Bihar\",\"Assam\",\"Telangana\",\"Kerala\",\"Bihar\",\"Uttar Pradesh\",\"Assam\",\"Odisha\",\"Odisha\",\"Punjab\",\"Bihar\",\"Telangana\",\"Gujarat\",\"Uttar Pradesh\",\"Jharkhand\",\"Bihar\",\"Jharkhand\",\"Assam\",\"Karnataka\",\"Maharashtra\",\"West Bengal\",\"West Bengal\",\"Kerala\",\"Karnataka\",\"Odisha\",\"Kerala\",\"Kerala\",\"West Bengal\",\"Andhra Pradesh\",\"Uttar Pradesh\",\"Ladakh\",\"Assam\",\"Lakshadweep\",\"Uttar Pradesh\",\"Maharashtra\",\"Jharkhand\",\"Uttar Pradesh\",\"Punjab\",\"Tamil Nadu\",\"Chhattisgarh\",\"Himachal Pradesh\",\"Madhya Pradesh\",\"Madhya Pradesh\",\"Tamil Nadu\",\"Mizoram\",\"Madhya Pradesh\",\"Uttar Pradesh\",\"Andhra Pradesh\",\"Maharashtra\",\"Bihar\",\"Bihar\",\"Telangana\",\"Bihar\",\"Uttar Pradesh\",\"Telangana\",\"Gujarat\",\"Uttar Pradesh\",\"Kerala\",\"West Bengal\",\"West Bengal\",\"Telangana\",\"Karnataka\",\"Uttar Pradesh\",\"West Bengal\",\"Maharashtra\",\"Kerala\",\"Odisha\",\"Telangana\",\"West Bengal\",\"Uttar Pradesh\",\"Uttar Pradesh\",\"Uttar Pradesh\",\"Uttar Pradesh\",\"Uttar Pradesh\",\"Maharashtra\",\"Maharashtra\",\"Maharashtra\",\"Maharashtra\",\"Maharashtra\",\"Maharashtra\",\"Bihar\",\"West Bengal\",\"Uttar Pradesh\",\"Bihar\",\"Karnataka\",\"Tamil Nadu\",\"Rajasthan\",\"Tamil Nadu\",\"Tamil Nadu\",\"Odisha\",\"Nagaland\",\"Assam\",\"Telangana\",\"Uttar Pradesh\",\"Maharashtra\",\"Uttarakhand\",\"Bihar\",\"Telangana\",\"Maharashtra\",\"Maharashtra\",\"Andhra Pradesh\",\"Andhra Pradesh\",\"Andhra Pradesh\",\"Maharashtra\",\"Gujarat\",\"Bihar\",\"Andhra Pradesh\",\"NCT OF Delhi\",\"Telangana\",\"Goa\",\"NCT OF Delhi\",\"NCT OF Delhi\",\"Andhra Pradesh\",\"Maharashtra\",\"Manipur\",\"Rajasthan\",\"Tamil Nadu\",\"Tamil Nadu\",\"Puducherry\",\"Kerala\",\"Jharkhand\",\"Maharashtra\",\"Gujarat\",\"Maharashtra\",\"Bihar\",\"Gujarat\",\"Kerala\",\"Punjab\",\"Bihar\",\"Bihar\",\"Telangana\",\"Uttar Pradesh\",\"Uttar Pradesh\",\"Kerala\",\"Gujarat\",\"Uttar Pradesh\",\"Maharashtra\",\"Odisha\",\"Bihar\",\"West Bengal\",\"Bihar\",\"Chhattisgarh\",\"Chhattisgarh\",\"Madhya Pradesh\",\"Chhattisgarh\",\"Rajasthan\",\"Tamil Nadu\",\"Madhya Pradesh\",\"Madhya Pradesh\",\"Haryana\",\"Uttar Pradesh\",\"Karnataka\",\"Maharashtra\",\"West Bengal\",\"Andhra Pradesh\",\"Andhra Pradesh\",\"Gujarat\",\"Jharkhand\",\"Uttar Pradesh\",\"Maharashtra\",\"West Bengal\",\"Jharkhand\",\"Maharashtra\",\"Maharashtra\",\"Uttar Pradesh\",\"Madhya Pradesh\",\"Tamil Nadu\",\"Madhya Pradesh\",\"Madhya Pradesh\",\"Himachal Pradesh\",\"Madhya Pradesh\",\"Rajasthan\",\"Haryana\",\"Tamil Nadu\",\"Haryana\",\"Jammu and Kashmir\",\"Tamil Nadu\",\"Chhattisgarh\",\"Gujarat\",\"Uttar Pradesh\",\"Uttar Pradesh\",\"Bihar\",\"Odisha\",\"Uttar Pradesh\",\"Maharashtra\",\"Punjab\",\"Uttar Pradesh\",\"Bihar\",\"Bihar\",\"Maharashtra\",\"Telangana\",\"Uttar Pradesh\",\"Bihar\",\"Meghalaya\",\"Karnataka\",\"Maharashtra\",\"Maharashtra\",\"Uttar Pradesh\",\"Sikkim\",\"Assam\",\"Jharkhand\",\"Bihar\",\"Uttar Pradesh\",\"Bihar\",\"Maharashtra\",\"Assam\",\"NCT OF Delhi\",\"Goa\",\"West Bengal\",\"Andhra Pradesh\",\"Uttar Pradesh\",\"Odisha\",\"Bihar\",\"Gujarat\",\"Tamil Nadu\",\"Tamil Nadu\",\"Tamil Nadu\",\"Tamil Nadu\",\"Madhya Pradesh\",\"Tamil Nadu\",\"Tamil Nadu\",\"Tamil Nadu\",\"Tamil Nadu\",\"Tamil Nadu\",\"Rajasthan\",\"West Bengal\",\"Uttarakhand\",\"Maharashtra\",\"Andhra Pradesh\",\"Kerala\",\"Kerala\",\"Tripura\",\"Tripura\",\"Karnataka\",\"Meghalaya\",\"Rajasthan\",\"Jammu and Kashmir\",\"Madhya Pradesh\",\"Karnataka\",\"Bihar\",\"West Bengal\",\"Uttar Pradesh\",\"Karnataka\",\"Tamil Nadu\",\"Madhya Pradesh\",\"Tamil Nadu\",\"Tamil Nadu\",\"Kerala\",\"Gujarat\",\"Bihar\",\"Bihar\",\"Gujarat\",\"Uttar Pradesh\",\"Andhra Pradesh\",\"Andhra Pradesh\",\"Andhra Pradesh\",\"Telangana\",\"Maharashtra\",\"Kerala\",\"NCT OF Delhi\",\"Maharashtra\",\"Telangana\",\"\",\"\",\"\",\"\",\"\",\"\",\"\",\"\",\"\",\"\",\"\",\"\",\"\",\"\",\"\",\"\",\"\",\"\",\"\",\"\",\"\",\"\",\"\",\"\",\"\",\"\",\"\",\"\",\"\",\"\",\"\",\"\",\"\",\"\",\"\",\"\"],\"values\":[27991586,18675837,28049140,36990340,40771640,43490111,19828728,22834031,36724734,10365870,49723350,16883208,28419855,15473579,6700915,28040152,19563093,25594226,9579024,22983435,15310048,23383295,68034379,13866936,48526260,20648124,24020475,12464963,48736968,37154544,3788940,17042598,20242989,18850010,18177813,30570750,2270142,4160680,12403125,11363828,9807798,16882281,76265140,16847514,24384880,17604856,38379550,24294930,16211910,15183912,12749826,21486570,13393723,30969988,51467042,18456732,77845669,22113344,39821980,11656456,18392810,26841360,17710473,25180935,20331233,23559744,20988408,67521111,42044340,51521690,58422096,27619380,18599670,23206794,14605688,22667655,24950666,90245592,22891248,12622680,14826688,6146364,25040171,11437251,27706714,21169414,27088110,17143587,29864934,88029583,22004350,25112698,18844720,17547508,20399410,14191424,23858484,32947182,22407710,24939122,56365308,70560399,20100228,34098552,15583808,19175343,22313364,12309367,18035440,14737536,11207886,37528995,27080928,41860354,52376065,82958621,24520815,21293580,39073284,28888769,77940500,26850230,14423827,24901338,18505470,12550488,41161675,27596400,37239356,126379451,10934622,57471243,31869414,37147700,31228267,27590402,15749790,26964000,9517600,15548472,13685819,36643176,24129360,52313775,1415175,16886223,16363143,939407,14262824,24876572,24359676,51294270,13140589,57258850,31178255,20639748,15337020,34631831,36454950,22578624,4985994,18579240,4510250,11773230,23812348,30251648,47707760,42432200,21295508,13247570,17039350,12841423,58479288,25082187,44796108,14015880,21800814,29138955,16265826,13272364,48574391,18935712,28360425,59454586,41043914,16186900,30567628,18255029,40222230,25498620,13596191,41282080,20886360,58537836,29868208,38578436,14750984,22297594,27322698,29382892,53799720,42317886,16318120,17473188,50387092,22297896,27620810,20257644,22941348,28580608,26082270,19461380,49096692,25121516,33027107,21560877,60029706,22321236,25890976,24779622,66519150,35391692,8758204,6006690,36065420,29754309,32918325,27572304,40010454,37048680,14216818,16781856,32073615,32548016,18738379,25180740,20131722,33117360,12063498,28005628,51218778,22678080,25465426,46784700,13374333,25305784,27706056,20298993,20052780,21624040,23171655,6931776,19761852,32951037,19241112,15240320,14934366,34453056,7920728,40084338,77246946,27979504,23241614,10232045,43741377,31332795,43951977,55794482,21379963,22978886,24186106,7624128,24523815,18722418,58318400,10724640,29904240,16356960,18312734,16178922,24544065,33948480,50348704,13099770,16510608,19125360,22591855,17957250,17489351,45360945,22125204,57118320,24099372,20583464,9305961,21962364,33117675,17932848,31107564,44682675,31451955,22585290,15970476,35473304,16298062,17585932,18622604,19388589,32759629,16892658,571728,14224500,231812,12887770,55451452,21723375,21739530,75712508,33248250,29982866,13771730,29445416,15206464,26283275,5167962,30238920,23325156,23100675,63881536,16588864,23241108,35278734,9712245,16056520,52194979,10632288,14384408,11845712,30334919,27964275,83169966,24922086,29086950,21817356,85330608,12052431,20101562,80463548,16318845,16045352,19094480,16918182,24088526,24751704,34430185,47096019,32745840,36441195,21510202,22119900,24621948,20796479,20060887,48595872,37697580,12111372,19399518,58118080,22862224,6058440,3976149,23673299,33046890,9883860,57831332,20264380,66525826,37976488,42631236,21684564,53449921,30950031,26042430,63028425,31133256,16082288,23979760,25953798,49462139,4645680,69003116,66801124,40363125,61891004,4200968,30527562,33285531,23965755,26624624,14009140,20232738,21488500,15185872,72232898,14073872,20217720,11471648,47101080,45773486,39023959,67111464,31073040,18339610,11770080,21235128,47755448,72176020,11127886,13265252,21907500,21521280,23931011,90289140,28150080,28038435,20644780,40494025,25141308,26032146,49754328,14309848,16083528,21706386,35831480,19486224,30012930,19014534,23879912,10399458,57426656,13143193,59468256,13073976,43771848,21368736,22706320,41481725,32467637,17781580,6773325,34511615,31252676,36885061,32713100,39094176,41971272,73859918,18208800,27731158,18578160,16059708,21840192,21021532,22791504,37483520,35967584,22836550,25211060,19149140,30389200,95424750,23331430,22013244,8417352,40333145,33601340,81336000,23768916,6533002,10996472,20292594,27300392,14082936,24725428,42670341,13111936,50461356,4791472,21210816,21406918,16700418,12632768,28933305,28490014,22936950,18024672,40758200,40913096,12795832,54411700,38094095,20913360,29213604,47646783,23656776,16680267,17495786,60193728,39797314,17215884,13354047,12612987,13225077,29913012,3310236,17849920,19690152,16203123,15857210,22728901,20908656,18758744,21394373,47564757,25306203,25567303,40660029,14247920,27301722,28078155,18290520,13021449,13999027,28975973,63736134,23864910,76670664,40423008,13180248,62219952,33021837,31206075,3788940,760382145,6430822,255923751,967900555,12550488,432546029,2354582,9437152,513533670,448952479,53258563,177041768,461028816,936564838,269194745,571728,231812,725747817,2224797509,10207658,11727588,5167962,358033221,3976149,332476972,26624624,547767814,573577684,6533002,1528993329,1032760449,25838064,1655314624,94174827,916849467],\"type\":\"sunburst\"}],                        {\"template\":{\"data\":{\"histogram2dcontour\":[{\"type\":\"histogram2dcontour\",\"colorbar\":{\"outlinewidth\":0,\"ticks\":\"\"},\"colorscale\":[[0.0,\"#0d0887\"],[0.1111111111111111,\"#46039f\"],[0.2222222222222222,\"#7201a8\"],[0.3333333333333333,\"#9c179e\"],[0.4444444444444444,\"#bd3786\"],[0.5555555555555556,\"#d8576b\"],[0.6666666666666666,\"#ed7953\"],[0.7777777777777778,\"#fb9f3a\"],[0.8888888888888888,\"#fdca26\"],[1.0,\"#f0f921\"]]}],\"choropleth\":[{\"type\":\"choropleth\",\"colorbar\":{\"outlinewidth\":0,\"ticks\":\"\"}}],\"histogram2d\":[{\"type\":\"histogram2d\",\"colorbar\":{\"outlinewidth\":0,\"ticks\":\"\"},\"colorscale\":[[0.0,\"#0d0887\"],[0.1111111111111111,\"#46039f\"],[0.2222222222222222,\"#7201a8\"],[0.3333333333333333,\"#9c179e\"],[0.4444444444444444,\"#bd3786\"],[0.5555555555555556,\"#d8576b\"],[0.6666666666666666,\"#ed7953\"],[0.7777777777777778,\"#fb9f3a\"],[0.8888888888888888,\"#fdca26\"],[1.0,\"#f0f921\"]]}],\"heatmap\":[{\"type\":\"heatmap\",\"colorbar\":{\"outlinewidth\":0,\"ticks\":\"\"},\"colorscale\":[[0.0,\"#0d0887\"],[0.1111111111111111,\"#46039f\"],[0.2222222222222222,\"#7201a8\"],[0.3333333333333333,\"#9c179e\"],[0.4444444444444444,\"#bd3786\"],[0.5555555555555556,\"#d8576b\"],[0.6666666666666666,\"#ed7953\"],[0.7777777777777778,\"#fb9f3a\"],[0.8888888888888888,\"#fdca26\"],[1.0,\"#f0f921\"]]}],\"heatmapgl\":[{\"type\":\"heatmapgl\",\"colorbar\":{\"outlinewidth\":0,\"ticks\":\"\"},\"colorscale\":[[0.0,\"#0d0887\"],[0.1111111111111111,\"#46039f\"],[0.2222222222222222,\"#7201a8\"],[0.3333333333333333,\"#9c179e\"],[0.4444444444444444,\"#bd3786\"],[0.5555555555555556,\"#d8576b\"],[0.6666666666666666,\"#ed7953\"],[0.7777777777777778,\"#fb9f3a\"],[0.8888888888888888,\"#fdca26\"],[1.0,\"#f0f921\"]]}],\"contourcarpet\":[{\"type\":\"contourcarpet\",\"colorbar\":{\"outlinewidth\":0,\"ticks\":\"\"}}],\"contour\":[{\"type\":\"contour\",\"colorbar\":{\"outlinewidth\":0,\"ticks\":\"\"},\"colorscale\":[[0.0,\"#0d0887\"],[0.1111111111111111,\"#46039f\"],[0.2222222222222222,\"#7201a8\"],[0.3333333333333333,\"#9c179e\"],[0.4444444444444444,\"#bd3786\"],[0.5555555555555556,\"#d8576b\"],[0.6666666666666666,\"#ed7953\"],[0.7777777777777778,\"#fb9f3a\"],[0.8888888888888888,\"#fdca26\"],[1.0,\"#f0f921\"]]}],\"surface\":[{\"type\":\"surface\",\"colorbar\":{\"outlinewidth\":0,\"ticks\":\"\"},\"colorscale\":[[0.0,\"#0d0887\"],[0.1111111111111111,\"#46039f\"],[0.2222222222222222,\"#7201a8\"],[0.3333333333333333,\"#9c179e\"],[0.4444444444444444,\"#bd3786\"],[0.5555555555555556,\"#d8576b\"],[0.6666666666666666,\"#ed7953\"],[0.7777777777777778,\"#fb9f3a\"],[0.8888888888888888,\"#fdca26\"],[1.0,\"#f0f921\"]]}],\"mesh3d\":[{\"type\":\"mesh3d\",\"colorbar\":{\"outlinewidth\":0,\"ticks\":\"\"}}],\"scatter\":[{\"fillpattern\":{\"fillmode\":\"overlay\",\"size\":10,\"solidity\":0.2},\"type\":\"scatter\"}],\"parcoords\":[{\"type\":\"parcoords\",\"line\":{\"colorbar\":{\"outlinewidth\":0,\"ticks\":\"\"}}}],\"scatterpolargl\":[{\"type\":\"scatterpolargl\",\"marker\":{\"colorbar\":{\"outlinewidth\":0,\"ticks\":\"\"}}}],\"bar\":[{\"error_x\":{\"color\":\"#2a3f5f\"},\"error_y\":{\"color\":\"#2a3f5f\"},\"marker\":{\"line\":{\"color\":\"#E5ECF6\",\"width\":0.5},\"pattern\":{\"fillmode\":\"overlay\",\"size\":10,\"solidity\":0.2}},\"type\":\"bar\"}],\"scattergeo\":[{\"type\":\"scattergeo\",\"marker\":{\"colorbar\":{\"outlinewidth\":0,\"ticks\":\"\"}}}],\"scatterpolar\":[{\"type\":\"scatterpolar\",\"marker\":{\"colorbar\":{\"outlinewidth\":0,\"ticks\":\"\"}}}],\"histogram\":[{\"marker\":{\"pattern\":{\"fillmode\":\"overlay\",\"size\":10,\"solidity\":0.2}},\"type\":\"histogram\"}],\"scattergl\":[{\"type\":\"scattergl\",\"marker\":{\"colorbar\":{\"outlinewidth\":0,\"ticks\":\"\"}}}],\"scatter3d\":[{\"type\":\"scatter3d\",\"line\":{\"colorbar\":{\"outlinewidth\":0,\"ticks\":\"\"}},\"marker\":{\"colorbar\":{\"outlinewidth\":0,\"ticks\":\"\"}}}],\"scattermapbox\":[{\"type\":\"scattermapbox\",\"marker\":{\"colorbar\":{\"outlinewidth\":0,\"ticks\":\"\"}}}],\"scatterternary\":[{\"type\":\"scatterternary\",\"marker\":{\"colorbar\":{\"outlinewidth\":0,\"ticks\":\"\"}}}],\"scattercarpet\":[{\"type\":\"scattercarpet\",\"marker\":{\"colorbar\":{\"outlinewidth\":0,\"ticks\":\"\"}}}],\"carpet\":[{\"aaxis\":{\"endlinecolor\":\"#2a3f5f\",\"gridcolor\":\"white\",\"linecolor\":\"white\",\"minorgridcolor\":\"white\",\"startlinecolor\":\"#2a3f5f\"},\"baxis\":{\"endlinecolor\":\"#2a3f5f\",\"gridcolor\":\"white\",\"linecolor\":\"white\",\"minorgridcolor\":\"white\",\"startlinecolor\":\"#2a3f5f\"},\"type\":\"carpet\"}],\"table\":[{\"cells\":{\"fill\":{\"color\":\"#EBF0F8\"},\"line\":{\"color\":\"white\"}},\"header\":{\"fill\":{\"color\":\"#C8D4E3\"},\"line\":{\"color\":\"white\"}},\"type\":\"table\"}],\"barpolar\":[{\"marker\":{\"line\":{\"color\":\"#E5ECF6\",\"width\":0.5},\"pattern\":{\"fillmode\":\"overlay\",\"size\":10,\"solidity\":0.2}},\"type\":\"barpolar\"}],\"pie\":[{\"automargin\":true,\"type\":\"pie\"}]},\"layout\":{\"autotypenumbers\":\"strict\",\"colorway\":[\"#636efa\",\"#EF553B\",\"#00cc96\",\"#ab63fa\",\"#FFA15A\",\"#19d3f3\",\"#FF6692\",\"#B6E880\",\"#FF97FF\",\"#FECB52\"],\"font\":{\"color\":\"#2a3f5f\"},\"hovermode\":\"closest\",\"hoverlabel\":{\"align\":\"left\"},\"paper_bgcolor\":\"white\",\"plot_bgcolor\":\"#E5ECF6\",\"polar\":{\"bgcolor\":\"#E5ECF6\",\"angularaxis\":{\"gridcolor\":\"white\",\"linecolor\":\"white\",\"ticks\":\"\"},\"radialaxis\":{\"gridcolor\":\"white\",\"linecolor\":\"white\",\"ticks\":\"\"}},\"ternary\":{\"bgcolor\":\"#E5ECF6\",\"aaxis\":{\"gridcolor\":\"white\",\"linecolor\":\"white\",\"ticks\":\"\"},\"baxis\":{\"gridcolor\":\"white\",\"linecolor\":\"white\",\"ticks\":\"\"},\"caxis\":{\"gridcolor\":\"white\",\"linecolor\":\"white\",\"ticks\":\"\"}},\"coloraxis\":{\"colorbar\":{\"outlinewidth\":0,\"ticks\":\"\"}},\"colorscale\":{\"sequential\":[[0.0,\"#0d0887\"],[0.1111111111111111,\"#46039f\"],[0.2222222222222222,\"#7201a8\"],[0.3333333333333333,\"#9c179e\"],[0.4444444444444444,\"#bd3786\"],[0.5555555555555556,\"#d8576b\"],[0.6666666666666666,\"#ed7953\"],[0.7777777777777778,\"#fb9f3a\"],[0.8888888888888888,\"#fdca26\"],[1.0,\"#f0f921\"]],\"sequentialminus\":[[0.0,\"#0d0887\"],[0.1111111111111111,\"#46039f\"],[0.2222222222222222,\"#7201a8\"],[0.3333333333333333,\"#9c179e\"],[0.4444444444444444,\"#bd3786\"],[0.5555555555555556,\"#d8576b\"],[0.6666666666666666,\"#ed7953\"],[0.7777777777777778,\"#fb9f3a\"],[0.8888888888888888,\"#fdca26\"],[1.0,\"#f0f921\"]],\"diverging\":[[0,\"#8e0152\"],[0.1,\"#c51b7d\"],[0.2,\"#de77ae\"],[0.3,\"#f1b6da\"],[0.4,\"#fde0ef\"],[0.5,\"#f7f7f7\"],[0.6,\"#e6f5d0\"],[0.7,\"#b8e186\"],[0.8,\"#7fbc41\"],[0.9,\"#4d9221\"],[1,\"#276419\"]]},\"xaxis\":{\"gridcolor\":\"white\",\"linecolor\":\"white\",\"ticks\":\"\",\"title\":{\"standoff\":15},\"zerolinecolor\":\"white\",\"automargin\":true,\"zerolinewidth\":2},\"yaxis\":{\"gridcolor\":\"white\",\"linecolor\":\"white\",\"ticks\":\"\",\"title\":{\"standoff\":15},\"zerolinecolor\":\"white\",\"automargin\":true,\"zerolinewidth\":2},\"scene\":{\"xaxis\":{\"backgroundcolor\":\"#E5ECF6\",\"gridcolor\":\"white\",\"linecolor\":\"white\",\"showbackground\":true,\"ticks\":\"\",\"zerolinecolor\":\"white\",\"gridwidth\":2},\"yaxis\":{\"backgroundcolor\":\"#E5ECF6\",\"gridcolor\":\"white\",\"linecolor\":\"white\",\"showbackground\":true,\"ticks\":\"\",\"zerolinecolor\":\"white\",\"gridwidth\":2},\"zaxis\":{\"backgroundcolor\":\"#E5ECF6\",\"gridcolor\":\"white\",\"linecolor\":\"white\",\"showbackground\":true,\"ticks\":\"\",\"zerolinecolor\":\"white\",\"gridwidth\":2}},\"shapedefaults\":{\"line\":{\"color\":\"#2a3f5f\"}},\"annotationdefaults\":{\"arrowcolor\":\"#2a3f5f\",\"arrowhead\":0,\"arrowwidth\":1},\"geo\":{\"bgcolor\":\"white\",\"landcolor\":\"#E5ECF6\",\"subunitcolor\":\"white\",\"showland\":true,\"showlakes\":true,\"lakecolor\":\"white\"},\"title\":{\"x\":0.05},\"mapbox\":{\"style\":\"light\"}}},\"coloraxis\":{\"colorbar\":{\"title\":{\"text\":\"TOTAL ELECTORS\"}},\"colorscale\":[[0.0,\"rgb(236, 218, 154)\"],[0.16666666666666666,\"rgb(239, 196, 126)\"],[0.3333333333333333,\"rgb(243, 173, 106)\"],[0.5,\"rgb(247, 148, 93)\"],[0.6666666666666666,\"rgb(249, 123, 87)\"],[0.8333333333333334,\"rgb(246, 99, 86)\"],[1.0,\"rgb(238, 77, 90)\"]]},\"legend\":{\"tracegroupgap\":0},\"margin\":{\"t\":60},\"title\":{\"font\":{\"family\":\"Courier New\",\"color\":\"#351f39\"},\"text\":\"State and Constituency by total electors\"},\"font\":{\"family\":\"Courier New\",\"color\":\"#351f39\"},\"xaxis\":{\"title\":{\"text\":\"Party\"}},\"yaxis\":{\"title\":{\"text\":\"Seats\"}}},                        {\"responsive\": true}                    ).then(function(){\n",
       "                            \n",
       "var gd = document.getElementById('2519af52-6178-4811-b991-44cd55f9ed14');\n",
       "var x = new MutationObserver(function (mutations, observer) {{\n",
       "        var display = window.getComputedStyle(gd).display;\n",
       "        if (!display || display === 'none') {{\n",
       "            console.log([gd, 'removed!']);\n",
       "            Plotly.purge(gd);\n",
       "            observer.disconnect();\n",
       "        }}\n",
       "}});\n",
       "\n",
       "// Listen for the removal of the full notebook cells\n",
       "var notebookContainer = gd.closest('#notebook-container');\n",
       "if (notebookContainer) {{\n",
       "    x.observe(notebookContainer, {childList: true});\n",
       "}}\n",
       "\n",
       "// Listen for the clearing of the current output cell\n",
       "var outputEl = gd.closest('.output');\n",
       "if (outputEl) {{\n",
       "    x.observe(outputEl, {childList: true});\n",
       "}}\n",
       "\n",
       "                        })                };                });            </script>        </div>"
      ]
     },
     "metadata": {},
     "output_type": "display_data"
    }
   ],
   "source": [
    "state_df = df[['STATE','CONSTITUENCY','TOTAL ELECTORS']]\n",
    "state_fig = px.sunburst(state_df, \n",
    "                        path=['STATE','CONSTITUENCY'], \n",
    "                        values='TOTAL ELECTORS',\n",
    "                        color='TOTAL ELECTORS',\n",
    "                        color_continuous_scale='Oryel')\n",
    "state_fig.update_layout(title_text='State and Constituency by total electors',\n",
    "                       font_family=\"Courier New\",\n",
    "                         font_color=\"#351f39\",\n",
    "                         title_font_family=\"Courier New\",\n",
    "                         title_font_color=\"#351f39\",\n",
    "                         xaxis_title=\"Party\",\n",
    "                         yaxis_title=\"Seats\")\n",
    "state_fig.show()"
   ]
  },
  {
   "cell_type": "code",
   "execution_count": 102,
   "metadata": {},
   "outputs": [
    {
     "data": {
      "application/vnd.plotly.v1+json": {
       "config": {
        "plotlyServerURL": "https://plot.ly"
       },
       "data": [
        {
         "alignmentgroup": "True",
         "hovertemplate": "x=%{x}<br>y=%{y}<br>color=%{marker.color}<extra></extra>",
         "legendgroup": "",
         "marker": {
          "color": [
           240,
           99,
           38,
           30,
           27,
           22,
           16,
           12,
           9,
           8,
           7,
           5,
           4,
           4,
           4,
           3,
           3,
           3,
           2,
           2
          ],
          "coloraxis": "coloraxis",
          "pattern": {
           "shape": ""
          }
         },
         "name": "",
         "offsetgroup": "",
         "orientation": "v",
         "showlegend": false,
         "textposition": "auto",
         "type": "bar",
         "x": [
          "BJP",
          "INC",
          "SP",
          "AITC",
          "IND",
          "DMK",
          "TDP",
          "JD(U)",
          "SHSUBT",
          "NCPSP",
          "SHS",
          "LJPRV",
          "CPI(M)",
          "RJD",
          "YSRCP",
          "IUML",
          "AAAP",
          "JMM",
          "JnP",
          "CPI(ML)(L)"
         ],
         "xaxis": "x",
         "y": [
          240,
          99,
          38,
          30,
          27,
          22,
          16,
          12,
          9,
          8,
          7,
          5,
          4,
          4,
          4,
          3,
          3,
          3,
          2,
          2
         ],
         "yaxis": "y"
        }
       ],
       "layout": {
        "barmode": "relative",
        "coloraxis": {
         "colorbar": {
          "title": {
           "text": "color"
          }
         },
         "colorscale": [
          [
           0,
           "rgb(236, 218, 154)"
          ],
          [
           0.16666666666666666,
           "rgb(239, 196, 126)"
          ],
          [
           0.3333333333333333,
           "rgb(243, 173, 106)"
          ],
          [
           0.5,
           "rgb(247, 148, 93)"
          ],
          [
           0.6666666666666666,
           "rgb(249, 123, 87)"
          ],
          [
           0.8333333333333334,
           "rgb(246, 99, 86)"
          ],
          [
           1,
           "rgb(238, 77, 90)"
          ]
         ]
        },
        "font": {
         "color": "#351f39",
         "family": "Courier New"
        },
        "height": 500,
        "legend": {
         "tracegroupgap": 0
        },
        "margin": {
         "t": 60
        },
        "template": {
         "data": {
          "bar": [
           {
            "error_x": {
             "color": "#2a3f5f"
            },
            "error_y": {
             "color": "#2a3f5f"
            },
            "marker": {
             "line": {
              "color": "#E5ECF6",
              "width": 0.5
             },
             "pattern": {
              "fillmode": "overlay",
              "size": 10,
              "solidity": 0.2
             }
            },
            "type": "bar"
           }
          ],
          "barpolar": [
           {
            "marker": {
             "line": {
              "color": "#E5ECF6",
              "width": 0.5
             },
             "pattern": {
              "fillmode": "overlay",
              "size": 10,
              "solidity": 0.2
             }
            },
            "type": "barpolar"
           }
          ],
          "carpet": [
           {
            "aaxis": {
             "endlinecolor": "#2a3f5f",
             "gridcolor": "white",
             "linecolor": "white",
             "minorgridcolor": "white",
             "startlinecolor": "#2a3f5f"
            },
            "baxis": {
             "endlinecolor": "#2a3f5f",
             "gridcolor": "white",
             "linecolor": "white",
             "minorgridcolor": "white",
             "startlinecolor": "#2a3f5f"
            },
            "type": "carpet"
           }
          ],
          "choropleth": [
           {
            "colorbar": {
             "outlinewidth": 0,
             "ticks": ""
            },
            "type": "choropleth"
           }
          ],
          "contour": [
           {
            "colorbar": {
             "outlinewidth": 0,
             "ticks": ""
            },
            "colorscale": [
             [
              0,
              "#0d0887"
             ],
             [
              0.1111111111111111,
              "#46039f"
             ],
             [
              0.2222222222222222,
              "#7201a8"
             ],
             [
              0.3333333333333333,
              "#9c179e"
             ],
             [
              0.4444444444444444,
              "#bd3786"
             ],
             [
              0.5555555555555556,
              "#d8576b"
             ],
             [
              0.6666666666666666,
              "#ed7953"
             ],
             [
              0.7777777777777778,
              "#fb9f3a"
             ],
             [
              0.8888888888888888,
              "#fdca26"
             ],
             [
              1,
              "#f0f921"
             ]
            ],
            "type": "contour"
           }
          ],
          "contourcarpet": [
           {
            "colorbar": {
             "outlinewidth": 0,
             "ticks": ""
            },
            "type": "contourcarpet"
           }
          ],
          "heatmap": [
           {
            "colorbar": {
             "outlinewidth": 0,
             "ticks": ""
            },
            "colorscale": [
             [
              0,
              "#0d0887"
             ],
             [
              0.1111111111111111,
              "#46039f"
             ],
             [
              0.2222222222222222,
              "#7201a8"
             ],
             [
              0.3333333333333333,
              "#9c179e"
             ],
             [
              0.4444444444444444,
              "#bd3786"
             ],
             [
              0.5555555555555556,
              "#d8576b"
             ],
             [
              0.6666666666666666,
              "#ed7953"
             ],
             [
              0.7777777777777778,
              "#fb9f3a"
             ],
             [
              0.8888888888888888,
              "#fdca26"
             ],
             [
              1,
              "#f0f921"
             ]
            ],
            "type": "heatmap"
           }
          ],
          "heatmapgl": [
           {
            "colorbar": {
             "outlinewidth": 0,
             "ticks": ""
            },
            "colorscale": [
             [
              0,
              "#0d0887"
             ],
             [
              0.1111111111111111,
              "#46039f"
             ],
             [
              0.2222222222222222,
              "#7201a8"
             ],
             [
              0.3333333333333333,
              "#9c179e"
             ],
             [
              0.4444444444444444,
              "#bd3786"
             ],
             [
              0.5555555555555556,
              "#d8576b"
             ],
             [
              0.6666666666666666,
              "#ed7953"
             ],
             [
              0.7777777777777778,
              "#fb9f3a"
             ],
             [
              0.8888888888888888,
              "#fdca26"
             ],
             [
              1,
              "#f0f921"
             ]
            ],
            "type": "heatmapgl"
           }
          ],
          "histogram": [
           {
            "marker": {
             "pattern": {
              "fillmode": "overlay",
              "size": 10,
              "solidity": 0.2
             }
            },
            "type": "histogram"
           }
          ],
          "histogram2d": [
           {
            "colorbar": {
             "outlinewidth": 0,
             "ticks": ""
            },
            "colorscale": [
             [
              0,
              "#0d0887"
             ],
             [
              0.1111111111111111,
              "#46039f"
             ],
             [
              0.2222222222222222,
              "#7201a8"
             ],
             [
              0.3333333333333333,
              "#9c179e"
             ],
             [
              0.4444444444444444,
              "#bd3786"
             ],
             [
              0.5555555555555556,
              "#d8576b"
             ],
             [
              0.6666666666666666,
              "#ed7953"
             ],
             [
              0.7777777777777778,
              "#fb9f3a"
             ],
             [
              0.8888888888888888,
              "#fdca26"
             ],
             [
              1,
              "#f0f921"
             ]
            ],
            "type": "histogram2d"
           }
          ],
          "histogram2dcontour": [
           {
            "colorbar": {
             "outlinewidth": 0,
             "ticks": ""
            },
            "colorscale": [
             [
              0,
              "#0d0887"
             ],
             [
              0.1111111111111111,
              "#46039f"
             ],
             [
              0.2222222222222222,
              "#7201a8"
             ],
             [
              0.3333333333333333,
              "#9c179e"
             ],
             [
              0.4444444444444444,
              "#bd3786"
             ],
             [
              0.5555555555555556,
              "#d8576b"
             ],
             [
              0.6666666666666666,
              "#ed7953"
             ],
             [
              0.7777777777777778,
              "#fb9f3a"
             ],
             [
              0.8888888888888888,
              "#fdca26"
             ],
             [
              1,
              "#f0f921"
             ]
            ],
            "type": "histogram2dcontour"
           }
          ],
          "mesh3d": [
           {
            "colorbar": {
             "outlinewidth": 0,
             "ticks": ""
            },
            "type": "mesh3d"
           }
          ],
          "parcoords": [
           {
            "line": {
             "colorbar": {
              "outlinewidth": 0,
              "ticks": ""
             }
            },
            "type": "parcoords"
           }
          ],
          "pie": [
           {
            "automargin": true,
            "type": "pie"
           }
          ],
          "scatter": [
           {
            "fillpattern": {
             "fillmode": "overlay",
             "size": 10,
             "solidity": 0.2
            },
            "type": "scatter"
           }
          ],
          "scatter3d": [
           {
            "line": {
             "colorbar": {
              "outlinewidth": 0,
              "ticks": ""
             }
            },
            "marker": {
             "colorbar": {
              "outlinewidth": 0,
              "ticks": ""
             }
            },
            "type": "scatter3d"
           }
          ],
          "scattercarpet": [
           {
            "marker": {
             "colorbar": {
              "outlinewidth": 0,
              "ticks": ""
             }
            },
            "type": "scattercarpet"
           }
          ],
          "scattergeo": [
           {
            "marker": {
             "colorbar": {
              "outlinewidth": 0,
              "ticks": ""
             }
            },
            "type": "scattergeo"
           }
          ],
          "scattergl": [
           {
            "marker": {
             "colorbar": {
              "outlinewidth": 0,
              "ticks": ""
             }
            },
            "type": "scattergl"
           }
          ],
          "scattermapbox": [
           {
            "marker": {
             "colorbar": {
              "outlinewidth": 0,
              "ticks": ""
             }
            },
            "type": "scattermapbox"
           }
          ],
          "scatterpolar": [
           {
            "marker": {
             "colorbar": {
              "outlinewidth": 0,
              "ticks": ""
             }
            },
            "type": "scatterpolar"
           }
          ],
          "scatterpolargl": [
           {
            "marker": {
             "colorbar": {
              "outlinewidth": 0,
              "ticks": ""
             }
            },
            "type": "scatterpolargl"
           }
          ],
          "scatterternary": [
           {
            "marker": {
             "colorbar": {
              "outlinewidth": 0,
              "ticks": ""
             }
            },
            "type": "scatterternary"
           }
          ],
          "surface": [
           {
            "colorbar": {
             "outlinewidth": 0,
             "ticks": ""
            },
            "colorscale": [
             [
              0,
              "#0d0887"
             ],
             [
              0.1111111111111111,
              "#46039f"
             ],
             [
              0.2222222222222222,
              "#7201a8"
             ],
             [
              0.3333333333333333,
              "#9c179e"
             ],
             [
              0.4444444444444444,
              "#bd3786"
             ],
             [
              0.5555555555555556,
              "#d8576b"
             ],
             [
              0.6666666666666666,
              "#ed7953"
             ],
             [
              0.7777777777777778,
              "#fb9f3a"
             ],
             [
              0.8888888888888888,
              "#fdca26"
             ],
             [
              1,
              "#f0f921"
             ]
            ],
            "type": "surface"
           }
          ],
          "table": [
           {
            "cells": {
             "fill": {
              "color": "#EBF0F8"
             },
             "line": {
              "color": "white"
             }
            },
            "header": {
             "fill": {
              "color": "#C8D4E3"
             },
             "line": {
              "color": "white"
             }
            },
            "type": "table"
           }
          ]
         },
         "layout": {
          "annotationdefaults": {
           "arrowcolor": "#2a3f5f",
           "arrowhead": 0,
           "arrowwidth": 1
          },
          "autotypenumbers": "strict",
          "coloraxis": {
           "colorbar": {
            "outlinewidth": 0,
            "ticks": ""
           }
          },
          "colorscale": {
           "diverging": [
            [
             0,
             "#8e0152"
            ],
            [
             0.1,
             "#c51b7d"
            ],
            [
             0.2,
             "#de77ae"
            ],
            [
             0.3,
             "#f1b6da"
            ],
            [
             0.4,
             "#fde0ef"
            ],
            [
             0.5,
             "#f7f7f7"
            ],
            [
             0.6,
             "#e6f5d0"
            ],
            [
             0.7,
             "#b8e186"
            ],
            [
             0.8,
             "#7fbc41"
            ],
            [
             0.9,
             "#4d9221"
            ],
            [
             1,
             "#276419"
            ]
           ],
           "sequential": [
            [
             0,
             "#0d0887"
            ],
            [
             0.1111111111111111,
             "#46039f"
            ],
            [
             0.2222222222222222,
             "#7201a8"
            ],
            [
             0.3333333333333333,
             "#9c179e"
            ],
            [
             0.4444444444444444,
             "#bd3786"
            ],
            [
             0.5555555555555556,
             "#d8576b"
            ],
            [
             0.6666666666666666,
             "#ed7953"
            ],
            [
             0.7777777777777778,
             "#fb9f3a"
            ],
            [
             0.8888888888888888,
             "#fdca26"
            ],
            [
             1,
             "#f0f921"
            ]
           ],
           "sequentialminus": [
            [
             0,
             "#0d0887"
            ],
            [
             0.1111111111111111,
             "#46039f"
            ],
            [
             0.2222222222222222,
             "#7201a8"
            ],
            [
             0.3333333333333333,
             "#9c179e"
            ],
            [
             0.4444444444444444,
             "#bd3786"
            ],
            [
             0.5555555555555556,
             "#d8576b"
            ],
            [
             0.6666666666666666,
             "#ed7953"
            ],
            [
             0.7777777777777778,
             "#fb9f3a"
            ],
            [
             0.8888888888888888,
             "#fdca26"
            ],
            [
             1,
             "#f0f921"
            ]
           ]
          },
          "colorway": [
           "#636efa",
           "#EF553B",
           "#00cc96",
           "#ab63fa",
           "#FFA15A",
           "#19d3f3",
           "#FF6692",
           "#B6E880",
           "#FF97FF",
           "#FECB52"
          ],
          "font": {
           "color": "#2a3f5f"
          },
          "geo": {
           "bgcolor": "white",
           "lakecolor": "white",
           "landcolor": "#E5ECF6",
           "showlakes": true,
           "showland": true,
           "subunitcolor": "white"
          },
          "hoverlabel": {
           "align": "left"
          },
          "hovermode": "closest",
          "mapbox": {
           "style": "light"
          },
          "paper_bgcolor": "white",
          "plot_bgcolor": "#E5ECF6",
          "polar": {
           "angularaxis": {
            "gridcolor": "white",
            "linecolor": "white",
            "ticks": ""
           },
           "bgcolor": "#E5ECF6",
           "radialaxis": {
            "gridcolor": "white",
            "linecolor": "white",
            "ticks": ""
           }
          },
          "scene": {
           "xaxis": {
            "backgroundcolor": "#E5ECF6",
            "gridcolor": "white",
            "gridwidth": 2,
            "linecolor": "white",
            "showbackground": true,
            "ticks": "",
            "zerolinecolor": "white"
           },
           "yaxis": {
            "backgroundcolor": "#E5ECF6",
            "gridcolor": "white",
            "gridwidth": 2,
            "linecolor": "white",
            "showbackground": true,
            "ticks": "",
            "zerolinecolor": "white"
           },
           "zaxis": {
            "backgroundcolor": "#E5ECF6",
            "gridcolor": "white",
            "gridwidth": 2,
            "linecolor": "white",
            "showbackground": true,
            "ticks": "",
            "zerolinecolor": "white"
           }
          },
          "shapedefaults": {
           "line": {
            "color": "#2a3f5f"
           }
          },
          "ternary": {
           "aaxis": {
            "gridcolor": "white",
            "linecolor": "white",
            "ticks": ""
           },
           "baxis": {
            "gridcolor": "white",
            "linecolor": "white",
            "ticks": ""
           },
           "bgcolor": "#E5ECF6",
           "caxis": {
            "gridcolor": "white",
            "linecolor": "white",
            "ticks": ""
           }
          },
          "title": {
           "x": 0.05
          },
          "xaxis": {
           "automargin": true,
           "gridcolor": "white",
           "linecolor": "white",
           "ticks": "",
           "title": {
            "standoff": 15
           },
           "zerolinecolor": "white",
           "zerolinewidth": 2
          },
          "yaxis": {
           "automargin": true,
           "gridcolor": "white",
           "linecolor": "white",
           "ticks": "",
           "title": {
            "standoff": 15
           },
           "zerolinecolor": "white",
           "zerolinewidth": 2
          }
         }
        },
        "title": {
         "font": {
          "color": "#351f39",
          "family": "Courier New"
         },
         "text": "Top 20 Party-wise election results"
        },
        "xaxis": {
         "anchor": "y",
         "domain": [
          0,
          1
         ],
         "title": {
          "text": "Party"
         }
        },
        "yaxis": {
         "anchor": "x",
         "domain": [
          0,
          1
         ],
         "title": {
          "text": "Seats"
         }
        }
       }
      },
      "text/html": [
       "<div>                            <div id=\"45e0990e-ce02-42f6-9a31-fe6e86cba414\" class=\"plotly-graph-div\" style=\"height:500px; width:100%;\"></div>            <script type=\"text/javascript\">                require([\"plotly\"], function(Plotly) {                    window.PLOTLYENV=window.PLOTLYENV || {};                                    if (document.getElementById(\"45e0990e-ce02-42f6-9a31-fe6e86cba414\")) {                    Plotly.newPlot(                        \"45e0990e-ce02-42f6-9a31-fe6e86cba414\",                        [{\"alignmentgroup\":\"True\",\"hovertemplate\":\"x=%{x}\\u003cbr\\u003ey=%{y}\\u003cbr\\u003ecolor=%{marker.color}\\u003cextra\\u003e\\u003c\\u002fextra\\u003e\",\"legendgroup\":\"\",\"marker\":{\"color\":[240,99,38,30,27,22,16,12,9,8,7,5,4,4,4,3,3,3,2,2],\"coloraxis\":\"coloraxis\",\"pattern\":{\"shape\":\"\"}},\"name\":\"\",\"offsetgroup\":\"\",\"orientation\":\"v\",\"showlegend\":false,\"textposition\":\"auto\",\"x\":[\"BJP\",\"INC\",\"SP\",\"AITC\",\"IND\",\"DMK\",\"TDP\",\"JD(U)\",\"SHSUBT\",\"NCPSP\",\"SHS\",\"LJPRV\",\"CPI(M)\",\"RJD\",\"YSRCP\",\"IUML\",\"AAAP\",\"JMM\",\"JnP\",\"CPI(ML)(L)\"],\"xaxis\":\"x\",\"y\":[240,99,38,30,27,22,16,12,9,8,7,5,4,4,4,3,3,3,2,2],\"yaxis\":\"y\",\"type\":\"bar\"}],                        {\"template\":{\"data\":{\"histogram2dcontour\":[{\"type\":\"histogram2dcontour\",\"colorbar\":{\"outlinewidth\":0,\"ticks\":\"\"},\"colorscale\":[[0.0,\"#0d0887\"],[0.1111111111111111,\"#46039f\"],[0.2222222222222222,\"#7201a8\"],[0.3333333333333333,\"#9c179e\"],[0.4444444444444444,\"#bd3786\"],[0.5555555555555556,\"#d8576b\"],[0.6666666666666666,\"#ed7953\"],[0.7777777777777778,\"#fb9f3a\"],[0.8888888888888888,\"#fdca26\"],[1.0,\"#f0f921\"]]}],\"choropleth\":[{\"type\":\"choropleth\",\"colorbar\":{\"outlinewidth\":0,\"ticks\":\"\"}}],\"histogram2d\":[{\"type\":\"histogram2d\",\"colorbar\":{\"outlinewidth\":0,\"ticks\":\"\"},\"colorscale\":[[0.0,\"#0d0887\"],[0.1111111111111111,\"#46039f\"],[0.2222222222222222,\"#7201a8\"],[0.3333333333333333,\"#9c179e\"],[0.4444444444444444,\"#bd3786\"],[0.5555555555555556,\"#d8576b\"],[0.6666666666666666,\"#ed7953\"],[0.7777777777777778,\"#fb9f3a\"],[0.8888888888888888,\"#fdca26\"],[1.0,\"#f0f921\"]]}],\"heatmap\":[{\"type\":\"heatmap\",\"colorbar\":{\"outlinewidth\":0,\"ticks\":\"\"},\"colorscale\":[[0.0,\"#0d0887\"],[0.1111111111111111,\"#46039f\"],[0.2222222222222222,\"#7201a8\"],[0.3333333333333333,\"#9c179e\"],[0.4444444444444444,\"#bd3786\"],[0.5555555555555556,\"#d8576b\"],[0.6666666666666666,\"#ed7953\"],[0.7777777777777778,\"#fb9f3a\"],[0.8888888888888888,\"#fdca26\"],[1.0,\"#f0f921\"]]}],\"heatmapgl\":[{\"type\":\"heatmapgl\",\"colorbar\":{\"outlinewidth\":0,\"ticks\":\"\"},\"colorscale\":[[0.0,\"#0d0887\"],[0.1111111111111111,\"#46039f\"],[0.2222222222222222,\"#7201a8\"],[0.3333333333333333,\"#9c179e\"],[0.4444444444444444,\"#bd3786\"],[0.5555555555555556,\"#d8576b\"],[0.6666666666666666,\"#ed7953\"],[0.7777777777777778,\"#fb9f3a\"],[0.8888888888888888,\"#fdca26\"],[1.0,\"#f0f921\"]]}],\"contourcarpet\":[{\"type\":\"contourcarpet\",\"colorbar\":{\"outlinewidth\":0,\"ticks\":\"\"}}],\"contour\":[{\"type\":\"contour\",\"colorbar\":{\"outlinewidth\":0,\"ticks\":\"\"},\"colorscale\":[[0.0,\"#0d0887\"],[0.1111111111111111,\"#46039f\"],[0.2222222222222222,\"#7201a8\"],[0.3333333333333333,\"#9c179e\"],[0.4444444444444444,\"#bd3786\"],[0.5555555555555556,\"#d8576b\"],[0.6666666666666666,\"#ed7953\"],[0.7777777777777778,\"#fb9f3a\"],[0.8888888888888888,\"#fdca26\"],[1.0,\"#f0f921\"]]}],\"surface\":[{\"type\":\"surface\",\"colorbar\":{\"outlinewidth\":0,\"ticks\":\"\"},\"colorscale\":[[0.0,\"#0d0887\"],[0.1111111111111111,\"#46039f\"],[0.2222222222222222,\"#7201a8\"],[0.3333333333333333,\"#9c179e\"],[0.4444444444444444,\"#bd3786\"],[0.5555555555555556,\"#d8576b\"],[0.6666666666666666,\"#ed7953\"],[0.7777777777777778,\"#fb9f3a\"],[0.8888888888888888,\"#fdca26\"],[1.0,\"#f0f921\"]]}],\"mesh3d\":[{\"type\":\"mesh3d\",\"colorbar\":{\"outlinewidth\":0,\"ticks\":\"\"}}],\"scatter\":[{\"fillpattern\":{\"fillmode\":\"overlay\",\"size\":10,\"solidity\":0.2},\"type\":\"scatter\"}],\"parcoords\":[{\"type\":\"parcoords\",\"line\":{\"colorbar\":{\"outlinewidth\":0,\"ticks\":\"\"}}}],\"scatterpolargl\":[{\"type\":\"scatterpolargl\",\"marker\":{\"colorbar\":{\"outlinewidth\":0,\"ticks\":\"\"}}}],\"bar\":[{\"error_x\":{\"color\":\"#2a3f5f\"},\"error_y\":{\"color\":\"#2a3f5f\"},\"marker\":{\"line\":{\"color\":\"#E5ECF6\",\"width\":0.5},\"pattern\":{\"fillmode\":\"overlay\",\"size\":10,\"solidity\":0.2}},\"type\":\"bar\"}],\"scattergeo\":[{\"type\":\"scattergeo\",\"marker\":{\"colorbar\":{\"outlinewidth\":0,\"ticks\":\"\"}}}],\"scatterpolar\":[{\"type\":\"scatterpolar\",\"marker\":{\"colorbar\":{\"outlinewidth\":0,\"ticks\":\"\"}}}],\"histogram\":[{\"marker\":{\"pattern\":{\"fillmode\":\"overlay\",\"size\":10,\"solidity\":0.2}},\"type\":\"histogram\"}],\"scattergl\":[{\"type\":\"scattergl\",\"marker\":{\"colorbar\":{\"outlinewidth\":0,\"ticks\":\"\"}}}],\"scatter3d\":[{\"type\":\"scatter3d\",\"line\":{\"colorbar\":{\"outlinewidth\":0,\"ticks\":\"\"}},\"marker\":{\"colorbar\":{\"outlinewidth\":0,\"ticks\":\"\"}}}],\"scattermapbox\":[{\"type\":\"scattermapbox\",\"marker\":{\"colorbar\":{\"outlinewidth\":0,\"ticks\":\"\"}}}],\"scatterternary\":[{\"type\":\"scatterternary\",\"marker\":{\"colorbar\":{\"outlinewidth\":0,\"ticks\":\"\"}}}],\"scattercarpet\":[{\"type\":\"scattercarpet\",\"marker\":{\"colorbar\":{\"outlinewidth\":0,\"ticks\":\"\"}}}],\"carpet\":[{\"aaxis\":{\"endlinecolor\":\"#2a3f5f\",\"gridcolor\":\"white\",\"linecolor\":\"white\",\"minorgridcolor\":\"white\",\"startlinecolor\":\"#2a3f5f\"},\"baxis\":{\"endlinecolor\":\"#2a3f5f\",\"gridcolor\":\"white\",\"linecolor\":\"white\",\"minorgridcolor\":\"white\",\"startlinecolor\":\"#2a3f5f\"},\"type\":\"carpet\"}],\"table\":[{\"cells\":{\"fill\":{\"color\":\"#EBF0F8\"},\"line\":{\"color\":\"white\"}},\"header\":{\"fill\":{\"color\":\"#C8D4E3\"},\"line\":{\"color\":\"white\"}},\"type\":\"table\"}],\"barpolar\":[{\"marker\":{\"line\":{\"color\":\"#E5ECF6\",\"width\":0.5},\"pattern\":{\"fillmode\":\"overlay\",\"size\":10,\"solidity\":0.2}},\"type\":\"barpolar\"}],\"pie\":[{\"automargin\":true,\"type\":\"pie\"}]},\"layout\":{\"autotypenumbers\":\"strict\",\"colorway\":[\"#636efa\",\"#EF553B\",\"#00cc96\",\"#ab63fa\",\"#FFA15A\",\"#19d3f3\",\"#FF6692\",\"#B6E880\",\"#FF97FF\",\"#FECB52\"],\"font\":{\"color\":\"#2a3f5f\"},\"hovermode\":\"closest\",\"hoverlabel\":{\"align\":\"left\"},\"paper_bgcolor\":\"white\",\"plot_bgcolor\":\"#E5ECF6\",\"polar\":{\"bgcolor\":\"#E5ECF6\",\"angularaxis\":{\"gridcolor\":\"white\",\"linecolor\":\"white\",\"ticks\":\"\"},\"radialaxis\":{\"gridcolor\":\"white\",\"linecolor\":\"white\",\"ticks\":\"\"}},\"ternary\":{\"bgcolor\":\"#E5ECF6\",\"aaxis\":{\"gridcolor\":\"white\",\"linecolor\":\"white\",\"ticks\":\"\"},\"baxis\":{\"gridcolor\":\"white\",\"linecolor\":\"white\",\"ticks\":\"\"},\"caxis\":{\"gridcolor\":\"white\",\"linecolor\":\"white\",\"ticks\":\"\"}},\"coloraxis\":{\"colorbar\":{\"outlinewidth\":0,\"ticks\":\"\"}},\"colorscale\":{\"sequential\":[[0.0,\"#0d0887\"],[0.1111111111111111,\"#46039f\"],[0.2222222222222222,\"#7201a8\"],[0.3333333333333333,\"#9c179e\"],[0.4444444444444444,\"#bd3786\"],[0.5555555555555556,\"#d8576b\"],[0.6666666666666666,\"#ed7953\"],[0.7777777777777778,\"#fb9f3a\"],[0.8888888888888888,\"#fdca26\"],[1.0,\"#f0f921\"]],\"sequentialminus\":[[0.0,\"#0d0887\"],[0.1111111111111111,\"#46039f\"],[0.2222222222222222,\"#7201a8\"],[0.3333333333333333,\"#9c179e\"],[0.4444444444444444,\"#bd3786\"],[0.5555555555555556,\"#d8576b\"],[0.6666666666666666,\"#ed7953\"],[0.7777777777777778,\"#fb9f3a\"],[0.8888888888888888,\"#fdca26\"],[1.0,\"#f0f921\"]],\"diverging\":[[0,\"#8e0152\"],[0.1,\"#c51b7d\"],[0.2,\"#de77ae\"],[0.3,\"#f1b6da\"],[0.4,\"#fde0ef\"],[0.5,\"#f7f7f7\"],[0.6,\"#e6f5d0\"],[0.7,\"#b8e186\"],[0.8,\"#7fbc41\"],[0.9,\"#4d9221\"],[1,\"#276419\"]]},\"xaxis\":{\"gridcolor\":\"white\",\"linecolor\":\"white\",\"ticks\":\"\",\"title\":{\"standoff\":15},\"zerolinecolor\":\"white\",\"automargin\":true,\"zerolinewidth\":2},\"yaxis\":{\"gridcolor\":\"white\",\"linecolor\":\"white\",\"ticks\":\"\",\"title\":{\"standoff\":15},\"zerolinecolor\":\"white\",\"automargin\":true,\"zerolinewidth\":2},\"scene\":{\"xaxis\":{\"backgroundcolor\":\"#E5ECF6\",\"gridcolor\":\"white\",\"linecolor\":\"white\",\"showbackground\":true,\"ticks\":\"\",\"zerolinecolor\":\"white\",\"gridwidth\":2},\"yaxis\":{\"backgroundcolor\":\"#E5ECF6\",\"gridcolor\":\"white\",\"linecolor\":\"white\",\"showbackground\":true,\"ticks\":\"\",\"zerolinecolor\":\"white\",\"gridwidth\":2},\"zaxis\":{\"backgroundcolor\":\"#E5ECF6\",\"gridcolor\":\"white\",\"linecolor\":\"white\",\"showbackground\":true,\"ticks\":\"\",\"zerolinecolor\":\"white\",\"gridwidth\":2}},\"shapedefaults\":{\"line\":{\"color\":\"#2a3f5f\"}},\"annotationdefaults\":{\"arrowcolor\":\"#2a3f5f\",\"arrowhead\":0,\"arrowwidth\":1},\"geo\":{\"bgcolor\":\"white\",\"landcolor\":\"#E5ECF6\",\"subunitcolor\":\"white\",\"showland\":true,\"showlakes\":true,\"lakecolor\":\"white\"},\"title\":{\"x\":0.05},\"mapbox\":{\"style\":\"light\"}}},\"xaxis\":{\"anchor\":\"y\",\"domain\":[0.0,1.0],\"title\":{\"text\":\"Party\"}},\"yaxis\":{\"anchor\":\"x\",\"domain\":[0.0,1.0],\"title\":{\"text\":\"Seats\"}},\"coloraxis\":{\"colorbar\":{\"title\":{\"text\":\"color\"}},\"colorscale\":[[0.0,\"rgb(236, 218, 154)\"],[0.16666666666666666,\"rgb(239, 196, 126)\"],[0.3333333333333333,\"rgb(243, 173, 106)\"],[0.5,\"rgb(247, 148, 93)\"],[0.6666666666666666,\"rgb(249, 123, 87)\"],[0.8333333333333334,\"rgb(246, 99, 86)\"],[1.0,\"rgb(238, 77, 90)\"]]},\"legend\":{\"tracegroupgap\":0},\"margin\":{\"t\":60},\"barmode\":\"relative\",\"height\":500,\"title\":{\"font\":{\"family\":\"Courier New\",\"color\":\"#351f39\"},\"text\":\"Top 20 Party-wise election results\"},\"font\":{\"family\":\"Courier New\",\"color\":\"#351f39\"}},                        {\"responsive\": true}                    ).then(function(){\n",
       "                            \n",
       "var gd = document.getElementById('45e0990e-ce02-42f6-9a31-fe6e86cba414');\n",
       "var x = new MutationObserver(function (mutations, observer) {{\n",
       "        var display = window.getComputedStyle(gd).display;\n",
       "        if (!display || display === 'none') {{\n",
       "            console.log([gd, 'removed!']);\n",
       "            Plotly.purge(gd);\n",
       "            observer.disconnect();\n",
       "        }}\n",
       "}});\n",
       "\n",
       "// Listen for the removal of the full notebook cells\n",
       "var notebookContainer = gd.closest('#notebook-container');\n",
       "if (notebookContainer) {{\n",
       "    x.observe(notebookContainer, {childList: true});\n",
       "}}\n",
       "\n",
       "// Listen for the clearing of the current output cell\n",
       "var outputEl = gd.closest('.output');\n",
       "if (outputEl) {{\n",
       "    x.observe(outputEl, {childList: true});\n",
       "}}\n",
       "\n",
       "                        })                };                });            </script>        </div>"
      ]
     },
     "metadata": {},
     "output_type": "display_data"
    }
   ],
   "source": [
    "# Number of seats won by each party\n",
    "result = df[df['WINNER'] == 1].groupby('PARTY')['WINNER'].size()\n",
    "result_df = pd.DataFrame(data=result).sort_values(by=\"WINNER\", ascending=False)\n",
    "result_df.reset_index(level=0, inplace=True)\n",
    "\n",
    "# Visualize the party-wise election results\n",
    "result_fig = px.bar(result_df, \n",
    "                    x=result_df['PARTY'][:20], \n",
    "                    y=result_df[\"WINNER\"][:20], \n",
    "                    color=result_df['WINNER'][:20], \n",
    "                    height=500,\n",
    "                    color_continuous_scale='Oryel')\n",
    "result_fig.update_layout(title_text='Top 20 Party-wise election results',\n",
    "                         font_family=\"Courier New\",\n",
    "                         font_color=\"#351f39\",\n",
    "                         title_font_family=\"Courier New\",\n",
    "                         title_font_color=\"#351f39\",\n",
    "                         xaxis_title=\"Party\",\n",
    "                         yaxis_title=\"Seats\")\n",
    "result_fig.show()"
   ]
  },
  {
   "cell_type": "code",
   "execution_count": 103,
   "metadata": {},
   "outputs": [
    {
     "data": {
      "application/vnd.plotly.v1+json": {
       "config": {
        "plotlyServerURL": "https://plot.ly"
       },
       "data": [
        {
         "labels": [
          "AITC",
          "BJP",
          "INC",
          "IND",
          "Other",
          "SP"
         ],
         "marker": {
          "line": {
           "color": "#000000",
           "width": 2
          }
         },
         "pull": [
          0.1,
          0.1,
          0.1,
          0.1,
          0.1,
          0.1
         ],
         "type": "pie",
         "values": [
          28213393,
          235974144,
          136758952,
          17850062,
          190644752,
          29549389
         ]
        }
       ],
       "layout": {
        "font": {
         "color": "#351f39",
         "family": "Courier New"
        },
        "template": {
         "data": {
          "bar": [
           {
            "error_x": {
             "color": "#2a3f5f"
            },
            "error_y": {
             "color": "#2a3f5f"
            },
            "marker": {
             "line": {
              "color": "#E5ECF6",
              "width": 0.5
             },
             "pattern": {
              "fillmode": "overlay",
              "size": 10,
              "solidity": 0.2
             }
            },
            "type": "bar"
           }
          ],
          "barpolar": [
           {
            "marker": {
             "line": {
              "color": "#E5ECF6",
              "width": 0.5
             },
             "pattern": {
              "fillmode": "overlay",
              "size": 10,
              "solidity": 0.2
             }
            },
            "type": "barpolar"
           }
          ],
          "carpet": [
           {
            "aaxis": {
             "endlinecolor": "#2a3f5f",
             "gridcolor": "white",
             "linecolor": "white",
             "minorgridcolor": "white",
             "startlinecolor": "#2a3f5f"
            },
            "baxis": {
             "endlinecolor": "#2a3f5f",
             "gridcolor": "white",
             "linecolor": "white",
             "minorgridcolor": "white",
             "startlinecolor": "#2a3f5f"
            },
            "type": "carpet"
           }
          ],
          "choropleth": [
           {
            "colorbar": {
             "outlinewidth": 0,
             "ticks": ""
            },
            "type": "choropleth"
           }
          ],
          "contour": [
           {
            "colorbar": {
             "outlinewidth": 0,
             "ticks": ""
            },
            "colorscale": [
             [
              0,
              "#0d0887"
             ],
             [
              0.1111111111111111,
              "#46039f"
             ],
             [
              0.2222222222222222,
              "#7201a8"
             ],
             [
              0.3333333333333333,
              "#9c179e"
             ],
             [
              0.4444444444444444,
              "#bd3786"
             ],
             [
              0.5555555555555556,
              "#d8576b"
             ],
             [
              0.6666666666666666,
              "#ed7953"
             ],
             [
              0.7777777777777778,
              "#fb9f3a"
             ],
             [
              0.8888888888888888,
              "#fdca26"
             ],
             [
              1,
              "#f0f921"
             ]
            ],
            "type": "contour"
           }
          ],
          "contourcarpet": [
           {
            "colorbar": {
             "outlinewidth": 0,
             "ticks": ""
            },
            "type": "contourcarpet"
           }
          ],
          "heatmap": [
           {
            "colorbar": {
             "outlinewidth": 0,
             "ticks": ""
            },
            "colorscale": [
             [
              0,
              "#0d0887"
             ],
             [
              0.1111111111111111,
              "#46039f"
             ],
             [
              0.2222222222222222,
              "#7201a8"
             ],
             [
              0.3333333333333333,
              "#9c179e"
             ],
             [
              0.4444444444444444,
              "#bd3786"
             ],
             [
              0.5555555555555556,
              "#d8576b"
             ],
             [
              0.6666666666666666,
              "#ed7953"
             ],
             [
              0.7777777777777778,
              "#fb9f3a"
             ],
             [
              0.8888888888888888,
              "#fdca26"
             ],
             [
              1,
              "#f0f921"
             ]
            ],
            "type": "heatmap"
           }
          ],
          "heatmapgl": [
           {
            "colorbar": {
             "outlinewidth": 0,
             "ticks": ""
            },
            "colorscale": [
             [
              0,
              "#0d0887"
             ],
             [
              0.1111111111111111,
              "#46039f"
             ],
             [
              0.2222222222222222,
              "#7201a8"
             ],
             [
              0.3333333333333333,
              "#9c179e"
             ],
             [
              0.4444444444444444,
              "#bd3786"
             ],
             [
              0.5555555555555556,
              "#d8576b"
             ],
             [
              0.6666666666666666,
              "#ed7953"
             ],
             [
              0.7777777777777778,
              "#fb9f3a"
             ],
             [
              0.8888888888888888,
              "#fdca26"
             ],
             [
              1,
              "#f0f921"
             ]
            ],
            "type": "heatmapgl"
           }
          ],
          "histogram": [
           {
            "marker": {
             "pattern": {
              "fillmode": "overlay",
              "size": 10,
              "solidity": 0.2
             }
            },
            "type": "histogram"
           }
          ],
          "histogram2d": [
           {
            "colorbar": {
             "outlinewidth": 0,
             "ticks": ""
            },
            "colorscale": [
             [
              0,
              "#0d0887"
             ],
             [
              0.1111111111111111,
              "#46039f"
             ],
             [
              0.2222222222222222,
              "#7201a8"
             ],
             [
              0.3333333333333333,
              "#9c179e"
             ],
             [
              0.4444444444444444,
              "#bd3786"
             ],
             [
              0.5555555555555556,
              "#d8576b"
             ],
             [
              0.6666666666666666,
              "#ed7953"
             ],
             [
              0.7777777777777778,
              "#fb9f3a"
             ],
             [
              0.8888888888888888,
              "#fdca26"
             ],
             [
              1,
              "#f0f921"
             ]
            ],
            "type": "histogram2d"
           }
          ],
          "histogram2dcontour": [
           {
            "colorbar": {
             "outlinewidth": 0,
             "ticks": ""
            },
            "colorscale": [
             [
              0,
              "#0d0887"
             ],
             [
              0.1111111111111111,
              "#46039f"
             ],
             [
              0.2222222222222222,
              "#7201a8"
             ],
             [
              0.3333333333333333,
              "#9c179e"
             ],
             [
              0.4444444444444444,
              "#bd3786"
             ],
             [
              0.5555555555555556,
              "#d8576b"
             ],
             [
              0.6666666666666666,
              "#ed7953"
             ],
             [
              0.7777777777777778,
              "#fb9f3a"
             ],
             [
              0.8888888888888888,
              "#fdca26"
             ],
             [
              1,
              "#f0f921"
             ]
            ],
            "type": "histogram2dcontour"
           }
          ],
          "mesh3d": [
           {
            "colorbar": {
             "outlinewidth": 0,
             "ticks": ""
            },
            "type": "mesh3d"
           }
          ],
          "parcoords": [
           {
            "line": {
             "colorbar": {
              "outlinewidth": 0,
              "ticks": ""
             }
            },
            "type": "parcoords"
           }
          ],
          "pie": [
           {
            "automargin": true,
            "type": "pie"
           }
          ],
          "scatter": [
           {
            "fillpattern": {
             "fillmode": "overlay",
             "size": 10,
             "solidity": 0.2
            },
            "type": "scatter"
           }
          ],
          "scatter3d": [
           {
            "line": {
             "colorbar": {
              "outlinewidth": 0,
              "ticks": ""
             }
            },
            "marker": {
             "colorbar": {
              "outlinewidth": 0,
              "ticks": ""
             }
            },
            "type": "scatter3d"
           }
          ],
          "scattercarpet": [
           {
            "marker": {
             "colorbar": {
              "outlinewidth": 0,
              "ticks": ""
             }
            },
            "type": "scattercarpet"
           }
          ],
          "scattergeo": [
           {
            "marker": {
             "colorbar": {
              "outlinewidth": 0,
              "ticks": ""
             }
            },
            "type": "scattergeo"
           }
          ],
          "scattergl": [
           {
            "marker": {
             "colorbar": {
              "outlinewidth": 0,
              "ticks": ""
             }
            },
            "type": "scattergl"
           }
          ],
          "scattermapbox": [
           {
            "marker": {
             "colorbar": {
              "outlinewidth": 0,
              "ticks": ""
             }
            },
            "type": "scattermapbox"
           }
          ],
          "scatterpolar": [
           {
            "marker": {
             "colorbar": {
              "outlinewidth": 0,
              "ticks": ""
             }
            },
            "type": "scatterpolar"
           }
          ],
          "scatterpolargl": [
           {
            "marker": {
             "colorbar": {
              "outlinewidth": 0,
              "ticks": ""
             }
            },
            "type": "scatterpolargl"
           }
          ],
          "scatterternary": [
           {
            "marker": {
             "colorbar": {
              "outlinewidth": 0,
              "ticks": ""
             }
            },
            "type": "scatterternary"
           }
          ],
          "surface": [
           {
            "colorbar": {
             "outlinewidth": 0,
             "ticks": ""
            },
            "colorscale": [
             [
              0,
              "#0d0887"
             ],
             [
              0.1111111111111111,
              "#46039f"
             ],
             [
              0.2222222222222222,
              "#7201a8"
             ],
             [
              0.3333333333333333,
              "#9c179e"
             ],
             [
              0.4444444444444444,
              "#bd3786"
             ],
             [
              0.5555555555555556,
              "#d8576b"
             ],
             [
              0.6666666666666666,
              "#ed7953"
             ],
             [
              0.7777777777777778,
              "#fb9f3a"
             ],
             [
              0.8888888888888888,
              "#fdca26"
             ],
             [
              1,
              "#f0f921"
             ]
            ],
            "type": "surface"
           }
          ],
          "table": [
           {
            "cells": {
             "fill": {
              "color": "#EBF0F8"
             },
             "line": {
              "color": "white"
             }
            },
            "header": {
             "fill": {
              "color": "#C8D4E3"
             },
             "line": {
              "color": "white"
             }
            },
            "type": "table"
           }
          ]
         },
         "layout": {
          "annotationdefaults": {
           "arrowcolor": "#2a3f5f",
           "arrowhead": 0,
           "arrowwidth": 1
          },
          "autotypenumbers": "strict",
          "coloraxis": {
           "colorbar": {
            "outlinewidth": 0,
            "ticks": ""
           }
          },
          "colorscale": {
           "diverging": [
            [
             0,
             "#8e0152"
            ],
            [
             0.1,
             "#c51b7d"
            ],
            [
             0.2,
             "#de77ae"
            ],
            [
             0.3,
             "#f1b6da"
            ],
            [
             0.4,
             "#fde0ef"
            ],
            [
             0.5,
             "#f7f7f7"
            ],
            [
             0.6,
             "#e6f5d0"
            ],
            [
             0.7,
             "#b8e186"
            ],
            [
             0.8,
             "#7fbc41"
            ],
            [
             0.9,
             "#4d9221"
            ],
            [
             1,
             "#276419"
            ]
           ],
           "sequential": [
            [
             0,
             "#0d0887"
            ],
            [
             0.1111111111111111,
             "#46039f"
            ],
            [
             0.2222222222222222,
             "#7201a8"
            ],
            [
             0.3333333333333333,
             "#9c179e"
            ],
            [
             0.4444444444444444,
             "#bd3786"
            ],
            [
             0.5555555555555556,
             "#d8576b"
            ],
            [
             0.6666666666666666,
             "#ed7953"
            ],
            [
             0.7777777777777778,
             "#fb9f3a"
            ],
            [
             0.8888888888888888,
             "#fdca26"
            ],
            [
             1,
             "#f0f921"
            ]
           ],
           "sequentialminus": [
            [
             0,
             "#0d0887"
            ],
            [
             0.1111111111111111,
             "#46039f"
            ],
            [
             0.2222222222222222,
             "#7201a8"
            ],
            [
             0.3333333333333333,
             "#9c179e"
            ],
            [
             0.4444444444444444,
             "#bd3786"
            ],
            [
             0.5555555555555556,
             "#d8576b"
            ],
            [
             0.6666666666666666,
             "#ed7953"
            ],
            [
             0.7777777777777778,
             "#fb9f3a"
            ],
            [
             0.8888888888888888,
             "#fdca26"
            ],
            [
             1,
             "#f0f921"
            ]
           ]
          },
          "colorway": [
           "#636efa",
           "#EF553B",
           "#00cc96",
           "#ab63fa",
           "#FFA15A",
           "#19d3f3",
           "#FF6692",
           "#B6E880",
           "#FF97FF",
           "#FECB52"
          ],
          "font": {
           "color": "#2a3f5f"
          },
          "geo": {
           "bgcolor": "white",
           "lakecolor": "white",
           "landcolor": "#E5ECF6",
           "showlakes": true,
           "showland": true,
           "subunitcolor": "white"
          },
          "hoverlabel": {
           "align": "left"
          },
          "hovermode": "closest",
          "mapbox": {
           "style": "light"
          },
          "paper_bgcolor": "white",
          "plot_bgcolor": "#E5ECF6",
          "polar": {
           "angularaxis": {
            "gridcolor": "white",
            "linecolor": "white",
            "ticks": ""
           },
           "bgcolor": "#E5ECF6",
           "radialaxis": {
            "gridcolor": "white",
            "linecolor": "white",
            "ticks": ""
           }
          },
          "scene": {
           "xaxis": {
            "backgroundcolor": "#E5ECF6",
            "gridcolor": "white",
            "gridwidth": 2,
            "linecolor": "white",
            "showbackground": true,
            "ticks": "",
            "zerolinecolor": "white"
           },
           "yaxis": {
            "backgroundcolor": "#E5ECF6",
            "gridcolor": "white",
            "gridwidth": 2,
            "linecolor": "white",
            "showbackground": true,
            "ticks": "",
            "zerolinecolor": "white"
           },
           "zaxis": {
            "backgroundcolor": "#E5ECF6",
            "gridcolor": "white",
            "gridwidth": 2,
            "linecolor": "white",
            "showbackground": true,
            "ticks": "",
            "zerolinecolor": "white"
           }
          },
          "shapedefaults": {
           "line": {
            "color": "#2a3f5f"
           }
          },
          "ternary": {
           "aaxis": {
            "gridcolor": "white",
            "linecolor": "white",
            "ticks": ""
           },
           "baxis": {
            "gridcolor": "white",
            "linecolor": "white",
            "ticks": ""
           },
           "bgcolor": "#E5ECF6",
           "caxis": {
            "gridcolor": "white",
            "linecolor": "white",
            "ticks": ""
           }
          },
          "title": {
           "x": 0.05
          },
          "xaxis": {
           "automargin": true,
           "gridcolor": "white",
           "linecolor": "white",
           "ticks": "",
           "title": {
            "standoff": 15
           },
           "zerolinecolor": "white",
           "zerolinewidth": 2
          },
          "yaxis": {
           "automargin": true,
           "gridcolor": "white",
           "linecolor": "white",
           "ticks": "",
           "title": {
            "standoff": 15
           },
           "zerolinecolor": "white",
           "zerolinewidth": 2
          }
         }
        },
        "title": {
         "font": {
          "color": "#351f39",
          "family": "Courier New"
         },
         "text": "Party-wise Vote Share"
        }
       }
      },
      "text/html": [
       "<div>                            <div id=\"cde9f985-37ba-4834-9de4-14ec6c4abf27\" class=\"plotly-graph-div\" style=\"height:525px; width:100%;\"></div>            <script type=\"text/javascript\">                require([\"plotly\"], function(Plotly) {                    window.PLOTLYENV=window.PLOTLYENV || {};                                    if (document.getElementById(\"cde9f985-37ba-4834-9de4-14ec6c4abf27\")) {                    Plotly.newPlot(                        \"cde9f985-37ba-4834-9de4-14ec6c4abf27\",                        [{\"labels\":[\"AITC\",\"BJP\",\"INC\",\"IND\",\"Other\",\"SP\"],\"marker\":{\"line\":{\"color\":\"#000000\",\"width\":2}},\"pull\":[0.1,0.1,0.1,0.1,0.1,0.1],\"values\":[28213393,235974144,136758952,17850062,190644752,29549389],\"type\":\"pie\"}],                        {\"template\":{\"data\":{\"histogram2dcontour\":[{\"type\":\"histogram2dcontour\",\"colorbar\":{\"outlinewidth\":0,\"ticks\":\"\"},\"colorscale\":[[0.0,\"#0d0887\"],[0.1111111111111111,\"#46039f\"],[0.2222222222222222,\"#7201a8\"],[0.3333333333333333,\"#9c179e\"],[0.4444444444444444,\"#bd3786\"],[0.5555555555555556,\"#d8576b\"],[0.6666666666666666,\"#ed7953\"],[0.7777777777777778,\"#fb9f3a\"],[0.8888888888888888,\"#fdca26\"],[1.0,\"#f0f921\"]]}],\"choropleth\":[{\"type\":\"choropleth\",\"colorbar\":{\"outlinewidth\":0,\"ticks\":\"\"}}],\"histogram2d\":[{\"type\":\"histogram2d\",\"colorbar\":{\"outlinewidth\":0,\"ticks\":\"\"},\"colorscale\":[[0.0,\"#0d0887\"],[0.1111111111111111,\"#46039f\"],[0.2222222222222222,\"#7201a8\"],[0.3333333333333333,\"#9c179e\"],[0.4444444444444444,\"#bd3786\"],[0.5555555555555556,\"#d8576b\"],[0.6666666666666666,\"#ed7953\"],[0.7777777777777778,\"#fb9f3a\"],[0.8888888888888888,\"#fdca26\"],[1.0,\"#f0f921\"]]}],\"heatmap\":[{\"type\":\"heatmap\",\"colorbar\":{\"outlinewidth\":0,\"ticks\":\"\"},\"colorscale\":[[0.0,\"#0d0887\"],[0.1111111111111111,\"#46039f\"],[0.2222222222222222,\"#7201a8\"],[0.3333333333333333,\"#9c179e\"],[0.4444444444444444,\"#bd3786\"],[0.5555555555555556,\"#d8576b\"],[0.6666666666666666,\"#ed7953\"],[0.7777777777777778,\"#fb9f3a\"],[0.8888888888888888,\"#fdca26\"],[1.0,\"#f0f921\"]]}],\"heatmapgl\":[{\"type\":\"heatmapgl\",\"colorbar\":{\"outlinewidth\":0,\"ticks\":\"\"},\"colorscale\":[[0.0,\"#0d0887\"],[0.1111111111111111,\"#46039f\"],[0.2222222222222222,\"#7201a8\"],[0.3333333333333333,\"#9c179e\"],[0.4444444444444444,\"#bd3786\"],[0.5555555555555556,\"#d8576b\"],[0.6666666666666666,\"#ed7953\"],[0.7777777777777778,\"#fb9f3a\"],[0.8888888888888888,\"#fdca26\"],[1.0,\"#f0f921\"]]}],\"contourcarpet\":[{\"type\":\"contourcarpet\",\"colorbar\":{\"outlinewidth\":0,\"ticks\":\"\"}}],\"contour\":[{\"type\":\"contour\",\"colorbar\":{\"outlinewidth\":0,\"ticks\":\"\"},\"colorscale\":[[0.0,\"#0d0887\"],[0.1111111111111111,\"#46039f\"],[0.2222222222222222,\"#7201a8\"],[0.3333333333333333,\"#9c179e\"],[0.4444444444444444,\"#bd3786\"],[0.5555555555555556,\"#d8576b\"],[0.6666666666666666,\"#ed7953\"],[0.7777777777777778,\"#fb9f3a\"],[0.8888888888888888,\"#fdca26\"],[1.0,\"#f0f921\"]]}],\"surface\":[{\"type\":\"surface\",\"colorbar\":{\"outlinewidth\":0,\"ticks\":\"\"},\"colorscale\":[[0.0,\"#0d0887\"],[0.1111111111111111,\"#46039f\"],[0.2222222222222222,\"#7201a8\"],[0.3333333333333333,\"#9c179e\"],[0.4444444444444444,\"#bd3786\"],[0.5555555555555556,\"#d8576b\"],[0.6666666666666666,\"#ed7953\"],[0.7777777777777778,\"#fb9f3a\"],[0.8888888888888888,\"#fdca26\"],[1.0,\"#f0f921\"]]}],\"mesh3d\":[{\"type\":\"mesh3d\",\"colorbar\":{\"outlinewidth\":0,\"ticks\":\"\"}}],\"scatter\":[{\"fillpattern\":{\"fillmode\":\"overlay\",\"size\":10,\"solidity\":0.2},\"type\":\"scatter\"}],\"parcoords\":[{\"type\":\"parcoords\",\"line\":{\"colorbar\":{\"outlinewidth\":0,\"ticks\":\"\"}}}],\"scatterpolargl\":[{\"type\":\"scatterpolargl\",\"marker\":{\"colorbar\":{\"outlinewidth\":0,\"ticks\":\"\"}}}],\"bar\":[{\"error_x\":{\"color\":\"#2a3f5f\"},\"error_y\":{\"color\":\"#2a3f5f\"},\"marker\":{\"line\":{\"color\":\"#E5ECF6\",\"width\":0.5},\"pattern\":{\"fillmode\":\"overlay\",\"size\":10,\"solidity\":0.2}},\"type\":\"bar\"}],\"scattergeo\":[{\"type\":\"scattergeo\",\"marker\":{\"colorbar\":{\"outlinewidth\":0,\"ticks\":\"\"}}}],\"scatterpolar\":[{\"type\":\"scatterpolar\",\"marker\":{\"colorbar\":{\"outlinewidth\":0,\"ticks\":\"\"}}}],\"histogram\":[{\"marker\":{\"pattern\":{\"fillmode\":\"overlay\",\"size\":10,\"solidity\":0.2}},\"type\":\"histogram\"}],\"scattergl\":[{\"type\":\"scattergl\",\"marker\":{\"colorbar\":{\"outlinewidth\":0,\"ticks\":\"\"}}}],\"scatter3d\":[{\"type\":\"scatter3d\",\"line\":{\"colorbar\":{\"outlinewidth\":0,\"ticks\":\"\"}},\"marker\":{\"colorbar\":{\"outlinewidth\":0,\"ticks\":\"\"}}}],\"scattermapbox\":[{\"type\":\"scattermapbox\",\"marker\":{\"colorbar\":{\"outlinewidth\":0,\"ticks\":\"\"}}}],\"scatterternary\":[{\"type\":\"scatterternary\",\"marker\":{\"colorbar\":{\"outlinewidth\":0,\"ticks\":\"\"}}}],\"scattercarpet\":[{\"type\":\"scattercarpet\",\"marker\":{\"colorbar\":{\"outlinewidth\":0,\"ticks\":\"\"}}}],\"carpet\":[{\"aaxis\":{\"endlinecolor\":\"#2a3f5f\",\"gridcolor\":\"white\",\"linecolor\":\"white\",\"minorgridcolor\":\"white\",\"startlinecolor\":\"#2a3f5f\"},\"baxis\":{\"endlinecolor\":\"#2a3f5f\",\"gridcolor\":\"white\",\"linecolor\":\"white\",\"minorgridcolor\":\"white\",\"startlinecolor\":\"#2a3f5f\"},\"type\":\"carpet\"}],\"table\":[{\"cells\":{\"fill\":{\"color\":\"#EBF0F8\"},\"line\":{\"color\":\"white\"}},\"header\":{\"fill\":{\"color\":\"#C8D4E3\"},\"line\":{\"color\":\"white\"}},\"type\":\"table\"}],\"barpolar\":[{\"marker\":{\"line\":{\"color\":\"#E5ECF6\",\"width\":0.5},\"pattern\":{\"fillmode\":\"overlay\",\"size\":10,\"solidity\":0.2}},\"type\":\"barpolar\"}],\"pie\":[{\"automargin\":true,\"type\":\"pie\"}]},\"layout\":{\"autotypenumbers\":\"strict\",\"colorway\":[\"#636efa\",\"#EF553B\",\"#00cc96\",\"#ab63fa\",\"#FFA15A\",\"#19d3f3\",\"#FF6692\",\"#B6E880\",\"#FF97FF\",\"#FECB52\"],\"font\":{\"color\":\"#2a3f5f\"},\"hovermode\":\"closest\",\"hoverlabel\":{\"align\":\"left\"},\"paper_bgcolor\":\"white\",\"plot_bgcolor\":\"#E5ECF6\",\"polar\":{\"bgcolor\":\"#E5ECF6\",\"angularaxis\":{\"gridcolor\":\"white\",\"linecolor\":\"white\",\"ticks\":\"\"},\"radialaxis\":{\"gridcolor\":\"white\",\"linecolor\":\"white\",\"ticks\":\"\"}},\"ternary\":{\"bgcolor\":\"#E5ECF6\",\"aaxis\":{\"gridcolor\":\"white\",\"linecolor\":\"white\",\"ticks\":\"\"},\"baxis\":{\"gridcolor\":\"white\",\"linecolor\":\"white\",\"ticks\":\"\"},\"caxis\":{\"gridcolor\":\"white\",\"linecolor\":\"white\",\"ticks\":\"\"}},\"coloraxis\":{\"colorbar\":{\"outlinewidth\":0,\"ticks\":\"\"}},\"colorscale\":{\"sequential\":[[0.0,\"#0d0887\"],[0.1111111111111111,\"#46039f\"],[0.2222222222222222,\"#7201a8\"],[0.3333333333333333,\"#9c179e\"],[0.4444444444444444,\"#bd3786\"],[0.5555555555555556,\"#d8576b\"],[0.6666666666666666,\"#ed7953\"],[0.7777777777777778,\"#fb9f3a\"],[0.8888888888888888,\"#fdca26\"],[1.0,\"#f0f921\"]],\"sequentialminus\":[[0.0,\"#0d0887\"],[0.1111111111111111,\"#46039f\"],[0.2222222222222222,\"#7201a8\"],[0.3333333333333333,\"#9c179e\"],[0.4444444444444444,\"#bd3786\"],[0.5555555555555556,\"#d8576b\"],[0.6666666666666666,\"#ed7953\"],[0.7777777777777778,\"#fb9f3a\"],[0.8888888888888888,\"#fdca26\"],[1.0,\"#f0f921\"]],\"diverging\":[[0,\"#8e0152\"],[0.1,\"#c51b7d\"],[0.2,\"#de77ae\"],[0.3,\"#f1b6da\"],[0.4,\"#fde0ef\"],[0.5,\"#f7f7f7\"],[0.6,\"#e6f5d0\"],[0.7,\"#b8e186\"],[0.8,\"#7fbc41\"],[0.9,\"#4d9221\"],[1,\"#276419\"]]},\"xaxis\":{\"gridcolor\":\"white\",\"linecolor\":\"white\",\"ticks\":\"\",\"title\":{\"standoff\":15},\"zerolinecolor\":\"white\",\"automargin\":true,\"zerolinewidth\":2},\"yaxis\":{\"gridcolor\":\"white\",\"linecolor\":\"white\",\"ticks\":\"\",\"title\":{\"standoff\":15},\"zerolinecolor\":\"white\",\"automargin\":true,\"zerolinewidth\":2},\"scene\":{\"xaxis\":{\"backgroundcolor\":\"#E5ECF6\",\"gridcolor\":\"white\",\"linecolor\":\"white\",\"showbackground\":true,\"ticks\":\"\",\"zerolinecolor\":\"white\",\"gridwidth\":2},\"yaxis\":{\"backgroundcolor\":\"#E5ECF6\",\"gridcolor\":\"white\",\"linecolor\":\"white\",\"showbackground\":true,\"ticks\":\"\",\"zerolinecolor\":\"white\",\"gridwidth\":2},\"zaxis\":{\"backgroundcolor\":\"#E5ECF6\",\"gridcolor\":\"white\",\"linecolor\":\"white\",\"showbackground\":true,\"ticks\":\"\",\"zerolinecolor\":\"white\",\"gridwidth\":2}},\"shapedefaults\":{\"line\":{\"color\":\"#2a3f5f\"}},\"annotationdefaults\":{\"arrowcolor\":\"#2a3f5f\",\"arrowhead\":0,\"arrowwidth\":1},\"geo\":{\"bgcolor\":\"white\",\"landcolor\":\"#E5ECF6\",\"subunitcolor\":\"white\",\"showland\":true,\"showlakes\":true,\"lakecolor\":\"white\"},\"title\":{\"x\":0.05},\"mapbox\":{\"style\":\"light\"}}},\"title\":{\"font\":{\"family\":\"Courier New\",\"color\":\"#351f39\"},\"text\":\"Party-wise Vote Share\"},\"font\":{\"family\":\"Courier New\",\"color\":\"#351f39\"}},                        {\"responsive\": true}                    ).then(function(){\n",
       "                            \n",
       "var gd = document.getElementById('cde9f985-37ba-4834-9de4-14ec6c4abf27');\n",
       "var x = new MutationObserver(function (mutations, observer) {{\n",
       "        var display = window.getComputedStyle(gd).display;\n",
       "        if (!display || display === 'none') {{\n",
       "            console.log([gd, 'removed!']);\n",
       "            Plotly.purge(gd);\n",
       "            observer.disconnect();\n",
       "        }}\n",
       "}});\n",
       "\n",
       "// Listen for the removal of the full notebook cells\n",
       "var notebookContainer = gd.closest('#notebook-container');\n",
       "if (notebookContainer) {{\n",
       "    x.observe(notebookContainer, {childList: true});\n",
       "}}\n",
       "\n",
       "// Listen for the clearing of the current output cell\n",
       "var outputEl = gd.closest('.output');\n",
       "if (outputEl) {{\n",
       "    x.observe(outputEl, {childList: true});\n",
       "}}\n",
       "\n",
       "                        })                };                });            </script>        </div>"
      ]
     },
     "metadata": {},
     "output_type": "display_data"
    }
   ],
   "source": [
    "# Create a dataframe with total number of votes won by each party\n",
    "result = df[df['WINNER'] == 1].groupby('PARTY')['WINNER'].size()\n",
    "vote_Share = df.groupby('PARTY')['TOTAL VOTES'].sum()\n",
    "vote_Share_df = pd.DataFrame(data=vote_Share, index=vote_Share.index).sort_values(by=\"TOTAL VOTES\", ascending=False)\n",
    "vote_Share_df.reset_index(level=0, inplace=True)\n",
    "\n",
    "# Sort out the top five parties according to the total number of votes\n",
    "vote_share_top5 = df.groupby('PARTY')['TOTAL VOTES'].sum().nlargest(5).index.tolist()\n",
    "\n",
    "# Create a method to label parties as 'Other' if they are not top five in total number of votes.\n",
    "def sort_party(data):\n",
    "    '''\n",
    "    Method to label parties as 'Other' if they are not top five in total number of votes.\n",
    "    data: input rows\n",
    "    '''\n",
    "    if data['PARTY'] not in vote_share_top5:\n",
    "        return 'Other'\n",
    "    else:\n",
    "        return data['PARTY']\n",
    "\n",
    "# Calling the method\n",
    "df['Party New'] = df.apply(sort_party, axis=1)\n",
    "\n",
    "# Visualize Party-wise vote share\n",
    "vote_count = df.groupby('Party New')['TOTAL VOTES'].sum()\n",
    "vote_count_fig = go.Figure(go.Pie(labels=vote_count.index, \n",
    "                                  values=vote_count.values,\n",
    "                                  pull=[0.1, 0.1, 0.1, 0.1, 0.1, 0.1],\n",
    "                                  marker=dict(line=dict(color=\"#000000\", \n",
    "                                                        width=2))))\n",
    "vote_count_fig.update_layout(title_text='Party-wise Vote Share',\n",
    "                             font_family=\"Courier New\",\n",
    "                             font_color=\"#351f39\",\n",
    "                             title_font_family=\"Courier New\",\n",
    "                             title_font_color=\"#351f39\")\n",
    "vote_count_fig.show()"
   ]
  },
  {
   "cell_type": "code",
   "execution_count": 104,
   "metadata": {},
   "outputs": [
    {
     "data": {
      "text/plain": [
       "Party New\n",
       "IND      3921\n",
       "Other    3551\n",
       "BJP       440\n",
       "INC       328\n",
       "SP         71\n",
       "AITC       48\n",
       "Name: count, dtype: int64"
      ]
     },
     "execution_count": 104,
     "metadata": {},
     "output_type": "execute_result"
    }
   ],
   "source": [
    "df['Party New'].value_counts()"
   ]
  },
  {
   "cell_type": "code",
   "execution_count": 105,
   "metadata": {},
   "outputs": [
    {
     "data": {
      "application/vnd.plotly.v1+json": {
       "config": {
        "plotlyServerURL": "https://plot.ly"
       },
       "data": [
        {
         "alignmentgroup": "True",
         "bingroup": "x",
         "hovertemplate": "AGE=%{x}<br>count=%{y}<extra></extra>",
         "legendgroup": "",
         "marker": {
          "color": "indianred",
          "pattern": {
           "shape": ""
          }
         },
         "name": "",
         "offsetgroup": "",
         "orientation": "v",
         "showlegend": false,
         "type": "histogram",
         "x": [
          31,
          53,
          41,
          30,
          48,
          64,
          32,
          28,
          47,
          42,
          42,
          45,
          43,
          36,
          50,
          59,
          38,
          40,
          39,
          38,
          66,
          37,
          47,
          34,
          49,
          29,
          50,
          62,
          33,
          69,
          58,
          48,
          42,
          45,
          50,
          37,
          46,
          55,
          61,
          60,
          50,
          35,
          61,
          52,
          60,
          57,
          43,
          44,
          53,
          54,
          52,
          55,
          42,
          49,
          53,
          57,
          49,
          37,
          26,
          48,
          39,
          29,
          44,
          38,
          42,
          31,
          49,
          52,
          56,
          43,
          38,
          58,
          44,
          51,
          58,
          60,
          50,
          54,
          70,
          36,
          50,
          70,
          54,
          60,
          39,
          43,
          35,
          54,
          42,
          38,
          54,
          56,
          41,
          55,
          25,
          32,
          55,
          63,
          33,
          64,
          44,
          31,
          52,
          53,
          33,
          65,
          54,
          59,
          30,
          64,
          71,
          51,
          28,
          61,
          62,
          39,
          32,
          47,
          39,
          67,
          60,
          55,
          62,
          31,
          50,
          45,
          35,
          54,
          67,
          39,
          43,
          56,
          57,
          64,
          33,
          56,
          49,
          51,
          41,
          43,
          55,
          36,
          68,
          41,
          47,
          54,
          53,
          46,
          38,
          36,
          67,
          40,
          39,
          33,
          47,
          32,
          65,
          42,
          70,
          56,
          41,
          49,
          44,
          51,
          55,
          55,
          70,
          60,
          66,
          46,
          63,
          34,
          38,
          76,
          39,
          25,
          55,
          32,
          58,
          51,
          55,
          58,
          36,
          50,
          27,
          38,
          50,
          45,
          37,
          34,
          49,
          51,
          55,
          49,
          61,
          70,
          46,
          48,
          57,
          57,
          63,
          48,
          31,
          46,
          34,
          31,
          58,
          66,
          50,
          33,
          58,
          39,
          37,
          33,
          48,
          55,
          50,
          39,
          45,
          53,
          55,
          40,
          49,
          34,
          74,
          56,
          45,
          41,
          44,
          55,
          61,
          51,
          31,
          51,
          40,
          48,
          53,
          50,
          37,
          54,
          40,
          40,
          64,
          46,
          70,
          61,
          46,
          34,
          34,
          57,
          46,
          32,
          37,
          43,
          41,
          58,
          67,
          70,
          51,
          50,
          50,
          36,
          41,
          37,
          61,
          33,
          63,
          38,
          51,
          53,
          38,
          41,
          47,
          33,
          35,
          25,
          33,
          48,
          39,
          54,
          33,
          27,
          40,
          66,
          38,
          51,
          43,
          53,
          51,
          41,
          52,
          43,
          37,
          57,
          60,
          38,
          66,
          55,
          48,
          44,
          44,
          28,
          42,
          58,
          57,
          69,
          75,
          40,
          50,
          43,
          68,
          46,
          48,
          45,
          57,
          56,
          50,
          30,
          31,
          44,
          52,
          50,
          41,
          37,
          42,
          42,
          35,
          34,
          70,
          38,
          52,
          40,
          60,
          59,
          61,
          59,
          49,
          53,
          44,
          38,
          59,
          38,
          68,
          33,
          40,
          48,
          33,
          49,
          37,
          37,
          42,
          35,
          58,
          64,
          51,
          60,
          29,
          46,
          44,
          55,
          46,
          40,
          32,
          46,
          30,
          36,
          39,
          37,
          50,
          53,
          43,
          49,
          58,
          42,
          45,
          34,
          40,
          50,
          62,
          44,
          68,
          66,
          67,
          70,
          34,
          38,
          28,
          49,
          40,
          49,
          53,
          37,
          72,
          51,
          38,
          71,
          69,
          66,
          53,
          36,
          61,
          61,
          59,
          46,
          51,
          53,
          50,
          34,
          41,
          43,
          38,
          28,
          46,
          31,
          45,
          26,
          40,
          46,
          63,
          38,
          44,
          71,
          26,
          40,
          26,
          44,
          50,
          65,
          37,
          34,
          49,
          25,
          30,
          69,
          62,
          62,
          73,
          48,
          64,
          36,
          35,
          52,
          35,
          48,
          40,
          32,
          36,
          34,
          33,
          37,
          32,
          34,
          30,
          37,
          53,
          56,
          28,
          43,
          41,
          53,
          38,
          36,
          59,
          57,
          55,
          54,
          30,
          43,
          48,
          58,
          49,
          38,
          26,
          59,
          35,
          42,
          46,
          30,
          58,
          53,
          59,
          68,
          55,
          53,
          47,
          50,
          44,
          62,
          48,
          44,
          30,
          69,
          40,
          72,
          50,
          70,
          59,
          26,
          46,
          49,
          40,
          54,
          46,
          52,
          67,
          37,
          51,
          50,
          67,
          65,
          37,
          67,
          48,
          42,
          54,
          72,
          50,
          28,
          45,
          51,
          41,
          71,
          34,
          65,
          63,
          41,
          56,
          73,
          64,
          75,
          62,
          50,
          71,
          55,
          56,
          51,
          38,
          61,
          52,
          57,
          33,
          53,
          64,
          66,
          29,
          43,
          51,
          51,
          39,
          55,
          59,
          36,
          36,
          41,
          37,
          66,
          51,
          70,
          48,
          51,
          67,
          46,
          54,
          64,
          52,
          52,
          56,
          40,
          58,
          49,
          49,
          47,
          42,
          32,
          49,
          57,
          48,
          42,
          43,
          53,
          53,
          62,
          53,
          44,
          66,
          45,
          28,
          67,
          53,
          45,
          47,
          58,
          41,
          55,
          44,
          58,
          65,
          62,
          46,
          32,
          27,
          33,
          40,
          54,
          62,
          45,
          47,
          41,
          55,
          62,
          58,
          39,
          46,
          48,
          42,
          46,
          66,
          36,
          27,
          55,
          42,
          58,
          57,
          41,
          38,
          53,
          48,
          37,
          51,
          74,
          50,
          40,
          40,
          31,
          48,
          35,
          55,
          33,
          29,
          53,
          29,
          57,
          46,
          29,
          26,
          37,
          65,
          48,
          52,
          32,
          28,
          46,
          60,
          71,
          52,
          27,
          46,
          54,
          52,
          49,
          53,
          38,
          33,
          37,
          62,
          27,
          51,
          54,
          68,
          44,
          53,
          31,
          44,
          43,
          28,
          55,
          35,
          35,
          45,
          68,
          59,
          56,
          53,
          41,
          64,
          57,
          31,
          50,
          39,
          78,
          47,
          54,
          49,
          67,
          37,
          44,
          59,
          47,
          31,
          64,
          26,
          39,
          31,
          64,
          58,
          42,
          37,
          38,
          51,
          56,
          47,
          49,
          40,
          60,
          54,
          60,
          52,
          31,
          27,
          50,
          44,
          40,
          48,
          47,
          58,
          73,
          56,
          34,
          32,
          37,
          52,
          50,
          44,
          28,
          56,
          48,
          49,
          49,
          41,
          45,
          50,
          72,
          57,
          66,
          48,
          65,
          67,
          63,
          35,
          54,
          58,
          47,
          52,
          49,
          55,
          49,
          40,
          46,
          55,
          45,
          70,
          56,
          48,
          47,
          35,
          53,
          53,
          32,
          55,
          55,
          25,
          36,
          45,
          35,
          41,
          32,
          51,
          45,
          64,
          41,
          40,
          51,
          46,
          53,
          55,
          27,
          41,
          49,
          49,
          42,
          65,
          29,
          52,
          29,
          51,
          41,
          26,
          57,
          67,
          36,
          45,
          31,
          54,
          45,
          35,
          44,
          53,
          56,
          49,
          61,
          53,
          77,
          38,
          34,
          46,
          37,
          68,
          48,
          46,
          40,
          38,
          44,
          65,
          33,
          51,
          40,
          72,
          62,
          44,
          69,
          35,
          29,
          27,
          54,
          63,
          36,
          46,
          54,
          37,
          37,
          43,
          42,
          53,
          49,
          40,
          54,
          44,
          52,
          36,
          37,
          47,
          33,
          69,
          36,
          52,
          58,
          55,
          45,
          27,
          31,
          43,
          50,
          47,
          45,
          29,
          72,
          40,
          42,
          25,
          33,
          41,
          26,
          54,
          36,
          29,
          34,
          31,
          50,
          29,
          43,
          71,
          72,
          52,
          50,
          33,
          69,
          33,
          61,
          35,
          34,
          31,
          56,
          32,
          33,
          29,
          33,
          40,
          36,
          39,
          54,
          65,
          42,
          46,
          70,
          26,
          59,
          50,
          33,
          42,
          70,
          45,
          38,
          47,
          57,
          63,
          70,
          40,
          62,
          56,
          48,
          44,
          34,
          50,
          73,
          70,
          46,
          51,
          28,
          69,
          39,
          61,
          36,
          36,
          58,
          41,
          47,
          65,
          37,
          42,
          70,
          38,
          55,
          33,
          52,
          52,
          41,
          29,
          47,
          34,
          55,
          50,
          43,
          60,
          45,
          40,
          57,
          47,
          36,
          60,
          54,
          39,
          30,
          62,
          40,
          61,
          69,
          54,
          50,
          48,
          64,
          55,
          44,
          49,
          48,
          36,
          47,
          59,
          35,
          64,
          50,
          40,
          34,
          47,
          63,
          73,
          62,
          48,
          46,
          52,
          42,
          65,
          47,
          47,
          55,
          47,
          33,
          29,
          52,
          34,
          28,
          39,
          42,
          42,
          65,
          56,
          71,
          28,
          83,
          56,
          54,
          57,
          29,
          46,
          64,
          52,
          35,
          41,
          41,
          52,
          53,
          45,
          42,
          60,
          39,
          47,
          66,
          29,
          41,
          36,
          39,
          40,
          29,
          40,
          56,
          28,
          67,
          47,
          38,
          35,
          31,
          51,
          47,
          66,
          38,
          61,
          34,
          54,
          31,
          45,
          33,
          26,
          55,
          35,
          60,
          53,
          65,
          72,
          65,
          46,
          36,
          57,
          26,
          39,
          44,
          63,
          34,
          63,
          67,
          61,
          44,
          53,
          58,
          36,
          32,
          62,
          76,
          61,
          44,
          36,
          78,
          48,
          33,
          51,
          66,
          43,
          26,
          28,
          25,
          42,
          37,
          44,
          60,
          66,
          54,
          50,
          48,
          34,
          52,
          33,
          52,
          64,
          45,
          38,
          51,
          41,
          57,
          69,
          40,
          71,
          77,
          39,
          53,
          42,
          55,
          61,
          33,
          54,
          49,
          39,
          33,
          41,
          44,
          49,
          54,
          45,
          30,
          45,
          53,
          41,
          54,
          43,
          31,
          40,
          39,
          60,
          48,
          44,
          33,
          54,
          54,
          39,
          25,
          63,
          34,
          44,
          58,
          48,
          69,
          51,
          42,
          57,
          27,
          31,
          50,
          63,
          46,
          49,
          62,
          54,
          66,
          47,
          68,
          59,
          50,
          58,
          57,
          78,
          33,
          45,
          44,
          56,
          29,
          32,
          40,
          52,
          51,
          63,
          59,
          64,
          60,
          25,
          44,
          55,
          72,
          55,
          43,
          70,
          55,
          40,
          58,
          39,
          63,
          62,
          57,
          43,
          51,
          43,
          43,
          34,
          36,
          58,
          37,
          49,
          36,
          50,
          37,
          48,
          54,
          44,
          54,
          59,
          37,
          39,
          60,
          50,
          61,
          49,
          39,
          55,
          45,
          40,
          34,
          47,
          30,
          38,
          47,
          43,
          38,
          29,
          69,
          47,
          50,
          48,
          43,
          61,
          39,
          39,
          37,
          51,
          62,
          70,
          59,
          50,
          27,
          50,
          56,
          40,
          56,
          43,
          47,
          49,
          43,
          40,
          53,
          59,
          45,
          70,
          53,
          46,
          61,
          52,
          47,
          70,
          42,
          42,
          55,
          53,
          44,
          48,
          39,
          45,
          33,
          45,
          45,
          62,
          54,
          40,
          55,
          35,
          37,
          34,
          37,
          25,
          57,
          46,
          40,
          50,
          33,
          26,
          47,
          27,
          57,
          65,
          47,
          34,
          73,
          59,
          48,
          60,
          29,
          44,
          29,
          43,
          59,
          65,
          42,
          31,
          42,
          42,
          50,
          37,
          43,
          51,
          44,
          50,
          43,
          63,
          31,
          50,
          26,
          42,
          40,
          40,
          57,
          69,
          36,
          68,
          72,
          49,
          50,
          44,
          63,
          33,
          42,
          48,
          44,
          40,
          44,
          32,
          46,
          30,
          59,
          49,
          46,
          33,
          36,
          54,
          67,
          72,
          65,
          33,
          34,
          66,
          35,
          45,
          42,
          56,
          64,
          49,
          35,
          33,
          49,
          66,
          70,
          35,
          54,
          47,
          43,
          69,
          67,
          40,
          49,
          42,
          58,
          42,
          66,
          46,
          35,
          43,
          53,
          38,
          39,
          37,
          46,
          64,
          51,
          59,
          32,
          51,
          44,
          59,
          45,
          30,
          42,
          57,
          37,
          58,
          65,
          55,
          41,
          65,
          39,
          35,
          54,
          63,
          60,
          34,
          37,
          52,
          39,
          42,
          62,
          61,
          42,
          61,
          70,
          53,
          48,
          60,
          60,
          69,
          42,
          44,
          63,
          29,
          46,
          52,
          44,
          26,
          69,
          74,
          29,
          69,
          59,
          61,
          48,
          42,
          58,
          77,
          26,
          64,
          38,
          39,
          71,
          41,
          37,
          59,
          39,
          40,
          36,
          48,
          35,
          46,
          69,
          78,
          59,
          49,
          56,
          36,
          63,
          48,
          32,
          34,
          42,
          40,
          25,
          37,
          57,
          50,
          32,
          42,
          52,
          30,
          27,
          70,
          46,
          63,
          54,
          35,
          34,
          28,
          70,
          30,
          53,
          74,
          46,
          49,
          27,
          44,
          37,
          37,
          37,
          48,
          37,
          66,
          40,
          53,
          47,
          59,
          45,
          60,
          61,
          36,
          62,
          55,
          51,
          54,
          63,
          37,
          29,
          57,
          60,
          65,
          40,
          51,
          37,
          28,
          46,
          36,
          42,
          31,
          37,
          46,
          61,
          38,
          43,
          43,
          47,
          40,
          50,
          40,
          39,
          39,
          78,
          60,
          43,
          41,
          36,
          53,
          43,
          37,
          25,
          59,
          39,
          48,
          50,
          43,
          29,
          69,
          68,
          67,
          52,
          48,
          31,
          37,
          69,
          52,
          31,
          26,
          44,
          61,
          49,
          68,
          65,
          51,
          74,
          71,
          33,
          41,
          57,
          42,
          55,
          66,
          36,
          70,
          42,
          58,
          44,
          57,
          56,
          44,
          53,
          54,
          69,
          34,
          69,
          25,
          46,
          67,
          79,
          60,
          49,
          34,
          45,
          33,
          48,
          42,
          32,
          39,
          56,
          69,
          53,
          50,
          45,
          40,
          53,
          51,
          50,
          37,
          55,
          47,
          41,
          62,
          71,
          41,
          56,
          53,
          34,
          64,
          49,
          71,
          59,
          37,
          34,
          65,
          54,
          52,
          46,
          42,
          45,
          56,
          38,
          50,
          53,
          62,
          38,
          53,
          56,
          65,
          32,
          50,
          34,
          66,
          69,
          53,
          42,
          31,
          52,
          43,
          27,
          60,
          60,
          29,
          45,
          42,
          37,
          43,
          31,
          39,
          32,
          49,
          42,
          53,
          45,
          54,
          36,
          49,
          68,
          31,
          66,
          64,
          58,
          46,
          43,
          41,
          43,
          42,
          39,
          42,
          46,
          72,
          30,
          43,
          53,
          29,
          37,
          59,
          38,
          45,
          32,
          52,
          56,
          44,
          54,
          43,
          46,
          38,
          42,
          51,
          38,
          37,
          64,
          71,
          64,
          44,
          45,
          41,
          30,
          47,
          48,
          63,
          65,
          53,
          40,
          33,
          30,
          41,
          39,
          34,
          30,
          39,
          44,
          36,
          40,
          60,
          66,
          44,
          35,
          35,
          55,
          53,
          28,
          26,
          57,
          35,
          39,
          72,
          49,
          60,
          54,
          35,
          59,
          57,
          54,
          44,
          36,
          41,
          28,
          31,
          54,
          44,
          48,
          54,
          31,
          40,
          43,
          44,
          50,
          38,
          50,
          29,
          46,
          49,
          37,
          30,
          43,
          58,
          40,
          45,
          57,
          53,
          46,
          39,
          65,
          37,
          55,
          57,
          47,
          47,
          64,
          46,
          45,
          60,
          42,
          55,
          28,
          53,
          64,
          44,
          32,
          68,
          35,
          55,
          61,
          34,
          42,
          54,
          45,
          47,
          34,
          60,
          75,
          43,
          40,
          32,
          64,
          33,
          58,
          45,
          46,
          63,
          47,
          39,
          66,
          41,
          57,
          63,
          37,
          38,
          56,
          46,
          29,
          62,
          48,
          69,
          39,
          48,
          49,
          45,
          47,
          50,
          41,
          38,
          41,
          44,
          36,
          54,
          31,
          39,
          64,
          65,
          42,
          42,
          59,
          44,
          44,
          31,
          39,
          55,
          37,
          43,
          41,
          35,
          50,
          59,
          77,
          30,
          37,
          29,
          67,
          35,
          41,
          38,
          55,
          54,
          55,
          52,
          62,
          55,
          53,
          55,
          34,
          44,
          66,
          34,
          52,
          64,
          71,
          65,
          68,
          34,
          75,
          45,
          46,
          33,
          39,
          32,
          34,
          43,
          46,
          49,
          60,
          35,
          38,
          29,
          47,
          51,
          41,
          52,
          49,
          72,
          42,
          53,
          63,
          33,
          47,
          59,
          48,
          47,
          39,
          73,
          68,
          44,
          34,
          39,
          39,
          36,
          36,
          42,
          30,
          53,
          37,
          37,
          63,
          38,
          33,
          40,
          65,
          34,
          61,
          72,
          69,
          58,
          61,
          53,
          33,
          44,
          58,
          34,
          45,
          49,
          38,
          39,
          57,
          50,
          62,
          69,
          53,
          65,
          59,
          29,
          46,
          64,
          34,
          53,
          52,
          39,
          38,
          55,
          49,
          63,
          43,
          32,
          59,
          63,
          38,
          33,
          52,
          70,
          55,
          31,
          51,
          42,
          68,
          30,
          41,
          38,
          66,
          48,
          67,
          42,
          58,
          49,
          42,
          53,
          29,
          32,
          43,
          39,
          38,
          40,
          39,
          50,
          36,
          67,
          57,
          36,
          44,
          47,
          67,
          71,
          52,
          59,
          38,
          54,
          45,
          26,
          35,
          46,
          57,
          61,
          56,
          38,
          48,
          37,
          40,
          54,
          52,
          38,
          42,
          35,
          56,
          30,
          48,
          47,
          51,
          71,
          27,
          56,
          44,
          60,
          51,
          47,
          45,
          42,
          53,
          59,
          50,
          39,
          43,
          57,
          44,
          46,
          27,
          62,
          37,
          30,
          37,
          70,
          54,
          51,
          40,
          28,
          45,
          33,
          41,
          51,
          39,
          75,
          41,
          33,
          32,
          47,
          37,
          59,
          43,
          39,
          41,
          51,
          61,
          32,
          40,
          30,
          55,
          50,
          52,
          50,
          38,
          49,
          48,
          37,
          58,
          27,
          51,
          34,
          38,
          35,
          59,
          30,
          44,
          37,
          41,
          53,
          40,
          30,
          68,
          36,
          46,
          57,
          55,
          37,
          41,
          39,
          40,
          61,
          49,
          51,
          25,
          46,
          47,
          66,
          69,
          46,
          34,
          69,
          38,
          55,
          32,
          42,
          54,
          61,
          46,
          55,
          70,
          74,
          38,
          60,
          36,
          47,
          37,
          64,
          55,
          75,
          63,
          67,
          61,
          61,
          61,
          69,
          39,
          61,
          62,
          62,
          63,
          41,
          67,
          38,
          41,
          59,
          67,
          55,
          43,
          60,
          51,
          53,
          60,
          54,
          68,
          50,
          34,
          48,
          46,
          42,
          71,
          70,
          53,
          60,
          61,
          73,
          62,
          79,
          57,
          57,
          32,
          50,
          65,
          77,
          40,
          71,
          56,
          59,
          29,
          65,
          61,
          65,
          56,
          53,
          49,
          40,
          57,
          56,
          61,
          54,
          67,
          52,
          50,
          44,
          46,
          37,
          39,
          48,
          63,
          60,
          38,
          64,
          40,
          57,
          65,
          56,
          67,
          64,
          51,
          70,
          51,
          37,
          54,
          71,
          68,
          56,
          60,
          58,
          39,
          57,
          50,
          32,
          60,
          62,
          40,
          53,
          69,
          28,
          59,
          39,
          43,
          64,
          30,
          46,
          42,
          53,
          47,
          59,
          48,
          44,
          56,
          68,
          71,
          55,
          59,
          63,
          56,
          34,
          57,
          63,
          43,
          49,
          37,
          54,
          68,
          61,
          59,
          50,
          60,
          60,
          62,
          51,
          49,
          42,
          49,
          43,
          60,
          40,
          52,
          55,
          47,
          43,
          46,
          53,
          53,
          67,
          71,
          38,
          45,
          53,
          67,
          55,
          35,
          63,
          67,
          55,
          38,
          50,
          61,
          57,
          47,
          48,
          53,
          73,
          64,
          68,
          58,
          65,
          37,
          52,
          45,
          54,
          68,
          59,
          78,
          62,
          35,
          44,
          49,
          39,
          72,
          57,
          48,
          71,
          64,
          44,
          65,
          34,
          40,
          32,
          47,
          55,
          52,
          68,
          46,
          36,
          68,
          26,
          48,
          50,
          61,
          33,
          51,
          38,
          32,
          43,
          53,
          41,
          51,
          34,
          30,
          53,
          33,
          43,
          59,
          60,
          48,
          30,
          43,
          60,
          40,
          76,
          25,
          46,
          39,
          53,
          39,
          54,
          49,
          33,
          58,
          53,
          55,
          54,
          62,
          44,
          70,
          67,
          44,
          47,
          54,
          50,
          60,
          63,
          30,
          38,
          53,
          60,
          45,
          42,
          34,
          64,
          46,
          70,
          42,
          59,
          38,
          26,
          53,
          49,
          40,
          44,
          58,
          38,
          54,
          30,
          35,
          34,
          43,
          47,
          49,
          32,
          36,
          38,
          54,
          50,
          64,
          39,
          37,
          37,
          66,
          45,
          35,
          54,
          52,
          56,
          38,
          53,
          61,
          39,
          63,
          34,
          27,
          58,
          39,
          54,
          37,
          70,
          71,
          69,
          65,
          45,
          53,
          28,
          46,
          45,
          50,
          67,
          51,
          35,
          29,
          55,
          62,
          38,
          62,
          35,
          51,
          47,
          34,
          32,
          34,
          66,
          49,
          56,
          30,
          34,
          44,
          84,
          38,
          52,
          44,
          57,
          58,
          31,
          69,
          64,
          54,
          66,
          37,
          57,
          39,
          45,
          39,
          34,
          39,
          33,
          27,
          30,
          54,
          59,
          54,
          42,
          26,
          53,
          55,
          32,
          28,
          32,
          31,
          55,
          67,
          54,
          61,
          44,
          46,
          48,
          62,
          64,
          46,
          55,
          57,
          44,
          39,
          27,
          67,
          47,
          40,
          68,
          50,
          44,
          50,
          56,
          49,
          72,
          54,
          55,
          70,
          33,
          52,
          49,
          53,
          36,
          45,
          50,
          45,
          49,
          27,
          50,
          36,
          52,
          25,
          55,
          43,
          33,
          43,
          30,
          53,
          36,
          72,
          48,
          54,
          62,
          39,
          58,
          71,
          42,
          57,
          33,
          50,
          32,
          41,
          65,
          76,
          65,
          49,
          42,
          41,
          57,
          84,
          40,
          64,
          58,
          37,
          63,
          56,
          63,
          47,
          34,
          39,
          44,
          34,
          36,
          59,
          42,
          59,
          49,
          35,
          41,
          39,
          43,
          61,
          51,
          63,
          56,
          52,
          39,
          63,
          77,
          53,
          63,
          32,
          32,
          50,
          51,
          34,
          25,
          27,
          40,
          33,
          57,
          42,
          40,
          56,
          33,
          42,
          42,
          51,
          39,
          29,
          52,
          44,
          53,
          43,
          35,
          46,
          44,
          35,
          44,
          64,
          62,
          65,
          58,
          44,
          68,
          54,
          59,
          39,
          73,
          37,
          37,
          32,
          33,
          59,
          39,
          47,
          55,
          32,
          54,
          45,
          47,
          30,
          32,
          43,
          43,
          25,
          62,
          43,
          46,
          60,
          29,
          38,
          37,
          31,
          56,
          41,
          39,
          63,
          33,
          51,
          49,
          44,
          58,
          37,
          51,
          55,
          62,
          65,
          48,
          54,
          58,
          47,
          30,
          47,
          39,
          62,
          60,
          36,
          28,
          32,
          59,
          44,
          41,
          34,
          31,
          35,
          56,
          40,
          38,
          58,
          38,
          40,
          51,
          53,
          46,
          64,
          71,
          42,
          56,
          54,
          44,
          52,
          35,
          55,
          64,
          67,
          43,
          53,
          45,
          43,
          43,
          35,
          39,
          56,
          37,
          43,
          58,
          50,
          39,
          26,
          56,
          31,
          32,
          48,
          46,
          52,
          35,
          36,
          53,
          52,
          63,
          46,
          44,
          52,
          53,
          45,
          28,
          65,
          59,
          30,
          49,
          39,
          50,
          54,
          41,
          55,
          42,
          42,
          42,
          46,
          52,
          63,
          58,
          38,
          61,
          62,
          43,
          52,
          43,
          34,
          28,
          38,
          40,
          72,
          49,
          55,
          47,
          55,
          31,
          67,
          36,
          72,
          39,
          59,
          69,
          40,
          55,
          63,
          55,
          44,
          43,
          58,
          57,
          54,
          36,
          45,
          36,
          56,
          38,
          52,
          63,
          42,
          57,
          50,
          76,
          41,
          26,
          40,
          55,
          56,
          34,
          33,
          64,
          68,
          67,
          52,
          39,
          46,
          62,
          51,
          67,
          31,
          47,
          62,
          41,
          62,
          29,
          49,
          69,
          30,
          37,
          35,
          49,
          53,
          50,
          71,
          49,
          64,
          31,
          68,
          44,
          29,
          55,
          47,
          42,
          32,
          65,
          37,
          49,
          45,
          74,
          27,
          53,
          68,
          71,
          70,
          38,
          42,
          46,
          54,
          41,
          66,
          48,
          48,
          31,
          69,
          30,
          58,
          56,
          60,
          30,
          45,
          45,
          32,
          58,
          43,
          55,
          50,
          59,
          51,
          44,
          58,
          51,
          47,
          68,
          40,
          67,
          57,
          48,
          43,
          45,
          58,
          38,
          30,
          33,
          41,
          77,
          53,
          48,
          45,
          59,
          50,
          53,
          46,
          60,
          49,
          51,
          30,
          55,
          52,
          50,
          38,
          45,
          55,
          52,
          47,
          58,
          50,
          42,
          68,
          58,
          27,
          51,
          50,
          35,
          57,
          43,
          39,
          56,
          63,
          65,
          61,
          58,
          41,
          32,
          67,
          26,
          32,
          63,
          40,
          38,
          61,
          42,
          47,
          60,
          55,
          56,
          56,
          62,
          44,
          62,
          39,
          69,
          42,
          47,
          55,
          51,
          47,
          70,
          37,
          65,
          36,
          55,
          25,
          46,
          59,
          45,
          64,
          47,
          32,
          32,
          61,
          52,
          55,
          61,
          60,
          60,
          35,
          41,
          32,
          33,
          43,
          48,
          47,
          52,
          35,
          33,
          53,
          41,
          44,
          59,
          27,
          25,
          41,
          53,
          27,
          47,
          56,
          34,
          38,
          37,
          70,
          40,
          43,
          64,
          69,
          62,
          42,
          37,
          34,
          29,
          36,
          37,
          56,
          51,
          40,
          49,
          50,
          45,
          40,
          34,
          33,
          61,
          49,
          40,
          30,
          42,
          32,
          57,
          55,
          45,
          70,
          43,
          54,
          47,
          35,
          38,
          49,
          31,
          56,
          33,
          41,
          36,
          40,
          36,
          59,
          65,
          51,
          38,
          55,
          41,
          67,
          51,
          31,
          65,
          46,
          48,
          38,
          41,
          33,
          48,
          47,
          61,
          69,
          26,
          51,
          67,
          37,
          54,
          40,
          35,
          51,
          39,
          40,
          30,
          67,
          52,
          27,
          53,
          34,
          57,
          57,
          68,
          55,
          36,
          42,
          42,
          51,
          62,
          55,
          72,
          54,
          46,
          51,
          53,
          57,
          43,
          41,
          42,
          41,
          74,
          51,
          26,
          56,
          38,
          31,
          36,
          35,
          48,
          39,
          40,
          36,
          74,
          39,
          35,
          50,
          58,
          44,
          47,
          59,
          53,
          66,
          34,
          58,
          56,
          53,
          45,
          68,
          29,
          47,
          39,
          42,
          37,
          32,
          64,
          58,
          53,
          36,
          64,
          50,
          59,
          46,
          38,
          57,
          66,
          63,
          54,
          60,
          45,
          36,
          44,
          46,
          32,
          69,
          45,
          36,
          59,
          26,
          29,
          39,
          82,
          59,
          58,
          39,
          41,
          50,
          47,
          50,
          49,
          29,
          37,
          43,
          52,
          58,
          35,
          29,
          53,
          63,
          48,
          51,
          36,
          50,
          46,
          40,
          47,
          60,
          34,
          60,
          48,
          39,
          48,
          47,
          38,
          53,
          40,
          40,
          50,
          62,
          48,
          41,
          38,
          33,
          42,
          37,
          49,
          66,
          45,
          40,
          54,
          38,
          34,
          48,
          26,
          48,
          52,
          62,
          32,
          60,
          73,
          40,
          51,
          52,
          34,
          38,
          41,
          31,
          46,
          45,
          61,
          67,
          39,
          54,
          62,
          45,
          37,
          40,
          54,
          64,
          39,
          55,
          45,
          49,
          66,
          69,
          32,
          48,
          37,
          39,
          59,
          47,
          42,
          53,
          41,
          56,
          31,
          59,
          55,
          33,
          52,
          47,
          38,
          61,
          48,
          56,
          45,
          33,
          60,
          60,
          61,
          42,
          48,
          42,
          41,
          52,
          65,
          52,
          36,
          43,
          38,
          40,
          32,
          69,
          33,
          33,
          42,
          49,
          28,
          53,
          42,
          45,
          48,
          38,
          32,
          55,
          43,
          55,
          49,
          44,
          48,
          45,
          51,
          44,
          41,
          54,
          32,
          46,
          52,
          66,
          64,
          45,
          68,
          38,
          60,
          58,
          43,
          49,
          71,
          46,
          56,
          56,
          40,
          42,
          54,
          48,
          46,
          28,
          36,
          52,
          48,
          29,
          47,
          46,
          34,
          45,
          57,
          39,
          51,
          47,
          51,
          32,
          50,
          33,
          66,
          51,
          53,
          49,
          62,
          39,
          48,
          50,
          47,
          49,
          36,
          47,
          37,
          77,
          61,
          72,
          56,
          44,
          46,
          55,
          59,
          27,
          43,
          56,
          29,
          43,
          38,
          36,
          55,
          69,
          72,
          49,
          49,
          39,
          47,
          63,
          70,
          45,
          60,
          42,
          57,
          50,
          60,
          59,
          37,
          52,
          42,
          51,
          29,
          47,
          39,
          42,
          59,
          47,
          58,
          42,
          37,
          28,
          41,
          33,
          57,
          61,
          38,
          54,
          54,
          60,
          41,
          37,
          47,
          76,
          55,
          51,
          64,
          39,
          50,
          49,
          57,
          50,
          59,
          25,
          44,
          34,
          55,
          53,
          34,
          58,
          29,
          30,
          76,
          40,
          31,
          47,
          54,
          40,
          39,
          39,
          52,
          68,
          50,
          54,
          40,
          54,
          53,
          61,
          38,
          39,
          77,
          43,
          59,
          77,
          54,
          61,
          52,
          29,
          28,
          44,
          43,
          34,
          43,
          29,
          70,
          36,
          76,
          45,
          44,
          40,
          65,
          33,
          32,
          44,
          47,
          25,
          53,
          28,
          55,
          77,
          39,
          42,
          38,
          64,
          36,
          39,
          52,
          53,
          62,
          39,
          40,
          77,
          43,
          68,
          52,
          60,
          42,
          38,
          30,
          68,
          61,
          38,
          26,
          29,
          56,
          32,
          52,
          34,
          42,
          45,
          39,
          30,
          35,
          29,
          31,
          39,
          63,
          35,
          55,
          41,
          43,
          40,
          62,
          36,
          44,
          43,
          38,
          58,
          29,
          57,
          42,
          38,
          50,
          35,
          49,
          72,
          67,
          26,
          34,
          55,
          57,
          69,
          45,
          55,
          60,
          49,
          44,
          46,
          51,
          74,
          61,
          40,
          44,
          63,
          47,
          37,
          40,
          39,
          62,
          40,
          31,
          48,
          63,
          36,
          29,
          58,
          53,
          35,
          36,
          53,
          44,
          40,
          52,
          37,
          43,
          68,
          43,
          63,
          33,
          58,
          39,
          45,
          44,
          69,
          38,
          33,
          39,
          37,
          59,
          46,
          48,
          33,
          29,
          40,
          45,
          59,
          38,
          48,
          47,
          48,
          40,
          50,
          51,
          44,
          56,
          53,
          47,
          49,
          36,
          35,
          40,
          52,
          66,
          76,
          58,
          54,
          55,
          31,
          31,
          55,
          67,
          37,
          74,
          45,
          44,
          42,
          39,
          35,
          65,
          30,
          29,
          62,
          62,
          33,
          34,
          41,
          32,
          44,
          45,
          57,
          54,
          54,
          62,
          67,
          46,
          41,
          64,
          51,
          52,
          39,
          28,
          57,
          61,
          42,
          38,
          41,
          63,
          28,
          74,
          35,
          61,
          27,
          33,
          51,
          56,
          43,
          43,
          33,
          33,
          43,
          36,
          34,
          51,
          47,
          65,
          56,
          45,
          48,
          34,
          40,
          49,
          52,
          41,
          39,
          57,
          32,
          38,
          59,
          40,
          42,
          46,
          47,
          31,
          47,
          42,
          45,
          37,
          32,
          38,
          31,
          31,
          66,
          52,
          38,
          52,
          41,
          45,
          38,
          52,
          53,
          44,
          65,
          64,
          63,
          39,
          49,
          39,
          25,
          45,
          36,
          41,
          37,
          43,
          59,
          41,
          58,
          65,
          61,
          34,
          48,
          47,
          55,
          30,
          31,
          48,
          51,
          38,
          36,
          51,
          47,
          42,
          31,
          58,
          61,
          53,
          51,
          45,
          66,
          47,
          45,
          36,
          69,
          65,
          41,
          48,
          36,
          49,
          57,
          72,
          70,
          52,
          78,
          61,
          50,
          39,
          61,
          62,
          76,
          60,
          46,
          52,
          51,
          41,
          36,
          38,
          28,
          36,
          56,
          59,
          49,
          47,
          47,
          48,
          49,
          55,
          41,
          58,
          43,
          50,
          52,
          43,
          49,
          56,
          65,
          49,
          63,
          46,
          35,
          37,
          36,
          61,
          42,
          72,
          48,
          43,
          32,
          66,
          54,
          33,
          53,
          40,
          34,
          60,
          52,
          71,
          57,
          44,
          57,
          59,
          32,
          45,
          52,
          69,
          50,
          62,
          60,
          38,
          52,
          56,
          58,
          35,
          47,
          58,
          45,
          43,
          53,
          44,
          45,
          54,
          64,
          53,
          59,
          49,
          61,
          61,
          43,
          58,
          45,
          50,
          49,
          47,
          40,
          68,
          63,
          46,
          70,
          48,
          43,
          36,
          39,
          43,
          54,
          51,
          72,
          63,
          63,
          70,
          47,
          56,
          65,
          58,
          35,
          50,
          56,
          77,
          55,
          58,
          42,
          46,
          41,
          52,
          38,
          41,
          60,
          46,
          32,
          62,
          56,
          52,
          64,
          30,
          56,
          51,
          46,
          53,
          36,
          62,
          38,
          54,
          69,
          53,
          73,
          52,
          58,
          46,
          72,
          74,
          42,
          29,
          43,
          53,
          47,
          76,
          70,
          71,
          41,
          58,
          57,
          61,
          50,
          68,
          59,
          35,
          41,
          31,
          34,
          40,
          47,
          56,
          30,
          32,
          65,
          36,
          52,
          48,
          40,
          41,
          43,
          49,
          43,
          49,
          62,
          62,
          55,
          37,
          59,
          55,
          42,
          52,
          50,
          40,
          43,
          55,
          47,
          54,
          45,
          46,
          64,
          51,
          38,
          61,
          50,
          63,
          48,
          57,
          29,
          57,
          60,
          63,
          54,
          68,
          29,
          50,
          55,
          66,
          58,
          67,
          52,
          49,
          50,
          47,
          57,
          36,
          64,
          60,
          40,
          38,
          63,
          43,
          49,
          63,
          43,
          44,
          38,
          59,
          60,
          70,
          56,
          41,
          53,
          69,
          61,
          40,
          65,
          50,
          50,
          68,
          56,
          56,
          52,
          50,
          36,
          54,
          42,
          30,
          59,
          58,
          46,
          60,
          59,
          42,
          48,
          52,
          57,
          52,
          32,
          41,
          42,
          28,
          37,
          37,
          60,
          49,
          49,
          57,
          59,
          45,
          38,
          54,
          38,
          70,
          41,
          45,
          38,
          45,
          42,
          49,
          34,
          60,
          29,
          36,
          31,
          25,
          65,
          61,
          36,
          62,
          58,
          37,
          64,
          50,
          41,
          35,
          48,
          66,
          26,
          44,
          28,
          49,
          50,
          53,
          47,
          46,
          53,
          61,
          44,
          49,
          50,
          61,
          51,
          61,
          61,
          60,
          52,
          64,
          38,
          59,
          39,
          31,
          55,
          45,
          30,
          42,
          34,
          59,
          46,
          28,
          62,
          26,
          61,
          47,
          59,
          53,
          36,
          45,
          37,
          66,
          38,
          57,
          31,
          44,
          42,
          62,
          50,
          46,
          36,
          30,
          44,
          57,
          40,
          29,
          38,
          36,
          45,
          48,
          42,
          52,
          44,
          44,
          52,
          39,
          51,
          57,
          36,
          56,
          52,
          61,
          49,
          58,
          67,
          45,
          35,
          73,
          59,
          39,
          58,
          55,
          41,
          50,
          37,
          39,
          57,
          55,
          61,
          52,
          43,
          54,
          49,
          64,
          69,
          52,
          45,
          51,
          44,
          45,
          39,
          44,
          37,
          60,
          65,
          45,
          47,
          45,
          52,
          46,
          74,
          44,
          52,
          45,
          32,
          43,
          79,
          39,
          43,
          51,
          50,
          37,
          44,
          53,
          52,
          56,
          64,
          36,
          31,
          37,
          68,
          38,
          39,
          35,
          39,
          46,
          48,
          59,
          59,
          46,
          33,
          63,
          52,
          36,
          69,
          42,
          42,
          39,
          46,
          51,
          48,
          47,
          42,
          63,
          49,
          34,
          49,
          41,
          57,
          51,
          47,
          57,
          48,
          40,
          34,
          53,
          64,
          31,
          57,
          45,
          57,
          28,
          38,
          54,
          43,
          32,
          47,
          44,
          70,
          53,
          67,
          53,
          52,
          67,
          67,
          51,
          58,
          62,
          45,
          58,
          41,
          40,
          45,
          52,
          50,
          47,
          62,
          70,
          64,
          57,
          60,
          76,
          49,
          67,
          65,
          40,
          49,
          47,
          49,
          50,
          40,
          49,
          27,
          36,
          46,
          50,
          59,
          39,
          74,
          31,
          61,
          57,
          70,
          49,
          63,
          41,
          65,
          60,
          28,
          31,
          50,
          50,
          33,
          41,
          50,
          34,
          63,
          85,
          37,
          43,
          42,
          43,
          50,
          37,
          45,
          53,
          29,
          55,
          51,
          57,
          61,
          60,
          59,
          45,
          43,
          73,
          44,
          49,
          43,
          43,
          46,
          33,
          39,
          66,
          47,
          26,
          44,
          35,
          59,
          79,
          57,
          62,
          68,
          44,
          55,
          43,
          61,
          48,
          61,
          52,
          59,
          35,
          45,
          53,
          61,
          36,
          43,
          65,
          35,
          42,
          73,
          67,
          79,
          54,
          62,
          44,
          53,
          62,
          42,
          74,
          44,
          34,
          47,
          54,
          58,
          71,
          54,
          30,
          66,
          40,
          55,
          35,
          50,
          47,
          33,
          40,
          54,
          33,
          34,
          31,
          68,
          48,
          38,
          44,
          27,
          70,
          62,
          52,
          72,
          56,
          66,
          36,
          60,
          30,
          47,
          43,
          41,
          48,
          57,
          54,
          60,
          48,
          62,
          56,
          46,
          54,
          52,
          72,
          66,
          48,
          37,
          62,
          34,
          64,
          56,
          68,
          72,
          40,
          39,
          43,
          74,
          46,
          31,
          29,
          66,
          68,
          33,
          36,
          67,
          65,
          31,
          51,
          45,
          49,
          37,
          39,
          30,
          27,
          28,
          29,
          70,
          35,
          42,
          64,
          64,
          54,
          59,
          64,
          54,
          73,
          45,
          37,
          59,
          29,
          64,
          34,
          63,
          55,
          37,
          59,
          37,
          39,
          50,
          40,
          64,
          80,
          26,
          59,
          40,
          32,
          42,
          47,
          55,
          37,
          36,
          58,
          65,
          71,
          44,
          39,
          27,
          69,
          66,
          58,
          32,
          54,
          63,
          47,
          63,
          70,
          43,
          60,
          69,
          79,
          45,
          65,
          37,
          43,
          25,
          65,
          52,
          69,
          31,
          65,
          61,
          65,
          52,
          51,
          59,
          48,
          48,
          42,
          41,
          33,
          59,
          70,
          45,
          57,
          65,
          33,
          45,
          40,
          30,
          47,
          50,
          67,
          60,
          34,
          56,
          55,
          44,
          37,
          49,
          64,
          42,
          43,
          64,
          48,
          40,
          30,
          36,
          60,
          47,
          46,
          26,
          50,
          54,
          54,
          53,
          55,
          32,
          37,
          54,
          59,
          59,
          43,
          68,
          43,
          39,
          58,
          30,
          35,
          32,
          34,
          28,
          46,
          52,
          59,
          30,
          65,
          34,
          42,
          48,
          64,
          31,
          63,
          28,
          34,
          32,
          40,
          32,
          48,
          48,
          70,
          39,
          31,
          48,
          57,
          50,
          53,
          39,
          61,
          37,
          72,
          39,
          88,
          36,
          33,
          54,
          41,
          52,
          59,
          78,
          54,
          39,
          42,
          65,
          48,
          32,
          57,
          68,
          75,
          49,
          45,
          52,
          38,
          27,
          47,
          42,
          36,
          62,
          56,
          35,
          29,
          58,
          55,
          65,
          35,
          40,
          73,
          27,
          40,
          60,
          32,
          39,
          53,
          53,
          58,
          26,
          35,
          56,
          34,
          35,
          62,
          69,
          37,
          61,
          55,
          56,
          49,
          42,
          34,
          34,
          68,
          36,
          48,
          44,
          46,
          57,
          37,
          53,
          45,
          26,
          66,
          46,
          32,
          45,
          33,
          51,
          36,
          54,
          57,
          59,
          44,
          44,
          40,
          42,
          49,
          45,
          29,
          29,
          41,
          30,
          47,
          32,
          60,
          51,
          53,
          34,
          39,
          52,
          50,
          43,
          49,
          41,
          65,
          63,
          51,
          43,
          44,
          43,
          33,
          33,
          68,
          32,
          61,
          62,
          36,
          61,
          58,
          35,
          44,
          56,
          48,
          48,
          56,
          52,
          37,
          47,
          39,
          53,
          49,
          55,
          34,
          33,
          55,
          41,
          49,
          58,
          44,
          51,
          49,
          34,
          29,
          47,
          34,
          40,
          43,
          45,
          53,
          39,
          44,
          59,
          57,
          55,
          47,
          57,
          37,
          58,
          36,
          59,
          49,
          37,
          68,
          43,
          67,
          60,
          59,
          45,
          35,
          53,
          34,
          49,
          37,
          45,
          25,
          49,
          54,
          29,
          47,
          43,
          30,
          45,
          45,
          35,
          56,
          32,
          82,
          34,
          59,
          40,
          35,
          58,
          36,
          32,
          37,
          43,
          59,
          51,
          39,
          39,
          43,
          72,
          35,
          27,
          67,
          41,
          74,
          27,
          41,
          27,
          67,
          50,
          42,
          32,
          34,
          59,
          29,
          49,
          62,
          49,
          41,
          36,
          35,
          34,
          41,
          29,
          45,
          57,
          76,
          44,
          53,
          40,
          55,
          43,
          45,
          29,
          40,
          43,
          36,
          50,
          53,
          38,
          42,
          41,
          31,
          37,
          46,
          44,
          42,
          36,
          40,
          28,
          33,
          45,
          48,
          72,
          46,
          44,
          82,
          50,
          61,
          44,
          74,
          42,
          33,
          36,
          53,
          48,
          39,
          39,
          63,
          55,
          74,
          49,
          60,
          43,
          59,
          51,
          30,
          40,
          45,
          59,
          44,
          46,
          44,
          61,
          66,
          68,
          33,
          51,
          47,
          43,
          29,
          64,
          34,
          58,
          36,
          45,
          41,
          37,
          28,
          38,
          42,
          55,
          43,
          31,
          62,
          64,
          53,
          59,
          57,
          40,
          55,
          53,
          34,
          28,
          39,
          46,
          46,
          26,
          28,
          54,
          43,
          61,
          50,
          50,
          41,
          44,
          29,
          39,
          63,
          58,
          61,
          60,
          69,
          45,
          50,
          53,
          37,
          47,
          51,
          46,
          40,
          44,
          33,
          53,
          30,
          46,
          54,
          75,
          44,
          47,
          30,
          40,
          71,
          54,
          51,
          51,
          49,
          38,
          33,
          55,
          40,
          68,
          58,
          49,
          71,
          59,
          41,
          39,
          31,
          32,
          30,
          39,
          55,
          36,
          49,
          35,
          44,
          42,
          41,
          33,
          46,
          62,
          42,
          40,
          36,
          56,
          43,
          30,
          38,
          43,
          55,
          49,
          43,
          48,
          63,
          41,
          34,
          56,
          57,
          61,
          31,
          27,
          72,
          28,
          44,
          48,
          57,
          26,
          29,
          28,
          30,
          48,
          62,
          51,
          71,
          41,
          38,
          30,
          47,
          59,
          40,
          52,
          72,
          36,
          38,
          70,
          72,
          46,
          68,
          31,
          56,
          63,
          65,
          30,
          54,
          29,
          40,
          35,
          43,
          34,
          55,
          36,
          54,
          54,
          30,
          44,
          45,
          34,
          69,
          67,
          54,
          33,
          47,
          49,
          56,
          30,
          49,
          51,
          64,
          69,
          29,
          33,
          46,
          57,
          43,
          45,
          51,
          39,
          42,
          59,
          31,
          43,
          35,
          67,
          40,
          53,
          39,
          61,
          56,
          39,
          44,
          27,
          66,
          37,
          36,
          52,
          47,
          49,
          53,
          66,
          35,
          67,
          38,
          43,
          58,
          39,
          37,
          47,
          53,
          66,
          55,
          41,
          52,
          31,
          32,
          39,
          31,
          54,
          63,
          64,
          50,
          49,
          39,
          35,
          50,
          63,
          53,
          60,
          40,
          47,
          40,
          55,
          58,
          47,
          39,
          37,
          45,
          53,
          76,
          46,
          48,
          49,
          33,
          61,
          38,
          49,
          38,
          69,
          64,
          50,
          43,
          60,
          46,
          40,
          44,
          36,
          41,
          60,
          36,
          43,
          52,
          63,
          57,
          38,
          34,
          38,
          46,
          58,
          39,
          36,
          36,
          60,
          28,
          50,
          28,
          44,
          34,
          33,
          55,
          48,
          46,
          59,
          53,
          42,
          44,
          43,
          36,
          57,
          42,
          34,
          38,
          46,
          50,
          61,
          70,
          55,
          29,
          35,
          56,
          72,
          59,
          28,
          66,
          26,
          47,
          44,
          44,
          51,
          35,
          40,
          26,
          73,
          59,
          50,
          35,
          39,
          66,
          28,
          42,
          53,
          44,
          54,
          70,
          36,
          48,
          28,
          46,
          59,
          41,
          49,
          51,
          29,
          74,
          29,
          48,
          66,
          42,
          58,
          64,
          41,
          35,
          31,
          30,
          34,
          46,
          54,
          53,
          33,
          61,
          35,
          33,
          52,
          40,
          29,
          52,
          38,
          37,
          49,
          37,
          43,
          43,
          71,
          37,
          40,
          38,
          54,
          41,
          44,
          34,
          60,
          41,
          33,
          42,
          46,
          33,
          29,
          35,
          41,
          28,
          51,
          31,
          31,
          28,
          31,
          28,
          57,
          44,
          43,
          51,
          40,
          44,
          47,
          33,
          62,
          58,
          63,
          48,
          45,
          42,
          55,
          40,
          33,
          48,
          43,
          44,
          59,
          43,
          54,
          55,
          35,
          46,
          37,
          47,
          56,
          46,
          43,
          51,
          42,
          67,
          32,
          53,
          53,
          45,
          40,
          50,
          82,
          30,
          51,
          44,
          41,
          54,
          60,
          27,
          42,
          65,
          39,
          38,
          45,
          80,
          44,
          52,
          40,
          43,
          49,
          58,
          45,
          51,
          58,
          62,
          61,
          54,
          42,
          44,
          47,
          47,
          45,
          61,
          47,
          46,
          51,
          46,
          46,
          35,
          39,
          70,
          61,
          71,
          41,
          41,
          60,
          29,
          40,
          46,
          66,
          42,
          65,
          63,
          59,
          34,
          46,
          43,
          53,
          38,
          39,
          48,
          41,
          63,
          65,
          33,
          53,
          62,
          33,
          44,
          47,
          55,
          53,
          62,
          47,
          34,
          55,
          38,
          50,
          32,
          43,
          58,
          46,
          51,
          50,
          56,
          72,
          33,
          50,
          64,
          52,
          46,
          30,
          40,
          52,
          48,
          63,
          33,
          50,
          45,
          59,
          39,
          28,
          57,
          39,
          48,
          51,
          57,
          52,
          43,
          34,
          50,
          33,
          35,
          54,
          59,
          54,
          36,
          31,
          39,
          55,
          68,
          49,
          29,
          49,
          42,
          62,
          50,
          39,
          38,
          43,
          73,
          67,
          60,
          70,
          63,
          60,
          63,
          45,
          40,
          36,
          28,
          35,
          59,
          63,
          58,
          51,
          45,
          49,
          52,
          45,
          29,
          44,
          34,
          34,
          32,
          36,
          29,
          33,
          26,
          49,
          33,
          61,
          26,
          33,
          30,
          60,
          29,
          37,
          35,
          30,
          33,
          54,
          43,
          36,
          47,
          53,
          49,
          43,
          39,
          36,
          58,
          48,
          59,
          43,
          69,
          32,
          44,
          74,
          62,
          54,
          26,
          45,
          35,
          47,
          42,
          38,
          31,
          35,
          64,
          56,
          39,
          46,
          49,
          46,
          46,
          52,
          42,
          41,
          37,
          28,
          61,
          56,
          42,
          51,
          32,
          51,
          38,
          37,
          35,
          42,
          40,
          37,
          53,
          64,
          60,
          54,
          53,
          32,
          43,
          44,
          26,
          58,
          48,
          67,
          40,
          58,
          33,
          49,
          36,
          40,
          72,
          68,
          37,
          25,
          32,
          69,
          68,
          51,
          42,
          45,
          70,
          43,
          65,
          25,
          62,
          63,
          42,
          46,
          43,
          49,
          48,
          38,
          42,
          64,
          53,
          36,
          40,
          27,
          39,
          39,
          49,
          51,
          33,
          34,
          65,
          32,
          49,
          40,
          72,
          42,
          68,
          64,
          36,
          54,
          68,
          71,
          56,
          46,
          60,
          38,
          45,
          34,
          42,
          37,
          36,
          48,
          68,
          43,
          61,
          53,
          64,
          33,
          69,
          69,
          58,
          49,
          77,
          45,
          52,
          62,
          36,
          35,
          39,
          69,
          38,
          48,
          59,
          53,
          49,
          60,
          45,
          33,
          39,
          59,
          53,
          47,
          41,
          29,
          53,
          53,
          40,
          33,
          47,
          43,
          54,
          67,
          33,
          48,
          46,
          37,
          47,
          69,
          51,
          55,
          55,
          47,
          43,
          71,
          35,
          34,
          30,
          40,
          35,
          37,
          45,
          45,
          46,
          52,
          54,
          28,
          40,
          47,
          45,
          36,
          54,
          45,
          79,
          33,
          45,
          62,
          72,
          46,
          32,
          62,
          64,
          38,
          47,
          36,
          34,
          52,
          62,
          48,
          56,
          31,
          44,
          59,
          46,
          35,
          70,
          72,
          44,
          32,
          44,
          46,
          28,
          40,
          48,
          39,
          43,
          63,
          48,
          59,
          32,
          54,
          25,
          36,
          36,
          38,
          29,
          31,
          49,
          72,
          47,
          49,
          37,
          52,
          49,
          53,
          52,
          63,
          56,
          43,
          44,
          63,
          46,
          37,
          66,
          40,
          50,
          43,
          67,
          73,
          34,
          36,
          30,
          31,
          47,
          42,
          44,
          27,
          64,
          68,
          69,
          60,
          40,
          43,
          31,
          46,
          54,
          25,
          39,
          54,
          61,
          45,
          53,
          46,
          58,
          60,
          58,
          28,
          33,
          51,
          67,
          45,
          65,
          25,
          52,
          37,
          48,
          34,
          46,
          41,
          53,
          40,
          48,
          44,
          49,
          41,
          26,
          64,
          55,
          37,
          47,
          31,
          39,
          74,
          36,
          65,
          39,
          40,
          72,
          28,
          33,
          34,
          49,
          71,
          54,
          50,
          63,
          56,
          63,
          63,
          52,
          72,
          45,
          54,
          29,
          34,
          69,
          42,
          76,
          56,
          55,
          68,
          50,
          61,
          35,
          47,
          47,
          32,
          37,
          75,
          47,
          46,
          37,
          48,
          57,
          46,
          65,
          53,
          69,
          71,
          45,
          49,
          49,
          42,
          63,
          59,
          34,
          35,
          47,
          35,
          59,
          28,
          51,
          35,
          47,
          62,
          42,
          53,
          38,
          43,
          39,
          59,
          54,
          49,
          55,
          55,
          46,
          55,
          46,
          46,
          44,
          31,
          48,
          68,
          66,
          51,
          46,
          48,
          39,
          40,
          46,
          35,
          35,
          46,
          28,
          44,
          50,
          68,
          57,
          58,
          54,
          41,
          37,
          43,
          54,
          42,
          47,
          28,
          62,
          36,
          44,
          39,
          36,
          39,
          39,
          44,
          38,
          63,
          30,
          31,
          35,
          40,
          60,
          41,
          49,
          60,
          32,
          46,
          50,
          45,
          41,
          47,
          25,
          27,
          32,
          64,
          40,
          52,
          25,
          60,
          63,
          56,
          26,
          38,
          46,
          43,
          55,
          66,
          60,
          56,
          73,
          60,
          43,
          47,
          75,
          58,
          51,
          40,
          52,
          57,
          41,
          61,
          50,
          29,
          48,
          37,
          43,
          39,
          68,
          66,
          68,
          34,
          39,
          57,
          29,
          27,
          65,
          64,
          37,
          52,
          36,
          52,
          47,
          59,
          41,
          45,
          26,
          72,
          69,
          49,
          37,
          56,
          29,
          63,
          52,
          39,
          56,
          53,
          56,
          56,
          40,
          66,
          66,
          41,
          51,
          62,
          48,
          40,
          37,
          53,
          53,
          59,
          42,
          43,
          40,
          65,
          42,
          34,
          64,
          67,
          33,
          55,
          39,
          50,
          54,
          41,
          33,
          68,
          52,
          33,
          40,
          40,
          67,
          57,
          46,
          36,
          35,
          32,
          41,
          51,
          36,
          67,
          36,
          29,
          44,
          39,
          46,
          47,
          59,
          61,
          68,
          36,
          43,
          55,
          49,
          53,
          55,
          49,
          65,
          69,
          51,
          57,
          59,
          44,
          42,
          45,
          40,
          28,
          50,
          44,
          43,
          49,
          37,
          45,
          40,
          38,
          35,
          44,
          61,
          35,
          50,
          40,
          35,
          56,
          63,
          33,
          50,
          34,
          35,
          53,
          33,
          39,
          38,
          55,
          70,
          63,
          62,
          37,
          50,
          57,
          47,
          40,
          66,
          63,
          66,
          62,
          50,
          50,
          33,
          59,
          62,
          34,
          52,
          49,
          67,
          49,
          40,
          50,
          33,
          53,
          50,
          42,
          47,
          33,
          36,
          42,
          38,
          40,
          58,
          40,
          54,
          64,
          38,
          62,
          41,
          39,
          38,
          26,
          66,
          28,
          67,
          39,
          68,
          57,
          43,
          64,
          36,
          43,
          61,
          35,
          33,
          38,
          39,
          67,
          50,
          47,
          32,
          25,
          53,
          65,
          30,
          25,
          33,
          43,
          35,
          65,
          68,
          45,
          54,
          63,
          28,
          38,
          40,
          54,
          50,
          55,
          56,
          45,
          38,
          32,
          44,
          42,
          51,
          57,
          47,
          78,
          36,
          50,
          34,
          53,
          31,
          31,
          37,
          55,
          49,
          63,
          39,
          54,
          59,
          51,
          62,
          33,
          48,
          38,
          68,
          55,
          38,
          45,
          39,
          79,
          69,
          33,
          64,
          35,
          39,
          43,
          48,
          60,
          37,
          49,
          49,
          52,
          68,
          43,
          70,
          28,
          39,
          40,
          55,
          28,
          49,
          57,
          44,
          26,
          35,
          64,
          51,
          36,
          30,
          33,
          33,
          71,
          47,
          48,
          48,
          52,
          44,
          35,
          41,
          30,
          34,
          35,
          47,
          56,
          48,
          29,
          58,
          31,
          34,
          47,
          48,
          48,
          46,
          44,
          74,
          59,
          50,
          48,
          65,
          32,
          70,
          51,
          35,
          41,
          30,
          47,
          73,
          37,
          51,
          51,
          35,
          40,
          30,
          50,
          39,
          36,
          36,
          62,
          34,
          64,
          59,
          49,
          39,
          43,
          40,
          59,
          32,
          28,
          55,
          43,
          41,
          39,
          30,
          50,
          54,
          44,
          42,
          41,
          36,
          36,
          44,
          57,
          50,
          52,
          69,
          38,
          58,
          49,
          41,
          33,
          54,
          63,
          46,
          39,
          68,
          61,
          44,
          47,
          67,
          74,
          52,
          44,
          57,
          48,
          62,
          71,
          48,
          44,
          51,
          34,
          27,
          61,
          45,
          45,
          45,
          61,
          45,
          39,
          64,
          39,
          35,
          54,
          35,
          75,
          45,
          31,
          67,
          34,
          63,
          47,
          52,
          57,
          51,
          40,
          63,
          33,
          29,
          42,
          39,
          39,
          31,
          39,
          54,
          62,
          36,
          52,
          50,
          65,
          51,
          63,
          60,
          55,
          37,
          57,
          32,
          64,
          51,
          37,
          61,
          55,
          44,
          39,
          55,
          34,
          69,
          62,
          44,
          39,
          41,
          49,
          39,
          57,
          73,
          67,
          56,
          38,
          47,
          40,
          50,
          44,
          66,
          65,
          44,
          26,
          47,
          25,
          63,
          60,
          56,
          40,
          56,
          51,
          43,
          56,
          36,
          37,
          31,
          70,
          69,
          54,
          34,
          31,
          25,
          55,
          42,
          39,
          34,
          65,
          67,
          50,
          47,
          50,
          40,
          41,
          36,
          45,
          37,
          73,
          53,
          70,
          46,
          39,
          39,
          49,
          50,
          46,
          59,
          55,
          71,
          39,
          54,
          57,
          40,
          58,
          43,
          50,
          40,
          46,
          60,
          47,
          71,
          70,
          31,
          54,
          51,
          36,
          49,
          60,
          49,
          32,
          38,
          28,
          39,
          66,
          70,
          40,
          60,
          38,
          63,
          43,
          52,
          41,
          32,
          66,
          44,
          52,
          42,
          43,
          59,
          54,
          51,
          43,
          47,
          33,
          62,
          55,
          34,
          48,
          41,
          67,
          40,
          56,
          61,
          36,
          39,
          60,
          51,
          46,
          38,
          48,
          71,
          44,
          27,
          38,
          70,
          52,
          45,
          54,
          46,
          46,
          32,
          66,
          39,
          48,
          46,
          28,
          60,
          49,
          45,
          45,
          66,
          37,
          30,
          48,
          35,
          36,
          36,
          36,
          25,
          27,
          51,
          36,
          62,
          38,
          26,
          41,
          48,
          44,
          72,
          62,
          32,
          37,
          70,
          42,
          31,
          54,
          52,
          58,
          48,
          28,
          64,
          54,
          67,
          33,
          41,
          45,
          40,
          31,
          49,
          48,
          39,
          64,
          63,
          28,
          46,
          53,
          60,
          42,
          53,
          28,
          28,
          40,
          65,
          37,
          39,
          44,
          34,
          34,
          48,
          50,
          42,
          54,
          64,
          51,
          39,
          65,
          58,
          60,
          41,
          56,
          64,
          54,
          43,
          61,
          43,
          28,
          41,
          68,
          65,
          53,
          53,
          72,
          37,
          40,
          48,
          47,
          31,
          43,
          58,
          42,
          41,
          62,
          66,
          51,
          46,
          58,
          48,
          32,
          52,
          61,
          44,
          62,
          49,
          62,
          64,
          42,
          58,
          68,
          36,
          38,
          54,
          41,
          41,
          61,
          34,
          61,
          57,
          63,
          58,
          54,
          42,
          57,
          55,
          54,
          43,
          46,
          54,
          56,
          40,
          48,
          61,
          57,
          37,
          47,
          50,
          60,
          62,
          52,
          32,
          30,
          70,
          40,
          61,
          48,
          52,
          61,
          40,
          46,
          36,
          76,
          65,
          65,
          33,
          54,
          47,
          50,
          52,
          49,
          52,
          39,
          47,
          65,
          51,
          65,
          41,
          60,
          53,
          62,
          36,
          53,
          57,
          58,
          68,
          42,
          76,
          61,
          31,
          30,
          58,
          40,
          34,
          49,
          33,
          57,
          47,
          30,
          50,
          57,
          51,
          43,
          58,
          48,
          67,
          63,
          55,
          46,
          47,
          69,
          52,
          36,
          40,
          37,
          41,
          34,
          47,
          35,
          37,
          51,
          61,
          36,
          31,
          44,
          34,
          36,
          54,
          34,
          42,
          64,
          54,
          56,
          59,
          50,
          45,
          32,
          58,
          31,
          47,
          31,
          27,
          41,
          49,
          52,
          62,
          49,
          32,
          49,
          48,
          38,
          34,
          57,
          39,
          66,
          52,
          46,
          42,
          43,
          51,
          61,
          31,
          37,
          26,
          59,
          45,
          42,
          41,
          33,
          55,
          47,
          75,
          68,
          78,
          46,
          42,
          59,
          55,
          58,
          51,
          49,
          55,
          49,
          67,
          58,
          67,
          69,
          55,
          39,
          54,
          52,
          34,
          64,
          61,
          56,
          67,
          51,
          35,
          45,
          62,
          62,
          62,
          36,
          53,
          27,
          62,
          52,
          45,
          41,
          57,
          49,
          59,
          67,
          40,
          30,
          53,
          57,
          38,
          41,
          45,
          70,
          48,
          44,
          51,
          49,
          55,
          48,
          44,
          74,
          59,
          52,
          41,
          46,
          47,
          66,
          47,
          52,
          38,
          44,
          60,
          25,
          53,
          49,
          47,
          47,
          61,
          28,
          30,
          36,
          29,
          60,
          40,
          71,
          40,
          41,
          49,
          49,
          47,
          54,
          58,
          48,
          43,
          37,
          41,
          47,
          69,
          25,
          40,
          50,
          39,
          66,
          46,
          35,
          62,
          42,
          61,
          56,
          28,
          26,
          34,
          35,
          43,
          58,
          54,
          51,
          55,
          47,
          38,
          53,
          43,
          69,
          43,
          39,
          71,
          63,
          70,
          68,
          56,
          44,
          42,
          51,
          55,
          50,
          46,
          68,
          70,
          50,
          47,
          41,
          40,
          32,
          54,
          41,
          69,
          55,
          68,
          52,
          43,
          38,
          59,
          56,
          27,
          47,
          50,
          45,
          63,
          46,
          42,
          50,
          38,
          43,
          65,
          59,
          63,
          67,
          64,
          67,
          51,
          27,
          77,
          72,
          57,
          32,
          32,
          53,
          68,
          69,
          38,
          52,
          70,
          60,
          32,
          53,
          40,
          55,
          52,
          49,
          57,
          27,
          53,
          68,
          43,
          36,
          40,
          55,
          49,
          56,
          33,
          49,
          32,
          54,
          25,
          29,
          49,
          50,
          61,
          52,
          72,
          63,
          71,
          40,
          43,
          30,
          33,
          53,
          40,
          33,
          51,
          35,
          43,
          59,
          51,
          56,
          57,
          29,
          34,
          33,
          54,
          33,
          34,
          26,
          25,
          37,
          47,
          42,
          44,
          37,
          70,
          55,
          54,
          34,
          52,
          40,
          44,
          45,
          37,
          54,
          55,
          54,
          44,
          54,
          52,
          59,
          49,
          41,
          33,
          41,
          38,
          25,
          48,
          60,
          57,
          34,
          25,
          54,
          34,
          54,
          54,
          26,
          32,
          45,
          56,
          43,
          36,
          55,
          68,
          61,
          33,
          35,
          36,
          36,
          28,
          61,
          56,
          47,
          50,
          55,
          51,
          63,
          35,
          63,
          64,
          47,
          54,
          53,
          25,
          34,
          45,
          49,
          48,
          55,
          56,
          63,
          41,
          44,
          45,
          49,
          25,
          26,
          41,
          64,
          40,
          27,
          37,
          46,
          48,
          65,
          56,
          65,
          35,
          51,
          41,
          54,
          50,
          47,
          55,
          39,
          44,
          28,
          63,
          45,
          59,
          57,
          66,
          44,
          44,
          52,
          43,
          53,
          43,
          34,
          64,
          48,
          35,
          45,
          46,
          50,
          62,
          52,
          65,
          46,
          54,
          71,
          49,
          28,
          56,
          65,
          45,
          57,
          54,
          52,
          50,
          32,
          39,
          45,
          32,
          36,
          36,
          50,
          40,
          53,
          59,
          54,
          44,
          48,
          34,
          46,
          44,
          36,
          47,
          75,
          65,
          58,
          55,
          42,
          45,
          53,
          59,
          31,
          57,
          81,
          50,
          56,
          44,
          46,
          45,
          48,
          65,
          40,
          58,
          34,
          31,
          43,
          30,
          70,
          40,
          60,
          49,
          55,
          39,
          26,
          31,
          40,
          46,
          40,
          31,
          41,
          60,
          73,
          59,
          53,
          52,
          62,
          31,
          35,
          28,
          74,
          44,
          50,
          44,
          76,
          49,
          63,
          40,
          46,
          65,
          58,
          35,
          46,
          34,
          40,
          46,
          28,
          69,
          37,
          55,
          42,
          51,
          38,
          52,
          58,
          44,
          51,
          46,
          40,
          39,
          40,
          45,
          67,
          41,
          32,
          87,
          53,
          36,
          55,
          25,
          33,
          61,
          62,
          52,
          41,
          39,
          43,
          64,
          42,
          61,
          27,
          38,
          26,
          45,
          39,
          31,
          48,
          42,
          45,
          54,
          46,
          33,
          53,
          26,
          55,
          46,
          48,
          52,
          48,
          35,
          32,
          61,
          49,
          40,
          50,
          55,
          37,
          62,
          25,
          55,
          56,
          29,
          50,
          30,
          32,
          37,
          40,
          73,
          41,
          34,
          26,
          34,
          65,
          44,
          40,
          49,
          38,
          34,
          47,
          62,
          60,
          49,
          50,
          65,
          34,
          31,
          72,
          29,
          46,
          45,
          60,
          39,
          56,
          59,
          40,
          50,
          46,
          32,
          36,
          40,
          65,
          27,
          33,
          49,
          36,
          40,
          54,
          40,
          31,
          66,
          43,
          47,
          38,
          35,
          62,
          63,
          45,
          40,
          52,
          37,
          32,
          42,
          35,
          39,
          69,
          73,
          53,
          61,
          54,
          60,
          35,
          44,
          36,
          28,
          55,
          30,
          31,
          44,
          53,
          47,
          42,
          68,
          44,
          56,
          49,
          40,
          67,
          48,
          56,
          42,
          64,
          36,
          60,
          40,
          48,
          33,
          57,
          35,
          32,
          71,
          53,
          45,
          68,
          53,
          37,
          67,
          62,
          55,
          35,
          54,
          50,
          31,
          36,
          63,
          53,
          54,
          45,
          55,
          48,
          63,
          48,
          63,
          36,
          56,
          41,
          34,
          47,
          59,
          72,
          34,
          67,
          64,
          53,
          29,
          51,
          65,
          47,
          59,
          40,
          30,
          30,
          50,
          46,
          47,
          42,
          47,
          46,
          37,
          55,
          40,
          46,
          45,
          54,
          39,
          73,
          70,
          26,
          54,
          53,
          46,
          62,
          60,
          66,
          43,
          50,
          53,
          58,
          33,
          50,
          62,
          40,
          47,
          50,
          61,
          31,
          57,
          67,
          69,
          51,
          65,
          64,
          36,
          52,
          48,
          70,
          64,
          54,
          55,
          41,
          32,
          35,
          59,
          70,
          59,
          49,
          63,
          48,
          46,
          62,
          64,
          52,
          55,
          32,
          66,
          51,
          36,
          49,
          36,
          25,
          59,
          49,
          51,
          35,
          34,
          40,
          36,
          45,
          43,
          35,
          40,
          35,
          35,
          56,
          64,
          62,
          54,
          32,
          40,
          39,
          43,
          38,
          47,
          45,
          28,
          40,
          32,
          41,
          28,
          29,
          34,
          61,
          36,
          51,
          31,
          67,
          32,
          44,
          44,
          42,
          54,
          32,
          43,
          38,
          33,
          27,
          35,
          42,
          52,
          48,
          52,
          38,
          31,
          46,
          52,
          62,
          64,
          54,
          39,
          37,
          32,
          67,
          32,
          33,
          33,
          30,
          32,
          29,
          30,
          31,
          40,
          49,
          29,
          43,
          25,
          45,
          66,
          45,
          38,
          35,
          52,
          44,
          47,
          72,
          69,
          36,
          43,
          56,
          49,
          57,
          36,
          42,
          40,
          39,
          30,
          54,
          36,
          38,
          46,
          40,
          46,
          49,
          50,
          42,
          38,
          49,
          57,
          64,
          43,
          27,
          30,
          63,
          68,
          49,
          39,
          40,
          40,
          40,
          48,
          29,
          38,
          37,
          28,
          36,
          43,
          52,
          29,
          65,
          42,
          38,
          59,
          40,
          62,
          36,
          36,
          51,
          39,
          37,
          38,
          39,
          38,
          30,
          34,
          31,
          37,
          43,
          29,
          49,
          33,
          30,
          33,
          39,
          30,
          37,
          37,
          58,
          35,
          37,
          46,
          38,
          28,
          36,
          33,
          30,
          47,
          64,
          54,
          35,
          39,
          52,
          44,
          30,
          43,
          40,
          60,
          46,
          60,
          54,
          45,
          59,
          38,
          49,
          50,
          44,
          34,
          38,
          53,
          33,
          31,
          37,
          44,
          34,
          46,
          43,
          38,
          39,
          63,
          60,
          70,
          59,
          47,
          36,
          58,
          30,
          46,
          69,
          37,
          49,
          43,
          50,
          57,
          33,
          53,
          32,
          51,
          40,
          32,
          39,
          55,
          37,
          54,
          55,
          45,
          42,
          44,
          53,
          60,
          75,
          33,
          48,
          45,
          53,
          54,
          31,
          44,
          44,
          46,
          46,
          42,
          65,
          37,
          54,
          49,
          42,
          55,
          39,
          47,
          53,
          41,
          32,
          45,
          35,
          42,
          58,
          43,
          43,
          29,
          34,
          56,
          46,
          52,
          55,
          46,
          54,
          47,
          54,
          32,
          44,
          49,
          33,
          32,
          64,
          59,
          69,
          34,
          32,
          46,
          52,
          29,
          37,
          31,
          45,
          28,
          34,
          64,
          50,
          48,
          47,
          47,
          38,
          29,
          42,
          34,
          45,
          52,
          45,
          36,
          43,
          40,
          58,
          47,
          38,
          38,
          44,
          46,
          41,
          43,
          27,
          36,
          54,
          33,
          39,
          58,
          45,
          64,
          43,
          65,
          54,
          47,
          53,
          26,
          42,
          45,
          44,
          51,
          32,
          43,
          36,
          63,
          40,
          54,
          30,
          38,
          58,
          30,
          28,
          65,
          47,
          45,
          41,
          52,
          36,
          38,
          26,
          35,
          73,
          36,
          57,
          32,
          55,
          28,
          49,
          26,
          30,
          53,
          39,
          25,
          36,
          27,
          32,
          39,
          59,
          26,
          30,
          44,
          49,
          53,
          48,
          65,
          30,
          53,
          33,
          33,
          69,
          58,
          30,
          68,
          41,
          69,
          43,
          51,
          37,
          74,
          33,
          38,
          44,
          47,
          65,
          59,
          51,
          40,
          34,
          32,
          48,
          42,
          51,
          37,
          37,
          53,
          51,
          43,
          59,
          31,
          66,
          58,
          51,
          53,
          74,
          55,
          43,
          55,
          36,
          33,
          29,
          52,
          54,
          32,
          41,
          33,
          26,
          36,
          64,
          33,
          38,
          36,
          41,
          56,
          61,
          39,
          41,
          46,
          36,
          50,
          35,
          40,
          32,
          44,
          32,
          25,
          52,
          53,
          43,
          49,
          43,
          31,
          40,
          35,
          57,
          49,
          32,
          37,
          29,
          33,
          32,
          50,
          53,
          37,
          50,
          33,
          40,
          58,
          43,
          40,
          34,
          50,
          37,
          34,
          60,
          44,
          66,
          38,
          32,
          40,
          29,
          35,
          74,
          56,
          36,
          32,
          34,
          80,
          38,
          25,
          35,
          35,
          45,
          29,
          25,
          35,
          39,
          63,
          67,
          52,
          38,
          44,
          55,
          32,
          60,
          29,
          38,
          48,
          30,
          36,
          40,
          38,
          34,
          30,
          53,
          39,
          38,
          49,
          66,
          62,
          50,
          50,
          78,
          45,
          45,
          36,
          35,
          36,
          38,
          33,
          62,
          35,
          73,
          56,
          35,
          60,
          42,
          50,
          64,
          36,
          50,
          39,
          48,
          58,
          58,
          60,
          35,
          57,
          37,
          41,
          50,
          63,
          40,
          49,
          65,
          46,
          39,
          47,
          46,
          54,
          35,
          47,
          53,
          47,
          66,
          49,
          37,
          37,
          57,
          53,
          53,
          47,
          38,
          34,
          32,
          64,
          79,
          48,
          54,
          41,
          49,
          50,
          72,
          45,
          34,
          37,
          54,
          65,
          48,
          48,
          28,
          55,
          66,
          27,
          49,
          67,
          42,
          46,
          30,
          64,
          53,
          37,
          66,
          49,
          30,
          44,
          40,
          49,
          28,
          54,
          33,
          33,
          46,
          56,
          39,
          38,
          39,
          57,
          53,
          46,
          48,
          41,
          46,
          66,
          31,
          71,
          44,
          54,
          60,
          35,
          41,
          32,
          40,
          47,
          43,
          46,
          35,
          60,
          36,
          50,
          46,
          65,
          51,
          64,
          48,
          44,
          49,
          28,
          40,
          49,
          57,
          50,
          54,
          61,
          53,
          36,
          65,
          62,
          49,
          42,
          46,
          54,
          61,
          49,
          48,
          61,
          66,
          46,
          65,
          49,
          65,
          63,
          40,
          37,
          41,
          54,
          46,
          65,
          62,
          30,
          38,
          71,
          54,
          47,
          29,
          41,
          40,
          51,
          27,
          37,
          53,
          51,
          69,
          39,
          48,
          60,
          37,
          56,
          53,
          41,
          73,
          54,
          46,
          48,
          49,
          55,
          57,
          34,
          57,
          37,
          61,
          49,
          72,
          37,
          36,
          71,
          63,
          45,
          50,
          44,
          61,
          33,
          51,
          53,
          57,
          44,
          49,
          44,
          40,
          63,
          68,
          51,
          62,
          62,
          36,
          27,
          26,
          41,
          48,
          49,
          66,
          73,
          54,
          36,
          34,
          75,
          36,
          52,
          43,
          39,
          39,
          62,
          26,
          36,
          25,
          54,
          38,
          60,
          27,
          36,
          47,
          58,
          54,
          41,
          43,
          74,
          44,
          58,
          53,
          57,
          47,
          32,
          37,
          54,
          36,
          44,
          57,
          35,
          36,
          38,
          43,
          35,
          41,
          33,
          44,
          53,
          50,
          40,
          42,
          46,
          36,
          52,
          34,
          33,
          36,
          33,
          30,
          55,
          33,
          40,
          28,
          51,
          52,
          44,
          59,
          49,
          44,
          37,
          49,
          55,
          45,
          34,
          55,
          66,
          64,
          70,
          40,
          55,
          31,
          27,
          33,
          37,
          40,
          28,
          66,
          51,
          62,
          56,
          49,
          61,
          61,
          54,
          43,
          67,
          65,
          71,
          36,
          27,
          43,
          32,
          57,
          30,
          44,
          56,
          40,
          61,
          61,
          70,
          75,
          37,
          63,
          63,
          41,
          38,
          30,
          37,
          49,
          66,
          38,
          50,
          60,
          43,
          60,
          37,
          38,
          58,
          52,
          55,
          51,
          48
         ],
         "xaxis": "x",
         "yaxis": "y"
        }
       ],
       "layout": {
        "barmode": "relative",
        "font": {
         "color": "#351f39",
         "family": "Courier New"
        },
        "legend": {
         "tracegroupgap": 0
        },
        "margin": {
         "t": 60
        },
        "template": {
         "data": {
          "bar": [
           {
            "error_x": {
             "color": "#2a3f5f"
            },
            "error_y": {
             "color": "#2a3f5f"
            },
            "marker": {
             "line": {
              "color": "#E5ECF6",
              "width": 0.5
             },
             "pattern": {
              "fillmode": "overlay",
              "size": 10,
              "solidity": 0.2
             }
            },
            "type": "bar"
           }
          ],
          "barpolar": [
           {
            "marker": {
             "line": {
              "color": "#E5ECF6",
              "width": 0.5
             },
             "pattern": {
              "fillmode": "overlay",
              "size": 10,
              "solidity": 0.2
             }
            },
            "type": "barpolar"
           }
          ],
          "carpet": [
           {
            "aaxis": {
             "endlinecolor": "#2a3f5f",
             "gridcolor": "white",
             "linecolor": "white",
             "minorgridcolor": "white",
             "startlinecolor": "#2a3f5f"
            },
            "baxis": {
             "endlinecolor": "#2a3f5f",
             "gridcolor": "white",
             "linecolor": "white",
             "minorgridcolor": "white",
             "startlinecolor": "#2a3f5f"
            },
            "type": "carpet"
           }
          ],
          "choropleth": [
           {
            "colorbar": {
             "outlinewidth": 0,
             "ticks": ""
            },
            "type": "choropleth"
           }
          ],
          "contour": [
           {
            "colorbar": {
             "outlinewidth": 0,
             "ticks": ""
            },
            "colorscale": [
             [
              0,
              "#0d0887"
             ],
             [
              0.1111111111111111,
              "#46039f"
             ],
             [
              0.2222222222222222,
              "#7201a8"
             ],
             [
              0.3333333333333333,
              "#9c179e"
             ],
             [
              0.4444444444444444,
              "#bd3786"
             ],
             [
              0.5555555555555556,
              "#d8576b"
             ],
             [
              0.6666666666666666,
              "#ed7953"
             ],
             [
              0.7777777777777778,
              "#fb9f3a"
             ],
             [
              0.8888888888888888,
              "#fdca26"
             ],
             [
              1,
              "#f0f921"
             ]
            ],
            "type": "contour"
           }
          ],
          "contourcarpet": [
           {
            "colorbar": {
             "outlinewidth": 0,
             "ticks": ""
            },
            "type": "contourcarpet"
           }
          ],
          "heatmap": [
           {
            "colorbar": {
             "outlinewidth": 0,
             "ticks": ""
            },
            "colorscale": [
             [
              0,
              "#0d0887"
             ],
             [
              0.1111111111111111,
              "#46039f"
             ],
             [
              0.2222222222222222,
              "#7201a8"
             ],
             [
              0.3333333333333333,
              "#9c179e"
             ],
             [
              0.4444444444444444,
              "#bd3786"
             ],
             [
              0.5555555555555556,
              "#d8576b"
             ],
             [
              0.6666666666666666,
              "#ed7953"
             ],
             [
              0.7777777777777778,
              "#fb9f3a"
             ],
             [
              0.8888888888888888,
              "#fdca26"
             ],
             [
              1,
              "#f0f921"
             ]
            ],
            "type": "heatmap"
           }
          ],
          "heatmapgl": [
           {
            "colorbar": {
             "outlinewidth": 0,
             "ticks": ""
            },
            "colorscale": [
             [
              0,
              "#0d0887"
             ],
             [
              0.1111111111111111,
              "#46039f"
             ],
             [
              0.2222222222222222,
              "#7201a8"
             ],
             [
              0.3333333333333333,
              "#9c179e"
             ],
             [
              0.4444444444444444,
              "#bd3786"
             ],
             [
              0.5555555555555556,
              "#d8576b"
             ],
             [
              0.6666666666666666,
              "#ed7953"
             ],
             [
              0.7777777777777778,
              "#fb9f3a"
             ],
             [
              0.8888888888888888,
              "#fdca26"
             ],
             [
              1,
              "#f0f921"
             ]
            ],
            "type": "heatmapgl"
           }
          ],
          "histogram": [
           {
            "marker": {
             "pattern": {
              "fillmode": "overlay",
              "size": 10,
              "solidity": 0.2
             }
            },
            "type": "histogram"
           }
          ],
          "histogram2d": [
           {
            "colorbar": {
             "outlinewidth": 0,
             "ticks": ""
            },
            "colorscale": [
             [
              0,
              "#0d0887"
             ],
             [
              0.1111111111111111,
              "#46039f"
             ],
             [
              0.2222222222222222,
              "#7201a8"
             ],
             [
              0.3333333333333333,
              "#9c179e"
             ],
             [
              0.4444444444444444,
              "#bd3786"
             ],
             [
              0.5555555555555556,
              "#d8576b"
             ],
             [
              0.6666666666666666,
              "#ed7953"
             ],
             [
              0.7777777777777778,
              "#fb9f3a"
             ],
             [
              0.8888888888888888,
              "#fdca26"
             ],
             [
              1,
              "#f0f921"
             ]
            ],
            "type": "histogram2d"
           }
          ],
          "histogram2dcontour": [
           {
            "colorbar": {
             "outlinewidth": 0,
             "ticks": ""
            },
            "colorscale": [
             [
              0,
              "#0d0887"
             ],
             [
              0.1111111111111111,
              "#46039f"
             ],
             [
              0.2222222222222222,
              "#7201a8"
             ],
             [
              0.3333333333333333,
              "#9c179e"
             ],
             [
              0.4444444444444444,
              "#bd3786"
             ],
             [
              0.5555555555555556,
              "#d8576b"
             ],
             [
              0.6666666666666666,
              "#ed7953"
             ],
             [
              0.7777777777777778,
              "#fb9f3a"
             ],
             [
              0.8888888888888888,
              "#fdca26"
             ],
             [
              1,
              "#f0f921"
             ]
            ],
            "type": "histogram2dcontour"
           }
          ],
          "mesh3d": [
           {
            "colorbar": {
             "outlinewidth": 0,
             "ticks": ""
            },
            "type": "mesh3d"
           }
          ],
          "parcoords": [
           {
            "line": {
             "colorbar": {
              "outlinewidth": 0,
              "ticks": ""
             }
            },
            "type": "parcoords"
           }
          ],
          "pie": [
           {
            "automargin": true,
            "type": "pie"
           }
          ],
          "scatter": [
           {
            "fillpattern": {
             "fillmode": "overlay",
             "size": 10,
             "solidity": 0.2
            },
            "type": "scatter"
           }
          ],
          "scatter3d": [
           {
            "line": {
             "colorbar": {
              "outlinewidth": 0,
              "ticks": ""
             }
            },
            "marker": {
             "colorbar": {
              "outlinewidth": 0,
              "ticks": ""
             }
            },
            "type": "scatter3d"
           }
          ],
          "scattercarpet": [
           {
            "marker": {
             "colorbar": {
              "outlinewidth": 0,
              "ticks": ""
             }
            },
            "type": "scattercarpet"
           }
          ],
          "scattergeo": [
           {
            "marker": {
             "colorbar": {
              "outlinewidth": 0,
              "ticks": ""
             }
            },
            "type": "scattergeo"
           }
          ],
          "scattergl": [
           {
            "marker": {
             "colorbar": {
              "outlinewidth": 0,
              "ticks": ""
             }
            },
            "type": "scattergl"
           }
          ],
          "scattermapbox": [
           {
            "marker": {
             "colorbar": {
              "outlinewidth": 0,
              "ticks": ""
             }
            },
            "type": "scattermapbox"
           }
          ],
          "scatterpolar": [
           {
            "marker": {
             "colorbar": {
              "outlinewidth": 0,
              "ticks": ""
             }
            },
            "type": "scatterpolar"
           }
          ],
          "scatterpolargl": [
           {
            "marker": {
             "colorbar": {
              "outlinewidth": 0,
              "ticks": ""
             }
            },
            "type": "scatterpolargl"
           }
          ],
          "scatterternary": [
           {
            "marker": {
             "colorbar": {
              "outlinewidth": 0,
              "ticks": ""
             }
            },
            "type": "scatterternary"
           }
          ],
          "surface": [
           {
            "colorbar": {
             "outlinewidth": 0,
             "ticks": ""
            },
            "colorscale": [
             [
              0,
              "#0d0887"
             ],
             [
              0.1111111111111111,
              "#46039f"
             ],
             [
              0.2222222222222222,
              "#7201a8"
             ],
             [
              0.3333333333333333,
              "#9c179e"
             ],
             [
              0.4444444444444444,
              "#bd3786"
             ],
             [
              0.5555555555555556,
              "#d8576b"
             ],
             [
              0.6666666666666666,
              "#ed7953"
             ],
             [
              0.7777777777777778,
              "#fb9f3a"
             ],
             [
              0.8888888888888888,
              "#fdca26"
             ],
             [
              1,
              "#f0f921"
             ]
            ],
            "type": "surface"
           }
          ],
          "table": [
           {
            "cells": {
             "fill": {
              "color": "#EBF0F8"
             },
             "line": {
              "color": "white"
             }
            },
            "header": {
             "fill": {
              "color": "#C8D4E3"
             },
             "line": {
              "color": "white"
             }
            },
            "type": "table"
           }
          ]
         },
         "layout": {
          "annotationdefaults": {
           "arrowcolor": "#2a3f5f",
           "arrowhead": 0,
           "arrowwidth": 1
          },
          "autotypenumbers": "strict",
          "coloraxis": {
           "colorbar": {
            "outlinewidth": 0,
            "ticks": ""
           }
          },
          "colorscale": {
           "diverging": [
            [
             0,
             "#8e0152"
            ],
            [
             0.1,
             "#c51b7d"
            ],
            [
             0.2,
             "#de77ae"
            ],
            [
             0.3,
             "#f1b6da"
            ],
            [
             0.4,
             "#fde0ef"
            ],
            [
             0.5,
             "#f7f7f7"
            ],
            [
             0.6,
             "#e6f5d0"
            ],
            [
             0.7,
             "#b8e186"
            ],
            [
             0.8,
             "#7fbc41"
            ],
            [
             0.9,
             "#4d9221"
            ],
            [
             1,
             "#276419"
            ]
           ],
           "sequential": [
            [
             0,
             "#0d0887"
            ],
            [
             0.1111111111111111,
             "#46039f"
            ],
            [
             0.2222222222222222,
             "#7201a8"
            ],
            [
             0.3333333333333333,
             "#9c179e"
            ],
            [
             0.4444444444444444,
             "#bd3786"
            ],
            [
             0.5555555555555556,
             "#d8576b"
            ],
            [
             0.6666666666666666,
             "#ed7953"
            ],
            [
             0.7777777777777778,
             "#fb9f3a"
            ],
            [
             0.8888888888888888,
             "#fdca26"
            ],
            [
             1,
             "#f0f921"
            ]
           ],
           "sequentialminus": [
            [
             0,
             "#0d0887"
            ],
            [
             0.1111111111111111,
             "#46039f"
            ],
            [
             0.2222222222222222,
             "#7201a8"
            ],
            [
             0.3333333333333333,
             "#9c179e"
            ],
            [
             0.4444444444444444,
             "#bd3786"
            ],
            [
             0.5555555555555556,
             "#d8576b"
            ],
            [
             0.6666666666666666,
             "#ed7953"
            ],
            [
             0.7777777777777778,
             "#fb9f3a"
            ],
            [
             0.8888888888888888,
             "#fdca26"
            ],
            [
             1,
             "#f0f921"
            ]
           ]
          },
          "colorway": [
           "#636efa",
           "#EF553B",
           "#00cc96",
           "#ab63fa",
           "#FFA15A",
           "#19d3f3",
           "#FF6692",
           "#B6E880",
           "#FF97FF",
           "#FECB52"
          ],
          "font": {
           "color": "#2a3f5f"
          },
          "geo": {
           "bgcolor": "white",
           "lakecolor": "white",
           "landcolor": "#E5ECF6",
           "showlakes": true,
           "showland": true,
           "subunitcolor": "white"
          },
          "hoverlabel": {
           "align": "left"
          },
          "hovermode": "closest",
          "mapbox": {
           "style": "light"
          },
          "paper_bgcolor": "white",
          "plot_bgcolor": "#E5ECF6",
          "polar": {
           "angularaxis": {
            "gridcolor": "white",
            "linecolor": "white",
            "ticks": ""
           },
           "bgcolor": "#E5ECF6",
           "radialaxis": {
            "gridcolor": "white",
            "linecolor": "white",
            "ticks": ""
           }
          },
          "scene": {
           "xaxis": {
            "backgroundcolor": "#E5ECF6",
            "gridcolor": "white",
            "gridwidth": 2,
            "linecolor": "white",
            "showbackground": true,
            "ticks": "",
            "zerolinecolor": "white"
           },
           "yaxis": {
            "backgroundcolor": "#E5ECF6",
            "gridcolor": "white",
            "gridwidth": 2,
            "linecolor": "white",
            "showbackground": true,
            "ticks": "",
            "zerolinecolor": "white"
           },
           "zaxis": {
            "backgroundcolor": "#E5ECF6",
            "gridcolor": "white",
            "gridwidth": 2,
            "linecolor": "white",
            "showbackground": true,
            "ticks": "",
            "zerolinecolor": "white"
           }
          },
          "shapedefaults": {
           "line": {
            "color": "#2a3f5f"
           }
          },
          "ternary": {
           "aaxis": {
            "gridcolor": "white",
            "linecolor": "white",
            "ticks": ""
           },
           "baxis": {
            "gridcolor": "white",
            "linecolor": "white",
            "ticks": ""
           },
           "bgcolor": "#E5ECF6",
           "caxis": {
            "gridcolor": "white",
            "linecolor": "white",
            "ticks": ""
           }
          },
          "title": {
           "x": 0.05
          },
          "xaxis": {
           "automargin": true,
           "gridcolor": "white",
           "linecolor": "white",
           "ticks": "",
           "title": {
            "standoff": 15
           },
           "zerolinecolor": "white",
           "zerolinewidth": 2
          },
          "yaxis": {
           "automargin": true,
           "gridcolor": "white",
           "linecolor": "white",
           "ticks": "",
           "title": {
            "standoff": 15
           },
           "zerolinecolor": "white",
           "zerolinewidth": 2
          }
         }
        },
        "title": {
         "font": {
          "color": "#351f39",
          "family": "Courier New"
         },
         "text": "Age Distribution of Candidates"
        },
        "xaxis": {
         "anchor": "y",
         "domain": [
          0,
          1
         ],
         "title": {
          "text": "Distribution"
         }
        },
        "yaxis": {
         "anchor": "x",
         "domain": [
          0,
          1
         ],
         "title": {
          "text": "Age"
         }
        }
       }
      },
      "text/html": [
       "<div>                            <div id=\"cf9e675b-e5de-4fed-ab62-37a54414a579\" class=\"plotly-graph-div\" style=\"height:525px; width:100%;\"></div>            <script type=\"text/javascript\">                require([\"plotly\"], function(Plotly) {                    window.PLOTLYENV=window.PLOTLYENV || {};                                    if (document.getElementById(\"cf9e675b-e5de-4fed-ab62-37a54414a579\")) {                    Plotly.newPlot(                        \"cf9e675b-e5de-4fed-ab62-37a54414a579\",                        [{\"alignmentgroup\":\"True\",\"bingroup\":\"x\",\"hovertemplate\":\"AGE=%{x}\\u003cbr\\u003ecount=%{y}\\u003cextra\\u003e\\u003c\\u002fextra\\u003e\",\"legendgroup\":\"\",\"marker\":{\"color\":\"indianred\",\"pattern\":{\"shape\":\"\"}},\"name\":\"\",\"offsetgroup\":\"\",\"orientation\":\"v\",\"showlegend\":false,\"x\":[31.0,53.0,41.0,30.0,48.0,64.0,32.0,28.0,47.0,42.0,42.0,45.0,43.0,36.0,50.0,59.0,38.0,40.0,39.0,38.0,66.0,37.0,47.0,34.0,49.0,29.0,50.0,62.0,33.0,69.0,58.0,48.0,42.0,45.0,50.0,37.0,46.0,55.0,61.0,60.0,50.0,35.0,61.0,52.0,60.0,57.0,43.0,44.0,53.0,54.0,52.0,55.0,42.0,49.0,53.0,57.0,49.0,37.0,26.0,48.0,39.0,29.0,44.0,38.0,42.0,31.0,49.0,52.0,56.0,43.0,38.0,58.0,44.0,51.0,58.0,60.0,50.0,54.0,70.0,36.0,50.0,70.0,54.0,60.0,39.0,43.0,35.0,54.0,42.0,38.0,54.0,56.0,41.0,55.0,25.0,32.0,55.0,63.0,33.0,64.0,44.0,31.0,52.0,53.0,33.0,65.0,54.0,59.0,30.0,64.0,71.0,51.0,28.0,61.0,62.0,39.0,32.0,47.0,39.0,67.0,60.0,55.0,62.0,31.0,50.0,45.0,35.0,54.0,67.0,39.0,43.0,56.0,57.0,64.0,33.0,56.0,49.0,51.0,41.0,43.0,55.0,36.0,68.0,41.0,47.0,54.0,53.0,46.0,38.0,36.0,67.0,40.0,39.0,33.0,47.0,32.0,65.0,42.0,70.0,56.0,41.0,49.0,44.0,51.0,55.0,55.0,70.0,60.0,66.0,46.0,63.0,34.0,38.0,76.0,39.0,25.0,55.0,32.0,58.0,51.0,55.0,58.0,36.0,50.0,27.0,38.0,50.0,45.0,37.0,34.0,49.0,51.0,55.0,49.0,61.0,70.0,46.0,48.0,57.0,57.0,63.0,48.0,31.0,46.0,34.0,31.0,58.0,66.0,50.0,33.0,58.0,39.0,37.0,33.0,48.0,55.0,50.0,39.0,45.0,53.0,55.0,40.0,49.0,34.0,74.0,56.0,45.0,41.0,44.0,55.0,61.0,51.0,31.0,51.0,40.0,48.0,53.0,50.0,37.0,54.0,40.0,40.0,64.0,46.0,70.0,61.0,46.0,34.0,34.0,57.0,46.0,32.0,37.0,43.0,41.0,58.0,67.0,70.0,51.0,50.0,50.0,36.0,41.0,37.0,61.0,33.0,63.0,38.0,51.0,53.0,38.0,41.0,47.0,33.0,35.0,25.0,33.0,48.0,39.0,54.0,33.0,27.0,40.0,66.0,38.0,51.0,43.0,53.0,51.0,41.0,52.0,43.0,37.0,57.0,60.0,38.0,66.0,55.0,48.0,44.0,44.0,28.0,42.0,58.0,57.0,69.0,75.0,40.0,50.0,43.0,68.0,46.0,48.0,45.0,57.0,56.0,50.0,30.0,31.0,44.0,52.0,50.0,41.0,37.0,42.0,42.0,35.0,34.0,70.0,38.0,52.0,40.0,60.0,59.0,61.0,59.0,49.0,53.0,44.0,38.0,59.0,38.0,68.0,33.0,40.0,48.0,33.0,49.0,37.0,37.0,42.0,35.0,58.0,64.0,51.0,60.0,29.0,46.0,44.0,55.0,46.0,40.0,32.0,46.0,30.0,36.0,39.0,37.0,50.0,53.0,43.0,49.0,58.0,42.0,45.0,34.0,40.0,50.0,62.0,44.0,68.0,66.0,67.0,70.0,34.0,38.0,28.0,49.0,40.0,49.0,53.0,37.0,72.0,51.0,38.0,71.0,69.0,66.0,53.0,36.0,61.0,61.0,59.0,46.0,51.0,53.0,50.0,34.0,41.0,43.0,38.0,28.0,46.0,31.0,45.0,26.0,40.0,46.0,63.0,38.0,44.0,71.0,26.0,40.0,26.0,44.0,50.0,65.0,37.0,34.0,49.0,25.0,30.0,69.0,62.0,62.0,73.0,48.0,64.0,36.0,35.0,52.0,35.0,48.0,40.0,32.0,36.0,34.0,33.0,37.0,32.0,34.0,30.0,37.0,53.0,56.0,28.0,43.0,41.0,53.0,38.0,36.0,59.0,57.0,55.0,54.0,30.0,43.0,48.0,58.0,49.0,38.0,26.0,59.0,35.0,42.0,46.0,30.0,58.0,53.0,59.0,68.0,55.0,53.0,47.0,50.0,44.0,62.0,48.0,44.0,30.0,69.0,40.0,72.0,50.0,70.0,59.0,26.0,46.0,49.0,40.0,54.0,46.0,52.0,67.0,37.0,51.0,50.0,67.0,65.0,37.0,67.0,48.0,42.0,54.0,72.0,50.0,28.0,45.0,51.0,41.0,71.0,34.0,65.0,63.0,41.0,56.0,73.0,64.0,75.0,62.0,50.0,71.0,55.0,56.0,51.0,38.0,61.0,52.0,57.0,33.0,53.0,64.0,66.0,29.0,43.0,51.0,51.0,39.0,55.0,59.0,36.0,36.0,41.0,37.0,66.0,51.0,70.0,48.0,51.0,67.0,46.0,54.0,64.0,52.0,52.0,56.0,40.0,58.0,49.0,49.0,47.0,42.0,32.0,49.0,57.0,48.0,42.0,43.0,53.0,53.0,62.0,53.0,44.0,66.0,45.0,28.0,67.0,53.0,45.0,47.0,58.0,41.0,55.0,44.0,58.0,65.0,62.0,46.0,32.0,27.0,33.0,40.0,54.0,62.0,45.0,47.0,41.0,55.0,62.0,58.0,39.0,46.0,48.0,42.0,46.0,66.0,36.0,27.0,55.0,42.0,58.0,57.0,41.0,38.0,53.0,48.0,37.0,51.0,74.0,50.0,40.0,40.0,31.0,48.0,35.0,55.0,33.0,29.0,53.0,29.0,57.0,46.0,29.0,26.0,37.0,65.0,48.0,52.0,32.0,28.0,46.0,60.0,71.0,52.0,27.0,46.0,54.0,52.0,49.0,53.0,38.0,33.0,37.0,62.0,27.0,51.0,54.0,68.0,44.0,53.0,31.0,44.0,43.0,28.0,55.0,35.0,35.0,45.0,68.0,59.0,56.0,53.0,41.0,64.0,57.0,31.0,50.0,39.0,78.0,47.0,54.0,49.0,67.0,37.0,44.0,59.0,47.0,31.0,64.0,26.0,39.0,31.0,64.0,58.0,42.0,37.0,38.0,51.0,56.0,47.0,49.0,40.0,60.0,54.0,60.0,52.0,31.0,27.0,50.0,44.0,40.0,48.0,47.0,58.0,73.0,56.0,34.0,32.0,37.0,52.0,50.0,44.0,28.0,56.0,48.0,49.0,49.0,41.0,45.0,50.0,72.0,57.0,66.0,48.0,65.0,67.0,63.0,35.0,54.0,58.0,47.0,52.0,49.0,55.0,49.0,40.0,46.0,55.0,45.0,70.0,56.0,48.0,47.0,35.0,53.0,53.0,32.0,55.0,55.0,25.0,36.0,45.0,35.0,41.0,32.0,51.0,45.0,64.0,41.0,40.0,51.0,46.0,53.0,55.0,27.0,41.0,49.0,49.0,42.0,65.0,29.0,52.0,29.0,51.0,41.0,26.0,57.0,67.0,36.0,45.0,31.0,54.0,45.0,35.0,44.0,53.0,56.0,49.0,61.0,53.0,77.0,38.0,34.0,46.0,37.0,68.0,48.0,46.0,40.0,38.0,44.0,65.0,33.0,51.0,40.0,72.0,62.0,44.0,69.0,35.0,29.0,27.0,54.0,63.0,36.0,46.0,54.0,37.0,37.0,43.0,42.0,53.0,49.0,40.0,54.0,44.0,52.0,36.0,37.0,47.0,33.0,69.0,36.0,52.0,58.0,55.0,45.0,27.0,31.0,43.0,50.0,47.0,45.0,29.0,72.0,40.0,42.0,25.0,33.0,41.0,26.0,54.0,36.0,29.0,34.0,31.0,50.0,29.0,43.0,71.0,72.0,52.0,50.0,33.0,69.0,33.0,61.0,35.0,34.0,31.0,56.0,32.0,33.0,29.0,33.0,40.0,36.0,39.0,54.0,65.0,42.0,46.0,70.0,26.0,59.0,50.0,33.0,42.0,70.0,45.0,38.0,47.0,57.0,63.0,70.0,40.0,62.0,56.0,48.0,44.0,34.0,50.0,73.0,70.0,46.0,51.0,28.0,69.0,39.0,61.0,36.0,36.0,58.0,41.0,47.0,65.0,37.0,42.0,70.0,38.0,55.0,33.0,52.0,52.0,41.0,29.0,47.0,34.0,55.0,50.0,43.0,60.0,45.0,40.0,57.0,47.0,36.0,60.0,54.0,39.0,30.0,62.0,40.0,61.0,69.0,54.0,50.0,48.0,64.0,55.0,44.0,49.0,48.0,36.0,47.0,59.0,35.0,64.0,50.0,40.0,34.0,47.0,63.0,73.0,62.0,48.0,46.0,52.0,42.0,65.0,47.0,47.0,55.0,47.0,33.0,29.0,52.0,34.0,28.0,39.0,42.0,42.0,65.0,56.0,71.0,28.0,83.0,56.0,54.0,57.0,29.0,46.0,64.0,52.0,35.0,41.0,41.0,52.0,53.0,45.0,42.0,60.0,39.0,47.0,66.0,29.0,41.0,36.0,39.0,40.0,29.0,40.0,56.0,28.0,67.0,47.0,38.0,35.0,31.0,51.0,47.0,66.0,38.0,61.0,34.0,54.0,31.0,45.0,33.0,26.0,55.0,35.0,60.0,53.0,65.0,72.0,65.0,46.0,36.0,57.0,26.0,39.0,44.0,63.0,34.0,63.0,67.0,61.0,44.0,53.0,58.0,36.0,32.0,62.0,76.0,61.0,44.0,36.0,78.0,48.0,33.0,51.0,66.0,43.0,26.0,28.0,25.0,42.0,37.0,44.0,60.0,66.0,54.0,50.0,48.0,34.0,52.0,33.0,52.0,64.0,45.0,38.0,51.0,41.0,57.0,69.0,40.0,71.0,77.0,39.0,53.0,42.0,55.0,61.0,33.0,54.0,49.0,39.0,33.0,41.0,44.0,49.0,54.0,45.0,30.0,45.0,53.0,41.0,54.0,43.0,31.0,40.0,39.0,60.0,48.0,44.0,33.0,54.0,54.0,39.0,25.0,63.0,34.0,44.0,58.0,48.0,69.0,51.0,42.0,57.0,27.0,31.0,50.0,63.0,46.0,49.0,62.0,54.0,66.0,47.0,68.0,59.0,50.0,58.0,57.0,78.0,33.0,45.0,44.0,56.0,29.0,32.0,40.0,52.0,51.0,63.0,59.0,64.0,60.0,25.0,44.0,55.0,72.0,55.0,43.0,70.0,55.0,40.0,58.0,39.0,63.0,62.0,57.0,43.0,51.0,43.0,43.0,34.0,36.0,58.0,37.0,49.0,36.0,50.0,37.0,48.0,54.0,44.0,54.0,59.0,37.0,39.0,60.0,50.0,61.0,49.0,39.0,55.0,45.0,40.0,34.0,47.0,30.0,38.0,47.0,43.0,38.0,29.0,69.0,47.0,50.0,48.0,43.0,61.0,39.0,39.0,37.0,51.0,62.0,70.0,59.0,50.0,27.0,50.0,56.0,40.0,56.0,43.0,47.0,49.0,43.0,40.0,53.0,59.0,45.0,70.0,53.0,46.0,61.0,52.0,47.0,70.0,42.0,42.0,55.0,53.0,44.0,48.0,39.0,45.0,33.0,45.0,45.0,62.0,54.0,40.0,55.0,35.0,37.0,34.0,37.0,25.0,57.0,46.0,40.0,50.0,33.0,26.0,47.0,27.0,57.0,65.0,47.0,34.0,73.0,59.0,48.0,60.0,29.0,44.0,29.0,43.0,59.0,65.0,42.0,31.0,42.0,42.0,50.0,37.0,43.0,51.0,44.0,50.0,43.0,63.0,31.0,50.0,26.0,42.0,40.0,40.0,57.0,69.0,36.0,68.0,72.0,49.0,50.0,44.0,63.0,33.0,42.0,48.0,44.0,40.0,44.0,32.0,46.0,30.0,59.0,49.0,46.0,33.0,36.0,54.0,67.0,72.0,65.0,33.0,34.0,66.0,35.0,45.0,42.0,56.0,64.0,49.0,35.0,33.0,49.0,66.0,70.0,35.0,54.0,47.0,43.0,69.0,67.0,40.0,49.0,42.0,58.0,42.0,66.0,46.0,35.0,43.0,53.0,38.0,39.0,37.0,46.0,64.0,51.0,59.0,32.0,51.0,44.0,59.0,45.0,30.0,42.0,57.0,37.0,58.0,65.0,55.0,41.0,65.0,39.0,35.0,54.0,63.0,60.0,34.0,37.0,52.0,39.0,42.0,62.0,61.0,42.0,61.0,70.0,53.0,48.0,60.0,60.0,69.0,42.0,44.0,63.0,29.0,46.0,52.0,44.0,26.0,69.0,74.0,29.0,69.0,59.0,61.0,48.0,42.0,58.0,77.0,26.0,64.0,38.0,39.0,71.0,41.0,37.0,59.0,39.0,40.0,36.0,48.0,35.0,46.0,69.0,78.0,59.0,49.0,56.0,36.0,63.0,48.0,32.0,34.0,42.0,40.0,25.0,37.0,57.0,50.0,32.0,42.0,52.0,30.0,27.0,70.0,46.0,63.0,54.0,35.0,34.0,28.0,70.0,30.0,53.0,74.0,46.0,49.0,27.0,44.0,37.0,37.0,37.0,48.0,37.0,66.0,40.0,53.0,47.0,59.0,45.0,60.0,61.0,36.0,62.0,55.0,51.0,54.0,63.0,37.0,29.0,57.0,60.0,65.0,40.0,51.0,37.0,28.0,46.0,36.0,42.0,31.0,37.0,46.0,61.0,38.0,43.0,43.0,47.0,40.0,50.0,40.0,39.0,39.0,78.0,60.0,43.0,41.0,36.0,53.0,43.0,37.0,25.0,59.0,39.0,48.0,50.0,43.0,29.0,69.0,68.0,67.0,52.0,48.0,31.0,37.0,69.0,52.0,31.0,26.0,44.0,61.0,49.0,68.0,65.0,51.0,74.0,71.0,33.0,41.0,57.0,42.0,55.0,66.0,36.0,70.0,42.0,58.0,44.0,57.0,56.0,44.0,53.0,54.0,69.0,34.0,69.0,25.0,46.0,67.0,79.0,60.0,49.0,34.0,45.0,33.0,48.0,42.0,32.0,39.0,56.0,69.0,53.0,50.0,45.0,40.0,53.0,51.0,50.0,37.0,55.0,47.0,41.0,62.0,71.0,41.0,56.0,53.0,34.0,64.0,49.0,71.0,59.0,37.0,34.0,65.0,54.0,52.0,46.0,42.0,45.0,56.0,38.0,50.0,53.0,62.0,38.0,53.0,56.0,65.0,32.0,50.0,34.0,66.0,69.0,53.0,42.0,31.0,52.0,43.0,27.0,60.0,60.0,29.0,45.0,42.0,37.0,43.0,31.0,39.0,32.0,49.0,42.0,53.0,45.0,54.0,36.0,49.0,68.0,31.0,66.0,64.0,58.0,46.0,43.0,41.0,43.0,42.0,39.0,42.0,46.0,72.0,30.0,43.0,53.0,29.0,37.0,59.0,38.0,45.0,32.0,52.0,56.0,44.0,54.0,43.0,46.0,38.0,42.0,51.0,38.0,37.0,64.0,71.0,64.0,44.0,45.0,41.0,30.0,47.0,48.0,63.0,65.0,53.0,40.0,33.0,30.0,41.0,39.0,34.0,30.0,39.0,44.0,36.0,40.0,60.0,66.0,44.0,35.0,35.0,55.0,53.0,28.0,26.0,57.0,35.0,39.0,72.0,49.0,60.0,54.0,35.0,59.0,57.0,54.0,44.0,36.0,41.0,28.0,31.0,54.0,44.0,48.0,54.0,31.0,40.0,43.0,44.0,50.0,38.0,50.0,29.0,46.0,49.0,37.0,30.0,43.0,58.0,40.0,45.0,57.0,53.0,46.0,39.0,65.0,37.0,55.0,57.0,47.0,47.0,64.0,46.0,45.0,60.0,42.0,55.0,28.0,53.0,64.0,44.0,32.0,68.0,35.0,55.0,61.0,34.0,42.0,54.0,45.0,47.0,34.0,60.0,75.0,43.0,40.0,32.0,64.0,33.0,58.0,45.0,46.0,63.0,47.0,39.0,66.0,41.0,57.0,63.0,37.0,38.0,56.0,46.0,29.0,62.0,48.0,69.0,39.0,48.0,49.0,45.0,47.0,50.0,41.0,38.0,41.0,44.0,36.0,54.0,31.0,39.0,64.0,65.0,42.0,42.0,59.0,44.0,44.0,31.0,39.0,55.0,37.0,43.0,41.0,35.0,50.0,59.0,77.0,30.0,37.0,29.0,67.0,35.0,41.0,38.0,55.0,54.0,55.0,52.0,62.0,55.0,53.0,55.0,34.0,44.0,66.0,34.0,52.0,64.0,71.0,65.0,68.0,34.0,75.0,45.0,46.0,33.0,39.0,32.0,34.0,43.0,46.0,49.0,60.0,35.0,38.0,29.0,47.0,51.0,41.0,52.0,49.0,72.0,42.0,53.0,63.0,33.0,47.0,59.0,48.0,47.0,39.0,73.0,68.0,44.0,34.0,39.0,39.0,36.0,36.0,42.0,30.0,53.0,37.0,37.0,63.0,38.0,33.0,40.0,65.0,34.0,61.0,72.0,69.0,58.0,61.0,53.0,33.0,44.0,58.0,34.0,45.0,49.0,38.0,39.0,57.0,50.0,62.0,69.0,53.0,65.0,59.0,29.0,46.0,64.0,34.0,53.0,52.0,39.0,38.0,55.0,49.0,63.0,43.0,32.0,59.0,63.0,38.0,33.0,52.0,70.0,55.0,31.0,51.0,42.0,68.0,30.0,41.0,38.0,66.0,48.0,67.0,42.0,58.0,49.0,42.0,53.0,29.0,32.0,43.0,39.0,38.0,40.0,39.0,50.0,36.0,67.0,57.0,36.0,44.0,47.0,67.0,71.0,52.0,59.0,38.0,54.0,45.0,26.0,35.0,46.0,57.0,61.0,56.0,38.0,48.0,37.0,40.0,54.0,52.0,38.0,42.0,35.0,56.0,30.0,48.0,47.0,51.0,71.0,27.0,56.0,44.0,60.0,51.0,47.0,45.0,42.0,53.0,59.0,50.0,39.0,43.0,57.0,44.0,46.0,27.0,62.0,37.0,30.0,37.0,70.0,54.0,51.0,40.0,28.0,45.0,33.0,41.0,51.0,39.0,75.0,41.0,33.0,32.0,47.0,37.0,59.0,43.0,39.0,41.0,51.0,61.0,32.0,40.0,30.0,55.0,50.0,52.0,50.0,38.0,49.0,48.0,37.0,58.0,27.0,51.0,34.0,38.0,35.0,59.0,30.0,44.0,37.0,41.0,53.0,40.0,30.0,68.0,36.0,46.0,57.0,55.0,37.0,41.0,39.0,40.0,61.0,49.0,51.0,25.0,46.0,47.0,66.0,69.0,46.0,34.0,69.0,38.0,55.0,32.0,42.0,54.0,61.0,46.0,55.0,70.0,74.0,38.0,60.0,36.0,47.0,37.0,64.0,55.0,75.0,63.0,67.0,61.0,61.0,61.0,69.0,39.0,61.0,62.0,62.0,63.0,41.0,67.0,38.0,41.0,59.0,67.0,55.0,43.0,60.0,51.0,53.0,60.0,54.0,68.0,50.0,34.0,48.0,46.0,42.0,71.0,70.0,53.0,60.0,61.0,73.0,62.0,79.0,57.0,57.0,32.0,50.0,65.0,77.0,40.0,71.0,56.0,59.0,29.0,65.0,61.0,65.0,56.0,53.0,49.0,40.0,57.0,56.0,61.0,54.0,67.0,52.0,50.0,44.0,46.0,37.0,39.0,48.0,63.0,60.0,38.0,64.0,40.0,57.0,65.0,56.0,67.0,64.0,51.0,70.0,51.0,37.0,54.0,71.0,68.0,56.0,60.0,58.0,39.0,57.0,50.0,32.0,60.0,62.0,40.0,53.0,69.0,28.0,59.0,39.0,43.0,64.0,30.0,46.0,42.0,53.0,47.0,59.0,48.0,44.0,56.0,68.0,71.0,55.0,59.0,63.0,56.0,34.0,57.0,63.0,43.0,49.0,37.0,54.0,68.0,61.0,59.0,50.0,60.0,60.0,62.0,51.0,49.0,42.0,49.0,43.0,60.0,40.0,52.0,55.0,47.0,43.0,46.0,53.0,53.0,67.0,71.0,38.0,45.0,53.0,67.0,55.0,35.0,63.0,67.0,55.0,38.0,50.0,61.0,57.0,47.0,48.0,53.0,73.0,64.0,68.0,58.0,65.0,37.0,52.0,45.0,54.0,68.0,59.0,78.0,62.0,35.0,44.0,49.0,39.0,72.0,57.0,48.0,71.0,64.0,44.0,65.0,34.0,40.0,32.0,47.0,55.0,52.0,68.0,46.0,36.0,68.0,26.0,48.0,50.0,61.0,33.0,51.0,38.0,32.0,43.0,53.0,41.0,51.0,34.0,30.0,53.0,33.0,43.0,59.0,60.0,48.0,30.0,43.0,60.0,40.0,76.0,25.0,46.0,39.0,53.0,39.0,54.0,49.0,33.0,58.0,53.0,55.0,54.0,62.0,44.0,70.0,67.0,44.0,47.0,54.0,50.0,60.0,63.0,30.0,38.0,53.0,60.0,45.0,42.0,34.0,64.0,46.0,70.0,42.0,59.0,38.0,26.0,53.0,49.0,40.0,44.0,58.0,38.0,54.0,30.0,35.0,34.0,43.0,47.0,49.0,32.0,36.0,38.0,54.0,50.0,64.0,39.0,37.0,37.0,66.0,45.0,35.0,54.0,52.0,56.0,38.0,53.0,61.0,39.0,63.0,34.0,27.0,58.0,39.0,54.0,37.0,70.0,71.0,69.0,65.0,45.0,53.0,28.0,46.0,45.0,50.0,67.0,51.0,35.0,29.0,55.0,62.0,38.0,62.0,35.0,51.0,47.0,34.0,32.0,34.0,66.0,49.0,56.0,30.0,34.0,44.0,84.0,38.0,52.0,44.0,57.0,58.0,31.0,69.0,64.0,54.0,66.0,37.0,57.0,39.0,45.0,39.0,34.0,39.0,33.0,27.0,30.0,54.0,59.0,54.0,42.0,26.0,53.0,55.0,32.0,28.0,32.0,31.0,55.0,67.0,54.0,61.0,44.0,46.0,48.0,62.0,64.0,46.0,55.0,57.0,44.0,39.0,27.0,67.0,47.0,40.0,68.0,50.0,44.0,50.0,56.0,49.0,72.0,54.0,55.0,70.0,33.0,52.0,49.0,53.0,36.0,45.0,50.0,45.0,49.0,27.0,50.0,36.0,52.0,25.0,55.0,43.0,33.0,43.0,30.0,53.0,36.0,72.0,48.0,54.0,62.0,39.0,58.0,71.0,42.0,57.0,33.0,50.0,32.0,41.0,65.0,76.0,65.0,49.0,42.0,41.0,57.0,84.0,40.0,64.0,58.0,37.0,63.0,56.0,63.0,47.0,34.0,39.0,44.0,34.0,36.0,59.0,42.0,59.0,49.0,35.0,41.0,39.0,43.0,61.0,51.0,63.0,56.0,52.0,39.0,63.0,77.0,53.0,63.0,32.0,32.0,50.0,51.0,34.0,25.0,27.0,40.0,33.0,57.0,42.0,40.0,56.0,33.0,42.0,42.0,51.0,39.0,29.0,52.0,44.0,53.0,43.0,35.0,46.0,44.0,35.0,44.0,64.0,62.0,65.0,58.0,44.0,68.0,54.0,59.0,39.0,73.0,37.0,37.0,32.0,33.0,59.0,39.0,47.0,55.0,32.0,54.0,45.0,47.0,30.0,32.0,43.0,43.0,25.0,62.0,43.0,46.0,60.0,29.0,38.0,37.0,31.0,56.0,41.0,39.0,63.0,33.0,51.0,49.0,44.0,58.0,37.0,51.0,55.0,62.0,65.0,48.0,54.0,58.0,47.0,30.0,47.0,39.0,62.0,60.0,36.0,28.0,32.0,59.0,44.0,41.0,34.0,31.0,35.0,56.0,40.0,38.0,58.0,38.0,40.0,51.0,53.0,46.0,64.0,71.0,42.0,56.0,54.0,44.0,52.0,35.0,55.0,64.0,67.0,43.0,53.0,45.0,43.0,43.0,35.0,39.0,56.0,37.0,43.0,58.0,50.0,39.0,26.0,56.0,31.0,32.0,48.0,46.0,52.0,35.0,36.0,53.0,52.0,63.0,46.0,44.0,52.0,53.0,45.0,28.0,65.0,59.0,30.0,49.0,39.0,50.0,54.0,41.0,55.0,42.0,42.0,42.0,46.0,52.0,63.0,58.0,38.0,61.0,62.0,43.0,52.0,43.0,34.0,28.0,38.0,40.0,72.0,49.0,55.0,47.0,55.0,31.0,67.0,36.0,72.0,39.0,59.0,69.0,40.0,55.0,63.0,55.0,44.0,43.0,58.0,57.0,54.0,36.0,45.0,36.0,56.0,38.0,52.0,63.0,42.0,57.0,50.0,76.0,41.0,26.0,40.0,55.0,56.0,34.0,33.0,64.0,68.0,67.0,52.0,39.0,46.0,62.0,51.0,67.0,31.0,47.0,62.0,41.0,62.0,29.0,49.0,69.0,30.0,37.0,35.0,49.0,53.0,50.0,71.0,49.0,64.0,31.0,68.0,44.0,29.0,55.0,47.0,42.0,32.0,65.0,37.0,49.0,45.0,74.0,27.0,53.0,68.0,71.0,70.0,38.0,42.0,46.0,54.0,41.0,66.0,48.0,48.0,31.0,69.0,30.0,58.0,56.0,60.0,30.0,45.0,45.0,32.0,58.0,43.0,55.0,50.0,59.0,51.0,44.0,58.0,51.0,47.0,68.0,40.0,67.0,57.0,48.0,43.0,45.0,58.0,38.0,30.0,33.0,41.0,77.0,53.0,48.0,45.0,59.0,50.0,53.0,46.0,60.0,49.0,51.0,30.0,55.0,52.0,50.0,38.0,45.0,55.0,52.0,47.0,58.0,50.0,42.0,68.0,58.0,27.0,51.0,50.0,35.0,57.0,43.0,39.0,56.0,63.0,65.0,61.0,58.0,41.0,32.0,67.0,26.0,32.0,63.0,40.0,38.0,61.0,42.0,47.0,60.0,55.0,56.0,56.0,62.0,44.0,62.0,39.0,69.0,42.0,47.0,55.0,51.0,47.0,70.0,37.0,65.0,36.0,55.0,25.0,46.0,59.0,45.0,64.0,47.0,32.0,32.0,61.0,52.0,55.0,61.0,60.0,60.0,35.0,41.0,32.0,33.0,43.0,48.0,47.0,52.0,35.0,33.0,53.0,41.0,44.0,59.0,27.0,25.0,41.0,53.0,27.0,47.0,56.0,34.0,38.0,37.0,70.0,40.0,43.0,64.0,69.0,62.0,42.0,37.0,34.0,29.0,36.0,37.0,56.0,51.0,40.0,49.0,50.0,45.0,40.0,34.0,33.0,61.0,49.0,40.0,30.0,42.0,32.0,57.0,55.0,45.0,70.0,43.0,54.0,47.0,35.0,38.0,49.0,31.0,56.0,33.0,41.0,36.0,40.0,36.0,59.0,65.0,51.0,38.0,55.0,41.0,67.0,51.0,31.0,65.0,46.0,48.0,38.0,41.0,33.0,48.0,47.0,61.0,69.0,26.0,51.0,67.0,37.0,54.0,40.0,35.0,51.0,39.0,40.0,30.0,67.0,52.0,27.0,53.0,34.0,57.0,57.0,68.0,55.0,36.0,42.0,42.0,51.0,62.0,55.0,72.0,54.0,46.0,51.0,53.0,57.0,43.0,41.0,42.0,41.0,74.0,51.0,26.0,56.0,38.0,31.0,36.0,35.0,48.0,39.0,40.0,36.0,74.0,39.0,35.0,50.0,58.0,44.0,47.0,59.0,53.0,66.0,34.0,58.0,56.0,53.0,45.0,68.0,29.0,47.0,39.0,42.0,37.0,32.0,64.0,58.0,53.0,36.0,64.0,50.0,59.0,46.0,38.0,57.0,66.0,63.0,54.0,60.0,45.0,36.0,44.0,46.0,32.0,69.0,45.0,36.0,59.0,26.0,29.0,39.0,82.0,59.0,58.0,39.0,41.0,50.0,47.0,50.0,49.0,29.0,37.0,43.0,52.0,58.0,35.0,29.0,53.0,63.0,48.0,51.0,36.0,50.0,46.0,40.0,47.0,60.0,34.0,60.0,48.0,39.0,48.0,47.0,38.0,53.0,40.0,40.0,50.0,62.0,48.0,41.0,38.0,33.0,42.0,37.0,49.0,66.0,45.0,40.0,54.0,38.0,34.0,48.0,26.0,48.0,52.0,62.0,32.0,60.0,73.0,40.0,51.0,52.0,34.0,38.0,41.0,31.0,46.0,45.0,61.0,67.0,39.0,54.0,62.0,45.0,37.0,40.0,54.0,64.0,39.0,55.0,45.0,49.0,66.0,69.0,32.0,48.0,37.0,39.0,59.0,47.0,42.0,53.0,41.0,56.0,31.0,59.0,55.0,33.0,52.0,47.0,38.0,61.0,48.0,56.0,45.0,33.0,60.0,60.0,61.0,42.0,48.0,42.0,41.0,52.0,65.0,52.0,36.0,43.0,38.0,40.0,32.0,69.0,33.0,33.0,42.0,49.0,28.0,53.0,42.0,45.0,48.0,38.0,32.0,55.0,43.0,55.0,49.0,44.0,48.0,45.0,51.0,44.0,41.0,54.0,32.0,46.0,52.0,66.0,64.0,45.0,68.0,38.0,60.0,58.0,43.0,49.0,71.0,46.0,56.0,56.0,40.0,42.0,54.0,48.0,46.0,28.0,36.0,52.0,48.0,29.0,47.0,46.0,34.0,45.0,57.0,39.0,51.0,47.0,51.0,32.0,50.0,33.0,66.0,51.0,53.0,49.0,62.0,39.0,48.0,50.0,47.0,49.0,36.0,47.0,37.0,77.0,61.0,72.0,56.0,44.0,46.0,55.0,59.0,27.0,43.0,56.0,29.0,43.0,38.0,36.0,55.0,69.0,72.0,49.0,49.0,39.0,47.0,63.0,70.0,45.0,60.0,42.0,57.0,50.0,60.0,59.0,37.0,52.0,42.0,51.0,29.0,47.0,39.0,42.0,59.0,47.0,58.0,42.0,37.0,28.0,41.0,33.0,57.0,61.0,38.0,54.0,54.0,60.0,41.0,37.0,47.0,76.0,55.0,51.0,64.0,39.0,50.0,49.0,57.0,50.0,59.0,25.0,44.0,34.0,55.0,53.0,34.0,58.0,29.0,30.0,76.0,40.0,31.0,47.0,54.0,40.0,39.0,39.0,52.0,68.0,50.0,54.0,40.0,54.0,53.0,61.0,38.0,39.0,77.0,43.0,59.0,77.0,54.0,61.0,52.0,29.0,28.0,44.0,43.0,34.0,43.0,29.0,70.0,36.0,76.0,45.0,44.0,40.0,65.0,33.0,32.0,44.0,47.0,25.0,53.0,28.0,55.0,77.0,39.0,42.0,38.0,64.0,36.0,39.0,52.0,53.0,62.0,39.0,40.0,77.0,43.0,68.0,52.0,60.0,42.0,38.0,30.0,68.0,61.0,38.0,26.0,29.0,56.0,32.0,52.0,34.0,42.0,45.0,39.0,30.0,35.0,29.0,31.0,39.0,63.0,35.0,55.0,41.0,43.0,40.0,62.0,36.0,44.0,43.0,38.0,58.0,29.0,57.0,42.0,38.0,50.0,35.0,49.0,72.0,67.0,26.0,34.0,55.0,57.0,69.0,45.0,55.0,60.0,49.0,44.0,46.0,51.0,74.0,61.0,40.0,44.0,63.0,47.0,37.0,40.0,39.0,62.0,40.0,31.0,48.0,63.0,36.0,29.0,58.0,53.0,35.0,36.0,53.0,44.0,40.0,52.0,37.0,43.0,68.0,43.0,63.0,33.0,58.0,39.0,45.0,44.0,69.0,38.0,33.0,39.0,37.0,59.0,46.0,48.0,33.0,29.0,40.0,45.0,59.0,38.0,48.0,47.0,48.0,40.0,50.0,51.0,44.0,56.0,53.0,47.0,49.0,36.0,35.0,40.0,52.0,66.0,76.0,58.0,54.0,55.0,31.0,31.0,55.0,67.0,37.0,74.0,45.0,44.0,42.0,39.0,35.0,65.0,30.0,29.0,62.0,62.0,33.0,34.0,41.0,32.0,44.0,45.0,57.0,54.0,54.0,62.0,67.0,46.0,41.0,64.0,51.0,52.0,39.0,28.0,57.0,61.0,42.0,38.0,41.0,63.0,28.0,74.0,35.0,61.0,27.0,33.0,51.0,56.0,43.0,43.0,33.0,33.0,43.0,36.0,34.0,51.0,47.0,65.0,56.0,45.0,48.0,34.0,40.0,49.0,52.0,41.0,39.0,57.0,32.0,38.0,59.0,40.0,42.0,46.0,47.0,31.0,47.0,42.0,45.0,37.0,32.0,38.0,31.0,31.0,66.0,52.0,38.0,52.0,41.0,45.0,38.0,52.0,53.0,44.0,65.0,64.0,63.0,39.0,49.0,39.0,25.0,45.0,36.0,41.0,37.0,43.0,59.0,41.0,58.0,65.0,61.0,34.0,48.0,47.0,55.0,30.0,31.0,48.0,51.0,38.0,36.0,51.0,47.0,42.0,31.0,58.0,61.0,53.0,51.0,45.0,66.0,47.0,45.0,36.0,69.0,65.0,41.0,48.0,36.0,49.0,57.0,72.0,70.0,52.0,78.0,61.0,50.0,39.0,61.0,62.0,76.0,60.0,46.0,52.0,51.0,41.0,36.0,38.0,28.0,36.0,56.0,59.0,49.0,47.0,47.0,48.0,49.0,55.0,41.0,58.0,43.0,50.0,52.0,43.0,49.0,56.0,65.0,49.0,63.0,46.0,35.0,37.0,36.0,61.0,42.0,72.0,48.0,43.0,32.0,66.0,54.0,33.0,53.0,40.0,34.0,60.0,52.0,71.0,57.0,44.0,57.0,59.0,32.0,45.0,52.0,69.0,50.0,62.0,60.0,38.0,52.0,56.0,58.0,35.0,47.0,58.0,45.0,43.0,53.0,44.0,45.0,54.0,64.0,53.0,59.0,49.0,61.0,61.0,43.0,58.0,45.0,50.0,49.0,47.0,40.0,68.0,63.0,46.0,70.0,48.0,43.0,36.0,39.0,43.0,54.0,51.0,72.0,63.0,63.0,70.0,47.0,56.0,65.0,58.0,35.0,50.0,56.0,77.0,55.0,58.0,42.0,46.0,41.0,52.0,38.0,41.0,60.0,46.0,32.0,62.0,56.0,52.0,64.0,30.0,56.0,51.0,46.0,53.0,36.0,62.0,38.0,54.0,69.0,53.0,73.0,52.0,58.0,46.0,72.0,74.0,42.0,29.0,43.0,53.0,47.0,76.0,70.0,71.0,41.0,58.0,57.0,61.0,50.0,68.0,59.0,35.0,41.0,31.0,34.0,40.0,47.0,56.0,30.0,32.0,65.0,36.0,52.0,48.0,40.0,41.0,43.0,49.0,43.0,49.0,62.0,62.0,55.0,37.0,59.0,55.0,42.0,52.0,50.0,40.0,43.0,55.0,47.0,54.0,45.0,46.0,64.0,51.0,38.0,61.0,50.0,63.0,48.0,57.0,29.0,57.0,60.0,63.0,54.0,68.0,29.0,50.0,55.0,66.0,58.0,67.0,52.0,49.0,50.0,47.0,57.0,36.0,64.0,60.0,40.0,38.0,63.0,43.0,49.0,63.0,43.0,44.0,38.0,59.0,60.0,70.0,56.0,41.0,53.0,69.0,61.0,40.0,65.0,50.0,50.0,68.0,56.0,56.0,52.0,50.0,36.0,54.0,42.0,30.0,59.0,58.0,46.0,60.0,59.0,42.0,48.0,52.0,57.0,52.0,32.0,41.0,42.0,28.0,37.0,37.0,60.0,49.0,49.0,57.0,59.0,45.0,38.0,54.0,38.0,70.0,41.0,45.0,38.0,45.0,42.0,49.0,34.0,60.0,29.0,36.0,31.0,25.0,65.0,61.0,36.0,62.0,58.0,37.0,64.0,50.0,41.0,35.0,48.0,66.0,26.0,44.0,28.0,49.0,50.0,53.0,47.0,46.0,53.0,61.0,44.0,49.0,50.0,61.0,51.0,61.0,61.0,60.0,52.0,64.0,38.0,59.0,39.0,31.0,55.0,45.0,30.0,42.0,34.0,59.0,46.0,28.0,62.0,26.0,61.0,47.0,59.0,53.0,36.0,45.0,37.0,66.0,38.0,57.0,31.0,44.0,42.0,62.0,50.0,46.0,36.0,30.0,44.0,57.0,40.0,29.0,38.0,36.0,45.0,48.0,42.0,52.0,44.0,44.0,52.0,39.0,51.0,57.0,36.0,56.0,52.0,61.0,49.0,58.0,67.0,45.0,35.0,73.0,59.0,39.0,58.0,55.0,41.0,50.0,37.0,39.0,57.0,55.0,61.0,52.0,43.0,54.0,49.0,64.0,69.0,52.0,45.0,51.0,44.0,45.0,39.0,44.0,37.0,60.0,65.0,45.0,47.0,45.0,52.0,46.0,74.0,44.0,52.0,45.0,32.0,43.0,79.0,39.0,43.0,51.0,50.0,37.0,44.0,53.0,52.0,56.0,64.0,36.0,31.0,37.0,68.0,38.0,39.0,35.0,39.0,46.0,48.0,59.0,59.0,46.0,33.0,63.0,52.0,36.0,69.0,42.0,42.0,39.0,46.0,51.0,48.0,47.0,42.0,63.0,49.0,34.0,49.0,41.0,57.0,51.0,47.0,57.0,48.0,40.0,34.0,53.0,64.0,31.0,57.0,45.0,57.0,28.0,38.0,54.0,43.0,32.0,47.0,44.0,70.0,53.0,67.0,53.0,52.0,67.0,67.0,51.0,58.0,62.0,45.0,58.0,41.0,40.0,45.0,52.0,50.0,47.0,62.0,70.0,64.0,57.0,60.0,76.0,49.0,67.0,65.0,40.0,49.0,47.0,49.0,50.0,40.0,49.0,27.0,36.0,46.0,50.0,59.0,39.0,74.0,31.0,61.0,57.0,70.0,49.0,63.0,41.0,65.0,60.0,28.0,31.0,50.0,50.0,33.0,41.0,50.0,34.0,63.0,85.0,37.0,43.0,42.0,43.0,50.0,37.0,45.0,53.0,29.0,55.0,51.0,57.0,61.0,60.0,59.0,45.0,43.0,73.0,44.0,49.0,43.0,43.0,46.0,33.0,39.0,66.0,47.0,26.0,44.0,35.0,59.0,79.0,57.0,62.0,68.0,44.0,55.0,43.0,61.0,48.0,61.0,52.0,59.0,35.0,45.0,53.0,61.0,36.0,43.0,65.0,35.0,42.0,73.0,67.0,79.0,54.0,62.0,44.0,53.0,62.0,42.0,74.0,44.0,34.0,47.0,54.0,58.0,71.0,54.0,30.0,66.0,40.0,55.0,35.0,50.0,47.0,33.0,40.0,54.0,33.0,34.0,31.0,68.0,48.0,38.0,44.0,27.0,70.0,62.0,52.0,72.0,56.0,66.0,36.0,60.0,30.0,47.0,43.0,41.0,48.0,57.0,54.0,60.0,48.0,62.0,56.0,46.0,54.0,52.0,72.0,66.0,48.0,37.0,62.0,34.0,64.0,56.0,68.0,72.0,40.0,39.0,43.0,74.0,46.0,31.0,29.0,66.0,68.0,33.0,36.0,67.0,65.0,31.0,51.0,45.0,49.0,37.0,39.0,30.0,27.0,28.0,29.0,70.0,35.0,42.0,64.0,64.0,54.0,59.0,64.0,54.0,73.0,45.0,37.0,59.0,29.0,64.0,34.0,63.0,55.0,37.0,59.0,37.0,39.0,50.0,40.0,64.0,80.0,26.0,59.0,40.0,32.0,42.0,47.0,55.0,37.0,36.0,58.0,65.0,71.0,44.0,39.0,27.0,69.0,66.0,58.0,32.0,54.0,63.0,47.0,63.0,70.0,43.0,60.0,69.0,79.0,45.0,65.0,37.0,43.0,25.0,65.0,52.0,69.0,31.0,65.0,61.0,65.0,52.0,51.0,59.0,48.0,48.0,42.0,41.0,33.0,59.0,70.0,45.0,57.0,65.0,33.0,45.0,40.0,30.0,47.0,50.0,67.0,60.0,34.0,56.0,55.0,44.0,37.0,49.0,64.0,42.0,43.0,64.0,48.0,40.0,30.0,36.0,60.0,47.0,46.0,26.0,50.0,54.0,54.0,53.0,55.0,32.0,37.0,54.0,59.0,59.0,43.0,68.0,43.0,39.0,58.0,30.0,35.0,32.0,34.0,28.0,46.0,52.0,59.0,30.0,65.0,34.0,42.0,48.0,64.0,31.0,63.0,28.0,34.0,32.0,40.0,32.0,48.0,48.0,70.0,39.0,31.0,48.0,57.0,50.0,53.0,39.0,61.0,37.0,72.0,39.0,88.0,36.0,33.0,54.0,41.0,52.0,59.0,78.0,54.0,39.0,42.0,65.0,48.0,32.0,57.0,68.0,75.0,49.0,45.0,52.0,38.0,27.0,47.0,42.0,36.0,62.0,56.0,35.0,29.0,58.0,55.0,65.0,35.0,40.0,73.0,27.0,40.0,60.0,32.0,39.0,53.0,53.0,58.0,26.0,35.0,56.0,34.0,35.0,62.0,69.0,37.0,61.0,55.0,56.0,49.0,42.0,34.0,34.0,68.0,36.0,48.0,44.0,46.0,57.0,37.0,53.0,45.0,26.0,66.0,46.0,32.0,45.0,33.0,51.0,36.0,54.0,57.0,59.0,44.0,44.0,40.0,42.0,49.0,45.0,29.0,29.0,41.0,30.0,47.0,32.0,60.0,51.0,53.0,34.0,39.0,52.0,50.0,43.0,49.0,41.0,65.0,63.0,51.0,43.0,44.0,43.0,33.0,33.0,68.0,32.0,61.0,62.0,36.0,61.0,58.0,35.0,44.0,56.0,48.0,48.0,56.0,52.0,37.0,47.0,39.0,53.0,49.0,55.0,34.0,33.0,55.0,41.0,49.0,58.0,44.0,51.0,49.0,34.0,29.0,47.0,34.0,40.0,43.0,45.0,53.0,39.0,44.0,59.0,57.0,55.0,47.0,57.0,37.0,58.0,36.0,59.0,49.0,37.0,68.0,43.0,67.0,60.0,59.0,45.0,35.0,53.0,34.0,49.0,37.0,45.0,25.0,49.0,54.0,29.0,47.0,43.0,30.0,45.0,45.0,35.0,56.0,32.0,82.0,34.0,59.0,40.0,35.0,58.0,36.0,32.0,37.0,43.0,59.0,51.0,39.0,39.0,43.0,72.0,35.0,27.0,67.0,41.0,74.0,27.0,41.0,27.0,67.0,50.0,42.0,32.0,34.0,59.0,29.0,49.0,62.0,49.0,41.0,36.0,35.0,34.0,41.0,29.0,45.0,57.0,76.0,44.0,53.0,40.0,55.0,43.0,45.0,29.0,40.0,43.0,36.0,50.0,53.0,38.0,42.0,41.0,31.0,37.0,46.0,44.0,42.0,36.0,40.0,28.0,33.0,45.0,48.0,72.0,46.0,44.0,82.0,50.0,61.0,44.0,74.0,42.0,33.0,36.0,53.0,48.0,39.0,39.0,63.0,55.0,74.0,49.0,60.0,43.0,59.0,51.0,30.0,40.0,45.0,59.0,44.0,46.0,44.0,61.0,66.0,68.0,33.0,51.0,47.0,43.0,29.0,64.0,34.0,58.0,36.0,45.0,41.0,37.0,28.0,38.0,42.0,55.0,43.0,31.0,62.0,64.0,53.0,59.0,57.0,40.0,55.0,53.0,34.0,28.0,39.0,46.0,46.0,26.0,28.0,54.0,43.0,61.0,50.0,50.0,41.0,44.0,29.0,39.0,63.0,58.0,61.0,60.0,69.0,45.0,50.0,53.0,37.0,47.0,51.0,46.0,40.0,44.0,33.0,53.0,30.0,46.0,54.0,75.0,44.0,47.0,30.0,40.0,71.0,54.0,51.0,51.0,49.0,38.0,33.0,55.0,40.0,68.0,58.0,49.0,71.0,59.0,41.0,39.0,31.0,32.0,30.0,39.0,55.0,36.0,49.0,35.0,44.0,42.0,41.0,33.0,46.0,62.0,42.0,40.0,36.0,56.0,43.0,30.0,38.0,43.0,55.0,49.0,43.0,48.0,63.0,41.0,34.0,56.0,57.0,61.0,31.0,27.0,72.0,28.0,44.0,48.0,57.0,26.0,29.0,28.0,30.0,48.0,62.0,51.0,71.0,41.0,38.0,30.0,47.0,59.0,40.0,52.0,72.0,36.0,38.0,70.0,72.0,46.0,68.0,31.0,56.0,63.0,65.0,30.0,54.0,29.0,40.0,35.0,43.0,34.0,55.0,36.0,54.0,54.0,30.0,44.0,45.0,34.0,69.0,67.0,54.0,33.0,47.0,49.0,56.0,30.0,49.0,51.0,64.0,69.0,29.0,33.0,46.0,57.0,43.0,45.0,51.0,39.0,42.0,59.0,31.0,43.0,35.0,67.0,40.0,53.0,39.0,61.0,56.0,39.0,44.0,27.0,66.0,37.0,36.0,52.0,47.0,49.0,53.0,66.0,35.0,67.0,38.0,43.0,58.0,39.0,37.0,47.0,53.0,66.0,55.0,41.0,52.0,31.0,32.0,39.0,31.0,54.0,63.0,64.0,50.0,49.0,39.0,35.0,50.0,63.0,53.0,60.0,40.0,47.0,40.0,55.0,58.0,47.0,39.0,37.0,45.0,53.0,76.0,46.0,48.0,49.0,33.0,61.0,38.0,49.0,38.0,69.0,64.0,50.0,43.0,60.0,46.0,40.0,44.0,36.0,41.0,60.0,36.0,43.0,52.0,63.0,57.0,38.0,34.0,38.0,46.0,58.0,39.0,36.0,36.0,60.0,28.0,50.0,28.0,44.0,34.0,33.0,55.0,48.0,46.0,59.0,53.0,42.0,44.0,43.0,36.0,57.0,42.0,34.0,38.0,46.0,50.0,61.0,70.0,55.0,29.0,35.0,56.0,72.0,59.0,28.0,66.0,26.0,47.0,44.0,44.0,51.0,35.0,40.0,26.0,73.0,59.0,50.0,35.0,39.0,66.0,28.0,42.0,53.0,44.0,54.0,70.0,36.0,48.0,28.0,46.0,59.0,41.0,49.0,51.0,29.0,74.0,29.0,48.0,66.0,42.0,58.0,64.0,41.0,35.0,31.0,30.0,34.0,46.0,54.0,53.0,33.0,61.0,35.0,33.0,52.0,40.0,29.0,52.0,38.0,37.0,49.0,37.0,43.0,43.0,71.0,37.0,40.0,38.0,54.0,41.0,44.0,34.0,60.0,41.0,33.0,42.0,46.0,33.0,29.0,35.0,41.0,28.0,51.0,31.0,31.0,28.0,31.0,28.0,57.0,44.0,43.0,51.0,40.0,44.0,47.0,33.0,62.0,58.0,63.0,48.0,45.0,42.0,55.0,40.0,33.0,48.0,43.0,44.0,59.0,43.0,54.0,55.0,35.0,46.0,37.0,47.0,56.0,46.0,43.0,51.0,42.0,67.0,32.0,53.0,53.0,45.0,40.0,50.0,82.0,30.0,51.0,44.0,41.0,54.0,60.0,27.0,42.0,65.0,39.0,38.0,45.0,80.0,44.0,52.0,40.0,43.0,49.0,58.0,45.0,51.0,58.0,62.0,61.0,54.0,42.0,44.0,47.0,47.0,45.0,61.0,47.0,46.0,51.0,46.0,46.0,35.0,39.0,70.0,61.0,71.0,41.0,41.0,60.0,29.0,40.0,46.0,66.0,42.0,65.0,63.0,59.0,34.0,46.0,43.0,53.0,38.0,39.0,48.0,41.0,63.0,65.0,33.0,53.0,62.0,33.0,44.0,47.0,55.0,53.0,62.0,47.0,34.0,55.0,38.0,50.0,32.0,43.0,58.0,46.0,51.0,50.0,56.0,72.0,33.0,50.0,64.0,52.0,46.0,30.0,40.0,52.0,48.0,63.0,33.0,50.0,45.0,59.0,39.0,28.0,57.0,39.0,48.0,51.0,57.0,52.0,43.0,34.0,50.0,33.0,35.0,54.0,59.0,54.0,36.0,31.0,39.0,55.0,68.0,49.0,29.0,49.0,42.0,62.0,50.0,39.0,38.0,43.0,73.0,67.0,60.0,70.0,63.0,60.0,63.0,45.0,40.0,36.0,28.0,35.0,59.0,63.0,58.0,51.0,45.0,49.0,52.0,45.0,29.0,44.0,34.0,34.0,32.0,36.0,29.0,33.0,26.0,49.0,33.0,61.0,26.0,33.0,30.0,60.0,29.0,37.0,35.0,30.0,33.0,54.0,43.0,36.0,47.0,53.0,49.0,43.0,39.0,36.0,58.0,48.0,59.0,43.0,69.0,32.0,44.0,74.0,62.0,54.0,26.0,45.0,35.0,47.0,42.0,38.0,31.0,35.0,64.0,56.0,39.0,46.0,49.0,46.0,46.0,52.0,42.0,41.0,37.0,28.0,61.0,56.0,42.0,51.0,32.0,51.0,38.0,37.0,35.0,42.0,40.0,37.0,53.0,64.0,60.0,54.0,53.0,32.0,43.0,44.0,26.0,58.0,48.0,67.0,40.0,58.0,33.0,49.0,36.0,40.0,72.0,68.0,37.0,25.0,32.0,69.0,68.0,51.0,42.0,45.0,70.0,43.0,65.0,25.0,62.0,63.0,42.0,46.0,43.0,49.0,48.0,38.0,42.0,64.0,53.0,36.0,40.0,27.0,39.0,39.0,49.0,51.0,33.0,34.0,65.0,32.0,49.0,40.0,72.0,42.0,68.0,64.0,36.0,54.0,68.0,71.0,56.0,46.0,60.0,38.0,45.0,34.0,42.0,37.0,36.0,48.0,68.0,43.0,61.0,53.0,64.0,33.0,69.0,69.0,58.0,49.0,77.0,45.0,52.0,62.0,36.0,35.0,39.0,69.0,38.0,48.0,59.0,53.0,49.0,60.0,45.0,33.0,39.0,59.0,53.0,47.0,41.0,29.0,53.0,53.0,40.0,33.0,47.0,43.0,54.0,67.0,33.0,48.0,46.0,37.0,47.0,69.0,51.0,55.0,55.0,47.0,43.0,71.0,35.0,34.0,30.0,40.0,35.0,37.0,45.0,45.0,46.0,52.0,54.0,28.0,40.0,47.0,45.0,36.0,54.0,45.0,79.0,33.0,45.0,62.0,72.0,46.0,32.0,62.0,64.0,38.0,47.0,36.0,34.0,52.0,62.0,48.0,56.0,31.0,44.0,59.0,46.0,35.0,70.0,72.0,44.0,32.0,44.0,46.0,28.0,40.0,48.0,39.0,43.0,63.0,48.0,59.0,32.0,54.0,25.0,36.0,36.0,38.0,29.0,31.0,49.0,72.0,47.0,49.0,37.0,52.0,49.0,53.0,52.0,63.0,56.0,43.0,44.0,63.0,46.0,37.0,66.0,40.0,50.0,43.0,67.0,73.0,34.0,36.0,30.0,31.0,47.0,42.0,44.0,27.0,64.0,68.0,69.0,60.0,40.0,43.0,31.0,46.0,54.0,25.0,39.0,54.0,61.0,45.0,53.0,46.0,58.0,60.0,58.0,28.0,33.0,51.0,67.0,45.0,65.0,25.0,52.0,37.0,48.0,34.0,46.0,41.0,53.0,40.0,48.0,44.0,49.0,41.0,26.0,64.0,55.0,37.0,47.0,31.0,39.0,74.0,36.0,65.0,39.0,40.0,72.0,28.0,33.0,34.0,49.0,71.0,54.0,50.0,63.0,56.0,63.0,63.0,52.0,72.0,45.0,54.0,29.0,34.0,69.0,42.0,76.0,56.0,55.0,68.0,50.0,61.0,35.0,47.0,47.0,32.0,37.0,75.0,47.0,46.0,37.0,48.0,57.0,46.0,65.0,53.0,69.0,71.0,45.0,49.0,49.0,42.0,63.0,59.0,34.0,35.0,47.0,35.0,59.0,28.0,51.0,35.0,47.0,62.0,42.0,53.0,38.0,43.0,39.0,59.0,54.0,49.0,55.0,55.0,46.0,55.0,46.0,46.0,44.0,31.0,48.0,68.0,66.0,51.0,46.0,48.0,39.0,40.0,46.0,35.0,35.0,46.0,28.0,44.0,50.0,68.0,57.0,58.0,54.0,41.0,37.0,43.0,54.0,42.0,47.0,28.0,62.0,36.0,44.0,39.0,36.0,39.0,39.0,44.0,38.0,63.0,30.0,31.0,35.0,40.0,60.0,41.0,49.0,60.0,32.0,46.0,50.0,45.0,41.0,47.0,25.0,27.0,32.0,64.0,40.0,52.0,25.0,60.0,63.0,56.0,26.0,38.0,46.0,43.0,55.0,66.0,60.0,56.0,73.0,60.0,43.0,47.0,75.0,58.0,51.0,40.0,52.0,57.0,41.0,61.0,50.0,29.0,48.0,37.0,43.0,39.0,68.0,66.0,68.0,34.0,39.0,57.0,29.0,27.0,65.0,64.0,37.0,52.0,36.0,52.0,47.0,59.0,41.0,45.0,26.0,72.0,69.0,49.0,37.0,56.0,29.0,63.0,52.0,39.0,56.0,53.0,56.0,56.0,40.0,66.0,66.0,41.0,51.0,62.0,48.0,40.0,37.0,53.0,53.0,59.0,42.0,43.0,40.0,65.0,42.0,34.0,64.0,67.0,33.0,55.0,39.0,50.0,54.0,41.0,33.0,68.0,52.0,33.0,40.0,40.0,67.0,57.0,46.0,36.0,35.0,32.0,41.0,51.0,36.0,67.0,36.0,29.0,44.0,39.0,46.0,47.0,59.0,61.0,68.0,36.0,43.0,55.0,49.0,53.0,55.0,49.0,65.0,69.0,51.0,57.0,59.0,44.0,42.0,45.0,40.0,28.0,50.0,44.0,43.0,49.0,37.0,45.0,40.0,38.0,35.0,44.0,61.0,35.0,50.0,40.0,35.0,56.0,63.0,33.0,50.0,34.0,35.0,53.0,33.0,39.0,38.0,55.0,70.0,63.0,62.0,37.0,50.0,57.0,47.0,40.0,66.0,63.0,66.0,62.0,50.0,50.0,33.0,59.0,62.0,34.0,52.0,49.0,67.0,49.0,40.0,50.0,33.0,53.0,50.0,42.0,47.0,33.0,36.0,42.0,38.0,40.0,58.0,40.0,54.0,64.0,38.0,62.0,41.0,39.0,38.0,26.0,66.0,28.0,67.0,39.0,68.0,57.0,43.0,64.0,36.0,43.0,61.0,35.0,33.0,38.0,39.0,67.0,50.0,47.0,32.0,25.0,53.0,65.0,30.0,25.0,33.0,43.0,35.0,65.0,68.0,45.0,54.0,63.0,28.0,38.0,40.0,54.0,50.0,55.0,56.0,45.0,38.0,32.0,44.0,42.0,51.0,57.0,47.0,78.0,36.0,50.0,34.0,53.0,31.0,31.0,37.0,55.0,49.0,63.0,39.0,54.0,59.0,51.0,62.0,33.0,48.0,38.0,68.0,55.0,38.0,45.0,39.0,79.0,69.0,33.0,64.0,35.0,39.0,43.0,48.0,60.0,37.0,49.0,49.0,52.0,68.0,43.0,70.0,28.0,39.0,40.0,55.0,28.0,49.0,57.0,44.0,26.0,35.0,64.0,51.0,36.0,30.0,33.0,33.0,71.0,47.0,48.0,48.0,52.0,44.0,35.0,41.0,30.0,34.0,35.0,47.0,56.0,48.0,29.0,58.0,31.0,34.0,47.0,48.0,48.0,46.0,44.0,74.0,59.0,50.0,48.0,65.0,32.0,70.0,51.0,35.0,41.0,30.0,47.0,73.0,37.0,51.0,51.0,35.0,40.0,30.0,50.0,39.0,36.0,36.0,62.0,34.0,64.0,59.0,49.0,39.0,43.0,40.0,59.0,32.0,28.0,55.0,43.0,41.0,39.0,30.0,50.0,54.0,44.0,42.0,41.0,36.0,36.0,44.0,57.0,50.0,52.0,69.0,38.0,58.0,49.0,41.0,33.0,54.0,63.0,46.0,39.0,68.0,61.0,44.0,47.0,67.0,74.0,52.0,44.0,57.0,48.0,62.0,71.0,48.0,44.0,51.0,34.0,27.0,61.0,45.0,45.0,45.0,61.0,45.0,39.0,64.0,39.0,35.0,54.0,35.0,75.0,45.0,31.0,67.0,34.0,63.0,47.0,52.0,57.0,51.0,40.0,63.0,33.0,29.0,42.0,39.0,39.0,31.0,39.0,54.0,62.0,36.0,52.0,50.0,65.0,51.0,63.0,60.0,55.0,37.0,57.0,32.0,64.0,51.0,37.0,61.0,55.0,44.0,39.0,55.0,34.0,69.0,62.0,44.0,39.0,41.0,49.0,39.0,57.0,73.0,67.0,56.0,38.0,47.0,40.0,50.0,44.0,66.0,65.0,44.0,26.0,47.0,25.0,63.0,60.0,56.0,40.0,56.0,51.0,43.0,56.0,36.0,37.0,31.0,70.0,69.0,54.0,34.0,31.0,25.0,55.0,42.0,39.0,34.0,65.0,67.0,50.0,47.0,50.0,40.0,41.0,36.0,45.0,37.0,73.0,53.0,70.0,46.0,39.0,39.0,49.0,50.0,46.0,59.0,55.0,71.0,39.0,54.0,57.0,40.0,58.0,43.0,50.0,40.0,46.0,60.0,47.0,71.0,70.0,31.0,54.0,51.0,36.0,49.0,60.0,49.0,32.0,38.0,28.0,39.0,66.0,70.0,40.0,60.0,38.0,63.0,43.0,52.0,41.0,32.0,66.0,44.0,52.0,42.0,43.0,59.0,54.0,51.0,43.0,47.0,33.0,62.0,55.0,34.0,48.0,41.0,67.0,40.0,56.0,61.0,36.0,39.0,60.0,51.0,46.0,38.0,48.0,71.0,44.0,27.0,38.0,70.0,52.0,45.0,54.0,46.0,46.0,32.0,66.0,39.0,48.0,46.0,28.0,60.0,49.0,45.0,45.0,66.0,37.0,30.0,48.0,35.0,36.0,36.0,36.0,25.0,27.0,51.0,36.0,62.0,38.0,26.0,41.0,48.0,44.0,72.0,62.0,32.0,37.0,70.0,42.0,31.0,54.0,52.0,58.0,48.0,28.0,64.0,54.0,67.0,33.0,41.0,45.0,40.0,31.0,49.0,48.0,39.0,64.0,63.0,28.0,46.0,53.0,60.0,42.0,53.0,28.0,28.0,40.0,65.0,37.0,39.0,44.0,34.0,34.0,48.0,50.0,42.0,54.0,64.0,51.0,39.0,65.0,58.0,60.0,41.0,56.0,64.0,54.0,43.0,61.0,43.0,28.0,41.0,68.0,65.0,53.0,53.0,72.0,37.0,40.0,48.0,47.0,31.0,43.0,58.0,42.0,41.0,62.0,66.0,51.0,46.0,58.0,48.0,32.0,52.0,61.0,44.0,62.0,49.0,62.0,64.0,42.0,58.0,68.0,36.0,38.0,54.0,41.0,41.0,61.0,34.0,61.0,57.0,63.0,58.0,54.0,42.0,57.0,55.0,54.0,43.0,46.0,54.0,56.0,40.0,48.0,61.0,57.0,37.0,47.0,50.0,60.0,62.0,52.0,32.0,30.0,70.0,40.0,61.0,48.0,52.0,61.0,40.0,46.0,36.0,76.0,65.0,65.0,33.0,54.0,47.0,50.0,52.0,49.0,52.0,39.0,47.0,65.0,51.0,65.0,41.0,60.0,53.0,62.0,36.0,53.0,57.0,58.0,68.0,42.0,76.0,61.0,31.0,30.0,58.0,40.0,34.0,49.0,33.0,57.0,47.0,30.0,50.0,57.0,51.0,43.0,58.0,48.0,67.0,63.0,55.0,46.0,47.0,69.0,52.0,36.0,40.0,37.0,41.0,34.0,47.0,35.0,37.0,51.0,61.0,36.0,31.0,44.0,34.0,36.0,54.0,34.0,42.0,64.0,54.0,56.0,59.0,50.0,45.0,32.0,58.0,31.0,47.0,31.0,27.0,41.0,49.0,52.0,62.0,49.0,32.0,49.0,48.0,38.0,34.0,57.0,39.0,66.0,52.0,46.0,42.0,43.0,51.0,61.0,31.0,37.0,26.0,59.0,45.0,42.0,41.0,33.0,55.0,47.0,75.0,68.0,78.0,46.0,42.0,59.0,55.0,58.0,51.0,49.0,55.0,49.0,67.0,58.0,67.0,69.0,55.0,39.0,54.0,52.0,34.0,64.0,61.0,56.0,67.0,51.0,35.0,45.0,62.0,62.0,62.0,36.0,53.0,27.0,62.0,52.0,45.0,41.0,57.0,49.0,59.0,67.0,40.0,30.0,53.0,57.0,38.0,41.0,45.0,70.0,48.0,44.0,51.0,49.0,55.0,48.0,44.0,74.0,59.0,52.0,41.0,46.0,47.0,66.0,47.0,52.0,38.0,44.0,60.0,25.0,53.0,49.0,47.0,47.0,61.0,28.0,30.0,36.0,29.0,60.0,40.0,71.0,40.0,41.0,49.0,49.0,47.0,54.0,58.0,48.0,43.0,37.0,41.0,47.0,69.0,25.0,40.0,50.0,39.0,66.0,46.0,35.0,62.0,42.0,61.0,56.0,28.0,26.0,34.0,35.0,43.0,58.0,54.0,51.0,55.0,47.0,38.0,53.0,43.0,69.0,43.0,39.0,71.0,63.0,70.0,68.0,56.0,44.0,42.0,51.0,55.0,50.0,46.0,68.0,70.0,50.0,47.0,41.0,40.0,32.0,54.0,41.0,69.0,55.0,68.0,52.0,43.0,38.0,59.0,56.0,27.0,47.0,50.0,45.0,63.0,46.0,42.0,50.0,38.0,43.0,65.0,59.0,63.0,67.0,64.0,67.0,51.0,27.0,77.0,72.0,57.0,32.0,32.0,53.0,68.0,69.0,38.0,52.0,70.0,60.0,32.0,53.0,40.0,55.0,52.0,49.0,57.0,27.0,53.0,68.0,43.0,36.0,40.0,55.0,49.0,56.0,33.0,49.0,32.0,54.0,25.0,29.0,49.0,50.0,61.0,52.0,72.0,63.0,71.0,40.0,43.0,30.0,33.0,53.0,40.0,33.0,51.0,35.0,43.0,59.0,51.0,56.0,57.0,29.0,34.0,33.0,54.0,33.0,34.0,26.0,25.0,37.0,47.0,42.0,44.0,37.0,70.0,55.0,54.0,34.0,52.0,40.0,44.0,45.0,37.0,54.0,55.0,54.0,44.0,54.0,52.0,59.0,49.0,41.0,33.0,41.0,38.0,25.0,48.0,60.0,57.0,34.0,25.0,54.0,34.0,54.0,54.0,26.0,32.0,45.0,56.0,43.0,36.0,55.0,68.0,61.0,33.0,35.0,36.0,36.0,28.0,61.0,56.0,47.0,50.0,55.0,51.0,63.0,35.0,63.0,64.0,47.0,54.0,53.0,25.0,34.0,45.0,49.0,48.0,55.0,56.0,63.0,41.0,44.0,45.0,49.0,25.0,26.0,41.0,64.0,40.0,27.0,37.0,46.0,48.0,65.0,56.0,65.0,35.0,51.0,41.0,54.0,50.0,47.0,55.0,39.0,44.0,28.0,63.0,45.0,59.0,57.0,66.0,44.0,44.0,52.0,43.0,53.0,43.0,34.0,64.0,48.0,35.0,45.0,46.0,50.0,62.0,52.0,65.0,46.0,54.0,71.0,49.0,28.0,56.0,65.0,45.0,57.0,54.0,52.0,50.0,32.0,39.0,45.0,32.0,36.0,36.0,50.0,40.0,53.0,59.0,54.0,44.0,48.0,34.0,46.0,44.0,36.0,47.0,75.0,65.0,58.0,55.0,42.0,45.0,53.0,59.0,31.0,57.0,81.0,50.0,56.0,44.0,46.0,45.0,48.0,65.0,40.0,58.0,34.0,31.0,43.0,30.0,70.0,40.0,60.0,49.0,55.0,39.0,26.0,31.0,40.0,46.0,40.0,31.0,41.0,60.0,73.0,59.0,53.0,52.0,62.0,31.0,35.0,28.0,74.0,44.0,50.0,44.0,76.0,49.0,63.0,40.0,46.0,65.0,58.0,35.0,46.0,34.0,40.0,46.0,28.0,69.0,37.0,55.0,42.0,51.0,38.0,52.0,58.0,44.0,51.0,46.0,40.0,39.0,40.0,45.0,67.0,41.0,32.0,87.0,53.0,36.0,55.0,25.0,33.0,61.0,62.0,52.0,41.0,39.0,43.0,64.0,42.0,61.0,27.0,38.0,26.0,45.0,39.0,31.0,48.0,42.0,45.0,54.0,46.0,33.0,53.0,26.0,55.0,46.0,48.0,52.0,48.0,35.0,32.0,61.0,49.0,40.0,50.0,55.0,37.0,62.0,25.0,55.0,56.0,29.0,50.0,30.0,32.0,37.0,40.0,73.0,41.0,34.0,26.0,34.0,65.0,44.0,40.0,49.0,38.0,34.0,47.0,62.0,60.0,49.0,50.0,65.0,34.0,31.0,72.0,29.0,46.0,45.0,60.0,39.0,56.0,59.0,40.0,50.0,46.0,32.0,36.0,40.0,65.0,27.0,33.0,49.0,36.0,40.0,54.0,40.0,31.0,66.0,43.0,47.0,38.0,35.0,62.0,63.0,45.0,40.0,52.0,37.0,32.0,42.0,35.0,39.0,69.0,73.0,53.0,61.0,54.0,60.0,35.0,44.0,36.0,28.0,55.0,30.0,31.0,44.0,53.0,47.0,42.0,68.0,44.0,56.0,49.0,40.0,67.0,48.0,56.0,42.0,64.0,36.0,60.0,40.0,48.0,33.0,57.0,35.0,32.0,71.0,53.0,45.0,68.0,53.0,37.0,67.0,62.0,55.0,35.0,54.0,50.0,31.0,36.0,63.0,53.0,54.0,45.0,55.0,48.0,63.0,48.0,63.0,36.0,56.0,41.0,34.0,47.0,59.0,72.0,34.0,67.0,64.0,53.0,29.0,51.0,65.0,47.0,59.0,40.0,30.0,30.0,50.0,46.0,47.0,42.0,47.0,46.0,37.0,55.0,40.0,46.0,45.0,54.0,39.0,73.0,70.0,26.0,54.0,53.0,46.0,62.0,60.0,66.0,43.0,50.0,53.0,58.0,33.0,50.0,62.0,40.0,47.0,50.0,61.0,31.0,57.0,67.0,69.0,51.0,65.0,64.0,36.0,52.0,48.0,70.0,64.0,54.0,55.0,41.0,32.0,35.0,59.0,70.0,59.0,49.0,63.0,48.0,46.0,62.0,64.0,52.0,55.0,32.0,66.0,51.0,36.0,49.0,36.0,25.0,59.0,49.0,51.0,35.0,34.0,40.0,36.0,45.0,43.0,35.0,40.0,35.0,35.0,56.0,64.0,62.0,54.0,32.0,40.0,39.0,43.0,38.0,47.0,45.0,28.0,40.0,32.0,41.0,28.0,29.0,34.0,61.0,36.0,51.0,31.0,67.0,32.0,44.0,44.0,42.0,54.0,32.0,43.0,38.0,33.0,27.0,35.0,42.0,52.0,48.0,52.0,38.0,31.0,46.0,52.0,62.0,64.0,54.0,39.0,37.0,32.0,67.0,32.0,33.0,33.0,30.0,32.0,29.0,30.0,31.0,40.0,49.0,29.0,43.0,25.0,45.0,66.0,45.0,38.0,35.0,52.0,44.0,47.0,72.0,69.0,36.0,43.0,56.0,49.0,57.0,36.0,42.0,40.0,39.0,30.0,54.0,36.0,38.0,46.0,40.0,46.0,49.0,50.0,42.0,38.0,49.0,57.0,64.0,43.0,27.0,30.0,63.0,68.0,49.0,39.0,40.0,40.0,40.0,48.0,29.0,38.0,37.0,28.0,36.0,43.0,52.0,29.0,65.0,42.0,38.0,59.0,40.0,62.0,36.0,36.0,51.0,39.0,37.0,38.0,39.0,38.0,30.0,34.0,31.0,37.0,43.0,29.0,49.0,33.0,30.0,33.0,39.0,30.0,37.0,37.0,58.0,35.0,37.0,46.0,38.0,28.0,36.0,33.0,30.0,47.0,64.0,54.0,35.0,39.0,52.0,44.0,30.0,43.0,40.0,60.0,46.0,60.0,54.0,45.0,59.0,38.0,49.0,50.0,44.0,34.0,38.0,53.0,33.0,31.0,37.0,44.0,34.0,46.0,43.0,38.0,39.0,63.0,60.0,70.0,59.0,47.0,36.0,58.0,30.0,46.0,69.0,37.0,49.0,43.0,50.0,57.0,33.0,53.0,32.0,51.0,40.0,32.0,39.0,55.0,37.0,54.0,55.0,45.0,42.0,44.0,53.0,60.0,75.0,33.0,48.0,45.0,53.0,54.0,31.0,44.0,44.0,46.0,46.0,42.0,65.0,37.0,54.0,49.0,42.0,55.0,39.0,47.0,53.0,41.0,32.0,45.0,35.0,42.0,58.0,43.0,43.0,29.0,34.0,56.0,46.0,52.0,55.0,46.0,54.0,47.0,54.0,32.0,44.0,49.0,33.0,32.0,64.0,59.0,69.0,34.0,32.0,46.0,52.0,29.0,37.0,31.0,45.0,28.0,34.0,64.0,50.0,48.0,47.0,47.0,38.0,29.0,42.0,34.0,45.0,52.0,45.0,36.0,43.0,40.0,58.0,47.0,38.0,38.0,44.0,46.0,41.0,43.0,27.0,36.0,54.0,33.0,39.0,58.0,45.0,64.0,43.0,65.0,54.0,47.0,53.0,26.0,42.0,45.0,44.0,51.0,32.0,43.0,36.0,63.0,40.0,54.0,30.0,38.0,58.0,30.0,28.0,65.0,47.0,45.0,41.0,52.0,36.0,38.0,26.0,35.0,73.0,36.0,57.0,32.0,55.0,28.0,49.0,26.0,30.0,53.0,39.0,25.0,36.0,27.0,32.0,39.0,59.0,26.0,30.0,44.0,49.0,53.0,48.0,65.0,30.0,53.0,33.0,33.0,69.0,58.0,30.0,68.0,41.0,69.0,43.0,51.0,37.0,74.0,33.0,38.0,44.0,47.0,65.0,59.0,51.0,40.0,34.0,32.0,48.0,42.0,51.0,37.0,37.0,53.0,51.0,43.0,59.0,31.0,66.0,58.0,51.0,53.0,74.0,55.0,43.0,55.0,36.0,33.0,29.0,52.0,54.0,32.0,41.0,33.0,26.0,36.0,64.0,33.0,38.0,36.0,41.0,56.0,61.0,39.0,41.0,46.0,36.0,50.0,35.0,40.0,32.0,44.0,32.0,25.0,52.0,53.0,43.0,49.0,43.0,31.0,40.0,35.0,57.0,49.0,32.0,37.0,29.0,33.0,32.0,50.0,53.0,37.0,50.0,33.0,40.0,58.0,43.0,40.0,34.0,50.0,37.0,34.0,60.0,44.0,66.0,38.0,32.0,40.0,29.0,35.0,74.0,56.0,36.0,32.0,34.0,80.0,38.0,25.0,35.0,35.0,45.0,29.0,25.0,35.0,39.0,63.0,67.0,52.0,38.0,44.0,55.0,32.0,60.0,29.0,38.0,48.0,30.0,36.0,40.0,38.0,34.0,30.0,53.0,39.0,38.0,49.0,66.0,62.0,50.0,50.0,78.0,45.0,45.0,36.0,35.0,36.0,38.0,33.0,62.0,35.0,73.0,56.0,35.0,60.0,42.0,50.0,64.0,36.0,50.0,39.0,48.0,58.0,58.0,60.0,35.0,57.0,37.0,41.0,50.0,63.0,40.0,49.0,65.0,46.0,39.0,47.0,46.0,54.0,35.0,47.0,53.0,47.0,66.0,49.0,37.0,37.0,57.0,53.0,53.0,47.0,38.0,34.0,32.0,64.0,79.0,48.0,54.0,41.0,49.0,50.0,72.0,45.0,34.0,37.0,54.0,65.0,48.0,48.0,28.0,55.0,66.0,27.0,49.0,67.0,42.0,46.0,30.0,64.0,53.0,37.0,66.0,49.0,30.0,44.0,40.0,49.0,28.0,54.0,33.0,33.0,46.0,56.0,39.0,38.0,39.0,57.0,53.0,46.0,48.0,41.0,46.0,66.0,31.0,71.0,44.0,54.0,60.0,35.0,41.0,32.0,40.0,47.0,43.0,46.0,35.0,60.0,36.0,50.0,46.0,65.0,51.0,64.0,48.0,44.0,49.0,28.0,40.0,49.0,57.0,50.0,54.0,61.0,53.0,36.0,65.0,62.0,49.0,42.0,46.0,54.0,61.0,49.0,48.0,61.0,66.0,46.0,65.0,49.0,65.0,63.0,40.0,37.0,41.0,54.0,46.0,65.0,62.0,30.0,38.0,71.0,54.0,47.0,29.0,41.0,40.0,51.0,27.0,37.0,53.0,51.0,69.0,39.0,48.0,60.0,37.0,56.0,53.0,41.0,73.0,54.0,46.0,48.0,49.0,55.0,57.0,34.0,57.0,37.0,61.0,49.0,72.0,37.0,36.0,71.0,63.0,45.0,50.0,44.0,61.0,33.0,51.0,53.0,57.0,44.0,49.0,44.0,40.0,63.0,68.0,51.0,62.0,62.0,36.0,27.0,26.0,41.0,48.0,49.0,66.0,73.0,54.0,36.0,34.0,75.0,36.0,52.0,43.0,39.0,39.0,62.0,26.0,36.0,25.0,54.0,38.0,60.0,27.0,36.0,47.0,58.0,54.0,41.0,43.0,74.0,44.0,58.0,53.0,57.0,47.0,32.0,37.0,54.0,36.0,44.0,57.0,35.0,36.0,38.0,43.0,35.0,41.0,33.0,44.0,53.0,50.0,40.0,42.0,46.0,36.0,52.0,34.0,33.0,36.0,33.0,30.0,55.0,33.0,40.0,28.0,51.0,52.0,44.0,59.0,49.0,44.0,37.0,49.0,55.0,45.0,34.0,55.0,66.0,64.0,70.0,40.0,55.0,31.0,27.0,33.0,37.0,40.0,28.0,66.0,51.0,62.0,56.0,49.0,61.0,61.0,54.0,43.0,67.0,65.0,71.0,36.0,27.0,43.0,32.0,57.0,30.0,44.0,56.0,40.0,61.0,61.0,70.0,75.0,37.0,63.0,63.0,41.0,38.0,30.0,37.0,49.0,66.0,38.0,50.0,60.0,43.0,60.0,37.0,38.0,58.0,52.0,55.0,51.0,48.0],\"xaxis\":\"x\",\"yaxis\":\"y\",\"type\":\"histogram\"}],                        {\"template\":{\"data\":{\"histogram2dcontour\":[{\"type\":\"histogram2dcontour\",\"colorbar\":{\"outlinewidth\":0,\"ticks\":\"\"},\"colorscale\":[[0.0,\"#0d0887\"],[0.1111111111111111,\"#46039f\"],[0.2222222222222222,\"#7201a8\"],[0.3333333333333333,\"#9c179e\"],[0.4444444444444444,\"#bd3786\"],[0.5555555555555556,\"#d8576b\"],[0.6666666666666666,\"#ed7953\"],[0.7777777777777778,\"#fb9f3a\"],[0.8888888888888888,\"#fdca26\"],[1.0,\"#f0f921\"]]}],\"choropleth\":[{\"type\":\"choropleth\",\"colorbar\":{\"outlinewidth\":0,\"ticks\":\"\"}}],\"histogram2d\":[{\"type\":\"histogram2d\",\"colorbar\":{\"outlinewidth\":0,\"ticks\":\"\"},\"colorscale\":[[0.0,\"#0d0887\"],[0.1111111111111111,\"#46039f\"],[0.2222222222222222,\"#7201a8\"],[0.3333333333333333,\"#9c179e\"],[0.4444444444444444,\"#bd3786\"],[0.5555555555555556,\"#d8576b\"],[0.6666666666666666,\"#ed7953\"],[0.7777777777777778,\"#fb9f3a\"],[0.8888888888888888,\"#fdca26\"],[1.0,\"#f0f921\"]]}],\"heatmap\":[{\"type\":\"heatmap\",\"colorbar\":{\"outlinewidth\":0,\"ticks\":\"\"},\"colorscale\":[[0.0,\"#0d0887\"],[0.1111111111111111,\"#46039f\"],[0.2222222222222222,\"#7201a8\"],[0.3333333333333333,\"#9c179e\"],[0.4444444444444444,\"#bd3786\"],[0.5555555555555556,\"#d8576b\"],[0.6666666666666666,\"#ed7953\"],[0.7777777777777778,\"#fb9f3a\"],[0.8888888888888888,\"#fdca26\"],[1.0,\"#f0f921\"]]}],\"heatmapgl\":[{\"type\":\"heatmapgl\",\"colorbar\":{\"outlinewidth\":0,\"ticks\":\"\"},\"colorscale\":[[0.0,\"#0d0887\"],[0.1111111111111111,\"#46039f\"],[0.2222222222222222,\"#7201a8\"],[0.3333333333333333,\"#9c179e\"],[0.4444444444444444,\"#bd3786\"],[0.5555555555555556,\"#d8576b\"],[0.6666666666666666,\"#ed7953\"],[0.7777777777777778,\"#fb9f3a\"],[0.8888888888888888,\"#fdca26\"],[1.0,\"#f0f921\"]]}],\"contourcarpet\":[{\"type\":\"contourcarpet\",\"colorbar\":{\"outlinewidth\":0,\"ticks\":\"\"}}],\"contour\":[{\"type\":\"contour\",\"colorbar\":{\"outlinewidth\":0,\"ticks\":\"\"},\"colorscale\":[[0.0,\"#0d0887\"],[0.1111111111111111,\"#46039f\"],[0.2222222222222222,\"#7201a8\"],[0.3333333333333333,\"#9c179e\"],[0.4444444444444444,\"#bd3786\"],[0.5555555555555556,\"#d8576b\"],[0.6666666666666666,\"#ed7953\"],[0.7777777777777778,\"#fb9f3a\"],[0.8888888888888888,\"#fdca26\"],[1.0,\"#f0f921\"]]}],\"surface\":[{\"type\":\"surface\",\"colorbar\":{\"outlinewidth\":0,\"ticks\":\"\"},\"colorscale\":[[0.0,\"#0d0887\"],[0.1111111111111111,\"#46039f\"],[0.2222222222222222,\"#7201a8\"],[0.3333333333333333,\"#9c179e\"],[0.4444444444444444,\"#bd3786\"],[0.5555555555555556,\"#d8576b\"],[0.6666666666666666,\"#ed7953\"],[0.7777777777777778,\"#fb9f3a\"],[0.8888888888888888,\"#fdca26\"],[1.0,\"#f0f921\"]]}],\"mesh3d\":[{\"type\":\"mesh3d\",\"colorbar\":{\"outlinewidth\":0,\"ticks\":\"\"}}],\"scatter\":[{\"fillpattern\":{\"fillmode\":\"overlay\",\"size\":10,\"solidity\":0.2},\"type\":\"scatter\"}],\"parcoords\":[{\"type\":\"parcoords\",\"line\":{\"colorbar\":{\"outlinewidth\":0,\"ticks\":\"\"}}}],\"scatterpolargl\":[{\"type\":\"scatterpolargl\",\"marker\":{\"colorbar\":{\"outlinewidth\":0,\"ticks\":\"\"}}}],\"bar\":[{\"error_x\":{\"color\":\"#2a3f5f\"},\"error_y\":{\"color\":\"#2a3f5f\"},\"marker\":{\"line\":{\"color\":\"#E5ECF6\",\"width\":0.5},\"pattern\":{\"fillmode\":\"overlay\",\"size\":10,\"solidity\":0.2}},\"type\":\"bar\"}],\"scattergeo\":[{\"type\":\"scattergeo\",\"marker\":{\"colorbar\":{\"outlinewidth\":0,\"ticks\":\"\"}}}],\"scatterpolar\":[{\"type\":\"scatterpolar\",\"marker\":{\"colorbar\":{\"outlinewidth\":0,\"ticks\":\"\"}}}],\"histogram\":[{\"marker\":{\"pattern\":{\"fillmode\":\"overlay\",\"size\":10,\"solidity\":0.2}},\"type\":\"histogram\"}],\"scattergl\":[{\"type\":\"scattergl\",\"marker\":{\"colorbar\":{\"outlinewidth\":0,\"ticks\":\"\"}}}],\"scatter3d\":[{\"type\":\"scatter3d\",\"line\":{\"colorbar\":{\"outlinewidth\":0,\"ticks\":\"\"}},\"marker\":{\"colorbar\":{\"outlinewidth\":0,\"ticks\":\"\"}}}],\"scattermapbox\":[{\"type\":\"scattermapbox\",\"marker\":{\"colorbar\":{\"outlinewidth\":0,\"ticks\":\"\"}}}],\"scatterternary\":[{\"type\":\"scatterternary\",\"marker\":{\"colorbar\":{\"outlinewidth\":0,\"ticks\":\"\"}}}],\"scattercarpet\":[{\"type\":\"scattercarpet\",\"marker\":{\"colorbar\":{\"outlinewidth\":0,\"ticks\":\"\"}}}],\"carpet\":[{\"aaxis\":{\"endlinecolor\":\"#2a3f5f\",\"gridcolor\":\"white\",\"linecolor\":\"white\",\"minorgridcolor\":\"white\",\"startlinecolor\":\"#2a3f5f\"},\"baxis\":{\"endlinecolor\":\"#2a3f5f\",\"gridcolor\":\"white\",\"linecolor\":\"white\",\"minorgridcolor\":\"white\",\"startlinecolor\":\"#2a3f5f\"},\"type\":\"carpet\"}],\"table\":[{\"cells\":{\"fill\":{\"color\":\"#EBF0F8\"},\"line\":{\"color\":\"white\"}},\"header\":{\"fill\":{\"color\":\"#C8D4E3\"},\"line\":{\"color\":\"white\"}},\"type\":\"table\"}],\"barpolar\":[{\"marker\":{\"line\":{\"color\":\"#E5ECF6\",\"width\":0.5},\"pattern\":{\"fillmode\":\"overlay\",\"size\":10,\"solidity\":0.2}},\"type\":\"barpolar\"}],\"pie\":[{\"automargin\":true,\"type\":\"pie\"}]},\"layout\":{\"autotypenumbers\":\"strict\",\"colorway\":[\"#636efa\",\"#EF553B\",\"#00cc96\",\"#ab63fa\",\"#FFA15A\",\"#19d3f3\",\"#FF6692\",\"#B6E880\",\"#FF97FF\",\"#FECB52\"],\"font\":{\"color\":\"#2a3f5f\"},\"hovermode\":\"closest\",\"hoverlabel\":{\"align\":\"left\"},\"paper_bgcolor\":\"white\",\"plot_bgcolor\":\"#E5ECF6\",\"polar\":{\"bgcolor\":\"#E5ECF6\",\"angularaxis\":{\"gridcolor\":\"white\",\"linecolor\":\"white\",\"ticks\":\"\"},\"radialaxis\":{\"gridcolor\":\"white\",\"linecolor\":\"white\",\"ticks\":\"\"}},\"ternary\":{\"bgcolor\":\"#E5ECF6\",\"aaxis\":{\"gridcolor\":\"white\",\"linecolor\":\"white\",\"ticks\":\"\"},\"baxis\":{\"gridcolor\":\"white\",\"linecolor\":\"white\",\"ticks\":\"\"},\"caxis\":{\"gridcolor\":\"white\",\"linecolor\":\"white\",\"ticks\":\"\"}},\"coloraxis\":{\"colorbar\":{\"outlinewidth\":0,\"ticks\":\"\"}},\"colorscale\":{\"sequential\":[[0.0,\"#0d0887\"],[0.1111111111111111,\"#46039f\"],[0.2222222222222222,\"#7201a8\"],[0.3333333333333333,\"#9c179e\"],[0.4444444444444444,\"#bd3786\"],[0.5555555555555556,\"#d8576b\"],[0.6666666666666666,\"#ed7953\"],[0.7777777777777778,\"#fb9f3a\"],[0.8888888888888888,\"#fdca26\"],[1.0,\"#f0f921\"]],\"sequentialminus\":[[0.0,\"#0d0887\"],[0.1111111111111111,\"#46039f\"],[0.2222222222222222,\"#7201a8\"],[0.3333333333333333,\"#9c179e\"],[0.4444444444444444,\"#bd3786\"],[0.5555555555555556,\"#d8576b\"],[0.6666666666666666,\"#ed7953\"],[0.7777777777777778,\"#fb9f3a\"],[0.8888888888888888,\"#fdca26\"],[1.0,\"#f0f921\"]],\"diverging\":[[0,\"#8e0152\"],[0.1,\"#c51b7d\"],[0.2,\"#de77ae\"],[0.3,\"#f1b6da\"],[0.4,\"#fde0ef\"],[0.5,\"#f7f7f7\"],[0.6,\"#e6f5d0\"],[0.7,\"#b8e186\"],[0.8,\"#7fbc41\"],[0.9,\"#4d9221\"],[1,\"#276419\"]]},\"xaxis\":{\"gridcolor\":\"white\",\"linecolor\":\"white\",\"ticks\":\"\",\"title\":{\"standoff\":15},\"zerolinecolor\":\"white\",\"automargin\":true,\"zerolinewidth\":2},\"yaxis\":{\"gridcolor\":\"white\",\"linecolor\":\"white\",\"ticks\":\"\",\"title\":{\"standoff\":15},\"zerolinecolor\":\"white\",\"automargin\":true,\"zerolinewidth\":2},\"scene\":{\"xaxis\":{\"backgroundcolor\":\"#E5ECF6\",\"gridcolor\":\"white\",\"linecolor\":\"white\",\"showbackground\":true,\"ticks\":\"\",\"zerolinecolor\":\"white\",\"gridwidth\":2},\"yaxis\":{\"backgroundcolor\":\"#E5ECF6\",\"gridcolor\":\"white\",\"linecolor\":\"white\",\"showbackground\":true,\"ticks\":\"\",\"zerolinecolor\":\"white\",\"gridwidth\":2},\"zaxis\":{\"backgroundcolor\":\"#E5ECF6\",\"gridcolor\":\"white\",\"linecolor\":\"white\",\"showbackground\":true,\"ticks\":\"\",\"zerolinecolor\":\"white\",\"gridwidth\":2}},\"shapedefaults\":{\"line\":{\"color\":\"#2a3f5f\"}},\"annotationdefaults\":{\"arrowcolor\":\"#2a3f5f\",\"arrowhead\":0,\"arrowwidth\":1},\"geo\":{\"bgcolor\":\"white\",\"landcolor\":\"#E5ECF6\",\"subunitcolor\":\"white\",\"showland\":true,\"showlakes\":true,\"lakecolor\":\"white\"},\"title\":{\"x\":0.05},\"mapbox\":{\"style\":\"light\"}}},\"xaxis\":{\"anchor\":\"y\",\"domain\":[0.0,1.0],\"title\":{\"text\":\"Distribution\"}},\"yaxis\":{\"anchor\":\"x\",\"domain\":[0.0,1.0],\"title\":{\"text\":\"Age\"}},\"legend\":{\"tracegroupgap\":0},\"margin\":{\"t\":60},\"barmode\":\"relative\",\"title\":{\"text\":\"Age Distribution of Candidates\",\"font\":{\"family\":\"Courier New\",\"color\":\"#351f39\"}},\"font\":{\"family\":\"Courier New\",\"color\":\"#351f39\"}},                        {\"responsive\": true}                    ).then(function(){\n",
       "                            \n",
       "var gd = document.getElementById('cf9e675b-e5de-4fed-ab62-37a54414a579');\n",
       "var x = new MutationObserver(function (mutations, observer) {{\n",
       "        var display = window.getComputedStyle(gd).display;\n",
       "        if (!display || display === 'none') {{\n",
       "            console.log([gd, 'removed!']);\n",
       "            Plotly.purge(gd);\n",
       "            observer.disconnect();\n",
       "        }}\n",
       "}});\n",
       "\n",
       "// Listen for the removal of the full notebook cells\n",
       "var notebookContainer = gd.closest('#notebook-container');\n",
       "if (notebookContainer) {{\n",
       "    x.observe(notebookContainer, {childList: true});\n",
       "}}\n",
       "\n",
       "// Listen for the clearing of the current output cell\n",
       "var outputEl = gd.closest('.output');\n",
       "if (outputEl) {{\n",
       "    x.observe(outputEl, {childList: true});\n",
       "}}\n",
       "\n",
       "                        })                };                });            </script>        </div>"
      ]
     },
     "metadata": {},
     "output_type": "display_data"
    }
   ],
   "source": [
    "# Visualize the age distribution of candidates\n",
    "age_distribution_fig = px.histogram(df, \n",
    "                                    x=\"AGE\",\n",
    "                                    color_discrete_sequence=['indianred'])\n",
    "age_distribution_fig.update_layout(title_text='Age Distribution of Candidates',\n",
    "                                   xaxis_title=\"Distribution\",\n",
    "                                   yaxis_title=\"Age\")\n",
    "age_distribution_fig.update_layout(font_family=\"Courier New\",\n",
    "                                   font_color=\"#351f39\",\n",
    "                                   title_font_family=\"Courier New\",\n",
    "                                   title_font_color=\"#351f39\")\n",
    "age_distribution_fig.show()"
   ]
  },
  {
   "cell_type": "code",
   "execution_count": 106,
   "metadata": {},
   "outputs": [
    {
     "name": "stderr",
     "output_type": "stream",
     "text": [
      "C:\\Users\\Hp\\AppData\\Local\\Packages\\PythonSoftwareFoundation.Python.3.11_qbz5n2kfra8p0\\LocalCache\\local-packages\\Python311\\site-packages\\plotly\\express\\_core.py:2065: FutureWarning:\n",
      "\n",
      "When grouping with a length-1 list-like, you will need to pass a length-1 tuple to get_group in a future version of pandas. Pass `(name,)` instead of `name` to silence this warning.\n",
      "\n"
     ]
    },
    {
     "data": {
      "application/vnd.plotly.v1+json": {
       "config": {
        "plotlyServerURL": "https://plot.ly"
       },
       "data": [
        {
         "alignmentgroup": "True",
         "hovertemplate": "Category=Winner<br>CATEGORY=%{x}<br>WINNER=%{y}<extra></extra>",
         "legendgroup": "Winner",
         "marker": {
          "color": "#636efa",
          "pattern": {
           "shape": ""
          }
         },
         "name": "Winner",
         "offsetgroup": "Winner",
         "orientation": "v",
         "showlegend": true,
         "textposition": "auto",
         "type": "bar",
         "x": [
          "GENERAL",
          "SC",
          "ST"
         ],
         "xaxis": "x",
         "y": [
          419,
          96,
          58
         ],
         "yaxis": "y"
        },
        {
         "alignmentgroup": "True",
         "hovertemplate": "Category=Total<br>CATEGORY=%{x}<br>WINNER=%{y}<extra></extra>",
         "legendgroup": "Total",
         "marker": {
          "color": "#EF553B",
          "pattern": {
           "shape": ""
          }
         },
         "name": "Total",
         "offsetgroup": "Total",
         "orientation": "v",
         "showlegend": true,
         "textposition": "auto",
         "type": "bar",
         "x": [
          "BL",
          "GENERAL",
          "SC",
          "ST"
         ],
         "xaxis": "x",
         "y": [
          1,
          5265,
          2419,
          674
         ],
         "yaxis": "y"
        }
       ],
       "layout": {
        "barmode": "group",
        "font": {
         "color": "#351f39",
         "family": "Courier New"
        },
        "legend": {
         "title": {
          "text": "Category"
         },
         "tracegroupgap": 0
        },
        "margin": {
         "t": 60
        },
        "template": {
         "data": {
          "bar": [
           {
            "error_x": {
             "color": "#2a3f5f"
            },
            "error_y": {
             "color": "#2a3f5f"
            },
            "marker": {
             "line": {
              "color": "#E5ECF6",
              "width": 0.5
             },
             "pattern": {
              "fillmode": "overlay",
              "size": 10,
              "solidity": 0.2
             }
            },
            "type": "bar"
           }
          ],
          "barpolar": [
           {
            "marker": {
             "line": {
              "color": "#E5ECF6",
              "width": 0.5
             },
             "pattern": {
              "fillmode": "overlay",
              "size": 10,
              "solidity": 0.2
             }
            },
            "type": "barpolar"
           }
          ],
          "carpet": [
           {
            "aaxis": {
             "endlinecolor": "#2a3f5f",
             "gridcolor": "white",
             "linecolor": "white",
             "minorgridcolor": "white",
             "startlinecolor": "#2a3f5f"
            },
            "baxis": {
             "endlinecolor": "#2a3f5f",
             "gridcolor": "white",
             "linecolor": "white",
             "minorgridcolor": "white",
             "startlinecolor": "#2a3f5f"
            },
            "type": "carpet"
           }
          ],
          "choropleth": [
           {
            "colorbar": {
             "outlinewidth": 0,
             "ticks": ""
            },
            "type": "choropleth"
           }
          ],
          "contour": [
           {
            "colorbar": {
             "outlinewidth": 0,
             "ticks": ""
            },
            "colorscale": [
             [
              0,
              "#0d0887"
             ],
             [
              0.1111111111111111,
              "#46039f"
             ],
             [
              0.2222222222222222,
              "#7201a8"
             ],
             [
              0.3333333333333333,
              "#9c179e"
             ],
             [
              0.4444444444444444,
              "#bd3786"
             ],
             [
              0.5555555555555556,
              "#d8576b"
             ],
             [
              0.6666666666666666,
              "#ed7953"
             ],
             [
              0.7777777777777778,
              "#fb9f3a"
             ],
             [
              0.8888888888888888,
              "#fdca26"
             ],
             [
              1,
              "#f0f921"
             ]
            ],
            "type": "contour"
           }
          ],
          "contourcarpet": [
           {
            "colorbar": {
             "outlinewidth": 0,
             "ticks": ""
            },
            "type": "contourcarpet"
           }
          ],
          "heatmap": [
           {
            "colorbar": {
             "outlinewidth": 0,
             "ticks": ""
            },
            "colorscale": [
             [
              0,
              "#0d0887"
             ],
             [
              0.1111111111111111,
              "#46039f"
             ],
             [
              0.2222222222222222,
              "#7201a8"
             ],
             [
              0.3333333333333333,
              "#9c179e"
             ],
             [
              0.4444444444444444,
              "#bd3786"
             ],
             [
              0.5555555555555556,
              "#d8576b"
             ],
             [
              0.6666666666666666,
              "#ed7953"
             ],
             [
              0.7777777777777778,
              "#fb9f3a"
             ],
             [
              0.8888888888888888,
              "#fdca26"
             ],
             [
              1,
              "#f0f921"
             ]
            ],
            "type": "heatmap"
           }
          ],
          "heatmapgl": [
           {
            "colorbar": {
             "outlinewidth": 0,
             "ticks": ""
            },
            "colorscale": [
             [
              0,
              "#0d0887"
             ],
             [
              0.1111111111111111,
              "#46039f"
             ],
             [
              0.2222222222222222,
              "#7201a8"
             ],
             [
              0.3333333333333333,
              "#9c179e"
             ],
             [
              0.4444444444444444,
              "#bd3786"
             ],
             [
              0.5555555555555556,
              "#d8576b"
             ],
             [
              0.6666666666666666,
              "#ed7953"
             ],
             [
              0.7777777777777778,
              "#fb9f3a"
             ],
             [
              0.8888888888888888,
              "#fdca26"
             ],
             [
              1,
              "#f0f921"
             ]
            ],
            "type": "heatmapgl"
           }
          ],
          "histogram": [
           {
            "marker": {
             "pattern": {
              "fillmode": "overlay",
              "size": 10,
              "solidity": 0.2
             }
            },
            "type": "histogram"
           }
          ],
          "histogram2d": [
           {
            "colorbar": {
             "outlinewidth": 0,
             "ticks": ""
            },
            "colorscale": [
             [
              0,
              "#0d0887"
             ],
             [
              0.1111111111111111,
              "#46039f"
             ],
             [
              0.2222222222222222,
              "#7201a8"
             ],
             [
              0.3333333333333333,
              "#9c179e"
             ],
             [
              0.4444444444444444,
              "#bd3786"
             ],
             [
              0.5555555555555556,
              "#d8576b"
             ],
             [
              0.6666666666666666,
              "#ed7953"
             ],
             [
              0.7777777777777778,
              "#fb9f3a"
             ],
             [
              0.8888888888888888,
              "#fdca26"
             ],
             [
              1,
              "#f0f921"
             ]
            ],
            "type": "histogram2d"
           }
          ],
          "histogram2dcontour": [
           {
            "colorbar": {
             "outlinewidth": 0,
             "ticks": ""
            },
            "colorscale": [
             [
              0,
              "#0d0887"
             ],
             [
              0.1111111111111111,
              "#46039f"
             ],
             [
              0.2222222222222222,
              "#7201a8"
             ],
             [
              0.3333333333333333,
              "#9c179e"
             ],
             [
              0.4444444444444444,
              "#bd3786"
             ],
             [
              0.5555555555555556,
              "#d8576b"
             ],
             [
              0.6666666666666666,
              "#ed7953"
             ],
             [
              0.7777777777777778,
              "#fb9f3a"
             ],
             [
              0.8888888888888888,
              "#fdca26"
             ],
             [
              1,
              "#f0f921"
             ]
            ],
            "type": "histogram2dcontour"
           }
          ],
          "mesh3d": [
           {
            "colorbar": {
             "outlinewidth": 0,
             "ticks": ""
            },
            "type": "mesh3d"
           }
          ],
          "parcoords": [
           {
            "line": {
             "colorbar": {
              "outlinewidth": 0,
              "ticks": ""
             }
            },
            "type": "parcoords"
           }
          ],
          "pie": [
           {
            "automargin": true,
            "type": "pie"
           }
          ],
          "scatter": [
           {
            "fillpattern": {
             "fillmode": "overlay",
             "size": 10,
             "solidity": 0.2
            },
            "type": "scatter"
           }
          ],
          "scatter3d": [
           {
            "line": {
             "colorbar": {
              "outlinewidth": 0,
              "ticks": ""
             }
            },
            "marker": {
             "colorbar": {
              "outlinewidth": 0,
              "ticks": ""
             }
            },
            "type": "scatter3d"
           }
          ],
          "scattercarpet": [
           {
            "marker": {
             "colorbar": {
              "outlinewidth": 0,
              "ticks": ""
             }
            },
            "type": "scattercarpet"
           }
          ],
          "scattergeo": [
           {
            "marker": {
             "colorbar": {
              "outlinewidth": 0,
              "ticks": ""
             }
            },
            "type": "scattergeo"
           }
          ],
          "scattergl": [
           {
            "marker": {
             "colorbar": {
              "outlinewidth": 0,
              "ticks": ""
             }
            },
            "type": "scattergl"
           }
          ],
          "scattermapbox": [
           {
            "marker": {
             "colorbar": {
              "outlinewidth": 0,
              "ticks": ""
             }
            },
            "type": "scattermapbox"
           }
          ],
          "scatterpolar": [
           {
            "marker": {
             "colorbar": {
              "outlinewidth": 0,
              "ticks": ""
             }
            },
            "type": "scatterpolar"
           }
          ],
          "scatterpolargl": [
           {
            "marker": {
             "colorbar": {
              "outlinewidth": 0,
              "ticks": ""
             }
            },
            "type": "scatterpolargl"
           }
          ],
          "scatterternary": [
           {
            "marker": {
             "colorbar": {
              "outlinewidth": 0,
              "ticks": ""
             }
            },
            "type": "scatterternary"
           }
          ],
          "surface": [
           {
            "colorbar": {
             "outlinewidth": 0,
             "ticks": ""
            },
            "colorscale": [
             [
              0,
              "#0d0887"
             ],
             [
              0.1111111111111111,
              "#46039f"
             ],
             [
              0.2222222222222222,
              "#7201a8"
             ],
             [
              0.3333333333333333,
              "#9c179e"
             ],
             [
              0.4444444444444444,
              "#bd3786"
             ],
             [
              0.5555555555555556,
              "#d8576b"
             ],
             [
              0.6666666666666666,
              "#ed7953"
             ],
             [
              0.7777777777777778,
              "#fb9f3a"
             ],
             [
              0.8888888888888888,
              "#fdca26"
             ],
             [
              1,
              "#f0f921"
             ]
            ],
            "type": "surface"
           }
          ],
          "table": [
           {
            "cells": {
             "fill": {
              "color": "#EBF0F8"
             },
             "line": {
              "color": "white"
             }
            },
            "header": {
             "fill": {
              "color": "#C8D4E3"
             },
             "line": {
              "color": "white"
             }
            },
            "type": "table"
           }
          ]
         },
         "layout": {
          "annotationdefaults": {
           "arrowcolor": "#2a3f5f",
           "arrowhead": 0,
           "arrowwidth": 1
          },
          "autotypenumbers": "strict",
          "coloraxis": {
           "colorbar": {
            "outlinewidth": 0,
            "ticks": ""
           }
          },
          "colorscale": {
           "diverging": [
            [
             0,
             "#8e0152"
            ],
            [
             0.1,
             "#c51b7d"
            ],
            [
             0.2,
             "#de77ae"
            ],
            [
             0.3,
             "#f1b6da"
            ],
            [
             0.4,
             "#fde0ef"
            ],
            [
             0.5,
             "#f7f7f7"
            ],
            [
             0.6,
             "#e6f5d0"
            ],
            [
             0.7,
             "#b8e186"
            ],
            [
             0.8,
             "#7fbc41"
            ],
            [
             0.9,
             "#4d9221"
            ],
            [
             1,
             "#276419"
            ]
           ],
           "sequential": [
            [
             0,
             "#0d0887"
            ],
            [
             0.1111111111111111,
             "#46039f"
            ],
            [
             0.2222222222222222,
             "#7201a8"
            ],
            [
             0.3333333333333333,
             "#9c179e"
            ],
            [
             0.4444444444444444,
             "#bd3786"
            ],
            [
             0.5555555555555556,
             "#d8576b"
            ],
            [
             0.6666666666666666,
             "#ed7953"
            ],
            [
             0.7777777777777778,
             "#fb9f3a"
            ],
            [
             0.8888888888888888,
             "#fdca26"
            ],
            [
             1,
             "#f0f921"
            ]
           ],
           "sequentialminus": [
            [
             0,
             "#0d0887"
            ],
            [
             0.1111111111111111,
             "#46039f"
            ],
            [
             0.2222222222222222,
             "#7201a8"
            ],
            [
             0.3333333333333333,
             "#9c179e"
            ],
            [
             0.4444444444444444,
             "#bd3786"
            ],
            [
             0.5555555555555556,
             "#d8576b"
            ],
            [
             0.6666666666666666,
             "#ed7953"
            ],
            [
             0.7777777777777778,
             "#fb9f3a"
            ],
            [
             0.8888888888888888,
             "#fdca26"
            ],
            [
             1,
             "#f0f921"
            ]
           ]
          },
          "colorway": [
           "#636efa",
           "#EF553B",
           "#00cc96",
           "#ab63fa",
           "#FFA15A",
           "#19d3f3",
           "#FF6692",
           "#B6E880",
           "#FF97FF",
           "#FECB52"
          ],
          "font": {
           "color": "#2a3f5f"
          },
          "geo": {
           "bgcolor": "white",
           "lakecolor": "white",
           "landcolor": "#E5ECF6",
           "showlakes": true,
           "showland": true,
           "subunitcolor": "white"
          },
          "hoverlabel": {
           "align": "left"
          },
          "hovermode": "closest",
          "mapbox": {
           "style": "light"
          },
          "paper_bgcolor": "white",
          "plot_bgcolor": "#E5ECF6",
          "polar": {
           "angularaxis": {
            "gridcolor": "white",
            "linecolor": "white",
            "ticks": ""
           },
           "bgcolor": "#E5ECF6",
           "radialaxis": {
            "gridcolor": "white",
            "linecolor": "white",
            "ticks": ""
           }
          },
          "scene": {
           "xaxis": {
            "backgroundcolor": "#E5ECF6",
            "gridcolor": "white",
            "gridwidth": 2,
            "linecolor": "white",
            "showbackground": true,
            "ticks": "",
            "zerolinecolor": "white"
           },
           "yaxis": {
            "backgroundcolor": "#E5ECF6",
            "gridcolor": "white",
            "gridwidth": 2,
            "linecolor": "white",
            "showbackground": true,
            "ticks": "",
            "zerolinecolor": "white"
           },
           "zaxis": {
            "backgroundcolor": "#E5ECF6",
            "gridcolor": "white",
            "gridwidth": 2,
            "linecolor": "white",
            "showbackground": true,
            "ticks": "",
            "zerolinecolor": "white"
           }
          },
          "shapedefaults": {
           "line": {
            "color": "#2a3f5f"
           }
          },
          "ternary": {
           "aaxis": {
            "gridcolor": "white",
            "linecolor": "white",
            "ticks": ""
           },
           "baxis": {
            "gridcolor": "white",
            "linecolor": "white",
            "ticks": ""
           },
           "bgcolor": "#E5ECF6",
           "caxis": {
            "gridcolor": "white",
            "linecolor": "white",
            "ticks": ""
           }
          },
          "title": {
           "x": 0.05
          },
          "xaxis": {
           "automargin": true,
           "gridcolor": "white",
           "linecolor": "white",
           "ticks": "",
           "title": {
            "standoff": 15
           },
           "zerolinecolor": "white",
           "zerolinewidth": 2
          },
          "yaxis": {
           "automargin": true,
           "gridcolor": "white",
           "linecolor": "white",
           "ticks": "",
           "title": {
            "standoff": 15
           },
           "zerolinecolor": "white",
           "zerolinewidth": 2
          }
         }
        },
        "title": {
         "font": {
          "color": "#351f39",
          "family": "Courier New"
         },
         "text": "Caste distribution of candidates"
        },
        "xaxis": {
         "anchor": "y",
         "domain": [
          0,
          1
         ],
         "title": {
          "text": "Caste"
         }
        },
        "yaxis": {
         "anchor": "x",
         "domain": [
          0,
          1
         ],
         "title": {
          "text": "Count"
         }
        }
       }
      },
      "text/html": [
       "<div>                            <div id=\"ffbce152-3c83-4570-89e4-11f23849c34f\" class=\"plotly-graph-div\" style=\"height:525px; width:100%;\"></div>            <script type=\"text/javascript\">                require([\"plotly\"], function(Plotly) {                    window.PLOTLYENV=window.PLOTLYENV || {};                                    if (document.getElementById(\"ffbce152-3c83-4570-89e4-11f23849c34f\")) {                    Plotly.newPlot(                        \"ffbce152-3c83-4570-89e4-11f23849c34f\",                        [{\"alignmentgroup\":\"True\",\"hovertemplate\":\"Category=Winner\\u003cbr\\u003eCATEGORY=%{x}\\u003cbr\\u003eWINNER=%{y}\\u003cextra\\u003e\\u003c\\u002fextra\\u003e\",\"legendgroup\":\"Winner\",\"marker\":{\"color\":\"#636efa\",\"pattern\":{\"shape\":\"\"}},\"name\":\"Winner\",\"offsetgroup\":\"Winner\",\"orientation\":\"v\",\"showlegend\":true,\"textposition\":\"auto\",\"x\":[\"GENERAL\",\"SC\",\"ST\"],\"xaxis\":\"x\",\"y\":[419,96,58],\"yaxis\":\"y\",\"type\":\"bar\"},{\"alignmentgroup\":\"True\",\"hovertemplate\":\"Category=Total\\u003cbr\\u003eCATEGORY=%{x}\\u003cbr\\u003eWINNER=%{y}\\u003cextra\\u003e\\u003c\\u002fextra\\u003e\",\"legendgroup\":\"Total\",\"marker\":{\"color\":\"#EF553B\",\"pattern\":{\"shape\":\"\"}},\"name\":\"Total\",\"offsetgroup\":\"Total\",\"orientation\":\"v\",\"showlegend\":true,\"textposition\":\"auto\",\"x\":[\"BL\",\"GENERAL\",\"SC\",\"ST\"],\"xaxis\":\"x\",\"y\":[1,5265,2419,674],\"yaxis\":\"y\",\"type\":\"bar\"}],                        {\"template\":{\"data\":{\"histogram2dcontour\":[{\"type\":\"histogram2dcontour\",\"colorbar\":{\"outlinewidth\":0,\"ticks\":\"\"},\"colorscale\":[[0.0,\"#0d0887\"],[0.1111111111111111,\"#46039f\"],[0.2222222222222222,\"#7201a8\"],[0.3333333333333333,\"#9c179e\"],[0.4444444444444444,\"#bd3786\"],[0.5555555555555556,\"#d8576b\"],[0.6666666666666666,\"#ed7953\"],[0.7777777777777778,\"#fb9f3a\"],[0.8888888888888888,\"#fdca26\"],[1.0,\"#f0f921\"]]}],\"choropleth\":[{\"type\":\"choropleth\",\"colorbar\":{\"outlinewidth\":0,\"ticks\":\"\"}}],\"histogram2d\":[{\"type\":\"histogram2d\",\"colorbar\":{\"outlinewidth\":0,\"ticks\":\"\"},\"colorscale\":[[0.0,\"#0d0887\"],[0.1111111111111111,\"#46039f\"],[0.2222222222222222,\"#7201a8\"],[0.3333333333333333,\"#9c179e\"],[0.4444444444444444,\"#bd3786\"],[0.5555555555555556,\"#d8576b\"],[0.6666666666666666,\"#ed7953\"],[0.7777777777777778,\"#fb9f3a\"],[0.8888888888888888,\"#fdca26\"],[1.0,\"#f0f921\"]]}],\"heatmap\":[{\"type\":\"heatmap\",\"colorbar\":{\"outlinewidth\":0,\"ticks\":\"\"},\"colorscale\":[[0.0,\"#0d0887\"],[0.1111111111111111,\"#46039f\"],[0.2222222222222222,\"#7201a8\"],[0.3333333333333333,\"#9c179e\"],[0.4444444444444444,\"#bd3786\"],[0.5555555555555556,\"#d8576b\"],[0.6666666666666666,\"#ed7953\"],[0.7777777777777778,\"#fb9f3a\"],[0.8888888888888888,\"#fdca26\"],[1.0,\"#f0f921\"]]}],\"heatmapgl\":[{\"type\":\"heatmapgl\",\"colorbar\":{\"outlinewidth\":0,\"ticks\":\"\"},\"colorscale\":[[0.0,\"#0d0887\"],[0.1111111111111111,\"#46039f\"],[0.2222222222222222,\"#7201a8\"],[0.3333333333333333,\"#9c179e\"],[0.4444444444444444,\"#bd3786\"],[0.5555555555555556,\"#d8576b\"],[0.6666666666666666,\"#ed7953\"],[0.7777777777777778,\"#fb9f3a\"],[0.8888888888888888,\"#fdca26\"],[1.0,\"#f0f921\"]]}],\"contourcarpet\":[{\"type\":\"contourcarpet\",\"colorbar\":{\"outlinewidth\":0,\"ticks\":\"\"}}],\"contour\":[{\"type\":\"contour\",\"colorbar\":{\"outlinewidth\":0,\"ticks\":\"\"},\"colorscale\":[[0.0,\"#0d0887\"],[0.1111111111111111,\"#46039f\"],[0.2222222222222222,\"#7201a8\"],[0.3333333333333333,\"#9c179e\"],[0.4444444444444444,\"#bd3786\"],[0.5555555555555556,\"#d8576b\"],[0.6666666666666666,\"#ed7953\"],[0.7777777777777778,\"#fb9f3a\"],[0.8888888888888888,\"#fdca26\"],[1.0,\"#f0f921\"]]}],\"surface\":[{\"type\":\"surface\",\"colorbar\":{\"outlinewidth\":0,\"ticks\":\"\"},\"colorscale\":[[0.0,\"#0d0887\"],[0.1111111111111111,\"#46039f\"],[0.2222222222222222,\"#7201a8\"],[0.3333333333333333,\"#9c179e\"],[0.4444444444444444,\"#bd3786\"],[0.5555555555555556,\"#d8576b\"],[0.6666666666666666,\"#ed7953\"],[0.7777777777777778,\"#fb9f3a\"],[0.8888888888888888,\"#fdca26\"],[1.0,\"#f0f921\"]]}],\"mesh3d\":[{\"type\":\"mesh3d\",\"colorbar\":{\"outlinewidth\":0,\"ticks\":\"\"}}],\"scatter\":[{\"fillpattern\":{\"fillmode\":\"overlay\",\"size\":10,\"solidity\":0.2},\"type\":\"scatter\"}],\"parcoords\":[{\"type\":\"parcoords\",\"line\":{\"colorbar\":{\"outlinewidth\":0,\"ticks\":\"\"}}}],\"scatterpolargl\":[{\"type\":\"scatterpolargl\",\"marker\":{\"colorbar\":{\"outlinewidth\":0,\"ticks\":\"\"}}}],\"bar\":[{\"error_x\":{\"color\":\"#2a3f5f\"},\"error_y\":{\"color\":\"#2a3f5f\"},\"marker\":{\"line\":{\"color\":\"#E5ECF6\",\"width\":0.5},\"pattern\":{\"fillmode\":\"overlay\",\"size\":10,\"solidity\":0.2}},\"type\":\"bar\"}],\"scattergeo\":[{\"type\":\"scattergeo\",\"marker\":{\"colorbar\":{\"outlinewidth\":0,\"ticks\":\"\"}}}],\"scatterpolar\":[{\"type\":\"scatterpolar\",\"marker\":{\"colorbar\":{\"outlinewidth\":0,\"ticks\":\"\"}}}],\"histogram\":[{\"marker\":{\"pattern\":{\"fillmode\":\"overlay\",\"size\":10,\"solidity\":0.2}},\"type\":\"histogram\"}],\"scattergl\":[{\"type\":\"scattergl\",\"marker\":{\"colorbar\":{\"outlinewidth\":0,\"ticks\":\"\"}}}],\"scatter3d\":[{\"type\":\"scatter3d\",\"line\":{\"colorbar\":{\"outlinewidth\":0,\"ticks\":\"\"}},\"marker\":{\"colorbar\":{\"outlinewidth\":0,\"ticks\":\"\"}}}],\"scattermapbox\":[{\"type\":\"scattermapbox\",\"marker\":{\"colorbar\":{\"outlinewidth\":0,\"ticks\":\"\"}}}],\"scatterternary\":[{\"type\":\"scatterternary\",\"marker\":{\"colorbar\":{\"outlinewidth\":0,\"ticks\":\"\"}}}],\"scattercarpet\":[{\"type\":\"scattercarpet\",\"marker\":{\"colorbar\":{\"outlinewidth\":0,\"ticks\":\"\"}}}],\"carpet\":[{\"aaxis\":{\"endlinecolor\":\"#2a3f5f\",\"gridcolor\":\"white\",\"linecolor\":\"white\",\"minorgridcolor\":\"white\",\"startlinecolor\":\"#2a3f5f\"},\"baxis\":{\"endlinecolor\":\"#2a3f5f\",\"gridcolor\":\"white\",\"linecolor\":\"white\",\"minorgridcolor\":\"white\",\"startlinecolor\":\"#2a3f5f\"},\"type\":\"carpet\"}],\"table\":[{\"cells\":{\"fill\":{\"color\":\"#EBF0F8\"},\"line\":{\"color\":\"white\"}},\"header\":{\"fill\":{\"color\":\"#C8D4E3\"},\"line\":{\"color\":\"white\"}},\"type\":\"table\"}],\"barpolar\":[{\"marker\":{\"line\":{\"color\":\"#E5ECF6\",\"width\":0.5},\"pattern\":{\"fillmode\":\"overlay\",\"size\":10,\"solidity\":0.2}},\"type\":\"barpolar\"}],\"pie\":[{\"automargin\":true,\"type\":\"pie\"}]},\"layout\":{\"autotypenumbers\":\"strict\",\"colorway\":[\"#636efa\",\"#EF553B\",\"#00cc96\",\"#ab63fa\",\"#FFA15A\",\"#19d3f3\",\"#FF6692\",\"#B6E880\",\"#FF97FF\",\"#FECB52\"],\"font\":{\"color\":\"#2a3f5f\"},\"hovermode\":\"closest\",\"hoverlabel\":{\"align\":\"left\"},\"paper_bgcolor\":\"white\",\"plot_bgcolor\":\"#E5ECF6\",\"polar\":{\"bgcolor\":\"#E5ECF6\",\"angularaxis\":{\"gridcolor\":\"white\",\"linecolor\":\"white\",\"ticks\":\"\"},\"radialaxis\":{\"gridcolor\":\"white\",\"linecolor\":\"white\",\"ticks\":\"\"}},\"ternary\":{\"bgcolor\":\"#E5ECF6\",\"aaxis\":{\"gridcolor\":\"white\",\"linecolor\":\"white\",\"ticks\":\"\"},\"baxis\":{\"gridcolor\":\"white\",\"linecolor\":\"white\",\"ticks\":\"\"},\"caxis\":{\"gridcolor\":\"white\",\"linecolor\":\"white\",\"ticks\":\"\"}},\"coloraxis\":{\"colorbar\":{\"outlinewidth\":0,\"ticks\":\"\"}},\"colorscale\":{\"sequential\":[[0.0,\"#0d0887\"],[0.1111111111111111,\"#46039f\"],[0.2222222222222222,\"#7201a8\"],[0.3333333333333333,\"#9c179e\"],[0.4444444444444444,\"#bd3786\"],[0.5555555555555556,\"#d8576b\"],[0.6666666666666666,\"#ed7953\"],[0.7777777777777778,\"#fb9f3a\"],[0.8888888888888888,\"#fdca26\"],[1.0,\"#f0f921\"]],\"sequentialminus\":[[0.0,\"#0d0887\"],[0.1111111111111111,\"#46039f\"],[0.2222222222222222,\"#7201a8\"],[0.3333333333333333,\"#9c179e\"],[0.4444444444444444,\"#bd3786\"],[0.5555555555555556,\"#d8576b\"],[0.6666666666666666,\"#ed7953\"],[0.7777777777777778,\"#fb9f3a\"],[0.8888888888888888,\"#fdca26\"],[1.0,\"#f0f921\"]],\"diverging\":[[0,\"#8e0152\"],[0.1,\"#c51b7d\"],[0.2,\"#de77ae\"],[0.3,\"#f1b6da\"],[0.4,\"#fde0ef\"],[0.5,\"#f7f7f7\"],[0.6,\"#e6f5d0\"],[0.7,\"#b8e186\"],[0.8,\"#7fbc41\"],[0.9,\"#4d9221\"],[1,\"#276419\"]]},\"xaxis\":{\"gridcolor\":\"white\",\"linecolor\":\"white\",\"ticks\":\"\",\"title\":{\"standoff\":15},\"zerolinecolor\":\"white\",\"automargin\":true,\"zerolinewidth\":2},\"yaxis\":{\"gridcolor\":\"white\",\"linecolor\":\"white\",\"ticks\":\"\",\"title\":{\"standoff\":15},\"zerolinecolor\":\"white\",\"automargin\":true,\"zerolinewidth\":2},\"scene\":{\"xaxis\":{\"backgroundcolor\":\"#E5ECF6\",\"gridcolor\":\"white\",\"linecolor\":\"white\",\"showbackground\":true,\"ticks\":\"\",\"zerolinecolor\":\"white\",\"gridwidth\":2},\"yaxis\":{\"backgroundcolor\":\"#E5ECF6\",\"gridcolor\":\"white\",\"linecolor\":\"white\",\"showbackground\":true,\"ticks\":\"\",\"zerolinecolor\":\"white\",\"gridwidth\":2},\"zaxis\":{\"backgroundcolor\":\"#E5ECF6\",\"gridcolor\":\"white\",\"linecolor\":\"white\",\"showbackground\":true,\"ticks\":\"\",\"zerolinecolor\":\"white\",\"gridwidth\":2}},\"shapedefaults\":{\"line\":{\"color\":\"#2a3f5f\"}},\"annotationdefaults\":{\"arrowcolor\":\"#2a3f5f\",\"arrowhead\":0,\"arrowwidth\":1},\"geo\":{\"bgcolor\":\"white\",\"landcolor\":\"#E5ECF6\",\"subunitcolor\":\"white\",\"showland\":true,\"showlakes\":true,\"lakecolor\":\"white\"},\"title\":{\"x\":0.05},\"mapbox\":{\"style\":\"light\"}}},\"xaxis\":{\"anchor\":\"y\",\"domain\":[0.0,1.0],\"title\":{\"text\":\"Caste\"}},\"yaxis\":{\"anchor\":\"x\",\"domain\":[0.0,1.0],\"title\":{\"text\":\"Count\"}},\"legend\":{\"title\":{\"text\":\"Category\"},\"tracegroupgap\":0},\"margin\":{\"t\":60},\"barmode\":\"group\",\"font\":{\"family\":\"Courier New\",\"color\":\"#351f39\"},\"title\":{\"font\":{\"family\":\"Courier New\",\"color\":\"#351f39\"},\"text\":\"Caste distribution of candidates\"}},                        {\"responsive\": true}                    ).then(function(){\n",
       "                            \n",
       "var gd = document.getElementById('ffbce152-3c83-4570-89e4-11f23849c34f');\n",
       "var x = new MutationObserver(function (mutations, observer) {{\n",
       "        var display = window.getComputedStyle(gd).display;\n",
       "        if (!display || display === 'none') {{\n",
       "            console.log([gd, 'removed!']);\n",
       "            Plotly.purge(gd);\n",
       "            observer.disconnect();\n",
       "        }}\n",
       "}});\n",
       "\n",
       "// Listen for the removal of the full notebook cells\n",
       "var notebookContainer = gd.closest('#notebook-container');\n",
       "if (notebookContainer) {{\n",
       "    x.observe(notebookContainer, {childList: true});\n",
       "}}\n",
       "\n",
       "// Listen for the clearing of the current output cell\n",
       "var outputEl = gd.closest('.output');\n",
       "if (outputEl) {{\n",
       "    x.observe(outputEl, {childList: true});\n",
       "}}\n",
       "\n",
       "                        })                };                });            </script>        </div>"
      ]
     },
     "metadata": {},
     "output_type": "display_data"
    }
   ],
   "source": [
    "# Create a dataframe containing the caste distribution of winners\n",
    "winner_caste = df[df['WINNER'] == 1].groupby('CATEGORY')['WINNER'].size()\n",
    "winner_caste_df = pd.DataFrame(data=winner_caste)\n",
    "winner_caste_df.reset_index(level=0, inplace=True)\n",
    "winner_caste_df['Category'] = 'Winner'\n",
    "\n",
    "# Create a dataframe containing the caste distribution of total number of candidates\n",
    "total_caste = df.groupby('CATEGORY').size()\n",
    "total_caste_df = pd.DataFrame(data=total_caste)\n",
    "total_caste_df.reset_index(level=0, inplace=True)\n",
    "total_caste_df['Category'] = 'Total'\n",
    "total_caste_df.rename(columns={0: \"WINNER\"}, inplace=True)\n",
    "\n",
    "# Concatenate the two dataframes\n",
    "winner_caste_df = pd.concat((winner_caste_df, total_caste_df))\n",
    "\n",
    "# Visualize the results\n",
    "caste_fig = px.bar(winner_caste_df, \n",
    "                   x='CATEGORY', \n",
    "                   y='WINNER',\n",
    "                   color='Category', \n",
    "                   barmode='group')\n",
    "caste_fig.update_layout(font_family=\"Courier New\",\n",
    "                        font_color=\"#351f39\",\n",
    "                        title_text='Caste distribution of candidates',\n",
    "                        title_font_family=\"Courier New\",\n",
    "                        title_font_color=\"#351f39\",\n",
    "                        xaxis_title='Caste',\n",
    "                        yaxis_title='Count')\n",
    "caste_fig.show()"
   ]
  },
  {
   "cell_type": "code",
   "execution_count": 107,
   "metadata": {},
   "outputs": [
    {
     "name": "stderr",
     "output_type": "stream",
     "text": [
      "C:\\Users\\Hp\\AppData\\Local\\Packages\\PythonSoftwareFoundation.Python.3.11_qbz5n2kfra8p0\\LocalCache\\local-packages\\Python311\\site-packages\\plotly\\express\\_core.py:2065: FutureWarning:\n",
      "\n",
      "When grouping with a length-1 list-like, you will need to pass a length-1 tuple to get_group in a future version of pandas. Pass `(name,)` instead of `name` to silence this warning.\n",
      "\n"
     ]
    },
    {
     "data": {
      "application/vnd.plotly.v1+json": {
       "config": {
        "plotlyServerURL": "https://plot.ly"
       },
       "data": [
        {
         "hovertemplate": "PARTY=%{x}<br>CRIMINAL CASES=%{marker.size}<extra></extra>",
         "legendgroup": "BJP",
         "marker": {
          "color": "#636efa",
          "size": [
           480
          ],
          "sizemode": "area",
          "sizeref": 1.2,
          "symbol": "circle"
         },
         "mode": "markers",
         "name": "BJP",
         "orientation": "v",
         "showlegend": true,
         "type": "scatter",
         "x": [
          "BJP"
         ],
         "xaxis": "x",
         "y": [
          480
         ],
         "yaxis": "y"
        },
        {
         "hovertemplate": "PARTY=%{x}<br>CRIMINAL CASES=%{marker.size}<extra></extra>",
         "legendgroup": "INC",
         "marker": {
          "color": "#EF553B",
          "size": [
           320
          ],
          "sizemode": "area",
          "sizeref": 1.2,
          "symbol": "circle"
         },
         "mode": "markers",
         "name": "INC",
         "orientation": "v",
         "showlegend": true,
         "type": "scatter",
         "x": [
          "INC"
         ],
         "xaxis": "x",
         "y": [
          320
         ],
         "yaxis": "y"
        },
        {
         "hovertemplate": "PARTY=%{x}<br>CRIMINAL CASES=%{marker.size}<extra></extra>",
         "legendgroup": "IND",
         "marker": {
          "color": "#00cc96",
          "size": [
           88
          ],
          "sizemode": "area",
          "sizeref": 1.2,
          "symbol": "circle"
         },
         "mode": "markers",
         "name": "IND",
         "orientation": "v",
         "showlegend": true,
         "type": "scatter",
         "x": [
          "IND"
         ],
         "xaxis": "x",
         "y": [
          88
         ],
         "yaxis": "y"
        },
        {
         "hovertemplate": "PARTY=%{x}<br>CRIMINAL CASES=%{marker.size}<extra></extra>",
         "legendgroup": "SP",
         "marker": {
          "color": "#ab63fa",
          "size": [
           85
          ],
          "sizemode": "area",
          "sizeref": 1.2,
          "symbol": "circle"
         },
         "mode": "markers",
         "name": "SP",
         "orientation": "v",
         "showlegend": true,
         "type": "scatter",
         "x": [
          "SP"
         ],
         "xaxis": "x",
         "y": [
          85
         ],
         "yaxis": "y"
        },
        {
         "hovertemplate": "PARTY=%{x}<br>CRIMINAL CASES=%{marker.size}<extra></extra>",
         "legendgroup": "DMK",
         "marker": {
          "color": "#FFA15A",
          "size": [
           54
          ],
          "sizemode": "area",
          "sizeref": 1.2,
          "symbol": "circle"
         },
         "mode": "markers",
         "name": "DMK",
         "orientation": "v",
         "showlegend": true,
         "type": "scatter",
         "x": [
          "DMK"
         ],
         "xaxis": "x",
         "y": [
          54
         ],
         "yaxis": "y"
        },
        {
         "hovertemplate": "PARTY=%{x}<br>CRIMINAL CASES=%{marker.size}<extra></extra>",
         "legendgroup": "TDP",
         "marker": {
          "color": "#19d3f3",
          "size": [
           39
          ],
          "sizemode": "area",
          "sizeref": 1.2,
          "symbol": "circle"
         },
         "mode": "markers",
         "name": "TDP",
         "orientation": "v",
         "showlegend": true,
         "type": "scatter",
         "x": [
          "TDP"
         ],
         "xaxis": "x",
         "y": [
          39
         ],
         "yaxis": "y"
        },
        {
         "hovertemplate": "PARTY=%{x}<br>CRIMINAL CASES=%{marker.size}<extra></extra>",
         "legendgroup": "NCPSP",
         "marker": {
          "color": "#FF6692",
          "size": [
           38
          ],
          "sizemode": "area",
          "sizeref": 1.2,
          "symbol": "circle"
         },
         "mode": "markers",
         "name": "NCPSP",
         "orientation": "v",
         "showlegend": true,
         "type": "scatter",
         "x": [
          "NCPSP"
         ],
         "xaxis": "x",
         "y": [
          38
         ],
         "yaxis": "y"
        },
        {
         "hovertemplate": "PARTY=%{x}<br>CRIMINAL CASES=%{marker.size}<extra></extra>",
         "legendgroup": "ASPKR",
         "marker": {
          "color": "#B6E880",
          "size": [
           36
          ],
          "sizemode": "area",
          "sizeref": 1.2,
          "symbol": "circle"
         },
         "mode": "markers",
         "name": "ASPKR",
         "orientation": "v",
         "showlegend": true,
         "type": "scatter",
         "x": [
          "ASPKR"
         ],
         "xaxis": "x",
         "y": [
          36
         ],
         "yaxis": "y"
        },
        {
         "hovertemplate": "PARTY=%{x}<br>CRIMINAL CASES=%{marker.size}<extra></extra>",
         "legendgroup": "RJD",
         "marker": {
          "color": "#FF97FF",
          "size": [
           32
          ],
          "sizemode": "area",
          "sizeref": 1.2,
          "symbol": "circle"
         },
         "mode": "markers",
         "name": "RJD",
         "orientation": "v",
         "showlegend": true,
         "type": "scatter",
         "x": [
          "RJD"
         ],
         "xaxis": "x",
         "y": [
          32
         ],
         "yaxis": "y"
        },
        {
         "hovertemplate": "PARTY=%{x}<br>CRIMINAL CASES=%{marker.size}<extra></extra>",
         "legendgroup": "AITC",
         "marker": {
          "color": "#FECB52",
          "size": [
           17
          ],
          "sizemode": "area",
          "sizeref": 1.2,
          "symbol": "circle"
         },
         "mode": "markers",
         "name": "AITC",
         "orientation": "v",
         "showlegend": true,
         "type": "scatter",
         "x": [
          "AITC"
         ],
         "xaxis": "x",
         "y": [
          17
         ],
         "yaxis": "y"
        }
       ],
       "layout": {
        "font": {
         "color": "#351f39",
         "family": "Courier New"
        },
        "legend": {
         "itemsizing": "constant",
         "title": {
          "text": "PARTY"
         },
         "tracegroupgap": 0
        },
        "margin": {
         "t": 60
        },
        "template": {
         "data": {
          "bar": [
           {
            "error_x": {
             "color": "#2a3f5f"
            },
            "error_y": {
             "color": "#2a3f5f"
            },
            "marker": {
             "line": {
              "color": "#E5ECF6",
              "width": 0.5
             },
             "pattern": {
              "fillmode": "overlay",
              "size": 10,
              "solidity": 0.2
             }
            },
            "type": "bar"
           }
          ],
          "barpolar": [
           {
            "marker": {
             "line": {
              "color": "#E5ECF6",
              "width": 0.5
             },
             "pattern": {
              "fillmode": "overlay",
              "size": 10,
              "solidity": 0.2
             }
            },
            "type": "barpolar"
           }
          ],
          "carpet": [
           {
            "aaxis": {
             "endlinecolor": "#2a3f5f",
             "gridcolor": "white",
             "linecolor": "white",
             "minorgridcolor": "white",
             "startlinecolor": "#2a3f5f"
            },
            "baxis": {
             "endlinecolor": "#2a3f5f",
             "gridcolor": "white",
             "linecolor": "white",
             "minorgridcolor": "white",
             "startlinecolor": "#2a3f5f"
            },
            "type": "carpet"
           }
          ],
          "choropleth": [
           {
            "colorbar": {
             "outlinewidth": 0,
             "ticks": ""
            },
            "type": "choropleth"
           }
          ],
          "contour": [
           {
            "colorbar": {
             "outlinewidth": 0,
             "ticks": ""
            },
            "colorscale": [
             [
              0,
              "#0d0887"
             ],
             [
              0.1111111111111111,
              "#46039f"
             ],
             [
              0.2222222222222222,
              "#7201a8"
             ],
             [
              0.3333333333333333,
              "#9c179e"
             ],
             [
              0.4444444444444444,
              "#bd3786"
             ],
             [
              0.5555555555555556,
              "#d8576b"
             ],
             [
              0.6666666666666666,
              "#ed7953"
             ],
             [
              0.7777777777777778,
              "#fb9f3a"
             ],
             [
              0.8888888888888888,
              "#fdca26"
             ],
             [
              1,
              "#f0f921"
             ]
            ],
            "type": "contour"
           }
          ],
          "contourcarpet": [
           {
            "colorbar": {
             "outlinewidth": 0,
             "ticks": ""
            },
            "type": "contourcarpet"
           }
          ],
          "heatmap": [
           {
            "colorbar": {
             "outlinewidth": 0,
             "ticks": ""
            },
            "colorscale": [
             [
              0,
              "#0d0887"
             ],
             [
              0.1111111111111111,
              "#46039f"
             ],
             [
              0.2222222222222222,
              "#7201a8"
             ],
             [
              0.3333333333333333,
              "#9c179e"
             ],
             [
              0.4444444444444444,
              "#bd3786"
             ],
             [
              0.5555555555555556,
              "#d8576b"
             ],
             [
              0.6666666666666666,
              "#ed7953"
             ],
             [
              0.7777777777777778,
              "#fb9f3a"
             ],
             [
              0.8888888888888888,
              "#fdca26"
             ],
             [
              1,
              "#f0f921"
             ]
            ],
            "type": "heatmap"
           }
          ],
          "heatmapgl": [
           {
            "colorbar": {
             "outlinewidth": 0,
             "ticks": ""
            },
            "colorscale": [
             [
              0,
              "#0d0887"
             ],
             [
              0.1111111111111111,
              "#46039f"
             ],
             [
              0.2222222222222222,
              "#7201a8"
             ],
             [
              0.3333333333333333,
              "#9c179e"
             ],
             [
              0.4444444444444444,
              "#bd3786"
             ],
             [
              0.5555555555555556,
              "#d8576b"
             ],
             [
              0.6666666666666666,
              "#ed7953"
             ],
             [
              0.7777777777777778,
              "#fb9f3a"
             ],
             [
              0.8888888888888888,
              "#fdca26"
             ],
             [
              1,
              "#f0f921"
             ]
            ],
            "type": "heatmapgl"
           }
          ],
          "histogram": [
           {
            "marker": {
             "pattern": {
              "fillmode": "overlay",
              "size": 10,
              "solidity": 0.2
             }
            },
            "type": "histogram"
           }
          ],
          "histogram2d": [
           {
            "colorbar": {
             "outlinewidth": 0,
             "ticks": ""
            },
            "colorscale": [
             [
              0,
              "#0d0887"
             ],
             [
              0.1111111111111111,
              "#46039f"
             ],
             [
              0.2222222222222222,
              "#7201a8"
             ],
             [
              0.3333333333333333,
              "#9c179e"
             ],
             [
              0.4444444444444444,
              "#bd3786"
             ],
             [
              0.5555555555555556,
              "#d8576b"
             ],
             [
              0.6666666666666666,
              "#ed7953"
             ],
             [
              0.7777777777777778,
              "#fb9f3a"
             ],
             [
              0.8888888888888888,
              "#fdca26"
             ],
             [
              1,
              "#f0f921"
             ]
            ],
            "type": "histogram2d"
           }
          ],
          "histogram2dcontour": [
           {
            "colorbar": {
             "outlinewidth": 0,
             "ticks": ""
            },
            "colorscale": [
             [
              0,
              "#0d0887"
             ],
             [
              0.1111111111111111,
              "#46039f"
             ],
             [
              0.2222222222222222,
              "#7201a8"
             ],
             [
              0.3333333333333333,
              "#9c179e"
             ],
             [
              0.4444444444444444,
              "#bd3786"
             ],
             [
              0.5555555555555556,
              "#d8576b"
             ],
             [
              0.6666666666666666,
              "#ed7953"
             ],
             [
              0.7777777777777778,
              "#fb9f3a"
             ],
             [
              0.8888888888888888,
              "#fdca26"
             ],
             [
              1,
              "#f0f921"
             ]
            ],
            "type": "histogram2dcontour"
           }
          ],
          "mesh3d": [
           {
            "colorbar": {
             "outlinewidth": 0,
             "ticks": ""
            },
            "type": "mesh3d"
           }
          ],
          "parcoords": [
           {
            "line": {
             "colorbar": {
              "outlinewidth": 0,
              "ticks": ""
             }
            },
            "type": "parcoords"
           }
          ],
          "pie": [
           {
            "automargin": true,
            "type": "pie"
           }
          ],
          "scatter": [
           {
            "fillpattern": {
             "fillmode": "overlay",
             "size": 10,
             "solidity": 0.2
            },
            "type": "scatter"
           }
          ],
          "scatter3d": [
           {
            "line": {
             "colorbar": {
              "outlinewidth": 0,
              "ticks": ""
             }
            },
            "marker": {
             "colorbar": {
              "outlinewidth": 0,
              "ticks": ""
             }
            },
            "type": "scatter3d"
           }
          ],
          "scattercarpet": [
           {
            "marker": {
             "colorbar": {
              "outlinewidth": 0,
              "ticks": ""
             }
            },
            "type": "scattercarpet"
           }
          ],
          "scattergeo": [
           {
            "marker": {
             "colorbar": {
              "outlinewidth": 0,
              "ticks": ""
             }
            },
            "type": "scattergeo"
           }
          ],
          "scattergl": [
           {
            "marker": {
             "colorbar": {
              "outlinewidth": 0,
              "ticks": ""
             }
            },
            "type": "scattergl"
           }
          ],
          "scattermapbox": [
           {
            "marker": {
             "colorbar": {
              "outlinewidth": 0,
              "ticks": ""
             }
            },
            "type": "scattermapbox"
           }
          ],
          "scatterpolar": [
           {
            "marker": {
             "colorbar": {
              "outlinewidth": 0,
              "ticks": ""
             }
            },
            "type": "scatterpolar"
           }
          ],
          "scatterpolargl": [
           {
            "marker": {
             "colorbar": {
              "outlinewidth": 0,
              "ticks": ""
             }
            },
            "type": "scatterpolargl"
           }
          ],
          "scatterternary": [
           {
            "marker": {
             "colorbar": {
              "outlinewidth": 0,
              "ticks": ""
             }
            },
            "type": "scatterternary"
           }
          ],
          "surface": [
           {
            "colorbar": {
             "outlinewidth": 0,
             "ticks": ""
            },
            "colorscale": [
             [
              0,
              "#0d0887"
             ],
             [
              0.1111111111111111,
              "#46039f"
             ],
             [
              0.2222222222222222,
              "#7201a8"
             ],
             [
              0.3333333333333333,
              "#9c179e"
             ],
             [
              0.4444444444444444,
              "#bd3786"
             ],
             [
              0.5555555555555556,
              "#d8576b"
             ],
             [
              0.6666666666666666,
              "#ed7953"
             ],
             [
              0.7777777777777778,
              "#fb9f3a"
             ],
             [
              0.8888888888888888,
              "#fdca26"
             ],
             [
              1,
              "#f0f921"
             ]
            ],
            "type": "surface"
           }
          ],
          "table": [
           {
            "cells": {
             "fill": {
              "color": "#EBF0F8"
             },
             "line": {
              "color": "white"
             }
            },
            "header": {
             "fill": {
              "color": "#C8D4E3"
             },
             "line": {
              "color": "white"
             }
            },
            "type": "table"
           }
          ]
         },
         "layout": {
          "annotationdefaults": {
           "arrowcolor": "#2a3f5f",
           "arrowhead": 0,
           "arrowwidth": 1
          },
          "autotypenumbers": "strict",
          "coloraxis": {
           "colorbar": {
            "outlinewidth": 0,
            "ticks": ""
           }
          },
          "colorscale": {
           "diverging": [
            [
             0,
             "#8e0152"
            ],
            [
             0.1,
             "#c51b7d"
            ],
            [
             0.2,
             "#de77ae"
            ],
            [
             0.3,
             "#f1b6da"
            ],
            [
             0.4,
             "#fde0ef"
            ],
            [
             0.5,
             "#f7f7f7"
            ],
            [
             0.6,
             "#e6f5d0"
            ],
            [
             0.7,
             "#b8e186"
            ],
            [
             0.8,
             "#7fbc41"
            ],
            [
             0.9,
             "#4d9221"
            ],
            [
             1,
             "#276419"
            ]
           ],
           "sequential": [
            [
             0,
             "#0d0887"
            ],
            [
             0.1111111111111111,
             "#46039f"
            ],
            [
             0.2222222222222222,
             "#7201a8"
            ],
            [
             0.3333333333333333,
             "#9c179e"
            ],
            [
             0.4444444444444444,
             "#bd3786"
            ],
            [
             0.5555555555555556,
             "#d8576b"
            ],
            [
             0.6666666666666666,
             "#ed7953"
            ],
            [
             0.7777777777777778,
             "#fb9f3a"
            ],
            [
             0.8888888888888888,
             "#fdca26"
            ],
            [
             1,
             "#f0f921"
            ]
           ],
           "sequentialminus": [
            [
             0,
             "#0d0887"
            ],
            [
             0.1111111111111111,
             "#46039f"
            ],
            [
             0.2222222222222222,
             "#7201a8"
            ],
            [
             0.3333333333333333,
             "#9c179e"
            ],
            [
             0.4444444444444444,
             "#bd3786"
            ],
            [
             0.5555555555555556,
             "#d8576b"
            ],
            [
             0.6666666666666666,
             "#ed7953"
            ],
            [
             0.7777777777777778,
             "#fb9f3a"
            ],
            [
             0.8888888888888888,
             "#fdca26"
            ],
            [
             1,
             "#f0f921"
            ]
           ]
          },
          "colorway": [
           "#636efa",
           "#EF553B",
           "#00cc96",
           "#ab63fa",
           "#FFA15A",
           "#19d3f3",
           "#FF6692",
           "#B6E880",
           "#FF97FF",
           "#FECB52"
          ],
          "font": {
           "color": "#2a3f5f"
          },
          "geo": {
           "bgcolor": "white",
           "lakecolor": "white",
           "landcolor": "#E5ECF6",
           "showlakes": true,
           "showland": true,
           "subunitcolor": "white"
          },
          "hoverlabel": {
           "align": "left"
          },
          "hovermode": "closest",
          "mapbox": {
           "style": "light"
          },
          "paper_bgcolor": "white",
          "plot_bgcolor": "#E5ECF6",
          "polar": {
           "angularaxis": {
            "gridcolor": "white",
            "linecolor": "white",
            "ticks": ""
           },
           "bgcolor": "#E5ECF6",
           "radialaxis": {
            "gridcolor": "white",
            "linecolor": "white",
            "ticks": ""
           }
          },
          "scene": {
           "xaxis": {
            "backgroundcolor": "#E5ECF6",
            "gridcolor": "white",
            "gridwidth": 2,
            "linecolor": "white",
            "showbackground": true,
            "ticks": "",
            "zerolinecolor": "white"
           },
           "yaxis": {
            "backgroundcolor": "#E5ECF6",
            "gridcolor": "white",
            "gridwidth": 2,
            "linecolor": "white",
            "showbackground": true,
            "ticks": "",
            "zerolinecolor": "white"
           },
           "zaxis": {
            "backgroundcolor": "#E5ECF6",
            "gridcolor": "white",
            "gridwidth": 2,
            "linecolor": "white",
            "showbackground": true,
            "ticks": "",
            "zerolinecolor": "white"
           }
          },
          "shapedefaults": {
           "line": {
            "color": "#2a3f5f"
           }
          },
          "ternary": {
           "aaxis": {
            "gridcolor": "white",
            "linecolor": "white",
            "ticks": ""
           },
           "baxis": {
            "gridcolor": "white",
            "linecolor": "white",
            "ticks": ""
           },
           "bgcolor": "#E5ECF6",
           "caxis": {
            "gridcolor": "white",
            "linecolor": "white",
            "ticks": ""
           }
          },
          "title": {
           "x": 0.05
          },
          "xaxis": {
           "automargin": true,
           "gridcolor": "white",
           "linecolor": "white",
           "ticks": "",
           "title": {
            "standoff": 15
           },
           "zerolinecolor": "white",
           "zerolinewidth": 2
          },
          "yaxis": {
           "automargin": true,
           "gridcolor": "white",
           "linecolor": "white",
           "ticks": "",
           "title": {
            "standoff": 15
           },
           "zerolinecolor": "white",
           "zerolinewidth": 2
          }
         }
        },
        "title": {
         "font": {
          "color": "#351f39",
          "family": "Courier New"
         },
         "text": "Top 10 Party-wise criminal records"
        },
        "xaxis": {
         "anchor": "y",
         "categoryarray": [
          "BJP",
          "INC",
          "IND",
          "SP",
          "DMK",
          "TDP",
          "NCPSP",
          "ASPKR",
          "RJD",
          "AITC"
         ],
         "categoryorder": "array",
         "domain": [
          0,
          1
         ],
         "title": {
          "text": "Party"
         }
        },
        "yaxis": {
         "anchor": "x",
         "domain": [
          0,
          1
         ],
         "title": {
          "text": "Criminal Records"
         }
        }
       }
      },
      "text/html": [
       "<div>                            <div id=\"d1127dc3-d5e8-4276-adeb-d13f7b828ab8\" class=\"plotly-graph-div\" style=\"height:525px; width:100%;\"></div>            <script type=\"text/javascript\">                require([\"plotly\"], function(Plotly) {                    window.PLOTLYENV=window.PLOTLYENV || {};                                    if (document.getElementById(\"d1127dc3-d5e8-4276-adeb-d13f7b828ab8\")) {                    Plotly.newPlot(                        \"d1127dc3-d5e8-4276-adeb-d13f7b828ab8\",                        [{\"hovertemplate\":\"PARTY=%{x}\\u003cbr\\u003eCRIMINAL CASES=%{marker.size}\\u003cextra\\u003e\\u003c\\u002fextra\\u003e\",\"legendgroup\":\"BJP\",\"marker\":{\"color\":\"#636efa\",\"size\":[480],\"sizemode\":\"area\",\"sizeref\":1.2,\"symbol\":\"circle\"},\"mode\":\"markers\",\"name\":\"BJP\",\"orientation\":\"v\",\"showlegend\":true,\"x\":[\"BJP\"],\"xaxis\":\"x\",\"y\":[480],\"yaxis\":\"y\",\"type\":\"scatter\"},{\"hovertemplate\":\"PARTY=%{x}\\u003cbr\\u003eCRIMINAL CASES=%{marker.size}\\u003cextra\\u003e\\u003c\\u002fextra\\u003e\",\"legendgroup\":\"INC\",\"marker\":{\"color\":\"#EF553B\",\"size\":[320],\"sizemode\":\"area\",\"sizeref\":1.2,\"symbol\":\"circle\"},\"mode\":\"markers\",\"name\":\"INC\",\"orientation\":\"v\",\"showlegend\":true,\"x\":[\"INC\"],\"xaxis\":\"x\",\"y\":[320],\"yaxis\":\"y\",\"type\":\"scatter\"},{\"hovertemplate\":\"PARTY=%{x}\\u003cbr\\u003eCRIMINAL CASES=%{marker.size}\\u003cextra\\u003e\\u003c\\u002fextra\\u003e\",\"legendgroup\":\"IND\",\"marker\":{\"color\":\"#00cc96\",\"size\":[88],\"sizemode\":\"area\",\"sizeref\":1.2,\"symbol\":\"circle\"},\"mode\":\"markers\",\"name\":\"IND\",\"orientation\":\"v\",\"showlegend\":true,\"x\":[\"IND\"],\"xaxis\":\"x\",\"y\":[88],\"yaxis\":\"y\",\"type\":\"scatter\"},{\"hovertemplate\":\"PARTY=%{x}\\u003cbr\\u003eCRIMINAL CASES=%{marker.size}\\u003cextra\\u003e\\u003c\\u002fextra\\u003e\",\"legendgroup\":\"SP\",\"marker\":{\"color\":\"#ab63fa\",\"size\":[85],\"sizemode\":\"area\",\"sizeref\":1.2,\"symbol\":\"circle\"},\"mode\":\"markers\",\"name\":\"SP\",\"orientation\":\"v\",\"showlegend\":true,\"x\":[\"SP\"],\"xaxis\":\"x\",\"y\":[85],\"yaxis\":\"y\",\"type\":\"scatter\"},{\"hovertemplate\":\"PARTY=%{x}\\u003cbr\\u003eCRIMINAL CASES=%{marker.size}\\u003cextra\\u003e\\u003c\\u002fextra\\u003e\",\"legendgroup\":\"DMK\",\"marker\":{\"color\":\"#FFA15A\",\"size\":[54],\"sizemode\":\"area\",\"sizeref\":1.2,\"symbol\":\"circle\"},\"mode\":\"markers\",\"name\":\"DMK\",\"orientation\":\"v\",\"showlegend\":true,\"x\":[\"DMK\"],\"xaxis\":\"x\",\"y\":[54],\"yaxis\":\"y\",\"type\":\"scatter\"},{\"hovertemplate\":\"PARTY=%{x}\\u003cbr\\u003eCRIMINAL CASES=%{marker.size}\\u003cextra\\u003e\\u003c\\u002fextra\\u003e\",\"legendgroup\":\"TDP\",\"marker\":{\"color\":\"#19d3f3\",\"size\":[39],\"sizemode\":\"area\",\"sizeref\":1.2,\"symbol\":\"circle\"},\"mode\":\"markers\",\"name\":\"TDP\",\"orientation\":\"v\",\"showlegend\":true,\"x\":[\"TDP\"],\"xaxis\":\"x\",\"y\":[39],\"yaxis\":\"y\",\"type\":\"scatter\"},{\"hovertemplate\":\"PARTY=%{x}\\u003cbr\\u003eCRIMINAL CASES=%{marker.size}\\u003cextra\\u003e\\u003c\\u002fextra\\u003e\",\"legendgroup\":\"NCPSP\",\"marker\":{\"color\":\"#FF6692\",\"size\":[38],\"sizemode\":\"area\",\"sizeref\":1.2,\"symbol\":\"circle\"},\"mode\":\"markers\",\"name\":\"NCPSP\",\"orientation\":\"v\",\"showlegend\":true,\"x\":[\"NCPSP\"],\"xaxis\":\"x\",\"y\":[38],\"yaxis\":\"y\",\"type\":\"scatter\"},{\"hovertemplate\":\"PARTY=%{x}\\u003cbr\\u003eCRIMINAL CASES=%{marker.size}\\u003cextra\\u003e\\u003c\\u002fextra\\u003e\",\"legendgroup\":\"ASPKR\",\"marker\":{\"color\":\"#B6E880\",\"size\":[36],\"sizemode\":\"area\",\"sizeref\":1.2,\"symbol\":\"circle\"},\"mode\":\"markers\",\"name\":\"ASPKR\",\"orientation\":\"v\",\"showlegend\":true,\"x\":[\"ASPKR\"],\"xaxis\":\"x\",\"y\":[36],\"yaxis\":\"y\",\"type\":\"scatter\"},{\"hovertemplate\":\"PARTY=%{x}\\u003cbr\\u003eCRIMINAL CASES=%{marker.size}\\u003cextra\\u003e\\u003c\\u002fextra\\u003e\",\"legendgroup\":\"RJD\",\"marker\":{\"color\":\"#FF97FF\",\"size\":[32],\"sizemode\":\"area\",\"sizeref\":1.2,\"symbol\":\"circle\"},\"mode\":\"markers\",\"name\":\"RJD\",\"orientation\":\"v\",\"showlegend\":true,\"x\":[\"RJD\"],\"xaxis\":\"x\",\"y\":[32],\"yaxis\":\"y\",\"type\":\"scatter\"},{\"hovertemplate\":\"PARTY=%{x}\\u003cbr\\u003eCRIMINAL CASES=%{marker.size}\\u003cextra\\u003e\\u003c\\u002fextra\\u003e\",\"legendgroup\":\"AITC\",\"marker\":{\"color\":\"#FECB52\",\"size\":[17],\"sizemode\":\"area\",\"sizeref\":1.2,\"symbol\":\"circle\"},\"mode\":\"markers\",\"name\":\"AITC\",\"orientation\":\"v\",\"showlegend\":true,\"x\":[\"AITC\"],\"xaxis\":\"x\",\"y\":[17],\"yaxis\":\"y\",\"type\":\"scatter\"}],                        {\"template\":{\"data\":{\"histogram2dcontour\":[{\"type\":\"histogram2dcontour\",\"colorbar\":{\"outlinewidth\":0,\"ticks\":\"\"},\"colorscale\":[[0.0,\"#0d0887\"],[0.1111111111111111,\"#46039f\"],[0.2222222222222222,\"#7201a8\"],[0.3333333333333333,\"#9c179e\"],[0.4444444444444444,\"#bd3786\"],[0.5555555555555556,\"#d8576b\"],[0.6666666666666666,\"#ed7953\"],[0.7777777777777778,\"#fb9f3a\"],[0.8888888888888888,\"#fdca26\"],[1.0,\"#f0f921\"]]}],\"choropleth\":[{\"type\":\"choropleth\",\"colorbar\":{\"outlinewidth\":0,\"ticks\":\"\"}}],\"histogram2d\":[{\"type\":\"histogram2d\",\"colorbar\":{\"outlinewidth\":0,\"ticks\":\"\"},\"colorscale\":[[0.0,\"#0d0887\"],[0.1111111111111111,\"#46039f\"],[0.2222222222222222,\"#7201a8\"],[0.3333333333333333,\"#9c179e\"],[0.4444444444444444,\"#bd3786\"],[0.5555555555555556,\"#d8576b\"],[0.6666666666666666,\"#ed7953\"],[0.7777777777777778,\"#fb9f3a\"],[0.8888888888888888,\"#fdca26\"],[1.0,\"#f0f921\"]]}],\"heatmap\":[{\"type\":\"heatmap\",\"colorbar\":{\"outlinewidth\":0,\"ticks\":\"\"},\"colorscale\":[[0.0,\"#0d0887\"],[0.1111111111111111,\"#46039f\"],[0.2222222222222222,\"#7201a8\"],[0.3333333333333333,\"#9c179e\"],[0.4444444444444444,\"#bd3786\"],[0.5555555555555556,\"#d8576b\"],[0.6666666666666666,\"#ed7953\"],[0.7777777777777778,\"#fb9f3a\"],[0.8888888888888888,\"#fdca26\"],[1.0,\"#f0f921\"]]}],\"heatmapgl\":[{\"type\":\"heatmapgl\",\"colorbar\":{\"outlinewidth\":0,\"ticks\":\"\"},\"colorscale\":[[0.0,\"#0d0887\"],[0.1111111111111111,\"#46039f\"],[0.2222222222222222,\"#7201a8\"],[0.3333333333333333,\"#9c179e\"],[0.4444444444444444,\"#bd3786\"],[0.5555555555555556,\"#d8576b\"],[0.6666666666666666,\"#ed7953\"],[0.7777777777777778,\"#fb9f3a\"],[0.8888888888888888,\"#fdca26\"],[1.0,\"#f0f921\"]]}],\"contourcarpet\":[{\"type\":\"contourcarpet\",\"colorbar\":{\"outlinewidth\":0,\"ticks\":\"\"}}],\"contour\":[{\"type\":\"contour\",\"colorbar\":{\"outlinewidth\":0,\"ticks\":\"\"},\"colorscale\":[[0.0,\"#0d0887\"],[0.1111111111111111,\"#46039f\"],[0.2222222222222222,\"#7201a8\"],[0.3333333333333333,\"#9c179e\"],[0.4444444444444444,\"#bd3786\"],[0.5555555555555556,\"#d8576b\"],[0.6666666666666666,\"#ed7953\"],[0.7777777777777778,\"#fb9f3a\"],[0.8888888888888888,\"#fdca26\"],[1.0,\"#f0f921\"]]}],\"surface\":[{\"type\":\"surface\",\"colorbar\":{\"outlinewidth\":0,\"ticks\":\"\"},\"colorscale\":[[0.0,\"#0d0887\"],[0.1111111111111111,\"#46039f\"],[0.2222222222222222,\"#7201a8\"],[0.3333333333333333,\"#9c179e\"],[0.4444444444444444,\"#bd3786\"],[0.5555555555555556,\"#d8576b\"],[0.6666666666666666,\"#ed7953\"],[0.7777777777777778,\"#fb9f3a\"],[0.8888888888888888,\"#fdca26\"],[1.0,\"#f0f921\"]]}],\"mesh3d\":[{\"type\":\"mesh3d\",\"colorbar\":{\"outlinewidth\":0,\"ticks\":\"\"}}],\"scatter\":[{\"fillpattern\":{\"fillmode\":\"overlay\",\"size\":10,\"solidity\":0.2},\"type\":\"scatter\"}],\"parcoords\":[{\"type\":\"parcoords\",\"line\":{\"colorbar\":{\"outlinewidth\":0,\"ticks\":\"\"}}}],\"scatterpolargl\":[{\"type\":\"scatterpolargl\",\"marker\":{\"colorbar\":{\"outlinewidth\":0,\"ticks\":\"\"}}}],\"bar\":[{\"error_x\":{\"color\":\"#2a3f5f\"},\"error_y\":{\"color\":\"#2a3f5f\"},\"marker\":{\"line\":{\"color\":\"#E5ECF6\",\"width\":0.5},\"pattern\":{\"fillmode\":\"overlay\",\"size\":10,\"solidity\":0.2}},\"type\":\"bar\"}],\"scattergeo\":[{\"type\":\"scattergeo\",\"marker\":{\"colorbar\":{\"outlinewidth\":0,\"ticks\":\"\"}}}],\"scatterpolar\":[{\"type\":\"scatterpolar\",\"marker\":{\"colorbar\":{\"outlinewidth\":0,\"ticks\":\"\"}}}],\"histogram\":[{\"marker\":{\"pattern\":{\"fillmode\":\"overlay\",\"size\":10,\"solidity\":0.2}},\"type\":\"histogram\"}],\"scattergl\":[{\"type\":\"scattergl\",\"marker\":{\"colorbar\":{\"outlinewidth\":0,\"ticks\":\"\"}}}],\"scatter3d\":[{\"type\":\"scatter3d\",\"line\":{\"colorbar\":{\"outlinewidth\":0,\"ticks\":\"\"}},\"marker\":{\"colorbar\":{\"outlinewidth\":0,\"ticks\":\"\"}}}],\"scattermapbox\":[{\"type\":\"scattermapbox\",\"marker\":{\"colorbar\":{\"outlinewidth\":0,\"ticks\":\"\"}}}],\"scatterternary\":[{\"type\":\"scatterternary\",\"marker\":{\"colorbar\":{\"outlinewidth\":0,\"ticks\":\"\"}}}],\"scattercarpet\":[{\"type\":\"scattercarpet\",\"marker\":{\"colorbar\":{\"outlinewidth\":0,\"ticks\":\"\"}}}],\"carpet\":[{\"aaxis\":{\"endlinecolor\":\"#2a3f5f\",\"gridcolor\":\"white\",\"linecolor\":\"white\",\"minorgridcolor\":\"white\",\"startlinecolor\":\"#2a3f5f\"},\"baxis\":{\"endlinecolor\":\"#2a3f5f\",\"gridcolor\":\"white\",\"linecolor\":\"white\",\"minorgridcolor\":\"white\",\"startlinecolor\":\"#2a3f5f\"},\"type\":\"carpet\"}],\"table\":[{\"cells\":{\"fill\":{\"color\":\"#EBF0F8\"},\"line\":{\"color\":\"white\"}},\"header\":{\"fill\":{\"color\":\"#C8D4E3\"},\"line\":{\"color\":\"white\"}},\"type\":\"table\"}],\"barpolar\":[{\"marker\":{\"line\":{\"color\":\"#E5ECF6\",\"width\":0.5},\"pattern\":{\"fillmode\":\"overlay\",\"size\":10,\"solidity\":0.2}},\"type\":\"barpolar\"}],\"pie\":[{\"automargin\":true,\"type\":\"pie\"}]},\"layout\":{\"autotypenumbers\":\"strict\",\"colorway\":[\"#636efa\",\"#EF553B\",\"#00cc96\",\"#ab63fa\",\"#FFA15A\",\"#19d3f3\",\"#FF6692\",\"#B6E880\",\"#FF97FF\",\"#FECB52\"],\"font\":{\"color\":\"#2a3f5f\"},\"hovermode\":\"closest\",\"hoverlabel\":{\"align\":\"left\"},\"paper_bgcolor\":\"white\",\"plot_bgcolor\":\"#E5ECF6\",\"polar\":{\"bgcolor\":\"#E5ECF6\",\"angularaxis\":{\"gridcolor\":\"white\",\"linecolor\":\"white\",\"ticks\":\"\"},\"radialaxis\":{\"gridcolor\":\"white\",\"linecolor\":\"white\",\"ticks\":\"\"}},\"ternary\":{\"bgcolor\":\"#E5ECF6\",\"aaxis\":{\"gridcolor\":\"white\",\"linecolor\":\"white\",\"ticks\":\"\"},\"baxis\":{\"gridcolor\":\"white\",\"linecolor\":\"white\",\"ticks\":\"\"},\"caxis\":{\"gridcolor\":\"white\",\"linecolor\":\"white\",\"ticks\":\"\"}},\"coloraxis\":{\"colorbar\":{\"outlinewidth\":0,\"ticks\":\"\"}},\"colorscale\":{\"sequential\":[[0.0,\"#0d0887\"],[0.1111111111111111,\"#46039f\"],[0.2222222222222222,\"#7201a8\"],[0.3333333333333333,\"#9c179e\"],[0.4444444444444444,\"#bd3786\"],[0.5555555555555556,\"#d8576b\"],[0.6666666666666666,\"#ed7953\"],[0.7777777777777778,\"#fb9f3a\"],[0.8888888888888888,\"#fdca26\"],[1.0,\"#f0f921\"]],\"sequentialminus\":[[0.0,\"#0d0887\"],[0.1111111111111111,\"#46039f\"],[0.2222222222222222,\"#7201a8\"],[0.3333333333333333,\"#9c179e\"],[0.4444444444444444,\"#bd3786\"],[0.5555555555555556,\"#d8576b\"],[0.6666666666666666,\"#ed7953\"],[0.7777777777777778,\"#fb9f3a\"],[0.8888888888888888,\"#fdca26\"],[1.0,\"#f0f921\"]],\"diverging\":[[0,\"#8e0152\"],[0.1,\"#c51b7d\"],[0.2,\"#de77ae\"],[0.3,\"#f1b6da\"],[0.4,\"#fde0ef\"],[0.5,\"#f7f7f7\"],[0.6,\"#e6f5d0\"],[0.7,\"#b8e186\"],[0.8,\"#7fbc41\"],[0.9,\"#4d9221\"],[1,\"#276419\"]]},\"xaxis\":{\"gridcolor\":\"white\",\"linecolor\":\"white\",\"ticks\":\"\",\"title\":{\"standoff\":15},\"zerolinecolor\":\"white\",\"automargin\":true,\"zerolinewidth\":2},\"yaxis\":{\"gridcolor\":\"white\",\"linecolor\":\"white\",\"ticks\":\"\",\"title\":{\"standoff\":15},\"zerolinecolor\":\"white\",\"automargin\":true,\"zerolinewidth\":2},\"scene\":{\"xaxis\":{\"backgroundcolor\":\"#E5ECF6\",\"gridcolor\":\"white\",\"linecolor\":\"white\",\"showbackground\":true,\"ticks\":\"\",\"zerolinecolor\":\"white\",\"gridwidth\":2},\"yaxis\":{\"backgroundcolor\":\"#E5ECF6\",\"gridcolor\":\"white\",\"linecolor\":\"white\",\"showbackground\":true,\"ticks\":\"\",\"zerolinecolor\":\"white\",\"gridwidth\":2},\"zaxis\":{\"backgroundcolor\":\"#E5ECF6\",\"gridcolor\":\"white\",\"linecolor\":\"white\",\"showbackground\":true,\"ticks\":\"\",\"zerolinecolor\":\"white\",\"gridwidth\":2}},\"shapedefaults\":{\"line\":{\"color\":\"#2a3f5f\"}},\"annotationdefaults\":{\"arrowcolor\":\"#2a3f5f\",\"arrowhead\":0,\"arrowwidth\":1},\"geo\":{\"bgcolor\":\"white\",\"landcolor\":\"#E5ECF6\",\"subunitcolor\":\"white\",\"showland\":true,\"showlakes\":true,\"lakecolor\":\"white\"},\"title\":{\"x\":0.05},\"mapbox\":{\"style\":\"light\"}}},\"xaxis\":{\"anchor\":\"y\",\"domain\":[0.0,1.0],\"title\":{\"text\":\"Party\"},\"categoryorder\":\"array\",\"categoryarray\":[\"BJP\",\"INC\",\"IND\",\"SP\",\"DMK\",\"TDP\",\"NCPSP\",\"ASPKR\",\"RJD\",\"AITC\"]},\"yaxis\":{\"anchor\":\"x\",\"domain\":[0.0,1.0],\"title\":{\"text\":\"Criminal Records\"}},\"legend\":{\"title\":{\"text\":\"PARTY\"},\"tracegroupgap\":0,\"itemsizing\":\"constant\"},\"margin\":{\"t\":60},\"title\":{\"font\":{\"family\":\"Courier New\",\"color\":\"#351f39\"},\"text\":\"Top 10 Party-wise criminal records\"},\"font\":{\"family\":\"Courier New\",\"color\":\"#351f39\"}},                        {\"responsive\": true}                    ).then(function(){\n",
       "                            \n",
       "var gd = document.getElementById('d1127dc3-d5e8-4276-adeb-d13f7b828ab8');\n",
       "var x = new MutationObserver(function (mutations, observer) {{\n",
       "        var display = window.getComputedStyle(gd).display;\n",
       "        if (!display || display === 'none') {{\n",
       "            console.log([gd, 'removed!']);\n",
       "            Plotly.purge(gd);\n",
       "            observer.disconnect();\n",
       "        }}\n",
       "}});\n",
       "\n",
       "// Listen for the removal of the full notebook cells\n",
       "var notebookContainer = gd.closest('#notebook-container');\n",
       "if (notebookContainer) {{\n",
       "    x.observe(notebookContainer, {childList: true});\n",
       "}}\n",
       "\n",
       "// Listen for the clearing of the current output cell\n",
       "var outputEl = gd.closest('.output');\n",
       "if (outputEl) {{\n",
       "    x.observe(outputEl, {childList: true});\n",
       "}}\n",
       "\n",
       "                        })                };                });            </script>        </div>"
      ]
     },
     "metadata": {},
     "output_type": "display_data"
    }
   ],
   "source": [
    "# Create a dataframe of criminal records\n",
    "criminal_df = pd.DataFrame(data=df[df['WINNER'] == 1].groupby('PARTY')['CRIMINAL CASES'].sum())\n",
    "criminal_df.sort_values(by='CRIMINAL CASES', ascending=False, inplace=True)\n",
    "criminal_df.reset_index(level=0, inplace=True)\n",
    "criminal_df\n",
    "\n",
    "# Visualize the criminal records\n",
    "criminal_fig = px.scatter(criminal_df[:10], \n",
    "                 x='PARTY', \n",
    "                 y='CRIMINAL CASES', \n",
    "                 size='CRIMINAL CASES',\n",
    "                 color='PARTY',\n",
    "                 hover_data=['CRIMINAL CASES'])\n",
    "\n",
    "criminal_fig.update_layout(title_text='Top 10 Party-wise criminal records',\n",
    "                         font_family=\"Courier New\",\n",
    "                         font_color=\"#351f39\",\n",
    "                         title_font_family=\"Courier New\",\n",
    "                         title_font_color=\"#351f39\",\n",
    "                         xaxis_title=\"Party\",\n",
    "                         yaxis_title=\"Criminal Records\")\n",
    "\n",
    "criminal_fig.show()"
   ]
  },
  {
   "cell_type": "code",
   "execution_count": 108,
   "metadata": {
    "scrolled": true
   },
   "outputs": [
    {
     "data": {
      "text/html": [
       "<div>\n",
       "<style scoped>\n",
       "    .dataframe tbody tr th:only-of-type {\n",
       "        vertical-align: middle;\n",
       "    }\n",
       "\n",
       "    .dataframe tbody tr th {\n",
       "        vertical-align: top;\n",
       "    }\n",
       "\n",
       "    .dataframe thead th {\n",
       "        text-align: right;\n",
       "    }\n",
       "</style>\n",
       "<table border=\"1\" class=\"dataframe\">\n",
       "  <thead>\n",
       "    <tr style=\"text-align: right;\">\n",
       "      <th></th>\n",
       "      <th>STATE</th>\n",
       "      <th>CONSTITUENCY</th>\n",
       "      <th>NAME</th>\n",
       "      <th>WINNER</th>\n",
       "      <th>PARTY</th>\n",
       "      <th>SYMBOL</th>\n",
       "      <th>GENDER</th>\n",
       "      <th>CRIMINAL CASES</th>\n",
       "      <th>AGE</th>\n",
       "      <th>CATEGORY</th>\n",
       "      <th>...</th>\n",
       "      <th>ASSETS</th>\n",
       "      <th>LIABILITIES</th>\n",
       "      <th>GENERAL VOTES</th>\n",
       "      <th>POSTAL VOTES</th>\n",
       "      <th>TOTAL VOTES</th>\n",
       "      <th>TOTAL ELECTORS</th>\n",
       "      <th>TOTAL VOTING</th>\n",
       "      <th>OVER TOTAL ELECTORS IN CONSTITUENCY</th>\n",
       "      <th>OVER TOTAL VOTES POLLED IN CONSTITUENCY</th>\n",
       "      <th>Party New</th>\n",
       "    </tr>\n",
       "  </thead>\n",
       "  <tbody>\n",
       "    <tr>\n",
       "      <th>0</th>\n",
       "      <td>Andhra Pradesh</td>\n",
       "      <td>Araku</td>\n",
       "      <td>gumma thanuja rani</td>\n",
       "      <td>1</td>\n",
       "      <td>YSRCP</td>\n",
       "      <td>Ceiling fan</td>\n",
       "      <td>FEMALE</td>\n",
       "      <td>0</td>\n",
       "      <td>31.0</td>\n",
       "      <td>ST</td>\n",
       "      <td>...</td>\n",
       "      <td>2354678.0</td>\n",
       "      <td>0.0</td>\n",
       "      <td>471470</td>\n",
       "      <td>5535</td>\n",
       "      <td>477005</td>\n",
       "      <td>1557153</td>\n",
       "      <td>1113975</td>\n",
       "      <td>30.63</td>\n",
       "      <td>42.82</td>\n",
       "      <td>Other</td>\n",
       "    </tr>\n",
       "    <tr>\n",
       "      <th>1</th>\n",
       "      <td>Andhra Pradesh</td>\n",
       "      <td>Araku</td>\n",
       "      <td>kothapalli geetha</td>\n",
       "      <td>0</td>\n",
       "      <td>BJP</td>\n",
       "      <td>Lotus</td>\n",
       "      <td>FEMALE</td>\n",
       "      <td>2</td>\n",
       "      <td>53.0</td>\n",
       "      <td>ST</td>\n",
       "      <td>...</td>\n",
       "      <td>0.0</td>\n",
       "      <td>0.0</td>\n",
       "      <td>417113</td>\n",
       "      <td>9312</td>\n",
       "      <td>426425</td>\n",
       "      <td>1557153</td>\n",
       "      <td>1113975</td>\n",
       "      <td>27.38</td>\n",
       "      <td>38.28</td>\n",
       "      <td>BJP</td>\n",
       "    </tr>\n",
       "    <tr>\n",
       "      <th>2</th>\n",
       "      <td>Andhra Pradesh</td>\n",
       "      <td>Araku</td>\n",
       "      <td>appalanarasa pachipenta</td>\n",
       "      <td>0</td>\n",
       "      <td>CPI(M)</td>\n",
       "      <td>Hammer, Sickle and Star</td>\n",
       "      <td>MALE</td>\n",
       "      <td>4</td>\n",
       "      <td>41.0</td>\n",
       "      <td>ST</td>\n",
       "      <td>...</td>\n",
       "      <td>2925792.0</td>\n",
       "      <td>243125.0</td>\n",
       "      <td>119016</td>\n",
       "      <td>4113</td>\n",
       "      <td>123129</td>\n",
       "      <td>1557153</td>\n",
       "      <td>1113975</td>\n",
       "      <td>7.91</td>\n",
       "      <td>11.05</td>\n",
       "      <td>Other</td>\n",
       "    </tr>\n",
       "    <tr>\n",
       "      <th>3</th>\n",
       "      <td>Andhra Pradesh</td>\n",
       "      <td>Araku</td>\n",
       "      <td>avashya lahari . varam</td>\n",
       "      <td>0</td>\n",
       "      <td>BSP</td>\n",
       "      <td>Elephant</td>\n",
       "      <td>FEMALE</td>\n",
       "      <td>0</td>\n",
       "      <td>30.0</td>\n",
       "      <td>ST</td>\n",
       "      <td>...</td>\n",
       "      <td>5390634.0</td>\n",
       "      <td>1627956.0</td>\n",
       "      <td>24858</td>\n",
       "      <td>892</td>\n",
       "      <td>25750</td>\n",
       "      <td>1557153</td>\n",
       "      <td>1113975</td>\n",
       "      <td>1.65</td>\n",
       "      <td>2.31</td>\n",
       "      <td>Other</td>\n",
       "    </tr>\n",
       "    <tr>\n",
       "      <th>4</th>\n",
       "      <td>Andhra Pradesh</td>\n",
       "      <td>Araku</td>\n",
       "      <td>samareddy balakrishna</td>\n",
       "      <td>0</td>\n",
       "      <td>IND</td>\n",
       "      <td>Gas cylinder</td>\n",
       "      <td>MALE</td>\n",
       "      <td>0</td>\n",
       "      <td>48.0</td>\n",
       "      <td>ST</td>\n",
       "      <td>...</td>\n",
       "      <td>0.0</td>\n",
       "      <td>0.0</td>\n",
       "      <td>9493</td>\n",
       "      <td>42</td>\n",
       "      <td>9535</td>\n",
       "      <td>1557153</td>\n",
       "      <td>1113975</td>\n",
       "      <td>0.61</td>\n",
       "      <td>0.86</td>\n",
       "      <td>IND</td>\n",
       "    </tr>\n",
       "  </tbody>\n",
       "</table>\n",
       "<p>5 rows × 21 columns</p>\n",
       "</div>"
      ],
      "text/plain": [
       "            STATE CONSTITUENCY                     NAME  WINNER   PARTY  \\\n",
       "0  Andhra Pradesh        Araku       gumma thanuja rani       1   YSRCP   \n",
       "1  Andhra Pradesh        Araku        kothapalli geetha       0     BJP   \n",
       "2  Andhra Pradesh        Araku  appalanarasa pachipenta       0  CPI(M)   \n",
       "3  Andhra Pradesh        Araku   avashya lahari . varam       0     BSP   \n",
       "4  Andhra Pradesh        Araku    samareddy balakrishna       0     IND   \n",
       "\n",
       "                    SYMBOL  GENDER  CRIMINAL CASES   AGE CATEGORY  ...  \\\n",
       "0              Ceiling fan  FEMALE               0  31.0       ST  ...   \n",
       "1                    Lotus  FEMALE               2  53.0       ST  ...   \n",
       "2  Hammer, Sickle and Star    MALE               4  41.0       ST  ...   \n",
       "3                 Elephant  FEMALE               0  30.0       ST  ...   \n",
       "4             Gas cylinder    MALE               0  48.0       ST  ...   \n",
       "\n",
       "      ASSETS  LIABILITIES  GENERAL VOTES  POSTAL VOTES  TOTAL VOTES  \\\n",
       "0  2354678.0          0.0         471470          5535       477005   \n",
       "1        0.0          0.0         417113          9312       426425   \n",
       "2  2925792.0     243125.0         119016          4113       123129   \n",
       "3  5390634.0    1627956.0          24858           892        25750   \n",
       "4        0.0          0.0           9493            42         9535   \n",
       "\n",
       "   TOTAL ELECTORS  TOTAL VOTING  OVER TOTAL ELECTORS IN CONSTITUENCY  \\\n",
       "0         1557153       1113975                                30.63   \n",
       "1         1557153       1113975                                27.38   \n",
       "2         1557153       1113975                                 7.91   \n",
       "3         1557153       1113975                                 1.65   \n",
       "4         1557153       1113975                                 0.61   \n",
       "\n",
       "   OVER TOTAL VOTES POLLED IN CONSTITUENCY  Party New  \n",
       "0                                    42.82      Other  \n",
       "1                                    38.28        BJP  \n",
       "2                                    11.05      Other  \n",
       "3                                     2.31      Other  \n",
       "4                                     0.86        IND  \n",
       "\n",
       "[5 rows x 21 columns]"
      ]
     },
     "execution_count": 108,
     "metadata": {},
     "output_type": "execute_result"
    }
   ],
   "source": [
    "# This is the dataset which will be used for fitting Machine Learning models\n",
    "df.head()"
   ]
  },
  {
   "cell_type": "code",
   "execution_count": 109,
   "metadata": {},
   "outputs": [
    {
     "data": {
      "text/html": [
       "<div>\n",
       "<style scoped>\n",
       "    .dataframe tbody tr th:only-of-type {\n",
       "        vertical-align: middle;\n",
       "    }\n",
       "\n",
       "    .dataframe tbody tr th {\n",
       "        vertical-align: top;\n",
       "    }\n",
       "\n",
       "    .dataframe thead th {\n",
       "        text-align: right;\n",
       "    }\n",
       "</style>\n",
       "<table border=\"1\" class=\"dataframe\">\n",
       "  <thead>\n",
       "    <tr style=\"text-align: right;\">\n",
       "      <th></th>\n",
       "      <th>STATE</th>\n",
       "      <th>CONSTITUENCY</th>\n",
       "      <th>NAME</th>\n",
       "      <th>WINNER</th>\n",
       "      <th>PARTY</th>\n",
       "      <th>SYMBOL</th>\n",
       "      <th>GENDER</th>\n",
       "      <th>CRIMINAL CASES</th>\n",
       "      <th>AGE</th>\n",
       "      <th>CATEGORY</th>\n",
       "      <th>...</th>\n",
       "      <th>ASSETS</th>\n",
       "      <th>LIABILITIES</th>\n",
       "      <th>GENERAL VOTES</th>\n",
       "      <th>POSTAL VOTES</th>\n",
       "      <th>TOTAL VOTES</th>\n",
       "      <th>TOTAL ELECTORS</th>\n",
       "      <th>TOTAL VOTING</th>\n",
       "      <th>OVER TOTAL ELECTORS IN CONSTITUENCY</th>\n",
       "      <th>OVER TOTAL VOTES POLLED IN CONSTITUENCY</th>\n",
       "      <th>Party New</th>\n",
       "    </tr>\n",
       "  </thead>\n",
       "  <tbody>\n",
       "    <tr>\n",
       "      <th>0</th>\n",
       "      <td>Andhra Pradesh</td>\n",
       "      <td>Araku</td>\n",
       "      <td>gumma thanuja rani</td>\n",
       "      <td>1</td>\n",
       "      <td>YSRCP</td>\n",
       "      <td>Ceiling fan</td>\n",
       "      <td>FEMALE</td>\n",
       "      <td>0</td>\n",
       "      <td>31.0</td>\n",
       "      <td>ST</td>\n",
       "      <td>...</td>\n",
       "      <td>2354678.0</td>\n",
       "      <td>0.0</td>\n",
       "      <td>471470</td>\n",
       "      <td>5535</td>\n",
       "      <td>477005</td>\n",
       "      <td>1557153</td>\n",
       "      <td>1113975</td>\n",
       "      <td>30.63</td>\n",
       "      <td>42.82</td>\n",
       "      <td>Other</td>\n",
       "    </tr>\n",
       "    <tr>\n",
       "      <th>1</th>\n",
       "      <td>Andhra Pradesh</td>\n",
       "      <td>Araku</td>\n",
       "      <td>kothapalli geetha</td>\n",
       "      <td>0</td>\n",
       "      <td>BJP</td>\n",
       "      <td>Lotus</td>\n",
       "      <td>FEMALE</td>\n",
       "      <td>2</td>\n",
       "      <td>53.0</td>\n",
       "      <td>ST</td>\n",
       "      <td>...</td>\n",
       "      <td>0.0</td>\n",
       "      <td>0.0</td>\n",
       "      <td>417113</td>\n",
       "      <td>9312</td>\n",
       "      <td>426425</td>\n",
       "      <td>1557153</td>\n",
       "      <td>1113975</td>\n",
       "      <td>27.38</td>\n",
       "      <td>38.28</td>\n",
       "      <td>BJP</td>\n",
       "    </tr>\n",
       "    <tr>\n",
       "      <th>2</th>\n",
       "      <td>Andhra Pradesh</td>\n",
       "      <td>Araku</td>\n",
       "      <td>appalanarasa pachipenta</td>\n",
       "      <td>0</td>\n",
       "      <td>CPI(M)</td>\n",
       "      <td>Hammer, Sickle and Star</td>\n",
       "      <td>MALE</td>\n",
       "      <td>4</td>\n",
       "      <td>41.0</td>\n",
       "      <td>ST</td>\n",
       "      <td>...</td>\n",
       "      <td>2925792.0</td>\n",
       "      <td>243125.0</td>\n",
       "      <td>119016</td>\n",
       "      <td>4113</td>\n",
       "      <td>123129</td>\n",
       "      <td>1557153</td>\n",
       "      <td>1113975</td>\n",
       "      <td>7.91</td>\n",
       "      <td>11.05</td>\n",
       "      <td>Other</td>\n",
       "    </tr>\n",
       "    <tr>\n",
       "      <th>3</th>\n",
       "      <td>Andhra Pradesh</td>\n",
       "      <td>Araku</td>\n",
       "      <td>avashya lahari . varam</td>\n",
       "      <td>0</td>\n",
       "      <td>BSP</td>\n",
       "      <td>Elephant</td>\n",
       "      <td>FEMALE</td>\n",
       "      <td>0</td>\n",
       "      <td>30.0</td>\n",
       "      <td>ST</td>\n",
       "      <td>...</td>\n",
       "      <td>5390634.0</td>\n",
       "      <td>1627956.0</td>\n",
       "      <td>24858</td>\n",
       "      <td>892</td>\n",
       "      <td>25750</td>\n",
       "      <td>1557153</td>\n",
       "      <td>1113975</td>\n",
       "      <td>1.65</td>\n",
       "      <td>2.31</td>\n",
       "      <td>Other</td>\n",
       "    </tr>\n",
       "    <tr>\n",
       "      <th>4</th>\n",
       "      <td>Andhra Pradesh</td>\n",
       "      <td>Araku</td>\n",
       "      <td>samareddy balakrishna</td>\n",
       "      <td>0</td>\n",
       "      <td>IND</td>\n",
       "      <td>Gas cylinder</td>\n",
       "      <td>MALE</td>\n",
       "      <td>0</td>\n",
       "      <td>48.0</td>\n",
       "      <td>ST</td>\n",
       "      <td>...</td>\n",
       "      <td>0.0</td>\n",
       "      <td>0.0</td>\n",
       "      <td>9493</td>\n",
       "      <td>42</td>\n",
       "      <td>9535</td>\n",
       "      <td>1557153</td>\n",
       "      <td>1113975</td>\n",
       "      <td>0.61</td>\n",
       "      <td>0.86</td>\n",
       "      <td>IND</td>\n",
       "    </tr>\n",
       "  </tbody>\n",
       "</table>\n",
       "<p>5 rows × 21 columns</p>\n",
       "</div>"
      ],
      "text/plain": [
       "            STATE CONSTITUENCY                     NAME  WINNER   PARTY  \\\n",
       "0  Andhra Pradesh        Araku       gumma thanuja rani       1   YSRCP   \n",
       "1  Andhra Pradesh        Araku        kothapalli geetha       0     BJP   \n",
       "2  Andhra Pradesh        Araku  appalanarasa pachipenta       0  CPI(M)   \n",
       "3  Andhra Pradesh        Araku   avashya lahari . varam       0     BSP   \n",
       "4  Andhra Pradesh        Araku    samareddy balakrishna       0     IND   \n",
       "\n",
       "                    SYMBOL  GENDER  CRIMINAL CASES   AGE CATEGORY  ...  \\\n",
       "0              Ceiling fan  FEMALE               0  31.0       ST  ...   \n",
       "1                    Lotus  FEMALE               2  53.0       ST  ...   \n",
       "2  Hammer, Sickle and Star    MALE               4  41.0       ST  ...   \n",
       "3                 Elephant  FEMALE               0  30.0       ST  ...   \n",
       "4             Gas cylinder    MALE               0  48.0       ST  ...   \n",
       "\n",
       "      ASSETS  LIABILITIES  GENERAL VOTES  POSTAL VOTES  TOTAL VOTES  \\\n",
       "0  2354678.0          0.0         471470          5535       477005   \n",
       "1        0.0          0.0         417113          9312       426425   \n",
       "2  2925792.0     243125.0         119016          4113       123129   \n",
       "3  5390634.0    1627956.0          24858           892        25750   \n",
       "4        0.0          0.0           9493            42         9535   \n",
       "\n",
       "   TOTAL ELECTORS  TOTAL VOTING  OVER TOTAL ELECTORS IN CONSTITUENCY  \\\n",
       "0         1557153       1113975                                30.63   \n",
       "1         1557153       1113975                                27.38   \n",
       "2         1557153       1113975                                 7.91   \n",
       "3         1557153       1113975                                 1.65   \n",
       "4         1557153       1113975                                 0.61   \n",
       "\n",
       "   OVER TOTAL VOTES POLLED IN CONSTITUENCY  Party New  \n",
       "0                                    42.82      Other  \n",
       "1                                    38.28        BJP  \n",
       "2                                    11.05      Other  \n",
       "3                                     2.31      Other  \n",
       "4                                     0.86        IND  \n",
       "\n",
       "[5 rows x 21 columns]"
      ]
     },
     "execution_count": 109,
     "metadata": {},
     "output_type": "execute_result"
    }
   ],
   "source": [
    "# Labeling parties with less than 10 candidates as others\n",
    "less_candidates = []\n",
    "for i, j in df['PARTY'].value_counts().items():\n",
    "    if j <= 10:\n",
    "        less_candidates.append(i)\n",
    "len(less_candidates)\n",
    "\n",
    "def small_party(data):\n",
    "    if data in less_candidates:\n",
    "        return 'Other'\n",
    "    return data\n",
    "df['PARTY'] = df['PARTY'].apply(small_party)\n",
    "df['PARTY'].value_counts()\n",
    "\n",
    "df.head()"
   ]
  },
  {
   "cell_type": "code",
   "execution_count": 110,
   "metadata": {},
   "outputs": [],
   "source": [
    "# Encode 'Party New' and store mapping\n",
    "party_encoder = LabelEncoder()\n",
    "df['Party New Encoded'] = party_encoder.fit_transform(df['Party New'])\n",
    "party_mapping = dict(zip(party_encoder.classes_, party_encoder.transform(party_encoder.classes_)))\n",
    "\n",
    "# Now drop 'Party New' after encoding it\n",
    "X = df.drop(['NAME', 'SYMBOL', 'WINNER', 'GENERAL VOTES', 'POSTAL VOTES', 'TOTAL VOTES', \n",
    "             'OVER TOTAL ELECTORS IN CONSTITUENCY', 'OVER TOTAL VOTES POLLED IN CONSTITUENCY', \n",
    "             'Party New', 'CONSTITUENCY'], axis=1)\n",
    "\n",
    "y = df['WINNER']\n"
   ]
  },
  {
   "cell_type": "code",
   "execution_count": 111,
   "metadata": {},
   "outputs": [],
   "source": [
    "# Creating training and test dataset\n",
    "X_train, X_test, y_train, y_test = train_test_split(X, y, test_size=0.30, random_state=42)"
   ]
  },
  {
   "cell_type": "code",
   "execution_count": 112,
   "metadata": {},
   "outputs": [],
   "source": [
    "categorical = []\n",
    "numerical = []\n",
    "\n",
    "# Converting Strings to Category\n",
    "for label, content in X.items():\n",
    "    if pd.api.types.is_string_dtype(content):\n",
    "        X[label] = content.astype(\"category\")\n",
    "        categorical.append(label)\n",
    "\n",
    "    if pd.api.types.is_numeric_dtype(content):\n",
    "        numerical.append(label)"
   ]
  },
  {
   "cell_type": "code",
   "execution_count": 113,
   "metadata": {},
   "outputs": [],
   "source": [
    "# Initializing the StandardScaler()\n",
    "scaler = MinMaxScaler()\n",
    "encoder = OrdinalEncoder()\n",
    "\n",
    "# Encoding the categorical columns\n",
    "for cat in categorical:\n",
    "    label_fit = encoder.fit(np.array(X[cat]).reshape(-1, 1))\n",
    "    X_train[cat] = label_fit.transform(np.array(X_train[cat]).reshape(-1, 1))\n",
    "    X_test[cat] = label_fit.transform(np.array(X_test[cat]).reshape(-1, 1))\n",
    "    \n",
    "# Scaling the dataset\n",
    "scaler_fit = scaler.fit(X[numerical])\n",
    "X_train[numerical] = scaler_fit.transform(X_train[numerical])\n",
    "X_test[numerical] = scaler_fit.transform(X_test[numerical])"
   ]
  },
  {
   "cell_type": "code",
   "execution_count": 114,
   "metadata": {},
   "outputs": [],
   "source": [
    "# Encoding the target\n",
    "target_enc = LabelEncoder().fit(y_train)\n",
    "y_train = target_enc.transform(y_train)\n",
    "y_test = target_enc.transform(y_test)"
   ]
  },
  {
   "cell_type": "code",
   "execution_count": 115,
   "metadata": {},
   "outputs": [
    {
     "data": {
      "text/plain": [
       "Counter({0: 5465, 1: 386})"
      ]
     },
     "execution_count": 115,
     "metadata": {},
     "output_type": "execute_result"
    }
   ],
   "source": [
    "Counter(y_train)"
   ]
  },
  {
   "cell_type": "code",
   "execution_count": 116,
   "metadata": {},
   "outputs": [
    {
     "name": "stdout",
     "output_type": "stream",
     "text": [
      "Counter({0: 5465, 1: 5465})\n"
     ]
    }
   ],
   "source": [
    "oversample = SMOTE()\n",
    "X_train, y_train = oversample.fit_resample(X_train, y_train)\n",
    "counter = Counter(y_train)\n",
    "print(counter)"
   ]
  },
  {
   "cell_type": "code",
   "execution_count": 117,
   "metadata": {},
   "outputs": [],
   "source": [
    "np.random.seed(42)\n",
    "\n",
    "# Create a dictionary of the models to experiment\n",
    "models = {\n",
    "          \"Random Forest\" : RandomForestClassifier(n_jobs=-1),\n",
    "          \"Support Vector Machines\" : SVC(),\n",
    "          \"K-Nearest Neighbors\" : KNeighborsClassifier(),\n",
    "          \"Logistic Regression\"  : LogisticRegression(),\n",
    "          \"XG Boosting\" : xgb.XGBClassifier(n_jobs=-1),\n",
    "          \"Cat Boosting\": CatBoostClassifier(),\n",
    "          \"Gradient Boosting\"  : GradientBoostingClassifier(),\n",
    "          \"ADA Boosting\" : AdaBoostClassifier(),\n",
    "          \"LG Boosting\" : lgb.LGBMClassifier(),\n",
    "          \"Decision Trees\" : DecisionTreeClassifier()\n",
    "         }\n",
    "\n",
    "# Create a function to fit and score the models\n",
    "def fit_and_score(models, X_train, y_train, X_test, y_test):\n",
    "    '''\n",
    "    Fits and evaluates the machine learning models.\n",
    "    models : a dict of different Scikit-Learn machine learning models.\n",
    "    X_train : training data (no labels)\n",
    "    y_train : training lables\n",
    "    X_test : testing data (no labels)\n",
    "    y_test : testing lables\n",
    "    '''\n",
    "    train_model_scores_acc = {}\n",
    "    train_model_scores_pre = {}\n",
    "    train_model_scores_rec = {}\n",
    "    train_model_scores_f1 = {}\n",
    "    \n",
    "    test_model_scores_acc = {}\n",
    "    test_model_scores_pre = {}\n",
    "    test_model_scores_rec = {}\n",
    "    test_model_scores_f1 = {}\n",
    "    \n",
    "    train_model_timing = {}\n",
    "    \n",
    "    for name, model in models.items():\n",
    "        start = time.time()\n",
    "        train_model_scores_acc[name] = np.mean(cross_val_score(model, X_train, y_train, cv=10, n_jobs=-1, scoring='accuracy')) * 100\n",
    "        train_model_scores_pre[name] = np.mean(cross_val_score(model, X_train, y_train, cv=10, n_jobs=-1, scoring='precision')) * 100\n",
    "        train_model_scores_rec[name] = np.mean(cross_val_score(model, X_train, y_train, cv=10, n_jobs=-1, scoring='recall')) * 100\n",
    "        train_model_scores_f1[name] = np.mean(cross_val_score(model, X_train, y_train, cv=10, n_jobs=-1, scoring='f1')) * 100\n",
    "        stop = time.time()\n",
    "        timing = stop - start\n",
    "        train_model_timing[name] = timing\n",
    "        \n",
    "        model.fit(X_train, y_train)\n",
    "        pred = model.predict(X_test)\n",
    "        \n",
    "        test_model_scores_acc[name] = accuracy_score(y_test, pred) * 100\n",
    "        test_model_scores_pre[name] = precision_score(y_test, pred) * 100\n",
    "        test_model_scores_rec[name] = recall_score(y_test, pred) * 100\n",
    "        test_model_scores_f1[name] = f1_score(y_test, pred) * 100\n",
    "        \n",
    "    # Create dictionary for oil scores\n",
    "    scores = {'Training Accuracy': train_model_scores_acc,\n",
    "              'Training Precision': train_model_scores_pre,\n",
    "              'Training Recall': train_model_scores_rec,\n",
    "              'Training F1': train_model_scores_f1,\n",
    "              'Test Accuracy':  test_model_scores_acc,\n",
    "              'Test Precision': test_model_scores_pre,\n",
    "              'Test Recall': test_model_scores_rec,\n",
    "              'Test F1': test_model_scores_f1,\n",
    "              '10-Fold CV Timing (seconds)': train_model_timing\n",
    "             }\n",
    "\n",
    "    # Create dataframe of scores\n",
    "    scores_df = pd.DataFrame(scores)\n",
    "\n",
    "    scores_df.rename_axis('Model', inplace=True)\n",
    "    scores_df.reset_index(inplace=True)\n",
    "    scores_df.sort_values('Test Accuracy', ascending=False, inplace=True)\n",
    "    return scores_df"
   ]
  },
  {
   "cell_type": "code",
   "execution_count": 118,
   "metadata": {},
   "outputs": [
    {
     "name": "stderr",
     "output_type": "stream",
     "text": [
      "C:\\Users\\Hp\\AppData\\Local\\Packages\\PythonSoftwareFoundation.Python.3.11_qbz5n2kfra8p0\\LocalCache\\local-packages\\Python311\\site-packages\\sklearn\\linear_model\\_logistic.py:465: ConvergenceWarning:\n",
      "\n",
      "lbfgs failed to converge (status=1):\n",
      "STOP: TOTAL NO. OF ITERATIONS REACHED LIMIT.\n",
      "\n",
      "Increase the number of iterations (max_iter) or scale the data as shown in:\n",
      "    https://scikit-learn.org/stable/modules/preprocessing.html\n",
      "Please also refer to the documentation for alternative solver options:\n",
      "    https://scikit-learn.org/stable/modules/linear_model.html#logistic-regression\n",
      "\n"
     ]
    },
    {
     "name": "stdout",
     "output_type": "stream",
     "text": [
      "Learning rate set to 0.028604\n",
      "0:\tlearn: 0.6561672\ttotal: 28.9ms\tremaining: 28.9s\n",
      "1:\tlearn: 0.6266709\ttotal: 39.8ms\tremaining: 19.8s\n",
      "2:\tlearn: 0.5977308\ttotal: 48.8ms\tremaining: 16.2s\n",
      "3:\tlearn: 0.5703043\ttotal: 58.6ms\tremaining: 14.6s\n",
      "4:\tlearn: 0.5477278\ttotal: 69.5ms\tremaining: 13.8s\n",
      "5:\tlearn: 0.5220064\ttotal: 79.7ms\tremaining: 13.2s\n",
      "6:\tlearn: 0.5023469\ttotal: 89.6ms\tremaining: 12.7s\n",
      "7:\tlearn: 0.4798431\ttotal: 101ms\tremaining: 12.5s\n",
      "8:\tlearn: 0.4581991\ttotal: 110ms\tremaining: 12.1s\n",
      "9:\tlearn: 0.4438182\ttotal: 121ms\tremaining: 12s\n",
      "10:\tlearn: 0.4275703\ttotal: 131ms\tremaining: 11.8s\n",
      "11:\tlearn: 0.4141688\ttotal: 141ms\tremaining: 11.6s\n",
      "12:\tlearn: 0.4013048\ttotal: 153ms\tremaining: 11.6s\n",
      "13:\tlearn: 0.3876554\ttotal: 162ms\tremaining: 11.4s\n",
      "14:\tlearn: 0.3767460\ttotal: 172ms\tremaining: 11.3s\n",
      "15:\tlearn: 0.3671183\ttotal: 184ms\tremaining: 11.3s\n",
      "16:\tlearn: 0.3576907\ttotal: 196ms\tremaining: 11.3s\n",
      "17:\tlearn: 0.3471373\ttotal: 205ms\tremaining: 11.2s\n",
      "18:\tlearn: 0.3384900\ttotal: 218ms\tremaining: 11.3s\n",
      "19:\tlearn: 0.3293024\ttotal: 230ms\tremaining: 11.2s\n",
      "20:\tlearn: 0.3221540\ttotal: 240ms\tremaining: 11.2s\n",
      "21:\tlearn: 0.3142960\ttotal: 251ms\tremaining: 11.2s\n",
      "22:\tlearn: 0.3066356\ttotal: 263ms\tremaining: 11.2s\n",
      "23:\tlearn: 0.2987421\ttotal: 279ms\tremaining: 11.4s\n",
      "24:\tlearn: 0.2924912\ttotal: 294ms\tremaining: 11.5s\n",
      "25:\tlearn: 0.2876934\ttotal: 308ms\tremaining: 11.6s\n",
      "26:\tlearn: 0.2815460\ttotal: 325ms\tremaining: 11.7s\n",
      "27:\tlearn: 0.2780737\ttotal: 336ms\tremaining: 11.7s\n",
      "28:\tlearn: 0.2736083\ttotal: 349ms\tremaining: 11.7s\n",
      "29:\tlearn: 0.2695725\ttotal: 362ms\tremaining: 11.7s\n",
      "30:\tlearn: 0.2652037\ttotal: 371ms\tremaining: 11.6s\n",
      "31:\tlearn: 0.2610961\ttotal: 382ms\tremaining: 11.6s\n",
      "32:\tlearn: 0.2569530\ttotal: 395ms\tremaining: 11.6s\n",
      "33:\tlearn: 0.2539548\ttotal: 405ms\tremaining: 11.5s\n",
      "34:\tlearn: 0.2501694\ttotal: 417ms\tremaining: 11.5s\n",
      "35:\tlearn: 0.2453998\ttotal: 430ms\tremaining: 11.5s\n",
      "36:\tlearn: 0.2421048\ttotal: 449ms\tremaining: 11.7s\n",
      "37:\tlearn: 0.2395733\ttotal: 462ms\tremaining: 11.7s\n",
      "38:\tlearn: 0.2367733\ttotal: 476ms\tremaining: 11.7s\n",
      "39:\tlearn: 0.2346744\ttotal: 487ms\tremaining: 11.7s\n",
      "40:\tlearn: 0.2327318\ttotal: 497ms\tremaining: 11.6s\n",
      "41:\tlearn: 0.2309335\ttotal: 509ms\tremaining: 11.6s\n",
      "42:\tlearn: 0.2285120\ttotal: 521ms\tremaining: 11.6s\n",
      "43:\tlearn: 0.2255430\ttotal: 530ms\tremaining: 11.5s\n",
      "44:\tlearn: 0.2231771\ttotal: 541ms\tremaining: 11.5s\n",
      "45:\tlearn: 0.2211519\ttotal: 550ms\tremaining: 11.4s\n",
      "46:\tlearn: 0.2196069\ttotal: 560ms\tremaining: 11.3s\n",
      "47:\tlearn: 0.2164258\ttotal: 571ms\tremaining: 11.3s\n",
      "48:\tlearn: 0.2143228\ttotal: 582ms\tremaining: 11.3s\n",
      "49:\tlearn: 0.2129346\ttotal: 593ms\tremaining: 11.3s\n",
      "50:\tlearn: 0.2112917\ttotal: 606ms\tremaining: 11.3s\n",
      "51:\tlearn: 0.2095439\ttotal: 622ms\tremaining: 11.3s\n",
      "52:\tlearn: 0.2077495\ttotal: 642ms\tremaining: 11.5s\n",
      "53:\tlearn: 0.2062198\ttotal: 656ms\tremaining: 11.5s\n",
      "54:\tlearn: 0.2042573\ttotal: 667ms\tremaining: 11.5s\n",
      "55:\tlearn: 0.2030279\ttotal: 676ms\tremaining: 11.4s\n",
      "56:\tlearn: 0.2021890\ttotal: 687ms\tremaining: 11.4s\n",
      "57:\tlearn: 0.1998016\ttotal: 698ms\tremaining: 11.3s\n",
      "58:\tlearn: 0.1978728\ttotal: 707ms\tremaining: 11.3s\n",
      "59:\tlearn: 0.1968074\ttotal: 719ms\tremaining: 11.3s\n",
      "60:\tlearn: 0.1952532\ttotal: 729ms\tremaining: 11.2s\n",
      "61:\tlearn: 0.1943949\ttotal: 739ms\tremaining: 11.2s\n",
      "62:\tlearn: 0.1923768\ttotal: 751ms\tremaining: 11.2s\n",
      "63:\tlearn: 0.1905600\ttotal: 759ms\tremaining: 11.1s\n",
      "64:\tlearn: 0.1893431\ttotal: 770ms\tremaining: 11.1s\n",
      "65:\tlearn: 0.1876891\ttotal: 781ms\tremaining: 11.1s\n",
      "66:\tlearn: 0.1867893\ttotal: 790ms\tremaining: 11s\n",
      "67:\tlearn: 0.1858735\ttotal: 803ms\tremaining: 11s\n",
      "68:\tlearn: 0.1850282\ttotal: 816ms\tremaining: 11s\n",
      "69:\tlearn: 0.1839205\ttotal: 826ms\tremaining: 11s\n",
      "70:\tlearn: 0.1830214\ttotal: 838ms\tremaining: 11s\n",
      "71:\tlearn: 0.1811694\ttotal: 852ms\tremaining: 11s\n",
      "72:\tlearn: 0.1804463\ttotal: 865ms\tremaining: 11s\n",
      "73:\tlearn: 0.1791805\ttotal: 874ms\tremaining: 10.9s\n",
      "74:\tlearn: 0.1782182\ttotal: 885ms\tremaining: 10.9s\n",
      "75:\tlearn: 0.1773775\ttotal: 898ms\tremaining: 10.9s\n",
      "76:\tlearn: 0.1766397\ttotal: 908ms\tremaining: 10.9s\n",
      "77:\tlearn: 0.1752712\ttotal: 919ms\tremaining: 10.9s\n",
      "78:\tlearn: 0.1741602\ttotal: 930ms\tremaining: 10.8s\n",
      "79:\tlearn: 0.1728978\ttotal: 940ms\tremaining: 10.8s\n",
      "80:\tlearn: 0.1723178\ttotal: 950ms\tremaining: 10.8s\n",
      "81:\tlearn: 0.1712954\ttotal: 961ms\tremaining: 10.8s\n",
      "82:\tlearn: 0.1704828\ttotal: 970ms\tremaining: 10.7s\n",
      "83:\tlearn: 0.1699316\ttotal: 981ms\tremaining: 10.7s\n",
      "84:\tlearn: 0.1693896\ttotal: 992ms\tremaining: 10.7s\n",
      "85:\tlearn: 0.1689082\ttotal: 1s\tremaining: 10.7s\n",
      "86:\tlearn: 0.1680016\ttotal: 1.01s\tremaining: 10.7s\n",
      "87:\tlearn: 0.1674863\ttotal: 1.03s\tremaining: 10.7s\n",
      "88:\tlearn: 0.1667294\ttotal: 1.04s\tremaining: 10.6s\n",
      "89:\tlearn: 0.1661277\ttotal: 1.05s\tremaining: 10.6s\n",
      "90:\tlearn: 0.1656044\ttotal: 1.06s\tremaining: 10.6s\n",
      "91:\tlearn: 0.1645194\ttotal: 1.07s\tremaining: 10.6s\n",
      "92:\tlearn: 0.1639463\ttotal: 1.08s\tremaining: 10.6s\n",
      "93:\tlearn: 0.1633895\ttotal: 1.09s\tremaining: 10.5s\n",
      "94:\tlearn: 0.1627165\ttotal: 1.11s\tremaining: 10.5s\n",
      "95:\tlearn: 0.1622079\ttotal: 1.12s\tremaining: 10.5s\n",
      "96:\tlearn: 0.1613791\ttotal: 1.13s\tremaining: 10.5s\n",
      "97:\tlearn: 0.1609667\ttotal: 1.14s\tremaining: 10.5s\n",
      "98:\tlearn: 0.1595644\ttotal: 1.15s\tremaining: 10.4s\n",
      "99:\tlearn: 0.1591507\ttotal: 1.16s\tremaining: 10.4s\n",
      "100:\tlearn: 0.1580154\ttotal: 1.17s\tremaining: 10.4s\n",
      "101:\tlearn: 0.1571828\ttotal: 1.18s\tremaining: 10.4s\n",
      "102:\tlearn: 0.1563480\ttotal: 1.19s\tremaining: 10.4s\n",
      "103:\tlearn: 0.1559955\ttotal: 1.2s\tremaining: 10.3s\n",
      "104:\tlearn: 0.1554961\ttotal: 1.21s\tremaining: 10.3s\n",
      "105:\tlearn: 0.1547653\ttotal: 1.22s\tremaining: 10.3s\n",
      "106:\tlearn: 0.1544336\ttotal: 1.23s\tremaining: 10.3s\n",
      "107:\tlearn: 0.1540445\ttotal: 1.25s\tremaining: 10.3s\n",
      "108:\tlearn: 0.1535938\ttotal: 1.26s\tremaining: 10.3s\n",
      "109:\tlearn: 0.1528429\ttotal: 1.27s\tremaining: 10.3s\n",
      "110:\tlearn: 0.1521516\ttotal: 1.28s\tremaining: 10.3s\n",
      "111:\tlearn: 0.1516457\ttotal: 1.29s\tremaining: 10.2s\n",
      "112:\tlearn: 0.1509586\ttotal: 1.3s\tremaining: 10.2s\n",
      "113:\tlearn: 0.1500761\ttotal: 1.31s\tremaining: 10.2s\n",
      "114:\tlearn: 0.1495654\ttotal: 1.32s\tremaining: 10.2s\n",
      "115:\tlearn: 0.1489579\ttotal: 1.34s\tremaining: 10.2s\n",
      "116:\tlearn: 0.1486272\ttotal: 1.34s\tremaining: 10.2s\n",
      "117:\tlearn: 0.1478086\ttotal: 1.35s\tremaining: 10.1s\n",
      "118:\tlearn: 0.1471037\ttotal: 1.37s\tremaining: 10.1s\n",
      "119:\tlearn: 0.1465927\ttotal: 1.38s\tremaining: 10.1s\n",
      "120:\tlearn: 0.1461078\ttotal: 1.39s\tremaining: 10.1s\n",
      "121:\tlearn: 0.1456829\ttotal: 1.4s\tremaining: 10.1s\n",
      "122:\tlearn: 0.1451412\ttotal: 1.41s\tremaining: 10s\n",
      "123:\tlearn: 0.1446586\ttotal: 1.42s\tremaining: 10s\n",
      "124:\tlearn: 0.1442558\ttotal: 1.43s\tremaining: 10s\n",
      "125:\tlearn: 0.1438001\ttotal: 1.44s\tremaining: 10s\n",
      "126:\tlearn: 0.1431427\ttotal: 1.46s\tremaining: 10s\n",
      "127:\tlearn: 0.1426478\ttotal: 1.47s\tremaining: 10s\n",
      "128:\tlearn: 0.1421435\ttotal: 1.48s\tremaining: 10s\n",
      "129:\tlearn: 0.1413513\ttotal: 1.49s\tremaining: 10s\n",
      "130:\tlearn: 0.1409870\ttotal: 1.5s\tremaining: 9.98s\n",
      "131:\tlearn: 0.1404366\ttotal: 1.51s\tremaining: 9.96s\n",
      "132:\tlearn: 0.1401286\ttotal: 1.53s\tremaining: 9.95s\n",
      "133:\tlearn: 0.1396909\ttotal: 1.54s\tremaining: 9.93s\n",
      "134:\tlearn: 0.1391291\ttotal: 1.55s\tremaining: 9.92s\n",
      "135:\tlearn: 0.1385992\ttotal: 1.56s\tremaining: 9.9s\n",
      "136:\tlearn: 0.1381560\ttotal: 1.57s\tremaining: 9.87s\n",
      "137:\tlearn: 0.1376634\ttotal: 1.58s\tremaining: 9.86s\n",
      "138:\tlearn: 0.1372865\ttotal: 1.59s\tremaining: 9.84s\n",
      "139:\tlearn: 0.1369930\ttotal: 1.6s\tremaining: 9.82s\n",
      "140:\tlearn: 0.1366305\ttotal: 1.61s\tremaining: 9.81s\n",
      "141:\tlearn: 0.1362338\ttotal: 1.62s\tremaining: 9.79s\n",
      "142:\tlearn: 0.1359367\ttotal: 1.63s\tremaining: 9.77s\n",
      "143:\tlearn: 0.1351295\ttotal: 1.64s\tremaining: 9.77s\n",
      "144:\tlearn: 0.1347974\ttotal: 1.65s\tremaining: 9.74s\n",
      "145:\tlearn: 0.1343186\ttotal: 1.66s\tremaining: 9.73s\n",
      "146:\tlearn: 0.1339717\ttotal: 1.68s\tremaining: 9.74s\n",
      "147:\tlearn: 0.1336301\ttotal: 1.69s\tremaining: 9.74s\n",
      "148:\tlearn: 0.1333083\ttotal: 1.7s\tremaining: 9.72s\n",
      "149:\tlearn: 0.1330573\ttotal: 1.71s\tremaining: 9.7s\n",
      "150:\tlearn: 0.1326734\ttotal: 1.72s\tremaining: 9.69s\n",
      "151:\tlearn: 0.1321410\ttotal: 1.73s\tremaining: 9.67s\n",
      "152:\tlearn: 0.1314035\ttotal: 1.74s\tremaining: 9.66s\n",
      "153:\tlearn: 0.1311696\ttotal: 1.76s\tremaining: 9.65s\n",
      "154:\tlearn: 0.1307674\ttotal: 1.76s\tremaining: 9.62s\n",
      "155:\tlearn: 0.1303165\ttotal: 1.77s\tremaining: 9.61s\n",
      "156:\tlearn: 0.1300117\ttotal: 1.79s\tremaining: 9.6s\n",
      "157:\tlearn: 0.1294944\ttotal: 1.8s\tremaining: 9.57s\n",
      "158:\tlearn: 0.1292672\ttotal: 1.81s\tremaining: 9.56s\n",
      "159:\tlearn: 0.1288276\ttotal: 1.82s\tremaining: 9.54s\n",
      "160:\tlearn: 0.1285322\ttotal: 1.83s\tremaining: 9.52s\n",
      "161:\tlearn: 0.1283032\ttotal: 1.84s\tremaining: 9.52s\n",
      "162:\tlearn: 0.1280252\ttotal: 1.85s\tremaining: 9.51s\n",
      "163:\tlearn: 0.1276171\ttotal: 1.86s\tremaining: 9.49s\n",
      "164:\tlearn: 0.1271672\ttotal: 1.88s\tremaining: 9.49s\n",
      "165:\tlearn: 0.1267613\ttotal: 1.89s\tremaining: 9.49s\n",
      "166:\tlearn: 0.1263274\ttotal: 1.9s\tremaining: 9.48s\n",
      "167:\tlearn: 0.1258410\ttotal: 1.91s\tremaining: 9.46s\n",
      "168:\tlearn: 0.1253270\ttotal: 1.92s\tremaining: 9.45s\n",
      "169:\tlearn: 0.1249361\ttotal: 1.93s\tremaining: 9.45s\n",
      "170:\tlearn: 0.1246046\ttotal: 1.94s\tremaining: 9.42s\n",
      "171:\tlearn: 0.1242077\ttotal: 1.96s\tremaining: 9.41s\n",
      "172:\tlearn: 0.1239814\ttotal: 1.97s\tremaining: 9.4s\n",
      "173:\tlearn: 0.1237888\ttotal: 1.98s\tremaining: 9.38s\n",
      "174:\tlearn: 0.1235157\ttotal: 1.99s\tremaining: 9.37s\n",
      "175:\tlearn: 0.1233748\ttotal: 2s\tremaining: 9.35s\n",
      "176:\tlearn: 0.1231267\ttotal: 2.01s\tremaining: 9.33s\n",
      "177:\tlearn: 0.1225405\ttotal: 2.02s\tremaining: 9.32s\n",
      "178:\tlearn: 0.1222728\ttotal: 2.03s\tremaining: 9.3s\n",
      "179:\tlearn: 0.1217432\ttotal: 2.04s\tremaining: 9.28s\n",
      "180:\tlearn: 0.1214704\ttotal: 2.05s\tremaining: 9.28s\n",
      "181:\tlearn: 0.1213274\ttotal: 2.06s\tremaining: 9.27s\n",
      "182:\tlearn: 0.1211752\ttotal: 2.07s\tremaining: 9.26s\n",
      "183:\tlearn: 0.1210433\ttotal: 2.08s\tremaining: 9.24s\n",
      "184:\tlearn: 0.1208167\ttotal: 2.1s\tremaining: 9.24s\n",
      "185:\tlearn: 0.1206751\ttotal: 2.11s\tremaining: 9.22s\n",
      "186:\tlearn: 0.1204482\ttotal: 2.12s\tremaining: 9.21s\n",
      "187:\tlearn: 0.1200026\ttotal: 2.13s\tremaining: 9.2s\n",
      "188:\tlearn: 0.1196436\ttotal: 2.14s\tremaining: 9.18s\n",
      "189:\tlearn: 0.1191289\ttotal: 2.15s\tremaining: 9.16s\n",
      "190:\tlearn: 0.1188507\ttotal: 2.16s\tremaining: 9.15s\n",
      "191:\tlearn: 0.1185584\ttotal: 2.17s\tremaining: 9.13s\n",
      "192:\tlearn: 0.1183616\ttotal: 2.18s\tremaining: 9.12s\n",
      "193:\tlearn: 0.1181110\ttotal: 2.19s\tremaining: 9.11s\n",
      "194:\tlearn: 0.1179113\ttotal: 2.2s\tremaining: 9.09s\n",
      "195:\tlearn: 0.1174654\ttotal: 2.21s\tremaining: 9.07s\n",
      "196:\tlearn: 0.1172426\ttotal: 2.22s\tremaining: 9.06s\n",
      "197:\tlearn: 0.1168782\ttotal: 2.23s\tremaining: 9.04s\n",
      "198:\tlearn: 0.1164931\ttotal: 2.24s\tremaining: 9.03s\n",
      "199:\tlearn: 0.1162370\ttotal: 2.25s\tremaining: 9.01s\n",
      "200:\tlearn: 0.1160541\ttotal: 2.27s\tremaining: 9.01s\n",
      "201:\tlearn: 0.1158791\ttotal: 2.28s\tremaining: 9s\n",
      "202:\tlearn: 0.1156217\ttotal: 2.29s\tremaining: 9s\n",
      "203:\tlearn: 0.1152873\ttotal: 2.31s\tremaining: 9s\n",
      "204:\tlearn: 0.1150980\ttotal: 2.31s\tremaining: 8.98s\n",
      "205:\tlearn: 0.1148381\ttotal: 2.33s\tremaining: 8.96s\n",
      "206:\tlearn: 0.1145769\ttotal: 2.34s\tremaining: 8.95s\n",
      "207:\tlearn: 0.1142985\ttotal: 2.35s\tremaining: 8.93s\n",
      "208:\tlearn: 0.1141306\ttotal: 2.36s\tremaining: 8.92s\n",
      "209:\tlearn: 0.1136806\ttotal: 2.37s\tremaining: 8.92s\n",
      "210:\tlearn: 0.1134754\ttotal: 2.38s\tremaining: 8.9s\n",
      "211:\tlearn: 0.1132391\ttotal: 2.39s\tremaining: 8.89s\n",
      "212:\tlearn: 0.1129443\ttotal: 2.4s\tremaining: 8.88s\n",
      "213:\tlearn: 0.1127033\ttotal: 2.41s\tremaining: 8.86s\n",
      "214:\tlearn: 0.1125095\ttotal: 2.42s\tremaining: 8.85s\n",
      "215:\tlearn: 0.1121346\ttotal: 2.43s\tremaining: 8.83s\n",
      "216:\tlearn: 0.1119235\ttotal: 2.44s\tremaining: 8.81s\n",
      "217:\tlearn: 0.1116846\ttotal: 2.45s\tremaining: 8.8s\n",
      "218:\tlearn: 0.1114754\ttotal: 2.46s\tremaining: 8.78s\n",
      "219:\tlearn: 0.1111758\ttotal: 2.48s\tremaining: 8.78s\n",
      "220:\tlearn: 0.1109349\ttotal: 2.49s\tremaining: 8.78s\n",
      "221:\tlearn: 0.1105469\ttotal: 2.5s\tremaining: 8.78s\n",
      "222:\tlearn: 0.1103898\ttotal: 2.52s\tremaining: 8.77s\n",
      "223:\tlearn: 0.1101787\ttotal: 2.52s\tremaining: 8.75s\n",
      "224:\tlearn: 0.1100828\ttotal: 2.54s\tremaining: 8.74s\n",
      "225:\tlearn: 0.1098561\ttotal: 2.55s\tremaining: 8.73s\n",
      "226:\tlearn: 0.1095399\ttotal: 2.56s\tremaining: 8.71s\n",
      "227:\tlearn: 0.1091777\ttotal: 2.57s\tremaining: 8.7s\n",
      "228:\tlearn: 0.1089696\ttotal: 2.58s\tremaining: 8.68s\n",
      "229:\tlearn: 0.1088715\ttotal: 2.59s\tremaining: 8.66s\n",
      "230:\tlearn: 0.1086008\ttotal: 2.6s\tremaining: 8.65s\n",
      "231:\tlearn: 0.1084272\ttotal: 2.61s\tremaining: 8.63s\n",
      "232:\tlearn: 0.1082310\ttotal: 2.62s\tremaining: 8.62s\n",
      "233:\tlearn: 0.1081062\ttotal: 2.63s\tremaining: 8.61s\n",
      "234:\tlearn: 0.1079406\ttotal: 2.64s\tremaining: 8.59s\n",
      "235:\tlearn: 0.1076095\ttotal: 2.65s\tremaining: 8.58s\n",
      "236:\tlearn: 0.1073042\ttotal: 2.66s\tremaining: 8.57s\n",
      "237:\tlearn: 0.1071278\ttotal: 2.67s\tremaining: 8.55s\n",
      "238:\tlearn: 0.1068394\ttotal: 2.68s\tremaining: 8.55s\n",
      "239:\tlearn: 0.1066345\ttotal: 2.7s\tremaining: 8.55s\n",
      "240:\tlearn: 0.1064575\ttotal: 2.71s\tremaining: 8.53s\n",
      "241:\tlearn: 0.1062721\ttotal: 2.72s\tremaining: 8.52s\n",
      "242:\tlearn: 0.1060060\ttotal: 2.73s\tremaining: 8.51s\n",
      "243:\tlearn: 0.1058578\ttotal: 2.74s\tremaining: 8.5s\n",
      "244:\tlearn: 0.1056422\ttotal: 2.75s\tremaining: 8.48s\n",
      "245:\tlearn: 0.1054850\ttotal: 2.76s\tremaining: 8.47s\n",
      "246:\tlearn: 0.1053677\ttotal: 2.77s\tremaining: 8.46s\n",
      "247:\tlearn: 0.1051899\ttotal: 2.78s\tremaining: 8.44s\n",
      "248:\tlearn: 0.1050200\ttotal: 2.79s\tremaining: 8.43s\n",
      "249:\tlearn: 0.1048202\ttotal: 2.81s\tremaining: 8.41s\n",
      "250:\tlearn: 0.1046373\ttotal: 2.81s\tremaining: 8.4s\n",
      "251:\tlearn: 0.1045374\ttotal: 2.83s\tremaining: 8.39s\n",
      "252:\tlearn: 0.1043069\ttotal: 2.83s\tremaining: 8.37s\n",
      "253:\tlearn: 0.1040064\ttotal: 2.85s\tremaining: 8.36s\n",
      "254:\tlearn: 0.1038423\ttotal: 2.86s\tremaining: 8.35s\n",
      "255:\tlearn: 0.1036018\ttotal: 2.87s\tremaining: 8.33s\n",
      "256:\tlearn: 0.1033121\ttotal: 2.88s\tremaining: 8.32s\n",
      "257:\tlearn: 0.1031548\ttotal: 2.89s\tremaining: 8.31s\n",
      "258:\tlearn: 0.1029670\ttotal: 2.9s\tremaining: 8.31s\n",
      "259:\tlearn: 0.1028992\ttotal: 2.91s\tremaining: 8.29s\n",
      "260:\tlearn: 0.1027910\ttotal: 2.92s\tremaining: 8.28s\n",
      "261:\tlearn: 0.1026094\ttotal: 2.94s\tremaining: 8.27s\n",
      "262:\tlearn: 0.1023898\ttotal: 2.95s\tremaining: 8.26s\n",
      "263:\tlearn: 0.1022354\ttotal: 2.96s\tremaining: 8.25s\n",
      "264:\tlearn: 0.1019403\ttotal: 2.97s\tremaining: 8.24s\n",
      "265:\tlearn: 0.1017986\ttotal: 2.98s\tremaining: 8.23s\n",
      "266:\tlearn: 0.1016722\ttotal: 2.99s\tremaining: 8.21s\n",
      "267:\tlearn: 0.1014389\ttotal: 3s\tremaining: 8.2s\n",
      "268:\tlearn: 0.1012210\ttotal: 3.01s\tremaining: 8.19s\n",
      "269:\tlearn: 0.1010113\ttotal: 3.02s\tremaining: 8.17s\n",
      "270:\tlearn: 0.1008838\ttotal: 3.03s\tremaining: 8.16s\n",
      "271:\tlearn: 0.1005970\ttotal: 3.04s\tremaining: 8.14s\n",
      "272:\tlearn: 0.1004261\ttotal: 3.05s\tremaining: 8.13s\n",
      "273:\tlearn: 0.1001825\ttotal: 3.06s\tremaining: 8.12s\n",
      "274:\tlearn: 0.0999901\ttotal: 3.07s\tremaining: 8.1s\n",
      "275:\tlearn: 0.0997788\ttotal: 3.09s\tremaining: 8.1s\n",
      "276:\tlearn: 0.0996133\ttotal: 3.1s\tremaining: 8.08s\n",
      "277:\tlearn: 0.0992918\ttotal: 3.11s\tremaining: 8.07s\n",
      "278:\tlearn: 0.0989403\ttotal: 3.12s\tremaining: 8.07s\n",
      "279:\tlearn: 0.0987968\ttotal: 3.13s\tremaining: 8.06s\n",
      "280:\tlearn: 0.0986756\ttotal: 3.15s\tremaining: 8.05s\n",
      "281:\tlearn: 0.0985205\ttotal: 3.15s\tremaining: 8.03s\n",
      "282:\tlearn: 0.0983867\ttotal: 3.17s\tremaining: 8.02s\n",
      "283:\tlearn: 0.0982459\ttotal: 3.18s\tremaining: 8.01s\n",
      "284:\tlearn: 0.0980782\ttotal: 3.19s\tremaining: 8s\n",
      "285:\tlearn: 0.0977992\ttotal: 3.2s\tremaining: 7.99s\n",
      "286:\tlearn: 0.0973941\ttotal: 3.21s\tremaining: 7.98s\n",
      "287:\tlearn: 0.0970922\ttotal: 3.22s\tremaining: 7.96s\n",
      "288:\tlearn: 0.0969478\ttotal: 3.23s\tremaining: 7.95s\n",
      "289:\tlearn: 0.0967557\ttotal: 3.24s\tremaining: 7.93s\n",
      "290:\tlearn: 0.0964572\ttotal: 3.25s\tremaining: 7.92s\n",
      "291:\tlearn: 0.0962992\ttotal: 3.26s\tremaining: 7.91s\n",
      "292:\tlearn: 0.0961157\ttotal: 3.27s\tremaining: 7.9s\n",
      "293:\tlearn: 0.0960234\ttotal: 3.28s\tremaining: 7.88s\n",
      "294:\tlearn: 0.0958699\ttotal: 3.29s\tremaining: 7.88s\n",
      "295:\tlearn: 0.0957780\ttotal: 3.3s\tremaining: 7.86s\n",
      "296:\tlearn: 0.0954405\ttotal: 3.32s\tremaining: 7.85s\n",
      "297:\tlearn: 0.0951529\ttotal: 3.33s\tremaining: 7.85s\n",
      "298:\tlearn: 0.0950195\ttotal: 3.34s\tremaining: 7.84s\n",
      "299:\tlearn: 0.0949099\ttotal: 3.35s\tremaining: 7.83s\n",
      "300:\tlearn: 0.0947710\ttotal: 3.36s\tremaining: 7.81s\n",
      "301:\tlearn: 0.0944104\ttotal: 3.38s\tremaining: 7.8s\n",
      "302:\tlearn: 0.0943252\ttotal: 3.39s\tremaining: 7.79s\n",
      "303:\tlearn: 0.0941631\ttotal: 3.4s\tremaining: 7.78s\n",
      "304:\tlearn: 0.0940563\ttotal: 3.41s\tremaining: 7.77s\n",
      "305:\tlearn: 0.0938355\ttotal: 3.42s\tremaining: 7.75s\n",
      "306:\tlearn: 0.0936353\ttotal: 3.43s\tremaining: 7.74s\n",
      "307:\tlearn: 0.0935031\ttotal: 3.44s\tremaining: 7.73s\n",
      "308:\tlearn: 0.0933199\ttotal: 3.45s\tremaining: 7.71s\n",
      "309:\tlearn: 0.0932227\ttotal: 3.46s\tremaining: 7.7s\n",
      "310:\tlearn: 0.0930859\ttotal: 3.47s\tremaining: 7.69s\n",
      "311:\tlearn: 0.0929213\ttotal: 3.48s\tremaining: 7.67s\n",
      "312:\tlearn: 0.0927566\ttotal: 3.49s\tremaining: 7.66s\n",
      "313:\tlearn: 0.0926559\ttotal: 3.5s\tremaining: 7.65s\n",
      "314:\tlearn: 0.0925576\ttotal: 3.51s\tremaining: 7.64s\n",
      "315:\tlearn: 0.0924545\ttotal: 3.53s\tremaining: 7.63s\n",
      "316:\tlearn: 0.0921620\ttotal: 3.54s\tremaining: 7.63s\n",
      "317:\tlearn: 0.0919318\ttotal: 3.55s\tremaining: 7.61s\n",
      "318:\tlearn: 0.0918137\ttotal: 3.56s\tremaining: 7.6s\n",
      "319:\tlearn: 0.0916441\ttotal: 3.57s\tremaining: 7.6s\n",
      "320:\tlearn: 0.0915343\ttotal: 3.59s\tremaining: 7.59s\n",
      "321:\tlearn: 0.0913953\ttotal: 3.6s\tremaining: 7.58s\n",
      "322:\tlearn: 0.0912565\ttotal: 3.61s\tremaining: 7.56s\n",
      "323:\tlearn: 0.0910895\ttotal: 3.62s\tremaining: 7.55s\n",
      "324:\tlearn: 0.0909163\ttotal: 3.63s\tremaining: 7.54s\n",
      "325:\tlearn: 0.0906018\ttotal: 3.64s\tremaining: 7.53s\n",
      "326:\tlearn: 0.0904443\ttotal: 3.65s\tremaining: 7.51s\n",
      "327:\tlearn: 0.0902020\ttotal: 3.66s\tremaining: 7.5s\n",
      "328:\tlearn: 0.0900651\ttotal: 3.67s\tremaining: 7.49s\n",
      "329:\tlearn: 0.0899766\ttotal: 3.68s\tremaining: 7.47s\n",
      "330:\tlearn: 0.0898521\ttotal: 3.69s\tremaining: 7.46s\n",
      "331:\tlearn: 0.0896392\ttotal: 3.7s\tremaining: 7.45s\n",
      "332:\tlearn: 0.0894839\ttotal: 3.71s\tremaining: 7.44s\n",
      "333:\tlearn: 0.0894132\ttotal: 3.72s\tremaining: 7.43s\n",
      "334:\tlearn: 0.0892818\ttotal: 3.74s\tremaining: 7.42s\n",
      "335:\tlearn: 0.0891782\ttotal: 3.75s\tremaining: 7.41s\n",
      "336:\tlearn: 0.0890283\ttotal: 3.76s\tremaining: 7.4s\n",
      "337:\tlearn: 0.0888165\ttotal: 3.77s\tremaining: 7.39s\n",
      "338:\tlearn: 0.0886637\ttotal: 3.78s\tremaining: 7.38s\n",
      "339:\tlearn: 0.0885746\ttotal: 3.79s\tremaining: 7.36s\n",
      "340:\tlearn: 0.0883783\ttotal: 3.8s\tremaining: 7.35s\n",
      "341:\tlearn: 0.0882635\ttotal: 3.81s\tremaining: 7.34s\n",
      "342:\tlearn: 0.0880811\ttotal: 3.82s\tremaining: 7.33s\n",
      "343:\tlearn: 0.0879822\ttotal: 3.83s\tremaining: 7.31s\n",
      "344:\tlearn: 0.0877492\ttotal: 3.84s\tremaining: 7.3s\n",
      "345:\tlearn: 0.0876186\ttotal: 3.85s\tremaining: 7.28s\n",
      "346:\tlearn: 0.0875369\ttotal: 3.87s\tremaining: 7.27s\n",
      "347:\tlearn: 0.0874505\ttotal: 3.88s\tremaining: 7.26s\n",
      "348:\tlearn: 0.0873333\ttotal: 3.88s\tremaining: 7.25s\n",
      "349:\tlearn: 0.0871509\ttotal: 3.9s\tremaining: 7.24s\n",
      "350:\tlearn: 0.0870056\ttotal: 3.91s\tremaining: 7.23s\n",
      "351:\tlearn: 0.0869086\ttotal: 3.92s\tremaining: 7.21s\n",
      "352:\tlearn: 0.0867270\ttotal: 3.93s\tremaining: 7.21s\n",
      "353:\tlearn: 0.0866224\ttotal: 3.95s\tremaining: 7.2s\n",
      "354:\tlearn: 0.0865227\ttotal: 3.96s\tremaining: 7.19s\n",
      "355:\tlearn: 0.0864105\ttotal: 3.97s\tremaining: 7.18s\n",
      "356:\tlearn: 0.0862383\ttotal: 3.98s\tremaining: 7.17s\n",
      "357:\tlearn: 0.0860430\ttotal: 3.99s\tremaining: 7.15s\n",
      "358:\tlearn: 0.0859303\ttotal: 4s\tremaining: 7.14s\n",
      "359:\tlearn: 0.0857292\ttotal: 4.01s\tremaining: 7.13s\n",
      "360:\tlearn: 0.0856236\ttotal: 4.02s\tremaining: 7.12s\n",
      "361:\tlearn: 0.0854930\ttotal: 4.03s\tremaining: 7.1s\n",
      "362:\tlearn: 0.0853919\ttotal: 4.04s\tremaining: 7.09s\n",
      "363:\tlearn: 0.0852549\ttotal: 4.05s\tremaining: 7.08s\n",
      "364:\tlearn: 0.0850930\ttotal: 4.06s\tremaining: 7.07s\n",
      "365:\tlearn: 0.0849939\ttotal: 4.07s\tremaining: 7.06s\n",
      "366:\tlearn: 0.0848764\ttotal: 4.08s\tremaining: 7.04s\n",
      "367:\tlearn: 0.0847200\ttotal: 4.09s\tremaining: 7.03s\n",
      "368:\tlearn: 0.0845282\ttotal: 4.11s\tremaining: 7.02s\n",
      "369:\tlearn: 0.0844123\ttotal: 4.12s\tremaining: 7.01s\n",
      "370:\tlearn: 0.0842026\ttotal: 4.13s\tremaining: 7s\n",
      "371:\tlearn: 0.0840947\ttotal: 4.14s\tremaining: 6.99s\n",
      "372:\tlearn: 0.0839764\ttotal: 4.15s\tremaining: 6.98s\n",
      "373:\tlearn: 0.0837128\ttotal: 4.16s\tremaining: 6.97s\n",
      "374:\tlearn: 0.0835944\ttotal: 4.17s\tremaining: 6.96s\n",
      "375:\tlearn: 0.0833459\ttotal: 4.19s\tremaining: 6.95s\n",
      "376:\tlearn: 0.0832125\ttotal: 4.2s\tremaining: 6.93s\n",
      "377:\tlearn: 0.0830425\ttotal: 4.21s\tremaining: 6.92s\n",
      "378:\tlearn: 0.0827966\ttotal: 4.22s\tremaining: 6.91s\n",
      "379:\tlearn: 0.0825425\ttotal: 4.23s\tremaining: 6.9s\n",
      "380:\tlearn: 0.0824341\ttotal: 4.24s\tremaining: 6.89s\n",
      "381:\tlearn: 0.0821850\ttotal: 4.25s\tremaining: 6.88s\n",
      "382:\tlearn: 0.0820482\ttotal: 4.26s\tremaining: 6.86s\n",
      "383:\tlearn: 0.0818314\ttotal: 4.27s\tremaining: 6.85s\n",
      "384:\tlearn: 0.0817554\ttotal: 4.28s\tremaining: 6.84s\n",
      "385:\tlearn: 0.0816202\ttotal: 4.29s\tremaining: 6.82s\n",
      "386:\tlearn: 0.0814994\ttotal: 4.3s\tremaining: 6.82s\n",
      "387:\tlearn: 0.0813680\ttotal: 4.31s\tremaining: 6.8s\n",
      "388:\tlearn: 0.0812090\ttotal: 4.33s\tremaining: 6.79s\n",
      "389:\tlearn: 0.0809754\ttotal: 4.34s\tremaining: 6.79s\n",
      "390:\tlearn: 0.0808997\ttotal: 4.35s\tremaining: 6.78s\n",
      "391:\tlearn: 0.0808270\ttotal: 4.36s\tremaining: 6.77s\n",
      "392:\tlearn: 0.0807451\ttotal: 4.37s\tremaining: 6.75s\n",
      "393:\tlearn: 0.0806398\ttotal: 4.38s\tremaining: 6.74s\n",
      "394:\tlearn: 0.0805210\ttotal: 4.39s\tremaining: 6.73s\n",
      "395:\tlearn: 0.0804582\ttotal: 4.4s\tremaining: 6.71s\n",
      "396:\tlearn: 0.0802994\ttotal: 4.42s\tremaining: 6.71s\n",
      "397:\tlearn: 0.0800778\ttotal: 4.42s\tremaining: 6.69s\n",
      "398:\tlearn: 0.0798993\ttotal: 4.43s\tremaining: 6.68s\n",
      "399:\tlearn: 0.0797662\ttotal: 4.45s\tremaining: 6.67s\n",
      "400:\tlearn: 0.0797038\ttotal: 4.46s\tremaining: 6.66s\n",
      "401:\tlearn: 0.0796567\ttotal: 4.47s\tremaining: 6.64s\n",
      "402:\tlearn: 0.0795354\ttotal: 4.47s\tremaining: 6.63s\n",
      "403:\tlearn: 0.0794033\ttotal: 4.49s\tremaining: 6.62s\n",
      "404:\tlearn: 0.0793093\ttotal: 4.5s\tremaining: 6.61s\n",
      "405:\tlearn: 0.0791926\ttotal: 4.5s\tremaining: 6.59s\n",
      "406:\tlearn: 0.0790736\ttotal: 4.52s\tremaining: 6.58s\n",
      "407:\tlearn: 0.0789442\ttotal: 4.53s\tremaining: 6.57s\n",
      "408:\tlearn: 0.0786673\ttotal: 4.54s\tremaining: 6.56s\n",
      "409:\tlearn: 0.0785000\ttotal: 4.55s\tremaining: 6.55s\n",
      "410:\tlearn: 0.0783907\ttotal: 4.56s\tremaining: 6.54s\n",
      "411:\tlearn: 0.0782999\ttotal: 4.58s\tremaining: 6.53s\n",
      "412:\tlearn: 0.0782606\ttotal: 4.58s\tremaining: 6.52s\n",
      "413:\tlearn: 0.0780135\ttotal: 4.6s\tremaining: 6.51s\n",
      "414:\tlearn: 0.0779245\ttotal: 4.61s\tremaining: 6.5s\n",
      "415:\tlearn: 0.0778167\ttotal: 4.62s\tremaining: 6.48s\n",
      "416:\tlearn: 0.0777577\ttotal: 4.63s\tremaining: 6.47s\n",
      "417:\tlearn: 0.0775894\ttotal: 4.64s\tremaining: 6.46s\n",
      "418:\tlearn: 0.0774022\ttotal: 4.65s\tremaining: 6.45s\n",
      "419:\tlearn: 0.0773310\ttotal: 4.66s\tremaining: 6.44s\n",
      "420:\tlearn: 0.0772304\ttotal: 4.67s\tremaining: 6.42s\n",
      "421:\tlearn: 0.0770261\ttotal: 4.68s\tremaining: 6.41s\n",
      "422:\tlearn: 0.0768946\ttotal: 4.69s\tremaining: 6.4s\n",
      "423:\tlearn: 0.0767840\ttotal: 4.7s\tremaining: 6.38s\n",
      "424:\tlearn: 0.0766628\ttotal: 4.71s\tremaining: 6.38s\n",
      "425:\tlearn: 0.0764415\ttotal: 4.72s\tremaining: 6.37s\n",
      "426:\tlearn: 0.0762663\ttotal: 4.73s\tremaining: 6.35s\n",
      "427:\tlearn: 0.0761656\ttotal: 4.75s\tremaining: 6.34s\n",
      "428:\tlearn: 0.0760142\ttotal: 4.76s\tremaining: 6.33s\n",
      "429:\tlearn: 0.0758448\ttotal: 4.77s\tremaining: 6.33s\n",
      "430:\tlearn: 0.0757417\ttotal: 4.78s\tremaining: 6.31s\n",
      "431:\tlearn: 0.0756539\ttotal: 4.79s\tremaining: 6.3s\n",
      "432:\tlearn: 0.0754538\ttotal: 4.8s\tremaining: 6.29s\n",
      "433:\tlearn: 0.0753049\ttotal: 4.81s\tremaining: 6.28s\n",
      "434:\tlearn: 0.0751572\ttotal: 4.82s\tremaining: 6.27s\n",
      "435:\tlearn: 0.0750494\ttotal: 4.84s\tremaining: 6.26s\n",
      "436:\tlearn: 0.0748624\ttotal: 4.85s\tremaining: 6.24s\n",
      "437:\tlearn: 0.0747259\ttotal: 4.86s\tremaining: 6.23s\n",
      "438:\tlearn: 0.0746112\ttotal: 4.87s\tremaining: 6.22s\n",
      "439:\tlearn: 0.0745283\ttotal: 4.88s\tremaining: 6.21s\n",
      "440:\tlearn: 0.0744522\ttotal: 4.89s\tremaining: 6.2s\n",
      "441:\tlearn: 0.0743639\ttotal: 4.9s\tremaining: 6.19s\n",
      "442:\tlearn: 0.0742379\ttotal: 4.91s\tremaining: 6.17s\n",
      "443:\tlearn: 0.0741498\ttotal: 4.93s\tremaining: 6.17s\n",
      "444:\tlearn: 0.0740697\ttotal: 4.94s\tremaining: 6.17s\n",
      "445:\tlearn: 0.0740190\ttotal: 4.96s\tremaining: 6.16s\n",
      "446:\tlearn: 0.0739874\ttotal: 4.97s\tremaining: 6.15s\n",
      "447:\tlearn: 0.0738201\ttotal: 4.98s\tremaining: 6.14s\n",
      "448:\tlearn: 0.0736438\ttotal: 4.99s\tremaining: 6.13s\n",
      "449:\tlearn: 0.0734929\ttotal: 5s\tremaining: 6.12s\n",
      "450:\tlearn: 0.0733543\ttotal: 5.01s\tremaining: 6.11s\n",
      "451:\tlearn: 0.0732696\ttotal: 5.03s\tremaining: 6.09s\n",
      "452:\tlearn: 0.0730921\ttotal: 5.04s\tremaining: 6.08s\n",
      "453:\tlearn: 0.0730209\ttotal: 5.05s\tremaining: 6.07s\n",
      "454:\tlearn: 0.0729236\ttotal: 5.06s\tremaining: 6.06s\n",
      "455:\tlearn: 0.0727913\ttotal: 5.07s\tremaining: 6.05s\n",
      "456:\tlearn: 0.0726850\ttotal: 5.08s\tremaining: 6.04s\n",
      "457:\tlearn: 0.0725857\ttotal: 5.09s\tremaining: 6.02s\n",
      "458:\tlearn: 0.0724941\ttotal: 5.1s\tremaining: 6.01s\n",
      "459:\tlearn: 0.0724459\ttotal: 5.11s\tremaining: 6s\n",
      "460:\tlearn: 0.0723198\ttotal: 5.12s\tremaining: 5.99s\n",
      "461:\tlearn: 0.0722455\ttotal: 5.13s\tremaining: 5.98s\n",
      "462:\tlearn: 0.0721633\ttotal: 5.15s\tremaining: 5.97s\n",
      "463:\tlearn: 0.0720673\ttotal: 5.16s\tremaining: 5.96s\n",
      "464:\tlearn: 0.0720009\ttotal: 5.17s\tremaining: 5.95s\n",
      "465:\tlearn: 0.0719260\ttotal: 5.18s\tremaining: 5.94s\n",
      "466:\tlearn: 0.0716823\ttotal: 5.19s\tremaining: 5.93s\n",
      "467:\tlearn: 0.0715838\ttotal: 5.2s\tremaining: 5.91s\n",
      "468:\tlearn: 0.0715208\ttotal: 5.21s\tremaining: 5.9s\n",
      "469:\tlearn: 0.0714273\ttotal: 5.22s\tremaining: 5.89s\n",
      "470:\tlearn: 0.0712111\ttotal: 5.23s\tremaining: 5.88s\n",
      "471:\tlearn: 0.0711253\ttotal: 5.24s\tremaining: 5.87s\n",
      "472:\tlearn: 0.0710700\ttotal: 5.26s\tremaining: 5.86s\n",
      "473:\tlearn: 0.0709343\ttotal: 5.27s\tremaining: 5.84s\n",
      "474:\tlearn: 0.0708421\ttotal: 5.28s\tremaining: 5.83s\n",
      "475:\tlearn: 0.0708068\ttotal: 5.29s\tremaining: 5.82s\n",
      "476:\tlearn: 0.0707051\ttotal: 5.3s\tremaining: 5.81s\n",
      "477:\tlearn: 0.0706060\ttotal: 5.31s\tremaining: 5.8s\n",
      "478:\tlearn: 0.0705259\ttotal: 5.32s\tremaining: 5.78s\n",
      "479:\tlearn: 0.0704609\ttotal: 5.33s\tremaining: 5.77s\n",
      "480:\tlearn: 0.0703403\ttotal: 5.34s\tremaining: 5.76s\n",
      "481:\tlearn: 0.0702320\ttotal: 5.36s\tremaining: 5.76s\n",
      "482:\tlearn: 0.0701314\ttotal: 5.37s\tremaining: 5.74s\n",
      "483:\tlearn: 0.0700398\ttotal: 5.38s\tremaining: 5.73s\n",
      "484:\tlearn: 0.0698904\ttotal: 5.39s\tremaining: 5.72s\n",
      "485:\tlearn: 0.0698409\ttotal: 5.4s\tremaining: 5.71s\n",
      "486:\tlearn: 0.0697906\ttotal: 5.41s\tremaining: 5.7s\n",
      "487:\tlearn: 0.0695677\ttotal: 5.42s\tremaining: 5.69s\n",
      "488:\tlearn: 0.0695335\ttotal: 5.43s\tremaining: 5.67s\n",
      "489:\tlearn: 0.0693755\ttotal: 5.44s\tremaining: 5.66s\n",
      "490:\tlearn: 0.0691966\ttotal: 5.45s\tremaining: 5.65s\n",
      "491:\tlearn: 0.0691263\ttotal: 5.46s\tremaining: 5.64s\n",
      "492:\tlearn: 0.0690233\ttotal: 5.47s\tremaining: 5.63s\n",
      "493:\tlearn: 0.0689284\ttotal: 5.48s\tremaining: 5.62s\n",
      "494:\tlearn: 0.0688996\ttotal: 5.49s\tremaining: 5.61s\n",
      "495:\tlearn: 0.0688270\ttotal: 5.51s\tremaining: 5.59s\n",
      "496:\tlearn: 0.0687094\ttotal: 5.52s\tremaining: 5.59s\n",
      "497:\tlearn: 0.0685829\ttotal: 5.53s\tremaining: 5.58s\n",
      "498:\tlearn: 0.0684896\ttotal: 5.54s\tremaining: 5.56s\n",
      "499:\tlearn: 0.0684097\ttotal: 5.55s\tremaining: 5.55s\n",
      "500:\tlearn: 0.0683510\ttotal: 5.56s\tremaining: 5.54s\n",
      "501:\tlearn: 0.0682301\ttotal: 5.57s\tremaining: 5.53s\n",
      "502:\tlearn: 0.0681376\ttotal: 5.58s\tremaining: 5.52s\n",
      "503:\tlearn: 0.0680681\ttotal: 5.59s\tremaining: 5.51s\n",
      "504:\tlearn: 0.0680063\ttotal: 5.6s\tremaining: 5.49s\n",
      "505:\tlearn: 0.0678892\ttotal: 5.62s\tremaining: 5.48s\n",
      "506:\tlearn: 0.0678316\ttotal: 5.63s\tremaining: 5.47s\n",
      "507:\tlearn: 0.0676665\ttotal: 5.64s\tremaining: 5.46s\n",
      "508:\tlearn: 0.0674765\ttotal: 5.65s\tremaining: 5.45s\n",
      "509:\tlearn: 0.0673975\ttotal: 5.66s\tremaining: 5.44s\n",
      "510:\tlearn: 0.0673016\ttotal: 5.67s\tremaining: 5.42s\n",
      "511:\tlearn: 0.0672367\ttotal: 5.68s\tremaining: 5.42s\n",
      "512:\tlearn: 0.0671268\ttotal: 5.69s\tremaining: 5.4s\n",
      "513:\tlearn: 0.0670012\ttotal: 5.7s\tremaining: 5.39s\n",
      "514:\tlearn: 0.0669316\ttotal: 5.71s\tremaining: 5.38s\n",
      "515:\tlearn: 0.0668780\ttotal: 5.73s\tremaining: 5.37s\n",
      "516:\tlearn: 0.0667419\ttotal: 5.74s\tremaining: 5.36s\n",
      "517:\tlearn: 0.0667004\ttotal: 5.75s\tremaining: 5.35s\n",
      "518:\tlearn: 0.0666106\ttotal: 5.76s\tremaining: 5.34s\n",
      "519:\tlearn: 0.0664386\ttotal: 5.77s\tremaining: 5.33s\n",
      "520:\tlearn: 0.0663778\ttotal: 5.78s\tremaining: 5.32s\n",
      "521:\tlearn: 0.0662590\ttotal: 5.79s\tremaining: 5.31s\n",
      "522:\tlearn: 0.0661463\ttotal: 5.8s\tremaining: 5.29s\n",
      "523:\tlearn: 0.0660298\ttotal: 5.82s\tremaining: 5.28s\n",
      "524:\tlearn: 0.0659583\ttotal: 5.83s\tremaining: 5.27s\n",
      "525:\tlearn: 0.0658624\ttotal: 5.84s\tremaining: 5.26s\n",
      "526:\tlearn: 0.0658282\ttotal: 5.85s\tremaining: 5.25s\n",
      "527:\tlearn: 0.0657071\ttotal: 5.86s\tremaining: 5.24s\n",
      "528:\tlearn: 0.0655613\ttotal: 5.87s\tremaining: 5.22s\n",
      "529:\tlearn: 0.0654562\ttotal: 5.88s\tremaining: 5.21s\n",
      "530:\tlearn: 0.0654210\ttotal: 5.89s\tremaining: 5.2s\n",
      "531:\tlearn: 0.0653109\ttotal: 5.9s\tremaining: 5.19s\n",
      "532:\tlearn: 0.0652259\ttotal: 5.91s\tremaining: 5.18s\n",
      "533:\tlearn: 0.0650905\ttotal: 5.93s\tremaining: 5.17s\n",
      "534:\tlearn: 0.0650408\ttotal: 5.94s\tremaining: 5.16s\n",
      "535:\tlearn: 0.0649730\ttotal: 5.95s\tremaining: 5.15s\n",
      "536:\tlearn: 0.0648754\ttotal: 5.96s\tremaining: 5.14s\n",
      "537:\tlearn: 0.0647866\ttotal: 5.97s\tremaining: 5.13s\n",
      "538:\tlearn: 0.0646848\ttotal: 5.98s\tremaining: 5.12s\n",
      "539:\tlearn: 0.0646161\ttotal: 5.99s\tremaining: 5.1s\n",
      "540:\tlearn: 0.0645386\ttotal: 6s\tremaining: 5.09s\n",
      "541:\tlearn: 0.0644838\ttotal: 6.01s\tremaining: 5.08s\n",
      "542:\tlearn: 0.0643888\ttotal: 6.02s\tremaining: 5.07s\n",
      "543:\tlearn: 0.0643070\ttotal: 6.03s\tremaining: 5.06s\n",
      "544:\tlearn: 0.0642556\ttotal: 6.04s\tremaining: 5.04s\n",
      "545:\tlearn: 0.0641635\ttotal: 6.05s\tremaining: 5.04s\n",
      "546:\tlearn: 0.0640953\ttotal: 6.06s\tremaining: 5.02s\n",
      "547:\tlearn: 0.0640055\ttotal: 6.07s\tremaining: 5.01s\n",
      "548:\tlearn: 0.0639851\ttotal: 6.08s\tremaining: 5s\n",
      "549:\tlearn: 0.0639092\ttotal: 6.09s\tremaining: 4.99s\n",
      "550:\tlearn: 0.0638482\ttotal: 6.11s\tremaining: 4.98s\n",
      "551:\tlearn: 0.0638022\ttotal: 6.12s\tremaining: 4.96s\n",
      "552:\tlearn: 0.0637169\ttotal: 6.13s\tremaining: 4.96s\n",
      "553:\tlearn: 0.0636049\ttotal: 6.14s\tremaining: 4.95s\n",
      "554:\tlearn: 0.0635219\ttotal: 6.16s\tremaining: 4.93s\n",
      "555:\tlearn: 0.0633735\ttotal: 6.17s\tremaining: 4.92s\n",
      "556:\tlearn: 0.0633012\ttotal: 6.18s\tremaining: 4.91s\n",
      "557:\tlearn: 0.0632257\ttotal: 6.19s\tremaining: 4.9s\n",
      "558:\tlearn: 0.0631941\ttotal: 6.2s\tremaining: 4.89s\n",
      "559:\tlearn: 0.0631318\ttotal: 6.21s\tremaining: 4.88s\n",
      "560:\tlearn: 0.0630570\ttotal: 6.22s\tremaining: 4.87s\n",
      "561:\tlearn: 0.0630033\ttotal: 6.23s\tremaining: 4.85s\n",
      "562:\tlearn: 0.0628329\ttotal: 6.24s\tremaining: 4.84s\n",
      "563:\tlearn: 0.0627504\ttotal: 6.25s\tremaining: 4.83s\n",
      "564:\tlearn: 0.0626014\ttotal: 6.26s\tremaining: 4.82s\n",
      "565:\tlearn: 0.0624194\ttotal: 6.27s\tremaining: 4.81s\n",
      "566:\tlearn: 0.0623876\ttotal: 6.28s\tremaining: 4.8s\n",
      "567:\tlearn: 0.0622785\ttotal: 6.29s\tremaining: 4.78s\n",
      "568:\tlearn: 0.0622390\ttotal: 6.3s\tremaining: 4.77s\n",
      "569:\tlearn: 0.0621889\ttotal: 6.32s\tremaining: 4.76s\n",
      "570:\tlearn: 0.0620741\ttotal: 6.33s\tremaining: 4.75s\n",
      "571:\tlearn: 0.0620024\ttotal: 6.34s\tremaining: 4.74s\n",
      "572:\tlearn: 0.0619442\ttotal: 6.35s\tremaining: 4.73s\n",
      "573:\tlearn: 0.0618881\ttotal: 6.36s\tremaining: 4.72s\n",
      "574:\tlearn: 0.0618297\ttotal: 6.37s\tremaining: 4.71s\n",
      "575:\tlearn: 0.0617874\ttotal: 6.38s\tremaining: 4.7s\n",
      "576:\tlearn: 0.0617610\ttotal: 6.39s\tremaining: 4.68s\n",
      "577:\tlearn: 0.0616338\ttotal: 6.4s\tremaining: 4.67s\n",
      "578:\tlearn: 0.0615819\ttotal: 6.41s\tremaining: 4.66s\n",
      "579:\tlearn: 0.0614552\ttotal: 6.42s\tremaining: 4.65s\n",
      "580:\tlearn: 0.0613907\ttotal: 6.43s\tremaining: 4.64s\n",
      "581:\tlearn: 0.0612974\ttotal: 6.44s\tremaining: 4.63s\n",
      "582:\tlearn: 0.0612293\ttotal: 6.45s\tremaining: 4.62s\n",
      "583:\tlearn: 0.0611545\ttotal: 6.46s\tremaining: 4.6s\n",
      "584:\tlearn: 0.0610554\ttotal: 6.47s\tremaining: 4.59s\n",
      "585:\tlearn: 0.0609961\ttotal: 6.48s\tremaining: 4.58s\n",
      "586:\tlearn: 0.0608775\ttotal: 6.49s\tremaining: 4.57s\n",
      "587:\tlearn: 0.0608345\ttotal: 6.5s\tremaining: 4.56s\n",
      "588:\tlearn: 0.0607645\ttotal: 6.51s\tremaining: 4.54s\n",
      "589:\tlearn: 0.0606511\ttotal: 6.53s\tremaining: 4.54s\n",
      "590:\tlearn: 0.0605645\ttotal: 6.54s\tremaining: 4.53s\n",
      "591:\tlearn: 0.0604734\ttotal: 6.55s\tremaining: 4.52s\n",
      "592:\tlearn: 0.0603200\ttotal: 6.56s\tremaining: 4.5s\n",
      "593:\tlearn: 0.0602462\ttotal: 6.57s\tremaining: 4.49s\n",
      "594:\tlearn: 0.0602247\ttotal: 6.58s\tremaining: 4.48s\n",
      "595:\tlearn: 0.0601486\ttotal: 6.59s\tremaining: 4.47s\n",
      "596:\tlearn: 0.0601229\ttotal: 6.61s\tremaining: 4.46s\n",
      "597:\tlearn: 0.0599934\ttotal: 6.61s\tremaining: 4.45s\n",
      "598:\tlearn: 0.0599369\ttotal: 6.62s\tremaining: 4.43s\n",
      "599:\tlearn: 0.0599063\ttotal: 6.64s\tremaining: 4.42s\n",
      "600:\tlearn: 0.0598463\ttotal: 6.64s\tremaining: 4.41s\n",
      "601:\tlearn: 0.0597645\ttotal: 6.66s\tremaining: 4.4s\n",
      "602:\tlearn: 0.0596896\ttotal: 6.67s\tremaining: 4.39s\n",
      "603:\tlearn: 0.0596038\ttotal: 6.67s\tremaining: 4.38s\n",
      "604:\tlearn: 0.0595058\ttotal: 6.68s\tremaining: 4.37s\n",
      "605:\tlearn: 0.0593888\ttotal: 6.7s\tremaining: 4.35s\n",
      "606:\tlearn: 0.0592850\ttotal: 6.71s\tremaining: 4.34s\n",
      "607:\tlearn: 0.0592352\ttotal: 6.72s\tremaining: 4.33s\n",
      "608:\tlearn: 0.0591538\ttotal: 6.73s\tremaining: 4.32s\n",
      "609:\tlearn: 0.0590765\ttotal: 6.74s\tremaining: 4.31s\n",
      "610:\tlearn: 0.0589963\ttotal: 6.77s\tremaining: 4.31s\n",
      "611:\tlearn: 0.0589451\ttotal: 6.79s\tremaining: 4.3s\n",
      "612:\tlearn: 0.0588700\ttotal: 6.8s\tremaining: 4.29s\n",
      "613:\tlearn: 0.0587818\ttotal: 6.82s\tremaining: 4.28s\n",
      "614:\tlearn: 0.0586793\ttotal: 6.83s\tremaining: 4.27s\n",
      "615:\tlearn: 0.0586120\ttotal: 6.84s\tremaining: 4.26s\n",
      "616:\tlearn: 0.0585969\ttotal: 6.85s\tremaining: 4.25s\n",
      "617:\tlearn: 0.0585055\ttotal: 6.86s\tremaining: 4.24s\n",
      "618:\tlearn: 0.0584203\ttotal: 6.87s\tremaining: 4.23s\n",
      "619:\tlearn: 0.0583229\ttotal: 6.88s\tremaining: 4.21s\n",
      "620:\tlearn: 0.0582519\ttotal: 6.89s\tremaining: 4.2s\n",
      "621:\tlearn: 0.0582188\ttotal: 6.9s\tremaining: 4.19s\n",
      "622:\tlearn: 0.0581257\ttotal: 6.91s\tremaining: 4.18s\n",
      "623:\tlearn: 0.0580540\ttotal: 6.92s\tremaining: 4.17s\n",
      "624:\tlearn: 0.0579929\ttotal: 6.93s\tremaining: 4.16s\n",
      "625:\tlearn: 0.0579693\ttotal: 6.94s\tremaining: 4.15s\n",
      "626:\tlearn: 0.0579313\ttotal: 6.95s\tremaining: 4.14s\n",
      "627:\tlearn: 0.0578448\ttotal: 6.97s\tremaining: 4.13s\n",
      "628:\tlearn: 0.0578016\ttotal: 6.98s\tremaining: 4.12s\n",
      "629:\tlearn: 0.0576768\ttotal: 6.99s\tremaining: 4.1s\n",
      "630:\tlearn: 0.0576565\ttotal: 7s\tremaining: 4.09s\n",
      "631:\tlearn: 0.0576129\ttotal: 7.01s\tremaining: 4.08s\n",
      "632:\tlearn: 0.0575668\ttotal: 7.02s\tremaining: 4.07s\n",
      "633:\tlearn: 0.0575134\ttotal: 7.03s\tremaining: 4.06s\n",
      "634:\tlearn: 0.0574578\ttotal: 7.04s\tremaining: 4.05s\n",
      "635:\tlearn: 0.0574025\ttotal: 7.05s\tremaining: 4.04s\n",
      "636:\tlearn: 0.0573373\ttotal: 7.06s\tremaining: 4.02s\n",
      "637:\tlearn: 0.0572756\ttotal: 7.07s\tremaining: 4.01s\n",
      "638:\tlearn: 0.0571885\ttotal: 7.08s\tremaining: 4s\n",
      "639:\tlearn: 0.0571264\ttotal: 7.09s\tremaining: 3.99s\n",
      "640:\tlearn: 0.0570253\ttotal: 7.1s\tremaining: 3.98s\n",
      "641:\tlearn: 0.0569908\ttotal: 7.11s\tremaining: 3.97s\n",
      "642:\tlearn: 0.0568179\ttotal: 7.13s\tremaining: 3.96s\n",
      "643:\tlearn: 0.0567243\ttotal: 7.13s\tremaining: 3.94s\n",
      "644:\tlearn: 0.0566800\ttotal: 7.14s\tremaining: 3.93s\n",
      "645:\tlearn: 0.0566162\ttotal: 7.16s\tremaining: 3.92s\n",
      "646:\tlearn: 0.0565950\ttotal: 7.17s\tremaining: 3.91s\n",
      "647:\tlearn: 0.0565251\ttotal: 7.18s\tremaining: 3.9s\n",
      "648:\tlearn: 0.0563672\ttotal: 7.19s\tremaining: 3.89s\n",
      "649:\tlearn: 0.0562554\ttotal: 7.2s\tremaining: 3.88s\n",
      "650:\tlearn: 0.0561655\ttotal: 7.21s\tremaining: 3.87s\n",
      "651:\tlearn: 0.0560528\ttotal: 7.22s\tremaining: 3.86s\n",
      "652:\tlearn: 0.0559336\ttotal: 7.24s\tremaining: 3.85s\n",
      "653:\tlearn: 0.0558795\ttotal: 7.25s\tremaining: 3.83s\n",
      "654:\tlearn: 0.0557737\ttotal: 7.26s\tremaining: 3.82s\n",
      "655:\tlearn: 0.0557034\ttotal: 7.27s\tremaining: 3.81s\n",
      "656:\tlearn: 0.0556869\ttotal: 7.28s\tremaining: 3.8s\n",
      "657:\tlearn: 0.0556282\ttotal: 7.29s\tremaining: 3.79s\n",
      "658:\tlearn: 0.0555637\ttotal: 7.3s\tremaining: 3.77s\n",
      "659:\tlearn: 0.0555012\ttotal: 7.31s\tremaining: 3.76s\n",
      "660:\tlearn: 0.0554464\ttotal: 7.32s\tremaining: 3.75s\n",
      "661:\tlearn: 0.0553534\ttotal: 7.33s\tremaining: 3.74s\n",
      "662:\tlearn: 0.0551496\ttotal: 7.34s\tremaining: 3.73s\n",
      "663:\tlearn: 0.0550526\ttotal: 7.35s\tremaining: 3.72s\n",
      "664:\tlearn: 0.0549944\ttotal: 7.36s\tremaining: 3.71s\n",
      "665:\tlearn: 0.0549659\ttotal: 7.37s\tremaining: 3.7s\n",
      "666:\tlearn: 0.0548922\ttotal: 7.39s\tremaining: 3.69s\n",
      "667:\tlearn: 0.0548332\ttotal: 7.4s\tremaining: 3.68s\n",
      "668:\tlearn: 0.0547741\ttotal: 7.41s\tremaining: 3.67s\n",
      "669:\tlearn: 0.0546739\ttotal: 7.42s\tremaining: 3.65s\n",
      "670:\tlearn: 0.0544837\ttotal: 7.43s\tremaining: 3.64s\n",
      "671:\tlearn: 0.0544163\ttotal: 7.44s\tremaining: 3.63s\n",
      "672:\tlearn: 0.0543718\ttotal: 7.45s\tremaining: 3.62s\n",
      "673:\tlearn: 0.0543141\ttotal: 7.46s\tremaining: 3.61s\n",
      "674:\tlearn: 0.0542180\ttotal: 7.47s\tremaining: 3.6s\n",
      "675:\tlearn: 0.0541991\ttotal: 7.48s\tremaining: 3.58s\n",
      "676:\tlearn: 0.0541746\ttotal: 7.49s\tremaining: 3.57s\n",
      "677:\tlearn: 0.0539265\ttotal: 7.5s\tremaining: 3.56s\n",
      "678:\tlearn: 0.0538528\ttotal: 7.51s\tremaining: 3.55s\n",
      "679:\tlearn: 0.0537826\ttotal: 7.52s\tremaining: 3.54s\n",
      "680:\tlearn: 0.0537163\ttotal: 7.53s\tremaining: 3.53s\n",
      "681:\tlearn: 0.0536612\ttotal: 7.54s\tremaining: 3.52s\n",
      "682:\tlearn: 0.0535820\ttotal: 7.55s\tremaining: 3.5s\n",
      "683:\tlearn: 0.0534952\ttotal: 7.57s\tremaining: 3.5s\n",
      "684:\tlearn: 0.0534388\ttotal: 7.58s\tremaining: 3.48s\n",
      "685:\tlearn: 0.0533178\ttotal: 7.59s\tremaining: 3.48s\n",
      "686:\tlearn: 0.0532693\ttotal: 7.6s\tremaining: 3.46s\n",
      "687:\tlearn: 0.0532036\ttotal: 7.61s\tremaining: 3.45s\n",
      "688:\tlearn: 0.0529988\ttotal: 7.63s\tremaining: 3.44s\n",
      "689:\tlearn: 0.0529449\ttotal: 7.63s\tremaining: 3.43s\n",
      "690:\tlearn: 0.0528506\ttotal: 7.64s\tremaining: 3.42s\n",
      "691:\tlearn: 0.0527908\ttotal: 7.66s\tremaining: 3.41s\n",
      "692:\tlearn: 0.0527415\ttotal: 7.67s\tremaining: 3.4s\n",
      "693:\tlearn: 0.0526744\ttotal: 7.68s\tremaining: 3.38s\n",
      "694:\tlearn: 0.0526012\ttotal: 7.69s\tremaining: 3.37s\n",
      "695:\tlearn: 0.0525083\ttotal: 7.7s\tremaining: 3.36s\n",
      "696:\tlearn: 0.0524488\ttotal: 7.71s\tremaining: 3.35s\n",
      "697:\tlearn: 0.0523785\ttotal: 7.72s\tremaining: 3.34s\n",
      "698:\tlearn: 0.0523208\ttotal: 7.73s\tremaining: 3.33s\n",
      "699:\tlearn: 0.0523054\ttotal: 7.74s\tremaining: 3.32s\n",
      "700:\tlearn: 0.0522528\ttotal: 7.75s\tremaining: 3.31s\n",
      "701:\tlearn: 0.0521420\ttotal: 7.76s\tremaining: 3.29s\n",
      "702:\tlearn: 0.0520328\ttotal: 7.77s\tremaining: 3.28s\n",
      "703:\tlearn: 0.0520065\ttotal: 7.78s\tremaining: 3.27s\n",
      "704:\tlearn: 0.0517951\ttotal: 7.79s\tremaining: 3.26s\n",
      "705:\tlearn: 0.0517435\ttotal: 7.81s\tremaining: 3.25s\n",
      "706:\tlearn: 0.0516971\ttotal: 7.82s\tremaining: 3.24s\n",
      "707:\tlearn: 0.0516291\ttotal: 7.83s\tremaining: 3.23s\n",
      "708:\tlearn: 0.0516063\ttotal: 7.84s\tremaining: 3.22s\n",
      "709:\tlearn: 0.0514926\ttotal: 7.85s\tremaining: 3.21s\n",
      "710:\tlearn: 0.0514346\ttotal: 7.86s\tremaining: 3.19s\n",
      "711:\tlearn: 0.0513952\ttotal: 7.87s\tremaining: 3.18s\n",
      "712:\tlearn: 0.0513501\ttotal: 7.88s\tremaining: 3.17s\n",
      "713:\tlearn: 0.0512138\ttotal: 7.89s\tremaining: 3.16s\n",
      "714:\tlearn: 0.0511334\ttotal: 7.91s\tremaining: 3.15s\n",
      "715:\tlearn: 0.0510822\ttotal: 7.92s\tremaining: 3.14s\n",
      "716:\tlearn: 0.0510324\ttotal: 7.92s\tremaining: 3.13s\n",
      "717:\tlearn: 0.0509687\ttotal: 7.93s\tremaining: 3.12s\n",
      "718:\tlearn: 0.0509278\ttotal: 7.94s\tremaining: 3.1s\n",
      "719:\tlearn: 0.0508823\ttotal: 7.96s\tremaining: 3.09s\n",
      "720:\tlearn: 0.0508310\ttotal: 7.97s\tremaining: 3.08s\n",
      "721:\tlearn: 0.0507471\ttotal: 7.98s\tremaining: 3.07s\n",
      "722:\tlearn: 0.0507284\ttotal: 7.99s\tremaining: 3.06s\n",
      "723:\tlearn: 0.0506941\ttotal: 8s\tremaining: 3.05s\n",
      "724:\tlearn: 0.0506655\ttotal: 8.02s\tremaining: 3.04s\n",
      "725:\tlearn: 0.0506406\ttotal: 8.03s\tremaining: 3.03s\n",
      "726:\tlearn: 0.0505976\ttotal: 8.04s\tremaining: 3.02s\n",
      "727:\tlearn: 0.0505426\ttotal: 8.05s\tremaining: 3.01s\n",
      "728:\tlearn: 0.0505291\ttotal: 8.06s\tremaining: 3s\n",
      "729:\tlearn: 0.0504975\ttotal: 8.07s\tremaining: 2.98s\n",
      "730:\tlearn: 0.0504260\ttotal: 8.08s\tremaining: 2.97s\n",
      "731:\tlearn: 0.0504030\ttotal: 8.09s\tremaining: 2.96s\n",
      "732:\tlearn: 0.0502965\ttotal: 8.1s\tremaining: 2.95s\n",
      "733:\tlearn: 0.0502786\ttotal: 8.11s\tremaining: 2.94s\n",
      "734:\tlearn: 0.0502327\ttotal: 8.12s\tremaining: 2.93s\n",
      "735:\tlearn: 0.0501869\ttotal: 8.13s\tremaining: 2.92s\n",
      "736:\tlearn: 0.0501381\ttotal: 8.14s\tremaining: 2.9s\n",
      "737:\tlearn: 0.0501156\ttotal: 8.15s\tremaining: 2.89s\n",
      "738:\tlearn: 0.0500721\ttotal: 8.16s\tremaining: 2.88s\n",
      "739:\tlearn: 0.0500203\ttotal: 8.17s\tremaining: 2.87s\n",
      "740:\tlearn: 0.0500134\ttotal: 8.18s\tremaining: 2.86s\n",
      "741:\tlearn: 0.0499745\ttotal: 8.2s\tremaining: 2.85s\n",
      "742:\tlearn: 0.0499556\ttotal: 8.21s\tremaining: 2.84s\n",
      "743:\tlearn: 0.0499287\ttotal: 8.22s\tremaining: 2.83s\n",
      "744:\tlearn: 0.0499015\ttotal: 8.23s\tremaining: 2.82s\n",
      "745:\tlearn: 0.0497962\ttotal: 8.24s\tremaining: 2.81s\n",
      "746:\tlearn: 0.0497802\ttotal: 8.25s\tremaining: 2.79s\n",
      "747:\tlearn: 0.0497648\ttotal: 8.26s\tremaining: 2.78s\n",
      "748:\tlearn: 0.0497181\ttotal: 8.27s\tremaining: 2.77s\n",
      "749:\tlearn: 0.0496813\ttotal: 8.28s\tremaining: 2.76s\n",
      "750:\tlearn: 0.0496521\ttotal: 8.29s\tremaining: 2.75s\n",
      "751:\tlearn: 0.0495736\ttotal: 8.3s\tremaining: 2.74s\n",
      "752:\tlearn: 0.0495031\ttotal: 8.31s\tremaining: 2.73s\n",
      "753:\tlearn: 0.0494665\ttotal: 8.32s\tremaining: 2.71s\n",
      "754:\tlearn: 0.0494388\ttotal: 8.33s\tremaining: 2.7s\n",
      "755:\tlearn: 0.0493922\ttotal: 8.34s\tremaining: 2.69s\n",
      "756:\tlearn: 0.0493293\ttotal: 8.35s\tremaining: 2.68s\n",
      "757:\tlearn: 0.0492871\ttotal: 8.36s\tremaining: 2.67s\n",
      "758:\tlearn: 0.0491868\ttotal: 8.37s\tremaining: 2.66s\n",
      "759:\tlearn: 0.0491217\ttotal: 8.38s\tremaining: 2.65s\n",
      "760:\tlearn: 0.0491154\ttotal: 8.39s\tremaining: 2.64s\n",
      "761:\tlearn: 0.0490342\ttotal: 8.41s\tremaining: 2.63s\n",
      "762:\tlearn: 0.0488958\ttotal: 8.42s\tremaining: 2.62s\n",
      "763:\tlearn: 0.0488470\ttotal: 8.43s\tremaining: 2.6s\n",
      "764:\tlearn: 0.0487633\ttotal: 8.44s\tremaining: 2.59s\n",
      "765:\tlearn: 0.0487352\ttotal: 8.45s\tremaining: 2.58s\n",
      "766:\tlearn: 0.0486802\ttotal: 8.46s\tremaining: 2.57s\n",
      "767:\tlearn: 0.0486452\ttotal: 8.47s\tremaining: 2.56s\n",
      "768:\tlearn: 0.0485433\ttotal: 8.48s\tremaining: 2.55s\n",
      "769:\tlearn: 0.0484592\ttotal: 8.49s\tremaining: 2.54s\n",
      "770:\tlearn: 0.0484189\ttotal: 8.51s\tremaining: 2.53s\n",
      "771:\tlearn: 0.0483869\ttotal: 8.52s\tremaining: 2.52s\n",
      "772:\tlearn: 0.0483439\ttotal: 8.53s\tremaining: 2.5s\n",
      "773:\tlearn: 0.0482584\ttotal: 8.54s\tremaining: 2.49s\n",
      "774:\tlearn: 0.0481597\ttotal: 8.55s\tremaining: 2.48s\n",
      "775:\tlearn: 0.0481273\ttotal: 8.56s\tremaining: 2.47s\n",
      "776:\tlearn: 0.0481072\ttotal: 8.57s\tremaining: 2.46s\n",
      "777:\tlearn: 0.0480742\ttotal: 8.58s\tremaining: 2.45s\n",
      "778:\tlearn: 0.0480128\ttotal: 8.59s\tremaining: 2.44s\n",
      "779:\tlearn: 0.0479527\ttotal: 8.6s\tremaining: 2.43s\n",
      "780:\tlearn: 0.0479088\ttotal: 8.61s\tremaining: 2.42s\n",
      "781:\tlearn: 0.0478631\ttotal: 8.63s\tremaining: 2.4s\n",
      "782:\tlearn: 0.0478091\ttotal: 8.64s\tremaining: 2.39s\n",
      "783:\tlearn: 0.0477795\ttotal: 8.65s\tremaining: 2.38s\n",
      "784:\tlearn: 0.0476550\ttotal: 8.66s\tremaining: 2.37s\n",
      "785:\tlearn: 0.0476180\ttotal: 8.67s\tremaining: 2.36s\n",
      "786:\tlearn: 0.0475941\ttotal: 8.68s\tremaining: 2.35s\n",
      "787:\tlearn: 0.0475362\ttotal: 8.69s\tremaining: 2.34s\n",
      "788:\tlearn: 0.0474691\ttotal: 8.7s\tremaining: 2.33s\n",
      "789:\tlearn: 0.0474148\ttotal: 8.71s\tremaining: 2.31s\n",
      "790:\tlearn: 0.0473308\ttotal: 8.72s\tremaining: 2.3s\n",
      "791:\tlearn: 0.0472935\ttotal: 8.73s\tremaining: 2.29s\n",
      "792:\tlearn: 0.0472252\ttotal: 8.74s\tremaining: 2.28s\n",
      "793:\tlearn: 0.0471860\ttotal: 8.75s\tremaining: 2.27s\n",
      "794:\tlearn: 0.0471702\ttotal: 8.76s\tremaining: 2.26s\n",
      "795:\tlearn: 0.0471231\ttotal: 8.77s\tremaining: 2.25s\n",
      "796:\tlearn: 0.0470668\ttotal: 8.78s\tremaining: 2.24s\n",
      "797:\tlearn: 0.0470613\ttotal: 8.79s\tremaining: 2.23s\n",
      "798:\tlearn: 0.0470056\ttotal: 8.8s\tremaining: 2.21s\n",
      "799:\tlearn: 0.0469649\ttotal: 8.82s\tremaining: 2.2s\n",
      "800:\tlearn: 0.0469427\ttotal: 8.83s\tremaining: 2.19s\n",
      "801:\tlearn: 0.0468540\ttotal: 8.84s\tremaining: 2.18s\n",
      "802:\tlearn: 0.0467893\ttotal: 8.86s\tremaining: 2.17s\n",
      "803:\tlearn: 0.0467142\ttotal: 8.86s\tremaining: 2.16s\n",
      "804:\tlearn: 0.0466908\ttotal: 8.88s\tremaining: 2.15s\n",
      "805:\tlearn: 0.0466244\ttotal: 8.89s\tremaining: 2.14s\n",
      "806:\tlearn: 0.0465224\ttotal: 8.9s\tremaining: 2.13s\n",
      "807:\tlearn: 0.0464785\ttotal: 8.91s\tremaining: 2.12s\n",
      "808:\tlearn: 0.0464344\ttotal: 8.92s\tremaining: 2.11s\n",
      "809:\tlearn: 0.0463828\ttotal: 8.93s\tremaining: 2.09s\n",
      "810:\tlearn: 0.0463303\ttotal: 8.94s\tremaining: 2.08s\n",
      "811:\tlearn: 0.0462771\ttotal: 8.95s\tremaining: 2.07s\n",
      "812:\tlearn: 0.0462409\ttotal: 8.96s\tremaining: 2.06s\n",
      "813:\tlearn: 0.0462286\ttotal: 8.97s\tremaining: 2.05s\n",
      "814:\tlearn: 0.0462131\ttotal: 8.98s\tremaining: 2.04s\n",
      "815:\tlearn: 0.0461907\ttotal: 8.99s\tremaining: 2.03s\n",
      "816:\tlearn: 0.0461362\ttotal: 9s\tremaining: 2.02s\n",
      "817:\tlearn: 0.0460799\ttotal: 9.01s\tremaining: 2s\n",
      "818:\tlearn: 0.0459959\ttotal: 9.03s\tremaining: 1.99s\n",
      "819:\tlearn: 0.0459784\ttotal: 9.04s\tremaining: 1.98s\n",
      "820:\tlearn: 0.0459371\ttotal: 9.05s\tremaining: 1.97s\n",
      "821:\tlearn: 0.0458879\ttotal: 9.06s\tremaining: 1.96s\n",
      "822:\tlearn: 0.0458617\ttotal: 9.07s\tremaining: 1.95s\n",
      "823:\tlearn: 0.0457685\ttotal: 9.08s\tremaining: 1.94s\n",
      "824:\tlearn: 0.0457470\ttotal: 9.09s\tremaining: 1.93s\n",
      "825:\tlearn: 0.0456697\ttotal: 9.1s\tremaining: 1.92s\n",
      "826:\tlearn: 0.0456523\ttotal: 9.12s\tremaining: 1.91s\n",
      "827:\tlearn: 0.0456386\ttotal: 9.12s\tremaining: 1.9s\n",
      "828:\tlearn: 0.0455682\ttotal: 9.13s\tremaining: 1.88s\n",
      "829:\tlearn: 0.0455029\ttotal: 9.14s\tremaining: 1.87s\n",
      "830:\tlearn: 0.0454832\ttotal: 9.15s\tremaining: 1.86s\n",
      "831:\tlearn: 0.0454445\ttotal: 9.17s\tremaining: 1.85s\n",
      "832:\tlearn: 0.0454118\ttotal: 9.18s\tremaining: 1.84s\n",
      "833:\tlearn: 0.0454066\ttotal: 9.18s\tremaining: 1.83s\n",
      "834:\tlearn: 0.0453474\ttotal: 9.2s\tremaining: 1.82s\n",
      "835:\tlearn: 0.0452760\ttotal: 9.21s\tremaining: 1.8s\n",
      "836:\tlearn: 0.0452351\ttotal: 9.22s\tremaining: 1.79s\n",
      "837:\tlearn: 0.0451772\ttotal: 9.23s\tremaining: 1.78s\n",
      "838:\tlearn: 0.0451569\ttotal: 9.24s\tremaining: 1.77s\n",
      "839:\tlearn: 0.0451135\ttotal: 9.26s\tremaining: 1.76s\n",
      "840:\tlearn: 0.0451013\ttotal: 9.27s\tremaining: 1.75s\n",
      "841:\tlearn: 0.0450882\ttotal: 9.28s\tremaining: 1.74s\n",
      "842:\tlearn: 0.0450679\ttotal: 9.29s\tremaining: 1.73s\n",
      "843:\tlearn: 0.0450029\ttotal: 9.3s\tremaining: 1.72s\n",
      "844:\tlearn: 0.0448959\ttotal: 9.31s\tremaining: 1.71s\n",
      "845:\tlearn: 0.0448553\ttotal: 9.32s\tremaining: 1.7s\n",
      "846:\tlearn: 0.0447629\ttotal: 9.33s\tremaining: 1.69s\n",
      "847:\tlearn: 0.0447040\ttotal: 9.34s\tremaining: 1.67s\n",
      "848:\tlearn: 0.0446795\ttotal: 9.35s\tremaining: 1.66s\n",
      "849:\tlearn: 0.0446345\ttotal: 9.36s\tremaining: 1.65s\n",
      "850:\tlearn: 0.0445792\ttotal: 9.38s\tremaining: 1.64s\n",
      "851:\tlearn: 0.0445362\ttotal: 9.38s\tremaining: 1.63s\n",
      "852:\tlearn: 0.0444792\ttotal: 9.39s\tremaining: 1.62s\n",
      "853:\tlearn: 0.0444613\ttotal: 9.4s\tremaining: 1.61s\n",
      "854:\tlearn: 0.0444475\ttotal: 9.41s\tremaining: 1.6s\n",
      "855:\tlearn: 0.0444218\ttotal: 9.43s\tremaining: 1.58s\n",
      "856:\tlearn: 0.0443412\ttotal: 9.44s\tremaining: 1.57s\n",
      "857:\tlearn: 0.0442884\ttotal: 9.45s\tremaining: 1.56s\n",
      "858:\tlearn: 0.0442406\ttotal: 9.46s\tremaining: 1.55s\n",
      "859:\tlearn: 0.0441684\ttotal: 9.47s\tremaining: 1.54s\n",
      "860:\tlearn: 0.0441477\ttotal: 9.48s\tremaining: 1.53s\n",
      "861:\tlearn: 0.0440909\ttotal: 9.49s\tremaining: 1.52s\n",
      "862:\tlearn: 0.0440616\ttotal: 9.51s\tremaining: 1.51s\n",
      "863:\tlearn: 0.0439851\ttotal: 9.52s\tremaining: 1.5s\n",
      "864:\tlearn: 0.0439288\ttotal: 9.53s\tremaining: 1.49s\n",
      "865:\tlearn: 0.0438737\ttotal: 9.54s\tremaining: 1.48s\n",
      "866:\tlearn: 0.0437966\ttotal: 9.55s\tremaining: 1.46s\n",
      "867:\tlearn: 0.0437845\ttotal: 9.56s\tremaining: 1.45s\n",
      "868:\tlearn: 0.0436975\ttotal: 9.57s\tremaining: 1.44s\n",
      "869:\tlearn: 0.0436857\ttotal: 9.58s\tremaining: 1.43s\n",
      "870:\tlearn: 0.0436265\ttotal: 9.59s\tremaining: 1.42s\n",
      "871:\tlearn: 0.0436163\ttotal: 9.6s\tremaining: 1.41s\n",
      "872:\tlearn: 0.0435509\ttotal: 9.61s\tremaining: 1.4s\n",
      "873:\tlearn: 0.0435164\ttotal: 9.62s\tremaining: 1.39s\n",
      "874:\tlearn: 0.0434757\ttotal: 9.63s\tremaining: 1.38s\n",
      "875:\tlearn: 0.0434352\ttotal: 9.64s\tremaining: 1.36s\n",
      "876:\tlearn: 0.0433970\ttotal: 9.66s\tremaining: 1.35s\n",
      "877:\tlearn: 0.0433730\ttotal: 9.67s\tremaining: 1.34s\n",
      "878:\tlearn: 0.0433247\ttotal: 9.69s\tremaining: 1.33s\n",
      "879:\tlearn: 0.0432502\ttotal: 9.7s\tremaining: 1.32s\n",
      "880:\tlearn: 0.0431954\ttotal: 9.71s\tremaining: 1.31s\n",
      "881:\tlearn: 0.0431538\ttotal: 9.72s\tremaining: 1.3s\n",
      "882:\tlearn: 0.0430945\ttotal: 9.73s\tremaining: 1.29s\n",
      "883:\tlearn: 0.0430671\ttotal: 9.74s\tremaining: 1.28s\n",
      "884:\tlearn: 0.0430555\ttotal: 9.75s\tremaining: 1.27s\n",
      "885:\tlearn: 0.0429842\ttotal: 9.76s\tremaining: 1.25s\n",
      "886:\tlearn: 0.0429536\ttotal: 9.77s\tremaining: 1.24s\n",
      "887:\tlearn: 0.0428845\ttotal: 9.78s\tremaining: 1.23s\n",
      "888:\tlearn: 0.0428466\ttotal: 9.79s\tremaining: 1.22s\n",
      "889:\tlearn: 0.0428002\ttotal: 9.8s\tremaining: 1.21s\n",
      "890:\tlearn: 0.0427558\ttotal: 9.81s\tremaining: 1.2s\n",
      "891:\tlearn: 0.0427194\ttotal: 9.82s\tremaining: 1.19s\n",
      "892:\tlearn: 0.0426815\ttotal: 9.84s\tremaining: 1.18s\n",
      "893:\tlearn: 0.0426100\ttotal: 9.85s\tremaining: 1.17s\n",
      "894:\tlearn: 0.0425729\ttotal: 9.86s\tremaining: 1.16s\n",
      "895:\tlearn: 0.0425382\ttotal: 9.87s\tremaining: 1.15s\n",
      "896:\tlearn: 0.0424733\ttotal: 9.88s\tremaining: 1.13s\n",
      "897:\tlearn: 0.0424482\ttotal: 9.89s\tremaining: 1.12s\n",
      "898:\tlearn: 0.0423627\ttotal: 9.9s\tremaining: 1.11s\n",
      "899:\tlearn: 0.0423533\ttotal: 9.91s\tremaining: 1.1s\n",
      "900:\tlearn: 0.0423319\ttotal: 9.92s\tremaining: 1.09s\n",
      "901:\tlearn: 0.0423082\ttotal: 9.93s\tremaining: 1.08s\n",
      "902:\tlearn: 0.0422650\ttotal: 9.94s\tremaining: 1.07s\n",
      "903:\tlearn: 0.0422017\ttotal: 9.95s\tremaining: 1.06s\n",
      "904:\tlearn: 0.0421288\ttotal: 9.96s\tremaining: 1.05s\n",
      "905:\tlearn: 0.0420534\ttotal: 9.97s\tremaining: 1.03s\n",
      "906:\tlearn: 0.0420039\ttotal: 9.98s\tremaining: 1.02s\n",
      "907:\tlearn: 0.0419594\ttotal: 9.99s\tremaining: 1.01s\n",
      "908:\tlearn: 0.0419420\ttotal: 10s\tremaining: 1s\n",
      "909:\tlearn: 0.0418932\ttotal: 10s\tremaining: 990ms\n",
      "910:\tlearn: 0.0418316\ttotal: 10s\tremaining: 979ms\n",
      "911:\tlearn: 0.0417522\ttotal: 10s\tremaining: 968ms\n",
      "912:\tlearn: 0.0417225\ttotal: 10s\tremaining: 957ms\n",
      "913:\tlearn: 0.0417060\ttotal: 10.1s\tremaining: 947ms\n",
      "914:\tlearn: 0.0416604\ttotal: 10.1s\tremaining: 936ms\n",
      "915:\tlearn: 0.0416170\ttotal: 10.1s\tremaining: 925ms\n",
      "916:\tlearn: 0.0415812\ttotal: 10.1s\tremaining: 914ms\n",
      "917:\tlearn: 0.0415236\ttotal: 10.1s\tremaining: 903ms\n",
      "918:\tlearn: 0.0415161\ttotal: 10.1s\tremaining: 892ms\n",
      "919:\tlearn: 0.0414684\ttotal: 10.1s\tremaining: 881ms\n",
      "920:\tlearn: 0.0414084\ttotal: 10.1s\tremaining: 870ms\n",
      "921:\tlearn: 0.0413650\ttotal: 10.1s\tremaining: 859ms\n",
      "922:\tlearn: 0.0413388\ttotal: 10.2s\tremaining: 847ms\n",
      "923:\tlearn: 0.0413291\ttotal: 10.2s\tremaining: 837ms\n",
      "924:\tlearn: 0.0412937\ttotal: 10.2s\tremaining: 826ms\n",
      "925:\tlearn: 0.0412384\ttotal: 10.2s\tremaining: 814ms\n",
      "926:\tlearn: 0.0411787\ttotal: 10.2s\tremaining: 803ms\n",
      "927:\tlearn: 0.0411509\ttotal: 10.2s\tremaining: 792ms\n",
      "928:\tlearn: 0.0410944\ttotal: 10.2s\tremaining: 781ms\n",
      "929:\tlearn: 0.0410421\ttotal: 10.2s\tremaining: 770ms\n",
      "930:\tlearn: 0.0409930\ttotal: 10.2s\tremaining: 759ms\n",
      "931:\tlearn: 0.0409607\ttotal: 10.3s\tremaining: 748ms\n",
      "932:\tlearn: 0.0409289\ttotal: 10.3s\tremaining: 737ms\n",
      "933:\tlearn: 0.0409105\ttotal: 10.3s\tremaining: 727ms\n",
      "934:\tlearn: 0.0408841\ttotal: 10.3s\tremaining: 715ms\n",
      "935:\tlearn: 0.0408503\ttotal: 10.3s\tremaining: 704ms\n",
      "936:\tlearn: 0.0408114\ttotal: 10.3s\tremaining: 693ms\n",
      "937:\tlearn: 0.0407700\ttotal: 10.3s\tremaining: 682ms\n",
      "938:\tlearn: 0.0407238\ttotal: 10.3s\tremaining: 671ms\n",
      "939:\tlearn: 0.0407139\ttotal: 10.3s\tremaining: 660ms\n",
      "940:\tlearn: 0.0406550\ttotal: 10.4s\tremaining: 649ms\n",
      "941:\tlearn: 0.0406482\ttotal: 10.4s\tremaining: 638ms\n",
      "942:\tlearn: 0.0406187\ttotal: 10.4s\tremaining: 627ms\n",
      "943:\tlearn: 0.0405931\ttotal: 10.4s\tremaining: 616ms\n",
      "944:\tlearn: 0.0405642\ttotal: 10.4s\tremaining: 605ms\n",
      "945:\tlearn: 0.0405431\ttotal: 10.4s\tremaining: 594ms\n",
      "946:\tlearn: 0.0405162\ttotal: 10.4s\tremaining: 583ms\n",
      "947:\tlearn: 0.0404833\ttotal: 10.4s\tremaining: 572ms\n",
      "948:\tlearn: 0.0404441\ttotal: 10.4s\tremaining: 561ms\n",
      "949:\tlearn: 0.0404063\ttotal: 10.4s\tremaining: 550ms\n",
      "950:\tlearn: 0.0403444\ttotal: 10.5s\tremaining: 539ms\n",
      "951:\tlearn: 0.0402800\ttotal: 10.5s\tremaining: 528ms\n",
      "952:\tlearn: 0.0402363\ttotal: 10.5s\tremaining: 517ms\n",
      "953:\tlearn: 0.0402026\ttotal: 10.5s\tremaining: 506ms\n",
      "954:\tlearn: 0.0401447\ttotal: 10.5s\tremaining: 495ms\n",
      "955:\tlearn: 0.0401235\ttotal: 10.5s\tremaining: 484ms\n",
      "956:\tlearn: 0.0400932\ttotal: 10.5s\tremaining: 473ms\n",
      "957:\tlearn: 0.0400842\ttotal: 10.5s\tremaining: 462ms\n",
      "958:\tlearn: 0.0400343\ttotal: 10.5s\tremaining: 451ms\n",
      "959:\tlearn: 0.0399827\ttotal: 10.6s\tremaining: 440ms\n",
      "960:\tlearn: 0.0399537\ttotal: 10.6s\tremaining: 429ms\n",
      "961:\tlearn: 0.0398959\ttotal: 10.6s\tremaining: 418ms\n",
      "962:\tlearn: 0.0398246\ttotal: 10.6s\tremaining: 407ms\n",
      "963:\tlearn: 0.0397942\ttotal: 10.6s\tremaining: 396ms\n",
      "964:\tlearn: 0.0397447\ttotal: 10.6s\tremaining: 385ms\n",
      "965:\tlearn: 0.0397210\ttotal: 10.6s\tremaining: 374ms\n",
      "966:\tlearn: 0.0396889\ttotal: 10.6s\tremaining: 363ms\n",
      "967:\tlearn: 0.0396450\ttotal: 10.6s\tremaining: 352ms\n",
      "968:\tlearn: 0.0396085\ttotal: 10.6s\tremaining: 341ms\n",
      "969:\tlearn: 0.0395461\ttotal: 10.7s\tremaining: 330ms\n",
      "970:\tlearn: 0.0395007\ttotal: 10.7s\tremaining: 319ms\n",
      "971:\tlearn: 0.0394758\ttotal: 10.7s\tremaining: 308ms\n",
      "972:\tlearn: 0.0394286\ttotal: 10.7s\tremaining: 297ms\n",
      "973:\tlearn: 0.0393757\ttotal: 10.7s\tremaining: 286ms\n",
      "974:\tlearn: 0.0393250\ttotal: 10.7s\tremaining: 275ms\n",
      "975:\tlearn: 0.0392941\ttotal: 10.7s\tremaining: 264ms\n",
      "976:\tlearn: 0.0392529\ttotal: 10.7s\tremaining: 253ms\n",
      "977:\tlearn: 0.0392345\ttotal: 10.7s\tremaining: 242ms\n",
      "978:\tlearn: 0.0391943\ttotal: 10.8s\tremaining: 231ms\n",
      "979:\tlearn: 0.0391389\ttotal: 10.8s\tremaining: 220ms\n",
      "980:\tlearn: 0.0391068\ttotal: 10.8s\tremaining: 209ms\n",
      "981:\tlearn: 0.0390798\ttotal: 10.8s\tremaining: 198ms\n",
      "982:\tlearn: 0.0390298\ttotal: 10.8s\tremaining: 187ms\n",
      "983:\tlearn: 0.0389767\ttotal: 10.8s\tremaining: 176ms\n",
      "984:\tlearn: 0.0389301\ttotal: 10.8s\tremaining: 165ms\n",
      "985:\tlearn: 0.0389238\ttotal: 10.8s\tremaining: 154ms\n",
      "986:\tlearn: 0.0389007\ttotal: 10.8s\tremaining: 143ms\n",
      "987:\tlearn: 0.0388685\ttotal: 10.8s\tremaining: 132ms\n",
      "988:\tlearn: 0.0388276\ttotal: 10.9s\tremaining: 121ms\n",
      "989:\tlearn: 0.0387927\ttotal: 10.9s\tremaining: 110ms\n",
      "990:\tlearn: 0.0387590\ttotal: 10.9s\tremaining: 98.8ms\n",
      "991:\tlearn: 0.0387212\ttotal: 10.9s\tremaining: 87.9ms\n",
      "992:\tlearn: 0.0386799\ttotal: 10.9s\tremaining: 76.9ms\n",
      "993:\tlearn: 0.0386761\ttotal: 10.9s\tremaining: 65.9ms\n",
      "994:\tlearn: 0.0386556\ttotal: 10.9s\tremaining: 54.9ms\n",
      "995:\tlearn: 0.0386338\ttotal: 10.9s\tremaining: 43.9ms\n",
      "996:\tlearn: 0.0385786\ttotal: 10.9s\tremaining: 32.9ms\n",
      "997:\tlearn: 0.0385292\ttotal: 11s\tremaining: 22ms\n",
      "998:\tlearn: 0.0384898\ttotal: 11s\tremaining: 11ms\n",
      "999:\tlearn: 0.0384559\ttotal: 11s\tremaining: 0us\n",
      "[LightGBM] [Warning] Found whitespace in feature_names, replace with underlines\n",
      "[LightGBM] [Info] Number of positive: 5465, number of negative: 5465\n",
      "[LightGBM] [Info] Auto-choosing col-wise multi-threading, the overhead of testing was 0.001439 seconds.\n",
      "You can set `force_col_wise=true` to remove the overhead.\n",
      "[LightGBM] [Info] Total Bins 3021\n",
      "[LightGBM] [Info] Number of data points in the train set: 10930, number of used features: 12\n",
      "[LightGBM] [Info] [binary:BoostFromScore]: pavg=0.500000 -> initscore=0.000000\n"
     ]
    }
   ],
   "source": [
    "score_df = fit_and_score(models, X_train, y_train, X_test, y_test)"
   ]
  },
  {
   "cell_type": "code",
   "execution_count": 119,
   "metadata": {},
   "outputs": [
    {
     "data": {
      "text/html": [
       "<div>\n",
       "<style scoped>\n",
       "    .dataframe tbody tr th:only-of-type {\n",
       "        vertical-align: middle;\n",
       "    }\n",
       "\n",
       "    .dataframe tbody tr th {\n",
       "        vertical-align: top;\n",
       "    }\n",
       "\n",
       "    .dataframe thead th {\n",
       "        text-align: right;\n",
       "    }\n",
       "</style>\n",
       "<table border=\"1\" class=\"dataframe\">\n",
       "  <thead>\n",
       "    <tr style=\"text-align: right;\">\n",
       "      <th></th>\n",
       "      <th>Model</th>\n",
       "      <th>Training Accuracy</th>\n",
       "      <th>Training Precision</th>\n",
       "      <th>Training Recall</th>\n",
       "      <th>Training F1</th>\n",
       "      <th>Test Accuracy</th>\n",
       "      <th>Test Precision</th>\n",
       "      <th>Test Recall</th>\n",
       "      <th>Test F1</th>\n",
       "      <th>10-Fold CV Timing (seconds)</th>\n",
       "    </tr>\n",
       "  </thead>\n",
       "  <tbody>\n",
       "    <tr>\n",
       "      <th>5</th>\n",
       "      <td>Cat Boosting</td>\n",
       "      <td>96.614822</td>\n",
       "      <td>96.253484</td>\n",
       "      <td>97.015020</td>\n",
       "      <td>96.440227</td>\n",
       "      <td>94.098884</td>\n",
       "      <td>60.209424</td>\n",
       "      <td>61.497326</td>\n",
       "      <td>60.846561</td>\n",
       "      <td>165.273573</td>\n",
       "    </tr>\n",
       "    <tr>\n",
       "      <th>4</th>\n",
       "      <td>XG Boosting</td>\n",
       "      <td>96.733760</td>\n",
       "      <td>96.478205</td>\n",
       "      <td>97.014886</td>\n",
       "      <td>96.543374</td>\n",
       "      <td>93.979266</td>\n",
       "      <td>60.465116</td>\n",
       "      <td>55.614973</td>\n",
       "      <td>57.938719</td>\n",
       "      <td>4.194924</td>\n",
       "    </tr>\n",
       "    <tr>\n",
       "      <th>8</th>\n",
       "      <td>LG Boosting</td>\n",
       "      <td>96.395242</td>\n",
       "      <td>96.500090</td>\n",
       "      <td>96.282420</td>\n",
       "      <td>96.064046</td>\n",
       "      <td>93.779904</td>\n",
       "      <td>58.201058</td>\n",
       "      <td>58.823529</td>\n",
       "      <td>58.510638</td>\n",
       "      <td>9.116894</td>\n",
       "    </tr>\n",
       "    <tr>\n",
       "      <th>0</th>\n",
       "      <td>Random Forest</td>\n",
       "      <td>96.413541</td>\n",
       "      <td>95.095153</td>\n",
       "      <td>98.040594</td>\n",
       "      <td>96.501098</td>\n",
       "      <td>93.221691</td>\n",
       "      <td>53.917051</td>\n",
       "      <td>62.566845</td>\n",
       "      <td>57.920792</td>\n",
       "      <td>22.908912</td>\n",
       "    </tr>\n",
       "    <tr>\n",
       "      <th>9</th>\n",
       "      <td>Decision Trees</td>\n",
       "      <td>94.702653</td>\n",
       "      <td>94.342084</td>\n",
       "      <td>95.295786</td>\n",
       "      <td>94.615387</td>\n",
       "      <td>92.264753</td>\n",
       "      <td>48.416290</td>\n",
       "      <td>57.219251</td>\n",
       "      <td>52.450980</td>\n",
       "      <td>1.812786</td>\n",
       "    </tr>\n",
       "    <tr>\n",
       "      <th>6</th>\n",
       "      <td>Gradient Boosting</td>\n",
       "      <td>94.949680</td>\n",
       "      <td>93.999095</td>\n",
       "      <td>95.972337</td>\n",
       "      <td>94.880787</td>\n",
       "      <td>92.105263</td>\n",
       "      <td>47.955390</td>\n",
       "      <td>68.983957</td>\n",
       "      <td>56.578947</td>\n",
       "      <td>38.561624</td>\n",
       "    </tr>\n",
       "    <tr>\n",
       "      <th>7</th>\n",
       "      <td>ADA Boosting</td>\n",
       "      <td>92.772187</td>\n",
       "      <td>92.859412</td>\n",
       "      <td>92.642184</td>\n",
       "      <td>92.691720</td>\n",
       "      <td>91.307815</td>\n",
       "      <td>44.322344</td>\n",
       "      <td>64.705882</td>\n",
       "      <td>52.608696</td>\n",
       "      <td>8.786469</td>\n",
       "    </tr>\n",
       "    <tr>\n",
       "      <th>2</th>\n",
       "      <td>K-Nearest Neighbors</td>\n",
       "      <td>93.924977</td>\n",
       "      <td>91.467290</td>\n",
       "      <td>96.907307</td>\n",
       "      <td>94.103611</td>\n",
       "      <td>89.194577</td>\n",
       "      <td>38.135593</td>\n",
       "      <td>72.192513</td>\n",
       "      <td>49.907579</td>\n",
       "      <td>1.143502</td>\n",
       "    </tr>\n",
       "    <tr>\n",
       "      <th>3</th>\n",
       "      <td>Logistic Regression</td>\n",
       "      <td>76.010979</td>\n",
       "      <td>77.202959</td>\n",
       "      <td>73.834201</td>\n",
       "      <td>75.473838</td>\n",
       "      <td>77.671451</td>\n",
       "      <td>20.813772</td>\n",
       "      <td>71.122995</td>\n",
       "      <td>32.203390</td>\n",
       "      <td>1.501380</td>\n",
       "    </tr>\n",
       "    <tr>\n",
       "      <th>1</th>\n",
       "      <td>Support Vector Machines</td>\n",
       "      <td>70.896615</td>\n",
       "      <td>75.755947</td>\n",
       "      <td>61.482512</td>\n",
       "      <td>67.860024</td>\n",
       "      <td>77.352472</td>\n",
       "      <td>19.124797</td>\n",
       "      <td>63.101604</td>\n",
       "      <td>29.353234</td>\n",
       "      <td>103.157750</td>\n",
       "    </tr>\n",
       "  </tbody>\n",
       "</table>\n",
       "</div>"
      ],
      "text/plain": [
       "                     Model  Training Accuracy  Training Precision  \\\n",
       "5             Cat Boosting          96.614822           96.253484   \n",
       "4              XG Boosting          96.733760           96.478205   \n",
       "8              LG Boosting          96.395242           96.500090   \n",
       "0            Random Forest          96.413541           95.095153   \n",
       "9           Decision Trees          94.702653           94.342084   \n",
       "6        Gradient Boosting          94.949680           93.999095   \n",
       "7             ADA Boosting          92.772187           92.859412   \n",
       "2      K-Nearest Neighbors          93.924977           91.467290   \n",
       "3      Logistic Regression          76.010979           77.202959   \n",
       "1  Support Vector Machines          70.896615           75.755947   \n",
       "\n",
       "   Training Recall  Training F1  Test Accuracy  Test Precision  Test Recall  \\\n",
       "5        97.015020    96.440227      94.098884       60.209424    61.497326   \n",
       "4        97.014886    96.543374      93.979266       60.465116    55.614973   \n",
       "8        96.282420    96.064046      93.779904       58.201058    58.823529   \n",
       "0        98.040594    96.501098      93.221691       53.917051    62.566845   \n",
       "9        95.295786    94.615387      92.264753       48.416290    57.219251   \n",
       "6        95.972337    94.880787      92.105263       47.955390    68.983957   \n",
       "7        92.642184    92.691720      91.307815       44.322344    64.705882   \n",
       "2        96.907307    94.103611      89.194577       38.135593    72.192513   \n",
       "3        73.834201    75.473838      77.671451       20.813772    71.122995   \n",
       "1        61.482512    67.860024      77.352472       19.124797    63.101604   \n",
       "\n",
       "     Test F1  10-Fold CV Timing (seconds)  \n",
       "5  60.846561                   165.273573  \n",
       "4  57.938719                     4.194924  \n",
       "8  58.510638                     9.116894  \n",
       "0  57.920792                    22.908912  \n",
       "9  52.450980                     1.812786  \n",
       "6  56.578947                    38.561624  \n",
       "7  52.608696                     8.786469  \n",
       "2  49.907579                     1.143502  \n",
       "3  32.203390                     1.501380  \n",
       "1  29.353234                   103.157750  "
      ]
     },
     "execution_count": 119,
     "metadata": {},
     "output_type": "execute_result"
    }
   ],
   "source": [
    "score_df"
   ]
  },
  {
   "cell_type": "code",
   "execution_count": 120,
   "metadata": {},
   "outputs": [],
   "source": [
    "# Fitting the final model\n",
    "final_model = xgb.XGBClassifier(n_jobs=-1)\n",
    "final_model.fit(X_train, y_train)\n",
    "\n",
    "# Making predictions\n",
    "pred = final_model.predict(X_test)"
   ]
  },
  {
   "cell_type": "code",
   "execution_count": 121,
   "metadata": {},
   "outputs": [
    {
     "data": {
      "text/plain": [
       "<Axes: title={'center': 'Feature importance'}, xlabel='F score', ylabel='Features'>"
      ]
     },
     "execution_count": 121,
     "metadata": {},
     "output_type": "execute_result"
    },
    {
     "data": {
      "image/png": "[encoded data removed]",
      "text/plain": [
       "<Figure size 640x480 with 1 Axes>"
      ]
     },
     "metadata": {},
     "output_type": "display_data"
    }
   ],
   "source": [
    "xgb.plot_importance(final_model)"
   ]
  },
  {
   "cell_type": "code",
   "execution_count": 122,
   "metadata": {},
   "outputs": [
    {
     "name": "stdout",
     "output_type": "stream",
     "text": [
      "              precision    recall  f1-score   support\n",
      "\n",
      "           0       0.96      0.97      0.97      2321\n",
      "           1       0.60      0.56      0.58       187\n",
      "\n",
      "    accuracy                           0.94      2508\n",
      "   macro avg       0.78      0.76      0.77      2508\n",
      "weighted avg       0.94      0.94      0.94      2508\n",
      "\n"
     ]
    }
   ],
   "source": [
    "print(classification_report(y_test, pred))"
   ]
  },
  {
   "cell_type": "code",
   "execution_count": 123,
   "metadata": {},
   "outputs": [
    {
     "data": {
      "text/plain": [
       "<Axes: >"
      ]
     },
     "execution_count": 123,
     "metadata": {},
     "output_type": "execute_result"
    },
    {
     "data": {
      "image/png": "[encoded data removed]",
      "text/plain": [
       "<Figure size 640x480 with 2 Axes>"
      ]
     },
     "metadata": {},
     "output_type": "display_data"
    }
   ],
   "source": [
    "sns.heatmap(confusion_matrix(y_test, pred), cmap= \"Blues\", annot=True, fmt='')"
   ]
  },
  {
   "cell_type": "code",
   "execution_count": 124,
   "metadata": {},
   "outputs": [
    {
     "data": {
      "text/plain": [
       "<sklearn.metrics._plot.roc_curve.RocCurveDisplay at 0x1fba48a7d50>"
      ]
     },
     "execution_count": 124,
     "metadata": {},
     "output_type": "execute_result"
    },
    {
     "data": {
      "image/png": "[encoded data removed]",
      "text/plain": [
       "<Figure size 640x480 with 1 Axes>"
      ]
     },
     "metadata": {},
     "output_type": "display_data"
    }
   ],
   "source": [
    "RocCurveDisplay.from_estimator(final_model, X_test, y_test)"
   ]
  },
  {
   "cell_type": "code",
   "execution_count": 126,
   "metadata": {},
   "outputs": [
    {
     "name": "stdout",
     "output_type": "stream",
     "text": [
      "     Party  Winning Seats  Winning Percentage\n",
      "0      BJP             86           50.000000\n",
      "4      INC             30           17.441860\n",
      "9       SP             13            7.558140\n",
      "2     AITC             12            6.976744\n",
      "5      TDP              6            3.488372\n",
      "1      DMK              5            2.906977\n",
      "8   SHSUBT              5            2.906977\n",
      "10   Other              5            2.906977\n",
      "11   YSRCP              3            1.744186\n",
      "3    NCPSP              1            0.581395\n"
     ]
    }
   ],
   "source": [
    "import pandas as pd\n",
    "from collections import Counter\n",
    "\n",
    "def predict_winning_party(X_test, model, df, top_n=5):\n",
    "    \"\"\"\n",
    "    Predicts the winning party based on model outputs and calculates percentage share of seats.\n",
    "\n",
    "    Parameters:\n",
    "    X_test (DataFrame): The test dataset with features.\n",
    "    model: Trained ML model (e.g., XGBoost).\n",
    "    df (DataFrame): Original dataset with 'PARTY' labels.\n",
    "    top_n (int): Number of top parties to display.\n",
    "\n",
    "    Returns:\n",
    "    DataFrame: Top N parties with winning counts and percentage of total seats.\n",
    "    \"\"\"\n",
    "    # Predict the winners (1 or 0)\n",
    "    predictions = model.predict(X_test)\n",
    "\n",
    "    # Extract actual party labels from df (corresponding to X_test indices)\n",
    "    predicted_parties = df.loc[X_test.index, 'PARTY'].values\n",
    "\n",
    "    # Filter only predicted winners (1)\n",
    "    winning_parties = predicted_parties[predictions == 1]\n",
    "\n",
    "    # Count occurrences of each winning party\n",
    "    party_wins = Counter(winning_parties)\n",
    "\n",
    "    # Convert to DataFrame\n",
    "    party_wins_df = pd.DataFrame(party_wins.items(), columns=['Party', 'Winning Seats'])\n",
    "\n",
    "    # Calculate total winning seats\n",
    "    total_seats = party_wins_df['Winning Seats'].sum()\n",
    "\n",
    "    # Calculate percentage\n",
    "    party_wins_df['Winning Percentage'] = (party_wins_df['Winning Seats'] / total_seats) * 100\n",
    "\n",
    "    # Sort by Winning Seats\n",
    "    party_wins_df.sort_values(by='Winning Seats', ascending=False, inplace=True)\n",
    "\n",
    "    return party_wins_df.head(top_n)\n",
    "\n",
    "# Get corrected predictions\n",
    "winning_parties_corrected = predict_winning_party(X_test, final_model, df, top_n=10)\n",
    "print(winning_parties_corrected)\n"
   ]
  }
 ],
 "metadata": {
  "kernelspec": {
   "display_name": "Python 3",
   "language": "python",
   "name": "python3"
  },
  "language_info": {
   "codemirror_mode": {
    "name": "ipython",
    "version": 3
   },
   "file_extension": ".py",
   "mimetype": "text/x-python",
   "name": "python",
   "nbconvert_exporter": "python",
   "pygments_lexer": "ipython3",
   "version": "3.11.9"
  }
 },
 "nbformat": 4,
 "nbformat_minor": 4
}
