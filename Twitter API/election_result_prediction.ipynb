{
 "cells": [
  {
   "cell_type": "code",
   "execution_count": 3,
   "id": "bbe34dd7",
   "metadata": {},
   "outputs": [
    {
     "name": "stdout",
     "output_type": "stream",
     "text": [
      "Defaulting to user installation because normal site-packages is not writeable\n",
      "Requirement already satisfied: tweepy in c:\\users\\dnyaneshwari\\appdata\\roaming\\python\\python311\\site-packages (4.15.0)\n",
      "Requirement already satisfied: pandas in c:\\programdata\\anaconda3\\lib\\site-packages (2.0.3)\n",
      "Requirement already satisfied: oauthlib<4,>=3.2.0 in c:\\users\\dnyaneshwari\\appdata\\roaming\\python\\python311\\site-packages (from tweepy) (3.2.2)\n",
      "Requirement already satisfied: requests<3,>=2.27.0 in c:\\programdata\\anaconda3\\lib\\site-packages (from tweepy) (2.31.0)\n",
      "Requirement already satisfied: requests-oauthlib<3,>=1.2.0 in c:\\users\\dnyaneshwari\\appdata\\roaming\\python\\python311\\site-packages (from tweepy) (2.0.0)\n",
      "Requirement already satisfied: python-dateutil>=2.8.2 in c:\\programdata\\anaconda3\\lib\\site-packages (from pandas) (2.8.2)\n",
      "Requirement already satisfied: pytz>=2020.1 in c:\\programdata\\anaconda3\\lib\\site-packages (from pandas) (2023.3.post1)\n",
      "Requirement already satisfied: tzdata>=2022.1 in c:\\programdata\\anaconda3\\lib\\site-packages (from pandas) (2023.3)\n",
      "Requirement already satisfied: numpy>=1.21.0 in c:\\programdata\\anaconda3\\lib\\site-packages (from pandas) (1.24.3)\n",
      "Requirement already satisfied: six>=1.5 in c:\\programdata\\anaconda3\\lib\\site-packages (from python-dateutil>=2.8.2->pandas) (1.16.0)\n",
      "Requirement already satisfied: charset-normalizer<4,>=2 in c:\\programdata\\anaconda3\\lib\\site-packages (from requests<3,>=2.27.0->tweepy) (2.0.4)\n",
      "Requirement already satisfied: idna<4,>=2.5 in c:\\programdata\\anaconda3\\lib\\site-packages (from requests<3,>=2.27.0->tweepy) (3.4)\n",
      "Requirement already satisfied: urllib3<3,>=1.21.1 in c:\\programdata\\anaconda3\\lib\\site-packages (from requests<3,>=2.27.0->tweepy) (1.26.16)\n",
      "Requirement already satisfied: certifi>=2017.4.17 in c:\\programdata\\anaconda3\\lib\\site-packages (from requests<3,>=2.27.0->tweepy) (2023.7.22)\n",
      "Note: you may need to restart the kernel to use updated packages.\n"
     ]
    }
   ],
   "source": [
    "pip install tweepy pandas"
   ]
  },
  {
   "cell_type": "code",
   "execution_count": 1,
   "id": "43dd90f7",
   "metadata": {},
   "outputs": [],
   "source": [
    "import tweepy\n",
    "import pandas as pd\n",
    "import re"
   ]
  },
  {
   "cell_type": "code",
   "execution_count": 2,
   "id": "434cc1ea",
   "metadata": {},
   "outputs": [],
   "source": [
    "api_key = \"fb23Eesu6IIhd5vUvjXn4VYI5\"\n",
    "api_key_secret = \"IOc8TIIwaLZmNvaA74sWpFiUkUus2M5in4RoUYVRJObjQPdumL\"\n",
    "access_token = \"1881251915096633344-5tx6cbtekQXjkVCX2rfUf5ruORBRdL\"\n",
    "access_token_secret = \"YaVS9lFANUD9c9RQ8TIoPIRpTQYINsNp9ZSR3ya11TWna\"\n",
    "bearer_token = \"AAAAAAAAAAAAAAAAAAAAANVcyQEAAAAAeVg%2Fa%2FRLZxdG9pi8lUkV4U7KExs%3DJVsP8vAkFoy9SgRvYPazCKpfciZSNhz8kGlhN5aOXLE2fExVKI\""
   ]
  },
  {
   "cell_type": "code",
   "execution_count": 3,
   "id": "b1c0b404",
   "metadata": {},
   "outputs": [],
   "source": [
    "# Authenticate with Twitter\n",
    "client = tweepy.Client(bearer_token=bearer_token)"
   ]
  },
  {
   "cell_type": "code",
   "execution_count": 4,
   "id": "6be15df4",
   "metadata": {},
   "outputs": [],
   "source": [
    "# Define query for Lok Sabha elections\n",
    "query = \"\"\"(#LokSabhaElections2024 OR #LokSabha OR \"Lok Sabha elections\" OR #GeneralElections OR \n",
    "           #IndianElections OR BJP OR Congress OR \"Narendra Modi\" OR \"Rahul Gandhi\" OR \n",
    "           #Modi OR #Rahul OR \"AAP\" OR \"Arvind Kejriwal\" OR #TMC OR #DMK OR #SP OR #RJD OR \n",
    "           \"Indian politics\" OR \"Election 2024\") -is:retweet lang:en\"\"\""
   ]
  },
  {
   "cell_type": "code",
   "execution_count": 5,
   "id": "43a240ec",
   "metadata": {},
   "outputs": [],
   "source": [
    "# Function to clean tweet text\n",
    "def clean_tweet(tweet):\n",
    "    tweet = re.sub(r\"http\\S+\", \"\", tweet)  # Remove URLs\n",
    "    tweet = re.sub(r\"@\\w+\", \"\", tweet)    # Remove mentions\n",
    "    tweet = re.sub(r\"#\", \"\", tweet)       # Remove hashtags\n",
    "    tweet = re.sub(r\"[^\\w\\s]\", \"\", tweet) # Remove special characters\n",
    "    tweet = tweet.lower()                 # Convert to lowercase\n",
    "    return tweet"
   ]
  },
  {
   "cell_type": "code",
   "execution_count": 6,
   "id": "6847413e",
   "metadata": {},
   "outputs": [],
   "source": [
    "# Fetch tweets and structure data\n",
    "def fetch_and_structure_tweets():\n",
    "    tweets = client.search_recent_tweets(query=query, max_results=100, tweet_fields=['created_at', 'text', 'author_id', 'public_metrics', 'lang'])\n",
    "    data = []\n",
    "\n",
    "    for tweet in tweets.data:\n",
    "        # Extract data from each tweet\n",
    "        tweet_id = tweet.id\n",
    "        created_at = tweet.created_at\n",
    "        user_id = tweet.author_id\n",
    "        text = tweet.text\n",
    "        clean_text_value = clean_tweet(text)\n",
    "        hashtags = re.findall(r\"#(\\w+)\", text)  # Extract hashtags\n",
    "        mentions = re.findall(r\"@(\\w+)\", text)  # Extract mentions\n",
    "        language = tweet.lang\n",
    "        retweet_count = tweet.public_metrics['retweet_count']\n",
    "        like_count = tweet.public_metrics['like_count']\n",
    "\n",
    "        # Placeholder for additional fields\n",
    "        sentiment = \"Unknown\"  # To be replaced with sentiment analysis results\n",
    "        polarity = 0           # Placeholder for polarity score\n",
    "        subjectivity = 0       # Placeholder for subjectivity score\n",
    "        party = \"Unknown\"      # Placeholder for party inference\n",
    "        state = \"Unknown\"      # Placeholder for state inference\n",
    "\n",
    "        # Append structured data\n",
    "        data.append({\n",
    "            \"tweet_id\": tweet_id,\n",
    "            \"created_at\": created_at,\n",
    "            \"user_id\": user_id,\n",
    "            \"text\": text,\n",
    "            \"clean_text\": clean_text_value,\n",
    "            \"hashtags\": hashtags,\n",
    "            \"mentions\": mentions,\n",
    "            \"language\": language,\n",
    "            \"retweet_count\": retweet_count,\n",
    "            \"like_count\": like_count,\n",
    "            \"sentiment\": sentiment,\n",
    "            \"polarity\": polarity,\n",
    "            \"subjectivity\": subjectivity,\n",
    "            \"party\": party,\n",
    "            \"state\": state,\n",
    "        })\n",
    "\n",
    "    # Convert to DataFrame\n",
    "    df = pd.DataFrame(data)\n",
    "    return df"
   ]
  },
  {
   "cell_type": "code",
   "execution_count": 8,
   "id": "8fb8e395",
   "metadata": {},
   "outputs": [
    {
     "ename": "TooManyRequests",
     "evalue": "429 Too Many Requests\nToo Many Requests",
     "output_type": "error",
     "traceback": [
      "\u001b[1;31m---------------------------------------------------------------------------\u001b[0m",
      "\u001b[1;31mTooManyRequests\u001b[0m                           Traceback (most recent call last)",
      "Cell \u001b[1;32mIn[8], line 2\u001b[0m\n\u001b[0;32m      1\u001b[0m \u001b[38;5;66;03m# Fetch tweets and save to CSV\u001b[39;00m\n\u001b[1;32m----> 2\u001b[0m df \u001b[38;5;241m=\u001b[39m fetch_and_structure_tweets()\n\u001b[0;32m      3\u001b[0m df\u001b[38;5;241m.\u001b[39mto_csv(\u001b[38;5;124m\"\u001b[39m\u001b[38;5;124mloksabha_tweets.csv\u001b[39m\u001b[38;5;124m\"\u001b[39m, index\u001b[38;5;241m=\u001b[39m\u001b[38;5;28;01mFalse\u001b[39;00m)\n\u001b[0;32m      5\u001b[0m \u001b[38;5;28mprint\u001b[39m(\u001b[38;5;124m\"\u001b[39m\u001b[38;5;124mTweets collected and saved in \u001b[39m\u001b[38;5;124m'\u001b[39m\u001b[38;5;124mloksabha_tweets.csv\u001b[39m\u001b[38;5;124m'\u001b[39m\u001b[38;5;124m.\u001b[39m\u001b[38;5;124m\"\u001b[39m)\n",
      "Cell \u001b[1;32mIn[6], line 3\u001b[0m, in \u001b[0;36mfetch_and_structure_tweets\u001b[1;34m()\u001b[0m\n\u001b[0;32m      2\u001b[0m \u001b[38;5;28;01mdef\u001b[39;00m \u001b[38;5;21mfetch_and_structure_tweets\u001b[39m():\n\u001b[1;32m----> 3\u001b[0m     tweets \u001b[38;5;241m=\u001b[39m client\u001b[38;5;241m.\u001b[39msearch_recent_tweets(query\u001b[38;5;241m=\u001b[39mquery, max_results\u001b[38;5;241m=\u001b[39m\u001b[38;5;241m100\u001b[39m, tweet_fields\u001b[38;5;241m=\u001b[39m[\u001b[38;5;124m'\u001b[39m\u001b[38;5;124mcreated_at\u001b[39m\u001b[38;5;124m'\u001b[39m, \u001b[38;5;124m'\u001b[39m\u001b[38;5;124mtext\u001b[39m\u001b[38;5;124m'\u001b[39m, \u001b[38;5;124m'\u001b[39m\u001b[38;5;124mauthor_id\u001b[39m\u001b[38;5;124m'\u001b[39m, \u001b[38;5;124m'\u001b[39m\u001b[38;5;124mpublic_metrics\u001b[39m\u001b[38;5;124m'\u001b[39m, \u001b[38;5;124m'\u001b[39m\u001b[38;5;124mlang\u001b[39m\u001b[38;5;124m'\u001b[39m])\n\u001b[0;32m      4\u001b[0m     data \u001b[38;5;241m=\u001b[39m []\n\u001b[0;32m      6\u001b[0m     \u001b[38;5;28;01mfor\u001b[39;00m tweet \u001b[38;5;129;01min\u001b[39;00m tweets\u001b[38;5;241m.\u001b[39mdata:\n\u001b[0;32m      7\u001b[0m         \u001b[38;5;66;03m# Extract data from each tweet\u001b[39;00m\n",
      "File \u001b[1;32m~\\AppData\\Roaming\\Python\\Python311\\site-packages\\tweepy\\client.py:1270\u001b[0m, in \u001b[0;36mClient.search_recent_tweets\u001b[1;34m(self, query, user_auth, **params)\u001b[0m\n\u001b[0;32m   1178\u001b[0m \u001b[38;5;250m\u001b[39m\u001b[38;5;124;03m\"\"\"search_recent_tweets( \\\u001b[39;00m\n\u001b[0;32m   1179\u001b[0m \u001b[38;5;124;03m    query, *, end_time=None, expansions=None, max_results=None, \\\u001b[39;00m\n\u001b[0;32m   1180\u001b[0m \u001b[38;5;124;03m    media_fields=None, next_token=None, place_fields=None, \\\u001b[39;00m\n\u001b[1;32m   (...)\u001b[0m\n\u001b[0;32m   1267\u001b[0m \u001b[38;5;124;03m.. _Academic Research Project: https://developer.twitter.com/en/docs/projects\u001b[39;00m\n\u001b[0;32m   1268\u001b[0m \u001b[38;5;124;03m\"\"\"\u001b[39;00m\n\u001b[0;32m   1269\u001b[0m params[\u001b[38;5;124m\"\u001b[39m\u001b[38;5;124mquery\u001b[39m\u001b[38;5;124m\"\u001b[39m] \u001b[38;5;241m=\u001b[39m query\n\u001b[1;32m-> 1270\u001b[0m \u001b[38;5;28;01mreturn\u001b[39;00m \u001b[38;5;28mself\u001b[39m\u001b[38;5;241m.\u001b[39m_make_request(\n\u001b[0;32m   1271\u001b[0m     \u001b[38;5;124m\"\u001b[39m\u001b[38;5;124mGET\u001b[39m\u001b[38;5;124m\"\u001b[39m, \u001b[38;5;124m\"\u001b[39m\u001b[38;5;124m/2/tweets/search/recent\u001b[39m\u001b[38;5;124m\"\u001b[39m, params\u001b[38;5;241m=\u001b[39mparams,\n\u001b[0;32m   1272\u001b[0m     endpoint_parameters\u001b[38;5;241m=\u001b[39m(\n\u001b[0;32m   1273\u001b[0m         \u001b[38;5;124m\"\u001b[39m\u001b[38;5;124mend_time\u001b[39m\u001b[38;5;124m\"\u001b[39m, \u001b[38;5;124m\"\u001b[39m\u001b[38;5;124mexpansions\u001b[39m\u001b[38;5;124m\"\u001b[39m, \u001b[38;5;124m\"\u001b[39m\u001b[38;5;124mmax_results\u001b[39m\u001b[38;5;124m\"\u001b[39m, \u001b[38;5;124m\"\u001b[39m\u001b[38;5;124mmedia.fields\u001b[39m\u001b[38;5;124m\"\u001b[39m,\n\u001b[0;32m   1274\u001b[0m         \u001b[38;5;124m\"\u001b[39m\u001b[38;5;124mnext_token\u001b[39m\u001b[38;5;124m\"\u001b[39m, \u001b[38;5;124m\"\u001b[39m\u001b[38;5;124mplace.fields\u001b[39m\u001b[38;5;124m\"\u001b[39m, \u001b[38;5;124m\"\u001b[39m\u001b[38;5;124mpoll.fields\u001b[39m\u001b[38;5;124m\"\u001b[39m, \u001b[38;5;124m\"\u001b[39m\u001b[38;5;124mquery\u001b[39m\u001b[38;5;124m\"\u001b[39m,\n\u001b[0;32m   1275\u001b[0m         \u001b[38;5;124m\"\u001b[39m\u001b[38;5;124msince_id\u001b[39m\u001b[38;5;124m\"\u001b[39m, \u001b[38;5;124m\"\u001b[39m\u001b[38;5;124msort_order\u001b[39m\u001b[38;5;124m\"\u001b[39m, \u001b[38;5;124m\"\u001b[39m\u001b[38;5;124mstart_time\u001b[39m\u001b[38;5;124m\"\u001b[39m, \u001b[38;5;124m\"\u001b[39m\u001b[38;5;124mtweet.fields\u001b[39m\u001b[38;5;124m\"\u001b[39m,\n\u001b[0;32m   1276\u001b[0m         \u001b[38;5;124m\"\u001b[39m\u001b[38;5;124muntil_id\u001b[39m\u001b[38;5;124m\"\u001b[39m, \u001b[38;5;124m\"\u001b[39m\u001b[38;5;124muser.fields\u001b[39m\u001b[38;5;124m\"\u001b[39m\n\u001b[0;32m   1277\u001b[0m     ), data_type\u001b[38;5;241m=\u001b[39mTweet, user_auth\u001b[38;5;241m=\u001b[39muser_auth\n\u001b[0;32m   1278\u001b[0m )\n",
      "File \u001b[1;32m~\\AppData\\Roaming\\Python\\Python311\\site-packages\\tweepy\\client.py:129\u001b[0m, in \u001b[0;36mBaseClient._make_request\u001b[1;34m(self, method, route, params, endpoint_parameters, json, data_type, user_auth)\u001b[0m\n\u001b[0;32m    123\u001b[0m \u001b[38;5;28;01mdef\u001b[39;00m \u001b[38;5;21m_make_request\u001b[39m(\n\u001b[0;32m    124\u001b[0m     \u001b[38;5;28mself\u001b[39m, method, route, params\u001b[38;5;241m=\u001b[39m{}, endpoint_parameters\u001b[38;5;241m=\u001b[39m(), json\u001b[38;5;241m=\u001b[39m\u001b[38;5;28;01mNone\u001b[39;00m,\n\u001b[0;32m    125\u001b[0m     data_type\u001b[38;5;241m=\u001b[39m\u001b[38;5;28;01mNone\u001b[39;00m, user_auth\u001b[38;5;241m=\u001b[39m\u001b[38;5;28;01mFalse\u001b[39;00m\n\u001b[0;32m    126\u001b[0m ):\n\u001b[0;32m    127\u001b[0m     request_params \u001b[38;5;241m=\u001b[39m \u001b[38;5;28mself\u001b[39m\u001b[38;5;241m.\u001b[39m_process_params(params, endpoint_parameters)\n\u001b[1;32m--> 129\u001b[0m     response \u001b[38;5;241m=\u001b[39m \u001b[38;5;28mself\u001b[39m\u001b[38;5;241m.\u001b[39mrequest(method, route, params\u001b[38;5;241m=\u001b[39mrequest_params,\n\u001b[0;32m    130\u001b[0m                             json\u001b[38;5;241m=\u001b[39mjson, user_auth\u001b[38;5;241m=\u001b[39muser_auth)\n\u001b[0;32m    132\u001b[0m     \u001b[38;5;28;01mif\u001b[39;00m \u001b[38;5;28mself\u001b[39m\u001b[38;5;241m.\u001b[39mreturn_type \u001b[38;5;129;01mis\u001b[39;00m requests\u001b[38;5;241m.\u001b[39mResponse:\n\u001b[0;32m    133\u001b[0m         \u001b[38;5;28;01mreturn\u001b[39;00m response\n",
      "File \u001b[1;32m~\\AppData\\Roaming\\Python\\Python311\\site-packages\\tweepy\\client.py:115\u001b[0m, in \u001b[0;36mBaseClient.request\u001b[1;34m(self, method, route, params, json, user_auth)\u001b[0m\n\u001b[0;32m    113\u001b[0m         \u001b[38;5;28;01mreturn\u001b[39;00m \u001b[38;5;28mself\u001b[39m\u001b[38;5;241m.\u001b[39mrequest(method, route, params, json, user_auth)\n\u001b[0;32m    114\u001b[0m     \u001b[38;5;28;01melse\u001b[39;00m:\n\u001b[1;32m--> 115\u001b[0m         \u001b[38;5;28;01mraise\u001b[39;00m TooManyRequests(response)\n\u001b[0;32m    116\u001b[0m \u001b[38;5;28;01mif\u001b[39;00m response\u001b[38;5;241m.\u001b[39mstatus_code \u001b[38;5;241m>\u001b[39m\u001b[38;5;241m=\u001b[39m \u001b[38;5;241m500\u001b[39m:\n\u001b[0;32m    117\u001b[0m     \u001b[38;5;28;01mraise\u001b[39;00m TwitterServerError(response)\n",
      "\u001b[1;31mTooManyRequests\u001b[0m: 429 Too Many Requests\nToo Many Requests"
     ]
    }
   ],
   "source": [
    "# Fetch tweets and save to CSV\n",
    "df = fetch_and_structure_tweets()\n",
    "df.to_csv(\"loksabha_tweets.csv\", index=False)\n",
    "\n",
    "print(\"Tweets collected and saved in 'loksabha_tweets.csv'.\")\n",
    "print(df.head())\n"
   ]
  },
  {
   "cell_type": "code",
   "execution_count": null,
   "id": "992d24b5",
   "metadata": {},
   "outputs": [],
   "source": []
  },
  {
   "cell_type": "code",
   "execution_count": null,
   "id": "ac96e4f3",
   "metadata": {},
   "outputs": [],
   "source": []
  }
 ],
 "metadata": {
  "kernelspec": {
   "display_name": "Python 3 (ipykernel)",
   "language": "python",
   "name": "python3"
  },
  "language_info": {
   "codemirror_mode": {
    "name": "ipython",
    "version": 3
   },
   "file_extension": ".py",
   "mimetype": "text/x-python",
   "name": "python",
   "nbconvert_exporter": "python",
   "pygments_lexer": "ipython3",
   "version": "3.11.5"
  }
 },
 "nbformat": 4,
 "nbformat_minor": 5
}
