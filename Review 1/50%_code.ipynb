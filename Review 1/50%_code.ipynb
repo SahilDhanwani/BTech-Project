{
 "cells": [
  {
   "cell_type": "code",
   "execution_count": 3,
   "metadata": {},
   "outputs": [
    {
     "data": {
      "text/html": [
       "        <script type=\"text/javascript\">\n",
       "        window.PlotlyConfig = {MathJaxConfig: 'local'};\n",
       "        if (window.MathJax && window.MathJax.Hub && window.MathJax.Hub.Config) {window.MathJax.Hub.Config({SVG: {font: \"STIX-Web\"}});}\n",
       "        if (typeof require !== 'undefined') {\n",
       "        require.undef(\"plotly\");\n",
       "        requirejs.config({\n",
       "            paths: {\n",
       "                'plotly': ['https://cdn.plot.ly/plotly-2.27.0.min']\n",
       "            }\n",
       "        });\n",
       "        require(['plotly'], function(Plotly) {\n",
       "            window._Plotly = Plotly;\n",
       "        });\n",
       "        }\n",
       "        </script>\n",
       "        "
      ]
     },
     "metadata": {},
     "output_type": "display_data"
    }
   ],
   "source": [
    "# Import numpy, pandas for data manipulation\n",
    "import numpy as np\n",
    "import pandas as pd\n",
    "from collections import Counter\n",
    "import time\n",
    "\n",
    "# Import plotly, matplotlib and seaborn as visualization tools\n",
    "import matplotlib.pyplot as plt\n",
    "from plotly import tools\n",
    "import chart_studio.plotly as py\n",
    "import plotly.graph_objs as go\n",
    "import plotly.figure_factory as ff\n",
    "import plotly.express as px\n",
    "from plotly.subplots import make_subplots\n",
    "from plotly.offline import download_plotlyjs, init_notebook_mode\n",
    "import seaborn as sns\n",
    "\n",
    "# Import for resampling the data\n",
    "from imblearn.over_sampling import SMOTE\n",
    "\n",
    "# Import for scaling the data\n",
    "from sklearn.preprocessing import MinMaxScaler, OrdinalEncoder, LabelEncoder\n",
    "\n",
    "# Import machine learning models\n",
    "from sklearn.ensemble import RandomForestClassifier, GradientBoostingClassifier, AdaBoostClassifier\n",
    "from sklearn.svm import SVC\n",
    "from sklearn.neighbors import KNeighborsClassifier\n",
    "from sklearn.linear_model import LogisticRegression\n",
    "import xgboost as xgb\n",
    "from catboost import CatBoostClassifier\n",
    "import lightgbm as lgb\n",
    "from sklearn.tree import DecisionTreeClassifier\n",
    "\n",
    "# Import model evaluation metrics\n",
    "from sklearn.metrics import classification_report, confusion_matrix, RocCurveDisplay\n",
    "\n",
    "from sklearn.metrics import accuracy_score, precision_score, recall_score, f1_score\n",
    "from sklearn.model_selection import train_test_split, cross_val_score\n",
    "from sklearn.model_selection import RandomizedSearchCV, GridSearchCV\n",
    "\n",
    "# Plot should appear inside the jupyter notebook\n",
    "%matplotlib inline\n",
    "\n",
    "init_notebook_mode(connected=True)"
   ]
  },
  {
   "cell_type": "code",
   "execution_count": 4,
   "metadata": {
    "scrolled": true
   },
   "outputs": [
    {
     "data": {
      "text/html": [
       "<div>\n",
       "<style scoped>\n",
       "    .dataframe tbody tr th:only-of-type {\n",
       "        vertical-align: middle;\n",
       "    }\n",
       "\n",
       "    .dataframe tbody tr th {\n",
       "        vertical-align: top;\n",
       "    }\n",
       "\n",
       "    .dataframe thead th {\n",
       "        text-align: right;\n",
       "    }\n",
       "</style>\n",
       "<table border=\"1\" class=\"dataframe\">\n",
       "  <thead>\n",
       "    <tr style=\"text-align: right;\">\n",
       "      <th></th>\n",
       "      <th>STATE</th>\n",
       "      <th>CONSTITUENCY</th>\n",
       "      <th>NAME</th>\n",
       "      <th>WINNER</th>\n",
       "      <th>PARTY</th>\n",
       "      <th>SYMBOL</th>\n",
       "      <th>GENDER</th>\n",
       "      <th>CRIMINAL CASES</th>\n",
       "      <th>AGE</th>\n",
       "      <th>CATEGORY</th>\n",
       "      <th>EDUCATION</th>\n",
       "      <th>ASSETS</th>\n",
       "      <th>LIABILITIES</th>\n",
       "      <th>GENERAL VOTES</th>\n",
       "      <th>POSTAL VOTES</th>\n",
       "      <th>TOTAL VOTES</th>\n",
       "      <th>TOTAL ELECTORS</th>\n",
       "      <th>TOTAL VOTING</th>\n",
       "      <th>OVER TOTAL ELECTORS IN CONSTITUENCY</th>\n",
       "      <th>OVER TOTAL VOTES POLLED IN CONSTITUENCY</th>\n",
       "    </tr>\n",
       "  </thead>\n",
       "  <tbody>\n",
       "    <tr>\n",
       "      <th>0</th>\n",
       "      <td>Andhra Pradesh</td>\n",
       "      <td>Araku</td>\n",
       "      <td>gumma thanuja rani</td>\n",
       "      <td>1</td>\n",
       "      <td>YSRCP</td>\n",
       "      <td>Ceiling fan</td>\n",
       "      <td>FEMALE</td>\n",
       "      <td>0.0</td>\n",
       "      <td>31.0</td>\n",
       "      <td>ST</td>\n",
       "      <td>Graduate Professional</td>\n",
       "      <td>Rs 23,54,678~ 23 Lacs+</td>\n",
       "      <td>Rs 0~</td>\n",
       "      <td>471470</td>\n",
       "      <td>5535</td>\n",
       "      <td>477005</td>\n",
       "      <td>1557153</td>\n",
       "      <td>1113975</td>\n",
       "      <td>30.63</td>\n",
       "      <td>42.82</td>\n",
       "    </tr>\n",
       "    <tr>\n",
       "      <th>1</th>\n",
       "      <td>Andhra Pradesh</td>\n",
       "      <td>Araku</td>\n",
       "      <td>kothapalli geetha</td>\n",
       "      <td>0</td>\n",
       "      <td>BJP</td>\n",
       "      <td>Lotus</td>\n",
       "      <td>FEMALE</td>\n",
       "      <td>2.0</td>\n",
       "      <td>53.0</td>\n",
       "      <td>ST</td>\n",
       "      <td>Post Graduate</td>\n",
       "      <td>Unknown</td>\n",
       "      <td>Unknown</td>\n",
       "      <td>417113</td>\n",
       "      <td>9312</td>\n",
       "      <td>426425</td>\n",
       "      <td>1557153</td>\n",
       "      <td>1113975</td>\n",
       "      <td>27.38</td>\n",
       "      <td>38.28</td>\n",
       "    </tr>\n",
       "    <tr>\n",
       "      <th>2</th>\n",
       "      <td>Andhra Pradesh</td>\n",
       "      <td>Araku</td>\n",
       "      <td>appalanarasa pachipenta</td>\n",
       "      <td>0</td>\n",
       "      <td>CPI(M)</td>\n",
       "      <td>Hammer, Sickle and Star</td>\n",
       "      <td>MALE</td>\n",
       "      <td>4.0</td>\n",
       "      <td>41.0</td>\n",
       "      <td>ST</td>\n",
       "      <td>Post Graduate</td>\n",
       "      <td>Rs 29,25,792~ 29 Lacs+</td>\n",
       "      <td>Rs 2,43,125~ 2 Lacs+</td>\n",
       "      <td>119016</td>\n",
       "      <td>4113</td>\n",
       "      <td>123129</td>\n",
       "      <td>1557153</td>\n",
       "      <td>1113975</td>\n",
       "      <td>7.91</td>\n",
       "      <td>11.05</td>\n",
       "    </tr>\n",
       "    <tr>\n",
       "      <th>3</th>\n",
       "      <td>Andhra Pradesh</td>\n",
       "      <td>Araku</td>\n",
       "      <td>avashya lahari . varam</td>\n",
       "      <td>0</td>\n",
       "      <td>BSP</td>\n",
       "      <td>Elephant</td>\n",
       "      <td>FEMALE</td>\n",
       "      <td>0.0</td>\n",
       "      <td>30.0</td>\n",
       "      <td>ST</td>\n",
       "      <td>Graduate Professional</td>\n",
       "      <td>Rs 53,90,634~ 53 Lacs+</td>\n",
       "      <td>Rs 16,27,956~ 16 Lacs+</td>\n",
       "      <td>24858</td>\n",
       "      <td>892</td>\n",
       "      <td>25750</td>\n",
       "      <td>1557153</td>\n",
       "      <td>1113975</td>\n",
       "      <td>1.65</td>\n",
       "      <td>2.31</td>\n",
       "    </tr>\n",
       "    <tr>\n",
       "      <th>4</th>\n",
       "      <td>Andhra Pradesh</td>\n",
       "      <td>Araku</td>\n",
       "      <td>samareddy balakrishna</td>\n",
       "      <td>0</td>\n",
       "      <td>IND</td>\n",
       "      <td>Gas cylinder</td>\n",
       "      <td>MALE</td>\n",
       "      <td>0.0</td>\n",
       "      <td>48.0</td>\n",
       "      <td>ST</td>\n",
       "      <td>Post Graduate</td>\n",
       "      <td>Unknown</td>\n",
       "      <td>Unknown</td>\n",
       "      <td>9493</td>\n",
       "      <td>42</td>\n",
       "      <td>9535</td>\n",
       "      <td>1557153</td>\n",
       "      <td>1113975</td>\n",
       "      <td>0.61</td>\n",
       "      <td>0.86</td>\n",
       "    </tr>\n",
       "  </tbody>\n",
       "</table>\n",
       "</div>"
      ],
      "text/plain": [
       "            STATE CONSTITUENCY                     NAME  WINNER   PARTY  \\\n",
       "0  Andhra Pradesh        Araku       gumma thanuja rani       1   YSRCP   \n",
       "1  Andhra Pradesh        Araku        kothapalli geetha       0     BJP   \n",
       "2  Andhra Pradesh        Araku  appalanarasa pachipenta       0  CPI(M)   \n",
       "3  Andhra Pradesh        Araku   avashya lahari . varam       0     BSP   \n",
       "4  Andhra Pradesh        Araku    samareddy balakrishna       0     IND   \n",
       "\n",
       "                    SYMBOL  GENDER  CRIMINAL CASES   AGE CATEGORY  \\\n",
       "0              Ceiling fan  FEMALE             0.0  31.0       ST   \n",
       "1                    Lotus  FEMALE             2.0  53.0       ST   \n",
       "2  Hammer, Sickle and Star    MALE             4.0  41.0       ST   \n",
       "3                 Elephant  FEMALE             0.0  30.0       ST   \n",
       "4             Gas cylinder    MALE             0.0  48.0       ST   \n",
       "\n",
       "               EDUCATION                  ASSETS             LIABILITIES  \\\n",
       "0  Graduate Professional  Rs 23,54,678~ 23 Lacs+                   Rs 0~   \n",
       "1          Post Graduate                 Unknown                 Unknown   \n",
       "2          Post Graduate  Rs 29,25,792~ 29 Lacs+    Rs 2,43,125~ 2 Lacs+   \n",
       "3  Graduate Professional  Rs 53,90,634~ 53 Lacs+  Rs 16,27,956~ 16 Lacs+   \n",
       "4          Post Graduate                 Unknown                 Unknown   \n",
       "\n",
       "   GENERAL VOTES  POSTAL VOTES  TOTAL VOTES  TOTAL ELECTORS  TOTAL VOTING  \\\n",
       "0         471470          5535       477005         1557153       1113975   \n",
       "1         417113          9312       426425         1557153       1113975   \n",
       "2         119016          4113       123129         1557153       1113975   \n",
       "3          24858           892        25750         1557153       1113975   \n",
       "4           9493            42         9535         1557153       1113975   \n",
       "\n",
       "   OVER TOTAL ELECTORS IN CONSTITUENCY  \\\n",
       "0                                30.63   \n",
       "1                                27.38   \n",
       "2                                 7.91   \n",
       "3                                 1.65   \n",
       "4                                 0.61   \n",
       "\n",
       "   OVER TOTAL VOTES POLLED IN CONSTITUENCY  \n",
       "0                                    42.82  \n",
       "1                                    38.28  \n",
       "2                                    11.05  \n",
       "3                                     2.31  \n",
       "4                                     0.86  "
      ]
     },
     "execution_count": 4,
     "metadata": {},
     "output_type": "execute_result"
    }
   ],
   "source": [
    "# Loading the dataset\n",
    "df = pd.read_csv(\"dataset.csv\")\n",
    "df.head()\n"
   ]
  },
  {
   "cell_type": "code",
   "execution_count": 5,
   "metadata": {},
   "outputs": [],
   "source": [
    "df.replace({'Not Available': np.nan}, inplace=True)"
   ]
  },
  {
   "cell_type": "code",
   "execution_count": 6,
   "metadata": {},
   "outputs": [
    {
     "name": "stdout",
     "output_type": "stream",
     "text": [
      "<class 'pandas.core.frame.DataFrame'>\n",
      "RangeIndex: 8359 entries, 0 to 8358\n",
      "Data columns (total 20 columns):\n",
      " #   Column                                   Non-Null Count  Dtype  \n",
      "---  ------                                   --------------  -----  \n",
      " 0   STATE                                    8359 non-null   object \n",
      " 1   CONSTITUENCY                             8359 non-null   object \n",
      " 2   NAME                                     8359 non-null   object \n",
      " 3   WINNER                                   8359 non-null   int64  \n",
      " 4   PARTY                                    8359 non-null   object \n",
      " 5   SYMBOL                                   8359 non-null   object \n",
      " 6   GENDER                                   8359 non-null   object \n",
      " 7   CRIMINAL CASES                           8359 non-null   float64\n",
      " 8   AGE                                      8359 non-null   float64\n",
      " 9   CATEGORY                                 8359 non-null   object \n",
      " 10  EDUCATION                                8359 non-null   object \n",
      " 11  ASSETS                                   8359 non-null   object \n",
      " 12  LIABILITIES                              8359 non-null   object \n",
      " 13  GENERAL VOTES                            8359 non-null   int64  \n",
      " 14  POSTAL VOTES                             8359 non-null   int64  \n",
      " 15  TOTAL VOTES                              8359 non-null   int64  \n",
      " 16  TOTAL ELECTORS                           8359 non-null   int64  \n",
      " 17  TOTAL VOTING                             8359 non-null   int64  \n",
      " 18  OVER TOTAL ELECTORS IN CONSTITUENCY      8359 non-null   float64\n",
      " 19  OVER TOTAL VOTES POLLED IN CONSTITUENCY  8359 non-null   float64\n",
      "dtypes: float64(4), int64(6), object(10)\n",
      "memory usage: 1.3+ MB\n"
     ]
    }
   ],
   "source": [
    "df.info()"
   ]
  },
  {
   "cell_type": "code",
   "execution_count": 7,
   "metadata": {},
   "outputs": [],
   "source": [
    "df.columns = df.columns.str.replace('\\r','')\n",
    "df.columns = df.columns.str.replace('\\n','')"
   ]
  },
  {
   "cell_type": "code",
   "execution_count": 8,
   "metadata": {},
   "outputs": [
    {
     "data": {
      "text/html": [
       "<div>\n",
       "<style scoped>\n",
       "    .dataframe tbody tr th:only-of-type {\n",
       "        vertical-align: middle;\n",
       "    }\n",
       "\n",
       "    .dataframe tbody tr th {\n",
       "        vertical-align: top;\n",
       "    }\n",
       "\n",
       "    .dataframe thead th {\n",
       "        text-align: right;\n",
       "    }\n",
       "</style>\n",
       "<table border=\"1\" class=\"dataframe\">\n",
       "  <thead>\n",
       "    <tr style=\"text-align: right;\">\n",
       "      <th></th>\n",
       "      <th>WINNER</th>\n",
       "      <th>CRIMINAL CASES</th>\n",
       "      <th>AGE</th>\n",
       "      <th>GENERAL VOTES</th>\n",
       "      <th>POSTAL VOTES</th>\n",
       "      <th>TOTAL VOTES</th>\n",
       "      <th>TOTAL ELECTORS</th>\n",
       "      <th>TOTAL VOTING</th>\n",
       "      <th>OVER TOTAL ELECTORS IN CONSTITUENCY</th>\n",
       "      <th>OVER TOTAL VOTES POLLED IN CONSTITUENCY</th>\n",
       "    </tr>\n",
       "  </thead>\n",
       "  <tbody>\n",
       "    <tr>\n",
       "      <th>count</th>\n",
       "      <td>8359.000000</td>\n",
       "      <td>8359.000000</td>\n",
       "      <td>8359.000000</td>\n",
       "      <td>8.359000e+03</td>\n",
       "      <td>8359.00000</td>\n",
       "      <td>8.359000e+03</td>\n",
       "      <td>8.359000e+03</td>\n",
       "      <td>8.359000e+03</td>\n",
       "      <td>8359.000000</td>\n",
       "      <td>8359.000000</td>\n",
       "    </tr>\n",
       "    <tr>\n",
       "      <th>mean</th>\n",
       "      <td>0.068549</td>\n",
       "      <td>0.632133</td>\n",
       "      <td>47.765163</td>\n",
       "      <td>7.600097e+04</td>\n",
       "      <td>442.46764</td>\n",
       "      <td>7.644344e+04</td>\n",
       "      <td>1.841400e+06</td>\n",
       "      <td>1.201633e+06</td>\n",
       "      <td>4.285400</td>\n",
       "      <td>6.484028</td>\n",
       "    </tr>\n",
       "    <tr>\n",
       "      <th>std</th>\n",
       "      <td>0.252701</td>\n",
       "      <td>4.323564</td>\n",
       "      <td>11.971231</td>\n",
       "      <td>1.838803e+05</td>\n",
       "      <td>1379.91211</td>\n",
       "      <td>1.849374e+05</td>\n",
       "      <td>3.458819e+05</td>\n",
       "      <td>2.203456e+05</td>\n",
       "      <td>10.158091</td>\n",
       "      <td>15.193354</td>\n",
       "    </tr>\n",
       "    <tr>\n",
       "      <th>min</th>\n",
       "      <td>0.000000</td>\n",
       "      <td>0.000000</td>\n",
       "      <td>25.000000</td>\n",
       "      <td>5.800000e+01</td>\n",
       "      <td>0.00000</td>\n",
       "      <td>6.100000e+01</td>\n",
       "      <td>5.795300e+04</td>\n",
       "      <td>4.906700e+04</td>\n",
       "      <td>0.000000</td>\n",
       "      <td>0.010000</td>\n",
       "    </tr>\n",
       "    <tr>\n",
       "      <th>25%</th>\n",
       "      <td>0.000000</td>\n",
       "      <td>0.000000</td>\n",
       "      <td>38.000000</td>\n",
       "      <td>1.034500e+03</td>\n",
       "      <td>3.00000</td>\n",
       "      <td>1.043000e+03</td>\n",
       "      <td>1.641887e+06</td>\n",
       "      <td>1.073913e+06</td>\n",
       "      <td>0.060000</td>\n",
       "      <td>0.090000</td>\n",
       "    </tr>\n",
       "    <tr>\n",
       "      <th>50%</th>\n",
       "      <td>0.000000</td>\n",
       "      <td>0.000000</td>\n",
       "      <td>47.000000</td>\n",
       "      <td>2.459000e+03</td>\n",
       "      <td>8.00000</td>\n",
       "      <td>2.468000e+03</td>\n",
       "      <td>1.823717e+06</td>\n",
       "      <td>1.200032e+06</td>\n",
       "      <td>0.140000</td>\n",
       "      <td>0.210000</td>\n",
       "    </tr>\n",
       "    <tr>\n",
       "      <th>75%</th>\n",
       "      <td>0.000000</td>\n",
       "      <td>0.000000</td>\n",
       "      <td>56.000000</td>\n",
       "      <td>8.541500e+03</td>\n",
       "      <td>41.00000</td>\n",
       "      <td>8.586000e+03</td>\n",
       "      <td>2.015928e+06</td>\n",
       "      <td>1.353736e+06</td>\n",
       "      <td>0.480000</td>\n",
       "      <td>0.720000</td>\n",
       "    </tr>\n",
       "    <tr>\n",
       "      <th>max</th>\n",
       "      <td>1.000000</td>\n",
       "      <td>243.000000</td>\n",
       "      <td>88.000000</td>\n",
       "      <td>1.468549e+06</td>\n",
       "      <td>19827.00000</td>\n",
       "      <td>1.471885e+06</td>\n",
       "      <td>3.780453e+06</td>\n",
       "      <td>2.438593e+06</td>\n",
       "      <td>59.980000</td>\n",
       "      <td>91.320000</td>\n",
       "    </tr>\n",
       "  </tbody>\n",
       "</table>\n",
       "</div>"
      ],
      "text/plain": [
       "            WINNER  CRIMINAL CASES          AGE  GENERAL VOTES  POSTAL VOTES  \\\n",
       "count  8359.000000     8359.000000  8359.000000   8.359000e+03    8359.00000   \n",
       "mean      0.068549        0.632133    47.765163   7.600097e+04     442.46764   \n",
       "std       0.252701        4.323564    11.971231   1.838803e+05    1379.91211   \n",
       "min       0.000000        0.000000    25.000000   5.800000e+01       0.00000   \n",
       "25%       0.000000        0.000000    38.000000   1.034500e+03       3.00000   \n",
       "50%       0.000000        0.000000    47.000000   2.459000e+03       8.00000   \n",
       "75%       0.000000        0.000000    56.000000   8.541500e+03      41.00000   \n",
       "max       1.000000      243.000000    88.000000   1.468549e+06   19827.00000   \n",
       "\n",
       "        TOTAL VOTES  TOTAL ELECTORS  TOTAL VOTING  \\\n",
       "count  8.359000e+03    8.359000e+03  8.359000e+03   \n",
       "mean   7.644344e+04    1.841400e+06  1.201633e+06   \n",
       "std    1.849374e+05    3.458819e+05  2.203456e+05   \n",
       "min    6.100000e+01    5.795300e+04  4.906700e+04   \n",
       "25%    1.043000e+03    1.641887e+06  1.073913e+06   \n",
       "50%    2.468000e+03    1.823717e+06  1.200032e+06   \n",
       "75%    8.586000e+03    2.015928e+06  1.353736e+06   \n",
       "max    1.471885e+06    3.780453e+06  2.438593e+06   \n",
       "\n",
       "       OVER TOTAL ELECTORS IN CONSTITUENCY  \\\n",
       "count                          8359.000000   \n",
       "mean                              4.285400   \n",
       "std                              10.158091   \n",
       "min                               0.000000   \n",
       "25%                               0.060000   \n",
       "50%                               0.140000   \n",
       "75%                               0.480000   \n",
       "max                              59.980000   \n",
       "\n",
       "       OVER TOTAL VOTES POLLED IN CONSTITUENCY  \n",
       "count                              8359.000000  \n",
       "mean                                  6.484028  \n",
       "std                                  15.193354  \n",
       "min                                   0.010000  \n",
       "25%                                   0.090000  \n",
       "50%                                   0.210000  \n",
       "75%                                   0.720000  \n",
       "max                                  91.320000  "
      ]
     },
     "execution_count": 8,
     "metadata": {},
     "output_type": "execute_result"
    }
   ],
   "source": [
    "df.describe()"
   ]
  },
  {
   "cell_type": "code",
   "execution_count": 9,
   "metadata": {},
   "outputs": [
    {
     "data": {
      "text/plain": [
       "STATE                                      0\n",
       "CONSTITUENCY                               0\n",
       "NAME                                       0\n",
       "WINNER                                     0\n",
       "PARTY                                      0\n",
       "SYMBOL                                     0\n",
       "GENDER                                     0\n",
       "CRIMINAL CASES                             0\n",
       "AGE                                        0\n",
       "CATEGORY                                   0\n",
       "EDUCATION                                  0\n",
       "ASSETS                                     0\n",
       "LIABILITIES                                0\n",
       "GENERAL VOTES                              0\n",
       "POSTAL VOTES                               0\n",
       "TOTAL VOTES                                0\n",
       "TOTAL ELECTORS                             0\n",
       "TOTAL VOTING                               0\n",
       "OVER TOTAL ELECTORS IN CONSTITUENCY        0\n",
       "OVER TOTAL VOTES POLLED IN CONSTITUENCY    0\n",
       "dtype: int64"
      ]
     },
     "execution_count": 9,
     "metadata": {},
     "output_type": "execute_result"
    }
   ],
   "source": [
    "# Checking to see if the dataset contains any null values. We need to exclude NOTA votes while checking it.\n",
    "df = df[df['PARTY']!= 'NOTA']\n",
    "df = df.dropna()\n",
    "df.isna().sum()"
   ]
  },
  {
   "cell_type": "code",
   "execution_count": 10,
   "metadata": {},
   "outputs": [
    {
     "data": {
      "text/html": [
       "<div>\n",
       "<style scoped>\n",
       "    .dataframe tbody tr th:only-of-type {\n",
       "        vertical-align: middle;\n",
       "    }\n",
       "\n",
       "    .dataframe tbody tr th {\n",
       "        vertical-align: top;\n",
       "    }\n",
       "\n",
       "    .dataframe thead th {\n",
       "        text-align: right;\n",
       "    }\n",
       "</style>\n",
       "<table border=\"1\" class=\"dataframe\">\n",
       "  <thead>\n",
       "    <tr style=\"text-align: right;\">\n",
       "      <th></th>\n",
       "      <th>STATE</th>\n",
       "      <th>CONSTITUENCY</th>\n",
       "      <th>NAME</th>\n",
       "      <th>WINNER</th>\n",
       "      <th>PARTY</th>\n",
       "      <th>SYMBOL</th>\n",
       "      <th>GENDER</th>\n",
       "      <th>CRIMINAL CASES</th>\n",
       "      <th>AGE</th>\n",
       "      <th>CATEGORY</th>\n",
       "      <th>EDUCATION</th>\n",
       "      <th>ASSETS</th>\n",
       "      <th>LIABILITIES</th>\n",
       "      <th>GENERAL VOTES</th>\n",
       "      <th>POSTAL VOTES</th>\n",
       "      <th>TOTAL VOTES</th>\n",
       "      <th>TOTAL ELECTORS</th>\n",
       "      <th>TOTAL VOTING</th>\n",
       "      <th>OVER TOTAL ELECTORS IN CONSTITUENCY</th>\n",
       "      <th>OVER TOTAL VOTES POLLED IN CONSTITUENCY</th>\n",
       "    </tr>\n",
       "  </thead>\n",
       "  <tbody>\n",
       "    <tr>\n",
       "      <th>0</th>\n",
       "      <td>Andhra Pradesh</td>\n",
       "      <td>Araku</td>\n",
       "      <td>gumma thanuja rani</td>\n",
       "      <td>1</td>\n",
       "      <td>YSRCP</td>\n",
       "      <td>Ceiling fan</td>\n",
       "      <td>FEMALE</td>\n",
       "      <td>0.0</td>\n",
       "      <td>31.0</td>\n",
       "      <td>ST</td>\n",
       "      <td>Graduate Professional</td>\n",
       "      <td>Rs 23,54,678~ 23 Lacs+</td>\n",
       "      <td>Rs 0~</td>\n",
       "      <td>471470</td>\n",
       "      <td>5535</td>\n",
       "      <td>477005</td>\n",
       "      <td>1557153</td>\n",
       "      <td>1113975</td>\n",
       "      <td>30.63</td>\n",
       "      <td>42.82</td>\n",
       "    </tr>\n",
       "    <tr>\n",
       "      <th>1</th>\n",
       "      <td>Andhra Pradesh</td>\n",
       "      <td>Araku</td>\n",
       "      <td>kothapalli geetha</td>\n",
       "      <td>0</td>\n",
       "      <td>BJP</td>\n",
       "      <td>Lotus</td>\n",
       "      <td>FEMALE</td>\n",
       "      <td>2.0</td>\n",
       "      <td>53.0</td>\n",
       "      <td>ST</td>\n",
       "      <td>Post Graduate</td>\n",
       "      <td>Unknown</td>\n",
       "      <td>Unknown</td>\n",
       "      <td>417113</td>\n",
       "      <td>9312</td>\n",
       "      <td>426425</td>\n",
       "      <td>1557153</td>\n",
       "      <td>1113975</td>\n",
       "      <td>27.38</td>\n",
       "      <td>38.28</td>\n",
       "    </tr>\n",
       "    <tr>\n",
       "      <th>2</th>\n",
       "      <td>Andhra Pradesh</td>\n",
       "      <td>Araku</td>\n",
       "      <td>appalanarasa pachipenta</td>\n",
       "      <td>0</td>\n",
       "      <td>CPI(M)</td>\n",
       "      <td>Hammer, Sickle and Star</td>\n",
       "      <td>MALE</td>\n",
       "      <td>4.0</td>\n",
       "      <td>41.0</td>\n",
       "      <td>ST</td>\n",
       "      <td>Post Graduate</td>\n",
       "      <td>Rs 29,25,792~ 29 Lacs+</td>\n",
       "      <td>Rs 2,43,125~ 2 Lacs+</td>\n",
       "      <td>119016</td>\n",
       "      <td>4113</td>\n",
       "      <td>123129</td>\n",
       "      <td>1557153</td>\n",
       "      <td>1113975</td>\n",
       "      <td>7.91</td>\n",
       "      <td>11.05</td>\n",
       "    </tr>\n",
       "    <tr>\n",
       "      <th>3</th>\n",
       "      <td>Andhra Pradesh</td>\n",
       "      <td>Araku</td>\n",
       "      <td>avashya lahari . varam</td>\n",
       "      <td>0</td>\n",
       "      <td>BSP</td>\n",
       "      <td>Elephant</td>\n",
       "      <td>FEMALE</td>\n",
       "      <td>0.0</td>\n",
       "      <td>30.0</td>\n",
       "      <td>ST</td>\n",
       "      <td>Graduate Professional</td>\n",
       "      <td>Rs 53,90,634~ 53 Lacs+</td>\n",
       "      <td>Rs 16,27,956~ 16 Lacs+</td>\n",
       "      <td>24858</td>\n",
       "      <td>892</td>\n",
       "      <td>25750</td>\n",
       "      <td>1557153</td>\n",
       "      <td>1113975</td>\n",
       "      <td>1.65</td>\n",
       "      <td>2.31</td>\n",
       "    </tr>\n",
       "    <tr>\n",
       "      <th>4</th>\n",
       "      <td>Andhra Pradesh</td>\n",
       "      <td>Araku</td>\n",
       "      <td>samareddy balakrishna</td>\n",
       "      <td>0</td>\n",
       "      <td>IND</td>\n",
       "      <td>Gas cylinder</td>\n",
       "      <td>MALE</td>\n",
       "      <td>0.0</td>\n",
       "      <td>48.0</td>\n",
       "      <td>ST</td>\n",
       "      <td>Post Graduate</td>\n",
       "      <td>Unknown</td>\n",
       "      <td>Unknown</td>\n",
       "      <td>9493</td>\n",
       "      <td>42</td>\n",
       "      <td>9535</td>\n",
       "      <td>1557153</td>\n",
       "      <td>1113975</td>\n",
       "      <td>0.61</td>\n",
       "      <td>0.86</td>\n",
       "    </tr>\n",
       "    <tr>\n",
       "      <th>5</th>\n",
       "      <td>Andhra Pradesh</td>\n",
       "      <td>Araku</td>\n",
       "      <td>nimmaka jayaraju</td>\n",
       "      <td>0</td>\n",
       "      <td>IND</td>\n",
       "      <td>Bat</td>\n",
       "      <td>MALE</td>\n",
       "      <td>0.0</td>\n",
       "      <td>64.0</td>\n",
       "      <td>ST</td>\n",
       "      <td>12th Pass</td>\n",
       "      <td>Rs 1,26,17,000~ 1 Crore+</td>\n",
       "      <td>Rs 32,28,000~ 32 Lacs+</td>\n",
       "      <td>8798</td>\n",
       "      <td>664</td>\n",
       "      <td>9462</td>\n",
       "      <td>1557153</td>\n",
       "      <td>1113975</td>\n",
       "      <td>0.61</td>\n",
       "      <td>0.85</td>\n",
       "    </tr>\n",
       "    <tr>\n",
       "      <th>6</th>\n",
       "      <td>Andhra Pradesh</td>\n",
       "      <td>Araku</td>\n",
       "      <td>athidhi</td>\n",
       "      <td>0</td>\n",
       "      <td>IND</td>\n",
       "      <td>Plate containing food</td>\n",
       "      <td>FEMALE</td>\n",
       "      <td>0.0</td>\n",
       "      <td>32.0</td>\n",
       "      <td>ST</td>\n",
       "      <td>Graduate</td>\n",
       "      <td>Rs 20,43,321~ 20 Lacs+</td>\n",
       "      <td>Rs 17,93,245~ 17 Lacs+</td>\n",
       "      <td>8121</td>\n",
       "      <td>15</td>\n",
       "      <td>8136</td>\n",
       "      <td>1557153</td>\n",
       "      <td>1113975</td>\n",
       "      <td>0.52</td>\n",
       "      <td>0.73</td>\n",
       "    </tr>\n",
       "    <tr>\n",
       "      <th>7</th>\n",
       "      <td>Andhra Pradesh</td>\n",
       "      <td>Araku</td>\n",
       "      <td>chanti badnaina</td>\n",
       "      <td>0</td>\n",
       "      <td>JBNP</td>\n",
       "      <td>Battery Torch</td>\n",
       "      <td>MALE</td>\n",
       "      <td>0.0</td>\n",
       "      <td>28.0</td>\n",
       "      <td>ST</td>\n",
       "      <td>12th Pass</td>\n",
       "      <td>Rs 1,80,000~ 1 Lacs+</td>\n",
       "      <td>Rs 0~</td>\n",
       "      <td>7205</td>\n",
       "      <td>47</td>\n",
       "      <td>7252</td>\n",
       "      <td>1557153</td>\n",
       "      <td>1113975</td>\n",
       "      <td>0.47</td>\n",
       "      <td>0.65</td>\n",
       "    </tr>\n",
       "    <tr>\n",
       "      <th>8</th>\n",
       "      <td>Andhra Pradesh</td>\n",
       "      <td>Araku</td>\n",
       "      <td>mottadam . rajababu</td>\n",
       "      <td>0</td>\n",
       "      <td>BHRTADVSIP</td>\n",
       "      <td>Hockey and ball</td>\n",
       "      <td>MALE</td>\n",
       "      <td>0.0</td>\n",
       "      <td>47.0</td>\n",
       "      <td>ST</td>\n",
       "      <td>Graduate Professional</td>\n",
       "      <td>Nil</td>\n",
       "      <td>Rs 0~</td>\n",
       "      <td>6370</td>\n",
       "      <td>396</td>\n",
       "      <td>6766</td>\n",
       "      <td>1557153</td>\n",
       "      <td>1113975</td>\n",
       "      <td>0.43</td>\n",
       "      <td>0.61</td>\n",
       "    </tr>\n",
       "    <tr>\n",
       "      <th>9</th>\n",
       "      <td>Andhra Pradesh</td>\n",
       "      <td>Araku</td>\n",
       "      <td>ranjith kumar palaka</td>\n",
       "      <td>0</td>\n",
       "      <td>IND</td>\n",
       "      <td>Biscuit</td>\n",
       "      <td>MALE</td>\n",
       "      <td>0.0</td>\n",
       "      <td>42.0</td>\n",
       "      <td>ST</td>\n",
       "      <td>Graduate</td>\n",
       "      <td>Rs 35,000~ 35 Thou+</td>\n",
       "      <td>Rs 0~</td>\n",
       "      <td>6000</td>\n",
       "      <td>47</td>\n",
       "      <td>6047</td>\n",
       "      <td>1557153</td>\n",
       "      <td>1113975</td>\n",
       "      <td>0.39</td>\n",
       "      <td>0.54</td>\n",
       "    </tr>\n",
       "  </tbody>\n",
       "</table>\n",
       "</div>"
      ],
      "text/plain": [
       "            STATE CONSTITUENCY                     NAME  WINNER       PARTY  \\\n",
       "0  Andhra Pradesh        Araku       gumma thanuja rani       1       YSRCP   \n",
       "1  Andhra Pradesh        Araku        kothapalli geetha       0         BJP   \n",
       "2  Andhra Pradesh        Araku  appalanarasa pachipenta       0      CPI(M)   \n",
       "3  Andhra Pradesh        Araku   avashya lahari . varam       0         BSP   \n",
       "4  Andhra Pradesh        Araku    samareddy balakrishna       0         IND   \n",
       "5  Andhra Pradesh        Araku         nimmaka jayaraju       0         IND   \n",
       "6  Andhra Pradesh        Araku                  athidhi       0         IND   \n",
       "7  Andhra Pradesh        Araku          chanti badnaina       0        JBNP   \n",
       "8  Andhra Pradesh        Araku      mottadam . rajababu       0  BHRTADVSIP   \n",
       "9  Andhra Pradesh        Araku     ranjith kumar palaka       0         IND   \n",
       "\n",
       "                    SYMBOL  GENDER  CRIMINAL CASES   AGE CATEGORY  \\\n",
       "0              Ceiling fan  FEMALE             0.0  31.0       ST   \n",
       "1                    Lotus  FEMALE             2.0  53.0       ST   \n",
       "2  Hammer, Sickle and Star    MALE             4.0  41.0       ST   \n",
       "3                 Elephant  FEMALE             0.0  30.0       ST   \n",
       "4             Gas cylinder    MALE             0.0  48.0       ST   \n",
       "5                      Bat    MALE             0.0  64.0       ST   \n",
       "6    Plate containing food  FEMALE             0.0  32.0       ST   \n",
       "7            Battery Torch    MALE             0.0  28.0       ST   \n",
       "8          Hockey and ball    MALE             0.0  47.0       ST   \n",
       "9                  Biscuit    MALE             0.0  42.0       ST   \n",
       "\n",
       "               EDUCATION                    ASSETS             LIABILITIES  \\\n",
       "0  Graduate Professional    Rs 23,54,678~ 23 Lacs+                   Rs 0~   \n",
       "1          Post Graduate                   Unknown                 Unknown   \n",
       "2          Post Graduate    Rs 29,25,792~ 29 Lacs+    Rs 2,43,125~ 2 Lacs+   \n",
       "3  Graduate Professional    Rs 53,90,634~ 53 Lacs+  Rs 16,27,956~ 16 Lacs+   \n",
       "4          Post Graduate                   Unknown                 Unknown   \n",
       "5              12th Pass  Rs 1,26,17,000~ 1 Crore+  Rs 32,28,000~ 32 Lacs+   \n",
       "6               Graduate    Rs 20,43,321~ 20 Lacs+  Rs 17,93,245~ 17 Lacs+   \n",
       "7              12th Pass      Rs 1,80,000~ 1 Lacs+                   Rs 0~   \n",
       "8  Graduate Professional                       Nil                   Rs 0~   \n",
       "9               Graduate       Rs 35,000~ 35 Thou+                   Rs 0~   \n",
       "\n",
       "   GENERAL VOTES  POSTAL VOTES  TOTAL VOTES  TOTAL ELECTORS  TOTAL VOTING  \\\n",
       "0         471470          5535       477005         1557153       1113975   \n",
       "1         417113          9312       426425         1557153       1113975   \n",
       "2         119016          4113       123129         1557153       1113975   \n",
       "3          24858           892        25750         1557153       1113975   \n",
       "4           9493            42         9535         1557153       1113975   \n",
       "5           8798           664         9462         1557153       1113975   \n",
       "6           8121            15         8136         1557153       1113975   \n",
       "7           7205            47         7252         1557153       1113975   \n",
       "8           6370           396         6766         1557153       1113975   \n",
       "9           6000            47         6047         1557153       1113975   \n",
       "\n",
       "   OVER TOTAL ELECTORS IN CONSTITUENCY  \\\n",
       "0                                30.63   \n",
       "1                                27.38   \n",
       "2                                 7.91   \n",
       "3                                 1.65   \n",
       "4                                 0.61   \n",
       "5                                 0.61   \n",
       "6                                 0.52   \n",
       "7                                 0.47   \n",
       "8                                 0.43   \n",
       "9                                 0.39   \n",
       "\n",
       "   OVER TOTAL VOTES POLLED IN CONSTITUENCY  \n",
       "0                                    42.82  \n",
       "1                                    38.28  \n",
       "2                                    11.05  \n",
       "3                                     2.31  \n",
       "4                                     0.86  \n",
       "5                                     0.85  \n",
       "6                                     0.73  \n",
       "7                                     0.65  \n",
       "8                                     0.61  \n",
       "9                                     0.54  "
      ]
     },
     "execution_count": 10,
     "metadata": {},
     "output_type": "execute_result"
    }
   ],
   "source": [
    "df.head(10)"
   ]
  },
  {
   "cell_type": "code",
   "execution_count": 11,
   "metadata": {},
   "outputs": [
    {
     "data": {
      "text/plain": [
       "STATE                                       object\n",
       "CONSTITUENCY                                object\n",
       "NAME                                        object\n",
       "WINNER                                       int64\n",
       "PARTY                                       object\n",
       "SYMBOL                                      object\n",
       "GENDER                                      object\n",
       "CRIMINAL CASES                             float64\n",
       "AGE                                        float64\n",
       "CATEGORY                                    object\n",
       "EDUCATION                                   object\n",
       "ASSETS                                      object\n",
       "LIABILITIES                                 object\n",
       "GENERAL VOTES                                int64\n",
       "POSTAL VOTES                                 int64\n",
       "TOTAL VOTES                                  int64\n",
       "TOTAL ELECTORS                               int64\n",
       "TOTAL VOTING                                 int64\n",
       "OVER TOTAL ELECTORS IN CONSTITUENCY        float64\n",
       "OVER TOTAL VOTES POLLED IN CONSTITUENCY    float64\n",
       "dtype: object"
      ]
     },
     "execution_count": 11,
     "metadata": {},
     "output_type": "execute_result"
    }
   ],
   "source": [
    "df.dtypes"
   ]
  },
  {
   "cell_type": "code",
   "execution_count": 12,
   "metadata": {},
   "outputs": [],
   "source": [
    "def value_cleaner(x):\n",
    "    try:\n",
    "        str_temp = (x.split('Rs')[1].split('\\n')[0].strip())\n",
    "        str_temp_2 = ''\n",
    "        for i in str_temp.split(\",\"):\n",
    "            str_temp_2 = str_temp_2+i\n",
    "        return str_temp_2\n",
    "    except:\n",
    "        x = 0\n",
    "        return x\n",
    "\n",
    "# df['ASSETS'] = df['ASSETS'].apply((value_cleaner))\n",
    "# df['LIABILITIES'] = df['LIABILITIES'].apply((value_cleaner))\n",
    "\n",
    "\n",
    "def clean_numeric(value):\n",
    "    if isinstance(value, str):  \n",
    "        # Remove unwanted characters (~, +, Rs, etc.)\n",
    "        value = value.replace(\",\", \"\").replace(\"~\", \"\").replace(\"+\", \"\").replace(\"Rs\", \"\").strip()\n",
    "        \n",
    "        # If there are multiple numbers (e.g., \"2354678 23 Lacs\"), take the first numeric part\n",
    "        value = value.split()[0] \n",
    "        \n",
    "    try:\n",
    "        return float(value)\n",
    "    except ValueError:\n",
    "        return 0  # If conversion fails, return 0\n",
    "\n",
    "# Apply the cleaning function to financial columns\n",
    "df[\"ASSETS\"] = df[\"ASSETS\"].apply(clean_numeric)\n",
    "df[\"LIABILITIES\"] = df[\"LIABILITIES\"].apply(clean_numeric)"
   ]
  },
  {
   "cell_type": "code",
   "execution_count": 13,
   "metadata": {},
   "outputs": [
    {
     "data": {
      "text/plain": [
       "EDUCATION\n",
       "Post Graduate            1445\n",
       "Graduate                 1405\n",
       "12th Pass                1242\n",
       "10th Pass                1087\n",
       "Graduate Professional     891\n",
       "8th Pass                  615\n",
       "Unknown                   601\n",
       "5th Pass                  318\n",
       "Others                    262\n",
       "Literate                  201\n",
       "Doctorate                 176\n",
       "Illiterate                104\n",
       "Not Given                  12\n",
       "Name: count, dtype: int64"
      ]
     },
     "execution_count": 13,
     "metadata": {},
     "output_type": "execute_result"
    }
   ],
   "source": [
    "df['EDUCATION'].value_counts()"
   ]
  },
  {
   "cell_type": "code",
   "execution_count": 14,
   "metadata": {},
   "outputs": [
    {
     "data": {
      "text/plain": [
       "0            Graduate\n",
       "1       Post Graduate\n",
       "2       Post Graduate\n",
       "3            Graduate\n",
       "4       Post Graduate\n",
       "            ...      \n",
       "8354         8th Pass\n",
       "8355           Others\n",
       "8356        10th Pass\n",
       "8357    Post Graduate\n",
       "8358         Graduate\n",
       "Name: EDUCATION, Length: 8359, dtype: object"
      ]
     },
     "execution_count": 14,
     "metadata": {},
     "output_type": "execute_result"
    }
   ],
   "source": [
    "# Removing the \\n from 'Post Graduate\\n'\n",
    "df['EDUCATION'].replace({\n",
    "    'Post Graduate\\r\\n': 'Post Graduate',\n",
    "    'Graduate Professional': 'Graduate',\n",
    "    'Literate': '8th Pass',\n",
    "    '5th Pass': 'Illiterate'\n",
    "})"
   ]
  },
  {
   "cell_type": "code",
   "execution_count": 15,
   "metadata": {},
   "outputs": [
    {
     "data": {
      "text/html": [
       "<div>\n",
       "<style scoped>\n",
       "    .dataframe tbody tr th:only-of-type {\n",
       "        vertical-align: middle;\n",
       "    }\n",
       "\n",
       "    .dataframe tbody tr th {\n",
       "        vertical-align: top;\n",
       "    }\n",
       "\n",
       "    .dataframe thead th {\n",
       "        text-align: right;\n",
       "    }\n",
       "</style>\n",
       "<table border=\"1\" class=\"dataframe\">\n",
       "  <thead>\n",
       "    <tr style=\"text-align: right;\">\n",
       "      <th></th>\n",
       "      <th>STATE</th>\n",
       "      <th>CONSTITUENCY</th>\n",
       "      <th>NAME</th>\n",
       "      <th>WINNER</th>\n",
       "      <th>PARTY</th>\n",
       "      <th>SYMBOL</th>\n",
       "      <th>GENDER</th>\n",
       "      <th>CRIMINAL CASES</th>\n",
       "      <th>AGE</th>\n",
       "      <th>CATEGORY</th>\n",
       "      <th>EDUCATION</th>\n",
       "      <th>ASSETS</th>\n",
       "      <th>LIABILITIES</th>\n",
       "      <th>GENERAL VOTES</th>\n",
       "      <th>POSTAL VOTES</th>\n",
       "      <th>TOTAL VOTES</th>\n",
       "      <th>TOTAL ELECTORS</th>\n",
       "      <th>TOTAL VOTING</th>\n",
       "      <th>OVER TOTAL ELECTORS IN CONSTITUENCY</th>\n",
       "      <th>OVER TOTAL VOTES POLLED IN CONSTITUENCY</th>\n",
       "    </tr>\n",
       "  </thead>\n",
       "  <tbody>\n",
       "    <tr>\n",
       "      <th>0</th>\n",
       "      <td>Andhra Pradesh</td>\n",
       "      <td>Araku</td>\n",
       "      <td>gumma thanuja rani</td>\n",
       "      <td>1</td>\n",
       "      <td>YSRCP</td>\n",
       "      <td>Ceiling fan</td>\n",
       "      <td>FEMALE</td>\n",
       "      <td>0.0</td>\n",
       "      <td>31.0</td>\n",
       "      <td>ST</td>\n",
       "      <td>Graduate Professional</td>\n",
       "      <td>2354678.0</td>\n",
       "      <td>0.0</td>\n",
       "      <td>471470</td>\n",
       "      <td>5535</td>\n",
       "      <td>477005</td>\n",
       "      <td>1557153</td>\n",
       "      <td>1113975</td>\n",
       "      <td>30.63</td>\n",
       "      <td>42.82</td>\n",
       "    </tr>\n",
       "    <tr>\n",
       "      <th>1</th>\n",
       "      <td>Andhra Pradesh</td>\n",
       "      <td>Araku</td>\n",
       "      <td>kothapalli geetha</td>\n",
       "      <td>0</td>\n",
       "      <td>BJP</td>\n",
       "      <td>Lotus</td>\n",
       "      <td>FEMALE</td>\n",
       "      <td>2.0</td>\n",
       "      <td>53.0</td>\n",
       "      <td>ST</td>\n",
       "      <td>Post Graduate</td>\n",
       "      <td>0.0</td>\n",
       "      <td>0.0</td>\n",
       "      <td>417113</td>\n",
       "      <td>9312</td>\n",
       "      <td>426425</td>\n",
       "      <td>1557153</td>\n",
       "      <td>1113975</td>\n",
       "      <td>27.38</td>\n",
       "      <td>38.28</td>\n",
       "    </tr>\n",
       "    <tr>\n",
       "      <th>2</th>\n",
       "      <td>Andhra Pradesh</td>\n",
       "      <td>Araku</td>\n",
       "      <td>appalanarasa pachipenta</td>\n",
       "      <td>0</td>\n",
       "      <td>CPI(M)</td>\n",
       "      <td>Hammer, Sickle and Star</td>\n",
       "      <td>MALE</td>\n",
       "      <td>4.0</td>\n",
       "      <td>41.0</td>\n",
       "      <td>ST</td>\n",
       "      <td>Post Graduate</td>\n",
       "      <td>2925792.0</td>\n",
       "      <td>243125.0</td>\n",
       "      <td>119016</td>\n",
       "      <td>4113</td>\n",
       "      <td>123129</td>\n",
       "      <td>1557153</td>\n",
       "      <td>1113975</td>\n",
       "      <td>7.91</td>\n",
       "      <td>11.05</td>\n",
       "    </tr>\n",
       "    <tr>\n",
       "      <th>3</th>\n",
       "      <td>Andhra Pradesh</td>\n",
       "      <td>Araku</td>\n",
       "      <td>avashya lahari . varam</td>\n",
       "      <td>0</td>\n",
       "      <td>BSP</td>\n",
       "      <td>Elephant</td>\n",
       "      <td>FEMALE</td>\n",
       "      <td>0.0</td>\n",
       "      <td>30.0</td>\n",
       "      <td>ST</td>\n",
       "      <td>Graduate Professional</td>\n",
       "      <td>5390634.0</td>\n",
       "      <td>1627956.0</td>\n",
       "      <td>24858</td>\n",
       "      <td>892</td>\n",
       "      <td>25750</td>\n",
       "      <td>1557153</td>\n",
       "      <td>1113975</td>\n",
       "      <td>1.65</td>\n",
       "      <td>2.31</td>\n",
       "    </tr>\n",
       "    <tr>\n",
       "      <th>4</th>\n",
       "      <td>Andhra Pradesh</td>\n",
       "      <td>Araku</td>\n",
       "      <td>samareddy balakrishna</td>\n",
       "      <td>0</td>\n",
       "      <td>IND</td>\n",
       "      <td>Gas cylinder</td>\n",
       "      <td>MALE</td>\n",
       "      <td>0.0</td>\n",
       "      <td>48.0</td>\n",
       "      <td>ST</td>\n",
       "      <td>Post Graduate</td>\n",
       "      <td>0.0</td>\n",
       "      <td>0.0</td>\n",
       "      <td>9493</td>\n",
       "      <td>42</td>\n",
       "      <td>9535</td>\n",
       "      <td>1557153</td>\n",
       "      <td>1113975</td>\n",
       "      <td>0.61</td>\n",
       "      <td>0.86</td>\n",
       "    </tr>\n",
       "  </tbody>\n",
       "</table>\n",
       "</div>"
      ],
      "text/plain": [
       "            STATE CONSTITUENCY                     NAME  WINNER   PARTY  \\\n",
       "0  Andhra Pradesh        Araku       gumma thanuja rani       1   YSRCP   \n",
       "1  Andhra Pradesh        Araku        kothapalli geetha       0     BJP   \n",
       "2  Andhra Pradesh        Araku  appalanarasa pachipenta       0  CPI(M)   \n",
       "3  Andhra Pradesh        Araku   avashya lahari . varam       0     BSP   \n",
       "4  Andhra Pradesh        Araku    samareddy balakrishna       0     IND   \n",
       "\n",
       "                    SYMBOL  GENDER  CRIMINAL CASES   AGE CATEGORY  \\\n",
       "0              Ceiling fan  FEMALE             0.0  31.0       ST   \n",
       "1                    Lotus  FEMALE             2.0  53.0       ST   \n",
       "2  Hammer, Sickle and Star    MALE             4.0  41.0       ST   \n",
       "3                 Elephant  FEMALE             0.0  30.0       ST   \n",
       "4             Gas cylinder    MALE             0.0  48.0       ST   \n",
       "\n",
       "               EDUCATION     ASSETS  LIABILITIES  GENERAL VOTES  POSTAL VOTES  \\\n",
       "0  Graduate Professional  2354678.0          0.0         471470          5535   \n",
       "1          Post Graduate        0.0          0.0         417113          9312   \n",
       "2          Post Graduate  2925792.0     243125.0         119016          4113   \n",
       "3  Graduate Professional  5390634.0    1627956.0          24858           892   \n",
       "4          Post Graduate        0.0          0.0           9493            42   \n",
       "\n",
       "   TOTAL VOTES  TOTAL ELECTORS  TOTAL VOTING  \\\n",
       "0       477005         1557153       1113975   \n",
       "1       426425         1557153       1113975   \n",
       "2       123129         1557153       1113975   \n",
       "3        25750         1557153       1113975   \n",
       "4         9535         1557153       1113975   \n",
       "\n",
       "   OVER TOTAL ELECTORS IN CONSTITUENCY  \\\n",
       "0                                30.63   \n",
       "1                                27.38   \n",
       "2                                 7.91   \n",
       "3                                 1.65   \n",
       "4                                 0.61   \n",
       "\n",
       "   OVER TOTAL VOTES POLLED IN CONSTITUENCY  \n",
       "0                                    42.82  \n",
       "1                                    38.28  \n",
       "2                                    11.05  \n",
       "3                                     2.31  \n",
       "4                                     0.86  "
      ]
     },
     "execution_count": 15,
     "metadata": {},
     "output_type": "execute_result"
    }
   ],
   "source": [
    "df.head()"
   ]
  },
  {
   "cell_type": "code",
   "execution_count": 16,
   "metadata": {},
   "outputs": [
    {
     "data": {
      "text/plain": [
       "STATE                                       object\n",
       "CONSTITUENCY                                object\n",
       "NAME                                        object\n",
       "WINNER                                       int64\n",
       "PARTY                                       object\n",
       "SYMBOL                                      object\n",
       "GENDER                                      object\n",
       "CRIMINAL CASES                             float64\n",
       "AGE                                        float64\n",
       "CATEGORY                                    object\n",
       "EDUCATION                                   object\n",
       "ASSETS                                     float64\n",
       "LIABILITIES                                float64\n",
       "GENERAL VOTES                                int64\n",
       "POSTAL VOTES                                 int64\n",
       "TOTAL VOTES                                  int64\n",
       "TOTAL ELECTORS                               int64\n",
       "TOTAL VOTING                                 int64\n",
       "OVER TOTAL ELECTORS IN CONSTITUENCY        float64\n",
       "OVER TOTAL VOTES POLLED IN CONSTITUENCY    float64\n",
       "dtype: object"
      ]
     },
     "execution_count": 16,
     "metadata": {},
     "output_type": "execute_result"
    }
   ],
   "source": [
    "df.dtypes"
   ]
  },
  {
   "cell_type": "code",
   "execution_count": 17,
   "metadata": {},
   "outputs": [],
   "source": [
    "df['CRIMINAL CASES'] = df['CRIMINAL CASES'].astype(int, errors='raise')\n",
    "df['ASSETS'] = df['ASSETS'].astype(float, errors='raise')\n",
    "df['LIABILITIES'] = df['LIABILITIES'].astype(float, errors='raise')"
   ]
  },
  {
   "cell_type": "code",
   "execution_count": 18,
   "metadata": {},
   "outputs": [
    {
     "data": {
      "text/html": [
       "<div>\n",
       "<style scoped>\n",
       "    .dataframe tbody tr th:only-of-type {\n",
       "        vertical-align: middle;\n",
       "    }\n",
       "\n",
       "    .dataframe tbody tr th {\n",
       "        vertical-align: top;\n",
       "    }\n",
       "\n",
       "    .dataframe thead th {\n",
       "        text-align: right;\n",
       "    }\n",
       "</style>\n",
       "<table border=\"1\" class=\"dataframe\">\n",
       "  <thead>\n",
       "    <tr style=\"text-align: right;\">\n",
       "      <th></th>\n",
       "      <th>STATE</th>\n",
       "      <th>CONSTITUENCY</th>\n",
       "      <th>NAME</th>\n",
       "      <th>WINNER</th>\n",
       "      <th>PARTY</th>\n",
       "      <th>SYMBOL</th>\n",
       "      <th>GENDER</th>\n",
       "      <th>CRIMINAL CASES</th>\n",
       "      <th>AGE</th>\n",
       "      <th>CATEGORY</th>\n",
       "      <th>EDUCATION</th>\n",
       "      <th>ASSETS</th>\n",
       "      <th>LIABILITIES</th>\n",
       "      <th>GENERAL VOTES</th>\n",
       "      <th>POSTAL VOTES</th>\n",
       "      <th>TOTAL VOTES</th>\n",
       "      <th>TOTAL ELECTORS</th>\n",
       "      <th>TOTAL VOTING</th>\n",
       "      <th>OVER TOTAL ELECTORS IN CONSTITUENCY</th>\n",
       "      <th>OVER TOTAL VOTES POLLED IN CONSTITUENCY</th>\n",
       "    </tr>\n",
       "  </thead>\n",
       "  <tbody>\n",
       "    <tr>\n",
       "      <th>0</th>\n",
       "      <td>Andhra Pradesh</td>\n",
       "      <td>Araku</td>\n",
       "      <td>gumma thanuja rani</td>\n",
       "      <td>1</td>\n",
       "      <td>YSRCP</td>\n",
       "      <td>Ceiling fan</td>\n",
       "      <td>FEMALE</td>\n",
       "      <td>0</td>\n",
       "      <td>31.0</td>\n",
       "      <td>ST</td>\n",
       "      <td>Graduate Professional</td>\n",
       "      <td>2354678.0</td>\n",
       "      <td>0.0</td>\n",
       "      <td>471470</td>\n",
       "      <td>5535</td>\n",
       "      <td>477005</td>\n",
       "      <td>1557153</td>\n",
       "      <td>1113975</td>\n",
       "      <td>30.63</td>\n",
       "      <td>42.82</td>\n",
       "    </tr>\n",
       "    <tr>\n",
       "      <th>1</th>\n",
       "      <td>Andhra Pradesh</td>\n",
       "      <td>Araku</td>\n",
       "      <td>kothapalli geetha</td>\n",
       "      <td>0</td>\n",
       "      <td>BJP</td>\n",
       "      <td>Lotus</td>\n",
       "      <td>FEMALE</td>\n",
       "      <td>2</td>\n",
       "      <td>53.0</td>\n",
       "      <td>ST</td>\n",
       "      <td>Post Graduate</td>\n",
       "      <td>0.0</td>\n",
       "      <td>0.0</td>\n",
       "      <td>417113</td>\n",
       "      <td>9312</td>\n",
       "      <td>426425</td>\n",
       "      <td>1557153</td>\n",
       "      <td>1113975</td>\n",
       "      <td>27.38</td>\n",
       "      <td>38.28</td>\n",
       "    </tr>\n",
       "    <tr>\n",
       "      <th>2</th>\n",
       "      <td>Andhra Pradesh</td>\n",
       "      <td>Araku</td>\n",
       "      <td>appalanarasa pachipenta</td>\n",
       "      <td>0</td>\n",
       "      <td>CPI(M)</td>\n",
       "      <td>Hammer, Sickle and Star</td>\n",
       "      <td>MALE</td>\n",
       "      <td>4</td>\n",
       "      <td>41.0</td>\n",
       "      <td>ST</td>\n",
       "      <td>Post Graduate</td>\n",
       "      <td>2925792.0</td>\n",
       "      <td>243125.0</td>\n",
       "      <td>119016</td>\n",
       "      <td>4113</td>\n",
       "      <td>123129</td>\n",
       "      <td>1557153</td>\n",
       "      <td>1113975</td>\n",
       "      <td>7.91</td>\n",
       "      <td>11.05</td>\n",
       "    </tr>\n",
       "    <tr>\n",
       "      <th>3</th>\n",
       "      <td>Andhra Pradesh</td>\n",
       "      <td>Araku</td>\n",
       "      <td>avashya lahari . varam</td>\n",
       "      <td>0</td>\n",
       "      <td>BSP</td>\n",
       "      <td>Elephant</td>\n",
       "      <td>FEMALE</td>\n",
       "      <td>0</td>\n",
       "      <td>30.0</td>\n",
       "      <td>ST</td>\n",
       "      <td>Graduate Professional</td>\n",
       "      <td>5390634.0</td>\n",
       "      <td>1627956.0</td>\n",
       "      <td>24858</td>\n",
       "      <td>892</td>\n",
       "      <td>25750</td>\n",
       "      <td>1557153</td>\n",
       "      <td>1113975</td>\n",
       "      <td>1.65</td>\n",
       "      <td>2.31</td>\n",
       "    </tr>\n",
       "    <tr>\n",
       "      <th>4</th>\n",
       "      <td>Andhra Pradesh</td>\n",
       "      <td>Araku</td>\n",
       "      <td>samareddy balakrishna</td>\n",
       "      <td>0</td>\n",
       "      <td>IND</td>\n",
       "      <td>Gas cylinder</td>\n",
       "      <td>MALE</td>\n",
       "      <td>0</td>\n",
       "      <td>48.0</td>\n",
       "      <td>ST</td>\n",
       "      <td>Post Graduate</td>\n",
       "      <td>0.0</td>\n",
       "      <td>0.0</td>\n",
       "      <td>9493</td>\n",
       "      <td>42</td>\n",
       "      <td>9535</td>\n",
       "      <td>1557153</td>\n",
       "      <td>1113975</td>\n",
       "      <td>0.61</td>\n",
       "      <td>0.86</td>\n",
       "    </tr>\n",
       "  </tbody>\n",
       "</table>\n",
       "</div>"
      ],
      "text/plain": [
       "            STATE CONSTITUENCY                     NAME  WINNER   PARTY  \\\n",
       "0  Andhra Pradesh        Araku       gumma thanuja rani       1   YSRCP   \n",
       "1  Andhra Pradesh        Araku        kothapalli geetha       0     BJP   \n",
       "2  Andhra Pradesh        Araku  appalanarasa pachipenta       0  CPI(M)   \n",
       "3  Andhra Pradesh        Araku   avashya lahari . varam       0     BSP   \n",
       "4  Andhra Pradesh        Araku    samareddy balakrishna       0     IND   \n",
       "\n",
       "                    SYMBOL  GENDER  CRIMINAL CASES   AGE CATEGORY  \\\n",
       "0              Ceiling fan  FEMALE               0  31.0       ST   \n",
       "1                    Lotus  FEMALE               2  53.0       ST   \n",
       "2  Hammer, Sickle and Star    MALE               4  41.0       ST   \n",
       "3                 Elephant  FEMALE               0  30.0       ST   \n",
       "4             Gas cylinder    MALE               0  48.0       ST   \n",
       "\n",
       "               EDUCATION     ASSETS  LIABILITIES  GENERAL VOTES  POSTAL VOTES  \\\n",
       "0  Graduate Professional  2354678.0          0.0         471470          5535   \n",
       "1          Post Graduate        0.0          0.0         417113          9312   \n",
       "2          Post Graduate  2925792.0     243125.0         119016          4113   \n",
       "3  Graduate Professional  5390634.0    1627956.0          24858           892   \n",
       "4          Post Graduate        0.0          0.0           9493            42   \n",
       "\n",
       "   TOTAL VOTES  TOTAL ELECTORS  TOTAL VOTING  \\\n",
       "0       477005         1557153       1113975   \n",
       "1       426425         1557153       1113975   \n",
       "2       123129         1557153       1113975   \n",
       "3        25750         1557153       1113975   \n",
       "4         9535         1557153       1113975   \n",
       "\n",
       "   OVER TOTAL ELECTORS IN CONSTITUENCY  \\\n",
       "0                                30.63   \n",
       "1                                27.38   \n",
       "2                                 7.91   \n",
       "3                                 1.65   \n",
       "4                                 0.61   \n",
       "\n",
       "   OVER TOTAL VOTES POLLED IN CONSTITUENCY  \n",
       "0                                    42.82  \n",
       "1                                    38.28  \n",
       "2                                    11.05  \n",
       "3                                     2.31  \n",
       "4                                     0.86  "
      ]
     },
     "execution_count": 18,
     "metadata": {},
     "output_type": "execute_result"
    }
   ],
   "source": [
    "df.head()"
   ]
  },
  {
   "cell_type": "code",
   "execution_count": 19,
   "metadata": {},
   "outputs": [
    {
     "data": {
      "application/vnd.plotly.v1+json": {
       "config": {
        "plotlyServerURL": "https://plot.ly"
       },
       "data": [
        {
         "branchvalues": "total",
         "customdata": [
          [
           1999399
          ],
          [
           2075093
          ],
          [
           2003510
          ],
          [
           1849517
          ],
          [
           1568140
          ],
          [
           1499659
          ],
          [
           1652394
          ],
          [
           2075821
          ],
          [
           2040263
          ],
          [
           1727645
          ],
          [
           1988934
          ],
          [
           1875912
          ],
          [
           1894657
          ],
          [
           1406689
          ],
          [
           1340183
          ],
          [
           2002868
          ],
          [
           1778463
          ],
          [
           1828159
          ],
          [
           1368432
          ],
          [
           1532229
          ],
          [
           1913756
          ],
          [
           1798715
          ],
          [
           1838767
          ],
          [
           1733367
          ],
          [
           1617542
          ],
          [
           1720677
          ],
          [
           1601365
          ],
          [
           1780709
          ],
          [
           1740606
          ],
          [
           1769264
          ],
          [
           315745
          ],
          [
           1893622
          ],
          [
           1557153
          ],
          [
           1885001
          ],
          [
           2019757
          ],
          [
           2183625
          ],
          [
           378357
          ],
          [
           520085
          ],
          [
           1771875
          ],
          [
           1623404
          ],
          [
           1401114
          ],
          [
           1875809
          ],
          [
           2061220
          ],
          [
           1871946
          ],
          [
           1875760
          ],
          [
           2200607
          ],
          [
           1744525
          ],
          [
           2208630
          ],
          [
           1473810
          ],
          [
           1897989
          ],
          [
           2124971
          ],
          [
           2148657
          ],
          [
           1913389
          ],
          [
           1821764
          ],
          [
           2339411
          ],
          [
           2050748
          ],
          [
           2103937
          ],
          [
           2010304
          ],
          [
           1810090
          ],
          [
           1665208
          ],
          [
           1839281
          ],
          [
           1789424
          ],
          [
           1610043
          ],
          [
           1936995
          ],
          [
           1563941
          ],
          [
           1963312
          ],
          [
           1749034
          ],
          [
           3215291
          ],
          [
           2802956
          ],
          [
           2341895
          ],
          [
           2434254
          ],
          [
           1841292
          ],
          [
           1859967
          ],
          [
           1785138
          ],
          [
           1825711
          ],
          [
           1511177
          ],
          [
           1919282
          ],
          [
           2374884
          ],
          [
           1907604
          ],
          [
           1803240
          ],
          [
           1853336
          ],
          [
           2048788
          ],
          [
           1926167
          ],
          [
           1633893
          ],
          [
           1979051
          ],
          [
           1512101
          ],
          [
           1805874
          ],
          [
           1904843
          ],
          [
           1659163
          ],
          [
           2147063
          ],
          [
           2200435
          ],
          [
           1931746
          ],
          [
           1884472
          ],
          [
           1595228
          ],
          [
           2039941
          ],
          [
           1773928
          ],
          [
           1988207
          ],
          [
           1830399
          ],
          [
           1723670
          ],
          [
           1918394
          ],
          [
           2087604
          ],
          [
           1809241
          ],
          [
           1675019
          ],
          [
           1894364
          ],
          [
           1947976
          ],
          [
           1743213
          ],
          [
           1859447
          ],
          [
           1758481
          ],
          [
           1803544
          ],
          [
           1842192
          ],
          [
           1867981
          ],
          [
           1787095
          ],
          [
           1934352
          ],
          [
           1350334
          ],
          [
           1496459
          ],
          [
           2023381
          ],
          [
           1634721
          ],
          [
           1520970
          ],
          [
           2170738
          ],
          [
           2222213
          ],
          [
           2106500
          ],
          [
           1413170
          ],
          [
           1311257
          ],
          [
           1778667
          ],
          [
           1850547
          ],
          [
           660552
          ],
          [
           1646467
          ],
          [
           1839760
          ],
          [
           1692698
          ],
          [
           2939057
          ],
          [
           1822437
          ],
          [
           1981767
          ],
          [
           1770523
          ],
          [
           1857385
          ],
          [
           1643593
          ],
          [
           1970743
          ],
          [
           1574979
          ],
          [
           1926000
          ],
          [
           1903520
          ],
          [
           1943559
          ],
          [
           1955117
          ],
          [
           1526799
          ],
          [
           1608624
          ],
          [
           2092551
          ],
          [
           283035
          ],
          [
           1876247
          ],
          [
           1818127
          ],
          [
           134201
          ],
          [
           1782853
          ],
          [
           1776898
          ],
          [
           2214516
          ],
          [
           1709809
          ],
          [
           1877227
          ],
          [
           2290354
          ],
          [
           1834015
          ],
          [
           1719979
          ],
          [
           1533702
          ],
          [
           2663987
          ],
          [
           2025275
          ],
          [
           1881552
          ],
          [
           1661998
          ],
          [
           1857924
          ],
          [
           902050
          ],
          [
           1962205
          ],
          [
           1700882
          ],
          [
           1592192
          ],
          [
           1538960
          ],
          [
           2121610
          ],
          [
           1638116
          ],
          [
           1324757
          ],
          [
           1703935
          ],
          [
           1834489
          ],
          [
           2436637
          ],
          [
           1929399
          ],
          [
           1599861
          ],
          [
           1751985
          ],
          [
           1557201
          ],
          [
           1942597
          ],
          [
           1807314
          ],
          [
           1896052
          ],
          [
           1674979
          ],
          [
           2103968
          ],
          [
           1890695
          ],
          [
           2584982
          ],
          [
           2160206
          ],
          [
           1618690
          ],
          [
           2183402
          ],
          [
           1404233
          ],
          [
           2681482
          ],
          [
           1821330
          ],
          [
           1942313
          ],
          [
           2948720
          ],
          [
           2088636
          ],
          [
           2090637
          ],
          [
           1866763
          ],
          [
           2030444
          ],
          [
           1843873
          ],
          [
           2027054
          ],
          [
           2101746
          ],
          [
           2098778
          ],
          [
           1793324
          ],
          [
           1627611
          ],
          [
           2039765
          ],
          [
           1456099
          ],
          [
           1799539
          ],
          [
           1858158
          ],
          [
           1972915
          ],
          [
           1841604
          ],
          [
           1911779
          ],
          [
           2041472
          ],
          [
           1738818
          ],
          [
           1946138
          ],
          [
           1818396
          ],
          [
           1794394
          ],
          [
           1942771
          ],
          [
           1658529
          ],
          [
           1819082
          ],
          [
           1860103
          ],
          [
           1618186
          ],
          [
           1769973
          ],
          [
           2217305
          ],
          [
           2527978
          ],
          [
           1251172
          ],
          [
           1001115
          ],
          [
           1898180
          ],
          [
           2288793
          ],
          [
           2194555
          ],
          [
           2297692
          ],
          [
           1818657
          ],
          [
           2058260
          ],
          [
           2030974
          ],
          [
           2097732
          ],
          [
           2138241
          ],
          [
           2034251
          ],
          [
           1703489
          ],
          [
           1678716
          ],
          [
           1548594
          ],
          [
           1655868
          ],
          [
           2010583
          ],
          [
           2000402
          ],
          [
           1969953
          ],
          [
           1889840
          ],
          [
           1818959
          ],
          [
           1871388
          ],
          [
           1910619
          ],
          [
           1807556
          ],
          [
           1979004
          ],
          [
           1845363
          ],
          [
           2005278
          ],
          [
           2162404
          ],
          [
           1782435
          ],
          [
           1732944
          ],
          [
           1796532
          ],
          [
           1569097
          ],
          [
           1749192
          ],
          [
           1524032
          ],
          [
           1659374
          ],
          [
           1566048
          ],
          [
           1980182
          ],
          [
           2109702
          ],
          [
           1430499
          ],
          [
           1998536
          ],
          [
           2112874
          ],
          [
           2046409
          ],
          [
           1620051
          ],
          [
           2088853
          ],
          [
           1627851
          ],
          [
           1799822
          ],
          [
           1943633
          ],
          [
           1641349
          ],
          [
           1727579
          ],
          [
           1906032
          ],
          [
           1634921
          ],
          [
           1702038
          ],
          [
           2082800
          ],
          [
           1340580
          ],
          [
           1993616
          ],
          [
           1363080
          ],
          [
           1664794
          ],
          [
           1797658
          ],
          [
           1888005
          ],
          [
           1414520
          ],
          [
           1798168
          ],
          [
           1455530
          ],
          [
           1834512
          ],
          [
           1912536
          ],
          [
           2053805
          ],
          [
           1795725
          ],
          [
           1589941
          ],
          [
           1680035
          ],
          [
           1843767
          ],
          [
           1631952
          ],
          [
           2008281
          ],
          [
           1871224
          ],
          [
           1329423
          ],
          [
           1830197
          ],
          [
           2207845
          ],
          [
           1494404
          ],
          [
           1728198
          ],
          [
           1942725
          ],
          [
           1850115
          ],
          [
           1505686
          ],
          [
           1330873
          ],
          [
           1867016
          ],
          [
           1481642
          ],
          [
           1256138
          ],
          [
           1432508
          ],
          [
           1762599
          ],
          [
           1724191
          ],
          [
           1876962
          ],
          [
           190576
          ],
          [
           1580500
          ],
          [
           57953
          ],
          [
           1841110
          ],
          [
           1980409
          ],
          [
           1448225
          ],
          [
           2173953
          ],
          [
           1760756
          ],
          [
           1583250
          ],
          [
           1763698
          ],
          [
           1377173
          ],
          [
           2103244
          ],
          [
           1900808
          ],
          [
           1546075
          ],
          [
           861327
          ],
          [
           2015928
          ],
          [
           1943763
          ],
          [
           1540045
          ],
          [
           1996298
          ],
          [
           2073608
          ],
          [
           1936759
          ],
          [
           1533858
          ],
          [
           1942449
          ],
          [
           2007065
          ],
          [
           1683709
          ],
          [
           1772048
          ],
          [
           1798051
          ],
          [
           1480714
          ],
          [
           1784407
          ],
          [
           1864285
          ],
          [
           3780453
          ],
          [
           1780149
          ],
          [
           1939130
          ],
          [
           1818113
          ],
          [
           2585776
          ],
          [
           1339159
          ],
          [
           1546274
          ],
          [
           1828717
          ],
          [
           1813205
          ],
          [
           2005669
          ],
          [
           1909448
          ],
          [
           1879798
          ],
          [
           2189866
          ],
          [
           2062642
          ],
          [
           1812115
          ],
          [
           1744297
          ],
          [
           1637292
          ],
          [
           1735295
          ],
          [
           1536443
          ],
          [
           1474660
          ],
          [
           2051829
          ],
          [
           1890589
          ],
          [
           1823717
          ],
          [
           1869072
          ],
          [
           2094310
          ],
          [
           1345708
          ],
          [
           2155502
          ],
          [
           1452952
          ],
          [
           1428889
          ],
          [
           1514610
          ],
          [
           1325383
          ],
          [
           1821023
          ],
          [
           1739310
          ],
          [
           1647310
          ],
          [
           2224282
          ],
          [
           2026438
          ],
          [
           2293994
          ],
          [
           1726204
          ],
          [
           1853532
          ],
          [
           1971324
          ],
          [
           1724191
          ],
          [
           1473811
          ],
          [
           1736162
          ],
          [
           2033175
          ],
          [
           2223804
          ],
          [
           2010286
          ],
          [
           1712840
          ],
          [
           1526694
          ],
          [
           1705591
          ],
          [
           580710
          ],
          [
           2464397
          ],
          [
           2569274
          ],
          [
           1614525
          ],
          [
           1996484
          ],
          [
           1050242
          ],
          [
           2348274
          ],
          [
           1447197
          ],
          [
           1597717
          ],
          [
           1024024
          ],
          [
           1400914
          ],
          [
           2248082
          ],
          [
           2148850
          ],
          [
           1898234
          ],
          [
           2124497
          ],
          [
           1759234
          ],
          [
           2021772
          ],
          [
           1433956
          ],
          [
           1811580
          ],
          [
           2080613
          ],
          [
           2295527
          ],
          [
           1597892
          ],
          [
           2071536
          ],
          [
           1833961
          ],
          [
           1471260
          ],
          [
           1769594
          ],
          [
           1836748
          ],
          [
           2062172
          ],
          [
           1589698
          ],
          [
           1895036
          ],
          [
           1825625
          ],
          [
           1793440
          ],
          [
           1840847
          ],
          [
           2376030
          ],
          [
           1876672
          ],
          [
           1869229
          ],
          [
           2064478
          ],
          [
           1619761
          ],
          [
           2095109
          ],
          [
           1859439
          ],
          [
           1913628
          ],
          [
           1788731
          ],
          [
           2010441
          ],
          [
           1669722
          ],
          [
           1791574
          ],
          [
           1623852
          ],
          [
           1667385
          ],
          [
           2112726
          ],
          [
           1705708
          ],
          [
           1733243
          ],
          [
           2050952
          ],
          [
           1877599
          ],
          [
           2202528
          ],
          [
           1452664
          ],
          [
           1823827
          ],
          [
           1780728
          ],
          [
           1746640
          ],
          [
           1659269
          ],
          [
           1708823
          ],
          [
           1778158
          ],
          [
           1354665
          ],
          [
           2030095
          ],
          [
           2232334
          ],
          [
           1941319
          ],
          [
           1635655
          ],
          [
           1777008
          ],
          [
           1748803
          ],
          [
           2382578
          ],
          [
           1820880
          ],
          [
           1980797
          ],
          [
           1857816
          ],
          [
           1784412
          ],
          [
           1820016
          ],
          [
           1501538
          ],
          [
           1899292
          ],
          [
           1874176
          ],
          [
           1563808
          ],
          [
           2076050
          ],
          [
           1800790
          ],
          [
           1914914
          ],
          [
           1899325
          ],
          [
           2120550
          ],
          [
           2333143
          ],
          [
           1834437
          ],
          [
           1402892
          ],
          [
           1753615
          ],
          [
           1680067
          ],
          [
           2541750
          ],
          [
           1980743
          ],
          [
           466643
          ],
          [
           1374559
          ],
          [
           1449471
          ],
          [
           1950028
          ],
          [
           1760367
          ],
          [
           1901956
          ],
          [
           2031921
          ],
          [
           1638992
          ],
          [
           2293698
          ],
          [
           598934
          ],
          [
           1928256
          ],
          [
           1646686
          ],
          [
           1855602
          ],
          [
           1579096
          ],
          [
           1928887
          ],
          [
           2035001
          ],
          [
           1529130
          ],
          [
           1502056
          ],
          [
           1630328
          ],
          [
           1461182
          ],
          [
           1827976
          ],
          [
           1554620
          ],
          [
           1656265
          ],
          [
           1608720
          ],
          [
           2086686
          ],
          [
           1536993
          ],
          [
           2150616
          ],
          [
           1853363
          ],
          [
           1590526
          ],
          [
           2508072
          ],
          [
           1730318
          ],
          [
           1434657
          ],
          [
           1483783
          ],
          [
           1401443
          ],
          [
           1469453
          ],
          [
           1661834
          ],
          [
           827559
          ],
          [
           2231240
          ],
          [
           1640846
          ],
          [
           1800347
          ],
          [
           1585721
          ],
          [
           1748377
          ],
          [
           1742388
          ],
          [
           2344843
          ],
          [
           1645721
          ],
          [
           1534347
          ],
          [
           1946631
          ],
          [
           1503959
          ],
          [
           1505927
          ],
          [
           1424792
          ],
          [
           1950123
          ],
          [
           1871877
          ],
          [
           1829052
          ],
          [
           1860207
          ],
          [
           1999861
          ],
          [
           1704469
          ],
          [
           1931398
          ],
          [
           1590994
          ],
          [
           1825492
          ],
          [
           1684292
          ],
          [
           1464472
          ],
          [
           2592498
          ],
          [
           1942461
          ],
          [
           1642425
          ],
          [
           315745
          ],
          [
           1682046.6187881317
          ],
          [
           470053.6532489937
          ],
          [
           1883785.389906961
          ],
          [
           1960003.6658251581
          ],
          [
           660552
          ],
          [
           2002274.1402614727
          ],
          [
           223654.73571614834
          ],
          [
           589962.7688149984
          ],
          [
           1948091.7270437204
          ],
          [
           2050875.997067518
          ],
          [
           1442229.4490797096
          ],
          [
           1772698.25336254
          ],
          [
           1934175.6846856098
          ],
          [
           2045404.2308809035
          ],
          [
           1391124.2645312077
          ],
          [
           190576
          ],
          [
           57953
          ],
          [
           1986281.5951437785
          ],
          [
           2014539.6503487702
          ],
          [
           1021333.2474115022
          ],
          [
           1240498.1634678845
          ],
          [
           861327
          ],
          [
           2279534.564915832
          ],
          [
           1325383
          ],
          [
           1613175.2799283194
          ],
          [
           1024024
          ],
          [
           1673258.6679781042
          ],
          [
           2160622.5008472227
          ],
          [
           466643
          ],
          [
           1641333.4956850691
          ],
          [
           2105875.8459700746
          ],
          [
           1436253.560372093
          ],
          [
           1968408.187285607
          ],
          [
           1762478.2075254251
          ],
          [
           1814754.938498397
          ]
         ],
         "domain": {
          "x": [
           0,
           1
          ],
          "y": [
           0,
           1
          ]
         },
         "hovertemplate": "labels=%{label}<br>TOTAL ELECTORS_sum=%{value}<br>parent=%{parent}<br>id=%{id}<br>TOTAL ELECTORS=%{color}<extra></extra>",
         "ids": [
          "Rajasthan/AJMER",
          "Rajasthan/ALWAR",
          "Haryana/AMBALA",
          "Jammu and Kashmir/ANANTNAG-RAJOURI",
          "Tamil Nadu/ARAKKONAM",
          "Tamil Nadu/ARANI",
          "Telangana/Adilabad",
          "Uttar Pradesh/Agra",
          "Gujarat/Ahmedabad East",
          "Gujarat/Ahmedabad West",
          "Maharashtra/Ahmednagar",
          "Uttar Pradesh/Akbarpur",
          "Maharashtra/Akola",
          "Kerala/Alappuzha",
          "Kerala/Alathur",
          "Uttar Pradesh/Aligarh",
          "West Bengal/Alipurduars",
          "Uttar Pradesh/Allahabad",
          "Uttarakhand/Almora",
          "Andhra Pradesh/Amalapuram",
          "Uttar Pradesh/Ambedkar Nagar",
          "Uttar Pradesh/Amethi",
          "Maharashtra/Amravati",
          "Gujarat/Amreli",
          "Punjab/Amritsar",
          "Uttar Pradesh/Amroha",
          "Andhra Pradesh/Anakapalle",
          "Gujarat/Anand",
          "Punjab/Anandpur Sahib",
          "Andhra Pradesh/Ananthapur",
          "Andaman & Nicobar Islands/Andaman & Nicobar Islands",
          "Uttar Pradesh/Aonla",
          "Andhra Pradesh/Araku",
          "West Bengal/Arambag",
          "Bihar/Araria",
          "Bihar/Arrah",
          "Arunachal Pradesh/Arunachal East",
          "Arunachal Pradesh/Arunachal West",
          "West Bengal/Asansol",
          "Odisha/Aska",
          "Kerala/Attingal",
          "Bihar/Aurangabad",
          "Maharashtra/Aurangabad",
          "Uttar Pradesh/Azamgarh",
          "Madhya Pradesh/BALAGHAT",
          "Rajasthan/BANSWARA",
          "Jammu and Kashmir/BARAMULLA",
          "Rajasthan/BARMER",
          "Chhattisgarh/BASTAR",
          "Madhya Pradesh/BETUL",
          "Rajasthan/BHARATPUR",
          "Rajasthan/BHILWARA",
          "Madhya Pradesh/BHIND",
          "Haryana/BHIWANI-MAHENDRAGARH",
          "Madhya Pradesh/BHOPAL",
          "Rajasthan/BIKANER",
          "Chhattisgarh/BILASPUR",
          "Uttar Pradesh/Badaun",
          "Karnataka/Bagalkot",
          "Uttar Pradesh/Baghpat",
          "Uttar Pradesh/Baharaich",
          "West Bengal/Baharampur",
          "Odisha/Balasore",
          "Uttar Pradesh/Ballia",
          "West Bengal/Balurghat",
          "Gujarat/Banaskantha",
          "Uttar Pradesh/Banda",
          "Karnataka/Bangalore North",
          "Karnataka/Bangalore Rural",
          "Karnataka/Bangalore South",
          "Karnataka/Bangalore central",
          "West Bengal/Bangaon",
          "Bihar/Banka",
          "West Bengal/Bankura",
          "Uttar Pradesh/Bansgaon",
          "Andhra Pradesh/Bapatla",
          "Uttar Pradesh/Barabanki",
          "Maharashtra/Baramati",
          "West Bengal/Barasat",
          "West Bengal/Bardhaman Purba",
          "West Bengal/Bardhaman-Durgapur",
          "Gujarat/Bardoli",
          "Uttar Pradesh/Bareilly",
          "Odisha/Bargarh",
          "Assam/Barpeta",
          "West Bengal/Barrackpur",
          "West Bengal/Basirhat",
          "Uttar Pradesh/Basti",
          "Punjab/Bathinda",
          "Maharashtra/Beed",
          "Bihar/Begusarai",
          "Karnataka/Belgaum",
          "Karnataka/Bellary",
          "Odisha/Berhampur",
          "Uttar Pradesh/Bhadohi",
          "Odisha/Bhadrak",
          "Bihar/Bhagalpur",
          "Maharashtra/Bhandara Gondiya",
          "Gujarat/Bharuch",
          "Gujarat/Bhavnagar",
          "Maharashtra/Bhiwandi",
          "Telangana/Bhongir",
          "Odisha/Bhubaneswar",
          "Karnataka/Bidar",
          "Karnataka/Bijapur",
          "Uttar Pradesh/Bijnor",
          "West Bengal/Birbhum",
          "West Bengal/Bishnupur",
          "Odisha/Bolangir",
          "West Bengal/Bolpur",
          "Uttar Pradesh/Bulandshahr",
          "Maharashtra/Buldhana",
          "Bihar/Buxar",
          "Tamil Nadu/CHENNAI CENTRAL",
          "Tamil Nadu/CHENNAI NORTH",
          "Tamil Nadu/CHENNAI SOUTH",
          "Madhya Pradesh/CHHINDWARA",
          "Tamil Nadu/CHIDAMBARAM",
          "Rajasthan/CHITTORGARH",
          "Rajasthan/CHURU",
          "Tamil Nadu/COIMBATORE",
          "Tamil Nadu/CUDDALORE",
          "Kerala/Chalakudy",
          "Karnataka/Chamarajanagar",
          "Uttar Pradesh/Chandauli",
          "Chandigarh/Chandigarh",
          "NCT OF Delhi/Chandni Chowk",
          "Maharashtra/Chandrapur",
          "Jharkhand/Chatra",
          "Telangana/Chevella",
          "Gujarat/Chhota Udaipur",
          "Karnataka/Chikkballapur",
          "Karnataka/Chikkodi",
          "Karnataka/Chitradurga",
          "Andhra Pradesh/Chittoor",
          "West Bengal/Coochbehar",
          "Odisha/Cuttack",
          "Madhya Pradesh/DAMOH",
          "Rajasthan/DAUSA",
          "Madhya Pradesh/DEWAS",
          "Madhya Pradesh/DHAR",
          "Tamil Nadu/DHARMAPURI",
          "Tamil Nadu/DINDIGUL",
          "Chhattisgarh/DURG",
          "Dadra & Nagar Haveli and Daman & Diu/Dadar & Nagar Haveli",
          "Gujarat/Dahod",
          "Karnataka/Dakshina Kannada",
          "Dadra & Nagar Haveli and Daman & Diu/Daman & Diu",
          "Bihar/Darbhanga",
          "West Bengal/Darjeeling",
          "Assam/Darrang-Udalguri",
          "Karnataka/Davanagere",
          "Uttar Pradesh/Deoria",
          "Jharkhand/Dhanbad",
          "Karnataka/Dharwad",
          "Uttar Pradesh/Dhaurahra",
          "Odisha/Dhenkanal",
          "Assam/Dhubri",
          "Maharashtra/Dhule",
          "West Bengal/Diamond harbour",
          "Assam/Dibrugarh",
          "Maharashtra/Dindori",
          "Assam/Diphu",
          "Uttar Pradesh/Domariyaganj",
          "West Bengal/Dum dum",
          "Jharkhand/Dumka",
          "Tamil Nadu/ERODE",
          "NCT OF Delhi/East Delhi",
          "Andhra Pradesh/Eluru",
          "Kerala/Ernakulam",
          "Uttar Pradesh/Etah",
          "Uttar Pradesh/Etawah",
          "Haryana/FARIDABAD",
          "Uttar Pradesh/Faizabad",
          "Punjab/Faridkot",
          "Uttar Pradesh/Farrukhabad",
          "Punjab/Fatehgarh Sahib",
          "Uttar Pradesh/Fatehpur",
          "Uttar Pradesh/Fatehpur Sikri",
          "Uttar Pradesh/Firozabad",
          "Punjab/Firozpur",
          "Rajasthan/GANGANAGAR",
          "Madhya Pradesh/GUNA",
          "Haryana/GURGAON",
          "Madhya Pradesh/GWALIOR",
          "Maharashtra/Gadchiroli - Chimur",
          "Gujarat/Gandhinagar",
          "Uttarakhand/Garhwal",
          "Uttar Pradesh/Gautam Buddha Nagar",
          "Bihar/Gaya",
          "West Bengal/Ghatal",
          "Uttar Pradesh/Ghaziabad",
          "Uttar Pradesh/Ghazipur",
          "Uttar Pradesh/Ghosi",
          "Jharkhand/Giridih",
          "Jharkhand/Godda",
          "Uttar Pradesh/Gonda",
          "Bihar/Gopalganj",
          "Uttar Pradesh/Gorakhpur",
          "Karnataka/Gulbarga",
          "Andhra Pradesh/Guntur",
          "Punjab/Gurdaspur",
          "Assam/Guwahati",
          "Himachal Pradesh/HAMIRPUR",
          "Haryana/HISAR",
          "Madhya Pradesh/HOSHANGABAD",
          "Bihar/Hajipur",
          "Uttar Pradesh/Hamirpur",
          "Uttar Pradesh/Hardoi",
          "Uttarakhand/Haridwar",
          "Karnataka/Hassan",
          "Uttar Pradesh/Hathras",
          "Maharashtra/Hatkanangale",
          "Karnataka/Haveri",
          "Jharkhand/Hazaribagh",
          "Andhra Pradesh/Hindupur",
          "Maharashtra/Hingoli",
          "West Bengal/Hooghly",
          "Punjab/Hoshiarpur",
          "West Bengal/Howrah",
          "Telangana/Hyderabad",
          "Madhya Pradesh/INDORE",
          "Kerala/Idukki",
          "Manipur/Inner Manipur",
          "Madhya Pradesh/JABALPUR",
          "Rajasthan/JAIPUR",
          "Rajasthan/JAIPUR RURAL",
          "Rajasthan/JALORE",
          "Jammu and Kashmir/JAMMU",
          "Chhattisgarh/JANJGIR-CHAMPA",
          "Rajasthan/JHALAWAR-BARAN",
          "Rajasthan/JHUNJHUNU",
          "Rajasthan/JODHPUR",
          "West Bengal/Jadavpur",
          "Odisha/Jagatsinghpur",
          "Bihar/Jahanabad",
          "Odisha/Jajpur",
          "Punjab/Jalandhar",
          "Uttar Pradesh/Jalaun",
          "Maharashtra/Jalgaon",
          "Maharashtra/Jalna",
          "West Bengal/Jalpaiguri",
          "Gujarat/Jamnagar",
          "Jharkhand/Jamshedpur",
          "Bihar/Jamui",
          "West Bengal/Jangipur",
          "Uttar Pradesh/Jaunpur",
          "West Bengal/Jaynagar",
          "Bihar/Jhanjharpur",
          "Uttar Pradesh/Jhansi",
          "West Bengal/Jhargram",
          "Assam/Jorhat",
          "Gujarat/Junagadh",
          "Tamil Nadu/KALLAKURICHI",
          "Tamil Nadu/KANCHEEPURAM",
          "Himachal Pradesh/KANGRA",
          "Chhattisgarh/KANKER",
          "Tamil Nadu/KANNIYAKUMARI",
          "Rajasthan/KARAULI-DHOLPUR",
          "Haryana/KARNAL",
          "Tamil Nadu/KARUR",
          "Madhya Pradesh/KHAJURAHO",
          "Madhya Pradesh/KHANDWA",
          "Madhya Pradesh/KHARGONE",
          "Chhattisgarh/KORBA",
          "Rajasthan/KOTA",
          "Tamil Nadu/KRISHNAGIRI",
          "Haryana/KURUKSHETRA",
          "Gujarat/Kachchh",
          "Andhra Pradesh/Kadapa",
          "Uttar Pradesh/Kairana",
          "Uttar Pradesh/Kaiserganj",
          "Andhra Pradesh/Kakinada",
          "Odisha/Kalahandi",
          "Maharashtra/Kalyan",
          "Odisha/Kandhamal",
          "Uttar Pradesh/Kannauj",
          "Kerala/Kannur",
          "Uttar Pradesh/Kanpur",
          "West Bengal/Kanthi",
          "Bihar/Karakat",
          "Assam/Karimganj",
          "Telangana/Karimnagar",
          "Kerala/Kasaragod",
          "Bihar/Katihar",
          "Uttar Pradesh/Kaushambi",
          "Assam/Kaziranga",
          "Odisha/Kendrapara",
          "Odisha/Keonjhar",
          "Punjab/Khadoor Sahib",
          "Bihar/Khagaria",
          "Telangana/Khammam",
          "Gujarat/Kheda",
          "Uttar Pradesh/Kheri",
          "Jharkhand/Khunti",
          "Bihar/Kishanganj",
          "Jharkhand/Kodarma",
          "Assam/Kokrajhar",
          "Karnataka/Kolar",
          "Maharashtra/Kolhapur",
          "West Bengal/Kolkata Dakshin",
          "West Bengal/Kolkata Uttar",
          "Kerala/Kollam",
          "Karnataka/Koppal",
          "Odisha/Koraput",
          "Kerala/Kottayam",
          "Kerala/Kozhikode",
          "West Bengal/Krishnanagar",
          "Andhra Pradesh/Kurnoolu",
          "Uttar Pradesh/Kushi Nagar",
          "Ladakh/Ladakh",
          "Assam/Lakhimpur",
          "Lakshadweep/Lakshadweep",
          "Uttar Pradesh/Lalganj",
          "Maharashtra/Latur",
          "Jharkhand/Lohardaga",
          "Uttar Pradesh/Lucknow",
          "Punjab/Ludhiana",
          "Tamil Nadu/MADURAI",
          "Chhattisgarh/MAHASAMUND",
          "Himachal Pradesh/MANDI",
          "Madhya Pradesh/MANDLA",
          "Madhya Pradesh/MANDSOUR",
          "Tamil Nadu/MAYILADUTHURAI",
          "Mizoram/MIZORAM",
          "Madhya Pradesh/MORENA",
          "Uttar Pradesh/Machhlishahr",
          "Andhra Pradesh/Machilipatnam",
          "Maharashtra/Madha",
          "Bihar/Madhepura",
          "Bihar/Madhubani",
          "Telangana/Mahabubabad",
          "Bihar/Maharajganj",
          "Uttar Pradesh/Maharajganj",
          "Telangana/Mahbubnagar",
          "Gujarat/Mahesana",
          "Uttar Pradesh/Mainpuri",
          "Kerala/Malappuram",
          "West Bengal/Maldaha Dakshin",
          "West Bengal/Maldaha Uttar",
          "Telangana/Malkajgiri",
          "Karnataka/Mandya",
          "Uttar Pradesh/Mathura",
          "West Bengal/Mathurapur",
          "Maharashtra/Maval",
          "Kerala/Mavelikkara",
          "Odisha/Mayurbhanj",
          "Telangana/Medak",
          "West Bengal/Medinipur",
          "Uttar Pradesh/Meerut",
          "Uttar Pradesh/Mirzapur",
          "Uttar Pradesh/Misrikh",
          "Uttar Pradesh/Mohanlalganj",
          "Uttar Pradesh/Moradabad",
          "Maharashtra/Mumbai North",
          "Maharashtra/Mumbai North Central",
          "Maharashtra/Mumbai North East",
          "Maharashtra/Mumbai North West",
          "Maharashtra/Mumbai South",
          "Maharashtra/Mumbai South Central",
          "Bihar/Munger",
          "West Bengal/Murshidabad",
          "Uttar Pradesh/Muzaffarnagar",
          "Bihar/Muzaffarpur",
          "Karnataka/Mysore",
          "Tamil Nadu/NAGAPATTINAM",
          "Rajasthan/NAGAUR",
          "Tamil Nadu/NAMAKKAL",
          "Tamil Nadu/NILGIRIS",
          "Odisha/Nabarangpur",
          "Nagaland/Nagaland",
          "Assam/Nagaon",
          "Telangana/Nagarkurnool",
          "Uttar Pradesh/Nagina",
          "Maharashtra/Nagpur",
          "Uttarakhand/Nainital-Udhamsingh Nagar",
          "Bihar/Nalanda",
          "Telangana/Nalgonda",
          "Maharashtra/Nanded",
          "Maharashtra/Nandurbar",
          "Andhra Pradesh/Nandyal",
          "Andhra Pradesh/Narsapuram",
          "Andhra Pradesh/Narsaraopet",
          "Maharashtra/Nashik",
          "Gujarat/Navsari",
          "Bihar/Nawada",
          "Andhra Pradesh/Nellore",
          "NCT OF Delhi/New Delhi",
          "Telangana/Nizamabad",
          "Goa/North Goa",
          "NCT OF Delhi/North-East Delhi",
          "NCT OF Delhi/North-West Delhi",
          "Andhra Pradesh/Ongole",
          "Maharashtra/Osmanabad",
          "Manipur/Outer Manipur",
          "Rajasthan/PALI",
          "Tamil Nadu/PERAMBALUR",
          "Tamil Nadu/POLLACHI",
          "Puducherry/PUDUCHERRY",
          "Kerala/Palakkad",
          "Jharkhand/Palamu",
          "Maharashtra/Palghar",
          "Gujarat/Panchmahal",
          "Maharashtra/Parbhani",
          "Bihar/Paschim Champaran",
          "Gujarat/Patan",
          "Kerala/Pathanamthitta",
          "Punjab/Patiala",
          "Bihar/Patliputra",
          "Bihar/Patna Sahib",
          "Telangana/Peddapalle",
          "Uttar Pradesh/Phulpur",
          "Uttar Pradesh/Pilibhit",
          "Kerala/Ponnani",
          "Gujarat/Porbandar",
          "Uttar Pradesh/Pratapgarh",
          "Maharashtra/Pune",
          "Odisha/Puri",
          "Bihar/Purnia",
          "West Bengal/Purulia",
          "Bihar/Purvi Champaran",
          "Chhattisgarh/RAIGARH",
          "Chhattisgarh/RAIPUR",
          "Madhya Pradesh/RAJGARH",
          "Chhattisgarh/RAJNANDGAON",
          "Rajasthan/RAJSAMAND",
          "Tamil Nadu/RAMANATHAPURAM",
          "Madhya Pradesh/RATLAM",
          "Madhya Pradesh/REWA",
          "Haryana/ROHTAK",
          "Uttar Pradesh/Rae Bareli",
          "Karnataka/Raichur",
          "Maharashtra/Raigad",
          "West Bengal/Raiganj",
          "Andhra Pradesh/Rajahmundry",
          "Andhra Pradesh/Rajampet",
          "Gujarat/Rajkot",
          "Jharkhand/Rajmahal",
          "Uttar Pradesh/Rampur",
          "Maharashtra/Ramtek",
          "West Bengal/Ranaghat",
          "Jharkhand/Ranchi",
          "Maharashtra/Ratnagiri- Sindhudurg",
          "Maharashtra/Raver",
          "Uttar Pradesh/Robertsganj",
          "Madhya Pradesh/SAGAR",
          "Tamil Nadu/SALEM",
          "Madhya Pradesh/SATNA",
          "Madhya Pradesh/SHAHDOL",
          "Himachal Pradesh/SHIMLA",
          "Madhya Pradesh/SIDHI",
          "Rajasthan/SIKAR",
          "Haryana/SIRSA",
          "Tamil Nadu/SIVAGANGA",
          "Haryana/SONIPAT",
          "Jammu and Kashmir/SRINAGAR",
          "Tamil Nadu/SRIPERUMBUDUR",
          "Chhattisgarh/SURGUJA",
          "Gujarat/Sabarkantha",
          "Uttar Pradesh/Saharanpur",
          "Uttar Pradesh/Salempur",
          "Bihar/Samastipur",
          "Odisha/Sambalpur",
          "Uttar Pradesh/Sambhal",
          "Maharashtra/Sangli",
          "Punjab/Sangrur",
          "Uttar Pradesh/Sant Kabir Nagar",
          "Bihar/Saran",
          "Bihar/Sasaram",
          "Maharashtra/Satara",
          "Telangana/Secunderabad",
          "Uttar Pradesh/Shahjahanpur",
          "Bihar/Sheohar",
          "Meghalaya/Shillong",
          "Karnataka/Shimoga",
          "Maharashtra/Shirdi",
          "Maharashtra/Shirur",
          "Uttar Pradesh/Shrawasti",
          "Sikkim/Sikkim",
          "Assam/Silchar",
          "Jharkhand/Singhbhum",
          "Bihar/Sitamarhi",
          "Uttar Pradesh/Sitapur",
          "Bihar/Siwan",
          "Maharashtra/Solapur",
          "Assam/Sonitpur",
          "NCT OF Delhi/South Delhi",
          "Goa/South Goa",
          "West Bengal/Sreerampur",
          "Andhra Pradesh/Srikakulam",
          "Uttar Pradesh/Sultanpur",
          "Odisha/Sundargarh",
          "Bihar/Supaul",
          "Gujarat/Surendranagar",
          "Tamil Nadu/TENKASI",
          "Tamil Nadu/THANJAVUR",
          "Tamil Nadu/THENI",
          "Tamil Nadu/THOOTHUKKUDI",
          "Madhya Pradesh/TIKAMGARH",
          "Tamil Nadu/TIRUCHIRAPPALLI",
          "Tamil Nadu/TIRUNELVELI",
          "Tamil Nadu/TIRUPPUR",
          "Tamil Nadu/TIRUVALLUR",
          "Tamil Nadu/TIRUVANNAMALAI",
          "Rajasthan/TONK-SAWAI MADHOPUR",
          "West Bengal/Tamluk",
          "Uttarakhand/Tehri Garhwal",
          "Maharashtra/Thane",
          "Andhra Pradesh/Thirupathi",
          "Kerala/Thiruvananthapuram",
          "Kerala/Thrissur",
          "Tripura/Tripura East",
          "Tripura/Tripura West",
          "Karnataka/Tumkur",
          "Meghalaya/Tura",
          "Rajasthan/UDAIPUR",
          "Jammu and Kashmir/UDHAMPUR",
          "Madhya Pradesh/UJJAIN",
          "Karnataka/Udupi Chikmagalur",
          "Bihar/Ujiarpur",
          "West Bengal/Uluberia",
          "Uttar Pradesh/Unnao",
          "Karnataka/Uttara Kannada",
          "Tamil Nadu/VELLORE",
          "Madhya Pradesh/VIDISHA",
          "Tamil Nadu/VILUPPURAM",
          "Tamil Nadu/VIRUDHUNAGAR",
          "Kerala/Vadakara",
          "Gujarat/Vadodara",
          "Bihar/Vaishali",
          "Bihar/Valmiki Nagar",
          "Gujarat/Valsad",
          "Uttar Pradesh/Varanasi",
          "Andhra Pradesh/Vijayawada",
          "Andhra Pradesh/Visakhapatnam",
          "Andhra Pradesh/Vizianagaram",
          "Telangana/Warangal",
          "Maharashtra/Wardha",
          "Kerala/Wayanad",
          "NCT OF Delhi/West Delhi",
          "Maharashtra/Yavatmal- Washim",
          "Telangana/Zahirabad",
          "Andaman & Nicobar Islands",
          "Andhra Pradesh",
          "Arunachal Pradesh",
          "Assam",
          "Bihar",
          "Chandigarh",
          "Chhattisgarh",
          "Dadra & Nagar Haveli and Daman & Diu",
          "Goa",
          "Gujarat",
          "Haryana",
          "Himachal Pradesh",
          "Jammu and Kashmir",
          "Jharkhand",
          "Karnataka",
          "Kerala",
          "Ladakh",
          "Lakshadweep",
          "Madhya Pradesh",
          "Maharashtra",
          "Manipur",
          "Meghalaya",
          "Mizoram",
          "NCT OF Delhi",
          "Nagaland",
          "Odisha",
          "Puducherry",
          "Punjab",
          "Rajasthan",
          "Sikkim",
          "Tamil Nadu",
          "Telangana",
          "Tripura",
          "Uttar Pradesh",
          "Uttarakhand",
          "West Bengal"
         ],
         "labels": [
          "AJMER",
          "ALWAR",
          "AMBALA",
          "ANANTNAG-RAJOURI",
          "ARAKKONAM",
          "ARANI",
          "Adilabad",
          "Agra",
          "Ahmedabad East",
          "Ahmedabad West",
          "Ahmednagar",
          "Akbarpur",
          "Akola",
          "Alappuzha",
          "Alathur",
          "Aligarh",
          "Alipurduars",
          "Allahabad",
          "Almora",
          "Amalapuram",
          "Ambedkar Nagar",
          "Amethi",
          "Amravati",
          "Amreli",
          "Amritsar",
          "Amroha",
          "Anakapalle",
          "Anand",
          "Anandpur Sahib",
          "Ananthapur",
          "Andaman & Nicobar Islands",
          "Aonla",
          "Araku",
          "Arambag",
          "Araria",
          "Arrah",
          "Arunachal East",
          "Arunachal West",
          "Asansol",
          "Aska",
          "Attingal",
          "Aurangabad",
          "Aurangabad",
          "Azamgarh",
          "BALAGHAT",
          "BANSWARA",
          "BARAMULLA",
          "BARMER",
          "BASTAR",
          "BETUL",
          "BHARATPUR",
          "BHILWARA",
          "BHIND",
          "BHIWANI-MAHENDRAGARH",
          "BHOPAL",
          "BIKANER",
          "BILASPUR",
          "Badaun",
          "Bagalkot",
          "Baghpat",
          "Baharaich",
          "Baharampur",
          "Balasore",
          "Ballia",
          "Balurghat",
          "Banaskantha",
          "Banda",
          "Bangalore North",
          "Bangalore Rural",
          "Bangalore South",
          "Bangalore central",
          "Bangaon",
          "Banka",
          "Bankura",
          "Bansgaon",
          "Bapatla",
          "Barabanki",
          "Baramati",
          "Barasat",
          "Bardhaman Purba",
          "Bardhaman-Durgapur",
          "Bardoli",
          "Bareilly",
          "Bargarh",
          "Barpeta",
          "Barrackpur",
          "Basirhat",
          "Basti",
          "Bathinda",
          "Beed",
          "Begusarai",
          "Belgaum",
          "Bellary",
          "Berhampur",
          "Bhadohi",
          "Bhadrak",
          "Bhagalpur",
          "Bhandara Gondiya",
          "Bharuch",
          "Bhavnagar",
          "Bhiwandi",
          "Bhongir",
          "Bhubaneswar",
          "Bidar",
          "Bijapur",
          "Bijnor",
          "Birbhum",
          "Bishnupur",
          "Bolangir",
          "Bolpur",
          "Bulandshahr",
          "Buldhana",
          "Buxar",
          "CHENNAI CENTRAL",
          "CHENNAI NORTH",
          "CHENNAI SOUTH",
          "CHHINDWARA",
          "CHIDAMBARAM",
          "CHITTORGARH",
          "CHURU",
          "COIMBATORE",
          "CUDDALORE",
          "Chalakudy",
          "Chamarajanagar",
          "Chandauli",
          "Chandigarh",
          "Chandni Chowk",
          "Chandrapur",
          "Chatra",
          "Chevella",
          "Chhota Udaipur",
          "Chikkballapur",
          "Chikkodi",
          "Chitradurga",
          "Chittoor",
          "Coochbehar",
          "Cuttack",
          "DAMOH",
          "DAUSA",
          "DEWAS",
          "DHAR",
          "DHARMAPURI",
          "DINDIGUL",
          "DURG",
          "Dadar & Nagar Haveli",
          "Dahod",
          "Dakshina Kannada",
          "Daman & Diu",
          "Darbhanga",
          "Darjeeling",
          "Darrang-Udalguri",
          "Davanagere",
          "Deoria",
          "Dhanbad",
          "Dharwad",
          "Dhaurahra",
          "Dhenkanal",
          "Dhubri",
          "Dhule",
          "Diamond harbour",
          "Dibrugarh",
          "Dindori",
          "Diphu",
          "Domariyaganj",
          "Dum dum",
          "Dumka",
          "ERODE",
          "East Delhi",
          "Eluru",
          "Ernakulam",
          "Etah",
          "Etawah",
          "FARIDABAD",
          "Faizabad",
          "Faridkot",
          "Farrukhabad",
          "Fatehgarh Sahib",
          "Fatehpur",
          "Fatehpur Sikri",
          "Firozabad",
          "Firozpur",
          "GANGANAGAR",
          "GUNA",
          "GURGAON",
          "GWALIOR",
          "Gadchiroli - Chimur",
          "Gandhinagar",
          "Garhwal",
          "Gautam Buddha Nagar",
          "Gaya",
          "Ghatal",
          "Ghaziabad",
          "Ghazipur",
          "Ghosi",
          "Giridih",
          "Godda",
          "Gonda",
          "Gopalganj",
          "Gorakhpur",
          "Gulbarga",
          "Guntur",
          "Gurdaspur",
          "Guwahati",
          "HAMIRPUR",
          "HISAR",
          "HOSHANGABAD",
          "Hajipur",
          "Hamirpur",
          "Hardoi",
          "Haridwar",
          "Hassan",
          "Hathras",
          "Hatkanangale",
          "Haveri",
          "Hazaribagh",
          "Hindupur",
          "Hingoli",
          "Hooghly",
          "Hoshiarpur",
          "Howrah",
          "Hyderabad",
          "INDORE",
          "Idukki",
          "Inner Manipur",
          "JABALPUR",
          "JAIPUR",
          "JAIPUR RURAL",
          "JALORE",
          "JAMMU",
          "JANJGIR-CHAMPA",
          "JHALAWAR-BARAN",
          "JHUNJHUNU",
          "JODHPUR",
          "Jadavpur",
          "Jagatsinghpur",
          "Jahanabad",
          "Jajpur",
          "Jalandhar",
          "Jalaun",
          "Jalgaon",
          "Jalna",
          "Jalpaiguri",
          "Jamnagar",
          "Jamshedpur",
          "Jamui",
          "Jangipur",
          "Jaunpur",
          "Jaynagar",
          "Jhanjharpur",
          "Jhansi",
          "Jhargram",
          "Jorhat",
          "Junagadh",
          "KALLAKURICHI",
          "KANCHEEPURAM",
          "KANGRA",
          "KANKER",
          "KANNIYAKUMARI",
          "KARAULI-DHOLPUR",
          "KARNAL",
          "KARUR",
          "KHAJURAHO",
          "KHANDWA",
          "KHARGONE",
          "KORBA",
          "KOTA",
          "KRISHNAGIRI",
          "KURUKSHETRA",
          "Kachchh",
          "Kadapa",
          "Kairana",
          "Kaiserganj",
          "Kakinada",
          "Kalahandi",
          "Kalyan",
          "Kandhamal",
          "Kannauj",
          "Kannur",
          "Kanpur",
          "Kanthi",
          "Karakat",
          "Karimganj",
          "Karimnagar",
          "Kasaragod",
          "Katihar",
          "Kaushambi",
          "Kaziranga",
          "Kendrapara",
          "Keonjhar",
          "Khadoor Sahib",
          "Khagaria",
          "Khammam",
          "Kheda",
          "Kheri",
          "Khunti",
          "Kishanganj",
          "Kodarma",
          "Kokrajhar",
          "Kolar",
          "Kolhapur",
          "Kolkata Dakshin",
          "Kolkata Uttar",
          "Kollam",
          "Koppal",
          "Koraput",
          "Kottayam",
          "Kozhikode",
          "Krishnanagar",
          "Kurnoolu",
          "Kushi Nagar",
          "Ladakh",
          "Lakhimpur",
          "Lakshadweep",
          "Lalganj",
          "Latur",
          "Lohardaga",
          "Lucknow",
          "Ludhiana",
          "MADURAI",
          "MAHASAMUND",
          "MANDI",
          "MANDLA",
          "MANDSOUR",
          "MAYILADUTHURAI",
          "MIZORAM",
          "MORENA",
          "Machhlishahr",
          "Machilipatnam",
          "Madha",
          "Madhepura",
          "Madhubani",
          "Mahabubabad",
          "Maharajganj",
          "Maharajganj",
          "Mahbubnagar",
          "Mahesana",
          "Mainpuri",
          "Malappuram",
          "Maldaha Dakshin",
          "Maldaha Uttar",
          "Malkajgiri",
          "Mandya",
          "Mathura",
          "Mathurapur",
          "Maval",
          "Mavelikkara",
          "Mayurbhanj",
          "Medak",
          "Medinipur",
          "Meerut",
          "Mirzapur",
          "Misrikh",
          "Mohanlalganj",
          "Moradabad",
          "Mumbai North",
          "Mumbai North Central",
          "Mumbai North East",
          "Mumbai North West",
          "Mumbai South",
          "Mumbai South Central",
          "Munger",
          "Murshidabad",
          "Muzaffarnagar",
          "Muzaffarpur",
          "Mysore",
          "NAGAPATTINAM",
          "NAGAUR",
          "NAMAKKAL",
          "NILGIRIS",
          "Nabarangpur",
          "Nagaland",
          "Nagaon",
          "Nagarkurnool",
          "Nagina",
          "Nagpur",
          "Nainital-Udhamsingh Nagar",
          "Nalanda",
          "Nalgonda",
          "Nanded",
          "Nandurbar",
          "Nandyal",
          "Narsapuram",
          "Narsaraopet",
          "Nashik",
          "Navsari",
          "Nawada",
          "Nellore",
          "New Delhi",
          "Nizamabad",
          "North Goa",
          "North-East Delhi",
          "North-West Delhi",
          "Ongole",
          "Osmanabad",
          "Outer Manipur",
          "PALI",
          "PERAMBALUR",
          "POLLACHI",
          "PUDUCHERRY",
          "Palakkad",
          "Palamu",
          "Palghar",
          "Panchmahal",
          "Parbhani",
          "Paschim Champaran",
          "Patan",
          "Pathanamthitta",
          "Patiala",
          "Patliputra",
          "Patna Sahib",
          "Peddapalle",
          "Phulpur",
          "Pilibhit",
          "Ponnani",
          "Porbandar",
          "Pratapgarh",
          "Pune",
          "Puri",
          "Purnia",
          "Purulia",
          "Purvi Champaran",
          "RAIGARH",
          "RAIPUR",
          "RAJGARH",
          "RAJNANDGAON",
          "RAJSAMAND",
          "RAMANATHAPURAM",
          "RATLAM",
          "REWA",
          "ROHTAK",
          "Rae Bareli",
          "Raichur",
          "Raigad",
          "Raiganj",
          "Rajahmundry",
          "Rajampet",
          "Rajkot",
          "Rajmahal",
          "Rampur",
          "Ramtek",
          "Ranaghat",
          "Ranchi",
          "Ratnagiri- Sindhudurg",
          "Raver",
          "Robertsganj",
          "SAGAR",
          "SALEM",
          "SATNA",
          "SHAHDOL",
          "SHIMLA",
          "SIDHI",
          "SIKAR",
          "SIRSA",
          "SIVAGANGA",
          "SONIPAT",
          "SRINAGAR",
          "SRIPERUMBUDUR",
          "SURGUJA",
          "Sabarkantha",
          "Saharanpur",
          "Salempur",
          "Samastipur",
          "Sambalpur",
          "Sambhal",
          "Sangli",
          "Sangrur",
          "Sant Kabir Nagar",
          "Saran",
          "Sasaram",
          "Satara",
          "Secunderabad",
          "Shahjahanpur",
          "Sheohar",
          "Shillong",
          "Shimoga",
          "Shirdi",
          "Shirur",
          "Shrawasti",
          "Sikkim",
          "Silchar",
          "Singhbhum",
          "Sitamarhi",
          "Sitapur",
          "Siwan",
          "Solapur",
          "Sonitpur",
          "South Delhi",
          "South Goa",
          "Sreerampur",
          "Srikakulam",
          "Sultanpur",
          "Sundargarh",
          "Supaul",
          "Surendranagar",
          "TENKASI",
          "THANJAVUR",
          "THENI",
          "THOOTHUKKUDI",
          "TIKAMGARH",
          "TIRUCHIRAPPALLI",
          "TIRUNELVELI",
          "TIRUPPUR",
          "TIRUVALLUR",
          "TIRUVANNAMALAI",
          "TONK-SAWAI MADHOPUR",
          "Tamluk",
          "Tehri Garhwal",
          "Thane",
          "Thirupathi",
          "Thiruvananthapuram",
          "Thrissur",
          "Tripura East",
          "Tripura West",
          "Tumkur",
          "Tura",
          "UDAIPUR",
          "UDHAMPUR",
          "UJJAIN",
          "Udupi Chikmagalur",
          "Ujiarpur",
          "Uluberia",
          "Unnao",
          "Uttara Kannada",
          "VELLORE",
          "VIDISHA",
          "VILUPPURAM",
          "VIRUDHUNAGAR",
          "Vadakara",
          "Vadodara",
          "Vaishali",
          "Valmiki Nagar",
          "Valsad",
          "Varanasi",
          "Vijayawada",
          "Visakhapatnam",
          "Vizianagaram",
          "Warangal",
          "Wardha",
          "Wayanad",
          "West Delhi",
          "Yavatmal- Washim",
          "Zahirabad",
          "Andaman & Nicobar Islands",
          "Andhra Pradesh",
          "Arunachal Pradesh",
          "Assam",
          "Bihar",
          "Chandigarh",
          "Chhattisgarh",
          "Dadra & Nagar Haveli and Daman & Diu",
          "Goa",
          "Gujarat",
          "Haryana",
          "Himachal Pradesh",
          "Jammu and Kashmir",
          "Jharkhand",
          "Karnataka",
          "Kerala",
          "Ladakh",
          "Lakshadweep",
          "Madhya Pradesh",
          "Maharashtra",
          "Manipur",
          "Meghalaya",
          "Mizoram",
          "NCT OF Delhi",
          "Nagaland",
          "Odisha",
          "Puducherry",
          "Punjab",
          "Rajasthan",
          "Sikkim",
          "Tamil Nadu",
          "Telangana",
          "Tripura",
          "Uttar Pradesh",
          "Uttarakhand",
          "West Bengal"
         ],
         "marker": {
          "coloraxis": "coloraxis",
          "colors": [
           1999399,
           2075093,
           2003510,
           1849517,
           1568140,
           1499659,
           1652394,
           2075821,
           2040263,
           1727645,
           1988934,
           1875912,
           1894657,
           1406689,
           1340183,
           2002868,
           1778463,
           1828159,
           1368432,
           1532229,
           1913756,
           1798715,
           1838767,
           1733367,
           1617542,
           1720677,
           1601365,
           1780709,
           1740606,
           1769264,
           315745,
           1893622,
           1557153,
           1885001,
           2019757,
           2183625,
           378357,
           520085,
           1771875,
           1623404,
           1401114,
           1875809,
           2061220,
           1871946,
           1875760,
           2200607,
           1744525,
           2208630,
           1473810,
           1897989,
           2124971,
           2148657,
           1913389,
           1821764,
           2339411,
           2050748,
           2103937,
           2010304,
           1810090,
           1665208,
           1839281,
           1789424,
           1610043,
           1936995,
           1563941,
           1963312,
           1749034,
           3215291,
           2802956,
           2341895,
           2434254,
           1841292,
           1859967,
           1785138,
           1825711,
           1511177,
           1919282,
           2374884,
           1907604,
           1803240,
           1853336,
           2048788,
           1926167,
           1633893,
           1979051,
           1512101,
           1805874,
           1904843,
           1659163,
           2147063,
           2200435,
           1931746,
           1884472,
           1595228,
           2039941,
           1773928,
           1988207,
           1830399,
           1723670,
           1918394,
           2087604,
           1809241,
           1675019,
           1894364,
           1947976,
           1743213,
           1859447,
           1758481,
           1803544,
           1842192,
           1867981,
           1787095,
           1934352,
           1350334,
           1496459,
           2023381,
           1634721,
           1520970,
           2170738,
           2222213,
           2106500,
           1413170,
           1311257,
           1778667,
           1850547,
           660552,
           1646467,
           1839760,
           1692698,
           2939057,
           1822437,
           1981767,
           1770523,
           1857385,
           1643593,
           1970743,
           1574979,
           1926000,
           1903520,
           1943559,
           1955117,
           1526799,
           1608624,
           2092551,
           283035,
           1876247,
           1818127,
           134201,
           1782853,
           1776898,
           2214516,
           1709809,
           1877227,
           2290354,
           1834015,
           1719979,
           1533702,
           2663987,
           2025275,
           1881552,
           1661998,
           1857924,
           902050,
           1962205,
           1700882,
           1592192,
           1538960,
           2121610,
           1638116,
           1324757,
           1703935,
           1834489,
           2436637,
           1929399,
           1599861,
           1751985,
           1557201,
           1942597,
           1807314,
           1896052,
           1674979,
           2103968,
           1890695,
           2584982,
           2160206,
           1618690,
           2183402,
           1404233,
           2681482,
           1821330,
           1942313,
           2948720,
           2088636,
           2090637,
           1866763,
           2030444,
           1843873,
           2027054,
           2101746,
           2098778,
           1793324,
           1627611,
           2039765,
           1456099,
           1799539,
           1858158,
           1972915,
           1841604,
           1911779,
           2041472,
           1738818,
           1946138,
           1818396,
           1794394,
           1942771,
           1658529,
           1819082,
           1860103,
           1618186,
           1769973,
           2217305,
           2527978,
           1251172,
           1001115,
           1898180,
           2288793,
           2194555,
           2297692,
           1818657,
           2058260,
           2030974,
           2097732,
           2138241,
           2034251,
           1703489,
           1678716,
           1548594,
           1655868,
           2010583,
           2000402,
           1969953,
           1889840,
           1818959,
           1871388,
           1910619,
           1807556,
           1979004,
           1845363,
           2005278,
           2162404,
           1782435,
           1732944,
           1796532,
           1569097,
           1749192,
           1524032,
           1659374,
           1566048,
           1980182,
           2109702,
           1430499,
           1998536,
           2112874,
           2046409,
           1620051,
           2088853,
           1627851,
           1799822,
           1943633,
           1641349,
           1727579,
           1906032,
           1634921,
           1702038,
           2082800,
           1340580,
           1993616,
           1363080,
           1664794,
           1797658,
           1888005,
           1414520,
           1798168,
           1455530,
           1834512,
           1912536,
           2053805,
           1795725,
           1589941,
           1680035,
           1843767,
           1631952,
           2008281,
           1871224,
           1329423,
           1830197,
           2207845,
           1494404,
           1728198,
           1942725,
           1850115,
           1505686,
           1330873,
           1867016,
           1481642,
           1256138,
           1432508,
           1762599,
           1724191,
           1876962,
           190576,
           1580500,
           57953,
           1841110,
           1980409,
           1448225,
           2173953,
           1760756,
           1583250,
           1763698,
           1377173,
           2103244,
           1900808,
           1546075,
           861327,
           2015928,
           1943763,
           1540045,
           1996298,
           2073608,
           1936759,
           1533858,
           1942449,
           2007065,
           1683709,
           1772048,
           1798051,
           1480714,
           1784407,
           1864285,
           3780453,
           1780149,
           1939130,
           1818113,
           2585776,
           1339159,
           1546274,
           1828717,
           1813205,
           2005669,
           1909448,
           1879798,
           2189866,
           2062642,
           1812115,
           1744297,
           1637292,
           1735295,
           1536443,
           1474660,
           2051829,
           1890589,
           1823717,
           1869072,
           2094310,
           1345708,
           2155502,
           1452952,
           1428889,
           1514610,
           1325383,
           1821023,
           1739310,
           1647310,
           2224282,
           2026438,
           2293994,
           1726204,
           1853532,
           1971324,
           1724191,
           1473811,
           1736162,
           2033175,
           2223804,
           2010286,
           1712840,
           1526694,
           1705591,
           580710,
           2464397,
           2569274,
           1614525,
           1996484,
           1050242,
           2348274,
           1447197,
           1597717,
           1024024,
           1400914,
           2248082,
           2148850,
           1898234,
           2124497,
           1759234,
           2021772,
           1433956,
           1811580,
           2080613,
           2295527,
           1597892,
           2071536,
           1833961,
           1471260,
           1769594,
           1836748,
           2062172,
           1589698,
           1895036,
           1825625,
           1793440,
           1840847,
           2376030,
           1876672,
           1869229,
           2064478,
           1619761,
           2095109,
           1859439,
           1913628,
           1788731,
           2010441,
           1669722,
           1791574,
           1623852,
           1667385,
           2112726,
           1705708,
           1733243,
           2050952,
           1877599,
           2202528,
           1452664,
           1823827,
           1780728,
           1746640,
           1659269,
           1708823,
           1778158,
           1354665,
           2030095,
           2232334,
           1941319,
           1635655,
           1777008,
           1748803,
           2382578,
           1820880,
           1980797,
           1857816,
           1784412,
           1820016,
           1501538,
           1899292,
           1874176,
           1563808,
           2076050,
           1800790,
           1914914,
           1899325,
           2120550,
           2333143,
           1834437,
           1402892,
           1753615,
           1680067,
           2541750,
           1980743,
           466643,
           1374559,
           1449471,
           1950028,
           1760367,
           1901956,
           2031921,
           1638992,
           2293698,
           598934,
           1928256,
           1646686,
           1855602,
           1579096,
           1928887,
           2035001,
           1529130,
           1502056,
           1630328,
           1461182,
           1827976,
           1554620,
           1656265,
           1608720,
           2086686,
           1536993,
           2150616,
           1853363,
           1590526,
           2508072,
           1730318,
           1434657,
           1483783,
           1401443,
           1469453,
           1661834,
           827559,
           2231240,
           1640846,
           1800347,
           1585721,
           1748377,
           1742388,
           2344843,
           1645721,
           1534347,
           1946631,
           1503959,
           1505927,
           1424792,
           1950123,
           1871877,
           1829052,
           1860207,
           1999861,
           1704469,
           1931398,
           1590994,
           1825492,
           1684292,
           1464472,
           2592498,
           1942461,
           1642425,
           315745,
           1682046.6187881317,
           470053.6532489937,
           1883785.389906961,
           1960003.6658251581,
           660552,
           2002274.1402614727,
           223654.73571614834,
           589962.7688149984,
           1948091.7270437204,
           2050875.997067518,
           1442229.4490797096,
           1772698.25336254,
           1934175.6846856098,
           2045404.2308809035,
           1391124.2645312077,
           190576,
           57953,
           1986281.5951437785,
           2014539.6503487702,
           1021333.2474115022,
           1240498.1634678845,
           861327,
           2279534.564915832,
           1325383,
           1613175.2799283194,
           1024024,
           1673258.6679781042,
           2160622.5008472227,
           466643,
           1641333.4956850691,
           2105875.8459700746,
           1436253.560372093,
           1968408.187285607,
           1762478.2075254251,
           1814754.938498397
          ]
         },
         "name": "",
         "parents": [
          "Rajasthan",
          "Rajasthan",
          "Haryana",
          "Jammu and Kashmir",
          "Tamil Nadu",
          "Tamil Nadu",
          "Telangana",
          "Uttar Pradesh",
          "Gujarat",
          "Gujarat",
          "Maharashtra",
          "Uttar Pradesh",
          "Maharashtra",
          "Kerala",
          "Kerala",
          "Uttar Pradesh",
          "West Bengal",
          "Uttar Pradesh",
          "Uttarakhand",
          "Andhra Pradesh",
          "Uttar Pradesh",
          "Uttar Pradesh",
          "Maharashtra",
          "Gujarat",
          "Punjab",
          "Uttar Pradesh",
          "Andhra Pradesh",
          "Gujarat",
          "Punjab",
          "Andhra Pradesh",
          "Andaman & Nicobar Islands",
          "Uttar Pradesh",
          "Andhra Pradesh",
          "West Bengal",
          "Bihar",
          "Bihar",
          "Arunachal Pradesh",
          "Arunachal Pradesh",
          "West Bengal",
          "Odisha",
          "Kerala",
          "Bihar",
          "Maharashtra",
          "Uttar Pradesh",
          "Madhya Pradesh",
          "Rajasthan",
          "Jammu and Kashmir",
          "Rajasthan",
          "Chhattisgarh",
          "Madhya Pradesh",
          "Rajasthan",
          "Rajasthan",
          "Madhya Pradesh",
          "Haryana",
          "Madhya Pradesh",
          "Rajasthan",
          "Chhattisgarh",
          "Uttar Pradesh",
          "Karnataka",
          "Uttar Pradesh",
          "Uttar Pradesh",
          "West Bengal",
          "Odisha",
          "Uttar Pradesh",
          "West Bengal",
          "Gujarat",
          "Uttar Pradesh",
          "Karnataka",
          "Karnataka",
          "Karnataka",
          "Karnataka",
          "West Bengal",
          "Bihar",
          "West Bengal",
          "Uttar Pradesh",
          "Andhra Pradesh",
          "Uttar Pradesh",
          "Maharashtra",
          "West Bengal",
          "West Bengal",
          "West Bengal",
          "Gujarat",
          "Uttar Pradesh",
          "Odisha",
          "Assam",
          "West Bengal",
          "West Bengal",
          "Uttar Pradesh",
          "Punjab",
          "Maharashtra",
          "Bihar",
          "Karnataka",
          "Karnataka",
          "Odisha",
          "Uttar Pradesh",
          "Odisha",
          "Bihar",
          "Maharashtra",
          "Gujarat",
          "Gujarat",
          "Maharashtra",
          "Telangana",
          "Odisha",
          "Karnataka",
          "Karnataka",
          "Uttar Pradesh",
          "West Bengal",
          "West Bengal",
          "Odisha",
          "West Bengal",
          "Uttar Pradesh",
          "Maharashtra",
          "Bihar",
          "Tamil Nadu",
          "Tamil Nadu",
          "Tamil Nadu",
          "Madhya Pradesh",
          "Tamil Nadu",
          "Rajasthan",
          "Rajasthan",
          "Tamil Nadu",
          "Tamil Nadu",
          "Kerala",
          "Karnataka",
          "Uttar Pradesh",
          "Chandigarh",
          "NCT OF Delhi",
          "Maharashtra",
          "Jharkhand",
          "Telangana",
          "Gujarat",
          "Karnataka",
          "Karnataka",
          "Karnataka",
          "Andhra Pradesh",
          "West Bengal",
          "Odisha",
          "Madhya Pradesh",
          "Rajasthan",
          "Madhya Pradesh",
          "Madhya Pradesh",
          "Tamil Nadu",
          "Tamil Nadu",
          "Chhattisgarh",
          "Dadra & Nagar Haveli and Daman & Diu",
          "Gujarat",
          "Karnataka",
          "Dadra & Nagar Haveli and Daman & Diu",
          "Bihar",
          "West Bengal",
          "Assam",
          "Karnataka",
          "Uttar Pradesh",
          "Jharkhand",
          "Karnataka",
          "Uttar Pradesh",
          "Odisha",
          "Assam",
          "Maharashtra",
          "West Bengal",
          "Assam",
          "Maharashtra",
          "Assam",
          "Uttar Pradesh",
          "West Bengal",
          "Jharkhand",
          "Tamil Nadu",
          "NCT OF Delhi",
          "Andhra Pradesh",
          "Kerala",
          "Uttar Pradesh",
          "Uttar Pradesh",
          "Haryana",
          "Uttar Pradesh",
          "Punjab",
          "Uttar Pradesh",
          "Punjab",
          "Uttar Pradesh",
          "Uttar Pradesh",
          "Uttar Pradesh",
          "Punjab",
          "Rajasthan",
          "Madhya Pradesh",
          "Haryana",
          "Madhya Pradesh",
          "Maharashtra",
          "Gujarat",
          "Uttarakhand",
          "Uttar Pradesh",
          "Bihar",
          "West Bengal",
          "Uttar Pradesh",
          "Uttar Pradesh",
          "Uttar Pradesh",
          "Jharkhand",
          "Jharkhand",
          "Uttar Pradesh",
          "Bihar",
          "Uttar Pradesh",
          "Karnataka",
          "Andhra Pradesh",
          "Punjab",
          "Assam",
          "Himachal Pradesh",
          "Haryana",
          "Madhya Pradesh",
          "Bihar",
          "Uttar Pradesh",
          "Uttar Pradesh",
          "Uttarakhand",
          "Karnataka",
          "Uttar Pradesh",
          "Maharashtra",
          "Karnataka",
          "Jharkhand",
          "Andhra Pradesh",
          "Maharashtra",
          "West Bengal",
          "Punjab",
          "West Bengal",
          "Telangana",
          "Madhya Pradesh",
          "Kerala",
          "Manipur",
          "Madhya Pradesh",
          "Rajasthan",
          "Rajasthan",
          "Rajasthan",
          "Jammu and Kashmir",
          "Chhattisgarh",
          "Rajasthan",
          "Rajasthan",
          "Rajasthan",
          "West Bengal",
          "Odisha",
          "Bihar",
          "Odisha",
          "Punjab",
          "Uttar Pradesh",
          "Maharashtra",
          "Maharashtra",
          "West Bengal",
          "Gujarat",
          "Jharkhand",
          "Bihar",
          "West Bengal",
          "Uttar Pradesh",
          "West Bengal",
          "Bihar",
          "Uttar Pradesh",
          "West Bengal",
          "Assam",
          "Gujarat",
          "Tamil Nadu",
          "Tamil Nadu",
          "Himachal Pradesh",
          "Chhattisgarh",
          "Tamil Nadu",
          "Rajasthan",
          "Haryana",
          "Tamil Nadu",
          "Madhya Pradesh",
          "Madhya Pradesh",
          "Madhya Pradesh",
          "Chhattisgarh",
          "Rajasthan",
          "Tamil Nadu",
          "Haryana",
          "Gujarat",
          "Andhra Pradesh",
          "Uttar Pradesh",
          "Uttar Pradesh",
          "Andhra Pradesh",
          "Odisha",
          "Maharashtra",
          "Odisha",
          "Uttar Pradesh",
          "Kerala",
          "Uttar Pradesh",
          "West Bengal",
          "Bihar",
          "Assam",
          "Telangana",
          "Kerala",
          "Bihar",
          "Uttar Pradesh",
          "Assam",
          "Odisha",
          "Odisha",
          "Punjab",
          "Bihar",
          "Telangana",
          "Gujarat",
          "Uttar Pradesh",
          "Jharkhand",
          "Bihar",
          "Jharkhand",
          "Assam",
          "Karnataka",
          "Maharashtra",
          "West Bengal",
          "West Bengal",
          "Kerala",
          "Karnataka",
          "Odisha",
          "Kerala",
          "Kerala",
          "West Bengal",
          "Andhra Pradesh",
          "Uttar Pradesh",
          "Ladakh",
          "Assam",
          "Lakshadweep",
          "Uttar Pradesh",
          "Maharashtra",
          "Jharkhand",
          "Uttar Pradesh",
          "Punjab",
          "Tamil Nadu",
          "Chhattisgarh",
          "Himachal Pradesh",
          "Madhya Pradesh",
          "Madhya Pradesh",
          "Tamil Nadu",
          "Mizoram",
          "Madhya Pradesh",
          "Uttar Pradesh",
          "Andhra Pradesh",
          "Maharashtra",
          "Bihar",
          "Bihar",
          "Telangana",
          "Bihar",
          "Uttar Pradesh",
          "Telangana",
          "Gujarat",
          "Uttar Pradesh",
          "Kerala",
          "West Bengal",
          "West Bengal",
          "Telangana",
          "Karnataka",
          "Uttar Pradesh",
          "West Bengal",
          "Maharashtra",
          "Kerala",
          "Odisha",
          "Telangana",
          "West Bengal",
          "Uttar Pradesh",
          "Uttar Pradesh",
          "Uttar Pradesh",
          "Uttar Pradesh",
          "Uttar Pradesh",
          "Maharashtra",
          "Maharashtra",
          "Maharashtra",
          "Maharashtra",
          "Maharashtra",
          "Maharashtra",
          "Bihar",
          "West Bengal",
          "Uttar Pradesh",
          "Bihar",
          "Karnataka",
          "Tamil Nadu",
          "Rajasthan",
          "Tamil Nadu",
          "Tamil Nadu",
          "Odisha",
          "Nagaland",
          "Assam",
          "Telangana",
          "Uttar Pradesh",
          "Maharashtra",
          "Uttarakhand",
          "Bihar",
          "Telangana",
          "Maharashtra",
          "Maharashtra",
          "Andhra Pradesh",
          "Andhra Pradesh",
          "Andhra Pradesh",
          "Maharashtra",
          "Gujarat",
          "Bihar",
          "Andhra Pradesh",
          "NCT OF Delhi",
          "Telangana",
          "Goa",
          "NCT OF Delhi",
          "NCT OF Delhi",
          "Andhra Pradesh",
          "Maharashtra",
          "Manipur",
          "Rajasthan",
          "Tamil Nadu",
          "Tamil Nadu",
          "Puducherry",
          "Kerala",
          "Jharkhand",
          "Maharashtra",
          "Gujarat",
          "Maharashtra",
          "Bihar",
          "Gujarat",
          "Kerala",
          "Punjab",
          "Bihar",
          "Bihar",
          "Telangana",
          "Uttar Pradesh",
          "Uttar Pradesh",
          "Kerala",
          "Gujarat",
          "Uttar Pradesh",
          "Maharashtra",
          "Odisha",
          "Bihar",
          "West Bengal",
          "Bihar",
          "Chhattisgarh",
          "Chhattisgarh",
          "Madhya Pradesh",
          "Chhattisgarh",
          "Rajasthan",
          "Tamil Nadu",
          "Madhya Pradesh",
          "Madhya Pradesh",
          "Haryana",
          "Uttar Pradesh",
          "Karnataka",
          "Maharashtra",
          "West Bengal",
          "Andhra Pradesh",
          "Andhra Pradesh",
          "Gujarat",
          "Jharkhand",
          "Uttar Pradesh",
          "Maharashtra",
          "West Bengal",
          "Jharkhand",
          "Maharashtra",
          "Maharashtra",
          "Uttar Pradesh",
          "Madhya Pradesh",
          "Tamil Nadu",
          "Madhya Pradesh",
          "Madhya Pradesh",
          "Himachal Pradesh",
          "Madhya Pradesh",
          "Rajasthan",
          "Haryana",
          "Tamil Nadu",
          "Haryana",
          "Jammu and Kashmir",
          "Tamil Nadu",
          "Chhattisgarh",
          "Gujarat",
          "Uttar Pradesh",
          "Uttar Pradesh",
          "Bihar",
          "Odisha",
          "Uttar Pradesh",
          "Maharashtra",
          "Punjab",
          "Uttar Pradesh",
          "Bihar",
          "Bihar",
          "Maharashtra",
          "Telangana",
          "Uttar Pradesh",
          "Bihar",
          "Meghalaya",
          "Karnataka",
          "Maharashtra",
          "Maharashtra",
          "Uttar Pradesh",
          "Sikkim",
          "Assam",
          "Jharkhand",
          "Bihar",
          "Uttar Pradesh",
          "Bihar",
          "Maharashtra",
          "Assam",
          "NCT OF Delhi",
          "Goa",
          "West Bengal",
          "Andhra Pradesh",
          "Uttar Pradesh",
          "Odisha",
          "Bihar",
          "Gujarat",
          "Tamil Nadu",
          "Tamil Nadu",
          "Tamil Nadu",
          "Tamil Nadu",
          "Madhya Pradesh",
          "Tamil Nadu",
          "Tamil Nadu",
          "Tamil Nadu",
          "Tamil Nadu",
          "Tamil Nadu",
          "Rajasthan",
          "West Bengal",
          "Uttarakhand",
          "Maharashtra",
          "Andhra Pradesh",
          "Kerala",
          "Kerala",
          "Tripura",
          "Tripura",
          "Karnataka",
          "Meghalaya",
          "Rajasthan",
          "Jammu and Kashmir",
          "Madhya Pradesh",
          "Karnataka",
          "Bihar",
          "West Bengal",
          "Uttar Pradesh",
          "Karnataka",
          "Tamil Nadu",
          "Madhya Pradesh",
          "Tamil Nadu",
          "Tamil Nadu",
          "Kerala",
          "Gujarat",
          "Bihar",
          "Bihar",
          "Gujarat",
          "Uttar Pradesh",
          "Andhra Pradesh",
          "Andhra Pradesh",
          "Andhra Pradesh",
          "Telangana",
          "Maharashtra",
          "Kerala",
          "NCT OF Delhi",
          "Maharashtra",
          "Telangana",
          "",
          "",
          "",
          "",
          "",
          "",
          "",
          "",
          "",
          "",
          "",
          "",
          "",
          "",
          "",
          "",
          "",
          "",
          "",
          "",
          "",
          "",
          "",
          "",
          "",
          "",
          "",
          "",
          "",
          "",
          "",
          "",
          "",
          "",
          "",
          ""
         ],
         "type": "sunburst",
         "values": [
          27991586,
          18675837,
          28049140,
          36990340,
          40771640,
          43490111,
          19828728,
          22834031,
          36724734,
          10365870,
          49723350,
          16883208,
          28419855,
          15473579,
          6700915,
          28040152,
          19563093,
          25594226,
          9579024,
          22983435,
          15310048,
          23383295,
          68034379,
          13866936,
          48526260,
          20648124,
          24020475,
          12464963,
          48736968,
          37154544,
          3788940,
          17042598,
          20242989,
          18850010,
          18177813,
          30570750,
          2270142,
          4160680,
          12403125,
          11363828,
          9807798,
          16882281,
          76265140,
          16847514,
          24384880,
          17604856,
          38379550,
          24294930,
          16211910,
          15183912,
          12749826,
          21486570,
          13393723,
          30969988,
          51467042,
          18456732,
          77845669,
          22113344,
          39821980,
          11656456,
          18392810,
          26841360,
          17710473,
          25180935,
          20331233,
          23559744,
          20988408,
          67521111,
          42044340,
          51521690,
          58422096,
          27619380,
          18599670,
          23206794,
          14605688,
          22667655,
          24950666,
          90245592,
          22891248,
          12622680,
          14826688,
          6146364,
          25040171,
          11437251,
          27706714,
          21169414,
          27088110,
          17143587,
          29864934,
          88029583,
          22004350,
          25112698,
          18844720,
          17547508,
          20399410,
          14191424,
          23858484,
          32947182,
          22407710,
          24939122,
          56365308,
          70560399,
          20100228,
          34098552,
          15583808,
          19175343,
          22313364,
          12309367,
          18035440,
          14737536,
          11207886,
          37528995,
          27080928,
          41860354,
          52376065,
          82958621,
          24520815,
          21293580,
          39073284,
          28888769,
          77940500,
          26850230,
          14423827,
          24901338,
          18505470,
          12550488,
          41161675,
          27596400,
          37239356,
          126379451,
          10934622,
          57471243,
          31869414,
          37147700,
          31228267,
          27590402,
          15749790,
          26964000,
          9517600,
          15548472,
          13685819,
          36643176,
          24129360,
          52313775,
          1415175,
          16886223,
          16363143,
          939407,
          14262824,
          24876572,
          24359676,
          51294270,
          13140589,
          57258850,
          31178255,
          20639748,
          15337020,
          34631831,
          36454950,
          22578624,
          4985994,
          18579240,
          4510250,
          11773230,
          23812348,
          30251648,
          47707760,
          42432200,
          21295508,
          13247570,
          17039350,
          12841423,
          58479288,
          25082187,
          44796108,
          14015880,
          21800814,
          29138955,
          16265826,
          13272364,
          48574391,
          18935712,
          28360425,
          59454586,
          41043914,
          16186900,
          30567628,
          18255029,
          40222230,
          25498620,
          13596191,
          41282080,
          20886360,
          58537836,
          29868208,
          38578436,
          14750984,
          22297594,
          27322698,
          29382892,
          53799720,
          42317886,
          16318120,
          17473188,
          50387092,
          22297896,
          27620810,
          20257644,
          22941348,
          28580608,
          26082270,
          19461380,
          49096692,
          25121516,
          33027107,
          21560877,
          60029706,
          22321236,
          25890976,
          24779622,
          66519150,
          35391692,
          8758204,
          6006690,
          36065420,
          29754309,
          32918325,
          27572304,
          40010454,
          37048680,
          14216818,
          16781856,
          32073615,
          32548016,
          18738379,
          25180740,
          20131722,
          33117360,
          12063498,
          28005628,
          51218778,
          22678080,
          25465426,
          46784700,
          13374333,
          25305784,
          27706056,
          20298993,
          20052780,
          21624040,
          23171655,
          6931776,
          19761852,
          32951037,
          19241112,
          15240320,
          14934366,
          34453056,
          7920728,
          40084338,
          77246946,
          27979504,
          23241614,
          10232045,
          43741377,
          31332795,
          43951977,
          55794482,
          21379963,
          22978886,
          24186106,
          7624128,
          24523815,
          18722418,
          58318400,
          10724640,
          29904240,
          16356960,
          18312734,
          16178922,
          24544065,
          33948480,
          50348704,
          13099770,
          16510608,
          19125360,
          22591855,
          17957250,
          17489351,
          45360945,
          22125204,
          57118320,
          24099372,
          20583464,
          9305961,
          21962364,
          33117675,
          17932848,
          31107564,
          44682675,
          31451955,
          22585290,
          15970476,
          35473304,
          16298062,
          17585932,
          18622604,
          19388589,
          32759629,
          16892658,
          571728,
          14224500,
          231812,
          12887770,
          55451452,
          21723375,
          21739530,
          75712508,
          33248250,
          29982866,
          13771730,
          29445416,
          15206464,
          26283275,
          5167962,
          30238920,
          23325156,
          23100675,
          63881536,
          16588864,
          23241108,
          35278734,
          9712245,
          16056520,
          52194979,
          10632288,
          14384408,
          11845712,
          30334919,
          27964275,
          83169966,
          24922086,
          29086950,
          21817356,
          85330608,
          12052431,
          20101562,
          80463548,
          16318845,
          16045352,
          19094480,
          16918182,
          24088526,
          24751704,
          34430185,
          47096019,
          32745840,
          36441195,
          21510202,
          22119900,
          24621948,
          20796479,
          20060887,
          48595872,
          37697580,
          12111372,
          19399518,
          58118080,
          22862224,
          6058440,
          3976149,
          23673299,
          33046890,
          9883860,
          57831332,
          20264380,
          66525826,
          37976488,
          42631236,
          21684564,
          53449921,
          30950031,
          26042430,
          63028425,
          31133256,
          16082288,
          23979760,
          25953798,
          49462139,
          4645680,
          69003116,
          66801124,
          40363125,
          61891004,
          4200968,
          30527562,
          33285531,
          23965755,
          26624624,
          14009140,
          20232738,
          21488500,
          15185872,
          72232898,
          14073872,
          20217720,
          11471648,
          47101080,
          45773486,
          39023959,
          67111464,
          31073040,
          18339610,
          11770080,
          21235128,
          47755448,
          72176020,
          11127886,
          13265252,
          21907500,
          21521280,
          23931011,
          90289140,
          28150080,
          28038435,
          20644780,
          40494025,
          25141308,
          26032146,
          49754328,
          14309848,
          16083528,
          21706386,
          35831480,
          19486224,
          30012930,
          19014534,
          23879912,
          10399458,
          57426656,
          13143193,
          59468256,
          13073976,
          43771848,
          21368736,
          22706320,
          41481725,
          32467637,
          17781580,
          6773325,
          34511615,
          31252676,
          36885061,
          32713100,
          39094176,
          41971272,
          73859918,
          18208800,
          27731158,
          18578160,
          16059708,
          21840192,
          21021532,
          22791504,
          37483520,
          35967584,
          22836550,
          25211060,
          19149140,
          30389200,
          95424750,
          23331430,
          22013244,
          8417352,
          40333145,
          33601340,
          81336000,
          23768916,
          6533002,
          10996472,
          20292594,
          27300392,
          14082936,
          24725428,
          42670341,
          13111936,
          50461356,
          4791472,
          21210816,
          21406918,
          16700418,
          12632768,
          28933305,
          28490014,
          22936950,
          18024672,
          40758200,
          40913096,
          12795832,
          54411700,
          38094095,
          20913360,
          29213604,
          47646783,
          23656776,
          16680267,
          17495786,
          60193728,
          39797314,
          17215884,
          13354047,
          12612987,
          13225077,
          29913012,
          3310236,
          17849920,
          19690152,
          16203123,
          15857210,
          22728901,
          20908656,
          18758744,
          21394373,
          47564757,
          25306203,
          25567303,
          40660029,
          14247920,
          27301722,
          28078155,
          18290520,
          13021449,
          13999027,
          28975973,
          63736134,
          23864910,
          76670664,
          40423008,
          13180248,
          62219952,
          33021837,
          31206075,
          3788940,
          760382145,
          6430822,
          255923751,
          967900555,
          12550488,
          432546029,
          2354582,
          9437152,
          513533670,
          448952479,
          53258563,
          177041768,
          461028816,
          936564838,
          269194745,
          571728,
          231812,
          725747817,
          2224797509,
          10207658,
          11727588,
          5167962,
          358033221,
          3976149,
          332476972,
          26624624,
          547767814,
          573577684,
          6533002,
          1528993329,
          1032760449,
          25838064,
          1655314624,
          94174827,
          916849467
         ]
        }
       ],
       "layout": {
        "coloraxis": {
         "colorbar": {
          "title": {
           "text": "TOTAL ELECTORS"
          }
         },
         "colorscale": [
          [
           0,
           "rgb(236, 218, 154)"
          ],
          [
           0.16666666666666666,
           "rgb(239, 196, 126)"
          ],
          [
           0.3333333333333333,
           "rgb(243, 173, 106)"
          ],
          [
           0.5,
           "rgb(247, 148, 93)"
          ],
          [
           0.6666666666666666,
           "rgb(249, 123, 87)"
          ],
          [
           0.8333333333333334,
           "rgb(246, 99, 86)"
          ],
          [
           1,
           "rgb(238, 77, 90)"
          ]
         ]
        },
        "font": {
         "color": "#351f39",
         "family": "Courier New"
        },
        "legend": {
         "tracegroupgap": 0
        },
        "margin": {
         "t": 60
        },
        "template": {
         "data": {
          "bar": [
           {
            "error_x": {
             "color": "#2a3f5f"
            },
            "error_y": {
             "color": "#2a3f5f"
            },
            "marker": {
             "line": {
              "color": "#E5ECF6",
              "width": 0.5
             },
             "pattern": {
              "fillmode": "overlay",
              "size": 10,
              "solidity": 0.2
             }
            },
            "type": "bar"
           }
          ],
          "barpolar": [
           {
            "marker": {
             "line": {
              "color": "#E5ECF6",
              "width": 0.5
             },
             "pattern": {
              "fillmode": "overlay",
              "size": 10,
              "solidity": 0.2
             }
            },
            "type": "barpolar"
           }
          ],
          "carpet": [
           {
            "aaxis": {
             "endlinecolor": "#2a3f5f",
             "gridcolor": "white",
             "linecolor": "white",
             "minorgridcolor": "white",
             "startlinecolor": "#2a3f5f"
            },
            "baxis": {
             "endlinecolor": "#2a3f5f",
             "gridcolor": "white",
             "linecolor": "white",
             "minorgridcolor": "white",
             "startlinecolor": "#2a3f5f"
            },
            "type": "carpet"
           }
          ],
          "choropleth": [
           {
            "colorbar": {
             "outlinewidth": 0,
             "ticks": ""
            },
            "type": "choropleth"
           }
          ],
          "contour": [
           {
            "colorbar": {
             "outlinewidth": 0,
             "ticks": ""
            },
            "colorscale": [
             [
              0,
              "#0d0887"
             ],
             [
              0.1111111111111111,
              "#46039f"
             ],
             [
              0.2222222222222222,
              "#7201a8"
             ],
             [
              0.3333333333333333,
              "#9c179e"
             ],
             [
              0.4444444444444444,
              "#bd3786"
             ],
             [
              0.5555555555555556,
              "#d8576b"
             ],
             [
              0.6666666666666666,
              "#ed7953"
             ],
             [
              0.7777777777777778,
              "#fb9f3a"
             ],
             [
              0.8888888888888888,
              "#fdca26"
             ],
             [
              1,
              "#f0f921"
             ]
            ],
            "type": "contour"
           }
          ],
          "contourcarpet": [
           {
            "colorbar": {
             "outlinewidth": 0,
             "ticks": ""
            },
            "type": "contourcarpet"
           }
          ],
          "heatmap": [
           {
            "colorbar": {
             "outlinewidth": 0,
             "ticks": ""
            },
            "colorscale": [
             [
              0,
              "#0d0887"
             ],
             [
              0.1111111111111111,
              "#46039f"
             ],
             [
              0.2222222222222222,
              "#7201a8"
             ],
             [
              0.3333333333333333,
              "#9c179e"
             ],
             [
              0.4444444444444444,
              "#bd3786"
             ],
             [
              0.5555555555555556,
              "#d8576b"
             ],
             [
              0.6666666666666666,
              "#ed7953"
             ],
             [
              0.7777777777777778,
              "#fb9f3a"
             ],
             [
              0.8888888888888888,
              "#fdca26"
             ],
             [
              1,
              "#f0f921"
             ]
            ],
            "type": "heatmap"
           }
          ],
          "heatmapgl": [
           {
            "colorbar": {
             "outlinewidth": 0,
             "ticks": ""
            },
            "colorscale": [
             [
              0,
              "#0d0887"
             ],
             [
              0.1111111111111111,
              "#46039f"
             ],
             [
              0.2222222222222222,
              "#7201a8"
             ],
             [
              0.3333333333333333,
              "#9c179e"
             ],
             [
              0.4444444444444444,
              "#bd3786"
             ],
             [
              0.5555555555555556,
              "#d8576b"
             ],
             [
              0.6666666666666666,
              "#ed7953"
             ],
             [
              0.7777777777777778,
              "#fb9f3a"
             ],
             [
              0.8888888888888888,
              "#fdca26"
             ],
             [
              1,
              "#f0f921"
             ]
            ],
            "type": "heatmapgl"
           }
          ],
          "histogram": [
           {
            "marker": {
             "pattern": {
              "fillmode": "overlay",
              "size": 10,
              "solidity": 0.2
             }
            },
            "type": "histogram"
           }
          ],
          "histogram2d": [
           {
            "colorbar": {
             "outlinewidth": 0,
             "ticks": ""
            },
            "colorscale": [
             [
              0,
              "#0d0887"
             ],
             [
              0.1111111111111111,
              "#46039f"
             ],
             [
              0.2222222222222222,
              "#7201a8"
             ],
             [
              0.3333333333333333,
              "#9c179e"
             ],
             [
              0.4444444444444444,
              "#bd3786"
             ],
             [
              0.5555555555555556,
              "#d8576b"
             ],
             [
              0.6666666666666666,
              "#ed7953"
             ],
             [
              0.7777777777777778,
              "#fb9f3a"
             ],
             [
              0.8888888888888888,
              "#fdca26"
             ],
             [
              1,
              "#f0f921"
             ]
            ],
            "type": "histogram2d"
           }
          ],
          "histogram2dcontour": [
           {
            "colorbar": {
             "outlinewidth": 0,
             "ticks": ""
            },
            "colorscale": [
             [
              0,
              "#0d0887"
             ],
             [
              0.1111111111111111,
              "#46039f"
             ],
             [
              0.2222222222222222,
              "#7201a8"
             ],
             [
              0.3333333333333333,
              "#9c179e"
             ],
             [
              0.4444444444444444,
              "#bd3786"
             ],
             [
              0.5555555555555556,
              "#d8576b"
             ],
             [
              0.6666666666666666,
              "#ed7953"
             ],
             [
              0.7777777777777778,
              "#fb9f3a"
             ],
             [
              0.8888888888888888,
              "#fdca26"
             ],
             [
              1,
              "#f0f921"
             ]
            ],
            "type": "histogram2dcontour"
           }
          ],
          "mesh3d": [
           {
            "colorbar": {
             "outlinewidth": 0,
             "ticks": ""
            },
            "type": "mesh3d"
           }
          ],
          "parcoords": [
           {
            "line": {
             "colorbar": {
              "outlinewidth": 0,
              "ticks": ""
             }
            },
            "type": "parcoords"
           }
          ],
          "pie": [
           {
            "automargin": true,
            "type": "pie"
           }
          ],
          "scatter": [
           {
            "fillpattern": {
             "fillmode": "overlay",
             "size": 10,
             "solidity": 0.2
            },
            "type": "scatter"
           }
          ],
          "scatter3d": [
           {
            "line": {
             "colorbar": {
              "outlinewidth": 0,
              "ticks": ""
             }
            },
            "marker": {
             "colorbar": {
              "outlinewidth": 0,
              "ticks": ""
             }
            },
            "type": "scatter3d"
           }
          ],
          "scattercarpet": [
           {
            "marker": {
             "colorbar": {
              "outlinewidth": 0,
              "ticks": ""
             }
            },
            "type": "scattercarpet"
           }
          ],
          "scattergeo": [
           {
            "marker": {
             "colorbar": {
              "outlinewidth": 0,
              "ticks": ""
             }
            },
            "type": "scattergeo"
           }
          ],
          "scattergl": [
           {
            "marker": {
             "colorbar": {
              "outlinewidth": 0,
              "ticks": ""
             }
            },
            "type": "scattergl"
           }
          ],
          "scattermapbox": [
           {
            "marker": {
             "colorbar": {
              "outlinewidth": 0,
              "ticks": ""
             }
            },
            "type": "scattermapbox"
           }
          ],
          "scatterpolar": [
           {
            "marker": {
             "colorbar": {
              "outlinewidth": 0,
              "ticks": ""
             }
            },
            "type": "scatterpolar"
           }
          ],
          "scatterpolargl": [
           {
            "marker": {
             "colorbar": {
              "outlinewidth": 0,
              "ticks": ""
             }
            },
            "type": "scatterpolargl"
           }
          ],
          "scatterternary": [
           {
            "marker": {
             "colorbar": {
              "outlinewidth": 0,
              "ticks": ""
             }
            },
            "type": "scatterternary"
           }
          ],
          "surface": [
           {
            "colorbar": {
             "outlinewidth": 0,
             "ticks": ""
            },
            "colorscale": [
             [
              0,
              "#0d0887"
             ],
             [
              0.1111111111111111,
              "#46039f"
             ],
             [
              0.2222222222222222,
              "#7201a8"
             ],
             [
              0.3333333333333333,
              "#9c179e"
             ],
             [
              0.4444444444444444,
              "#bd3786"
             ],
             [
              0.5555555555555556,
              "#d8576b"
             ],
             [
              0.6666666666666666,
              "#ed7953"
             ],
             [
              0.7777777777777778,
              "#fb9f3a"
             ],
             [
              0.8888888888888888,
              "#fdca26"
             ],
             [
              1,
              "#f0f921"
             ]
            ],
            "type": "surface"
           }
          ],
          "table": [
           {
            "cells": {
             "fill": {
              "color": "#EBF0F8"
             },
             "line": {
              "color": "white"
             }
            },
            "header": {
             "fill": {
              "color": "#C8D4E3"
             },
             "line": {
              "color": "white"
             }
            },
            "type": "table"
           }
          ]
         },
         "layout": {
          "annotationdefaults": {
           "arrowcolor": "#2a3f5f",
           "arrowhead": 0,
           "arrowwidth": 1
          },
          "autotypenumbers": "strict",
          "coloraxis": {
           "colorbar": {
            "outlinewidth": 0,
            "ticks": ""
           }
          },
          "colorscale": {
           "diverging": [
            [
             0,
             "#8e0152"
            ],
            [
             0.1,
             "#c51b7d"
            ],
            [
             0.2,
             "#de77ae"
            ],
            [
             0.3,
             "#f1b6da"
            ],
            [
             0.4,
             "#fde0ef"
            ],
            [
             0.5,
             "#f7f7f7"
            ],
            [
             0.6,
             "#e6f5d0"
            ],
            [
             0.7,
             "#b8e186"
            ],
            [
             0.8,
             "#7fbc41"
            ],
            [
             0.9,
             "#4d9221"
            ],
            [
             1,
             "#276419"
            ]
           ],
           "sequential": [
            [
             0,
             "#0d0887"
            ],
            [
             0.1111111111111111,
             "#46039f"
            ],
            [
             0.2222222222222222,
             "#7201a8"
            ],
            [
             0.3333333333333333,
             "#9c179e"
            ],
            [
             0.4444444444444444,
             "#bd3786"
            ],
            [
             0.5555555555555556,
             "#d8576b"
            ],
            [
             0.6666666666666666,
             "#ed7953"
            ],
            [
             0.7777777777777778,
             "#fb9f3a"
            ],
            [
             0.8888888888888888,
             "#fdca26"
            ],
            [
             1,
             "#f0f921"
            ]
           ],
           "sequentialminus": [
            [
             0,
             "#0d0887"
            ],
            [
             0.1111111111111111,
             "#46039f"
            ],
            [
             0.2222222222222222,
             "#7201a8"
            ],
            [
             0.3333333333333333,
             "#9c179e"
            ],
            [
             0.4444444444444444,
             "#bd3786"
            ],
            [
             0.5555555555555556,
             "#d8576b"
            ],
            [
             0.6666666666666666,
             "#ed7953"
            ],
            [
             0.7777777777777778,
             "#fb9f3a"
            ],
            [
             0.8888888888888888,
             "#fdca26"
            ],
            [
             1,
             "#f0f921"
            ]
           ]
          },
          "colorway": [
           "#636efa",
           "#EF553B",
           "#00cc96",
           "#ab63fa",
           "#FFA15A",
           "#19d3f3",
           "#FF6692",
           "#B6E880",
           "#FF97FF",
           "#FECB52"
          ],
          "font": {
           "color": "#2a3f5f"
          },
          "geo": {
           "bgcolor": "white",
           "lakecolor": "white",
           "landcolor": "#E5ECF6",
           "showlakes": true,
           "showland": true,
           "subunitcolor": "white"
          },
          "hoverlabel": {
           "align": "left"
          },
          "hovermode": "closest",
          "mapbox": {
           "style": "light"
          },
          "paper_bgcolor": "white",
          "plot_bgcolor": "#E5ECF6",
          "polar": {
           "angularaxis": {
            "gridcolor": "white",
            "linecolor": "white",
            "ticks": ""
           },
           "bgcolor": "#E5ECF6",
           "radialaxis": {
            "gridcolor": "white",
            "linecolor": "white",
            "ticks": ""
           }
          },
          "scene": {
           "xaxis": {
            "backgroundcolor": "#E5ECF6",
            "gridcolor": "white",
            "gridwidth": 2,
            "linecolor": "white",
            "showbackground": true,
            "ticks": "",
            "zerolinecolor": "white"
           },
           "yaxis": {
            "backgroundcolor": "#E5ECF6",
            "gridcolor": "white",
            "gridwidth": 2,
            "linecolor": "white",
            "showbackground": true,
            "ticks": "",
            "zerolinecolor": "white"
           },
           "zaxis": {
            "backgroundcolor": "#E5ECF6",
            "gridcolor": "white",
            "gridwidth": 2,
            "linecolor": "white",
            "showbackground": true,
            "ticks": "",
            "zerolinecolor": "white"
           }
          },
          "shapedefaults": {
           "line": {
            "color": "#2a3f5f"
           }
          },
          "ternary": {
           "aaxis": {
            "gridcolor": "white",
            "linecolor": "white",
            "ticks": ""
           },
           "baxis": {
            "gridcolor": "white",
            "linecolor": "white",
            "ticks": ""
           },
           "bgcolor": "#E5ECF6",
           "caxis": {
            "gridcolor": "white",
            "linecolor": "white",
            "ticks": ""
           }
          },
          "title": {
           "x": 0.05
          },
          "xaxis": {
           "automargin": true,
           "gridcolor": "white",
           "linecolor": "white",
           "ticks": "",
           "title": {
            "standoff": 15
           },
           "zerolinecolor": "white",
           "zerolinewidth": 2
          },
          "yaxis": {
           "automargin": true,
           "gridcolor": "white",
           "linecolor": "white",
           "ticks": "",
           "title": {
            "standoff": 15
           },
           "zerolinecolor": "white",
           "zerolinewidth": 2
          }
         }
        },
        "title": {
         "font": {
          "color": "#351f39",
          "family": "Courier New"
         },
         "text": "State and Constituency by total electors"
        },
        "xaxis": {
         "title": {
          "text": "Party"
         }
        },
        "yaxis": {
         "title": {
          "text": "Seats"
         }
        }
       }
      },
      "text/html": [
       "<div>                            <div id=\"148c2c9c-519a-4093-9a5c-166cc9f83654\" class=\"plotly-graph-div\" style=\"height:525px; width:100%;\"></div>            <script type=\"text/javascript\">                require([\"plotly\"], function(Plotly) {                    window.PLOTLYENV=window.PLOTLYENV || {};                                    if (document.getElementById(\"148c2c9c-519a-4093-9a5c-166cc9f83654\")) {                    Plotly.newPlot(                        \"148c2c9c-519a-4093-9a5c-166cc9f83654\",                        [{\"branchvalues\":\"total\",\"customdata\":[[1999399.0],[2075093.0],[2003510.0],[1849517.0],[1568140.0],[1499659.0],[1652394.0],[2075821.0],[2040263.0],[1727645.0],[1988934.0],[1875912.0],[1894657.0],[1406689.0],[1340183.0],[2002868.0],[1778463.0],[1828159.0],[1368432.0],[1532229.0],[1913756.0],[1798715.0],[1838767.0],[1733367.0],[1617542.0],[1720677.0],[1601365.0],[1780709.0],[1740606.0],[1769264.0],[315745.0],[1893622.0],[1557153.0],[1885001.0],[2019757.0],[2183625.0],[378357.0],[520085.0],[1771875.0],[1623404.0],[1401114.0],[1875809.0],[2061220.0],[1871946.0],[1875760.0],[2200607.0],[1744525.0],[2208630.0],[1473810.0],[1897989.0],[2124971.0],[2148657.0],[1913389.0],[1821764.0],[2339411.0],[2050748.0],[2103937.0],[2010304.0],[1810090.0],[1665208.0],[1839281.0],[1789424.0],[1610043.0],[1936995.0],[1563941.0],[1963312.0],[1749034.0],[3215291.0],[2802956.0],[2341895.0],[2434254.0],[1841292.0],[1859967.0],[1785138.0],[1825711.0],[1511177.0],[1919282.0],[2374884.0],[1907604.0],[1803240.0],[1853336.0],[2048788.0],[1926167.0],[1633893.0],[1979051.0],[1512101.0],[1805874.0],[1904843.0],[1659163.0],[2147063.0],[2200435.0],[1931746.0],[1884472.0],[1595228.0],[2039941.0],[1773928.0],[1988207.0],[1830399.0],[1723670.0],[1918394.0],[2087604.0],[1809241.0],[1675019.0],[1894364.0],[1947976.0],[1743213.0],[1859447.0],[1758481.0],[1803544.0],[1842192.0],[1867981.0],[1787095.0],[1934352.0],[1350334.0],[1496459.0],[2023381.0],[1634721.0],[1520970.0],[2170738.0],[2222213.0],[2106500.0],[1413170.0],[1311257.0],[1778667.0],[1850547.0],[660552.0],[1646467.0],[1839760.0],[1692698.0],[2939057.0],[1822437.0],[1981767.0],[1770523.0],[1857385.0],[1643593.0],[1970743.0],[1574979.0],[1926000.0],[1903520.0],[1943559.0],[1955117.0],[1526799.0],[1608624.0],[2092551.0],[283035.0],[1876247.0],[1818127.0],[134201.0],[1782853.0],[1776898.0],[2214516.0],[1709809.0],[1877227.0],[2290354.0],[1834015.0],[1719979.0],[1533702.0],[2663987.0],[2025275.0],[1881552.0],[1661998.0],[1857924.0],[902050.0],[1962205.0],[1700882.0],[1592192.0],[1538960.0],[2121610.0],[1638116.0],[1324757.0],[1703935.0],[1834489.0],[2436637.0],[1929399.0],[1599861.0],[1751985.0],[1557201.0],[1942597.0],[1807314.0],[1896052.0],[1674979.0],[2103968.0],[1890695.0],[2584982.0],[2160206.0],[1618690.0],[2183402.0],[1404233.0],[2681482.0],[1821330.0],[1942313.0],[2948720.0],[2088636.0],[2090637.0],[1866763.0],[2030444.0],[1843873.0],[2027054.0],[2101746.0],[2098778.0],[1793324.0],[1627611.0],[2039765.0],[1456099.0],[1799539.0],[1858158.0],[1972915.0],[1841604.0],[1911779.0],[2041472.0],[1738818.0],[1946138.0],[1818396.0],[1794394.0],[1942771.0],[1658529.0],[1819082.0],[1860103.0],[1618186.0],[1769973.0],[2217305.0],[2527978.0],[1251172.0],[1001115.0],[1898180.0],[2288793.0],[2194555.0],[2297692.0],[1818657.0],[2058260.0],[2030974.0],[2097732.0],[2138241.0],[2034251.0],[1703489.0],[1678716.0],[1548594.0],[1655868.0],[2010583.0],[2000402.0],[1969953.0],[1889840.0],[1818959.0],[1871388.0],[1910619.0],[1807556.0],[1979004.0],[1845363.0],[2005278.0],[2162404.0],[1782435.0],[1732944.0],[1796532.0],[1569097.0],[1749192.0],[1524032.0],[1659374.0],[1566048.0],[1980182.0],[2109702.0],[1430499.0],[1998536.0],[2112874.0],[2046409.0],[1620051.0],[2088853.0],[1627851.0],[1799822.0],[1943633.0],[1641349.0],[1727579.0],[1906032.0],[1634921.0],[1702038.0],[2082800.0],[1340580.0],[1993616.0],[1363080.0],[1664794.0],[1797658.0],[1888005.0],[1414520.0],[1798168.0],[1455530.0],[1834512.0],[1912536.0],[2053805.0],[1795725.0],[1589941.0],[1680035.0],[1843767.0],[1631952.0],[2008281.0],[1871224.0],[1329423.0],[1830197.0],[2207845.0],[1494404.0],[1728198.0],[1942725.0],[1850115.0],[1505686.0],[1330873.0],[1867016.0],[1481642.0],[1256138.0],[1432508.0],[1762599.0],[1724191.0],[1876962.0],[190576.0],[1580500.0],[57953.0],[1841110.0],[1980409.0],[1448225.0],[2173953.0],[1760756.0],[1583250.0],[1763698.0],[1377173.0],[2103244.0],[1900808.0],[1546075.0],[861327.0],[2015928.0],[1943763.0],[1540045.0],[1996298.0],[2073608.0],[1936759.0],[1533858.0],[1942449.0],[2007065.0],[1683709.0],[1772048.0],[1798051.0],[1480714.0],[1784407.0],[1864285.0],[3780453.0],[1780149.0],[1939130.0],[1818113.0],[2585776.0],[1339159.0],[1546274.0],[1828717.0],[1813205.0],[2005669.0],[1909448.0],[1879798.0],[2189866.0],[2062642.0],[1812115.0],[1744297.0],[1637292.0],[1735295.0],[1536443.0],[1474660.0],[2051829.0],[1890589.0],[1823717.0],[1869072.0],[2094310.0],[1345708.0],[2155502.0],[1452952.0],[1428889.0],[1514610.0],[1325383.0],[1821023.0],[1739310.0],[1647310.0],[2224282.0],[2026438.0],[2293994.0],[1726204.0],[1853532.0],[1971324.0],[1724191.0],[1473811.0],[1736162.0],[2033175.0],[2223804.0],[2010286.0],[1712840.0],[1526694.0],[1705591.0],[580710.0],[2464397.0],[2569274.0],[1614525.0],[1996484.0],[1050242.0],[2348274.0],[1447197.0],[1597717.0],[1024024.0],[1400914.0],[2248082.0],[2148850.0],[1898234.0],[2124497.0],[1759234.0],[2021772.0],[1433956.0],[1811580.0],[2080613.0],[2295527.0],[1597892.0],[2071536.0],[1833961.0],[1471260.0],[1769594.0],[1836748.0],[2062172.0],[1589698.0],[1895036.0],[1825625.0],[1793440.0],[1840847.0],[2376030.0],[1876672.0],[1869229.0],[2064478.0],[1619761.0],[2095109.0],[1859439.0],[1913628.0],[1788731.0],[2010441.0],[1669722.0],[1791574.0],[1623852.0],[1667385.0],[2112726.0],[1705708.0],[1733243.0],[2050952.0],[1877599.0],[2202528.0],[1452664.0],[1823827.0],[1780728.0],[1746640.0],[1659269.0],[1708823.0],[1778158.0],[1354665.0],[2030095.0],[2232334.0],[1941319.0],[1635655.0],[1777008.0],[1748803.0],[2382578.0],[1820880.0],[1980797.0],[1857816.0],[1784412.0],[1820016.0],[1501538.0],[1899292.0],[1874176.0],[1563808.0],[2076050.0],[1800790.0],[1914914.0],[1899325.0],[2120550.0],[2333143.0],[1834437.0],[1402892.0],[1753615.0],[1680067.0],[2541750.0],[1980743.0],[466643.0],[1374559.0],[1449471.0],[1950028.0],[1760367.0],[1901956.0],[2031921.0],[1638992.0],[2293698.0],[598934.0],[1928256.0],[1646686.0],[1855602.0],[1579096.0],[1928887.0],[2035001.0],[1529130.0],[1502056.0],[1630328.0],[1461182.0],[1827976.0],[1554620.0],[1656265.0],[1608720.0],[2086686.0],[1536993.0],[2150616.0],[1853363.0],[1590526.0],[2508072.0],[1730318.0],[1434657.0],[1483783.0],[1401443.0],[1469453.0],[1661834.0],[827559.0],[2231240.0],[1640846.0],[1800347.0],[1585721.0],[1748377.0],[1742388.0],[2344843.0],[1645721.0],[1534347.0],[1946631.0],[1503959.0],[1505927.0],[1424792.0],[1950123.0],[1871877.0],[1829052.0],[1860207.0],[1999861.0],[1704469.0],[1931398.0],[1590994.0],[1825492.0],[1684292.0],[1464472.0],[2592498.0],[1942461.0],[1642425.0],[315745.0],[1682046.6187881317],[470053.6532489937],[1883785.389906961],[1960003.6658251581],[660552.0],[2002274.1402614727],[223654.73571614834],[589962.7688149984],[1948091.7270437204],[2050875.997067518],[1442229.4490797096],[1772698.25336254],[1934175.6846856098],[2045404.2308809035],[1391124.2645312077],[190576.0],[57953.0],[1986281.5951437785],[2014539.6503487702],[1021333.2474115022],[1240498.1634678845],[861327.0],[2279534.564915832],[1325383.0],[1613175.2799283194],[1024024.0],[1673258.6679781042],[2160622.5008472227],[466643.0],[1641333.4956850691],[2105875.8459700746],[1436253.560372093],[1968408.187285607],[1762478.2075254251],[1814754.938498397]],\"domain\":{\"x\":[0.0,1.0],\"y\":[0.0,1.0]},\"hovertemplate\":\"labels=%{label}\\u003cbr\\u003eTOTAL ELECTORS_sum=%{value}\\u003cbr\\u003eparent=%{parent}\\u003cbr\\u003eid=%{id}\\u003cbr\\u003eTOTAL ELECTORS=%{color}\\u003cextra\\u003e\\u003c\\u002fextra\\u003e\",\"ids\":[\"Rajasthan\\u002fAJMER\",\"Rajasthan\\u002fALWAR\",\"Haryana\\u002fAMBALA\",\"Jammu and Kashmir\\u002fANANTNAG-RAJOURI\",\"Tamil Nadu\\u002fARAKKONAM\",\"Tamil Nadu\\u002fARANI\",\"Telangana\\u002fAdilabad\",\"Uttar Pradesh\\u002fAgra\",\"Gujarat\\u002fAhmedabad East\",\"Gujarat\\u002fAhmedabad West\",\"Maharashtra\\u002fAhmednagar\",\"Uttar Pradesh\\u002fAkbarpur\",\"Maharashtra\\u002fAkola\",\"Kerala\\u002fAlappuzha\",\"Kerala\\u002fAlathur\",\"Uttar Pradesh\\u002fAligarh\",\"West Bengal\\u002fAlipurduars\",\"Uttar Pradesh\\u002fAllahabad\",\"Uttarakhand\\u002fAlmora\",\"Andhra Pradesh\\u002fAmalapuram\",\"Uttar Pradesh\\u002fAmbedkar Nagar\",\"Uttar Pradesh\\u002fAmethi\",\"Maharashtra\\u002fAmravati\",\"Gujarat\\u002fAmreli\",\"Punjab\\u002fAmritsar\",\"Uttar Pradesh\\u002fAmroha\",\"Andhra Pradesh\\u002fAnakapalle\",\"Gujarat\\u002fAnand\",\"Punjab\\u002fAnandpur Sahib\",\"Andhra Pradesh\\u002fAnanthapur\",\"Andaman & Nicobar Islands\\u002fAndaman & Nicobar Islands\",\"Uttar Pradesh\\u002fAonla\",\"Andhra Pradesh\\u002fAraku\",\"West Bengal\\u002fArambag\",\"Bihar\\u002fAraria\",\"Bihar\\u002fArrah\",\"Arunachal Pradesh\\u002fArunachal East\",\"Arunachal Pradesh\\u002fArunachal West\",\"West Bengal\\u002fAsansol\",\"Odisha\\u002fAska\",\"Kerala\\u002fAttingal\",\"Bihar\\u002fAurangabad\",\"Maharashtra\\u002fAurangabad\",\"Uttar Pradesh\\u002fAzamgarh\",\"Madhya Pradesh\\u002fBALAGHAT\",\"Rajasthan\\u002fBANSWARA\",\"Jammu and Kashmir\\u002fBARAMULLA\",\"Rajasthan\\u002fBARMER\",\"Chhattisgarh\\u002fBASTAR\",\"Madhya Pradesh\\u002fBETUL\",\"Rajasthan\\u002fBHARATPUR\",\"Rajasthan\\u002fBHILWARA\",\"Madhya Pradesh\\u002fBHIND\",\"Haryana\\u002fBHIWANI-MAHENDRAGARH\",\"Madhya Pradesh\\u002fBHOPAL\",\"Rajasthan\\u002fBIKANER\",\"Chhattisgarh\\u002fBILASPUR\",\"Uttar Pradesh\\u002fBadaun\",\"Karnataka\\u002fBagalkot\",\"Uttar Pradesh\\u002fBaghpat\",\"Uttar Pradesh\\u002fBaharaich\",\"West Bengal\\u002fBaharampur\",\"Odisha\\u002fBalasore\",\"Uttar Pradesh\\u002fBallia\",\"West Bengal\\u002fBalurghat\",\"Gujarat\\u002fBanaskantha\",\"Uttar Pradesh\\u002fBanda\",\"Karnataka\\u002fBangalore North\",\"Karnataka\\u002fBangalore Rural\",\"Karnataka\\u002fBangalore South\",\"Karnataka\\u002fBangalore central\",\"West Bengal\\u002fBangaon\",\"Bihar\\u002fBanka\",\"West Bengal\\u002fBankura\",\"Uttar Pradesh\\u002fBansgaon\",\"Andhra Pradesh\\u002fBapatla\",\"Uttar Pradesh\\u002fBarabanki\",\"Maharashtra\\u002fBaramati\",\"West Bengal\\u002fBarasat\",\"West Bengal\\u002fBardhaman Purba\",\"West Bengal\\u002fBardhaman-Durgapur\",\"Gujarat\\u002fBardoli\",\"Uttar Pradesh\\u002fBareilly\",\"Odisha\\u002fBargarh\",\"Assam\\u002fBarpeta\",\"West Bengal\\u002fBarrackpur\",\"West Bengal\\u002fBasirhat\",\"Uttar Pradesh\\u002fBasti\",\"Punjab\\u002fBathinda\",\"Maharashtra\\u002fBeed\",\"Bihar\\u002fBegusarai\",\"Karnataka\\u002fBelgaum\",\"Karnataka\\u002fBellary\",\"Odisha\\u002fBerhampur\",\"Uttar Pradesh\\u002fBhadohi\",\"Odisha\\u002fBhadrak\",\"Bihar\\u002fBhagalpur\",\"Maharashtra\\u002fBhandara Gondiya\",\"Gujarat\\u002fBharuch\",\"Gujarat\\u002fBhavnagar\",\"Maharashtra\\u002fBhiwandi\",\"Telangana\\u002fBhongir\",\"Odisha\\u002fBhubaneswar\",\"Karnataka\\u002fBidar\",\"Karnataka\\u002fBijapur\",\"Uttar Pradesh\\u002fBijnor\",\"West Bengal\\u002fBirbhum\",\"West Bengal\\u002fBishnupur\",\"Odisha\\u002fBolangir\",\"West Bengal\\u002fBolpur\",\"Uttar Pradesh\\u002fBulandshahr\",\"Maharashtra\\u002fBuldhana\",\"Bihar\\u002fBuxar\",\"Tamil Nadu\\u002fCHENNAI CENTRAL\",\"Tamil Nadu\\u002fCHENNAI NORTH\",\"Tamil Nadu\\u002fCHENNAI SOUTH\",\"Madhya Pradesh\\u002fCHHINDWARA\",\"Tamil Nadu\\u002fCHIDAMBARAM\",\"Rajasthan\\u002fCHITTORGARH\",\"Rajasthan\\u002fCHURU\",\"Tamil Nadu\\u002fCOIMBATORE\",\"Tamil Nadu\\u002fCUDDALORE\",\"Kerala\\u002fChalakudy\",\"Karnataka\\u002fChamarajanagar\",\"Uttar Pradesh\\u002fChandauli\",\"Chandigarh\\u002fChandigarh\",\"NCT OF Delhi\\u002fChandni Chowk\",\"Maharashtra\\u002fChandrapur\",\"Jharkhand\\u002fChatra\",\"Telangana\\u002fChevella\",\"Gujarat\\u002fChhota Udaipur\",\"Karnataka\\u002fChikkballapur\",\"Karnataka\\u002fChikkodi\",\"Karnataka\\u002fChitradurga\",\"Andhra Pradesh\\u002fChittoor\",\"West Bengal\\u002fCoochbehar\",\"Odisha\\u002fCuttack\",\"Madhya Pradesh\\u002fDAMOH\",\"Rajasthan\\u002fDAUSA\",\"Madhya Pradesh\\u002fDEWAS\",\"Madhya Pradesh\\u002fDHAR\",\"Tamil Nadu\\u002fDHARMAPURI\",\"Tamil Nadu\\u002fDINDIGUL\",\"Chhattisgarh\\u002fDURG\",\"Dadra & Nagar Haveli and Daman & Diu\\u002fDadar & Nagar Haveli\",\"Gujarat\\u002fDahod\",\"Karnataka\\u002fDakshina Kannada\",\"Dadra & Nagar Haveli and Daman & Diu\\u002fDaman & Diu\",\"Bihar\\u002fDarbhanga\",\"West Bengal\\u002fDarjeeling\",\"Assam\\u002fDarrang-Udalguri\",\"Karnataka\\u002fDavanagere\",\"Uttar Pradesh\\u002fDeoria\",\"Jharkhand\\u002fDhanbad\",\"Karnataka\\u002fDharwad\",\"Uttar Pradesh\\u002fDhaurahra\",\"Odisha\\u002fDhenkanal\",\"Assam\\u002fDhubri\",\"Maharashtra\\u002fDhule\",\"West Bengal\\u002fDiamond harbour\",\"Assam\\u002fDibrugarh\",\"Maharashtra\\u002fDindori\",\"Assam\\u002fDiphu\",\"Uttar Pradesh\\u002fDomariyaganj\",\"West Bengal\\u002fDum dum\",\"Jharkhand\\u002fDumka\",\"Tamil Nadu\\u002fERODE\",\"NCT OF Delhi\\u002fEast Delhi\",\"Andhra Pradesh\\u002fEluru\",\"Kerala\\u002fErnakulam\",\"Uttar Pradesh\\u002fEtah\",\"Uttar Pradesh\\u002fEtawah\",\"Haryana\\u002fFARIDABAD\",\"Uttar Pradesh\\u002fFaizabad\",\"Punjab\\u002fFaridkot\",\"Uttar Pradesh\\u002fFarrukhabad\",\"Punjab\\u002fFatehgarh Sahib\",\"Uttar Pradesh\\u002fFatehpur\",\"Uttar Pradesh\\u002fFatehpur Sikri\",\"Uttar Pradesh\\u002fFirozabad\",\"Punjab\\u002fFirozpur\",\"Rajasthan\\u002fGANGANAGAR\",\"Madhya Pradesh\\u002fGUNA\",\"Haryana\\u002fGURGAON\",\"Madhya Pradesh\\u002fGWALIOR\",\"Maharashtra\\u002fGadchiroli - Chimur\",\"Gujarat\\u002fGandhinagar\",\"Uttarakhand\\u002fGarhwal\",\"Uttar Pradesh\\u002fGautam Buddha Nagar\",\"Bihar\\u002fGaya\",\"West Bengal\\u002fGhatal\",\"Uttar Pradesh\\u002fGhaziabad\",\"Uttar Pradesh\\u002fGhazipur\",\"Uttar Pradesh\\u002fGhosi\",\"Jharkhand\\u002fGiridih\",\"Jharkhand\\u002fGodda\",\"Uttar Pradesh\\u002fGonda\",\"Bihar\\u002fGopalganj\",\"Uttar Pradesh\\u002fGorakhpur\",\"Karnataka\\u002fGulbarga\",\"Andhra Pradesh\\u002fGuntur\",\"Punjab\\u002fGurdaspur\",\"Assam\\u002fGuwahati\",\"Himachal Pradesh\\u002fHAMIRPUR\",\"Haryana\\u002fHISAR\",\"Madhya Pradesh\\u002fHOSHANGABAD\",\"Bihar\\u002fHajipur\",\"Uttar Pradesh\\u002fHamirpur\",\"Uttar Pradesh\\u002fHardoi\",\"Uttarakhand\\u002fHaridwar\",\"Karnataka\\u002fHassan\",\"Uttar Pradesh\\u002fHathras\",\"Maharashtra\\u002fHatkanangale\",\"Karnataka\\u002fHaveri\",\"Jharkhand\\u002fHazaribagh\",\"Andhra Pradesh\\u002fHindupur\",\"Maharashtra\\u002fHingoli\",\"West Bengal\\u002fHooghly\",\"Punjab\\u002fHoshiarpur\",\"West Bengal\\u002fHowrah\",\"Telangana\\u002fHyderabad\",\"Madhya Pradesh\\u002fINDORE\",\"Kerala\\u002fIdukki\",\"Manipur\\u002fInner Manipur\",\"Madhya Pradesh\\u002fJABALPUR\",\"Rajasthan\\u002fJAIPUR\",\"Rajasthan\\u002fJAIPUR RURAL\",\"Rajasthan\\u002fJALORE\",\"Jammu and Kashmir\\u002fJAMMU\",\"Chhattisgarh\\u002fJANJGIR-CHAMPA\",\"Rajasthan\\u002fJHALAWAR-BARAN\",\"Rajasthan\\u002fJHUNJHUNU\",\"Rajasthan\\u002fJODHPUR\",\"West Bengal\\u002fJadavpur\",\"Odisha\\u002fJagatsinghpur\",\"Bihar\\u002fJahanabad\",\"Odisha\\u002fJajpur\",\"Punjab\\u002fJalandhar\",\"Uttar Pradesh\\u002fJalaun\",\"Maharashtra\\u002fJalgaon\",\"Maharashtra\\u002fJalna\",\"West Bengal\\u002fJalpaiguri\",\"Gujarat\\u002fJamnagar\",\"Jharkhand\\u002fJamshedpur\",\"Bihar\\u002fJamui\",\"West Bengal\\u002fJangipur\",\"Uttar Pradesh\\u002fJaunpur\",\"West Bengal\\u002fJaynagar\",\"Bihar\\u002fJhanjharpur\",\"Uttar Pradesh\\u002fJhansi\",\"West Bengal\\u002fJhargram\",\"Assam\\u002fJorhat\",\"Gujarat\\u002fJunagadh\",\"Tamil Nadu\\u002fKALLAKURICHI\",\"Tamil Nadu\\u002fKANCHEEPURAM\",\"Himachal Pradesh\\u002fKANGRA\",\"Chhattisgarh\\u002fKANKER\",\"Tamil Nadu\\u002fKANNIYAKUMARI\",\"Rajasthan\\u002fKARAULI-DHOLPUR\",\"Haryana\\u002fKARNAL\",\"Tamil Nadu\\u002fKARUR\",\"Madhya Pradesh\\u002fKHAJURAHO\",\"Madhya Pradesh\\u002fKHANDWA\",\"Madhya Pradesh\\u002fKHARGONE\",\"Chhattisgarh\\u002fKORBA\",\"Rajasthan\\u002fKOTA\",\"Tamil Nadu\\u002fKRISHNAGIRI\",\"Haryana\\u002fKURUKSHETRA\",\"Gujarat\\u002fKachchh\",\"Andhra Pradesh\\u002fKadapa\",\"Uttar Pradesh\\u002fKairana\",\"Uttar Pradesh\\u002fKaiserganj\",\"Andhra Pradesh\\u002fKakinada\",\"Odisha\\u002fKalahandi\",\"Maharashtra\\u002fKalyan\",\"Odisha\\u002fKandhamal\",\"Uttar Pradesh\\u002fKannauj\",\"Kerala\\u002fKannur\",\"Uttar Pradesh\\u002fKanpur\",\"West Bengal\\u002fKanthi\",\"Bihar\\u002fKarakat\",\"Assam\\u002fKarimganj\",\"Telangana\\u002fKarimnagar\",\"Kerala\\u002fKasaragod\",\"Bihar\\u002fKatihar\",\"Uttar Pradesh\\u002fKaushambi\",\"Assam\\u002fKaziranga\",\"Odisha\\u002fKendrapara\",\"Odisha\\u002fKeonjhar\",\"Punjab\\u002fKhadoor Sahib\",\"Bihar\\u002fKhagaria\",\"Telangana\\u002fKhammam\",\"Gujarat\\u002fKheda\",\"Uttar Pradesh\\u002fKheri\",\"Jharkhand\\u002fKhunti\",\"Bihar\\u002fKishanganj\",\"Jharkhand\\u002fKodarma\",\"Assam\\u002fKokrajhar\",\"Karnataka\\u002fKolar\",\"Maharashtra\\u002fKolhapur\",\"West Bengal\\u002fKolkata Dakshin\",\"West Bengal\\u002fKolkata Uttar\",\"Kerala\\u002fKollam\",\"Karnataka\\u002fKoppal\",\"Odisha\\u002fKoraput\",\"Kerala\\u002fKottayam\",\"Kerala\\u002fKozhikode\",\"West Bengal\\u002fKrishnanagar\",\"Andhra Pradesh\\u002fKurnoolu\",\"Uttar Pradesh\\u002fKushi Nagar\",\"Ladakh\\u002fLadakh\",\"Assam\\u002fLakhimpur\",\"Lakshadweep\\u002fLakshadweep\",\"Uttar Pradesh\\u002fLalganj\",\"Maharashtra\\u002fLatur\",\"Jharkhand\\u002fLohardaga\",\"Uttar Pradesh\\u002fLucknow\",\"Punjab\\u002fLudhiana\",\"Tamil Nadu\\u002fMADURAI\",\"Chhattisgarh\\u002fMAHASAMUND\",\"Himachal Pradesh\\u002fMANDI\",\"Madhya Pradesh\\u002fMANDLA\",\"Madhya Pradesh\\u002fMANDSOUR\",\"Tamil Nadu\\u002fMAYILADUTHURAI\",\"Mizoram\\u002fMIZORAM\",\"Madhya Pradesh\\u002fMORENA\",\"Uttar Pradesh\\u002fMachhlishahr\",\"Andhra Pradesh\\u002fMachilipatnam\",\"Maharashtra\\u002fMadha\",\"Bihar\\u002fMadhepura\",\"Bihar\\u002fMadhubani\",\"Telangana\\u002fMahabubabad\",\"Bihar\\u002fMaharajganj\",\"Uttar Pradesh\\u002fMaharajganj\",\"Telangana\\u002fMahbubnagar\",\"Gujarat\\u002fMahesana\",\"Uttar Pradesh\\u002fMainpuri\",\"Kerala\\u002fMalappuram\",\"West Bengal\\u002fMaldaha Dakshin\",\"West Bengal\\u002fMaldaha Uttar\",\"Telangana\\u002fMalkajgiri\",\"Karnataka\\u002fMandya\",\"Uttar Pradesh\\u002fMathura\",\"West Bengal\\u002fMathurapur\",\"Maharashtra\\u002fMaval\",\"Kerala\\u002fMavelikkara\",\"Odisha\\u002fMayurbhanj\",\"Telangana\\u002fMedak\",\"West Bengal\\u002fMedinipur\",\"Uttar Pradesh\\u002fMeerut\",\"Uttar Pradesh\\u002fMirzapur\",\"Uttar Pradesh\\u002fMisrikh\",\"Uttar Pradesh\\u002fMohanlalganj\",\"Uttar Pradesh\\u002fMoradabad\",\"Maharashtra\\u002fMumbai North\",\"Maharashtra\\u002fMumbai North Central\",\"Maharashtra\\u002fMumbai North East\",\"Maharashtra\\u002fMumbai North West\",\"Maharashtra\\u002fMumbai South\",\"Maharashtra\\u002fMumbai South Central\",\"Bihar\\u002fMunger\",\"West Bengal\\u002fMurshidabad\",\"Uttar Pradesh\\u002fMuzaffarnagar\",\"Bihar\\u002fMuzaffarpur\",\"Karnataka\\u002fMysore\",\"Tamil Nadu\\u002fNAGAPATTINAM\",\"Rajasthan\\u002fNAGAUR\",\"Tamil Nadu\\u002fNAMAKKAL\",\"Tamil Nadu\\u002fNILGIRIS\",\"Odisha\\u002fNabarangpur\",\"Nagaland\\u002fNagaland\",\"Assam\\u002fNagaon\",\"Telangana\\u002fNagarkurnool\",\"Uttar Pradesh\\u002fNagina\",\"Maharashtra\\u002fNagpur\",\"Uttarakhand\\u002fNainital-Udhamsingh Nagar\",\"Bihar\\u002fNalanda\",\"Telangana\\u002fNalgonda\",\"Maharashtra\\u002fNanded\",\"Maharashtra\\u002fNandurbar\",\"Andhra Pradesh\\u002fNandyal\",\"Andhra Pradesh\\u002fNarsapuram\",\"Andhra Pradesh\\u002fNarsaraopet\",\"Maharashtra\\u002fNashik\",\"Gujarat\\u002fNavsari\",\"Bihar\\u002fNawada\",\"Andhra Pradesh\\u002fNellore\",\"NCT OF Delhi\\u002fNew Delhi\",\"Telangana\\u002fNizamabad\",\"Goa\\u002fNorth Goa\",\"NCT OF Delhi\\u002fNorth-East Delhi\",\"NCT OF Delhi\\u002fNorth-West Delhi\",\"Andhra Pradesh\\u002fOngole\",\"Maharashtra\\u002fOsmanabad\",\"Manipur\\u002fOuter Manipur\",\"Rajasthan\\u002fPALI\",\"Tamil Nadu\\u002fPERAMBALUR\",\"Tamil Nadu\\u002fPOLLACHI\",\"Puducherry\\u002fPUDUCHERRY\",\"Kerala\\u002fPalakkad\",\"Jharkhand\\u002fPalamu\",\"Maharashtra\\u002fPalghar\",\"Gujarat\\u002fPanchmahal\",\"Maharashtra\\u002fParbhani\",\"Bihar\\u002fPaschim Champaran\",\"Gujarat\\u002fPatan\",\"Kerala\\u002fPathanamthitta\",\"Punjab\\u002fPatiala\",\"Bihar\\u002fPatliputra\",\"Bihar\\u002fPatna Sahib\",\"Telangana\\u002fPeddapalle\",\"Uttar Pradesh\\u002fPhulpur\",\"Uttar Pradesh\\u002fPilibhit\",\"Kerala\\u002fPonnani\",\"Gujarat\\u002fPorbandar\",\"Uttar Pradesh\\u002fPratapgarh\",\"Maharashtra\\u002fPune\",\"Odisha\\u002fPuri\",\"Bihar\\u002fPurnia\",\"West Bengal\\u002fPurulia\",\"Bihar\\u002fPurvi Champaran\",\"Chhattisgarh\\u002fRAIGARH\",\"Chhattisgarh\\u002fRAIPUR\",\"Madhya Pradesh\\u002fRAJGARH\",\"Chhattisgarh\\u002fRAJNANDGAON\",\"Rajasthan\\u002fRAJSAMAND\",\"Tamil Nadu\\u002fRAMANATHAPURAM\",\"Madhya Pradesh\\u002fRATLAM\",\"Madhya Pradesh\\u002fREWA\",\"Haryana\\u002fROHTAK\",\"Uttar Pradesh\\u002fRae Bareli\",\"Karnataka\\u002fRaichur\",\"Maharashtra\\u002fRaigad\",\"West Bengal\\u002fRaiganj\",\"Andhra Pradesh\\u002fRajahmundry\",\"Andhra Pradesh\\u002fRajampet\",\"Gujarat\\u002fRajkot\",\"Jharkhand\\u002fRajmahal\",\"Uttar Pradesh\\u002fRampur\",\"Maharashtra\\u002fRamtek\",\"West Bengal\\u002fRanaghat\",\"Jharkhand\\u002fRanchi\",\"Maharashtra\\u002fRatnagiri- Sindhudurg\",\"Maharashtra\\u002fRaver\",\"Uttar Pradesh\\u002fRobertsganj\",\"Madhya Pradesh\\u002fSAGAR\",\"Tamil Nadu\\u002fSALEM\",\"Madhya Pradesh\\u002fSATNA\",\"Madhya Pradesh\\u002fSHAHDOL\",\"Himachal Pradesh\\u002fSHIMLA\",\"Madhya Pradesh\\u002fSIDHI\",\"Rajasthan\\u002fSIKAR\",\"Haryana\\u002fSIRSA\",\"Tamil Nadu\\u002fSIVAGANGA\",\"Haryana\\u002fSONIPAT\",\"Jammu and Kashmir\\u002fSRINAGAR\",\"Tamil Nadu\\u002fSRIPERUMBUDUR\",\"Chhattisgarh\\u002fSURGUJA\",\"Gujarat\\u002fSabarkantha\",\"Uttar Pradesh\\u002fSaharanpur\",\"Uttar Pradesh\\u002fSalempur\",\"Bihar\\u002fSamastipur\",\"Odisha\\u002fSambalpur\",\"Uttar Pradesh\\u002fSambhal\",\"Maharashtra\\u002fSangli\",\"Punjab\\u002fSangrur\",\"Uttar Pradesh\\u002fSant Kabir Nagar\",\"Bihar\\u002fSaran\",\"Bihar\\u002fSasaram\",\"Maharashtra\\u002fSatara\",\"Telangana\\u002fSecunderabad\",\"Uttar Pradesh\\u002fShahjahanpur\",\"Bihar\\u002fSheohar\",\"Meghalaya\\u002fShillong\",\"Karnataka\\u002fShimoga\",\"Maharashtra\\u002fShirdi\",\"Maharashtra\\u002fShirur\",\"Uttar Pradesh\\u002fShrawasti\",\"Sikkim\\u002fSikkim\",\"Assam\\u002fSilchar\",\"Jharkhand\\u002fSinghbhum\",\"Bihar\\u002fSitamarhi\",\"Uttar Pradesh\\u002fSitapur\",\"Bihar\\u002fSiwan\",\"Maharashtra\\u002fSolapur\",\"Assam\\u002fSonitpur\",\"NCT OF Delhi\\u002fSouth Delhi\",\"Goa\\u002fSouth Goa\",\"West Bengal\\u002fSreerampur\",\"Andhra Pradesh\\u002fSrikakulam\",\"Uttar Pradesh\\u002fSultanpur\",\"Odisha\\u002fSundargarh\",\"Bihar\\u002fSupaul\",\"Gujarat\\u002fSurendranagar\",\"Tamil Nadu\\u002fTENKASI\",\"Tamil Nadu\\u002fTHANJAVUR\",\"Tamil Nadu\\u002fTHENI\",\"Tamil Nadu\\u002fTHOOTHUKKUDI\",\"Madhya Pradesh\\u002fTIKAMGARH\",\"Tamil Nadu\\u002fTIRUCHIRAPPALLI\",\"Tamil Nadu\\u002fTIRUNELVELI\",\"Tamil Nadu\\u002fTIRUPPUR\",\"Tamil Nadu\\u002fTIRUVALLUR\",\"Tamil Nadu\\u002fTIRUVANNAMALAI\",\"Rajasthan\\u002fTONK-SAWAI MADHOPUR\",\"West Bengal\\u002fTamluk\",\"Uttarakhand\\u002fTehri Garhwal\",\"Maharashtra\\u002fThane\",\"Andhra Pradesh\\u002fThirupathi\",\"Kerala\\u002fThiruvananthapuram\",\"Kerala\\u002fThrissur\",\"Tripura\\u002fTripura East\",\"Tripura\\u002fTripura West\",\"Karnataka\\u002fTumkur\",\"Meghalaya\\u002fTura\",\"Rajasthan\\u002fUDAIPUR\",\"Jammu and Kashmir\\u002fUDHAMPUR\",\"Madhya Pradesh\\u002fUJJAIN\",\"Karnataka\\u002fUdupi Chikmagalur\",\"Bihar\\u002fUjiarpur\",\"West Bengal\\u002fUluberia\",\"Uttar Pradesh\\u002fUnnao\",\"Karnataka\\u002fUttara Kannada\",\"Tamil Nadu\\u002fVELLORE\",\"Madhya Pradesh\\u002fVIDISHA\",\"Tamil Nadu\\u002fVILUPPURAM\",\"Tamil Nadu\\u002fVIRUDHUNAGAR\",\"Kerala\\u002fVadakara\",\"Gujarat\\u002fVadodara\",\"Bihar\\u002fVaishali\",\"Bihar\\u002fValmiki Nagar\",\"Gujarat\\u002fValsad\",\"Uttar Pradesh\\u002fVaranasi\",\"Andhra Pradesh\\u002fVijayawada\",\"Andhra Pradesh\\u002fVisakhapatnam\",\"Andhra Pradesh\\u002fVizianagaram\",\"Telangana\\u002fWarangal\",\"Maharashtra\\u002fWardha\",\"Kerala\\u002fWayanad\",\"NCT OF Delhi\\u002fWest Delhi\",\"Maharashtra\\u002fYavatmal- Washim\",\"Telangana\\u002fZahirabad\",\"Andaman & Nicobar Islands\",\"Andhra Pradesh\",\"Arunachal Pradesh\",\"Assam\",\"Bihar\",\"Chandigarh\",\"Chhattisgarh\",\"Dadra & Nagar Haveli and Daman & Diu\",\"Goa\",\"Gujarat\",\"Haryana\",\"Himachal Pradesh\",\"Jammu and Kashmir\",\"Jharkhand\",\"Karnataka\",\"Kerala\",\"Ladakh\",\"Lakshadweep\",\"Madhya Pradesh\",\"Maharashtra\",\"Manipur\",\"Meghalaya\",\"Mizoram\",\"NCT OF Delhi\",\"Nagaland\",\"Odisha\",\"Puducherry\",\"Punjab\",\"Rajasthan\",\"Sikkim\",\"Tamil Nadu\",\"Telangana\",\"Tripura\",\"Uttar Pradesh\",\"Uttarakhand\",\"West Bengal\"],\"labels\":[\"AJMER\",\"ALWAR\",\"AMBALA\",\"ANANTNAG-RAJOURI\",\"ARAKKONAM\",\"ARANI\",\"Adilabad\",\"Agra\",\"Ahmedabad East\",\"Ahmedabad West\",\"Ahmednagar\",\"Akbarpur\",\"Akola\",\"Alappuzha\",\"Alathur\",\"Aligarh\",\"Alipurduars\",\"Allahabad\",\"Almora\",\"Amalapuram\",\"Ambedkar Nagar\",\"Amethi\",\"Amravati\",\"Amreli\",\"Amritsar\",\"Amroha\",\"Anakapalle\",\"Anand\",\"Anandpur Sahib\",\"Ananthapur\",\"Andaman & Nicobar Islands\",\"Aonla\",\"Araku\",\"Arambag\",\"Araria\",\"Arrah\",\"Arunachal East\",\"Arunachal West\",\"Asansol\",\"Aska\",\"Attingal\",\"Aurangabad\",\"Aurangabad\",\"Azamgarh\",\"BALAGHAT\",\"BANSWARA\",\"BARAMULLA\",\"BARMER\",\"BASTAR\",\"BETUL\",\"BHARATPUR\",\"BHILWARA\",\"BHIND\",\"BHIWANI-MAHENDRAGARH\",\"BHOPAL\",\"BIKANER\",\"BILASPUR\",\"Badaun\",\"Bagalkot\",\"Baghpat\",\"Baharaich\",\"Baharampur\",\"Balasore\",\"Ballia\",\"Balurghat\",\"Banaskantha\",\"Banda\",\"Bangalore North\",\"Bangalore Rural\",\"Bangalore South\",\"Bangalore central\",\"Bangaon\",\"Banka\",\"Bankura\",\"Bansgaon\",\"Bapatla\",\"Barabanki\",\"Baramati\",\"Barasat\",\"Bardhaman Purba\",\"Bardhaman-Durgapur\",\"Bardoli\",\"Bareilly\",\"Bargarh\",\"Barpeta\",\"Barrackpur\",\"Basirhat\",\"Basti\",\"Bathinda\",\"Beed\",\"Begusarai\",\"Belgaum\",\"Bellary\",\"Berhampur\",\"Bhadohi\",\"Bhadrak\",\"Bhagalpur\",\"Bhandara Gondiya\",\"Bharuch\",\"Bhavnagar\",\"Bhiwandi\",\"Bhongir\",\"Bhubaneswar\",\"Bidar\",\"Bijapur\",\"Bijnor\",\"Birbhum\",\"Bishnupur\",\"Bolangir\",\"Bolpur\",\"Bulandshahr\",\"Buldhana\",\"Buxar\",\"CHENNAI CENTRAL\",\"CHENNAI NORTH\",\"CHENNAI SOUTH\",\"CHHINDWARA\",\"CHIDAMBARAM\",\"CHITTORGARH\",\"CHURU\",\"COIMBATORE\",\"CUDDALORE\",\"Chalakudy\",\"Chamarajanagar\",\"Chandauli\",\"Chandigarh\",\"Chandni Chowk\",\"Chandrapur\",\"Chatra\",\"Chevella\",\"Chhota Udaipur\",\"Chikkballapur\",\"Chikkodi\",\"Chitradurga\",\"Chittoor\",\"Coochbehar\",\"Cuttack\",\"DAMOH\",\"DAUSA\",\"DEWAS\",\"DHAR\",\"DHARMAPURI\",\"DINDIGUL\",\"DURG\",\"Dadar & Nagar Haveli\",\"Dahod\",\"Dakshina Kannada\",\"Daman & Diu\",\"Darbhanga\",\"Darjeeling\",\"Darrang-Udalguri\",\"Davanagere\",\"Deoria\",\"Dhanbad\",\"Dharwad\",\"Dhaurahra\",\"Dhenkanal\",\"Dhubri\",\"Dhule\",\"Diamond harbour\",\"Dibrugarh\",\"Dindori\",\"Diphu\",\"Domariyaganj\",\"Dum dum\",\"Dumka\",\"ERODE\",\"East Delhi\",\"Eluru\",\"Ernakulam\",\"Etah\",\"Etawah\",\"FARIDABAD\",\"Faizabad\",\"Faridkot\",\"Farrukhabad\",\"Fatehgarh Sahib\",\"Fatehpur\",\"Fatehpur Sikri\",\"Firozabad\",\"Firozpur\",\"GANGANAGAR\",\"GUNA\",\"GURGAON\",\"GWALIOR\",\"Gadchiroli - Chimur\",\"Gandhinagar\",\"Garhwal\",\"Gautam Buddha Nagar\",\"Gaya\",\"Ghatal\",\"Ghaziabad\",\"Ghazipur\",\"Ghosi\",\"Giridih\",\"Godda\",\"Gonda\",\"Gopalganj\",\"Gorakhpur\",\"Gulbarga\",\"Guntur\",\"Gurdaspur\",\"Guwahati\",\"HAMIRPUR\",\"HISAR\",\"HOSHANGABAD\",\"Hajipur\",\"Hamirpur\",\"Hardoi\",\"Haridwar\",\"Hassan\",\"Hathras\",\"Hatkanangale\",\"Haveri\",\"Hazaribagh\",\"Hindupur\",\"Hingoli\",\"Hooghly\",\"Hoshiarpur\",\"Howrah\",\"Hyderabad\",\"INDORE\",\"Idukki\",\"Inner Manipur\",\"JABALPUR\",\"JAIPUR\",\"JAIPUR RURAL\",\"JALORE\",\"JAMMU\",\"JANJGIR-CHAMPA\",\"JHALAWAR-BARAN\",\"JHUNJHUNU\",\"JODHPUR\",\"Jadavpur\",\"Jagatsinghpur\",\"Jahanabad\",\"Jajpur\",\"Jalandhar\",\"Jalaun\",\"Jalgaon\",\"Jalna\",\"Jalpaiguri\",\"Jamnagar\",\"Jamshedpur\",\"Jamui\",\"Jangipur\",\"Jaunpur\",\"Jaynagar\",\"Jhanjharpur\",\"Jhansi\",\"Jhargram\",\"Jorhat\",\"Junagadh\",\"KALLAKURICHI\",\"KANCHEEPURAM\",\"KANGRA\",\"KANKER\",\"KANNIYAKUMARI\",\"KARAULI-DHOLPUR\",\"KARNAL\",\"KARUR\",\"KHAJURAHO\",\"KHANDWA\",\"KHARGONE\",\"KORBA\",\"KOTA\",\"KRISHNAGIRI\",\"KURUKSHETRA\",\"Kachchh\",\"Kadapa\",\"Kairana\",\"Kaiserganj\",\"Kakinada\",\"Kalahandi\",\"Kalyan\",\"Kandhamal\",\"Kannauj\",\"Kannur\",\"Kanpur\",\"Kanthi\",\"Karakat\",\"Karimganj\",\"Karimnagar\",\"Kasaragod\",\"Katihar\",\"Kaushambi\",\"Kaziranga\",\"Kendrapara\",\"Keonjhar\",\"Khadoor Sahib\",\"Khagaria\",\"Khammam\",\"Kheda\",\"Kheri\",\"Khunti\",\"Kishanganj\",\"Kodarma\",\"Kokrajhar\",\"Kolar\",\"Kolhapur\",\"Kolkata Dakshin\",\"Kolkata Uttar\",\"Kollam\",\"Koppal\",\"Koraput\",\"Kottayam\",\"Kozhikode\",\"Krishnanagar\",\"Kurnoolu\",\"Kushi Nagar\",\"Ladakh\",\"Lakhimpur\",\"Lakshadweep\",\"Lalganj\",\"Latur\",\"Lohardaga\",\"Lucknow\",\"Ludhiana\",\"MADURAI\",\"MAHASAMUND\",\"MANDI\",\"MANDLA\",\"MANDSOUR\",\"MAYILADUTHURAI\",\"MIZORAM\",\"MORENA\",\"Machhlishahr\",\"Machilipatnam\",\"Madha\",\"Madhepura\",\"Madhubani\",\"Mahabubabad\",\"Maharajganj\",\"Maharajganj\",\"Mahbubnagar\",\"Mahesana\",\"Mainpuri\",\"Malappuram\",\"Maldaha Dakshin\",\"Maldaha Uttar\",\"Malkajgiri\",\"Mandya\",\"Mathura\",\"Mathurapur\",\"Maval\",\"Mavelikkara\",\"Mayurbhanj\",\"Medak\",\"Medinipur\",\"Meerut\",\"Mirzapur\",\"Misrikh\",\"Mohanlalganj\",\"Moradabad\",\"Mumbai North\",\"Mumbai North Central\",\"Mumbai North East\",\"Mumbai North West\",\"Mumbai South\",\"Mumbai South Central\",\"Munger\",\"Murshidabad\",\"Muzaffarnagar\",\"Muzaffarpur\",\"Mysore\",\"NAGAPATTINAM\",\"NAGAUR\",\"NAMAKKAL\",\"NILGIRIS\",\"Nabarangpur\",\"Nagaland\",\"Nagaon\",\"Nagarkurnool\",\"Nagina\",\"Nagpur\",\"Nainital-Udhamsingh Nagar\",\"Nalanda\",\"Nalgonda\",\"Nanded\",\"Nandurbar\",\"Nandyal\",\"Narsapuram\",\"Narsaraopet\",\"Nashik\",\"Navsari\",\"Nawada\",\"Nellore\",\"New Delhi\",\"Nizamabad\",\"North Goa\",\"North-East Delhi\",\"North-West Delhi\",\"Ongole\",\"Osmanabad\",\"Outer Manipur\",\"PALI\",\"PERAMBALUR\",\"POLLACHI\",\"PUDUCHERRY\",\"Palakkad\",\"Palamu\",\"Palghar\",\"Panchmahal\",\"Parbhani\",\"Paschim Champaran\",\"Patan\",\"Pathanamthitta\",\"Patiala\",\"Patliputra\",\"Patna Sahib\",\"Peddapalle\",\"Phulpur\",\"Pilibhit\",\"Ponnani\",\"Porbandar\",\"Pratapgarh\",\"Pune\",\"Puri\",\"Purnia\",\"Purulia\",\"Purvi Champaran\",\"RAIGARH\",\"RAIPUR\",\"RAJGARH\",\"RAJNANDGAON\",\"RAJSAMAND\",\"RAMANATHAPURAM\",\"RATLAM\",\"REWA\",\"ROHTAK\",\"Rae Bareli\",\"Raichur\",\"Raigad\",\"Raiganj\",\"Rajahmundry\",\"Rajampet\",\"Rajkot\",\"Rajmahal\",\"Rampur\",\"Ramtek\",\"Ranaghat\",\"Ranchi\",\"Ratnagiri- Sindhudurg\",\"Raver\",\"Robertsganj\",\"SAGAR\",\"SALEM\",\"SATNA\",\"SHAHDOL\",\"SHIMLA\",\"SIDHI\",\"SIKAR\",\"SIRSA\",\"SIVAGANGA\",\"SONIPAT\",\"SRINAGAR\",\"SRIPERUMBUDUR\",\"SURGUJA\",\"Sabarkantha\",\"Saharanpur\",\"Salempur\",\"Samastipur\",\"Sambalpur\",\"Sambhal\",\"Sangli\",\"Sangrur\",\"Sant Kabir Nagar\",\"Saran\",\"Sasaram\",\"Satara\",\"Secunderabad\",\"Shahjahanpur\",\"Sheohar\",\"Shillong\",\"Shimoga\",\"Shirdi\",\"Shirur\",\"Shrawasti\",\"Sikkim\",\"Silchar\",\"Singhbhum\",\"Sitamarhi\",\"Sitapur\",\"Siwan\",\"Solapur\",\"Sonitpur\",\"South Delhi\",\"South Goa\",\"Sreerampur\",\"Srikakulam\",\"Sultanpur\",\"Sundargarh\",\"Supaul\",\"Surendranagar\",\"TENKASI\",\"THANJAVUR\",\"THENI\",\"THOOTHUKKUDI\",\"TIKAMGARH\",\"TIRUCHIRAPPALLI\",\"TIRUNELVELI\",\"TIRUPPUR\",\"TIRUVALLUR\",\"TIRUVANNAMALAI\",\"TONK-SAWAI MADHOPUR\",\"Tamluk\",\"Tehri Garhwal\",\"Thane\",\"Thirupathi\",\"Thiruvananthapuram\",\"Thrissur\",\"Tripura East\",\"Tripura West\",\"Tumkur\",\"Tura\",\"UDAIPUR\",\"UDHAMPUR\",\"UJJAIN\",\"Udupi Chikmagalur\",\"Ujiarpur\",\"Uluberia\",\"Unnao\",\"Uttara Kannada\",\"VELLORE\",\"VIDISHA\",\"VILUPPURAM\",\"VIRUDHUNAGAR\",\"Vadakara\",\"Vadodara\",\"Vaishali\",\"Valmiki Nagar\",\"Valsad\",\"Varanasi\",\"Vijayawada\",\"Visakhapatnam\",\"Vizianagaram\",\"Warangal\",\"Wardha\",\"Wayanad\",\"West Delhi\",\"Yavatmal- Washim\",\"Zahirabad\",\"Andaman & Nicobar Islands\",\"Andhra Pradesh\",\"Arunachal Pradesh\",\"Assam\",\"Bihar\",\"Chandigarh\",\"Chhattisgarh\",\"Dadra & Nagar Haveli and Daman & Diu\",\"Goa\",\"Gujarat\",\"Haryana\",\"Himachal Pradesh\",\"Jammu and Kashmir\",\"Jharkhand\",\"Karnataka\",\"Kerala\",\"Ladakh\",\"Lakshadweep\",\"Madhya Pradesh\",\"Maharashtra\",\"Manipur\",\"Meghalaya\",\"Mizoram\",\"NCT OF Delhi\",\"Nagaland\",\"Odisha\",\"Puducherry\",\"Punjab\",\"Rajasthan\",\"Sikkim\",\"Tamil Nadu\",\"Telangana\",\"Tripura\",\"Uttar Pradesh\",\"Uttarakhand\",\"West Bengal\"],\"marker\":{\"coloraxis\":\"coloraxis\",\"colors\":[1999399.0,2075093.0,2003510.0,1849517.0,1568140.0,1499659.0,1652394.0,2075821.0,2040263.0,1727645.0,1988934.0,1875912.0,1894657.0,1406689.0,1340183.0,2002868.0,1778463.0,1828159.0,1368432.0,1532229.0,1913756.0,1798715.0,1838767.0,1733367.0,1617542.0,1720677.0,1601365.0,1780709.0,1740606.0,1769264.0,315745.0,1893622.0,1557153.0,1885001.0,2019757.0,2183625.0,378357.0,520085.0,1771875.0,1623404.0,1401114.0,1875809.0,2061220.0,1871946.0,1875760.0,2200607.0,1744525.0,2208630.0,1473810.0,1897989.0,2124971.0,2148657.0,1913389.0,1821764.0,2339411.0,2050748.0,2103937.0,2010304.0,1810090.0,1665208.0,1839281.0,1789424.0,1610043.0,1936995.0,1563941.0,1963312.0,1749034.0,3215291.0,2802956.0,2341895.0,2434254.0,1841292.0,1859967.0,1785138.0,1825711.0,1511177.0,1919282.0,2374884.0,1907604.0,1803240.0,1853336.0,2048788.0,1926167.0,1633893.0,1979051.0,1512101.0,1805874.0,1904843.0,1659163.0,2147063.0,2200435.0,1931746.0,1884472.0,1595228.0,2039941.0,1773928.0,1988207.0,1830399.0,1723670.0,1918394.0,2087604.0,1809241.0,1675019.0,1894364.0,1947976.0,1743213.0,1859447.0,1758481.0,1803544.0,1842192.0,1867981.0,1787095.0,1934352.0,1350334.0,1496459.0,2023381.0,1634721.0,1520970.0,2170738.0,2222213.0,2106500.0,1413170.0,1311257.0,1778667.0,1850547.0,660552.0,1646467.0,1839760.0,1692698.0,2939057.0,1822437.0,1981767.0,1770523.0,1857385.0,1643593.0,1970743.0,1574979.0,1926000.0,1903520.0,1943559.0,1955117.0,1526799.0,1608624.0,2092551.0,283035.0,1876247.0,1818127.0,134201.0,1782853.0,1776898.0,2214516.0,1709809.0,1877227.0,2290354.0,1834015.0,1719979.0,1533702.0,2663987.0,2025275.0,1881552.0,1661998.0,1857924.0,902050.0,1962205.0,1700882.0,1592192.0,1538960.0,2121610.0,1638116.0,1324757.0,1703935.0,1834489.0,2436637.0,1929399.0,1599861.0,1751985.0,1557201.0,1942597.0,1807314.0,1896052.0,1674979.0,2103968.0,1890695.0,2584982.0,2160206.0,1618690.0,2183402.0,1404233.0,2681482.0,1821330.0,1942313.0,2948720.0,2088636.0,2090637.0,1866763.0,2030444.0,1843873.0,2027054.0,2101746.0,2098778.0,1793324.0,1627611.0,2039765.0,1456099.0,1799539.0,1858158.0,1972915.0,1841604.0,1911779.0,2041472.0,1738818.0,1946138.0,1818396.0,1794394.0,1942771.0,1658529.0,1819082.0,1860103.0,1618186.0,1769973.0,2217305.0,2527978.0,1251172.0,1001115.0,1898180.0,2288793.0,2194555.0,2297692.0,1818657.0,2058260.0,2030974.0,2097732.0,2138241.0,2034251.0,1703489.0,1678716.0,1548594.0,1655868.0,2010583.0,2000402.0,1969953.0,1889840.0,1818959.0,1871388.0,1910619.0,1807556.0,1979004.0,1845363.0,2005278.0,2162404.0,1782435.0,1732944.0,1796532.0,1569097.0,1749192.0,1524032.0,1659374.0,1566048.0,1980182.0,2109702.0,1430499.0,1998536.0,2112874.0,2046409.0,1620051.0,2088853.0,1627851.0,1799822.0,1943633.0,1641349.0,1727579.0,1906032.0,1634921.0,1702038.0,2082800.0,1340580.0,1993616.0,1363080.0,1664794.0,1797658.0,1888005.0,1414520.0,1798168.0,1455530.0,1834512.0,1912536.0,2053805.0,1795725.0,1589941.0,1680035.0,1843767.0,1631952.0,2008281.0,1871224.0,1329423.0,1830197.0,2207845.0,1494404.0,1728198.0,1942725.0,1850115.0,1505686.0,1330873.0,1867016.0,1481642.0,1256138.0,1432508.0,1762599.0,1724191.0,1876962.0,190576.0,1580500.0,57953.0,1841110.0,1980409.0,1448225.0,2173953.0,1760756.0,1583250.0,1763698.0,1377173.0,2103244.0,1900808.0,1546075.0,861327.0,2015928.0,1943763.0,1540045.0,1996298.0,2073608.0,1936759.0,1533858.0,1942449.0,2007065.0,1683709.0,1772048.0,1798051.0,1480714.0,1784407.0,1864285.0,3780453.0,1780149.0,1939130.0,1818113.0,2585776.0,1339159.0,1546274.0,1828717.0,1813205.0,2005669.0,1909448.0,1879798.0,2189866.0,2062642.0,1812115.0,1744297.0,1637292.0,1735295.0,1536443.0,1474660.0,2051829.0,1890589.0,1823717.0,1869072.0,2094310.0,1345708.0,2155502.0,1452952.0,1428889.0,1514610.0,1325383.0,1821023.0,1739310.0,1647310.0,2224282.0,2026438.0,2293994.0,1726204.0,1853532.0,1971324.0,1724191.0,1473811.0,1736162.0,2033175.0,2223804.0,2010286.0,1712840.0,1526694.0,1705591.0,580710.0,2464397.0,2569274.0,1614525.0,1996484.0,1050242.0,2348274.0,1447197.0,1597717.0,1024024.0,1400914.0,2248082.0,2148850.0,1898234.0,2124497.0,1759234.0,2021772.0,1433956.0,1811580.0,2080613.0,2295527.0,1597892.0,2071536.0,1833961.0,1471260.0,1769594.0,1836748.0,2062172.0,1589698.0,1895036.0,1825625.0,1793440.0,1840847.0,2376030.0,1876672.0,1869229.0,2064478.0,1619761.0,2095109.0,1859439.0,1913628.0,1788731.0,2010441.0,1669722.0,1791574.0,1623852.0,1667385.0,2112726.0,1705708.0,1733243.0,2050952.0,1877599.0,2202528.0,1452664.0,1823827.0,1780728.0,1746640.0,1659269.0,1708823.0,1778158.0,1354665.0,2030095.0,2232334.0,1941319.0,1635655.0,1777008.0,1748803.0,2382578.0,1820880.0,1980797.0,1857816.0,1784412.0,1820016.0,1501538.0,1899292.0,1874176.0,1563808.0,2076050.0,1800790.0,1914914.0,1899325.0,2120550.0,2333143.0,1834437.0,1402892.0,1753615.0,1680067.0,2541750.0,1980743.0,466643.0,1374559.0,1449471.0,1950028.0,1760367.0,1901956.0,2031921.0,1638992.0,2293698.0,598934.0,1928256.0,1646686.0,1855602.0,1579096.0,1928887.0,2035001.0,1529130.0,1502056.0,1630328.0,1461182.0,1827976.0,1554620.0,1656265.0,1608720.0,2086686.0,1536993.0,2150616.0,1853363.0,1590526.0,2508072.0,1730318.0,1434657.0,1483783.0,1401443.0,1469453.0,1661834.0,827559.0,2231240.0,1640846.0,1800347.0,1585721.0,1748377.0,1742388.0,2344843.0,1645721.0,1534347.0,1946631.0,1503959.0,1505927.0,1424792.0,1950123.0,1871877.0,1829052.0,1860207.0,1999861.0,1704469.0,1931398.0,1590994.0,1825492.0,1684292.0,1464472.0,2592498.0,1942461.0,1642425.0,315745.0,1682046.6187881317,470053.6532489937,1883785.389906961,1960003.6658251581,660552.0,2002274.1402614727,223654.73571614834,589962.7688149984,1948091.7270437204,2050875.997067518,1442229.4490797096,1772698.25336254,1934175.6846856098,2045404.2308809035,1391124.2645312077,190576.0,57953.0,1986281.5951437785,2014539.6503487702,1021333.2474115022,1240498.1634678845,861327.0,2279534.564915832,1325383.0,1613175.2799283194,1024024.0,1673258.6679781042,2160622.5008472227,466643.0,1641333.4956850691,2105875.8459700746,1436253.560372093,1968408.187285607,1762478.2075254251,1814754.938498397]},\"name\":\"\",\"parents\":[\"Rajasthan\",\"Rajasthan\",\"Haryana\",\"Jammu and Kashmir\",\"Tamil Nadu\",\"Tamil Nadu\",\"Telangana\",\"Uttar Pradesh\",\"Gujarat\",\"Gujarat\",\"Maharashtra\",\"Uttar Pradesh\",\"Maharashtra\",\"Kerala\",\"Kerala\",\"Uttar Pradesh\",\"West Bengal\",\"Uttar Pradesh\",\"Uttarakhand\",\"Andhra Pradesh\",\"Uttar Pradesh\",\"Uttar Pradesh\",\"Maharashtra\",\"Gujarat\",\"Punjab\",\"Uttar Pradesh\",\"Andhra Pradesh\",\"Gujarat\",\"Punjab\",\"Andhra Pradesh\",\"Andaman & Nicobar Islands\",\"Uttar Pradesh\",\"Andhra Pradesh\",\"West Bengal\",\"Bihar\",\"Bihar\",\"Arunachal Pradesh\",\"Arunachal Pradesh\",\"West Bengal\",\"Odisha\",\"Kerala\",\"Bihar\",\"Maharashtra\",\"Uttar Pradesh\",\"Madhya Pradesh\",\"Rajasthan\",\"Jammu and Kashmir\",\"Rajasthan\",\"Chhattisgarh\",\"Madhya Pradesh\",\"Rajasthan\",\"Rajasthan\",\"Madhya Pradesh\",\"Haryana\",\"Madhya Pradesh\",\"Rajasthan\",\"Chhattisgarh\",\"Uttar Pradesh\",\"Karnataka\",\"Uttar Pradesh\",\"Uttar Pradesh\",\"West Bengal\",\"Odisha\",\"Uttar Pradesh\",\"West Bengal\",\"Gujarat\",\"Uttar Pradesh\",\"Karnataka\",\"Karnataka\",\"Karnataka\",\"Karnataka\",\"West Bengal\",\"Bihar\",\"West Bengal\",\"Uttar Pradesh\",\"Andhra Pradesh\",\"Uttar Pradesh\",\"Maharashtra\",\"West Bengal\",\"West Bengal\",\"West Bengal\",\"Gujarat\",\"Uttar Pradesh\",\"Odisha\",\"Assam\",\"West Bengal\",\"West Bengal\",\"Uttar Pradesh\",\"Punjab\",\"Maharashtra\",\"Bihar\",\"Karnataka\",\"Karnataka\",\"Odisha\",\"Uttar Pradesh\",\"Odisha\",\"Bihar\",\"Maharashtra\",\"Gujarat\",\"Gujarat\",\"Maharashtra\",\"Telangana\",\"Odisha\",\"Karnataka\",\"Karnataka\",\"Uttar Pradesh\",\"West Bengal\",\"West Bengal\",\"Odisha\",\"West Bengal\",\"Uttar Pradesh\",\"Maharashtra\",\"Bihar\",\"Tamil Nadu\",\"Tamil Nadu\",\"Tamil Nadu\",\"Madhya Pradesh\",\"Tamil Nadu\",\"Rajasthan\",\"Rajasthan\",\"Tamil Nadu\",\"Tamil Nadu\",\"Kerala\",\"Karnataka\",\"Uttar Pradesh\",\"Chandigarh\",\"NCT OF Delhi\",\"Maharashtra\",\"Jharkhand\",\"Telangana\",\"Gujarat\",\"Karnataka\",\"Karnataka\",\"Karnataka\",\"Andhra Pradesh\",\"West Bengal\",\"Odisha\",\"Madhya Pradesh\",\"Rajasthan\",\"Madhya Pradesh\",\"Madhya Pradesh\",\"Tamil Nadu\",\"Tamil Nadu\",\"Chhattisgarh\",\"Dadra & Nagar Haveli and Daman & Diu\",\"Gujarat\",\"Karnataka\",\"Dadra & Nagar Haveli and Daman & Diu\",\"Bihar\",\"West Bengal\",\"Assam\",\"Karnataka\",\"Uttar Pradesh\",\"Jharkhand\",\"Karnataka\",\"Uttar Pradesh\",\"Odisha\",\"Assam\",\"Maharashtra\",\"West Bengal\",\"Assam\",\"Maharashtra\",\"Assam\",\"Uttar Pradesh\",\"West Bengal\",\"Jharkhand\",\"Tamil Nadu\",\"NCT OF Delhi\",\"Andhra Pradesh\",\"Kerala\",\"Uttar Pradesh\",\"Uttar Pradesh\",\"Haryana\",\"Uttar Pradesh\",\"Punjab\",\"Uttar Pradesh\",\"Punjab\",\"Uttar Pradesh\",\"Uttar Pradesh\",\"Uttar Pradesh\",\"Punjab\",\"Rajasthan\",\"Madhya Pradesh\",\"Haryana\",\"Madhya Pradesh\",\"Maharashtra\",\"Gujarat\",\"Uttarakhand\",\"Uttar Pradesh\",\"Bihar\",\"West Bengal\",\"Uttar Pradesh\",\"Uttar Pradesh\",\"Uttar Pradesh\",\"Jharkhand\",\"Jharkhand\",\"Uttar Pradesh\",\"Bihar\",\"Uttar Pradesh\",\"Karnataka\",\"Andhra Pradesh\",\"Punjab\",\"Assam\",\"Himachal Pradesh\",\"Haryana\",\"Madhya Pradesh\",\"Bihar\",\"Uttar Pradesh\",\"Uttar Pradesh\",\"Uttarakhand\",\"Karnataka\",\"Uttar Pradesh\",\"Maharashtra\",\"Karnataka\",\"Jharkhand\",\"Andhra Pradesh\",\"Maharashtra\",\"West Bengal\",\"Punjab\",\"West Bengal\",\"Telangana\",\"Madhya Pradesh\",\"Kerala\",\"Manipur\",\"Madhya Pradesh\",\"Rajasthan\",\"Rajasthan\",\"Rajasthan\",\"Jammu and Kashmir\",\"Chhattisgarh\",\"Rajasthan\",\"Rajasthan\",\"Rajasthan\",\"West Bengal\",\"Odisha\",\"Bihar\",\"Odisha\",\"Punjab\",\"Uttar Pradesh\",\"Maharashtra\",\"Maharashtra\",\"West Bengal\",\"Gujarat\",\"Jharkhand\",\"Bihar\",\"West Bengal\",\"Uttar Pradesh\",\"West Bengal\",\"Bihar\",\"Uttar Pradesh\",\"West Bengal\",\"Assam\",\"Gujarat\",\"Tamil Nadu\",\"Tamil Nadu\",\"Himachal Pradesh\",\"Chhattisgarh\",\"Tamil Nadu\",\"Rajasthan\",\"Haryana\",\"Tamil Nadu\",\"Madhya Pradesh\",\"Madhya Pradesh\",\"Madhya Pradesh\",\"Chhattisgarh\",\"Rajasthan\",\"Tamil Nadu\",\"Haryana\",\"Gujarat\",\"Andhra Pradesh\",\"Uttar Pradesh\",\"Uttar Pradesh\",\"Andhra Pradesh\",\"Odisha\",\"Maharashtra\",\"Odisha\",\"Uttar Pradesh\",\"Kerala\",\"Uttar Pradesh\",\"West Bengal\",\"Bihar\",\"Assam\",\"Telangana\",\"Kerala\",\"Bihar\",\"Uttar Pradesh\",\"Assam\",\"Odisha\",\"Odisha\",\"Punjab\",\"Bihar\",\"Telangana\",\"Gujarat\",\"Uttar Pradesh\",\"Jharkhand\",\"Bihar\",\"Jharkhand\",\"Assam\",\"Karnataka\",\"Maharashtra\",\"West Bengal\",\"West Bengal\",\"Kerala\",\"Karnataka\",\"Odisha\",\"Kerala\",\"Kerala\",\"West Bengal\",\"Andhra Pradesh\",\"Uttar Pradesh\",\"Ladakh\",\"Assam\",\"Lakshadweep\",\"Uttar Pradesh\",\"Maharashtra\",\"Jharkhand\",\"Uttar Pradesh\",\"Punjab\",\"Tamil Nadu\",\"Chhattisgarh\",\"Himachal Pradesh\",\"Madhya Pradesh\",\"Madhya Pradesh\",\"Tamil Nadu\",\"Mizoram\",\"Madhya Pradesh\",\"Uttar Pradesh\",\"Andhra Pradesh\",\"Maharashtra\",\"Bihar\",\"Bihar\",\"Telangana\",\"Bihar\",\"Uttar Pradesh\",\"Telangana\",\"Gujarat\",\"Uttar Pradesh\",\"Kerala\",\"West Bengal\",\"West Bengal\",\"Telangana\",\"Karnataka\",\"Uttar Pradesh\",\"West Bengal\",\"Maharashtra\",\"Kerala\",\"Odisha\",\"Telangana\",\"West Bengal\",\"Uttar Pradesh\",\"Uttar Pradesh\",\"Uttar Pradesh\",\"Uttar Pradesh\",\"Uttar Pradesh\",\"Maharashtra\",\"Maharashtra\",\"Maharashtra\",\"Maharashtra\",\"Maharashtra\",\"Maharashtra\",\"Bihar\",\"West Bengal\",\"Uttar Pradesh\",\"Bihar\",\"Karnataka\",\"Tamil Nadu\",\"Rajasthan\",\"Tamil Nadu\",\"Tamil Nadu\",\"Odisha\",\"Nagaland\",\"Assam\",\"Telangana\",\"Uttar Pradesh\",\"Maharashtra\",\"Uttarakhand\",\"Bihar\",\"Telangana\",\"Maharashtra\",\"Maharashtra\",\"Andhra Pradesh\",\"Andhra Pradesh\",\"Andhra Pradesh\",\"Maharashtra\",\"Gujarat\",\"Bihar\",\"Andhra Pradesh\",\"NCT OF Delhi\",\"Telangana\",\"Goa\",\"NCT OF Delhi\",\"NCT OF Delhi\",\"Andhra Pradesh\",\"Maharashtra\",\"Manipur\",\"Rajasthan\",\"Tamil Nadu\",\"Tamil Nadu\",\"Puducherry\",\"Kerala\",\"Jharkhand\",\"Maharashtra\",\"Gujarat\",\"Maharashtra\",\"Bihar\",\"Gujarat\",\"Kerala\",\"Punjab\",\"Bihar\",\"Bihar\",\"Telangana\",\"Uttar Pradesh\",\"Uttar Pradesh\",\"Kerala\",\"Gujarat\",\"Uttar Pradesh\",\"Maharashtra\",\"Odisha\",\"Bihar\",\"West Bengal\",\"Bihar\",\"Chhattisgarh\",\"Chhattisgarh\",\"Madhya Pradesh\",\"Chhattisgarh\",\"Rajasthan\",\"Tamil Nadu\",\"Madhya Pradesh\",\"Madhya Pradesh\",\"Haryana\",\"Uttar Pradesh\",\"Karnataka\",\"Maharashtra\",\"West Bengal\",\"Andhra Pradesh\",\"Andhra Pradesh\",\"Gujarat\",\"Jharkhand\",\"Uttar Pradesh\",\"Maharashtra\",\"West Bengal\",\"Jharkhand\",\"Maharashtra\",\"Maharashtra\",\"Uttar Pradesh\",\"Madhya Pradesh\",\"Tamil Nadu\",\"Madhya Pradesh\",\"Madhya Pradesh\",\"Himachal Pradesh\",\"Madhya Pradesh\",\"Rajasthan\",\"Haryana\",\"Tamil Nadu\",\"Haryana\",\"Jammu and Kashmir\",\"Tamil Nadu\",\"Chhattisgarh\",\"Gujarat\",\"Uttar Pradesh\",\"Uttar Pradesh\",\"Bihar\",\"Odisha\",\"Uttar Pradesh\",\"Maharashtra\",\"Punjab\",\"Uttar Pradesh\",\"Bihar\",\"Bihar\",\"Maharashtra\",\"Telangana\",\"Uttar Pradesh\",\"Bihar\",\"Meghalaya\",\"Karnataka\",\"Maharashtra\",\"Maharashtra\",\"Uttar Pradesh\",\"Sikkim\",\"Assam\",\"Jharkhand\",\"Bihar\",\"Uttar Pradesh\",\"Bihar\",\"Maharashtra\",\"Assam\",\"NCT OF Delhi\",\"Goa\",\"West Bengal\",\"Andhra Pradesh\",\"Uttar Pradesh\",\"Odisha\",\"Bihar\",\"Gujarat\",\"Tamil Nadu\",\"Tamil Nadu\",\"Tamil Nadu\",\"Tamil Nadu\",\"Madhya Pradesh\",\"Tamil Nadu\",\"Tamil Nadu\",\"Tamil Nadu\",\"Tamil Nadu\",\"Tamil Nadu\",\"Rajasthan\",\"West Bengal\",\"Uttarakhand\",\"Maharashtra\",\"Andhra Pradesh\",\"Kerala\",\"Kerala\",\"Tripura\",\"Tripura\",\"Karnataka\",\"Meghalaya\",\"Rajasthan\",\"Jammu and Kashmir\",\"Madhya Pradesh\",\"Karnataka\",\"Bihar\",\"West Bengal\",\"Uttar Pradesh\",\"Karnataka\",\"Tamil Nadu\",\"Madhya Pradesh\",\"Tamil Nadu\",\"Tamil Nadu\",\"Kerala\",\"Gujarat\",\"Bihar\",\"Bihar\",\"Gujarat\",\"Uttar Pradesh\",\"Andhra Pradesh\",\"Andhra Pradesh\",\"Andhra Pradesh\",\"Telangana\",\"Maharashtra\",\"Kerala\",\"NCT OF Delhi\",\"Maharashtra\",\"Telangana\",\"\",\"\",\"\",\"\",\"\",\"\",\"\",\"\",\"\",\"\",\"\",\"\",\"\",\"\",\"\",\"\",\"\",\"\",\"\",\"\",\"\",\"\",\"\",\"\",\"\",\"\",\"\",\"\",\"\",\"\",\"\",\"\",\"\",\"\",\"\",\"\"],\"values\":[27991586,18675837,28049140,36990340,40771640,43490111,19828728,22834031,36724734,10365870,49723350,16883208,28419855,15473579,6700915,28040152,19563093,25594226,9579024,22983435,15310048,23383295,68034379,13866936,48526260,20648124,24020475,12464963,48736968,37154544,3788940,17042598,20242989,18850010,18177813,30570750,2270142,4160680,12403125,11363828,9807798,16882281,76265140,16847514,24384880,17604856,38379550,24294930,16211910,15183912,12749826,21486570,13393723,30969988,51467042,18456732,77845669,22113344,39821980,11656456,18392810,26841360,17710473,25180935,20331233,23559744,20988408,67521111,42044340,51521690,58422096,27619380,18599670,23206794,14605688,22667655,24950666,90245592,22891248,12622680,14826688,6146364,25040171,11437251,27706714,21169414,27088110,17143587,29864934,88029583,22004350,25112698,18844720,17547508,20399410,14191424,23858484,32947182,22407710,24939122,56365308,70560399,20100228,34098552,15583808,19175343,22313364,12309367,18035440,14737536,11207886,37528995,27080928,41860354,52376065,82958621,24520815,21293580,39073284,28888769,77940500,26850230,14423827,24901338,18505470,12550488,41161675,27596400,37239356,126379451,10934622,57471243,31869414,37147700,31228267,27590402,15749790,26964000,9517600,15548472,13685819,36643176,24129360,52313775,1415175,16886223,16363143,939407,14262824,24876572,24359676,51294270,13140589,57258850,31178255,20639748,15337020,34631831,36454950,22578624,4985994,18579240,4510250,11773230,23812348,30251648,47707760,42432200,21295508,13247570,17039350,12841423,58479288,25082187,44796108,14015880,21800814,29138955,16265826,13272364,48574391,18935712,28360425,59454586,41043914,16186900,30567628,18255029,40222230,25498620,13596191,41282080,20886360,58537836,29868208,38578436,14750984,22297594,27322698,29382892,53799720,42317886,16318120,17473188,50387092,22297896,27620810,20257644,22941348,28580608,26082270,19461380,49096692,25121516,33027107,21560877,60029706,22321236,25890976,24779622,66519150,35391692,8758204,6006690,36065420,29754309,32918325,27572304,40010454,37048680,14216818,16781856,32073615,32548016,18738379,25180740,20131722,33117360,12063498,28005628,51218778,22678080,25465426,46784700,13374333,25305784,27706056,20298993,20052780,21624040,23171655,6931776,19761852,32951037,19241112,15240320,14934366,34453056,7920728,40084338,77246946,27979504,23241614,10232045,43741377,31332795,43951977,55794482,21379963,22978886,24186106,7624128,24523815,18722418,58318400,10724640,29904240,16356960,18312734,16178922,24544065,33948480,50348704,13099770,16510608,19125360,22591855,17957250,17489351,45360945,22125204,57118320,24099372,20583464,9305961,21962364,33117675,17932848,31107564,44682675,31451955,22585290,15970476,35473304,16298062,17585932,18622604,19388589,32759629,16892658,571728,14224500,231812,12887770,55451452,21723375,21739530,75712508,33248250,29982866,13771730,29445416,15206464,26283275,5167962,30238920,23325156,23100675,63881536,16588864,23241108,35278734,9712245,16056520,52194979,10632288,14384408,11845712,30334919,27964275,83169966,24922086,29086950,21817356,85330608,12052431,20101562,80463548,16318845,16045352,19094480,16918182,24088526,24751704,34430185,47096019,32745840,36441195,21510202,22119900,24621948,20796479,20060887,48595872,37697580,12111372,19399518,58118080,22862224,6058440,3976149,23673299,33046890,9883860,57831332,20264380,66525826,37976488,42631236,21684564,53449921,30950031,26042430,63028425,31133256,16082288,23979760,25953798,49462139,4645680,69003116,66801124,40363125,61891004,4200968,30527562,33285531,23965755,26624624,14009140,20232738,21488500,15185872,72232898,14073872,20217720,11471648,47101080,45773486,39023959,67111464,31073040,18339610,11770080,21235128,47755448,72176020,11127886,13265252,21907500,21521280,23931011,90289140,28150080,28038435,20644780,40494025,25141308,26032146,49754328,14309848,16083528,21706386,35831480,19486224,30012930,19014534,23879912,10399458,57426656,13143193,59468256,13073976,43771848,21368736,22706320,41481725,32467637,17781580,6773325,34511615,31252676,36885061,32713100,39094176,41971272,73859918,18208800,27731158,18578160,16059708,21840192,21021532,22791504,37483520,35967584,22836550,25211060,19149140,30389200,95424750,23331430,22013244,8417352,40333145,33601340,81336000,23768916,6533002,10996472,20292594,27300392,14082936,24725428,42670341,13111936,50461356,4791472,21210816,21406918,16700418,12632768,28933305,28490014,22936950,18024672,40758200,40913096,12795832,54411700,38094095,20913360,29213604,47646783,23656776,16680267,17495786,60193728,39797314,17215884,13354047,12612987,13225077,29913012,3310236,17849920,19690152,16203123,15857210,22728901,20908656,18758744,21394373,47564757,25306203,25567303,40660029,14247920,27301722,28078155,18290520,13021449,13999027,28975973,63736134,23864910,76670664,40423008,13180248,62219952,33021837,31206075,3788940,760382145,6430822,255923751,967900555,12550488,432546029,2354582,9437152,513533670,448952479,53258563,177041768,461028816,936564838,269194745,571728,231812,725747817,2224797509,10207658,11727588,5167962,358033221,3976149,332476972,26624624,547767814,573577684,6533002,1528993329,1032760449,25838064,1655314624,94174827,916849467],\"type\":\"sunburst\"}],                        {\"template\":{\"data\":{\"histogram2dcontour\":[{\"type\":\"histogram2dcontour\",\"colorbar\":{\"outlinewidth\":0,\"ticks\":\"\"},\"colorscale\":[[0.0,\"#0d0887\"],[0.1111111111111111,\"#46039f\"],[0.2222222222222222,\"#7201a8\"],[0.3333333333333333,\"#9c179e\"],[0.4444444444444444,\"#bd3786\"],[0.5555555555555556,\"#d8576b\"],[0.6666666666666666,\"#ed7953\"],[0.7777777777777778,\"#fb9f3a\"],[0.8888888888888888,\"#fdca26\"],[1.0,\"#f0f921\"]]}],\"choropleth\":[{\"type\":\"choropleth\",\"colorbar\":{\"outlinewidth\":0,\"ticks\":\"\"}}],\"histogram2d\":[{\"type\":\"histogram2d\",\"colorbar\":{\"outlinewidth\":0,\"ticks\":\"\"},\"colorscale\":[[0.0,\"#0d0887\"],[0.1111111111111111,\"#46039f\"],[0.2222222222222222,\"#7201a8\"],[0.3333333333333333,\"#9c179e\"],[0.4444444444444444,\"#bd3786\"],[0.5555555555555556,\"#d8576b\"],[0.6666666666666666,\"#ed7953\"],[0.7777777777777778,\"#fb9f3a\"],[0.8888888888888888,\"#fdca26\"],[1.0,\"#f0f921\"]]}],\"heatmap\":[{\"type\":\"heatmap\",\"colorbar\":{\"outlinewidth\":0,\"ticks\":\"\"},\"colorscale\":[[0.0,\"#0d0887\"],[0.1111111111111111,\"#46039f\"],[0.2222222222222222,\"#7201a8\"],[0.3333333333333333,\"#9c179e\"],[0.4444444444444444,\"#bd3786\"],[0.5555555555555556,\"#d8576b\"],[0.6666666666666666,\"#ed7953\"],[0.7777777777777778,\"#fb9f3a\"],[0.8888888888888888,\"#fdca26\"],[1.0,\"#f0f921\"]]}],\"heatmapgl\":[{\"type\":\"heatmapgl\",\"colorbar\":{\"outlinewidth\":0,\"ticks\":\"\"},\"colorscale\":[[0.0,\"#0d0887\"],[0.1111111111111111,\"#46039f\"],[0.2222222222222222,\"#7201a8\"],[0.3333333333333333,\"#9c179e\"],[0.4444444444444444,\"#bd3786\"],[0.5555555555555556,\"#d8576b\"],[0.6666666666666666,\"#ed7953\"],[0.7777777777777778,\"#fb9f3a\"],[0.8888888888888888,\"#fdca26\"],[1.0,\"#f0f921\"]]}],\"contourcarpet\":[{\"type\":\"contourcarpet\",\"colorbar\":{\"outlinewidth\":0,\"ticks\":\"\"}}],\"contour\":[{\"type\":\"contour\",\"colorbar\":{\"outlinewidth\":0,\"ticks\":\"\"},\"colorscale\":[[0.0,\"#0d0887\"],[0.1111111111111111,\"#46039f\"],[0.2222222222222222,\"#7201a8\"],[0.3333333333333333,\"#9c179e\"],[0.4444444444444444,\"#bd3786\"],[0.5555555555555556,\"#d8576b\"],[0.6666666666666666,\"#ed7953\"],[0.7777777777777778,\"#fb9f3a\"],[0.8888888888888888,\"#fdca26\"],[1.0,\"#f0f921\"]]}],\"surface\":[{\"type\":\"surface\",\"colorbar\":{\"outlinewidth\":0,\"ticks\":\"\"},\"colorscale\":[[0.0,\"#0d0887\"],[0.1111111111111111,\"#46039f\"],[0.2222222222222222,\"#7201a8\"],[0.3333333333333333,\"#9c179e\"],[0.4444444444444444,\"#bd3786\"],[0.5555555555555556,\"#d8576b\"],[0.6666666666666666,\"#ed7953\"],[0.7777777777777778,\"#fb9f3a\"],[0.8888888888888888,\"#fdca26\"],[1.0,\"#f0f921\"]]}],\"mesh3d\":[{\"type\":\"mesh3d\",\"colorbar\":{\"outlinewidth\":0,\"ticks\":\"\"}}],\"scatter\":[{\"fillpattern\":{\"fillmode\":\"overlay\",\"size\":10,\"solidity\":0.2},\"type\":\"scatter\"}],\"parcoords\":[{\"type\":\"parcoords\",\"line\":{\"colorbar\":{\"outlinewidth\":0,\"ticks\":\"\"}}}],\"scatterpolargl\":[{\"type\":\"scatterpolargl\",\"marker\":{\"colorbar\":{\"outlinewidth\":0,\"ticks\":\"\"}}}],\"bar\":[{\"error_x\":{\"color\":\"#2a3f5f\"},\"error_y\":{\"color\":\"#2a3f5f\"},\"marker\":{\"line\":{\"color\":\"#E5ECF6\",\"width\":0.5},\"pattern\":{\"fillmode\":\"overlay\",\"size\":10,\"solidity\":0.2}},\"type\":\"bar\"}],\"scattergeo\":[{\"type\":\"scattergeo\",\"marker\":{\"colorbar\":{\"outlinewidth\":0,\"ticks\":\"\"}}}],\"scatterpolar\":[{\"type\":\"scatterpolar\",\"marker\":{\"colorbar\":{\"outlinewidth\":0,\"ticks\":\"\"}}}],\"histogram\":[{\"marker\":{\"pattern\":{\"fillmode\":\"overlay\",\"size\":10,\"solidity\":0.2}},\"type\":\"histogram\"}],\"scattergl\":[{\"type\":\"scattergl\",\"marker\":{\"colorbar\":{\"outlinewidth\":0,\"ticks\":\"\"}}}],\"scatter3d\":[{\"type\":\"scatter3d\",\"line\":{\"colorbar\":{\"outlinewidth\":0,\"ticks\":\"\"}},\"marker\":{\"colorbar\":{\"outlinewidth\":0,\"ticks\":\"\"}}}],\"scattermapbox\":[{\"type\":\"scattermapbox\",\"marker\":{\"colorbar\":{\"outlinewidth\":0,\"ticks\":\"\"}}}],\"scatterternary\":[{\"type\":\"scatterternary\",\"marker\":{\"colorbar\":{\"outlinewidth\":0,\"ticks\":\"\"}}}],\"scattercarpet\":[{\"type\":\"scattercarpet\",\"marker\":{\"colorbar\":{\"outlinewidth\":0,\"ticks\":\"\"}}}],\"carpet\":[{\"aaxis\":{\"endlinecolor\":\"#2a3f5f\",\"gridcolor\":\"white\",\"linecolor\":\"white\",\"minorgridcolor\":\"white\",\"startlinecolor\":\"#2a3f5f\"},\"baxis\":{\"endlinecolor\":\"#2a3f5f\",\"gridcolor\":\"white\",\"linecolor\":\"white\",\"minorgridcolor\":\"white\",\"startlinecolor\":\"#2a3f5f\"},\"type\":\"carpet\"}],\"table\":[{\"cells\":{\"fill\":{\"color\":\"#EBF0F8\"},\"line\":{\"color\":\"white\"}},\"header\":{\"fill\":{\"color\":\"#C8D4E3\"},\"line\":{\"color\":\"white\"}},\"type\":\"table\"}],\"barpolar\":[{\"marker\":{\"line\":{\"color\":\"#E5ECF6\",\"width\":0.5},\"pattern\":{\"fillmode\":\"overlay\",\"size\":10,\"solidity\":0.2}},\"type\":\"barpolar\"}],\"pie\":[{\"automargin\":true,\"type\":\"pie\"}]},\"layout\":{\"autotypenumbers\":\"strict\",\"colorway\":[\"#636efa\",\"#EF553B\",\"#00cc96\",\"#ab63fa\",\"#FFA15A\",\"#19d3f3\",\"#FF6692\",\"#B6E880\",\"#FF97FF\",\"#FECB52\"],\"font\":{\"color\":\"#2a3f5f\"},\"hovermode\":\"closest\",\"hoverlabel\":{\"align\":\"left\"},\"paper_bgcolor\":\"white\",\"plot_bgcolor\":\"#E5ECF6\",\"polar\":{\"bgcolor\":\"#E5ECF6\",\"angularaxis\":{\"gridcolor\":\"white\",\"linecolor\":\"white\",\"ticks\":\"\"},\"radialaxis\":{\"gridcolor\":\"white\",\"linecolor\":\"white\",\"ticks\":\"\"}},\"ternary\":{\"bgcolor\":\"#E5ECF6\",\"aaxis\":{\"gridcolor\":\"white\",\"linecolor\":\"white\",\"ticks\":\"\"},\"baxis\":{\"gridcolor\":\"white\",\"linecolor\":\"white\",\"ticks\":\"\"},\"caxis\":{\"gridcolor\":\"white\",\"linecolor\":\"white\",\"ticks\":\"\"}},\"coloraxis\":{\"colorbar\":{\"outlinewidth\":0,\"ticks\":\"\"}},\"colorscale\":{\"sequential\":[[0.0,\"#0d0887\"],[0.1111111111111111,\"#46039f\"],[0.2222222222222222,\"#7201a8\"],[0.3333333333333333,\"#9c179e\"],[0.4444444444444444,\"#bd3786\"],[0.5555555555555556,\"#d8576b\"],[0.6666666666666666,\"#ed7953\"],[0.7777777777777778,\"#fb9f3a\"],[0.8888888888888888,\"#fdca26\"],[1.0,\"#f0f921\"]],\"sequentialminus\":[[0.0,\"#0d0887\"],[0.1111111111111111,\"#46039f\"],[0.2222222222222222,\"#7201a8\"],[0.3333333333333333,\"#9c179e\"],[0.4444444444444444,\"#bd3786\"],[0.5555555555555556,\"#d8576b\"],[0.6666666666666666,\"#ed7953\"],[0.7777777777777778,\"#fb9f3a\"],[0.8888888888888888,\"#fdca26\"],[1.0,\"#f0f921\"]],\"diverging\":[[0,\"#8e0152\"],[0.1,\"#c51b7d\"],[0.2,\"#de77ae\"],[0.3,\"#f1b6da\"],[0.4,\"#fde0ef\"],[0.5,\"#f7f7f7\"],[0.6,\"#e6f5d0\"],[0.7,\"#b8e186\"],[0.8,\"#7fbc41\"],[0.9,\"#4d9221\"],[1,\"#276419\"]]},\"xaxis\":{\"gridcolor\":\"white\",\"linecolor\":\"white\",\"ticks\":\"\",\"title\":{\"standoff\":15},\"zerolinecolor\":\"white\",\"automargin\":true,\"zerolinewidth\":2},\"yaxis\":{\"gridcolor\":\"white\",\"linecolor\":\"white\",\"ticks\":\"\",\"title\":{\"standoff\":15},\"zerolinecolor\":\"white\",\"automargin\":true,\"zerolinewidth\":2},\"scene\":{\"xaxis\":{\"backgroundcolor\":\"#E5ECF6\",\"gridcolor\":\"white\",\"linecolor\":\"white\",\"showbackground\":true,\"ticks\":\"\",\"zerolinecolor\":\"white\",\"gridwidth\":2},\"yaxis\":{\"backgroundcolor\":\"#E5ECF6\",\"gridcolor\":\"white\",\"linecolor\":\"white\",\"showbackground\":true,\"ticks\":\"\",\"zerolinecolor\":\"white\",\"gridwidth\":2},\"zaxis\":{\"backgroundcolor\":\"#E5ECF6\",\"gridcolor\":\"white\",\"linecolor\":\"white\",\"showbackground\":true,\"ticks\":\"\",\"zerolinecolor\":\"white\",\"gridwidth\":2}},\"shapedefaults\":{\"line\":{\"color\":\"#2a3f5f\"}},\"annotationdefaults\":{\"arrowcolor\":\"#2a3f5f\",\"arrowhead\":0,\"arrowwidth\":1},\"geo\":{\"bgcolor\":\"white\",\"landcolor\":\"#E5ECF6\",\"subunitcolor\":\"white\",\"showland\":true,\"showlakes\":true,\"lakecolor\":\"white\"},\"title\":{\"x\":0.05},\"mapbox\":{\"style\":\"light\"}}},\"coloraxis\":{\"colorbar\":{\"title\":{\"text\":\"TOTAL ELECTORS\"}},\"colorscale\":[[0.0,\"rgb(236, 218, 154)\"],[0.16666666666666666,\"rgb(239, 196, 126)\"],[0.3333333333333333,\"rgb(243, 173, 106)\"],[0.5,\"rgb(247, 148, 93)\"],[0.6666666666666666,\"rgb(249, 123, 87)\"],[0.8333333333333334,\"rgb(246, 99, 86)\"],[1.0,\"rgb(238, 77, 90)\"]]},\"legend\":{\"tracegroupgap\":0},\"margin\":{\"t\":60},\"title\":{\"font\":{\"family\":\"Courier New\",\"color\":\"#351f39\"},\"text\":\"State and Constituency by total electors\"},\"font\":{\"family\":\"Courier New\",\"color\":\"#351f39\"},\"xaxis\":{\"title\":{\"text\":\"Party\"}},\"yaxis\":{\"title\":{\"text\":\"Seats\"}}},                        {\"responsive\": true}                    ).then(function(){\n",
       "                            \n",
       "var gd = document.getElementById('148c2c9c-519a-4093-9a5c-166cc9f83654');\n",
       "var x = new MutationObserver(function (mutations, observer) {{\n",
       "        var display = window.getComputedStyle(gd).display;\n",
       "        if (!display || display === 'none') {{\n",
       "            console.log([gd, 'removed!']);\n",
       "            Plotly.purge(gd);\n",
       "            observer.disconnect();\n",
       "        }}\n",
       "}});\n",
       "\n",
       "// Listen for the removal of the full notebook cells\n",
       "var notebookContainer = gd.closest('#notebook-container');\n",
       "if (notebookContainer) {{\n",
       "    x.observe(notebookContainer, {childList: true});\n",
       "}}\n",
       "\n",
       "// Listen for the clearing of the current output cell\n",
       "var outputEl = gd.closest('.output');\n",
       "if (outputEl) {{\n",
       "    x.observe(outputEl, {childList: true});\n",
       "}}\n",
       "\n",
       "                        })                };                });            </script>        </div>"
      ]
     },
     "metadata": {},
     "output_type": "display_data"
    }
   ],
   "source": [
    "state_df = df[['STATE','CONSTITUENCY','TOTAL ELECTORS']]\n",
    "state_fig = px.sunburst(state_df, \n",
    "                        path=['STATE','CONSTITUENCY'], \n",
    "                        values='TOTAL ELECTORS',\n",
    "                        color='TOTAL ELECTORS',\n",
    "                        color_continuous_scale='Oryel')\n",
    "state_fig.update_layout(title_text='State and Constituency by total electors',\n",
    "                       font_family=\"Courier New\",\n",
    "                         font_color=\"#351f39\",\n",
    "                         title_font_family=\"Courier New\",\n",
    "                         title_font_color=\"#351f39\",\n",
    "                         xaxis_title=\"Party\",\n",
    "                         yaxis_title=\"Seats\")\n",
    "state_fig.show()"
   ]
  },
  {
   "cell_type": "code",
   "execution_count": 20,
   "metadata": {},
   "outputs": [
    {
     "data": {
      "application/vnd.plotly.v1+json": {
       "config": {
        "plotlyServerURL": "https://plot.ly"
       },
       "data": [
        {
         "alignmentgroup": "True",
         "hovertemplate": "x=%{x}<br>y=%{y}<br>color=%{marker.color}<extra></extra>",
         "legendgroup": "",
         "marker": {
          "color": [
           240,
           99,
           38,
           30,
           27,
           22,
           16,
           12,
           9,
           8,
           7,
           5,
           4,
           4,
           4,
           3,
           3,
           3,
           2,
           2
          ],
          "coloraxis": "coloraxis",
          "pattern": {
           "shape": ""
          }
         },
         "name": "",
         "offsetgroup": "",
         "orientation": "v",
         "showlegend": false,
         "textposition": "auto",
         "type": "bar",
         "x": [
          "BJP",
          "INC",
          "SP",
          "AITC",
          "IND",
          "DMK",
          "TDP",
          "JD(U)",
          "SHSUBT",
          "NCPSP",
          "SHS",
          "LJPRV",
          "CPI(M)",
          "RJD",
          "YSRCP",
          "IUML",
          "AAAP",
          "JMM",
          "JnP",
          "CPI(ML)(L)"
         ],
         "xaxis": "x",
         "y": [
          240,
          99,
          38,
          30,
          27,
          22,
          16,
          12,
          9,
          8,
          7,
          5,
          4,
          4,
          4,
          3,
          3,
          3,
          2,
          2
         ],
         "yaxis": "y"
        }
       ],
       "layout": {
        "barmode": "relative",
        "coloraxis": {
         "colorbar": {
          "title": {
           "text": "color"
          }
         },
         "colorscale": [
          [
           0,
           "rgb(236, 218, 154)"
          ],
          [
           0.16666666666666666,
           "rgb(239, 196, 126)"
          ],
          [
           0.3333333333333333,
           "rgb(243, 173, 106)"
          ],
          [
           0.5,
           "rgb(247, 148, 93)"
          ],
          [
           0.6666666666666666,
           "rgb(249, 123, 87)"
          ],
          [
           0.8333333333333334,
           "rgb(246, 99, 86)"
          ],
          [
           1,
           "rgb(238, 77, 90)"
          ]
         ]
        },
        "font": {
         "color": "#351f39",
         "family": "Courier New"
        },
        "height": 500,
        "legend": {
         "tracegroupgap": 0
        },
        "margin": {
         "t": 60
        },
        "template": {
         "data": {
          "bar": [
           {
            "error_x": {
             "color": "#2a3f5f"
            },
            "error_y": {
             "color": "#2a3f5f"
            },
            "marker": {
             "line": {
              "color": "#E5ECF6",
              "width": 0.5
             },
             "pattern": {
              "fillmode": "overlay",
              "size": 10,
              "solidity": 0.2
             }
            },
            "type": "bar"
           }
          ],
          "barpolar": [
           {
            "marker": {
             "line": {
              "color": "#E5ECF6",
              "width": 0.5
             },
             "pattern": {
              "fillmode": "overlay",
              "size": 10,
              "solidity": 0.2
             }
            },
            "type": "barpolar"
           }
          ],
          "carpet": [
           {
            "aaxis": {
             "endlinecolor": "#2a3f5f",
             "gridcolor": "white",
             "linecolor": "white",
             "minorgridcolor": "white",
             "startlinecolor": "#2a3f5f"
            },
            "baxis": {
             "endlinecolor": "#2a3f5f",
             "gridcolor": "white",
             "linecolor": "white",
             "minorgridcolor": "white",
             "startlinecolor": "#2a3f5f"
            },
            "type": "carpet"
           }
          ],
          "choropleth": [
           {
            "colorbar": {
             "outlinewidth": 0,
             "ticks": ""
            },
            "type": "choropleth"
           }
          ],
          "contour": [
           {
            "colorbar": {
             "outlinewidth": 0,
             "ticks": ""
            },
            "colorscale": [
             [
              0,
              "#0d0887"
             ],
             [
              0.1111111111111111,
              "#46039f"
             ],
             [
              0.2222222222222222,
              "#7201a8"
             ],
             [
              0.3333333333333333,
              "#9c179e"
             ],
             [
              0.4444444444444444,
              "#bd3786"
             ],
             [
              0.5555555555555556,
              "#d8576b"
             ],
             [
              0.6666666666666666,
              "#ed7953"
             ],
             [
              0.7777777777777778,
              "#fb9f3a"
             ],
             [
              0.8888888888888888,
              "#fdca26"
             ],
             [
              1,
              "#f0f921"
             ]
            ],
            "type": "contour"
           }
          ],
          "contourcarpet": [
           {
            "colorbar": {
             "outlinewidth": 0,
             "ticks": ""
            },
            "type": "contourcarpet"
           }
          ],
          "heatmap": [
           {
            "colorbar": {
             "outlinewidth": 0,
             "ticks": ""
            },
            "colorscale": [
             [
              0,
              "#0d0887"
             ],
             [
              0.1111111111111111,
              "#46039f"
             ],
             [
              0.2222222222222222,
              "#7201a8"
             ],
             [
              0.3333333333333333,
              "#9c179e"
             ],
             [
              0.4444444444444444,
              "#bd3786"
             ],
             [
              0.5555555555555556,
              "#d8576b"
             ],
             [
              0.6666666666666666,
              "#ed7953"
             ],
             [
              0.7777777777777778,
              "#fb9f3a"
             ],
             [
              0.8888888888888888,
              "#fdca26"
             ],
             [
              1,
              "#f0f921"
             ]
            ],
            "type": "heatmap"
           }
          ],
          "heatmapgl": [
           {
            "colorbar": {
             "outlinewidth": 0,
             "ticks": ""
            },
            "colorscale": [
             [
              0,
              "#0d0887"
             ],
             [
              0.1111111111111111,
              "#46039f"
             ],
             [
              0.2222222222222222,
              "#7201a8"
             ],
             [
              0.3333333333333333,
              "#9c179e"
             ],
             [
              0.4444444444444444,
              "#bd3786"
             ],
             [
              0.5555555555555556,
              "#d8576b"
             ],
             [
              0.6666666666666666,
              "#ed7953"
             ],
             [
              0.7777777777777778,
              "#fb9f3a"
             ],
             [
              0.8888888888888888,
              "#fdca26"
             ],
             [
              1,
              "#f0f921"
             ]
            ],
            "type": "heatmapgl"
           }
          ],
          "histogram": [
           {
            "marker": {
             "pattern": {
              "fillmode": "overlay",
              "size": 10,
              "solidity": 0.2
             }
            },
            "type": "histogram"
           }
          ],
          "histogram2d": [
           {
            "colorbar": {
             "outlinewidth": 0,
             "ticks": ""
            },
            "colorscale": [
             [
              0,
              "#0d0887"
             ],
             [
              0.1111111111111111,
              "#46039f"
             ],
             [
              0.2222222222222222,
              "#7201a8"
             ],
             [
              0.3333333333333333,
              "#9c179e"
             ],
             [
              0.4444444444444444,
              "#bd3786"
             ],
             [
              0.5555555555555556,
              "#d8576b"
             ],
             [
              0.6666666666666666,
              "#ed7953"
             ],
             [
              0.7777777777777778,
              "#fb9f3a"
             ],
             [
              0.8888888888888888,
              "#fdca26"
             ],
             [
              1,
              "#f0f921"
             ]
            ],
            "type": "histogram2d"
           }
          ],
          "histogram2dcontour": [
           {
            "colorbar": {
             "outlinewidth": 0,
             "ticks": ""
            },
            "colorscale": [
             [
              0,
              "#0d0887"
             ],
             [
              0.1111111111111111,
              "#46039f"
             ],
             [
              0.2222222222222222,
              "#7201a8"
             ],
             [
              0.3333333333333333,
              "#9c179e"
             ],
             [
              0.4444444444444444,
              "#bd3786"
             ],
             [
              0.5555555555555556,
              "#d8576b"
             ],
             [
              0.6666666666666666,
              "#ed7953"
             ],
             [
              0.7777777777777778,
              "#fb9f3a"
             ],
             [
              0.8888888888888888,
              "#fdca26"
             ],
             [
              1,
              "#f0f921"
             ]
            ],
            "type": "histogram2dcontour"
           }
          ],
          "mesh3d": [
           {
            "colorbar": {
             "outlinewidth": 0,
             "ticks": ""
            },
            "type": "mesh3d"
           }
          ],
          "parcoords": [
           {
            "line": {
             "colorbar": {
              "outlinewidth": 0,
              "ticks": ""
             }
            },
            "type": "parcoords"
           }
          ],
          "pie": [
           {
            "automargin": true,
            "type": "pie"
           }
          ],
          "scatter": [
           {
            "fillpattern": {
             "fillmode": "overlay",
             "size": 10,
             "solidity": 0.2
            },
            "type": "scatter"
           }
          ],
          "scatter3d": [
           {
            "line": {
             "colorbar": {
              "outlinewidth": 0,
              "ticks": ""
             }
            },
            "marker": {
             "colorbar": {
              "outlinewidth": 0,
              "ticks": ""
             }
            },
            "type": "scatter3d"
           }
          ],
          "scattercarpet": [
           {
            "marker": {
             "colorbar": {
              "outlinewidth": 0,
              "ticks": ""
             }
            },
            "type": "scattercarpet"
           }
          ],
          "scattergeo": [
           {
            "marker": {
             "colorbar": {
              "outlinewidth": 0,
              "ticks": ""
             }
            },
            "type": "scattergeo"
           }
          ],
          "scattergl": [
           {
            "marker": {
             "colorbar": {
              "outlinewidth": 0,
              "ticks": ""
             }
            },
            "type": "scattergl"
           }
          ],
          "scattermapbox": [
           {
            "marker": {
             "colorbar": {
              "outlinewidth": 0,
              "ticks": ""
             }
            },
            "type": "scattermapbox"
           }
          ],
          "scatterpolar": [
           {
            "marker": {
             "colorbar": {
              "outlinewidth": 0,
              "ticks": ""
             }
            },
            "type": "scatterpolar"
           }
          ],
          "scatterpolargl": [
           {
            "marker": {
             "colorbar": {
              "outlinewidth": 0,
              "ticks": ""
             }
            },
            "type": "scatterpolargl"
           }
          ],
          "scatterternary": [
           {
            "marker": {
             "colorbar": {
              "outlinewidth": 0,
              "ticks": ""
             }
            },
            "type": "scatterternary"
           }
          ],
          "surface": [
           {
            "colorbar": {
             "outlinewidth": 0,
             "ticks": ""
            },
            "colorscale": [
             [
              0,
              "#0d0887"
             ],
             [
              0.1111111111111111,
              "#46039f"
             ],
             [
              0.2222222222222222,
              "#7201a8"
             ],
             [
              0.3333333333333333,
              "#9c179e"
             ],
             [
              0.4444444444444444,
              "#bd3786"
             ],
             [
              0.5555555555555556,
              "#d8576b"
             ],
             [
              0.6666666666666666,
              "#ed7953"
             ],
             [
              0.7777777777777778,
              "#fb9f3a"
             ],
             [
              0.8888888888888888,
              "#fdca26"
             ],
             [
              1,
              "#f0f921"
             ]
            ],
            "type": "surface"
           }
          ],
          "table": [
           {
            "cells": {
             "fill": {
              "color": "#EBF0F8"
             },
             "line": {
              "color": "white"
             }
            },
            "header": {
             "fill": {
              "color": "#C8D4E3"
             },
             "line": {
              "color": "white"
             }
            },
            "type": "table"
           }
          ]
         },
         "layout": {
          "annotationdefaults": {
           "arrowcolor": "#2a3f5f",
           "arrowhead": 0,
           "arrowwidth": 1
          },
          "autotypenumbers": "strict",
          "coloraxis": {
           "colorbar": {
            "outlinewidth": 0,
            "ticks": ""
           }
          },
          "colorscale": {
           "diverging": [
            [
             0,
             "#8e0152"
            ],
            [
             0.1,
             "#c51b7d"
            ],
            [
             0.2,
             "#de77ae"
            ],
            [
             0.3,
             "#f1b6da"
            ],
            [
             0.4,
             "#fde0ef"
            ],
            [
             0.5,
             "#f7f7f7"
            ],
            [
             0.6,
             "#e6f5d0"
            ],
            [
             0.7,
             "#b8e186"
            ],
            [
             0.8,
             "#7fbc41"
            ],
            [
             0.9,
             "#4d9221"
            ],
            [
             1,
             "#276419"
            ]
           ],
           "sequential": [
            [
             0,
             "#0d0887"
            ],
            [
             0.1111111111111111,
             "#46039f"
            ],
            [
             0.2222222222222222,
             "#7201a8"
            ],
            [
             0.3333333333333333,
             "#9c179e"
            ],
            [
             0.4444444444444444,
             "#bd3786"
            ],
            [
             0.5555555555555556,
             "#d8576b"
            ],
            [
             0.6666666666666666,
             "#ed7953"
            ],
            [
             0.7777777777777778,
             "#fb9f3a"
            ],
            [
             0.8888888888888888,
             "#fdca26"
            ],
            [
             1,
             "#f0f921"
            ]
           ],
           "sequentialminus": [
            [
             0,
             "#0d0887"
            ],
            [
             0.1111111111111111,
             "#46039f"
            ],
            [
             0.2222222222222222,
             "#7201a8"
            ],
            [
             0.3333333333333333,
             "#9c179e"
            ],
            [
             0.4444444444444444,
             "#bd3786"
            ],
            [
             0.5555555555555556,
             "#d8576b"
            ],
            [
             0.6666666666666666,
             "#ed7953"
            ],
            [
             0.7777777777777778,
             "#fb9f3a"
            ],
            [
             0.8888888888888888,
             "#fdca26"
            ],
            [
             1,
             "#f0f921"
            ]
           ]
          },
          "colorway": [
           "#636efa",
           "#EF553B",
           "#00cc96",
           "#ab63fa",
           "#FFA15A",
           "#19d3f3",
           "#FF6692",
           "#B6E880",
           "#FF97FF",
           "#FECB52"
          ],
          "font": {
           "color": "#2a3f5f"
          },
          "geo": {
           "bgcolor": "white",
           "lakecolor": "white",
           "landcolor": "#E5ECF6",
           "showlakes": true,
           "showland": true,
           "subunitcolor": "white"
          },
          "hoverlabel": {
           "align": "left"
          },
          "hovermode": "closest",
          "mapbox": {
           "style": "light"
          },
          "paper_bgcolor": "white",
          "plot_bgcolor": "#E5ECF6",
          "polar": {
           "angularaxis": {
            "gridcolor": "white",
            "linecolor": "white",
            "ticks": ""
           },
           "bgcolor": "#E5ECF6",
           "radialaxis": {
            "gridcolor": "white",
            "linecolor": "white",
            "ticks": ""
           }
          },
          "scene": {
           "xaxis": {
            "backgroundcolor": "#E5ECF6",
            "gridcolor": "white",
            "gridwidth": 2,
            "linecolor": "white",
            "showbackground": true,
            "ticks": "",
            "zerolinecolor": "white"
           },
           "yaxis": {
            "backgroundcolor": "#E5ECF6",
            "gridcolor": "white",
            "gridwidth": 2,
            "linecolor": "white",
            "showbackground": true,
            "ticks": "",
            "zerolinecolor": "white"
           },
           "zaxis": {
            "backgroundcolor": "#E5ECF6",
            "gridcolor": "white",
            "gridwidth": 2,
            "linecolor": "white",
            "showbackground": true,
            "ticks": "",
            "zerolinecolor": "white"
           }
          },
          "shapedefaults": {
           "line": {
            "color": "#2a3f5f"
           }
          },
          "ternary": {
           "aaxis": {
            "gridcolor": "white",
            "linecolor": "white",
            "ticks": ""
           },
           "baxis": {
            "gridcolor": "white",
            "linecolor": "white",
            "ticks": ""
           },
           "bgcolor": "#E5ECF6",
           "caxis": {
            "gridcolor": "white",
            "linecolor": "white",
            "ticks": ""
           }
          },
          "title": {
           "x": 0.05
          },
          "xaxis": {
           "automargin": true,
           "gridcolor": "white",
           "linecolor": "white",
           "ticks": "",
           "title": {
            "standoff": 15
           },
           "zerolinecolor": "white",
           "zerolinewidth": 2
          },
          "yaxis": {
           "automargin": true,
           "gridcolor": "white",
           "linecolor": "white",
           "ticks": "",
           "title": {
            "standoff": 15
           },
           "zerolinecolor": "white",
           "zerolinewidth": 2
          }
         }
        },
        "title": {
         "font": {
          "color": "#351f39",
          "family": "Courier New"
         },
         "text": "Top 20 Party-wise election results"
        },
        "xaxis": {
         "anchor": "y",
         "domain": [
          0,
          1
         ],
         "title": {
          "text": "Party"
         }
        },
        "yaxis": {
         "anchor": "x",
         "domain": [
          0,
          1
         ],
         "title": {
          "text": "Seats"
         }
        }
       }
      },
      "text/html": [
       "<div>                            <div id=\"06447e72-c1e1-44d8-ace2-b54cccddc918\" class=\"plotly-graph-div\" style=\"height:500px; width:100%;\"></div>            <script type=\"text/javascript\">                require([\"plotly\"], function(Plotly) {                    window.PLOTLYENV=window.PLOTLYENV || {};                                    if (document.getElementById(\"06447e72-c1e1-44d8-ace2-b54cccddc918\")) {                    Plotly.newPlot(                        \"06447e72-c1e1-44d8-ace2-b54cccddc918\",                        [{\"alignmentgroup\":\"True\",\"hovertemplate\":\"x=%{x}\\u003cbr\\u003ey=%{y}\\u003cbr\\u003ecolor=%{marker.color}\\u003cextra\\u003e\\u003c\\u002fextra\\u003e\",\"legendgroup\":\"\",\"marker\":{\"color\":[240,99,38,30,27,22,16,12,9,8,7,5,4,4,4,3,3,3,2,2],\"coloraxis\":\"coloraxis\",\"pattern\":{\"shape\":\"\"}},\"name\":\"\",\"offsetgroup\":\"\",\"orientation\":\"v\",\"showlegend\":false,\"textposition\":\"auto\",\"x\":[\"BJP\",\"INC\",\"SP\",\"AITC\",\"IND\",\"DMK\",\"TDP\",\"JD(U)\",\"SHSUBT\",\"NCPSP\",\"SHS\",\"LJPRV\",\"CPI(M)\",\"RJD\",\"YSRCP\",\"IUML\",\"AAAP\",\"JMM\",\"JnP\",\"CPI(ML)(L)\"],\"xaxis\":\"x\",\"y\":[240,99,38,30,27,22,16,12,9,8,7,5,4,4,4,3,3,3,2,2],\"yaxis\":\"y\",\"type\":\"bar\"}],                        {\"template\":{\"data\":{\"histogram2dcontour\":[{\"type\":\"histogram2dcontour\",\"colorbar\":{\"outlinewidth\":0,\"ticks\":\"\"},\"colorscale\":[[0.0,\"#0d0887\"],[0.1111111111111111,\"#46039f\"],[0.2222222222222222,\"#7201a8\"],[0.3333333333333333,\"#9c179e\"],[0.4444444444444444,\"#bd3786\"],[0.5555555555555556,\"#d8576b\"],[0.6666666666666666,\"#ed7953\"],[0.7777777777777778,\"#fb9f3a\"],[0.8888888888888888,\"#fdca26\"],[1.0,\"#f0f921\"]]}],\"choropleth\":[{\"type\":\"choropleth\",\"colorbar\":{\"outlinewidth\":0,\"ticks\":\"\"}}],\"histogram2d\":[{\"type\":\"histogram2d\",\"colorbar\":{\"outlinewidth\":0,\"ticks\":\"\"},\"colorscale\":[[0.0,\"#0d0887\"],[0.1111111111111111,\"#46039f\"],[0.2222222222222222,\"#7201a8\"],[0.3333333333333333,\"#9c179e\"],[0.4444444444444444,\"#bd3786\"],[0.5555555555555556,\"#d8576b\"],[0.6666666666666666,\"#ed7953\"],[0.7777777777777778,\"#fb9f3a\"],[0.8888888888888888,\"#fdca26\"],[1.0,\"#f0f921\"]]}],\"heatmap\":[{\"type\":\"heatmap\",\"colorbar\":{\"outlinewidth\":0,\"ticks\":\"\"},\"colorscale\":[[0.0,\"#0d0887\"],[0.1111111111111111,\"#46039f\"],[0.2222222222222222,\"#7201a8\"],[0.3333333333333333,\"#9c179e\"],[0.4444444444444444,\"#bd3786\"],[0.5555555555555556,\"#d8576b\"],[0.6666666666666666,\"#ed7953\"],[0.7777777777777778,\"#fb9f3a\"],[0.8888888888888888,\"#fdca26\"],[1.0,\"#f0f921\"]]}],\"heatmapgl\":[{\"type\":\"heatmapgl\",\"colorbar\":{\"outlinewidth\":0,\"ticks\":\"\"},\"colorscale\":[[0.0,\"#0d0887\"],[0.1111111111111111,\"#46039f\"],[0.2222222222222222,\"#7201a8\"],[0.3333333333333333,\"#9c179e\"],[0.4444444444444444,\"#bd3786\"],[0.5555555555555556,\"#d8576b\"],[0.6666666666666666,\"#ed7953\"],[0.7777777777777778,\"#fb9f3a\"],[0.8888888888888888,\"#fdca26\"],[1.0,\"#f0f921\"]]}],\"contourcarpet\":[{\"type\":\"contourcarpet\",\"colorbar\":{\"outlinewidth\":0,\"ticks\":\"\"}}],\"contour\":[{\"type\":\"contour\",\"colorbar\":{\"outlinewidth\":0,\"ticks\":\"\"},\"colorscale\":[[0.0,\"#0d0887\"],[0.1111111111111111,\"#46039f\"],[0.2222222222222222,\"#7201a8\"],[0.3333333333333333,\"#9c179e\"],[0.4444444444444444,\"#bd3786\"],[0.5555555555555556,\"#d8576b\"],[0.6666666666666666,\"#ed7953\"],[0.7777777777777778,\"#fb9f3a\"],[0.8888888888888888,\"#fdca26\"],[1.0,\"#f0f921\"]]}],\"surface\":[{\"type\":\"surface\",\"colorbar\":{\"outlinewidth\":0,\"ticks\":\"\"},\"colorscale\":[[0.0,\"#0d0887\"],[0.1111111111111111,\"#46039f\"],[0.2222222222222222,\"#7201a8\"],[0.3333333333333333,\"#9c179e\"],[0.4444444444444444,\"#bd3786\"],[0.5555555555555556,\"#d8576b\"],[0.6666666666666666,\"#ed7953\"],[0.7777777777777778,\"#fb9f3a\"],[0.8888888888888888,\"#fdca26\"],[1.0,\"#f0f921\"]]}],\"mesh3d\":[{\"type\":\"mesh3d\",\"colorbar\":{\"outlinewidth\":0,\"ticks\":\"\"}}],\"scatter\":[{\"fillpattern\":{\"fillmode\":\"overlay\",\"size\":10,\"solidity\":0.2},\"type\":\"scatter\"}],\"parcoords\":[{\"type\":\"parcoords\",\"line\":{\"colorbar\":{\"outlinewidth\":0,\"ticks\":\"\"}}}],\"scatterpolargl\":[{\"type\":\"scatterpolargl\",\"marker\":{\"colorbar\":{\"outlinewidth\":0,\"ticks\":\"\"}}}],\"bar\":[{\"error_x\":{\"color\":\"#2a3f5f\"},\"error_y\":{\"color\":\"#2a3f5f\"},\"marker\":{\"line\":{\"color\":\"#E5ECF6\",\"width\":0.5},\"pattern\":{\"fillmode\":\"overlay\",\"size\":10,\"solidity\":0.2}},\"type\":\"bar\"}],\"scattergeo\":[{\"type\":\"scattergeo\",\"marker\":{\"colorbar\":{\"outlinewidth\":0,\"ticks\":\"\"}}}],\"scatterpolar\":[{\"type\":\"scatterpolar\",\"marker\":{\"colorbar\":{\"outlinewidth\":0,\"ticks\":\"\"}}}],\"histogram\":[{\"marker\":{\"pattern\":{\"fillmode\":\"overlay\",\"size\":10,\"solidity\":0.2}},\"type\":\"histogram\"}],\"scattergl\":[{\"type\":\"scattergl\",\"marker\":{\"colorbar\":{\"outlinewidth\":0,\"ticks\":\"\"}}}],\"scatter3d\":[{\"type\":\"scatter3d\",\"line\":{\"colorbar\":{\"outlinewidth\":0,\"ticks\":\"\"}},\"marker\":{\"colorbar\":{\"outlinewidth\":0,\"ticks\":\"\"}}}],\"scattermapbox\":[{\"type\":\"scattermapbox\",\"marker\":{\"colorbar\":{\"outlinewidth\":0,\"ticks\":\"\"}}}],\"scatterternary\":[{\"type\":\"scatterternary\",\"marker\":{\"colorbar\":{\"outlinewidth\":0,\"ticks\":\"\"}}}],\"scattercarpet\":[{\"type\":\"scattercarpet\",\"marker\":{\"colorbar\":{\"outlinewidth\":0,\"ticks\":\"\"}}}],\"carpet\":[{\"aaxis\":{\"endlinecolor\":\"#2a3f5f\",\"gridcolor\":\"white\",\"linecolor\":\"white\",\"minorgridcolor\":\"white\",\"startlinecolor\":\"#2a3f5f\"},\"baxis\":{\"endlinecolor\":\"#2a3f5f\",\"gridcolor\":\"white\",\"linecolor\":\"white\",\"minorgridcolor\":\"white\",\"startlinecolor\":\"#2a3f5f\"},\"type\":\"carpet\"}],\"table\":[{\"cells\":{\"fill\":{\"color\":\"#EBF0F8\"},\"line\":{\"color\":\"white\"}},\"header\":{\"fill\":{\"color\":\"#C8D4E3\"},\"line\":{\"color\":\"white\"}},\"type\":\"table\"}],\"barpolar\":[{\"marker\":{\"line\":{\"color\":\"#E5ECF6\",\"width\":0.5},\"pattern\":{\"fillmode\":\"overlay\",\"size\":10,\"solidity\":0.2}},\"type\":\"barpolar\"}],\"pie\":[{\"automargin\":true,\"type\":\"pie\"}]},\"layout\":{\"autotypenumbers\":\"strict\",\"colorway\":[\"#636efa\",\"#EF553B\",\"#00cc96\",\"#ab63fa\",\"#FFA15A\",\"#19d3f3\",\"#FF6692\",\"#B6E880\",\"#FF97FF\",\"#FECB52\"],\"font\":{\"color\":\"#2a3f5f\"},\"hovermode\":\"closest\",\"hoverlabel\":{\"align\":\"left\"},\"paper_bgcolor\":\"white\",\"plot_bgcolor\":\"#E5ECF6\",\"polar\":{\"bgcolor\":\"#E5ECF6\",\"angularaxis\":{\"gridcolor\":\"white\",\"linecolor\":\"white\",\"ticks\":\"\"},\"radialaxis\":{\"gridcolor\":\"white\",\"linecolor\":\"white\",\"ticks\":\"\"}},\"ternary\":{\"bgcolor\":\"#E5ECF6\",\"aaxis\":{\"gridcolor\":\"white\",\"linecolor\":\"white\",\"ticks\":\"\"},\"baxis\":{\"gridcolor\":\"white\",\"linecolor\":\"white\",\"ticks\":\"\"},\"caxis\":{\"gridcolor\":\"white\",\"linecolor\":\"white\",\"ticks\":\"\"}},\"coloraxis\":{\"colorbar\":{\"outlinewidth\":0,\"ticks\":\"\"}},\"colorscale\":{\"sequential\":[[0.0,\"#0d0887\"],[0.1111111111111111,\"#46039f\"],[0.2222222222222222,\"#7201a8\"],[0.3333333333333333,\"#9c179e\"],[0.4444444444444444,\"#bd3786\"],[0.5555555555555556,\"#d8576b\"],[0.6666666666666666,\"#ed7953\"],[0.7777777777777778,\"#fb9f3a\"],[0.8888888888888888,\"#fdca26\"],[1.0,\"#f0f921\"]],\"sequentialminus\":[[0.0,\"#0d0887\"],[0.1111111111111111,\"#46039f\"],[0.2222222222222222,\"#7201a8\"],[0.3333333333333333,\"#9c179e\"],[0.4444444444444444,\"#bd3786\"],[0.5555555555555556,\"#d8576b\"],[0.6666666666666666,\"#ed7953\"],[0.7777777777777778,\"#fb9f3a\"],[0.8888888888888888,\"#fdca26\"],[1.0,\"#f0f921\"]],\"diverging\":[[0,\"#8e0152\"],[0.1,\"#c51b7d\"],[0.2,\"#de77ae\"],[0.3,\"#f1b6da\"],[0.4,\"#fde0ef\"],[0.5,\"#f7f7f7\"],[0.6,\"#e6f5d0\"],[0.7,\"#b8e186\"],[0.8,\"#7fbc41\"],[0.9,\"#4d9221\"],[1,\"#276419\"]]},\"xaxis\":{\"gridcolor\":\"white\",\"linecolor\":\"white\",\"ticks\":\"\",\"title\":{\"standoff\":15},\"zerolinecolor\":\"white\",\"automargin\":true,\"zerolinewidth\":2},\"yaxis\":{\"gridcolor\":\"white\",\"linecolor\":\"white\",\"ticks\":\"\",\"title\":{\"standoff\":15},\"zerolinecolor\":\"white\",\"automargin\":true,\"zerolinewidth\":2},\"scene\":{\"xaxis\":{\"backgroundcolor\":\"#E5ECF6\",\"gridcolor\":\"white\",\"linecolor\":\"white\",\"showbackground\":true,\"ticks\":\"\",\"zerolinecolor\":\"white\",\"gridwidth\":2},\"yaxis\":{\"backgroundcolor\":\"#E5ECF6\",\"gridcolor\":\"white\",\"linecolor\":\"white\",\"showbackground\":true,\"ticks\":\"\",\"zerolinecolor\":\"white\",\"gridwidth\":2},\"zaxis\":{\"backgroundcolor\":\"#E5ECF6\",\"gridcolor\":\"white\",\"linecolor\":\"white\",\"showbackground\":true,\"ticks\":\"\",\"zerolinecolor\":\"white\",\"gridwidth\":2}},\"shapedefaults\":{\"line\":{\"color\":\"#2a3f5f\"}},\"annotationdefaults\":{\"arrowcolor\":\"#2a3f5f\",\"arrowhead\":0,\"arrowwidth\":1},\"geo\":{\"bgcolor\":\"white\",\"landcolor\":\"#E5ECF6\",\"subunitcolor\":\"white\",\"showland\":true,\"showlakes\":true,\"lakecolor\":\"white\"},\"title\":{\"x\":0.05},\"mapbox\":{\"style\":\"light\"}}},\"xaxis\":{\"anchor\":\"y\",\"domain\":[0.0,1.0],\"title\":{\"text\":\"Party\"}},\"yaxis\":{\"anchor\":\"x\",\"domain\":[0.0,1.0],\"title\":{\"text\":\"Seats\"}},\"coloraxis\":{\"colorbar\":{\"title\":{\"text\":\"color\"}},\"colorscale\":[[0.0,\"rgb(236, 218, 154)\"],[0.16666666666666666,\"rgb(239, 196, 126)\"],[0.3333333333333333,\"rgb(243, 173, 106)\"],[0.5,\"rgb(247, 148, 93)\"],[0.6666666666666666,\"rgb(249, 123, 87)\"],[0.8333333333333334,\"rgb(246, 99, 86)\"],[1.0,\"rgb(238, 77, 90)\"]]},\"legend\":{\"tracegroupgap\":0},\"margin\":{\"t\":60},\"barmode\":\"relative\",\"height\":500,\"title\":{\"font\":{\"family\":\"Courier New\",\"color\":\"#351f39\"},\"text\":\"Top 20 Party-wise election results\"},\"font\":{\"family\":\"Courier New\",\"color\":\"#351f39\"}},                        {\"responsive\": true}                    ).then(function(){\n",
       "                            \n",
       "var gd = document.getElementById('06447e72-c1e1-44d8-ace2-b54cccddc918');\n",
       "var x = new MutationObserver(function (mutations, observer) {{\n",
       "        var display = window.getComputedStyle(gd).display;\n",
       "        if (!display || display === 'none') {{\n",
       "            console.log([gd, 'removed!']);\n",
       "            Plotly.purge(gd);\n",
       "            observer.disconnect();\n",
       "        }}\n",
       "}});\n",
       "\n",
       "// Listen for the removal of the full notebook cells\n",
       "var notebookContainer = gd.closest('#notebook-container');\n",
       "if (notebookContainer) {{\n",
       "    x.observe(notebookContainer, {childList: true});\n",
       "}}\n",
       "\n",
       "// Listen for the clearing of the current output cell\n",
       "var outputEl = gd.closest('.output');\n",
       "if (outputEl) {{\n",
       "    x.observe(outputEl, {childList: true});\n",
       "}}\n",
       "\n",
       "                        })                };                });            </script>        </div>"
      ]
     },
     "metadata": {},
     "output_type": "display_data"
    }
   ],
   "source": [
    "# Number of seats won by each party\n",
    "result = df[df['WINNER'] == 1].groupby('PARTY')['WINNER'].size()\n",
    "result_df = pd.DataFrame(data=result).sort_values(by=\"WINNER\", ascending=False)\n",
    "result_df.reset_index(level=0, inplace=True)\n",
    "\n",
    "# Visualize the party-wise election results\n",
    "result_fig = px.bar(result_df, \n",
    "                    x=result_df['PARTY'][:20], \n",
    "                    y=result_df[\"WINNER\"][:20], \n",
    "                    color=result_df['WINNER'][:20], \n",
    "                    height=500,\n",
    "                    color_continuous_scale='Oryel')\n",
    "result_fig.update_layout(title_text='Top 20 Party-wise election results',\n",
    "                         font_family=\"Courier New\",\n",
    "                         font_color=\"#351f39\",\n",
    "                         title_font_family=\"Courier New\",\n",
    "                         title_font_color=\"#351f39\",\n",
    "                         xaxis_title=\"Party\",\n",
    "                         yaxis_title=\"Seats\")\n",
    "result_fig.show()"
   ]
  },
  {
   "cell_type": "code",
   "execution_count": 21,
   "metadata": {},
   "outputs": [
    {
     "data": {
      "application/vnd.plotly.v1+json": {
       "config": {
        "plotlyServerURL": "https://plot.ly"
       },
       "data": [
        {
         "labels": [
          "AITC",
          "BJP",
          "INC",
          "IND",
          "Other",
          "SP"
         ],
         "marker": {
          "line": {
           "color": "#000000",
           "width": 2
          }
         },
         "pull": [
          0.1,
          0.1,
          0.1,
          0.1,
          0.1,
          0.1
         ],
         "type": "pie",
         "values": [
          28213393,
          235974144,
          136758952,
          17850062,
          190644752,
          29549389
         ]
        }
       ],
       "layout": {
        "font": {
         "color": "#351f39",
         "family": "Courier New"
        },
        "template": {
         "data": {
          "bar": [
           {
            "error_x": {
             "color": "#2a3f5f"
            },
            "error_y": {
             "color": "#2a3f5f"
            },
            "marker": {
             "line": {
              "color": "#E5ECF6",
              "width": 0.5
             },
             "pattern": {
              "fillmode": "overlay",
              "size": 10,
              "solidity": 0.2
             }
            },
            "type": "bar"
           }
          ],
          "barpolar": [
           {
            "marker": {
             "line": {
              "color": "#E5ECF6",
              "width": 0.5
             },
             "pattern": {
              "fillmode": "overlay",
              "size": 10,
              "solidity": 0.2
             }
            },
            "type": "barpolar"
           }
          ],
          "carpet": [
           {
            "aaxis": {
             "endlinecolor": "#2a3f5f",
             "gridcolor": "white",
             "linecolor": "white",
             "minorgridcolor": "white",
             "startlinecolor": "#2a3f5f"
            },
            "baxis": {
             "endlinecolor": "#2a3f5f",
             "gridcolor": "white",
             "linecolor": "white",
             "minorgridcolor": "white",
             "startlinecolor": "#2a3f5f"
            },
            "type": "carpet"
           }
          ],
          "choropleth": [
           {
            "colorbar": {
             "outlinewidth": 0,
             "ticks": ""
            },
            "type": "choropleth"
           }
          ],
          "contour": [
           {
            "colorbar": {
             "outlinewidth": 0,
             "ticks": ""
            },
            "colorscale": [
             [
              0,
              "#0d0887"
             ],
             [
              0.1111111111111111,
              "#46039f"
             ],
             [
              0.2222222222222222,
              "#7201a8"
             ],
             [
              0.3333333333333333,
              "#9c179e"
             ],
             [
              0.4444444444444444,
              "#bd3786"
             ],
             [
              0.5555555555555556,
              "#d8576b"
             ],
             [
              0.6666666666666666,
              "#ed7953"
             ],
             [
              0.7777777777777778,
              "#fb9f3a"
             ],
             [
              0.8888888888888888,
              "#fdca26"
             ],
             [
              1,
              "#f0f921"
             ]
            ],
            "type": "contour"
           }
          ],
          "contourcarpet": [
           {
            "colorbar": {
             "outlinewidth": 0,
             "ticks": ""
            },
            "type": "contourcarpet"
           }
          ],
          "heatmap": [
           {
            "colorbar": {
             "outlinewidth": 0,
             "ticks": ""
            },
            "colorscale": [
             [
              0,
              "#0d0887"
             ],
             [
              0.1111111111111111,
              "#46039f"
             ],
             [
              0.2222222222222222,
              "#7201a8"
             ],
             [
              0.3333333333333333,
              "#9c179e"
             ],
             [
              0.4444444444444444,
              "#bd3786"
             ],
             [
              0.5555555555555556,
              "#d8576b"
             ],
             [
              0.6666666666666666,
              "#ed7953"
             ],
             [
              0.7777777777777778,
              "#fb9f3a"
             ],
             [
              0.8888888888888888,
              "#fdca26"
             ],
             [
              1,
              "#f0f921"
             ]
            ],
            "type": "heatmap"
           }
          ],
          "heatmapgl": [
           {
            "colorbar": {
             "outlinewidth": 0,
             "ticks": ""
            },
            "colorscale": [
             [
              0,
              "#0d0887"
             ],
             [
              0.1111111111111111,
              "#46039f"
             ],
             [
              0.2222222222222222,
              "#7201a8"
             ],
             [
              0.3333333333333333,
              "#9c179e"
             ],
             [
              0.4444444444444444,
              "#bd3786"
             ],
             [
              0.5555555555555556,
              "#d8576b"
             ],
             [
              0.6666666666666666,
              "#ed7953"
             ],
             [
              0.7777777777777778,
              "#fb9f3a"
             ],
             [
              0.8888888888888888,
              "#fdca26"
             ],
             [
              1,
              "#f0f921"
             ]
            ],
            "type": "heatmapgl"
           }
          ],
          "histogram": [
           {
            "marker": {
             "pattern": {
              "fillmode": "overlay",
              "size": 10,
              "solidity": 0.2
             }
            },
            "type": "histogram"
           }
          ],
          "histogram2d": [
           {
            "colorbar": {
             "outlinewidth": 0,
             "ticks": ""
            },
            "colorscale": [
             [
              0,
              "#0d0887"
             ],
             [
              0.1111111111111111,
              "#46039f"
             ],
             [
              0.2222222222222222,
              "#7201a8"
             ],
             [
              0.3333333333333333,
              "#9c179e"
             ],
             [
              0.4444444444444444,
              "#bd3786"
             ],
             [
              0.5555555555555556,
              "#d8576b"
             ],
             [
              0.6666666666666666,
              "#ed7953"
             ],
             [
              0.7777777777777778,
              "#fb9f3a"
             ],
             [
              0.8888888888888888,
              "#fdca26"
             ],
             [
              1,
              "#f0f921"
             ]
            ],
            "type": "histogram2d"
           }
          ],
          "histogram2dcontour": [
           {
            "colorbar": {
             "outlinewidth": 0,
             "ticks": ""
            },
            "colorscale": [
             [
              0,
              "#0d0887"
             ],
             [
              0.1111111111111111,
              "#46039f"
             ],
             [
              0.2222222222222222,
              "#7201a8"
             ],
             [
              0.3333333333333333,
              "#9c179e"
             ],
             [
              0.4444444444444444,
              "#bd3786"
             ],
             [
              0.5555555555555556,
              "#d8576b"
             ],
             [
              0.6666666666666666,
              "#ed7953"
             ],
             [
              0.7777777777777778,
              "#fb9f3a"
             ],
             [
              0.8888888888888888,
              "#fdca26"
             ],
             [
              1,
              "#f0f921"
             ]
            ],
            "type": "histogram2dcontour"
           }
          ],
          "mesh3d": [
           {
            "colorbar": {
             "outlinewidth": 0,
             "ticks": ""
            },
            "type": "mesh3d"
           }
          ],
          "parcoords": [
           {
            "line": {
             "colorbar": {
              "outlinewidth": 0,
              "ticks": ""
             }
            },
            "type": "parcoords"
           }
          ],
          "pie": [
           {
            "automargin": true,
            "type": "pie"
           }
          ],
          "scatter": [
           {
            "fillpattern": {
             "fillmode": "overlay",
             "size": 10,
             "solidity": 0.2
            },
            "type": "scatter"
           }
          ],
          "scatter3d": [
           {
            "line": {
             "colorbar": {
              "outlinewidth": 0,
              "ticks": ""
             }
            },
            "marker": {
             "colorbar": {
              "outlinewidth": 0,
              "ticks": ""
             }
            },
            "type": "scatter3d"
           }
          ],
          "scattercarpet": [
           {
            "marker": {
             "colorbar": {
              "outlinewidth": 0,
              "ticks": ""
             }
            },
            "type": "scattercarpet"
           }
          ],
          "scattergeo": [
           {
            "marker": {
             "colorbar": {
              "outlinewidth": 0,
              "ticks": ""
             }
            },
            "type": "scattergeo"
           }
          ],
          "scattergl": [
           {
            "marker": {
             "colorbar": {
              "outlinewidth": 0,
              "ticks": ""
             }
            },
            "type": "scattergl"
           }
          ],
          "scattermapbox": [
           {
            "marker": {
             "colorbar": {
              "outlinewidth": 0,
              "ticks": ""
             }
            },
            "type": "scattermapbox"
           }
          ],
          "scatterpolar": [
           {
            "marker": {
             "colorbar": {
              "outlinewidth": 0,
              "ticks": ""
             }
            },
            "type": "scatterpolar"
           }
          ],
          "scatterpolargl": [
           {
            "marker": {
             "colorbar": {
              "outlinewidth": 0,
              "ticks": ""
             }
            },
            "type": "scatterpolargl"
           }
          ],
          "scatterternary": [
           {
            "marker": {
             "colorbar": {
              "outlinewidth": 0,
              "ticks": ""
             }
            },
            "type": "scatterternary"
           }
          ],
          "surface": [
           {
            "colorbar": {
             "outlinewidth": 0,
             "ticks": ""
            },
            "colorscale": [
             [
              0,
              "#0d0887"
             ],
             [
              0.1111111111111111,
              "#46039f"
             ],
             [
              0.2222222222222222,
              "#7201a8"
             ],
             [
              0.3333333333333333,
              "#9c179e"
             ],
             [
              0.4444444444444444,
              "#bd3786"
             ],
             [
              0.5555555555555556,
              "#d8576b"
             ],
             [
              0.6666666666666666,
              "#ed7953"
             ],
             [
              0.7777777777777778,
              "#fb9f3a"
             ],
             [
              0.8888888888888888,
              "#fdca26"
             ],
             [
              1,
              "#f0f921"
             ]
            ],
            "type": "surface"
           }
          ],
          "table": [
           {
            "cells": {
             "fill": {
              "color": "#EBF0F8"
             },
             "line": {
              "color": "white"
             }
            },
            "header": {
             "fill": {
              "color": "#C8D4E3"
             },
             "line": {
              "color": "white"
             }
            },
            "type": "table"
           }
          ]
         },
         "layout": {
          "annotationdefaults": {
           "arrowcolor": "#2a3f5f",
           "arrowhead": 0,
           "arrowwidth": 1
          },
          "autotypenumbers": "strict",
          "coloraxis": {
           "colorbar": {
            "outlinewidth": 0,
            "ticks": ""
           }
          },
          "colorscale": {
           "diverging": [
            [
             0,
             "#8e0152"
            ],
            [
             0.1,
             "#c51b7d"
            ],
            [
             0.2,
             "#de77ae"
            ],
            [
             0.3,
             "#f1b6da"
            ],
            [
             0.4,
             "#fde0ef"
            ],
            [
             0.5,
             "#f7f7f7"
            ],
            [
             0.6,
             "#e6f5d0"
            ],
            [
             0.7,
             "#b8e186"
            ],
            [
             0.8,
             "#7fbc41"
            ],
            [
             0.9,
             "#4d9221"
            ],
            [
             1,
             "#276419"
            ]
           ],
           "sequential": [
            [
             0,
             "#0d0887"
            ],
            [
             0.1111111111111111,
             "#46039f"
            ],
            [
             0.2222222222222222,
             "#7201a8"
            ],
            [
             0.3333333333333333,
             "#9c179e"
            ],
            [
             0.4444444444444444,
             "#bd3786"
            ],
            [
             0.5555555555555556,
             "#d8576b"
            ],
            [
             0.6666666666666666,
             "#ed7953"
            ],
            [
             0.7777777777777778,
             "#fb9f3a"
            ],
            [
             0.8888888888888888,
             "#fdca26"
            ],
            [
             1,
             "#f0f921"
            ]
           ],
           "sequentialminus": [
            [
             0,
             "#0d0887"
            ],
            [
             0.1111111111111111,
             "#46039f"
            ],
            [
             0.2222222222222222,
             "#7201a8"
            ],
            [
             0.3333333333333333,
             "#9c179e"
            ],
            [
             0.4444444444444444,
             "#bd3786"
            ],
            [
             0.5555555555555556,
             "#d8576b"
            ],
            [
             0.6666666666666666,
             "#ed7953"
            ],
            [
             0.7777777777777778,
             "#fb9f3a"
            ],
            [
             0.8888888888888888,
             "#fdca26"
            ],
            [
             1,
             "#f0f921"
            ]
           ]
          },
          "colorway": [
           "#636efa",
           "#EF553B",
           "#00cc96",
           "#ab63fa",
           "#FFA15A",
           "#19d3f3",
           "#FF6692",
           "#B6E880",
           "#FF97FF",
           "#FECB52"
          ],
          "font": {
           "color": "#2a3f5f"
          },
          "geo": {
           "bgcolor": "white",
           "lakecolor": "white",
           "landcolor": "#E5ECF6",
           "showlakes": true,
           "showland": true,
           "subunitcolor": "white"
          },
          "hoverlabel": {
           "align": "left"
          },
          "hovermode": "closest",
          "mapbox": {
           "style": "light"
          },
          "paper_bgcolor": "white",
          "plot_bgcolor": "#E5ECF6",
          "polar": {
           "angularaxis": {
            "gridcolor": "white",
            "linecolor": "white",
            "ticks": ""
           },
           "bgcolor": "#E5ECF6",
           "radialaxis": {
            "gridcolor": "white",
            "linecolor": "white",
            "ticks": ""
           }
          },
          "scene": {
           "xaxis": {
            "backgroundcolor": "#E5ECF6",
            "gridcolor": "white",
            "gridwidth": 2,
            "linecolor": "white",
            "showbackground": true,
            "ticks": "",
            "zerolinecolor": "white"
           },
           "yaxis": {
            "backgroundcolor": "#E5ECF6",
            "gridcolor": "white",
            "gridwidth": 2,
            "linecolor": "white",
            "showbackground": true,
            "ticks": "",
            "zerolinecolor": "white"
           },
           "zaxis": {
            "backgroundcolor": "#E5ECF6",
            "gridcolor": "white",
            "gridwidth": 2,
            "linecolor": "white",
            "showbackground": true,
            "ticks": "",
            "zerolinecolor": "white"
           }
          },
          "shapedefaults": {
           "line": {
            "color": "#2a3f5f"
           }
          },
          "ternary": {
           "aaxis": {
            "gridcolor": "white",
            "linecolor": "white",
            "ticks": ""
           },
           "baxis": {
            "gridcolor": "white",
            "linecolor": "white",
            "ticks": ""
           },
           "bgcolor": "#E5ECF6",
           "caxis": {
            "gridcolor": "white",
            "linecolor": "white",
            "ticks": ""
           }
          },
          "title": {
           "x": 0.05
          },
          "xaxis": {
           "automargin": true,
           "gridcolor": "white",
           "linecolor": "white",
           "ticks": "",
           "title": {
            "standoff": 15
           },
           "zerolinecolor": "white",
           "zerolinewidth": 2
          },
          "yaxis": {
           "automargin": true,
           "gridcolor": "white",
           "linecolor": "white",
           "ticks": "",
           "title": {
            "standoff": 15
           },
           "zerolinecolor": "white",
           "zerolinewidth": 2
          }
         }
        },
        "title": {
         "font": {
          "color": "#351f39",
          "family": "Courier New"
         },
         "text": "Party-wise Vote Share"
        }
       }
      },
      "text/html": [
       "<div>                            <div id=\"be11a9a7-f5f5-41bc-9a1e-8dab8b6983ae\" class=\"plotly-graph-div\" style=\"height:525px; width:100%;\"></div>            <script type=\"text/javascript\">                require([\"plotly\"], function(Plotly) {                    window.PLOTLYENV=window.PLOTLYENV || {};                                    if (document.getElementById(\"be11a9a7-f5f5-41bc-9a1e-8dab8b6983ae\")) {                    Plotly.newPlot(                        \"be11a9a7-f5f5-41bc-9a1e-8dab8b6983ae\",                        [{\"labels\":[\"AITC\",\"BJP\",\"INC\",\"IND\",\"Other\",\"SP\"],\"marker\":{\"line\":{\"color\":\"#000000\",\"width\":2}},\"pull\":[0.1,0.1,0.1,0.1,0.1,0.1],\"values\":[28213393,235974144,136758952,17850062,190644752,29549389],\"type\":\"pie\"}],                        {\"template\":{\"data\":{\"histogram2dcontour\":[{\"type\":\"histogram2dcontour\",\"colorbar\":{\"outlinewidth\":0,\"ticks\":\"\"},\"colorscale\":[[0.0,\"#0d0887\"],[0.1111111111111111,\"#46039f\"],[0.2222222222222222,\"#7201a8\"],[0.3333333333333333,\"#9c179e\"],[0.4444444444444444,\"#bd3786\"],[0.5555555555555556,\"#d8576b\"],[0.6666666666666666,\"#ed7953\"],[0.7777777777777778,\"#fb9f3a\"],[0.8888888888888888,\"#fdca26\"],[1.0,\"#f0f921\"]]}],\"choropleth\":[{\"type\":\"choropleth\",\"colorbar\":{\"outlinewidth\":0,\"ticks\":\"\"}}],\"histogram2d\":[{\"type\":\"histogram2d\",\"colorbar\":{\"outlinewidth\":0,\"ticks\":\"\"},\"colorscale\":[[0.0,\"#0d0887\"],[0.1111111111111111,\"#46039f\"],[0.2222222222222222,\"#7201a8\"],[0.3333333333333333,\"#9c179e\"],[0.4444444444444444,\"#bd3786\"],[0.5555555555555556,\"#d8576b\"],[0.6666666666666666,\"#ed7953\"],[0.7777777777777778,\"#fb9f3a\"],[0.8888888888888888,\"#fdca26\"],[1.0,\"#f0f921\"]]}],\"heatmap\":[{\"type\":\"heatmap\",\"colorbar\":{\"outlinewidth\":0,\"ticks\":\"\"},\"colorscale\":[[0.0,\"#0d0887\"],[0.1111111111111111,\"#46039f\"],[0.2222222222222222,\"#7201a8\"],[0.3333333333333333,\"#9c179e\"],[0.4444444444444444,\"#bd3786\"],[0.5555555555555556,\"#d8576b\"],[0.6666666666666666,\"#ed7953\"],[0.7777777777777778,\"#fb9f3a\"],[0.8888888888888888,\"#fdca26\"],[1.0,\"#f0f921\"]]}],\"heatmapgl\":[{\"type\":\"heatmapgl\",\"colorbar\":{\"outlinewidth\":0,\"ticks\":\"\"},\"colorscale\":[[0.0,\"#0d0887\"],[0.1111111111111111,\"#46039f\"],[0.2222222222222222,\"#7201a8\"],[0.3333333333333333,\"#9c179e\"],[0.4444444444444444,\"#bd3786\"],[0.5555555555555556,\"#d8576b\"],[0.6666666666666666,\"#ed7953\"],[0.7777777777777778,\"#fb9f3a\"],[0.8888888888888888,\"#fdca26\"],[1.0,\"#f0f921\"]]}],\"contourcarpet\":[{\"type\":\"contourcarpet\",\"colorbar\":{\"outlinewidth\":0,\"ticks\":\"\"}}],\"contour\":[{\"type\":\"contour\",\"colorbar\":{\"outlinewidth\":0,\"ticks\":\"\"},\"colorscale\":[[0.0,\"#0d0887\"],[0.1111111111111111,\"#46039f\"],[0.2222222222222222,\"#7201a8\"],[0.3333333333333333,\"#9c179e\"],[0.4444444444444444,\"#bd3786\"],[0.5555555555555556,\"#d8576b\"],[0.6666666666666666,\"#ed7953\"],[0.7777777777777778,\"#fb9f3a\"],[0.8888888888888888,\"#fdca26\"],[1.0,\"#f0f921\"]]}],\"surface\":[{\"type\":\"surface\",\"colorbar\":{\"outlinewidth\":0,\"ticks\":\"\"},\"colorscale\":[[0.0,\"#0d0887\"],[0.1111111111111111,\"#46039f\"],[0.2222222222222222,\"#7201a8\"],[0.3333333333333333,\"#9c179e\"],[0.4444444444444444,\"#bd3786\"],[0.5555555555555556,\"#d8576b\"],[0.6666666666666666,\"#ed7953\"],[0.7777777777777778,\"#fb9f3a\"],[0.8888888888888888,\"#fdca26\"],[1.0,\"#f0f921\"]]}],\"mesh3d\":[{\"type\":\"mesh3d\",\"colorbar\":{\"outlinewidth\":0,\"ticks\":\"\"}}],\"scatter\":[{\"fillpattern\":{\"fillmode\":\"overlay\",\"size\":10,\"solidity\":0.2},\"type\":\"scatter\"}],\"parcoords\":[{\"type\":\"parcoords\",\"line\":{\"colorbar\":{\"outlinewidth\":0,\"ticks\":\"\"}}}],\"scatterpolargl\":[{\"type\":\"scatterpolargl\",\"marker\":{\"colorbar\":{\"outlinewidth\":0,\"ticks\":\"\"}}}],\"bar\":[{\"error_x\":{\"color\":\"#2a3f5f\"},\"error_y\":{\"color\":\"#2a3f5f\"},\"marker\":{\"line\":{\"color\":\"#E5ECF6\",\"width\":0.5},\"pattern\":{\"fillmode\":\"overlay\",\"size\":10,\"solidity\":0.2}},\"type\":\"bar\"}],\"scattergeo\":[{\"type\":\"scattergeo\",\"marker\":{\"colorbar\":{\"outlinewidth\":0,\"ticks\":\"\"}}}],\"scatterpolar\":[{\"type\":\"scatterpolar\",\"marker\":{\"colorbar\":{\"outlinewidth\":0,\"ticks\":\"\"}}}],\"histogram\":[{\"marker\":{\"pattern\":{\"fillmode\":\"overlay\",\"size\":10,\"solidity\":0.2}},\"type\":\"histogram\"}],\"scattergl\":[{\"type\":\"scattergl\",\"marker\":{\"colorbar\":{\"outlinewidth\":0,\"ticks\":\"\"}}}],\"scatter3d\":[{\"type\":\"scatter3d\",\"line\":{\"colorbar\":{\"outlinewidth\":0,\"ticks\":\"\"}},\"marker\":{\"colorbar\":{\"outlinewidth\":0,\"ticks\":\"\"}}}],\"scattermapbox\":[{\"type\":\"scattermapbox\",\"marker\":{\"colorbar\":{\"outlinewidth\":0,\"ticks\":\"\"}}}],\"scatterternary\":[{\"type\":\"scatterternary\",\"marker\":{\"colorbar\":{\"outlinewidth\":0,\"ticks\":\"\"}}}],\"scattercarpet\":[{\"type\":\"scattercarpet\",\"marker\":{\"colorbar\":{\"outlinewidth\":0,\"ticks\":\"\"}}}],\"carpet\":[{\"aaxis\":{\"endlinecolor\":\"#2a3f5f\",\"gridcolor\":\"white\",\"linecolor\":\"white\",\"minorgridcolor\":\"white\",\"startlinecolor\":\"#2a3f5f\"},\"baxis\":{\"endlinecolor\":\"#2a3f5f\",\"gridcolor\":\"white\",\"linecolor\":\"white\",\"minorgridcolor\":\"white\",\"startlinecolor\":\"#2a3f5f\"},\"type\":\"carpet\"}],\"table\":[{\"cells\":{\"fill\":{\"color\":\"#EBF0F8\"},\"line\":{\"color\":\"white\"}},\"header\":{\"fill\":{\"color\":\"#C8D4E3\"},\"line\":{\"color\":\"white\"}},\"type\":\"table\"}],\"barpolar\":[{\"marker\":{\"line\":{\"color\":\"#E5ECF6\",\"width\":0.5},\"pattern\":{\"fillmode\":\"overlay\",\"size\":10,\"solidity\":0.2}},\"type\":\"barpolar\"}],\"pie\":[{\"automargin\":true,\"type\":\"pie\"}]},\"layout\":{\"autotypenumbers\":\"strict\",\"colorway\":[\"#636efa\",\"#EF553B\",\"#00cc96\",\"#ab63fa\",\"#FFA15A\",\"#19d3f3\",\"#FF6692\",\"#B6E880\",\"#FF97FF\",\"#FECB52\"],\"font\":{\"color\":\"#2a3f5f\"},\"hovermode\":\"closest\",\"hoverlabel\":{\"align\":\"left\"},\"paper_bgcolor\":\"white\",\"plot_bgcolor\":\"#E5ECF6\",\"polar\":{\"bgcolor\":\"#E5ECF6\",\"angularaxis\":{\"gridcolor\":\"white\",\"linecolor\":\"white\",\"ticks\":\"\"},\"radialaxis\":{\"gridcolor\":\"white\",\"linecolor\":\"white\",\"ticks\":\"\"}},\"ternary\":{\"bgcolor\":\"#E5ECF6\",\"aaxis\":{\"gridcolor\":\"white\",\"linecolor\":\"white\",\"ticks\":\"\"},\"baxis\":{\"gridcolor\":\"white\",\"linecolor\":\"white\",\"ticks\":\"\"},\"caxis\":{\"gridcolor\":\"white\",\"linecolor\":\"white\",\"ticks\":\"\"}},\"coloraxis\":{\"colorbar\":{\"outlinewidth\":0,\"ticks\":\"\"}},\"colorscale\":{\"sequential\":[[0.0,\"#0d0887\"],[0.1111111111111111,\"#46039f\"],[0.2222222222222222,\"#7201a8\"],[0.3333333333333333,\"#9c179e\"],[0.4444444444444444,\"#bd3786\"],[0.5555555555555556,\"#d8576b\"],[0.6666666666666666,\"#ed7953\"],[0.7777777777777778,\"#fb9f3a\"],[0.8888888888888888,\"#fdca26\"],[1.0,\"#f0f921\"]],\"sequentialminus\":[[0.0,\"#0d0887\"],[0.1111111111111111,\"#46039f\"],[0.2222222222222222,\"#7201a8\"],[0.3333333333333333,\"#9c179e\"],[0.4444444444444444,\"#bd3786\"],[0.5555555555555556,\"#d8576b\"],[0.6666666666666666,\"#ed7953\"],[0.7777777777777778,\"#fb9f3a\"],[0.8888888888888888,\"#fdca26\"],[1.0,\"#f0f921\"]],\"diverging\":[[0,\"#8e0152\"],[0.1,\"#c51b7d\"],[0.2,\"#de77ae\"],[0.3,\"#f1b6da\"],[0.4,\"#fde0ef\"],[0.5,\"#f7f7f7\"],[0.6,\"#e6f5d0\"],[0.7,\"#b8e186\"],[0.8,\"#7fbc41\"],[0.9,\"#4d9221\"],[1,\"#276419\"]]},\"xaxis\":{\"gridcolor\":\"white\",\"linecolor\":\"white\",\"ticks\":\"\",\"title\":{\"standoff\":15},\"zerolinecolor\":\"white\",\"automargin\":true,\"zerolinewidth\":2},\"yaxis\":{\"gridcolor\":\"white\",\"linecolor\":\"white\",\"ticks\":\"\",\"title\":{\"standoff\":15},\"zerolinecolor\":\"white\",\"automargin\":true,\"zerolinewidth\":2},\"scene\":{\"xaxis\":{\"backgroundcolor\":\"#E5ECF6\",\"gridcolor\":\"white\",\"linecolor\":\"white\",\"showbackground\":true,\"ticks\":\"\",\"zerolinecolor\":\"white\",\"gridwidth\":2},\"yaxis\":{\"backgroundcolor\":\"#E5ECF6\",\"gridcolor\":\"white\",\"linecolor\":\"white\",\"showbackground\":true,\"ticks\":\"\",\"zerolinecolor\":\"white\",\"gridwidth\":2},\"zaxis\":{\"backgroundcolor\":\"#E5ECF6\",\"gridcolor\":\"white\",\"linecolor\":\"white\",\"showbackground\":true,\"ticks\":\"\",\"zerolinecolor\":\"white\",\"gridwidth\":2}},\"shapedefaults\":{\"line\":{\"color\":\"#2a3f5f\"}},\"annotationdefaults\":{\"arrowcolor\":\"#2a3f5f\",\"arrowhead\":0,\"arrowwidth\":1},\"geo\":{\"bgcolor\":\"white\",\"landcolor\":\"#E5ECF6\",\"subunitcolor\":\"white\",\"showland\":true,\"showlakes\":true,\"lakecolor\":\"white\"},\"title\":{\"x\":0.05},\"mapbox\":{\"style\":\"light\"}}},\"title\":{\"font\":{\"family\":\"Courier New\",\"color\":\"#351f39\"},\"text\":\"Party-wise Vote Share\"},\"font\":{\"family\":\"Courier New\",\"color\":\"#351f39\"}},                        {\"responsive\": true}                    ).then(function(){\n",
       "                            \n",
       "var gd = document.getElementById('be11a9a7-f5f5-41bc-9a1e-8dab8b6983ae');\n",
       "var x = new MutationObserver(function (mutations, observer) {{\n",
       "        var display = window.getComputedStyle(gd).display;\n",
       "        if (!display || display === 'none') {{\n",
       "            console.log([gd, 'removed!']);\n",
       "            Plotly.purge(gd);\n",
       "            observer.disconnect();\n",
       "        }}\n",
       "}});\n",
       "\n",
       "// Listen for the removal of the full notebook cells\n",
       "var notebookContainer = gd.closest('#notebook-container');\n",
       "if (notebookContainer) {{\n",
       "    x.observe(notebookContainer, {childList: true});\n",
       "}}\n",
       "\n",
       "// Listen for the clearing of the current output cell\n",
       "var outputEl = gd.closest('.output');\n",
       "if (outputEl) {{\n",
       "    x.observe(outputEl, {childList: true});\n",
       "}}\n",
       "\n",
       "                        })                };                });            </script>        </div>"
      ]
     },
     "metadata": {},
     "output_type": "display_data"
    }
   ],
   "source": [
    "# Create a dataframe with total number of votes won by each party\n",
    "result = df[df['WINNER'] == 1].groupby('PARTY')['WINNER'].size()\n",
    "vote_Share = df.groupby('PARTY')['TOTAL VOTES'].sum()\n",
    "vote_Share_df = pd.DataFrame(data=vote_Share, index=vote_Share.index).sort_values(by=\"TOTAL VOTES\", ascending=False)\n",
    "vote_Share_df.reset_index(level=0, inplace=True)\n",
    "\n",
    "# Sort out the top five parties according to the total number of votes\n",
    "vote_share_top5 = df.groupby('PARTY')['TOTAL VOTES'].sum().nlargest(5).index.tolist()\n",
    "\n",
    "# Create a method to label parties as 'Other' if they are not top five in total number of votes.\n",
    "def sort_party(data):\n",
    "    '''\n",
    "    Method to label parties as 'Other' if they are not top five in total number of votes.\n",
    "    data: input rows\n",
    "    '''\n",
    "    if data['PARTY'] not in vote_share_top5:\n",
    "        return 'Other'\n",
    "    else:\n",
    "        return data['PARTY']\n",
    "\n",
    "# Calling the method\n",
    "df['Party New'] = df.apply(sort_party, axis=1)\n",
    "\n",
    "# Visualize Party-wise vote share\n",
    "vote_count = df.groupby('Party New')['TOTAL VOTES'].sum()\n",
    "vote_count_fig = go.Figure(go.Pie(labels=vote_count.index, \n",
    "                                  values=vote_count.values,\n",
    "                                  pull=[0.1, 0.1, 0.1, 0.1, 0.1, 0.1],\n",
    "                                  marker=dict(line=dict(color=\"#000000\", \n",
    "                                                        width=2))))\n",
    "vote_count_fig.update_layout(title_text='Party-wise Vote Share',\n",
    "                             font_family=\"Courier New\",\n",
    "                             font_color=\"#351f39\",\n",
    "                             title_font_family=\"Courier New\",\n",
    "                             title_font_color=\"#351f39\")\n",
    "vote_count_fig.show()"
   ]
  },
  {
   "cell_type": "code",
   "execution_count": 22,
   "metadata": {},
   "outputs": [
    {
     "data": {
      "text/plain": [
       "Party New\n",
       "IND      3921\n",
       "Other    3551\n",
       "BJP       440\n",
       "INC       328\n",
       "SP         71\n",
       "AITC       48\n",
       "Name: count, dtype: int64"
      ]
     },
     "execution_count": 22,
     "metadata": {},
     "output_type": "execute_result"
    }
   ],
   "source": [
    "df['Party New'].value_counts()"
   ]
  },
  {
   "cell_type": "code",
   "execution_count": 23,
   "metadata": {},
   "outputs": [
    {
     "data": {
      "application/vnd.plotly.v1+json": {
       "config": {
        "plotlyServerURL": "https://plot.ly"
       },
       "data": [
        {
         "alignmentgroup": "True",
         "bingroup": "x",
         "hovertemplate": "AGE=%{x}<br>count=%{y}<extra></extra>",
         "legendgroup": "",
         "marker": {
          "color": "indianred",
          "pattern": {
           "shape": ""
          }
         },
         "name": "",
         "offsetgroup": "",
         "orientation": "v",
         "showlegend": false,
         "type": "histogram",
         "x": [
          31,
          53,
          41,
          30,
          48,
          64,
          32,
          28,
          47,
          42,
          42,
          45,
          43,
          36,
          50,
          59,
          38,
          40,
          39,
          38,
          66,
          37,
          47,
          34,
          49,
          29,
          50,
          62,
          33,
          69,
          58,
          48,
          42,
          45,
          50,
          37,
          46,
          55,
          61,
          60,
          50,
          35,
          61,
          52,
          60,
          57,
          43,
          44,
          53,
          54,
          52,
          55,
          42,
          49,
          53,
          57,
          49,
          37,
          26,
          48,
          39,
          29,
          44,
          38,
          42,
          31,
          49,
          52,
          56,
          43,
          38,
          58,
          44,
          51,
          58,
          60,
          50,
          54,
          70,
          36,
          50,
          70,
          54,
          60,
          39,
          43,
          35,
          54,
          42,
          38,
          54,
          56,
          41,
          55,
          25,
          32,
          55,
          63,
          33,
          64,
          44,
          31,
          52,
          53,
          33,
          65,
          54,
          59,
          30,
          64,
          71,
          51,
          28,
          61,
          62,
          39,
          32,
          47,
          39,
          67,
          60,
          55,
          62,
          31,
          50,
          45,
          35,
          54,
          67,
          39,
          43,
          56,
          57,
          64,
          33,
          56,
          49,
          51,
          41,
          43,
          55,
          36,
          68,
          41,
          47,
          54,
          53,
          46,
          38,
          36,
          67,
          40,
          39,
          33,
          47,
          32,
          65,
          42,
          70,
          56,
          41,
          49,
          44,
          51,
          55,
          55,
          70,
          60,
          66,
          46,
          63,
          34,
          38,
          76,
          39,
          25,
          55,
          32,
          58,
          51,
          55,
          58,
          36,
          50,
          27,
          38,
          50,
          45,
          37,
          34,
          49,
          51,
          55,
          49,
          61,
          70,
          46,
          48,
          57,
          57,
          63,
          48,
          31,
          46,
          34,
          31,
          58,
          66,
          50,
          33,
          58,
          39,
          37,
          33,
          48,
          55,
          50,
          39,
          45,
          53,
          55,
          40,
          49,
          34,
          74,
          56,
          45,
          41,
          44,
          55,
          61,
          51,
          31,
          51,
          40,
          48,
          53,
          50,
          37,
          54,
          40,
          40,
          64,
          46,
          70,
          61,
          46,
          34,
          34,
          57,
          46,
          32,
          37,
          43,
          41,
          58,
          67,
          70,
          51,
          50,
          50,
          36,
          41,
          37,
          61,
          33,
          63,
          38,
          51,
          53,
          38,
          41,
          47,
          33,
          35,
          25,
          33,
          48,
          39,
          54,
          33,
          27,
          40,
          66,
          38,
          51,
          43,
          53,
          51,
          41,
          52,
          43,
          37,
          57,
          60,
          38,
          66,
          55,
          48,
          44,
          44,
          28,
          42,
          58,
          57,
          69,
          75,
          40,
          50,
          43,
          68,
          46,
          48,
          45,
          57,
          56,
          50,
          30,
          31,
          44,
          52,
          50,
          41,
          37,
          42,
          42,
          35,
          34,
          70,
          38,
          52,
          40,
          60,
          59,
          61,
          59,
          49,
          53,
          44,
          38,
          59,
          38,
          68,
          33,
          40,
          48,
          33,
          49,
          37,
          37,
          42,
          35,
          58,
          64,
          51,
          60,
          29,
          46,
          44,
          55,
          46,
          40,
          32,
          46,
          30,
          36,
          39,
          37,
          50,
          53,
          43,
          49,
          58,
          42,
          45,
          34,
          40,
          50,
          62,
          44,
          68,
          66,
          67,
          70,
          34,
          38,
          28,
          49,
          40,
          49,
          53,
          37,
          72,
          51,
          38,
          71,
          69,
          66,
          53,
          36,
          61,
          61,
          59,
          46,
          51,
          53,
          50,
          34,
          41,
          43,
          38,
          28,
          46,
          31,
          45,
          26,
          40,
          46,
          63,
          38,
          44,
          71,
          26,
          40,
          26,
          44,
          50,
          65,
          37,
          34,
          49,
          25,
          30,
          69,
          62,
          62,
          73,
          48,
          64,
          36,
          35,
          52,
          35,
          48,
          40,
          32,
          36,
          34,
          33,
          37,
          32,
          34,
          30,
          37,
          53,
          56,
          28,
          43,
          41,
          53,
          38,
          36,
          59,
          57,
          55,
          54,
          30,
          43,
          48,
          58,
          49,
          38,
          26,
          59,
          35,
          42,
          46,
          30,
          58,
          53,
          59,
          68,
          55,
          53,
          47,
          50,
          44,
          62,
          48,
          44,
          30,
          69,
          40,
          72,
          50,
          70,
          59,
          26,
          46,
          49,
          40,
          54,
          46,
          52,
          67,
          37,
          51,
          50,
          67,
          65,
          37,
          67,
          48,
          42,
          54,
          72,
          50,
          28,
          45,
          51,
          41,
          71,
          34,
          65,
          63,
          41,
          56,
          73,
          64,
          75,
          62,
          50,
          71,
          55,
          56,
          51,
          38,
          61,
          52,
          57,
          33,
          53,
          64,
          66,
          29,
          43,
          51,
          51,
          39,
          55,
          59,
          36,
          36,
          41,
          37,
          66,
          51,
          70,
          48,
          51,
          67,
          46,
          54,
          64,
          52,
          52,
          56,
          40,
          58,
          49,
          49,
          47,
          42,
          32,
          49,
          57,
          48,
          42,
          43,
          53,
          53,
          62,
          53,
          44,
          66,
          45,
          28,
          67,
          53,
          45,
          47,
          58,
          41,
          55,
          44,
          58,
          65,
          62,
          46,
          32,
          27,
          33,
          40,
          54,
          62,
          45,
          47,
          41,
          55,
          62,
          58,
          39,
          46,
          48,
          42,
          46,
          66,
          36,
          27,
          55,
          42,
          58,
          57,
          41,
          38,
          53,
          48,
          37,
          51,
          74,
          50,
          40,
          40,
          31,
          48,
          35,
          55,
          33,
          29,
          53,
          29,
          57,
          46,
          29,
          26,
          37,
          65,
          48,
          52,
          32,
          28,
          46,
          60,
          71,
          52,
          27,
          46,
          54,
          52,
          49,
          53,
          38,
          33,
          37,
          62,
          27,
          51,
          54,
          68,
          44,
          53,
          31,
          44,
          43,
          28,
          55,
          35,
          35,
          45,
          68,
          59,
          56,
          53,
          41,
          64,
          57,
          31,
          50,
          39,
          78,
          47,
          54,
          49,
          67,
          37,
          44,
          59,
          47,
          31,
          64,
          26,
          39,
          31,
          64,
          58,
          42,
          37,
          38,
          51,
          56,
          47,
          49,
          40,
          60,
          54,
          60,
          52,
          31,
          27,
          50,
          44,
          40,
          48,
          47,
          58,
          73,
          56,
          34,
          32,
          37,
          52,
          50,
          44,
          28,
          56,
          48,
          49,
          49,
          41,
          45,
          50,
          72,
          57,
          66,
          48,
          65,
          67,
          63,
          35,
          54,
          58,
          47,
          52,
          49,
          55,
          49,
          40,
          46,
          55,
          45,
          70,
          56,
          48,
          47,
          35,
          53,
          53,
          32,
          55,
          55,
          25,
          36,
          45,
          35,
          41,
          32,
          51,
          45,
          64,
          41,
          40,
          51,
          46,
          53,
          55,
          27,
          41,
          49,
          49,
          42,
          65,
          29,
          52,
          29,
          51,
          41,
          26,
          57,
          67,
          36,
          45,
          31,
          54,
          45,
          35,
          44,
          53,
          56,
          49,
          61,
          53,
          77,
          38,
          34,
          46,
          37,
          68,
          48,
          46,
          40,
          38,
          44,
          65,
          33,
          51,
          40,
          72,
          62,
          44,
          69,
          35,
          29,
          27,
          54,
          63,
          36,
          46,
          54,
          37,
          37,
          43,
          42,
          53,
          49,
          40,
          54,
          44,
          52,
          36,
          37,
          47,
          33,
          69,
          36,
          52,
          58,
          55,
          45,
          27,
          31,
          43,
          50,
          47,
          45,
          29,
          72,
          40,
          42,
          25,
          33,
          41,
          26,
          54,
          36,
          29,
          34,
          31,
          50,
          29,
          43,
          71,
          72,
          52,
          50,
          33,
          69,
          33,
          61,
          35,
          34,
          31,
          56,
          32,
          33,
          29,
          33,
          40,
          36,
          39,
          54,
          65,
          42,
          46,
          70,
          26,
          59,
          50,
          33,
          42,
          70,
          45,
          38,
          47,
          57,
          63,
          70,
          40,
          62,
          56,
          48,
          44,
          34,
          50,
          73,
          70,
          46,
          51,
          28,
          69,
          39,
          61,
          36,
          36,
          58,
          41,
          47,
          65,
          37,
          42,
          70,
          38,
          55,
          33,
          52,
          52,
          41,
          29,
          47,
          34,
          55,
          50,
          43,
          60,
          45,
          40,
          57,
          47,
          36,
          60,
          54,
          39,
          30,
          62,
          40,
          61,
          69,
          54,
          50,
          48,
          64,
          55,
          44,
          49,
          48,
          36,
          47,
          59,
          35,
          64,
          50,
          40,
          34,
          47,
          63,
          73,
          62,
          48,
          46,
          52,
          42,
          65,
          47,
          47,
          55,
          47,
          33,
          29,
          52,
          34,
          28,
          39,
          42,
          42,
          65,
          56,
          71,
          28,
          83,
          56,
          54,
          57,
          29,
          46,
          64,
          52,
          35,
          41,
          41,
          52,
          53,
          45,
          42,
          60,
          39,
          47,
          66,
          29,
          41,
          36,
          39,
          40,
          29,
          40,
          56,
          28,
          67,
          47,
          38,
          35,
          31,
          51,
          47,
          66,
          38,
          61,
          34,
          54,
          31,
          45,
          33,
          26,
          55,
          35,
          60,
          53,
          65,
          72,
          65,
          46,
          36,
          57,
          26,
          39,
          44,
          63,
          34,
          63,
          67,
          61,
          44,
          53,
          58,
          36,
          32,
          62,
          76,
          61,
          44,
          36,
          78,
          48,
          33,
          51,
          66,
          43,
          26,
          28,
          25,
          42,
          37,
          44,
          60,
          66,
          54,
          50,
          48,
          34,
          52,
          33,
          52,
          64,
          45,
          38,
          51,
          41,
          57,
          69,
          40,
          71,
          77,
          39,
          53,
          42,
          55,
          61,
          33,
          54,
          49,
          39,
          33,
          41,
          44,
          49,
          54,
          45,
          30,
          45,
          53,
          41,
          54,
          43,
          31,
          40,
          39,
          60,
          48,
          44,
          33,
          54,
          54,
          39,
          25,
          63,
          34,
          44,
          58,
          48,
          69,
          51,
          42,
          57,
          27,
          31,
          50,
          63,
          46,
          49,
          62,
          54,
          66,
          47,
          68,
          59,
          50,
          58,
          57,
          78,
          33,
          45,
          44,
          56,
          29,
          32,
          40,
          52,
          51,
          63,
          59,
          64,
          60,
          25,
          44,
          55,
          72,
          55,
          43,
          70,
          55,
          40,
          58,
          39,
          63,
          62,
          57,
          43,
          51,
          43,
          43,
          34,
          36,
          58,
          37,
          49,
          36,
          50,
          37,
          48,
          54,
          44,
          54,
          59,
          37,
          39,
          60,
          50,
          61,
          49,
          39,
          55,
          45,
          40,
          34,
          47,
          30,
          38,
          47,
          43,
          38,
          29,
          69,
          47,
          50,
          48,
          43,
          61,
          39,
          39,
          37,
          51,
          62,
          70,
          59,
          50,
          27,
          50,
          56,
          40,
          56,
          43,
          47,
          49,
          43,
          40,
          53,
          59,
          45,
          70,
          53,
          46,
          61,
          52,
          47,
          70,
          42,
          42,
          55,
          53,
          44,
          48,
          39,
          45,
          33,
          45,
          45,
          62,
          54,
          40,
          55,
          35,
          37,
          34,
          37,
          25,
          57,
          46,
          40,
          50,
          33,
          26,
          47,
          27,
          57,
          65,
          47,
          34,
          73,
          59,
          48,
          60,
          29,
          44,
          29,
          43,
          59,
          65,
          42,
          31,
          42,
          42,
          50,
          37,
          43,
          51,
          44,
          50,
          43,
          63,
          31,
          50,
          26,
          42,
          40,
          40,
          57,
          69,
          36,
          68,
          72,
          49,
          50,
          44,
          63,
          33,
          42,
          48,
          44,
          40,
          44,
          32,
          46,
          30,
          59,
          49,
          46,
          33,
          36,
          54,
          67,
          72,
          65,
          33,
          34,
          66,
          35,
          45,
          42,
          56,
          64,
          49,
          35,
          33,
          49,
          66,
          70,
          35,
          54,
          47,
          43,
          69,
          67,
          40,
          49,
          42,
          58,
          42,
          66,
          46,
          35,
          43,
          53,
          38,
          39,
          37,
          46,
          64,
          51,
          59,
          32,
          51,
          44,
          59,
          45,
          30,
          42,
          57,
          37,
          58,
          65,
          55,
          41,
          65,
          39,
          35,
          54,
          63,
          60,
          34,
          37,
          52,
          39,
          42,
          62,
          61,
          42,
          61,
          70,
          53,
          48,
          60,
          60,
          69,
          42,
          44,
          63,
          29,
          46,
          52,
          44,
          26,
          69,
          74,
          29,
          69,
          59,
          61,
          48,
          42,
          58,
          77,
          26,
          64,
          38,
          39,
          71,
          41,
          37,
          59,
          39,
          40,
          36,
          48,
          35,
          46,
          69,
          78,
          59,
          49,
          56,
          36,
          63,
          48,
          32,
          34,
          42,
          40,
          25,
          37,
          57,
          50,
          32,
          42,
          52,
          30,
          27,
          70,
          46,
          63,
          54,
          35,
          34,
          28,
          70,
          30,
          53,
          74,
          46,
          49,
          27,
          44,
          37,
          37,
          37,
          48,
          37,
          66,
          40,
          53,
          47,
          59,
          45,
          60,
          61,
          36,
          62,
          55,
          51,
          54,
          63,
          37,
          29,
          57,
          60,
          65,
          40,
          51,
          37,
          28,
          46,
          36,
          42,
          31,
          37,
          46,
          61,
          38,
          43,
          43,
          47,
          40,
          50,
          40,
          39,
          39,
          78,
          60,
          43,
          41,
          36,
          53,
          43,
          37,
          25,
          59,
          39,
          48,
          50,
          43,
          29,
          69,
          68,
          67,
          52,
          48,
          31,
          37,
          69,
          52,
          31,
          26,
          44,
          61,
          49,
          68,
          65,
          51,
          74,
          71,
          33,
          41,
          57,
          42,
          55,
          66,
          36,
          70,
          42,
          58,
          44,
          57,
          56,
          44,
          53,
          54,
          69,
          34,
          69,
          25,
          46,
          67,
          79,
          60,
          49,
          34,
          45,
          33,
          48,
          42,
          32,
          39,
          56,
          69,
          53,
          50,
          45,
          40,
          53,
          51,
          50,
          37,
          55,
          47,
          41,
          62,
          71,
          41,
          56,
          53,
          34,
          64,
          49,
          71,
          59,
          37,
          34,
          65,
          54,
          52,
          46,
          42,
          45,
          56,
          38,
          50,
          53,
          62,
          38,
          53,
          56,
          65,
          32,
          50,
          34,
          66,
          69,
          53,
          42,
          31,
          52,
          43,
          27,
          60,
          60,
          29,
          45,
          42,
          37,
          43,
          31,
          39,
          32,
          49,
          42,
          53,
          45,
          54,
          36,
          49,
          68,
          31,
          66,
          64,
          58,
          46,
          43,
          41,
          43,
          42,
          39,
          42,
          46,
          72,
          30,
          43,
          53,
          29,
          37,
          59,
          38,
          45,
          32,
          52,
          56,
          44,
          54,
          43,
          46,
          38,
          42,
          51,
          38,
          37,
          64,
          71,
          64,
          44,
          45,
          41,
          30,
          47,
          48,
          63,
          65,
          53,
          40,
          33,
          30,
          41,
          39,
          34,
          30,
          39,
          44,
          36,
          40,
          60,
          66,
          44,
          35,
          35,
          55,
          53,
          28,
          26,
          57,
          35,
          39,
          72,
          49,
          60,
          54,
          35,
          59,
          57,
          54,
          44,
          36,
          41,
          28,
          31,
          54,
          44,
          48,
          54,
          31,
          40,
          43,
          44,
          50,
          38,
          50,
          29,
          46,
          49,
          37,
          30,
          43,
          58,
          40,
          45,
          57,
          53,
          46,
          39,
          65,
          37,
          55,
          57,
          47,
          47,
          64,
          46,
          45,
          60,
          42,
          55,
          28,
          53,
          64,
          44,
          32,
          68,
          35,
          55,
          61,
          34,
          42,
          54,
          45,
          47,
          34,
          60,
          75,
          43,
          40,
          32,
          64,
          33,
          58,
          45,
          46,
          63,
          47,
          39,
          66,
          41,
          57,
          63,
          37,
          38,
          56,
          46,
          29,
          62,
          48,
          69,
          39,
          48,
          49,
          45,
          47,
          50,
          41,
          38,
          41,
          44,
          36,
          54,
          31,
          39,
          64,
          65,
          42,
          42,
          59,
          44,
          44,
          31,
          39,
          55,
          37,
          43,
          41,
          35,
          50,
          59,
          77,
          30,
          37,
          29,
          67,
          35,
          41,
          38,
          55,
          54,
          55,
          52,
          62,
          55,
          53,
          55,
          34,
          44,
          66,
          34,
          52,
          64,
          71,
          65,
          68,
          34,
          75,
          45,
          46,
          33,
          39,
          32,
          34,
          43,
          46,
          49,
          60,
          35,
          38,
          29,
          47,
          51,
          41,
          52,
          49,
          72,
          42,
          53,
          63,
          33,
          47,
          59,
          48,
          47,
          39,
          73,
          68,
          44,
          34,
          39,
          39,
          36,
          36,
          42,
          30,
          53,
          37,
          37,
          63,
          38,
          33,
          40,
          65,
          34,
          61,
          72,
          69,
          58,
          61,
          53,
          33,
          44,
          58,
          34,
          45,
          49,
          38,
          39,
          57,
          50,
          62,
          69,
          53,
          65,
          59,
          29,
          46,
          64,
          34,
          53,
          52,
          39,
          38,
          55,
          49,
          63,
          43,
          32,
          59,
          63,
          38,
          33,
          52,
          70,
          55,
          31,
          51,
          42,
          68,
          30,
          41,
          38,
          66,
          48,
          67,
          42,
          58,
          49,
          42,
          53,
          29,
          32,
          43,
          39,
          38,
          40,
          39,
          50,
          36,
          67,
          57,
          36,
          44,
          47,
          67,
          71,
          52,
          59,
          38,
          54,
          45,
          26,
          35,
          46,
          57,
          61,
          56,
          38,
          48,
          37,
          40,
          54,
          52,
          38,
          42,
          35,
          56,
          30,
          48,
          47,
          51,
          71,
          27,
          56,
          44,
          60,
          51,
          47,
          45,
          42,
          53,
          59,
          50,
          39,
          43,
          57,
          44,
          46,
          27,
          62,
          37,
          30,
          37,
          70,
          54,
          51,
          40,
          28,
          45,
          33,
          41,
          51,
          39,
          75,
          41,
          33,
          32,
          47,
          37,
          59,
          43,
          39,
          41,
          51,
          61,
          32,
          40,
          30,
          55,
          50,
          52,
          50,
          38,
          49,
          48,
          37,
          58,
          27,
          51,
          34,
          38,
          35,
          59,
          30,
          44,
          37,
          41,
          53,
          40,
          30,
          68,
          36,
          46,
          57,
          55,
          37,
          41,
          39,
          40,
          61,
          49,
          51,
          25,
          46,
          47,
          66,
          69,
          46,
          34,
          69,
          38,
          55,
          32,
          42,
          54,
          61,
          46,
          55,
          70,
          74,
          38,
          60,
          36,
          47,
          37,
          64,
          55,
          75,
          63,
          67,
          61,
          61,
          61,
          69,
          39,
          61,
          62,
          62,
          63,
          41,
          67,
          38,
          41,
          59,
          67,
          55,
          43,
          60,
          51,
          53,
          60,
          54,
          68,
          50,
          34,
          48,
          46,
          42,
          71,
          70,
          53,
          60,
          61,
          73,
          62,
          79,
          57,
          57,
          32,
          50,
          65,
          77,
          40,
          71,
          56,
          59,
          29,
          65,
          61,
          65,
          56,
          53,
          49,
          40,
          57,
          56,
          61,
          54,
          67,
          52,
          50,
          44,
          46,
          37,
          39,
          48,
          63,
          60,
          38,
          64,
          40,
          57,
          65,
          56,
          67,
          64,
          51,
          70,
          51,
          37,
          54,
          71,
          68,
          56,
          60,
          58,
          39,
          57,
          50,
          32,
          60,
          62,
          40,
          53,
          69,
          28,
          59,
          39,
          43,
          64,
          30,
          46,
          42,
          53,
          47,
          59,
          48,
          44,
          56,
          68,
          71,
          55,
          59,
          63,
          56,
          34,
          57,
          63,
          43,
          49,
          37,
          54,
          68,
          61,
          59,
          50,
          60,
          60,
          62,
          51,
          49,
          42,
          49,
          43,
          60,
          40,
          52,
          55,
          47,
          43,
          46,
          53,
          53,
          67,
          71,
          38,
          45,
          53,
          67,
          55,
          35,
          63,
          67,
          55,
          38,
          50,
          61,
          57,
          47,
          48,
          53,
          73,
          64,
          68,
          58,
          65,
          37,
          52,
          45,
          54,
          68,
          59,
          78,
          62,
          35,
          44,
          49,
          39,
          72,
          57,
          48,
          71,
          64,
          44,
          65,
          34,
          40,
          32,
          47,
          55,
          52,
          68,
          46,
          36,
          68,
          26,
          48,
          50,
          61,
          33,
          51,
          38,
          32,
          43,
          53,
          41,
          51,
          34,
          30,
          53,
          33,
          43,
          59,
          60,
          48,
          30,
          43,
          60,
          40,
          76,
          25,
          46,
          39,
          53,
          39,
          54,
          49,
          33,
          58,
          53,
          55,
          54,
          62,
          44,
          70,
          67,
          44,
          47,
          54,
          50,
          60,
          63,
          30,
          38,
          53,
          60,
          45,
          42,
          34,
          64,
          46,
          70,
          42,
          59,
          38,
          26,
          53,
          49,
          40,
          44,
          58,
          38,
          54,
          30,
          35,
          34,
          43,
          47,
          49,
          32,
          36,
          38,
          54,
          50,
          64,
          39,
          37,
          37,
          66,
          45,
          35,
          54,
          52,
          56,
          38,
          53,
          61,
          39,
          63,
          34,
          27,
          58,
          39,
          54,
          37,
          70,
          71,
          69,
          65,
          45,
          53,
          28,
          46,
          45,
          50,
          67,
          51,
          35,
          29,
          55,
          62,
          38,
          62,
          35,
          51,
          47,
          34,
          32,
          34,
          66,
          49,
          56,
          30,
          34,
          44,
          84,
          38,
          52,
          44,
          57,
          58,
          31,
          69,
          64,
          54,
          66,
          37,
          57,
          39,
          45,
          39,
          34,
          39,
          33,
          27,
          30,
          54,
          59,
          54,
          42,
          26,
          53,
          55,
          32,
          28,
          32,
          31,
          55,
          67,
          54,
          61,
          44,
          46,
          48,
          62,
          64,
          46,
          55,
          57,
          44,
          39,
          27,
          67,
          47,
          40,
          68,
          50,
          44,
          50,
          56,
          49,
          72,
          54,
          55,
          70,
          33,
          52,
          49,
          53,
          36,
          45,
          50,
          45,
          49,
          27,
          50,
          36,
          52,
          25,
          55,
          43,
          33,
          43,
          30,
          53,
          36,
          72,
          48,
          54,
          62,
          39,
          58,
          71,
          42,
          57,
          33,
          50,
          32,
          41,
          65,
          76,
          65,
          49,
          42,
          41,
          57,
          84,
          40,
          64,
          58,
          37,
          63,
          56,
          63,
          47,
          34,
          39,
          44,
          34,
          36,
          59,
          42,
          59,
          49,
          35,
          41,
          39,
          43,
          61,
          51,
          63,
          56,
          52,
          39,
          63,
          77,
          53,
          63,
          32,
          32,
          50,
          51,
          34,
          25,
          27,
          40,
          33,
          57,
          42,
          40,
          56,
          33,
          42,
          42,
          51,
          39,
          29,
          52,
          44,
          53,
          43,
          35,
          46,
          44,
          35,
          44,
          64,
          62,
          65,
          58,
          44,
          68,
          54,
          59,
          39,
          73,
          37,
          37,
          32,
          33,
          59,
          39,
          47,
          55,
          32,
          54,
          45,
          47,
          30,
          32,
          43,
          43,
          25,
          62,
          43,
          46,
          60,
          29,
          38,
          37,
          31,
          56,
          41,
          39,
          63,
          33,
          51,
          49,
          44,
          58,
          37,
          51,
          55,
          62,
          65,
          48,
          54,
          58,
          47,
          30,
          47,
          39,
          62,
          60,
          36,
          28,
          32,
          59,
          44,
          41,
          34,
          31,
          35,
          56,
          40,
          38,
          58,
          38,
          40,
          51,
          53,
          46,
          64,
          71,
          42,
          56,
          54,
          44,
          52,
          35,
          55,
          64,
          67,
          43,
          53,
          45,
          43,
          43,
          35,
          39,
          56,
          37,
          43,
          58,
          50,
          39,
          26,
          56,
          31,
          32,
          48,
          46,
          52,
          35,
          36,
          53,
          52,
          63,
          46,
          44,
          52,
          53,
          45,
          28,
          65,
          59,
          30,
          49,
          39,
          50,
          54,
          41,
          55,
          42,
          42,
          42,
          46,
          52,
          63,
          58,
          38,
          61,
          62,
          43,
          52,
          43,
          34,
          28,
          38,
          40,
          72,
          49,
          55,
          47,
          55,
          31,
          67,
          36,
          72,
          39,
          59,
          69,
          40,
          55,
          63,
          55,
          44,
          43,
          58,
          57,
          54,
          36,
          45,
          36,
          56,
          38,
          52,
          63,
          42,
          57,
          50,
          76,
          41,
          26,
          40,
          55,
          56,
          34,
          33,
          64,
          68,
          67,
          52,
          39,
          46,
          62,
          51,
          67,
          31,
          47,
          62,
          41,
          62,
          29,
          49,
          69,
          30,
          37,
          35,
          49,
          53,
          50,
          71,
          49,
          64,
          31,
          68,
          44,
          29,
          55,
          47,
          42,
          32,
          65,
          37,
          49,
          45,
          74,
          27,
          53,
          68,
          71,
          70,
          38,
          42,
          46,
          54,
          41,
          66,
          48,
          48,
          31,
          69,
          30,
          58,
          56,
          60,
          30,
          45,
          45,
          32,
          58,
          43,
          55,
          50,
          59,
          51,
          44,
          58,
          51,
          47,
          68,
          40,
          67,
          57,
          48,
          43,
          45,
          58,
          38,
          30,
          33,
          41,
          77,
          53,
          48,
          45,
          59,
          50,
          53,
          46,
          60,
          49,
          51,
          30,
          55,
          52,
          50,
          38,
          45,
          55,
          52,
          47,
          58,
          50,
          42,
          68,
          58,
          27,
          51,
          50,
          35,
          57,
          43,
          39,
          56,
          63,
          65,
          61,
          58,
          41,
          32,
          67,
          26,
          32,
          63,
          40,
          38,
          61,
          42,
          47,
          60,
          55,
          56,
          56,
          62,
          44,
          62,
          39,
          69,
          42,
          47,
          55,
          51,
          47,
          70,
          37,
          65,
          36,
          55,
          25,
          46,
          59,
          45,
          64,
          47,
          32,
          32,
          61,
          52,
          55,
          61,
          60,
          60,
          35,
          41,
          32,
          33,
          43,
          48,
          47,
          52,
          35,
          33,
          53,
          41,
          44,
          59,
          27,
          25,
          41,
          53,
          27,
          47,
          56,
          34,
          38,
          37,
          70,
          40,
          43,
          64,
          69,
          62,
          42,
          37,
          34,
          29,
          36,
          37,
          56,
          51,
          40,
          49,
          50,
          45,
          40,
          34,
          33,
          61,
          49,
          40,
          30,
          42,
          32,
          57,
          55,
          45,
          70,
          43,
          54,
          47,
          35,
          38,
          49,
          31,
          56,
          33,
          41,
          36,
          40,
          36,
          59,
          65,
          51,
          38,
          55,
          41,
          67,
          51,
          31,
          65,
          46,
          48,
          38,
          41,
          33,
          48,
          47,
          61,
          69,
          26,
          51,
          67,
          37,
          54,
          40,
          35,
          51,
          39,
          40,
          30,
          67,
          52,
          27,
          53,
          34,
          57,
          57,
          68,
          55,
          36,
          42,
          42,
          51,
          62,
          55,
          72,
          54,
          46,
          51,
          53,
          57,
          43,
          41,
          42,
          41,
          74,
          51,
          26,
          56,
          38,
          31,
          36,
          35,
          48,
          39,
          40,
          36,
          74,
          39,
          35,
          50,
          58,
          44,
          47,
          59,
          53,
          66,
          34,
          58,
          56,
          53,
          45,
          68,
          29,
          47,
          39,
          42,
          37,
          32,
          64,
          58,
          53,
          36,
          64,
          50,
          59,
          46,
          38,
          57,
          66,
          63,
          54,
          60,
          45,
          36,
          44,
          46,
          32,
          69,
          45,
          36,
          59,
          26,
          29,
          39,
          82,
          59,
          58,
          39,
          41,
          50,
          47,
          50,
          49,
          29,
          37,
          43,
          52,
          58,
          35,
          29,
          53,
          63,
          48,
          51,
          36,
          50,
          46,
          40,
          47,
          60,
          34,
          60,
          48,
          39,
          48,
          47,
          38,
          53,
          40,
          40,
          50,
          62,
          48,
          41,
          38,
          33,
          42,
          37,
          49,
          66,
          45,
          40,
          54,
          38,
          34,
          48,
          26,
          48,
          52,
          62,
          32,
          60,
          73,
          40,
          51,
          52,
          34,
          38,
          41,
          31,
          46,
          45,
          61,
          67,
          39,
          54,
          62,
          45,
          37,
          40,
          54,
          64,
          39,
          55,
          45,
          49,
          66,
          69,
          32,
          48,
          37,
          39,
          59,
          47,
          42,
          53,
          41,
          56,
          31,
          59,
          55,
          33,
          52,
          47,
          38,
          61,
          48,
          56,
          45,
          33,
          60,
          60,
          61,
          42,
          48,
          42,
          41,
          52,
          65,
          52,
          36,
          43,
          38,
          40,
          32,
          69,
          33,
          33,
          42,
          49,
          28,
          53,
          42,
          45,
          48,
          38,
          32,
          55,
          43,
          55,
          49,
          44,
          48,
          45,
          51,
          44,
          41,
          54,
          32,
          46,
          52,
          66,
          64,
          45,
          68,
          38,
          60,
          58,
          43,
          49,
          71,
          46,
          56,
          56,
          40,
          42,
          54,
          48,
          46,
          28,
          36,
          52,
          48,
          29,
          47,
          46,
          34,
          45,
          57,
          39,
          51,
          47,
          51,
          32,
          50,
          33,
          66,
          51,
          53,
          49,
          62,
          39,
          48,
          50,
          47,
          49,
          36,
          47,
          37,
          77,
          61,
          72,
          56,
          44,
          46,
          55,
          59,
          27,
          43,
          56,
          29,
          43,
          38,
          36,
          55,
          69,
          72,
          49,
          49,
          39,
          47,
          63,
          70,
          45,
          60,
          42,
          57,
          50,
          60,
          59,
          37,
          52,
          42,
          51,
          29,
          47,
          39,
          42,
          59,
          47,
          58,
          42,
          37,
          28,
          41,
          33,
          57,
          61,
          38,
          54,
          54,
          60,
          41,
          37,
          47,
          76,
          55,
          51,
          64,
          39,
          50,
          49,
          57,
          50,
          59,
          25,
          44,
          34,
          55,
          53,
          34,
          58,
          29,
          30,
          76,
          40,
          31,
          47,
          54,
          40,
          39,
          39,
          52,
          68,
          50,
          54,
          40,
          54,
          53,
          61,
          38,
          39,
          77,
          43,
          59,
          77,
          54,
          61,
          52,
          29,
          28,
          44,
          43,
          34,
          43,
          29,
          70,
          36,
          76,
          45,
          44,
          40,
          65,
          33,
          32,
          44,
          47,
          25,
          53,
          28,
          55,
          77,
          39,
          42,
          38,
          64,
          36,
          39,
          52,
          53,
          62,
          39,
          40,
          77,
          43,
          68,
          52,
          60,
          42,
          38,
          30,
          68,
          61,
          38,
          26,
          29,
          56,
          32,
          52,
          34,
          42,
          45,
          39,
          30,
          35,
          29,
          31,
          39,
          63,
          35,
          55,
          41,
          43,
          40,
          62,
          36,
          44,
          43,
          38,
          58,
          29,
          57,
          42,
          38,
          50,
          35,
          49,
          72,
          67,
          26,
          34,
          55,
          57,
          69,
          45,
          55,
          60,
          49,
          44,
          46,
          51,
          74,
          61,
          40,
          44,
          63,
          47,
          37,
          40,
          39,
          62,
          40,
          31,
          48,
          63,
          36,
          29,
          58,
          53,
          35,
          36,
          53,
          44,
          40,
          52,
          37,
          43,
          68,
          43,
          63,
          33,
          58,
          39,
          45,
          44,
          69,
          38,
          33,
          39,
          37,
          59,
          46,
          48,
          33,
          29,
          40,
          45,
          59,
          38,
          48,
          47,
          48,
          40,
          50,
          51,
          44,
          56,
          53,
          47,
          49,
          36,
          35,
          40,
          52,
          66,
          76,
          58,
          54,
          55,
          31,
          31,
          55,
          67,
          37,
          74,
          45,
          44,
          42,
          39,
          35,
          65,
          30,
          29,
          62,
          62,
          33,
          34,
          41,
          32,
          44,
          45,
          57,
          54,
          54,
          62,
          67,
          46,
          41,
          64,
          51,
          52,
          39,
          28,
          57,
          61,
          42,
          38,
          41,
          63,
          28,
          74,
          35,
          61,
          27,
          33,
          51,
          56,
          43,
          43,
          33,
          33,
          43,
          36,
          34,
          51,
          47,
          65,
          56,
          45,
          48,
          34,
          40,
          49,
          52,
          41,
          39,
          57,
          32,
          38,
          59,
          40,
          42,
          46,
          47,
          31,
          47,
          42,
          45,
          37,
          32,
          38,
          31,
          31,
          66,
          52,
          38,
          52,
          41,
          45,
          38,
          52,
          53,
          44,
          65,
          64,
          63,
          39,
          49,
          39,
          25,
          45,
          36,
          41,
          37,
          43,
          59,
          41,
          58,
          65,
          61,
          34,
          48,
          47,
          55,
          30,
          31,
          48,
          51,
          38,
          36,
          51,
          47,
          42,
          31,
          58,
          61,
          53,
          51,
          45,
          66,
          47,
          45,
          36,
          69,
          65,
          41,
          48,
          36,
          49,
          57,
          72,
          70,
          52,
          78,
          61,
          50,
          39,
          61,
          62,
          76,
          60,
          46,
          52,
          51,
          41,
          36,
          38,
          28,
          36,
          56,
          59,
          49,
          47,
          47,
          48,
          49,
          55,
          41,
          58,
          43,
          50,
          52,
          43,
          49,
          56,
          65,
          49,
          63,
          46,
          35,
          37,
          36,
          61,
          42,
          72,
          48,
          43,
          32,
          66,
          54,
          33,
          53,
          40,
          34,
          60,
          52,
          71,
          57,
          44,
          57,
          59,
          32,
          45,
          52,
          69,
          50,
          62,
          60,
          38,
          52,
          56,
          58,
          35,
          47,
          58,
          45,
          43,
          53,
          44,
          45,
          54,
          64,
          53,
          59,
          49,
          61,
          61,
          43,
          58,
          45,
          50,
          49,
          47,
          40,
          68,
          63,
          46,
          70,
          48,
          43,
          36,
          39,
          43,
          54,
          51,
          72,
          63,
          63,
          70,
          47,
          56,
          65,
          58,
          35,
          50,
          56,
          77,
          55,
          58,
          42,
          46,
          41,
          52,
          38,
          41,
          60,
          46,
          32,
          62,
          56,
          52,
          64,
          30,
          56,
          51,
          46,
          53,
          36,
          62,
          38,
          54,
          69,
          53,
          73,
          52,
          58,
          46,
          72,
          74,
          42,
          29,
          43,
          53,
          47,
          76,
          70,
          71,
          41,
          58,
          57,
          61,
          50,
          68,
          59,
          35,
          41,
          31,
          34,
          40,
          47,
          56,
          30,
          32,
          65,
          36,
          52,
          48,
          40,
          41,
          43,
          49,
          43,
          49,
          62,
          62,
          55,
          37,
          59,
          55,
          42,
          52,
          50,
          40,
          43,
          55,
          47,
          54,
          45,
          46,
          64,
          51,
          38,
          61,
          50,
          63,
          48,
          57,
          29,
          57,
          60,
          63,
          54,
          68,
          29,
          50,
          55,
          66,
          58,
          67,
          52,
          49,
          50,
          47,
          57,
          36,
          64,
          60,
          40,
          38,
          63,
          43,
          49,
          63,
          43,
          44,
          38,
          59,
          60,
          70,
          56,
          41,
          53,
          69,
          61,
          40,
          65,
          50,
          50,
          68,
          56,
          56,
          52,
          50,
          36,
          54,
          42,
          30,
          59,
          58,
          46,
          60,
          59,
          42,
          48,
          52,
          57,
          52,
          32,
          41,
          42,
          28,
          37,
          37,
          60,
          49,
          49,
          57,
          59,
          45,
          38,
          54,
          38,
          70,
          41,
          45,
          38,
          45,
          42,
          49,
          34,
          60,
          29,
          36,
          31,
          25,
          65,
          61,
          36,
          62,
          58,
          37,
          64,
          50,
          41,
          35,
          48,
          66,
          26,
          44,
          28,
          49,
          50,
          53,
          47,
          46,
          53,
          61,
          44,
          49,
          50,
          61,
          51,
          61,
          61,
          60,
          52,
          64,
          38,
          59,
          39,
          31,
          55,
          45,
          30,
          42,
          34,
          59,
          46,
          28,
          62,
          26,
          61,
          47,
          59,
          53,
          36,
          45,
          37,
          66,
          38,
          57,
          31,
          44,
          42,
          62,
          50,
          46,
          36,
          30,
          44,
          57,
          40,
          29,
          38,
          36,
          45,
          48,
          42,
          52,
          44,
          44,
          52,
          39,
          51,
          57,
          36,
          56,
          52,
          61,
          49,
          58,
          67,
          45,
          35,
          73,
          59,
          39,
          58,
          55,
          41,
          50,
          37,
          39,
          57,
          55,
          61,
          52,
          43,
          54,
          49,
          64,
          69,
          52,
          45,
          51,
          44,
          45,
          39,
          44,
          37,
          60,
          65,
          45,
          47,
          45,
          52,
          46,
          74,
          44,
          52,
          45,
          32,
          43,
          79,
          39,
          43,
          51,
          50,
          37,
          44,
          53,
          52,
          56,
          64,
          36,
          31,
          37,
          68,
          38,
          39,
          35,
          39,
          46,
          48,
          59,
          59,
          46,
          33,
          63,
          52,
          36,
          69,
          42,
          42,
          39,
          46,
          51,
          48,
          47,
          42,
          63,
          49,
          34,
          49,
          41,
          57,
          51,
          47,
          57,
          48,
          40,
          34,
          53,
          64,
          31,
          57,
          45,
          57,
          28,
          38,
          54,
          43,
          32,
          47,
          44,
          70,
          53,
          67,
          53,
          52,
          67,
          67,
          51,
          58,
          62,
          45,
          58,
          41,
          40,
          45,
          52,
          50,
          47,
          62,
          70,
          64,
          57,
          60,
          76,
          49,
          67,
          65,
          40,
          49,
          47,
          49,
          50,
          40,
          49,
          27,
          36,
          46,
          50,
          59,
          39,
          74,
          31,
          61,
          57,
          70,
          49,
          63,
          41,
          65,
          60,
          28,
          31,
          50,
          50,
          33,
          41,
          50,
          34,
          63,
          85,
          37,
          43,
          42,
          43,
          50,
          37,
          45,
          53,
          29,
          55,
          51,
          57,
          61,
          60,
          59,
          45,
          43,
          73,
          44,
          49,
          43,
          43,
          46,
          33,
          39,
          66,
          47,
          26,
          44,
          35,
          59,
          79,
          57,
          62,
          68,
          44,
          55,
          43,
          61,
          48,
          61,
          52,
          59,
          35,
          45,
          53,
          61,
          36,
          43,
          65,
          35,
          42,
          73,
          67,
          79,
          54,
          62,
          44,
          53,
          62,
          42,
          74,
          44,
          34,
          47,
          54,
          58,
          71,
          54,
          30,
          66,
          40,
          55,
          35,
          50,
          47,
          33,
          40,
          54,
          33,
          34,
          31,
          68,
          48,
          38,
          44,
          27,
          70,
          62,
          52,
          72,
          56,
          66,
          36,
          60,
          30,
          47,
          43,
          41,
          48,
          57,
          54,
          60,
          48,
          62,
          56,
          46,
          54,
          52,
          72,
          66,
          48,
          37,
          62,
          34,
          64,
          56,
          68,
          72,
          40,
          39,
          43,
          74,
          46,
          31,
          29,
          66,
          68,
          33,
          36,
          67,
          65,
          31,
          51,
          45,
          49,
          37,
          39,
          30,
          27,
          28,
          29,
          70,
          35,
          42,
          64,
          64,
          54,
          59,
          64,
          54,
          73,
          45,
          37,
          59,
          29,
          64,
          34,
          63,
          55,
          37,
          59,
          37,
          39,
          50,
          40,
          64,
          80,
          26,
          59,
          40,
          32,
          42,
          47,
          55,
          37,
          36,
          58,
          65,
          71,
          44,
          39,
          27,
          69,
          66,
          58,
          32,
          54,
          63,
          47,
          63,
          70,
          43,
          60,
          69,
          79,
          45,
          65,
          37,
          43,
          25,
          65,
          52,
          69,
          31,
          65,
          61,
          65,
          52,
          51,
          59,
          48,
          48,
          42,
          41,
          33,
          59,
          70,
          45,
          57,
          65,
          33,
          45,
          40,
          30,
          47,
          50,
          67,
          60,
          34,
          56,
          55,
          44,
          37,
          49,
          64,
          42,
          43,
          64,
          48,
          40,
          30,
          36,
          60,
          47,
          46,
          26,
          50,
          54,
          54,
          53,
          55,
          32,
          37,
          54,
          59,
          59,
          43,
          68,
          43,
          39,
          58,
          30,
          35,
          32,
          34,
          28,
          46,
          52,
          59,
          30,
          65,
          34,
          42,
          48,
          64,
          31,
          63,
          28,
          34,
          32,
          40,
          32,
          48,
          48,
          70,
          39,
          31,
          48,
          57,
          50,
          53,
          39,
          61,
          37,
          72,
          39,
          88,
          36,
          33,
          54,
          41,
          52,
          59,
          78,
          54,
          39,
          42,
          65,
          48,
          32,
          57,
          68,
          75,
          49,
          45,
          52,
          38,
          27,
          47,
          42,
          36,
          62,
          56,
          35,
          29,
          58,
          55,
          65,
          35,
          40,
          73,
          27,
          40,
          60,
          32,
          39,
          53,
          53,
          58,
          26,
          35,
          56,
          34,
          35,
          62,
          69,
          37,
          61,
          55,
          56,
          49,
          42,
          34,
          34,
          68,
          36,
          48,
          44,
          46,
          57,
          37,
          53,
          45,
          26,
          66,
          46,
          32,
          45,
          33,
          51,
          36,
          54,
          57,
          59,
          44,
          44,
          40,
          42,
          49,
          45,
          29,
          29,
          41,
          30,
          47,
          32,
          60,
          51,
          53,
          34,
          39,
          52,
          50,
          43,
          49,
          41,
          65,
          63,
          51,
          43,
          44,
          43,
          33,
          33,
          68,
          32,
          61,
          62,
          36,
          61,
          58,
          35,
          44,
          56,
          48,
          48,
          56,
          52,
          37,
          47,
          39,
          53,
          49,
          55,
          34,
          33,
          55,
          41,
          49,
          58,
          44,
          51,
          49,
          34,
          29,
          47,
          34,
          40,
          43,
          45,
          53,
          39,
          44,
          59,
          57,
          55,
          47,
          57,
          37,
          58,
          36,
          59,
          49,
          37,
          68,
          43,
          67,
          60,
          59,
          45,
          35,
          53,
          34,
          49,
          37,
          45,
          25,
          49,
          54,
          29,
          47,
          43,
          30,
          45,
          45,
          35,
          56,
          32,
          82,
          34,
          59,
          40,
          35,
          58,
          36,
          32,
          37,
          43,
          59,
          51,
          39,
          39,
          43,
          72,
          35,
          27,
          67,
          41,
          74,
          27,
          41,
          27,
          67,
          50,
          42,
          32,
          34,
          59,
          29,
          49,
          62,
          49,
          41,
          36,
          35,
          34,
          41,
          29,
          45,
          57,
          76,
          44,
          53,
          40,
          55,
          43,
          45,
          29,
          40,
          43,
          36,
          50,
          53,
          38,
          42,
          41,
          31,
          37,
          46,
          44,
          42,
          36,
          40,
          28,
          33,
          45,
          48,
          72,
          46,
          44,
          82,
          50,
          61,
          44,
          74,
          42,
          33,
          36,
          53,
          48,
          39,
          39,
          63,
          55,
          74,
          49,
          60,
          43,
          59,
          51,
          30,
          40,
          45,
          59,
          44,
          46,
          44,
          61,
          66,
          68,
          33,
          51,
          47,
          43,
          29,
          64,
          34,
          58,
          36,
          45,
          41,
          37,
          28,
          38,
          42,
          55,
          43,
          31,
          62,
          64,
          53,
          59,
          57,
          40,
          55,
          53,
          34,
          28,
          39,
          46,
          46,
          26,
          28,
          54,
          43,
          61,
          50,
          50,
          41,
          44,
          29,
          39,
          63,
          58,
          61,
          60,
          69,
          45,
          50,
          53,
          37,
          47,
          51,
          46,
          40,
          44,
          33,
          53,
          30,
          46,
          54,
          75,
          44,
          47,
          30,
          40,
          71,
          54,
          51,
          51,
          49,
          38,
          33,
          55,
          40,
          68,
          58,
          49,
          71,
          59,
          41,
          39,
          31,
          32,
          30,
          39,
          55,
          36,
          49,
          35,
          44,
          42,
          41,
          33,
          46,
          62,
          42,
          40,
          36,
          56,
          43,
          30,
          38,
          43,
          55,
          49,
          43,
          48,
          63,
          41,
          34,
          56,
          57,
          61,
          31,
          27,
          72,
          28,
          44,
          48,
          57,
          26,
          29,
          28,
          30,
          48,
          62,
          51,
          71,
          41,
          38,
          30,
          47,
          59,
          40,
          52,
          72,
          36,
          38,
          70,
          72,
          46,
          68,
          31,
          56,
          63,
          65,
          30,
          54,
          29,
          40,
          35,
          43,
          34,
          55,
          36,
          54,
          54,
          30,
          44,
          45,
          34,
          69,
          67,
          54,
          33,
          47,
          49,
          56,
          30,
          49,
          51,
          64,
          69,
          29,
          33,
          46,
          57,
          43,
          45,
          51,
          39,
          42,
          59,
          31,
          43,
          35,
          67,
          40,
          53,
          39,
          61,
          56,
          39,
          44,
          27,
          66,
          37,
          36,
          52,
          47,
          49,
          53,
          66,
          35,
          67,
          38,
          43,
          58,
          39,
          37,
          47,
          53,
          66,
          55,
          41,
          52,
          31,
          32,
          39,
          31,
          54,
          63,
          64,
          50,
          49,
          39,
          35,
          50,
          63,
          53,
          60,
          40,
          47,
          40,
          55,
          58,
          47,
          39,
          37,
          45,
          53,
          76,
          46,
          48,
          49,
          33,
          61,
          38,
          49,
          38,
          69,
          64,
          50,
          43,
          60,
          46,
          40,
          44,
          36,
          41,
          60,
          36,
          43,
          52,
          63,
          57,
          38,
          34,
          38,
          46,
          58,
          39,
          36,
          36,
          60,
          28,
          50,
          28,
          44,
          34,
          33,
          55,
          48,
          46,
          59,
          53,
          42,
          44,
          43,
          36,
          57,
          42,
          34,
          38,
          46,
          50,
          61,
          70,
          55,
          29,
          35,
          56,
          72,
          59,
          28,
          66,
          26,
          47,
          44,
          44,
          51,
          35,
          40,
          26,
          73,
          59,
          50,
          35,
          39,
          66,
          28,
          42,
          53,
          44,
          54,
          70,
          36,
          48,
          28,
          46,
          59,
          41,
          49,
          51,
          29,
          74,
          29,
          48,
          66,
          42,
          58,
          64,
          41,
          35,
          31,
          30,
          34,
          46,
          54,
          53,
          33,
          61,
          35,
          33,
          52,
          40,
          29,
          52,
          38,
          37,
          49,
          37,
          43,
          43,
          71,
          37,
          40,
          38,
          54,
          41,
          44,
          34,
          60,
          41,
          33,
          42,
          46,
          33,
          29,
          35,
          41,
          28,
          51,
          31,
          31,
          28,
          31,
          28,
          57,
          44,
          43,
          51,
          40,
          44,
          47,
          33,
          62,
          58,
          63,
          48,
          45,
          42,
          55,
          40,
          33,
          48,
          43,
          44,
          59,
          43,
          54,
          55,
          35,
          46,
          37,
          47,
          56,
          46,
          43,
          51,
          42,
          67,
          32,
          53,
          53,
          45,
          40,
          50,
          82,
          30,
          51,
          44,
          41,
          54,
          60,
          27,
          42,
          65,
          39,
          38,
          45,
          80,
          44,
          52,
          40,
          43,
          49,
          58,
          45,
          51,
          58,
          62,
          61,
          54,
          42,
          44,
          47,
          47,
          45,
          61,
          47,
          46,
          51,
          46,
          46,
          35,
          39,
          70,
          61,
          71,
          41,
          41,
          60,
          29,
          40,
          46,
          66,
          42,
          65,
          63,
          59,
          34,
          46,
          43,
          53,
          38,
          39,
          48,
          41,
          63,
          65,
          33,
          53,
          62,
          33,
          44,
          47,
          55,
          53,
          62,
          47,
          34,
          55,
          38,
          50,
          32,
          43,
          58,
          46,
          51,
          50,
          56,
          72,
          33,
          50,
          64,
          52,
          46,
          30,
          40,
          52,
          48,
          63,
          33,
          50,
          45,
          59,
          39,
          28,
          57,
          39,
          48,
          51,
          57,
          52,
          43,
          34,
          50,
          33,
          35,
          54,
          59,
          54,
          36,
          31,
          39,
          55,
          68,
          49,
          29,
          49,
          42,
          62,
          50,
          39,
          38,
          43,
          73,
          67,
          60,
          70,
          63,
          60,
          63,
          45,
          40,
          36,
          28,
          35,
          59,
          63,
          58,
          51,
          45,
          49,
          52,
          45,
          29,
          44,
          34,
          34,
          32,
          36,
          29,
          33,
          26,
          49,
          33,
          61,
          26,
          33,
          30,
          60,
          29,
          37,
          35,
          30,
          33,
          54,
          43,
          36,
          47,
          53,
          49,
          43,
          39,
          36,
          58,
          48,
          59,
          43,
          69,
          32,
          44,
          74,
          62,
          54,
          26,
          45,
          35,
          47,
          42,
          38,
          31,
          35,
          64,
          56,
          39,
          46,
          49,
          46,
          46,
          52,
          42,
          41,
          37,
          28,
          61,
          56,
          42,
          51,
          32,
          51,
          38,
          37,
          35,
          42,
          40,
          37,
          53,
          64,
          60,
          54,
          53,
          32,
          43,
          44,
          26,
          58,
          48,
          67,
          40,
          58,
          33,
          49,
          36,
          40,
          72,
          68,
          37,
          25,
          32,
          69,
          68,
          51,
          42,
          45,
          70,
          43,
          65,
          25,
          62,
          63,
          42,
          46,
          43,
          49,
          48,
          38,
          42,
          64,
          53,
          36,
          40,
          27,
          39,
          39,
          49,
          51,
          33,
          34,
          65,
          32,
          49,
          40,
          72,
          42,
          68,
          64,
          36,
          54,
          68,
          71,
          56,
          46,
          60,
          38,
          45,
          34,
          42,
          37,
          36,
          48,
          68,
          43,
          61,
          53,
          64,
          33,
          69,
          69,
          58,
          49,
          77,
          45,
          52,
          62,
          36,
          35,
          39,
          69,
          38,
          48,
          59,
          53,
          49,
          60,
          45,
          33,
          39,
          59,
          53,
          47,
          41,
          29,
          53,
          53,
          40,
          33,
          47,
          43,
          54,
          67,
          33,
          48,
          46,
          37,
          47,
          69,
          51,
          55,
          55,
          47,
          43,
          71,
          35,
          34,
          30,
          40,
          35,
          37,
          45,
          45,
          46,
          52,
          54,
          28,
          40,
          47,
          45,
          36,
          54,
          45,
          79,
          33,
          45,
          62,
          72,
          46,
          32,
          62,
          64,
          38,
          47,
          36,
          34,
          52,
          62,
          48,
          56,
          31,
          44,
          59,
          46,
          35,
          70,
          72,
          44,
          32,
          44,
          46,
          28,
          40,
          48,
          39,
          43,
          63,
          48,
          59,
          32,
          54,
          25,
          36,
          36,
          38,
          29,
          31,
          49,
          72,
          47,
          49,
          37,
          52,
          49,
          53,
          52,
          63,
          56,
          43,
          44,
          63,
          46,
          37,
          66,
          40,
          50,
          43,
          67,
          73,
          34,
          36,
          30,
          31,
          47,
          42,
          44,
          27,
          64,
          68,
          69,
          60,
          40,
          43,
          31,
          46,
          54,
          25,
          39,
          54,
          61,
          45,
          53,
          46,
          58,
          60,
          58,
          28,
          33,
          51,
          67,
          45,
          65,
          25,
          52,
          37,
          48,
          34,
          46,
          41,
          53,
          40,
          48,
          44,
          49,
          41,
          26,
          64,
          55,
          37,
          47,
          31,
          39,
          74,
          36,
          65,
          39,
          40,
          72,
          28,
          33,
          34,
          49,
          71,
          54,
          50,
          63,
          56,
          63,
          63,
          52,
          72,
          45,
          54,
          29,
          34,
          69,
          42,
          76,
          56,
          55,
          68,
          50,
          61,
          35,
          47,
          47,
          32,
          37,
          75,
          47,
          46,
          37,
          48,
          57,
          46,
          65,
          53,
          69,
          71,
          45,
          49,
          49,
          42,
          63,
          59,
          34,
          35,
          47,
          35,
          59,
          28,
          51,
          35,
          47,
          62,
          42,
          53,
          38,
          43,
          39,
          59,
          54,
          49,
          55,
          55,
          46,
          55,
          46,
          46,
          44,
          31,
          48,
          68,
          66,
          51,
          46,
          48,
          39,
          40,
          46,
          35,
          35,
          46,
          28,
          44,
          50,
          68,
          57,
          58,
          54,
          41,
          37,
          43,
          54,
          42,
          47,
          28,
          62,
          36,
          44,
          39,
          36,
          39,
          39,
          44,
          38,
          63,
          30,
          31,
          35,
          40,
          60,
          41,
          49,
          60,
          32,
          46,
          50,
          45,
          41,
          47,
          25,
          27,
          32,
          64,
          40,
          52,
          25,
          60,
          63,
          56,
          26,
          38,
          46,
          43,
          55,
          66,
          60,
          56,
          73,
          60,
          43,
          47,
          75,
          58,
          51,
          40,
          52,
          57,
          41,
          61,
          50,
          29,
          48,
          37,
          43,
          39,
          68,
          66,
          68,
          34,
          39,
          57,
          29,
          27,
          65,
          64,
          37,
          52,
          36,
          52,
          47,
          59,
          41,
          45,
          26,
          72,
          69,
          49,
          37,
          56,
          29,
          63,
          52,
          39,
          56,
          53,
          56,
          56,
          40,
          66,
          66,
          41,
          51,
          62,
          48,
          40,
          37,
          53,
          53,
          59,
          42,
          43,
          40,
          65,
          42,
          34,
          64,
          67,
          33,
          55,
          39,
          50,
          54,
          41,
          33,
          68,
          52,
          33,
          40,
          40,
          67,
          57,
          46,
          36,
          35,
          32,
          41,
          51,
          36,
          67,
          36,
          29,
          44,
          39,
          46,
          47,
          59,
          61,
          68,
          36,
          43,
          55,
          49,
          53,
          55,
          49,
          65,
          69,
          51,
          57,
          59,
          44,
          42,
          45,
          40,
          28,
          50,
          44,
          43,
          49,
          37,
          45,
          40,
          38,
          35,
          44,
          61,
          35,
          50,
          40,
          35,
          56,
          63,
          33,
          50,
          34,
          35,
          53,
          33,
          39,
          38,
          55,
          70,
          63,
          62,
          37,
          50,
          57,
          47,
          40,
          66,
          63,
          66,
          62,
          50,
          50,
          33,
          59,
          62,
          34,
          52,
          49,
          67,
          49,
          40,
          50,
          33,
          53,
          50,
          42,
          47,
          33,
          36,
          42,
          38,
          40,
          58,
          40,
          54,
          64,
          38,
          62,
          41,
          39,
          38,
          26,
          66,
          28,
          67,
          39,
          68,
          57,
          43,
          64,
          36,
          43,
          61,
          35,
          33,
          38,
          39,
          67,
          50,
          47,
          32,
          25,
          53,
          65,
          30,
          25,
          33,
          43,
          35,
          65,
          68,
          45,
          54,
          63,
          28,
          38,
          40,
          54,
          50,
          55,
          56,
          45,
          38,
          32,
          44,
          42,
          51,
          57,
          47,
          78,
          36,
          50,
          34,
          53,
          31,
          31,
          37,
          55,
          49,
          63,
          39,
          54,
          59,
          51,
          62,
          33,
          48,
          38,
          68,
          55,
          38,
          45,
          39,
          79,
          69,
          33,
          64,
          35,
          39,
          43,
          48,
          60,
          37,
          49,
          49,
          52,
          68,
          43,
          70,
          28,
          39,
          40,
          55,
          28,
          49,
          57,
          44,
          26,
          35,
          64,
          51,
          36,
          30,
          33,
          33,
          71,
          47,
          48,
          48,
          52,
          44,
          35,
          41,
          30,
          34,
          35,
          47,
          56,
          48,
          29,
          58,
          31,
          34,
          47,
          48,
          48,
          46,
          44,
          74,
          59,
          50,
          48,
          65,
          32,
          70,
          51,
          35,
          41,
          30,
          47,
          73,
          37,
          51,
          51,
          35,
          40,
          30,
          50,
          39,
          36,
          36,
          62,
          34,
          64,
          59,
          49,
          39,
          43,
          40,
          59,
          32,
          28,
          55,
          43,
          41,
          39,
          30,
          50,
          54,
          44,
          42,
          41,
          36,
          36,
          44,
          57,
          50,
          52,
          69,
          38,
          58,
          49,
          41,
          33,
          54,
          63,
          46,
          39,
          68,
          61,
          44,
          47,
          67,
          74,
          52,
          44,
          57,
          48,
          62,
          71,
          48,
          44,
          51,
          34,
          27,
          61,
          45,
          45,
          45,
          61,
          45,
          39,
          64,
          39,
          35,
          54,
          35,
          75,
          45,
          31,
          67,
          34,
          63,
          47,
          52,
          57,
          51,
          40,
          63,
          33,
          29,
          42,
          39,
          39,
          31,
          39,
          54,
          62,
          36,
          52,
          50,
          65,
          51,
          63,
          60,
          55,
          37,
          57,
          32,
          64,
          51,
          37,
          61,
          55,
          44,
          39,
          55,
          34,
          69,
          62,
          44,
          39,
          41,
          49,
          39,
          57,
          73,
          67,
          56,
          38,
          47,
          40,
          50,
          44,
          66,
          65,
          44,
          26,
          47,
          25,
          63,
          60,
          56,
          40,
          56,
          51,
          43,
          56,
          36,
          37,
          31,
          70,
          69,
          54,
          34,
          31,
          25,
          55,
          42,
          39,
          34,
          65,
          67,
          50,
          47,
          50,
          40,
          41,
          36,
          45,
          37,
          73,
          53,
          70,
          46,
          39,
          39,
          49,
          50,
          46,
          59,
          55,
          71,
          39,
          54,
          57,
          40,
          58,
          43,
          50,
          40,
          46,
          60,
          47,
          71,
          70,
          31,
          54,
          51,
          36,
          49,
          60,
          49,
          32,
          38,
          28,
          39,
          66,
          70,
          40,
          60,
          38,
          63,
          43,
          52,
          41,
          32,
          66,
          44,
          52,
          42,
          43,
          59,
          54,
          51,
          43,
          47,
          33,
          62,
          55,
          34,
          48,
          41,
          67,
          40,
          56,
          61,
          36,
          39,
          60,
          51,
          46,
          38,
          48,
          71,
          44,
          27,
          38,
          70,
          52,
          45,
          54,
          46,
          46,
          32,
          66,
          39,
          48,
          46,
          28,
          60,
          49,
          45,
          45,
          66,
          37,
          30,
          48,
          35,
          36,
          36,
          36,
          25,
          27,
          51,
          36,
          62,
          38,
          26,
          41,
          48,
          44,
          72,
          62,
          32,
          37,
          70,
          42,
          31,
          54,
          52,
          58,
          48,
          28,
          64,
          54,
          67,
          33,
          41,
          45,
          40,
          31,
          49,
          48,
          39,
          64,
          63,
          28,
          46,
          53,
          60,
          42,
          53,
          28,
          28,
          40,
          65,
          37,
          39,
          44,
          34,
          34,
          48,
          50,
          42,
          54,
          64,
          51,
          39,
          65,
          58,
          60,
          41,
          56,
          64,
          54,
          43,
          61,
          43,
          28,
          41,
          68,
          65,
          53,
          53,
          72,
          37,
          40,
          48,
          47,
          31,
          43,
          58,
          42,
          41,
          62,
          66,
          51,
          46,
          58,
          48,
          32,
          52,
          61,
          44,
          62,
          49,
          62,
          64,
          42,
          58,
          68,
          36,
          38,
          54,
          41,
          41,
          61,
          34,
          61,
          57,
          63,
          58,
          54,
          42,
          57,
          55,
          54,
          43,
          46,
          54,
          56,
          40,
          48,
          61,
          57,
          37,
          47,
          50,
          60,
          62,
          52,
          32,
          30,
          70,
          40,
          61,
          48,
          52,
          61,
          40,
          46,
          36,
          76,
          65,
          65,
          33,
          54,
          47,
          50,
          52,
          49,
          52,
          39,
          47,
          65,
          51,
          65,
          41,
          60,
          53,
          62,
          36,
          53,
          57,
          58,
          68,
          42,
          76,
          61,
          31,
          30,
          58,
          40,
          34,
          49,
          33,
          57,
          47,
          30,
          50,
          57,
          51,
          43,
          58,
          48,
          67,
          63,
          55,
          46,
          47,
          69,
          52,
          36,
          40,
          37,
          41,
          34,
          47,
          35,
          37,
          51,
          61,
          36,
          31,
          44,
          34,
          36,
          54,
          34,
          42,
          64,
          54,
          56,
          59,
          50,
          45,
          32,
          58,
          31,
          47,
          31,
          27,
          41,
          49,
          52,
          62,
          49,
          32,
          49,
          48,
          38,
          34,
          57,
          39,
          66,
          52,
          46,
          42,
          43,
          51,
          61,
          31,
          37,
          26,
          59,
          45,
          42,
          41,
          33,
          55,
          47,
          75,
          68,
          78,
          46,
          42,
          59,
          55,
          58,
          51,
          49,
          55,
          49,
          67,
          58,
          67,
          69,
          55,
          39,
          54,
          52,
          34,
          64,
          61,
          56,
          67,
          51,
          35,
          45,
          62,
          62,
          62,
          36,
          53,
          27,
          62,
          52,
          45,
          41,
          57,
          49,
          59,
          67,
          40,
          30,
          53,
          57,
          38,
          41,
          45,
          70,
          48,
          44,
          51,
          49,
          55,
          48,
          44,
          74,
          59,
          52,
          41,
          46,
          47,
          66,
          47,
          52,
          38,
          44,
          60,
          25,
          53,
          49,
          47,
          47,
          61,
          28,
          30,
          36,
          29,
          60,
          40,
          71,
          40,
          41,
          49,
          49,
          47,
          54,
          58,
          48,
          43,
          37,
          41,
          47,
          69,
          25,
          40,
          50,
          39,
          66,
          46,
          35,
          62,
          42,
          61,
          56,
          28,
          26,
          34,
          35,
          43,
          58,
          54,
          51,
          55,
          47,
          38,
          53,
          43,
          69,
          43,
          39,
          71,
          63,
          70,
          68,
          56,
          44,
          42,
          51,
          55,
          50,
          46,
          68,
          70,
          50,
          47,
          41,
          40,
          32,
          54,
          41,
          69,
          55,
          68,
          52,
          43,
          38,
          59,
          56,
          27,
          47,
          50,
          45,
          63,
          46,
          42,
          50,
          38,
          43,
          65,
          59,
          63,
          67,
          64,
          67,
          51,
          27,
          77,
          72,
          57,
          32,
          32,
          53,
          68,
          69,
          38,
          52,
          70,
          60,
          32,
          53,
          40,
          55,
          52,
          49,
          57,
          27,
          53,
          68,
          43,
          36,
          40,
          55,
          49,
          56,
          33,
          49,
          32,
          54,
          25,
          29,
          49,
          50,
          61,
          52,
          72,
          63,
          71,
          40,
          43,
          30,
          33,
          53,
          40,
          33,
          51,
          35,
          43,
          59,
          51,
          56,
          57,
          29,
          34,
          33,
          54,
          33,
          34,
          26,
          25,
          37,
          47,
          42,
          44,
          37,
          70,
          55,
          54,
          34,
          52,
          40,
          44,
          45,
          37,
          54,
          55,
          54,
          44,
          54,
          52,
          59,
          49,
          41,
          33,
          41,
          38,
          25,
          48,
          60,
          57,
          34,
          25,
          54,
          34,
          54,
          54,
          26,
          32,
          45,
          56,
          43,
          36,
          55,
          68,
          61,
          33,
          35,
          36,
          36,
          28,
          61,
          56,
          47,
          50,
          55,
          51,
          63,
          35,
          63,
          64,
          47,
          54,
          53,
          25,
          34,
          45,
          49,
          48,
          55,
          56,
          63,
          41,
          44,
          45,
          49,
          25,
          26,
          41,
          64,
          40,
          27,
          37,
          46,
          48,
          65,
          56,
          65,
          35,
          51,
          41,
          54,
          50,
          47,
          55,
          39,
          44,
          28,
          63,
          45,
          59,
          57,
          66,
          44,
          44,
          52,
          43,
          53,
          43,
          34,
          64,
          48,
          35,
          45,
          46,
          50,
          62,
          52,
          65,
          46,
          54,
          71,
          49,
          28,
          56,
          65,
          45,
          57,
          54,
          52,
          50,
          32,
          39,
          45,
          32,
          36,
          36,
          50,
          40,
          53,
          59,
          54,
          44,
          48,
          34,
          46,
          44,
          36,
          47,
          75,
          65,
          58,
          55,
          42,
          45,
          53,
          59,
          31,
          57,
          81,
          50,
          56,
          44,
          46,
          45,
          48,
          65,
          40,
          58,
          34,
          31,
          43,
          30,
          70,
          40,
          60,
          49,
          55,
          39,
          26,
          31,
          40,
          46,
          40,
          31,
          41,
          60,
          73,
          59,
          53,
          52,
          62,
          31,
          35,
          28,
          74,
          44,
          50,
          44,
          76,
          49,
          63,
          40,
          46,
          65,
          58,
          35,
          46,
          34,
          40,
          46,
          28,
          69,
          37,
          55,
          42,
          51,
          38,
          52,
          58,
          44,
          51,
          46,
          40,
          39,
          40,
          45,
          67,
          41,
          32,
          87,
          53,
          36,
          55,
          25,
          33,
          61,
          62,
          52,
          41,
          39,
          43,
          64,
          42,
          61,
          27,
          38,
          26,
          45,
          39,
          31,
          48,
          42,
          45,
          54,
          46,
          33,
          53,
          26,
          55,
          46,
          48,
          52,
          48,
          35,
          32,
          61,
          49,
          40,
          50,
          55,
          37,
          62,
          25,
          55,
          56,
          29,
          50,
          30,
          32,
          37,
          40,
          73,
          41,
          34,
          26,
          34,
          65,
          44,
          40,
          49,
          38,
          34,
          47,
          62,
          60,
          49,
          50,
          65,
          34,
          31,
          72,
          29,
          46,
          45,
          60,
          39,
          56,
          59,
          40,
          50,
          46,
          32,
          36,
          40,
          65,
          27,
          33,
          49,
          36,
          40,
          54,
          40,
          31,
          66,
          43,
          47,
          38,
          35,
          62,
          63,
          45,
          40,
          52,
          37,
          32,
          42,
          35,
          39,
          69,
          73,
          53,
          61,
          54,
          60,
          35,
          44,
          36,
          28,
          55,
          30,
          31,
          44,
          53,
          47,
          42,
          68,
          44,
          56,
          49,
          40,
          67,
          48,
          56,
          42,
          64,
          36,
          60,
          40,
          48,
          33,
          57,
          35,
          32,
          71,
          53,
          45,
          68,
          53,
          37,
          67,
          62,
          55,
          35,
          54,
          50,
          31,
          36,
          63,
          53,
          54,
          45,
          55,
          48,
          63,
          48,
          63,
          36,
          56,
          41,
          34,
          47,
          59,
          72,
          34,
          67,
          64,
          53,
          29,
          51,
          65,
          47,
          59,
          40,
          30,
          30,
          50,
          46,
          47,
          42,
          47,
          46,
          37,
          55,
          40,
          46,
          45,
          54,
          39,
          73,
          70,
          26,
          54,
          53,
          46,
          62,
          60,
          66,
          43,
          50,
          53,
          58,
          33,
          50,
          62,
          40,
          47,
          50,
          61,
          31,
          57,
          67,
          69,
          51,
          65,
          64,
          36,
          52,
          48,
          70,
          64,
          54,
          55,
          41,
          32,
          35,
          59,
          70,
          59,
          49,
          63,
          48,
          46,
          62,
          64,
          52,
          55,
          32,
          66,
          51,
          36,
          49,
          36,
          25,
          59,
          49,
          51,
          35,
          34,
          40,
          36,
          45,
          43,
          35,
          40,
          35,
          35,
          56,
          64,
          62,
          54,
          32,
          40,
          39,
          43,
          38,
          47,
          45,
          28,
          40,
          32,
          41,
          28,
          29,
          34,
          61,
          36,
          51,
          31,
          67,
          32,
          44,
          44,
          42,
          54,
          32,
          43,
          38,
          33,
          27,
          35,
          42,
          52,
          48,
          52,
          38,
          31,
          46,
          52,
          62,
          64,
          54,
          39,
          37,
          32,
          67,
          32,
          33,
          33,
          30,
          32,
          29,
          30,
          31,
          40,
          49,
          29,
          43,
          25,
          45,
          66,
          45,
          38,
          35,
          52,
          44,
          47,
          72,
          69,
          36,
          43,
          56,
          49,
          57,
          36,
          42,
          40,
          39,
          30,
          54,
          36,
          38,
          46,
          40,
          46,
          49,
          50,
          42,
          38,
          49,
          57,
          64,
          43,
          27,
          30,
          63,
          68,
          49,
          39,
          40,
          40,
          40,
          48,
          29,
          38,
          37,
          28,
          36,
          43,
          52,
          29,
          65,
          42,
          38,
          59,
          40,
          62,
          36,
          36,
          51,
          39,
          37,
          38,
          39,
          38,
          30,
          34,
          31,
          37,
          43,
          29,
          49,
          33,
          30,
          33,
          39,
          30,
          37,
          37,
          58,
          35,
          37,
          46,
          38,
          28,
          36,
          33,
          30,
          47,
          64,
          54,
          35,
          39,
          52,
          44,
          30,
          43,
          40,
          60,
          46,
          60,
          54,
          45,
          59,
          38,
          49,
          50,
          44,
          34,
          38,
          53,
          33,
          31,
          37,
          44,
          34,
          46,
          43,
          38,
          39,
          63,
          60,
          70,
          59,
          47,
          36,
          58,
          30,
          46,
          69,
          37,
          49,
          43,
          50,
          57,
          33,
          53,
          32,
          51,
          40,
          32,
          39,
          55,
          37,
          54,
          55,
          45,
          42,
          44,
          53,
          60,
          75,
          33,
          48,
          45,
          53,
          54,
          31,
          44,
          44,
          46,
          46,
          42,
          65,
          37,
          54,
          49,
          42,
          55,
          39,
          47,
          53,
          41,
          32,
          45,
          35,
          42,
          58,
          43,
          43,
          29,
          34,
          56,
          46,
          52,
          55,
          46,
          54,
          47,
          54,
          32,
          44,
          49,
          33,
          32,
          64,
          59,
          69,
          34,
          32,
          46,
          52,
          29,
          37,
          31,
          45,
          28,
          34,
          64,
          50,
          48,
          47,
          47,
          38,
          29,
          42,
          34,
          45,
          52,
          45,
          36,
          43,
          40,
          58,
          47,
          38,
          38,
          44,
          46,
          41,
          43,
          27,
          36,
          54,
          33,
          39,
          58,
          45,
          64,
          43,
          65,
          54,
          47,
          53,
          26,
          42,
          45,
          44,
          51,
          32,
          43,
          36,
          63,
          40,
          54,
          30,
          38,
          58,
          30,
          28,
          65,
          47,
          45,
          41,
          52,
          36,
          38,
          26,
          35,
          73,
          36,
          57,
          32,
          55,
          28,
          49,
          26,
          30,
          53,
          39,
          25,
          36,
          27,
          32,
          39,
          59,
          26,
          30,
          44,
          49,
          53,
          48,
          65,
          30,
          53,
          33,
          33,
          69,
          58,
          30,
          68,
          41,
          69,
          43,
          51,
          37,
          74,
          33,
          38,
          44,
          47,
          65,
          59,
          51,
          40,
          34,
          32,
          48,
          42,
          51,
          37,
          37,
          53,
          51,
          43,
          59,
          31,
          66,
          58,
          51,
          53,
          74,
          55,
          43,
          55,
          36,
          33,
          29,
          52,
          54,
          32,
          41,
          33,
          26,
          36,
          64,
          33,
          38,
          36,
          41,
          56,
          61,
          39,
          41,
          46,
          36,
          50,
          35,
          40,
          32,
          44,
          32,
          25,
          52,
          53,
          43,
          49,
          43,
          31,
          40,
          35,
          57,
          49,
          32,
          37,
          29,
          33,
          32,
          50,
          53,
          37,
          50,
          33,
          40,
          58,
          43,
          40,
          34,
          50,
          37,
          34,
          60,
          44,
          66,
          38,
          32,
          40,
          29,
          35,
          74,
          56,
          36,
          32,
          34,
          80,
          38,
          25,
          35,
          35,
          45,
          29,
          25,
          35,
          39,
          63,
          67,
          52,
          38,
          44,
          55,
          32,
          60,
          29,
          38,
          48,
          30,
          36,
          40,
          38,
          34,
          30,
          53,
          39,
          38,
          49,
          66,
          62,
          50,
          50,
          78,
          45,
          45,
          36,
          35,
          36,
          38,
          33,
          62,
          35,
          73,
          56,
          35,
          60,
          42,
          50,
          64,
          36,
          50,
          39,
          48,
          58,
          58,
          60,
          35,
          57,
          37,
          41,
          50,
          63,
          40,
          49,
          65,
          46,
          39,
          47,
          46,
          54,
          35,
          47,
          53,
          47,
          66,
          49,
          37,
          37,
          57,
          53,
          53,
          47,
          38,
          34,
          32,
          64,
          79,
          48,
          54,
          41,
          49,
          50,
          72,
          45,
          34,
          37,
          54,
          65,
          48,
          48,
          28,
          55,
          66,
          27,
          49,
          67,
          42,
          46,
          30,
          64,
          53,
          37,
          66,
          49,
          30,
          44,
          40,
          49,
          28,
          54,
          33,
          33,
          46,
          56,
          39,
          38,
          39,
          57,
          53,
          46,
          48,
          41,
          46,
          66,
          31,
          71,
          44,
          54,
          60,
          35,
          41,
          32,
          40,
          47,
          43,
          46,
          35,
          60,
          36,
          50,
          46,
          65,
          51,
          64,
          48,
          44,
          49,
          28,
          40,
          49,
          57,
          50,
          54,
          61,
          53,
          36,
          65,
          62,
          49,
          42,
          46,
          54,
          61,
          49,
          48,
          61,
          66,
          46,
          65,
          49,
          65,
          63,
          40,
          37,
          41,
          54,
          46,
          65,
          62,
          30,
          38,
          71,
          54,
          47,
          29,
          41,
          40,
          51,
          27,
          37,
          53,
          51,
          69,
          39,
          48,
          60,
          37,
          56,
          53,
          41,
          73,
          54,
          46,
          48,
          49,
          55,
          57,
          34,
          57,
          37,
          61,
          49,
          72,
          37,
          36,
          71,
          63,
          45,
          50,
          44,
          61,
          33,
          51,
          53,
          57,
          44,
          49,
          44,
          40,
          63,
          68,
          51,
          62,
          62,
          36,
          27,
          26,
          41,
          48,
          49,
          66,
          73,
          54,
          36,
          34,
          75,
          36,
          52,
          43,
          39,
          39,
          62,
          26,
          36,
          25,
          54,
          38,
          60,
          27,
          36,
          47,
          58,
          54,
          41,
          43,
          74,
          44,
          58,
          53,
          57,
          47,
          32,
          37,
          54,
          36,
          44,
          57,
          35,
          36,
          38,
          43,
          35,
          41,
          33,
          44,
          53,
          50,
          40,
          42,
          46,
          36,
          52,
          34,
          33,
          36,
          33,
          30,
          55,
          33,
          40,
          28,
          51,
          52,
          44,
          59,
          49,
          44,
          37,
          49,
          55,
          45,
          34,
          55,
          66,
          64,
          70,
          40,
          55,
          31,
          27,
          33,
          37,
          40,
          28,
          66,
          51,
          62,
          56,
          49,
          61,
          61,
          54,
          43,
          67,
          65,
          71,
          36,
          27,
          43,
          32,
          57,
          30,
          44,
          56,
          40,
          61,
          61,
          70,
          75,
          37,
          63,
          63,
          41,
          38,
          30,
          37,
          49,
          66,
          38,
          50,
          60,
          43,
          60,
          37,
          38,
          58,
          52,
          55,
          51,
          48
         ],
         "xaxis": "x",
         "yaxis": "y"
        }
       ],
       "layout": {
        "barmode": "relative",
        "font": {
         "color": "#351f39",
         "family": "Courier New"
        },
        "legend": {
         "tracegroupgap": 0
        },
        "margin": {
         "t": 60
        },
        "template": {
         "data": {
          "bar": [
           {
            "error_x": {
             "color": "#2a3f5f"
            },
            "error_y": {
             "color": "#2a3f5f"
            },
            "marker": {
             "line": {
              "color": "#E5ECF6",
              "width": 0.5
             },
             "pattern": {
              "fillmode": "overlay",
              "size": 10,
              "solidity": 0.2
             }
            },
            "type": "bar"
           }
          ],
          "barpolar": [
           {
            "marker": {
             "line": {
              "color": "#E5ECF6",
              "width": 0.5
             },
             "pattern": {
              "fillmode": "overlay",
              "size": 10,
              "solidity": 0.2
             }
            },
            "type": "barpolar"
           }
          ],
          "carpet": [
           {
            "aaxis": {
             "endlinecolor": "#2a3f5f",
             "gridcolor": "white",
             "linecolor": "white",
             "minorgridcolor": "white",
             "startlinecolor": "#2a3f5f"
            },
            "baxis": {
             "endlinecolor": "#2a3f5f",
             "gridcolor": "white",
             "linecolor": "white",
             "minorgridcolor": "white",
             "startlinecolor": "#2a3f5f"
            },
            "type": "carpet"
           }
          ],
          "choropleth": [
           {
            "colorbar": {
             "outlinewidth": 0,
             "ticks": ""
            },
            "type": "choropleth"
           }
          ],
          "contour": [
           {
            "colorbar": {
             "outlinewidth": 0,
             "ticks": ""
            },
            "colorscale": [
             [
              0,
              "#0d0887"
             ],
             [
              0.1111111111111111,
              "#46039f"
             ],
             [
              0.2222222222222222,
              "#7201a8"
             ],
             [
              0.3333333333333333,
              "#9c179e"
             ],
             [
              0.4444444444444444,
              "#bd3786"
             ],
             [
              0.5555555555555556,
              "#d8576b"
             ],
             [
              0.6666666666666666,
              "#ed7953"
             ],
             [
              0.7777777777777778,
              "#fb9f3a"
             ],
             [
              0.8888888888888888,
              "#fdca26"
             ],
             [
              1,
              "#f0f921"
             ]
            ],
            "type": "contour"
           }
          ],
          "contourcarpet": [
           {
            "colorbar": {
             "outlinewidth": 0,
             "ticks": ""
            },
            "type": "contourcarpet"
           }
          ],
          "heatmap": [
           {
            "colorbar": {
             "outlinewidth": 0,
             "ticks": ""
            },
            "colorscale": [
             [
              0,
              "#0d0887"
             ],
             [
              0.1111111111111111,
              "#46039f"
             ],
             [
              0.2222222222222222,
              "#7201a8"
             ],
             [
              0.3333333333333333,
              "#9c179e"
             ],
             [
              0.4444444444444444,
              "#bd3786"
             ],
             [
              0.5555555555555556,
              "#d8576b"
             ],
             [
              0.6666666666666666,
              "#ed7953"
             ],
             [
              0.7777777777777778,
              "#fb9f3a"
             ],
             [
              0.8888888888888888,
              "#fdca26"
             ],
             [
              1,
              "#f0f921"
             ]
            ],
            "type": "heatmap"
           }
          ],
          "heatmapgl": [
           {
            "colorbar": {
             "outlinewidth": 0,
             "ticks": ""
            },
            "colorscale": [
             [
              0,
              "#0d0887"
             ],
             [
              0.1111111111111111,
              "#46039f"
             ],
             [
              0.2222222222222222,
              "#7201a8"
             ],
             [
              0.3333333333333333,
              "#9c179e"
             ],
             [
              0.4444444444444444,
              "#bd3786"
             ],
             [
              0.5555555555555556,
              "#d8576b"
             ],
             [
              0.6666666666666666,
              "#ed7953"
             ],
             [
              0.7777777777777778,
              "#fb9f3a"
             ],
             [
              0.8888888888888888,
              "#fdca26"
             ],
             [
              1,
              "#f0f921"
             ]
            ],
            "type": "heatmapgl"
           }
          ],
          "histogram": [
           {
            "marker": {
             "pattern": {
              "fillmode": "overlay",
              "size": 10,
              "solidity": 0.2
             }
            },
            "type": "histogram"
           }
          ],
          "histogram2d": [
           {
            "colorbar": {
             "outlinewidth": 0,
             "ticks": ""
            },
            "colorscale": [
             [
              0,
              "#0d0887"
             ],
             [
              0.1111111111111111,
              "#46039f"
             ],
             [
              0.2222222222222222,
              "#7201a8"
             ],
             [
              0.3333333333333333,
              "#9c179e"
             ],
             [
              0.4444444444444444,
              "#bd3786"
             ],
             [
              0.5555555555555556,
              "#d8576b"
             ],
             [
              0.6666666666666666,
              "#ed7953"
             ],
             [
              0.7777777777777778,
              "#fb9f3a"
             ],
             [
              0.8888888888888888,
              "#fdca26"
             ],
             [
              1,
              "#f0f921"
             ]
            ],
            "type": "histogram2d"
           }
          ],
          "histogram2dcontour": [
           {
            "colorbar": {
             "outlinewidth": 0,
             "ticks": ""
            },
            "colorscale": [
             [
              0,
              "#0d0887"
             ],
             [
              0.1111111111111111,
              "#46039f"
             ],
             [
              0.2222222222222222,
              "#7201a8"
             ],
             [
              0.3333333333333333,
              "#9c179e"
             ],
             [
              0.4444444444444444,
              "#bd3786"
             ],
             [
              0.5555555555555556,
              "#d8576b"
             ],
             [
              0.6666666666666666,
              "#ed7953"
             ],
             [
              0.7777777777777778,
              "#fb9f3a"
             ],
             [
              0.8888888888888888,
              "#fdca26"
             ],
             [
              1,
              "#f0f921"
             ]
            ],
            "type": "histogram2dcontour"
           }
          ],
          "mesh3d": [
           {
            "colorbar": {
             "outlinewidth": 0,
             "ticks": ""
            },
            "type": "mesh3d"
           }
          ],
          "parcoords": [
           {
            "line": {
             "colorbar": {
              "outlinewidth": 0,
              "ticks": ""
             }
            },
            "type": "parcoords"
           }
          ],
          "pie": [
           {
            "automargin": true,
            "type": "pie"
           }
          ],
          "scatter": [
           {
            "fillpattern": {
             "fillmode": "overlay",
             "size": 10,
             "solidity": 0.2
            },
            "type": "scatter"
           }
          ],
          "scatter3d": [
           {
            "line": {
             "colorbar": {
              "outlinewidth": 0,
              "ticks": ""
             }
            },
            "marker": {
             "colorbar": {
              "outlinewidth": 0,
              "ticks": ""
             }
            },
            "type": "scatter3d"
           }
          ],
          "scattercarpet": [
           {
            "marker": {
             "colorbar": {
              "outlinewidth": 0,
              "ticks": ""
             }
            },
            "type": "scattercarpet"
           }
          ],
          "scattergeo": [
           {
            "marker": {
             "colorbar": {
              "outlinewidth": 0,
              "ticks": ""
             }
            },
            "type": "scattergeo"
           }
          ],
          "scattergl": [
           {
            "marker": {
             "colorbar": {
              "outlinewidth": 0,
              "ticks": ""
             }
            },
            "type": "scattergl"
           }
          ],
          "scattermapbox": [
           {
            "marker": {
             "colorbar": {
              "outlinewidth": 0,
              "ticks": ""
             }
            },
            "type": "scattermapbox"
           }
          ],
          "scatterpolar": [
           {
            "marker": {
             "colorbar": {
              "outlinewidth": 0,
              "ticks": ""
             }
            },
            "type": "scatterpolar"
           }
          ],
          "scatterpolargl": [
           {
            "marker": {
             "colorbar": {
              "outlinewidth": 0,
              "ticks": ""
             }
            },
            "type": "scatterpolargl"
           }
          ],
          "scatterternary": [
           {
            "marker": {
             "colorbar": {
              "outlinewidth": 0,
              "ticks": ""
             }
            },
            "type": "scatterternary"
           }
          ],
          "surface": [
           {
            "colorbar": {
             "outlinewidth": 0,
             "ticks": ""
            },
            "colorscale": [
             [
              0,
              "#0d0887"
             ],
             [
              0.1111111111111111,
              "#46039f"
             ],
             [
              0.2222222222222222,
              "#7201a8"
             ],
             [
              0.3333333333333333,
              "#9c179e"
             ],
             [
              0.4444444444444444,
              "#bd3786"
             ],
             [
              0.5555555555555556,
              "#d8576b"
             ],
             [
              0.6666666666666666,
              "#ed7953"
             ],
             [
              0.7777777777777778,
              "#fb9f3a"
             ],
             [
              0.8888888888888888,
              "#fdca26"
             ],
             [
              1,
              "#f0f921"
             ]
            ],
            "type": "surface"
           }
          ],
          "table": [
           {
            "cells": {
             "fill": {
              "color": "#EBF0F8"
             },
             "line": {
              "color": "white"
             }
            },
            "header": {
             "fill": {
              "color": "#C8D4E3"
             },
             "line": {
              "color": "white"
             }
            },
            "type": "table"
           }
          ]
         },
         "layout": {
          "annotationdefaults": {
           "arrowcolor": "#2a3f5f",
           "arrowhead": 0,
           "arrowwidth": 1
          },
          "autotypenumbers": "strict",
          "coloraxis": {
           "colorbar": {
            "outlinewidth": 0,
            "ticks": ""
           }
          },
          "colorscale": {
           "diverging": [
            [
             0,
             "#8e0152"
            ],
            [
             0.1,
             "#c51b7d"
            ],
            [
             0.2,
             "#de77ae"
            ],
            [
             0.3,
             "#f1b6da"
            ],
            [
             0.4,
             "#fde0ef"
            ],
            [
             0.5,
             "#f7f7f7"
            ],
            [
             0.6,
             "#e6f5d0"
            ],
            [
             0.7,
             "#b8e186"
            ],
            [
             0.8,
             "#7fbc41"
            ],
            [
             0.9,
             "#4d9221"
            ],
            [
             1,
             "#276419"
            ]
           ],
           "sequential": [
            [
             0,
             "#0d0887"
            ],
            [
             0.1111111111111111,
             "#46039f"
            ],
            [
             0.2222222222222222,
             "#7201a8"
            ],
            [
             0.3333333333333333,
             "#9c179e"
            ],
            [
             0.4444444444444444,
             "#bd3786"
            ],
            [
             0.5555555555555556,
             "#d8576b"
            ],
            [
             0.6666666666666666,
             "#ed7953"
            ],
            [
             0.7777777777777778,
             "#fb9f3a"
            ],
            [
             0.8888888888888888,
             "#fdca26"
            ],
            [
             1,
             "#f0f921"
            ]
           ],
           "sequentialminus": [
            [
             0,
             "#0d0887"
            ],
            [
             0.1111111111111111,
             "#46039f"
            ],
            [
             0.2222222222222222,
             "#7201a8"
            ],
            [
             0.3333333333333333,
             "#9c179e"
            ],
            [
             0.4444444444444444,
             "#bd3786"
            ],
            [
             0.5555555555555556,
             "#d8576b"
            ],
            [
             0.6666666666666666,
             "#ed7953"
            ],
            [
             0.7777777777777778,
             "#fb9f3a"
            ],
            [
             0.8888888888888888,
             "#fdca26"
            ],
            [
             1,
             "#f0f921"
            ]
           ]
          },
          "colorway": [
           "#636efa",
           "#EF553B",
           "#00cc96",
           "#ab63fa",
           "#FFA15A",
           "#19d3f3",
           "#FF6692",
           "#B6E880",
           "#FF97FF",
           "#FECB52"
          ],
          "font": {
           "color": "#2a3f5f"
          },
          "geo": {
           "bgcolor": "white",
           "lakecolor": "white",
           "landcolor": "#E5ECF6",
           "showlakes": true,
           "showland": true,
           "subunitcolor": "white"
          },
          "hoverlabel": {
           "align": "left"
          },
          "hovermode": "closest",
          "mapbox": {
           "style": "light"
          },
          "paper_bgcolor": "white",
          "plot_bgcolor": "#E5ECF6",
          "polar": {
           "angularaxis": {
            "gridcolor": "white",
            "linecolor": "white",
            "ticks": ""
           },
           "bgcolor": "#E5ECF6",
           "radialaxis": {
            "gridcolor": "white",
            "linecolor": "white",
            "ticks": ""
           }
          },
          "scene": {
           "xaxis": {
            "backgroundcolor": "#E5ECF6",
            "gridcolor": "white",
            "gridwidth": 2,
            "linecolor": "white",
            "showbackground": true,
            "ticks": "",
            "zerolinecolor": "white"
           },
           "yaxis": {
            "backgroundcolor": "#E5ECF6",
            "gridcolor": "white",
            "gridwidth": 2,
            "linecolor": "white",
            "showbackground": true,
            "ticks": "",
            "zerolinecolor": "white"
           },
           "zaxis": {
            "backgroundcolor": "#E5ECF6",
            "gridcolor": "white",
            "gridwidth": 2,
            "linecolor": "white",
            "showbackground": true,
            "ticks": "",
            "zerolinecolor": "white"
           }
          },
          "shapedefaults": {
           "line": {
            "color": "#2a3f5f"
           }
          },
          "ternary": {
           "aaxis": {
            "gridcolor": "white",
            "linecolor": "white",
            "ticks": ""
           },
           "baxis": {
            "gridcolor": "white",
            "linecolor": "white",
            "ticks": ""
           },
           "bgcolor": "#E5ECF6",
           "caxis": {
            "gridcolor": "white",
            "linecolor": "white",
            "ticks": ""
           }
          },
          "title": {
           "x": 0.05
          },
          "xaxis": {
           "automargin": true,
           "gridcolor": "white",
           "linecolor": "white",
           "ticks": "",
           "title": {
            "standoff": 15
           },
           "zerolinecolor": "white",
           "zerolinewidth": 2
          },
          "yaxis": {
           "automargin": true,
           "gridcolor": "white",
           "linecolor": "white",
           "ticks": "",
           "title": {
            "standoff": 15
           },
           "zerolinecolor": "white",
           "zerolinewidth": 2
          }
         }
        },
        "title": {
         "font": {
          "color": "#351f39",
          "family": "Courier New"
         },
         "text": "Age Distribution of Candidates"
        },
        "xaxis": {
         "anchor": "y",
         "domain": [
          0,
          1
         ],
         "title": {
          "text": "Distribution"
         }
        },
        "yaxis": {
         "anchor": "x",
         "domain": [
          0,
          1
         ],
         "title": {
          "text": "Age"
         }
        }
       }
      },
      "text/html": [
       "<div>                            <div id=\"4592395d-7a57-4f6a-ae30-509b95477710\" class=\"plotly-graph-div\" style=\"height:525px; width:100%;\"></div>            <script type=\"text/javascript\">                require([\"plotly\"], function(Plotly) {                    window.PLOTLYENV=window.PLOTLYENV || {};                                    if (document.getElementById(\"4592395d-7a57-4f6a-ae30-509b95477710\")) {                    Plotly.newPlot(                        \"4592395d-7a57-4f6a-ae30-509b95477710\",                        [{\"alignmentgroup\":\"True\",\"bingroup\":\"x\",\"hovertemplate\":\"AGE=%{x}\\u003cbr\\u003ecount=%{y}\\u003cextra\\u003e\\u003c\\u002fextra\\u003e\",\"legendgroup\":\"\",\"marker\":{\"color\":\"indianred\",\"pattern\":{\"shape\":\"\"}},\"name\":\"\",\"offsetgroup\":\"\",\"orientation\":\"v\",\"showlegend\":false,\"x\":[31.0,53.0,41.0,30.0,48.0,64.0,32.0,28.0,47.0,42.0,42.0,45.0,43.0,36.0,50.0,59.0,38.0,40.0,39.0,38.0,66.0,37.0,47.0,34.0,49.0,29.0,50.0,62.0,33.0,69.0,58.0,48.0,42.0,45.0,50.0,37.0,46.0,55.0,61.0,60.0,50.0,35.0,61.0,52.0,60.0,57.0,43.0,44.0,53.0,54.0,52.0,55.0,42.0,49.0,53.0,57.0,49.0,37.0,26.0,48.0,39.0,29.0,44.0,38.0,42.0,31.0,49.0,52.0,56.0,43.0,38.0,58.0,44.0,51.0,58.0,60.0,50.0,54.0,70.0,36.0,50.0,70.0,54.0,60.0,39.0,43.0,35.0,54.0,42.0,38.0,54.0,56.0,41.0,55.0,25.0,32.0,55.0,63.0,33.0,64.0,44.0,31.0,52.0,53.0,33.0,65.0,54.0,59.0,30.0,64.0,71.0,51.0,28.0,61.0,62.0,39.0,32.0,47.0,39.0,67.0,60.0,55.0,62.0,31.0,50.0,45.0,35.0,54.0,67.0,39.0,43.0,56.0,57.0,64.0,33.0,56.0,49.0,51.0,41.0,43.0,55.0,36.0,68.0,41.0,47.0,54.0,53.0,46.0,38.0,36.0,67.0,40.0,39.0,33.0,47.0,32.0,65.0,42.0,70.0,56.0,41.0,49.0,44.0,51.0,55.0,55.0,70.0,60.0,66.0,46.0,63.0,34.0,38.0,76.0,39.0,25.0,55.0,32.0,58.0,51.0,55.0,58.0,36.0,50.0,27.0,38.0,50.0,45.0,37.0,34.0,49.0,51.0,55.0,49.0,61.0,70.0,46.0,48.0,57.0,57.0,63.0,48.0,31.0,46.0,34.0,31.0,58.0,66.0,50.0,33.0,58.0,39.0,37.0,33.0,48.0,55.0,50.0,39.0,45.0,53.0,55.0,40.0,49.0,34.0,74.0,56.0,45.0,41.0,44.0,55.0,61.0,51.0,31.0,51.0,40.0,48.0,53.0,50.0,37.0,54.0,40.0,40.0,64.0,46.0,70.0,61.0,46.0,34.0,34.0,57.0,46.0,32.0,37.0,43.0,41.0,58.0,67.0,70.0,51.0,50.0,50.0,36.0,41.0,37.0,61.0,33.0,63.0,38.0,51.0,53.0,38.0,41.0,47.0,33.0,35.0,25.0,33.0,48.0,39.0,54.0,33.0,27.0,40.0,66.0,38.0,51.0,43.0,53.0,51.0,41.0,52.0,43.0,37.0,57.0,60.0,38.0,66.0,55.0,48.0,44.0,44.0,28.0,42.0,58.0,57.0,69.0,75.0,40.0,50.0,43.0,68.0,46.0,48.0,45.0,57.0,56.0,50.0,30.0,31.0,44.0,52.0,50.0,41.0,37.0,42.0,42.0,35.0,34.0,70.0,38.0,52.0,40.0,60.0,59.0,61.0,59.0,49.0,53.0,44.0,38.0,59.0,38.0,68.0,33.0,40.0,48.0,33.0,49.0,37.0,37.0,42.0,35.0,58.0,64.0,51.0,60.0,29.0,46.0,44.0,55.0,46.0,40.0,32.0,46.0,30.0,36.0,39.0,37.0,50.0,53.0,43.0,49.0,58.0,42.0,45.0,34.0,40.0,50.0,62.0,44.0,68.0,66.0,67.0,70.0,34.0,38.0,28.0,49.0,40.0,49.0,53.0,37.0,72.0,51.0,38.0,71.0,69.0,66.0,53.0,36.0,61.0,61.0,59.0,46.0,51.0,53.0,50.0,34.0,41.0,43.0,38.0,28.0,46.0,31.0,45.0,26.0,40.0,46.0,63.0,38.0,44.0,71.0,26.0,40.0,26.0,44.0,50.0,65.0,37.0,34.0,49.0,25.0,30.0,69.0,62.0,62.0,73.0,48.0,64.0,36.0,35.0,52.0,35.0,48.0,40.0,32.0,36.0,34.0,33.0,37.0,32.0,34.0,30.0,37.0,53.0,56.0,28.0,43.0,41.0,53.0,38.0,36.0,59.0,57.0,55.0,54.0,30.0,43.0,48.0,58.0,49.0,38.0,26.0,59.0,35.0,42.0,46.0,30.0,58.0,53.0,59.0,68.0,55.0,53.0,47.0,50.0,44.0,62.0,48.0,44.0,30.0,69.0,40.0,72.0,50.0,70.0,59.0,26.0,46.0,49.0,40.0,54.0,46.0,52.0,67.0,37.0,51.0,50.0,67.0,65.0,37.0,67.0,48.0,42.0,54.0,72.0,50.0,28.0,45.0,51.0,41.0,71.0,34.0,65.0,63.0,41.0,56.0,73.0,64.0,75.0,62.0,50.0,71.0,55.0,56.0,51.0,38.0,61.0,52.0,57.0,33.0,53.0,64.0,66.0,29.0,43.0,51.0,51.0,39.0,55.0,59.0,36.0,36.0,41.0,37.0,66.0,51.0,70.0,48.0,51.0,67.0,46.0,54.0,64.0,52.0,52.0,56.0,40.0,58.0,49.0,49.0,47.0,42.0,32.0,49.0,57.0,48.0,42.0,43.0,53.0,53.0,62.0,53.0,44.0,66.0,45.0,28.0,67.0,53.0,45.0,47.0,58.0,41.0,55.0,44.0,58.0,65.0,62.0,46.0,32.0,27.0,33.0,40.0,54.0,62.0,45.0,47.0,41.0,55.0,62.0,58.0,39.0,46.0,48.0,42.0,46.0,66.0,36.0,27.0,55.0,42.0,58.0,57.0,41.0,38.0,53.0,48.0,37.0,51.0,74.0,50.0,40.0,40.0,31.0,48.0,35.0,55.0,33.0,29.0,53.0,29.0,57.0,46.0,29.0,26.0,37.0,65.0,48.0,52.0,32.0,28.0,46.0,60.0,71.0,52.0,27.0,46.0,54.0,52.0,49.0,53.0,38.0,33.0,37.0,62.0,27.0,51.0,54.0,68.0,44.0,53.0,31.0,44.0,43.0,28.0,55.0,35.0,35.0,45.0,68.0,59.0,56.0,53.0,41.0,64.0,57.0,31.0,50.0,39.0,78.0,47.0,54.0,49.0,67.0,37.0,44.0,59.0,47.0,31.0,64.0,26.0,39.0,31.0,64.0,58.0,42.0,37.0,38.0,51.0,56.0,47.0,49.0,40.0,60.0,54.0,60.0,52.0,31.0,27.0,50.0,44.0,40.0,48.0,47.0,58.0,73.0,56.0,34.0,32.0,37.0,52.0,50.0,44.0,28.0,56.0,48.0,49.0,49.0,41.0,45.0,50.0,72.0,57.0,66.0,48.0,65.0,67.0,63.0,35.0,54.0,58.0,47.0,52.0,49.0,55.0,49.0,40.0,46.0,55.0,45.0,70.0,56.0,48.0,47.0,35.0,53.0,53.0,32.0,55.0,55.0,25.0,36.0,45.0,35.0,41.0,32.0,51.0,45.0,64.0,41.0,40.0,51.0,46.0,53.0,55.0,27.0,41.0,49.0,49.0,42.0,65.0,29.0,52.0,29.0,51.0,41.0,26.0,57.0,67.0,36.0,45.0,31.0,54.0,45.0,35.0,44.0,53.0,56.0,49.0,61.0,53.0,77.0,38.0,34.0,46.0,37.0,68.0,48.0,46.0,40.0,38.0,44.0,65.0,33.0,51.0,40.0,72.0,62.0,44.0,69.0,35.0,29.0,27.0,54.0,63.0,36.0,46.0,54.0,37.0,37.0,43.0,42.0,53.0,49.0,40.0,54.0,44.0,52.0,36.0,37.0,47.0,33.0,69.0,36.0,52.0,58.0,55.0,45.0,27.0,31.0,43.0,50.0,47.0,45.0,29.0,72.0,40.0,42.0,25.0,33.0,41.0,26.0,54.0,36.0,29.0,34.0,31.0,50.0,29.0,43.0,71.0,72.0,52.0,50.0,33.0,69.0,33.0,61.0,35.0,34.0,31.0,56.0,32.0,33.0,29.0,33.0,40.0,36.0,39.0,54.0,65.0,42.0,46.0,70.0,26.0,59.0,50.0,33.0,42.0,70.0,45.0,38.0,47.0,57.0,63.0,70.0,40.0,62.0,56.0,48.0,44.0,34.0,50.0,73.0,70.0,46.0,51.0,28.0,69.0,39.0,61.0,36.0,36.0,58.0,41.0,47.0,65.0,37.0,42.0,70.0,38.0,55.0,33.0,52.0,52.0,41.0,29.0,47.0,34.0,55.0,50.0,43.0,60.0,45.0,40.0,57.0,47.0,36.0,60.0,54.0,39.0,30.0,62.0,40.0,61.0,69.0,54.0,50.0,48.0,64.0,55.0,44.0,49.0,48.0,36.0,47.0,59.0,35.0,64.0,50.0,40.0,34.0,47.0,63.0,73.0,62.0,48.0,46.0,52.0,42.0,65.0,47.0,47.0,55.0,47.0,33.0,29.0,52.0,34.0,28.0,39.0,42.0,42.0,65.0,56.0,71.0,28.0,83.0,56.0,54.0,57.0,29.0,46.0,64.0,52.0,35.0,41.0,41.0,52.0,53.0,45.0,42.0,60.0,39.0,47.0,66.0,29.0,41.0,36.0,39.0,40.0,29.0,40.0,56.0,28.0,67.0,47.0,38.0,35.0,31.0,51.0,47.0,66.0,38.0,61.0,34.0,54.0,31.0,45.0,33.0,26.0,55.0,35.0,60.0,53.0,65.0,72.0,65.0,46.0,36.0,57.0,26.0,39.0,44.0,63.0,34.0,63.0,67.0,61.0,44.0,53.0,58.0,36.0,32.0,62.0,76.0,61.0,44.0,36.0,78.0,48.0,33.0,51.0,66.0,43.0,26.0,28.0,25.0,42.0,37.0,44.0,60.0,66.0,54.0,50.0,48.0,34.0,52.0,33.0,52.0,64.0,45.0,38.0,51.0,41.0,57.0,69.0,40.0,71.0,77.0,39.0,53.0,42.0,55.0,61.0,33.0,54.0,49.0,39.0,33.0,41.0,44.0,49.0,54.0,45.0,30.0,45.0,53.0,41.0,54.0,43.0,31.0,40.0,39.0,60.0,48.0,44.0,33.0,54.0,54.0,39.0,25.0,63.0,34.0,44.0,58.0,48.0,69.0,51.0,42.0,57.0,27.0,31.0,50.0,63.0,46.0,49.0,62.0,54.0,66.0,47.0,68.0,59.0,50.0,58.0,57.0,78.0,33.0,45.0,44.0,56.0,29.0,32.0,40.0,52.0,51.0,63.0,59.0,64.0,60.0,25.0,44.0,55.0,72.0,55.0,43.0,70.0,55.0,40.0,58.0,39.0,63.0,62.0,57.0,43.0,51.0,43.0,43.0,34.0,36.0,58.0,37.0,49.0,36.0,50.0,37.0,48.0,54.0,44.0,54.0,59.0,37.0,39.0,60.0,50.0,61.0,49.0,39.0,55.0,45.0,40.0,34.0,47.0,30.0,38.0,47.0,43.0,38.0,29.0,69.0,47.0,50.0,48.0,43.0,61.0,39.0,39.0,37.0,51.0,62.0,70.0,59.0,50.0,27.0,50.0,56.0,40.0,56.0,43.0,47.0,49.0,43.0,40.0,53.0,59.0,45.0,70.0,53.0,46.0,61.0,52.0,47.0,70.0,42.0,42.0,55.0,53.0,44.0,48.0,39.0,45.0,33.0,45.0,45.0,62.0,54.0,40.0,55.0,35.0,37.0,34.0,37.0,25.0,57.0,46.0,40.0,50.0,33.0,26.0,47.0,27.0,57.0,65.0,47.0,34.0,73.0,59.0,48.0,60.0,29.0,44.0,29.0,43.0,59.0,65.0,42.0,31.0,42.0,42.0,50.0,37.0,43.0,51.0,44.0,50.0,43.0,63.0,31.0,50.0,26.0,42.0,40.0,40.0,57.0,69.0,36.0,68.0,72.0,49.0,50.0,44.0,63.0,33.0,42.0,48.0,44.0,40.0,44.0,32.0,46.0,30.0,59.0,49.0,46.0,33.0,36.0,54.0,67.0,72.0,65.0,33.0,34.0,66.0,35.0,45.0,42.0,56.0,64.0,49.0,35.0,33.0,49.0,66.0,70.0,35.0,54.0,47.0,43.0,69.0,67.0,40.0,49.0,42.0,58.0,42.0,66.0,46.0,35.0,43.0,53.0,38.0,39.0,37.0,46.0,64.0,51.0,59.0,32.0,51.0,44.0,59.0,45.0,30.0,42.0,57.0,37.0,58.0,65.0,55.0,41.0,65.0,39.0,35.0,54.0,63.0,60.0,34.0,37.0,52.0,39.0,42.0,62.0,61.0,42.0,61.0,70.0,53.0,48.0,60.0,60.0,69.0,42.0,44.0,63.0,29.0,46.0,52.0,44.0,26.0,69.0,74.0,29.0,69.0,59.0,61.0,48.0,42.0,58.0,77.0,26.0,64.0,38.0,39.0,71.0,41.0,37.0,59.0,39.0,40.0,36.0,48.0,35.0,46.0,69.0,78.0,59.0,49.0,56.0,36.0,63.0,48.0,32.0,34.0,42.0,40.0,25.0,37.0,57.0,50.0,32.0,42.0,52.0,30.0,27.0,70.0,46.0,63.0,54.0,35.0,34.0,28.0,70.0,30.0,53.0,74.0,46.0,49.0,27.0,44.0,37.0,37.0,37.0,48.0,37.0,66.0,40.0,53.0,47.0,59.0,45.0,60.0,61.0,36.0,62.0,55.0,51.0,54.0,63.0,37.0,29.0,57.0,60.0,65.0,40.0,51.0,37.0,28.0,46.0,36.0,42.0,31.0,37.0,46.0,61.0,38.0,43.0,43.0,47.0,40.0,50.0,40.0,39.0,39.0,78.0,60.0,43.0,41.0,36.0,53.0,43.0,37.0,25.0,59.0,39.0,48.0,50.0,43.0,29.0,69.0,68.0,67.0,52.0,48.0,31.0,37.0,69.0,52.0,31.0,26.0,44.0,61.0,49.0,68.0,65.0,51.0,74.0,71.0,33.0,41.0,57.0,42.0,55.0,66.0,36.0,70.0,42.0,58.0,44.0,57.0,56.0,44.0,53.0,54.0,69.0,34.0,69.0,25.0,46.0,67.0,79.0,60.0,49.0,34.0,45.0,33.0,48.0,42.0,32.0,39.0,56.0,69.0,53.0,50.0,45.0,40.0,53.0,51.0,50.0,37.0,55.0,47.0,41.0,62.0,71.0,41.0,56.0,53.0,34.0,64.0,49.0,71.0,59.0,37.0,34.0,65.0,54.0,52.0,46.0,42.0,45.0,56.0,38.0,50.0,53.0,62.0,38.0,53.0,56.0,65.0,32.0,50.0,34.0,66.0,69.0,53.0,42.0,31.0,52.0,43.0,27.0,60.0,60.0,29.0,45.0,42.0,37.0,43.0,31.0,39.0,32.0,49.0,42.0,53.0,45.0,54.0,36.0,49.0,68.0,31.0,66.0,64.0,58.0,46.0,43.0,41.0,43.0,42.0,39.0,42.0,46.0,72.0,30.0,43.0,53.0,29.0,37.0,59.0,38.0,45.0,32.0,52.0,56.0,44.0,54.0,43.0,46.0,38.0,42.0,51.0,38.0,37.0,64.0,71.0,64.0,44.0,45.0,41.0,30.0,47.0,48.0,63.0,65.0,53.0,40.0,33.0,30.0,41.0,39.0,34.0,30.0,39.0,44.0,36.0,40.0,60.0,66.0,44.0,35.0,35.0,55.0,53.0,28.0,26.0,57.0,35.0,39.0,72.0,49.0,60.0,54.0,35.0,59.0,57.0,54.0,44.0,36.0,41.0,28.0,31.0,54.0,44.0,48.0,54.0,31.0,40.0,43.0,44.0,50.0,38.0,50.0,29.0,46.0,49.0,37.0,30.0,43.0,58.0,40.0,45.0,57.0,53.0,46.0,39.0,65.0,37.0,55.0,57.0,47.0,47.0,64.0,46.0,45.0,60.0,42.0,55.0,28.0,53.0,64.0,44.0,32.0,68.0,35.0,55.0,61.0,34.0,42.0,54.0,45.0,47.0,34.0,60.0,75.0,43.0,40.0,32.0,64.0,33.0,58.0,45.0,46.0,63.0,47.0,39.0,66.0,41.0,57.0,63.0,37.0,38.0,56.0,46.0,29.0,62.0,48.0,69.0,39.0,48.0,49.0,45.0,47.0,50.0,41.0,38.0,41.0,44.0,36.0,54.0,31.0,39.0,64.0,65.0,42.0,42.0,59.0,44.0,44.0,31.0,39.0,55.0,37.0,43.0,41.0,35.0,50.0,59.0,77.0,30.0,37.0,29.0,67.0,35.0,41.0,38.0,55.0,54.0,55.0,52.0,62.0,55.0,53.0,55.0,34.0,44.0,66.0,34.0,52.0,64.0,71.0,65.0,68.0,34.0,75.0,45.0,46.0,33.0,39.0,32.0,34.0,43.0,46.0,49.0,60.0,35.0,38.0,29.0,47.0,51.0,41.0,52.0,49.0,72.0,42.0,53.0,63.0,33.0,47.0,59.0,48.0,47.0,39.0,73.0,68.0,44.0,34.0,39.0,39.0,36.0,36.0,42.0,30.0,53.0,37.0,37.0,63.0,38.0,33.0,40.0,65.0,34.0,61.0,72.0,69.0,58.0,61.0,53.0,33.0,44.0,58.0,34.0,45.0,49.0,38.0,39.0,57.0,50.0,62.0,69.0,53.0,65.0,59.0,29.0,46.0,64.0,34.0,53.0,52.0,39.0,38.0,55.0,49.0,63.0,43.0,32.0,59.0,63.0,38.0,33.0,52.0,70.0,55.0,31.0,51.0,42.0,68.0,30.0,41.0,38.0,66.0,48.0,67.0,42.0,58.0,49.0,42.0,53.0,29.0,32.0,43.0,39.0,38.0,40.0,39.0,50.0,36.0,67.0,57.0,36.0,44.0,47.0,67.0,71.0,52.0,59.0,38.0,54.0,45.0,26.0,35.0,46.0,57.0,61.0,56.0,38.0,48.0,37.0,40.0,54.0,52.0,38.0,42.0,35.0,56.0,30.0,48.0,47.0,51.0,71.0,27.0,56.0,44.0,60.0,51.0,47.0,45.0,42.0,53.0,59.0,50.0,39.0,43.0,57.0,44.0,46.0,27.0,62.0,37.0,30.0,37.0,70.0,54.0,51.0,40.0,28.0,45.0,33.0,41.0,51.0,39.0,75.0,41.0,33.0,32.0,47.0,37.0,59.0,43.0,39.0,41.0,51.0,61.0,32.0,40.0,30.0,55.0,50.0,52.0,50.0,38.0,49.0,48.0,37.0,58.0,27.0,51.0,34.0,38.0,35.0,59.0,30.0,44.0,37.0,41.0,53.0,40.0,30.0,68.0,36.0,46.0,57.0,55.0,37.0,41.0,39.0,40.0,61.0,49.0,51.0,25.0,46.0,47.0,66.0,69.0,46.0,34.0,69.0,38.0,55.0,32.0,42.0,54.0,61.0,46.0,55.0,70.0,74.0,38.0,60.0,36.0,47.0,37.0,64.0,55.0,75.0,63.0,67.0,61.0,61.0,61.0,69.0,39.0,61.0,62.0,62.0,63.0,41.0,67.0,38.0,41.0,59.0,67.0,55.0,43.0,60.0,51.0,53.0,60.0,54.0,68.0,50.0,34.0,48.0,46.0,42.0,71.0,70.0,53.0,60.0,61.0,73.0,62.0,79.0,57.0,57.0,32.0,50.0,65.0,77.0,40.0,71.0,56.0,59.0,29.0,65.0,61.0,65.0,56.0,53.0,49.0,40.0,57.0,56.0,61.0,54.0,67.0,52.0,50.0,44.0,46.0,37.0,39.0,48.0,63.0,60.0,38.0,64.0,40.0,57.0,65.0,56.0,67.0,64.0,51.0,70.0,51.0,37.0,54.0,71.0,68.0,56.0,60.0,58.0,39.0,57.0,50.0,32.0,60.0,62.0,40.0,53.0,69.0,28.0,59.0,39.0,43.0,64.0,30.0,46.0,42.0,53.0,47.0,59.0,48.0,44.0,56.0,68.0,71.0,55.0,59.0,63.0,56.0,34.0,57.0,63.0,43.0,49.0,37.0,54.0,68.0,61.0,59.0,50.0,60.0,60.0,62.0,51.0,49.0,42.0,49.0,43.0,60.0,40.0,52.0,55.0,47.0,43.0,46.0,53.0,53.0,67.0,71.0,38.0,45.0,53.0,67.0,55.0,35.0,63.0,67.0,55.0,38.0,50.0,61.0,57.0,47.0,48.0,53.0,73.0,64.0,68.0,58.0,65.0,37.0,52.0,45.0,54.0,68.0,59.0,78.0,62.0,35.0,44.0,49.0,39.0,72.0,57.0,48.0,71.0,64.0,44.0,65.0,34.0,40.0,32.0,47.0,55.0,52.0,68.0,46.0,36.0,68.0,26.0,48.0,50.0,61.0,33.0,51.0,38.0,32.0,43.0,53.0,41.0,51.0,34.0,30.0,53.0,33.0,43.0,59.0,60.0,48.0,30.0,43.0,60.0,40.0,76.0,25.0,46.0,39.0,53.0,39.0,54.0,49.0,33.0,58.0,53.0,55.0,54.0,62.0,44.0,70.0,67.0,44.0,47.0,54.0,50.0,60.0,63.0,30.0,38.0,53.0,60.0,45.0,42.0,34.0,64.0,46.0,70.0,42.0,59.0,38.0,26.0,53.0,49.0,40.0,44.0,58.0,38.0,54.0,30.0,35.0,34.0,43.0,47.0,49.0,32.0,36.0,38.0,54.0,50.0,64.0,39.0,37.0,37.0,66.0,45.0,35.0,54.0,52.0,56.0,38.0,53.0,61.0,39.0,63.0,34.0,27.0,58.0,39.0,54.0,37.0,70.0,71.0,69.0,65.0,45.0,53.0,28.0,46.0,45.0,50.0,67.0,51.0,35.0,29.0,55.0,62.0,38.0,62.0,35.0,51.0,47.0,34.0,32.0,34.0,66.0,49.0,56.0,30.0,34.0,44.0,84.0,38.0,52.0,44.0,57.0,58.0,31.0,69.0,64.0,54.0,66.0,37.0,57.0,39.0,45.0,39.0,34.0,39.0,33.0,27.0,30.0,54.0,59.0,54.0,42.0,26.0,53.0,55.0,32.0,28.0,32.0,31.0,55.0,67.0,54.0,61.0,44.0,46.0,48.0,62.0,64.0,46.0,55.0,57.0,44.0,39.0,27.0,67.0,47.0,40.0,68.0,50.0,44.0,50.0,56.0,49.0,72.0,54.0,55.0,70.0,33.0,52.0,49.0,53.0,36.0,45.0,50.0,45.0,49.0,27.0,50.0,36.0,52.0,25.0,55.0,43.0,33.0,43.0,30.0,53.0,36.0,72.0,48.0,54.0,62.0,39.0,58.0,71.0,42.0,57.0,33.0,50.0,32.0,41.0,65.0,76.0,65.0,49.0,42.0,41.0,57.0,84.0,40.0,64.0,58.0,37.0,63.0,56.0,63.0,47.0,34.0,39.0,44.0,34.0,36.0,59.0,42.0,59.0,49.0,35.0,41.0,39.0,43.0,61.0,51.0,63.0,56.0,52.0,39.0,63.0,77.0,53.0,63.0,32.0,32.0,50.0,51.0,34.0,25.0,27.0,40.0,33.0,57.0,42.0,40.0,56.0,33.0,42.0,42.0,51.0,39.0,29.0,52.0,44.0,53.0,43.0,35.0,46.0,44.0,35.0,44.0,64.0,62.0,65.0,58.0,44.0,68.0,54.0,59.0,39.0,73.0,37.0,37.0,32.0,33.0,59.0,39.0,47.0,55.0,32.0,54.0,45.0,47.0,30.0,32.0,43.0,43.0,25.0,62.0,43.0,46.0,60.0,29.0,38.0,37.0,31.0,56.0,41.0,39.0,63.0,33.0,51.0,49.0,44.0,58.0,37.0,51.0,55.0,62.0,65.0,48.0,54.0,58.0,47.0,30.0,47.0,39.0,62.0,60.0,36.0,28.0,32.0,59.0,44.0,41.0,34.0,31.0,35.0,56.0,40.0,38.0,58.0,38.0,40.0,51.0,53.0,46.0,64.0,71.0,42.0,56.0,54.0,44.0,52.0,35.0,55.0,64.0,67.0,43.0,53.0,45.0,43.0,43.0,35.0,39.0,56.0,37.0,43.0,58.0,50.0,39.0,26.0,56.0,31.0,32.0,48.0,46.0,52.0,35.0,36.0,53.0,52.0,63.0,46.0,44.0,52.0,53.0,45.0,28.0,65.0,59.0,30.0,49.0,39.0,50.0,54.0,41.0,55.0,42.0,42.0,42.0,46.0,52.0,63.0,58.0,38.0,61.0,62.0,43.0,52.0,43.0,34.0,28.0,38.0,40.0,72.0,49.0,55.0,47.0,55.0,31.0,67.0,36.0,72.0,39.0,59.0,69.0,40.0,55.0,63.0,55.0,44.0,43.0,58.0,57.0,54.0,36.0,45.0,36.0,56.0,38.0,52.0,63.0,42.0,57.0,50.0,76.0,41.0,26.0,40.0,55.0,56.0,34.0,33.0,64.0,68.0,67.0,52.0,39.0,46.0,62.0,51.0,67.0,31.0,47.0,62.0,41.0,62.0,29.0,49.0,69.0,30.0,37.0,35.0,49.0,53.0,50.0,71.0,49.0,64.0,31.0,68.0,44.0,29.0,55.0,47.0,42.0,32.0,65.0,37.0,49.0,45.0,74.0,27.0,53.0,68.0,71.0,70.0,38.0,42.0,46.0,54.0,41.0,66.0,48.0,48.0,31.0,69.0,30.0,58.0,56.0,60.0,30.0,45.0,45.0,32.0,58.0,43.0,55.0,50.0,59.0,51.0,44.0,58.0,51.0,47.0,68.0,40.0,67.0,57.0,48.0,43.0,45.0,58.0,38.0,30.0,33.0,41.0,77.0,53.0,48.0,45.0,59.0,50.0,53.0,46.0,60.0,49.0,51.0,30.0,55.0,52.0,50.0,38.0,45.0,55.0,52.0,47.0,58.0,50.0,42.0,68.0,58.0,27.0,51.0,50.0,35.0,57.0,43.0,39.0,56.0,63.0,65.0,61.0,58.0,41.0,32.0,67.0,26.0,32.0,63.0,40.0,38.0,61.0,42.0,47.0,60.0,55.0,56.0,56.0,62.0,44.0,62.0,39.0,69.0,42.0,47.0,55.0,51.0,47.0,70.0,37.0,65.0,36.0,55.0,25.0,46.0,59.0,45.0,64.0,47.0,32.0,32.0,61.0,52.0,55.0,61.0,60.0,60.0,35.0,41.0,32.0,33.0,43.0,48.0,47.0,52.0,35.0,33.0,53.0,41.0,44.0,59.0,27.0,25.0,41.0,53.0,27.0,47.0,56.0,34.0,38.0,37.0,70.0,40.0,43.0,64.0,69.0,62.0,42.0,37.0,34.0,29.0,36.0,37.0,56.0,51.0,40.0,49.0,50.0,45.0,40.0,34.0,33.0,61.0,49.0,40.0,30.0,42.0,32.0,57.0,55.0,45.0,70.0,43.0,54.0,47.0,35.0,38.0,49.0,31.0,56.0,33.0,41.0,36.0,40.0,36.0,59.0,65.0,51.0,38.0,55.0,41.0,67.0,51.0,31.0,65.0,46.0,48.0,38.0,41.0,33.0,48.0,47.0,61.0,69.0,26.0,51.0,67.0,37.0,54.0,40.0,35.0,51.0,39.0,40.0,30.0,67.0,52.0,27.0,53.0,34.0,57.0,57.0,68.0,55.0,36.0,42.0,42.0,51.0,62.0,55.0,72.0,54.0,46.0,51.0,53.0,57.0,43.0,41.0,42.0,41.0,74.0,51.0,26.0,56.0,38.0,31.0,36.0,35.0,48.0,39.0,40.0,36.0,74.0,39.0,35.0,50.0,58.0,44.0,47.0,59.0,53.0,66.0,34.0,58.0,56.0,53.0,45.0,68.0,29.0,47.0,39.0,42.0,37.0,32.0,64.0,58.0,53.0,36.0,64.0,50.0,59.0,46.0,38.0,57.0,66.0,63.0,54.0,60.0,45.0,36.0,44.0,46.0,32.0,69.0,45.0,36.0,59.0,26.0,29.0,39.0,82.0,59.0,58.0,39.0,41.0,50.0,47.0,50.0,49.0,29.0,37.0,43.0,52.0,58.0,35.0,29.0,53.0,63.0,48.0,51.0,36.0,50.0,46.0,40.0,47.0,60.0,34.0,60.0,48.0,39.0,48.0,47.0,38.0,53.0,40.0,40.0,50.0,62.0,48.0,41.0,38.0,33.0,42.0,37.0,49.0,66.0,45.0,40.0,54.0,38.0,34.0,48.0,26.0,48.0,52.0,62.0,32.0,60.0,73.0,40.0,51.0,52.0,34.0,38.0,41.0,31.0,46.0,45.0,61.0,67.0,39.0,54.0,62.0,45.0,37.0,40.0,54.0,64.0,39.0,55.0,45.0,49.0,66.0,69.0,32.0,48.0,37.0,39.0,59.0,47.0,42.0,53.0,41.0,56.0,31.0,59.0,55.0,33.0,52.0,47.0,38.0,61.0,48.0,56.0,45.0,33.0,60.0,60.0,61.0,42.0,48.0,42.0,41.0,52.0,65.0,52.0,36.0,43.0,38.0,40.0,32.0,69.0,33.0,33.0,42.0,49.0,28.0,53.0,42.0,45.0,48.0,38.0,32.0,55.0,43.0,55.0,49.0,44.0,48.0,45.0,51.0,44.0,41.0,54.0,32.0,46.0,52.0,66.0,64.0,45.0,68.0,38.0,60.0,58.0,43.0,49.0,71.0,46.0,56.0,56.0,40.0,42.0,54.0,48.0,46.0,28.0,36.0,52.0,48.0,29.0,47.0,46.0,34.0,45.0,57.0,39.0,51.0,47.0,51.0,32.0,50.0,33.0,66.0,51.0,53.0,49.0,62.0,39.0,48.0,50.0,47.0,49.0,36.0,47.0,37.0,77.0,61.0,72.0,56.0,44.0,46.0,55.0,59.0,27.0,43.0,56.0,29.0,43.0,38.0,36.0,55.0,69.0,72.0,49.0,49.0,39.0,47.0,63.0,70.0,45.0,60.0,42.0,57.0,50.0,60.0,59.0,37.0,52.0,42.0,51.0,29.0,47.0,39.0,42.0,59.0,47.0,58.0,42.0,37.0,28.0,41.0,33.0,57.0,61.0,38.0,54.0,54.0,60.0,41.0,37.0,47.0,76.0,55.0,51.0,64.0,39.0,50.0,49.0,57.0,50.0,59.0,25.0,44.0,34.0,55.0,53.0,34.0,58.0,29.0,30.0,76.0,40.0,31.0,47.0,54.0,40.0,39.0,39.0,52.0,68.0,50.0,54.0,40.0,54.0,53.0,61.0,38.0,39.0,77.0,43.0,59.0,77.0,54.0,61.0,52.0,29.0,28.0,44.0,43.0,34.0,43.0,29.0,70.0,36.0,76.0,45.0,44.0,40.0,65.0,33.0,32.0,44.0,47.0,25.0,53.0,28.0,55.0,77.0,39.0,42.0,38.0,64.0,36.0,39.0,52.0,53.0,62.0,39.0,40.0,77.0,43.0,68.0,52.0,60.0,42.0,38.0,30.0,68.0,61.0,38.0,26.0,29.0,56.0,32.0,52.0,34.0,42.0,45.0,39.0,30.0,35.0,29.0,31.0,39.0,63.0,35.0,55.0,41.0,43.0,40.0,62.0,36.0,44.0,43.0,38.0,58.0,29.0,57.0,42.0,38.0,50.0,35.0,49.0,72.0,67.0,26.0,34.0,55.0,57.0,69.0,45.0,55.0,60.0,49.0,44.0,46.0,51.0,74.0,61.0,40.0,44.0,63.0,47.0,37.0,40.0,39.0,62.0,40.0,31.0,48.0,63.0,36.0,29.0,58.0,53.0,35.0,36.0,53.0,44.0,40.0,52.0,37.0,43.0,68.0,43.0,63.0,33.0,58.0,39.0,45.0,44.0,69.0,38.0,33.0,39.0,37.0,59.0,46.0,48.0,33.0,29.0,40.0,45.0,59.0,38.0,48.0,47.0,48.0,40.0,50.0,51.0,44.0,56.0,53.0,47.0,49.0,36.0,35.0,40.0,52.0,66.0,76.0,58.0,54.0,55.0,31.0,31.0,55.0,67.0,37.0,74.0,45.0,44.0,42.0,39.0,35.0,65.0,30.0,29.0,62.0,62.0,33.0,34.0,41.0,32.0,44.0,45.0,57.0,54.0,54.0,62.0,67.0,46.0,41.0,64.0,51.0,52.0,39.0,28.0,57.0,61.0,42.0,38.0,41.0,63.0,28.0,74.0,35.0,61.0,27.0,33.0,51.0,56.0,43.0,43.0,33.0,33.0,43.0,36.0,34.0,51.0,47.0,65.0,56.0,45.0,48.0,34.0,40.0,49.0,52.0,41.0,39.0,57.0,32.0,38.0,59.0,40.0,42.0,46.0,47.0,31.0,47.0,42.0,45.0,37.0,32.0,38.0,31.0,31.0,66.0,52.0,38.0,52.0,41.0,45.0,38.0,52.0,53.0,44.0,65.0,64.0,63.0,39.0,49.0,39.0,25.0,45.0,36.0,41.0,37.0,43.0,59.0,41.0,58.0,65.0,61.0,34.0,48.0,47.0,55.0,30.0,31.0,48.0,51.0,38.0,36.0,51.0,47.0,42.0,31.0,58.0,61.0,53.0,51.0,45.0,66.0,47.0,45.0,36.0,69.0,65.0,41.0,48.0,36.0,49.0,57.0,72.0,70.0,52.0,78.0,61.0,50.0,39.0,61.0,62.0,76.0,60.0,46.0,52.0,51.0,41.0,36.0,38.0,28.0,36.0,56.0,59.0,49.0,47.0,47.0,48.0,49.0,55.0,41.0,58.0,43.0,50.0,52.0,43.0,49.0,56.0,65.0,49.0,63.0,46.0,35.0,37.0,36.0,61.0,42.0,72.0,48.0,43.0,32.0,66.0,54.0,33.0,53.0,40.0,34.0,60.0,52.0,71.0,57.0,44.0,57.0,59.0,32.0,45.0,52.0,69.0,50.0,62.0,60.0,38.0,52.0,56.0,58.0,35.0,47.0,58.0,45.0,43.0,53.0,44.0,45.0,54.0,64.0,53.0,59.0,49.0,61.0,61.0,43.0,58.0,45.0,50.0,49.0,47.0,40.0,68.0,63.0,46.0,70.0,48.0,43.0,36.0,39.0,43.0,54.0,51.0,72.0,63.0,63.0,70.0,47.0,56.0,65.0,58.0,35.0,50.0,56.0,77.0,55.0,58.0,42.0,46.0,41.0,52.0,38.0,41.0,60.0,46.0,32.0,62.0,56.0,52.0,64.0,30.0,56.0,51.0,46.0,53.0,36.0,62.0,38.0,54.0,69.0,53.0,73.0,52.0,58.0,46.0,72.0,74.0,42.0,29.0,43.0,53.0,47.0,76.0,70.0,71.0,41.0,58.0,57.0,61.0,50.0,68.0,59.0,35.0,41.0,31.0,34.0,40.0,47.0,56.0,30.0,32.0,65.0,36.0,52.0,48.0,40.0,41.0,43.0,49.0,43.0,49.0,62.0,62.0,55.0,37.0,59.0,55.0,42.0,52.0,50.0,40.0,43.0,55.0,47.0,54.0,45.0,46.0,64.0,51.0,38.0,61.0,50.0,63.0,48.0,57.0,29.0,57.0,60.0,63.0,54.0,68.0,29.0,50.0,55.0,66.0,58.0,67.0,52.0,49.0,50.0,47.0,57.0,36.0,64.0,60.0,40.0,38.0,63.0,43.0,49.0,63.0,43.0,44.0,38.0,59.0,60.0,70.0,56.0,41.0,53.0,69.0,61.0,40.0,65.0,50.0,50.0,68.0,56.0,56.0,52.0,50.0,36.0,54.0,42.0,30.0,59.0,58.0,46.0,60.0,59.0,42.0,48.0,52.0,57.0,52.0,32.0,41.0,42.0,28.0,37.0,37.0,60.0,49.0,49.0,57.0,59.0,45.0,38.0,54.0,38.0,70.0,41.0,45.0,38.0,45.0,42.0,49.0,34.0,60.0,29.0,36.0,31.0,25.0,65.0,61.0,36.0,62.0,58.0,37.0,64.0,50.0,41.0,35.0,48.0,66.0,26.0,44.0,28.0,49.0,50.0,53.0,47.0,46.0,53.0,61.0,44.0,49.0,50.0,61.0,51.0,61.0,61.0,60.0,52.0,64.0,38.0,59.0,39.0,31.0,55.0,45.0,30.0,42.0,34.0,59.0,46.0,28.0,62.0,26.0,61.0,47.0,59.0,53.0,36.0,45.0,37.0,66.0,38.0,57.0,31.0,44.0,42.0,62.0,50.0,46.0,36.0,30.0,44.0,57.0,40.0,29.0,38.0,36.0,45.0,48.0,42.0,52.0,44.0,44.0,52.0,39.0,51.0,57.0,36.0,56.0,52.0,61.0,49.0,58.0,67.0,45.0,35.0,73.0,59.0,39.0,58.0,55.0,41.0,50.0,37.0,39.0,57.0,55.0,61.0,52.0,43.0,54.0,49.0,64.0,69.0,52.0,45.0,51.0,44.0,45.0,39.0,44.0,37.0,60.0,65.0,45.0,47.0,45.0,52.0,46.0,74.0,44.0,52.0,45.0,32.0,43.0,79.0,39.0,43.0,51.0,50.0,37.0,44.0,53.0,52.0,56.0,64.0,36.0,31.0,37.0,68.0,38.0,39.0,35.0,39.0,46.0,48.0,59.0,59.0,46.0,33.0,63.0,52.0,36.0,69.0,42.0,42.0,39.0,46.0,51.0,48.0,47.0,42.0,63.0,49.0,34.0,49.0,41.0,57.0,51.0,47.0,57.0,48.0,40.0,34.0,53.0,64.0,31.0,57.0,45.0,57.0,28.0,38.0,54.0,43.0,32.0,47.0,44.0,70.0,53.0,67.0,53.0,52.0,67.0,67.0,51.0,58.0,62.0,45.0,58.0,41.0,40.0,45.0,52.0,50.0,47.0,62.0,70.0,64.0,57.0,60.0,76.0,49.0,67.0,65.0,40.0,49.0,47.0,49.0,50.0,40.0,49.0,27.0,36.0,46.0,50.0,59.0,39.0,74.0,31.0,61.0,57.0,70.0,49.0,63.0,41.0,65.0,60.0,28.0,31.0,50.0,50.0,33.0,41.0,50.0,34.0,63.0,85.0,37.0,43.0,42.0,43.0,50.0,37.0,45.0,53.0,29.0,55.0,51.0,57.0,61.0,60.0,59.0,45.0,43.0,73.0,44.0,49.0,43.0,43.0,46.0,33.0,39.0,66.0,47.0,26.0,44.0,35.0,59.0,79.0,57.0,62.0,68.0,44.0,55.0,43.0,61.0,48.0,61.0,52.0,59.0,35.0,45.0,53.0,61.0,36.0,43.0,65.0,35.0,42.0,73.0,67.0,79.0,54.0,62.0,44.0,53.0,62.0,42.0,74.0,44.0,34.0,47.0,54.0,58.0,71.0,54.0,30.0,66.0,40.0,55.0,35.0,50.0,47.0,33.0,40.0,54.0,33.0,34.0,31.0,68.0,48.0,38.0,44.0,27.0,70.0,62.0,52.0,72.0,56.0,66.0,36.0,60.0,30.0,47.0,43.0,41.0,48.0,57.0,54.0,60.0,48.0,62.0,56.0,46.0,54.0,52.0,72.0,66.0,48.0,37.0,62.0,34.0,64.0,56.0,68.0,72.0,40.0,39.0,43.0,74.0,46.0,31.0,29.0,66.0,68.0,33.0,36.0,67.0,65.0,31.0,51.0,45.0,49.0,37.0,39.0,30.0,27.0,28.0,29.0,70.0,35.0,42.0,64.0,64.0,54.0,59.0,64.0,54.0,73.0,45.0,37.0,59.0,29.0,64.0,34.0,63.0,55.0,37.0,59.0,37.0,39.0,50.0,40.0,64.0,80.0,26.0,59.0,40.0,32.0,42.0,47.0,55.0,37.0,36.0,58.0,65.0,71.0,44.0,39.0,27.0,69.0,66.0,58.0,32.0,54.0,63.0,47.0,63.0,70.0,43.0,60.0,69.0,79.0,45.0,65.0,37.0,43.0,25.0,65.0,52.0,69.0,31.0,65.0,61.0,65.0,52.0,51.0,59.0,48.0,48.0,42.0,41.0,33.0,59.0,70.0,45.0,57.0,65.0,33.0,45.0,40.0,30.0,47.0,50.0,67.0,60.0,34.0,56.0,55.0,44.0,37.0,49.0,64.0,42.0,43.0,64.0,48.0,40.0,30.0,36.0,60.0,47.0,46.0,26.0,50.0,54.0,54.0,53.0,55.0,32.0,37.0,54.0,59.0,59.0,43.0,68.0,43.0,39.0,58.0,30.0,35.0,32.0,34.0,28.0,46.0,52.0,59.0,30.0,65.0,34.0,42.0,48.0,64.0,31.0,63.0,28.0,34.0,32.0,40.0,32.0,48.0,48.0,70.0,39.0,31.0,48.0,57.0,50.0,53.0,39.0,61.0,37.0,72.0,39.0,88.0,36.0,33.0,54.0,41.0,52.0,59.0,78.0,54.0,39.0,42.0,65.0,48.0,32.0,57.0,68.0,75.0,49.0,45.0,52.0,38.0,27.0,47.0,42.0,36.0,62.0,56.0,35.0,29.0,58.0,55.0,65.0,35.0,40.0,73.0,27.0,40.0,60.0,32.0,39.0,53.0,53.0,58.0,26.0,35.0,56.0,34.0,35.0,62.0,69.0,37.0,61.0,55.0,56.0,49.0,42.0,34.0,34.0,68.0,36.0,48.0,44.0,46.0,57.0,37.0,53.0,45.0,26.0,66.0,46.0,32.0,45.0,33.0,51.0,36.0,54.0,57.0,59.0,44.0,44.0,40.0,42.0,49.0,45.0,29.0,29.0,41.0,30.0,47.0,32.0,60.0,51.0,53.0,34.0,39.0,52.0,50.0,43.0,49.0,41.0,65.0,63.0,51.0,43.0,44.0,43.0,33.0,33.0,68.0,32.0,61.0,62.0,36.0,61.0,58.0,35.0,44.0,56.0,48.0,48.0,56.0,52.0,37.0,47.0,39.0,53.0,49.0,55.0,34.0,33.0,55.0,41.0,49.0,58.0,44.0,51.0,49.0,34.0,29.0,47.0,34.0,40.0,43.0,45.0,53.0,39.0,44.0,59.0,57.0,55.0,47.0,57.0,37.0,58.0,36.0,59.0,49.0,37.0,68.0,43.0,67.0,60.0,59.0,45.0,35.0,53.0,34.0,49.0,37.0,45.0,25.0,49.0,54.0,29.0,47.0,43.0,30.0,45.0,45.0,35.0,56.0,32.0,82.0,34.0,59.0,40.0,35.0,58.0,36.0,32.0,37.0,43.0,59.0,51.0,39.0,39.0,43.0,72.0,35.0,27.0,67.0,41.0,74.0,27.0,41.0,27.0,67.0,50.0,42.0,32.0,34.0,59.0,29.0,49.0,62.0,49.0,41.0,36.0,35.0,34.0,41.0,29.0,45.0,57.0,76.0,44.0,53.0,40.0,55.0,43.0,45.0,29.0,40.0,43.0,36.0,50.0,53.0,38.0,42.0,41.0,31.0,37.0,46.0,44.0,42.0,36.0,40.0,28.0,33.0,45.0,48.0,72.0,46.0,44.0,82.0,50.0,61.0,44.0,74.0,42.0,33.0,36.0,53.0,48.0,39.0,39.0,63.0,55.0,74.0,49.0,60.0,43.0,59.0,51.0,30.0,40.0,45.0,59.0,44.0,46.0,44.0,61.0,66.0,68.0,33.0,51.0,47.0,43.0,29.0,64.0,34.0,58.0,36.0,45.0,41.0,37.0,28.0,38.0,42.0,55.0,43.0,31.0,62.0,64.0,53.0,59.0,57.0,40.0,55.0,53.0,34.0,28.0,39.0,46.0,46.0,26.0,28.0,54.0,43.0,61.0,50.0,50.0,41.0,44.0,29.0,39.0,63.0,58.0,61.0,60.0,69.0,45.0,50.0,53.0,37.0,47.0,51.0,46.0,40.0,44.0,33.0,53.0,30.0,46.0,54.0,75.0,44.0,47.0,30.0,40.0,71.0,54.0,51.0,51.0,49.0,38.0,33.0,55.0,40.0,68.0,58.0,49.0,71.0,59.0,41.0,39.0,31.0,32.0,30.0,39.0,55.0,36.0,49.0,35.0,44.0,42.0,41.0,33.0,46.0,62.0,42.0,40.0,36.0,56.0,43.0,30.0,38.0,43.0,55.0,49.0,43.0,48.0,63.0,41.0,34.0,56.0,57.0,61.0,31.0,27.0,72.0,28.0,44.0,48.0,57.0,26.0,29.0,28.0,30.0,48.0,62.0,51.0,71.0,41.0,38.0,30.0,47.0,59.0,40.0,52.0,72.0,36.0,38.0,70.0,72.0,46.0,68.0,31.0,56.0,63.0,65.0,30.0,54.0,29.0,40.0,35.0,43.0,34.0,55.0,36.0,54.0,54.0,30.0,44.0,45.0,34.0,69.0,67.0,54.0,33.0,47.0,49.0,56.0,30.0,49.0,51.0,64.0,69.0,29.0,33.0,46.0,57.0,43.0,45.0,51.0,39.0,42.0,59.0,31.0,43.0,35.0,67.0,40.0,53.0,39.0,61.0,56.0,39.0,44.0,27.0,66.0,37.0,36.0,52.0,47.0,49.0,53.0,66.0,35.0,67.0,38.0,43.0,58.0,39.0,37.0,47.0,53.0,66.0,55.0,41.0,52.0,31.0,32.0,39.0,31.0,54.0,63.0,64.0,50.0,49.0,39.0,35.0,50.0,63.0,53.0,60.0,40.0,47.0,40.0,55.0,58.0,47.0,39.0,37.0,45.0,53.0,76.0,46.0,48.0,49.0,33.0,61.0,38.0,49.0,38.0,69.0,64.0,50.0,43.0,60.0,46.0,40.0,44.0,36.0,41.0,60.0,36.0,43.0,52.0,63.0,57.0,38.0,34.0,38.0,46.0,58.0,39.0,36.0,36.0,60.0,28.0,50.0,28.0,44.0,34.0,33.0,55.0,48.0,46.0,59.0,53.0,42.0,44.0,43.0,36.0,57.0,42.0,34.0,38.0,46.0,50.0,61.0,70.0,55.0,29.0,35.0,56.0,72.0,59.0,28.0,66.0,26.0,47.0,44.0,44.0,51.0,35.0,40.0,26.0,73.0,59.0,50.0,35.0,39.0,66.0,28.0,42.0,53.0,44.0,54.0,70.0,36.0,48.0,28.0,46.0,59.0,41.0,49.0,51.0,29.0,74.0,29.0,48.0,66.0,42.0,58.0,64.0,41.0,35.0,31.0,30.0,34.0,46.0,54.0,53.0,33.0,61.0,35.0,33.0,52.0,40.0,29.0,52.0,38.0,37.0,49.0,37.0,43.0,43.0,71.0,37.0,40.0,38.0,54.0,41.0,44.0,34.0,60.0,41.0,33.0,42.0,46.0,33.0,29.0,35.0,41.0,28.0,51.0,31.0,31.0,28.0,31.0,28.0,57.0,44.0,43.0,51.0,40.0,44.0,47.0,33.0,62.0,58.0,63.0,48.0,45.0,42.0,55.0,40.0,33.0,48.0,43.0,44.0,59.0,43.0,54.0,55.0,35.0,46.0,37.0,47.0,56.0,46.0,43.0,51.0,42.0,67.0,32.0,53.0,53.0,45.0,40.0,50.0,82.0,30.0,51.0,44.0,41.0,54.0,60.0,27.0,42.0,65.0,39.0,38.0,45.0,80.0,44.0,52.0,40.0,43.0,49.0,58.0,45.0,51.0,58.0,62.0,61.0,54.0,42.0,44.0,47.0,47.0,45.0,61.0,47.0,46.0,51.0,46.0,46.0,35.0,39.0,70.0,61.0,71.0,41.0,41.0,60.0,29.0,40.0,46.0,66.0,42.0,65.0,63.0,59.0,34.0,46.0,43.0,53.0,38.0,39.0,48.0,41.0,63.0,65.0,33.0,53.0,62.0,33.0,44.0,47.0,55.0,53.0,62.0,47.0,34.0,55.0,38.0,50.0,32.0,43.0,58.0,46.0,51.0,50.0,56.0,72.0,33.0,50.0,64.0,52.0,46.0,30.0,40.0,52.0,48.0,63.0,33.0,50.0,45.0,59.0,39.0,28.0,57.0,39.0,48.0,51.0,57.0,52.0,43.0,34.0,50.0,33.0,35.0,54.0,59.0,54.0,36.0,31.0,39.0,55.0,68.0,49.0,29.0,49.0,42.0,62.0,50.0,39.0,38.0,43.0,73.0,67.0,60.0,70.0,63.0,60.0,63.0,45.0,40.0,36.0,28.0,35.0,59.0,63.0,58.0,51.0,45.0,49.0,52.0,45.0,29.0,44.0,34.0,34.0,32.0,36.0,29.0,33.0,26.0,49.0,33.0,61.0,26.0,33.0,30.0,60.0,29.0,37.0,35.0,30.0,33.0,54.0,43.0,36.0,47.0,53.0,49.0,43.0,39.0,36.0,58.0,48.0,59.0,43.0,69.0,32.0,44.0,74.0,62.0,54.0,26.0,45.0,35.0,47.0,42.0,38.0,31.0,35.0,64.0,56.0,39.0,46.0,49.0,46.0,46.0,52.0,42.0,41.0,37.0,28.0,61.0,56.0,42.0,51.0,32.0,51.0,38.0,37.0,35.0,42.0,40.0,37.0,53.0,64.0,60.0,54.0,53.0,32.0,43.0,44.0,26.0,58.0,48.0,67.0,40.0,58.0,33.0,49.0,36.0,40.0,72.0,68.0,37.0,25.0,32.0,69.0,68.0,51.0,42.0,45.0,70.0,43.0,65.0,25.0,62.0,63.0,42.0,46.0,43.0,49.0,48.0,38.0,42.0,64.0,53.0,36.0,40.0,27.0,39.0,39.0,49.0,51.0,33.0,34.0,65.0,32.0,49.0,40.0,72.0,42.0,68.0,64.0,36.0,54.0,68.0,71.0,56.0,46.0,60.0,38.0,45.0,34.0,42.0,37.0,36.0,48.0,68.0,43.0,61.0,53.0,64.0,33.0,69.0,69.0,58.0,49.0,77.0,45.0,52.0,62.0,36.0,35.0,39.0,69.0,38.0,48.0,59.0,53.0,49.0,60.0,45.0,33.0,39.0,59.0,53.0,47.0,41.0,29.0,53.0,53.0,40.0,33.0,47.0,43.0,54.0,67.0,33.0,48.0,46.0,37.0,47.0,69.0,51.0,55.0,55.0,47.0,43.0,71.0,35.0,34.0,30.0,40.0,35.0,37.0,45.0,45.0,46.0,52.0,54.0,28.0,40.0,47.0,45.0,36.0,54.0,45.0,79.0,33.0,45.0,62.0,72.0,46.0,32.0,62.0,64.0,38.0,47.0,36.0,34.0,52.0,62.0,48.0,56.0,31.0,44.0,59.0,46.0,35.0,70.0,72.0,44.0,32.0,44.0,46.0,28.0,40.0,48.0,39.0,43.0,63.0,48.0,59.0,32.0,54.0,25.0,36.0,36.0,38.0,29.0,31.0,49.0,72.0,47.0,49.0,37.0,52.0,49.0,53.0,52.0,63.0,56.0,43.0,44.0,63.0,46.0,37.0,66.0,40.0,50.0,43.0,67.0,73.0,34.0,36.0,30.0,31.0,47.0,42.0,44.0,27.0,64.0,68.0,69.0,60.0,40.0,43.0,31.0,46.0,54.0,25.0,39.0,54.0,61.0,45.0,53.0,46.0,58.0,60.0,58.0,28.0,33.0,51.0,67.0,45.0,65.0,25.0,52.0,37.0,48.0,34.0,46.0,41.0,53.0,40.0,48.0,44.0,49.0,41.0,26.0,64.0,55.0,37.0,47.0,31.0,39.0,74.0,36.0,65.0,39.0,40.0,72.0,28.0,33.0,34.0,49.0,71.0,54.0,50.0,63.0,56.0,63.0,63.0,52.0,72.0,45.0,54.0,29.0,34.0,69.0,42.0,76.0,56.0,55.0,68.0,50.0,61.0,35.0,47.0,47.0,32.0,37.0,75.0,47.0,46.0,37.0,48.0,57.0,46.0,65.0,53.0,69.0,71.0,45.0,49.0,49.0,42.0,63.0,59.0,34.0,35.0,47.0,35.0,59.0,28.0,51.0,35.0,47.0,62.0,42.0,53.0,38.0,43.0,39.0,59.0,54.0,49.0,55.0,55.0,46.0,55.0,46.0,46.0,44.0,31.0,48.0,68.0,66.0,51.0,46.0,48.0,39.0,40.0,46.0,35.0,35.0,46.0,28.0,44.0,50.0,68.0,57.0,58.0,54.0,41.0,37.0,43.0,54.0,42.0,47.0,28.0,62.0,36.0,44.0,39.0,36.0,39.0,39.0,44.0,38.0,63.0,30.0,31.0,35.0,40.0,60.0,41.0,49.0,60.0,32.0,46.0,50.0,45.0,41.0,47.0,25.0,27.0,32.0,64.0,40.0,52.0,25.0,60.0,63.0,56.0,26.0,38.0,46.0,43.0,55.0,66.0,60.0,56.0,73.0,60.0,43.0,47.0,75.0,58.0,51.0,40.0,52.0,57.0,41.0,61.0,50.0,29.0,48.0,37.0,43.0,39.0,68.0,66.0,68.0,34.0,39.0,57.0,29.0,27.0,65.0,64.0,37.0,52.0,36.0,52.0,47.0,59.0,41.0,45.0,26.0,72.0,69.0,49.0,37.0,56.0,29.0,63.0,52.0,39.0,56.0,53.0,56.0,56.0,40.0,66.0,66.0,41.0,51.0,62.0,48.0,40.0,37.0,53.0,53.0,59.0,42.0,43.0,40.0,65.0,42.0,34.0,64.0,67.0,33.0,55.0,39.0,50.0,54.0,41.0,33.0,68.0,52.0,33.0,40.0,40.0,67.0,57.0,46.0,36.0,35.0,32.0,41.0,51.0,36.0,67.0,36.0,29.0,44.0,39.0,46.0,47.0,59.0,61.0,68.0,36.0,43.0,55.0,49.0,53.0,55.0,49.0,65.0,69.0,51.0,57.0,59.0,44.0,42.0,45.0,40.0,28.0,50.0,44.0,43.0,49.0,37.0,45.0,40.0,38.0,35.0,44.0,61.0,35.0,50.0,40.0,35.0,56.0,63.0,33.0,50.0,34.0,35.0,53.0,33.0,39.0,38.0,55.0,70.0,63.0,62.0,37.0,50.0,57.0,47.0,40.0,66.0,63.0,66.0,62.0,50.0,50.0,33.0,59.0,62.0,34.0,52.0,49.0,67.0,49.0,40.0,50.0,33.0,53.0,50.0,42.0,47.0,33.0,36.0,42.0,38.0,40.0,58.0,40.0,54.0,64.0,38.0,62.0,41.0,39.0,38.0,26.0,66.0,28.0,67.0,39.0,68.0,57.0,43.0,64.0,36.0,43.0,61.0,35.0,33.0,38.0,39.0,67.0,50.0,47.0,32.0,25.0,53.0,65.0,30.0,25.0,33.0,43.0,35.0,65.0,68.0,45.0,54.0,63.0,28.0,38.0,40.0,54.0,50.0,55.0,56.0,45.0,38.0,32.0,44.0,42.0,51.0,57.0,47.0,78.0,36.0,50.0,34.0,53.0,31.0,31.0,37.0,55.0,49.0,63.0,39.0,54.0,59.0,51.0,62.0,33.0,48.0,38.0,68.0,55.0,38.0,45.0,39.0,79.0,69.0,33.0,64.0,35.0,39.0,43.0,48.0,60.0,37.0,49.0,49.0,52.0,68.0,43.0,70.0,28.0,39.0,40.0,55.0,28.0,49.0,57.0,44.0,26.0,35.0,64.0,51.0,36.0,30.0,33.0,33.0,71.0,47.0,48.0,48.0,52.0,44.0,35.0,41.0,30.0,34.0,35.0,47.0,56.0,48.0,29.0,58.0,31.0,34.0,47.0,48.0,48.0,46.0,44.0,74.0,59.0,50.0,48.0,65.0,32.0,70.0,51.0,35.0,41.0,30.0,47.0,73.0,37.0,51.0,51.0,35.0,40.0,30.0,50.0,39.0,36.0,36.0,62.0,34.0,64.0,59.0,49.0,39.0,43.0,40.0,59.0,32.0,28.0,55.0,43.0,41.0,39.0,30.0,50.0,54.0,44.0,42.0,41.0,36.0,36.0,44.0,57.0,50.0,52.0,69.0,38.0,58.0,49.0,41.0,33.0,54.0,63.0,46.0,39.0,68.0,61.0,44.0,47.0,67.0,74.0,52.0,44.0,57.0,48.0,62.0,71.0,48.0,44.0,51.0,34.0,27.0,61.0,45.0,45.0,45.0,61.0,45.0,39.0,64.0,39.0,35.0,54.0,35.0,75.0,45.0,31.0,67.0,34.0,63.0,47.0,52.0,57.0,51.0,40.0,63.0,33.0,29.0,42.0,39.0,39.0,31.0,39.0,54.0,62.0,36.0,52.0,50.0,65.0,51.0,63.0,60.0,55.0,37.0,57.0,32.0,64.0,51.0,37.0,61.0,55.0,44.0,39.0,55.0,34.0,69.0,62.0,44.0,39.0,41.0,49.0,39.0,57.0,73.0,67.0,56.0,38.0,47.0,40.0,50.0,44.0,66.0,65.0,44.0,26.0,47.0,25.0,63.0,60.0,56.0,40.0,56.0,51.0,43.0,56.0,36.0,37.0,31.0,70.0,69.0,54.0,34.0,31.0,25.0,55.0,42.0,39.0,34.0,65.0,67.0,50.0,47.0,50.0,40.0,41.0,36.0,45.0,37.0,73.0,53.0,70.0,46.0,39.0,39.0,49.0,50.0,46.0,59.0,55.0,71.0,39.0,54.0,57.0,40.0,58.0,43.0,50.0,40.0,46.0,60.0,47.0,71.0,70.0,31.0,54.0,51.0,36.0,49.0,60.0,49.0,32.0,38.0,28.0,39.0,66.0,70.0,40.0,60.0,38.0,63.0,43.0,52.0,41.0,32.0,66.0,44.0,52.0,42.0,43.0,59.0,54.0,51.0,43.0,47.0,33.0,62.0,55.0,34.0,48.0,41.0,67.0,40.0,56.0,61.0,36.0,39.0,60.0,51.0,46.0,38.0,48.0,71.0,44.0,27.0,38.0,70.0,52.0,45.0,54.0,46.0,46.0,32.0,66.0,39.0,48.0,46.0,28.0,60.0,49.0,45.0,45.0,66.0,37.0,30.0,48.0,35.0,36.0,36.0,36.0,25.0,27.0,51.0,36.0,62.0,38.0,26.0,41.0,48.0,44.0,72.0,62.0,32.0,37.0,70.0,42.0,31.0,54.0,52.0,58.0,48.0,28.0,64.0,54.0,67.0,33.0,41.0,45.0,40.0,31.0,49.0,48.0,39.0,64.0,63.0,28.0,46.0,53.0,60.0,42.0,53.0,28.0,28.0,40.0,65.0,37.0,39.0,44.0,34.0,34.0,48.0,50.0,42.0,54.0,64.0,51.0,39.0,65.0,58.0,60.0,41.0,56.0,64.0,54.0,43.0,61.0,43.0,28.0,41.0,68.0,65.0,53.0,53.0,72.0,37.0,40.0,48.0,47.0,31.0,43.0,58.0,42.0,41.0,62.0,66.0,51.0,46.0,58.0,48.0,32.0,52.0,61.0,44.0,62.0,49.0,62.0,64.0,42.0,58.0,68.0,36.0,38.0,54.0,41.0,41.0,61.0,34.0,61.0,57.0,63.0,58.0,54.0,42.0,57.0,55.0,54.0,43.0,46.0,54.0,56.0,40.0,48.0,61.0,57.0,37.0,47.0,50.0,60.0,62.0,52.0,32.0,30.0,70.0,40.0,61.0,48.0,52.0,61.0,40.0,46.0,36.0,76.0,65.0,65.0,33.0,54.0,47.0,50.0,52.0,49.0,52.0,39.0,47.0,65.0,51.0,65.0,41.0,60.0,53.0,62.0,36.0,53.0,57.0,58.0,68.0,42.0,76.0,61.0,31.0,30.0,58.0,40.0,34.0,49.0,33.0,57.0,47.0,30.0,50.0,57.0,51.0,43.0,58.0,48.0,67.0,63.0,55.0,46.0,47.0,69.0,52.0,36.0,40.0,37.0,41.0,34.0,47.0,35.0,37.0,51.0,61.0,36.0,31.0,44.0,34.0,36.0,54.0,34.0,42.0,64.0,54.0,56.0,59.0,50.0,45.0,32.0,58.0,31.0,47.0,31.0,27.0,41.0,49.0,52.0,62.0,49.0,32.0,49.0,48.0,38.0,34.0,57.0,39.0,66.0,52.0,46.0,42.0,43.0,51.0,61.0,31.0,37.0,26.0,59.0,45.0,42.0,41.0,33.0,55.0,47.0,75.0,68.0,78.0,46.0,42.0,59.0,55.0,58.0,51.0,49.0,55.0,49.0,67.0,58.0,67.0,69.0,55.0,39.0,54.0,52.0,34.0,64.0,61.0,56.0,67.0,51.0,35.0,45.0,62.0,62.0,62.0,36.0,53.0,27.0,62.0,52.0,45.0,41.0,57.0,49.0,59.0,67.0,40.0,30.0,53.0,57.0,38.0,41.0,45.0,70.0,48.0,44.0,51.0,49.0,55.0,48.0,44.0,74.0,59.0,52.0,41.0,46.0,47.0,66.0,47.0,52.0,38.0,44.0,60.0,25.0,53.0,49.0,47.0,47.0,61.0,28.0,30.0,36.0,29.0,60.0,40.0,71.0,40.0,41.0,49.0,49.0,47.0,54.0,58.0,48.0,43.0,37.0,41.0,47.0,69.0,25.0,40.0,50.0,39.0,66.0,46.0,35.0,62.0,42.0,61.0,56.0,28.0,26.0,34.0,35.0,43.0,58.0,54.0,51.0,55.0,47.0,38.0,53.0,43.0,69.0,43.0,39.0,71.0,63.0,70.0,68.0,56.0,44.0,42.0,51.0,55.0,50.0,46.0,68.0,70.0,50.0,47.0,41.0,40.0,32.0,54.0,41.0,69.0,55.0,68.0,52.0,43.0,38.0,59.0,56.0,27.0,47.0,50.0,45.0,63.0,46.0,42.0,50.0,38.0,43.0,65.0,59.0,63.0,67.0,64.0,67.0,51.0,27.0,77.0,72.0,57.0,32.0,32.0,53.0,68.0,69.0,38.0,52.0,70.0,60.0,32.0,53.0,40.0,55.0,52.0,49.0,57.0,27.0,53.0,68.0,43.0,36.0,40.0,55.0,49.0,56.0,33.0,49.0,32.0,54.0,25.0,29.0,49.0,50.0,61.0,52.0,72.0,63.0,71.0,40.0,43.0,30.0,33.0,53.0,40.0,33.0,51.0,35.0,43.0,59.0,51.0,56.0,57.0,29.0,34.0,33.0,54.0,33.0,34.0,26.0,25.0,37.0,47.0,42.0,44.0,37.0,70.0,55.0,54.0,34.0,52.0,40.0,44.0,45.0,37.0,54.0,55.0,54.0,44.0,54.0,52.0,59.0,49.0,41.0,33.0,41.0,38.0,25.0,48.0,60.0,57.0,34.0,25.0,54.0,34.0,54.0,54.0,26.0,32.0,45.0,56.0,43.0,36.0,55.0,68.0,61.0,33.0,35.0,36.0,36.0,28.0,61.0,56.0,47.0,50.0,55.0,51.0,63.0,35.0,63.0,64.0,47.0,54.0,53.0,25.0,34.0,45.0,49.0,48.0,55.0,56.0,63.0,41.0,44.0,45.0,49.0,25.0,26.0,41.0,64.0,40.0,27.0,37.0,46.0,48.0,65.0,56.0,65.0,35.0,51.0,41.0,54.0,50.0,47.0,55.0,39.0,44.0,28.0,63.0,45.0,59.0,57.0,66.0,44.0,44.0,52.0,43.0,53.0,43.0,34.0,64.0,48.0,35.0,45.0,46.0,50.0,62.0,52.0,65.0,46.0,54.0,71.0,49.0,28.0,56.0,65.0,45.0,57.0,54.0,52.0,50.0,32.0,39.0,45.0,32.0,36.0,36.0,50.0,40.0,53.0,59.0,54.0,44.0,48.0,34.0,46.0,44.0,36.0,47.0,75.0,65.0,58.0,55.0,42.0,45.0,53.0,59.0,31.0,57.0,81.0,50.0,56.0,44.0,46.0,45.0,48.0,65.0,40.0,58.0,34.0,31.0,43.0,30.0,70.0,40.0,60.0,49.0,55.0,39.0,26.0,31.0,40.0,46.0,40.0,31.0,41.0,60.0,73.0,59.0,53.0,52.0,62.0,31.0,35.0,28.0,74.0,44.0,50.0,44.0,76.0,49.0,63.0,40.0,46.0,65.0,58.0,35.0,46.0,34.0,40.0,46.0,28.0,69.0,37.0,55.0,42.0,51.0,38.0,52.0,58.0,44.0,51.0,46.0,40.0,39.0,40.0,45.0,67.0,41.0,32.0,87.0,53.0,36.0,55.0,25.0,33.0,61.0,62.0,52.0,41.0,39.0,43.0,64.0,42.0,61.0,27.0,38.0,26.0,45.0,39.0,31.0,48.0,42.0,45.0,54.0,46.0,33.0,53.0,26.0,55.0,46.0,48.0,52.0,48.0,35.0,32.0,61.0,49.0,40.0,50.0,55.0,37.0,62.0,25.0,55.0,56.0,29.0,50.0,30.0,32.0,37.0,40.0,73.0,41.0,34.0,26.0,34.0,65.0,44.0,40.0,49.0,38.0,34.0,47.0,62.0,60.0,49.0,50.0,65.0,34.0,31.0,72.0,29.0,46.0,45.0,60.0,39.0,56.0,59.0,40.0,50.0,46.0,32.0,36.0,40.0,65.0,27.0,33.0,49.0,36.0,40.0,54.0,40.0,31.0,66.0,43.0,47.0,38.0,35.0,62.0,63.0,45.0,40.0,52.0,37.0,32.0,42.0,35.0,39.0,69.0,73.0,53.0,61.0,54.0,60.0,35.0,44.0,36.0,28.0,55.0,30.0,31.0,44.0,53.0,47.0,42.0,68.0,44.0,56.0,49.0,40.0,67.0,48.0,56.0,42.0,64.0,36.0,60.0,40.0,48.0,33.0,57.0,35.0,32.0,71.0,53.0,45.0,68.0,53.0,37.0,67.0,62.0,55.0,35.0,54.0,50.0,31.0,36.0,63.0,53.0,54.0,45.0,55.0,48.0,63.0,48.0,63.0,36.0,56.0,41.0,34.0,47.0,59.0,72.0,34.0,67.0,64.0,53.0,29.0,51.0,65.0,47.0,59.0,40.0,30.0,30.0,50.0,46.0,47.0,42.0,47.0,46.0,37.0,55.0,40.0,46.0,45.0,54.0,39.0,73.0,70.0,26.0,54.0,53.0,46.0,62.0,60.0,66.0,43.0,50.0,53.0,58.0,33.0,50.0,62.0,40.0,47.0,50.0,61.0,31.0,57.0,67.0,69.0,51.0,65.0,64.0,36.0,52.0,48.0,70.0,64.0,54.0,55.0,41.0,32.0,35.0,59.0,70.0,59.0,49.0,63.0,48.0,46.0,62.0,64.0,52.0,55.0,32.0,66.0,51.0,36.0,49.0,36.0,25.0,59.0,49.0,51.0,35.0,34.0,40.0,36.0,45.0,43.0,35.0,40.0,35.0,35.0,56.0,64.0,62.0,54.0,32.0,40.0,39.0,43.0,38.0,47.0,45.0,28.0,40.0,32.0,41.0,28.0,29.0,34.0,61.0,36.0,51.0,31.0,67.0,32.0,44.0,44.0,42.0,54.0,32.0,43.0,38.0,33.0,27.0,35.0,42.0,52.0,48.0,52.0,38.0,31.0,46.0,52.0,62.0,64.0,54.0,39.0,37.0,32.0,67.0,32.0,33.0,33.0,30.0,32.0,29.0,30.0,31.0,40.0,49.0,29.0,43.0,25.0,45.0,66.0,45.0,38.0,35.0,52.0,44.0,47.0,72.0,69.0,36.0,43.0,56.0,49.0,57.0,36.0,42.0,40.0,39.0,30.0,54.0,36.0,38.0,46.0,40.0,46.0,49.0,50.0,42.0,38.0,49.0,57.0,64.0,43.0,27.0,30.0,63.0,68.0,49.0,39.0,40.0,40.0,40.0,48.0,29.0,38.0,37.0,28.0,36.0,43.0,52.0,29.0,65.0,42.0,38.0,59.0,40.0,62.0,36.0,36.0,51.0,39.0,37.0,38.0,39.0,38.0,30.0,34.0,31.0,37.0,43.0,29.0,49.0,33.0,30.0,33.0,39.0,30.0,37.0,37.0,58.0,35.0,37.0,46.0,38.0,28.0,36.0,33.0,30.0,47.0,64.0,54.0,35.0,39.0,52.0,44.0,30.0,43.0,40.0,60.0,46.0,60.0,54.0,45.0,59.0,38.0,49.0,50.0,44.0,34.0,38.0,53.0,33.0,31.0,37.0,44.0,34.0,46.0,43.0,38.0,39.0,63.0,60.0,70.0,59.0,47.0,36.0,58.0,30.0,46.0,69.0,37.0,49.0,43.0,50.0,57.0,33.0,53.0,32.0,51.0,40.0,32.0,39.0,55.0,37.0,54.0,55.0,45.0,42.0,44.0,53.0,60.0,75.0,33.0,48.0,45.0,53.0,54.0,31.0,44.0,44.0,46.0,46.0,42.0,65.0,37.0,54.0,49.0,42.0,55.0,39.0,47.0,53.0,41.0,32.0,45.0,35.0,42.0,58.0,43.0,43.0,29.0,34.0,56.0,46.0,52.0,55.0,46.0,54.0,47.0,54.0,32.0,44.0,49.0,33.0,32.0,64.0,59.0,69.0,34.0,32.0,46.0,52.0,29.0,37.0,31.0,45.0,28.0,34.0,64.0,50.0,48.0,47.0,47.0,38.0,29.0,42.0,34.0,45.0,52.0,45.0,36.0,43.0,40.0,58.0,47.0,38.0,38.0,44.0,46.0,41.0,43.0,27.0,36.0,54.0,33.0,39.0,58.0,45.0,64.0,43.0,65.0,54.0,47.0,53.0,26.0,42.0,45.0,44.0,51.0,32.0,43.0,36.0,63.0,40.0,54.0,30.0,38.0,58.0,30.0,28.0,65.0,47.0,45.0,41.0,52.0,36.0,38.0,26.0,35.0,73.0,36.0,57.0,32.0,55.0,28.0,49.0,26.0,30.0,53.0,39.0,25.0,36.0,27.0,32.0,39.0,59.0,26.0,30.0,44.0,49.0,53.0,48.0,65.0,30.0,53.0,33.0,33.0,69.0,58.0,30.0,68.0,41.0,69.0,43.0,51.0,37.0,74.0,33.0,38.0,44.0,47.0,65.0,59.0,51.0,40.0,34.0,32.0,48.0,42.0,51.0,37.0,37.0,53.0,51.0,43.0,59.0,31.0,66.0,58.0,51.0,53.0,74.0,55.0,43.0,55.0,36.0,33.0,29.0,52.0,54.0,32.0,41.0,33.0,26.0,36.0,64.0,33.0,38.0,36.0,41.0,56.0,61.0,39.0,41.0,46.0,36.0,50.0,35.0,40.0,32.0,44.0,32.0,25.0,52.0,53.0,43.0,49.0,43.0,31.0,40.0,35.0,57.0,49.0,32.0,37.0,29.0,33.0,32.0,50.0,53.0,37.0,50.0,33.0,40.0,58.0,43.0,40.0,34.0,50.0,37.0,34.0,60.0,44.0,66.0,38.0,32.0,40.0,29.0,35.0,74.0,56.0,36.0,32.0,34.0,80.0,38.0,25.0,35.0,35.0,45.0,29.0,25.0,35.0,39.0,63.0,67.0,52.0,38.0,44.0,55.0,32.0,60.0,29.0,38.0,48.0,30.0,36.0,40.0,38.0,34.0,30.0,53.0,39.0,38.0,49.0,66.0,62.0,50.0,50.0,78.0,45.0,45.0,36.0,35.0,36.0,38.0,33.0,62.0,35.0,73.0,56.0,35.0,60.0,42.0,50.0,64.0,36.0,50.0,39.0,48.0,58.0,58.0,60.0,35.0,57.0,37.0,41.0,50.0,63.0,40.0,49.0,65.0,46.0,39.0,47.0,46.0,54.0,35.0,47.0,53.0,47.0,66.0,49.0,37.0,37.0,57.0,53.0,53.0,47.0,38.0,34.0,32.0,64.0,79.0,48.0,54.0,41.0,49.0,50.0,72.0,45.0,34.0,37.0,54.0,65.0,48.0,48.0,28.0,55.0,66.0,27.0,49.0,67.0,42.0,46.0,30.0,64.0,53.0,37.0,66.0,49.0,30.0,44.0,40.0,49.0,28.0,54.0,33.0,33.0,46.0,56.0,39.0,38.0,39.0,57.0,53.0,46.0,48.0,41.0,46.0,66.0,31.0,71.0,44.0,54.0,60.0,35.0,41.0,32.0,40.0,47.0,43.0,46.0,35.0,60.0,36.0,50.0,46.0,65.0,51.0,64.0,48.0,44.0,49.0,28.0,40.0,49.0,57.0,50.0,54.0,61.0,53.0,36.0,65.0,62.0,49.0,42.0,46.0,54.0,61.0,49.0,48.0,61.0,66.0,46.0,65.0,49.0,65.0,63.0,40.0,37.0,41.0,54.0,46.0,65.0,62.0,30.0,38.0,71.0,54.0,47.0,29.0,41.0,40.0,51.0,27.0,37.0,53.0,51.0,69.0,39.0,48.0,60.0,37.0,56.0,53.0,41.0,73.0,54.0,46.0,48.0,49.0,55.0,57.0,34.0,57.0,37.0,61.0,49.0,72.0,37.0,36.0,71.0,63.0,45.0,50.0,44.0,61.0,33.0,51.0,53.0,57.0,44.0,49.0,44.0,40.0,63.0,68.0,51.0,62.0,62.0,36.0,27.0,26.0,41.0,48.0,49.0,66.0,73.0,54.0,36.0,34.0,75.0,36.0,52.0,43.0,39.0,39.0,62.0,26.0,36.0,25.0,54.0,38.0,60.0,27.0,36.0,47.0,58.0,54.0,41.0,43.0,74.0,44.0,58.0,53.0,57.0,47.0,32.0,37.0,54.0,36.0,44.0,57.0,35.0,36.0,38.0,43.0,35.0,41.0,33.0,44.0,53.0,50.0,40.0,42.0,46.0,36.0,52.0,34.0,33.0,36.0,33.0,30.0,55.0,33.0,40.0,28.0,51.0,52.0,44.0,59.0,49.0,44.0,37.0,49.0,55.0,45.0,34.0,55.0,66.0,64.0,70.0,40.0,55.0,31.0,27.0,33.0,37.0,40.0,28.0,66.0,51.0,62.0,56.0,49.0,61.0,61.0,54.0,43.0,67.0,65.0,71.0,36.0,27.0,43.0,32.0,57.0,30.0,44.0,56.0,40.0,61.0,61.0,70.0,75.0,37.0,63.0,63.0,41.0,38.0,30.0,37.0,49.0,66.0,38.0,50.0,60.0,43.0,60.0,37.0,38.0,58.0,52.0,55.0,51.0,48.0],\"xaxis\":\"x\",\"yaxis\":\"y\",\"type\":\"histogram\"}],                        {\"template\":{\"data\":{\"histogram2dcontour\":[{\"type\":\"histogram2dcontour\",\"colorbar\":{\"outlinewidth\":0,\"ticks\":\"\"},\"colorscale\":[[0.0,\"#0d0887\"],[0.1111111111111111,\"#46039f\"],[0.2222222222222222,\"#7201a8\"],[0.3333333333333333,\"#9c179e\"],[0.4444444444444444,\"#bd3786\"],[0.5555555555555556,\"#d8576b\"],[0.6666666666666666,\"#ed7953\"],[0.7777777777777778,\"#fb9f3a\"],[0.8888888888888888,\"#fdca26\"],[1.0,\"#f0f921\"]]}],\"choropleth\":[{\"type\":\"choropleth\",\"colorbar\":{\"outlinewidth\":0,\"ticks\":\"\"}}],\"histogram2d\":[{\"type\":\"histogram2d\",\"colorbar\":{\"outlinewidth\":0,\"ticks\":\"\"},\"colorscale\":[[0.0,\"#0d0887\"],[0.1111111111111111,\"#46039f\"],[0.2222222222222222,\"#7201a8\"],[0.3333333333333333,\"#9c179e\"],[0.4444444444444444,\"#bd3786\"],[0.5555555555555556,\"#d8576b\"],[0.6666666666666666,\"#ed7953\"],[0.7777777777777778,\"#fb9f3a\"],[0.8888888888888888,\"#fdca26\"],[1.0,\"#f0f921\"]]}],\"heatmap\":[{\"type\":\"heatmap\",\"colorbar\":{\"outlinewidth\":0,\"ticks\":\"\"},\"colorscale\":[[0.0,\"#0d0887\"],[0.1111111111111111,\"#46039f\"],[0.2222222222222222,\"#7201a8\"],[0.3333333333333333,\"#9c179e\"],[0.4444444444444444,\"#bd3786\"],[0.5555555555555556,\"#d8576b\"],[0.6666666666666666,\"#ed7953\"],[0.7777777777777778,\"#fb9f3a\"],[0.8888888888888888,\"#fdca26\"],[1.0,\"#f0f921\"]]}],\"heatmapgl\":[{\"type\":\"heatmapgl\",\"colorbar\":{\"outlinewidth\":0,\"ticks\":\"\"},\"colorscale\":[[0.0,\"#0d0887\"],[0.1111111111111111,\"#46039f\"],[0.2222222222222222,\"#7201a8\"],[0.3333333333333333,\"#9c179e\"],[0.4444444444444444,\"#bd3786\"],[0.5555555555555556,\"#d8576b\"],[0.6666666666666666,\"#ed7953\"],[0.7777777777777778,\"#fb9f3a\"],[0.8888888888888888,\"#fdca26\"],[1.0,\"#f0f921\"]]}],\"contourcarpet\":[{\"type\":\"contourcarpet\",\"colorbar\":{\"outlinewidth\":0,\"ticks\":\"\"}}],\"contour\":[{\"type\":\"contour\",\"colorbar\":{\"outlinewidth\":0,\"ticks\":\"\"},\"colorscale\":[[0.0,\"#0d0887\"],[0.1111111111111111,\"#46039f\"],[0.2222222222222222,\"#7201a8\"],[0.3333333333333333,\"#9c179e\"],[0.4444444444444444,\"#bd3786\"],[0.5555555555555556,\"#d8576b\"],[0.6666666666666666,\"#ed7953\"],[0.7777777777777778,\"#fb9f3a\"],[0.8888888888888888,\"#fdca26\"],[1.0,\"#f0f921\"]]}],\"surface\":[{\"type\":\"surface\",\"colorbar\":{\"outlinewidth\":0,\"ticks\":\"\"},\"colorscale\":[[0.0,\"#0d0887\"],[0.1111111111111111,\"#46039f\"],[0.2222222222222222,\"#7201a8\"],[0.3333333333333333,\"#9c179e\"],[0.4444444444444444,\"#bd3786\"],[0.5555555555555556,\"#d8576b\"],[0.6666666666666666,\"#ed7953\"],[0.7777777777777778,\"#fb9f3a\"],[0.8888888888888888,\"#fdca26\"],[1.0,\"#f0f921\"]]}],\"mesh3d\":[{\"type\":\"mesh3d\",\"colorbar\":{\"outlinewidth\":0,\"ticks\":\"\"}}],\"scatter\":[{\"fillpattern\":{\"fillmode\":\"overlay\",\"size\":10,\"solidity\":0.2},\"type\":\"scatter\"}],\"parcoords\":[{\"type\":\"parcoords\",\"line\":{\"colorbar\":{\"outlinewidth\":0,\"ticks\":\"\"}}}],\"scatterpolargl\":[{\"type\":\"scatterpolargl\",\"marker\":{\"colorbar\":{\"outlinewidth\":0,\"ticks\":\"\"}}}],\"bar\":[{\"error_x\":{\"color\":\"#2a3f5f\"},\"error_y\":{\"color\":\"#2a3f5f\"},\"marker\":{\"line\":{\"color\":\"#E5ECF6\",\"width\":0.5},\"pattern\":{\"fillmode\":\"overlay\",\"size\":10,\"solidity\":0.2}},\"type\":\"bar\"}],\"scattergeo\":[{\"type\":\"scattergeo\",\"marker\":{\"colorbar\":{\"outlinewidth\":0,\"ticks\":\"\"}}}],\"scatterpolar\":[{\"type\":\"scatterpolar\",\"marker\":{\"colorbar\":{\"outlinewidth\":0,\"ticks\":\"\"}}}],\"histogram\":[{\"marker\":{\"pattern\":{\"fillmode\":\"overlay\",\"size\":10,\"solidity\":0.2}},\"type\":\"histogram\"}],\"scattergl\":[{\"type\":\"scattergl\",\"marker\":{\"colorbar\":{\"outlinewidth\":0,\"ticks\":\"\"}}}],\"scatter3d\":[{\"type\":\"scatter3d\",\"line\":{\"colorbar\":{\"outlinewidth\":0,\"ticks\":\"\"}},\"marker\":{\"colorbar\":{\"outlinewidth\":0,\"ticks\":\"\"}}}],\"scattermapbox\":[{\"type\":\"scattermapbox\",\"marker\":{\"colorbar\":{\"outlinewidth\":0,\"ticks\":\"\"}}}],\"scatterternary\":[{\"type\":\"scatterternary\",\"marker\":{\"colorbar\":{\"outlinewidth\":0,\"ticks\":\"\"}}}],\"scattercarpet\":[{\"type\":\"scattercarpet\",\"marker\":{\"colorbar\":{\"outlinewidth\":0,\"ticks\":\"\"}}}],\"carpet\":[{\"aaxis\":{\"endlinecolor\":\"#2a3f5f\",\"gridcolor\":\"white\",\"linecolor\":\"white\",\"minorgridcolor\":\"white\",\"startlinecolor\":\"#2a3f5f\"},\"baxis\":{\"endlinecolor\":\"#2a3f5f\",\"gridcolor\":\"white\",\"linecolor\":\"white\",\"minorgridcolor\":\"white\",\"startlinecolor\":\"#2a3f5f\"},\"type\":\"carpet\"}],\"table\":[{\"cells\":{\"fill\":{\"color\":\"#EBF0F8\"},\"line\":{\"color\":\"white\"}},\"header\":{\"fill\":{\"color\":\"#C8D4E3\"},\"line\":{\"color\":\"white\"}},\"type\":\"table\"}],\"barpolar\":[{\"marker\":{\"line\":{\"color\":\"#E5ECF6\",\"width\":0.5},\"pattern\":{\"fillmode\":\"overlay\",\"size\":10,\"solidity\":0.2}},\"type\":\"barpolar\"}],\"pie\":[{\"automargin\":true,\"type\":\"pie\"}]},\"layout\":{\"autotypenumbers\":\"strict\",\"colorway\":[\"#636efa\",\"#EF553B\",\"#00cc96\",\"#ab63fa\",\"#FFA15A\",\"#19d3f3\",\"#FF6692\",\"#B6E880\",\"#FF97FF\",\"#FECB52\"],\"font\":{\"color\":\"#2a3f5f\"},\"hovermode\":\"closest\",\"hoverlabel\":{\"align\":\"left\"},\"paper_bgcolor\":\"white\",\"plot_bgcolor\":\"#E5ECF6\",\"polar\":{\"bgcolor\":\"#E5ECF6\",\"angularaxis\":{\"gridcolor\":\"white\",\"linecolor\":\"white\",\"ticks\":\"\"},\"radialaxis\":{\"gridcolor\":\"white\",\"linecolor\":\"white\",\"ticks\":\"\"}},\"ternary\":{\"bgcolor\":\"#E5ECF6\",\"aaxis\":{\"gridcolor\":\"white\",\"linecolor\":\"white\",\"ticks\":\"\"},\"baxis\":{\"gridcolor\":\"white\",\"linecolor\":\"white\",\"ticks\":\"\"},\"caxis\":{\"gridcolor\":\"white\",\"linecolor\":\"white\",\"ticks\":\"\"}},\"coloraxis\":{\"colorbar\":{\"outlinewidth\":0,\"ticks\":\"\"}},\"colorscale\":{\"sequential\":[[0.0,\"#0d0887\"],[0.1111111111111111,\"#46039f\"],[0.2222222222222222,\"#7201a8\"],[0.3333333333333333,\"#9c179e\"],[0.4444444444444444,\"#bd3786\"],[0.5555555555555556,\"#d8576b\"],[0.6666666666666666,\"#ed7953\"],[0.7777777777777778,\"#fb9f3a\"],[0.8888888888888888,\"#fdca26\"],[1.0,\"#f0f921\"]],\"sequentialminus\":[[0.0,\"#0d0887\"],[0.1111111111111111,\"#46039f\"],[0.2222222222222222,\"#7201a8\"],[0.3333333333333333,\"#9c179e\"],[0.4444444444444444,\"#bd3786\"],[0.5555555555555556,\"#d8576b\"],[0.6666666666666666,\"#ed7953\"],[0.7777777777777778,\"#fb9f3a\"],[0.8888888888888888,\"#fdca26\"],[1.0,\"#f0f921\"]],\"diverging\":[[0,\"#8e0152\"],[0.1,\"#c51b7d\"],[0.2,\"#de77ae\"],[0.3,\"#f1b6da\"],[0.4,\"#fde0ef\"],[0.5,\"#f7f7f7\"],[0.6,\"#e6f5d0\"],[0.7,\"#b8e186\"],[0.8,\"#7fbc41\"],[0.9,\"#4d9221\"],[1,\"#276419\"]]},\"xaxis\":{\"gridcolor\":\"white\",\"linecolor\":\"white\",\"ticks\":\"\",\"title\":{\"standoff\":15},\"zerolinecolor\":\"white\",\"automargin\":true,\"zerolinewidth\":2},\"yaxis\":{\"gridcolor\":\"white\",\"linecolor\":\"white\",\"ticks\":\"\",\"title\":{\"standoff\":15},\"zerolinecolor\":\"white\",\"automargin\":true,\"zerolinewidth\":2},\"scene\":{\"xaxis\":{\"backgroundcolor\":\"#E5ECF6\",\"gridcolor\":\"white\",\"linecolor\":\"white\",\"showbackground\":true,\"ticks\":\"\",\"zerolinecolor\":\"white\",\"gridwidth\":2},\"yaxis\":{\"backgroundcolor\":\"#E5ECF6\",\"gridcolor\":\"white\",\"linecolor\":\"white\",\"showbackground\":true,\"ticks\":\"\",\"zerolinecolor\":\"white\",\"gridwidth\":2},\"zaxis\":{\"backgroundcolor\":\"#E5ECF6\",\"gridcolor\":\"white\",\"linecolor\":\"white\",\"showbackground\":true,\"ticks\":\"\",\"zerolinecolor\":\"white\",\"gridwidth\":2}},\"shapedefaults\":{\"line\":{\"color\":\"#2a3f5f\"}},\"annotationdefaults\":{\"arrowcolor\":\"#2a3f5f\",\"arrowhead\":0,\"arrowwidth\":1},\"geo\":{\"bgcolor\":\"white\",\"landcolor\":\"#E5ECF6\",\"subunitcolor\":\"white\",\"showland\":true,\"showlakes\":true,\"lakecolor\":\"white\"},\"title\":{\"x\":0.05},\"mapbox\":{\"style\":\"light\"}}},\"xaxis\":{\"anchor\":\"y\",\"domain\":[0.0,1.0],\"title\":{\"text\":\"Distribution\"}},\"yaxis\":{\"anchor\":\"x\",\"domain\":[0.0,1.0],\"title\":{\"text\":\"Age\"}},\"legend\":{\"tracegroupgap\":0},\"margin\":{\"t\":60},\"barmode\":\"relative\",\"title\":{\"text\":\"Age Distribution of Candidates\",\"font\":{\"family\":\"Courier New\",\"color\":\"#351f39\"}},\"font\":{\"family\":\"Courier New\",\"color\":\"#351f39\"}},                        {\"responsive\": true}                    ).then(function(){\n",
       "                            \n",
       "var gd = document.getElementById('4592395d-7a57-4f6a-ae30-509b95477710');\n",
       "var x = new MutationObserver(function (mutations, observer) {{\n",
       "        var display = window.getComputedStyle(gd).display;\n",
       "        if (!display || display === 'none') {{\n",
       "            console.log([gd, 'removed!']);\n",
       "            Plotly.purge(gd);\n",
       "            observer.disconnect();\n",
       "        }}\n",
       "}});\n",
       "\n",
       "// Listen for the removal of the full notebook cells\n",
       "var notebookContainer = gd.closest('#notebook-container');\n",
       "if (notebookContainer) {{\n",
       "    x.observe(notebookContainer, {childList: true});\n",
       "}}\n",
       "\n",
       "// Listen for the clearing of the current output cell\n",
       "var outputEl = gd.closest('.output');\n",
       "if (outputEl) {{\n",
       "    x.observe(outputEl, {childList: true});\n",
       "}}\n",
       "\n",
       "                        })                };                });            </script>        </div>"
      ]
     },
     "metadata": {},
     "output_type": "display_data"
    }
   ],
   "source": [
    "# Visualize the age distribution of candidates\n",
    "age_distribution_fig = px.histogram(df, \n",
    "                                    x=\"AGE\",\n",
    "                                    color_discrete_sequence=['indianred'])\n",
    "age_distribution_fig.update_layout(title_text='Age Distribution of Candidates',\n",
    "                                   xaxis_title=\"Distribution\",\n",
    "                                   yaxis_title=\"Age\")\n",
    "age_distribution_fig.update_layout(font_family=\"Courier New\",\n",
    "                                   font_color=\"#351f39\",\n",
    "                                   title_font_family=\"Courier New\",\n",
    "                                   title_font_color=\"#351f39\")\n",
    "age_distribution_fig.show()"
   ]
  },
  {
   "cell_type": "code",
   "execution_count": 24,
   "metadata": {},
   "outputs": [
    {
     "name": "stderr",
     "output_type": "stream",
     "text": [
      "C:\\Users\\Hp\\AppData\\Local\\Packages\\PythonSoftwareFoundation.Python.3.11_qbz5n2kfra8p0\\LocalCache\\local-packages\\Python311\\site-packages\\plotly\\express\\_core.py:2065: FutureWarning:\n",
      "\n",
      "When grouping with a length-1 list-like, you will need to pass a length-1 tuple to get_group in a future version of pandas. Pass `(name,)` instead of `name` to silence this warning.\n",
      "\n"
     ]
    },
    {
     "data": {
      "application/vnd.plotly.v1+json": {
       "config": {
        "plotlyServerURL": "https://plot.ly"
       },
       "data": [
        {
         "alignmentgroup": "True",
         "hovertemplate": "Category=Winner<br>CATEGORY=%{x}<br>WINNER=%{y}<extra></extra>",
         "legendgroup": "Winner",
         "marker": {
          "color": "#636efa",
          "pattern": {
           "shape": ""
          }
         },
         "name": "Winner",
         "offsetgroup": "Winner",
         "orientation": "v",
         "showlegend": true,
         "textposition": "auto",
         "type": "bar",
         "x": [
          "GENERAL",
          "SC",
          "ST"
         ],
         "xaxis": "x",
         "y": [
          419,
          96,
          58
         ],
         "yaxis": "y"
        },
        {
         "alignmentgroup": "True",
         "hovertemplate": "Category=Total<br>CATEGORY=%{x}<br>WINNER=%{y}<extra></extra>",
         "legendgroup": "Total",
         "marker": {
          "color": "#EF553B",
          "pattern": {
           "shape": ""
          }
         },
         "name": "Total",
         "offsetgroup": "Total",
         "orientation": "v",
         "showlegend": true,
         "textposition": "auto",
         "type": "bar",
         "x": [
          "BL",
          "GENERAL",
          "SC",
          "ST"
         ],
         "xaxis": "x",
         "y": [
          1,
          5265,
          2419,
          674
         ],
         "yaxis": "y"
        }
       ],
       "layout": {
        "barmode": "group",
        "font": {
         "color": "#351f39",
         "family": "Courier New"
        },
        "legend": {
         "title": {
          "text": "Category"
         },
         "tracegroupgap": 0
        },
        "margin": {
         "t": 60
        },
        "template": {
         "data": {
          "bar": [
           {
            "error_x": {
             "color": "#2a3f5f"
            },
            "error_y": {
             "color": "#2a3f5f"
            },
            "marker": {
             "line": {
              "color": "#E5ECF6",
              "width": 0.5
             },
             "pattern": {
              "fillmode": "overlay",
              "size": 10,
              "solidity": 0.2
             }
            },
            "type": "bar"
           }
          ],
          "barpolar": [
           {
            "marker": {
             "line": {
              "color": "#E5ECF6",
              "width": 0.5
             },
             "pattern": {
              "fillmode": "overlay",
              "size": 10,
              "solidity": 0.2
             }
            },
            "type": "barpolar"
           }
          ],
          "carpet": [
           {
            "aaxis": {
             "endlinecolor": "#2a3f5f",
             "gridcolor": "white",
             "linecolor": "white",
             "minorgridcolor": "white",
             "startlinecolor": "#2a3f5f"
            },
            "baxis": {
             "endlinecolor": "#2a3f5f",
             "gridcolor": "white",
             "linecolor": "white",
             "minorgridcolor": "white",
             "startlinecolor": "#2a3f5f"
            },
            "type": "carpet"
           }
          ],
          "choropleth": [
           {
            "colorbar": {
             "outlinewidth": 0,
             "ticks": ""
            },
            "type": "choropleth"
           }
          ],
          "contour": [
           {
            "colorbar": {
             "outlinewidth": 0,
             "ticks": ""
            },
            "colorscale": [
             [
              0,
              "#0d0887"
             ],
             [
              0.1111111111111111,
              "#46039f"
             ],
             [
              0.2222222222222222,
              "#7201a8"
             ],
             [
              0.3333333333333333,
              "#9c179e"
             ],
             [
              0.4444444444444444,
              "#bd3786"
             ],
             [
              0.5555555555555556,
              "#d8576b"
             ],
             [
              0.6666666666666666,
              "#ed7953"
             ],
             [
              0.7777777777777778,
              "#fb9f3a"
             ],
             [
              0.8888888888888888,
              "#fdca26"
             ],
             [
              1,
              "#f0f921"
             ]
            ],
            "type": "contour"
           }
          ],
          "contourcarpet": [
           {
            "colorbar": {
             "outlinewidth": 0,
             "ticks": ""
            },
            "type": "contourcarpet"
           }
          ],
          "heatmap": [
           {
            "colorbar": {
             "outlinewidth": 0,
             "ticks": ""
            },
            "colorscale": [
             [
              0,
              "#0d0887"
             ],
             [
              0.1111111111111111,
              "#46039f"
             ],
             [
              0.2222222222222222,
              "#7201a8"
             ],
             [
              0.3333333333333333,
              "#9c179e"
             ],
             [
              0.4444444444444444,
              "#bd3786"
             ],
             [
              0.5555555555555556,
              "#d8576b"
             ],
             [
              0.6666666666666666,
              "#ed7953"
             ],
             [
              0.7777777777777778,
              "#fb9f3a"
             ],
             [
              0.8888888888888888,
              "#fdca26"
             ],
             [
              1,
              "#f0f921"
             ]
            ],
            "type": "heatmap"
           }
          ],
          "heatmapgl": [
           {
            "colorbar": {
             "outlinewidth": 0,
             "ticks": ""
            },
            "colorscale": [
             [
              0,
              "#0d0887"
             ],
             [
              0.1111111111111111,
              "#46039f"
             ],
             [
              0.2222222222222222,
              "#7201a8"
             ],
             [
              0.3333333333333333,
              "#9c179e"
             ],
             [
              0.4444444444444444,
              "#bd3786"
             ],
             [
              0.5555555555555556,
              "#d8576b"
             ],
             [
              0.6666666666666666,
              "#ed7953"
             ],
             [
              0.7777777777777778,
              "#fb9f3a"
             ],
             [
              0.8888888888888888,
              "#fdca26"
             ],
             [
              1,
              "#f0f921"
             ]
            ],
            "type": "heatmapgl"
           }
          ],
          "histogram": [
           {
            "marker": {
             "pattern": {
              "fillmode": "overlay",
              "size": 10,
              "solidity": 0.2
             }
            },
            "type": "histogram"
           }
          ],
          "histogram2d": [
           {
            "colorbar": {
             "outlinewidth": 0,
             "ticks": ""
            },
            "colorscale": [
             [
              0,
              "#0d0887"
             ],
             [
              0.1111111111111111,
              "#46039f"
             ],
             [
              0.2222222222222222,
              "#7201a8"
             ],
             [
              0.3333333333333333,
              "#9c179e"
             ],
             [
              0.4444444444444444,
              "#bd3786"
             ],
             [
              0.5555555555555556,
              "#d8576b"
             ],
             [
              0.6666666666666666,
              "#ed7953"
             ],
             [
              0.7777777777777778,
              "#fb9f3a"
             ],
             [
              0.8888888888888888,
              "#fdca26"
             ],
             [
              1,
              "#f0f921"
             ]
            ],
            "type": "histogram2d"
           }
          ],
          "histogram2dcontour": [
           {
            "colorbar": {
             "outlinewidth": 0,
             "ticks": ""
            },
            "colorscale": [
             [
              0,
              "#0d0887"
             ],
             [
              0.1111111111111111,
              "#46039f"
             ],
             [
              0.2222222222222222,
              "#7201a8"
             ],
             [
              0.3333333333333333,
              "#9c179e"
             ],
             [
              0.4444444444444444,
              "#bd3786"
             ],
             [
              0.5555555555555556,
              "#d8576b"
             ],
             [
              0.6666666666666666,
              "#ed7953"
             ],
             [
              0.7777777777777778,
              "#fb9f3a"
             ],
             [
              0.8888888888888888,
              "#fdca26"
             ],
             [
              1,
              "#f0f921"
             ]
            ],
            "type": "histogram2dcontour"
           }
          ],
          "mesh3d": [
           {
            "colorbar": {
             "outlinewidth": 0,
             "ticks": ""
            },
            "type": "mesh3d"
           }
          ],
          "parcoords": [
           {
            "line": {
             "colorbar": {
              "outlinewidth": 0,
              "ticks": ""
             }
            },
            "type": "parcoords"
           }
          ],
          "pie": [
           {
            "automargin": true,
            "type": "pie"
           }
          ],
          "scatter": [
           {
            "fillpattern": {
             "fillmode": "overlay",
             "size": 10,
             "solidity": 0.2
            },
            "type": "scatter"
           }
          ],
          "scatter3d": [
           {
            "line": {
             "colorbar": {
              "outlinewidth": 0,
              "ticks": ""
             }
            },
            "marker": {
             "colorbar": {
              "outlinewidth": 0,
              "ticks": ""
             }
            },
            "type": "scatter3d"
           }
          ],
          "scattercarpet": [
           {
            "marker": {
             "colorbar": {
              "outlinewidth": 0,
              "ticks": ""
             }
            },
            "type": "scattercarpet"
           }
          ],
          "scattergeo": [
           {
            "marker": {
             "colorbar": {
              "outlinewidth": 0,
              "ticks": ""
             }
            },
            "type": "scattergeo"
           }
          ],
          "scattergl": [
           {
            "marker": {
             "colorbar": {
              "outlinewidth": 0,
              "ticks": ""
             }
            },
            "type": "scattergl"
           }
          ],
          "scattermapbox": [
           {
            "marker": {
             "colorbar": {
              "outlinewidth": 0,
              "ticks": ""
             }
            },
            "type": "scattermapbox"
           }
          ],
          "scatterpolar": [
           {
            "marker": {
             "colorbar": {
              "outlinewidth": 0,
              "ticks": ""
             }
            },
            "type": "scatterpolar"
           }
          ],
          "scatterpolargl": [
           {
            "marker": {
             "colorbar": {
              "outlinewidth": 0,
              "ticks": ""
             }
            },
            "type": "scatterpolargl"
           }
          ],
          "scatterternary": [
           {
            "marker": {
             "colorbar": {
              "outlinewidth": 0,
              "ticks": ""
             }
            },
            "type": "scatterternary"
           }
          ],
          "surface": [
           {
            "colorbar": {
             "outlinewidth": 0,
             "ticks": ""
            },
            "colorscale": [
             [
              0,
              "#0d0887"
             ],
             [
              0.1111111111111111,
              "#46039f"
             ],
             [
              0.2222222222222222,
              "#7201a8"
             ],
             [
              0.3333333333333333,
              "#9c179e"
             ],
             [
              0.4444444444444444,
              "#bd3786"
             ],
             [
              0.5555555555555556,
              "#d8576b"
             ],
             [
              0.6666666666666666,
              "#ed7953"
             ],
             [
              0.7777777777777778,
              "#fb9f3a"
             ],
             [
              0.8888888888888888,
              "#fdca26"
             ],
             [
              1,
              "#f0f921"
             ]
            ],
            "type": "surface"
           }
          ],
          "table": [
           {
            "cells": {
             "fill": {
              "color": "#EBF0F8"
             },
             "line": {
              "color": "white"
             }
            },
            "header": {
             "fill": {
              "color": "#C8D4E3"
             },
             "line": {
              "color": "white"
             }
            },
            "type": "table"
           }
          ]
         },
         "layout": {
          "annotationdefaults": {
           "arrowcolor": "#2a3f5f",
           "arrowhead": 0,
           "arrowwidth": 1
          },
          "autotypenumbers": "strict",
          "coloraxis": {
           "colorbar": {
            "outlinewidth": 0,
            "ticks": ""
           }
          },
          "colorscale": {
           "diverging": [
            [
             0,
             "#8e0152"
            ],
            [
             0.1,
             "#c51b7d"
            ],
            [
             0.2,
             "#de77ae"
            ],
            [
             0.3,
             "#f1b6da"
            ],
            [
             0.4,
             "#fde0ef"
            ],
            [
             0.5,
             "#f7f7f7"
            ],
            [
             0.6,
             "#e6f5d0"
            ],
            [
             0.7,
             "#b8e186"
            ],
            [
             0.8,
             "#7fbc41"
            ],
            [
             0.9,
             "#4d9221"
            ],
            [
             1,
             "#276419"
            ]
           ],
           "sequential": [
            [
             0,
             "#0d0887"
            ],
            [
             0.1111111111111111,
             "#46039f"
            ],
            [
             0.2222222222222222,
             "#7201a8"
            ],
            [
             0.3333333333333333,
             "#9c179e"
            ],
            [
             0.4444444444444444,
             "#bd3786"
            ],
            [
             0.5555555555555556,
             "#d8576b"
            ],
            [
             0.6666666666666666,
             "#ed7953"
            ],
            [
             0.7777777777777778,
             "#fb9f3a"
            ],
            [
             0.8888888888888888,
             "#fdca26"
            ],
            [
             1,
             "#f0f921"
            ]
           ],
           "sequentialminus": [
            [
             0,
             "#0d0887"
            ],
            [
             0.1111111111111111,
             "#46039f"
            ],
            [
             0.2222222222222222,
             "#7201a8"
            ],
            [
             0.3333333333333333,
             "#9c179e"
            ],
            [
             0.4444444444444444,
             "#bd3786"
            ],
            [
             0.5555555555555556,
             "#d8576b"
            ],
            [
             0.6666666666666666,
             "#ed7953"
            ],
            [
             0.7777777777777778,
             "#fb9f3a"
            ],
            [
             0.8888888888888888,
             "#fdca26"
            ],
            [
             1,
             "#f0f921"
            ]
           ]
          },
          "colorway": [
           "#636efa",
           "#EF553B",
           "#00cc96",
           "#ab63fa",
           "#FFA15A",
           "#19d3f3",
           "#FF6692",
           "#B6E880",
           "#FF97FF",
           "#FECB52"
          ],
          "font": {
           "color": "#2a3f5f"
          },
          "geo": {
           "bgcolor": "white",
           "lakecolor": "white",
           "landcolor": "#E5ECF6",
           "showlakes": true,
           "showland": true,
           "subunitcolor": "white"
          },
          "hoverlabel": {
           "align": "left"
          },
          "hovermode": "closest",
          "mapbox": {
           "style": "light"
          },
          "paper_bgcolor": "white",
          "plot_bgcolor": "#E5ECF6",
          "polar": {
           "angularaxis": {
            "gridcolor": "white",
            "linecolor": "white",
            "ticks": ""
           },
           "bgcolor": "#E5ECF6",
           "radialaxis": {
            "gridcolor": "white",
            "linecolor": "white",
            "ticks": ""
           }
          },
          "scene": {
           "xaxis": {
            "backgroundcolor": "#E5ECF6",
            "gridcolor": "white",
            "gridwidth": 2,
            "linecolor": "white",
            "showbackground": true,
            "ticks": "",
            "zerolinecolor": "white"
           },
           "yaxis": {
            "backgroundcolor": "#E5ECF6",
            "gridcolor": "white",
            "gridwidth": 2,
            "linecolor": "white",
            "showbackground": true,
            "ticks": "",
            "zerolinecolor": "white"
           },
           "zaxis": {
            "backgroundcolor": "#E5ECF6",
            "gridcolor": "white",
            "gridwidth": 2,
            "linecolor": "white",
            "showbackground": true,
            "ticks": "",
            "zerolinecolor": "white"
           }
          },
          "shapedefaults": {
           "line": {
            "color": "#2a3f5f"
           }
          },
          "ternary": {
           "aaxis": {
            "gridcolor": "white",
            "linecolor": "white",
            "ticks": ""
           },
           "baxis": {
            "gridcolor": "white",
            "linecolor": "white",
            "ticks": ""
           },
           "bgcolor": "#E5ECF6",
           "caxis": {
            "gridcolor": "white",
            "linecolor": "white",
            "ticks": ""
           }
          },
          "title": {
           "x": 0.05
          },
          "xaxis": {
           "automargin": true,
           "gridcolor": "white",
           "linecolor": "white",
           "ticks": "",
           "title": {
            "standoff": 15
           },
           "zerolinecolor": "white",
           "zerolinewidth": 2
          },
          "yaxis": {
           "automargin": true,
           "gridcolor": "white",
           "linecolor": "white",
           "ticks": "",
           "title": {
            "standoff": 15
           },
           "zerolinecolor": "white",
           "zerolinewidth": 2
          }
         }
        },
        "title": {
         "font": {
          "color": "#351f39",
          "family": "Courier New"
         },
         "text": "Caste distribution of candidates"
        },
        "xaxis": {
         "anchor": "y",
         "domain": [
          0,
          1
         ],
         "title": {
          "text": "Caste"
         }
        },
        "yaxis": {
         "anchor": "x",
         "domain": [
          0,
          1
         ],
         "title": {
          "text": "Count"
         }
        }
       }
      },
      "text/html": [
       "<div>                            <div id=\"37377086-ad33-4576-a04b-f6c4581beb2b\" class=\"plotly-graph-div\" style=\"height:525px; width:100%;\"></div>            <script type=\"text/javascript\">                require([\"plotly\"], function(Plotly) {                    window.PLOTLYENV=window.PLOTLYENV || {};                                    if (document.getElementById(\"37377086-ad33-4576-a04b-f6c4581beb2b\")) {                    Plotly.newPlot(                        \"37377086-ad33-4576-a04b-f6c4581beb2b\",                        [{\"alignmentgroup\":\"True\",\"hovertemplate\":\"Category=Winner\\u003cbr\\u003eCATEGORY=%{x}\\u003cbr\\u003eWINNER=%{y}\\u003cextra\\u003e\\u003c\\u002fextra\\u003e\",\"legendgroup\":\"Winner\",\"marker\":{\"color\":\"#636efa\",\"pattern\":{\"shape\":\"\"}},\"name\":\"Winner\",\"offsetgroup\":\"Winner\",\"orientation\":\"v\",\"showlegend\":true,\"textposition\":\"auto\",\"x\":[\"GENERAL\",\"SC\",\"ST\"],\"xaxis\":\"x\",\"y\":[419,96,58],\"yaxis\":\"y\",\"type\":\"bar\"},{\"alignmentgroup\":\"True\",\"hovertemplate\":\"Category=Total\\u003cbr\\u003eCATEGORY=%{x}\\u003cbr\\u003eWINNER=%{y}\\u003cextra\\u003e\\u003c\\u002fextra\\u003e\",\"legendgroup\":\"Total\",\"marker\":{\"color\":\"#EF553B\",\"pattern\":{\"shape\":\"\"}},\"name\":\"Total\",\"offsetgroup\":\"Total\",\"orientation\":\"v\",\"showlegend\":true,\"textposition\":\"auto\",\"x\":[\"BL\",\"GENERAL\",\"SC\",\"ST\"],\"xaxis\":\"x\",\"y\":[1,5265,2419,674],\"yaxis\":\"y\",\"type\":\"bar\"}],                        {\"template\":{\"data\":{\"histogram2dcontour\":[{\"type\":\"histogram2dcontour\",\"colorbar\":{\"outlinewidth\":0,\"ticks\":\"\"},\"colorscale\":[[0.0,\"#0d0887\"],[0.1111111111111111,\"#46039f\"],[0.2222222222222222,\"#7201a8\"],[0.3333333333333333,\"#9c179e\"],[0.4444444444444444,\"#bd3786\"],[0.5555555555555556,\"#d8576b\"],[0.6666666666666666,\"#ed7953\"],[0.7777777777777778,\"#fb9f3a\"],[0.8888888888888888,\"#fdca26\"],[1.0,\"#f0f921\"]]}],\"choropleth\":[{\"type\":\"choropleth\",\"colorbar\":{\"outlinewidth\":0,\"ticks\":\"\"}}],\"histogram2d\":[{\"type\":\"histogram2d\",\"colorbar\":{\"outlinewidth\":0,\"ticks\":\"\"},\"colorscale\":[[0.0,\"#0d0887\"],[0.1111111111111111,\"#46039f\"],[0.2222222222222222,\"#7201a8\"],[0.3333333333333333,\"#9c179e\"],[0.4444444444444444,\"#bd3786\"],[0.5555555555555556,\"#d8576b\"],[0.6666666666666666,\"#ed7953\"],[0.7777777777777778,\"#fb9f3a\"],[0.8888888888888888,\"#fdca26\"],[1.0,\"#f0f921\"]]}],\"heatmap\":[{\"type\":\"heatmap\",\"colorbar\":{\"outlinewidth\":0,\"ticks\":\"\"},\"colorscale\":[[0.0,\"#0d0887\"],[0.1111111111111111,\"#46039f\"],[0.2222222222222222,\"#7201a8\"],[0.3333333333333333,\"#9c179e\"],[0.4444444444444444,\"#bd3786\"],[0.5555555555555556,\"#d8576b\"],[0.6666666666666666,\"#ed7953\"],[0.7777777777777778,\"#fb9f3a\"],[0.8888888888888888,\"#fdca26\"],[1.0,\"#f0f921\"]]}],\"heatmapgl\":[{\"type\":\"heatmapgl\",\"colorbar\":{\"outlinewidth\":0,\"ticks\":\"\"},\"colorscale\":[[0.0,\"#0d0887\"],[0.1111111111111111,\"#46039f\"],[0.2222222222222222,\"#7201a8\"],[0.3333333333333333,\"#9c179e\"],[0.4444444444444444,\"#bd3786\"],[0.5555555555555556,\"#d8576b\"],[0.6666666666666666,\"#ed7953\"],[0.7777777777777778,\"#fb9f3a\"],[0.8888888888888888,\"#fdca26\"],[1.0,\"#f0f921\"]]}],\"contourcarpet\":[{\"type\":\"contourcarpet\",\"colorbar\":{\"outlinewidth\":0,\"ticks\":\"\"}}],\"contour\":[{\"type\":\"contour\",\"colorbar\":{\"outlinewidth\":0,\"ticks\":\"\"},\"colorscale\":[[0.0,\"#0d0887\"],[0.1111111111111111,\"#46039f\"],[0.2222222222222222,\"#7201a8\"],[0.3333333333333333,\"#9c179e\"],[0.4444444444444444,\"#bd3786\"],[0.5555555555555556,\"#d8576b\"],[0.6666666666666666,\"#ed7953\"],[0.7777777777777778,\"#fb9f3a\"],[0.8888888888888888,\"#fdca26\"],[1.0,\"#f0f921\"]]}],\"surface\":[{\"type\":\"surface\",\"colorbar\":{\"outlinewidth\":0,\"ticks\":\"\"},\"colorscale\":[[0.0,\"#0d0887\"],[0.1111111111111111,\"#46039f\"],[0.2222222222222222,\"#7201a8\"],[0.3333333333333333,\"#9c179e\"],[0.4444444444444444,\"#bd3786\"],[0.5555555555555556,\"#d8576b\"],[0.6666666666666666,\"#ed7953\"],[0.7777777777777778,\"#fb9f3a\"],[0.8888888888888888,\"#fdca26\"],[1.0,\"#f0f921\"]]}],\"mesh3d\":[{\"type\":\"mesh3d\",\"colorbar\":{\"outlinewidth\":0,\"ticks\":\"\"}}],\"scatter\":[{\"fillpattern\":{\"fillmode\":\"overlay\",\"size\":10,\"solidity\":0.2},\"type\":\"scatter\"}],\"parcoords\":[{\"type\":\"parcoords\",\"line\":{\"colorbar\":{\"outlinewidth\":0,\"ticks\":\"\"}}}],\"scatterpolargl\":[{\"type\":\"scatterpolargl\",\"marker\":{\"colorbar\":{\"outlinewidth\":0,\"ticks\":\"\"}}}],\"bar\":[{\"error_x\":{\"color\":\"#2a3f5f\"},\"error_y\":{\"color\":\"#2a3f5f\"},\"marker\":{\"line\":{\"color\":\"#E5ECF6\",\"width\":0.5},\"pattern\":{\"fillmode\":\"overlay\",\"size\":10,\"solidity\":0.2}},\"type\":\"bar\"}],\"scattergeo\":[{\"type\":\"scattergeo\",\"marker\":{\"colorbar\":{\"outlinewidth\":0,\"ticks\":\"\"}}}],\"scatterpolar\":[{\"type\":\"scatterpolar\",\"marker\":{\"colorbar\":{\"outlinewidth\":0,\"ticks\":\"\"}}}],\"histogram\":[{\"marker\":{\"pattern\":{\"fillmode\":\"overlay\",\"size\":10,\"solidity\":0.2}},\"type\":\"histogram\"}],\"scattergl\":[{\"type\":\"scattergl\",\"marker\":{\"colorbar\":{\"outlinewidth\":0,\"ticks\":\"\"}}}],\"scatter3d\":[{\"type\":\"scatter3d\",\"line\":{\"colorbar\":{\"outlinewidth\":0,\"ticks\":\"\"}},\"marker\":{\"colorbar\":{\"outlinewidth\":0,\"ticks\":\"\"}}}],\"scattermapbox\":[{\"type\":\"scattermapbox\",\"marker\":{\"colorbar\":{\"outlinewidth\":0,\"ticks\":\"\"}}}],\"scatterternary\":[{\"type\":\"scatterternary\",\"marker\":{\"colorbar\":{\"outlinewidth\":0,\"ticks\":\"\"}}}],\"scattercarpet\":[{\"type\":\"scattercarpet\",\"marker\":{\"colorbar\":{\"outlinewidth\":0,\"ticks\":\"\"}}}],\"carpet\":[{\"aaxis\":{\"endlinecolor\":\"#2a3f5f\",\"gridcolor\":\"white\",\"linecolor\":\"white\",\"minorgridcolor\":\"white\",\"startlinecolor\":\"#2a3f5f\"},\"baxis\":{\"endlinecolor\":\"#2a3f5f\",\"gridcolor\":\"white\",\"linecolor\":\"white\",\"minorgridcolor\":\"white\",\"startlinecolor\":\"#2a3f5f\"},\"type\":\"carpet\"}],\"table\":[{\"cells\":{\"fill\":{\"color\":\"#EBF0F8\"},\"line\":{\"color\":\"white\"}},\"header\":{\"fill\":{\"color\":\"#C8D4E3\"},\"line\":{\"color\":\"white\"}},\"type\":\"table\"}],\"barpolar\":[{\"marker\":{\"line\":{\"color\":\"#E5ECF6\",\"width\":0.5},\"pattern\":{\"fillmode\":\"overlay\",\"size\":10,\"solidity\":0.2}},\"type\":\"barpolar\"}],\"pie\":[{\"automargin\":true,\"type\":\"pie\"}]},\"layout\":{\"autotypenumbers\":\"strict\",\"colorway\":[\"#636efa\",\"#EF553B\",\"#00cc96\",\"#ab63fa\",\"#FFA15A\",\"#19d3f3\",\"#FF6692\",\"#B6E880\",\"#FF97FF\",\"#FECB52\"],\"font\":{\"color\":\"#2a3f5f\"},\"hovermode\":\"closest\",\"hoverlabel\":{\"align\":\"left\"},\"paper_bgcolor\":\"white\",\"plot_bgcolor\":\"#E5ECF6\",\"polar\":{\"bgcolor\":\"#E5ECF6\",\"angularaxis\":{\"gridcolor\":\"white\",\"linecolor\":\"white\",\"ticks\":\"\"},\"radialaxis\":{\"gridcolor\":\"white\",\"linecolor\":\"white\",\"ticks\":\"\"}},\"ternary\":{\"bgcolor\":\"#E5ECF6\",\"aaxis\":{\"gridcolor\":\"white\",\"linecolor\":\"white\",\"ticks\":\"\"},\"baxis\":{\"gridcolor\":\"white\",\"linecolor\":\"white\",\"ticks\":\"\"},\"caxis\":{\"gridcolor\":\"white\",\"linecolor\":\"white\",\"ticks\":\"\"}},\"coloraxis\":{\"colorbar\":{\"outlinewidth\":0,\"ticks\":\"\"}},\"colorscale\":{\"sequential\":[[0.0,\"#0d0887\"],[0.1111111111111111,\"#46039f\"],[0.2222222222222222,\"#7201a8\"],[0.3333333333333333,\"#9c179e\"],[0.4444444444444444,\"#bd3786\"],[0.5555555555555556,\"#d8576b\"],[0.6666666666666666,\"#ed7953\"],[0.7777777777777778,\"#fb9f3a\"],[0.8888888888888888,\"#fdca26\"],[1.0,\"#f0f921\"]],\"sequentialminus\":[[0.0,\"#0d0887\"],[0.1111111111111111,\"#46039f\"],[0.2222222222222222,\"#7201a8\"],[0.3333333333333333,\"#9c179e\"],[0.4444444444444444,\"#bd3786\"],[0.5555555555555556,\"#d8576b\"],[0.6666666666666666,\"#ed7953\"],[0.7777777777777778,\"#fb9f3a\"],[0.8888888888888888,\"#fdca26\"],[1.0,\"#f0f921\"]],\"diverging\":[[0,\"#8e0152\"],[0.1,\"#c51b7d\"],[0.2,\"#de77ae\"],[0.3,\"#f1b6da\"],[0.4,\"#fde0ef\"],[0.5,\"#f7f7f7\"],[0.6,\"#e6f5d0\"],[0.7,\"#b8e186\"],[0.8,\"#7fbc41\"],[0.9,\"#4d9221\"],[1,\"#276419\"]]},\"xaxis\":{\"gridcolor\":\"white\",\"linecolor\":\"white\",\"ticks\":\"\",\"title\":{\"standoff\":15},\"zerolinecolor\":\"white\",\"automargin\":true,\"zerolinewidth\":2},\"yaxis\":{\"gridcolor\":\"white\",\"linecolor\":\"white\",\"ticks\":\"\",\"title\":{\"standoff\":15},\"zerolinecolor\":\"white\",\"automargin\":true,\"zerolinewidth\":2},\"scene\":{\"xaxis\":{\"backgroundcolor\":\"#E5ECF6\",\"gridcolor\":\"white\",\"linecolor\":\"white\",\"showbackground\":true,\"ticks\":\"\",\"zerolinecolor\":\"white\",\"gridwidth\":2},\"yaxis\":{\"backgroundcolor\":\"#E5ECF6\",\"gridcolor\":\"white\",\"linecolor\":\"white\",\"showbackground\":true,\"ticks\":\"\",\"zerolinecolor\":\"white\",\"gridwidth\":2},\"zaxis\":{\"backgroundcolor\":\"#E5ECF6\",\"gridcolor\":\"white\",\"linecolor\":\"white\",\"showbackground\":true,\"ticks\":\"\",\"zerolinecolor\":\"white\",\"gridwidth\":2}},\"shapedefaults\":{\"line\":{\"color\":\"#2a3f5f\"}},\"annotationdefaults\":{\"arrowcolor\":\"#2a3f5f\",\"arrowhead\":0,\"arrowwidth\":1},\"geo\":{\"bgcolor\":\"white\",\"landcolor\":\"#E5ECF6\",\"subunitcolor\":\"white\",\"showland\":true,\"showlakes\":true,\"lakecolor\":\"white\"},\"title\":{\"x\":0.05},\"mapbox\":{\"style\":\"light\"}}},\"xaxis\":{\"anchor\":\"y\",\"domain\":[0.0,1.0],\"title\":{\"text\":\"Caste\"}},\"yaxis\":{\"anchor\":\"x\",\"domain\":[0.0,1.0],\"title\":{\"text\":\"Count\"}},\"legend\":{\"title\":{\"text\":\"Category\"},\"tracegroupgap\":0},\"margin\":{\"t\":60},\"barmode\":\"group\",\"font\":{\"family\":\"Courier New\",\"color\":\"#351f39\"},\"title\":{\"font\":{\"family\":\"Courier New\",\"color\":\"#351f39\"},\"text\":\"Caste distribution of candidates\"}},                        {\"responsive\": true}                    ).then(function(){\n",
       "                            \n",
       "var gd = document.getElementById('37377086-ad33-4576-a04b-f6c4581beb2b');\n",
       "var x = new MutationObserver(function (mutations, observer) {{\n",
       "        var display = window.getComputedStyle(gd).display;\n",
       "        if (!display || display === 'none') {{\n",
       "            console.log([gd, 'removed!']);\n",
       "            Plotly.purge(gd);\n",
       "            observer.disconnect();\n",
       "        }}\n",
       "}});\n",
       "\n",
       "// Listen for the removal of the full notebook cells\n",
       "var notebookContainer = gd.closest('#notebook-container');\n",
       "if (notebookContainer) {{\n",
       "    x.observe(notebookContainer, {childList: true});\n",
       "}}\n",
       "\n",
       "// Listen for the clearing of the current output cell\n",
       "var outputEl = gd.closest('.output');\n",
       "if (outputEl) {{\n",
       "    x.observe(outputEl, {childList: true});\n",
       "}}\n",
       "\n",
       "                        })                };                });            </script>        </div>"
      ]
     },
     "metadata": {},
     "output_type": "display_data"
    }
   ],
   "source": [
    "# Create a dataframe containing the caste distribution of winners\n",
    "winner_caste = df[df['WINNER'] == 1].groupby('CATEGORY')['WINNER'].size()\n",
    "winner_caste_df = pd.DataFrame(data=winner_caste)\n",
    "winner_caste_df.reset_index(level=0, inplace=True)\n",
    "winner_caste_df['Category'] = 'Winner'\n",
    "\n",
    "# Create a dataframe containing the caste distribution of total number of candidates\n",
    "total_caste = df.groupby('CATEGORY').size()\n",
    "total_caste_df = pd.DataFrame(data=total_caste)\n",
    "total_caste_df.reset_index(level=0, inplace=True)\n",
    "total_caste_df['Category'] = 'Total'\n",
    "total_caste_df.rename(columns={0: \"WINNER\"}, inplace=True)\n",
    "\n",
    "# Concatenate the two dataframes\n",
    "winner_caste_df = pd.concat((winner_caste_df, total_caste_df))\n",
    "\n",
    "# Visualize the results\n",
    "caste_fig = px.bar(winner_caste_df, \n",
    "                   x='CATEGORY', \n",
    "                   y='WINNER',\n",
    "                   color='Category', \n",
    "                   barmode='group')\n",
    "caste_fig.update_layout(font_family=\"Courier New\",\n",
    "                        font_color=\"#351f39\",\n",
    "                        title_text='Caste distribution of candidates',\n",
    "                        title_font_family=\"Courier New\",\n",
    "                        title_font_color=\"#351f39\",\n",
    "                        xaxis_title='Caste',\n",
    "                        yaxis_title='Count')\n",
    "caste_fig.show()"
   ]
  },
  {
   "cell_type": "code",
   "execution_count": 25,
   "metadata": {},
   "outputs": [
    {
     "name": "stderr",
     "output_type": "stream",
     "text": [
      "C:\\Users\\Hp\\AppData\\Local\\Packages\\PythonSoftwareFoundation.Python.3.11_qbz5n2kfra8p0\\LocalCache\\local-packages\\Python311\\site-packages\\plotly\\express\\_core.py:2065: FutureWarning:\n",
      "\n",
      "When grouping with a length-1 list-like, you will need to pass a length-1 tuple to get_group in a future version of pandas. Pass `(name,)` instead of `name` to silence this warning.\n",
      "\n"
     ]
    },
    {
     "data": {
      "application/vnd.plotly.v1+json": {
       "config": {
        "plotlyServerURL": "https://plot.ly"
       },
       "data": [
        {
         "hovertemplate": "PARTY=%{x}<br>CRIMINAL CASES=%{marker.size}<extra></extra>",
         "legendgroup": "BJP",
         "marker": {
          "color": "#636efa",
          "size": [
           480
          ],
          "sizemode": "area",
          "sizeref": 1.2,
          "symbol": "circle"
         },
         "mode": "markers",
         "name": "BJP",
         "orientation": "v",
         "showlegend": true,
         "type": "scatter",
         "x": [
          "BJP"
         ],
         "xaxis": "x",
         "y": [
          480
         ],
         "yaxis": "y"
        },
        {
         "hovertemplate": "PARTY=%{x}<br>CRIMINAL CASES=%{marker.size}<extra></extra>",
         "legendgroup": "INC",
         "marker": {
          "color": "#EF553B",
          "size": [
           320
          ],
          "sizemode": "area",
          "sizeref": 1.2,
          "symbol": "circle"
         },
         "mode": "markers",
         "name": "INC",
         "orientation": "v",
         "showlegend": true,
         "type": "scatter",
         "x": [
          "INC"
         ],
         "xaxis": "x",
         "y": [
          320
         ],
         "yaxis": "y"
        },
        {
         "hovertemplate": "PARTY=%{x}<br>CRIMINAL CASES=%{marker.size}<extra></extra>",
         "legendgroup": "IND",
         "marker": {
          "color": "#00cc96",
          "size": [
           88
          ],
          "sizemode": "area",
          "sizeref": 1.2,
          "symbol": "circle"
         },
         "mode": "markers",
         "name": "IND",
         "orientation": "v",
         "showlegend": true,
         "type": "scatter",
         "x": [
          "IND"
         ],
         "xaxis": "x",
         "y": [
          88
         ],
         "yaxis": "y"
        },
        {
         "hovertemplate": "PARTY=%{x}<br>CRIMINAL CASES=%{marker.size}<extra></extra>",
         "legendgroup": "SP",
         "marker": {
          "color": "#ab63fa",
          "size": [
           85
          ],
          "sizemode": "area",
          "sizeref": 1.2,
          "symbol": "circle"
         },
         "mode": "markers",
         "name": "SP",
         "orientation": "v",
         "showlegend": true,
         "type": "scatter",
         "x": [
          "SP"
         ],
         "xaxis": "x",
         "y": [
          85
         ],
         "yaxis": "y"
        },
        {
         "hovertemplate": "PARTY=%{x}<br>CRIMINAL CASES=%{marker.size}<extra></extra>",
         "legendgroup": "DMK",
         "marker": {
          "color": "#FFA15A",
          "size": [
           54
          ],
          "sizemode": "area",
          "sizeref": 1.2,
          "symbol": "circle"
         },
         "mode": "markers",
         "name": "DMK",
         "orientation": "v",
         "showlegend": true,
         "type": "scatter",
         "x": [
          "DMK"
         ],
         "xaxis": "x",
         "y": [
          54
         ],
         "yaxis": "y"
        },
        {
         "hovertemplate": "PARTY=%{x}<br>CRIMINAL CASES=%{marker.size}<extra></extra>",
         "legendgroup": "TDP",
         "marker": {
          "color": "#19d3f3",
          "size": [
           39
          ],
          "sizemode": "area",
          "sizeref": 1.2,
          "symbol": "circle"
         },
         "mode": "markers",
         "name": "TDP",
         "orientation": "v",
         "showlegend": true,
         "type": "scatter",
         "x": [
          "TDP"
         ],
         "xaxis": "x",
         "y": [
          39
         ],
         "yaxis": "y"
        },
        {
         "hovertemplate": "PARTY=%{x}<br>CRIMINAL CASES=%{marker.size}<extra></extra>",
         "legendgroup": "NCPSP",
         "marker": {
          "color": "#FF6692",
          "size": [
           38
          ],
          "sizemode": "area",
          "sizeref": 1.2,
          "symbol": "circle"
         },
         "mode": "markers",
         "name": "NCPSP",
         "orientation": "v",
         "showlegend": true,
         "type": "scatter",
         "x": [
          "NCPSP"
         ],
         "xaxis": "x",
         "y": [
          38
         ],
         "yaxis": "y"
        },
        {
         "hovertemplate": "PARTY=%{x}<br>CRIMINAL CASES=%{marker.size}<extra></extra>",
         "legendgroup": "ASPKR",
         "marker": {
          "color": "#B6E880",
          "size": [
           36
          ],
          "sizemode": "area",
          "sizeref": 1.2,
          "symbol": "circle"
         },
         "mode": "markers",
         "name": "ASPKR",
         "orientation": "v",
         "showlegend": true,
         "type": "scatter",
         "x": [
          "ASPKR"
         ],
         "xaxis": "x",
         "y": [
          36
         ],
         "yaxis": "y"
        },
        {
         "hovertemplate": "PARTY=%{x}<br>CRIMINAL CASES=%{marker.size}<extra></extra>",
         "legendgroup": "RJD",
         "marker": {
          "color": "#FF97FF",
          "size": [
           32
          ],
          "sizemode": "area",
          "sizeref": 1.2,
          "symbol": "circle"
         },
         "mode": "markers",
         "name": "RJD",
         "orientation": "v",
         "showlegend": true,
         "type": "scatter",
         "x": [
          "RJD"
         ],
         "xaxis": "x",
         "y": [
          32
         ],
         "yaxis": "y"
        },
        {
         "hovertemplate": "PARTY=%{x}<br>CRIMINAL CASES=%{marker.size}<extra></extra>",
         "legendgroup": "AITC",
         "marker": {
          "color": "#FECB52",
          "size": [
           17
          ],
          "sizemode": "area",
          "sizeref": 1.2,
          "symbol": "circle"
         },
         "mode": "markers",
         "name": "AITC",
         "orientation": "v",
         "showlegend": true,
         "type": "scatter",
         "x": [
          "AITC"
         ],
         "xaxis": "x",
         "y": [
          17
         ],
         "yaxis": "y"
        }
       ],
       "layout": {
        "font": {
         "color": "#351f39",
         "family": "Courier New"
        },
        "legend": {
         "itemsizing": "constant",
         "title": {
          "text": "PARTY"
         },
         "tracegroupgap": 0
        },
        "margin": {
         "t": 60
        },
        "template": {
         "data": {
          "bar": [
           {
            "error_x": {
             "color": "#2a3f5f"
            },
            "error_y": {
             "color": "#2a3f5f"
            },
            "marker": {
             "line": {
              "color": "#E5ECF6",
              "width": 0.5
             },
             "pattern": {
              "fillmode": "overlay",
              "size": 10,
              "solidity": 0.2
             }
            },
            "type": "bar"
           }
          ],
          "barpolar": [
           {
            "marker": {
             "line": {
              "color": "#E5ECF6",
              "width": 0.5
             },
             "pattern": {
              "fillmode": "overlay",
              "size": 10,
              "solidity": 0.2
             }
            },
            "type": "barpolar"
           }
          ],
          "carpet": [
           {
            "aaxis": {
             "endlinecolor": "#2a3f5f",
             "gridcolor": "white",
             "linecolor": "white",
             "minorgridcolor": "white",
             "startlinecolor": "#2a3f5f"
            },
            "baxis": {
             "endlinecolor": "#2a3f5f",
             "gridcolor": "white",
             "linecolor": "white",
             "minorgridcolor": "white",
             "startlinecolor": "#2a3f5f"
            },
            "type": "carpet"
           }
          ],
          "choropleth": [
           {
            "colorbar": {
             "outlinewidth": 0,
             "ticks": ""
            },
            "type": "choropleth"
           }
          ],
          "contour": [
           {
            "colorbar": {
             "outlinewidth": 0,
             "ticks": ""
            },
            "colorscale": [
             [
              0,
              "#0d0887"
             ],
             [
              0.1111111111111111,
              "#46039f"
             ],
             [
              0.2222222222222222,
              "#7201a8"
             ],
             [
              0.3333333333333333,
              "#9c179e"
             ],
             [
              0.4444444444444444,
              "#bd3786"
             ],
             [
              0.5555555555555556,
              "#d8576b"
             ],
             [
              0.6666666666666666,
              "#ed7953"
             ],
             [
              0.7777777777777778,
              "#fb9f3a"
             ],
             [
              0.8888888888888888,
              "#fdca26"
             ],
             [
              1,
              "#f0f921"
             ]
            ],
            "type": "contour"
           }
          ],
          "contourcarpet": [
           {
            "colorbar": {
             "outlinewidth": 0,
             "ticks": ""
            },
            "type": "contourcarpet"
           }
          ],
          "heatmap": [
           {
            "colorbar": {
             "outlinewidth": 0,
             "ticks": ""
            },
            "colorscale": [
             [
              0,
              "#0d0887"
             ],
             [
              0.1111111111111111,
              "#46039f"
             ],
             [
              0.2222222222222222,
              "#7201a8"
             ],
             [
              0.3333333333333333,
              "#9c179e"
             ],
             [
              0.4444444444444444,
              "#bd3786"
             ],
             [
              0.5555555555555556,
              "#d8576b"
             ],
             [
              0.6666666666666666,
              "#ed7953"
             ],
             [
              0.7777777777777778,
              "#fb9f3a"
             ],
             [
              0.8888888888888888,
              "#fdca26"
             ],
             [
              1,
              "#f0f921"
             ]
            ],
            "type": "heatmap"
           }
          ],
          "heatmapgl": [
           {
            "colorbar": {
             "outlinewidth": 0,
             "ticks": ""
            },
            "colorscale": [
             [
              0,
              "#0d0887"
             ],
             [
              0.1111111111111111,
              "#46039f"
             ],
             [
              0.2222222222222222,
              "#7201a8"
             ],
             [
              0.3333333333333333,
              "#9c179e"
             ],
             [
              0.4444444444444444,
              "#bd3786"
             ],
             [
              0.5555555555555556,
              "#d8576b"
             ],
             [
              0.6666666666666666,
              "#ed7953"
             ],
             [
              0.7777777777777778,
              "#fb9f3a"
             ],
             [
              0.8888888888888888,
              "#fdca26"
             ],
             [
              1,
              "#f0f921"
             ]
            ],
            "type": "heatmapgl"
           }
          ],
          "histogram": [
           {
            "marker": {
             "pattern": {
              "fillmode": "overlay",
              "size": 10,
              "solidity": 0.2
             }
            },
            "type": "histogram"
           }
          ],
          "histogram2d": [
           {
            "colorbar": {
             "outlinewidth": 0,
             "ticks": ""
            },
            "colorscale": [
             [
              0,
              "#0d0887"
             ],
             [
              0.1111111111111111,
              "#46039f"
             ],
             [
              0.2222222222222222,
              "#7201a8"
             ],
             [
              0.3333333333333333,
              "#9c179e"
             ],
             [
              0.4444444444444444,
              "#bd3786"
             ],
             [
              0.5555555555555556,
              "#d8576b"
             ],
             [
              0.6666666666666666,
              "#ed7953"
             ],
             [
              0.7777777777777778,
              "#fb9f3a"
             ],
             [
              0.8888888888888888,
              "#fdca26"
             ],
             [
              1,
              "#f0f921"
             ]
            ],
            "type": "histogram2d"
           }
          ],
          "histogram2dcontour": [
           {
            "colorbar": {
             "outlinewidth": 0,
             "ticks": ""
            },
            "colorscale": [
             [
              0,
              "#0d0887"
             ],
             [
              0.1111111111111111,
              "#46039f"
             ],
             [
              0.2222222222222222,
              "#7201a8"
             ],
             [
              0.3333333333333333,
              "#9c179e"
             ],
             [
              0.4444444444444444,
              "#bd3786"
             ],
             [
              0.5555555555555556,
              "#d8576b"
             ],
             [
              0.6666666666666666,
              "#ed7953"
             ],
             [
              0.7777777777777778,
              "#fb9f3a"
             ],
             [
              0.8888888888888888,
              "#fdca26"
             ],
             [
              1,
              "#f0f921"
             ]
            ],
            "type": "histogram2dcontour"
           }
          ],
          "mesh3d": [
           {
            "colorbar": {
             "outlinewidth": 0,
             "ticks": ""
            },
            "type": "mesh3d"
           }
          ],
          "parcoords": [
           {
            "line": {
             "colorbar": {
              "outlinewidth": 0,
              "ticks": ""
             }
            },
            "type": "parcoords"
           }
          ],
          "pie": [
           {
            "automargin": true,
            "type": "pie"
           }
          ],
          "scatter": [
           {
            "fillpattern": {
             "fillmode": "overlay",
             "size": 10,
             "solidity": 0.2
            },
            "type": "scatter"
           }
          ],
          "scatter3d": [
           {
            "line": {
             "colorbar": {
              "outlinewidth": 0,
              "ticks": ""
             }
            },
            "marker": {
             "colorbar": {
              "outlinewidth": 0,
              "ticks": ""
             }
            },
            "type": "scatter3d"
           }
          ],
          "scattercarpet": [
           {
            "marker": {
             "colorbar": {
              "outlinewidth": 0,
              "ticks": ""
             }
            },
            "type": "scattercarpet"
           }
          ],
          "scattergeo": [
           {
            "marker": {
             "colorbar": {
              "outlinewidth": 0,
              "ticks": ""
             }
            },
            "type": "scattergeo"
           }
          ],
          "scattergl": [
           {
            "marker": {
             "colorbar": {
              "outlinewidth": 0,
              "ticks": ""
             }
            },
            "type": "scattergl"
           }
          ],
          "scattermapbox": [
           {
            "marker": {
             "colorbar": {
              "outlinewidth": 0,
              "ticks": ""
             }
            },
            "type": "scattermapbox"
           }
          ],
          "scatterpolar": [
           {
            "marker": {
             "colorbar": {
              "outlinewidth": 0,
              "ticks": ""
             }
            },
            "type": "scatterpolar"
           }
          ],
          "scatterpolargl": [
           {
            "marker": {
             "colorbar": {
              "outlinewidth": 0,
              "ticks": ""
             }
            },
            "type": "scatterpolargl"
           }
          ],
          "scatterternary": [
           {
            "marker": {
             "colorbar": {
              "outlinewidth": 0,
              "ticks": ""
             }
            },
            "type": "scatterternary"
           }
          ],
          "surface": [
           {
            "colorbar": {
             "outlinewidth": 0,
             "ticks": ""
            },
            "colorscale": [
             [
              0,
              "#0d0887"
             ],
             [
              0.1111111111111111,
              "#46039f"
             ],
             [
              0.2222222222222222,
              "#7201a8"
             ],
             [
              0.3333333333333333,
              "#9c179e"
             ],
             [
              0.4444444444444444,
              "#bd3786"
             ],
             [
              0.5555555555555556,
              "#d8576b"
             ],
             [
              0.6666666666666666,
              "#ed7953"
             ],
             [
              0.7777777777777778,
              "#fb9f3a"
             ],
             [
              0.8888888888888888,
              "#fdca26"
             ],
             [
              1,
              "#f0f921"
             ]
            ],
            "type": "surface"
           }
          ],
          "table": [
           {
            "cells": {
             "fill": {
              "color": "#EBF0F8"
             },
             "line": {
              "color": "white"
             }
            },
            "header": {
             "fill": {
              "color": "#C8D4E3"
             },
             "line": {
              "color": "white"
             }
            },
            "type": "table"
           }
          ]
         },
         "layout": {
          "annotationdefaults": {
           "arrowcolor": "#2a3f5f",
           "arrowhead": 0,
           "arrowwidth": 1
          },
          "autotypenumbers": "strict",
          "coloraxis": {
           "colorbar": {
            "outlinewidth": 0,
            "ticks": ""
           }
          },
          "colorscale": {
           "diverging": [
            [
             0,
             "#8e0152"
            ],
            [
             0.1,
             "#c51b7d"
            ],
            [
             0.2,
             "#de77ae"
            ],
            [
             0.3,
             "#f1b6da"
            ],
            [
             0.4,
             "#fde0ef"
            ],
            [
             0.5,
             "#f7f7f7"
            ],
            [
             0.6,
             "#e6f5d0"
            ],
            [
             0.7,
             "#b8e186"
            ],
            [
             0.8,
             "#7fbc41"
            ],
            [
             0.9,
             "#4d9221"
            ],
            [
             1,
             "#276419"
            ]
           ],
           "sequential": [
            [
             0,
             "#0d0887"
            ],
            [
             0.1111111111111111,
             "#46039f"
            ],
            [
             0.2222222222222222,
             "#7201a8"
            ],
            [
             0.3333333333333333,
             "#9c179e"
            ],
            [
             0.4444444444444444,
             "#bd3786"
            ],
            [
             0.5555555555555556,
             "#d8576b"
            ],
            [
             0.6666666666666666,
             "#ed7953"
            ],
            [
             0.7777777777777778,
             "#fb9f3a"
            ],
            [
             0.8888888888888888,
             "#fdca26"
            ],
            [
             1,
             "#f0f921"
            ]
           ],
           "sequentialminus": [
            [
             0,
             "#0d0887"
            ],
            [
             0.1111111111111111,
             "#46039f"
            ],
            [
             0.2222222222222222,
             "#7201a8"
            ],
            [
             0.3333333333333333,
             "#9c179e"
            ],
            [
             0.4444444444444444,
             "#bd3786"
            ],
            [
             0.5555555555555556,
             "#d8576b"
            ],
            [
             0.6666666666666666,
             "#ed7953"
            ],
            [
             0.7777777777777778,
             "#fb9f3a"
            ],
            [
             0.8888888888888888,
             "#fdca26"
            ],
            [
             1,
             "#f0f921"
            ]
           ]
          },
          "colorway": [
           "#636efa",
           "#EF553B",
           "#00cc96",
           "#ab63fa",
           "#FFA15A",
           "#19d3f3",
           "#FF6692",
           "#B6E880",
           "#FF97FF",
           "#FECB52"
          ],
          "font": {
           "color": "#2a3f5f"
          },
          "geo": {
           "bgcolor": "white",
           "lakecolor": "white",
           "landcolor": "#E5ECF6",
           "showlakes": true,
           "showland": true,
           "subunitcolor": "white"
          },
          "hoverlabel": {
           "align": "left"
          },
          "hovermode": "closest",
          "mapbox": {
           "style": "light"
          },
          "paper_bgcolor": "white",
          "plot_bgcolor": "#E5ECF6",
          "polar": {
           "angularaxis": {
            "gridcolor": "white",
            "linecolor": "white",
            "ticks": ""
           },
           "bgcolor": "#E5ECF6",
           "radialaxis": {
            "gridcolor": "white",
            "linecolor": "white",
            "ticks": ""
           }
          },
          "scene": {
           "xaxis": {
            "backgroundcolor": "#E5ECF6",
            "gridcolor": "white",
            "gridwidth": 2,
            "linecolor": "white",
            "showbackground": true,
            "ticks": "",
            "zerolinecolor": "white"
           },
           "yaxis": {
            "backgroundcolor": "#E5ECF6",
            "gridcolor": "white",
            "gridwidth": 2,
            "linecolor": "white",
            "showbackground": true,
            "ticks": "",
            "zerolinecolor": "white"
           },
           "zaxis": {
            "backgroundcolor": "#E5ECF6",
            "gridcolor": "white",
            "gridwidth": 2,
            "linecolor": "white",
            "showbackground": true,
            "ticks": "",
            "zerolinecolor": "white"
           }
          },
          "shapedefaults": {
           "line": {
            "color": "#2a3f5f"
           }
          },
          "ternary": {
           "aaxis": {
            "gridcolor": "white",
            "linecolor": "white",
            "ticks": ""
           },
           "baxis": {
            "gridcolor": "white",
            "linecolor": "white",
            "ticks": ""
           },
           "bgcolor": "#E5ECF6",
           "caxis": {
            "gridcolor": "white",
            "linecolor": "white",
            "ticks": ""
           }
          },
          "title": {
           "x": 0.05
          },
          "xaxis": {
           "automargin": true,
           "gridcolor": "white",
           "linecolor": "white",
           "ticks": "",
           "title": {
            "standoff": 15
           },
           "zerolinecolor": "white",
           "zerolinewidth": 2
          },
          "yaxis": {
           "automargin": true,
           "gridcolor": "white",
           "linecolor": "white",
           "ticks": "",
           "title": {
            "standoff": 15
           },
           "zerolinecolor": "white",
           "zerolinewidth": 2
          }
         }
        },
        "title": {
         "font": {
          "color": "#351f39",
          "family": "Courier New"
         },
         "text": "Top 10 Party-wise criminal records"
        },
        "xaxis": {
         "anchor": "y",
         "categoryarray": [
          "BJP",
          "INC",
          "IND",
          "SP",
          "DMK",
          "TDP",
          "NCPSP",
          "ASPKR",
          "RJD",
          "AITC"
         ],
         "categoryorder": "array",
         "domain": [
          0,
          1
         ],
         "title": {
          "text": "Party"
         }
        },
        "yaxis": {
         "anchor": "x",
         "domain": [
          0,
          1
         ],
         "title": {
          "text": "Criminal Records"
         }
        }
       }
      },
      "text/html": [
       "<div>                            <div id=\"390791f9-5604-409c-be43-5f779573155e\" class=\"plotly-graph-div\" style=\"height:525px; width:100%;\"></div>            <script type=\"text/javascript\">                require([\"plotly\"], function(Plotly) {                    window.PLOTLYENV=window.PLOTLYENV || {};                                    if (document.getElementById(\"390791f9-5604-409c-be43-5f779573155e\")) {                    Plotly.newPlot(                        \"390791f9-5604-409c-be43-5f779573155e\",                        [{\"hovertemplate\":\"PARTY=%{x}\\u003cbr\\u003eCRIMINAL CASES=%{marker.size}\\u003cextra\\u003e\\u003c\\u002fextra\\u003e\",\"legendgroup\":\"BJP\",\"marker\":{\"color\":\"#636efa\",\"size\":[480],\"sizemode\":\"area\",\"sizeref\":1.2,\"symbol\":\"circle\"},\"mode\":\"markers\",\"name\":\"BJP\",\"orientation\":\"v\",\"showlegend\":true,\"x\":[\"BJP\"],\"xaxis\":\"x\",\"y\":[480],\"yaxis\":\"y\",\"type\":\"scatter\"},{\"hovertemplate\":\"PARTY=%{x}\\u003cbr\\u003eCRIMINAL CASES=%{marker.size}\\u003cextra\\u003e\\u003c\\u002fextra\\u003e\",\"legendgroup\":\"INC\",\"marker\":{\"color\":\"#EF553B\",\"size\":[320],\"sizemode\":\"area\",\"sizeref\":1.2,\"symbol\":\"circle\"},\"mode\":\"markers\",\"name\":\"INC\",\"orientation\":\"v\",\"showlegend\":true,\"x\":[\"INC\"],\"xaxis\":\"x\",\"y\":[320],\"yaxis\":\"y\",\"type\":\"scatter\"},{\"hovertemplate\":\"PARTY=%{x}\\u003cbr\\u003eCRIMINAL CASES=%{marker.size}\\u003cextra\\u003e\\u003c\\u002fextra\\u003e\",\"legendgroup\":\"IND\",\"marker\":{\"color\":\"#00cc96\",\"size\":[88],\"sizemode\":\"area\",\"sizeref\":1.2,\"symbol\":\"circle\"},\"mode\":\"markers\",\"name\":\"IND\",\"orientation\":\"v\",\"showlegend\":true,\"x\":[\"IND\"],\"xaxis\":\"x\",\"y\":[88],\"yaxis\":\"y\",\"type\":\"scatter\"},{\"hovertemplate\":\"PARTY=%{x}\\u003cbr\\u003eCRIMINAL CASES=%{marker.size}\\u003cextra\\u003e\\u003c\\u002fextra\\u003e\",\"legendgroup\":\"SP\",\"marker\":{\"color\":\"#ab63fa\",\"size\":[85],\"sizemode\":\"area\",\"sizeref\":1.2,\"symbol\":\"circle\"},\"mode\":\"markers\",\"name\":\"SP\",\"orientation\":\"v\",\"showlegend\":true,\"x\":[\"SP\"],\"xaxis\":\"x\",\"y\":[85],\"yaxis\":\"y\",\"type\":\"scatter\"},{\"hovertemplate\":\"PARTY=%{x}\\u003cbr\\u003eCRIMINAL CASES=%{marker.size}\\u003cextra\\u003e\\u003c\\u002fextra\\u003e\",\"legendgroup\":\"DMK\",\"marker\":{\"color\":\"#FFA15A\",\"size\":[54],\"sizemode\":\"area\",\"sizeref\":1.2,\"symbol\":\"circle\"},\"mode\":\"markers\",\"name\":\"DMK\",\"orientation\":\"v\",\"showlegend\":true,\"x\":[\"DMK\"],\"xaxis\":\"x\",\"y\":[54],\"yaxis\":\"y\",\"type\":\"scatter\"},{\"hovertemplate\":\"PARTY=%{x}\\u003cbr\\u003eCRIMINAL CASES=%{marker.size}\\u003cextra\\u003e\\u003c\\u002fextra\\u003e\",\"legendgroup\":\"TDP\",\"marker\":{\"color\":\"#19d3f3\",\"size\":[39],\"sizemode\":\"area\",\"sizeref\":1.2,\"symbol\":\"circle\"},\"mode\":\"markers\",\"name\":\"TDP\",\"orientation\":\"v\",\"showlegend\":true,\"x\":[\"TDP\"],\"xaxis\":\"x\",\"y\":[39],\"yaxis\":\"y\",\"type\":\"scatter\"},{\"hovertemplate\":\"PARTY=%{x}\\u003cbr\\u003eCRIMINAL CASES=%{marker.size}\\u003cextra\\u003e\\u003c\\u002fextra\\u003e\",\"legendgroup\":\"NCPSP\",\"marker\":{\"color\":\"#FF6692\",\"size\":[38],\"sizemode\":\"area\",\"sizeref\":1.2,\"symbol\":\"circle\"},\"mode\":\"markers\",\"name\":\"NCPSP\",\"orientation\":\"v\",\"showlegend\":true,\"x\":[\"NCPSP\"],\"xaxis\":\"x\",\"y\":[38],\"yaxis\":\"y\",\"type\":\"scatter\"},{\"hovertemplate\":\"PARTY=%{x}\\u003cbr\\u003eCRIMINAL CASES=%{marker.size}\\u003cextra\\u003e\\u003c\\u002fextra\\u003e\",\"legendgroup\":\"ASPKR\",\"marker\":{\"color\":\"#B6E880\",\"size\":[36],\"sizemode\":\"area\",\"sizeref\":1.2,\"symbol\":\"circle\"},\"mode\":\"markers\",\"name\":\"ASPKR\",\"orientation\":\"v\",\"showlegend\":true,\"x\":[\"ASPKR\"],\"xaxis\":\"x\",\"y\":[36],\"yaxis\":\"y\",\"type\":\"scatter\"},{\"hovertemplate\":\"PARTY=%{x}\\u003cbr\\u003eCRIMINAL CASES=%{marker.size}\\u003cextra\\u003e\\u003c\\u002fextra\\u003e\",\"legendgroup\":\"RJD\",\"marker\":{\"color\":\"#FF97FF\",\"size\":[32],\"sizemode\":\"area\",\"sizeref\":1.2,\"symbol\":\"circle\"},\"mode\":\"markers\",\"name\":\"RJD\",\"orientation\":\"v\",\"showlegend\":true,\"x\":[\"RJD\"],\"xaxis\":\"x\",\"y\":[32],\"yaxis\":\"y\",\"type\":\"scatter\"},{\"hovertemplate\":\"PARTY=%{x}\\u003cbr\\u003eCRIMINAL CASES=%{marker.size}\\u003cextra\\u003e\\u003c\\u002fextra\\u003e\",\"legendgroup\":\"AITC\",\"marker\":{\"color\":\"#FECB52\",\"size\":[17],\"sizemode\":\"area\",\"sizeref\":1.2,\"symbol\":\"circle\"},\"mode\":\"markers\",\"name\":\"AITC\",\"orientation\":\"v\",\"showlegend\":true,\"x\":[\"AITC\"],\"xaxis\":\"x\",\"y\":[17],\"yaxis\":\"y\",\"type\":\"scatter\"}],                        {\"template\":{\"data\":{\"histogram2dcontour\":[{\"type\":\"histogram2dcontour\",\"colorbar\":{\"outlinewidth\":0,\"ticks\":\"\"},\"colorscale\":[[0.0,\"#0d0887\"],[0.1111111111111111,\"#46039f\"],[0.2222222222222222,\"#7201a8\"],[0.3333333333333333,\"#9c179e\"],[0.4444444444444444,\"#bd3786\"],[0.5555555555555556,\"#d8576b\"],[0.6666666666666666,\"#ed7953\"],[0.7777777777777778,\"#fb9f3a\"],[0.8888888888888888,\"#fdca26\"],[1.0,\"#f0f921\"]]}],\"choropleth\":[{\"type\":\"choropleth\",\"colorbar\":{\"outlinewidth\":0,\"ticks\":\"\"}}],\"histogram2d\":[{\"type\":\"histogram2d\",\"colorbar\":{\"outlinewidth\":0,\"ticks\":\"\"},\"colorscale\":[[0.0,\"#0d0887\"],[0.1111111111111111,\"#46039f\"],[0.2222222222222222,\"#7201a8\"],[0.3333333333333333,\"#9c179e\"],[0.4444444444444444,\"#bd3786\"],[0.5555555555555556,\"#d8576b\"],[0.6666666666666666,\"#ed7953\"],[0.7777777777777778,\"#fb9f3a\"],[0.8888888888888888,\"#fdca26\"],[1.0,\"#f0f921\"]]}],\"heatmap\":[{\"type\":\"heatmap\",\"colorbar\":{\"outlinewidth\":0,\"ticks\":\"\"},\"colorscale\":[[0.0,\"#0d0887\"],[0.1111111111111111,\"#46039f\"],[0.2222222222222222,\"#7201a8\"],[0.3333333333333333,\"#9c179e\"],[0.4444444444444444,\"#bd3786\"],[0.5555555555555556,\"#d8576b\"],[0.6666666666666666,\"#ed7953\"],[0.7777777777777778,\"#fb9f3a\"],[0.8888888888888888,\"#fdca26\"],[1.0,\"#f0f921\"]]}],\"heatmapgl\":[{\"type\":\"heatmapgl\",\"colorbar\":{\"outlinewidth\":0,\"ticks\":\"\"},\"colorscale\":[[0.0,\"#0d0887\"],[0.1111111111111111,\"#46039f\"],[0.2222222222222222,\"#7201a8\"],[0.3333333333333333,\"#9c179e\"],[0.4444444444444444,\"#bd3786\"],[0.5555555555555556,\"#d8576b\"],[0.6666666666666666,\"#ed7953\"],[0.7777777777777778,\"#fb9f3a\"],[0.8888888888888888,\"#fdca26\"],[1.0,\"#f0f921\"]]}],\"contourcarpet\":[{\"type\":\"contourcarpet\",\"colorbar\":{\"outlinewidth\":0,\"ticks\":\"\"}}],\"contour\":[{\"type\":\"contour\",\"colorbar\":{\"outlinewidth\":0,\"ticks\":\"\"},\"colorscale\":[[0.0,\"#0d0887\"],[0.1111111111111111,\"#46039f\"],[0.2222222222222222,\"#7201a8\"],[0.3333333333333333,\"#9c179e\"],[0.4444444444444444,\"#bd3786\"],[0.5555555555555556,\"#d8576b\"],[0.6666666666666666,\"#ed7953\"],[0.7777777777777778,\"#fb9f3a\"],[0.8888888888888888,\"#fdca26\"],[1.0,\"#f0f921\"]]}],\"surface\":[{\"type\":\"surface\",\"colorbar\":{\"outlinewidth\":0,\"ticks\":\"\"},\"colorscale\":[[0.0,\"#0d0887\"],[0.1111111111111111,\"#46039f\"],[0.2222222222222222,\"#7201a8\"],[0.3333333333333333,\"#9c179e\"],[0.4444444444444444,\"#bd3786\"],[0.5555555555555556,\"#d8576b\"],[0.6666666666666666,\"#ed7953\"],[0.7777777777777778,\"#fb9f3a\"],[0.8888888888888888,\"#fdca26\"],[1.0,\"#f0f921\"]]}],\"mesh3d\":[{\"type\":\"mesh3d\",\"colorbar\":{\"outlinewidth\":0,\"ticks\":\"\"}}],\"scatter\":[{\"fillpattern\":{\"fillmode\":\"overlay\",\"size\":10,\"solidity\":0.2},\"type\":\"scatter\"}],\"parcoords\":[{\"type\":\"parcoords\",\"line\":{\"colorbar\":{\"outlinewidth\":0,\"ticks\":\"\"}}}],\"scatterpolargl\":[{\"type\":\"scatterpolargl\",\"marker\":{\"colorbar\":{\"outlinewidth\":0,\"ticks\":\"\"}}}],\"bar\":[{\"error_x\":{\"color\":\"#2a3f5f\"},\"error_y\":{\"color\":\"#2a3f5f\"},\"marker\":{\"line\":{\"color\":\"#E5ECF6\",\"width\":0.5},\"pattern\":{\"fillmode\":\"overlay\",\"size\":10,\"solidity\":0.2}},\"type\":\"bar\"}],\"scattergeo\":[{\"type\":\"scattergeo\",\"marker\":{\"colorbar\":{\"outlinewidth\":0,\"ticks\":\"\"}}}],\"scatterpolar\":[{\"type\":\"scatterpolar\",\"marker\":{\"colorbar\":{\"outlinewidth\":0,\"ticks\":\"\"}}}],\"histogram\":[{\"marker\":{\"pattern\":{\"fillmode\":\"overlay\",\"size\":10,\"solidity\":0.2}},\"type\":\"histogram\"}],\"scattergl\":[{\"type\":\"scattergl\",\"marker\":{\"colorbar\":{\"outlinewidth\":0,\"ticks\":\"\"}}}],\"scatter3d\":[{\"type\":\"scatter3d\",\"line\":{\"colorbar\":{\"outlinewidth\":0,\"ticks\":\"\"}},\"marker\":{\"colorbar\":{\"outlinewidth\":0,\"ticks\":\"\"}}}],\"scattermapbox\":[{\"type\":\"scattermapbox\",\"marker\":{\"colorbar\":{\"outlinewidth\":0,\"ticks\":\"\"}}}],\"scatterternary\":[{\"type\":\"scatterternary\",\"marker\":{\"colorbar\":{\"outlinewidth\":0,\"ticks\":\"\"}}}],\"scattercarpet\":[{\"type\":\"scattercarpet\",\"marker\":{\"colorbar\":{\"outlinewidth\":0,\"ticks\":\"\"}}}],\"carpet\":[{\"aaxis\":{\"endlinecolor\":\"#2a3f5f\",\"gridcolor\":\"white\",\"linecolor\":\"white\",\"minorgridcolor\":\"white\",\"startlinecolor\":\"#2a3f5f\"},\"baxis\":{\"endlinecolor\":\"#2a3f5f\",\"gridcolor\":\"white\",\"linecolor\":\"white\",\"minorgridcolor\":\"white\",\"startlinecolor\":\"#2a3f5f\"},\"type\":\"carpet\"}],\"table\":[{\"cells\":{\"fill\":{\"color\":\"#EBF0F8\"},\"line\":{\"color\":\"white\"}},\"header\":{\"fill\":{\"color\":\"#C8D4E3\"},\"line\":{\"color\":\"white\"}},\"type\":\"table\"}],\"barpolar\":[{\"marker\":{\"line\":{\"color\":\"#E5ECF6\",\"width\":0.5},\"pattern\":{\"fillmode\":\"overlay\",\"size\":10,\"solidity\":0.2}},\"type\":\"barpolar\"}],\"pie\":[{\"automargin\":true,\"type\":\"pie\"}]},\"layout\":{\"autotypenumbers\":\"strict\",\"colorway\":[\"#636efa\",\"#EF553B\",\"#00cc96\",\"#ab63fa\",\"#FFA15A\",\"#19d3f3\",\"#FF6692\",\"#B6E880\",\"#FF97FF\",\"#FECB52\"],\"font\":{\"color\":\"#2a3f5f\"},\"hovermode\":\"closest\",\"hoverlabel\":{\"align\":\"left\"},\"paper_bgcolor\":\"white\",\"plot_bgcolor\":\"#E5ECF6\",\"polar\":{\"bgcolor\":\"#E5ECF6\",\"angularaxis\":{\"gridcolor\":\"white\",\"linecolor\":\"white\",\"ticks\":\"\"},\"radialaxis\":{\"gridcolor\":\"white\",\"linecolor\":\"white\",\"ticks\":\"\"}},\"ternary\":{\"bgcolor\":\"#E5ECF6\",\"aaxis\":{\"gridcolor\":\"white\",\"linecolor\":\"white\",\"ticks\":\"\"},\"baxis\":{\"gridcolor\":\"white\",\"linecolor\":\"white\",\"ticks\":\"\"},\"caxis\":{\"gridcolor\":\"white\",\"linecolor\":\"white\",\"ticks\":\"\"}},\"coloraxis\":{\"colorbar\":{\"outlinewidth\":0,\"ticks\":\"\"}},\"colorscale\":{\"sequential\":[[0.0,\"#0d0887\"],[0.1111111111111111,\"#46039f\"],[0.2222222222222222,\"#7201a8\"],[0.3333333333333333,\"#9c179e\"],[0.4444444444444444,\"#bd3786\"],[0.5555555555555556,\"#d8576b\"],[0.6666666666666666,\"#ed7953\"],[0.7777777777777778,\"#fb9f3a\"],[0.8888888888888888,\"#fdca26\"],[1.0,\"#f0f921\"]],\"sequentialminus\":[[0.0,\"#0d0887\"],[0.1111111111111111,\"#46039f\"],[0.2222222222222222,\"#7201a8\"],[0.3333333333333333,\"#9c179e\"],[0.4444444444444444,\"#bd3786\"],[0.5555555555555556,\"#d8576b\"],[0.6666666666666666,\"#ed7953\"],[0.7777777777777778,\"#fb9f3a\"],[0.8888888888888888,\"#fdca26\"],[1.0,\"#f0f921\"]],\"diverging\":[[0,\"#8e0152\"],[0.1,\"#c51b7d\"],[0.2,\"#de77ae\"],[0.3,\"#f1b6da\"],[0.4,\"#fde0ef\"],[0.5,\"#f7f7f7\"],[0.6,\"#e6f5d0\"],[0.7,\"#b8e186\"],[0.8,\"#7fbc41\"],[0.9,\"#4d9221\"],[1,\"#276419\"]]},\"xaxis\":{\"gridcolor\":\"white\",\"linecolor\":\"white\",\"ticks\":\"\",\"title\":{\"standoff\":15},\"zerolinecolor\":\"white\",\"automargin\":true,\"zerolinewidth\":2},\"yaxis\":{\"gridcolor\":\"white\",\"linecolor\":\"white\",\"ticks\":\"\",\"title\":{\"standoff\":15},\"zerolinecolor\":\"white\",\"automargin\":true,\"zerolinewidth\":2},\"scene\":{\"xaxis\":{\"backgroundcolor\":\"#E5ECF6\",\"gridcolor\":\"white\",\"linecolor\":\"white\",\"showbackground\":true,\"ticks\":\"\",\"zerolinecolor\":\"white\",\"gridwidth\":2},\"yaxis\":{\"backgroundcolor\":\"#E5ECF6\",\"gridcolor\":\"white\",\"linecolor\":\"white\",\"showbackground\":true,\"ticks\":\"\",\"zerolinecolor\":\"white\",\"gridwidth\":2},\"zaxis\":{\"backgroundcolor\":\"#E5ECF6\",\"gridcolor\":\"white\",\"linecolor\":\"white\",\"showbackground\":true,\"ticks\":\"\",\"zerolinecolor\":\"white\",\"gridwidth\":2}},\"shapedefaults\":{\"line\":{\"color\":\"#2a3f5f\"}},\"annotationdefaults\":{\"arrowcolor\":\"#2a3f5f\",\"arrowhead\":0,\"arrowwidth\":1},\"geo\":{\"bgcolor\":\"white\",\"landcolor\":\"#E5ECF6\",\"subunitcolor\":\"white\",\"showland\":true,\"showlakes\":true,\"lakecolor\":\"white\"},\"title\":{\"x\":0.05},\"mapbox\":{\"style\":\"light\"}}},\"xaxis\":{\"anchor\":\"y\",\"domain\":[0.0,1.0],\"title\":{\"text\":\"Party\"},\"categoryorder\":\"array\",\"categoryarray\":[\"BJP\",\"INC\",\"IND\",\"SP\",\"DMK\",\"TDP\",\"NCPSP\",\"ASPKR\",\"RJD\",\"AITC\"]},\"yaxis\":{\"anchor\":\"x\",\"domain\":[0.0,1.0],\"title\":{\"text\":\"Criminal Records\"}},\"legend\":{\"title\":{\"text\":\"PARTY\"},\"tracegroupgap\":0,\"itemsizing\":\"constant\"},\"margin\":{\"t\":60},\"title\":{\"font\":{\"family\":\"Courier New\",\"color\":\"#351f39\"},\"text\":\"Top 10 Party-wise criminal records\"},\"font\":{\"family\":\"Courier New\",\"color\":\"#351f39\"}},                        {\"responsive\": true}                    ).then(function(){\n",
       "                            \n",
       "var gd = document.getElementById('390791f9-5604-409c-be43-5f779573155e');\n",
       "var x = new MutationObserver(function (mutations, observer) {{\n",
       "        var display = window.getComputedStyle(gd).display;\n",
       "        if (!display || display === 'none') {{\n",
       "            console.log([gd, 'removed!']);\n",
       "            Plotly.purge(gd);\n",
       "            observer.disconnect();\n",
       "        }}\n",
       "}});\n",
       "\n",
       "// Listen for the removal of the full notebook cells\n",
       "var notebookContainer = gd.closest('#notebook-container');\n",
       "if (notebookContainer) {{\n",
       "    x.observe(notebookContainer, {childList: true});\n",
       "}}\n",
       "\n",
       "// Listen for the clearing of the current output cell\n",
       "var outputEl = gd.closest('.output');\n",
       "if (outputEl) {{\n",
       "    x.observe(outputEl, {childList: true});\n",
       "}}\n",
       "\n",
       "                        })                };                });            </script>        </div>"
      ]
     },
     "metadata": {},
     "output_type": "display_data"
    }
   ],
   "source": [
    "# Create a dataframe of criminal records\n",
    "criminal_df = pd.DataFrame(data=df[df['WINNER'] == 1].groupby('PARTY')['CRIMINAL CASES'].sum())\n",
    "criminal_df.sort_values(by='CRIMINAL CASES', ascending=False, inplace=True)\n",
    "criminal_df.reset_index(level=0, inplace=True)\n",
    "criminal_df\n",
    "\n",
    "# Visualize the criminal records\n",
    "criminal_fig = px.scatter(criminal_df[:10], \n",
    "                 x='PARTY', \n",
    "                 y='CRIMINAL CASES', \n",
    "                 size='CRIMINAL CASES',\n",
    "                 color='PARTY',\n",
    "                 hover_data=['CRIMINAL CASES'])\n",
    "\n",
    "criminal_fig.update_layout(title_text='Top 10 Party-wise criminal records',\n",
    "                         font_family=\"Courier New\",\n",
    "                         font_color=\"#351f39\",\n",
    "                         title_font_family=\"Courier New\",\n",
    "                         title_font_color=\"#351f39\",\n",
    "                         xaxis_title=\"Party\",\n",
    "                         yaxis_title=\"Criminal Records\")\n",
    "\n",
    "criminal_fig.show()"
   ]
  },
  {
   "cell_type": "code",
   "execution_count": 26,
   "metadata": {
    "scrolled": true
   },
   "outputs": [
    {
     "data": {
      "text/html": [
       "<div>\n",
       "<style scoped>\n",
       "    .dataframe tbody tr th:only-of-type {\n",
       "        vertical-align: middle;\n",
       "    }\n",
       "\n",
       "    .dataframe tbody tr th {\n",
       "        vertical-align: top;\n",
       "    }\n",
       "\n",
       "    .dataframe thead th {\n",
       "        text-align: right;\n",
       "    }\n",
       "</style>\n",
       "<table border=\"1\" class=\"dataframe\">\n",
       "  <thead>\n",
       "    <tr style=\"text-align: right;\">\n",
       "      <th></th>\n",
       "      <th>STATE</th>\n",
       "      <th>CONSTITUENCY</th>\n",
       "      <th>NAME</th>\n",
       "      <th>WINNER</th>\n",
       "      <th>PARTY</th>\n",
       "      <th>SYMBOL</th>\n",
       "      <th>GENDER</th>\n",
       "      <th>CRIMINAL CASES</th>\n",
       "      <th>AGE</th>\n",
       "      <th>CATEGORY</th>\n",
       "      <th>...</th>\n",
       "      <th>ASSETS</th>\n",
       "      <th>LIABILITIES</th>\n",
       "      <th>GENERAL VOTES</th>\n",
       "      <th>POSTAL VOTES</th>\n",
       "      <th>TOTAL VOTES</th>\n",
       "      <th>TOTAL ELECTORS</th>\n",
       "      <th>TOTAL VOTING</th>\n",
       "      <th>OVER TOTAL ELECTORS IN CONSTITUENCY</th>\n",
       "      <th>OVER TOTAL VOTES POLLED IN CONSTITUENCY</th>\n",
       "      <th>Party New</th>\n",
       "    </tr>\n",
       "  </thead>\n",
       "  <tbody>\n",
       "    <tr>\n",
       "      <th>0</th>\n",
       "      <td>Andhra Pradesh</td>\n",
       "      <td>Araku</td>\n",
       "      <td>gumma thanuja rani</td>\n",
       "      <td>1</td>\n",
       "      <td>YSRCP</td>\n",
       "      <td>Ceiling fan</td>\n",
       "      <td>FEMALE</td>\n",
       "      <td>0</td>\n",
       "      <td>31.0</td>\n",
       "      <td>ST</td>\n",
       "      <td>...</td>\n",
       "      <td>2354678.0</td>\n",
       "      <td>0.0</td>\n",
       "      <td>471470</td>\n",
       "      <td>5535</td>\n",
       "      <td>477005</td>\n",
       "      <td>1557153</td>\n",
       "      <td>1113975</td>\n",
       "      <td>30.63</td>\n",
       "      <td>42.82</td>\n",
       "      <td>Other</td>\n",
       "    </tr>\n",
       "    <tr>\n",
       "      <th>1</th>\n",
       "      <td>Andhra Pradesh</td>\n",
       "      <td>Araku</td>\n",
       "      <td>kothapalli geetha</td>\n",
       "      <td>0</td>\n",
       "      <td>BJP</td>\n",
       "      <td>Lotus</td>\n",
       "      <td>FEMALE</td>\n",
       "      <td>2</td>\n",
       "      <td>53.0</td>\n",
       "      <td>ST</td>\n",
       "      <td>...</td>\n",
       "      <td>0.0</td>\n",
       "      <td>0.0</td>\n",
       "      <td>417113</td>\n",
       "      <td>9312</td>\n",
       "      <td>426425</td>\n",
       "      <td>1557153</td>\n",
       "      <td>1113975</td>\n",
       "      <td>27.38</td>\n",
       "      <td>38.28</td>\n",
       "      <td>BJP</td>\n",
       "    </tr>\n",
       "    <tr>\n",
       "      <th>2</th>\n",
       "      <td>Andhra Pradesh</td>\n",
       "      <td>Araku</td>\n",
       "      <td>appalanarasa pachipenta</td>\n",
       "      <td>0</td>\n",
       "      <td>CPI(M)</td>\n",
       "      <td>Hammer, Sickle and Star</td>\n",
       "      <td>MALE</td>\n",
       "      <td>4</td>\n",
       "      <td>41.0</td>\n",
       "      <td>ST</td>\n",
       "      <td>...</td>\n",
       "      <td>2925792.0</td>\n",
       "      <td>243125.0</td>\n",
       "      <td>119016</td>\n",
       "      <td>4113</td>\n",
       "      <td>123129</td>\n",
       "      <td>1557153</td>\n",
       "      <td>1113975</td>\n",
       "      <td>7.91</td>\n",
       "      <td>11.05</td>\n",
       "      <td>Other</td>\n",
       "    </tr>\n",
       "    <tr>\n",
       "      <th>3</th>\n",
       "      <td>Andhra Pradesh</td>\n",
       "      <td>Araku</td>\n",
       "      <td>avashya lahari . varam</td>\n",
       "      <td>0</td>\n",
       "      <td>BSP</td>\n",
       "      <td>Elephant</td>\n",
       "      <td>FEMALE</td>\n",
       "      <td>0</td>\n",
       "      <td>30.0</td>\n",
       "      <td>ST</td>\n",
       "      <td>...</td>\n",
       "      <td>5390634.0</td>\n",
       "      <td>1627956.0</td>\n",
       "      <td>24858</td>\n",
       "      <td>892</td>\n",
       "      <td>25750</td>\n",
       "      <td>1557153</td>\n",
       "      <td>1113975</td>\n",
       "      <td>1.65</td>\n",
       "      <td>2.31</td>\n",
       "      <td>Other</td>\n",
       "    </tr>\n",
       "    <tr>\n",
       "      <th>4</th>\n",
       "      <td>Andhra Pradesh</td>\n",
       "      <td>Araku</td>\n",
       "      <td>samareddy balakrishna</td>\n",
       "      <td>0</td>\n",
       "      <td>IND</td>\n",
       "      <td>Gas cylinder</td>\n",
       "      <td>MALE</td>\n",
       "      <td>0</td>\n",
       "      <td>48.0</td>\n",
       "      <td>ST</td>\n",
       "      <td>...</td>\n",
       "      <td>0.0</td>\n",
       "      <td>0.0</td>\n",
       "      <td>9493</td>\n",
       "      <td>42</td>\n",
       "      <td>9535</td>\n",
       "      <td>1557153</td>\n",
       "      <td>1113975</td>\n",
       "      <td>0.61</td>\n",
       "      <td>0.86</td>\n",
       "      <td>IND</td>\n",
       "    </tr>\n",
       "  </tbody>\n",
       "</table>\n",
       "<p>5 rows × 21 columns</p>\n",
       "</div>"
      ],
      "text/plain": [
       "            STATE CONSTITUENCY                     NAME  WINNER   PARTY  \\\n",
       "0  Andhra Pradesh        Araku       gumma thanuja rani       1   YSRCP   \n",
       "1  Andhra Pradesh        Araku        kothapalli geetha       0     BJP   \n",
       "2  Andhra Pradesh        Araku  appalanarasa pachipenta       0  CPI(M)   \n",
       "3  Andhra Pradesh        Araku   avashya lahari . varam       0     BSP   \n",
       "4  Andhra Pradesh        Araku    samareddy balakrishna       0     IND   \n",
       "\n",
       "                    SYMBOL  GENDER  CRIMINAL CASES   AGE CATEGORY  ...  \\\n",
       "0              Ceiling fan  FEMALE               0  31.0       ST  ...   \n",
       "1                    Lotus  FEMALE               2  53.0       ST  ...   \n",
       "2  Hammer, Sickle and Star    MALE               4  41.0       ST  ...   \n",
       "3                 Elephant  FEMALE               0  30.0       ST  ...   \n",
       "4             Gas cylinder    MALE               0  48.0       ST  ...   \n",
       "\n",
       "      ASSETS  LIABILITIES  GENERAL VOTES  POSTAL VOTES  TOTAL VOTES  \\\n",
       "0  2354678.0          0.0         471470          5535       477005   \n",
       "1        0.0          0.0         417113          9312       426425   \n",
       "2  2925792.0     243125.0         119016          4113       123129   \n",
       "3  5390634.0    1627956.0          24858           892        25750   \n",
       "4        0.0          0.0           9493            42         9535   \n",
       "\n",
       "   TOTAL ELECTORS  TOTAL VOTING  OVER TOTAL ELECTORS IN CONSTITUENCY  \\\n",
       "0         1557153       1113975                                30.63   \n",
       "1         1557153       1113975                                27.38   \n",
       "2         1557153       1113975                                 7.91   \n",
       "3         1557153       1113975                                 1.65   \n",
       "4         1557153       1113975                                 0.61   \n",
       "\n",
       "   OVER TOTAL VOTES POLLED IN CONSTITUENCY  Party New  \n",
       "0                                    42.82      Other  \n",
       "1                                    38.28        BJP  \n",
       "2                                    11.05      Other  \n",
       "3                                     2.31      Other  \n",
       "4                                     0.86        IND  \n",
       "\n",
       "[5 rows x 21 columns]"
      ]
     },
     "execution_count": 26,
     "metadata": {},
     "output_type": "execute_result"
    }
   ],
   "source": [
    "# This is the dataset which will be used for fitting Machine Learning models\n",
    "df.head()"
   ]
  },
  {
   "cell_type": "code",
   "execution_count": 27,
   "metadata": {},
   "outputs": [
    {
     "data": {
      "text/html": [
       "<div>\n",
       "<style scoped>\n",
       "    .dataframe tbody tr th:only-of-type {\n",
       "        vertical-align: middle;\n",
       "    }\n",
       "\n",
       "    .dataframe tbody tr th {\n",
       "        vertical-align: top;\n",
       "    }\n",
       "\n",
       "    .dataframe thead th {\n",
       "        text-align: right;\n",
       "    }\n",
       "</style>\n",
       "<table border=\"1\" class=\"dataframe\">\n",
       "  <thead>\n",
       "    <tr style=\"text-align: right;\">\n",
       "      <th></th>\n",
       "      <th>STATE</th>\n",
       "      <th>CONSTITUENCY</th>\n",
       "      <th>NAME</th>\n",
       "      <th>WINNER</th>\n",
       "      <th>PARTY</th>\n",
       "      <th>SYMBOL</th>\n",
       "      <th>GENDER</th>\n",
       "      <th>CRIMINAL CASES</th>\n",
       "      <th>AGE</th>\n",
       "      <th>CATEGORY</th>\n",
       "      <th>...</th>\n",
       "      <th>ASSETS</th>\n",
       "      <th>LIABILITIES</th>\n",
       "      <th>GENERAL VOTES</th>\n",
       "      <th>POSTAL VOTES</th>\n",
       "      <th>TOTAL VOTES</th>\n",
       "      <th>TOTAL ELECTORS</th>\n",
       "      <th>TOTAL VOTING</th>\n",
       "      <th>OVER TOTAL ELECTORS IN CONSTITUENCY</th>\n",
       "      <th>OVER TOTAL VOTES POLLED IN CONSTITUENCY</th>\n",
       "      <th>Party New</th>\n",
       "    </tr>\n",
       "  </thead>\n",
       "  <tbody>\n",
       "    <tr>\n",
       "      <th>0</th>\n",
       "      <td>Andhra Pradesh</td>\n",
       "      <td>Araku</td>\n",
       "      <td>gumma thanuja rani</td>\n",
       "      <td>1</td>\n",
       "      <td>YSRCP</td>\n",
       "      <td>Ceiling fan</td>\n",
       "      <td>FEMALE</td>\n",
       "      <td>0</td>\n",
       "      <td>31.0</td>\n",
       "      <td>ST</td>\n",
       "      <td>...</td>\n",
       "      <td>2354678.0</td>\n",
       "      <td>0.0</td>\n",
       "      <td>471470</td>\n",
       "      <td>5535</td>\n",
       "      <td>477005</td>\n",
       "      <td>1557153</td>\n",
       "      <td>1113975</td>\n",
       "      <td>30.63</td>\n",
       "      <td>42.82</td>\n",
       "      <td>Other</td>\n",
       "    </tr>\n",
       "    <tr>\n",
       "      <th>1</th>\n",
       "      <td>Andhra Pradesh</td>\n",
       "      <td>Araku</td>\n",
       "      <td>kothapalli geetha</td>\n",
       "      <td>0</td>\n",
       "      <td>BJP</td>\n",
       "      <td>Lotus</td>\n",
       "      <td>FEMALE</td>\n",
       "      <td>2</td>\n",
       "      <td>53.0</td>\n",
       "      <td>ST</td>\n",
       "      <td>...</td>\n",
       "      <td>0.0</td>\n",
       "      <td>0.0</td>\n",
       "      <td>417113</td>\n",
       "      <td>9312</td>\n",
       "      <td>426425</td>\n",
       "      <td>1557153</td>\n",
       "      <td>1113975</td>\n",
       "      <td>27.38</td>\n",
       "      <td>38.28</td>\n",
       "      <td>BJP</td>\n",
       "    </tr>\n",
       "    <tr>\n",
       "      <th>2</th>\n",
       "      <td>Andhra Pradesh</td>\n",
       "      <td>Araku</td>\n",
       "      <td>appalanarasa pachipenta</td>\n",
       "      <td>0</td>\n",
       "      <td>CPI(M)</td>\n",
       "      <td>Hammer, Sickle and Star</td>\n",
       "      <td>MALE</td>\n",
       "      <td>4</td>\n",
       "      <td>41.0</td>\n",
       "      <td>ST</td>\n",
       "      <td>...</td>\n",
       "      <td>2925792.0</td>\n",
       "      <td>243125.0</td>\n",
       "      <td>119016</td>\n",
       "      <td>4113</td>\n",
       "      <td>123129</td>\n",
       "      <td>1557153</td>\n",
       "      <td>1113975</td>\n",
       "      <td>7.91</td>\n",
       "      <td>11.05</td>\n",
       "      <td>Other</td>\n",
       "    </tr>\n",
       "    <tr>\n",
       "      <th>3</th>\n",
       "      <td>Andhra Pradesh</td>\n",
       "      <td>Araku</td>\n",
       "      <td>avashya lahari . varam</td>\n",
       "      <td>0</td>\n",
       "      <td>BSP</td>\n",
       "      <td>Elephant</td>\n",
       "      <td>FEMALE</td>\n",
       "      <td>0</td>\n",
       "      <td>30.0</td>\n",
       "      <td>ST</td>\n",
       "      <td>...</td>\n",
       "      <td>5390634.0</td>\n",
       "      <td>1627956.0</td>\n",
       "      <td>24858</td>\n",
       "      <td>892</td>\n",
       "      <td>25750</td>\n",
       "      <td>1557153</td>\n",
       "      <td>1113975</td>\n",
       "      <td>1.65</td>\n",
       "      <td>2.31</td>\n",
       "      <td>Other</td>\n",
       "    </tr>\n",
       "    <tr>\n",
       "      <th>4</th>\n",
       "      <td>Andhra Pradesh</td>\n",
       "      <td>Araku</td>\n",
       "      <td>samareddy balakrishna</td>\n",
       "      <td>0</td>\n",
       "      <td>IND</td>\n",
       "      <td>Gas cylinder</td>\n",
       "      <td>MALE</td>\n",
       "      <td>0</td>\n",
       "      <td>48.0</td>\n",
       "      <td>ST</td>\n",
       "      <td>...</td>\n",
       "      <td>0.0</td>\n",
       "      <td>0.0</td>\n",
       "      <td>9493</td>\n",
       "      <td>42</td>\n",
       "      <td>9535</td>\n",
       "      <td>1557153</td>\n",
       "      <td>1113975</td>\n",
       "      <td>0.61</td>\n",
       "      <td>0.86</td>\n",
       "      <td>IND</td>\n",
       "    </tr>\n",
       "  </tbody>\n",
       "</table>\n",
       "<p>5 rows × 21 columns</p>\n",
       "</div>"
      ],
      "text/plain": [
       "            STATE CONSTITUENCY                     NAME  WINNER   PARTY  \\\n",
       "0  Andhra Pradesh        Araku       gumma thanuja rani       1   YSRCP   \n",
       "1  Andhra Pradesh        Araku        kothapalli geetha       0     BJP   \n",
       "2  Andhra Pradesh        Araku  appalanarasa pachipenta       0  CPI(M)   \n",
       "3  Andhra Pradesh        Araku   avashya lahari . varam       0     BSP   \n",
       "4  Andhra Pradesh        Araku    samareddy balakrishna       0     IND   \n",
       "\n",
       "                    SYMBOL  GENDER  CRIMINAL CASES   AGE CATEGORY  ...  \\\n",
       "0              Ceiling fan  FEMALE               0  31.0       ST  ...   \n",
       "1                    Lotus  FEMALE               2  53.0       ST  ...   \n",
       "2  Hammer, Sickle and Star    MALE               4  41.0       ST  ...   \n",
       "3                 Elephant  FEMALE               0  30.0       ST  ...   \n",
       "4             Gas cylinder    MALE               0  48.0       ST  ...   \n",
       "\n",
       "      ASSETS  LIABILITIES  GENERAL VOTES  POSTAL VOTES  TOTAL VOTES  \\\n",
       "0  2354678.0          0.0         471470          5535       477005   \n",
       "1        0.0          0.0         417113          9312       426425   \n",
       "2  2925792.0     243125.0         119016          4113       123129   \n",
       "3  5390634.0    1627956.0          24858           892        25750   \n",
       "4        0.0          0.0           9493            42         9535   \n",
       "\n",
       "   TOTAL ELECTORS  TOTAL VOTING  OVER TOTAL ELECTORS IN CONSTITUENCY  \\\n",
       "0         1557153       1113975                                30.63   \n",
       "1         1557153       1113975                                27.38   \n",
       "2         1557153       1113975                                 7.91   \n",
       "3         1557153       1113975                                 1.65   \n",
       "4         1557153       1113975                                 0.61   \n",
       "\n",
       "   OVER TOTAL VOTES POLLED IN CONSTITUENCY  Party New  \n",
       "0                                    42.82      Other  \n",
       "1                                    38.28        BJP  \n",
       "2                                    11.05      Other  \n",
       "3                                     2.31      Other  \n",
       "4                                     0.86        IND  \n",
       "\n",
       "[5 rows x 21 columns]"
      ]
     },
     "execution_count": 27,
     "metadata": {},
     "output_type": "execute_result"
    }
   ],
   "source": [
    "# Labeling parties with less than 10 candidates as others\n",
    "less_candidates = []\n",
    "for i, j in df['PARTY'].value_counts().items():\n",
    "    if j <= 10:\n",
    "        less_candidates.append(i)\n",
    "len(less_candidates)\n",
    "\n",
    "def small_party(data):\n",
    "    if data in less_candidates:\n",
    "        return 'Other'\n",
    "    return data\n",
    "df['PARTY'] = df['PARTY'].apply(small_party)\n",
    "df['PARTY'].value_counts()\n",
    "\n",
    "df.head()"
   ]
  },
  {
   "cell_type": "code",
   "execution_count": 28,
   "metadata": {},
   "outputs": [
    {
     "data": {
      "text/html": [
       "<div>\n",
       "<style scoped>\n",
       "    .dataframe tbody tr th:only-of-type {\n",
       "        vertical-align: middle;\n",
       "    }\n",
       "\n",
       "    .dataframe tbody tr th {\n",
       "        vertical-align: top;\n",
       "    }\n",
       "\n",
       "    .dataframe thead th {\n",
       "        text-align: right;\n",
       "    }\n",
       "</style>\n",
       "<table border=\"1\" class=\"dataframe\">\n",
       "  <thead>\n",
       "    <tr style=\"text-align: right;\">\n",
       "      <th></th>\n",
       "      <th>STATE</th>\n",
       "      <th>PARTY</th>\n",
       "      <th>GENDER</th>\n",
       "      <th>CRIMINAL CASES</th>\n",
       "      <th>AGE</th>\n",
       "      <th>CATEGORY</th>\n",
       "      <th>EDUCATION</th>\n",
       "      <th>ASSETS</th>\n",
       "      <th>LIABILITIES</th>\n",
       "      <th>TOTAL ELECTORS</th>\n",
       "      <th>TOTAL VOTING</th>\n",
       "    </tr>\n",
       "  </thead>\n",
       "  <tbody>\n",
       "    <tr>\n",
       "      <th>0</th>\n",
       "      <td>Andhra Pradesh</td>\n",
       "      <td>YSRCP</td>\n",
       "      <td>FEMALE</td>\n",
       "      <td>0</td>\n",
       "      <td>31.0</td>\n",
       "      <td>ST</td>\n",
       "      <td>Graduate Professional</td>\n",
       "      <td>2354678.0</td>\n",
       "      <td>0.0</td>\n",
       "      <td>1557153</td>\n",
       "      <td>1113975</td>\n",
       "    </tr>\n",
       "    <tr>\n",
       "      <th>1</th>\n",
       "      <td>Andhra Pradesh</td>\n",
       "      <td>BJP</td>\n",
       "      <td>FEMALE</td>\n",
       "      <td>2</td>\n",
       "      <td>53.0</td>\n",
       "      <td>ST</td>\n",
       "      <td>Post Graduate</td>\n",
       "      <td>0.0</td>\n",
       "      <td>0.0</td>\n",
       "      <td>1557153</td>\n",
       "      <td>1113975</td>\n",
       "    </tr>\n",
       "    <tr>\n",
       "      <th>2</th>\n",
       "      <td>Andhra Pradesh</td>\n",
       "      <td>CPI(M)</td>\n",
       "      <td>MALE</td>\n",
       "      <td>4</td>\n",
       "      <td>41.0</td>\n",
       "      <td>ST</td>\n",
       "      <td>Post Graduate</td>\n",
       "      <td>2925792.0</td>\n",
       "      <td>243125.0</td>\n",
       "      <td>1557153</td>\n",
       "      <td>1113975</td>\n",
       "    </tr>\n",
       "    <tr>\n",
       "      <th>3</th>\n",
       "      <td>Andhra Pradesh</td>\n",
       "      <td>BSP</td>\n",
       "      <td>FEMALE</td>\n",
       "      <td>0</td>\n",
       "      <td>30.0</td>\n",
       "      <td>ST</td>\n",
       "      <td>Graduate Professional</td>\n",
       "      <td>5390634.0</td>\n",
       "      <td>1627956.0</td>\n",
       "      <td>1557153</td>\n",
       "      <td>1113975</td>\n",
       "    </tr>\n",
       "    <tr>\n",
       "      <th>4</th>\n",
       "      <td>Andhra Pradesh</td>\n",
       "      <td>IND</td>\n",
       "      <td>MALE</td>\n",
       "      <td>0</td>\n",
       "      <td>48.0</td>\n",
       "      <td>ST</td>\n",
       "      <td>Post Graduate</td>\n",
       "      <td>0.0</td>\n",
       "      <td>0.0</td>\n",
       "      <td>1557153</td>\n",
       "      <td>1113975</td>\n",
       "    </tr>\n",
       "  </tbody>\n",
       "</table>\n",
       "</div>"
      ],
      "text/plain": [
       "            STATE   PARTY  GENDER  CRIMINAL CASES   AGE CATEGORY  \\\n",
       "0  Andhra Pradesh   YSRCP  FEMALE               0  31.0       ST   \n",
       "1  Andhra Pradesh     BJP  FEMALE               2  53.0       ST   \n",
       "2  Andhra Pradesh  CPI(M)    MALE               4  41.0       ST   \n",
       "3  Andhra Pradesh     BSP  FEMALE               0  30.0       ST   \n",
       "4  Andhra Pradesh     IND    MALE               0  48.0       ST   \n",
       "\n",
       "               EDUCATION     ASSETS  LIABILITIES  TOTAL ELECTORS  TOTAL VOTING  \n",
       "0  Graduate Professional  2354678.0          0.0         1557153       1113975  \n",
       "1          Post Graduate        0.0          0.0         1557153       1113975  \n",
       "2          Post Graduate  2925792.0     243125.0         1557153       1113975  \n",
       "3  Graduate Professional  5390634.0    1627956.0         1557153       1113975  \n",
       "4          Post Graduate        0.0          0.0         1557153       1113975  "
      ]
     },
     "execution_count": 28,
     "metadata": {},
     "output_type": "execute_result"
    }
   ],
   "source": [
    "X = df.drop(['NAME', 'SYMBOL', 'WINNER', 'GENERAL VOTES', 'POSTAL VOTES', 'TOTAL VOTES', 'OVER TOTAL ELECTORS IN CONSTITUENCY', \n",
    "             'OVER TOTAL VOTES POLLED IN CONSTITUENCY', 'Party New', 'CONSTITUENCY'], axis=1)\n",
    "y = df['WINNER']\n",
    "X.head()"
   ]
  },
  {
   "cell_type": "code",
   "execution_count": 29,
   "metadata": {},
   "outputs": [],
   "source": [
    "# Creating training and test dataset\n",
    "X_train, X_test, y_train, y_test = train_test_split(X, y, test_size=0.30, random_state=42)"
   ]
  },
  {
   "cell_type": "code",
   "execution_count": 30,
   "metadata": {},
   "outputs": [],
   "source": [
    "categorical = []\n",
    "numerical = []\n",
    "\n",
    "# Converting Strings to Category\n",
    "for label, content in X.items():\n",
    "    if pd.api.types.is_string_dtype(content):\n",
    "        X[label] = content.astype(\"category\")\n",
    "        categorical.append(label)\n",
    "\n",
    "    if pd.api.types.is_numeric_dtype(content):\n",
    "        numerical.append(label)"
   ]
  },
  {
   "cell_type": "code",
   "execution_count": 31,
   "metadata": {},
   "outputs": [],
   "source": [
    "# Initializing the StandardScaler()\n",
    "scaler = MinMaxScaler()\n",
    "encoder = OrdinalEncoder()\n",
    "\n",
    "# Encoding the categorical columns\n",
    "for cat in categorical:\n",
    "    label_fit = encoder.fit(np.array(X[cat]).reshape(-1, 1))\n",
    "    X_train[cat] = label_fit.transform(np.array(X_train[cat]).reshape(-1, 1))\n",
    "    X_test[cat] = label_fit.transform(np.array(X_test[cat]).reshape(-1, 1))\n",
    "    \n",
    "# Scaling the dataset\n",
    "scaler_fit = scaler.fit(X[numerical])\n",
    "X_train[numerical] = scaler_fit.transform(X_train[numerical])\n",
    "X_test[numerical] = scaler_fit.transform(X_test[numerical])"
   ]
  },
  {
   "cell_type": "code",
   "execution_count": 32,
   "metadata": {},
   "outputs": [],
   "source": [
    "# Encoding the target\n",
    "target_enc = LabelEncoder().fit(y_train)\n",
    "y_train = target_enc.transform(y_train)\n",
    "y_test = target_enc.transform(y_test)"
   ]
  },
  {
   "cell_type": "code",
   "execution_count": 33,
   "metadata": {},
   "outputs": [
    {
     "data": {
      "text/plain": [
       "Counter({0: 5465, 1: 386})"
      ]
     },
     "execution_count": 33,
     "metadata": {},
     "output_type": "execute_result"
    }
   ],
   "source": [
    "Counter(y_train)"
   ]
  },
  {
   "cell_type": "code",
   "execution_count": 34,
   "metadata": {},
   "outputs": [
    {
     "name": "stdout",
     "output_type": "stream",
     "text": [
      "Counter({0: 5465, 1: 5465})\n"
     ]
    }
   ],
   "source": [
    "oversample = SMOTE()\n",
    "X_train, y_train = oversample.fit_resample(X_train, y_train)\n",
    "counter = Counter(y_train)\n",
    "print(counter)"
   ]
  },
  {
   "cell_type": "code",
   "execution_count": 35,
   "metadata": {},
   "outputs": [],
   "source": [
    "np.random.seed(42)\n",
    "\n",
    "# Create a dictionary of the models to experiment\n",
    "models = {\n",
    "          \"K-Nearest Neighbors\" : KNeighborsClassifier(),\n",
    "          \"Logistic Regression\"  : LogisticRegression(),\n",
    "         }\n",
    "\n",
    "# Create a function to fit and score the models\n",
    "def fit_and_score(models, X_train, y_train, X_test, y_test):\n",
    "    '''\n",
    "    Fits and evaluates the machine learning models.\n",
    "    models : a dict of different Scikit-Learn machine learning models.\n",
    "    X_train : training data (no labels)\n",
    "    y_train : training lables\n",
    "    X_test : testing data (no labels)\n",
    "    y_test : testing lables\n",
    "    '''\n",
    "    train_model_scores_acc = {}\n",
    "    train_model_scores_pre = {}\n",
    "    train_model_scores_rec = {}\n",
    "    train_model_scores_f1 = {}\n",
    "    \n",
    "    test_model_scores_acc = {}\n",
    "    test_model_scores_pre = {}\n",
    "    test_model_scores_rec = {}\n",
    "    test_model_scores_f1 = {}\n",
    "    \n",
    "    train_model_timing = {}\n",
    "    \n",
    "    for name, model in models.items():\n",
    "        start = time.time()\n",
    "        train_model_scores_acc[name] = np.mean(cross_val_score(model, X_train, y_train, cv=10, n_jobs=-1, scoring='accuracy')) * 100\n",
    "        train_model_scores_pre[name] = np.mean(cross_val_score(model, X_train, y_train, cv=10, n_jobs=-1, scoring='precision')) * 100\n",
    "        train_model_scores_rec[name] = np.mean(cross_val_score(model, X_train, y_train, cv=10, n_jobs=-1, scoring='recall')) * 100\n",
    "        train_model_scores_f1[name] = np.mean(cross_val_score(model, X_train, y_train, cv=10, n_jobs=-1, scoring='f1')) * 100\n",
    "        stop = time.time()\n",
    "        timing = stop - start\n",
    "        train_model_timing[name] = timing\n",
    "        \n",
    "        model.fit(X_train, y_train)\n",
    "        pred = model.predict(X_test)\n",
    "        \n",
    "        test_model_scores_acc[name] = accuracy_score(y_test, pred) * 100\n",
    "        test_model_scores_pre[name] = precision_score(y_test, pred) * 100\n",
    "        test_model_scores_rec[name] = recall_score(y_test, pred) * 100\n",
    "        test_model_scores_f1[name] = f1_score(y_test, pred) * 100\n",
    "        \n",
    "    # Create dictionary for oil scores\n",
    "    scores = {'Training Accuracy': train_model_scores_acc,\n",
    "              'Training Precision': train_model_scores_pre,\n",
    "              'Training Recall': train_model_scores_rec,\n",
    "              'Training F1': train_model_scores_f1,\n",
    "              'Test Accuracy':  test_model_scores_acc,\n",
    "              'Test Precision': test_model_scores_pre,\n",
    "              'Test Recall': test_model_scores_rec,\n",
    "              'Test F1': test_model_scores_f1,\n",
    "              '10-Fold CV Timing (seconds)': train_model_timing\n",
    "             }\n",
    "\n",
    "    # Create dataframe of scores\n",
    "    scores_df = pd.DataFrame(scores)\n",
    "\n",
    "    scores_df.rename_axis('Model', inplace=True)\n",
    "    scores_df.reset_index(inplace=True)\n",
    "    scores_df.sort_values('Test Accuracy', ascending=False, inplace=True)\n",
    "    return scores_df"
   ]
  },
  {
   "cell_type": "code",
   "execution_count": 36,
   "metadata": {},
   "outputs": [
    {
     "name": "stderr",
     "output_type": "stream",
     "text": [
      "C:\\Users\\Hp\\AppData\\Local\\Packages\\PythonSoftwareFoundation.Python.3.11_qbz5n2kfra8p0\\LocalCache\\local-packages\\Python311\\site-packages\\sklearn\\linear_model\\_logistic.py:465: ConvergenceWarning:\n",
      "\n",
      "lbfgs failed to converge (status=1):\n",
      "STOP: TOTAL NO. OF ITERATIONS REACHED LIMIT.\n",
      "\n",
      "Increase the number of iterations (max_iter) or scale the data as shown in:\n",
      "    https://scikit-learn.org/stable/modules/preprocessing.html\n",
      "Please also refer to the documentation for alternative solver options:\n",
      "    https://scikit-learn.org/stable/modules/linear_model.html#logistic-regression\n",
      "\n"
     ]
    }
   ],
   "source": [
    "score_df = fit_and_score(models, X_train, y_train, X_test, y_test)"
   ]
  },
  {
   "cell_type": "code",
   "execution_count": 37,
   "metadata": {},
   "outputs": [
    {
     "data": {
      "text/html": [
       "<div>\n",
       "<style scoped>\n",
       "    .dataframe tbody tr th:only-of-type {\n",
       "        vertical-align: middle;\n",
       "    }\n",
       "\n",
       "    .dataframe tbody tr th {\n",
       "        vertical-align: top;\n",
       "    }\n",
       "\n",
       "    .dataframe thead th {\n",
       "        text-align: right;\n",
       "    }\n",
       "</style>\n",
       "<table border=\"1\" class=\"dataframe\">\n",
       "  <thead>\n",
       "    <tr style=\"text-align: right;\">\n",
       "      <th></th>\n",
       "      <th>Model</th>\n",
       "      <th>Training Accuracy</th>\n",
       "      <th>Training Precision</th>\n",
       "      <th>Training Recall</th>\n",
       "      <th>Training F1</th>\n",
       "      <th>Test Accuracy</th>\n",
       "      <th>Test Precision</th>\n",
       "      <th>Test Recall</th>\n",
       "      <th>Test F1</th>\n",
       "      <th>10-Fold CV Timing (seconds)</th>\n",
       "    </tr>\n",
       "  </thead>\n",
       "  <tbody>\n",
       "    <tr>\n",
       "      <th>0</th>\n",
       "      <td>K-Nearest Neighbors</td>\n",
       "      <td>93.787740</td>\n",
       "      <td>91.137884</td>\n",
       "      <td>97.017096</td>\n",
       "      <td>93.983634</td>\n",
       "      <td>89.712919</td>\n",
       "      <td>39.943343</td>\n",
       "      <td>75.401070</td>\n",
       "      <td>52.222222</td>\n",
       "      <td>9.313187</td>\n",
       "    </tr>\n",
       "    <tr>\n",
       "      <th>1</th>\n",
       "      <td>Logistic Regression</td>\n",
       "      <td>70.301921</td>\n",
       "      <td>70.121206</td>\n",
       "      <td>70.757914</td>\n",
       "      <td>70.423654</td>\n",
       "      <td>68.899522</td>\n",
       "      <td>14.320096</td>\n",
       "      <td>63.636364</td>\n",
       "      <td>23.379175</td>\n",
       "      <td>3.202303</td>\n",
       "    </tr>\n",
       "  </tbody>\n",
       "</table>\n",
       "</div>"
      ],
      "text/plain": [
       "                 Model  Training Accuracy  Training Precision  \\\n",
       "0  K-Nearest Neighbors          93.787740           91.137884   \n",
       "1  Logistic Regression          70.301921           70.121206   \n",
       "\n",
       "   Training Recall  Training F1  Test Accuracy  Test Precision  Test Recall  \\\n",
       "0        97.017096    93.983634      89.712919       39.943343    75.401070   \n",
       "1        70.757914    70.423654      68.899522       14.320096    63.636364   \n",
       "\n",
       "     Test F1  10-Fold CV Timing (seconds)  \n",
       "0  52.222222                     9.313187  \n",
       "1  23.379175                     3.202303  "
      ]
     },
     "execution_count": 37,
     "metadata": {},
     "output_type": "execute_result"
    }
   ],
   "source": [
    "score_df"
   ]
  },
  {
   "cell_type": "code",
   "execution_count": 50,
   "metadata": {},
   "outputs": [],
   "source": [
    "# Fitting the final model\n",
    "final_model = xgb.XGBClassifier(n_jobs=-1)\n",
    "final_model.fit(X_train, y_train)\n",
    "\n",
    "# Making predictions\n",
    "pred = final_model.predict(X_test)"
   ]
  },
  {
   "cell_type": "code",
   "execution_count": 51,
   "metadata": {},
   "outputs": [
    {
     "data": {
      "text/plain": [
       "<Axes: title={'center': 'Feature importance'}, xlabel='F score', ylabel='Features'>"
      ]
     },
     "execution_count": 51,
     "metadata": {},
     "output_type": "execute_result"
    },
    {
     "data": {
      "image/png": "[encoded data removed]",
      "text/plain": [
       "<Figure size 640x480 with 1 Axes>"
      ]
     },
     "metadata": {},
     "output_type": "display_data"
    }
   ],
   "source": [
    "xgb.plot_importance(final_model)"
   ]
  },
  {
   "cell_type": "code",
   "execution_count": 40,
   "metadata": {},
   "outputs": [
    {
     "name": "stdout",
     "output_type": "stream",
     "text": [
      "              precision    recall  f1-score   support\n",
      "\n",
      "           0       0.96      0.97      0.97      2321\n",
      "           1       0.58      0.52      0.55       187\n",
      "\n",
      "    accuracy                           0.94      2508\n",
      "   macro avg       0.77      0.75      0.76      2508\n",
      "weighted avg       0.93      0.94      0.93      2508\n",
      "\n"
     ]
    }
   ],
   "source": [
    "print(classification_report(y_test, pred))"
   ]
  },
  {
   "cell_type": "code",
   "execution_count": 44,
   "metadata": {},
   "outputs": [
    {
     "data": {
      "image/png": "[encoded data removed]",
      "text/plain": [
       "<Figure size 640x480 with 2 Axes>"
      ]
     },
     "metadata": {},
     "output_type": "display_data"
    }
   ],
   "source": [
    "sns.heatmap(confusion_matrix(y_test, pred), cmap= \"Blues\", annot=True, fmt='')\n",
    "\n",
    "plt.xlabel(\"Model Predicted Values\")\n",
    "plt.ylabel(\"Actual Values\")\n",
    "plt.title(\"Confusion Matrix Heatmap\")\n",
    "plt.show()"
   ]
  }
 ],
 "metadata": {
  "kernelspec": {
   "display_name": "Python 3",
   "language": "python",
   "name": "python3"
  },
  "language_info": {
   "codemirror_mode": {
    "name": "ipython",
    "version": 3
   },
   "file_extension": ".py",
   "mimetype": "text/x-python",
   "name": "python",
   "nbconvert_exporter": "python",
   "pygments_lexer": "ipython3",
   "version": "3.11.9"
  }
 },
 "nbformat": 4,
 "nbformat_minor": 4
}
