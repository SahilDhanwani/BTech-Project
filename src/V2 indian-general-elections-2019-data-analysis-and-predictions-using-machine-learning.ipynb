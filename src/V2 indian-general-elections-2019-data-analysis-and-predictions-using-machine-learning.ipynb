{
 "cells": [
  {
   "cell_type": "code",
   "execution_count": 8,
   "metadata": {},
   "outputs": [
    {
     "data": {
      "text/html": [
       "        <script type=\"text/javascript\">\n",
       "        window.PlotlyConfig = {MathJaxConfig: 'local'};\n",
       "        if (window.MathJax && window.MathJax.Hub && window.MathJax.Hub.Config) {window.MathJax.Hub.Config({SVG: {font: \"STIX-Web\"}});}\n",
       "        if (typeof require !== 'undefined') {\n",
       "        require.undef(\"plotly\");\n",
       "        requirejs.config({\n",
       "            paths: {\n",
       "                'plotly': ['https://cdn.plot.ly/plotly-2.27.0.min']\n",
       "            }\n",
       "        });\n",
       "        require(['plotly'], function(Plotly) {\n",
       "            window._Plotly = Plotly;\n",
       "        });\n",
       "        }\n",
       "        </script>\n",
       "        "
      ]
     },
     "metadata": {},
     "output_type": "display_data"
    }
   ],
   "source": [
    "# Import numpy, pandas for data manipulation\n",
    "import numpy as np\n",
    "import pandas as pd\n",
    "from collections import Counter\n",
    "import time\n",
    "\n",
    "# Import plotly, matplotlib and seaborn as visualization tools\n",
    "import matplotlib.pyplot as plt\n",
    "from plotly import tools\n",
    "import chart_studio.plotly as py\n",
    "import plotly.graph_objs as go\n",
    "import plotly.figure_factory as ff\n",
    "import plotly.express as px\n",
    "from plotly.subplots import make_subplots\n",
    "from plotly.offline import download_plotlyjs, init_notebook_mode\n",
    "import seaborn as sns\n",
    "\n",
    "# Import for resampling the data\n",
    "from imblearn.over_sampling import SMOTE\n",
    "\n",
    "# Import for scaling the data\n",
    "from sklearn.preprocessing import MinMaxScaler, OrdinalEncoder, LabelEncoder\n",
    "\n",
    "# Import machine learning models\n",
    "from sklearn.ensemble import RandomForestClassifier, GradientBoostingClassifier, AdaBoostClassifier\n",
    "from sklearn.svm import SVC\n",
    "from sklearn.neighbors import KNeighborsClassifier\n",
    "from sklearn.linear_model import LogisticRegression\n",
    "import xgboost as xgb\n",
    "from catboost import CatBoostClassifier\n",
    "import lightgbm as lgb\n",
    "from sklearn.tree import DecisionTreeClassifier\n",
    "\n",
    "# Import model evaluation metrics\n",
    "from sklearn.metrics import RocCurveDisplay\n",
    "from sklearn.metrics import accuracy_score, precision_score, recall_score, f1_score\n",
    "from sklearn.model_selection import train_test_split, cross_val_score\n",
    "from sklearn.model_selection import RandomizedSearchCV, GridSearchCV\n",
    "\n",
    "# Plot should appear inside the jupyter notebook\n",
    "%matplotlib inline\n",
    "\n",
    "init_notebook_mode(connected=True)"
   ]
  },
  {
   "cell_type": "code",
   "execution_count": 9,
   "metadata": {
    "scrolled": true
   },
   "outputs": [
    {
     "data": {
      "text/html": [
       "<div>\n",
       "<style scoped>\n",
       "    .dataframe tbody tr th:only-of-type {\n",
       "        vertical-align: middle;\n",
       "    }\n",
       "\n",
       "    .dataframe tbody tr th {\n",
       "        vertical-align: top;\n",
       "    }\n",
       "\n",
       "    .dataframe thead th {\n",
       "        text-align: right;\n",
       "    }\n",
       "</style>\n",
       "<table border=\"1\" class=\"dataframe\">\n",
       "  <thead>\n",
       "    <tr style=\"text-align: right;\">\n",
       "      <th></th>\n",
       "      <th>STATE</th>\n",
       "      <th>CONSTITUENCY</th>\n",
       "      <th>NAME</th>\n",
       "      <th>WINNER</th>\n",
       "      <th>PARTY</th>\n",
       "      <th>SYMBOL</th>\n",
       "      <th>GENDER</th>\n",
       "      <th>CRIMINAL\\r\\nCASES</th>\n",
       "      <th>AGE</th>\n",
       "      <th>CATEGORY</th>\n",
       "      <th>EDUCATION</th>\n",
       "      <th>ASSETS</th>\n",
       "      <th>LIABILITIES</th>\n",
       "      <th>GENERAL\\r\\nVOTES</th>\n",
       "      <th>POSTAL\\r\\nVOTES</th>\n",
       "      <th>TOTAL\\r\\nVOTES</th>\n",
       "      <th>OVER TOTAL ELECTORS \\r\\nIN CONSTITUENCY</th>\n",
       "      <th>OVER TOTAL VOTES POLLED \\r\\nIN CONSTITUENCY</th>\n",
       "      <th>TOTAL ELECTORS</th>\n",
       "    </tr>\n",
       "  </thead>\n",
       "  <tbody>\n",
       "    <tr>\n",
       "      <th>0</th>\n",
       "      <td>Telangana</td>\n",
       "      <td>ADILABAD</td>\n",
       "      <td>SOYAM BAPU RAO</td>\n",
       "      <td>1</td>\n",
       "      <td>BJP</td>\n",
       "      <td>Lotus</td>\n",
       "      <td>MALE</td>\n",
       "      <td>52</td>\n",
       "      <td>52.0</td>\n",
       "      <td>ST</td>\n",
       "      <td>12th Pass</td>\n",
       "      <td>Rs 30,99,414\\r\\n ~ 30 Lacs+</td>\n",
       "      <td>Rs 2,31,450\\r\\n ~ 2 Lacs+</td>\n",
       "      <td>376892</td>\n",
       "      <td>482</td>\n",
       "      <td>377374</td>\n",
       "      <td>25.330684</td>\n",
       "      <td>35.468248</td>\n",
       "      <td>1489790</td>\n",
       "    </tr>\n",
       "    <tr>\n",
       "      <th>1</th>\n",
       "      <td>Telangana</td>\n",
       "      <td>ADILABAD</td>\n",
       "      <td>Godam Nagesh</td>\n",
       "      <td>0</td>\n",
       "      <td>TRS</td>\n",
       "      <td>Car</td>\n",
       "      <td>MALE</td>\n",
       "      <td>0</td>\n",
       "      <td>54.0</td>\n",
       "      <td>ST</td>\n",
       "      <td>Post Graduate</td>\n",
       "      <td>Rs 1,84,77,888\\r\\n ~ 1 Crore+</td>\n",
       "      <td>Rs 8,47,000\\r\\n ~ 8 Lacs+</td>\n",
       "      <td>318665</td>\n",
       "      <td>149</td>\n",
       "      <td>318814</td>\n",
       "      <td>21.399929</td>\n",
       "      <td>29.964370</td>\n",
       "      <td>1489790</td>\n",
       "    </tr>\n",
       "    <tr>\n",
       "      <th>2</th>\n",
       "      <td>Telangana</td>\n",
       "      <td>ADILABAD</td>\n",
       "      <td>RATHOD RAMESH</td>\n",
       "      <td>0</td>\n",
       "      <td>INC</td>\n",
       "      <td>Hand</td>\n",
       "      <td>MALE</td>\n",
       "      <td>3</td>\n",
       "      <td>52.0</td>\n",
       "      <td>ST</td>\n",
       "      <td>12th Pass</td>\n",
       "      <td>Rs 3,64,91,000\\r\\n ~ 3 Crore+</td>\n",
       "      <td>Rs 1,53,00,000\\r\\n ~ 1 Crore+</td>\n",
       "      <td>314057</td>\n",
       "      <td>181</td>\n",
       "      <td>314238</td>\n",
       "      <td>21.092771</td>\n",
       "      <td>29.534285</td>\n",
       "      <td>1489790</td>\n",
       "    </tr>\n",
       "    <tr>\n",
       "      <th>3</th>\n",
       "      <td>Telangana</td>\n",
       "      <td>ADILABAD</td>\n",
       "      <td>NOTA</td>\n",
       "      <td>0</td>\n",
       "      <td>NOTA</td>\n",
       "      <td>NaN</td>\n",
       "      <td>NaN</td>\n",
       "      <td>NaN</td>\n",
       "      <td>NaN</td>\n",
       "      <td>NaN</td>\n",
       "      <td>NaN</td>\n",
       "      <td>NaN</td>\n",
       "      <td>NaN</td>\n",
       "      <td>13030</td>\n",
       "      <td>6</td>\n",
       "      <td>13036</td>\n",
       "      <td>0.875023</td>\n",
       "      <td>1.225214</td>\n",
       "      <td>1489790</td>\n",
       "    </tr>\n",
       "    <tr>\n",
       "      <th>4</th>\n",
       "      <td>Uttar Pradesh</td>\n",
       "      <td>AGRA</td>\n",
       "      <td>Satyapal Singh Baghel</td>\n",
       "      <td>1</td>\n",
       "      <td>BJP</td>\n",
       "      <td>Lotus</td>\n",
       "      <td>MALE</td>\n",
       "      <td>5</td>\n",
       "      <td>58.0</td>\n",
       "      <td>SC</td>\n",
       "      <td>Doctorate</td>\n",
       "      <td>Rs 7,42,74,036\\r\\n ~ 7 Crore+</td>\n",
       "      <td>Rs 86,06,522\\r\\n ~ 86 Lacs+</td>\n",
       "      <td>644459</td>\n",
       "      <td>2416</td>\n",
       "      <td>646875</td>\n",
       "      <td>33.383823</td>\n",
       "      <td>56.464615</td>\n",
       "      <td>1937690</td>\n",
       "    </tr>\n",
       "  </tbody>\n",
       "</table>\n",
       "</div>"
      ],
      "text/plain": [
       "           STATE CONSTITUENCY                   NAME  WINNER PARTY SYMBOL  \\\n",
       "0      Telangana     ADILABAD         SOYAM BAPU RAO       1   BJP  Lotus   \n",
       "1      Telangana     ADILABAD           Godam Nagesh       0   TRS    Car   \n",
       "2      Telangana     ADILABAD          RATHOD RAMESH       0   INC   Hand   \n",
       "3      Telangana     ADILABAD                   NOTA       0  NOTA    NaN   \n",
       "4  Uttar Pradesh         AGRA  Satyapal Singh Baghel       1   BJP  Lotus   \n",
       "\n",
       "  GENDER CRIMINAL\\r\\nCASES   AGE CATEGORY      EDUCATION  \\\n",
       "0   MALE                52  52.0       ST      12th Pass   \n",
       "1   MALE                 0  54.0       ST  Post Graduate   \n",
       "2   MALE                 3  52.0       ST      12th Pass   \n",
       "3    NaN               NaN   NaN      NaN            NaN   \n",
       "4   MALE                 5  58.0       SC      Doctorate   \n",
       "\n",
       "                          ASSETS                    LIABILITIES  \\\n",
       "0    Rs 30,99,414\\r\\n ~ 30 Lacs+      Rs 2,31,450\\r\\n ~ 2 Lacs+   \n",
       "1  Rs 1,84,77,888\\r\\n ~ 1 Crore+      Rs 8,47,000\\r\\n ~ 8 Lacs+   \n",
       "2  Rs 3,64,91,000\\r\\n ~ 3 Crore+  Rs 1,53,00,000\\r\\n ~ 1 Crore+   \n",
       "3                            NaN                            NaN   \n",
       "4  Rs 7,42,74,036\\r\\n ~ 7 Crore+    Rs 86,06,522\\r\\n ~ 86 Lacs+   \n",
       "\n",
       "   GENERAL\\r\\nVOTES  POSTAL\\r\\nVOTES  TOTAL\\r\\nVOTES  \\\n",
       "0            376892              482          377374   \n",
       "1            318665              149          318814   \n",
       "2            314057              181          314238   \n",
       "3             13030                6           13036   \n",
       "4            644459             2416          646875   \n",
       "\n",
       "   OVER TOTAL ELECTORS \\r\\nIN CONSTITUENCY  \\\n",
       "0                                25.330684   \n",
       "1                                21.399929   \n",
       "2                                21.092771   \n",
       "3                                 0.875023   \n",
       "4                                33.383823   \n",
       "\n",
       "   OVER TOTAL VOTES POLLED \\r\\nIN CONSTITUENCY  TOTAL ELECTORS  \n",
       "0                                    35.468248         1489790  \n",
       "1                                    29.964370         1489790  \n",
       "2                                    29.534285         1489790  \n",
       "3                                     1.225214         1489790  \n",
       "4                                    56.464615         1937690  "
      ]
     },
     "execution_count": 9,
     "metadata": {},
     "output_type": "execute_result"
    }
   ],
   "source": [
    "# Loading the dataset\n",
    "df = pd.read_csv(\"D:\\B.Tech Project\\Code\\Indian-General-Elections-2019-Data-Analysis-And-Predictions-Using-Machine-Learning\\data\\LS_2.0.csv\")\n",
    "df.head()"
   ]
  },
  {
   "cell_type": "code",
   "execution_count": 10,
   "metadata": {},
   "outputs": [],
   "source": [
    "df.replace({'Not Available': np.nan}, inplace=True)"
   ]
  },
  {
   "cell_type": "code",
   "execution_count": 11,
   "metadata": {},
   "outputs": [
    {
     "name": "stdout",
     "output_type": "stream",
     "text": [
      "<class 'pandas.core.frame.DataFrame'>\n",
      "RangeIndex: 2263 entries, 0 to 2262\n",
      "Data columns (total 19 columns):\n",
      " #   Column                                     Non-Null Count  Dtype  \n",
      "---  ------                                     --------------  -----  \n",
      " 0   STATE                                      2263 non-null   object \n",
      " 1   CONSTITUENCY                               2263 non-null   object \n",
      " 2   NAME                                       2263 non-null   object \n",
      " 3   WINNER                                     2263 non-null   int64  \n",
      " 4   PARTY                                      2263 non-null   object \n",
      " 5   SYMBOL                                     2018 non-null   object \n",
      " 6   GENDER                                     2018 non-null   object \n",
      " 7   CRIMINAL\n",
      "CASES                            1996 non-null   object \n",
      " 8   AGE                                        2018 non-null   float64\n",
      " 9   CATEGORY                                   2018 non-null   object \n",
      " 10  EDUCATION                                  1996 non-null   object \n",
      " 11  ASSETS                                     1996 non-null   object \n",
      " 12  LIABILITIES                                1996 non-null   object \n",
      " 13  GENERAL\n",
      "VOTES                             2263 non-null   int64  \n",
      " 14  POSTAL\n",
      "VOTES                              2263 non-null   int64  \n",
      " 15  TOTAL\n",
      "VOTES                               2263 non-null   int64  \n",
      " 16  OVER TOTAL ELECTORS \n",
      "IN CONSTITUENCY      2263 non-null   float64\n",
      " 17  OVER TOTAL VOTES POLLED \n",
      "IN CONSTITUENCY  2263 non-null   float64\n",
      " 18  TOTAL ELECTORS                             2263 non-null   int64  \n",
      "dtypes: float64(3), int64(5), object(11)\n",
      "memory usage: 336.0+ KB\n"
     ]
    }
   ],
   "source": [
    "df.info()"
   ]
  },
  {
   "cell_type": "code",
   "execution_count": 12,
   "metadata": {},
   "outputs": [],
   "source": [
    "df.columns = df.columns.str.replace('\\r','')\n",
    "df.columns = df.columns.str.replace('\\n','')"
   ]
  },
  {
   "cell_type": "code",
   "execution_count": 13,
   "metadata": {},
   "outputs": [
    {
     "data": {
      "text/html": [
       "<div>\n",
       "<style scoped>\n",
       "    .dataframe tbody tr th:only-of-type {\n",
       "        vertical-align: middle;\n",
       "    }\n",
       "\n",
       "    .dataframe tbody tr th {\n",
       "        vertical-align: top;\n",
       "    }\n",
       "\n",
       "    .dataframe thead th {\n",
       "        text-align: right;\n",
       "    }\n",
       "</style>\n",
       "<table border=\"1\" class=\"dataframe\">\n",
       "  <thead>\n",
       "    <tr style=\"text-align: right;\">\n",
       "      <th></th>\n",
       "      <th>WINNER</th>\n",
       "      <th>AGE</th>\n",
       "      <th>GENERALVOTES</th>\n",
       "      <th>POSTALVOTES</th>\n",
       "      <th>TOTALVOTES</th>\n",
       "      <th>OVER TOTAL ELECTORS IN CONSTITUENCY</th>\n",
       "      <th>OVER TOTAL VOTES POLLED IN CONSTITUENCY</th>\n",
       "      <th>TOTAL ELECTORS</th>\n",
       "    </tr>\n",
       "  </thead>\n",
       "  <tbody>\n",
       "    <tr>\n",
       "      <th>count</th>\n",
       "      <td>2263.000000</td>\n",
       "      <td>2018.000000</td>\n",
       "      <td>2.263000e+03</td>\n",
       "      <td>2263.000000</td>\n",
       "      <td>2.263000e+03</td>\n",
       "      <td>2263.000000</td>\n",
       "      <td>2263.000000</td>\n",
       "      <td>2.263000e+03</td>\n",
       "    </tr>\n",
       "    <tr>\n",
       "      <th>mean</th>\n",
       "      <td>0.238179</td>\n",
       "      <td>52.273538</td>\n",
       "      <td>2.615991e+05</td>\n",
       "      <td>990.710561</td>\n",
       "      <td>2.625898e+05</td>\n",
       "      <td>15.811412</td>\n",
       "      <td>23.190525</td>\n",
       "      <td>1.658016e+06</td>\n",
       "    </tr>\n",
       "    <tr>\n",
       "      <th>std</th>\n",
       "      <td>0.426064</td>\n",
       "      <td>11.869373</td>\n",
       "      <td>2.549906e+05</td>\n",
       "      <td>1602.839174</td>\n",
       "      <td>2.559822e+05</td>\n",
       "      <td>14.962861</td>\n",
       "      <td>21.564758</td>\n",
       "      <td>3.145187e+05</td>\n",
       "    </tr>\n",
       "    <tr>\n",
       "      <th>min</th>\n",
       "      <td>0.000000</td>\n",
       "      <td>25.000000</td>\n",
       "      <td>1.339000e+03</td>\n",
       "      <td>0.000000</td>\n",
       "      <td>1.342000e+03</td>\n",
       "      <td>0.097941</td>\n",
       "      <td>1.000039</td>\n",
       "      <td>5.518900e+04</td>\n",
       "    </tr>\n",
       "    <tr>\n",
       "      <th>25%</th>\n",
       "      <td>0.000000</td>\n",
       "      <td>43.250000</td>\n",
       "      <td>2.103450e+04</td>\n",
       "      <td>57.000000</td>\n",
       "      <td>2.116250e+04</td>\n",
       "      <td>1.296518</td>\n",
       "      <td>1.899502</td>\n",
       "      <td>1.530014e+06</td>\n",
       "    </tr>\n",
       "    <tr>\n",
       "      <th>50%</th>\n",
       "      <td>0.000000</td>\n",
       "      <td>52.000000</td>\n",
       "      <td>1.539340e+05</td>\n",
       "      <td>316.000000</td>\n",
       "      <td>1.544890e+05</td>\n",
       "      <td>10.510553</td>\n",
       "      <td>16.221721</td>\n",
       "      <td>1.679030e+06</td>\n",
       "    </tr>\n",
       "    <tr>\n",
       "      <th>75%</th>\n",
       "      <td>0.000000</td>\n",
       "      <td>61.000000</td>\n",
       "      <td>4.858040e+05</td>\n",
       "      <td>1385.000000</td>\n",
       "      <td>4.872315e+05</td>\n",
       "      <td>29.468185</td>\n",
       "      <td>42.590233</td>\n",
       "      <td>1.816857e+06</td>\n",
       "    </tr>\n",
       "    <tr>\n",
       "      <th>max</th>\n",
       "      <td>1.000000</td>\n",
       "      <td>86.000000</td>\n",
       "      <td>1.066824e+06</td>\n",
       "      <td>19367.000000</td>\n",
       "      <td>1.068569e+06</td>\n",
       "      <td>51.951012</td>\n",
       "      <td>74.411856</td>\n",
       "      <td>3.150313e+06</td>\n",
       "    </tr>\n",
       "  </tbody>\n",
       "</table>\n",
       "</div>"
      ],
      "text/plain": [
       "            WINNER          AGE  GENERALVOTES   POSTALVOTES    TOTALVOTES  \\\n",
       "count  2263.000000  2018.000000  2.263000e+03   2263.000000  2.263000e+03   \n",
       "mean      0.238179    52.273538  2.615991e+05    990.710561  2.625898e+05   \n",
       "std       0.426064    11.869373  2.549906e+05   1602.839174  2.559822e+05   \n",
       "min       0.000000    25.000000  1.339000e+03      0.000000  1.342000e+03   \n",
       "25%       0.000000    43.250000  2.103450e+04     57.000000  2.116250e+04   \n",
       "50%       0.000000    52.000000  1.539340e+05    316.000000  1.544890e+05   \n",
       "75%       0.000000    61.000000  4.858040e+05   1385.000000  4.872315e+05   \n",
       "max       1.000000    86.000000  1.066824e+06  19367.000000  1.068569e+06   \n",
       "\n",
       "       OVER TOTAL ELECTORS IN CONSTITUENCY  \\\n",
       "count                          2263.000000   \n",
       "mean                             15.811412   \n",
       "std                              14.962861   \n",
       "min                               0.097941   \n",
       "25%                               1.296518   \n",
       "50%                              10.510553   \n",
       "75%                              29.468185   \n",
       "max                              51.951012   \n",
       "\n",
       "       OVER TOTAL VOTES POLLED IN CONSTITUENCY  TOTAL ELECTORS  \n",
       "count                              2263.000000    2.263000e+03  \n",
       "mean                                 23.190525    1.658016e+06  \n",
       "std                                  21.564758    3.145187e+05  \n",
       "min                                   1.000039    5.518900e+04  \n",
       "25%                                   1.899502    1.530014e+06  \n",
       "50%                                  16.221721    1.679030e+06  \n",
       "75%                                  42.590233    1.816857e+06  \n",
       "max                                  74.411856    3.150313e+06  "
      ]
     },
     "execution_count": 13,
     "metadata": {},
     "output_type": "execute_result"
    }
   ],
   "source": [
    "df.describe()"
   ]
  },
  {
   "cell_type": "code",
   "execution_count": 14,
   "metadata": {},
   "outputs": [
    {
     "data": {
      "text/plain": [
       "STATE                                      0\n",
       "CONSTITUENCY                               0\n",
       "NAME                                       0\n",
       "WINNER                                     0\n",
       "PARTY                                      0\n",
       "SYMBOL                                     0\n",
       "GENDER                                     0\n",
       "CRIMINALCASES                              0\n",
       "AGE                                        0\n",
       "CATEGORY                                   0\n",
       "EDUCATION                                  0\n",
       "ASSETS                                     0\n",
       "LIABILITIES                                0\n",
       "GENERALVOTES                               0\n",
       "POSTALVOTES                                0\n",
       "TOTALVOTES                                 0\n",
       "OVER TOTAL ELECTORS IN CONSTITUENCY        0\n",
       "OVER TOTAL VOTES POLLED IN CONSTITUENCY    0\n",
       "TOTAL ELECTORS                             0\n",
       "dtype: int64"
      ]
     },
     "execution_count": 14,
     "metadata": {},
     "output_type": "execute_result"
    }
   ],
   "source": [
    "# Checking to see if the dataset contains any null values. We need to exclude NOTA votes while checking it.\n",
    "df = df[df['PARTY']!= 'NOTA']\n",
    "df = df.dropna()\n",
    "df.isna().sum()"
   ]
  },
  {
   "cell_type": "code",
   "execution_count": 15,
   "metadata": {},
   "outputs": [
    {
     "data": {
      "text/html": [
       "<div>\n",
       "<style scoped>\n",
       "    .dataframe tbody tr th:only-of-type {\n",
       "        vertical-align: middle;\n",
       "    }\n",
       "\n",
       "    .dataframe tbody tr th {\n",
       "        vertical-align: top;\n",
       "    }\n",
       "\n",
       "    .dataframe thead th {\n",
       "        text-align: right;\n",
       "    }\n",
       "</style>\n",
       "<table border=\"1\" class=\"dataframe\">\n",
       "  <thead>\n",
       "    <tr style=\"text-align: right;\">\n",
       "      <th></th>\n",
       "      <th>STATE</th>\n",
       "      <th>CONSTITUENCY</th>\n",
       "      <th>NAME</th>\n",
       "      <th>WINNER</th>\n",
       "      <th>PARTY</th>\n",
       "      <th>SYMBOL</th>\n",
       "      <th>GENDER</th>\n",
       "      <th>CRIMINALCASES</th>\n",
       "      <th>AGE</th>\n",
       "      <th>CATEGORY</th>\n",
       "      <th>EDUCATION</th>\n",
       "      <th>ASSETS</th>\n",
       "      <th>LIABILITIES</th>\n",
       "      <th>GENERALVOTES</th>\n",
       "      <th>POSTALVOTES</th>\n",
       "      <th>TOTALVOTES</th>\n",
       "      <th>OVER TOTAL ELECTORS IN CONSTITUENCY</th>\n",
       "      <th>OVER TOTAL VOTES POLLED IN CONSTITUENCY</th>\n",
       "      <th>TOTAL ELECTORS</th>\n",
       "    </tr>\n",
       "  </thead>\n",
       "  <tbody>\n",
       "    <tr>\n",
       "      <th>0</th>\n",
       "      <td>Telangana</td>\n",
       "      <td>ADILABAD</td>\n",
       "      <td>SOYAM BAPU RAO</td>\n",
       "      <td>1</td>\n",
       "      <td>BJP</td>\n",
       "      <td>Lotus</td>\n",
       "      <td>MALE</td>\n",
       "      <td>52</td>\n",
       "      <td>52.0</td>\n",
       "      <td>ST</td>\n",
       "      <td>12th Pass</td>\n",
       "      <td>Rs 30,99,414\\r\\n ~ 30 Lacs+</td>\n",
       "      <td>Rs 2,31,450\\r\\n ~ 2 Lacs+</td>\n",
       "      <td>376892</td>\n",
       "      <td>482</td>\n",
       "      <td>377374</td>\n",
       "      <td>25.330684</td>\n",
       "      <td>35.468248</td>\n",
       "      <td>1489790</td>\n",
       "    </tr>\n",
       "    <tr>\n",
       "      <th>1</th>\n",
       "      <td>Telangana</td>\n",
       "      <td>ADILABAD</td>\n",
       "      <td>Godam Nagesh</td>\n",
       "      <td>0</td>\n",
       "      <td>TRS</td>\n",
       "      <td>Car</td>\n",
       "      <td>MALE</td>\n",
       "      <td>0</td>\n",
       "      <td>54.0</td>\n",
       "      <td>ST</td>\n",
       "      <td>Post Graduate</td>\n",
       "      <td>Rs 1,84,77,888\\r\\n ~ 1 Crore+</td>\n",
       "      <td>Rs 8,47,000\\r\\n ~ 8 Lacs+</td>\n",
       "      <td>318665</td>\n",
       "      <td>149</td>\n",
       "      <td>318814</td>\n",
       "      <td>21.399929</td>\n",
       "      <td>29.964370</td>\n",
       "      <td>1489790</td>\n",
       "    </tr>\n",
       "    <tr>\n",
       "      <th>2</th>\n",
       "      <td>Telangana</td>\n",
       "      <td>ADILABAD</td>\n",
       "      <td>RATHOD RAMESH</td>\n",
       "      <td>0</td>\n",
       "      <td>INC</td>\n",
       "      <td>Hand</td>\n",
       "      <td>MALE</td>\n",
       "      <td>3</td>\n",
       "      <td>52.0</td>\n",
       "      <td>ST</td>\n",
       "      <td>12th Pass</td>\n",
       "      <td>Rs 3,64,91,000\\r\\n ~ 3 Crore+</td>\n",
       "      <td>Rs 1,53,00,000\\r\\n ~ 1 Crore+</td>\n",
       "      <td>314057</td>\n",
       "      <td>181</td>\n",
       "      <td>314238</td>\n",
       "      <td>21.092771</td>\n",
       "      <td>29.534285</td>\n",
       "      <td>1489790</td>\n",
       "    </tr>\n",
       "    <tr>\n",
       "      <th>4</th>\n",
       "      <td>Uttar Pradesh</td>\n",
       "      <td>AGRA</td>\n",
       "      <td>Satyapal Singh Baghel</td>\n",
       "      <td>1</td>\n",
       "      <td>BJP</td>\n",
       "      <td>Lotus</td>\n",
       "      <td>MALE</td>\n",
       "      <td>5</td>\n",
       "      <td>58.0</td>\n",
       "      <td>SC</td>\n",
       "      <td>Doctorate</td>\n",
       "      <td>Rs 7,42,74,036\\r\\n ~ 7 Crore+</td>\n",
       "      <td>Rs 86,06,522\\r\\n ~ 86 Lacs+</td>\n",
       "      <td>644459</td>\n",
       "      <td>2416</td>\n",
       "      <td>646875</td>\n",
       "      <td>33.383823</td>\n",
       "      <td>56.464615</td>\n",
       "      <td>1937690</td>\n",
       "    </tr>\n",
       "    <tr>\n",
       "      <th>5</th>\n",
       "      <td>Uttar Pradesh</td>\n",
       "      <td>AGRA</td>\n",
       "      <td>Manoj Kumar Soni</td>\n",
       "      <td>0</td>\n",
       "      <td>BSP</td>\n",
       "      <td>Elephant</td>\n",
       "      <td>MALE</td>\n",
       "      <td>0</td>\n",
       "      <td>47.0</td>\n",
       "      <td>SC</td>\n",
       "      <td>Post Graduate</td>\n",
       "      <td>Rs 13,37,84,385\\r\\n ~ 13 Crore+</td>\n",
       "      <td>Rs 2,22,51,891\\r\\n ~ 2 Crore+</td>\n",
       "      <td>434199</td>\n",
       "      <td>1130</td>\n",
       "      <td>435329</td>\n",
       "      <td>22.466390</td>\n",
       "      <td>37.999125</td>\n",
       "      <td>1937690</td>\n",
       "    </tr>\n",
       "    <tr>\n",
       "      <th>6</th>\n",
       "      <td>Uttar Pradesh</td>\n",
       "      <td>AGRA</td>\n",
       "      <td>Preeta Harit</td>\n",
       "      <td>0</td>\n",
       "      <td>INC</td>\n",
       "      <td>Hand</td>\n",
       "      <td>FEMALE</td>\n",
       "      <td>0</td>\n",
       "      <td>54.0</td>\n",
       "      <td>SC</td>\n",
       "      <td>Post Graduate</td>\n",
       "      <td>Rs 5,50,75,753\\r\\n ~ 5 Crore+</td>\n",
       "      <td>Rs 0\\r\\n ~</td>\n",
       "      <td>44877</td>\n",
       "      <td>272</td>\n",
       "      <td>45149</td>\n",
       "      <td>2.330042</td>\n",
       "      <td>3.940979</td>\n",
       "      <td>1937690</td>\n",
       "    </tr>\n",
       "    <tr>\n",
       "      <th>7</th>\n",
       "      <td>Maharashtra</td>\n",
       "      <td>AHMADNAGAR</td>\n",
       "      <td>Dr. SUJAY RADHAKRISHNA VIKHEPATIL</td>\n",
       "      <td>1</td>\n",
       "      <td>BJP</td>\n",
       "      <td>Lotus</td>\n",
       "      <td>MALE</td>\n",
       "      <td>0</td>\n",
       "      <td>37.0</td>\n",
       "      <td>GENERAL</td>\n",
       "      <td>Doctorate</td>\n",
       "      <td>Rs 16,86,64,576\\r\\n ~ 16 Crore+</td>\n",
       "      <td>Rs 26,23,964\\r\\n ~ 26 Lacs+</td>\n",
       "      <td>696961</td>\n",
       "      <td>7699</td>\n",
       "      <td>704660</td>\n",
       "      <td>37.856533</td>\n",
       "      <td>58.425159</td>\n",
       "      <td>1861396</td>\n",
       "    </tr>\n",
       "    <tr>\n",
       "      <th>8</th>\n",
       "      <td>Maharashtra</td>\n",
       "      <td>AHMADNAGAR</td>\n",
       "      <td>SANGRAM ARUNKAKA JAGTAP</td>\n",
       "      <td>0</td>\n",
       "      <td>NCP</td>\n",
       "      <td>Clock</td>\n",
       "      <td>MALE</td>\n",
       "      <td>1</td>\n",
       "      <td>34.0</td>\n",
       "      <td>GENERAL</td>\n",
       "      <td>Graduate</td>\n",
       "      <td>Rs 9,44,88,381\\r\\n ~ 9 Crore+</td>\n",
       "      <td>Rs 3,25,49,132\\r\\n ~ 3 Crore+</td>\n",
       "      <td>419364</td>\n",
       "      <td>3822</td>\n",
       "      <td>423186</td>\n",
       "      <td>22.734872</td>\n",
       "      <td>35.087431</td>\n",
       "      <td>1861396</td>\n",
       "    </tr>\n",
       "    <tr>\n",
       "      <th>9</th>\n",
       "      <td>Maharashtra</td>\n",
       "      <td>AHMADNAGAR</td>\n",
       "      <td>SUDHAKAR LAXMAN AVHAD</td>\n",
       "      <td>0</td>\n",
       "      <td>VBA</td>\n",
       "      <td>Cup &amp; Saucer</td>\n",
       "      <td>MALE</td>\n",
       "      <td>0</td>\n",
       "      <td>62.0</td>\n",
       "      <td>GENERAL</td>\n",
       "      <td>Graduate</td>\n",
       "      <td>Rs 1,39,49,000\\r\\n ~ 1 Crore+</td>\n",
       "      <td>Rs 14,00,000\\r\\n ~ 14 Lacs+</td>\n",
       "      <td>31644</td>\n",
       "      <td>163</td>\n",
       "      <td>31807</td>\n",
       "      <td>1.708771</td>\n",
       "      <td>2.637200</td>\n",
       "      <td>1861396</td>\n",
       "    </tr>\n",
       "    <tr>\n",
       "      <th>10</th>\n",
       "      <td>Gujarat</td>\n",
       "      <td>AHMEDABAD EAST</td>\n",
       "      <td>Patel Hasmukhbhai Somabhai</td>\n",
       "      <td>1</td>\n",
       "      <td>BJP</td>\n",
       "      <td>Lotus</td>\n",
       "      <td>MALE</td>\n",
       "      <td>0</td>\n",
       "      <td>58.0</td>\n",
       "      <td>GENERAL</td>\n",
       "      <td>Others</td>\n",
       "      <td>Rs 7,46,99,690\\r\\n ~ 7 Crore+</td>\n",
       "      <td>Rs 62,52,577\\r\\n ~ 62 Lacs+</td>\n",
       "      <td>745810</td>\n",
       "      <td>4024</td>\n",
       "      <td>749834</td>\n",
       "      <td>41.384970</td>\n",
       "      <td>67.005462</td>\n",
       "      <td>1811851</td>\n",
       "    </tr>\n",
       "  </tbody>\n",
       "</table>\n",
       "</div>"
      ],
      "text/plain": [
       "            STATE    CONSTITUENCY                               NAME  WINNER  \\\n",
       "0       Telangana        ADILABAD                     SOYAM BAPU RAO       1   \n",
       "1       Telangana        ADILABAD                       Godam Nagesh       0   \n",
       "2       Telangana        ADILABAD                      RATHOD RAMESH       0   \n",
       "4   Uttar Pradesh            AGRA              Satyapal Singh Baghel       1   \n",
       "5   Uttar Pradesh            AGRA                   Manoj Kumar Soni       0   \n",
       "6   Uttar Pradesh            AGRA                       Preeta Harit       0   \n",
       "7     Maharashtra      AHMADNAGAR  Dr. SUJAY RADHAKRISHNA VIKHEPATIL       1   \n",
       "8     Maharashtra      AHMADNAGAR            SANGRAM ARUNKAKA JAGTAP       0   \n",
       "9     Maharashtra      AHMADNAGAR              SUDHAKAR LAXMAN AVHAD       0   \n",
       "10        Gujarat  AHMEDABAD EAST         Patel Hasmukhbhai Somabhai       1   \n",
       "\n",
       "   PARTY        SYMBOL  GENDER CRIMINALCASES   AGE CATEGORY      EDUCATION  \\\n",
       "0    BJP         Lotus    MALE            52  52.0       ST      12th Pass   \n",
       "1    TRS           Car    MALE             0  54.0       ST  Post Graduate   \n",
       "2    INC          Hand    MALE             3  52.0       ST      12th Pass   \n",
       "4    BJP         Lotus    MALE             5  58.0       SC      Doctorate   \n",
       "5    BSP      Elephant    MALE             0  47.0       SC  Post Graduate   \n",
       "6    INC          Hand  FEMALE             0  54.0       SC  Post Graduate   \n",
       "7    BJP         Lotus    MALE             0  37.0  GENERAL      Doctorate   \n",
       "8    NCP         Clock    MALE             1  34.0  GENERAL       Graduate   \n",
       "9    VBA  Cup & Saucer    MALE             0  62.0  GENERAL       Graduate   \n",
       "10   BJP         Lotus    MALE             0  58.0  GENERAL         Others   \n",
       "\n",
       "                             ASSETS                    LIABILITIES  \\\n",
       "0       Rs 30,99,414\\r\\n ~ 30 Lacs+      Rs 2,31,450\\r\\n ~ 2 Lacs+   \n",
       "1     Rs 1,84,77,888\\r\\n ~ 1 Crore+      Rs 8,47,000\\r\\n ~ 8 Lacs+   \n",
       "2     Rs 3,64,91,000\\r\\n ~ 3 Crore+  Rs 1,53,00,000\\r\\n ~ 1 Crore+   \n",
       "4     Rs 7,42,74,036\\r\\n ~ 7 Crore+    Rs 86,06,522\\r\\n ~ 86 Lacs+   \n",
       "5   Rs 13,37,84,385\\r\\n ~ 13 Crore+  Rs 2,22,51,891\\r\\n ~ 2 Crore+   \n",
       "6     Rs 5,50,75,753\\r\\n ~ 5 Crore+                     Rs 0\\r\\n ~   \n",
       "7   Rs 16,86,64,576\\r\\n ~ 16 Crore+    Rs 26,23,964\\r\\n ~ 26 Lacs+   \n",
       "8     Rs 9,44,88,381\\r\\n ~ 9 Crore+  Rs 3,25,49,132\\r\\n ~ 3 Crore+   \n",
       "9     Rs 1,39,49,000\\r\\n ~ 1 Crore+    Rs 14,00,000\\r\\n ~ 14 Lacs+   \n",
       "10    Rs 7,46,99,690\\r\\n ~ 7 Crore+    Rs 62,52,577\\r\\n ~ 62 Lacs+   \n",
       "\n",
       "    GENERALVOTES  POSTALVOTES  TOTALVOTES  \\\n",
       "0         376892          482      377374   \n",
       "1         318665          149      318814   \n",
       "2         314057          181      314238   \n",
       "4         644459         2416      646875   \n",
       "5         434199         1130      435329   \n",
       "6          44877          272       45149   \n",
       "7         696961         7699      704660   \n",
       "8         419364         3822      423186   \n",
       "9          31644          163       31807   \n",
       "10        745810         4024      749834   \n",
       "\n",
       "    OVER TOTAL ELECTORS IN CONSTITUENCY  \\\n",
       "0                             25.330684   \n",
       "1                             21.399929   \n",
       "2                             21.092771   \n",
       "4                             33.383823   \n",
       "5                             22.466390   \n",
       "6                              2.330042   \n",
       "7                             37.856533   \n",
       "8                             22.734872   \n",
       "9                              1.708771   \n",
       "10                            41.384970   \n",
       "\n",
       "    OVER TOTAL VOTES POLLED IN CONSTITUENCY  TOTAL ELECTORS  \n",
       "0                                 35.468248         1489790  \n",
       "1                                 29.964370         1489790  \n",
       "2                                 29.534285         1489790  \n",
       "4                                 56.464615         1937690  \n",
       "5                                 37.999125         1937690  \n",
       "6                                  3.940979         1937690  \n",
       "7                                 58.425159         1861396  \n",
       "8                                 35.087431         1861396  \n",
       "9                                  2.637200         1861396  \n",
       "10                                67.005462         1811851  "
      ]
     },
     "execution_count": 15,
     "metadata": {},
     "output_type": "execute_result"
    }
   ],
   "source": [
    "df.head(10)"
   ]
  },
  {
   "cell_type": "code",
   "execution_count": 16,
   "metadata": {},
   "outputs": [
    {
     "data": {
      "text/plain": [
       "STATE                                       object\n",
       "CONSTITUENCY                                object\n",
       "NAME                                        object\n",
       "WINNER                                       int64\n",
       "PARTY                                       object\n",
       "SYMBOL                                      object\n",
       "GENDER                                      object\n",
       "CRIMINALCASES                               object\n",
       "AGE                                        float64\n",
       "CATEGORY                                    object\n",
       "EDUCATION                                   object\n",
       "ASSETS                                      object\n",
       "LIABILITIES                                 object\n",
       "GENERALVOTES                                 int64\n",
       "POSTALVOTES                                  int64\n",
       "TOTALVOTES                                   int64\n",
       "OVER TOTAL ELECTORS IN CONSTITUENCY        float64\n",
       "OVER TOTAL VOTES POLLED IN CONSTITUENCY    float64\n",
       "TOTAL ELECTORS                               int64\n",
       "dtype: object"
      ]
     },
     "execution_count": 16,
     "metadata": {},
     "output_type": "execute_result"
    }
   ],
   "source": [
    "df.dtypes"
   ]
  },
  {
   "cell_type": "code",
   "execution_count": 17,
   "metadata": {},
   "outputs": [],
   "source": [
    "def value_cleaner(x):\n",
    "    try:\n",
    "        str_temp = (x.split('Rs')[1].split('\\n')[0].strip())\n",
    "        str_temp_2 = ''\n",
    "        for i in str_temp.split(\",\"):\n",
    "            str_temp_2 = str_temp_2+i\n",
    "        return str_temp_2\n",
    "    except:\n",
    "        x = 0\n",
    "        return x\n",
    "df['ASSETS'] = df['ASSETS'].apply((value_cleaner))\n",
    "df['LIABILITIES'] = df['LIABILITIES'].apply((value_cleaner))"
   ]
  },
  {
   "cell_type": "code",
   "execution_count": 18,
   "metadata": {},
   "outputs": [
    {
     "data": {
      "text/plain": [
       "EDUCATION\n",
       "Post Graduate            502\n",
       "Graduate                 441\n",
       "Graduate Professional    336\n",
       "12th Pass                256\n",
       "10th Pass                196\n",
       "8th Pass                  78\n",
       "Doctorate                 73\n",
       "Others                    50\n",
       "Literate                  30\n",
       "5th Pass                  28\n",
       "Illiterate                 5\n",
       "Post Graduate\\r\\n          1\n",
       "Name: count, dtype: int64"
      ]
     },
     "execution_count": 18,
     "metadata": {},
     "output_type": "execute_result"
    }
   ],
   "source": [
    "df['EDUCATION'].value_counts()"
   ]
  },
  {
   "cell_type": "code",
   "execution_count": 19,
   "metadata": {},
   "outputs": [
    {
     "name": "stderr",
     "output_type": "stream",
     "text": [
      "C:\\Users\\Hp\\AppData\\Local\\Temp\\ipykernel_15840\\3051446079.py:2: FutureWarning:\n",
      "\n",
      "A value is trying to be set on a copy of a DataFrame or Series through chained assignment using an inplace method.\n",
      "The behavior will change in pandas 3.0. This inplace method will never work because the intermediate object on which we are setting values always behaves as a copy.\n",
      "\n",
      "For example, when doing 'df[col].method(value, inplace=True)', try using 'df.method({col: value}, inplace=True)' or df[col] = df[col].method(value) instead, to perform the operation inplace on the original object.\n",
      "\n",
      "\n",
      "\n",
      "C:\\Users\\Hp\\AppData\\Local\\Temp\\ipykernel_15840\\3051446079.py:5: FutureWarning:\n",
      "\n",
      "A value is trying to be set on a copy of a DataFrame or Series through chained assignment using an inplace method.\n",
      "The behavior will change in pandas 3.0. This inplace method will never work because the intermediate object on which we are setting values always behaves as a copy.\n",
      "\n",
      "For example, when doing 'df[col].method(value, inplace=True)', try using 'df.method({col: value}, inplace=True)' or df[col] = df[col].method(value) instead, to perform the operation inplace on the original object.\n",
      "\n",
      "\n",
      "\n",
      "C:\\Users\\Hp\\AppData\\Local\\Temp\\ipykernel_15840\\3051446079.py:8: FutureWarning:\n",
      "\n",
      "A value is trying to be set on a copy of a DataFrame or Series through chained assignment using an inplace method.\n",
      "The behavior will change in pandas 3.0. This inplace method will never work because the intermediate object on which we are setting values always behaves as a copy.\n",
      "\n",
      "For example, when doing 'df[col].method(value, inplace=True)', try using 'df.method({col: value}, inplace=True)' or df[col] = df[col].method(value) instead, to perform the operation inplace on the original object.\n",
      "\n",
      "\n",
      "\n",
      "C:\\Users\\Hp\\AppData\\Local\\Temp\\ipykernel_15840\\3051446079.py:11: FutureWarning:\n",
      "\n",
      "A value is trying to be set on a copy of a DataFrame or Series through chained assignment using an inplace method.\n",
      "The behavior will change in pandas 3.0. This inplace method will never work because the intermediate object on which we are setting values always behaves as a copy.\n",
      "\n",
      "For example, when doing 'df[col].method(value, inplace=True)', try using 'df.method({col: value}, inplace=True)' or df[col] = df[col].method(value) instead, to perform the operation inplace on the original object.\n",
      "\n",
      "\n",
      "\n"
     ]
    }
   ],
   "source": [
    "# Removing the \\n from 'Post Graduate\\n'\n",
    "df['EDUCATION'].replace(to_replace='Post Graduate\\r\\n', value='Post Graduate', inplace=True)\n",
    "\n",
    "# 'Graduate Professional' are Graduates, so replacing 'Graduate Professional' with 'Graduate'\n",
    "df['EDUCATION'].replace(to_replace='Graduate Professional', value='Graduate', inplace=True)\n",
    "\n",
    "# 'Literate' = 8th Pass in our society\n",
    "df['EDUCATION'].replace(to_replace='Literate', value='8th Pass', inplace=True)\n",
    "\n",
    "# Any education level below 8th pass is illiterate\n",
    "df['EDUCATION'].replace(to_replace='5th Pass', value='Illiterate', inplace=True)"
   ]
  },
  {
   "cell_type": "code",
   "execution_count": 20,
   "metadata": {},
   "outputs": [
    {
     "data": {
      "text/html": [
       "<div>\n",
       "<style scoped>\n",
       "    .dataframe tbody tr th:only-of-type {\n",
       "        vertical-align: middle;\n",
       "    }\n",
       "\n",
       "    .dataframe tbody tr th {\n",
       "        vertical-align: top;\n",
       "    }\n",
       "\n",
       "    .dataframe thead th {\n",
       "        text-align: right;\n",
       "    }\n",
       "</style>\n",
       "<table border=\"1\" class=\"dataframe\">\n",
       "  <thead>\n",
       "    <tr style=\"text-align: right;\">\n",
       "      <th></th>\n",
       "      <th>STATE</th>\n",
       "      <th>CONSTITUENCY</th>\n",
       "      <th>NAME</th>\n",
       "      <th>WINNER</th>\n",
       "      <th>PARTY</th>\n",
       "      <th>SYMBOL</th>\n",
       "      <th>GENDER</th>\n",
       "      <th>CRIMINALCASES</th>\n",
       "      <th>AGE</th>\n",
       "      <th>CATEGORY</th>\n",
       "      <th>EDUCATION</th>\n",
       "      <th>ASSETS</th>\n",
       "      <th>LIABILITIES</th>\n",
       "      <th>GENERALVOTES</th>\n",
       "      <th>POSTALVOTES</th>\n",
       "      <th>TOTALVOTES</th>\n",
       "      <th>OVER TOTAL ELECTORS IN CONSTITUENCY</th>\n",
       "      <th>OVER TOTAL VOTES POLLED IN CONSTITUENCY</th>\n",
       "      <th>TOTAL ELECTORS</th>\n",
       "    </tr>\n",
       "  </thead>\n",
       "  <tbody>\n",
       "    <tr>\n",
       "      <th>0</th>\n",
       "      <td>Telangana</td>\n",
       "      <td>ADILABAD</td>\n",
       "      <td>SOYAM BAPU RAO</td>\n",
       "      <td>1</td>\n",
       "      <td>BJP</td>\n",
       "      <td>Lotus</td>\n",
       "      <td>MALE</td>\n",
       "      <td>52</td>\n",
       "      <td>52.0</td>\n",
       "      <td>ST</td>\n",
       "      <td>12th Pass</td>\n",
       "      <td>3099414</td>\n",
       "      <td>231450</td>\n",
       "      <td>376892</td>\n",
       "      <td>482</td>\n",
       "      <td>377374</td>\n",
       "      <td>25.330684</td>\n",
       "      <td>35.468248</td>\n",
       "      <td>1489790</td>\n",
       "    </tr>\n",
       "    <tr>\n",
       "      <th>1</th>\n",
       "      <td>Telangana</td>\n",
       "      <td>ADILABAD</td>\n",
       "      <td>Godam Nagesh</td>\n",
       "      <td>0</td>\n",
       "      <td>TRS</td>\n",
       "      <td>Car</td>\n",
       "      <td>MALE</td>\n",
       "      <td>0</td>\n",
       "      <td>54.0</td>\n",
       "      <td>ST</td>\n",
       "      <td>Post Graduate</td>\n",
       "      <td>18477888</td>\n",
       "      <td>847000</td>\n",
       "      <td>318665</td>\n",
       "      <td>149</td>\n",
       "      <td>318814</td>\n",
       "      <td>21.399929</td>\n",
       "      <td>29.964370</td>\n",
       "      <td>1489790</td>\n",
       "    </tr>\n",
       "    <tr>\n",
       "      <th>2</th>\n",
       "      <td>Telangana</td>\n",
       "      <td>ADILABAD</td>\n",
       "      <td>RATHOD RAMESH</td>\n",
       "      <td>0</td>\n",
       "      <td>INC</td>\n",
       "      <td>Hand</td>\n",
       "      <td>MALE</td>\n",
       "      <td>3</td>\n",
       "      <td>52.0</td>\n",
       "      <td>ST</td>\n",
       "      <td>12th Pass</td>\n",
       "      <td>36491000</td>\n",
       "      <td>15300000</td>\n",
       "      <td>314057</td>\n",
       "      <td>181</td>\n",
       "      <td>314238</td>\n",
       "      <td>21.092771</td>\n",
       "      <td>29.534285</td>\n",
       "      <td>1489790</td>\n",
       "    </tr>\n",
       "    <tr>\n",
       "      <th>4</th>\n",
       "      <td>Uttar Pradesh</td>\n",
       "      <td>AGRA</td>\n",
       "      <td>Satyapal Singh Baghel</td>\n",
       "      <td>1</td>\n",
       "      <td>BJP</td>\n",
       "      <td>Lotus</td>\n",
       "      <td>MALE</td>\n",
       "      <td>5</td>\n",
       "      <td>58.0</td>\n",
       "      <td>SC</td>\n",
       "      <td>Doctorate</td>\n",
       "      <td>74274036</td>\n",
       "      <td>8606522</td>\n",
       "      <td>644459</td>\n",
       "      <td>2416</td>\n",
       "      <td>646875</td>\n",
       "      <td>33.383823</td>\n",
       "      <td>56.464615</td>\n",
       "      <td>1937690</td>\n",
       "    </tr>\n",
       "    <tr>\n",
       "      <th>5</th>\n",
       "      <td>Uttar Pradesh</td>\n",
       "      <td>AGRA</td>\n",
       "      <td>Manoj Kumar Soni</td>\n",
       "      <td>0</td>\n",
       "      <td>BSP</td>\n",
       "      <td>Elephant</td>\n",
       "      <td>MALE</td>\n",
       "      <td>0</td>\n",
       "      <td>47.0</td>\n",
       "      <td>SC</td>\n",
       "      <td>Post Graduate</td>\n",
       "      <td>133784385</td>\n",
       "      <td>22251891</td>\n",
       "      <td>434199</td>\n",
       "      <td>1130</td>\n",
       "      <td>435329</td>\n",
       "      <td>22.466390</td>\n",
       "      <td>37.999125</td>\n",
       "      <td>1937690</td>\n",
       "    </tr>\n",
       "  </tbody>\n",
       "</table>\n",
       "</div>"
      ],
      "text/plain": [
       "           STATE CONSTITUENCY                   NAME  WINNER PARTY    SYMBOL  \\\n",
       "0      Telangana     ADILABAD         SOYAM BAPU RAO       1   BJP     Lotus   \n",
       "1      Telangana     ADILABAD           Godam Nagesh       0   TRS       Car   \n",
       "2      Telangana     ADILABAD          RATHOD RAMESH       0   INC      Hand   \n",
       "4  Uttar Pradesh         AGRA  Satyapal Singh Baghel       1   BJP     Lotus   \n",
       "5  Uttar Pradesh         AGRA       Manoj Kumar Soni       0   BSP  Elephant   \n",
       "\n",
       "  GENDER CRIMINALCASES   AGE CATEGORY      EDUCATION     ASSETS LIABILITIES  \\\n",
       "0   MALE            52  52.0       ST      12th Pass    3099414      231450   \n",
       "1   MALE             0  54.0       ST  Post Graduate   18477888      847000   \n",
       "2   MALE             3  52.0       ST      12th Pass   36491000    15300000   \n",
       "4   MALE             5  58.0       SC      Doctorate   74274036     8606522   \n",
       "5   MALE             0  47.0       SC  Post Graduate  133784385    22251891   \n",
       "\n",
       "   GENERALVOTES  POSTALVOTES  TOTALVOTES  OVER TOTAL ELECTORS IN CONSTITUENCY  \\\n",
       "0        376892          482      377374                            25.330684   \n",
       "1        318665          149      318814                            21.399929   \n",
       "2        314057          181      314238                            21.092771   \n",
       "4        644459         2416      646875                            33.383823   \n",
       "5        434199         1130      435329                            22.466390   \n",
       "\n",
       "   OVER TOTAL VOTES POLLED IN CONSTITUENCY  TOTAL ELECTORS  \n",
       "0                                35.468248         1489790  \n",
       "1                                29.964370         1489790  \n",
       "2                                29.534285         1489790  \n",
       "4                                56.464615         1937690  \n",
       "5                                37.999125         1937690  "
      ]
     },
     "execution_count": 20,
     "metadata": {},
     "output_type": "execute_result"
    }
   ],
   "source": [
    "df.head()"
   ]
  },
  {
   "cell_type": "code",
   "execution_count": 21,
   "metadata": {},
   "outputs": [
    {
     "data": {
      "text/plain": [
       "STATE                                       object\n",
       "CONSTITUENCY                                object\n",
       "NAME                                        object\n",
       "WINNER                                       int64\n",
       "PARTY                                       object\n",
       "SYMBOL                                      object\n",
       "GENDER                                      object\n",
       "CRIMINALCASES                               object\n",
       "AGE                                        float64\n",
       "CATEGORY                                    object\n",
       "EDUCATION                                   object\n",
       "ASSETS                                      object\n",
       "LIABILITIES                                 object\n",
       "GENERALVOTES                                 int64\n",
       "POSTALVOTES                                  int64\n",
       "TOTALVOTES                                   int64\n",
       "OVER TOTAL ELECTORS IN CONSTITUENCY        float64\n",
       "OVER TOTAL VOTES POLLED IN CONSTITUENCY    float64\n",
       "TOTAL ELECTORS                               int64\n",
       "dtype: object"
      ]
     },
     "execution_count": 21,
     "metadata": {},
     "output_type": "execute_result"
    }
   ],
   "source": [
    "df.dtypes"
   ]
  },
  {
   "cell_type": "code",
   "execution_count": 22,
   "metadata": {},
   "outputs": [],
   "source": [
    "df['CRIMINALCASES'] = df['CRIMINALCASES'].astype(int, errors='raise')\n",
    "df['ASSETS'] = df['ASSETS'].astype(float, errors='raise')\n",
    "df['LIABILITIES'] = df['LIABILITIES'].astype(float, errors='raise')"
   ]
  },
  {
   "cell_type": "code",
   "execution_count": 23,
   "metadata": {},
   "outputs": [
    {
     "data": {
      "text/html": [
       "<div>\n",
       "<style scoped>\n",
       "    .dataframe tbody tr th:only-of-type {\n",
       "        vertical-align: middle;\n",
       "    }\n",
       "\n",
       "    .dataframe tbody tr th {\n",
       "        vertical-align: top;\n",
       "    }\n",
       "\n",
       "    .dataframe thead th {\n",
       "        text-align: right;\n",
       "    }\n",
       "</style>\n",
       "<table border=\"1\" class=\"dataframe\">\n",
       "  <thead>\n",
       "    <tr style=\"text-align: right;\">\n",
       "      <th></th>\n",
       "      <th>STATE</th>\n",
       "      <th>CONSTITUENCY</th>\n",
       "      <th>NAME</th>\n",
       "      <th>WINNER</th>\n",
       "      <th>PARTY</th>\n",
       "      <th>SYMBOL</th>\n",
       "      <th>GENDER</th>\n",
       "      <th>CRIMINALCASES</th>\n",
       "      <th>AGE</th>\n",
       "      <th>CATEGORY</th>\n",
       "      <th>EDUCATION</th>\n",
       "      <th>ASSETS</th>\n",
       "      <th>LIABILITIES</th>\n",
       "      <th>GENERALVOTES</th>\n",
       "      <th>POSTALVOTES</th>\n",
       "      <th>TOTALVOTES</th>\n",
       "      <th>OVER TOTAL ELECTORS IN CONSTITUENCY</th>\n",
       "      <th>OVER TOTAL VOTES POLLED IN CONSTITUENCY</th>\n",
       "      <th>TOTAL ELECTORS</th>\n",
       "    </tr>\n",
       "  </thead>\n",
       "  <tbody>\n",
       "    <tr>\n",
       "      <th>0</th>\n",
       "      <td>Telangana</td>\n",
       "      <td>ADILABAD</td>\n",
       "      <td>SOYAM BAPU RAO</td>\n",
       "      <td>1</td>\n",
       "      <td>BJP</td>\n",
       "      <td>Lotus</td>\n",
       "      <td>MALE</td>\n",
       "      <td>52</td>\n",
       "      <td>52.0</td>\n",
       "      <td>ST</td>\n",
       "      <td>12th Pass</td>\n",
       "      <td>3099414.0</td>\n",
       "      <td>231450.0</td>\n",
       "      <td>376892</td>\n",
       "      <td>482</td>\n",
       "      <td>377374</td>\n",
       "      <td>25.330684</td>\n",
       "      <td>35.468248</td>\n",
       "      <td>1489790</td>\n",
       "    </tr>\n",
       "    <tr>\n",
       "      <th>1</th>\n",
       "      <td>Telangana</td>\n",
       "      <td>ADILABAD</td>\n",
       "      <td>Godam Nagesh</td>\n",
       "      <td>0</td>\n",
       "      <td>TRS</td>\n",
       "      <td>Car</td>\n",
       "      <td>MALE</td>\n",
       "      <td>0</td>\n",
       "      <td>54.0</td>\n",
       "      <td>ST</td>\n",
       "      <td>Post Graduate</td>\n",
       "      <td>18477888.0</td>\n",
       "      <td>847000.0</td>\n",
       "      <td>318665</td>\n",
       "      <td>149</td>\n",
       "      <td>318814</td>\n",
       "      <td>21.399929</td>\n",
       "      <td>29.964370</td>\n",
       "      <td>1489790</td>\n",
       "    </tr>\n",
       "    <tr>\n",
       "      <th>2</th>\n",
       "      <td>Telangana</td>\n",
       "      <td>ADILABAD</td>\n",
       "      <td>RATHOD RAMESH</td>\n",
       "      <td>0</td>\n",
       "      <td>INC</td>\n",
       "      <td>Hand</td>\n",
       "      <td>MALE</td>\n",
       "      <td>3</td>\n",
       "      <td>52.0</td>\n",
       "      <td>ST</td>\n",
       "      <td>12th Pass</td>\n",
       "      <td>36491000.0</td>\n",
       "      <td>15300000.0</td>\n",
       "      <td>314057</td>\n",
       "      <td>181</td>\n",
       "      <td>314238</td>\n",
       "      <td>21.092771</td>\n",
       "      <td>29.534285</td>\n",
       "      <td>1489790</td>\n",
       "    </tr>\n",
       "    <tr>\n",
       "      <th>4</th>\n",
       "      <td>Uttar Pradesh</td>\n",
       "      <td>AGRA</td>\n",
       "      <td>Satyapal Singh Baghel</td>\n",
       "      <td>1</td>\n",
       "      <td>BJP</td>\n",
       "      <td>Lotus</td>\n",
       "      <td>MALE</td>\n",
       "      <td>5</td>\n",
       "      <td>58.0</td>\n",
       "      <td>SC</td>\n",
       "      <td>Doctorate</td>\n",
       "      <td>74274036.0</td>\n",
       "      <td>8606522.0</td>\n",
       "      <td>644459</td>\n",
       "      <td>2416</td>\n",
       "      <td>646875</td>\n",
       "      <td>33.383823</td>\n",
       "      <td>56.464615</td>\n",
       "      <td>1937690</td>\n",
       "    </tr>\n",
       "    <tr>\n",
       "      <th>5</th>\n",
       "      <td>Uttar Pradesh</td>\n",
       "      <td>AGRA</td>\n",
       "      <td>Manoj Kumar Soni</td>\n",
       "      <td>0</td>\n",
       "      <td>BSP</td>\n",
       "      <td>Elephant</td>\n",
       "      <td>MALE</td>\n",
       "      <td>0</td>\n",
       "      <td>47.0</td>\n",
       "      <td>SC</td>\n",
       "      <td>Post Graduate</td>\n",
       "      <td>133784385.0</td>\n",
       "      <td>22251891.0</td>\n",
       "      <td>434199</td>\n",
       "      <td>1130</td>\n",
       "      <td>435329</td>\n",
       "      <td>22.466390</td>\n",
       "      <td>37.999125</td>\n",
       "      <td>1937690</td>\n",
       "    </tr>\n",
       "  </tbody>\n",
       "</table>\n",
       "</div>"
      ],
      "text/plain": [
       "           STATE CONSTITUENCY                   NAME  WINNER PARTY    SYMBOL  \\\n",
       "0      Telangana     ADILABAD         SOYAM BAPU RAO       1   BJP     Lotus   \n",
       "1      Telangana     ADILABAD           Godam Nagesh       0   TRS       Car   \n",
       "2      Telangana     ADILABAD          RATHOD RAMESH       0   INC      Hand   \n",
       "4  Uttar Pradesh         AGRA  Satyapal Singh Baghel       1   BJP     Lotus   \n",
       "5  Uttar Pradesh         AGRA       Manoj Kumar Soni       0   BSP  Elephant   \n",
       "\n",
       "  GENDER  CRIMINALCASES   AGE CATEGORY      EDUCATION       ASSETS  \\\n",
       "0   MALE             52  52.0       ST      12th Pass    3099414.0   \n",
       "1   MALE              0  54.0       ST  Post Graduate   18477888.0   \n",
       "2   MALE              3  52.0       ST      12th Pass   36491000.0   \n",
       "4   MALE              5  58.0       SC      Doctorate   74274036.0   \n",
       "5   MALE              0  47.0       SC  Post Graduate  133784385.0   \n",
       "\n",
       "   LIABILITIES  GENERALVOTES  POSTALVOTES  TOTALVOTES  \\\n",
       "0     231450.0        376892          482      377374   \n",
       "1     847000.0        318665          149      318814   \n",
       "2   15300000.0        314057          181      314238   \n",
       "4    8606522.0        644459         2416      646875   \n",
       "5   22251891.0        434199         1130      435329   \n",
       "\n",
       "   OVER TOTAL ELECTORS IN CONSTITUENCY  \\\n",
       "0                            25.330684   \n",
       "1                            21.399929   \n",
       "2                            21.092771   \n",
       "4                            33.383823   \n",
       "5                            22.466390   \n",
       "\n",
       "   OVER TOTAL VOTES POLLED IN CONSTITUENCY  TOTAL ELECTORS  \n",
       "0                                35.468248         1489790  \n",
       "1                                29.964370         1489790  \n",
       "2                                29.534285         1489790  \n",
       "4                                56.464615         1937690  \n",
       "5                                37.999125         1937690  "
      ]
     },
     "execution_count": 23,
     "metadata": {},
     "output_type": "execute_result"
    }
   ],
   "source": [
    "df.head()"
   ]
  },
  {
   "cell_type": "code",
   "execution_count": 24,
   "metadata": {},
   "outputs": [
    {
     "data": {
      "application/vnd.plotly.v1+json": {
       "config": {
        "plotlyServerURL": "https://plot.ly"
       },
       "data": [
        {
         "branchvalues": "total",
         "customdata": [
          [
           1489790
          ],
          [
           1937690
          ],
          [
           1861396
          ],
          [
           1811851
          ],
          [
           1643317
          ],
          [
           1876346
          ],
          [
           1766121
          ],
          [
           1865169
          ],
          [
           1356701
          ],
          [
           1266794
          ],
          [
           1887127
          ],
          [
           1648383
          ],
          [
           1716160
          ],
          [
           1337808
          ],
          [
           1888524
          ],
          [
           1459556
          ],
          [
           1853711
          ],
          [
           1785657
          ],
          [
           1743515
          ],
          [
           1833091
          ],
          [
           1628451
          ],
          [
           1507875
          ],
          [
           1646435
          ],
          [
           1521363
          ],
          [
           1655870
          ],
          [
           1698876
          ],
          [
           1664160
          ],
          [
           1397779
          ],
          [
           318471
          ],
          [
           1785605
          ],
          [
           1500016
          ],
          [
           1764726
          ],
          [
           1449150
          ],
          [
           1805439
          ],
          [
           2089353
          ],
          [
           1451418
          ],
          [
           339788
          ],
          [
           463775
          ],
          [
           1615865
          ],
          [
           1541145
          ],
          [
           1350710
          ],
          [
           1742883
          ],
          [
           1886284
          ],
          [
           795945
          ],
          [
           1789168
          ],
          [
           1891576
          ],
          [
           1704010
          ],
          [
           1616476
          ],
          [
           1638378
          ],
          [
           1729908
          ],
          [
           1767725
          ],
          [
           1531781
          ],
          [
           1822625
          ],
          [
           1431704
          ],
          [
           1697384
          ],
          [
           1702024
          ],
          [
           2204817
          ],
          [
           2849250
          ],
          [
           2497458
          ],
          [
           2215489
          ],
          [
           1704632
          ],
          [
           1699394
          ],
          [
           1648906
          ],
          [
           1751258
          ],
          [
           1975368
          ],
          [
           1468671
          ],
          [
           1816830
          ],
          [
           2114663
          ],
          [
           1317738
          ],
          [
           1718252
          ],
          [
           1733578
          ],
          [
           1698089
          ],
          [
           1826526
          ],
          [
           1797655
          ],
          [
           1596290
          ],
          [
           1941231
          ],
          [
           1685149
          ],
          [
           1436431
          ],
          [
           1678357
          ],
          [
           1379122
          ],
          [
           1845223
          ],
          [
           1621671
          ],
          [
           2045405
          ],
          [
           1958382
          ],
          [
           1779350
          ],
          [
           1751734
          ],
          [
           1502455
          ],
          [
           1737437
          ],
          [
           1942514
          ],
          [
           1661661
          ],
          [
           1823820
          ],
          [
           1811556
          ],
          [
           1943794
          ],
          [
           1564519
          ],
          [
           1768297
          ],
          [
           1997328
          ],
          [
           1765334
          ],
          [
           1890100
          ],
          [
           1654317
          ],
          [
           1628033
          ],
          [
           2142861
          ],
          [
           1699678
          ],
          [
           1775095
          ],
          [
           1797587
          ],
          [
           1664125
          ],
          [
           1851628
          ],
          [
           1876953
          ],
          [
           1699219
          ],
          [
           1627199
          ],
          [
           1744446
          ],
          [
           1705073
          ],
          [
           1787925
          ],
          [
           1762918
          ],
          [
           1829373
          ],
          [
           1230197
          ],
          [
           1686333
          ],
          [
           1756837
          ],
          [
           646729
          ],
          [
           1562283
          ],
          [
           1910188
          ],
          [
           1425218
          ],
          [
           1332300
          ],
          [
           1487681
          ],
          [
           1973533
          ],
          [
           2443112
          ],
          [
           1514783
          ],
          [
           1671253
          ],
          [
           1480222
          ],
          [
           1808780
          ],
          [
           1612556
          ],
          [
           1760633
          ],
          [
           1566499
          ],
          [
           2015911
          ],
          [
           2019104
          ],
          [
           1958904
          ],
          [
           1814200
          ],
          [
           1364038
          ],
          [
           1518996
          ],
          [
           250029
          ],
          [
           1598939
          ],
          [
           1724976
          ],
          [
           121740
          ],
          [
           1768777
          ],
          [
           1654811
          ],
          [
           1611317
          ],
          [
           1730289
          ],
          [
           1633064
          ],
          [
           1754195
          ],
          [
           1760503
          ],
          [
           2072634
          ],
          [
           1786151
          ],
          [
           1485804
          ],
          [
           1727311
          ],
          [
           1644674
          ],
          [
           1504403
          ],
          [
           1858566
          ],
          [
           1908173
          ],
          [
           1719190
          ],
          [
           1314319
          ],
          [
           1541881
          ],
          [
           1732936
          ],
          [
           1885433
          ],
          [
           1566196
          ],
          [
           1397253
          ],
          [
           1940269
          ],
          [
           2039302
          ],
          [
           1594950
          ],
          [
           1245972
          ],
          [
           1462246
          ],
          [
           1621295
          ],
          [
           1757984
          ],
          [
           1821785
          ],
          [
           2071816
          ],
          [
           1541971
          ],
          [
           1708585
          ],
          [
           1502861
          ],
          [
           1839312
          ],
          [
           1718837
          ],
          [
           1790510
          ],
          [
           1618419
          ],
          [
           1581366
          ],
          [
           1945772
          ],
          [
           1943486
          ],
          [
           1355796
          ],
          [
           2181319
          ],
          [
           2302960
          ],
          [
           1704596
          ],
          [
           1800002
          ],
          [
           2728978
          ],
          [
           1881077
          ],
          [
           1991651
          ],
          [
           1649413
          ],
          [
           1716766
          ],
          [
           1770248
          ],
          [
           1839514
          ],
          [
           1981197
          ],
          [
           1945765
          ],
          [
           1675724
          ],
          [
           1706119
          ],
          [
           1595284
          ],
          [
           2150728
          ],
          [
           2000744
          ],
          [
           1823664
          ],
          [
           1362269
          ],
          [
           1749100
          ],
          [
           1807119
          ],
          [
           1840738
          ],
          [
           1652999
          ],
          [
           1864320
          ],
          [
           1776555
          ],
          [
           1708510
          ],
          [
           1667465
          ],
          [
           1578218
          ],
          [
           1733729
          ],
          [
           1631817
          ],
          [
           1766601
          ],
          [
           1706141
          ],
          [
           1597500
          ],
          [
           1633925
          ],
          [
           1957931
          ],
          [
           1204191
          ],
          [
           2350580
          ],
          [
           937464
          ],
          [
           1819893
          ],
          [
           1816857
          ],
          [
           1643595
          ],
          [
           1588454
          ],
          [
           2127021
          ],
          [
           1952542
          ],
          [
           1475007
          ],
          [
           1617018
          ],
          [
           1933358
          ],
          [
           1931400
          ],
          [
           1867220
          ],
          [
           2071244
          ],
          [
           1735464
          ],
          [
           2047302
          ],
          [
           1657166
          ],
          [
           1703279
          ],
          [
           1718814
          ],
          [
           1616213
          ],
          [
           1897134
          ],
          [
           1867976
          ],
          [
           1648355
          ],
          [
           1903870
          ],
          [
           1852417
          ],
          [
           2040739
          ],
          [
           1641868
          ],
          [
           1937882
          ],
          [
           1956755
          ],
          [
           1365035
          ],
          [
           1642864
          ],
          [
           1744321
          ],
          [
           1570330
          ],
          [
           1666703
          ],
          [
           1805946
          ],
          [
           1563930
          ],
          [
           1611056
          ],
          [
           1734938
          ],
          [
           1528938
          ],
          [
           1965676
          ],
          [
           1643992
          ],
          [
           1288666
          ],
          [
           1427338
          ],
          [
           1558952
          ],
          [
           1874824
          ],
          [
           1501250
          ],
          [
           1266550
          ],
          [
           1632983
          ],
          [
           1660147
          ],
          [
           1771254
          ],
          [
           1810574
          ],
          [
           1340173
          ],
          [
           1651543
          ],
          [
           1904193
          ],
          [
           1387286
          ],
          [
           1363937
          ],
          [
           1653353
          ],
          [
           1787120
          ],
          [
           1710916
          ],
          [
           1516688
          ],
          [
           1638842
          ],
          [
           1676454
          ],
          [
           1842095
          ],
          [
           1513809
          ],
          [
           1909055
          ],
          [
           1834385
          ],
          [
           1804028
          ],
          [
           1770699
          ],
          [
           1202664
          ],
          [
           1659651
          ],
          [
           1814125
          ],
          [
           1776358
          ],
          [
           1629961
          ],
          [
           1880496
          ],
          [
           1728851
          ],
          [
           1444082
          ],
          [
           1296720
          ],
          [
           1736693
          ],
          [
           1434384
          ],
          [
           1508840
          ],
          [
           1948010
          ],
          [
           1206698
          ],
          [
           1318024
          ],
          [
           1530404
          ],
          [
           1631698
          ],
          [
           1573009
          ],
          [
           1657335
          ],
          [
           1761564
          ],
          [
           179232
          ],
          [
           1708013
          ],
          [
           55189
          ],
          [
           1751980
          ],
          [
           1886657
          ],
          [
           1234286
          ],
          [
           2040367
          ],
          [
           1683325
          ],
          [
           1848306
          ],
          [
           1473347
          ],
          [
           1909574
          ],
          [
           1884883
          ],
          [
           1792798
          ],
          [
           1539026
          ],
          [
           1424385
          ],
          [
           1807768
          ],
          [
           1915408
          ],
          [
           1637951
          ],
          [
           1506102
          ],
          [
           1648869
          ],
          [
           1723236
          ],
          [
           1370544
          ],
          [
           1575590
          ],
          [
           1685955
          ],
          [
           3150313
          ],
          [
           1281462
          ],
          [
           1951267
          ],
          [
           1760875
          ],
          [
           1712004
          ],
          [
           1800237
          ],
          [
           1807893
          ],
          [
           1652096
          ],
          [
           2298080
          ],
          [
           1308102
          ],
          [
           1484842
          ],
          [
           1493205
          ],
          [
           1603318
          ],
          [
           1674236
          ],
          [
           1892931
          ],
          [
           1845150
          ],
          [
           1796932
          ],
          [
           792464
          ],
          [
           2023431
          ],
          [
           1958939
          ],
          [
           1837723
          ],
          [
           1647350
          ],
          [
           1679891
          ],
          [
           1588693
          ],
          [
           1732263
          ],
          [
           1554176
          ],
          [
           1440380
          ],
          [
           1888025
          ],
          [
           1725187
          ],
          [
           1698003
          ],
          [
           1730553
          ],
          [
           1896333
          ],
          [
           1461004
          ],
          [
           1213777
          ],
          [
           1303649
          ],
          [
           1588111
          ],
          [
           1933169
          ],
          [
           1586117
          ],
          [
           2161096
          ],
          [
           1828433
          ],
          [
           2114809
          ],
          [
           1585980
          ],
          [
           1413599
          ],
          [
           1719322
          ],
          [
           1871099
          ],
          [
           1603220
          ],
          [
           1670391
          ],
          [
           1439691
          ],
          [
           1885064
          ],
          [
           1971658
          ],
          [
           1899747
          ],
          [
           1672845
          ],
          [
           1617470
          ],
          [
           1366060
          ],
          [
           1553385
          ],
          [
           2290492
          ],
          [
           556761
          ],
          [
           2378995
          ],
          [
           1794648
          ],
          [
           1556469
          ],
          [
           1889740
          ],
          [
           1022099
          ],
          [
           1323010
          ],
          [
           1881441
          ],
          [
           1885600
          ],
          [
           2161663
          ],
          [
           1744762
          ],
          [
           1985228
          ],
          [
           1633824
          ],
          [
           1925479
          ],
          [
           1807043
          ],
          [
           1382741
          ],
          [
           1739600
          ],
          [
           2146008
          ],
          [
           1479091
          ],
          [
           1391853
          ],
          [
           2010477
          ],
          [
           1761207
          ],
          [
           1520504
          ],
          [
           1356803
          ],
          [
           1662368
          ],
          [
           1708759
          ],
          [
           973410
          ],
          [
           2075824
          ],
          [
           1562331
          ],
          [
           1765312
          ],
          [
           1645884
          ],
          [
           1658672
          ],
          [
           1702248
          ],
          [
           1928204
          ],
          [
           1652965
          ],
          [
           1601220
          ],
          [
           1733805
          ],
          [
           2111738
          ],
          [
           1534256
          ],
          [
           1546938
          ],
          [
           1694329
          ],
          [
           1884339
          ],
          [
           1454436
          ],
          [
           1716459
          ],
          [
           1912911
          ],
          [
           1559740
          ],
          [
           1679506
          ],
          [
           1922764
          ],
          [
           1762252
          ],
          [
           1915959
          ],
          [
           1851112
          ],
          [
           1455577
          ],
          [
           1775051
          ],
          [
           1679534
          ],
          [
           1723538
          ],
          [
           1737133
          ],
          [
           1801717
          ],
          [
           1583129
          ],
          [
           1739082
          ],
          [
           1612512
          ],
          [
           1667282
          ],
          [
           1679030
          ],
          [
           1468530
          ],
          [
           1828764
          ],
          [
           1809109
          ],
          [
           1529431
          ],
          [
           1962903
          ],
          [
           1667253
          ],
          [
           1655239
          ],
          [
           1787878
          ],
          [
           1848489
          ],
          [
           1575064
          ],
          [
           1968276
          ],
          [
           1656474
          ],
          [
           2114201
          ],
          [
           1686215
          ],
          [
           1197806
          ],
          [
           1259085
          ],
          [
           1676668
          ],
          [
           1587079
          ],
          [
           2175529
          ],
          [
           1914739
          ],
          [
           1845547
          ],
          [
           2041612
          ],
          [
           434128
          ],
          [
           1195720
          ],
          [
           1269917
          ],
          [
           1803349
          ],
          [
           1752454
          ],
          [
           1666126
          ],
          [
           1552019
          ],
          [
           1799551
          ],
          [
           1851654
          ],
          [
           1592611
          ],
          [
           2067463
          ],
          [
           579352
          ],
          [
           1785472
          ],
          [
           1553860
          ],
          [
           1294671
          ],
          [
           2253448
          ],
          [
           1775196
          ],
          [
           1531525
          ],
          [
           1690620
          ],
          [
           1655704
          ],
          [
           1849429
          ],
          [
           1694646
          ],
          [
           1493543
          ],
          [
           1492317
          ],
          [
           1499639
          ],
          [
           2370903
          ],
          [
           1461052
          ],
          [
           1561040
          ],
          [
           1946870
          ],
          [
           1371427
          ],
          [
           1427783
          ],
          [
           1337110
          ],
          [
           1647399
          ],
          [
           1508963
          ],
          [
           1547800
          ],
          [
           1650453
          ],
          [
           1530014
          ],
          [
           1473862
          ],
          [
           1945992
          ],
          [
           1261861
          ],
          [
           1352857
          ],
          [
           1608545
          ],
          [
           716990
          ],
          [
           2069559
          ],
          [
           1685816
          ],
          [
           1513806
          ],
          [
           1612300
          ],
          [
           1661229
          ],
          [
           1614988
          ],
          [
           2191465
          ],
          [
           1556599
          ],
          [
           1288926
          ],
          [
           1794896
          ],
          [
           1735983
          ],
          [
           1665502
          ],
          [
           1671030
          ],
          [
           1856791
          ],
          [
           1741604
          ],
          [
           1652994
          ],
          [
           1444335
          ],
          [
           1484256
          ],
          [
           1829300
          ],
          [
           1503980
          ],
          [
           1666770
          ],
          [
           1743283
          ],
          [
           1359679
          ],
          [
           2371644
          ],
          [
           1916185
          ],
          [
           1498666
          ],
          [
           318471
          ],
          [
           1582400.9717934993
          ],
          [
           411346.8832798424
          ],
          [
           1644353.1150737212
          ],
          [
           1772123.4583131715
          ],
          [
           646729
          ],
          [
           1698986.6878278088
          ],
          [
           250029
          ],
          [
           121740
          ],
          [
           568281.104982515
          ],
          [
           1731423.3247479957
          ],
          [
           1805054.9374463586
          ],
          [
           1330051.2265762947
          ],
          [
           1479420.1213534693
          ],
          [
           1592357.041634522
          ],
          [
           1864447.0147089066
          ],
          [
           1313543.2125966665
          ],
          [
           55189
          ],
          [
           1792314.1201794483
          ],
          [
           1854902.7101187361
          ],
          [
           981609.2246572323
          ],
          [
           1017765.7952784527
          ],
          [
           792464
          ],
          [
           2100878.067652333
          ],
          [
           1213777
          ],
          [
           1550561.8931075688
          ],
          [
           973410
          ],
          [
           1608761.8167242955
          ],
          [
           1959342.8479804182
          ],
          [
           434128
          ],
          [
           1567181.864860669
          ],
          [
           1815183.074099372
          ],
          [
           1308942.396759421
          ],
          [
           1843504.556146671
          ],
          [
           1617600.669871884
          ],
          [
           1670124.3478314995
          ]
         ],
         "domain": {
          "x": [
           0,
           1
          ],
          "y": [
           0,
           1
          ]
         },
         "hovertemplate": "labels=%{label}<br>TOTAL ELECTORS_sum=%{value}<br>parent=%{parent}<br>id=%{id}<br>TOTAL ELECTORS=%{color}<extra></extra>",
         "ids": [
          "Telangana/ADILABAD",
          "Uttar Pradesh/AGRA",
          "Maharashtra/AHMADNAGAR",
          "Gujarat/AHMEDABAD EAST",
          "Gujarat/AHMEDABAD WEST",
          "Rajasthan/AJMER",
          "Uttar Pradesh/AKBARPUR",
          "Maharashtra/AKOLA",
          "Kerala/ALAPPUZHA",
          "Kerala/ALATHUR",
          "Uttar Pradesh/ALIGARH",
          "West Bengal/ALIPURDUARS",
          "Uttar Pradesh/ALLAHABAD",
          "Uttarakhand/ALMORA",
          "Rajasthan/ALWAR",
          "Andhra Pradesh/AMALAPURAM",
          "Haryana/AMBALA",
          "Uttar Pradesh/AMBEDKAR NAGAR",
          "Uttar Pradesh/AMETHI",
          "Maharashtra/AMRAVATI",
          "Gujarat/AMRELI",
          "Punjab/AMRITSAR",
          "Uttar Pradesh/AMROHA",
          "Andhra Pradesh/ANAKAPALLI",
          "Gujarat/ANAND",
          "Punjab/ANANDPUR SAHIB",
          "Andhra Pradesh/ANANTAPUR",
          "Jammu & Kashmir/ANANTNAG",
          "Andaman & Nicobar Islands/ANDAMAN & NICOBAR ISLANDS",
          "Uttar Pradesh/AONLA",
          "Tamil Nadu/ARAKKONAM",
          "West Bengal/ARAMBAGH",
          "Tamil Nadu/ARANI",
          "Bihar/ARARIA",
          "Bihar/ARRAH",
          "Andhra Pradesh/ARUKU",
          "Arunachal Pradesh/ARUNACHAL EAST",
          "Arunachal Pradesh/ARUNACHAL WEST",
          "West Bengal/ASANSOL",
          "Odisha/ASKA",
          "Kerala/ATTINGAL",
          "Bihar/AURANGABAD",
          "Maharashtra/AURANGABAD",
          "Assam/AUTONOMOUS DISTRICT",
          "Uttar Pradesh/AZAMGARH",
          "Uttar Pradesh/BADAUN",
          "Karnataka/BAGALKOT",
          "Uttar Pradesh/BAGHPAT",
          "West Bengal/BAHARAMPUR",
          "Uttar Pradesh/BAHRAICH",
          "Madhya Pradesh/BALAGHAT",
          "Odisha/BALASORE",
          "Uttar Pradesh/BALLIA",
          "West Bengal/BALURGHAT",
          "Gujarat/BANASKANTHA",
          "Uttar Pradesh/BANDA",
          "Karnataka/BANGALORE CENTRAL",
          "Karnataka/BANGALORE NORTH",
          "Karnataka/BANGALORE RURAL",
          "Karnataka/BANGALORE SOUTH",
          "West Bengal/BANGAON",
          "Bihar/BANKA",
          "West Bengal/BANKURA",
          "Uttar Pradesh/BANSGAON",
          "Rajasthan/BANSWARA",
          "Andhra Pradesh/BAPATLA",
          "Uttar Pradesh/BARABANKI",
          "Maharashtra/BARAMATI",
          "Jammu & Kashmir/BARAMULLA",
          "West Bengal/BARASAT",
          "West Bengal/BARDHAMAN DURGAPUR",
          "West Bengal/BARDHAMAN PURBA",
          "Gujarat/BARDOLI",
          "Uttar Pradesh/BAREILLY",
          "Odisha/BARGARH",
          "Rajasthan/BARMER",
          "Assam/BARPETA",
          "West Bengal/BARRACKPORE",
          "West Bengal/BASIRHAT",
          "Chhattisgarh/BASTAR",
          "Uttar Pradesh/BASTI",
          "Punjab/BATHINDA",
          "Maharashtra/BEED",
          "Bihar/BEGUSARAI",
          "Karnataka/BELGAUM",
          "Karnataka/BELLARY",
          "Odisha/BERHAMPUR",
          "Madhya Pradesh/BETUL",
          "Uttar Pradesh/BHADOHI",
          "Odisha/BHADRAK",
          "Bihar/BHAGALPUR",
          "Maharashtra/BHANDARA - GONDIYA",
          "Rajasthan/BHARATPUR",
          "Gujarat/BHARUCH",
          "Gujarat/BHAVNAGAR",
          "Rajasthan/BHILWARA",
          "Madhya Pradesh/BHIND",
          "Maharashtra/BHIWANDI",
          "Haryana/BHIWANI-MAHENDRAGARH",
          "Telangana/BHONGIR",
          "Madhya Pradesh/BHOPAL",
          "Odisha/BHUBANESWAR",
          "Karnataka/BIDAR",
          "Karnataka/BIJAPUR",
          "Uttar Pradesh/BIJNOR",
          "Rajasthan/BIKANER (SC)",
          "Chhattisgarh/BILASPUR",
          "West Bengal/BIRBHUM",
          "West Bengal/BISHNUPUR",
          "Odisha/BOLANGIR",
          "West Bengal/BOLPUR",
          "Uttar Pradesh/BULANDSHAHR",
          "Maharashtra/BULDHANA",
          "Bihar/BUXAR",
          "Kerala/CHALAKUDY",
          "Karnataka/CHAMARAJANAGAR",
          "Uttar Pradesh/CHANDAULI",
          "Chandigarh/CHANDIGARH",
          "NCT OF Delhi/CHANDNI CHOWK",
          "Maharashtra/CHANDRAPUR",
          "Jharkhand/CHATRA",
          "Tamil Nadu/CHENNAI CENTRAL",
          "Tamil Nadu/CHENNAI NORTH",
          "Tamil Nadu/CHENNAI SOUTH",
          "Telangana/CHEVELLA",
          "Madhya Pradesh/CHHINDWARA",
          "Gujarat/CHHOTA UDAIPUR",
          "Tamil Nadu/CHIDAMBARAM",
          "Karnataka/CHIKKBALLAPUR",
          "Karnataka/CHIKKODI",
          "Karnataka/CHITRADURGA",
          "Andhra Pradesh/CHITTOOR",
          "Rajasthan/CHITTORGARH",
          "Rajasthan/CHURU",
          "Tamil Nadu/COIMBATORE",
          "West Bengal/COOCH BEHAR",
          "Tamil Nadu/CUDDALORE",
          "Odisha/CUTTACK",
          "Dadra & Nagar Haveli/DADRA AND NAGAR HAVELI",
          "Gujarat/DAHOD",
          "Karnataka/DAKSHINA KANNADA",
          "Daman & Diu/DAMAN & DIU",
          "Madhya Pradesh/DAMOH",
          "Bihar/DARBHANGA",
          "West Bengal/DARJEELING",
          "Rajasthan/DAUSA",
          "Karnataka/DAVANAGERE",
          "Uttar Pradesh/DEORIA",
          "Madhya Pradesh/DEWAS",
          "Jharkhand/DHANBAD",
          "Madhya Pradesh/DHAR",
          "Tamil Nadu/DHARMAPURI",
          "Karnataka/DHARWAD",
          "Uttar Pradesh/DHAURAHRA",
          "Odisha/DHENKANAL",
          "Assam/DHUBRI",
          "Maharashtra/DHULE",
          "West Bengal/DIAMOND HARBOUR",
          "Assam/DIBRUGARH",
          "Tamil Nadu/DINDIGUL",
          "Maharashtra/DINDORI",
          "Uttar Pradesh/DOMARIYAGANJ",
          "West Bengal/DUM DUM",
          "Jharkhand/DUMKA",
          "Chhattisgarh/DURG",
          "NCT OF Delhi/EAST DELHI",
          "Andhra Pradesh/ELURU",
          "Kerala/ERNAKULAM",
          "Tamil Nadu/ERODE",
          "Uttar Pradesh/ETAH",
          "Uttar Pradesh/ETAWAH",
          "Uttar Pradesh/FAIZABAD",
          "Haryana/FARIDABAD",
          "Punjab/FARIDKOT",
          "Uttar Pradesh/FARRUKHABAD",
          "Punjab/FATEHGARH SAHIB",
          "Uttar Pradesh/FATEHPUR",
          "Uttar Pradesh/FATEHPUR SIKRI",
          "Uttar Pradesh/FIROZABAD",
          "Punjab/FIROZPUR",
          "Maharashtra/GADCHIROLI-CHIMUR",
          "Gujarat/GANDHINAGAR",
          "Rajasthan/GANGANAGAR",
          "Uttarakhand/GARHWAL",
          "Assam/GAUHATI",
          "Uttar Pradesh/GAUTAM BUDDHA NAGAR",
          "Bihar/GAYA (SC)",
          "West Bengal/GHATAL",
          "Uttar Pradesh/GHAZIABAD",
          "Uttar Pradesh/GHAZIPUR",
          "Uttar Pradesh/GHOSI",
          "Jharkhand/GIRIDIH",
          "Jharkhand/GODDA",
          "Uttar Pradesh/GONDA",
          "Bihar/GOPALGANJ (SC)",
          "Uttar Pradesh/GORAKHPUR",
          "Karnataka/GULBARGA",
          "Madhya Pradesh/GUNA",
          "Andhra Pradesh/GUNTUR",
          "Punjab/GURDASPUR",
          "Haryana/GURGAON",
          "Madhya Pradesh/GWALIOR",
          "Bihar/HAJIPUR (SC)",
          "Himachal Pradesh/HAMIRPUR",
          "Uttar Pradesh/HAMIRPUR",
          "Uttar Pradesh/HARDOI",
          "Uttarakhand/HARDWAR",
          "Karnataka/HASSAN",
          "Uttar Pradesh/HATHRAS",
          "Maharashtra/HATKANANGLE",
          "Karnataka/HAVERI",
          "Jharkhand/HAZARIBAGH",
          "Andhra Pradesh/HINDUPUR",
          "Maharashtra/HINGOLI",
          "Haryana/HISAR",
          "West Bengal/HOOGHLY",
          "Madhya Pradesh/HOSHANGABAD",
          "Punjab/HOSHIARPUR",
          "West Bengal/HOWRAH",
          "Telangana/HYDERABAD",
          "Kerala/IDUKKI",
          "Madhya Pradesh/INDORE",
          "Manipur/INNER MANIPUR",
          "Madhya Pradesh/JABALPUR",
          "West Bengal/JADAVPUR",
          "Odisha/JAGATSINGHPUR",
          "Bihar/JAHANABAD",
          "Rajasthan/JAIPUR",
          "Rajasthan/JAIPUR RURAL",
          "Odisha/JAJPUR",
          "Punjab/JALANDHAR",
          "Uttar Pradesh/JALAUN",
          "Maharashtra/JALGAON",
          "Maharashtra/JALNA",
          "Rajasthan/JALORE",
          "West Bengal/JALPAIGURI",
          "Jammu & Kashmir/JAMMU",
          "Gujarat/JAMNAGAR",
          "Jharkhand/JAMSHEDPUR",
          "Bihar/JAMUI (SC)",
          "West Bengal/JANGIPUR",
          "Chhattisgarh/JANJGIR-CHAMPA",
          "Uttar Pradesh/JAUNPUR",
          "West Bengal/JAYNAGAR",
          "Rajasthan/JHALAWAR-BARAN",
          "Bihar/JHANJHARPUR",
          "Uttar Pradesh/JHANSI",
          "West Bengal/JHARGRAM",
          "Rajasthan/JHUNJHUNU",
          "Rajasthan/JODHPUR",
          "Assam/JORHAT",
          "Gujarat/JUNAGADH",
          "Gujarat/KACHCHH",
          "Andhra Pradesh/KADAPA",
          "Uttar Pradesh/KAIRANA",
          "Uttar Pradesh/KAISERGANJ",
          "Andhra Pradesh/KAKINADA",
          "Odisha/KALAHANDI",
          "Assam/KALIABOR",
          "Tamil Nadu/KALLAKURICHI",
          "Maharashtra/KALYAN",
          "Tamil Nadu/KANCHEEPURAM",
          "Odisha/KANDHAMAL",
          "Himachal Pradesh/KANGRA",
          "Chhattisgarh/KANKER",
          "Uttar Pradesh/KANNAUJ",
          "Tamil Nadu/KANNIYAKUMARI",
          "Kerala/KANNUR",
          "Uttar Pradesh/KANPUR",
          "West Bengal/KANTHI",
          "Bihar/KARAKAT",
          "Rajasthan/KARAULI-DHOLPUR",
          "Assam/KARIMGANJ",
          "Telangana/KARIMNAGAR",
          "Haryana/KARNAL",
          "Tamil Nadu/KARUR",
          "Kerala/KASARAGOD",
          "Bihar/KATIHAR",
          "Uttar Pradesh/KAUSHAMBI",
          "Odisha/KENDRAPARA",
          "Odisha/KEONJHAR",
          "Punjab/KHADOOR SAHIB",
          "Bihar/KHAGARIA",
          "Madhya Pradesh/KHAJURAHO",
          "Telangana/KHAMMAM",
          "Madhya Pradesh/KHANDWA",
          "Madhya Pradesh/KHARGONE",
          "Gujarat/KHEDA",
          "Uttar Pradesh/KHERI",
          "Jharkhand/KHUNTI",
          "Bihar/KISHANGANJ",
          "Jharkhand/KODARMA",
          "Assam/KOKRAJHAR",
          "Karnataka/KOLAR",
          "Maharashtra/KOLHAPUR",
          "West Bengal/KOLKATA DAKSHIN",
          "West Bengal/KOLKATA UTTAR",
          "Kerala/KOLLAM",
          "Karnataka/KOPPAL",
          "Odisha/KORAPUT",
          "Chhattisgarh/KORBA",
          "Rajasthan/KOTA",
          "Kerala/KOTTAYAM",
          "Kerala/KOZHIKODE",
          "Tamil Nadu/KRISHNAGIRI",
          "West Bengal/KRISHNANAGAR",
          "Andhra Pradesh/KURNOOL",
          "Haryana/KURUKSHETRA",
          "Uttar Pradesh/KUSHI NAGAR",
          "Jammu & Kashmir/LADAKH",
          "Assam/LAKHIMPUR",
          "Lakshadweep/LAKSHADWEEP",
          "Uttar Pradesh/LALGANJ",
          "Maharashtra/LATUR",
          "Jharkhand/LOHARDAGA",
          "Uttar Pradesh/LUCKNOW",
          "Punjab/LUDHIANA",
          "Uttar Pradesh/MACHHLISHAHR",
          "Andhra Pradesh/MACHILIPATNAM",
          "Maharashtra/MADHA",
          "Bihar/MADHEPURA",
          "Bihar/MADHUBANI",
          "Tamil Nadu/MADURAI",
          "Telangana/MAHABUBABAD",
          "Bihar/MAHARAJGANJ",
          "Uttar Pradesh/MAHARAJGANJ",
          "Chhattisgarh/MAHASAMUND",
          "Telangana/MAHBUBNAGAR",
          "Gujarat/MAHESANA",
          "Uttar Pradesh/MAINPURI",
          "Kerala/MALAPPURAM",
          "West Bengal/MALDAHA DAKSHIN",
          "West Bengal/MALDAHA UTTAR",
          "Telangana/MALKAJGIRI",
          "Himachal Pradesh/MANDI",
          "Madhya Pradesh/MANDLA",
          "Madhya Pradesh/MANDSOUR",
          "Karnataka/MANDYA",
          "Assam/MANGALDOI",
          "Uttar Pradesh/MATHURA",
          "West Bengal/MATHURAPUR",
          "Maharashtra/MAVAL",
          "Kerala/MAVELIKKARA",
          "Tamil Nadu/MAYILADUTHURAI",
          "Odisha/MAYURBHANJ",
          "Telangana/MEDAK",
          "West Bengal/MEDINIPUR",
          "Uttar Pradesh/MEERUT",
          "Uttar Pradesh/MIRZAPUR",
          "Uttar Pradesh/MISRIKH",
          "Mizoram/MIZORAM",
          "Uttar Pradesh/MOHANLALGANJ",
          "Uttar Pradesh/MORADABAD",
          "Madhya Pradesh/MORENA",
          "Maharashtra/MUMBAI NORTH",
          "Maharashtra/MUMBAI NORTH CENTRAL",
          "Maharashtra/MUMBAI NORTH EAST",
          "Maharashtra/MUMBAI NORTH WEST",
          "Maharashtra/MUMBAI SOUTH",
          "Maharashtra/MUMBAI SOUTH CENTRAL",
          "Bihar/MUNGER",
          "West Bengal/MURSHIDABAD",
          "Uttar Pradesh/MUZAFFARNAGAR",
          "Bihar/MUZAFFARPUR",
          "Karnataka/MYSORE",
          "Odisha/NABARANGPUR",
          "Nagaland/NAGALAND",
          "Tamil Nadu/NAGAPATTINAM",
          "Telangana/NAGARKURNOOL",
          "Rajasthan/NAGAUR",
          "Uttar Pradesh/NAGINA",
          "Maharashtra/NAGPUR",
          "Uttarakhand/NAINITAL-UDHAMSINGH NAGAR",
          "Bihar/NALANDA",
          "Telangana/NALGONDA",
          "Tamil Nadu/NAMAKKAL",
          "Maharashtra/NANDED",
          "Maharashtra/NANDURBAR",
          "Andhra Pradesh/NANDYAL",
          "Andhra Pradesh/NARASARAOPET",
          "Andhra Pradesh/NARSAPURAM",
          "Maharashtra/NASHIK",
          "Gujarat/NAVSARI",
          "Bihar/NAWADA",
          "Andhra Pradesh/NELLORE",
          "NCT OF Delhi/NEW DELHI",
          "Tamil Nadu/NILGIRIS",
          "Telangana/NIZAMABAD",
          "NCT OF Delhi/NORTH EAST DELHI",
          "Goa/NORTH GOA",
          "NCT OF Delhi/NORTH WEST DELHI",
          "Assam/NOWGONG",
          "Andhra Pradesh/ONGOLE",
          "Maharashtra/OSMANABAD",
          "Manipur/OUTER MANIPUR",
          "Kerala/PALAKKAD",
          "Jharkhand/PALAMAU",
          "Maharashtra/PALGHAR",
          "Rajasthan/PALI",
          "Gujarat/PANCHMAHAL",
          "Maharashtra/PARBHANI",
          "Bihar/PASCHIM CHAMPARAN",
          "Bihar/PATALIPUTRA",
          "Gujarat/PATAN",
          "Kerala/PATHANAMTHITTA",
          "Punjab/PATIALA",
          "Bihar/PATNA SAHIB",
          "Telangana/PEDDAPALLE",
          "Tamil Nadu/PERAMBALUR",
          "Uttar Pradesh/PHULPUR",
          "Uttar Pradesh/PILIBHIT",
          "Tamil Nadu/POLLACHI",
          "Kerala/PONNANI",
          "Gujarat/PORBANDAR",
          "Uttar Pradesh/PRATAPGARH",
          "Puducherry/PUDUCHERRY",
          "Maharashtra/PUNE",
          "Odisha/PURI",
          "Bihar/PURNIA",
          "West Bengal/PURULIA",
          "Bihar/PURVI CHAMPARAN",
          "Uttar Pradesh/RAE BARELI",
          "Karnataka/RAICHUR",
          "Maharashtra/RAIGAD",
          "West Bengal/RAIGANJ",
          "Chhattisgarh/RAIGARH",
          "Chhattisgarh/RAIPUR",
          "Andhra Pradesh/RAJAHMUNDRY",
          "Andhra Pradesh/RAJAMPET",
          "Madhya Pradesh/RAJGARH",
          "Gujarat/RAJKOT",
          "Jharkhand/RAJMAHAL",
          "Chhattisgarh/RAJNANDGAON",
          "Rajasthan/RAJSAMAND",
          "Tamil Nadu/RAMANATHAPURAM",
          "Uttar Pradesh/RAMPUR",
          "Maharashtra/RAMTEK",
          "West Bengal/RANAGHAT",
          "Jharkhand/RANCHI",
          "Madhya Pradesh/RATLAM",
          "Maharashtra/RATNAGIRI - SINDHUDURG",
          "Maharashtra/RAVER",
          "Madhya Pradesh/REWA",
          "Uttar Pradesh/ROBERTSGANJ",
          "Haryana/ROHTAK",
          "Gujarat/SABARKANTHA",
          "Madhya Pradesh/SAGAR",
          "Uttar Pradesh/SAHARANPUR",
          "Tamil Nadu/SALEM",
          "Uttar Pradesh/SALEMPUR",
          "Bihar/SAMASTIPUR (SC)",
          "Odisha/SAMBALPUR",
          "Uttar Pradesh/SAMBHAL",
          "Maharashtra/SANGLI",
          "Punjab/SANGRUR",
          "Uttar Pradesh/SANT KABIR NAGAR",
          "Bihar/SARAN",
          "Chhattisgarh/SARGUJA",
          "Bihar/SASARAM (SC)",
          "Maharashtra/SATARA",
          "Madhya Pradesh/SATNA",
          "Telangana/SECUNDRABAD",
          "Madhya Pradesh/SHAHDOL",
          "Uttar Pradesh/SHAHJAHANPUR",
          "Bihar/SHEOHAR",
          "Meghalaya/SHILLONG",
          "Himachal Pradesh/SHIMLA",
          "Karnataka/SHIMOGA",
          "Maharashtra/SHIRDI",
          "Maharashtra/SHIRUR",
          "Uttar Pradesh/SHRAWASTI",
          "Madhya Pradesh/SIDHI",
          "Rajasthan/SIKAR",
          "Sikkim/SIKKIM",
          "Assam/SILCHAR",
          "Jharkhand/SINGHBHUM",
          "Haryana/SIRSA",
          "Bihar/SITAMARHI",
          "Uttar Pradesh/SITAPUR",
          "Tamil Nadu/SIVAGANGA",
          "Bihar/SIWAN",
          "Maharashtra/SOLAPUR",
          "Haryana/SONIPAT",
          "NCT OF Delhi/SOUTH DELHI",
          "Goa/SOUTH GOA",
          "West Bengal/SRERAMPUR",
          "Andhra Pradesh/SRIKAKULAM",
          "Jammu & Kashmir/SRINAGAR",
          "Tamil Nadu/SRIPERUMBUDUR",
          "Uttar Pradesh/SULTANPUR",
          "Odisha/SUNDARGARH",
          "Bihar/SUPAUL",
          "Gujarat/SURAT",
          "Gujarat/SURENDRANAGAR",
          "West Bengal/TAMLUK",
          "Uttarakhand/TEHRI GARHWAL",
          "Tamil Nadu/TENKASI",
          "Assam/TEZPUR",
          "Maharashtra/THANE",
          "Tamil Nadu/THANJAVUR",
          "Tamil Nadu/THENI",
          "Tamil Nadu/THIRUVALLUR",
          "Kerala/THIRUVANANTHAPURAM",
          "Tamil Nadu/THOOTHUKKUDI",
          "Kerala/THRISSUR",
          "Madhya Pradesh/TIKAMGARH",
          "Tamil Nadu/TIRUCHIRAPPALLI",
          "Tamil Nadu/TIRUNELVELI",
          "Andhra Pradesh/TIRUPATI",
          "Tamil Nadu/TIRUPPUR",
          "Tamil Nadu/TIRUVANNAMALAI",
          "Rajasthan/TONK-SAWAI MADHOPUR",
          "Tripura/TRIPURA EAST",
          "Tripura/TRIPURA WEST",
          "Karnataka/TUMKUR",
          "Meghalaya/TURA",
          "Rajasthan/UDAIPUR",
          "Jammu & Kashmir/UDHAMPUR",
          "Karnataka/UDUPI CHIKMAGALUR",
          "Bihar/UJIARPUR",
          "Madhya Pradesh/UJJAIN",
          "West Bengal/ULUBERIA",
          "Uttar Pradesh/UNNAO",
          "Karnataka/UTTARA KANNADA",
          "Kerala/VADAKARA",
          "Gujarat/VADODARA",
          "Bihar/VAISHALI",
          "Bihar/VALMIKI NAGAR",
          "Gujarat/VALSAD",
          "Uttar Pradesh/VARANASI",
          "Madhya Pradesh/VIDISHA",
          "Andhra Pradesh/VIJAYAWADA",
          "Tamil Nadu/VILUPPURAM",
          "Tamil Nadu/VIRUDHUNAGAR",
          "Andhra Pradesh/VISAKHAPATNAM",
          "Andhra Pradesh/VIZIANAGARAM",
          "Telangana/WARANGAL",
          "Maharashtra/WARDHA",
          "Kerala/WAYANAD",
          "NCT OF Delhi/WEST DELHI",
          "Maharashtra/YAVATMAL-WASHIM",
          "Telangana/ZAHIRABAD",
          "Andaman & Nicobar Islands",
          "Andhra Pradesh",
          "Arunachal Pradesh",
          "Assam",
          "Bihar",
          "Chandigarh",
          "Chhattisgarh",
          "Dadra & Nagar Haveli",
          "Daman & Diu",
          "Goa",
          "Gujarat",
          "Haryana",
          "Himachal Pradesh",
          "Jammu & Kashmir",
          "Jharkhand",
          "Karnataka",
          "Kerala",
          "Lakshadweep",
          "Madhya Pradesh",
          "Maharashtra",
          "Manipur",
          "Meghalaya",
          "Mizoram",
          "NCT OF Delhi",
          "Nagaland",
          "Odisha",
          "Puducherry",
          "Punjab",
          "Rajasthan",
          "Sikkim",
          "Tamil Nadu",
          "Telangana",
          "Tripura",
          "Uttar Pradesh",
          "Uttarakhand",
          "West Bengal"
         ],
         "labels": [
          "ADILABAD",
          "AGRA",
          "AHMADNAGAR",
          "AHMEDABAD EAST",
          "AHMEDABAD WEST",
          "AJMER",
          "AKBARPUR",
          "AKOLA",
          "ALAPPUZHA",
          "ALATHUR",
          "ALIGARH",
          "ALIPURDUARS",
          "ALLAHABAD",
          "ALMORA",
          "ALWAR",
          "AMALAPURAM",
          "AMBALA",
          "AMBEDKAR NAGAR",
          "AMETHI",
          "AMRAVATI",
          "AMRELI",
          "AMRITSAR",
          "AMROHA",
          "ANAKAPALLI",
          "ANAND",
          "ANANDPUR SAHIB",
          "ANANTAPUR",
          "ANANTNAG",
          "ANDAMAN & NICOBAR ISLANDS",
          "AONLA",
          "ARAKKONAM",
          "ARAMBAGH",
          "ARANI",
          "ARARIA",
          "ARRAH",
          "ARUKU",
          "ARUNACHAL EAST",
          "ARUNACHAL WEST",
          "ASANSOL",
          "ASKA",
          "ATTINGAL",
          "AURANGABAD",
          "AURANGABAD",
          "AUTONOMOUS DISTRICT",
          "AZAMGARH",
          "BADAUN",
          "BAGALKOT",
          "BAGHPAT",
          "BAHARAMPUR",
          "BAHRAICH",
          "BALAGHAT",
          "BALASORE",
          "BALLIA",
          "BALURGHAT",
          "BANASKANTHA",
          "BANDA",
          "BANGALORE CENTRAL",
          "BANGALORE NORTH",
          "BANGALORE RURAL",
          "BANGALORE SOUTH",
          "BANGAON",
          "BANKA",
          "BANKURA",
          "BANSGAON",
          "BANSWARA",
          "BAPATLA",
          "BARABANKI",
          "BARAMATI",
          "BARAMULLA",
          "BARASAT",
          "BARDHAMAN DURGAPUR",
          "BARDHAMAN PURBA",
          "BARDOLI",
          "BAREILLY",
          "BARGARH",
          "BARMER",
          "BARPETA",
          "BARRACKPORE",
          "BASIRHAT",
          "BASTAR",
          "BASTI",
          "BATHINDA",
          "BEED",
          "BEGUSARAI",
          "BELGAUM",
          "BELLARY",
          "BERHAMPUR",
          "BETUL",
          "BHADOHI",
          "BHADRAK",
          "BHAGALPUR",
          "BHANDARA - GONDIYA",
          "BHARATPUR",
          "BHARUCH",
          "BHAVNAGAR",
          "BHILWARA",
          "BHIND",
          "BHIWANDI",
          "BHIWANI-MAHENDRAGARH",
          "BHONGIR",
          "BHOPAL",
          "BHUBANESWAR",
          "BIDAR",
          "BIJAPUR",
          "BIJNOR",
          "BIKANER (SC)",
          "BILASPUR",
          "BIRBHUM",
          "BISHNUPUR",
          "BOLANGIR",
          "BOLPUR",
          "BULANDSHAHR",
          "BULDHANA",
          "BUXAR",
          "CHALAKUDY",
          "CHAMARAJANAGAR",
          "CHANDAULI",
          "CHANDIGARH",
          "CHANDNI CHOWK",
          "CHANDRAPUR",
          "CHATRA",
          "CHENNAI CENTRAL",
          "CHENNAI NORTH",
          "CHENNAI SOUTH",
          "CHEVELLA",
          "CHHINDWARA",
          "CHHOTA UDAIPUR",
          "CHIDAMBARAM",
          "CHIKKBALLAPUR",
          "CHIKKODI",
          "CHITRADURGA",
          "CHITTOOR",
          "CHITTORGARH",
          "CHURU",
          "COIMBATORE",
          "COOCH BEHAR",
          "CUDDALORE",
          "CUTTACK",
          "DADRA AND NAGAR HAVELI",
          "DAHOD",
          "DAKSHINA KANNADA",
          "DAMAN & DIU",
          "DAMOH",
          "DARBHANGA",
          "DARJEELING",
          "DAUSA",
          "DAVANAGERE",
          "DEORIA",
          "DEWAS",
          "DHANBAD",
          "DHAR",
          "DHARMAPURI",
          "DHARWAD",
          "DHAURAHRA",
          "DHENKANAL",
          "DHUBRI",
          "DHULE",
          "DIAMOND HARBOUR",
          "DIBRUGARH",
          "DINDIGUL",
          "DINDORI",
          "DOMARIYAGANJ",
          "DUM DUM",
          "DUMKA",
          "DURG",
          "EAST DELHI",
          "ELURU",
          "ERNAKULAM",
          "ERODE",
          "ETAH",
          "ETAWAH",
          "FAIZABAD",
          "FARIDABAD",
          "FARIDKOT",
          "FARRUKHABAD",
          "FATEHGARH SAHIB",
          "FATEHPUR",
          "FATEHPUR SIKRI",
          "FIROZABAD",
          "FIROZPUR",
          "GADCHIROLI-CHIMUR",
          "GANDHINAGAR",
          "GANGANAGAR",
          "GARHWAL",
          "GAUHATI",
          "GAUTAM BUDDHA NAGAR",
          "GAYA (SC)",
          "GHATAL",
          "GHAZIABAD",
          "GHAZIPUR",
          "GHOSI",
          "GIRIDIH",
          "GODDA",
          "GONDA",
          "GOPALGANJ (SC)",
          "GORAKHPUR",
          "GULBARGA",
          "GUNA",
          "GUNTUR",
          "GURDASPUR",
          "GURGAON",
          "GWALIOR",
          "HAJIPUR (SC)",
          "HAMIRPUR",
          "HAMIRPUR",
          "HARDOI",
          "HARDWAR",
          "HASSAN",
          "HATHRAS",
          "HATKANANGLE",
          "HAVERI",
          "HAZARIBAGH",
          "HINDUPUR",
          "HINGOLI",
          "HISAR",
          "HOOGHLY",
          "HOSHANGABAD",
          "HOSHIARPUR",
          "HOWRAH",
          "HYDERABAD",
          "IDUKKI",
          "INDORE",
          "INNER MANIPUR",
          "JABALPUR",
          "JADAVPUR",
          "JAGATSINGHPUR",
          "JAHANABAD",
          "JAIPUR",
          "JAIPUR RURAL",
          "JAJPUR",
          "JALANDHAR",
          "JALAUN",
          "JALGAON",
          "JALNA",
          "JALORE",
          "JALPAIGURI",
          "JAMMU",
          "JAMNAGAR",
          "JAMSHEDPUR",
          "JAMUI (SC)",
          "JANGIPUR",
          "JANJGIR-CHAMPA",
          "JAUNPUR",
          "JAYNAGAR",
          "JHALAWAR-BARAN",
          "JHANJHARPUR",
          "JHANSI",
          "JHARGRAM",
          "JHUNJHUNU",
          "JODHPUR",
          "JORHAT",
          "JUNAGADH",
          "KACHCHH",
          "KADAPA",
          "KAIRANA",
          "KAISERGANJ",
          "KAKINADA",
          "KALAHANDI",
          "KALIABOR",
          "KALLAKURICHI",
          "KALYAN",
          "KANCHEEPURAM",
          "KANDHAMAL",
          "KANGRA",
          "KANKER",
          "KANNAUJ",
          "KANNIYAKUMARI",
          "KANNUR",
          "KANPUR",
          "KANTHI",
          "KARAKAT",
          "KARAULI-DHOLPUR",
          "KARIMGANJ",
          "KARIMNAGAR",
          "KARNAL",
          "KARUR",
          "KASARAGOD",
          "KATIHAR",
          "KAUSHAMBI",
          "KENDRAPARA",
          "KEONJHAR",
          "KHADOOR SAHIB",
          "KHAGARIA",
          "KHAJURAHO",
          "KHAMMAM",
          "KHANDWA",
          "KHARGONE",
          "KHEDA",
          "KHERI",
          "KHUNTI",
          "KISHANGANJ",
          "KODARMA",
          "KOKRAJHAR",
          "KOLAR",
          "KOLHAPUR",
          "KOLKATA DAKSHIN",
          "KOLKATA UTTAR",
          "KOLLAM",
          "KOPPAL",
          "KORAPUT",
          "KORBA",
          "KOTA",
          "KOTTAYAM",
          "KOZHIKODE",
          "KRISHNAGIRI",
          "KRISHNANAGAR",
          "KURNOOL",
          "KURUKSHETRA",
          "KUSHI NAGAR",
          "LADAKH",
          "LAKHIMPUR",
          "LAKSHADWEEP",
          "LALGANJ",
          "LATUR",
          "LOHARDAGA",
          "LUCKNOW",
          "LUDHIANA",
          "MACHHLISHAHR",
          "MACHILIPATNAM",
          "MADHA",
          "MADHEPURA",
          "MADHUBANI",
          "MADURAI",
          "MAHABUBABAD",
          "MAHARAJGANJ",
          "MAHARAJGANJ",
          "MAHASAMUND",
          "MAHBUBNAGAR",
          "MAHESANA",
          "MAINPURI",
          "MALAPPURAM",
          "MALDAHA DAKSHIN",
          "MALDAHA UTTAR",
          "MALKAJGIRI",
          "MANDI",
          "MANDLA",
          "MANDSOUR",
          "MANDYA",
          "MANGALDOI",
          "MATHURA",
          "MATHURAPUR",
          "MAVAL",
          "MAVELIKKARA",
          "MAYILADUTHURAI",
          "MAYURBHANJ",
          "MEDAK",
          "MEDINIPUR",
          "MEERUT",
          "MIRZAPUR",
          "MISRIKH",
          "MIZORAM",
          "MOHANLALGANJ",
          "MORADABAD",
          "MORENA",
          "MUMBAI NORTH",
          "MUMBAI NORTH CENTRAL",
          "MUMBAI NORTH EAST",
          "MUMBAI NORTH WEST",
          "MUMBAI SOUTH",
          "MUMBAI SOUTH CENTRAL",
          "MUNGER",
          "MURSHIDABAD",
          "MUZAFFARNAGAR",
          "MUZAFFARPUR",
          "MYSORE",
          "NABARANGPUR",
          "NAGALAND",
          "NAGAPATTINAM",
          "NAGARKURNOOL",
          "NAGAUR",
          "NAGINA",
          "NAGPUR",
          "NAINITAL-UDHAMSINGH NAGAR",
          "NALANDA",
          "NALGONDA",
          "NAMAKKAL",
          "NANDED",
          "NANDURBAR",
          "NANDYAL",
          "NARASARAOPET",
          "NARSAPURAM",
          "NASHIK",
          "NAVSARI",
          "NAWADA",
          "NELLORE",
          "NEW DELHI",
          "NILGIRIS",
          "NIZAMABAD",
          "NORTH EAST DELHI",
          "NORTH GOA",
          "NORTH WEST DELHI",
          "NOWGONG",
          "ONGOLE",
          "OSMANABAD",
          "OUTER MANIPUR",
          "PALAKKAD",
          "PALAMAU",
          "PALGHAR",
          "PALI",
          "PANCHMAHAL",
          "PARBHANI",
          "PASCHIM CHAMPARAN",
          "PATALIPUTRA",
          "PATAN",
          "PATHANAMTHITTA",
          "PATIALA",
          "PATNA SAHIB",
          "PEDDAPALLE",
          "PERAMBALUR",
          "PHULPUR",
          "PILIBHIT",
          "POLLACHI",
          "PONNANI",
          "PORBANDAR",
          "PRATAPGARH",
          "PUDUCHERRY",
          "PUNE",
          "PURI",
          "PURNIA",
          "PURULIA",
          "PURVI CHAMPARAN",
          "RAE BARELI",
          "RAICHUR",
          "RAIGAD",
          "RAIGANJ",
          "RAIGARH",
          "RAIPUR",
          "RAJAHMUNDRY",
          "RAJAMPET",
          "RAJGARH",
          "RAJKOT",
          "RAJMAHAL",
          "RAJNANDGAON",
          "RAJSAMAND",
          "RAMANATHAPURAM",
          "RAMPUR",
          "RAMTEK",
          "RANAGHAT",
          "RANCHI",
          "RATLAM",
          "RATNAGIRI - SINDHUDURG",
          "RAVER",
          "REWA",
          "ROBERTSGANJ",
          "ROHTAK",
          "SABARKANTHA",
          "SAGAR",
          "SAHARANPUR",
          "SALEM",
          "SALEMPUR",
          "SAMASTIPUR (SC)",
          "SAMBALPUR",
          "SAMBHAL",
          "SANGLI",
          "SANGRUR",
          "SANT KABIR NAGAR",
          "SARAN",
          "SARGUJA",
          "SASARAM (SC)",
          "SATARA",
          "SATNA",
          "SECUNDRABAD",
          "SHAHDOL",
          "SHAHJAHANPUR",
          "SHEOHAR",
          "SHILLONG",
          "SHIMLA",
          "SHIMOGA",
          "SHIRDI",
          "SHIRUR",
          "SHRAWASTI",
          "SIDHI",
          "SIKAR",
          "SIKKIM",
          "SILCHAR",
          "SINGHBHUM",
          "SIRSA",
          "SITAMARHI",
          "SITAPUR",
          "SIVAGANGA",
          "SIWAN",
          "SOLAPUR",
          "SONIPAT",
          "SOUTH DELHI",
          "SOUTH GOA",
          "SRERAMPUR",
          "SRIKAKULAM",
          "SRINAGAR",
          "SRIPERUMBUDUR",
          "SULTANPUR",
          "SUNDARGARH",
          "SUPAUL",
          "SURAT",
          "SURENDRANAGAR",
          "TAMLUK",
          "TEHRI GARHWAL",
          "TENKASI",
          "TEZPUR",
          "THANE",
          "THANJAVUR",
          "THENI",
          "THIRUVALLUR",
          "THIRUVANANTHAPURAM",
          "THOOTHUKKUDI",
          "THRISSUR",
          "TIKAMGARH",
          "TIRUCHIRAPPALLI",
          "TIRUNELVELI",
          "TIRUPATI",
          "TIRUPPUR",
          "TIRUVANNAMALAI",
          "TONK-SAWAI MADHOPUR",
          "TRIPURA EAST",
          "TRIPURA WEST",
          "TUMKUR",
          "TURA",
          "UDAIPUR",
          "UDHAMPUR",
          "UDUPI CHIKMAGALUR",
          "UJIARPUR",
          "UJJAIN",
          "ULUBERIA",
          "UNNAO",
          "UTTARA KANNADA",
          "VADAKARA",
          "VADODARA",
          "VAISHALI",
          "VALMIKI NAGAR",
          "VALSAD",
          "VARANASI",
          "VIDISHA",
          "VIJAYAWADA",
          "VILUPPURAM",
          "VIRUDHUNAGAR",
          "VISAKHAPATNAM",
          "VIZIANAGARAM",
          "WARANGAL",
          "WARDHA",
          "WAYANAD",
          "WEST DELHI",
          "YAVATMAL-WASHIM",
          "ZAHIRABAD",
          "Andaman & Nicobar Islands",
          "Andhra Pradesh",
          "Arunachal Pradesh",
          "Assam",
          "Bihar",
          "Chandigarh",
          "Chhattisgarh",
          "Dadra & Nagar Haveli",
          "Daman & Diu",
          "Goa",
          "Gujarat",
          "Haryana",
          "Himachal Pradesh",
          "Jammu & Kashmir",
          "Jharkhand",
          "Karnataka",
          "Kerala",
          "Lakshadweep",
          "Madhya Pradesh",
          "Maharashtra",
          "Manipur",
          "Meghalaya",
          "Mizoram",
          "NCT OF Delhi",
          "Nagaland",
          "Odisha",
          "Puducherry",
          "Punjab",
          "Rajasthan",
          "Sikkim",
          "Tamil Nadu",
          "Telangana",
          "Tripura",
          "Uttar Pradesh",
          "Uttarakhand",
          "West Bengal"
         ],
         "marker": {
          "coloraxis": "coloraxis",
          "colors": [
           1489790,
           1937690,
           1861396,
           1811851,
           1643317,
           1876346,
           1766121,
           1865169,
           1356701,
           1266794,
           1887127,
           1648383,
           1716160,
           1337808,
           1888524,
           1459556,
           1853711,
           1785657,
           1743515,
           1833091,
           1628451,
           1507875,
           1646435,
           1521363,
           1655870,
           1698876,
           1664160,
           1397779,
           318471,
           1785605,
           1500016,
           1764726,
           1449150,
           1805439,
           2089353,
           1451418,
           339788,
           463775,
           1615865,
           1541145,
           1350710,
           1742883,
           1886284,
           795945,
           1789168,
           1891576,
           1704010,
           1616476,
           1638378,
           1729908,
           1767725,
           1531781,
           1822625,
           1431704,
           1697384,
           1702024,
           2204817,
           2849250,
           2497458,
           2215489,
           1704632,
           1699394,
           1648906,
           1751258,
           1975368,
           1468671,
           1816830,
           2114663,
           1317738,
           1718252,
           1733578,
           1698089,
           1826526,
           1797655,
           1596290,
           1941231,
           1685149,
           1436431,
           1678357,
           1379122,
           1845223,
           1621671,
           2045405,
           1958382,
           1779350,
           1751734,
           1502455,
           1737437,
           1942514,
           1661661,
           1823820,
           1811556,
           1943794,
           1564519,
           1768297,
           1997328,
           1765334,
           1890100,
           1654317,
           1628033,
           2142861,
           1699678,
           1775095,
           1797587,
           1664125,
           1851628,
           1876953,
           1699219,
           1627199,
           1744446,
           1705073,
           1787925,
           1762918,
           1829373,
           1230197,
           1686333,
           1756837,
           646729,
           1562283,
           1910188,
           1425218,
           1332300,
           1487681,
           1973533,
           2443112,
           1514783,
           1671253,
           1480222,
           1808780,
           1612556,
           1760633,
           1566499,
           2015911,
           2019104,
           1958904,
           1814200,
           1364038,
           1518996,
           250029,
           1598939,
           1724976,
           121740,
           1768777,
           1654811,
           1611317,
           1730289,
           1633064,
           1754195,
           1760503,
           2072634,
           1786151,
           1485804,
           1727311,
           1644674,
           1504403,
           1858566,
           1908173,
           1719190,
           1314319,
           1541881,
           1732936,
           1885433,
           1566196,
           1397253,
           1940269,
           2039302,
           1594950,
           1245972,
           1462246,
           1621295,
           1757984,
           1821785,
           2071816,
           1541971,
           1708585,
           1502861,
           1839312,
           1718837,
           1790510,
           1618419,
           1581366,
           1945772,
           1943486,
           1355796,
           2181319,
           2302960,
           1704596,
           1800002,
           2728978,
           1881077,
           1991651,
           1649413,
           1716766,
           1770248,
           1839514,
           1981197,
           1945765,
           1675724,
           1706119,
           1595284,
           2150728,
           2000744,
           1823664,
           1362269,
           1749100,
           1807119,
           1840738,
           1652999,
           1864320,
           1776555,
           1708510,
           1667465,
           1578218,
           1733729,
           1631817,
           1766601,
           1706141,
           1597500,
           1633925,
           1957931,
           1204191,
           2350580,
           937464,
           1819893,
           1816857,
           1643595,
           1588454,
           2127021,
           1952542,
           1475007,
           1617018,
           1933358,
           1931400,
           1867220,
           2071244,
           1735464,
           2047302,
           1657166,
           1703279,
           1718814,
           1616213,
           1897134,
           1867976,
           1648355,
           1903870,
           1852417,
           2040739,
           1641868,
           1937882,
           1956755,
           1365035,
           1642864,
           1744321,
           1570330,
           1666703,
           1805946,
           1563930,
           1611056,
           1734938,
           1528938,
           1965676,
           1643992,
           1288666,
           1427338,
           1558952,
           1874824,
           1501250,
           1266550,
           1632983,
           1660147,
           1771254,
           1810574,
           1340173,
           1651543,
           1904193,
           1387286,
           1363937,
           1653353,
           1787120,
           1710916,
           1516688,
           1638842,
           1676454,
           1842095,
           1513809,
           1909055,
           1834385,
           1804028,
           1770699,
           1202664,
           1659651,
           1814125,
           1776358,
           1629961,
           1880496,
           1728851,
           1444082,
           1296720,
           1736693,
           1434384,
           1508840,
           1948010,
           1206698,
           1318024,
           1530404,
           1631698,
           1573009,
           1657335,
           1761564,
           179232,
           1708013,
           55189,
           1751980,
           1886657,
           1234286,
           2040367,
           1683325,
           1848306,
           1473347,
           1909574,
           1884883,
           1792798,
           1539026,
           1424385,
           1807768,
           1915408,
           1637951,
           1506102,
           1648869,
           1723236,
           1370544,
           1575590,
           1685955,
           3150313,
           1281462,
           1951267,
           1760875,
           1712004,
           1800237,
           1807893,
           1652096,
           2298080,
           1308102,
           1484842,
           1493205,
           1603318,
           1674236,
           1892931,
           1845150,
           1796932,
           792464,
           2023431,
           1958939,
           1837723,
           1647350,
           1679891,
           1588693,
           1732263,
           1554176,
           1440380,
           1888025,
           1725187,
           1698003,
           1730553,
           1896333,
           1461004,
           1213777,
           1303649,
           1588111,
           1933169,
           1586117,
           2161096,
           1828433,
           2114809,
           1585980,
           1413599,
           1719322,
           1871099,
           1603220,
           1670391,
           1439691,
           1885064,
           1971658,
           1899747,
           1672845,
           1617470,
           1366060,
           1553385,
           2290492,
           556761,
           2378995,
           1794648,
           1556469,
           1889740,
           1022099,
           1323010,
           1881441,
           1885600,
           2161663,
           1744762,
           1985228,
           1633824,
           1925479,
           1807043,
           1382741,
           1739600,
           2146008,
           1479091,
           1391853,
           2010477,
           1761207,
           1520504,
           1356803,
           1662368,
           1708759,
           973410,
           2075824,
           1562331,
           1765312,
           1645884,
           1658672,
           1702248,
           1928204,
           1652965,
           1601220,
           1733805,
           2111738,
           1534256,
           1546938,
           1694329,
           1884339,
           1454436,
           1716459,
           1912911,
           1559740,
           1679506,
           1922764,
           1762252,
           1915959,
           1851112,
           1455577,
           1775051,
           1679534,
           1723538,
           1737133,
           1801717,
           1583129,
           1739082,
           1612512,
           1667282,
           1679030,
           1468530,
           1828764,
           1809109,
           1529431,
           1962903,
           1667253,
           1655239,
           1787878,
           1848489,
           1575064,
           1968276,
           1656474,
           2114201,
           1686215,
           1197806,
           1259085,
           1676668,
           1587079,
           2175529,
           1914739,
           1845547,
           2041612,
           434128,
           1195720,
           1269917,
           1803349,
           1752454,
           1666126,
           1552019,
           1799551,
           1851654,
           1592611,
           2067463,
           579352,
           1785472,
           1553860,
           1294671,
           2253448,
           1775196,
           1531525,
           1690620,
           1655704,
           1849429,
           1694646,
           1493543,
           1492317,
           1499639,
           2370903,
           1461052,
           1561040,
           1946870,
           1371427,
           1427783,
           1337110,
           1647399,
           1508963,
           1547800,
           1650453,
           1530014,
           1473862,
           1945992,
           1261861,
           1352857,
           1608545,
           716990,
           2069559,
           1685816,
           1513806,
           1612300,
           1661229,
           1614988,
           2191465,
           1556599,
           1288926,
           1794896,
           1735983,
           1665502,
           1671030,
           1856791,
           1741604,
           1652994,
           1444335,
           1484256,
           1829300,
           1503980,
           1666770,
           1743283,
           1359679,
           2371644,
           1916185,
           1498666,
           318471,
           1582400.9717934993,
           411346.8832798424,
           1644353.1150737212,
           1772123.4583131715,
           646729,
           1698986.6878278088,
           250029,
           121740,
           568281.104982515,
           1731423.3247479957,
           1805054.9374463586,
           1330051.2265762947,
           1479420.1213534693,
           1592357.041634522,
           1864447.0147089066,
           1313543.2125966665,
           55189,
           1792314.1201794483,
           1854902.7101187361,
           981609.2246572323,
           1017765.7952784527,
           792464,
           2100878.067652333,
           1213777,
           1550561.8931075688,
           973410,
           1608761.8167242955,
           1959342.8479804182,
           434128,
           1567181.864860669,
           1815183.074099372,
           1308942.396759421,
           1843504.556146671,
           1617600.669871884,
           1670124.3478314995
          ]
         },
         "name": "",
         "parents": [
          "Telangana",
          "Uttar Pradesh",
          "Maharashtra",
          "Gujarat",
          "Gujarat",
          "Rajasthan",
          "Uttar Pradesh",
          "Maharashtra",
          "Kerala",
          "Kerala",
          "Uttar Pradesh",
          "West Bengal",
          "Uttar Pradesh",
          "Uttarakhand",
          "Rajasthan",
          "Andhra Pradesh",
          "Haryana",
          "Uttar Pradesh",
          "Uttar Pradesh",
          "Maharashtra",
          "Gujarat",
          "Punjab",
          "Uttar Pradesh",
          "Andhra Pradesh",
          "Gujarat",
          "Punjab",
          "Andhra Pradesh",
          "Jammu & Kashmir",
          "Andaman & Nicobar Islands",
          "Uttar Pradesh",
          "Tamil Nadu",
          "West Bengal",
          "Tamil Nadu",
          "Bihar",
          "Bihar",
          "Andhra Pradesh",
          "Arunachal Pradesh",
          "Arunachal Pradesh",
          "West Bengal",
          "Odisha",
          "Kerala",
          "Bihar",
          "Maharashtra",
          "Assam",
          "Uttar Pradesh",
          "Uttar Pradesh",
          "Karnataka",
          "Uttar Pradesh",
          "West Bengal",
          "Uttar Pradesh",
          "Madhya Pradesh",
          "Odisha",
          "Uttar Pradesh",
          "West Bengal",
          "Gujarat",
          "Uttar Pradesh",
          "Karnataka",
          "Karnataka",
          "Karnataka",
          "Karnataka",
          "West Bengal",
          "Bihar",
          "West Bengal",
          "Uttar Pradesh",
          "Rajasthan",
          "Andhra Pradesh",
          "Uttar Pradesh",
          "Maharashtra",
          "Jammu & Kashmir",
          "West Bengal",
          "West Bengal",
          "West Bengal",
          "Gujarat",
          "Uttar Pradesh",
          "Odisha",
          "Rajasthan",
          "Assam",
          "West Bengal",
          "West Bengal",
          "Chhattisgarh",
          "Uttar Pradesh",
          "Punjab",
          "Maharashtra",
          "Bihar",
          "Karnataka",
          "Karnataka",
          "Odisha",
          "Madhya Pradesh",
          "Uttar Pradesh",
          "Odisha",
          "Bihar",
          "Maharashtra",
          "Rajasthan",
          "Gujarat",
          "Gujarat",
          "Rajasthan",
          "Madhya Pradesh",
          "Maharashtra",
          "Haryana",
          "Telangana",
          "Madhya Pradesh",
          "Odisha",
          "Karnataka",
          "Karnataka",
          "Uttar Pradesh",
          "Rajasthan",
          "Chhattisgarh",
          "West Bengal",
          "West Bengal",
          "Odisha",
          "West Bengal",
          "Uttar Pradesh",
          "Maharashtra",
          "Bihar",
          "Kerala",
          "Karnataka",
          "Uttar Pradesh",
          "Chandigarh",
          "NCT OF Delhi",
          "Maharashtra",
          "Jharkhand",
          "Tamil Nadu",
          "Tamil Nadu",
          "Tamil Nadu",
          "Telangana",
          "Madhya Pradesh",
          "Gujarat",
          "Tamil Nadu",
          "Karnataka",
          "Karnataka",
          "Karnataka",
          "Andhra Pradesh",
          "Rajasthan",
          "Rajasthan",
          "Tamil Nadu",
          "West Bengal",
          "Tamil Nadu",
          "Odisha",
          "Dadra & Nagar Haveli",
          "Gujarat",
          "Karnataka",
          "Daman & Diu",
          "Madhya Pradesh",
          "Bihar",
          "West Bengal",
          "Rajasthan",
          "Karnataka",
          "Uttar Pradesh",
          "Madhya Pradesh",
          "Jharkhand",
          "Madhya Pradesh",
          "Tamil Nadu",
          "Karnataka",
          "Uttar Pradesh",
          "Odisha",
          "Assam",
          "Maharashtra",
          "West Bengal",
          "Assam",
          "Tamil Nadu",
          "Maharashtra",
          "Uttar Pradesh",
          "West Bengal",
          "Jharkhand",
          "Chhattisgarh",
          "NCT OF Delhi",
          "Andhra Pradesh",
          "Kerala",
          "Tamil Nadu",
          "Uttar Pradesh",
          "Uttar Pradesh",
          "Uttar Pradesh",
          "Haryana",
          "Punjab",
          "Uttar Pradesh",
          "Punjab",
          "Uttar Pradesh",
          "Uttar Pradesh",
          "Uttar Pradesh",
          "Punjab",
          "Maharashtra",
          "Gujarat",
          "Rajasthan",
          "Uttarakhand",
          "Assam",
          "Uttar Pradesh",
          "Bihar",
          "West Bengal",
          "Uttar Pradesh",
          "Uttar Pradesh",
          "Uttar Pradesh",
          "Jharkhand",
          "Jharkhand",
          "Uttar Pradesh",
          "Bihar",
          "Uttar Pradesh",
          "Karnataka",
          "Madhya Pradesh",
          "Andhra Pradesh",
          "Punjab",
          "Haryana",
          "Madhya Pradesh",
          "Bihar",
          "Himachal Pradesh",
          "Uttar Pradesh",
          "Uttar Pradesh",
          "Uttarakhand",
          "Karnataka",
          "Uttar Pradesh",
          "Maharashtra",
          "Karnataka",
          "Jharkhand",
          "Andhra Pradesh",
          "Maharashtra",
          "Haryana",
          "West Bengal",
          "Madhya Pradesh",
          "Punjab",
          "West Bengal",
          "Telangana",
          "Kerala",
          "Madhya Pradesh",
          "Manipur",
          "Madhya Pradesh",
          "West Bengal",
          "Odisha",
          "Bihar",
          "Rajasthan",
          "Rajasthan",
          "Odisha",
          "Punjab",
          "Uttar Pradesh",
          "Maharashtra",
          "Maharashtra",
          "Rajasthan",
          "West Bengal",
          "Jammu & Kashmir",
          "Gujarat",
          "Jharkhand",
          "Bihar",
          "West Bengal",
          "Chhattisgarh",
          "Uttar Pradesh",
          "West Bengal",
          "Rajasthan",
          "Bihar",
          "Uttar Pradesh",
          "West Bengal",
          "Rajasthan",
          "Rajasthan",
          "Assam",
          "Gujarat",
          "Gujarat",
          "Andhra Pradesh",
          "Uttar Pradesh",
          "Uttar Pradesh",
          "Andhra Pradesh",
          "Odisha",
          "Assam",
          "Tamil Nadu",
          "Maharashtra",
          "Tamil Nadu",
          "Odisha",
          "Himachal Pradesh",
          "Chhattisgarh",
          "Uttar Pradesh",
          "Tamil Nadu",
          "Kerala",
          "Uttar Pradesh",
          "West Bengal",
          "Bihar",
          "Rajasthan",
          "Assam",
          "Telangana",
          "Haryana",
          "Tamil Nadu",
          "Kerala",
          "Bihar",
          "Uttar Pradesh",
          "Odisha",
          "Odisha",
          "Punjab",
          "Bihar",
          "Madhya Pradesh",
          "Telangana",
          "Madhya Pradesh",
          "Madhya Pradesh",
          "Gujarat",
          "Uttar Pradesh",
          "Jharkhand",
          "Bihar",
          "Jharkhand",
          "Assam",
          "Karnataka",
          "Maharashtra",
          "West Bengal",
          "West Bengal",
          "Kerala",
          "Karnataka",
          "Odisha",
          "Chhattisgarh",
          "Rajasthan",
          "Kerala",
          "Kerala",
          "Tamil Nadu",
          "West Bengal",
          "Andhra Pradesh",
          "Haryana",
          "Uttar Pradesh",
          "Jammu & Kashmir",
          "Assam",
          "Lakshadweep",
          "Uttar Pradesh",
          "Maharashtra",
          "Jharkhand",
          "Uttar Pradesh",
          "Punjab",
          "Uttar Pradesh",
          "Andhra Pradesh",
          "Maharashtra",
          "Bihar",
          "Bihar",
          "Tamil Nadu",
          "Telangana",
          "Bihar",
          "Uttar Pradesh",
          "Chhattisgarh",
          "Telangana",
          "Gujarat",
          "Uttar Pradesh",
          "Kerala",
          "West Bengal",
          "West Bengal",
          "Telangana",
          "Himachal Pradesh",
          "Madhya Pradesh",
          "Madhya Pradesh",
          "Karnataka",
          "Assam",
          "Uttar Pradesh",
          "West Bengal",
          "Maharashtra",
          "Kerala",
          "Tamil Nadu",
          "Odisha",
          "Telangana",
          "West Bengal",
          "Uttar Pradesh",
          "Uttar Pradesh",
          "Uttar Pradesh",
          "Mizoram",
          "Uttar Pradesh",
          "Uttar Pradesh",
          "Madhya Pradesh",
          "Maharashtra",
          "Maharashtra",
          "Maharashtra",
          "Maharashtra",
          "Maharashtra",
          "Maharashtra",
          "Bihar",
          "West Bengal",
          "Uttar Pradesh",
          "Bihar",
          "Karnataka",
          "Odisha",
          "Nagaland",
          "Tamil Nadu",
          "Telangana",
          "Rajasthan",
          "Uttar Pradesh",
          "Maharashtra",
          "Uttarakhand",
          "Bihar",
          "Telangana",
          "Tamil Nadu",
          "Maharashtra",
          "Maharashtra",
          "Andhra Pradesh",
          "Andhra Pradesh",
          "Andhra Pradesh",
          "Maharashtra",
          "Gujarat",
          "Bihar",
          "Andhra Pradesh",
          "NCT OF Delhi",
          "Tamil Nadu",
          "Telangana",
          "NCT OF Delhi",
          "Goa",
          "NCT OF Delhi",
          "Assam",
          "Andhra Pradesh",
          "Maharashtra",
          "Manipur",
          "Kerala",
          "Jharkhand",
          "Maharashtra",
          "Rajasthan",
          "Gujarat",
          "Maharashtra",
          "Bihar",
          "Bihar",
          "Gujarat",
          "Kerala",
          "Punjab",
          "Bihar",
          "Telangana",
          "Tamil Nadu",
          "Uttar Pradesh",
          "Uttar Pradesh",
          "Tamil Nadu",
          "Kerala",
          "Gujarat",
          "Uttar Pradesh",
          "Puducherry",
          "Maharashtra",
          "Odisha",
          "Bihar",
          "West Bengal",
          "Bihar",
          "Uttar Pradesh",
          "Karnataka",
          "Maharashtra",
          "West Bengal",
          "Chhattisgarh",
          "Chhattisgarh",
          "Andhra Pradesh",
          "Andhra Pradesh",
          "Madhya Pradesh",
          "Gujarat",
          "Jharkhand",
          "Chhattisgarh",
          "Rajasthan",
          "Tamil Nadu",
          "Uttar Pradesh",
          "Maharashtra",
          "West Bengal",
          "Jharkhand",
          "Madhya Pradesh",
          "Maharashtra",
          "Maharashtra",
          "Madhya Pradesh",
          "Uttar Pradesh",
          "Haryana",
          "Gujarat",
          "Madhya Pradesh",
          "Uttar Pradesh",
          "Tamil Nadu",
          "Uttar Pradesh",
          "Bihar",
          "Odisha",
          "Uttar Pradesh",
          "Maharashtra",
          "Punjab",
          "Uttar Pradesh",
          "Bihar",
          "Chhattisgarh",
          "Bihar",
          "Maharashtra",
          "Madhya Pradesh",
          "Telangana",
          "Madhya Pradesh",
          "Uttar Pradesh",
          "Bihar",
          "Meghalaya",
          "Himachal Pradesh",
          "Karnataka",
          "Maharashtra",
          "Maharashtra",
          "Uttar Pradesh",
          "Madhya Pradesh",
          "Rajasthan",
          "Sikkim",
          "Assam",
          "Jharkhand",
          "Haryana",
          "Bihar",
          "Uttar Pradesh",
          "Tamil Nadu",
          "Bihar",
          "Maharashtra",
          "Haryana",
          "NCT OF Delhi",
          "Goa",
          "West Bengal",
          "Andhra Pradesh",
          "Jammu & Kashmir",
          "Tamil Nadu",
          "Uttar Pradesh",
          "Odisha",
          "Bihar",
          "Gujarat",
          "Gujarat",
          "West Bengal",
          "Uttarakhand",
          "Tamil Nadu",
          "Assam",
          "Maharashtra",
          "Tamil Nadu",
          "Tamil Nadu",
          "Tamil Nadu",
          "Kerala",
          "Tamil Nadu",
          "Kerala",
          "Madhya Pradesh",
          "Tamil Nadu",
          "Tamil Nadu",
          "Andhra Pradesh",
          "Tamil Nadu",
          "Tamil Nadu",
          "Rajasthan",
          "Tripura",
          "Tripura",
          "Karnataka",
          "Meghalaya",
          "Rajasthan",
          "Jammu & Kashmir",
          "Karnataka",
          "Bihar",
          "Madhya Pradesh",
          "West Bengal",
          "Uttar Pradesh",
          "Karnataka",
          "Kerala",
          "Gujarat",
          "Bihar",
          "Bihar",
          "Gujarat",
          "Uttar Pradesh",
          "Madhya Pradesh",
          "Andhra Pradesh",
          "Tamil Nadu",
          "Tamil Nadu",
          "Andhra Pradesh",
          "Andhra Pradesh",
          "Telangana",
          "Maharashtra",
          "Kerala",
          "NCT OF Delhi",
          "Maharashtra",
          "Telangana",
          "",
          "",
          "",
          "",
          "",
          "",
          "",
          "",
          "",
          "",
          "",
          "",
          "",
          "",
          "",
          "",
          "",
          "",
          "",
          "",
          "",
          "",
          "",
          "",
          "",
          "",
          "",
          "",
          "",
          "",
          "",
          "",
          "",
          "",
          "",
          ""
         ],
         "type": "sunburst",
         "values": [
          4469370,
          5813070,
          5584188,
          3623702,
          4929951,
          7505384,
          5298363,
          5595507,
          4070103,
          3800382,
          5661381,
          6593532,
          6864640,
          4013424,
          5665572,
          4378668,
          7414844,
          5356971,
          3487030,
          7332364,
          4885353,
          6031500,
          4939305,
          6085452,
          3311740,
          6795504,
          6656640,
          8386674,
          1592355,
          5356815,
          7500080,
          7058904,
          7245750,
          3610878,
          8357412,
          10159926,
          1698940,
          2318875,
          8079325,
          4623435,
          4052130,
          15685947,
          7545136,
          3979725,
          3578336,
          5674728,
          3408020,
          3232952,
          8191890,
          5189724,
          7070900,
          4595343,
          5467875,
          5726816,
          8486920,
          6808096,
          6614451,
          5698500,
          7492374,
          4430978,
          6818528,
          11895758,
          6595624,
          3502516,
          9876840,
          5874684,
          5450490,
          6343989,
          9224166,
          6873008,
          6934312,
          6792356,
          3653052,
          5392965,
          4788870,
          5823693,
          6740596,
          5745724,
          6713428,
          9653854,
          7380892,
          6486684,
          8181620,
          7833528,
          3558700,
          3503468,
          4507365,
          5212311,
          5827542,
          4984983,
          3647640,
          9057780,
          5831382,
          6258076,
          3536594,
          7989312,
          5296002,
          7560400,
          6617268,
          8140165,
          4285722,
          5099034,
          5325285,
          7190348,
          4992375,
          5554884,
          5630859,
          8496095,
          6508796,
          6977784,
          8525365,
          5363775,
          5288754,
          7317492,
          3690591,
          5058999,
          7027348,
          2586916,
          4686849,
          5730564,
          11401744,
          6661500,
          7438405,
          9867665,
          7329336,
          6059132,
          5013759,
          5920888,
          7235120,
          4837668,
          3521266,
          6265996,
          4031822,
          8076416,
          9794520,
          7256800,
          6820190,
          4556988,
          1500174,
          6395756,
          5174928,
          365220,
          5306331,
          6619244,
          8056585,
          5190867,
          3266128,
          1754195,
          5281509,
          4145268,
          5358453,
          7429020,
          3454622,
          4934022,
          4513209,
          5575698,
          5724519,
          6876760,
          2628638,
          4625643,
          6931744,
          5656299,
          6264784,
          8383518,
          5820807,
          8157208,
          4784850,
          3737916,
          7311230,
          3242590,
          5273952,
          5465355,
          6215448,
          6167884,
          5125755,
          6011444,
          5517936,
          5156511,
          5371530,
          6473676,
          7906830,
          3891544,
          5830458,
          2711592,
          6543957,
          6908880,
          18750556,
          7200008,
          8186934,
          7524308,
          9958255,
          3298826,
          8583830,
          5310744,
          11037084,
          5943591,
          3891530,
          5027172,
          6824476,
          6381136,
          6452184,
          6002232,
          10941984,
          2724538,
          6996400,
          5421357,
          5522214,
          4958997,
          5592960,
          5329665,
          3417020,
          8337325,
          6312872,
          6934916,
          6527268,
          7066404,
          5118423,
          6390000,
          6535700,
          7831724,
          3612573,
          4701160,
          4687320,
          5459679,
          5450571,
          4930785,
          11119178,
          4254042,
          3905084,
          4425021,
          6468072,
          7733432,
          5794200,
          5601660,
          4142488,
          6941856,
          4094604,
          3314332,
          3406558,
          8594070,
          8081065,
          5691402,
          5603928,
          8241775,
          3807740,
          11114502,
          6122217,
          6567472,
          3875764,
          3913510,
          4095105,
          4928592,
          3488642,
          3140660,
          5000109,
          3611892,
          4691790,
          8055280,
          5204814,
          6115752,
          7862704,
          6575968,
          3865998,
          2854676,
          3117904,
          3749648,
          6005000,
          3799650,
          4898949,
          6640588,
          10627524,
          5431722,
          4020519,
          6606172,
          9520965,
          6936430,
          4091811,
          3306706,
          7148480,
          5132748,
          4550064,
          6555368,
          11735178,
          5526285,
          9082854,
          5727165,
          7337540,
          3608056,
          7082796,
          4810656,
          6638604,
          7256500,
          8881790,
          3259922,
          5641488,
          6915404,
          5776328,
          3890160,
          3473386,
          10040688,
          7544200,
          3896020,
          3620094,
          3954072,
          6121616,
          6526792,
          7865045,
          8286675,
          5284692,
          716928,
          5124039,
          165567,
          7007920,
          5659971,
          7405716,
          6121101,
          6733300,
          5544918,
          4420041,
          7638296,
          7539532,
          8963990,
          7695130,
          9970695,
          9038840,
          5746224,
          4913853,
          4518306,
          3297738,
          3446472,
          5482176,
          4726770,
          6743820,
          12601252,
          3844386,
          9756335,
          3521750,
          5136012,
          5400711,
          5423679,
          6608384,
          6894240,
          3924306,
          7424210,
          5972820,
          9619908,
          6696944,
          5678793,
          7380600,
          5390796,
          3962320,
          6070293,
          5876817,
          5513169,
          4942050,
          5039673,
          4766079,
          5196789,
          4662528,
          5761520,
          13216175,
          6900748,
          3396006,
          6922212,
          5688999,
          5844016,
          3641331,
          6518245,
          7940555,
          5799507,
          4758351,
          8644384,
          5485299,
          12688854,
          6343920,
          7067995,
          5157966,
          7484396,
          6412880,
          6681564,
          7198455,
          7540256,
          3943316,
          7598988,
          5018535,
          4852410,
          5464240,
          4660155,
          9161968,
          1670283,
          7136985,
          3589296,
          4669407,
          5669220,
          5110495,
          3969030,
          13170087,
          9428000,
          4323326,
          3489524,
          7940912,
          6535296,
          5776437,
          3614086,
          4148223,
          6958400,
          4292016,
          7395455,
          5567412,
          6031431,
          3522414,
          7602520,
          5427212,
          4987104,
          6835036,
          2920230,
          6227472,
          4686993,
          8826560,
          6583536,
          8293360,
          3404496,
          5784612,
          6611860,
          6404880,
          5201415,
          4223476,
          6137024,
          6187752,
          3388658,
          5653017,
          7272180,
          5149377,
          7651644,
          7798700,
          5038518,
          7691056,
          7049008,
          5747877,
          5553336,
          8733462,
          5325153,
          6718136,
          10341228,
          6948532,
          5405151,
          4749387,
          5217246,
          8062560,
          6669128,
          11753210,
          4405590,
          5486292,
          5427327,
          7647155,
          5888709,
          6669012,
          6620956,
          7151512,
          5545467,
          4725192,
          7873104,
          8282370,
          6342603,
          13489720,
          3593418,
          2518170,
          3353336,
          9522474,
          6526587,
          7658956,
          9227735,
          6124836,
          1736512,
          2391440,
          7619502,
          9016745,
          10514724,
          4998378,
          7760095,
          8997755,
          5554962,
          6370444,
          8269852,
          1738056,
          7141888,
          6215440,
          5178684,
          11267240,
          7100784,
          6126100,
          13524960,
          3311408,
          7397716,
          6778584,
          4480629,
          7461585,
          4498917,
          7112709,
          8766312,
          6244160,
          11681220,
          4114281,
          7138915,
          4011330,
          4942197,
          7544815,
          7739000,
          8252265,
          7650070,
          7369310,
          5837976,
          5047444,
          5411428,
          4825635,
          2150970,
          10347795,
          8429080,
          4541418,
          12898400,
          3322458,
          6459952,
          6574395,
          3113198,
          3866778,
          3589792,
          10415898,
          9993012,
          5013090,
          5570373,
          5224812,
          8264970,
          8666010,
          5937024,
          9146500,
          6015920,
          8333850,
          6973132,
          2719358,
          7114932,
          11497110,
          4495998,
          1592355,
          157661812,
          4017815,
          68675245,
          373933748,
          2586916,
          63568103,
          1500174,
          365220,
          3408339,
          119028011,
          73370373,
          11941770,
          36030136,
          100839587,
          131214920,
          79982176,
          165567,
          163695551,
          321123079,
          9797815,
          5744388,
          3962320,
          49380204,
          3641331,
          112683114,
          2920230,
          85100123,
          144688084,
          1736512,
          280796425,
          127212819,
          10458872,
          451766863,
          22213158,
          288147109
         ]
        }
       ],
       "layout": {
        "coloraxis": {
         "colorbar": {
          "title": {
           "text": "TOTAL ELECTORS"
          }
         },
         "colorscale": [
          [
           0,
           "rgb(236, 218, 154)"
          ],
          [
           0.16666666666666666,
           "rgb(239, 196, 126)"
          ],
          [
           0.3333333333333333,
           "rgb(243, 173, 106)"
          ],
          [
           0.5,
           "rgb(247, 148, 93)"
          ],
          [
           0.6666666666666666,
           "rgb(249, 123, 87)"
          ],
          [
           0.8333333333333334,
           "rgb(246, 99, 86)"
          ],
          [
           1,
           "rgb(238, 77, 90)"
          ]
         ]
        },
        "font": {
         "color": "#351f39",
         "family": "Courier New"
        },
        "legend": {
         "tracegroupgap": 0
        },
        "margin": {
         "t": 60
        },
        "template": {
         "data": {
          "bar": [
           {
            "error_x": {
             "color": "#2a3f5f"
            },
            "error_y": {
             "color": "#2a3f5f"
            },
            "marker": {
             "line": {
              "color": "#E5ECF6",
              "width": 0.5
             },
             "pattern": {
              "fillmode": "overlay",
              "size": 10,
              "solidity": 0.2
             }
            },
            "type": "bar"
           }
          ],
          "barpolar": [
           {
            "marker": {
             "line": {
              "color": "#E5ECF6",
              "width": 0.5
             },
             "pattern": {
              "fillmode": "overlay",
              "size": 10,
              "solidity": 0.2
             }
            },
            "type": "barpolar"
           }
          ],
          "carpet": [
           {
            "aaxis": {
             "endlinecolor": "#2a3f5f",
             "gridcolor": "white",
             "linecolor": "white",
             "minorgridcolor": "white",
             "startlinecolor": "#2a3f5f"
            },
            "baxis": {
             "endlinecolor": "#2a3f5f",
             "gridcolor": "white",
             "linecolor": "white",
             "minorgridcolor": "white",
             "startlinecolor": "#2a3f5f"
            },
            "type": "carpet"
           }
          ],
          "choropleth": [
           {
            "colorbar": {
             "outlinewidth": 0,
             "ticks": ""
            },
            "type": "choropleth"
           }
          ],
          "contour": [
           {
            "colorbar": {
             "outlinewidth": 0,
             "ticks": ""
            },
            "colorscale": [
             [
              0,
              "#0d0887"
             ],
             [
              0.1111111111111111,
              "#46039f"
             ],
             [
              0.2222222222222222,
              "#7201a8"
             ],
             [
              0.3333333333333333,
              "#9c179e"
             ],
             [
              0.4444444444444444,
              "#bd3786"
             ],
             [
              0.5555555555555556,
              "#d8576b"
             ],
             [
              0.6666666666666666,
              "#ed7953"
             ],
             [
              0.7777777777777778,
              "#fb9f3a"
             ],
             [
              0.8888888888888888,
              "#fdca26"
             ],
             [
              1,
              "#f0f921"
             ]
            ],
            "type": "contour"
           }
          ],
          "contourcarpet": [
           {
            "colorbar": {
             "outlinewidth": 0,
             "ticks": ""
            },
            "type": "contourcarpet"
           }
          ],
          "heatmap": [
           {
            "colorbar": {
             "outlinewidth": 0,
             "ticks": ""
            },
            "colorscale": [
             [
              0,
              "#0d0887"
             ],
             [
              0.1111111111111111,
              "#46039f"
             ],
             [
              0.2222222222222222,
              "#7201a8"
             ],
             [
              0.3333333333333333,
              "#9c179e"
             ],
             [
              0.4444444444444444,
              "#bd3786"
             ],
             [
              0.5555555555555556,
              "#d8576b"
             ],
             [
              0.6666666666666666,
              "#ed7953"
             ],
             [
              0.7777777777777778,
              "#fb9f3a"
             ],
             [
              0.8888888888888888,
              "#fdca26"
             ],
             [
              1,
              "#f0f921"
             ]
            ],
            "type": "heatmap"
           }
          ],
          "heatmapgl": [
           {
            "colorbar": {
             "outlinewidth": 0,
             "ticks": ""
            },
            "colorscale": [
             [
              0,
              "#0d0887"
             ],
             [
              0.1111111111111111,
              "#46039f"
             ],
             [
              0.2222222222222222,
              "#7201a8"
             ],
             [
              0.3333333333333333,
              "#9c179e"
             ],
             [
              0.4444444444444444,
              "#bd3786"
             ],
             [
              0.5555555555555556,
              "#d8576b"
             ],
             [
              0.6666666666666666,
              "#ed7953"
             ],
             [
              0.7777777777777778,
              "#fb9f3a"
             ],
             [
              0.8888888888888888,
              "#fdca26"
             ],
             [
              1,
              "#f0f921"
             ]
            ],
            "type": "heatmapgl"
           }
          ],
          "histogram": [
           {
            "marker": {
             "pattern": {
              "fillmode": "overlay",
              "size": 10,
              "solidity": 0.2
             }
            },
            "type": "histogram"
           }
          ],
          "histogram2d": [
           {
            "colorbar": {
             "outlinewidth": 0,
             "ticks": ""
            },
            "colorscale": [
             [
              0,
              "#0d0887"
             ],
             [
              0.1111111111111111,
              "#46039f"
             ],
             [
              0.2222222222222222,
              "#7201a8"
             ],
             [
              0.3333333333333333,
              "#9c179e"
             ],
             [
              0.4444444444444444,
              "#bd3786"
             ],
             [
              0.5555555555555556,
              "#d8576b"
             ],
             [
              0.6666666666666666,
              "#ed7953"
             ],
             [
              0.7777777777777778,
              "#fb9f3a"
             ],
             [
              0.8888888888888888,
              "#fdca26"
             ],
             [
              1,
              "#f0f921"
             ]
            ],
            "type": "histogram2d"
           }
          ],
          "histogram2dcontour": [
           {
            "colorbar": {
             "outlinewidth": 0,
             "ticks": ""
            },
            "colorscale": [
             [
              0,
              "#0d0887"
             ],
             [
              0.1111111111111111,
              "#46039f"
             ],
             [
              0.2222222222222222,
              "#7201a8"
             ],
             [
              0.3333333333333333,
              "#9c179e"
             ],
             [
              0.4444444444444444,
              "#bd3786"
             ],
             [
              0.5555555555555556,
              "#d8576b"
             ],
             [
              0.6666666666666666,
              "#ed7953"
             ],
             [
              0.7777777777777778,
              "#fb9f3a"
             ],
             [
              0.8888888888888888,
              "#fdca26"
             ],
             [
              1,
              "#f0f921"
             ]
            ],
            "type": "histogram2dcontour"
           }
          ],
          "mesh3d": [
           {
            "colorbar": {
             "outlinewidth": 0,
             "ticks": ""
            },
            "type": "mesh3d"
           }
          ],
          "parcoords": [
           {
            "line": {
             "colorbar": {
              "outlinewidth": 0,
              "ticks": ""
             }
            },
            "type": "parcoords"
           }
          ],
          "pie": [
           {
            "automargin": true,
            "type": "pie"
           }
          ],
          "scatter": [
           {
            "fillpattern": {
             "fillmode": "overlay",
             "size": 10,
             "solidity": 0.2
            },
            "type": "scatter"
           }
          ],
          "scatter3d": [
           {
            "line": {
             "colorbar": {
              "outlinewidth": 0,
              "ticks": ""
             }
            },
            "marker": {
             "colorbar": {
              "outlinewidth": 0,
              "ticks": ""
             }
            },
            "type": "scatter3d"
           }
          ],
          "scattercarpet": [
           {
            "marker": {
             "colorbar": {
              "outlinewidth": 0,
              "ticks": ""
             }
            },
            "type": "scattercarpet"
           }
          ],
          "scattergeo": [
           {
            "marker": {
             "colorbar": {
              "outlinewidth": 0,
              "ticks": ""
             }
            },
            "type": "scattergeo"
           }
          ],
          "scattergl": [
           {
            "marker": {
             "colorbar": {
              "outlinewidth": 0,
              "ticks": ""
             }
            },
            "type": "scattergl"
           }
          ],
          "scattermapbox": [
           {
            "marker": {
             "colorbar": {
              "outlinewidth": 0,
              "ticks": ""
             }
            },
            "type": "scattermapbox"
           }
          ],
          "scatterpolar": [
           {
            "marker": {
             "colorbar": {
              "outlinewidth": 0,
              "ticks": ""
             }
            },
            "type": "scatterpolar"
           }
          ],
          "scatterpolargl": [
           {
            "marker": {
             "colorbar": {
              "outlinewidth": 0,
              "ticks": ""
             }
            },
            "type": "scatterpolargl"
           }
          ],
          "scatterternary": [
           {
            "marker": {
             "colorbar": {
              "outlinewidth": 0,
              "ticks": ""
             }
            },
            "type": "scatterternary"
           }
          ],
          "surface": [
           {
            "colorbar": {
             "outlinewidth": 0,
             "ticks": ""
            },
            "colorscale": [
             [
              0,
              "#0d0887"
             ],
             [
              0.1111111111111111,
              "#46039f"
             ],
             [
              0.2222222222222222,
              "#7201a8"
             ],
             [
              0.3333333333333333,
              "#9c179e"
             ],
             [
              0.4444444444444444,
              "#bd3786"
             ],
             [
              0.5555555555555556,
              "#d8576b"
             ],
             [
              0.6666666666666666,
              "#ed7953"
             ],
             [
              0.7777777777777778,
              "#fb9f3a"
             ],
             [
              0.8888888888888888,
              "#fdca26"
             ],
             [
              1,
              "#f0f921"
             ]
            ],
            "type": "surface"
           }
          ],
          "table": [
           {
            "cells": {
             "fill": {
              "color": "#EBF0F8"
             },
             "line": {
              "color": "white"
             }
            },
            "header": {
             "fill": {
              "color": "#C8D4E3"
             },
             "line": {
              "color": "white"
             }
            },
            "type": "table"
           }
          ]
         },
         "layout": {
          "annotationdefaults": {
           "arrowcolor": "#2a3f5f",
           "arrowhead": 0,
           "arrowwidth": 1
          },
          "autotypenumbers": "strict",
          "coloraxis": {
           "colorbar": {
            "outlinewidth": 0,
            "ticks": ""
           }
          },
          "colorscale": {
           "diverging": [
            [
             0,
             "#8e0152"
            ],
            [
             0.1,
             "#c51b7d"
            ],
            [
             0.2,
             "#de77ae"
            ],
            [
             0.3,
             "#f1b6da"
            ],
            [
             0.4,
             "#fde0ef"
            ],
            [
             0.5,
             "#f7f7f7"
            ],
            [
             0.6,
             "#e6f5d0"
            ],
            [
             0.7,
             "#b8e186"
            ],
            [
             0.8,
             "#7fbc41"
            ],
            [
             0.9,
             "#4d9221"
            ],
            [
             1,
             "#276419"
            ]
           ],
           "sequential": [
            [
             0,
             "#0d0887"
            ],
            [
             0.1111111111111111,
             "#46039f"
            ],
            [
             0.2222222222222222,
             "#7201a8"
            ],
            [
             0.3333333333333333,
             "#9c179e"
            ],
            [
             0.4444444444444444,
             "#bd3786"
            ],
            [
             0.5555555555555556,
             "#d8576b"
            ],
            [
             0.6666666666666666,
             "#ed7953"
            ],
            [
             0.7777777777777778,
             "#fb9f3a"
            ],
            [
             0.8888888888888888,
             "#fdca26"
            ],
            [
             1,
             "#f0f921"
            ]
           ],
           "sequentialminus": [
            [
             0,
             "#0d0887"
            ],
            [
             0.1111111111111111,
             "#46039f"
            ],
            [
             0.2222222222222222,
             "#7201a8"
            ],
            [
             0.3333333333333333,
             "#9c179e"
            ],
            [
             0.4444444444444444,
             "#bd3786"
            ],
            [
             0.5555555555555556,
             "#d8576b"
            ],
            [
             0.6666666666666666,
             "#ed7953"
            ],
            [
             0.7777777777777778,
             "#fb9f3a"
            ],
            [
             0.8888888888888888,
             "#fdca26"
            ],
            [
             1,
             "#f0f921"
            ]
           ]
          },
          "colorway": [
           "#636efa",
           "#EF553B",
           "#00cc96",
           "#ab63fa",
           "#FFA15A",
           "#19d3f3",
           "#FF6692",
           "#B6E880",
           "#FF97FF",
           "#FECB52"
          ],
          "font": {
           "color": "#2a3f5f"
          },
          "geo": {
           "bgcolor": "white",
           "lakecolor": "white",
           "landcolor": "#E5ECF6",
           "showlakes": true,
           "showland": true,
           "subunitcolor": "white"
          },
          "hoverlabel": {
           "align": "left"
          },
          "hovermode": "closest",
          "mapbox": {
           "style": "light"
          },
          "paper_bgcolor": "white",
          "plot_bgcolor": "#E5ECF6",
          "polar": {
           "angularaxis": {
            "gridcolor": "white",
            "linecolor": "white",
            "ticks": ""
           },
           "bgcolor": "#E5ECF6",
           "radialaxis": {
            "gridcolor": "white",
            "linecolor": "white",
            "ticks": ""
           }
          },
          "scene": {
           "xaxis": {
            "backgroundcolor": "#E5ECF6",
            "gridcolor": "white",
            "gridwidth": 2,
            "linecolor": "white",
            "showbackground": true,
            "ticks": "",
            "zerolinecolor": "white"
           },
           "yaxis": {
            "backgroundcolor": "#E5ECF6",
            "gridcolor": "white",
            "gridwidth": 2,
            "linecolor": "white",
            "showbackground": true,
            "ticks": "",
            "zerolinecolor": "white"
           },
           "zaxis": {
            "backgroundcolor": "#E5ECF6",
            "gridcolor": "white",
            "gridwidth": 2,
            "linecolor": "white",
            "showbackground": true,
            "ticks": "",
            "zerolinecolor": "white"
           }
          },
          "shapedefaults": {
           "line": {
            "color": "#2a3f5f"
           }
          },
          "ternary": {
           "aaxis": {
            "gridcolor": "white",
            "linecolor": "white",
            "ticks": ""
           },
           "baxis": {
            "gridcolor": "white",
            "linecolor": "white",
            "ticks": ""
           },
           "bgcolor": "#E5ECF6",
           "caxis": {
            "gridcolor": "white",
            "linecolor": "white",
            "ticks": ""
           }
          },
          "title": {
           "x": 0.05
          },
          "xaxis": {
           "automargin": true,
           "gridcolor": "white",
           "linecolor": "white",
           "ticks": "",
           "title": {
            "standoff": 15
           },
           "zerolinecolor": "white",
           "zerolinewidth": 2
          },
          "yaxis": {
           "automargin": true,
           "gridcolor": "white",
           "linecolor": "white",
           "ticks": "",
           "title": {
            "standoff": 15
           },
           "zerolinecolor": "white",
           "zerolinewidth": 2
          }
         }
        },
        "title": {
         "font": {
          "color": "#351f39",
          "family": "Courier New"
         },
         "text": "State and Constituency by total electors"
        },
        "xaxis": {
         "title": {
          "text": "Party"
         }
        },
        "yaxis": {
         "title": {
          "text": "Seats"
         }
        }
       }
      },
      "text/html": [
       "<div>                            <div id=\"4d743cf0-504f-4e5c-aef9-65436d06c132\" class=\"plotly-graph-div\" style=\"height:525px; width:100%;\"></div>            <script type=\"text/javascript\">                require([\"plotly\"], function(Plotly) {                    window.PLOTLYENV=window.PLOTLYENV || {};                                    if (document.getElementById(\"4d743cf0-504f-4e5c-aef9-65436d06c132\")) {                    Plotly.newPlot(                        \"4d743cf0-504f-4e5c-aef9-65436d06c132\",                        [{\"branchvalues\":\"total\",\"customdata\":[[1489790.0],[1937690.0],[1861396.0],[1811851.0],[1643317.0],[1876346.0],[1766121.0],[1865169.0],[1356701.0],[1266794.0],[1887127.0],[1648383.0],[1716160.0],[1337808.0],[1888524.0],[1459556.0],[1853711.0],[1785657.0],[1743515.0],[1833091.0],[1628451.0],[1507875.0],[1646435.0],[1521363.0],[1655870.0],[1698876.0],[1664160.0],[1397779.0],[318471.0],[1785605.0],[1500016.0],[1764726.0],[1449150.0],[1805439.0],[2089353.0],[1451418.0],[339788.0],[463775.0],[1615865.0],[1541145.0],[1350710.0],[1742883.0],[1886284.0],[795945.0],[1789168.0],[1891576.0],[1704010.0],[1616476.0],[1638378.0],[1729908.0],[1767725.0],[1531781.0],[1822625.0],[1431704.0],[1697384.0],[1702024.0],[2204817.0],[2849250.0],[2497458.0],[2215489.0],[1704632.0],[1699394.0],[1648906.0],[1751258.0],[1975368.0],[1468671.0],[1816830.0],[2114663.0],[1317738.0],[1718252.0],[1733578.0],[1698089.0],[1826526.0],[1797655.0],[1596290.0],[1941231.0],[1685149.0],[1436431.0],[1678357.0],[1379122.0],[1845223.0],[1621671.0],[2045405.0],[1958382.0],[1779350.0],[1751734.0],[1502455.0],[1737437.0],[1942514.0],[1661661.0],[1823820.0],[1811556.0],[1943794.0],[1564519.0],[1768297.0],[1997328.0],[1765334.0],[1890100.0],[1654317.0],[1628033.0],[2142861.0],[1699678.0],[1775095.0],[1797587.0],[1664125.0],[1851628.0],[1876953.0],[1699219.0],[1627199.0],[1744446.0],[1705073.0],[1787925.0],[1762918.0],[1829373.0],[1230197.0],[1686333.0],[1756837.0],[646729.0],[1562283.0],[1910188.0],[1425218.0],[1332300.0],[1487681.0],[1973533.0],[2443112.0],[1514783.0],[1671253.0],[1480222.0],[1808780.0],[1612556.0],[1760633.0],[1566499.0],[2015911.0],[2019104.0],[1958904.0],[1814200.0],[1364038.0],[1518996.0],[250029.0],[1598939.0],[1724976.0],[121740.0],[1768777.0],[1654811.0],[1611317.0],[1730289.0],[1633064.0],[1754195.0],[1760503.0],[2072634.0],[1786151.0],[1485804.0],[1727311.0],[1644674.0],[1504403.0],[1858566.0],[1908173.0],[1719190.0],[1314319.0],[1541881.0],[1732936.0],[1885433.0],[1566196.0],[1397253.0],[1940269.0],[2039302.0],[1594950.0],[1245972.0],[1462246.0],[1621295.0],[1757984.0],[1821785.0],[2071816.0],[1541971.0],[1708585.0],[1502861.0],[1839312.0],[1718837.0],[1790510.0],[1618419.0],[1581366.0],[1945772.0],[1943486.0],[1355796.0],[2181319.0],[2302960.0],[1704596.0],[1800002.0],[2728978.0],[1881077.0],[1991651.0],[1649413.0],[1716766.0],[1770248.0],[1839514.0],[1981197.0],[1945765.0],[1675724.0],[1706119.0],[1595284.0],[2150728.0],[2000744.0],[1823664.0],[1362269.0],[1749100.0],[1807119.0],[1840738.0],[1652999.0],[1864320.0],[1776555.0],[1708510.0],[1667465.0],[1578218.0],[1733729.0],[1631817.0],[1766601.0],[1706141.0],[1597500.0],[1633925.0],[1957931.0],[1204191.0],[2350580.0],[937464.0],[1819893.0],[1816857.0],[1643595.0],[1588454.0],[2127021.0],[1952542.0],[1475007.0],[1617018.0],[1933358.0],[1931400.0],[1867220.0],[2071244.0],[1735464.0],[2047302.0],[1657166.0],[1703279.0],[1718814.0],[1616213.0],[1897134.0],[1867976.0],[1648355.0],[1903870.0],[1852417.0],[2040739.0],[1641868.0],[1937882.0],[1956755.0],[1365035.0],[1642864.0],[1744321.0],[1570330.0],[1666703.0],[1805946.0],[1563930.0],[1611056.0],[1734938.0],[1528938.0],[1965676.0],[1643992.0],[1288666.0],[1427338.0],[1558952.0],[1874824.0],[1501250.0],[1266550.0],[1632983.0],[1660147.0],[1771254.0],[1810574.0],[1340173.0],[1651543.0],[1904193.0],[1387286.0],[1363937.0],[1653353.0],[1787120.0],[1710916.0],[1516688.0],[1638842.0],[1676454.0],[1842095.0],[1513809.0],[1909055.0],[1834385.0],[1804028.0],[1770699.0],[1202664.0],[1659651.0],[1814125.0],[1776358.0],[1629961.0],[1880496.0],[1728851.0],[1444082.0],[1296720.0],[1736693.0],[1434384.0],[1508840.0],[1948010.0],[1206698.0],[1318024.0],[1530404.0],[1631698.0],[1573009.0],[1657335.0],[1761564.0],[179232.0],[1708013.0],[55189.0],[1751980.0],[1886657.0],[1234286.0],[2040367.0],[1683325.0],[1848306.0],[1473347.0],[1909574.0],[1884883.0],[1792798.0],[1539026.0],[1424385.0],[1807768.0],[1915408.0],[1637951.0],[1506102.0],[1648869.0],[1723236.0],[1370544.0],[1575590.0],[1685955.0],[3150313.0],[1281462.0],[1951267.0],[1760875.0],[1712004.0],[1800237.0],[1807893.0],[1652096.0],[2298080.0],[1308102.0],[1484842.0],[1493205.0],[1603318.0],[1674236.0],[1892931.0],[1845150.0],[1796932.0],[792464.0],[2023431.0],[1958939.0],[1837723.0],[1647350.0],[1679891.0],[1588693.0],[1732263.0],[1554176.0],[1440380.0],[1888025.0],[1725187.0],[1698003.0],[1730553.0],[1896333.0],[1461004.0],[1213777.0],[1303649.0],[1588111.0],[1933169.0],[1586117.0],[2161096.0],[1828433.0],[2114809.0],[1585980.0],[1413599.0],[1719322.0],[1871099.0],[1603220.0],[1670391.0],[1439691.0],[1885064.0],[1971658.0],[1899747.0],[1672845.0],[1617470.0],[1366060.0],[1553385.0],[2290492.0],[556761.0],[2378995.0],[1794648.0],[1556469.0],[1889740.0],[1022099.0],[1323010.0],[1881441.0],[1885600.0],[2161663.0],[1744762.0],[1985228.0],[1633824.0],[1925479.0],[1807043.0],[1382741.0],[1739600.0],[2146008.0],[1479091.0],[1391853.0],[2010477.0],[1761207.0],[1520504.0],[1356803.0],[1662368.0],[1708759.0],[973410.0],[2075824.0],[1562331.0],[1765312.0],[1645884.0],[1658672.0],[1702248.0],[1928204.0],[1652965.0],[1601220.0],[1733805.0],[2111738.0],[1534256.0],[1546938.0],[1694329.0],[1884339.0],[1454436.0],[1716459.0],[1912911.0],[1559740.0],[1679506.0],[1922764.0],[1762252.0],[1915959.0],[1851112.0],[1455577.0],[1775051.0],[1679534.0],[1723538.0],[1737133.0],[1801717.0],[1583129.0],[1739082.0],[1612512.0],[1667282.0],[1679030.0],[1468530.0],[1828764.0],[1809109.0],[1529431.0],[1962903.0],[1667253.0],[1655239.0],[1787878.0],[1848489.0],[1575064.0],[1968276.0],[1656474.0],[2114201.0],[1686215.0],[1197806.0],[1259085.0],[1676668.0],[1587079.0],[2175529.0],[1914739.0],[1845547.0],[2041612.0],[434128.0],[1195720.0],[1269917.0],[1803349.0],[1752454.0],[1666126.0],[1552019.0],[1799551.0],[1851654.0],[1592611.0],[2067463.0],[579352.0],[1785472.0],[1553860.0],[1294671.0],[2253448.0],[1775196.0],[1531525.0],[1690620.0],[1655704.0],[1849429.0],[1694646.0],[1493543.0],[1492317.0],[1499639.0],[2370903.0],[1461052.0],[1561040.0],[1946870.0],[1371427.0],[1427783.0],[1337110.0],[1647399.0],[1508963.0],[1547800.0],[1650453.0],[1530014.0],[1473862.0],[1945992.0],[1261861.0],[1352857.0],[1608545.0],[716990.0],[2069559.0],[1685816.0],[1513806.0],[1612300.0],[1661229.0],[1614988.0],[2191465.0],[1556599.0],[1288926.0],[1794896.0],[1735983.0],[1665502.0],[1671030.0],[1856791.0],[1741604.0],[1652994.0],[1444335.0],[1484256.0],[1829300.0],[1503980.0],[1666770.0],[1743283.0],[1359679.0],[2371644.0],[1916185.0],[1498666.0],[318471.0],[1582400.9717934993],[411346.8832798424],[1644353.1150737212],[1772123.4583131715],[646729.0],[1698986.6878278088],[250029.0],[121740.0],[568281.104982515],[1731423.3247479957],[1805054.9374463586],[1330051.2265762947],[1479420.1213534693],[1592357.041634522],[1864447.0147089066],[1313543.2125966665],[55189.0],[1792314.1201794483],[1854902.7101187361],[981609.2246572323],[1017765.7952784527],[792464.0],[2100878.067652333],[1213777.0],[1550561.8931075688],[973410.0],[1608761.8167242955],[1959342.8479804182],[434128.0],[1567181.864860669],[1815183.074099372],[1308942.396759421],[1843504.556146671],[1617600.669871884],[1670124.3478314995]],\"domain\":{\"x\":[0.0,1.0],\"y\":[0.0,1.0]},\"hovertemplate\":\"labels=%{label}\\u003cbr\\u003eTOTAL ELECTORS_sum=%{value}\\u003cbr\\u003eparent=%{parent}\\u003cbr\\u003eid=%{id}\\u003cbr\\u003eTOTAL ELECTORS=%{color}\\u003cextra\\u003e\\u003c\\u002fextra\\u003e\",\"ids\":[\"Telangana\\u002fADILABAD\",\"Uttar Pradesh\\u002fAGRA\",\"Maharashtra\\u002fAHMADNAGAR\",\"Gujarat\\u002fAHMEDABAD EAST\",\"Gujarat\\u002fAHMEDABAD WEST\",\"Rajasthan\\u002fAJMER\",\"Uttar Pradesh\\u002fAKBARPUR\",\"Maharashtra\\u002fAKOLA\",\"Kerala\\u002fALAPPUZHA\",\"Kerala\\u002fALATHUR\",\"Uttar Pradesh\\u002fALIGARH\",\"West Bengal\\u002fALIPURDUARS\",\"Uttar Pradesh\\u002fALLAHABAD\",\"Uttarakhand\\u002fALMORA\",\"Rajasthan\\u002fALWAR\",\"Andhra Pradesh\\u002fAMALAPURAM\",\"Haryana\\u002fAMBALA\",\"Uttar Pradesh\\u002fAMBEDKAR NAGAR\",\"Uttar Pradesh\\u002fAMETHI\",\"Maharashtra\\u002fAMRAVATI\",\"Gujarat\\u002fAMRELI\",\"Punjab\\u002fAMRITSAR\",\"Uttar Pradesh\\u002fAMROHA\",\"Andhra Pradesh\\u002fANAKAPALLI\",\"Gujarat\\u002fANAND\",\"Punjab\\u002fANANDPUR SAHIB\",\"Andhra Pradesh\\u002fANANTAPUR\",\"Jammu & Kashmir\\u002fANANTNAG\",\"Andaman & Nicobar Islands\\u002fANDAMAN & NICOBAR ISLANDS\",\"Uttar Pradesh\\u002fAONLA\",\"Tamil Nadu\\u002fARAKKONAM\",\"West Bengal\\u002fARAMBAGH\",\"Tamil Nadu\\u002fARANI\",\"Bihar\\u002fARARIA\",\"Bihar\\u002fARRAH\",\"Andhra Pradesh\\u002fARUKU\",\"Arunachal Pradesh\\u002fARUNACHAL EAST\",\"Arunachal Pradesh\\u002fARUNACHAL WEST\",\"West Bengal\\u002fASANSOL\",\"Odisha\\u002fASKA\",\"Kerala\\u002fATTINGAL\",\"Bihar\\u002fAURANGABAD\",\"Maharashtra\\u002fAURANGABAD\",\"Assam\\u002fAUTONOMOUS DISTRICT\",\"Uttar Pradesh\\u002fAZAMGARH\",\"Uttar Pradesh\\u002fBADAUN\",\"Karnataka\\u002fBAGALKOT\",\"Uttar Pradesh\\u002fBAGHPAT\",\"West Bengal\\u002fBAHARAMPUR\",\"Uttar Pradesh\\u002fBAHRAICH\",\"Madhya Pradesh\\u002fBALAGHAT\",\"Odisha\\u002fBALASORE\",\"Uttar Pradesh\\u002fBALLIA\",\"West Bengal\\u002fBALURGHAT\",\"Gujarat\\u002fBANASKANTHA\",\"Uttar Pradesh\\u002fBANDA\",\"Karnataka\\u002fBANGALORE CENTRAL\",\"Karnataka\\u002fBANGALORE NORTH\",\"Karnataka\\u002fBANGALORE RURAL\",\"Karnataka\\u002fBANGALORE SOUTH\",\"West Bengal\\u002fBANGAON\",\"Bihar\\u002fBANKA\",\"West Bengal\\u002fBANKURA\",\"Uttar Pradesh\\u002fBANSGAON\",\"Rajasthan\\u002fBANSWARA\",\"Andhra Pradesh\\u002fBAPATLA\",\"Uttar Pradesh\\u002fBARABANKI\",\"Maharashtra\\u002fBARAMATI\",\"Jammu & Kashmir\\u002fBARAMULLA\",\"West Bengal\\u002fBARASAT\",\"West Bengal\\u002fBARDHAMAN DURGAPUR\",\"West Bengal\\u002fBARDHAMAN PURBA\",\"Gujarat\\u002fBARDOLI\",\"Uttar Pradesh\\u002fBAREILLY\",\"Odisha\\u002fBARGARH\",\"Rajasthan\\u002fBARMER\",\"Assam\\u002fBARPETA\",\"West Bengal\\u002fBARRACKPORE\",\"West Bengal\\u002fBASIRHAT\",\"Chhattisgarh\\u002fBASTAR\",\"Uttar Pradesh\\u002fBASTI\",\"Punjab\\u002fBATHINDA\",\"Maharashtra\\u002fBEED\",\"Bihar\\u002fBEGUSARAI\",\"Karnataka\\u002fBELGAUM\",\"Karnataka\\u002fBELLARY\",\"Odisha\\u002fBERHAMPUR\",\"Madhya Pradesh\\u002fBETUL\",\"Uttar Pradesh\\u002fBHADOHI\",\"Odisha\\u002fBHADRAK\",\"Bihar\\u002fBHAGALPUR\",\"Maharashtra\\u002fBHANDARA - GONDIYA\",\"Rajasthan\\u002fBHARATPUR\",\"Gujarat\\u002fBHARUCH\",\"Gujarat\\u002fBHAVNAGAR\",\"Rajasthan\\u002fBHILWARA\",\"Madhya Pradesh\\u002fBHIND\",\"Maharashtra\\u002fBHIWANDI\",\"Haryana\\u002fBHIWANI-MAHENDRAGARH\",\"Telangana\\u002fBHONGIR\",\"Madhya Pradesh\\u002fBHOPAL\",\"Odisha\\u002fBHUBANESWAR\",\"Karnataka\\u002fBIDAR\",\"Karnataka\\u002fBIJAPUR\",\"Uttar Pradesh\\u002fBIJNOR\",\"Rajasthan\\u002fBIKANER (SC)\",\"Chhattisgarh\\u002fBILASPUR\",\"West Bengal\\u002fBIRBHUM\",\"West Bengal\\u002fBISHNUPUR\",\"Odisha\\u002fBOLANGIR\",\"West Bengal\\u002fBOLPUR\",\"Uttar Pradesh\\u002fBULANDSHAHR\",\"Maharashtra\\u002fBULDHANA\",\"Bihar\\u002fBUXAR\",\"Kerala\\u002fCHALAKUDY\",\"Karnataka\\u002fCHAMARAJANAGAR\",\"Uttar Pradesh\\u002fCHANDAULI\",\"Chandigarh\\u002fCHANDIGARH\",\"NCT OF Delhi\\u002fCHANDNI CHOWK\",\"Maharashtra\\u002fCHANDRAPUR\",\"Jharkhand\\u002fCHATRA\",\"Tamil Nadu\\u002fCHENNAI CENTRAL\",\"Tamil Nadu\\u002fCHENNAI NORTH\",\"Tamil Nadu\\u002fCHENNAI SOUTH\",\"Telangana\\u002fCHEVELLA\",\"Madhya Pradesh\\u002fCHHINDWARA\",\"Gujarat\\u002fCHHOTA UDAIPUR\",\"Tamil Nadu\\u002fCHIDAMBARAM\",\"Karnataka\\u002fCHIKKBALLAPUR\",\"Karnataka\\u002fCHIKKODI\",\"Karnataka\\u002fCHITRADURGA\",\"Andhra Pradesh\\u002fCHITTOOR\",\"Rajasthan\\u002fCHITTORGARH\",\"Rajasthan\\u002fCHURU\",\"Tamil Nadu\\u002fCOIMBATORE\",\"West Bengal\\u002fCOOCH BEHAR\",\"Tamil Nadu\\u002fCUDDALORE\",\"Odisha\\u002fCUTTACK\",\"Dadra & Nagar Haveli\\u002fDADRA AND NAGAR HAVELI\",\"Gujarat\\u002fDAHOD\",\"Karnataka\\u002fDAKSHINA KANNADA\",\"Daman & Diu\\u002fDAMAN & DIU\",\"Madhya Pradesh\\u002fDAMOH\",\"Bihar\\u002fDARBHANGA\",\"West Bengal\\u002fDARJEELING\",\"Rajasthan\\u002fDAUSA\",\"Karnataka\\u002fDAVANAGERE\",\"Uttar Pradesh\\u002fDEORIA\",\"Madhya Pradesh\\u002fDEWAS\",\"Jharkhand\\u002fDHANBAD\",\"Madhya Pradesh\\u002fDHAR\",\"Tamil Nadu\\u002fDHARMAPURI\",\"Karnataka\\u002fDHARWAD\",\"Uttar Pradesh\\u002fDHAURAHRA\",\"Odisha\\u002fDHENKANAL\",\"Assam\\u002fDHUBRI\",\"Maharashtra\\u002fDHULE\",\"West Bengal\\u002fDIAMOND HARBOUR\",\"Assam\\u002fDIBRUGARH\",\"Tamil Nadu\\u002fDINDIGUL\",\"Maharashtra\\u002fDINDORI\",\"Uttar Pradesh\\u002fDOMARIYAGANJ\",\"West Bengal\\u002fDUM DUM\",\"Jharkhand\\u002fDUMKA\",\"Chhattisgarh\\u002fDURG\",\"NCT OF Delhi\\u002fEAST DELHI\",\"Andhra Pradesh\\u002fELURU\",\"Kerala\\u002fERNAKULAM\",\"Tamil Nadu\\u002fERODE\",\"Uttar Pradesh\\u002fETAH\",\"Uttar Pradesh\\u002fETAWAH\",\"Uttar Pradesh\\u002fFAIZABAD\",\"Haryana\\u002fFARIDABAD\",\"Punjab\\u002fFARIDKOT\",\"Uttar Pradesh\\u002fFARRUKHABAD\",\"Punjab\\u002fFATEHGARH SAHIB\",\"Uttar Pradesh\\u002fFATEHPUR\",\"Uttar Pradesh\\u002fFATEHPUR SIKRI\",\"Uttar Pradesh\\u002fFIROZABAD\",\"Punjab\\u002fFIROZPUR\",\"Maharashtra\\u002fGADCHIROLI-CHIMUR\",\"Gujarat\\u002fGANDHINAGAR\",\"Rajasthan\\u002fGANGANAGAR\",\"Uttarakhand\\u002fGARHWAL\",\"Assam\\u002fGAUHATI\",\"Uttar Pradesh\\u002fGAUTAM BUDDHA NAGAR\",\"Bihar\\u002fGAYA (SC)\",\"West Bengal\\u002fGHATAL\",\"Uttar Pradesh\\u002fGHAZIABAD\",\"Uttar Pradesh\\u002fGHAZIPUR\",\"Uttar Pradesh\\u002fGHOSI\",\"Jharkhand\\u002fGIRIDIH\",\"Jharkhand\\u002fGODDA\",\"Uttar Pradesh\\u002fGONDA\",\"Bihar\\u002fGOPALGANJ (SC)\",\"Uttar Pradesh\\u002fGORAKHPUR\",\"Karnataka\\u002fGULBARGA\",\"Madhya Pradesh\\u002fGUNA\",\"Andhra Pradesh\\u002fGUNTUR\",\"Punjab\\u002fGURDASPUR\",\"Haryana\\u002fGURGAON\",\"Madhya Pradesh\\u002fGWALIOR\",\"Bihar\\u002fHAJIPUR (SC)\",\"Himachal Pradesh\\u002fHAMIRPUR\",\"Uttar Pradesh\\u002fHAMIRPUR\",\"Uttar Pradesh\\u002fHARDOI\",\"Uttarakhand\\u002fHARDWAR\",\"Karnataka\\u002fHASSAN\",\"Uttar Pradesh\\u002fHATHRAS\",\"Maharashtra\\u002fHATKANANGLE\",\"Karnataka\\u002fHAVERI\",\"Jharkhand\\u002fHAZARIBAGH\",\"Andhra Pradesh\\u002fHINDUPUR\",\"Maharashtra\\u002fHINGOLI\",\"Haryana\\u002fHISAR\",\"West Bengal\\u002fHOOGHLY\",\"Madhya Pradesh\\u002fHOSHANGABAD\",\"Punjab\\u002fHOSHIARPUR\",\"West Bengal\\u002fHOWRAH\",\"Telangana\\u002fHYDERABAD\",\"Kerala\\u002fIDUKKI\",\"Madhya Pradesh\\u002fINDORE\",\"Manipur\\u002fINNER MANIPUR\",\"Madhya Pradesh\\u002fJABALPUR\",\"West Bengal\\u002fJADAVPUR\",\"Odisha\\u002fJAGATSINGHPUR\",\"Bihar\\u002fJAHANABAD\",\"Rajasthan\\u002fJAIPUR\",\"Rajasthan\\u002fJAIPUR RURAL\",\"Odisha\\u002fJAJPUR\",\"Punjab\\u002fJALANDHAR\",\"Uttar Pradesh\\u002fJALAUN\",\"Maharashtra\\u002fJALGAON\",\"Maharashtra\\u002fJALNA\",\"Rajasthan\\u002fJALORE\",\"West Bengal\\u002fJALPAIGURI\",\"Jammu & Kashmir\\u002fJAMMU\",\"Gujarat\\u002fJAMNAGAR\",\"Jharkhand\\u002fJAMSHEDPUR\",\"Bihar\\u002fJAMUI (SC)\",\"West Bengal\\u002fJANGIPUR\",\"Chhattisgarh\\u002fJANJGIR-CHAMPA\",\"Uttar Pradesh\\u002fJAUNPUR\",\"West Bengal\\u002fJAYNAGAR\",\"Rajasthan\\u002fJHALAWAR-BARAN\",\"Bihar\\u002fJHANJHARPUR\",\"Uttar Pradesh\\u002fJHANSI\",\"West Bengal\\u002fJHARGRAM\",\"Rajasthan\\u002fJHUNJHUNU\",\"Rajasthan\\u002fJODHPUR\",\"Assam\\u002fJORHAT\",\"Gujarat\\u002fJUNAGADH\",\"Gujarat\\u002fKACHCHH\",\"Andhra Pradesh\\u002fKADAPA\",\"Uttar Pradesh\\u002fKAIRANA\",\"Uttar Pradesh\\u002fKAISERGANJ\",\"Andhra Pradesh\\u002fKAKINADA\",\"Odisha\\u002fKALAHANDI\",\"Assam\\u002fKALIABOR\",\"Tamil Nadu\\u002fKALLAKURICHI\",\"Maharashtra\\u002fKALYAN\",\"Tamil Nadu\\u002fKANCHEEPURAM\",\"Odisha\\u002fKANDHAMAL\",\"Himachal Pradesh\\u002fKANGRA\",\"Chhattisgarh\\u002fKANKER\",\"Uttar Pradesh\\u002fKANNAUJ\",\"Tamil Nadu\\u002fKANNIYAKUMARI\",\"Kerala\\u002fKANNUR\",\"Uttar Pradesh\\u002fKANPUR\",\"West Bengal\\u002fKANTHI\",\"Bihar\\u002fKARAKAT\",\"Rajasthan\\u002fKARAULI-DHOLPUR\",\"Assam\\u002fKARIMGANJ\",\"Telangana\\u002fKARIMNAGAR\",\"Haryana\\u002fKARNAL\",\"Tamil Nadu\\u002fKARUR\",\"Kerala\\u002fKASARAGOD\",\"Bihar\\u002fKATIHAR\",\"Uttar Pradesh\\u002fKAUSHAMBI\",\"Odisha\\u002fKENDRAPARA\",\"Odisha\\u002fKEONJHAR\",\"Punjab\\u002fKHADOOR SAHIB\",\"Bihar\\u002fKHAGARIA\",\"Madhya Pradesh\\u002fKHAJURAHO\",\"Telangana\\u002fKHAMMAM\",\"Madhya Pradesh\\u002fKHANDWA\",\"Madhya Pradesh\\u002fKHARGONE\",\"Gujarat\\u002fKHEDA\",\"Uttar Pradesh\\u002fKHERI\",\"Jharkhand\\u002fKHUNTI\",\"Bihar\\u002fKISHANGANJ\",\"Jharkhand\\u002fKODARMA\",\"Assam\\u002fKOKRAJHAR\",\"Karnataka\\u002fKOLAR\",\"Maharashtra\\u002fKOLHAPUR\",\"West Bengal\\u002fKOLKATA DAKSHIN\",\"West Bengal\\u002fKOLKATA UTTAR\",\"Kerala\\u002fKOLLAM\",\"Karnataka\\u002fKOPPAL\",\"Odisha\\u002fKORAPUT\",\"Chhattisgarh\\u002fKORBA\",\"Rajasthan\\u002fKOTA\",\"Kerala\\u002fKOTTAYAM\",\"Kerala\\u002fKOZHIKODE\",\"Tamil Nadu\\u002fKRISHNAGIRI\",\"West Bengal\\u002fKRISHNANAGAR\",\"Andhra Pradesh\\u002fKURNOOL\",\"Haryana\\u002fKURUKSHETRA\",\"Uttar Pradesh\\u002fKUSHI NAGAR\",\"Jammu & Kashmir\\u002fLADAKH\",\"Assam\\u002fLAKHIMPUR\",\"Lakshadweep\\u002fLAKSHADWEEP\",\"Uttar Pradesh\\u002fLALGANJ\",\"Maharashtra\\u002fLATUR\",\"Jharkhand\\u002fLOHARDAGA\",\"Uttar Pradesh\\u002fLUCKNOW\",\"Punjab\\u002fLUDHIANA\",\"Uttar Pradesh\\u002fMACHHLISHAHR\",\"Andhra Pradesh\\u002fMACHILIPATNAM\",\"Maharashtra\\u002fMADHA\",\"Bihar\\u002fMADHEPURA\",\"Bihar\\u002fMADHUBANI\",\"Tamil Nadu\\u002fMADURAI\",\"Telangana\\u002fMAHABUBABAD\",\"Bihar\\u002fMAHARAJGANJ\",\"Uttar Pradesh\\u002fMAHARAJGANJ\",\"Chhattisgarh\\u002fMAHASAMUND\",\"Telangana\\u002fMAHBUBNAGAR\",\"Gujarat\\u002fMAHESANA\",\"Uttar Pradesh\\u002fMAINPURI\",\"Kerala\\u002fMALAPPURAM\",\"West Bengal\\u002fMALDAHA DAKSHIN\",\"West Bengal\\u002fMALDAHA UTTAR\",\"Telangana\\u002fMALKAJGIRI\",\"Himachal Pradesh\\u002fMANDI\",\"Madhya Pradesh\\u002fMANDLA\",\"Madhya Pradesh\\u002fMANDSOUR\",\"Karnataka\\u002fMANDYA\",\"Assam\\u002fMANGALDOI\",\"Uttar Pradesh\\u002fMATHURA\",\"West Bengal\\u002fMATHURAPUR\",\"Maharashtra\\u002fMAVAL\",\"Kerala\\u002fMAVELIKKARA\",\"Tamil Nadu\\u002fMAYILADUTHURAI\",\"Odisha\\u002fMAYURBHANJ\",\"Telangana\\u002fMEDAK\",\"West Bengal\\u002fMEDINIPUR\",\"Uttar Pradesh\\u002fMEERUT\",\"Uttar Pradesh\\u002fMIRZAPUR\",\"Uttar Pradesh\\u002fMISRIKH\",\"Mizoram\\u002fMIZORAM\",\"Uttar Pradesh\\u002fMOHANLALGANJ\",\"Uttar Pradesh\\u002fMORADABAD\",\"Madhya Pradesh\\u002fMORENA\",\"Maharashtra\\u002fMUMBAI NORTH\",\"Maharashtra\\u002fMUMBAI NORTH CENTRAL\",\"Maharashtra\\u002fMUMBAI NORTH EAST\",\"Maharashtra\\u002fMUMBAI NORTH WEST\",\"Maharashtra\\u002fMUMBAI SOUTH\",\"Maharashtra\\u002fMUMBAI SOUTH CENTRAL\",\"Bihar\\u002fMUNGER\",\"West Bengal\\u002fMURSHIDABAD\",\"Uttar Pradesh\\u002fMUZAFFARNAGAR\",\"Bihar\\u002fMUZAFFARPUR\",\"Karnataka\\u002fMYSORE\",\"Odisha\\u002fNABARANGPUR\",\"Nagaland\\u002fNAGALAND\",\"Tamil Nadu\\u002fNAGAPATTINAM\",\"Telangana\\u002fNAGARKURNOOL\",\"Rajasthan\\u002fNAGAUR\",\"Uttar Pradesh\\u002fNAGINA\",\"Maharashtra\\u002fNAGPUR\",\"Uttarakhand\\u002fNAINITAL-UDHAMSINGH NAGAR\",\"Bihar\\u002fNALANDA\",\"Telangana\\u002fNALGONDA\",\"Tamil Nadu\\u002fNAMAKKAL\",\"Maharashtra\\u002fNANDED\",\"Maharashtra\\u002fNANDURBAR\",\"Andhra Pradesh\\u002fNANDYAL\",\"Andhra Pradesh\\u002fNARASARAOPET\",\"Andhra Pradesh\\u002fNARSAPURAM\",\"Maharashtra\\u002fNASHIK\",\"Gujarat\\u002fNAVSARI\",\"Bihar\\u002fNAWADA\",\"Andhra Pradesh\\u002fNELLORE\",\"NCT OF Delhi\\u002fNEW DELHI\",\"Tamil Nadu\\u002fNILGIRIS\",\"Telangana\\u002fNIZAMABAD\",\"NCT OF Delhi\\u002fNORTH EAST DELHI\",\"Goa\\u002fNORTH GOA\",\"NCT OF Delhi\\u002fNORTH WEST DELHI\",\"Assam\\u002fNOWGONG\",\"Andhra Pradesh\\u002fONGOLE\",\"Maharashtra\\u002fOSMANABAD\",\"Manipur\\u002fOUTER MANIPUR\",\"Kerala\\u002fPALAKKAD\",\"Jharkhand\\u002fPALAMAU\",\"Maharashtra\\u002fPALGHAR\",\"Rajasthan\\u002fPALI\",\"Gujarat\\u002fPANCHMAHAL\",\"Maharashtra\\u002fPARBHANI\",\"Bihar\\u002fPASCHIM CHAMPARAN\",\"Bihar\\u002fPATALIPUTRA\",\"Gujarat\\u002fPATAN\",\"Kerala\\u002fPATHANAMTHITTA\",\"Punjab\\u002fPATIALA\",\"Bihar\\u002fPATNA SAHIB\",\"Telangana\\u002fPEDDAPALLE\",\"Tamil Nadu\\u002fPERAMBALUR\",\"Uttar Pradesh\\u002fPHULPUR\",\"Uttar Pradesh\\u002fPILIBHIT\",\"Tamil Nadu\\u002fPOLLACHI\",\"Kerala\\u002fPONNANI\",\"Gujarat\\u002fPORBANDAR\",\"Uttar Pradesh\\u002fPRATAPGARH\",\"Puducherry\\u002fPUDUCHERRY\",\"Maharashtra\\u002fPUNE\",\"Odisha\\u002fPURI\",\"Bihar\\u002fPURNIA\",\"West Bengal\\u002fPURULIA\",\"Bihar\\u002fPURVI CHAMPARAN\",\"Uttar Pradesh\\u002fRAE BARELI\",\"Karnataka\\u002fRAICHUR\",\"Maharashtra\\u002fRAIGAD\",\"West Bengal\\u002fRAIGANJ\",\"Chhattisgarh\\u002fRAIGARH\",\"Chhattisgarh\\u002fRAIPUR\",\"Andhra Pradesh\\u002fRAJAHMUNDRY\",\"Andhra Pradesh\\u002fRAJAMPET\",\"Madhya Pradesh\\u002fRAJGARH\",\"Gujarat\\u002fRAJKOT\",\"Jharkhand\\u002fRAJMAHAL\",\"Chhattisgarh\\u002fRAJNANDGAON\",\"Rajasthan\\u002fRAJSAMAND\",\"Tamil Nadu\\u002fRAMANATHAPURAM\",\"Uttar Pradesh\\u002fRAMPUR\",\"Maharashtra\\u002fRAMTEK\",\"West Bengal\\u002fRANAGHAT\",\"Jharkhand\\u002fRANCHI\",\"Madhya Pradesh\\u002fRATLAM\",\"Maharashtra\\u002fRATNAGIRI - SINDHUDURG\",\"Maharashtra\\u002fRAVER\",\"Madhya Pradesh\\u002fREWA\",\"Uttar Pradesh\\u002fROBERTSGANJ\",\"Haryana\\u002fROHTAK\",\"Gujarat\\u002fSABARKANTHA\",\"Madhya Pradesh\\u002fSAGAR\",\"Uttar Pradesh\\u002fSAHARANPUR\",\"Tamil Nadu\\u002fSALEM\",\"Uttar Pradesh\\u002fSALEMPUR\",\"Bihar\\u002fSAMASTIPUR (SC)\",\"Odisha\\u002fSAMBALPUR\",\"Uttar Pradesh\\u002fSAMBHAL\",\"Maharashtra\\u002fSANGLI\",\"Punjab\\u002fSANGRUR\",\"Uttar Pradesh\\u002fSANT KABIR NAGAR\",\"Bihar\\u002fSARAN\",\"Chhattisgarh\\u002fSARGUJA\",\"Bihar\\u002fSASARAM (SC)\",\"Maharashtra\\u002fSATARA\",\"Madhya Pradesh\\u002fSATNA\",\"Telangana\\u002fSECUNDRABAD\",\"Madhya Pradesh\\u002fSHAHDOL\",\"Uttar Pradesh\\u002fSHAHJAHANPUR\",\"Bihar\\u002fSHEOHAR\",\"Meghalaya\\u002fSHILLONG\",\"Himachal Pradesh\\u002fSHIMLA\",\"Karnataka\\u002fSHIMOGA\",\"Maharashtra\\u002fSHIRDI\",\"Maharashtra\\u002fSHIRUR\",\"Uttar Pradesh\\u002fSHRAWASTI\",\"Madhya Pradesh\\u002fSIDHI\",\"Rajasthan\\u002fSIKAR\",\"Sikkim\\u002fSIKKIM\",\"Assam\\u002fSILCHAR\",\"Jharkhand\\u002fSINGHBHUM\",\"Haryana\\u002fSIRSA\",\"Bihar\\u002fSITAMARHI\",\"Uttar Pradesh\\u002fSITAPUR\",\"Tamil Nadu\\u002fSIVAGANGA\",\"Bihar\\u002fSIWAN\",\"Maharashtra\\u002fSOLAPUR\",\"Haryana\\u002fSONIPAT\",\"NCT OF Delhi\\u002fSOUTH DELHI\",\"Goa\\u002fSOUTH GOA\",\"West Bengal\\u002fSRERAMPUR\",\"Andhra Pradesh\\u002fSRIKAKULAM\",\"Jammu & Kashmir\\u002fSRINAGAR\",\"Tamil Nadu\\u002fSRIPERUMBUDUR\",\"Uttar Pradesh\\u002fSULTANPUR\",\"Odisha\\u002fSUNDARGARH\",\"Bihar\\u002fSUPAUL\",\"Gujarat\\u002fSURAT\",\"Gujarat\\u002fSURENDRANAGAR\",\"West Bengal\\u002fTAMLUK\",\"Uttarakhand\\u002fTEHRI GARHWAL\",\"Tamil Nadu\\u002fTENKASI\",\"Assam\\u002fTEZPUR\",\"Maharashtra\\u002fTHANE\",\"Tamil Nadu\\u002fTHANJAVUR\",\"Tamil Nadu\\u002fTHENI\",\"Tamil Nadu\\u002fTHIRUVALLUR\",\"Kerala\\u002fTHIRUVANANTHAPURAM\",\"Tamil Nadu\\u002fTHOOTHUKKUDI\",\"Kerala\\u002fTHRISSUR\",\"Madhya Pradesh\\u002fTIKAMGARH\",\"Tamil Nadu\\u002fTIRUCHIRAPPALLI\",\"Tamil Nadu\\u002fTIRUNELVELI\",\"Andhra Pradesh\\u002fTIRUPATI\",\"Tamil Nadu\\u002fTIRUPPUR\",\"Tamil Nadu\\u002fTIRUVANNAMALAI\",\"Rajasthan\\u002fTONK-SAWAI MADHOPUR\",\"Tripura\\u002fTRIPURA EAST\",\"Tripura\\u002fTRIPURA WEST\",\"Karnataka\\u002fTUMKUR\",\"Meghalaya\\u002fTURA\",\"Rajasthan\\u002fUDAIPUR\",\"Jammu & Kashmir\\u002fUDHAMPUR\",\"Karnataka\\u002fUDUPI CHIKMAGALUR\",\"Bihar\\u002fUJIARPUR\",\"Madhya Pradesh\\u002fUJJAIN\",\"West Bengal\\u002fULUBERIA\",\"Uttar Pradesh\\u002fUNNAO\",\"Karnataka\\u002fUTTARA KANNADA\",\"Kerala\\u002fVADAKARA\",\"Gujarat\\u002fVADODARA\",\"Bihar\\u002fVAISHALI\",\"Bihar\\u002fVALMIKI NAGAR\",\"Gujarat\\u002fVALSAD\",\"Uttar Pradesh\\u002fVARANASI\",\"Madhya Pradesh\\u002fVIDISHA\",\"Andhra Pradesh\\u002fVIJAYAWADA\",\"Tamil Nadu\\u002fVILUPPURAM\",\"Tamil Nadu\\u002fVIRUDHUNAGAR\",\"Andhra Pradesh\\u002fVISAKHAPATNAM\",\"Andhra Pradesh\\u002fVIZIANAGARAM\",\"Telangana\\u002fWARANGAL\",\"Maharashtra\\u002fWARDHA\",\"Kerala\\u002fWAYANAD\",\"NCT OF Delhi\\u002fWEST DELHI\",\"Maharashtra\\u002fYAVATMAL-WASHIM\",\"Telangana\\u002fZAHIRABAD\",\"Andaman & Nicobar Islands\",\"Andhra Pradesh\",\"Arunachal Pradesh\",\"Assam\",\"Bihar\",\"Chandigarh\",\"Chhattisgarh\",\"Dadra & Nagar Haveli\",\"Daman & Diu\",\"Goa\",\"Gujarat\",\"Haryana\",\"Himachal Pradesh\",\"Jammu & Kashmir\",\"Jharkhand\",\"Karnataka\",\"Kerala\",\"Lakshadweep\",\"Madhya Pradesh\",\"Maharashtra\",\"Manipur\",\"Meghalaya\",\"Mizoram\",\"NCT OF Delhi\",\"Nagaland\",\"Odisha\",\"Puducherry\",\"Punjab\",\"Rajasthan\",\"Sikkim\",\"Tamil Nadu\",\"Telangana\",\"Tripura\",\"Uttar Pradesh\",\"Uttarakhand\",\"West Bengal\"],\"labels\":[\"ADILABAD\",\"AGRA\",\"AHMADNAGAR\",\"AHMEDABAD EAST\",\"AHMEDABAD WEST\",\"AJMER\",\"AKBARPUR\",\"AKOLA\",\"ALAPPUZHA\",\"ALATHUR\",\"ALIGARH\",\"ALIPURDUARS\",\"ALLAHABAD\",\"ALMORA\",\"ALWAR\",\"AMALAPURAM\",\"AMBALA\",\"AMBEDKAR NAGAR\",\"AMETHI\",\"AMRAVATI\",\"AMRELI\",\"AMRITSAR\",\"AMROHA\",\"ANAKAPALLI\",\"ANAND\",\"ANANDPUR SAHIB\",\"ANANTAPUR\",\"ANANTNAG\",\"ANDAMAN & NICOBAR ISLANDS\",\"AONLA\",\"ARAKKONAM\",\"ARAMBAGH\",\"ARANI\",\"ARARIA\",\"ARRAH\",\"ARUKU\",\"ARUNACHAL EAST\",\"ARUNACHAL WEST\",\"ASANSOL\",\"ASKA\",\"ATTINGAL\",\"AURANGABAD\",\"AURANGABAD\",\"AUTONOMOUS DISTRICT\",\"AZAMGARH\",\"BADAUN\",\"BAGALKOT\",\"BAGHPAT\",\"BAHARAMPUR\",\"BAHRAICH\",\"BALAGHAT\",\"BALASORE\",\"BALLIA\",\"BALURGHAT\",\"BANASKANTHA\",\"BANDA\",\"BANGALORE CENTRAL\",\"BANGALORE NORTH\",\"BANGALORE RURAL\",\"BANGALORE SOUTH\",\"BANGAON\",\"BANKA\",\"BANKURA\",\"BANSGAON\",\"BANSWARA\",\"BAPATLA\",\"BARABANKI\",\"BARAMATI\",\"BARAMULLA\",\"BARASAT\",\"BARDHAMAN DURGAPUR\",\"BARDHAMAN PURBA\",\"BARDOLI\",\"BAREILLY\",\"BARGARH\",\"BARMER\",\"BARPETA\",\"BARRACKPORE\",\"BASIRHAT\",\"BASTAR\",\"BASTI\",\"BATHINDA\",\"BEED\",\"BEGUSARAI\",\"BELGAUM\",\"BELLARY\",\"BERHAMPUR\",\"BETUL\",\"BHADOHI\",\"BHADRAK\",\"BHAGALPUR\",\"BHANDARA - GONDIYA\",\"BHARATPUR\",\"BHARUCH\",\"BHAVNAGAR\",\"BHILWARA\",\"BHIND\",\"BHIWANDI\",\"BHIWANI-MAHENDRAGARH\",\"BHONGIR\",\"BHOPAL\",\"BHUBANESWAR\",\"BIDAR\",\"BIJAPUR\",\"BIJNOR\",\"BIKANER (SC)\",\"BILASPUR\",\"BIRBHUM\",\"BISHNUPUR\",\"BOLANGIR\",\"BOLPUR\",\"BULANDSHAHR\",\"BULDHANA\",\"BUXAR\",\"CHALAKUDY\",\"CHAMARAJANAGAR\",\"CHANDAULI\",\"CHANDIGARH\",\"CHANDNI CHOWK\",\"CHANDRAPUR\",\"CHATRA\",\"CHENNAI CENTRAL\",\"CHENNAI NORTH\",\"CHENNAI SOUTH\",\"CHEVELLA\",\"CHHINDWARA\",\"CHHOTA UDAIPUR\",\"CHIDAMBARAM\",\"CHIKKBALLAPUR\",\"CHIKKODI\",\"CHITRADURGA\",\"CHITTOOR\",\"CHITTORGARH\",\"CHURU\",\"COIMBATORE\",\"COOCH BEHAR\",\"CUDDALORE\",\"CUTTACK\",\"DADRA AND NAGAR HAVELI\",\"DAHOD\",\"DAKSHINA KANNADA\",\"DAMAN & DIU\",\"DAMOH\",\"DARBHANGA\",\"DARJEELING\",\"DAUSA\",\"DAVANAGERE\",\"DEORIA\",\"DEWAS\",\"DHANBAD\",\"DHAR\",\"DHARMAPURI\",\"DHARWAD\",\"DHAURAHRA\",\"DHENKANAL\",\"DHUBRI\",\"DHULE\",\"DIAMOND HARBOUR\",\"DIBRUGARH\",\"DINDIGUL\",\"DINDORI\",\"DOMARIYAGANJ\",\"DUM DUM\",\"DUMKA\",\"DURG\",\"EAST DELHI\",\"ELURU\",\"ERNAKULAM\",\"ERODE\",\"ETAH\",\"ETAWAH\",\"FAIZABAD\",\"FARIDABAD\",\"FARIDKOT\",\"FARRUKHABAD\",\"FATEHGARH SAHIB\",\"FATEHPUR\",\"FATEHPUR SIKRI\",\"FIROZABAD\",\"FIROZPUR\",\"GADCHIROLI-CHIMUR\",\"GANDHINAGAR\",\"GANGANAGAR\",\"GARHWAL\",\"GAUHATI\",\"GAUTAM BUDDHA NAGAR\",\"GAYA (SC)\",\"GHATAL\",\"GHAZIABAD\",\"GHAZIPUR\",\"GHOSI\",\"GIRIDIH\",\"GODDA\",\"GONDA\",\"GOPALGANJ (SC)\",\"GORAKHPUR\",\"GULBARGA\",\"GUNA\",\"GUNTUR\",\"GURDASPUR\",\"GURGAON\",\"GWALIOR\",\"HAJIPUR (SC)\",\"HAMIRPUR\",\"HAMIRPUR\",\"HARDOI\",\"HARDWAR\",\"HASSAN\",\"HATHRAS\",\"HATKANANGLE\",\"HAVERI\",\"HAZARIBAGH\",\"HINDUPUR\",\"HINGOLI\",\"HISAR\",\"HOOGHLY\",\"HOSHANGABAD\",\"HOSHIARPUR\",\"HOWRAH\",\"HYDERABAD\",\"IDUKKI\",\"INDORE\",\"INNER MANIPUR\",\"JABALPUR\",\"JADAVPUR\",\"JAGATSINGHPUR\",\"JAHANABAD\",\"JAIPUR\",\"JAIPUR RURAL\",\"JAJPUR\",\"JALANDHAR\",\"JALAUN\",\"JALGAON\",\"JALNA\",\"JALORE\",\"JALPAIGURI\",\"JAMMU\",\"JAMNAGAR\",\"JAMSHEDPUR\",\"JAMUI (SC)\",\"JANGIPUR\",\"JANJGIR-CHAMPA\",\"JAUNPUR\",\"JAYNAGAR\",\"JHALAWAR-BARAN\",\"JHANJHARPUR\",\"JHANSI\",\"JHARGRAM\",\"JHUNJHUNU\",\"JODHPUR\",\"JORHAT\",\"JUNAGADH\",\"KACHCHH\",\"KADAPA\",\"KAIRANA\",\"KAISERGANJ\",\"KAKINADA\",\"KALAHANDI\",\"KALIABOR\",\"KALLAKURICHI\",\"KALYAN\",\"KANCHEEPURAM\",\"KANDHAMAL\",\"KANGRA\",\"KANKER\",\"KANNAUJ\",\"KANNIYAKUMARI\",\"KANNUR\",\"KANPUR\",\"KANTHI\",\"KARAKAT\",\"KARAULI-DHOLPUR\",\"KARIMGANJ\",\"KARIMNAGAR\",\"KARNAL\",\"KARUR\",\"KASARAGOD\",\"KATIHAR\",\"KAUSHAMBI\",\"KENDRAPARA\",\"KEONJHAR\",\"KHADOOR SAHIB\",\"KHAGARIA\",\"KHAJURAHO\",\"KHAMMAM\",\"KHANDWA\",\"KHARGONE\",\"KHEDA\",\"KHERI\",\"KHUNTI\",\"KISHANGANJ\",\"KODARMA\",\"KOKRAJHAR\",\"KOLAR\",\"KOLHAPUR\",\"KOLKATA DAKSHIN\",\"KOLKATA UTTAR\",\"KOLLAM\",\"KOPPAL\",\"KORAPUT\",\"KORBA\",\"KOTA\",\"KOTTAYAM\",\"KOZHIKODE\",\"KRISHNAGIRI\",\"KRISHNANAGAR\",\"KURNOOL\",\"KURUKSHETRA\",\"KUSHI NAGAR\",\"LADAKH\",\"LAKHIMPUR\",\"LAKSHADWEEP\",\"LALGANJ\",\"LATUR\",\"LOHARDAGA\",\"LUCKNOW\",\"LUDHIANA\",\"MACHHLISHAHR\",\"MACHILIPATNAM\",\"MADHA\",\"MADHEPURA\",\"MADHUBANI\",\"MADURAI\",\"MAHABUBABAD\",\"MAHARAJGANJ\",\"MAHARAJGANJ\",\"MAHASAMUND\",\"MAHBUBNAGAR\",\"MAHESANA\",\"MAINPURI\",\"MALAPPURAM\",\"MALDAHA DAKSHIN\",\"MALDAHA UTTAR\",\"MALKAJGIRI\",\"MANDI\",\"MANDLA\",\"MANDSOUR\",\"MANDYA\",\"MANGALDOI\",\"MATHURA\",\"MATHURAPUR\",\"MAVAL\",\"MAVELIKKARA\",\"MAYILADUTHURAI\",\"MAYURBHANJ\",\"MEDAK\",\"MEDINIPUR\",\"MEERUT\",\"MIRZAPUR\",\"MISRIKH\",\"MIZORAM\",\"MOHANLALGANJ\",\"MORADABAD\",\"MORENA\",\"MUMBAI NORTH\",\"MUMBAI NORTH CENTRAL\",\"MUMBAI NORTH EAST\",\"MUMBAI NORTH WEST\",\"MUMBAI SOUTH\",\"MUMBAI SOUTH CENTRAL\",\"MUNGER\",\"MURSHIDABAD\",\"MUZAFFARNAGAR\",\"MUZAFFARPUR\",\"MYSORE\",\"NABARANGPUR\",\"NAGALAND\",\"NAGAPATTINAM\",\"NAGARKURNOOL\",\"NAGAUR\",\"NAGINA\",\"NAGPUR\",\"NAINITAL-UDHAMSINGH NAGAR\",\"NALANDA\",\"NALGONDA\",\"NAMAKKAL\",\"NANDED\",\"NANDURBAR\",\"NANDYAL\",\"NARASARAOPET\",\"NARSAPURAM\",\"NASHIK\",\"NAVSARI\",\"NAWADA\",\"NELLORE\",\"NEW DELHI\",\"NILGIRIS\",\"NIZAMABAD\",\"NORTH EAST DELHI\",\"NORTH GOA\",\"NORTH WEST DELHI\",\"NOWGONG\",\"ONGOLE\",\"OSMANABAD\",\"OUTER MANIPUR\",\"PALAKKAD\",\"PALAMAU\",\"PALGHAR\",\"PALI\",\"PANCHMAHAL\",\"PARBHANI\",\"PASCHIM CHAMPARAN\",\"PATALIPUTRA\",\"PATAN\",\"PATHANAMTHITTA\",\"PATIALA\",\"PATNA SAHIB\",\"PEDDAPALLE\",\"PERAMBALUR\",\"PHULPUR\",\"PILIBHIT\",\"POLLACHI\",\"PONNANI\",\"PORBANDAR\",\"PRATAPGARH\",\"PUDUCHERRY\",\"PUNE\",\"PURI\",\"PURNIA\",\"PURULIA\",\"PURVI CHAMPARAN\",\"RAE BARELI\",\"RAICHUR\",\"RAIGAD\",\"RAIGANJ\",\"RAIGARH\",\"RAIPUR\",\"RAJAHMUNDRY\",\"RAJAMPET\",\"RAJGARH\",\"RAJKOT\",\"RAJMAHAL\",\"RAJNANDGAON\",\"RAJSAMAND\",\"RAMANATHAPURAM\",\"RAMPUR\",\"RAMTEK\",\"RANAGHAT\",\"RANCHI\",\"RATLAM\",\"RATNAGIRI - SINDHUDURG\",\"RAVER\",\"REWA\",\"ROBERTSGANJ\",\"ROHTAK\",\"SABARKANTHA\",\"SAGAR\",\"SAHARANPUR\",\"SALEM\",\"SALEMPUR\",\"SAMASTIPUR (SC)\",\"SAMBALPUR\",\"SAMBHAL\",\"SANGLI\",\"SANGRUR\",\"SANT KABIR NAGAR\",\"SARAN\",\"SARGUJA\",\"SASARAM (SC)\",\"SATARA\",\"SATNA\",\"SECUNDRABAD\",\"SHAHDOL\",\"SHAHJAHANPUR\",\"SHEOHAR\",\"SHILLONG\",\"SHIMLA\",\"SHIMOGA\",\"SHIRDI\",\"SHIRUR\",\"SHRAWASTI\",\"SIDHI\",\"SIKAR\",\"SIKKIM\",\"SILCHAR\",\"SINGHBHUM\",\"SIRSA\",\"SITAMARHI\",\"SITAPUR\",\"SIVAGANGA\",\"SIWAN\",\"SOLAPUR\",\"SONIPAT\",\"SOUTH DELHI\",\"SOUTH GOA\",\"SRERAMPUR\",\"SRIKAKULAM\",\"SRINAGAR\",\"SRIPERUMBUDUR\",\"SULTANPUR\",\"SUNDARGARH\",\"SUPAUL\",\"SURAT\",\"SURENDRANAGAR\",\"TAMLUK\",\"TEHRI GARHWAL\",\"TENKASI\",\"TEZPUR\",\"THANE\",\"THANJAVUR\",\"THENI\",\"THIRUVALLUR\",\"THIRUVANANTHAPURAM\",\"THOOTHUKKUDI\",\"THRISSUR\",\"TIKAMGARH\",\"TIRUCHIRAPPALLI\",\"TIRUNELVELI\",\"TIRUPATI\",\"TIRUPPUR\",\"TIRUVANNAMALAI\",\"TONK-SAWAI MADHOPUR\",\"TRIPURA EAST\",\"TRIPURA WEST\",\"TUMKUR\",\"TURA\",\"UDAIPUR\",\"UDHAMPUR\",\"UDUPI CHIKMAGALUR\",\"UJIARPUR\",\"UJJAIN\",\"ULUBERIA\",\"UNNAO\",\"UTTARA KANNADA\",\"VADAKARA\",\"VADODARA\",\"VAISHALI\",\"VALMIKI NAGAR\",\"VALSAD\",\"VARANASI\",\"VIDISHA\",\"VIJAYAWADA\",\"VILUPPURAM\",\"VIRUDHUNAGAR\",\"VISAKHAPATNAM\",\"VIZIANAGARAM\",\"WARANGAL\",\"WARDHA\",\"WAYANAD\",\"WEST DELHI\",\"YAVATMAL-WASHIM\",\"ZAHIRABAD\",\"Andaman & Nicobar Islands\",\"Andhra Pradesh\",\"Arunachal Pradesh\",\"Assam\",\"Bihar\",\"Chandigarh\",\"Chhattisgarh\",\"Dadra & Nagar Haveli\",\"Daman & Diu\",\"Goa\",\"Gujarat\",\"Haryana\",\"Himachal Pradesh\",\"Jammu & Kashmir\",\"Jharkhand\",\"Karnataka\",\"Kerala\",\"Lakshadweep\",\"Madhya Pradesh\",\"Maharashtra\",\"Manipur\",\"Meghalaya\",\"Mizoram\",\"NCT OF Delhi\",\"Nagaland\",\"Odisha\",\"Puducherry\",\"Punjab\",\"Rajasthan\",\"Sikkim\",\"Tamil Nadu\",\"Telangana\",\"Tripura\",\"Uttar Pradesh\",\"Uttarakhand\",\"West Bengal\"],\"marker\":{\"coloraxis\":\"coloraxis\",\"colors\":[1489790.0,1937690.0,1861396.0,1811851.0,1643317.0,1876346.0,1766121.0,1865169.0,1356701.0,1266794.0,1887127.0,1648383.0,1716160.0,1337808.0,1888524.0,1459556.0,1853711.0,1785657.0,1743515.0,1833091.0,1628451.0,1507875.0,1646435.0,1521363.0,1655870.0,1698876.0,1664160.0,1397779.0,318471.0,1785605.0,1500016.0,1764726.0,1449150.0,1805439.0,2089353.0,1451418.0,339788.0,463775.0,1615865.0,1541145.0,1350710.0,1742883.0,1886284.0,795945.0,1789168.0,1891576.0,1704010.0,1616476.0,1638378.0,1729908.0,1767725.0,1531781.0,1822625.0,1431704.0,1697384.0,1702024.0,2204817.0,2849250.0,2497458.0,2215489.0,1704632.0,1699394.0,1648906.0,1751258.0,1975368.0,1468671.0,1816830.0,2114663.0,1317738.0,1718252.0,1733578.0,1698089.0,1826526.0,1797655.0,1596290.0,1941231.0,1685149.0,1436431.0,1678357.0,1379122.0,1845223.0,1621671.0,2045405.0,1958382.0,1779350.0,1751734.0,1502455.0,1737437.0,1942514.0,1661661.0,1823820.0,1811556.0,1943794.0,1564519.0,1768297.0,1997328.0,1765334.0,1890100.0,1654317.0,1628033.0,2142861.0,1699678.0,1775095.0,1797587.0,1664125.0,1851628.0,1876953.0,1699219.0,1627199.0,1744446.0,1705073.0,1787925.0,1762918.0,1829373.0,1230197.0,1686333.0,1756837.0,646729.0,1562283.0,1910188.0,1425218.0,1332300.0,1487681.0,1973533.0,2443112.0,1514783.0,1671253.0,1480222.0,1808780.0,1612556.0,1760633.0,1566499.0,2015911.0,2019104.0,1958904.0,1814200.0,1364038.0,1518996.0,250029.0,1598939.0,1724976.0,121740.0,1768777.0,1654811.0,1611317.0,1730289.0,1633064.0,1754195.0,1760503.0,2072634.0,1786151.0,1485804.0,1727311.0,1644674.0,1504403.0,1858566.0,1908173.0,1719190.0,1314319.0,1541881.0,1732936.0,1885433.0,1566196.0,1397253.0,1940269.0,2039302.0,1594950.0,1245972.0,1462246.0,1621295.0,1757984.0,1821785.0,2071816.0,1541971.0,1708585.0,1502861.0,1839312.0,1718837.0,1790510.0,1618419.0,1581366.0,1945772.0,1943486.0,1355796.0,2181319.0,2302960.0,1704596.0,1800002.0,2728978.0,1881077.0,1991651.0,1649413.0,1716766.0,1770248.0,1839514.0,1981197.0,1945765.0,1675724.0,1706119.0,1595284.0,2150728.0,2000744.0,1823664.0,1362269.0,1749100.0,1807119.0,1840738.0,1652999.0,1864320.0,1776555.0,1708510.0,1667465.0,1578218.0,1733729.0,1631817.0,1766601.0,1706141.0,1597500.0,1633925.0,1957931.0,1204191.0,2350580.0,937464.0,1819893.0,1816857.0,1643595.0,1588454.0,2127021.0,1952542.0,1475007.0,1617018.0,1933358.0,1931400.0,1867220.0,2071244.0,1735464.0,2047302.0,1657166.0,1703279.0,1718814.0,1616213.0,1897134.0,1867976.0,1648355.0,1903870.0,1852417.0,2040739.0,1641868.0,1937882.0,1956755.0,1365035.0,1642864.0,1744321.0,1570330.0,1666703.0,1805946.0,1563930.0,1611056.0,1734938.0,1528938.0,1965676.0,1643992.0,1288666.0,1427338.0,1558952.0,1874824.0,1501250.0,1266550.0,1632983.0,1660147.0,1771254.0,1810574.0,1340173.0,1651543.0,1904193.0,1387286.0,1363937.0,1653353.0,1787120.0,1710916.0,1516688.0,1638842.0,1676454.0,1842095.0,1513809.0,1909055.0,1834385.0,1804028.0,1770699.0,1202664.0,1659651.0,1814125.0,1776358.0,1629961.0,1880496.0,1728851.0,1444082.0,1296720.0,1736693.0,1434384.0,1508840.0,1948010.0,1206698.0,1318024.0,1530404.0,1631698.0,1573009.0,1657335.0,1761564.0,179232.0,1708013.0,55189.0,1751980.0,1886657.0,1234286.0,2040367.0,1683325.0,1848306.0,1473347.0,1909574.0,1884883.0,1792798.0,1539026.0,1424385.0,1807768.0,1915408.0,1637951.0,1506102.0,1648869.0,1723236.0,1370544.0,1575590.0,1685955.0,3150313.0,1281462.0,1951267.0,1760875.0,1712004.0,1800237.0,1807893.0,1652096.0,2298080.0,1308102.0,1484842.0,1493205.0,1603318.0,1674236.0,1892931.0,1845150.0,1796932.0,792464.0,2023431.0,1958939.0,1837723.0,1647350.0,1679891.0,1588693.0,1732263.0,1554176.0,1440380.0,1888025.0,1725187.0,1698003.0,1730553.0,1896333.0,1461004.0,1213777.0,1303649.0,1588111.0,1933169.0,1586117.0,2161096.0,1828433.0,2114809.0,1585980.0,1413599.0,1719322.0,1871099.0,1603220.0,1670391.0,1439691.0,1885064.0,1971658.0,1899747.0,1672845.0,1617470.0,1366060.0,1553385.0,2290492.0,556761.0,2378995.0,1794648.0,1556469.0,1889740.0,1022099.0,1323010.0,1881441.0,1885600.0,2161663.0,1744762.0,1985228.0,1633824.0,1925479.0,1807043.0,1382741.0,1739600.0,2146008.0,1479091.0,1391853.0,2010477.0,1761207.0,1520504.0,1356803.0,1662368.0,1708759.0,973410.0,2075824.0,1562331.0,1765312.0,1645884.0,1658672.0,1702248.0,1928204.0,1652965.0,1601220.0,1733805.0,2111738.0,1534256.0,1546938.0,1694329.0,1884339.0,1454436.0,1716459.0,1912911.0,1559740.0,1679506.0,1922764.0,1762252.0,1915959.0,1851112.0,1455577.0,1775051.0,1679534.0,1723538.0,1737133.0,1801717.0,1583129.0,1739082.0,1612512.0,1667282.0,1679030.0,1468530.0,1828764.0,1809109.0,1529431.0,1962903.0,1667253.0,1655239.0,1787878.0,1848489.0,1575064.0,1968276.0,1656474.0,2114201.0,1686215.0,1197806.0,1259085.0,1676668.0,1587079.0,2175529.0,1914739.0,1845547.0,2041612.0,434128.0,1195720.0,1269917.0,1803349.0,1752454.0,1666126.0,1552019.0,1799551.0,1851654.0,1592611.0,2067463.0,579352.0,1785472.0,1553860.0,1294671.0,2253448.0,1775196.0,1531525.0,1690620.0,1655704.0,1849429.0,1694646.0,1493543.0,1492317.0,1499639.0,2370903.0,1461052.0,1561040.0,1946870.0,1371427.0,1427783.0,1337110.0,1647399.0,1508963.0,1547800.0,1650453.0,1530014.0,1473862.0,1945992.0,1261861.0,1352857.0,1608545.0,716990.0,2069559.0,1685816.0,1513806.0,1612300.0,1661229.0,1614988.0,2191465.0,1556599.0,1288926.0,1794896.0,1735983.0,1665502.0,1671030.0,1856791.0,1741604.0,1652994.0,1444335.0,1484256.0,1829300.0,1503980.0,1666770.0,1743283.0,1359679.0,2371644.0,1916185.0,1498666.0,318471.0,1582400.9717934993,411346.8832798424,1644353.1150737212,1772123.4583131715,646729.0,1698986.6878278088,250029.0,121740.0,568281.104982515,1731423.3247479957,1805054.9374463586,1330051.2265762947,1479420.1213534693,1592357.041634522,1864447.0147089066,1313543.2125966665,55189.0,1792314.1201794483,1854902.7101187361,981609.2246572323,1017765.7952784527,792464.0,2100878.067652333,1213777.0,1550561.8931075688,973410.0,1608761.8167242955,1959342.8479804182,434128.0,1567181.864860669,1815183.074099372,1308942.396759421,1843504.556146671,1617600.669871884,1670124.3478314995]},\"name\":\"\",\"parents\":[\"Telangana\",\"Uttar Pradesh\",\"Maharashtra\",\"Gujarat\",\"Gujarat\",\"Rajasthan\",\"Uttar Pradesh\",\"Maharashtra\",\"Kerala\",\"Kerala\",\"Uttar Pradesh\",\"West Bengal\",\"Uttar Pradesh\",\"Uttarakhand\",\"Rajasthan\",\"Andhra Pradesh\",\"Haryana\",\"Uttar Pradesh\",\"Uttar Pradesh\",\"Maharashtra\",\"Gujarat\",\"Punjab\",\"Uttar Pradesh\",\"Andhra Pradesh\",\"Gujarat\",\"Punjab\",\"Andhra Pradesh\",\"Jammu & Kashmir\",\"Andaman & Nicobar Islands\",\"Uttar Pradesh\",\"Tamil Nadu\",\"West Bengal\",\"Tamil Nadu\",\"Bihar\",\"Bihar\",\"Andhra Pradesh\",\"Arunachal Pradesh\",\"Arunachal Pradesh\",\"West Bengal\",\"Odisha\",\"Kerala\",\"Bihar\",\"Maharashtra\",\"Assam\",\"Uttar Pradesh\",\"Uttar Pradesh\",\"Karnataka\",\"Uttar Pradesh\",\"West Bengal\",\"Uttar Pradesh\",\"Madhya Pradesh\",\"Odisha\",\"Uttar Pradesh\",\"West Bengal\",\"Gujarat\",\"Uttar Pradesh\",\"Karnataka\",\"Karnataka\",\"Karnataka\",\"Karnataka\",\"West Bengal\",\"Bihar\",\"West Bengal\",\"Uttar Pradesh\",\"Rajasthan\",\"Andhra Pradesh\",\"Uttar Pradesh\",\"Maharashtra\",\"Jammu & Kashmir\",\"West Bengal\",\"West Bengal\",\"West Bengal\",\"Gujarat\",\"Uttar Pradesh\",\"Odisha\",\"Rajasthan\",\"Assam\",\"West Bengal\",\"West Bengal\",\"Chhattisgarh\",\"Uttar Pradesh\",\"Punjab\",\"Maharashtra\",\"Bihar\",\"Karnataka\",\"Karnataka\",\"Odisha\",\"Madhya Pradesh\",\"Uttar Pradesh\",\"Odisha\",\"Bihar\",\"Maharashtra\",\"Rajasthan\",\"Gujarat\",\"Gujarat\",\"Rajasthan\",\"Madhya Pradesh\",\"Maharashtra\",\"Haryana\",\"Telangana\",\"Madhya Pradesh\",\"Odisha\",\"Karnataka\",\"Karnataka\",\"Uttar Pradesh\",\"Rajasthan\",\"Chhattisgarh\",\"West Bengal\",\"West Bengal\",\"Odisha\",\"West Bengal\",\"Uttar Pradesh\",\"Maharashtra\",\"Bihar\",\"Kerala\",\"Karnataka\",\"Uttar Pradesh\",\"Chandigarh\",\"NCT OF Delhi\",\"Maharashtra\",\"Jharkhand\",\"Tamil Nadu\",\"Tamil Nadu\",\"Tamil Nadu\",\"Telangana\",\"Madhya Pradesh\",\"Gujarat\",\"Tamil Nadu\",\"Karnataka\",\"Karnataka\",\"Karnataka\",\"Andhra Pradesh\",\"Rajasthan\",\"Rajasthan\",\"Tamil Nadu\",\"West Bengal\",\"Tamil Nadu\",\"Odisha\",\"Dadra & Nagar Haveli\",\"Gujarat\",\"Karnataka\",\"Daman & Diu\",\"Madhya Pradesh\",\"Bihar\",\"West Bengal\",\"Rajasthan\",\"Karnataka\",\"Uttar Pradesh\",\"Madhya Pradesh\",\"Jharkhand\",\"Madhya Pradesh\",\"Tamil Nadu\",\"Karnataka\",\"Uttar Pradesh\",\"Odisha\",\"Assam\",\"Maharashtra\",\"West Bengal\",\"Assam\",\"Tamil Nadu\",\"Maharashtra\",\"Uttar Pradesh\",\"West Bengal\",\"Jharkhand\",\"Chhattisgarh\",\"NCT OF Delhi\",\"Andhra Pradesh\",\"Kerala\",\"Tamil Nadu\",\"Uttar Pradesh\",\"Uttar Pradesh\",\"Uttar Pradesh\",\"Haryana\",\"Punjab\",\"Uttar Pradesh\",\"Punjab\",\"Uttar Pradesh\",\"Uttar Pradesh\",\"Uttar Pradesh\",\"Punjab\",\"Maharashtra\",\"Gujarat\",\"Rajasthan\",\"Uttarakhand\",\"Assam\",\"Uttar Pradesh\",\"Bihar\",\"West Bengal\",\"Uttar Pradesh\",\"Uttar Pradesh\",\"Uttar Pradesh\",\"Jharkhand\",\"Jharkhand\",\"Uttar Pradesh\",\"Bihar\",\"Uttar Pradesh\",\"Karnataka\",\"Madhya Pradesh\",\"Andhra Pradesh\",\"Punjab\",\"Haryana\",\"Madhya Pradesh\",\"Bihar\",\"Himachal Pradesh\",\"Uttar Pradesh\",\"Uttar Pradesh\",\"Uttarakhand\",\"Karnataka\",\"Uttar Pradesh\",\"Maharashtra\",\"Karnataka\",\"Jharkhand\",\"Andhra Pradesh\",\"Maharashtra\",\"Haryana\",\"West Bengal\",\"Madhya Pradesh\",\"Punjab\",\"West Bengal\",\"Telangana\",\"Kerala\",\"Madhya Pradesh\",\"Manipur\",\"Madhya Pradesh\",\"West Bengal\",\"Odisha\",\"Bihar\",\"Rajasthan\",\"Rajasthan\",\"Odisha\",\"Punjab\",\"Uttar Pradesh\",\"Maharashtra\",\"Maharashtra\",\"Rajasthan\",\"West Bengal\",\"Jammu & Kashmir\",\"Gujarat\",\"Jharkhand\",\"Bihar\",\"West Bengal\",\"Chhattisgarh\",\"Uttar Pradesh\",\"West Bengal\",\"Rajasthan\",\"Bihar\",\"Uttar Pradesh\",\"West Bengal\",\"Rajasthan\",\"Rajasthan\",\"Assam\",\"Gujarat\",\"Gujarat\",\"Andhra Pradesh\",\"Uttar Pradesh\",\"Uttar Pradesh\",\"Andhra Pradesh\",\"Odisha\",\"Assam\",\"Tamil Nadu\",\"Maharashtra\",\"Tamil Nadu\",\"Odisha\",\"Himachal Pradesh\",\"Chhattisgarh\",\"Uttar Pradesh\",\"Tamil Nadu\",\"Kerala\",\"Uttar Pradesh\",\"West Bengal\",\"Bihar\",\"Rajasthan\",\"Assam\",\"Telangana\",\"Haryana\",\"Tamil Nadu\",\"Kerala\",\"Bihar\",\"Uttar Pradesh\",\"Odisha\",\"Odisha\",\"Punjab\",\"Bihar\",\"Madhya Pradesh\",\"Telangana\",\"Madhya Pradesh\",\"Madhya Pradesh\",\"Gujarat\",\"Uttar Pradesh\",\"Jharkhand\",\"Bihar\",\"Jharkhand\",\"Assam\",\"Karnataka\",\"Maharashtra\",\"West Bengal\",\"West Bengal\",\"Kerala\",\"Karnataka\",\"Odisha\",\"Chhattisgarh\",\"Rajasthan\",\"Kerala\",\"Kerala\",\"Tamil Nadu\",\"West Bengal\",\"Andhra Pradesh\",\"Haryana\",\"Uttar Pradesh\",\"Jammu & Kashmir\",\"Assam\",\"Lakshadweep\",\"Uttar Pradesh\",\"Maharashtra\",\"Jharkhand\",\"Uttar Pradesh\",\"Punjab\",\"Uttar Pradesh\",\"Andhra Pradesh\",\"Maharashtra\",\"Bihar\",\"Bihar\",\"Tamil Nadu\",\"Telangana\",\"Bihar\",\"Uttar Pradesh\",\"Chhattisgarh\",\"Telangana\",\"Gujarat\",\"Uttar Pradesh\",\"Kerala\",\"West Bengal\",\"West Bengal\",\"Telangana\",\"Himachal Pradesh\",\"Madhya Pradesh\",\"Madhya Pradesh\",\"Karnataka\",\"Assam\",\"Uttar Pradesh\",\"West Bengal\",\"Maharashtra\",\"Kerala\",\"Tamil Nadu\",\"Odisha\",\"Telangana\",\"West Bengal\",\"Uttar Pradesh\",\"Uttar Pradesh\",\"Uttar Pradesh\",\"Mizoram\",\"Uttar Pradesh\",\"Uttar Pradesh\",\"Madhya Pradesh\",\"Maharashtra\",\"Maharashtra\",\"Maharashtra\",\"Maharashtra\",\"Maharashtra\",\"Maharashtra\",\"Bihar\",\"West Bengal\",\"Uttar Pradesh\",\"Bihar\",\"Karnataka\",\"Odisha\",\"Nagaland\",\"Tamil Nadu\",\"Telangana\",\"Rajasthan\",\"Uttar Pradesh\",\"Maharashtra\",\"Uttarakhand\",\"Bihar\",\"Telangana\",\"Tamil Nadu\",\"Maharashtra\",\"Maharashtra\",\"Andhra Pradesh\",\"Andhra Pradesh\",\"Andhra Pradesh\",\"Maharashtra\",\"Gujarat\",\"Bihar\",\"Andhra Pradesh\",\"NCT OF Delhi\",\"Tamil Nadu\",\"Telangana\",\"NCT OF Delhi\",\"Goa\",\"NCT OF Delhi\",\"Assam\",\"Andhra Pradesh\",\"Maharashtra\",\"Manipur\",\"Kerala\",\"Jharkhand\",\"Maharashtra\",\"Rajasthan\",\"Gujarat\",\"Maharashtra\",\"Bihar\",\"Bihar\",\"Gujarat\",\"Kerala\",\"Punjab\",\"Bihar\",\"Telangana\",\"Tamil Nadu\",\"Uttar Pradesh\",\"Uttar Pradesh\",\"Tamil Nadu\",\"Kerala\",\"Gujarat\",\"Uttar Pradesh\",\"Puducherry\",\"Maharashtra\",\"Odisha\",\"Bihar\",\"West Bengal\",\"Bihar\",\"Uttar Pradesh\",\"Karnataka\",\"Maharashtra\",\"West Bengal\",\"Chhattisgarh\",\"Chhattisgarh\",\"Andhra Pradesh\",\"Andhra Pradesh\",\"Madhya Pradesh\",\"Gujarat\",\"Jharkhand\",\"Chhattisgarh\",\"Rajasthan\",\"Tamil Nadu\",\"Uttar Pradesh\",\"Maharashtra\",\"West Bengal\",\"Jharkhand\",\"Madhya Pradesh\",\"Maharashtra\",\"Maharashtra\",\"Madhya Pradesh\",\"Uttar Pradesh\",\"Haryana\",\"Gujarat\",\"Madhya Pradesh\",\"Uttar Pradesh\",\"Tamil Nadu\",\"Uttar Pradesh\",\"Bihar\",\"Odisha\",\"Uttar Pradesh\",\"Maharashtra\",\"Punjab\",\"Uttar Pradesh\",\"Bihar\",\"Chhattisgarh\",\"Bihar\",\"Maharashtra\",\"Madhya Pradesh\",\"Telangana\",\"Madhya Pradesh\",\"Uttar Pradesh\",\"Bihar\",\"Meghalaya\",\"Himachal Pradesh\",\"Karnataka\",\"Maharashtra\",\"Maharashtra\",\"Uttar Pradesh\",\"Madhya Pradesh\",\"Rajasthan\",\"Sikkim\",\"Assam\",\"Jharkhand\",\"Haryana\",\"Bihar\",\"Uttar Pradesh\",\"Tamil Nadu\",\"Bihar\",\"Maharashtra\",\"Haryana\",\"NCT OF Delhi\",\"Goa\",\"West Bengal\",\"Andhra Pradesh\",\"Jammu & Kashmir\",\"Tamil Nadu\",\"Uttar Pradesh\",\"Odisha\",\"Bihar\",\"Gujarat\",\"Gujarat\",\"West Bengal\",\"Uttarakhand\",\"Tamil Nadu\",\"Assam\",\"Maharashtra\",\"Tamil Nadu\",\"Tamil Nadu\",\"Tamil Nadu\",\"Kerala\",\"Tamil Nadu\",\"Kerala\",\"Madhya Pradesh\",\"Tamil Nadu\",\"Tamil Nadu\",\"Andhra Pradesh\",\"Tamil Nadu\",\"Tamil Nadu\",\"Rajasthan\",\"Tripura\",\"Tripura\",\"Karnataka\",\"Meghalaya\",\"Rajasthan\",\"Jammu & Kashmir\",\"Karnataka\",\"Bihar\",\"Madhya Pradesh\",\"West Bengal\",\"Uttar Pradesh\",\"Karnataka\",\"Kerala\",\"Gujarat\",\"Bihar\",\"Bihar\",\"Gujarat\",\"Uttar Pradesh\",\"Madhya Pradesh\",\"Andhra Pradesh\",\"Tamil Nadu\",\"Tamil Nadu\",\"Andhra Pradesh\",\"Andhra Pradesh\",\"Telangana\",\"Maharashtra\",\"Kerala\",\"NCT OF Delhi\",\"Maharashtra\",\"Telangana\",\"\",\"\",\"\",\"\",\"\",\"\",\"\",\"\",\"\",\"\",\"\",\"\",\"\",\"\",\"\",\"\",\"\",\"\",\"\",\"\",\"\",\"\",\"\",\"\",\"\",\"\",\"\",\"\",\"\",\"\",\"\",\"\",\"\",\"\",\"\",\"\"],\"values\":[4469370,5813070,5584188,3623702,4929951,7505384,5298363,5595507,4070103,3800382,5661381,6593532,6864640,4013424,5665572,4378668,7414844,5356971,3487030,7332364,4885353,6031500,4939305,6085452,3311740,6795504,6656640,8386674,1592355,5356815,7500080,7058904,7245750,3610878,8357412,10159926,1698940,2318875,8079325,4623435,4052130,15685947,7545136,3979725,3578336,5674728,3408020,3232952,8191890,5189724,7070900,4595343,5467875,5726816,8486920,6808096,6614451,5698500,7492374,4430978,6818528,11895758,6595624,3502516,9876840,5874684,5450490,6343989,9224166,6873008,6934312,6792356,3653052,5392965,4788870,5823693,6740596,5745724,6713428,9653854,7380892,6486684,8181620,7833528,3558700,3503468,4507365,5212311,5827542,4984983,3647640,9057780,5831382,6258076,3536594,7989312,5296002,7560400,6617268,8140165,4285722,5099034,5325285,7190348,4992375,5554884,5630859,8496095,6508796,6977784,8525365,5363775,5288754,7317492,3690591,5058999,7027348,2586916,4686849,5730564,11401744,6661500,7438405,9867665,7329336,6059132,5013759,5920888,7235120,4837668,3521266,6265996,4031822,8076416,9794520,7256800,6820190,4556988,1500174,6395756,5174928,365220,5306331,6619244,8056585,5190867,3266128,1754195,5281509,4145268,5358453,7429020,3454622,4934022,4513209,5575698,5724519,6876760,2628638,4625643,6931744,5656299,6264784,8383518,5820807,8157208,4784850,3737916,7311230,3242590,5273952,5465355,6215448,6167884,5125755,6011444,5517936,5156511,5371530,6473676,7906830,3891544,5830458,2711592,6543957,6908880,18750556,7200008,8186934,7524308,9958255,3298826,8583830,5310744,11037084,5943591,3891530,5027172,6824476,6381136,6452184,6002232,10941984,2724538,6996400,5421357,5522214,4958997,5592960,5329665,3417020,8337325,6312872,6934916,6527268,7066404,5118423,6390000,6535700,7831724,3612573,4701160,4687320,5459679,5450571,4930785,11119178,4254042,3905084,4425021,6468072,7733432,5794200,5601660,4142488,6941856,4094604,3314332,3406558,8594070,8081065,5691402,5603928,8241775,3807740,11114502,6122217,6567472,3875764,3913510,4095105,4928592,3488642,3140660,5000109,3611892,4691790,8055280,5204814,6115752,7862704,6575968,3865998,2854676,3117904,3749648,6005000,3799650,4898949,6640588,10627524,5431722,4020519,6606172,9520965,6936430,4091811,3306706,7148480,5132748,4550064,6555368,11735178,5526285,9082854,5727165,7337540,3608056,7082796,4810656,6638604,7256500,8881790,3259922,5641488,6915404,5776328,3890160,3473386,10040688,7544200,3896020,3620094,3954072,6121616,6526792,7865045,8286675,5284692,716928,5124039,165567,7007920,5659971,7405716,6121101,6733300,5544918,4420041,7638296,7539532,8963990,7695130,9970695,9038840,5746224,4913853,4518306,3297738,3446472,5482176,4726770,6743820,12601252,3844386,9756335,3521750,5136012,5400711,5423679,6608384,6894240,3924306,7424210,5972820,9619908,6696944,5678793,7380600,5390796,3962320,6070293,5876817,5513169,4942050,5039673,4766079,5196789,4662528,5761520,13216175,6900748,3396006,6922212,5688999,5844016,3641331,6518245,7940555,5799507,4758351,8644384,5485299,12688854,6343920,7067995,5157966,7484396,6412880,6681564,7198455,7540256,3943316,7598988,5018535,4852410,5464240,4660155,9161968,1670283,7136985,3589296,4669407,5669220,5110495,3969030,13170087,9428000,4323326,3489524,7940912,6535296,5776437,3614086,4148223,6958400,4292016,7395455,5567412,6031431,3522414,7602520,5427212,4987104,6835036,2920230,6227472,4686993,8826560,6583536,8293360,3404496,5784612,6611860,6404880,5201415,4223476,6137024,6187752,3388658,5653017,7272180,5149377,7651644,7798700,5038518,7691056,7049008,5747877,5553336,8733462,5325153,6718136,10341228,6948532,5405151,4749387,5217246,8062560,6669128,11753210,4405590,5486292,5427327,7647155,5888709,6669012,6620956,7151512,5545467,4725192,7873104,8282370,6342603,13489720,3593418,2518170,3353336,9522474,6526587,7658956,9227735,6124836,1736512,2391440,7619502,9016745,10514724,4998378,7760095,8997755,5554962,6370444,8269852,1738056,7141888,6215440,5178684,11267240,7100784,6126100,13524960,3311408,7397716,6778584,4480629,7461585,4498917,7112709,8766312,6244160,11681220,4114281,7138915,4011330,4942197,7544815,7739000,8252265,7650070,7369310,5837976,5047444,5411428,4825635,2150970,10347795,8429080,4541418,12898400,3322458,6459952,6574395,3113198,3866778,3589792,10415898,9993012,5013090,5570373,5224812,8264970,8666010,5937024,9146500,6015920,8333850,6973132,2719358,7114932,11497110,4495998,1592355,157661812,4017815,68675245,373933748,2586916,63568103,1500174,365220,3408339,119028011,73370373,11941770,36030136,100839587,131214920,79982176,165567,163695551,321123079,9797815,5744388,3962320,49380204,3641331,112683114,2920230,85100123,144688084,1736512,280796425,127212819,10458872,451766863,22213158,288147109],\"type\":\"sunburst\"}],                        {\"template\":{\"data\":{\"histogram2dcontour\":[{\"type\":\"histogram2dcontour\",\"colorbar\":{\"outlinewidth\":0,\"ticks\":\"\"},\"colorscale\":[[0.0,\"#0d0887\"],[0.1111111111111111,\"#46039f\"],[0.2222222222222222,\"#7201a8\"],[0.3333333333333333,\"#9c179e\"],[0.4444444444444444,\"#bd3786\"],[0.5555555555555556,\"#d8576b\"],[0.6666666666666666,\"#ed7953\"],[0.7777777777777778,\"#fb9f3a\"],[0.8888888888888888,\"#fdca26\"],[1.0,\"#f0f921\"]]}],\"choropleth\":[{\"type\":\"choropleth\",\"colorbar\":{\"outlinewidth\":0,\"ticks\":\"\"}}],\"histogram2d\":[{\"type\":\"histogram2d\",\"colorbar\":{\"outlinewidth\":0,\"ticks\":\"\"},\"colorscale\":[[0.0,\"#0d0887\"],[0.1111111111111111,\"#46039f\"],[0.2222222222222222,\"#7201a8\"],[0.3333333333333333,\"#9c179e\"],[0.4444444444444444,\"#bd3786\"],[0.5555555555555556,\"#d8576b\"],[0.6666666666666666,\"#ed7953\"],[0.7777777777777778,\"#fb9f3a\"],[0.8888888888888888,\"#fdca26\"],[1.0,\"#f0f921\"]]}],\"heatmap\":[{\"type\":\"heatmap\",\"colorbar\":{\"outlinewidth\":0,\"ticks\":\"\"},\"colorscale\":[[0.0,\"#0d0887\"],[0.1111111111111111,\"#46039f\"],[0.2222222222222222,\"#7201a8\"],[0.3333333333333333,\"#9c179e\"],[0.4444444444444444,\"#bd3786\"],[0.5555555555555556,\"#d8576b\"],[0.6666666666666666,\"#ed7953\"],[0.7777777777777778,\"#fb9f3a\"],[0.8888888888888888,\"#fdca26\"],[1.0,\"#f0f921\"]]}],\"heatmapgl\":[{\"type\":\"heatmapgl\",\"colorbar\":{\"outlinewidth\":0,\"ticks\":\"\"},\"colorscale\":[[0.0,\"#0d0887\"],[0.1111111111111111,\"#46039f\"],[0.2222222222222222,\"#7201a8\"],[0.3333333333333333,\"#9c179e\"],[0.4444444444444444,\"#bd3786\"],[0.5555555555555556,\"#d8576b\"],[0.6666666666666666,\"#ed7953\"],[0.7777777777777778,\"#fb9f3a\"],[0.8888888888888888,\"#fdca26\"],[1.0,\"#f0f921\"]]}],\"contourcarpet\":[{\"type\":\"contourcarpet\",\"colorbar\":{\"outlinewidth\":0,\"ticks\":\"\"}}],\"contour\":[{\"type\":\"contour\",\"colorbar\":{\"outlinewidth\":0,\"ticks\":\"\"},\"colorscale\":[[0.0,\"#0d0887\"],[0.1111111111111111,\"#46039f\"],[0.2222222222222222,\"#7201a8\"],[0.3333333333333333,\"#9c179e\"],[0.4444444444444444,\"#bd3786\"],[0.5555555555555556,\"#d8576b\"],[0.6666666666666666,\"#ed7953\"],[0.7777777777777778,\"#fb9f3a\"],[0.8888888888888888,\"#fdca26\"],[1.0,\"#f0f921\"]]}],\"surface\":[{\"type\":\"surface\",\"colorbar\":{\"outlinewidth\":0,\"ticks\":\"\"},\"colorscale\":[[0.0,\"#0d0887\"],[0.1111111111111111,\"#46039f\"],[0.2222222222222222,\"#7201a8\"],[0.3333333333333333,\"#9c179e\"],[0.4444444444444444,\"#bd3786\"],[0.5555555555555556,\"#d8576b\"],[0.6666666666666666,\"#ed7953\"],[0.7777777777777778,\"#fb9f3a\"],[0.8888888888888888,\"#fdca26\"],[1.0,\"#f0f921\"]]}],\"mesh3d\":[{\"type\":\"mesh3d\",\"colorbar\":{\"outlinewidth\":0,\"ticks\":\"\"}}],\"scatter\":[{\"fillpattern\":{\"fillmode\":\"overlay\",\"size\":10,\"solidity\":0.2},\"type\":\"scatter\"}],\"parcoords\":[{\"type\":\"parcoords\",\"line\":{\"colorbar\":{\"outlinewidth\":0,\"ticks\":\"\"}}}],\"scatterpolargl\":[{\"type\":\"scatterpolargl\",\"marker\":{\"colorbar\":{\"outlinewidth\":0,\"ticks\":\"\"}}}],\"bar\":[{\"error_x\":{\"color\":\"#2a3f5f\"},\"error_y\":{\"color\":\"#2a3f5f\"},\"marker\":{\"line\":{\"color\":\"#E5ECF6\",\"width\":0.5},\"pattern\":{\"fillmode\":\"overlay\",\"size\":10,\"solidity\":0.2}},\"type\":\"bar\"}],\"scattergeo\":[{\"type\":\"scattergeo\",\"marker\":{\"colorbar\":{\"outlinewidth\":0,\"ticks\":\"\"}}}],\"scatterpolar\":[{\"type\":\"scatterpolar\",\"marker\":{\"colorbar\":{\"outlinewidth\":0,\"ticks\":\"\"}}}],\"histogram\":[{\"marker\":{\"pattern\":{\"fillmode\":\"overlay\",\"size\":10,\"solidity\":0.2}},\"type\":\"histogram\"}],\"scattergl\":[{\"type\":\"scattergl\",\"marker\":{\"colorbar\":{\"outlinewidth\":0,\"ticks\":\"\"}}}],\"scatter3d\":[{\"type\":\"scatter3d\",\"line\":{\"colorbar\":{\"outlinewidth\":0,\"ticks\":\"\"}},\"marker\":{\"colorbar\":{\"outlinewidth\":0,\"ticks\":\"\"}}}],\"scattermapbox\":[{\"type\":\"scattermapbox\",\"marker\":{\"colorbar\":{\"outlinewidth\":0,\"ticks\":\"\"}}}],\"scatterternary\":[{\"type\":\"scatterternary\",\"marker\":{\"colorbar\":{\"outlinewidth\":0,\"ticks\":\"\"}}}],\"scattercarpet\":[{\"type\":\"scattercarpet\",\"marker\":{\"colorbar\":{\"outlinewidth\":0,\"ticks\":\"\"}}}],\"carpet\":[{\"aaxis\":{\"endlinecolor\":\"#2a3f5f\",\"gridcolor\":\"white\",\"linecolor\":\"white\",\"minorgridcolor\":\"white\",\"startlinecolor\":\"#2a3f5f\"},\"baxis\":{\"endlinecolor\":\"#2a3f5f\",\"gridcolor\":\"white\",\"linecolor\":\"white\",\"minorgridcolor\":\"white\",\"startlinecolor\":\"#2a3f5f\"},\"type\":\"carpet\"}],\"table\":[{\"cells\":{\"fill\":{\"color\":\"#EBF0F8\"},\"line\":{\"color\":\"white\"}},\"header\":{\"fill\":{\"color\":\"#C8D4E3\"},\"line\":{\"color\":\"white\"}},\"type\":\"table\"}],\"barpolar\":[{\"marker\":{\"line\":{\"color\":\"#E5ECF6\",\"width\":0.5},\"pattern\":{\"fillmode\":\"overlay\",\"size\":10,\"solidity\":0.2}},\"type\":\"barpolar\"}],\"pie\":[{\"automargin\":true,\"type\":\"pie\"}]},\"layout\":{\"autotypenumbers\":\"strict\",\"colorway\":[\"#636efa\",\"#EF553B\",\"#00cc96\",\"#ab63fa\",\"#FFA15A\",\"#19d3f3\",\"#FF6692\",\"#B6E880\",\"#FF97FF\",\"#FECB52\"],\"font\":{\"color\":\"#2a3f5f\"},\"hovermode\":\"closest\",\"hoverlabel\":{\"align\":\"left\"},\"paper_bgcolor\":\"white\",\"plot_bgcolor\":\"#E5ECF6\",\"polar\":{\"bgcolor\":\"#E5ECF6\",\"angularaxis\":{\"gridcolor\":\"white\",\"linecolor\":\"white\",\"ticks\":\"\"},\"radialaxis\":{\"gridcolor\":\"white\",\"linecolor\":\"white\",\"ticks\":\"\"}},\"ternary\":{\"bgcolor\":\"#E5ECF6\",\"aaxis\":{\"gridcolor\":\"white\",\"linecolor\":\"white\",\"ticks\":\"\"},\"baxis\":{\"gridcolor\":\"white\",\"linecolor\":\"white\",\"ticks\":\"\"},\"caxis\":{\"gridcolor\":\"white\",\"linecolor\":\"white\",\"ticks\":\"\"}},\"coloraxis\":{\"colorbar\":{\"outlinewidth\":0,\"ticks\":\"\"}},\"colorscale\":{\"sequential\":[[0.0,\"#0d0887\"],[0.1111111111111111,\"#46039f\"],[0.2222222222222222,\"#7201a8\"],[0.3333333333333333,\"#9c179e\"],[0.4444444444444444,\"#bd3786\"],[0.5555555555555556,\"#d8576b\"],[0.6666666666666666,\"#ed7953\"],[0.7777777777777778,\"#fb9f3a\"],[0.8888888888888888,\"#fdca26\"],[1.0,\"#f0f921\"]],\"sequentialminus\":[[0.0,\"#0d0887\"],[0.1111111111111111,\"#46039f\"],[0.2222222222222222,\"#7201a8\"],[0.3333333333333333,\"#9c179e\"],[0.4444444444444444,\"#bd3786\"],[0.5555555555555556,\"#d8576b\"],[0.6666666666666666,\"#ed7953\"],[0.7777777777777778,\"#fb9f3a\"],[0.8888888888888888,\"#fdca26\"],[1.0,\"#f0f921\"]],\"diverging\":[[0,\"#8e0152\"],[0.1,\"#c51b7d\"],[0.2,\"#de77ae\"],[0.3,\"#f1b6da\"],[0.4,\"#fde0ef\"],[0.5,\"#f7f7f7\"],[0.6,\"#e6f5d0\"],[0.7,\"#b8e186\"],[0.8,\"#7fbc41\"],[0.9,\"#4d9221\"],[1,\"#276419\"]]},\"xaxis\":{\"gridcolor\":\"white\",\"linecolor\":\"white\",\"ticks\":\"\",\"title\":{\"standoff\":15},\"zerolinecolor\":\"white\",\"automargin\":true,\"zerolinewidth\":2},\"yaxis\":{\"gridcolor\":\"white\",\"linecolor\":\"white\",\"ticks\":\"\",\"title\":{\"standoff\":15},\"zerolinecolor\":\"white\",\"automargin\":true,\"zerolinewidth\":2},\"scene\":{\"xaxis\":{\"backgroundcolor\":\"#E5ECF6\",\"gridcolor\":\"white\",\"linecolor\":\"white\",\"showbackground\":true,\"ticks\":\"\",\"zerolinecolor\":\"white\",\"gridwidth\":2},\"yaxis\":{\"backgroundcolor\":\"#E5ECF6\",\"gridcolor\":\"white\",\"linecolor\":\"white\",\"showbackground\":true,\"ticks\":\"\",\"zerolinecolor\":\"white\",\"gridwidth\":2},\"zaxis\":{\"backgroundcolor\":\"#E5ECF6\",\"gridcolor\":\"white\",\"linecolor\":\"white\",\"showbackground\":true,\"ticks\":\"\",\"zerolinecolor\":\"white\",\"gridwidth\":2}},\"shapedefaults\":{\"line\":{\"color\":\"#2a3f5f\"}},\"annotationdefaults\":{\"arrowcolor\":\"#2a3f5f\",\"arrowhead\":0,\"arrowwidth\":1},\"geo\":{\"bgcolor\":\"white\",\"landcolor\":\"#E5ECF6\",\"subunitcolor\":\"white\",\"showland\":true,\"showlakes\":true,\"lakecolor\":\"white\"},\"title\":{\"x\":0.05},\"mapbox\":{\"style\":\"light\"}}},\"coloraxis\":{\"colorbar\":{\"title\":{\"text\":\"TOTAL ELECTORS\"}},\"colorscale\":[[0.0,\"rgb(236, 218, 154)\"],[0.16666666666666666,\"rgb(239, 196, 126)\"],[0.3333333333333333,\"rgb(243, 173, 106)\"],[0.5,\"rgb(247, 148, 93)\"],[0.6666666666666666,\"rgb(249, 123, 87)\"],[0.8333333333333334,\"rgb(246, 99, 86)\"],[1.0,\"rgb(238, 77, 90)\"]]},\"legend\":{\"tracegroupgap\":0},\"margin\":{\"t\":60},\"title\":{\"font\":{\"family\":\"Courier New\",\"color\":\"#351f39\"},\"text\":\"State and Constituency by total electors\"},\"font\":{\"family\":\"Courier New\",\"color\":\"#351f39\"},\"xaxis\":{\"title\":{\"text\":\"Party\"}},\"yaxis\":{\"title\":{\"text\":\"Seats\"}}},                        {\"responsive\": true}                    ).then(function(){\n",
       "                            \n",
       "var gd = document.getElementById('4d743cf0-504f-4e5c-aef9-65436d06c132');\n",
       "var x = new MutationObserver(function (mutations, observer) {{\n",
       "        var display = window.getComputedStyle(gd).display;\n",
       "        if (!display || display === 'none') {{\n",
       "            console.log([gd, 'removed!']);\n",
       "            Plotly.purge(gd);\n",
       "            observer.disconnect();\n",
       "        }}\n",
       "}});\n",
       "\n",
       "// Listen for the removal of the full notebook cells\n",
       "var notebookContainer = gd.closest('#notebook-container');\n",
       "if (notebookContainer) {{\n",
       "    x.observe(notebookContainer, {childList: true});\n",
       "}}\n",
       "\n",
       "// Listen for the clearing of the current output cell\n",
       "var outputEl = gd.closest('.output');\n",
       "if (outputEl) {{\n",
       "    x.observe(outputEl, {childList: true});\n",
       "}}\n",
       "\n",
       "                        })                };                });            </script>        </div>"
      ]
     },
     "metadata": {},
     "output_type": "display_data"
    }
   ],
   "source": [
    "state_df = df[['STATE','CONSTITUENCY','TOTAL ELECTORS']]\n",
    "state_fig = px.sunburst(state_df, \n",
    "                        path=['STATE','CONSTITUENCY'], \n",
    "                        values='TOTAL ELECTORS',\n",
    "                        color='TOTAL ELECTORS',\n",
    "                        color_continuous_scale='Oryel')\n",
    "state_fig.update_layout(title_text='State and Constituency by total electors',\n",
    "                       font_family=\"Courier New\",\n",
    "                         font_color=\"#351f39\",\n",
    "                         title_font_family=\"Courier New\",\n",
    "                         title_font_color=\"#351f39\",\n",
    "                         xaxis_title=\"Party\",\n",
    "                         yaxis_title=\"Seats\")\n",
    "state_fig.show()"
   ]
  },
  {
   "cell_type": "code",
   "execution_count": 25,
   "metadata": {},
   "outputs": [
    {
     "data": {
      "application/vnd.plotly.v1+json": {
       "config": {
        "plotlyServerURL": "https://plot.ly"
       },
       "data": [
        {
         "alignmentgroup": "True",
         "hovertemplate": "x=%{x}<br>y=%{y}<br>color=%{marker.color}<extra></extra>",
         "legendgroup": "",
         "marker": {
          "color": [
           300,
           52,
           23,
           22,
           22,
           18,
           16,
           11,
           11,
           9,
           6,
           5,
           5,
           5,
           4,
           3,
           3,
           3,
           2,
           2
          ],
          "coloraxis": "coloraxis",
          "pattern": {
           "shape": ""
          }
         },
         "name": "",
         "offsetgroup": "",
         "orientation": "v",
         "showlegend": false,
         "textposition": "auto",
         "type": "bar",
         "x": [
          "BJP",
          "INC",
          "DMK",
          "AITC",
          "YSRCP",
          "SHS",
          "JD(U)",
          "BJD",
          "BSP",
          "TRS",
          "LJP",
          "NCP",
          "SP",
          "CPI(M)",
          "IND",
          "IUML",
          "TDP",
          "JKN",
          "ADAL",
          "AIMIM"
         ],
         "xaxis": "x",
         "y": [
          300,
          52,
          23,
          22,
          22,
          18,
          16,
          11,
          11,
          9,
          6,
          5,
          5,
          5,
          4,
          3,
          3,
          3,
          2,
          2
         ],
         "yaxis": "y"
        }
       ],
       "layout": {
        "barmode": "relative",
        "coloraxis": {
         "colorbar": {
          "title": {
           "text": "color"
          }
         },
         "colorscale": [
          [
           0,
           "rgb(236, 218, 154)"
          ],
          [
           0.16666666666666666,
           "rgb(239, 196, 126)"
          ],
          [
           0.3333333333333333,
           "rgb(243, 173, 106)"
          ],
          [
           0.5,
           "rgb(247, 148, 93)"
          ],
          [
           0.6666666666666666,
           "rgb(249, 123, 87)"
          ],
          [
           0.8333333333333334,
           "rgb(246, 99, 86)"
          ],
          [
           1,
           "rgb(238, 77, 90)"
          ]
         ]
        },
        "font": {
         "color": "#351f39",
         "family": "Courier New"
        },
        "height": 500,
        "legend": {
         "tracegroupgap": 0
        },
        "margin": {
         "t": 60
        },
        "template": {
         "data": {
          "bar": [
           {
            "error_x": {
             "color": "#2a3f5f"
            },
            "error_y": {
             "color": "#2a3f5f"
            },
            "marker": {
             "line": {
              "color": "#E5ECF6",
              "width": 0.5
             },
             "pattern": {
              "fillmode": "overlay",
              "size": 10,
              "solidity": 0.2
             }
            },
            "type": "bar"
           }
          ],
          "barpolar": [
           {
            "marker": {
             "line": {
              "color": "#E5ECF6",
              "width": 0.5
             },
             "pattern": {
              "fillmode": "overlay",
              "size": 10,
              "solidity": 0.2
             }
            },
            "type": "barpolar"
           }
          ],
          "carpet": [
           {
            "aaxis": {
             "endlinecolor": "#2a3f5f",
             "gridcolor": "white",
             "linecolor": "white",
             "minorgridcolor": "white",
             "startlinecolor": "#2a3f5f"
            },
            "baxis": {
             "endlinecolor": "#2a3f5f",
             "gridcolor": "white",
             "linecolor": "white",
             "minorgridcolor": "white",
             "startlinecolor": "#2a3f5f"
            },
            "type": "carpet"
           }
          ],
          "choropleth": [
           {
            "colorbar": {
             "outlinewidth": 0,
             "ticks": ""
            },
            "type": "choropleth"
           }
          ],
          "contour": [
           {
            "colorbar": {
             "outlinewidth": 0,
             "ticks": ""
            },
            "colorscale": [
             [
              0,
              "#0d0887"
             ],
             [
              0.1111111111111111,
              "#46039f"
             ],
             [
              0.2222222222222222,
              "#7201a8"
             ],
             [
              0.3333333333333333,
              "#9c179e"
             ],
             [
              0.4444444444444444,
              "#bd3786"
             ],
             [
              0.5555555555555556,
              "#d8576b"
             ],
             [
              0.6666666666666666,
              "#ed7953"
             ],
             [
              0.7777777777777778,
              "#fb9f3a"
             ],
             [
              0.8888888888888888,
              "#fdca26"
             ],
             [
              1,
              "#f0f921"
             ]
            ],
            "type": "contour"
           }
          ],
          "contourcarpet": [
           {
            "colorbar": {
             "outlinewidth": 0,
             "ticks": ""
            },
            "type": "contourcarpet"
           }
          ],
          "heatmap": [
           {
            "colorbar": {
             "outlinewidth": 0,
             "ticks": ""
            },
            "colorscale": [
             [
              0,
              "#0d0887"
             ],
             [
              0.1111111111111111,
              "#46039f"
             ],
             [
              0.2222222222222222,
              "#7201a8"
             ],
             [
              0.3333333333333333,
              "#9c179e"
             ],
             [
              0.4444444444444444,
              "#bd3786"
             ],
             [
              0.5555555555555556,
              "#d8576b"
             ],
             [
              0.6666666666666666,
              "#ed7953"
             ],
             [
              0.7777777777777778,
              "#fb9f3a"
             ],
             [
              0.8888888888888888,
              "#fdca26"
             ],
             [
              1,
              "#f0f921"
             ]
            ],
            "type": "heatmap"
           }
          ],
          "heatmapgl": [
           {
            "colorbar": {
             "outlinewidth": 0,
             "ticks": ""
            },
            "colorscale": [
             [
              0,
              "#0d0887"
             ],
             [
              0.1111111111111111,
              "#46039f"
             ],
             [
              0.2222222222222222,
              "#7201a8"
             ],
             [
              0.3333333333333333,
              "#9c179e"
             ],
             [
              0.4444444444444444,
              "#bd3786"
             ],
             [
              0.5555555555555556,
              "#d8576b"
             ],
             [
              0.6666666666666666,
              "#ed7953"
             ],
             [
              0.7777777777777778,
              "#fb9f3a"
             ],
             [
              0.8888888888888888,
              "#fdca26"
             ],
             [
              1,
              "#f0f921"
             ]
            ],
            "type": "heatmapgl"
           }
          ],
          "histogram": [
           {
            "marker": {
             "pattern": {
              "fillmode": "overlay",
              "size": 10,
              "solidity": 0.2
             }
            },
            "type": "histogram"
           }
          ],
          "histogram2d": [
           {
            "colorbar": {
             "outlinewidth": 0,
             "ticks": ""
            },
            "colorscale": [
             [
              0,
              "#0d0887"
             ],
             [
              0.1111111111111111,
              "#46039f"
             ],
             [
              0.2222222222222222,
              "#7201a8"
             ],
             [
              0.3333333333333333,
              "#9c179e"
             ],
             [
              0.4444444444444444,
              "#bd3786"
             ],
             [
              0.5555555555555556,
              "#d8576b"
             ],
             [
              0.6666666666666666,
              "#ed7953"
             ],
             [
              0.7777777777777778,
              "#fb9f3a"
             ],
             [
              0.8888888888888888,
              "#fdca26"
             ],
             [
              1,
              "#f0f921"
             ]
            ],
            "type": "histogram2d"
           }
          ],
          "histogram2dcontour": [
           {
            "colorbar": {
             "outlinewidth": 0,
             "ticks": ""
            },
            "colorscale": [
             [
              0,
              "#0d0887"
             ],
             [
              0.1111111111111111,
              "#46039f"
             ],
             [
              0.2222222222222222,
              "#7201a8"
             ],
             [
              0.3333333333333333,
              "#9c179e"
             ],
             [
              0.4444444444444444,
              "#bd3786"
             ],
             [
              0.5555555555555556,
              "#d8576b"
             ],
             [
              0.6666666666666666,
              "#ed7953"
             ],
             [
              0.7777777777777778,
              "#fb9f3a"
             ],
             [
              0.8888888888888888,
              "#fdca26"
             ],
             [
              1,
              "#f0f921"
             ]
            ],
            "type": "histogram2dcontour"
           }
          ],
          "mesh3d": [
           {
            "colorbar": {
             "outlinewidth": 0,
             "ticks": ""
            },
            "type": "mesh3d"
           }
          ],
          "parcoords": [
           {
            "line": {
             "colorbar": {
              "outlinewidth": 0,
              "ticks": ""
             }
            },
            "type": "parcoords"
           }
          ],
          "pie": [
           {
            "automargin": true,
            "type": "pie"
           }
          ],
          "scatter": [
           {
            "fillpattern": {
             "fillmode": "overlay",
             "size": 10,
             "solidity": 0.2
            },
            "type": "scatter"
           }
          ],
          "scatter3d": [
           {
            "line": {
             "colorbar": {
              "outlinewidth": 0,
              "ticks": ""
             }
            },
            "marker": {
             "colorbar": {
              "outlinewidth": 0,
              "ticks": ""
             }
            },
            "type": "scatter3d"
           }
          ],
          "scattercarpet": [
           {
            "marker": {
             "colorbar": {
              "outlinewidth": 0,
              "ticks": ""
             }
            },
            "type": "scattercarpet"
           }
          ],
          "scattergeo": [
           {
            "marker": {
             "colorbar": {
              "outlinewidth": 0,
              "ticks": ""
             }
            },
            "type": "scattergeo"
           }
          ],
          "scattergl": [
           {
            "marker": {
             "colorbar": {
              "outlinewidth": 0,
              "ticks": ""
             }
            },
            "type": "scattergl"
           }
          ],
          "scattermapbox": [
           {
            "marker": {
             "colorbar": {
              "outlinewidth": 0,
              "ticks": ""
             }
            },
            "type": "scattermapbox"
           }
          ],
          "scatterpolar": [
           {
            "marker": {
             "colorbar": {
              "outlinewidth": 0,
              "ticks": ""
             }
            },
            "type": "scatterpolar"
           }
          ],
          "scatterpolargl": [
           {
            "marker": {
             "colorbar": {
              "outlinewidth": 0,
              "ticks": ""
             }
            },
            "type": "scatterpolargl"
           }
          ],
          "scatterternary": [
           {
            "marker": {
             "colorbar": {
              "outlinewidth": 0,
              "ticks": ""
             }
            },
            "type": "scatterternary"
           }
          ],
          "surface": [
           {
            "colorbar": {
             "outlinewidth": 0,
             "ticks": ""
            },
            "colorscale": [
             [
              0,
              "#0d0887"
             ],
             [
              0.1111111111111111,
              "#46039f"
             ],
             [
              0.2222222222222222,
              "#7201a8"
             ],
             [
              0.3333333333333333,
              "#9c179e"
             ],
             [
              0.4444444444444444,
              "#bd3786"
             ],
             [
              0.5555555555555556,
              "#d8576b"
             ],
             [
              0.6666666666666666,
              "#ed7953"
             ],
             [
              0.7777777777777778,
              "#fb9f3a"
             ],
             [
              0.8888888888888888,
              "#fdca26"
             ],
             [
              1,
              "#f0f921"
             ]
            ],
            "type": "surface"
           }
          ],
          "table": [
           {
            "cells": {
             "fill": {
              "color": "#EBF0F8"
             },
             "line": {
              "color": "white"
             }
            },
            "header": {
             "fill": {
              "color": "#C8D4E3"
             },
             "line": {
              "color": "white"
             }
            },
            "type": "table"
           }
          ]
         },
         "layout": {
          "annotationdefaults": {
           "arrowcolor": "#2a3f5f",
           "arrowhead": 0,
           "arrowwidth": 1
          },
          "autotypenumbers": "strict",
          "coloraxis": {
           "colorbar": {
            "outlinewidth": 0,
            "ticks": ""
           }
          },
          "colorscale": {
           "diverging": [
            [
             0,
             "#8e0152"
            ],
            [
             0.1,
             "#c51b7d"
            ],
            [
             0.2,
             "#de77ae"
            ],
            [
             0.3,
             "#f1b6da"
            ],
            [
             0.4,
             "#fde0ef"
            ],
            [
             0.5,
             "#f7f7f7"
            ],
            [
             0.6,
             "#e6f5d0"
            ],
            [
             0.7,
             "#b8e186"
            ],
            [
             0.8,
             "#7fbc41"
            ],
            [
             0.9,
             "#4d9221"
            ],
            [
             1,
             "#276419"
            ]
           ],
           "sequential": [
            [
             0,
             "#0d0887"
            ],
            [
             0.1111111111111111,
             "#46039f"
            ],
            [
             0.2222222222222222,
             "#7201a8"
            ],
            [
             0.3333333333333333,
             "#9c179e"
            ],
            [
             0.4444444444444444,
             "#bd3786"
            ],
            [
             0.5555555555555556,
             "#d8576b"
            ],
            [
             0.6666666666666666,
             "#ed7953"
            ],
            [
             0.7777777777777778,
             "#fb9f3a"
            ],
            [
             0.8888888888888888,
             "#fdca26"
            ],
            [
             1,
             "#f0f921"
            ]
           ],
           "sequentialminus": [
            [
             0,
             "#0d0887"
            ],
            [
             0.1111111111111111,
             "#46039f"
            ],
            [
             0.2222222222222222,
             "#7201a8"
            ],
            [
             0.3333333333333333,
             "#9c179e"
            ],
            [
             0.4444444444444444,
             "#bd3786"
            ],
            [
             0.5555555555555556,
             "#d8576b"
            ],
            [
             0.6666666666666666,
             "#ed7953"
            ],
            [
             0.7777777777777778,
             "#fb9f3a"
            ],
            [
             0.8888888888888888,
             "#fdca26"
            ],
            [
             1,
             "#f0f921"
            ]
           ]
          },
          "colorway": [
           "#636efa",
           "#EF553B",
           "#00cc96",
           "#ab63fa",
           "#FFA15A",
           "#19d3f3",
           "#FF6692",
           "#B6E880",
           "#FF97FF",
           "#FECB52"
          ],
          "font": {
           "color": "#2a3f5f"
          },
          "geo": {
           "bgcolor": "white",
           "lakecolor": "white",
           "landcolor": "#E5ECF6",
           "showlakes": true,
           "showland": true,
           "subunitcolor": "white"
          },
          "hoverlabel": {
           "align": "left"
          },
          "hovermode": "closest",
          "mapbox": {
           "style": "light"
          },
          "paper_bgcolor": "white",
          "plot_bgcolor": "#E5ECF6",
          "polar": {
           "angularaxis": {
            "gridcolor": "white",
            "linecolor": "white",
            "ticks": ""
           },
           "bgcolor": "#E5ECF6",
           "radialaxis": {
            "gridcolor": "white",
            "linecolor": "white",
            "ticks": ""
           }
          },
          "scene": {
           "xaxis": {
            "backgroundcolor": "#E5ECF6",
            "gridcolor": "white",
            "gridwidth": 2,
            "linecolor": "white",
            "showbackground": true,
            "ticks": "",
            "zerolinecolor": "white"
           },
           "yaxis": {
            "backgroundcolor": "#E5ECF6",
            "gridcolor": "white",
            "gridwidth": 2,
            "linecolor": "white",
            "showbackground": true,
            "ticks": "",
            "zerolinecolor": "white"
           },
           "zaxis": {
            "backgroundcolor": "#E5ECF6",
            "gridcolor": "white",
            "gridwidth": 2,
            "linecolor": "white",
            "showbackground": true,
            "ticks": "",
            "zerolinecolor": "white"
           }
          },
          "shapedefaults": {
           "line": {
            "color": "#2a3f5f"
           }
          },
          "ternary": {
           "aaxis": {
            "gridcolor": "white",
            "linecolor": "white",
            "ticks": ""
           },
           "baxis": {
            "gridcolor": "white",
            "linecolor": "white",
            "ticks": ""
           },
           "bgcolor": "#E5ECF6",
           "caxis": {
            "gridcolor": "white",
            "linecolor": "white",
            "ticks": ""
           }
          },
          "title": {
           "x": 0.05
          },
          "xaxis": {
           "automargin": true,
           "gridcolor": "white",
           "linecolor": "white",
           "ticks": "",
           "title": {
            "standoff": 15
           },
           "zerolinecolor": "white",
           "zerolinewidth": 2
          },
          "yaxis": {
           "automargin": true,
           "gridcolor": "white",
           "linecolor": "white",
           "ticks": "",
           "title": {
            "standoff": 15
           },
           "zerolinecolor": "white",
           "zerolinewidth": 2
          }
         }
        },
        "title": {
         "font": {
          "color": "#351f39",
          "family": "Courier New"
         },
         "text": "Top 20 Party-wise election results"
        },
        "xaxis": {
         "anchor": "y",
         "domain": [
          0,
          1
         ],
         "title": {
          "text": "Party"
         }
        },
        "yaxis": {
         "anchor": "x",
         "domain": [
          0,
          1
         ],
         "title": {
          "text": "Seats"
         }
        }
       }
      },
      "text/html": [
       "<div>                            <div id=\"a4fa0b44-fd5a-4b88-8497-2b044adbcce2\" class=\"plotly-graph-div\" style=\"height:500px; width:100%;\"></div>            <script type=\"text/javascript\">                require([\"plotly\"], function(Plotly) {                    window.PLOTLYENV=window.PLOTLYENV || {};                                    if (document.getElementById(\"a4fa0b44-fd5a-4b88-8497-2b044adbcce2\")) {                    Plotly.newPlot(                        \"a4fa0b44-fd5a-4b88-8497-2b044adbcce2\",                        [{\"alignmentgroup\":\"True\",\"hovertemplate\":\"x=%{x}\\u003cbr\\u003ey=%{y}\\u003cbr\\u003ecolor=%{marker.color}\\u003cextra\\u003e\\u003c\\u002fextra\\u003e\",\"legendgroup\":\"\",\"marker\":{\"color\":[300,52,23,22,22,18,16,11,11,9,6,5,5,5,4,3,3,3,2,2],\"coloraxis\":\"coloraxis\",\"pattern\":{\"shape\":\"\"}},\"name\":\"\",\"offsetgroup\":\"\",\"orientation\":\"v\",\"showlegend\":false,\"textposition\":\"auto\",\"x\":[\"BJP\",\"INC\",\"DMK\",\"AITC\",\"YSRCP\",\"SHS\",\"JD(U)\",\"BJD\",\"BSP\",\"TRS\",\"LJP\",\"NCP\",\"SP\",\"CPI(M)\",\"IND\",\"IUML\",\"TDP\",\"JKN\",\"ADAL\",\"AIMIM\"],\"xaxis\":\"x\",\"y\":[300,52,23,22,22,18,16,11,11,9,6,5,5,5,4,3,3,3,2,2],\"yaxis\":\"y\",\"type\":\"bar\"}],                        {\"template\":{\"data\":{\"histogram2dcontour\":[{\"type\":\"histogram2dcontour\",\"colorbar\":{\"outlinewidth\":0,\"ticks\":\"\"},\"colorscale\":[[0.0,\"#0d0887\"],[0.1111111111111111,\"#46039f\"],[0.2222222222222222,\"#7201a8\"],[0.3333333333333333,\"#9c179e\"],[0.4444444444444444,\"#bd3786\"],[0.5555555555555556,\"#d8576b\"],[0.6666666666666666,\"#ed7953\"],[0.7777777777777778,\"#fb9f3a\"],[0.8888888888888888,\"#fdca26\"],[1.0,\"#f0f921\"]]}],\"choropleth\":[{\"type\":\"choropleth\",\"colorbar\":{\"outlinewidth\":0,\"ticks\":\"\"}}],\"histogram2d\":[{\"type\":\"histogram2d\",\"colorbar\":{\"outlinewidth\":0,\"ticks\":\"\"},\"colorscale\":[[0.0,\"#0d0887\"],[0.1111111111111111,\"#46039f\"],[0.2222222222222222,\"#7201a8\"],[0.3333333333333333,\"#9c179e\"],[0.4444444444444444,\"#bd3786\"],[0.5555555555555556,\"#d8576b\"],[0.6666666666666666,\"#ed7953\"],[0.7777777777777778,\"#fb9f3a\"],[0.8888888888888888,\"#fdca26\"],[1.0,\"#f0f921\"]]}],\"heatmap\":[{\"type\":\"heatmap\",\"colorbar\":{\"outlinewidth\":0,\"ticks\":\"\"},\"colorscale\":[[0.0,\"#0d0887\"],[0.1111111111111111,\"#46039f\"],[0.2222222222222222,\"#7201a8\"],[0.3333333333333333,\"#9c179e\"],[0.4444444444444444,\"#bd3786\"],[0.5555555555555556,\"#d8576b\"],[0.6666666666666666,\"#ed7953\"],[0.7777777777777778,\"#fb9f3a\"],[0.8888888888888888,\"#fdca26\"],[1.0,\"#f0f921\"]]}],\"heatmapgl\":[{\"type\":\"heatmapgl\",\"colorbar\":{\"outlinewidth\":0,\"ticks\":\"\"},\"colorscale\":[[0.0,\"#0d0887\"],[0.1111111111111111,\"#46039f\"],[0.2222222222222222,\"#7201a8\"],[0.3333333333333333,\"#9c179e\"],[0.4444444444444444,\"#bd3786\"],[0.5555555555555556,\"#d8576b\"],[0.6666666666666666,\"#ed7953\"],[0.7777777777777778,\"#fb9f3a\"],[0.8888888888888888,\"#fdca26\"],[1.0,\"#f0f921\"]]}],\"contourcarpet\":[{\"type\":\"contourcarpet\",\"colorbar\":{\"outlinewidth\":0,\"ticks\":\"\"}}],\"contour\":[{\"type\":\"contour\",\"colorbar\":{\"outlinewidth\":0,\"ticks\":\"\"},\"colorscale\":[[0.0,\"#0d0887\"],[0.1111111111111111,\"#46039f\"],[0.2222222222222222,\"#7201a8\"],[0.3333333333333333,\"#9c179e\"],[0.4444444444444444,\"#bd3786\"],[0.5555555555555556,\"#d8576b\"],[0.6666666666666666,\"#ed7953\"],[0.7777777777777778,\"#fb9f3a\"],[0.8888888888888888,\"#fdca26\"],[1.0,\"#f0f921\"]]}],\"surface\":[{\"type\":\"surface\",\"colorbar\":{\"outlinewidth\":0,\"ticks\":\"\"},\"colorscale\":[[0.0,\"#0d0887\"],[0.1111111111111111,\"#46039f\"],[0.2222222222222222,\"#7201a8\"],[0.3333333333333333,\"#9c179e\"],[0.4444444444444444,\"#bd3786\"],[0.5555555555555556,\"#d8576b\"],[0.6666666666666666,\"#ed7953\"],[0.7777777777777778,\"#fb9f3a\"],[0.8888888888888888,\"#fdca26\"],[1.0,\"#f0f921\"]]}],\"mesh3d\":[{\"type\":\"mesh3d\",\"colorbar\":{\"outlinewidth\":0,\"ticks\":\"\"}}],\"scatter\":[{\"fillpattern\":{\"fillmode\":\"overlay\",\"size\":10,\"solidity\":0.2},\"type\":\"scatter\"}],\"parcoords\":[{\"type\":\"parcoords\",\"line\":{\"colorbar\":{\"outlinewidth\":0,\"ticks\":\"\"}}}],\"scatterpolargl\":[{\"type\":\"scatterpolargl\",\"marker\":{\"colorbar\":{\"outlinewidth\":0,\"ticks\":\"\"}}}],\"bar\":[{\"error_x\":{\"color\":\"#2a3f5f\"},\"error_y\":{\"color\":\"#2a3f5f\"},\"marker\":{\"line\":{\"color\":\"#E5ECF6\",\"width\":0.5},\"pattern\":{\"fillmode\":\"overlay\",\"size\":10,\"solidity\":0.2}},\"type\":\"bar\"}],\"scattergeo\":[{\"type\":\"scattergeo\",\"marker\":{\"colorbar\":{\"outlinewidth\":0,\"ticks\":\"\"}}}],\"scatterpolar\":[{\"type\":\"scatterpolar\",\"marker\":{\"colorbar\":{\"outlinewidth\":0,\"ticks\":\"\"}}}],\"histogram\":[{\"marker\":{\"pattern\":{\"fillmode\":\"overlay\",\"size\":10,\"solidity\":0.2}},\"type\":\"histogram\"}],\"scattergl\":[{\"type\":\"scattergl\",\"marker\":{\"colorbar\":{\"outlinewidth\":0,\"ticks\":\"\"}}}],\"scatter3d\":[{\"type\":\"scatter3d\",\"line\":{\"colorbar\":{\"outlinewidth\":0,\"ticks\":\"\"}},\"marker\":{\"colorbar\":{\"outlinewidth\":0,\"ticks\":\"\"}}}],\"scattermapbox\":[{\"type\":\"scattermapbox\",\"marker\":{\"colorbar\":{\"outlinewidth\":0,\"ticks\":\"\"}}}],\"scatterternary\":[{\"type\":\"scatterternary\",\"marker\":{\"colorbar\":{\"outlinewidth\":0,\"ticks\":\"\"}}}],\"scattercarpet\":[{\"type\":\"scattercarpet\",\"marker\":{\"colorbar\":{\"outlinewidth\":0,\"ticks\":\"\"}}}],\"carpet\":[{\"aaxis\":{\"endlinecolor\":\"#2a3f5f\",\"gridcolor\":\"white\",\"linecolor\":\"white\",\"minorgridcolor\":\"white\",\"startlinecolor\":\"#2a3f5f\"},\"baxis\":{\"endlinecolor\":\"#2a3f5f\",\"gridcolor\":\"white\",\"linecolor\":\"white\",\"minorgridcolor\":\"white\",\"startlinecolor\":\"#2a3f5f\"},\"type\":\"carpet\"}],\"table\":[{\"cells\":{\"fill\":{\"color\":\"#EBF0F8\"},\"line\":{\"color\":\"white\"}},\"header\":{\"fill\":{\"color\":\"#C8D4E3\"},\"line\":{\"color\":\"white\"}},\"type\":\"table\"}],\"barpolar\":[{\"marker\":{\"line\":{\"color\":\"#E5ECF6\",\"width\":0.5},\"pattern\":{\"fillmode\":\"overlay\",\"size\":10,\"solidity\":0.2}},\"type\":\"barpolar\"}],\"pie\":[{\"automargin\":true,\"type\":\"pie\"}]},\"layout\":{\"autotypenumbers\":\"strict\",\"colorway\":[\"#636efa\",\"#EF553B\",\"#00cc96\",\"#ab63fa\",\"#FFA15A\",\"#19d3f3\",\"#FF6692\",\"#B6E880\",\"#FF97FF\",\"#FECB52\"],\"font\":{\"color\":\"#2a3f5f\"},\"hovermode\":\"closest\",\"hoverlabel\":{\"align\":\"left\"},\"paper_bgcolor\":\"white\",\"plot_bgcolor\":\"#E5ECF6\",\"polar\":{\"bgcolor\":\"#E5ECF6\",\"angularaxis\":{\"gridcolor\":\"white\",\"linecolor\":\"white\",\"ticks\":\"\"},\"radialaxis\":{\"gridcolor\":\"white\",\"linecolor\":\"white\",\"ticks\":\"\"}},\"ternary\":{\"bgcolor\":\"#E5ECF6\",\"aaxis\":{\"gridcolor\":\"white\",\"linecolor\":\"white\",\"ticks\":\"\"},\"baxis\":{\"gridcolor\":\"white\",\"linecolor\":\"white\",\"ticks\":\"\"},\"caxis\":{\"gridcolor\":\"white\",\"linecolor\":\"white\",\"ticks\":\"\"}},\"coloraxis\":{\"colorbar\":{\"outlinewidth\":0,\"ticks\":\"\"}},\"colorscale\":{\"sequential\":[[0.0,\"#0d0887\"],[0.1111111111111111,\"#46039f\"],[0.2222222222222222,\"#7201a8\"],[0.3333333333333333,\"#9c179e\"],[0.4444444444444444,\"#bd3786\"],[0.5555555555555556,\"#d8576b\"],[0.6666666666666666,\"#ed7953\"],[0.7777777777777778,\"#fb9f3a\"],[0.8888888888888888,\"#fdca26\"],[1.0,\"#f0f921\"]],\"sequentialminus\":[[0.0,\"#0d0887\"],[0.1111111111111111,\"#46039f\"],[0.2222222222222222,\"#7201a8\"],[0.3333333333333333,\"#9c179e\"],[0.4444444444444444,\"#bd3786\"],[0.5555555555555556,\"#d8576b\"],[0.6666666666666666,\"#ed7953\"],[0.7777777777777778,\"#fb9f3a\"],[0.8888888888888888,\"#fdca26\"],[1.0,\"#f0f921\"]],\"diverging\":[[0,\"#8e0152\"],[0.1,\"#c51b7d\"],[0.2,\"#de77ae\"],[0.3,\"#f1b6da\"],[0.4,\"#fde0ef\"],[0.5,\"#f7f7f7\"],[0.6,\"#e6f5d0\"],[0.7,\"#b8e186\"],[0.8,\"#7fbc41\"],[0.9,\"#4d9221\"],[1,\"#276419\"]]},\"xaxis\":{\"gridcolor\":\"white\",\"linecolor\":\"white\",\"ticks\":\"\",\"title\":{\"standoff\":15},\"zerolinecolor\":\"white\",\"automargin\":true,\"zerolinewidth\":2},\"yaxis\":{\"gridcolor\":\"white\",\"linecolor\":\"white\",\"ticks\":\"\",\"title\":{\"standoff\":15},\"zerolinecolor\":\"white\",\"automargin\":true,\"zerolinewidth\":2},\"scene\":{\"xaxis\":{\"backgroundcolor\":\"#E5ECF6\",\"gridcolor\":\"white\",\"linecolor\":\"white\",\"showbackground\":true,\"ticks\":\"\",\"zerolinecolor\":\"white\",\"gridwidth\":2},\"yaxis\":{\"backgroundcolor\":\"#E5ECF6\",\"gridcolor\":\"white\",\"linecolor\":\"white\",\"showbackground\":true,\"ticks\":\"\",\"zerolinecolor\":\"white\",\"gridwidth\":2},\"zaxis\":{\"backgroundcolor\":\"#E5ECF6\",\"gridcolor\":\"white\",\"linecolor\":\"white\",\"showbackground\":true,\"ticks\":\"\",\"zerolinecolor\":\"white\",\"gridwidth\":2}},\"shapedefaults\":{\"line\":{\"color\":\"#2a3f5f\"}},\"annotationdefaults\":{\"arrowcolor\":\"#2a3f5f\",\"arrowhead\":0,\"arrowwidth\":1},\"geo\":{\"bgcolor\":\"white\",\"landcolor\":\"#E5ECF6\",\"subunitcolor\":\"white\",\"showland\":true,\"showlakes\":true,\"lakecolor\":\"white\"},\"title\":{\"x\":0.05},\"mapbox\":{\"style\":\"light\"}}},\"xaxis\":{\"anchor\":\"y\",\"domain\":[0.0,1.0],\"title\":{\"text\":\"Party\"}},\"yaxis\":{\"anchor\":\"x\",\"domain\":[0.0,1.0],\"title\":{\"text\":\"Seats\"}},\"coloraxis\":{\"colorbar\":{\"title\":{\"text\":\"color\"}},\"colorscale\":[[0.0,\"rgb(236, 218, 154)\"],[0.16666666666666666,\"rgb(239, 196, 126)\"],[0.3333333333333333,\"rgb(243, 173, 106)\"],[0.5,\"rgb(247, 148, 93)\"],[0.6666666666666666,\"rgb(249, 123, 87)\"],[0.8333333333333334,\"rgb(246, 99, 86)\"],[1.0,\"rgb(238, 77, 90)\"]]},\"legend\":{\"tracegroupgap\":0},\"margin\":{\"t\":60},\"barmode\":\"relative\",\"height\":500,\"title\":{\"font\":{\"family\":\"Courier New\",\"color\":\"#351f39\"},\"text\":\"Top 20 Party-wise election results\"},\"font\":{\"family\":\"Courier New\",\"color\":\"#351f39\"}},                        {\"responsive\": true}                    ).then(function(){\n",
       "                            \n",
       "var gd = document.getElementById('a4fa0b44-fd5a-4b88-8497-2b044adbcce2');\n",
       "var x = new MutationObserver(function (mutations, observer) {{\n",
       "        var display = window.getComputedStyle(gd).display;\n",
       "        if (!display || display === 'none') {{\n",
       "            console.log([gd, 'removed!']);\n",
       "            Plotly.purge(gd);\n",
       "            observer.disconnect();\n",
       "        }}\n",
       "}});\n",
       "\n",
       "// Listen for the removal of the full notebook cells\n",
       "var notebookContainer = gd.closest('#notebook-container');\n",
       "if (notebookContainer) {{\n",
       "    x.observe(notebookContainer, {childList: true});\n",
       "}}\n",
       "\n",
       "// Listen for the clearing of the current output cell\n",
       "var outputEl = gd.closest('.output');\n",
       "if (outputEl) {{\n",
       "    x.observe(outputEl, {childList: true});\n",
       "}}\n",
       "\n",
       "                        })                };                });            </script>        </div>"
      ]
     },
     "metadata": {},
     "output_type": "display_data"
    }
   ],
   "source": [
    "# Number of seats won by each party\n",
    "result = df[df['WINNER'] == 1].groupby('PARTY')['WINNER'].size()\n",
    "result_df = pd.DataFrame(data=result).sort_values(by=\"WINNER\", ascending=False)\n",
    "result_df.reset_index(level=0, inplace=True)\n",
    "\n",
    "# Visualize the party-wise election results\n",
    "result_fig = px.bar(result_df, \n",
    "                    x=result_df['PARTY'][:20], \n",
    "                    y=result_df[\"WINNER\"][:20], \n",
    "                    color=result_df['WINNER'][:20], \n",
    "                    height=500,\n",
    "                    color_continuous_scale='Oryel')\n",
    "result_fig.update_layout(title_text='Top 20 Party-wise election results',\n",
    "                         font_family=\"Courier New\",\n",
    "                         font_color=\"#351f39\",\n",
    "                         title_font_family=\"Courier New\",\n",
    "                         title_font_color=\"#351f39\",\n",
    "                         xaxis_title=\"Party\",\n",
    "                         yaxis_title=\"Seats\")\n",
    "result_fig.show()"
   ]
  },
  {
   "cell_type": "code",
   "execution_count": 26,
   "metadata": {},
   "outputs": [
    {
     "data": {
      "application/vnd.plotly.v1+json": {
       "config": {
        "plotlyServerURL": "https://plot.ly"
       },
       "data": [
        {
         "labels": [
          "AITC",
          "BJP",
          "BSP",
          "INC",
          "Other",
          "SP"
         ],
         "marker": {
          "line": {
           "color": "#000000",
           "width": 2
          }
         },
         "pull": [
          0.1,
          0.1,
          0.1,
          0.1,
          0.1,
          0.1
         ],
         "type": "pie",
         "values": [
          24832104,
          228938556,
          20445870,
          119330534,
          178545701,
          15616282
         ]
        }
       ],
       "layout": {
        "font": {
         "color": "#351f39",
         "family": "Courier New"
        },
        "template": {
         "data": {
          "bar": [
           {
            "error_x": {
             "color": "#2a3f5f"
            },
            "error_y": {
             "color": "#2a3f5f"
            },
            "marker": {
             "line": {
              "color": "#E5ECF6",
              "width": 0.5
             },
             "pattern": {
              "fillmode": "overlay",
              "size": 10,
              "solidity": 0.2
             }
            },
            "type": "bar"
           }
          ],
          "barpolar": [
           {
            "marker": {
             "line": {
              "color": "#E5ECF6",
              "width": 0.5
             },
             "pattern": {
              "fillmode": "overlay",
              "size": 10,
              "solidity": 0.2
             }
            },
            "type": "barpolar"
           }
          ],
          "carpet": [
           {
            "aaxis": {
             "endlinecolor": "#2a3f5f",
             "gridcolor": "white",
             "linecolor": "white",
             "minorgridcolor": "white",
             "startlinecolor": "#2a3f5f"
            },
            "baxis": {
             "endlinecolor": "#2a3f5f",
             "gridcolor": "white",
             "linecolor": "white",
             "minorgridcolor": "white",
             "startlinecolor": "#2a3f5f"
            },
            "type": "carpet"
           }
          ],
          "choropleth": [
           {
            "colorbar": {
             "outlinewidth": 0,
             "ticks": ""
            },
            "type": "choropleth"
           }
          ],
          "contour": [
           {
            "colorbar": {
             "outlinewidth": 0,
             "ticks": ""
            },
            "colorscale": [
             [
              0,
              "#0d0887"
             ],
             [
              0.1111111111111111,
              "#46039f"
             ],
             [
              0.2222222222222222,
              "#7201a8"
             ],
             [
              0.3333333333333333,
              "#9c179e"
             ],
             [
              0.4444444444444444,
              "#bd3786"
             ],
             [
              0.5555555555555556,
              "#d8576b"
             ],
             [
              0.6666666666666666,
              "#ed7953"
             ],
             [
              0.7777777777777778,
              "#fb9f3a"
             ],
             [
              0.8888888888888888,
              "#fdca26"
             ],
             [
              1,
              "#f0f921"
             ]
            ],
            "type": "contour"
           }
          ],
          "contourcarpet": [
           {
            "colorbar": {
             "outlinewidth": 0,
             "ticks": ""
            },
            "type": "contourcarpet"
           }
          ],
          "heatmap": [
           {
            "colorbar": {
             "outlinewidth": 0,
             "ticks": ""
            },
            "colorscale": [
             [
              0,
              "#0d0887"
             ],
             [
              0.1111111111111111,
              "#46039f"
             ],
             [
              0.2222222222222222,
              "#7201a8"
             ],
             [
              0.3333333333333333,
              "#9c179e"
             ],
             [
              0.4444444444444444,
              "#bd3786"
             ],
             [
              0.5555555555555556,
              "#d8576b"
             ],
             [
              0.6666666666666666,
              "#ed7953"
             ],
             [
              0.7777777777777778,
              "#fb9f3a"
             ],
             [
              0.8888888888888888,
              "#fdca26"
             ],
             [
              1,
              "#f0f921"
             ]
            ],
            "type": "heatmap"
           }
          ],
          "heatmapgl": [
           {
            "colorbar": {
             "outlinewidth": 0,
             "ticks": ""
            },
            "colorscale": [
             [
              0,
              "#0d0887"
             ],
             [
              0.1111111111111111,
              "#46039f"
             ],
             [
              0.2222222222222222,
              "#7201a8"
             ],
             [
              0.3333333333333333,
              "#9c179e"
             ],
             [
              0.4444444444444444,
              "#bd3786"
             ],
             [
              0.5555555555555556,
              "#d8576b"
             ],
             [
              0.6666666666666666,
              "#ed7953"
             ],
             [
              0.7777777777777778,
              "#fb9f3a"
             ],
             [
              0.8888888888888888,
              "#fdca26"
             ],
             [
              1,
              "#f0f921"
             ]
            ],
            "type": "heatmapgl"
           }
          ],
          "histogram": [
           {
            "marker": {
             "pattern": {
              "fillmode": "overlay",
              "size": 10,
              "solidity": 0.2
             }
            },
            "type": "histogram"
           }
          ],
          "histogram2d": [
           {
            "colorbar": {
             "outlinewidth": 0,
             "ticks": ""
            },
            "colorscale": [
             [
              0,
              "#0d0887"
             ],
             [
              0.1111111111111111,
              "#46039f"
             ],
             [
              0.2222222222222222,
              "#7201a8"
             ],
             [
              0.3333333333333333,
              "#9c179e"
             ],
             [
              0.4444444444444444,
              "#bd3786"
             ],
             [
              0.5555555555555556,
              "#d8576b"
             ],
             [
              0.6666666666666666,
              "#ed7953"
             ],
             [
              0.7777777777777778,
              "#fb9f3a"
             ],
             [
              0.8888888888888888,
              "#fdca26"
             ],
             [
              1,
              "#f0f921"
             ]
            ],
            "type": "histogram2d"
           }
          ],
          "histogram2dcontour": [
           {
            "colorbar": {
             "outlinewidth": 0,
             "ticks": ""
            },
            "colorscale": [
             [
              0,
              "#0d0887"
             ],
             [
              0.1111111111111111,
              "#46039f"
             ],
             [
              0.2222222222222222,
              "#7201a8"
             ],
             [
              0.3333333333333333,
              "#9c179e"
             ],
             [
              0.4444444444444444,
              "#bd3786"
             ],
             [
              0.5555555555555556,
              "#d8576b"
             ],
             [
              0.6666666666666666,
              "#ed7953"
             ],
             [
              0.7777777777777778,
              "#fb9f3a"
             ],
             [
              0.8888888888888888,
              "#fdca26"
             ],
             [
              1,
              "#f0f921"
             ]
            ],
            "type": "histogram2dcontour"
           }
          ],
          "mesh3d": [
           {
            "colorbar": {
             "outlinewidth": 0,
             "ticks": ""
            },
            "type": "mesh3d"
           }
          ],
          "parcoords": [
           {
            "line": {
             "colorbar": {
              "outlinewidth": 0,
              "ticks": ""
             }
            },
            "type": "parcoords"
           }
          ],
          "pie": [
           {
            "automargin": true,
            "type": "pie"
           }
          ],
          "scatter": [
           {
            "fillpattern": {
             "fillmode": "overlay",
             "size": 10,
             "solidity": 0.2
            },
            "type": "scatter"
           }
          ],
          "scatter3d": [
           {
            "line": {
             "colorbar": {
              "outlinewidth": 0,
              "ticks": ""
             }
            },
            "marker": {
             "colorbar": {
              "outlinewidth": 0,
              "ticks": ""
             }
            },
            "type": "scatter3d"
           }
          ],
          "scattercarpet": [
           {
            "marker": {
             "colorbar": {
              "outlinewidth": 0,
              "ticks": ""
             }
            },
            "type": "scattercarpet"
           }
          ],
          "scattergeo": [
           {
            "marker": {
             "colorbar": {
              "outlinewidth": 0,
              "ticks": ""
             }
            },
            "type": "scattergeo"
           }
          ],
          "scattergl": [
           {
            "marker": {
             "colorbar": {
              "outlinewidth": 0,
              "ticks": ""
             }
            },
            "type": "scattergl"
           }
          ],
          "scattermapbox": [
           {
            "marker": {
             "colorbar": {
              "outlinewidth": 0,
              "ticks": ""
             }
            },
            "type": "scattermapbox"
           }
          ],
          "scatterpolar": [
           {
            "marker": {
             "colorbar": {
              "outlinewidth": 0,
              "ticks": ""
             }
            },
            "type": "scatterpolar"
           }
          ],
          "scatterpolargl": [
           {
            "marker": {
             "colorbar": {
              "outlinewidth": 0,
              "ticks": ""
             }
            },
            "type": "scatterpolargl"
           }
          ],
          "scatterternary": [
           {
            "marker": {
             "colorbar": {
              "outlinewidth": 0,
              "ticks": ""
             }
            },
            "type": "scatterternary"
           }
          ],
          "surface": [
           {
            "colorbar": {
             "outlinewidth": 0,
             "ticks": ""
            },
            "colorscale": [
             [
              0,
              "#0d0887"
             ],
             [
              0.1111111111111111,
              "#46039f"
             ],
             [
              0.2222222222222222,
              "#7201a8"
             ],
             [
              0.3333333333333333,
              "#9c179e"
             ],
             [
              0.4444444444444444,
              "#bd3786"
             ],
             [
              0.5555555555555556,
              "#d8576b"
             ],
             [
              0.6666666666666666,
              "#ed7953"
             ],
             [
              0.7777777777777778,
              "#fb9f3a"
             ],
             [
              0.8888888888888888,
              "#fdca26"
             ],
             [
              1,
              "#f0f921"
             ]
            ],
            "type": "surface"
           }
          ],
          "table": [
           {
            "cells": {
             "fill": {
              "color": "#EBF0F8"
             },
             "line": {
              "color": "white"
             }
            },
            "header": {
             "fill": {
              "color": "#C8D4E3"
             },
             "line": {
              "color": "white"
             }
            },
            "type": "table"
           }
          ]
         },
         "layout": {
          "annotationdefaults": {
           "arrowcolor": "#2a3f5f",
           "arrowhead": 0,
           "arrowwidth": 1
          },
          "autotypenumbers": "strict",
          "coloraxis": {
           "colorbar": {
            "outlinewidth": 0,
            "ticks": ""
           }
          },
          "colorscale": {
           "diverging": [
            [
             0,
             "#8e0152"
            ],
            [
             0.1,
             "#c51b7d"
            ],
            [
             0.2,
             "#de77ae"
            ],
            [
             0.3,
             "#f1b6da"
            ],
            [
             0.4,
             "#fde0ef"
            ],
            [
             0.5,
             "#f7f7f7"
            ],
            [
             0.6,
             "#e6f5d0"
            ],
            [
             0.7,
             "#b8e186"
            ],
            [
             0.8,
             "#7fbc41"
            ],
            [
             0.9,
             "#4d9221"
            ],
            [
             1,
             "#276419"
            ]
           ],
           "sequential": [
            [
             0,
             "#0d0887"
            ],
            [
             0.1111111111111111,
             "#46039f"
            ],
            [
             0.2222222222222222,
             "#7201a8"
            ],
            [
             0.3333333333333333,
             "#9c179e"
            ],
            [
             0.4444444444444444,
             "#bd3786"
            ],
            [
             0.5555555555555556,
             "#d8576b"
            ],
            [
             0.6666666666666666,
             "#ed7953"
            ],
            [
             0.7777777777777778,
             "#fb9f3a"
            ],
            [
             0.8888888888888888,
             "#fdca26"
            ],
            [
             1,
             "#f0f921"
            ]
           ],
           "sequentialminus": [
            [
             0,
             "#0d0887"
            ],
            [
             0.1111111111111111,
             "#46039f"
            ],
            [
             0.2222222222222222,
             "#7201a8"
            ],
            [
             0.3333333333333333,
             "#9c179e"
            ],
            [
             0.4444444444444444,
             "#bd3786"
            ],
            [
             0.5555555555555556,
             "#d8576b"
            ],
            [
             0.6666666666666666,
             "#ed7953"
            ],
            [
             0.7777777777777778,
             "#fb9f3a"
            ],
            [
             0.8888888888888888,
             "#fdca26"
            ],
            [
             1,
             "#f0f921"
            ]
           ]
          },
          "colorway": [
           "#636efa",
           "#EF553B",
           "#00cc96",
           "#ab63fa",
           "#FFA15A",
           "#19d3f3",
           "#FF6692",
           "#B6E880",
           "#FF97FF",
           "#FECB52"
          ],
          "font": {
           "color": "#2a3f5f"
          },
          "geo": {
           "bgcolor": "white",
           "lakecolor": "white",
           "landcolor": "#E5ECF6",
           "showlakes": true,
           "showland": true,
           "subunitcolor": "white"
          },
          "hoverlabel": {
           "align": "left"
          },
          "hovermode": "closest",
          "mapbox": {
           "style": "light"
          },
          "paper_bgcolor": "white",
          "plot_bgcolor": "#E5ECF6",
          "polar": {
           "angularaxis": {
            "gridcolor": "white",
            "linecolor": "white",
            "ticks": ""
           },
           "bgcolor": "#E5ECF6",
           "radialaxis": {
            "gridcolor": "white",
            "linecolor": "white",
            "ticks": ""
           }
          },
          "scene": {
           "xaxis": {
            "backgroundcolor": "#E5ECF6",
            "gridcolor": "white",
            "gridwidth": 2,
            "linecolor": "white",
            "showbackground": true,
            "ticks": "",
            "zerolinecolor": "white"
           },
           "yaxis": {
            "backgroundcolor": "#E5ECF6",
            "gridcolor": "white",
            "gridwidth": 2,
            "linecolor": "white",
            "showbackground": true,
            "ticks": "",
            "zerolinecolor": "white"
           },
           "zaxis": {
            "backgroundcolor": "#E5ECF6",
            "gridcolor": "white",
            "gridwidth": 2,
            "linecolor": "white",
            "showbackground": true,
            "ticks": "",
            "zerolinecolor": "white"
           }
          },
          "shapedefaults": {
           "line": {
            "color": "#2a3f5f"
           }
          },
          "ternary": {
           "aaxis": {
            "gridcolor": "white",
            "linecolor": "white",
            "ticks": ""
           },
           "baxis": {
            "gridcolor": "white",
            "linecolor": "white",
            "ticks": ""
           },
           "bgcolor": "#E5ECF6",
           "caxis": {
            "gridcolor": "white",
            "linecolor": "white",
            "ticks": ""
           }
          },
          "title": {
           "x": 0.05
          },
          "xaxis": {
           "automargin": true,
           "gridcolor": "white",
           "linecolor": "white",
           "ticks": "",
           "title": {
            "standoff": 15
           },
           "zerolinecolor": "white",
           "zerolinewidth": 2
          },
          "yaxis": {
           "automargin": true,
           "gridcolor": "white",
           "linecolor": "white",
           "ticks": "",
           "title": {
            "standoff": 15
           },
           "zerolinecolor": "white",
           "zerolinewidth": 2
          }
         }
        },
        "title": {
         "font": {
          "color": "#351f39",
          "family": "Courier New"
         },
         "text": "Party-wise Vote Share"
        }
       }
      },
      "text/html": [
       "<div>                            <div id=\"ac896021-4ccf-451e-8db9-2e9029c13200\" class=\"plotly-graph-div\" style=\"height:525px; width:100%;\"></div>            <script type=\"text/javascript\">                require([\"plotly\"], function(Plotly) {                    window.PLOTLYENV=window.PLOTLYENV || {};                                    if (document.getElementById(\"ac896021-4ccf-451e-8db9-2e9029c13200\")) {                    Plotly.newPlot(                        \"ac896021-4ccf-451e-8db9-2e9029c13200\",                        [{\"labels\":[\"AITC\",\"BJP\",\"BSP\",\"INC\",\"Other\",\"SP\"],\"marker\":{\"line\":{\"color\":\"#000000\",\"width\":2}},\"pull\":[0.1,0.1,0.1,0.1,0.1,0.1],\"values\":[24832104,228938556,20445870,119330534,178545701,15616282],\"type\":\"pie\"}],                        {\"template\":{\"data\":{\"histogram2dcontour\":[{\"type\":\"histogram2dcontour\",\"colorbar\":{\"outlinewidth\":0,\"ticks\":\"\"},\"colorscale\":[[0.0,\"#0d0887\"],[0.1111111111111111,\"#46039f\"],[0.2222222222222222,\"#7201a8\"],[0.3333333333333333,\"#9c179e\"],[0.4444444444444444,\"#bd3786\"],[0.5555555555555556,\"#d8576b\"],[0.6666666666666666,\"#ed7953\"],[0.7777777777777778,\"#fb9f3a\"],[0.8888888888888888,\"#fdca26\"],[1.0,\"#f0f921\"]]}],\"choropleth\":[{\"type\":\"choropleth\",\"colorbar\":{\"outlinewidth\":0,\"ticks\":\"\"}}],\"histogram2d\":[{\"type\":\"histogram2d\",\"colorbar\":{\"outlinewidth\":0,\"ticks\":\"\"},\"colorscale\":[[0.0,\"#0d0887\"],[0.1111111111111111,\"#46039f\"],[0.2222222222222222,\"#7201a8\"],[0.3333333333333333,\"#9c179e\"],[0.4444444444444444,\"#bd3786\"],[0.5555555555555556,\"#d8576b\"],[0.6666666666666666,\"#ed7953\"],[0.7777777777777778,\"#fb9f3a\"],[0.8888888888888888,\"#fdca26\"],[1.0,\"#f0f921\"]]}],\"heatmap\":[{\"type\":\"heatmap\",\"colorbar\":{\"outlinewidth\":0,\"ticks\":\"\"},\"colorscale\":[[0.0,\"#0d0887\"],[0.1111111111111111,\"#46039f\"],[0.2222222222222222,\"#7201a8\"],[0.3333333333333333,\"#9c179e\"],[0.4444444444444444,\"#bd3786\"],[0.5555555555555556,\"#d8576b\"],[0.6666666666666666,\"#ed7953\"],[0.7777777777777778,\"#fb9f3a\"],[0.8888888888888888,\"#fdca26\"],[1.0,\"#f0f921\"]]}],\"heatmapgl\":[{\"type\":\"heatmapgl\",\"colorbar\":{\"outlinewidth\":0,\"ticks\":\"\"},\"colorscale\":[[0.0,\"#0d0887\"],[0.1111111111111111,\"#46039f\"],[0.2222222222222222,\"#7201a8\"],[0.3333333333333333,\"#9c179e\"],[0.4444444444444444,\"#bd3786\"],[0.5555555555555556,\"#d8576b\"],[0.6666666666666666,\"#ed7953\"],[0.7777777777777778,\"#fb9f3a\"],[0.8888888888888888,\"#fdca26\"],[1.0,\"#f0f921\"]]}],\"contourcarpet\":[{\"type\":\"contourcarpet\",\"colorbar\":{\"outlinewidth\":0,\"ticks\":\"\"}}],\"contour\":[{\"type\":\"contour\",\"colorbar\":{\"outlinewidth\":0,\"ticks\":\"\"},\"colorscale\":[[0.0,\"#0d0887\"],[0.1111111111111111,\"#46039f\"],[0.2222222222222222,\"#7201a8\"],[0.3333333333333333,\"#9c179e\"],[0.4444444444444444,\"#bd3786\"],[0.5555555555555556,\"#d8576b\"],[0.6666666666666666,\"#ed7953\"],[0.7777777777777778,\"#fb9f3a\"],[0.8888888888888888,\"#fdca26\"],[1.0,\"#f0f921\"]]}],\"surface\":[{\"type\":\"surface\",\"colorbar\":{\"outlinewidth\":0,\"ticks\":\"\"},\"colorscale\":[[0.0,\"#0d0887\"],[0.1111111111111111,\"#46039f\"],[0.2222222222222222,\"#7201a8\"],[0.3333333333333333,\"#9c179e\"],[0.4444444444444444,\"#bd3786\"],[0.5555555555555556,\"#d8576b\"],[0.6666666666666666,\"#ed7953\"],[0.7777777777777778,\"#fb9f3a\"],[0.8888888888888888,\"#fdca26\"],[1.0,\"#f0f921\"]]}],\"mesh3d\":[{\"type\":\"mesh3d\",\"colorbar\":{\"outlinewidth\":0,\"ticks\":\"\"}}],\"scatter\":[{\"fillpattern\":{\"fillmode\":\"overlay\",\"size\":10,\"solidity\":0.2},\"type\":\"scatter\"}],\"parcoords\":[{\"type\":\"parcoords\",\"line\":{\"colorbar\":{\"outlinewidth\":0,\"ticks\":\"\"}}}],\"scatterpolargl\":[{\"type\":\"scatterpolargl\",\"marker\":{\"colorbar\":{\"outlinewidth\":0,\"ticks\":\"\"}}}],\"bar\":[{\"error_x\":{\"color\":\"#2a3f5f\"},\"error_y\":{\"color\":\"#2a3f5f\"},\"marker\":{\"line\":{\"color\":\"#E5ECF6\",\"width\":0.5},\"pattern\":{\"fillmode\":\"overlay\",\"size\":10,\"solidity\":0.2}},\"type\":\"bar\"}],\"scattergeo\":[{\"type\":\"scattergeo\",\"marker\":{\"colorbar\":{\"outlinewidth\":0,\"ticks\":\"\"}}}],\"scatterpolar\":[{\"type\":\"scatterpolar\",\"marker\":{\"colorbar\":{\"outlinewidth\":0,\"ticks\":\"\"}}}],\"histogram\":[{\"marker\":{\"pattern\":{\"fillmode\":\"overlay\",\"size\":10,\"solidity\":0.2}},\"type\":\"histogram\"}],\"scattergl\":[{\"type\":\"scattergl\",\"marker\":{\"colorbar\":{\"outlinewidth\":0,\"ticks\":\"\"}}}],\"scatter3d\":[{\"type\":\"scatter3d\",\"line\":{\"colorbar\":{\"outlinewidth\":0,\"ticks\":\"\"}},\"marker\":{\"colorbar\":{\"outlinewidth\":0,\"ticks\":\"\"}}}],\"scattermapbox\":[{\"type\":\"scattermapbox\",\"marker\":{\"colorbar\":{\"outlinewidth\":0,\"ticks\":\"\"}}}],\"scatterternary\":[{\"type\":\"scatterternary\",\"marker\":{\"colorbar\":{\"outlinewidth\":0,\"ticks\":\"\"}}}],\"scattercarpet\":[{\"type\":\"scattercarpet\",\"marker\":{\"colorbar\":{\"outlinewidth\":0,\"ticks\":\"\"}}}],\"carpet\":[{\"aaxis\":{\"endlinecolor\":\"#2a3f5f\",\"gridcolor\":\"white\",\"linecolor\":\"white\",\"minorgridcolor\":\"white\",\"startlinecolor\":\"#2a3f5f\"},\"baxis\":{\"endlinecolor\":\"#2a3f5f\",\"gridcolor\":\"white\",\"linecolor\":\"white\",\"minorgridcolor\":\"white\",\"startlinecolor\":\"#2a3f5f\"},\"type\":\"carpet\"}],\"table\":[{\"cells\":{\"fill\":{\"color\":\"#EBF0F8\"},\"line\":{\"color\":\"white\"}},\"header\":{\"fill\":{\"color\":\"#C8D4E3\"},\"line\":{\"color\":\"white\"}},\"type\":\"table\"}],\"barpolar\":[{\"marker\":{\"line\":{\"color\":\"#E5ECF6\",\"width\":0.5},\"pattern\":{\"fillmode\":\"overlay\",\"size\":10,\"solidity\":0.2}},\"type\":\"barpolar\"}],\"pie\":[{\"automargin\":true,\"type\":\"pie\"}]},\"layout\":{\"autotypenumbers\":\"strict\",\"colorway\":[\"#636efa\",\"#EF553B\",\"#00cc96\",\"#ab63fa\",\"#FFA15A\",\"#19d3f3\",\"#FF6692\",\"#B6E880\",\"#FF97FF\",\"#FECB52\"],\"font\":{\"color\":\"#2a3f5f\"},\"hovermode\":\"closest\",\"hoverlabel\":{\"align\":\"left\"},\"paper_bgcolor\":\"white\",\"plot_bgcolor\":\"#E5ECF6\",\"polar\":{\"bgcolor\":\"#E5ECF6\",\"angularaxis\":{\"gridcolor\":\"white\",\"linecolor\":\"white\",\"ticks\":\"\"},\"radialaxis\":{\"gridcolor\":\"white\",\"linecolor\":\"white\",\"ticks\":\"\"}},\"ternary\":{\"bgcolor\":\"#E5ECF6\",\"aaxis\":{\"gridcolor\":\"white\",\"linecolor\":\"white\",\"ticks\":\"\"},\"baxis\":{\"gridcolor\":\"white\",\"linecolor\":\"white\",\"ticks\":\"\"},\"caxis\":{\"gridcolor\":\"white\",\"linecolor\":\"white\",\"ticks\":\"\"}},\"coloraxis\":{\"colorbar\":{\"outlinewidth\":0,\"ticks\":\"\"}},\"colorscale\":{\"sequential\":[[0.0,\"#0d0887\"],[0.1111111111111111,\"#46039f\"],[0.2222222222222222,\"#7201a8\"],[0.3333333333333333,\"#9c179e\"],[0.4444444444444444,\"#bd3786\"],[0.5555555555555556,\"#d8576b\"],[0.6666666666666666,\"#ed7953\"],[0.7777777777777778,\"#fb9f3a\"],[0.8888888888888888,\"#fdca26\"],[1.0,\"#f0f921\"]],\"sequentialminus\":[[0.0,\"#0d0887\"],[0.1111111111111111,\"#46039f\"],[0.2222222222222222,\"#7201a8\"],[0.3333333333333333,\"#9c179e\"],[0.4444444444444444,\"#bd3786\"],[0.5555555555555556,\"#d8576b\"],[0.6666666666666666,\"#ed7953\"],[0.7777777777777778,\"#fb9f3a\"],[0.8888888888888888,\"#fdca26\"],[1.0,\"#f0f921\"]],\"diverging\":[[0,\"#8e0152\"],[0.1,\"#c51b7d\"],[0.2,\"#de77ae\"],[0.3,\"#f1b6da\"],[0.4,\"#fde0ef\"],[0.5,\"#f7f7f7\"],[0.6,\"#e6f5d0\"],[0.7,\"#b8e186\"],[0.8,\"#7fbc41\"],[0.9,\"#4d9221\"],[1,\"#276419\"]]},\"xaxis\":{\"gridcolor\":\"white\",\"linecolor\":\"white\",\"ticks\":\"\",\"title\":{\"standoff\":15},\"zerolinecolor\":\"white\",\"automargin\":true,\"zerolinewidth\":2},\"yaxis\":{\"gridcolor\":\"white\",\"linecolor\":\"white\",\"ticks\":\"\",\"title\":{\"standoff\":15},\"zerolinecolor\":\"white\",\"automargin\":true,\"zerolinewidth\":2},\"scene\":{\"xaxis\":{\"backgroundcolor\":\"#E5ECF6\",\"gridcolor\":\"white\",\"linecolor\":\"white\",\"showbackground\":true,\"ticks\":\"\",\"zerolinecolor\":\"white\",\"gridwidth\":2},\"yaxis\":{\"backgroundcolor\":\"#E5ECF6\",\"gridcolor\":\"white\",\"linecolor\":\"white\",\"showbackground\":true,\"ticks\":\"\",\"zerolinecolor\":\"white\",\"gridwidth\":2},\"zaxis\":{\"backgroundcolor\":\"#E5ECF6\",\"gridcolor\":\"white\",\"linecolor\":\"white\",\"showbackground\":true,\"ticks\":\"\",\"zerolinecolor\":\"white\",\"gridwidth\":2}},\"shapedefaults\":{\"line\":{\"color\":\"#2a3f5f\"}},\"annotationdefaults\":{\"arrowcolor\":\"#2a3f5f\",\"arrowhead\":0,\"arrowwidth\":1},\"geo\":{\"bgcolor\":\"white\",\"landcolor\":\"#E5ECF6\",\"subunitcolor\":\"white\",\"showland\":true,\"showlakes\":true,\"lakecolor\":\"white\"},\"title\":{\"x\":0.05},\"mapbox\":{\"style\":\"light\"}}},\"title\":{\"font\":{\"family\":\"Courier New\",\"color\":\"#351f39\"},\"text\":\"Party-wise Vote Share\"},\"font\":{\"family\":\"Courier New\",\"color\":\"#351f39\"}},                        {\"responsive\": true}                    ).then(function(){\n",
       "                            \n",
       "var gd = document.getElementById('ac896021-4ccf-451e-8db9-2e9029c13200');\n",
       "var x = new MutationObserver(function (mutations, observer) {{\n",
       "        var display = window.getComputedStyle(gd).display;\n",
       "        if (!display || display === 'none') {{\n",
       "            console.log([gd, 'removed!']);\n",
       "            Plotly.purge(gd);\n",
       "            observer.disconnect();\n",
       "        }}\n",
       "}});\n",
       "\n",
       "// Listen for the removal of the full notebook cells\n",
       "var notebookContainer = gd.closest('#notebook-container');\n",
       "if (notebookContainer) {{\n",
       "    x.observe(notebookContainer, {childList: true});\n",
       "}}\n",
       "\n",
       "// Listen for the clearing of the current output cell\n",
       "var outputEl = gd.closest('.output');\n",
       "if (outputEl) {{\n",
       "    x.observe(outputEl, {childList: true});\n",
       "}}\n",
       "\n",
       "                        })                };                });            </script>        </div>"
      ]
     },
     "metadata": {},
     "output_type": "display_data"
    }
   ],
   "source": [
    "# Create a dataframe with total number of votes won by each party\n",
    "result = df[df['WINNER'] == 1].groupby('PARTY')['WINNER'].size()\n",
    "vote_Share = df.groupby('PARTY')['TOTALVOTES'].sum()\n",
    "vote_Share_df = pd.DataFrame(data=vote_Share, index=vote_Share.index).sort_values(by=\"TOTALVOTES\", ascending=False)\n",
    "vote_Share_df.reset_index(level=0, inplace=True)\n",
    "\n",
    "# Sort out the top five parties according to the total number of votes\n",
    "vote_share_top5 = df.groupby('PARTY')['TOTALVOTES'].sum().nlargest(5).index.tolist()\n",
    "\n",
    "# Create a method to label parties as 'Other' if they are not top five in total number of votes.\n",
    "def sort_party(data):\n",
    "    '''\n",
    "    Method to label parties as 'Other' if they are not top five in total number of votes.\n",
    "    data: input rows\n",
    "    '''\n",
    "    if data['PARTY'] not in vote_share_top5:\n",
    "        return 'Other'\n",
    "    else:\n",
    "        return data['PARTY']\n",
    "\n",
    "# Calling the method\n",
    "df['Party New'] = df.apply(sort_party, axis=1)\n",
    "\n",
    "# Visualize Party-wise vote share\n",
    "vote_count = df.groupby('Party New')['TOTALVOTES'].sum()\n",
    "vote_count_fig = go.Figure(go.Pie(labels=vote_count.index, \n",
    "                                  values=vote_count.values,\n",
    "                                  pull=[0.1, 0.1, 0.1, 0.1, 0.1, 0.1],\n",
    "                                  marker=dict(line=dict(color=\"#000000\", \n",
    "                                                        width=2))))\n",
    "vote_count_fig.update_layout(title_text='Party-wise Vote Share',\n",
    "                             font_family=\"Courier New\",\n",
    "                             font_color=\"#351f39\",\n",
    "                             title_font_family=\"Courier New\",\n",
    "                             title_font_color=\"#351f39\")\n",
    "vote_count_fig.show()"
   ]
  },
  {
   "cell_type": "code",
   "execution_count": 27,
   "metadata": {},
   "outputs": [
    {
     "data": {
      "text/plain": [
       "Party New\n",
       "Other    918\n",
       "BJP      420\n",
       "INC      411\n",
       "BSP      161\n",
       "AITC      47\n",
       "SP        39\n",
       "Name: count, dtype: int64"
      ]
     },
     "execution_count": 27,
     "metadata": {},
     "output_type": "execute_result"
    }
   ],
   "source": [
    "df['Party New'].value_counts()"
   ]
  },
  {
   "cell_type": "code",
   "execution_count": 28,
   "metadata": {},
   "outputs": [
    {
     "data": {
      "application/vnd.plotly.v1+json": {
       "config": {
        "plotlyServerURL": "https://plot.ly"
       },
       "data": [
        {
         "alignmentgroup": "True",
         "bingroup": "x",
         "hovertemplate": "AGE=%{x}<br>count=%{y}<extra></extra>",
         "legendgroup": "",
         "marker": {
          "color": "indianred",
          "pattern": {
           "shape": ""
          }
         },
         "name": "",
         "offsetgroup": "",
         "orientation": "v",
         "showlegend": false,
         "type": "histogram",
         "x": [
          52,
          54,
          52,
          58,
          47,
          54,
          37,
          34,
          62,
          58,
          38,
          69,
          68,
          66,
          64,
          40,
          60,
          60,
          64,
          46,
          58,
          60,
          64,
          60,
          54,
          52,
          64,
          32,
          44,
          61,
          46,
          51,
          62,
          43,
          52,
          42,
          44,
          69,
          63,
          49,
          77,
          46,
          60,
          41,
          35,
          47,
          31,
          46,
          28,
          59,
          67,
          56,
          55,
          61,
          38,
          71,
          36,
          43,
          48,
          33,
          71,
          47,
          56,
          64,
          42,
          47,
          46,
          67,
          58,
          55,
          43,
          58,
          35,
          52,
          43,
          56,
          65,
          54,
          65,
          53,
          69,
          62,
          51,
          48,
          45,
          29,
          58,
          65,
          60,
          59,
          53,
          60,
          45,
          52,
          46,
          61,
          49,
          43,
          50,
          57,
          64,
          71,
          55,
          43,
          40,
          61,
          33,
          55,
          59,
          41,
          46,
          63,
          55,
          37,
          41,
          52,
          50,
          66,
          36,
          81,
          70,
          26,
          72,
          49,
          54,
          46,
          61,
          37,
          54,
          69,
          47,
          38,
          68,
          47,
          51,
          56,
          42,
          45,
          48,
          65,
          59,
          37,
          62,
          70,
          47,
          47,
          63,
          56,
          49,
          53,
          50,
          34,
          55,
          67,
          41,
          56,
          62,
          42,
          43,
          35,
          58,
          46,
          49,
          76,
          68,
          61,
          39,
          45,
          40,
          34,
          40,
          66,
          68,
          38,
          63,
          40,
          63,
          55,
          55,
          38,
          66,
          73,
          60,
          38,
          66,
          53,
          68,
          62,
          64,
          51,
          46,
          62,
          56,
          51,
          39,
          52,
          50,
          40,
          70,
          75,
          39,
          49,
          33,
          59,
          74,
          59,
          37,
          55,
          39,
          53,
          66,
          46,
          52,
          59,
          43,
          28,
          64,
          37,
          51,
          55,
          28,
          58,
          65,
          61,
          44,
          46,
          38,
          50,
          65,
          72,
          67,
          40,
          42,
          62,
          62,
          65,
          43,
          31,
          26,
          42,
          65,
          64,
          65,
          51,
          68,
          34,
          49,
          34,
          43,
          71,
          67,
          54,
          59,
          55,
          65,
          48,
          60,
          68,
          61,
          57,
          67,
          73,
          50,
          39,
          61,
          61,
          58,
          37,
          49,
          53,
          70,
          63,
          61,
          59,
          69,
          51,
          45,
          55,
          39,
          44,
          66,
          44,
          65,
          57,
          68,
          47,
          44,
          28,
          42,
          51,
          70,
          38,
          46,
          42,
          55,
          38,
          29,
          40,
          45,
          65,
          50,
          42,
          52,
          41,
          33,
          54,
          36,
          48,
          62,
          57,
          66,
          32,
          59,
          27,
          63,
          69,
          67,
          65,
          68,
          44,
          52,
          55,
          31,
          44,
          44,
          59,
          59,
          42,
          49,
          42,
          41,
          43,
          50,
          64,
          37,
          68,
          56,
          39,
          59,
          56,
          61,
          37,
          73,
          40,
          55,
          50,
          62,
          52,
          40,
          42,
          45,
          28,
          67,
          58,
          62,
          69,
          27,
          64,
          43,
          30,
          46,
          55,
          60,
          46,
          54,
          44,
          49,
          71,
          49,
          63,
          71,
          50,
          57,
          65,
          66,
          42,
          33,
          36,
          53,
          55,
          59,
          65,
          55,
          47,
          51,
          51,
          47,
          49,
          63,
          54,
          51,
          49,
          38,
          39,
          72,
          67,
          57,
          45,
          45,
          49,
          63,
          53,
          61,
          47,
          44,
          42,
          50,
          58,
          58,
          58,
          57,
          66,
          75,
          50,
          34,
          66,
          71,
          59,
          71,
          58,
          42,
          62,
          43,
          52,
          32,
          66,
          70,
          78,
          44,
          64,
          74,
          52,
          43,
          64,
          48,
          55,
          62,
          52,
          40,
          36,
          43,
          66,
          41,
          52,
          41,
          54,
          31,
          48,
          49,
          65,
          62,
          33,
          44,
          56,
          31,
          40,
          26,
          55,
          54,
          59,
          58,
          44,
          57,
          56,
          45,
          47,
          53,
          48,
          56,
          46,
          55,
          49,
          76,
          79,
          65,
          48,
          55,
          72,
          49,
          62,
          64,
          68,
          67,
          60,
          45,
          43,
          68,
          42,
          58,
          41,
          57,
          68,
          61,
          55,
          36,
          68,
          33,
          66,
          61,
          38,
          48,
          69,
          49,
          40,
          44,
          62,
          63,
          67,
          56,
          46,
          40,
          35,
          33,
          31,
          52,
          58,
          64,
          51,
          52,
          34,
          57,
          63,
          44,
          42,
          59,
          57,
          34,
          49,
          67,
          58,
          64,
          33,
          71,
          65,
          46,
          49,
          71,
          54,
          36,
          67,
          51,
          69,
          35,
          65,
          43,
          69,
          58,
          65,
          38,
          61,
          41,
          50,
          57,
          30,
          43,
          56,
          52,
          45,
          63,
          42,
          58,
          59,
          77,
          63,
          52,
          50,
          66,
          45,
          46,
          31,
          43,
          48,
          49,
          48,
          67,
          52,
          42,
          52,
          40,
          44,
          70,
          53,
          68,
          37,
          37,
          71,
          53,
          67,
          37,
          39,
          72,
          60,
          45,
          44,
          45,
          59,
          61,
          25,
          37,
          50,
          37,
          48,
          46,
          59,
          55,
          35,
          51,
          65,
          72,
          52,
          43,
          43,
          41,
          58,
          70,
          54,
          35,
          45,
          64,
          55,
          68,
          62,
          62,
          43,
          78,
          61,
          78,
          61,
          50,
          54,
          66,
          65,
          66,
          44,
          35,
          52,
          62,
          63,
          52,
          68,
          44,
          68,
          32,
          64,
          56,
          56,
          49,
          54,
          55,
          48,
          66,
          44,
          59,
          54,
          61,
          48,
          63,
          74,
          55,
          50,
          67,
          52,
          53,
          59,
          42,
          30,
          55,
          73,
          49,
          61,
          27,
          46,
          48,
          38,
          53,
          49,
          52,
          36,
          56,
          63,
          33,
          67,
          76,
          34,
          65,
          59,
          59,
          46,
          36,
          78,
          53,
          70,
          64,
          50,
          52,
          47,
          53,
          46,
          82,
          36,
          53,
          52,
          62,
          61,
          41,
          29,
          40,
          46,
          44,
          51,
          58,
          64,
          60,
          77,
          43,
          48,
          41,
          53,
          52,
          50,
          53,
          59,
          65,
          37,
          49,
          69,
          60,
          58,
          71,
          56,
          50,
          66,
          49,
          32,
          33,
          47,
          41,
          44,
          45,
          42,
          68,
          64,
          43,
          61,
          55,
          46,
          59,
          70,
          60,
          28,
          60,
          29,
          61,
          68,
          71,
          38,
          51,
          56,
          52,
          72,
          55,
          74,
          73,
          42,
          34,
          50,
          63,
          41,
          60,
          48,
          56,
          60,
          44,
          46,
          31,
          26,
          58,
          45,
          70,
          54,
          57,
          54,
          39,
          68,
          70,
          49,
          68,
          42,
          64,
          60,
          44,
          61,
          49,
          67,
          46,
          46,
          37,
          49,
          49,
          57,
          58,
          67,
          59,
          69,
          40,
          59,
          56,
          63,
          78,
          30,
          37,
          68,
          54,
          55,
          56,
          68,
          60,
          60,
          54,
          38,
          38,
          68,
          61,
          44,
          49,
          41,
          45,
          61,
          50,
          72,
          82,
          40,
          69,
          60,
          46,
          56,
          55,
          40,
          63,
          50,
          65,
          50,
          65,
          42,
          44,
          51,
          62,
          62,
          61,
          56,
          56,
          44,
          60,
          56,
          62,
          37,
          56,
          51,
          60,
          32,
          58,
          48,
          59,
          53,
          65,
          52,
          42,
          60,
          65,
          42,
          48,
          53,
          43,
          67,
          64,
          50,
          48,
          48,
          63,
          51,
          29,
          65,
          45,
          53,
          54,
          59,
          47,
          56,
          48,
          48,
          54,
          58,
          64,
          51,
          38,
          50,
          44,
          42,
          36,
          55,
          48,
          40,
          52,
          34,
          61,
          48,
          48,
          64,
          62,
          66,
          55,
          49,
          62,
          58,
          52,
          60,
          43,
          42,
          36,
          41,
          57,
          44,
          51,
          69,
          40,
          32,
          52,
          54,
          35,
          44,
          36,
          26,
          51,
          55,
          66,
          37,
          67,
          45,
          61,
          52,
          39,
          41,
          68,
          67,
          41,
          55,
          70,
          69,
          70,
          71,
          74,
          61,
          77,
          46,
          38,
          65,
          64,
          56,
          63,
          45,
          48,
          43,
          49,
          31,
          44,
          46,
          66,
          37,
          47,
          59,
          52,
          38,
          51,
          62,
          31,
          41,
          56,
          43,
          73,
          53,
          52,
          42,
          65,
          61,
          52,
          51,
          68,
          49,
          57,
          61,
          52,
          37,
          55,
          65,
          25,
          49,
          43,
          48,
          65,
          65,
          33,
          52,
          40,
          31,
          27,
          35,
          44,
          38,
          49,
          39,
          39,
          62,
          64,
          54,
          47,
          46,
          61,
          66,
          45,
          60,
          43,
          55,
          39,
          33,
          54,
          58,
          60,
          29,
          71,
          68,
          50,
          57,
          40,
          50,
          54,
          54,
          55,
          42,
          50,
          61,
          46,
          28,
          50,
          69,
          56,
          50,
          26,
          44,
          71,
          54,
          47,
          37,
          61,
          58,
          53,
          44,
          70,
          55,
          50,
          57,
          58,
          55,
          57,
          64,
          38,
          40,
          33,
          63,
          61,
          67,
          45,
          27,
          65,
          52,
          45,
          45,
          44,
          56,
          75,
          66,
          64,
          68,
          66,
          55,
          39,
          58,
          67,
          37,
          50,
          44,
          40,
          57,
          70,
          52,
          67,
          42,
          48,
          58,
          49,
          66,
          59,
          57,
          26,
          50,
          65,
          55,
          33,
          37,
          54,
          61,
          53,
          51,
          51,
          43,
          36,
          64,
          44,
          43,
          45,
          29,
          57,
          59,
          59,
          52,
          57,
          53,
          41,
          26,
          47,
          67,
          68,
          56,
          43,
          48,
          69,
          32,
          58,
          70,
          70,
          50,
          68,
          44,
          42,
          50,
          78,
          43,
          67,
          71,
          51,
          57,
          49,
          63,
          57,
          30,
          39,
          49,
          36,
          42,
          52,
          38,
          39,
          55,
          33,
          45,
          37,
          38,
          49,
          54,
          55,
          36,
          55,
          41,
          51,
          47,
          67,
          51,
          66,
          33,
          60,
          59,
          38,
          71,
          73,
          79,
          60,
          67,
          30,
          54,
          48,
          72,
          54,
          63,
          59,
          39,
          47,
          69,
          51,
          50,
          59,
          43,
          60,
          32,
          48,
          59,
          58,
          57,
          43,
          40,
          59,
          45,
          55,
          31,
          36,
          45,
          67,
          55,
          70,
          66,
          63,
          80,
          46,
          42,
          63,
          55,
          29,
          47,
          56,
          53,
          64,
          74,
          64,
          39,
          27,
          46,
          54,
          41,
          47,
          47,
          53,
          46,
          54,
          49,
          61,
          33,
          54,
          67,
          50,
          64,
          68,
          60,
          68,
          37,
          54,
          41,
          64,
          52,
          44,
          53,
          62,
          41,
          59,
          36,
          54,
          59,
          49,
          60,
          60,
          67,
          32,
          61,
          59,
          61,
          65,
          48,
          48,
          38,
          52,
          46,
          46,
          50,
          50,
          75,
          54,
          46,
          67,
          43,
          68,
          47,
          79,
          51,
          41,
          65,
          48,
          38,
          50,
          46,
          42,
          34,
          57,
          69,
          56,
          64,
          46,
          78,
          50,
          41,
          70,
          40,
          42,
          62,
          46,
          40,
          43,
          57,
          59,
          62,
          75,
          38,
          63,
          41,
          36,
          25,
          61,
          66,
          68,
          43,
          53,
          45,
          47,
          47,
          41,
          55,
          56,
          69,
          62,
          56,
          47,
          47,
          57,
          71,
          46,
          60,
          46,
          61,
          60,
          33,
          33,
          55,
          63,
          61,
          45,
          54,
          70,
          44,
          57,
          54,
          57,
          60,
          42,
          31,
          61,
          33,
          58,
          60,
          57,
          69,
          33,
          35,
          75,
          52,
          64,
          57,
          48,
          58,
          71,
          59,
          48,
          45,
          61,
          38,
          64,
          47,
          36,
          53,
          33,
          67,
          70,
          60,
          67,
          51,
          55,
          43,
          55,
          59,
          55,
          66,
          43,
          41,
          61,
          47,
          81,
          38,
          43,
          66,
          52,
          59,
          57,
          70,
          53,
          59,
          46,
          65,
          61,
          49,
          35,
          47,
          39,
          59,
          36,
          56,
          64,
          43,
          49,
          48,
          48,
          68,
          51,
          47,
          40,
          28,
          65,
          33,
          51,
          63,
          55,
          34,
          43,
          65,
          69,
          59,
          68,
          52,
          39,
          37,
          52,
          54,
          41,
          39,
          39,
          58,
          42,
          46,
          64,
          62,
          62,
          42,
          49,
          74,
          68,
          68,
          47,
          64,
          73,
          42,
          60,
          52,
          42,
          36,
          77,
          55,
          36,
          58,
          62,
          58,
          38,
          39,
          43,
          49,
          47,
          40,
          35,
          49,
          72,
          61,
          40,
          36,
          57,
          57,
          44,
          48,
          45,
          57,
          51,
          68,
          29,
          72,
          68,
          62,
          35,
          59,
          45,
          51,
          43,
          66,
          32,
          29,
          49,
          34,
          56,
          58,
          73,
          69,
          30,
          42,
          34,
          55,
          72,
          51,
          62,
          53,
          37,
          64,
          67,
          61,
          50,
          48,
          64,
          61,
          58,
          43,
          42,
          58,
          57,
          53,
          36,
          45,
          55,
          55,
          42,
          68,
          42,
          48,
          58,
          50,
          67,
          61,
          48,
          36,
          63,
          56,
          32,
          65,
          51,
          60,
          45,
          48,
          76,
          45,
          44,
          39,
          59,
          38,
          37,
          30,
          64,
          57,
          56,
          53,
          61,
          29,
          58,
          56,
          25,
          56,
          56,
          60,
          67,
          77,
          62,
          68,
          28,
          65,
          38,
          62,
          74,
          28,
          32,
          31,
          59,
          39,
          62,
          34,
          36,
          49,
          66,
          67,
          64,
          28,
          55,
          64,
          56,
          41,
          51,
          32,
          67,
          46,
          38,
          51,
          65,
          47,
          67,
          44,
          48,
          49,
          44,
          28,
          57,
          57,
          55,
          62,
          54,
          61,
          58,
          64,
          46,
          37,
          25,
          40,
          32,
          47,
          61,
          62,
          86,
          64,
          78,
          54,
          38,
          36,
          45,
          68,
          43,
          74,
          46,
          30,
          54,
          60,
          58,
          61,
          44,
          53,
          55,
          72,
          44,
          40,
          63,
          74,
          35,
          48,
          53,
          44,
          63,
          56,
          66,
          62,
          58,
          32,
          58,
          44,
          32,
          50,
          31,
          65,
          27,
          42,
          48,
          47,
          69,
          52,
          73,
          44,
          51,
          30,
          31,
          51,
          51,
          54,
          52,
          48,
          78,
          46,
          52,
          56,
          64,
          39,
          69,
          58,
          32,
          38,
          64,
          36,
          49,
          52,
          54,
          63,
          41,
          63,
          39,
          48,
          63,
          67,
          61,
          63,
          30,
          42,
          33,
          58,
          48,
          46,
          35,
          57,
          29,
          25,
          31,
          31,
          51,
          43,
          37,
          49,
          50,
          58,
          47,
          33,
          48,
          55,
          48,
          58,
          53,
          45,
          47,
          61,
          27,
          46,
          59,
          33,
          46,
          54,
          46,
          47,
          63,
          77,
          64,
          62,
          72,
          28,
          44,
          57,
          30,
          33,
          52,
          73,
          52,
          56,
          62,
          42,
          44,
          60,
          32,
          52,
          53,
          53,
          83,
          58,
          41,
          43,
          77,
          49,
          46,
          41,
          59,
          62,
          43,
          67,
          42,
          58,
          39,
          60,
          48,
          73,
          46,
          52,
          26,
          50,
          32,
          27,
          41,
          58,
          45,
          50,
          79,
          35,
          36,
          42,
          50,
          31,
          73,
          68,
          60,
          59,
          44,
          66,
          32,
          32,
          44,
          41,
          60,
          68,
          57,
          46,
          47,
          68,
          52,
          62,
          44,
          63,
          53,
          39,
          70,
          59,
          51,
          69,
          66,
          35,
          42,
          43,
          48,
          63,
          66,
          76,
          51,
          57,
          52,
          55,
          59,
          58,
          64,
          60,
          65,
          47,
          56,
          69,
          70,
          60,
          33,
          53,
          54,
          47,
          55,
          41,
          53,
          63,
          60,
          64,
          52,
          44,
          71,
          56,
          46,
          65,
          50,
          45,
          59,
          47,
          41,
          44,
          61,
          75,
          30,
          43,
          50,
          60,
          76,
          50,
          58,
          62,
          42,
          78,
          86,
          74,
          38,
          53,
          55,
          54,
          59,
          65,
          51,
          53,
          62,
          54,
          59,
          60,
          62,
          52,
          50,
          43,
          53,
          56,
          49,
          31,
          51,
          42,
          64,
          41,
          47,
          56,
          57,
          56,
          58,
          40,
          63,
          61,
          61,
          51,
          39,
          62,
          66,
          43,
          56,
          44,
          48,
          72,
          26,
          36,
          46,
          46,
          62,
          32,
          42,
          54,
          35,
          38,
          69,
          54,
          54,
          68,
          47,
          49,
          65,
          43,
          51,
          53,
          48,
          66,
          48,
          58,
          58,
          66,
          55,
          30,
          48,
          64,
          44,
          47,
          45,
          36,
          52,
          29,
          53,
          58,
          48,
          57,
          67,
          39,
          52,
          51,
          56,
          65,
          45,
          37,
          65,
          53,
          63,
          37,
          48,
          50,
          41,
          64,
          47,
          46,
          64,
          37,
          64,
          28,
          43,
          63,
          49,
          47
         ],
         "xaxis": "x",
         "yaxis": "y"
        }
       ],
       "layout": {
        "barmode": "relative",
        "font": {
         "color": "#351f39",
         "family": "Courier New"
        },
        "legend": {
         "tracegroupgap": 0
        },
        "margin": {
         "t": 60
        },
        "template": {
         "data": {
          "bar": [
           {
            "error_x": {
             "color": "#2a3f5f"
            },
            "error_y": {
             "color": "#2a3f5f"
            },
            "marker": {
             "line": {
              "color": "#E5ECF6",
              "width": 0.5
             },
             "pattern": {
              "fillmode": "overlay",
              "size": 10,
              "solidity": 0.2
             }
            },
            "type": "bar"
           }
          ],
          "barpolar": [
           {
            "marker": {
             "line": {
              "color": "#E5ECF6",
              "width": 0.5
             },
             "pattern": {
              "fillmode": "overlay",
              "size": 10,
              "solidity": 0.2
             }
            },
            "type": "barpolar"
           }
          ],
          "carpet": [
           {
            "aaxis": {
             "endlinecolor": "#2a3f5f",
             "gridcolor": "white",
             "linecolor": "white",
             "minorgridcolor": "white",
             "startlinecolor": "#2a3f5f"
            },
            "baxis": {
             "endlinecolor": "#2a3f5f",
             "gridcolor": "white",
             "linecolor": "white",
             "minorgridcolor": "white",
             "startlinecolor": "#2a3f5f"
            },
            "type": "carpet"
           }
          ],
          "choropleth": [
           {
            "colorbar": {
             "outlinewidth": 0,
             "ticks": ""
            },
            "type": "choropleth"
           }
          ],
          "contour": [
           {
            "colorbar": {
             "outlinewidth": 0,
             "ticks": ""
            },
            "colorscale": [
             [
              0,
              "#0d0887"
             ],
             [
              0.1111111111111111,
              "#46039f"
             ],
             [
              0.2222222222222222,
              "#7201a8"
             ],
             [
              0.3333333333333333,
              "#9c179e"
             ],
             [
              0.4444444444444444,
              "#bd3786"
             ],
             [
              0.5555555555555556,
              "#d8576b"
             ],
             [
              0.6666666666666666,
              "#ed7953"
             ],
             [
              0.7777777777777778,
              "#fb9f3a"
             ],
             [
              0.8888888888888888,
              "#fdca26"
             ],
             [
              1,
              "#f0f921"
             ]
            ],
            "type": "contour"
           }
          ],
          "contourcarpet": [
           {
            "colorbar": {
             "outlinewidth": 0,
             "ticks": ""
            },
            "type": "contourcarpet"
           }
          ],
          "heatmap": [
           {
            "colorbar": {
             "outlinewidth": 0,
             "ticks": ""
            },
            "colorscale": [
             [
              0,
              "#0d0887"
             ],
             [
              0.1111111111111111,
              "#46039f"
             ],
             [
              0.2222222222222222,
              "#7201a8"
             ],
             [
              0.3333333333333333,
              "#9c179e"
             ],
             [
              0.4444444444444444,
              "#bd3786"
             ],
             [
              0.5555555555555556,
              "#d8576b"
             ],
             [
              0.6666666666666666,
              "#ed7953"
             ],
             [
              0.7777777777777778,
              "#fb9f3a"
             ],
             [
              0.8888888888888888,
              "#fdca26"
             ],
             [
              1,
              "#f0f921"
             ]
            ],
            "type": "heatmap"
           }
          ],
          "heatmapgl": [
           {
            "colorbar": {
             "outlinewidth": 0,
             "ticks": ""
            },
            "colorscale": [
             [
              0,
              "#0d0887"
             ],
             [
              0.1111111111111111,
              "#46039f"
             ],
             [
              0.2222222222222222,
              "#7201a8"
             ],
             [
              0.3333333333333333,
              "#9c179e"
             ],
             [
              0.4444444444444444,
              "#bd3786"
             ],
             [
              0.5555555555555556,
              "#d8576b"
             ],
             [
              0.6666666666666666,
              "#ed7953"
             ],
             [
              0.7777777777777778,
              "#fb9f3a"
             ],
             [
              0.8888888888888888,
              "#fdca26"
             ],
             [
              1,
              "#f0f921"
             ]
            ],
            "type": "heatmapgl"
           }
          ],
          "histogram": [
           {
            "marker": {
             "pattern": {
              "fillmode": "overlay",
              "size": 10,
              "solidity": 0.2
             }
            },
            "type": "histogram"
           }
          ],
          "histogram2d": [
           {
            "colorbar": {
             "outlinewidth": 0,
             "ticks": ""
            },
            "colorscale": [
             [
              0,
              "#0d0887"
             ],
             [
              0.1111111111111111,
              "#46039f"
             ],
             [
              0.2222222222222222,
              "#7201a8"
             ],
             [
              0.3333333333333333,
              "#9c179e"
             ],
             [
              0.4444444444444444,
              "#bd3786"
             ],
             [
              0.5555555555555556,
              "#d8576b"
             ],
             [
              0.6666666666666666,
              "#ed7953"
             ],
             [
              0.7777777777777778,
              "#fb9f3a"
             ],
             [
              0.8888888888888888,
              "#fdca26"
             ],
             [
              1,
              "#f0f921"
             ]
            ],
            "type": "histogram2d"
           }
          ],
          "histogram2dcontour": [
           {
            "colorbar": {
             "outlinewidth": 0,
             "ticks": ""
            },
            "colorscale": [
             [
              0,
              "#0d0887"
             ],
             [
              0.1111111111111111,
              "#46039f"
             ],
             [
              0.2222222222222222,
              "#7201a8"
             ],
             [
              0.3333333333333333,
              "#9c179e"
             ],
             [
              0.4444444444444444,
              "#bd3786"
             ],
             [
              0.5555555555555556,
              "#d8576b"
             ],
             [
              0.6666666666666666,
              "#ed7953"
             ],
             [
              0.7777777777777778,
              "#fb9f3a"
             ],
             [
              0.8888888888888888,
              "#fdca26"
             ],
             [
              1,
              "#f0f921"
             ]
            ],
            "type": "histogram2dcontour"
           }
          ],
          "mesh3d": [
           {
            "colorbar": {
             "outlinewidth": 0,
             "ticks": ""
            },
            "type": "mesh3d"
           }
          ],
          "parcoords": [
           {
            "line": {
             "colorbar": {
              "outlinewidth": 0,
              "ticks": ""
             }
            },
            "type": "parcoords"
           }
          ],
          "pie": [
           {
            "automargin": true,
            "type": "pie"
           }
          ],
          "scatter": [
           {
            "fillpattern": {
             "fillmode": "overlay",
             "size": 10,
             "solidity": 0.2
            },
            "type": "scatter"
           }
          ],
          "scatter3d": [
           {
            "line": {
             "colorbar": {
              "outlinewidth": 0,
              "ticks": ""
             }
            },
            "marker": {
             "colorbar": {
              "outlinewidth": 0,
              "ticks": ""
             }
            },
            "type": "scatter3d"
           }
          ],
          "scattercarpet": [
           {
            "marker": {
             "colorbar": {
              "outlinewidth": 0,
              "ticks": ""
             }
            },
            "type": "scattercarpet"
           }
          ],
          "scattergeo": [
           {
            "marker": {
             "colorbar": {
              "outlinewidth": 0,
              "ticks": ""
             }
            },
            "type": "scattergeo"
           }
          ],
          "scattergl": [
           {
            "marker": {
             "colorbar": {
              "outlinewidth": 0,
              "ticks": ""
             }
            },
            "type": "scattergl"
           }
          ],
          "scattermapbox": [
           {
            "marker": {
             "colorbar": {
              "outlinewidth": 0,
              "ticks": ""
             }
            },
            "type": "scattermapbox"
           }
          ],
          "scatterpolar": [
           {
            "marker": {
             "colorbar": {
              "outlinewidth": 0,
              "ticks": ""
             }
            },
            "type": "scatterpolar"
           }
          ],
          "scatterpolargl": [
           {
            "marker": {
             "colorbar": {
              "outlinewidth": 0,
              "ticks": ""
             }
            },
            "type": "scatterpolargl"
           }
          ],
          "scatterternary": [
           {
            "marker": {
             "colorbar": {
              "outlinewidth": 0,
              "ticks": ""
             }
            },
            "type": "scatterternary"
           }
          ],
          "surface": [
           {
            "colorbar": {
             "outlinewidth": 0,
             "ticks": ""
            },
            "colorscale": [
             [
              0,
              "#0d0887"
             ],
             [
              0.1111111111111111,
              "#46039f"
             ],
             [
              0.2222222222222222,
              "#7201a8"
             ],
             [
              0.3333333333333333,
              "#9c179e"
             ],
             [
              0.4444444444444444,
              "#bd3786"
             ],
             [
              0.5555555555555556,
              "#d8576b"
             ],
             [
              0.6666666666666666,
              "#ed7953"
             ],
             [
              0.7777777777777778,
              "#fb9f3a"
             ],
             [
              0.8888888888888888,
              "#fdca26"
             ],
             [
              1,
              "#f0f921"
             ]
            ],
            "type": "surface"
           }
          ],
          "table": [
           {
            "cells": {
             "fill": {
              "color": "#EBF0F8"
             },
             "line": {
              "color": "white"
             }
            },
            "header": {
             "fill": {
              "color": "#C8D4E3"
             },
             "line": {
              "color": "white"
             }
            },
            "type": "table"
           }
          ]
         },
         "layout": {
          "annotationdefaults": {
           "arrowcolor": "#2a3f5f",
           "arrowhead": 0,
           "arrowwidth": 1
          },
          "autotypenumbers": "strict",
          "coloraxis": {
           "colorbar": {
            "outlinewidth": 0,
            "ticks": ""
           }
          },
          "colorscale": {
           "diverging": [
            [
             0,
             "#8e0152"
            ],
            [
             0.1,
             "#c51b7d"
            ],
            [
             0.2,
             "#de77ae"
            ],
            [
             0.3,
             "#f1b6da"
            ],
            [
             0.4,
             "#fde0ef"
            ],
            [
             0.5,
             "#f7f7f7"
            ],
            [
             0.6,
             "#e6f5d0"
            ],
            [
             0.7,
             "#b8e186"
            ],
            [
             0.8,
             "#7fbc41"
            ],
            [
             0.9,
             "#4d9221"
            ],
            [
             1,
             "#276419"
            ]
           ],
           "sequential": [
            [
             0,
             "#0d0887"
            ],
            [
             0.1111111111111111,
             "#46039f"
            ],
            [
             0.2222222222222222,
             "#7201a8"
            ],
            [
             0.3333333333333333,
             "#9c179e"
            ],
            [
             0.4444444444444444,
             "#bd3786"
            ],
            [
             0.5555555555555556,
             "#d8576b"
            ],
            [
             0.6666666666666666,
             "#ed7953"
            ],
            [
             0.7777777777777778,
             "#fb9f3a"
            ],
            [
             0.8888888888888888,
             "#fdca26"
            ],
            [
             1,
             "#f0f921"
            ]
           ],
           "sequentialminus": [
            [
             0,
             "#0d0887"
            ],
            [
             0.1111111111111111,
             "#46039f"
            ],
            [
             0.2222222222222222,
             "#7201a8"
            ],
            [
             0.3333333333333333,
             "#9c179e"
            ],
            [
             0.4444444444444444,
             "#bd3786"
            ],
            [
             0.5555555555555556,
             "#d8576b"
            ],
            [
             0.6666666666666666,
             "#ed7953"
            ],
            [
             0.7777777777777778,
             "#fb9f3a"
            ],
            [
             0.8888888888888888,
             "#fdca26"
            ],
            [
             1,
             "#f0f921"
            ]
           ]
          },
          "colorway": [
           "#636efa",
           "#EF553B",
           "#00cc96",
           "#ab63fa",
           "#FFA15A",
           "#19d3f3",
           "#FF6692",
           "#B6E880",
           "#FF97FF",
           "#FECB52"
          ],
          "font": {
           "color": "#2a3f5f"
          },
          "geo": {
           "bgcolor": "white",
           "lakecolor": "white",
           "landcolor": "#E5ECF6",
           "showlakes": true,
           "showland": true,
           "subunitcolor": "white"
          },
          "hoverlabel": {
           "align": "left"
          },
          "hovermode": "closest",
          "mapbox": {
           "style": "light"
          },
          "paper_bgcolor": "white",
          "plot_bgcolor": "#E5ECF6",
          "polar": {
           "angularaxis": {
            "gridcolor": "white",
            "linecolor": "white",
            "ticks": ""
           },
           "bgcolor": "#E5ECF6",
           "radialaxis": {
            "gridcolor": "white",
            "linecolor": "white",
            "ticks": ""
           }
          },
          "scene": {
           "xaxis": {
            "backgroundcolor": "#E5ECF6",
            "gridcolor": "white",
            "gridwidth": 2,
            "linecolor": "white",
            "showbackground": true,
            "ticks": "",
            "zerolinecolor": "white"
           },
           "yaxis": {
            "backgroundcolor": "#E5ECF6",
            "gridcolor": "white",
            "gridwidth": 2,
            "linecolor": "white",
            "showbackground": true,
            "ticks": "",
            "zerolinecolor": "white"
           },
           "zaxis": {
            "backgroundcolor": "#E5ECF6",
            "gridcolor": "white",
            "gridwidth": 2,
            "linecolor": "white",
            "showbackground": true,
            "ticks": "",
            "zerolinecolor": "white"
           }
          },
          "shapedefaults": {
           "line": {
            "color": "#2a3f5f"
           }
          },
          "ternary": {
           "aaxis": {
            "gridcolor": "white",
            "linecolor": "white",
            "ticks": ""
           },
           "baxis": {
            "gridcolor": "white",
            "linecolor": "white",
            "ticks": ""
           },
           "bgcolor": "#E5ECF6",
           "caxis": {
            "gridcolor": "white",
            "linecolor": "white",
            "ticks": ""
           }
          },
          "title": {
           "x": 0.05
          },
          "xaxis": {
           "automargin": true,
           "gridcolor": "white",
           "linecolor": "white",
           "ticks": "",
           "title": {
            "standoff": 15
           },
           "zerolinecolor": "white",
           "zerolinewidth": 2
          },
          "yaxis": {
           "automargin": true,
           "gridcolor": "white",
           "linecolor": "white",
           "ticks": "",
           "title": {
            "standoff": 15
           },
           "zerolinecolor": "white",
           "zerolinewidth": 2
          }
         }
        },
        "title": {
         "font": {
          "color": "#351f39",
          "family": "Courier New"
         },
         "text": "Age Distribution of Candidates"
        },
        "xaxis": {
         "anchor": "y",
         "domain": [
          0,
          1
         ],
         "title": {
          "text": "Distribution"
         }
        },
        "yaxis": {
         "anchor": "x",
         "domain": [
          0,
          1
         ],
         "title": {
          "text": "Age"
         }
        }
       }
      },
      "text/html": [
       "<div>                            <div id=\"7e1068ca-7a20-478e-ab4a-786584c80b02\" class=\"plotly-graph-div\" style=\"height:525px; width:100%;\"></div>            <script type=\"text/javascript\">                require([\"plotly\"], function(Plotly) {                    window.PLOTLYENV=window.PLOTLYENV || {};                                    if (document.getElementById(\"7e1068ca-7a20-478e-ab4a-786584c80b02\")) {                    Plotly.newPlot(                        \"7e1068ca-7a20-478e-ab4a-786584c80b02\",                        [{\"alignmentgroup\":\"True\",\"bingroup\":\"x\",\"hovertemplate\":\"AGE=%{x}\\u003cbr\\u003ecount=%{y}\\u003cextra\\u003e\\u003c\\u002fextra\\u003e\",\"legendgroup\":\"\",\"marker\":{\"color\":\"indianred\",\"pattern\":{\"shape\":\"\"}},\"name\":\"\",\"offsetgroup\":\"\",\"orientation\":\"v\",\"showlegend\":false,\"x\":[52.0,54.0,52.0,58.0,47.0,54.0,37.0,34.0,62.0,58.0,38.0,69.0,68.0,66.0,64.0,40.0,60.0,60.0,64.0,46.0,58.0,60.0,64.0,60.0,54.0,52.0,64.0,32.0,44.0,61.0,46.0,51.0,62.0,43.0,52.0,42.0,44.0,69.0,63.0,49.0,77.0,46.0,60.0,41.0,35.0,47.0,31.0,46.0,28.0,59.0,67.0,56.0,55.0,61.0,38.0,71.0,36.0,43.0,48.0,33.0,71.0,47.0,56.0,64.0,42.0,47.0,46.0,67.0,58.0,55.0,43.0,58.0,35.0,52.0,43.0,56.0,65.0,54.0,65.0,53.0,69.0,62.0,51.0,48.0,45.0,29.0,58.0,65.0,60.0,59.0,53.0,60.0,45.0,52.0,46.0,61.0,49.0,43.0,50.0,57.0,64.0,71.0,55.0,43.0,40.0,61.0,33.0,55.0,59.0,41.0,46.0,63.0,55.0,37.0,41.0,52.0,50.0,66.0,36.0,81.0,70.0,26.0,72.0,49.0,54.0,46.0,61.0,37.0,54.0,69.0,47.0,38.0,68.0,47.0,51.0,56.0,42.0,45.0,48.0,65.0,59.0,37.0,62.0,70.0,47.0,47.0,63.0,56.0,49.0,53.0,50.0,34.0,55.0,67.0,41.0,56.0,62.0,42.0,43.0,35.0,58.0,46.0,49.0,76.0,68.0,61.0,39.0,45.0,40.0,34.0,40.0,66.0,68.0,38.0,63.0,40.0,63.0,55.0,55.0,38.0,66.0,73.0,60.0,38.0,66.0,53.0,68.0,62.0,64.0,51.0,46.0,62.0,56.0,51.0,39.0,52.0,50.0,40.0,70.0,75.0,39.0,49.0,33.0,59.0,74.0,59.0,37.0,55.0,39.0,53.0,66.0,46.0,52.0,59.0,43.0,28.0,64.0,37.0,51.0,55.0,28.0,58.0,65.0,61.0,44.0,46.0,38.0,50.0,65.0,72.0,67.0,40.0,42.0,62.0,62.0,65.0,43.0,31.0,26.0,42.0,65.0,64.0,65.0,51.0,68.0,34.0,49.0,34.0,43.0,71.0,67.0,54.0,59.0,55.0,65.0,48.0,60.0,68.0,61.0,57.0,67.0,73.0,50.0,39.0,61.0,61.0,58.0,37.0,49.0,53.0,70.0,63.0,61.0,59.0,69.0,51.0,45.0,55.0,39.0,44.0,66.0,44.0,65.0,57.0,68.0,47.0,44.0,28.0,42.0,51.0,70.0,38.0,46.0,42.0,55.0,38.0,29.0,40.0,45.0,65.0,50.0,42.0,52.0,41.0,33.0,54.0,36.0,48.0,62.0,57.0,66.0,32.0,59.0,27.0,63.0,69.0,67.0,65.0,68.0,44.0,52.0,55.0,31.0,44.0,44.0,59.0,59.0,42.0,49.0,42.0,41.0,43.0,50.0,64.0,37.0,68.0,56.0,39.0,59.0,56.0,61.0,37.0,73.0,40.0,55.0,50.0,62.0,52.0,40.0,42.0,45.0,28.0,67.0,58.0,62.0,69.0,27.0,64.0,43.0,30.0,46.0,55.0,60.0,46.0,54.0,44.0,49.0,71.0,49.0,63.0,71.0,50.0,57.0,65.0,66.0,42.0,33.0,36.0,53.0,55.0,59.0,65.0,55.0,47.0,51.0,51.0,47.0,49.0,63.0,54.0,51.0,49.0,38.0,39.0,72.0,67.0,57.0,45.0,45.0,49.0,63.0,53.0,61.0,47.0,44.0,42.0,50.0,58.0,58.0,58.0,57.0,66.0,75.0,50.0,34.0,66.0,71.0,59.0,71.0,58.0,42.0,62.0,43.0,52.0,32.0,66.0,70.0,78.0,44.0,64.0,74.0,52.0,43.0,64.0,48.0,55.0,62.0,52.0,40.0,36.0,43.0,66.0,41.0,52.0,41.0,54.0,31.0,48.0,49.0,65.0,62.0,33.0,44.0,56.0,31.0,40.0,26.0,55.0,54.0,59.0,58.0,44.0,57.0,56.0,45.0,47.0,53.0,48.0,56.0,46.0,55.0,49.0,76.0,79.0,65.0,48.0,55.0,72.0,49.0,62.0,64.0,68.0,67.0,60.0,45.0,43.0,68.0,42.0,58.0,41.0,57.0,68.0,61.0,55.0,36.0,68.0,33.0,66.0,61.0,38.0,48.0,69.0,49.0,40.0,44.0,62.0,63.0,67.0,56.0,46.0,40.0,35.0,33.0,31.0,52.0,58.0,64.0,51.0,52.0,34.0,57.0,63.0,44.0,42.0,59.0,57.0,34.0,49.0,67.0,58.0,64.0,33.0,71.0,65.0,46.0,49.0,71.0,54.0,36.0,67.0,51.0,69.0,35.0,65.0,43.0,69.0,58.0,65.0,38.0,61.0,41.0,50.0,57.0,30.0,43.0,56.0,52.0,45.0,63.0,42.0,58.0,59.0,77.0,63.0,52.0,50.0,66.0,45.0,46.0,31.0,43.0,48.0,49.0,48.0,67.0,52.0,42.0,52.0,40.0,44.0,70.0,53.0,68.0,37.0,37.0,71.0,53.0,67.0,37.0,39.0,72.0,60.0,45.0,44.0,45.0,59.0,61.0,25.0,37.0,50.0,37.0,48.0,46.0,59.0,55.0,35.0,51.0,65.0,72.0,52.0,43.0,43.0,41.0,58.0,70.0,54.0,35.0,45.0,64.0,55.0,68.0,62.0,62.0,43.0,78.0,61.0,78.0,61.0,50.0,54.0,66.0,65.0,66.0,44.0,35.0,52.0,62.0,63.0,52.0,68.0,44.0,68.0,32.0,64.0,56.0,56.0,49.0,54.0,55.0,48.0,66.0,44.0,59.0,54.0,61.0,48.0,63.0,74.0,55.0,50.0,67.0,52.0,53.0,59.0,42.0,30.0,55.0,73.0,49.0,61.0,27.0,46.0,48.0,38.0,53.0,49.0,52.0,36.0,56.0,63.0,33.0,67.0,76.0,34.0,65.0,59.0,59.0,46.0,36.0,78.0,53.0,70.0,64.0,50.0,52.0,47.0,53.0,46.0,82.0,36.0,53.0,52.0,62.0,61.0,41.0,29.0,40.0,46.0,44.0,51.0,58.0,64.0,60.0,77.0,43.0,48.0,41.0,53.0,52.0,50.0,53.0,59.0,65.0,37.0,49.0,69.0,60.0,58.0,71.0,56.0,50.0,66.0,49.0,32.0,33.0,47.0,41.0,44.0,45.0,42.0,68.0,64.0,43.0,61.0,55.0,46.0,59.0,70.0,60.0,28.0,60.0,29.0,61.0,68.0,71.0,38.0,51.0,56.0,52.0,72.0,55.0,74.0,73.0,42.0,34.0,50.0,63.0,41.0,60.0,48.0,56.0,60.0,44.0,46.0,31.0,26.0,58.0,45.0,70.0,54.0,57.0,54.0,39.0,68.0,70.0,49.0,68.0,42.0,64.0,60.0,44.0,61.0,49.0,67.0,46.0,46.0,37.0,49.0,49.0,57.0,58.0,67.0,59.0,69.0,40.0,59.0,56.0,63.0,78.0,30.0,37.0,68.0,54.0,55.0,56.0,68.0,60.0,60.0,54.0,38.0,38.0,68.0,61.0,44.0,49.0,41.0,45.0,61.0,50.0,72.0,82.0,40.0,69.0,60.0,46.0,56.0,55.0,40.0,63.0,50.0,65.0,50.0,65.0,42.0,44.0,51.0,62.0,62.0,61.0,56.0,56.0,44.0,60.0,56.0,62.0,37.0,56.0,51.0,60.0,32.0,58.0,48.0,59.0,53.0,65.0,52.0,42.0,60.0,65.0,42.0,48.0,53.0,43.0,67.0,64.0,50.0,48.0,48.0,63.0,51.0,29.0,65.0,45.0,53.0,54.0,59.0,47.0,56.0,48.0,48.0,54.0,58.0,64.0,51.0,38.0,50.0,44.0,42.0,36.0,55.0,48.0,40.0,52.0,34.0,61.0,48.0,48.0,64.0,62.0,66.0,55.0,49.0,62.0,58.0,52.0,60.0,43.0,42.0,36.0,41.0,57.0,44.0,51.0,69.0,40.0,32.0,52.0,54.0,35.0,44.0,36.0,26.0,51.0,55.0,66.0,37.0,67.0,45.0,61.0,52.0,39.0,41.0,68.0,67.0,41.0,55.0,70.0,69.0,70.0,71.0,74.0,61.0,77.0,46.0,38.0,65.0,64.0,56.0,63.0,45.0,48.0,43.0,49.0,31.0,44.0,46.0,66.0,37.0,47.0,59.0,52.0,38.0,51.0,62.0,31.0,41.0,56.0,43.0,73.0,53.0,52.0,42.0,65.0,61.0,52.0,51.0,68.0,49.0,57.0,61.0,52.0,37.0,55.0,65.0,25.0,49.0,43.0,48.0,65.0,65.0,33.0,52.0,40.0,31.0,27.0,35.0,44.0,38.0,49.0,39.0,39.0,62.0,64.0,54.0,47.0,46.0,61.0,66.0,45.0,60.0,43.0,55.0,39.0,33.0,54.0,58.0,60.0,29.0,71.0,68.0,50.0,57.0,40.0,50.0,54.0,54.0,55.0,42.0,50.0,61.0,46.0,28.0,50.0,69.0,56.0,50.0,26.0,44.0,71.0,54.0,47.0,37.0,61.0,58.0,53.0,44.0,70.0,55.0,50.0,57.0,58.0,55.0,57.0,64.0,38.0,40.0,33.0,63.0,61.0,67.0,45.0,27.0,65.0,52.0,45.0,45.0,44.0,56.0,75.0,66.0,64.0,68.0,66.0,55.0,39.0,58.0,67.0,37.0,50.0,44.0,40.0,57.0,70.0,52.0,67.0,42.0,48.0,58.0,49.0,66.0,59.0,57.0,26.0,50.0,65.0,55.0,33.0,37.0,54.0,61.0,53.0,51.0,51.0,43.0,36.0,64.0,44.0,43.0,45.0,29.0,57.0,59.0,59.0,52.0,57.0,53.0,41.0,26.0,47.0,67.0,68.0,56.0,43.0,48.0,69.0,32.0,58.0,70.0,70.0,50.0,68.0,44.0,42.0,50.0,78.0,43.0,67.0,71.0,51.0,57.0,49.0,63.0,57.0,30.0,39.0,49.0,36.0,42.0,52.0,38.0,39.0,55.0,33.0,45.0,37.0,38.0,49.0,54.0,55.0,36.0,55.0,41.0,51.0,47.0,67.0,51.0,66.0,33.0,60.0,59.0,38.0,71.0,73.0,79.0,60.0,67.0,30.0,54.0,48.0,72.0,54.0,63.0,59.0,39.0,47.0,69.0,51.0,50.0,59.0,43.0,60.0,32.0,48.0,59.0,58.0,57.0,43.0,40.0,59.0,45.0,55.0,31.0,36.0,45.0,67.0,55.0,70.0,66.0,63.0,80.0,46.0,42.0,63.0,55.0,29.0,47.0,56.0,53.0,64.0,74.0,64.0,39.0,27.0,46.0,54.0,41.0,47.0,47.0,53.0,46.0,54.0,49.0,61.0,33.0,54.0,67.0,50.0,64.0,68.0,60.0,68.0,37.0,54.0,41.0,64.0,52.0,44.0,53.0,62.0,41.0,59.0,36.0,54.0,59.0,49.0,60.0,60.0,67.0,32.0,61.0,59.0,61.0,65.0,48.0,48.0,38.0,52.0,46.0,46.0,50.0,50.0,75.0,54.0,46.0,67.0,43.0,68.0,47.0,79.0,51.0,41.0,65.0,48.0,38.0,50.0,46.0,42.0,34.0,57.0,69.0,56.0,64.0,46.0,78.0,50.0,41.0,70.0,40.0,42.0,62.0,46.0,40.0,43.0,57.0,59.0,62.0,75.0,38.0,63.0,41.0,36.0,25.0,61.0,66.0,68.0,43.0,53.0,45.0,47.0,47.0,41.0,55.0,56.0,69.0,62.0,56.0,47.0,47.0,57.0,71.0,46.0,60.0,46.0,61.0,60.0,33.0,33.0,55.0,63.0,61.0,45.0,54.0,70.0,44.0,57.0,54.0,57.0,60.0,42.0,31.0,61.0,33.0,58.0,60.0,57.0,69.0,33.0,35.0,75.0,52.0,64.0,57.0,48.0,58.0,71.0,59.0,48.0,45.0,61.0,38.0,64.0,47.0,36.0,53.0,33.0,67.0,70.0,60.0,67.0,51.0,55.0,43.0,55.0,59.0,55.0,66.0,43.0,41.0,61.0,47.0,81.0,38.0,43.0,66.0,52.0,59.0,57.0,70.0,53.0,59.0,46.0,65.0,61.0,49.0,35.0,47.0,39.0,59.0,36.0,56.0,64.0,43.0,49.0,48.0,48.0,68.0,51.0,47.0,40.0,28.0,65.0,33.0,51.0,63.0,55.0,34.0,43.0,65.0,69.0,59.0,68.0,52.0,39.0,37.0,52.0,54.0,41.0,39.0,39.0,58.0,42.0,46.0,64.0,62.0,62.0,42.0,49.0,74.0,68.0,68.0,47.0,64.0,73.0,42.0,60.0,52.0,42.0,36.0,77.0,55.0,36.0,58.0,62.0,58.0,38.0,39.0,43.0,49.0,47.0,40.0,35.0,49.0,72.0,61.0,40.0,36.0,57.0,57.0,44.0,48.0,45.0,57.0,51.0,68.0,29.0,72.0,68.0,62.0,35.0,59.0,45.0,51.0,43.0,66.0,32.0,29.0,49.0,34.0,56.0,58.0,73.0,69.0,30.0,42.0,34.0,55.0,72.0,51.0,62.0,53.0,37.0,64.0,67.0,61.0,50.0,48.0,64.0,61.0,58.0,43.0,42.0,58.0,57.0,53.0,36.0,45.0,55.0,55.0,42.0,68.0,42.0,48.0,58.0,50.0,67.0,61.0,48.0,36.0,63.0,56.0,32.0,65.0,51.0,60.0,45.0,48.0,76.0,45.0,44.0,39.0,59.0,38.0,37.0,30.0,64.0,57.0,56.0,53.0,61.0,29.0,58.0,56.0,25.0,56.0,56.0,60.0,67.0,77.0,62.0,68.0,28.0,65.0,38.0,62.0,74.0,28.0,32.0,31.0,59.0,39.0,62.0,34.0,36.0,49.0,66.0,67.0,64.0,28.0,55.0,64.0,56.0,41.0,51.0,32.0,67.0,46.0,38.0,51.0,65.0,47.0,67.0,44.0,48.0,49.0,44.0,28.0,57.0,57.0,55.0,62.0,54.0,61.0,58.0,64.0,46.0,37.0,25.0,40.0,32.0,47.0,61.0,62.0,86.0,64.0,78.0,54.0,38.0,36.0,45.0,68.0,43.0,74.0,46.0,30.0,54.0,60.0,58.0,61.0,44.0,53.0,55.0,72.0,44.0,40.0,63.0,74.0,35.0,48.0,53.0,44.0,63.0,56.0,66.0,62.0,58.0,32.0,58.0,44.0,32.0,50.0,31.0,65.0,27.0,42.0,48.0,47.0,69.0,52.0,73.0,44.0,51.0,30.0,31.0,51.0,51.0,54.0,52.0,48.0,78.0,46.0,52.0,56.0,64.0,39.0,69.0,58.0,32.0,38.0,64.0,36.0,49.0,52.0,54.0,63.0,41.0,63.0,39.0,48.0,63.0,67.0,61.0,63.0,30.0,42.0,33.0,58.0,48.0,46.0,35.0,57.0,29.0,25.0,31.0,31.0,51.0,43.0,37.0,49.0,50.0,58.0,47.0,33.0,48.0,55.0,48.0,58.0,53.0,45.0,47.0,61.0,27.0,46.0,59.0,33.0,46.0,54.0,46.0,47.0,63.0,77.0,64.0,62.0,72.0,28.0,44.0,57.0,30.0,33.0,52.0,73.0,52.0,56.0,62.0,42.0,44.0,60.0,32.0,52.0,53.0,53.0,83.0,58.0,41.0,43.0,77.0,49.0,46.0,41.0,59.0,62.0,43.0,67.0,42.0,58.0,39.0,60.0,48.0,73.0,46.0,52.0,26.0,50.0,32.0,27.0,41.0,58.0,45.0,50.0,79.0,35.0,36.0,42.0,50.0,31.0,73.0,68.0,60.0,59.0,44.0,66.0,32.0,32.0,44.0,41.0,60.0,68.0,57.0,46.0,47.0,68.0,52.0,62.0,44.0,63.0,53.0,39.0,70.0,59.0,51.0,69.0,66.0,35.0,42.0,43.0,48.0,63.0,66.0,76.0,51.0,57.0,52.0,55.0,59.0,58.0,64.0,60.0,65.0,47.0,56.0,69.0,70.0,60.0,33.0,53.0,54.0,47.0,55.0,41.0,53.0,63.0,60.0,64.0,52.0,44.0,71.0,56.0,46.0,65.0,50.0,45.0,59.0,47.0,41.0,44.0,61.0,75.0,30.0,43.0,50.0,60.0,76.0,50.0,58.0,62.0,42.0,78.0,86.0,74.0,38.0,53.0,55.0,54.0,59.0,65.0,51.0,53.0,62.0,54.0,59.0,60.0,62.0,52.0,50.0,43.0,53.0,56.0,49.0,31.0,51.0,42.0,64.0,41.0,47.0,56.0,57.0,56.0,58.0,40.0,63.0,61.0,61.0,51.0,39.0,62.0,66.0,43.0,56.0,44.0,48.0,72.0,26.0,36.0,46.0,46.0,62.0,32.0,42.0,54.0,35.0,38.0,69.0,54.0,54.0,68.0,47.0,49.0,65.0,43.0,51.0,53.0,48.0,66.0,48.0,58.0,58.0,66.0,55.0,30.0,48.0,64.0,44.0,47.0,45.0,36.0,52.0,29.0,53.0,58.0,48.0,57.0,67.0,39.0,52.0,51.0,56.0,65.0,45.0,37.0,65.0,53.0,63.0,37.0,48.0,50.0,41.0,64.0,47.0,46.0,64.0,37.0,64.0,28.0,43.0,63.0,49.0,47.0],\"xaxis\":\"x\",\"yaxis\":\"y\",\"type\":\"histogram\"}],                        {\"template\":{\"data\":{\"histogram2dcontour\":[{\"type\":\"histogram2dcontour\",\"colorbar\":{\"outlinewidth\":0,\"ticks\":\"\"},\"colorscale\":[[0.0,\"#0d0887\"],[0.1111111111111111,\"#46039f\"],[0.2222222222222222,\"#7201a8\"],[0.3333333333333333,\"#9c179e\"],[0.4444444444444444,\"#bd3786\"],[0.5555555555555556,\"#d8576b\"],[0.6666666666666666,\"#ed7953\"],[0.7777777777777778,\"#fb9f3a\"],[0.8888888888888888,\"#fdca26\"],[1.0,\"#f0f921\"]]}],\"choropleth\":[{\"type\":\"choropleth\",\"colorbar\":{\"outlinewidth\":0,\"ticks\":\"\"}}],\"histogram2d\":[{\"type\":\"histogram2d\",\"colorbar\":{\"outlinewidth\":0,\"ticks\":\"\"},\"colorscale\":[[0.0,\"#0d0887\"],[0.1111111111111111,\"#46039f\"],[0.2222222222222222,\"#7201a8\"],[0.3333333333333333,\"#9c179e\"],[0.4444444444444444,\"#bd3786\"],[0.5555555555555556,\"#d8576b\"],[0.6666666666666666,\"#ed7953\"],[0.7777777777777778,\"#fb9f3a\"],[0.8888888888888888,\"#fdca26\"],[1.0,\"#f0f921\"]]}],\"heatmap\":[{\"type\":\"heatmap\",\"colorbar\":{\"outlinewidth\":0,\"ticks\":\"\"},\"colorscale\":[[0.0,\"#0d0887\"],[0.1111111111111111,\"#46039f\"],[0.2222222222222222,\"#7201a8\"],[0.3333333333333333,\"#9c179e\"],[0.4444444444444444,\"#bd3786\"],[0.5555555555555556,\"#d8576b\"],[0.6666666666666666,\"#ed7953\"],[0.7777777777777778,\"#fb9f3a\"],[0.8888888888888888,\"#fdca26\"],[1.0,\"#f0f921\"]]}],\"heatmapgl\":[{\"type\":\"heatmapgl\",\"colorbar\":{\"outlinewidth\":0,\"ticks\":\"\"},\"colorscale\":[[0.0,\"#0d0887\"],[0.1111111111111111,\"#46039f\"],[0.2222222222222222,\"#7201a8\"],[0.3333333333333333,\"#9c179e\"],[0.4444444444444444,\"#bd3786\"],[0.5555555555555556,\"#d8576b\"],[0.6666666666666666,\"#ed7953\"],[0.7777777777777778,\"#fb9f3a\"],[0.8888888888888888,\"#fdca26\"],[1.0,\"#f0f921\"]]}],\"contourcarpet\":[{\"type\":\"contourcarpet\",\"colorbar\":{\"outlinewidth\":0,\"ticks\":\"\"}}],\"contour\":[{\"type\":\"contour\",\"colorbar\":{\"outlinewidth\":0,\"ticks\":\"\"},\"colorscale\":[[0.0,\"#0d0887\"],[0.1111111111111111,\"#46039f\"],[0.2222222222222222,\"#7201a8\"],[0.3333333333333333,\"#9c179e\"],[0.4444444444444444,\"#bd3786\"],[0.5555555555555556,\"#d8576b\"],[0.6666666666666666,\"#ed7953\"],[0.7777777777777778,\"#fb9f3a\"],[0.8888888888888888,\"#fdca26\"],[1.0,\"#f0f921\"]]}],\"surface\":[{\"type\":\"surface\",\"colorbar\":{\"outlinewidth\":0,\"ticks\":\"\"},\"colorscale\":[[0.0,\"#0d0887\"],[0.1111111111111111,\"#46039f\"],[0.2222222222222222,\"#7201a8\"],[0.3333333333333333,\"#9c179e\"],[0.4444444444444444,\"#bd3786\"],[0.5555555555555556,\"#d8576b\"],[0.6666666666666666,\"#ed7953\"],[0.7777777777777778,\"#fb9f3a\"],[0.8888888888888888,\"#fdca26\"],[1.0,\"#f0f921\"]]}],\"mesh3d\":[{\"type\":\"mesh3d\",\"colorbar\":{\"outlinewidth\":0,\"ticks\":\"\"}}],\"scatter\":[{\"fillpattern\":{\"fillmode\":\"overlay\",\"size\":10,\"solidity\":0.2},\"type\":\"scatter\"}],\"parcoords\":[{\"type\":\"parcoords\",\"line\":{\"colorbar\":{\"outlinewidth\":0,\"ticks\":\"\"}}}],\"scatterpolargl\":[{\"type\":\"scatterpolargl\",\"marker\":{\"colorbar\":{\"outlinewidth\":0,\"ticks\":\"\"}}}],\"bar\":[{\"error_x\":{\"color\":\"#2a3f5f\"},\"error_y\":{\"color\":\"#2a3f5f\"},\"marker\":{\"line\":{\"color\":\"#E5ECF6\",\"width\":0.5},\"pattern\":{\"fillmode\":\"overlay\",\"size\":10,\"solidity\":0.2}},\"type\":\"bar\"}],\"scattergeo\":[{\"type\":\"scattergeo\",\"marker\":{\"colorbar\":{\"outlinewidth\":0,\"ticks\":\"\"}}}],\"scatterpolar\":[{\"type\":\"scatterpolar\",\"marker\":{\"colorbar\":{\"outlinewidth\":0,\"ticks\":\"\"}}}],\"histogram\":[{\"marker\":{\"pattern\":{\"fillmode\":\"overlay\",\"size\":10,\"solidity\":0.2}},\"type\":\"histogram\"}],\"scattergl\":[{\"type\":\"scattergl\",\"marker\":{\"colorbar\":{\"outlinewidth\":0,\"ticks\":\"\"}}}],\"scatter3d\":[{\"type\":\"scatter3d\",\"line\":{\"colorbar\":{\"outlinewidth\":0,\"ticks\":\"\"}},\"marker\":{\"colorbar\":{\"outlinewidth\":0,\"ticks\":\"\"}}}],\"scattermapbox\":[{\"type\":\"scattermapbox\",\"marker\":{\"colorbar\":{\"outlinewidth\":0,\"ticks\":\"\"}}}],\"scatterternary\":[{\"type\":\"scatterternary\",\"marker\":{\"colorbar\":{\"outlinewidth\":0,\"ticks\":\"\"}}}],\"scattercarpet\":[{\"type\":\"scattercarpet\",\"marker\":{\"colorbar\":{\"outlinewidth\":0,\"ticks\":\"\"}}}],\"carpet\":[{\"aaxis\":{\"endlinecolor\":\"#2a3f5f\",\"gridcolor\":\"white\",\"linecolor\":\"white\",\"minorgridcolor\":\"white\",\"startlinecolor\":\"#2a3f5f\"},\"baxis\":{\"endlinecolor\":\"#2a3f5f\",\"gridcolor\":\"white\",\"linecolor\":\"white\",\"minorgridcolor\":\"white\",\"startlinecolor\":\"#2a3f5f\"},\"type\":\"carpet\"}],\"table\":[{\"cells\":{\"fill\":{\"color\":\"#EBF0F8\"},\"line\":{\"color\":\"white\"}},\"header\":{\"fill\":{\"color\":\"#C8D4E3\"},\"line\":{\"color\":\"white\"}},\"type\":\"table\"}],\"barpolar\":[{\"marker\":{\"line\":{\"color\":\"#E5ECF6\",\"width\":0.5},\"pattern\":{\"fillmode\":\"overlay\",\"size\":10,\"solidity\":0.2}},\"type\":\"barpolar\"}],\"pie\":[{\"automargin\":true,\"type\":\"pie\"}]},\"layout\":{\"autotypenumbers\":\"strict\",\"colorway\":[\"#636efa\",\"#EF553B\",\"#00cc96\",\"#ab63fa\",\"#FFA15A\",\"#19d3f3\",\"#FF6692\",\"#B6E880\",\"#FF97FF\",\"#FECB52\"],\"font\":{\"color\":\"#2a3f5f\"},\"hovermode\":\"closest\",\"hoverlabel\":{\"align\":\"left\"},\"paper_bgcolor\":\"white\",\"plot_bgcolor\":\"#E5ECF6\",\"polar\":{\"bgcolor\":\"#E5ECF6\",\"angularaxis\":{\"gridcolor\":\"white\",\"linecolor\":\"white\",\"ticks\":\"\"},\"radialaxis\":{\"gridcolor\":\"white\",\"linecolor\":\"white\",\"ticks\":\"\"}},\"ternary\":{\"bgcolor\":\"#E5ECF6\",\"aaxis\":{\"gridcolor\":\"white\",\"linecolor\":\"white\",\"ticks\":\"\"},\"baxis\":{\"gridcolor\":\"white\",\"linecolor\":\"white\",\"ticks\":\"\"},\"caxis\":{\"gridcolor\":\"white\",\"linecolor\":\"white\",\"ticks\":\"\"}},\"coloraxis\":{\"colorbar\":{\"outlinewidth\":0,\"ticks\":\"\"}},\"colorscale\":{\"sequential\":[[0.0,\"#0d0887\"],[0.1111111111111111,\"#46039f\"],[0.2222222222222222,\"#7201a8\"],[0.3333333333333333,\"#9c179e\"],[0.4444444444444444,\"#bd3786\"],[0.5555555555555556,\"#d8576b\"],[0.6666666666666666,\"#ed7953\"],[0.7777777777777778,\"#fb9f3a\"],[0.8888888888888888,\"#fdca26\"],[1.0,\"#f0f921\"]],\"sequentialminus\":[[0.0,\"#0d0887\"],[0.1111111111111111,\"#46039f\"],[0.2222222222222222,\"#7201a8\"],[0.3333333333333333,\"#9c179e\"],[0.4444444444444444,\"#bd3786\"],[0.5555555555555556,\"#d8576b\"],[0.6666666666666666,\"#ed7953\"],[0.7777777777777778,\"#fb9f3a\"],[0.8888888888888888,\"#fdca26\"],[1.0,\"#f0f921\"]],\"diverging\":[[0,\"#8e0152\"],[0.1,\"#c51b7d\"],[0.2,\"#de77ae\"],[0.3,\"#f1b6da\"],[0.4,\"#fde0ef\"],[0.5,\"#f7f7f7\"],[0.6,\"#e6f5d0\"],[0.7,\"#b8e186\"],[0.8,\"#7fbc41\"],[0.9,\"#4d9221\"],[1,\"#276419\"]]},\"xaxis\":{\"gridcolor\":\"white\",\"linecolor\":\"white\",\"ticks\":\"\",\"title\":{\"standoff\":15},\"zerolinecolor\":\"white\",\"automargin\":true,\"zerolinewidth\":2},\"yaxis\":{\"gridcolor\":\"white\",\"linecolor\":\"white\",\"ticks\":\"\",\"title\":{\"standoff\":15},\"zerolinecolor\":\"white\",\"automargin\":true,\"zerolinewidth\":2},\"scene\":{\"xaxis\":{\"backgroundcolor\":\"#E5ECF6\",\"gridcolor\":\"white\",\"linecolor\":\"white\",\"showbackground\":true,\"ticks\":\"\",\"zerolinecolor\":\"white\",\"gridwidth\":2},\"yaxis\":{\"backgroundcolor\":\"#E5ECF6\",\"gridcolor\":\"white\",\"linecolor\":\"white\",\"showbackground\":true,\"ticks\":\"\",\"zerolinecolor\":\"white\",\"gridwidth\":2},\"zaxis\":{\"backgroundcolor\":\"#E5ECF6\",\"gridcolor\":\"white\",\"linecolor\":\"white\",\"showbackground\":true,\"ticks\":\"\",\"zerolinecolor\":\"white\",\"gridwidth\":2}},\"shapedefaults\":{\"line\":{\"color\":\"#2a3f5f\"}},\"annotationdefaults\":{\"arrowcolor\":\"#2a3f5f\",\"arrowhead\":0,\"arrowwidth\":1},\"geo\":{\"bgcolor\":\"white\",\"landcolor\":\"#E5ECF6\",\"subunitcolor\":\"white\",\"showland\":true,\"showlakes\":true,\"lakecolor\":\"white\"},\"title\":{\"x\":0.05},\"mapbox\":{\"style\":\"light\"}}},\"xaxis\":{\"anchor\":\"y\",\"domain\":[0.0,1.0],\"title\":{\"text\":\"Distribution\"}},\"yaxis\":{\"anchor\":\"x\",\"domain\":[0.0,1.0],\"title\":{\"text\":\"Age\"}},\"legend\":{\"tracegroupgap\":0},\"margin\":{\"t\":60},\"barmode\":\"relative\",\"title\":{\"text\":\"Age Distribution of Candidates\",\"font\":{\"family\":\"Courier New\",\"color\":\"#351f39\"}},\"font\":{\"family\":\"Courier New\",\"color\":\"#351f39\"}},                        {\"responsive\": true}                    ).then(function(){\n",
       "                            \n",
       "var gd = document.getElementById('7e1068ca-7a20-478e-ab4a-786584c80b02');\n",
       "var x = new MutationObserver(function (mutations, observer) {{\n",
       "        var display = window.getComputedStyle(gd).display;\n",
       "        if (!display || display === 'none') {{\n",
       "            console.log([gd, 'removed!']);\n",
       "            Plotly.purge(gd);\n",
       "            observer.disconnect();\n",
       "        }}\n",
       "}});\n",
       "\n",
       "// Listen for the removal of the full notebook cells\n",
       "var notebookContainer = gd.closest('#notebook-container');\n",
       "if (notebookContainer) {{\n",
       "    x.observe(notebookContainer, {childList: true});\n",
       "}}\n",
       "\n",
       "// Listen for the clearing of the current output cell\n",
       "var outputEl = gd.closest('.output');\n",
       "if (outputEl) {{\n",
       "    x.observe(outputEl, {childList: true});\n",
       "}}\n",
       "\n",
       "                        })                };                });            </script>        </div>"
      ]
     },
     "metadata": {},
     "output_type": "display_data"
    }
   ],
   "source": [
    "# Visualize the age distribution of candidates\n",
    "age_distribution_fig = px.histogram(df, \n",
    "                                    x=\"AGE\",\n",
    "                                    color_discrete_sequence=['indianred'])\n",
    "age_distribution_fig.update_layout(title_text='Age Distribution of Candidates',\n",
    "                                   xaxis_title=\"Distribution\",\n",
    "                                   yaxis_title=\"Age\")\n",
    "age_distribution_fig.update_layout(font_family=\"Courier New\",\n",
    "                                   font_color=\"#351f39\",\n",
    "                                   title_font_family=\"Courier New\",\n",
    "                                   title_font_color=\"#351f39\")\n",
    "age_distribution_fig.show()"
   ]
  },
  {
   "cell_type": "code",
   "execution_count": 29,
   "metadata": {},
   "outputs": [
    {
     "name": "stderr",
     "output_type": "stream",
     "text": [
      "C:\\Users\\Hp\\AppData\\Local\\Packages\\PythonSoftwareFoundation.Python.3.11_qbz5n2kfra8p0\\LocalCache\\local-packages\\Python311\\site-packages\\plotly\\express\\_core.py:2065: FutureWarning:\n",
      "\n",
      "When grouping with a length-1 list-like, you will need to pass a length-1 tuple to get_group in a future version of pandas. Pass `(name,)` instead of `name` to silence this warning.\n",
      "\n"
     ]
    },
    {
     "data": {
      "application/vnd.plotly.v1+json": {
       "config": {
        "plotlyServerURL": "https://plot.ly"
       },
       "data": [
        {
         "alignmentgroup": "True",
         "hovertemplate": "Category=Winner<br>CATEGORY=%{x}<br>WINNER=%{y}<extra></extra>",
         "legendgroup": "Winner",
         "marker": {
          "color": "#636efa",
          "pattern": {
           "shape": ""
          }
         },
         "name": "Winner",
         "offsetgroup": "Winner",
         "orientation": "v",
         "showlegend": true,
         "textposition": "auto",
         "type": "bar",
         "x": [
          "GENERAL",
          "SC",
          "ST"
         ],
         "xaxis": "x",
         "y": [
          399,
          85,
          55
         ],
         "yaxis": "y"
        },
        {
         "alignmentgroup": "True",
         "hovertemplate": "Category=Total<br>CATEGORY=%{x}<br>WINNER=%{y}<extra></extra>",
         "legendgroup": "Total",
         "marker": {
          "color": "#EF553B",
          "pattern": {
           "shape": ""
          }
         },
         "name": "Total",
         "offsetgroup": "Total",
         "orientation": "v",
         "showlegend": true,
         "textposition": "auto",
         "type": "bar",
         "x": [
          "GENERAL",
          "SC",
          "ST"
         ],
         "xaxis": "x",
         "y": [
          1373,
          380,
          243
         ],
         "yaxis": "y"
        }
       ],
       "layout": {
        "barmode": "group",
        "font": {
         "color": "#351f39",
         "family": "Courier New"
        },
        "legend": {
         "title": {
          "text": "Category"
         },
         "tracegroupgap": 0
        },
        "margin": {
         "t": 60
        },
        "template": {
         "data": {
          "bar": [
           {
            "error_x": {
             "color": "#2a3f5f"
            },
            "error_y": {
             "color": "#2a3f5f"
            },
            "marker": {
             "line": {
              "color": "#E5ECF6",
              "width": 0.5
             },
             "pattern": {
              "fillmode": "overlay",
              "size": 10,
              "solidity": 0.2
             }
            },
            "type": "bar"
           }
          ],
          "barpolar": [
           {
            "marker": {
             "line": {
              "color": "#E5ECF6",
              "width": 0.5
             },
             "pattern": {
              "fillmode": "overlay",
              "size": 10,
              "solidity": 0.2
             }
            },
            "type": "barpolar"
           }
          ],
          "carpet": [
           {
            "aaxis": {
             "endlinecolor": "#2a3f5f",
             "gridcolor": "white",
             "linecolor": "white",
             "minorgridcolor": "white",
             "startlinecolor": "#2a3f5f"
            },
            "baxis": {
             "endlinecolor": "#2a3f5f",
             "gridcolor": "white",
             "linecolor": "white",
             "minorgridcolor": "white",
             "startlinecolor": "#2a3f5f"
            },
            "type": "carpet"
           }
          ],
          "choropleth": [
           {
            "colorbar": {
             "outlinewidth": 0,
             "ticks": ""
            },
            "type": "choropleth"
           }
          ],
          "contour": [
           {
            "colorbar": {
             "outlinewidth": 0,
             "ticks": ""
            },
            "colorscale": [
             [
              0,
              "#0d0887"
             ],
             [
              0.1111111111111111,
              "#46039f"
             ],
             [
              0.2222222222222222,
              "#7201a8"
             ],
             [
              0.3333333333333333,
              "#9c179e"
             ],
             [
              0.4444444444444444,
              "#bd3786"
             ],
             [
              0.5555555555555556,
              "#d8576b"
             ],
             [
              0.6666666666666666,
              "#ed7953"
             ],
             [
              0.7777777777777778,
              "#fb9f3a"
             ],
             [
              0.8888888888888888,
              "#fdca26"
             ],
             [
              1,
              "#f0f921"
             ]
            ],
            "type": "contour"
           }
          ],
          "contourcarpet": [
           {
            "colorbar": {
             "outlinewidth": 0,
             "ticks": ""
            },
            "type": "contourcarpet"
           }
          ],
          "heatmap": [
           {
            "colorbar": {
             "outlinewidth": 0,
             "ticks": ""
            },
            "colorscale": [
             [
              0,
              "#0d0887"
             ],
             [
              0.1111111111111111,
              "#46039f"
             ],
             [
              0.2222222222222222,
              "#7201a8"
             ],
             [
              0.3333333333333333,
              "#9c179e"
             ],
             [
              0.4444444444444444,
              "#bd3786"
             ],
             [
              0.5555555555555556,
              "#d8576b"
             ],
             [
              0.6666666666666666,
              "#ed7953"
             ],
             [
              0.7777777777777778,
              "#fb9f3a"
             ],
             [
              0.8888888888888888,
              "#fdca26"
             ],
             [
              1,
              "#f0f921"
             ]
            ],
            "type": "heatmap"
           }
          ],
          "heatmapgl": [
           {
            "colorbar": {
             "outlinewidth": 0,
             "ticks": ""
            },
            "colorscale": [
             [
              0,
              "#0d0887"
             ],
             [
              0.1111111111111111,
              "#46039f"
             ],
             [
              0.2222222222222222,
              "#7201a8"
             ],
             [
              0.3333333333333333,
              "#9c179e"
             ],
             [
              0.4444444444444444,
              "#bd3786"
             ],
             [
              0.5555555555555556,
              "#d8576b"
             ],
             [
              0.6666666666666666,
              "#ed7953"
             ],
             [
              0.7777777777777778,
              "#fb9f3a"
             ],
             [
              0.8888888888888888,
              "#fdca26"
             ],
             [
              1,
              "#f0f921"
             ]
            ],
            "type": "heatmapgl"
           }
          ],
          "histogram": [
           {
            "marker": {
             "pattern": {
              "fillmode": "overlay",
              "size": 10,
              "solidity": 0.2
             }
            },
            "type": "histogram"
           }
          ],
          "histogram2d": [
           {
            "colorbar": {
             "outlinewidth": 0,
             "ticks": ""
            },
            "colorscale": [
             [
              0,
              "#0d0887"
             ],
             [
              0.1111111111111111,
              "#46039f"
             ],
             [
              0.2222222222222222,
              "#7201a8"
             ],
             [
              0.3333333333333333,
              "#9c179e"
             ],
             [
              0.4444444444444444,
              "#bd3786"
             ],
             [
              0.5555555555555556,
              "#d8576b"
             ],
             [
              0.6666666666666666,
              "#ed7953"
             ],
             [
              0.7777777777777778,
              "#fb9f3a"
             ],
             [
              0.8888888888888888,
              "#fdca26"
             ],
             [
              1,
              "#f0f921"
             ]
            ],
            "type": "histogram2d"
           }
          ],
          "histogram2dcontour": [
           {
            "colorbar": {
             "outlinewidth": 0,
             "ticks": ""
            },
            "colorscale": [
             [
              0,
              "#0d0887"
             ],
             [
              0.1111111111111111,
              "#46039f"
             ],
             [
              0.2222222222222222,
              "#7201a8"
             ],
             [
              0.3333333333333333,
              "#9c179e"
             ],
             [
              0.4444444444444444,
              "#bd3786"
             ],
             [
              0.5555555555555556,
              "#d8576b"
             ],
             [
              0.6666666666666666,
              "#ed7953"
             ],
             [
              0.7777777777777778,
              "#fb9f3a"
             ],
             [
              0.8888888888888888,
              "#fdca26"
             ],
             [
              1,
              "#f0f921"
             ]
            ],
            "type": "histogram2dcontour"
           }
          ],
          "mesh3d": [
           {
            "colorbar": {
             "outlinewidth": 0,
             "ticks": ""
            },
            "type": "mesh3d"
           }
          ],
          "parcoords": [
           {
            "line": {
             "colorbar": {
              "outlinewidth": 0,
              "ticks": ""
             }
            },
            "type": "parcoords"
           }
          ],
          "pie": [
           {
            "automargin": true,
            "type": "pie"
           }
          ],
          "scatter": [
           {
            "fillpattern": {
             "fillmode": "overlay",
             "size": 10,
             "solidity": 0.2
            },
            "type": "scatter"
           }
          ],
          "scatter3d": [
           {
            "line": {
             "colorbar": {
              "outlinewidth": 0,
              "ticks": ""
             }
            },
            "marker": {
             "colorbar": {
              "outlinewidth": 0,
              "ticks": ""
             }
            },
            "type": "scatter3d"
           }
          ],
          "scattercarpet": [
           {
            "marker": {
             "colorbar": {
              "outlinewidth": 0,
              "ticks": ""
             }
            },
            "type": "scattercarpet"
           }
          ],
          "scattergeo": [
           {
            "marker": {
             "colorbar": {
              "outlinewidth": 0,
              "ticks": ""
             }
            },
            "type": "scattergeo"
           }
          ],
          "scattergl": [
           {
            "marker": {
             "colorbar": {
              "outlinewidth": 0,
              "ticks": ""
             }
            },
            "type": "scattergl"
           }
          ],
          "scattermapbox": [
           {
            "marker": {
             "colorbar": {
              "outlinewidth": 0,
              "ticks": ""
             }
            },
            "type": "scattermapbox"
           }
          ],
          "scatterpolar": [
           {
            "marker": {
             "colorbar": {
              "outlinewidth": 0,
              "ticks": ""
             }
            },
            "type": "scatterpolar"
           }
          ],
          "scatterpolargl": [
           {
            "marker": {
             "colorbar": {
              "outlinewidth": 0,
              "ticks": ""
             }
            },
            "type": "scatterpolargl"
           }
          ],
          "scatterternary": [
           {
            "marker": {
             "colorbar": {
              "outlinewidth": 0,
              "ticks": ""
             }
            },
            "type": "scatterternary"
           }
          ],
          "surface": [
           {
            "colorbar": {
             "outlinewidth": 0,
             "ticks": ""
            },
            "colorscale": [
             [
              0,
              "#0d0887"
             ],
             [
              0.1111111111111111,
              "#46039f"
             ],
             [
              0.2222222222222222,
              "#7201a8"
             ],
             [
              0.3333333333333333,
              "#9c179e"
             ],
             [
              0.4444444444444444,
              "#bd3786"
             ],
             [
              0.5555555555555556,
              "#d8576b"
             ],
             [
              0.6666666666666666,
              "#ed7953"
             ],
             [
              0.7777777777777778,
              "#fb9f3a"
             ],
             [
              0.8888888888888888,
              "#fdca26"
             ],
             [
              1,
              "#f0f921"
             ]
            ],
            "type": "surface"
           }
          ],
          "table": [
           {
            "cells": {
             "fill": {
              "color": "#EBF0F8"
             },
             "line": {
              "color": "white"
             }
            },
            "header": {
             "fill": {
              "color": "#C8D4E3"
             },
             "line": {
              "color": "white"
             }
            },
            "type": "table"
           }
          ]
         },
         "layout": {
          "annotationdefaults": {
           "arrowcolor": "#2a3f5f",
           "arrowhead": 0,
           "arrowwidth": 1
          },
          "autotypenumbers": "strict",
          "coloraxis": {
           "colorbar": {
            "outlinewidth": 0,
            "ticks": ""
           }
          },
          "colorscale": {
           "diverging": [
            [
             0,
             "#8e0152"
            ],
            [
             0.1,
             "#c51b7d"
            ],
            [
             0.2,
             "#de77ae"
            ],
            [
             0.3,
             "#f1b6da"
            ],
            [
             0.4,
             "#fde0ef"
            ],
            [
             0.5,
             "#f7f7f7"
            ],
            [
             0.6,
             "#e6f5d0"
            ],
            [
             0.7,
             "#b8e186"
            ],
            [
             0.8,
             "#7fbc41"
            ],
            [
             0.9,
             "#4d9221"
            ],
            [
             1,
             "#276419"
            ]
           ],
           "sequential": [
            [
             0,
             "#0d0887"
            ],
            [
             0.1111111111111111,
             "#46039f"
            ],
            [
             0.2222222222222222,
             "#7201a8"
            ],
            [
             0.3333333333333333,
             "#9c179e"
            ],
            [
             0.4444444444444444,
             "#bd3786"
            ],
            [
             0.5555555555555556,
             "#d8576b"
            ],
            [
             0.6666666666666666,
             "#ed7953"
            ],
            [
             0.7777777777777778,
             "#fb9f3a"
            ],
            [
             0.8888888888888888,
             "#fdca26"
            ],
            [
             1,
             "#f0f921"
            ]
           ],
           "sequentialminus": [
            [
             0,
             "#0d0887"
            ],
            [
             0.1111111111111111,
             "#46039f"
            ],
            [
             0.2222222222222222,
             "#7201a8"
            ],
            [
             0.3333333333333333,
             "#9c179e"
            ],
            [
             0.4444444444444444,
             "#bd3786"
            ],
            [
             0.5555555555555556,
             "#d8576b"
            ],
            [
             0.6666666666666666,
             "#ed7953"
            ],
            [
             0.7777777777777778,
             "#fb9f3a"
            ],
            [
             0.8888888888888888,
             "#fdca26"
            ],
            [
             1,
             "#f0f921"
            ]
           ]
          },
          "colorway": [
           "#636efa",
           "#EF553B",
           "#00cc96",
           "#ab63fa",
           "#FFA15A",
           "#19d3f3",
           "#FF6692",
           "#B6E880",
           "#FF97FF",
           "#FECB52"
          ],
          "font": {
           "color": "#2a3f5f"
          },
          "geo": {
           "bgcolor": "white",
           "lakecolor": "white",
           "landcolor": "#E5ECF6",
           "showlakes": true,
           "showland": true,
           "subunitcolor": "white"
          },
          "hoverlabel": {
           "align": "left"
          },
          "hovermode": "closest",
          "mapbox": {
           "style": "light"
          },
          "paper_bgcolor": "white",
          "plot_bgcolor": "#E5ECF6",
          "polar": {
           "angularaxis": {
            "gridcolor": "white",
            "linecolor": "white",
            "ticks": ""
           },
           "bgcolor": "#E5ECF6",
           "radialaxis": {
            "gridcolor": "white",
            "linecolor": "white",
            "ticks": ""
           }
          },
          "scene": {
           "xaxis": {
            "backgroundcolor": "#E5ECF6",
            "gridcolor": "white",
            "gridwidth": 2,
            "linecolor": "white",
            "showbackground": true,
            "ticks": "",
            "zerolinecolor": "white"
           },
           "yaxis": {
            "backgroundcolor": "#E5ECF6",
            "gridcolor": "white",
            "gridwidth": 2,
            "linecolor": "white",
            "showbackground": true,
            "ticks": "",
            "zerolinecolor": "white"
           },
           "zaxis": {
            "backgroundcolor": "#E5ECF6",
            "gridcolor": "white",
            "gridwidth": 2,
            "linecolor": "white",
            "showbackground": true,
            "ticks": "",
            "zerolinecolor": "white"
           }
          },
          "shapedefaults": {
           "line": {
            "color": "#2a3f5f"
           }
          },
          "ternary": {
           "aaxis": {
            "gridcolor": "white",
            "linecolor": "white",
            "ticks": ""
           },
           "baxis": {
            "gridcolor": "white",
            "linecolor": "white",
            "ticks": ""
           },
           "bgcolor": "#E5ECF6",
           "caxis": {
            "gridcolor": "white",
            "linecolor": "white",
            "ticks": ""
           }
          },
          "title": {
           "x": 0.05
          },
          "xaxis": {
           "automargin": true,
           "gridcolor": "white",
           "linecolor": "white",
           "ticks": "",
           "title": {
            "standoff": 15
           },
           "zerolinecolor": "white",
           "zerolinewidth": 2
          },
          "yaxis": {
           "automargin": true,
           "gridcolor": "white",
           "linecolor": "white",
           "ticks": "",
           "title": {
            "standoff": 15
           },
           "zerolinecolor": "white",
           "zerolinewidth": 2
          }
         }
        },
        "title": {
         "font": {
          "color": "#351f39",
          "family": "Courier New"
         },
         "text": "Caste distribution of candidates"
        },
        "xaxis": {
         "anchor": "y",
         "domain": [
          0,
          1
         ],
         "title": {
          "text": "Caste"
         }
        },
        "yaxis": {
         "anchor": "x",
         "domain": [
          0,
          1
         ],
         "title": {
          "text": "Count"
         }
        }
       }
      },
      "text/html": [
       "<div>                            <div id=\"688ca7f8-9017-4467-bc6f-a78ea2c7e548\" class=\"plotly-graph-div\" style=\"height:525px; width:100%;\"></div>            <script type=\"text/javascript\">                require([\"plotly\"], function(Plotly) {                    window.PLOTLYENV=window.PLOTLYENV || {};                                    if (document.getElementById(\"688ca7f8-9017-4467-bc6f-a78ea2c7e548\")) {                    Plotly.newPlot(                        \"688ca7f8-9017-4467-bc6f-a78ea2c7e548\",                        [{\"alignmentgroup\":\"True\",\"hovertemplate\":\"Category=Winner\\u003cbr\\u003eCATEGORY=%{x}\\u003cbr\\u003eWINNER=%{y}\\u003cextra\\u003e\\u003c\\u002fextra\\u003e\",\"legendgroup\":\"Winner\",\"marker\":{\"color\":\"#636efa\",\"pattern\":{\"shape\":\"\"}},\"name\":\"Winner\",\"offsetgroup\":\"Winner\",\"orientation\":\"v\",\"showlegend\":true,\"textposition\":\"auto\",\"x\":[\"GENERAL\",\"SC\",\"ST\"],\"xaxis\":\"x\",\"y\":[399,85,55],\"yaxis\":\"y\",\"type\":\"bar\"},{\"alignmentgroup\":\"True\",\"hovertemplate\":\"Category=Total\\u003cbr\\u003eCATEGORY=%{x}\\u003cbr\\u003eWINNER=%{y}\\u003cextra\\u003e\\u003c\\u002fextra\\u003e\",\"legendgroup\":\"Total\",\"marker\":{\"color\":\"#EF553B\",\"pattern\":{\"shape\":\"\"}},\"name\":\"Total\",\"offsetgroup\":\"Total\",\"orientation\":\"v\",\"showlegend\":true,\"textposition\":\"auto\",\"x\":[\"GENERAL\",\"SC\",\"ST\"],\"xaxis\":\"x\",\"y\":[1373,380,243],\"yaxis\":\"y\",\"type\":\"bar\"}],                        {\"template\":{\"data\":{\"histogram2dcontour\":[{\"type\":\"histogram2dcontour\",\"colorbar\":{\"outlinewidth\":0,\"ticks\":\"\"},\"colorscale\":[[0.0,\"#0d0887\"],[0.1111111111111111,\"#46039f\"],[0.2222222222222222,\"#7201a8\"],[0.3333333333333333,\"#9c179e\"],[0.4444444444444444,\"#bd3786\"],[0.5555555555555556,\"#d8576b\"],[0.6666666666666666,\"#ed7953\"],[0.7777777777777778,\"#fb9f3a\"],[0.8888888888888888,\"#fdca26\"],[1.0,\"#f0f921\"]]}],\"choropleth\":[{\"type\":\"choropleth\",\"colorbar\":{\"outlinewidth\":0,\"ticks\":\"\"}}],\"histogram2d\":[{\"type\":\"histogram2d\",\"colorbar\":{\"outlinewidth\":0,\"ticks\":\"\"},\"colorscale\":[[0.0,\"#0d0887\"],[0.1111111111111111,\"#46039f\"],[0.2222222222222222,\"#7201a8\"],[0.3333333333333333,\"#9c179e\"],[0.4444444444444444,\"#bd3786\"],[0.5555555555555556,\"#d8576b\"],[0.6666666666666666,\"#ed7953\"],[0.7777777777777778,\"#fb9f3a\"],[0.8888888888888888,\"#fdca26\"],[1.0,\"#f0f921\"]]}],\"heatmap\":[{\"type\":\"heatmap\",\"colorbar\":{\"outlinewidth\":0,\"ticks\":\"\"},\"colorscale\":[[0.0,\"#0d0887\"],[0.1111111111111111,\"#46039f\"],[0.2222222222222222,\"#7201a8\"],[0.3333333333333333,\"#9c179e\"],[0.4444444444444444,\"#bd3786\"],[0.5555555555555556,\"#d8576b\"],[0.6666666666666666,\"#ed7953\"],[0.7777777777777778,\"#fb9f3a\"],[0.8888888888888888,\"#fdca26\"],[1.0,\"#f0f921\"]]}],\"heatmapgl\":[{\"type\":\"heatmapgl\",\"colorbar\":{\"outlinewidth\":0,\"ticks\":\"\"},\"colorscale\":[[0.0,\"#0d0887\"],[0.1111111111111111,\"#46039f\"],[0.2222222222222222,\"#7201a8\"],[0.3333333333333333,\"#9c179e\"],[0.4444444444444444,\"#bd3786\"],[0.5555555555555556,\"#d8576b\"],[0.6666666666666666,\"#ed7953\"],[0.7777777777777778,\"#fb9f3a\"],[0.8888888888888888,\"#fdca26\"],[1.0,\"#f0f921\"]]}],\"contourcarpet\":[{\"type\":\"contourcarpet\",\"colorbar\":{\"outlinewidth\":0,\"ticks\":\"\"}}],\"contour\":[{\"type\":\"contour\",\"colorbar\":{\"outlinewidth\":0,\"ticks\":\"\"},\"colorscale\":[[0.0,\"#0d0887\"],[0.1111111111111111,\"#46039f\"],[0.2222222222222222,\"#7201a8\"],[0.3333333333333333,\"#9c179e\"],[0.4444444444444444,\"#bd3786\"],[0.5555555555555556,\"#d8576b\"],[0.6666666666666666,\"#ed7953\"],[0.7777777777777778,\"#fb9f3a\"],[0.8888888888888888,\"#fdca26\"],[1.0,\"#f0f921\"]]}],\"surface\":[{\"type\":\"surface\",\"colorbar\":{\"outlinewidth\":0,\"ticks\":\"\"},\"colorscale\":[[0.0,\"#0d0887\"],[0.1111111111111111,\"#46039f\"],[0.2222222222222222,\"#7201a8\"],[0.3333333333333333,\"#9c179e\"],[0.4444444444444444,\"#bd3786\"],[0.5555555555555556,\"#d8576b\"],[0.6666666666666666,\"#ed7953\"],[0.7777777777777778,\"#fb9f3a\"],[0.8888888888888888,\"#fdca26\"],[1.0,\"#f0f921\"]]}],\"mesh3d\":[{\"type\":\"mesh3d\",\"colorbar\":{\"outlinewidth\":0,\"ticks\":\"\"}}],\"scatter\":[{\"fillpattern\":{\"fillmode\":\"overlay\",\"size\":10,\"solidity\":0.2},\"type\":\"scatter\"}],\"parcoords\":[{\"type\":\"parcoords\",\"line\":{\"colorbar\":{\"outlinewidth\":0,\"ticks\":\"\"}}}],\"scatterpolargl\":[{\"type\":\"scatterpolargl\",\"marker\":{\"colorbar\":{\"outlinewidth\":0,\"ticks\":\"\"}}}],\"bar\":[{\"error_x\":{\"color\":\"#2a3f5f\"},\"error_y\":{\"color\":\"#2a3f5f\"},\"marker\":{\"line\":{\"color\":\"#E5ECF6\",\"width\":0.5},\"pattern\":{\"fillmode\":\"overlay\",\"size\":10,\"solidity\":0.2}},\"type\":\"bar\"}],\"scattergeo\":[{\"type\":\"scattergeo\",\"marker\":{\"colorbar\":{\"outlinewidth\":0,\"ticks\":\"\"}}}],\"scatterpolar\":[{\"type\":\"scatterpolar\",\"marker\":{\"colorbar\":{\"outlinewidth\":0,\"ticks\":\"\"}}}],\"histogram\":[{\"marker\":{\"pattern\":{\"fillmode\":\"overlay\",\"size\":10,\"solidity\":0.2}},\"type\":\"histogram\"}],\"scattergl\":[{\"type\":\"scattergl\",\"marker\":{\"colorbar\":{\"outlinewidth\":0,\"ticks\":\"\"}}}],\"scatter3d\":[{\"type\":\"scatter3d\",\"line\":{\"colorbar\":{\"outlinewidth\":0,\"ticks\":\"\"}},\"marker\":{\"colorbar\":{\"outlinewidth\":0,\"ticks\":\"\"}}}],\"scattermapbox\":[{\"type\":\"scattermapbox\",\"marker\":{\"colorbar\":{\"outlinewidth\":0,\"ticks\":\"\"}}}],\"scatterternary\":[{\"type\":\"scatterternary\",\"marker\":{\"colorbar\":{\"outlinewidth\":0,\"ticks\":\"\"}}}],\"scattercarpet\":[{\"type\":\"scattercarpet\",\"marker\":{\"colorbar\":{\"outlinewidth\":0,\"ticks\":\"\"}}}],\"carpet\":[{\"aaxis\":{\"endlinecolor\":\"#2a3f5f\",\"gridcolor\":\"white\",\"linecolor\":\"white\",\"minorgridcolor\":\"white\",\"startlinecolor\":\"#2a3f5f\"},\"baxis\":{\"endlinecolor\":\"#2a3f5f\",\"gridcolor\":\"white\",\"linecolor\":\"white\",\"minorgridcolor\":\"white\",\"startlinecolor\":\"#2a3f5f\"},\"type\":\"carpet\"}],\"table\":[{\"cells\":{\"fill\":{\"color\":\"#EBF0F8\"},\"line\":{\"color\":\"white\"}},\"header\":{\"fill\":{\"color\":\"#C8D4E3\"},\"line\":{\"color\":\"white\"}},\"type\":\"table\"}],\"barpolar\":[{\"marker\":{\"line\":{\"color\":\"#E5ECF6\",\"width\":0.5},\"pattern\":{\"fillmode\":\"overlay\",\"size\":10,\"solidity\":0.2}},\"type\":\"barpolar\"}],\"pie\":[{\"automargin\":true,\"type\":\"pie\"}]},\"layout\":{\"autotypenumbers\":\"strict\",\"colorway\":[\"#636efa\",\"#EF553B\",\"#00cc96\",\"#ab63fa\",\"#FFA15A\",\"#19d3f3\",\"#FF6692\",\"#B6E880\",\"#FF97FF\",\"#FECB52\"],\"font\":{\"color\":\"#2a3f5f\"},\"hovermode\":\"closest\",\"hoverlabel\":{\"align\":\"left\"},\"paper_bgcolor\":\"white\",\"plot_bgcolor\":\"#E5ECF6\",\"polar\":{\"bgcolor\":\"#E5ECF6\",\"angularaxis\":{\"gridcolor\":\"white\",\"linecolor\":\"white\",\"ticks\":\"\"},\"radialaxis\":{\"gridcolor\":\"white\",\"linecolor\":\"white\",\"ticks\":\"\"}},\"ternary\":{\"bgcolor\":\"#E5ECF6\",\"aaxis\":{\"gridcolor\":\"white\",\"linecolor\":\"white\",\"ticks\":\"\"},\"baxis\":{\"gridcolor\":\"white\",\"linecolor\":\"white\",\"ticks\":\"\"},\"caxis\":{\"gridcolor\":\"white\",\"linecolor\":\"white\",\"ticks\":\"\"}},\"coloraxis\":{\"colorbar\":{\"outlinewidth\":0,\"ticks\":\"\"}},\"colorscale\":{\"sequential\":[[0.0,\"#0d0887\"],[0.1111111111111111,\"#46039f\"],[0.2222222222222222,\"#7201a8\"],[0.3333333333333333,\"#9c179e\"],[0.4444444444444444,\"#bd3786\"],[0.5555555555555556,\"#d8576b\"],[0.6666666666666666,\"#ed7953\"],[0.7777777777777778,\"#fb9f3a\"],[0.8888888888888888,\"#fdca26\"],[1.0,\"#f0f921\"]],\"sequentialminus\":[[0.0,\"#0d0887\"],[0.1111111111111111,\"#46039f\"],[0.2222222222222222,\"#7201a8\"],[0.3333333333333333,\"#9c179e\"],[0.4444444444444444,\"#bd3786\"],[0.5555555555555556,\"#d8576b\"],[0.6666666666666666,\"#ed7953\"],[0.7777777777777778,\"#fb9f3a\"],[0.8888888888888888,\"#fdca26\"],[1.0,\"#f0f921\"]],\"diverging\":[[0,\"#8e0152\"],[0.1,\"#c51b7d\"],[0.2,\"#de77ae\"],[0.3,\"#f1b6da\"],[0.4,\"#fde0ef\"],[0.5,\"#f7f7f7\"],[0.6,\"#e6f5d0\"],[0.7,\"#b8e186\"],[0.8,\"#7fbc41\"],[0.9,\"#4d9221\"],[1,\"#276419\"]]},\"xaxis\":{\"gridcolor\":\"white\",\"linecolor\":\"white\",\"ticks\":\"\",\"title\":{\"standoff\":15},\"zerolinecolor\":\"white\",\"automargin\":true,\"zerolinewidth\":2},\"yaxis\":{\"gridcolor\":\"white\",\"linecolor\":\"white\",\"ticks\":\"\",\"title\":{\"standoff\":15},\"zerolinecolor\":\"white\",\"automargin\":true,\"zerolinewidth\":2},\"scene\":{\"xaxis\":{\"backgroundcolor\":\"#E5ECF6\",\"gridcolor\":\"white\",\"linecolor\":\"white\",\"showbackground\":true,\"ticks\":\"\",\"zerolinecolor\":\"white\",\"gridwidth\":2},\"yaxis\":{\"backgroundcolor\":\"#E5ECF6\",\"gridcolor\":\"white\",\"linecolor\":\"white\",\"showbackground\":true,\"ticks\":\"\",\"zerolinecolor\":\"white\",\"gridwidth\":2},\"zaxis\":{\"backgroundcolor\":\"#E5ECF6\",\"gridcolor\":\"white\",\"linecolor\":\"white\",\"showbackground\":true,\"ticks\":\"\",\"zerolinecolor\":\"white\",\"gridwidth\":2}},\"shapedefaults\":{\"line\":{\"color\":\"#2a3f5f\"}},\"annotationdefaults\":{\"arrowcolor\":\"#2a3f5f\",\"arrowhead\":0,\"arrowwidth\":1},\"geo\":{\"bgcolor\":\"white\",\"landcolor\":\"#E5ECF6\",\"subunitcolor\":\"white\",\"showland\":true,\"showlakes\":true,\"lakecolor\":\"white\"},\"title\":{\"x\":0.05},\"mapbox\":{\"style\":\"light\"}}},\"xaxis\":{\"anchor\":\"y\",\"domain\":[0.0,1.0],\"title\":{\"text\":\"Caste\"}},\"yaxis\":{\"anchor\":\"x\",\"domain\":[0.0,1.0],\"title\":{\"text\":\"Count\"}},\"legend\":{\"title\":{\"text\":\"Category\"},\"tracegroupgap\":0},\"margin\":{\"t\":60},\"barmode\":\"group\",\"font\":{\"family\":\"Courier New\",\"color\":\"#351f39\"},\"title\":{\"font\":{\"family\":\"Courier New\",\"color\":\"#351f39\"},\"text\":\"Caste distribution of candidates\"}},                        {\"responsive\": true}                    ).then(function(){\n",
       "                            \n",
       "var gd = document.getElementById('688ca7f8-9017-4467-bc6f-a78ea2c7e548');\n",
       "var x = new MutationObserver(function (mutations, observer) {{\n",
       "        var display = window.getComputedStyle(gd).display;\n",
       "        if (!display || display === 'none') {{\n",
       "            console.log([gd, 'removed!']);\n",
       "            Plotly.purge(gd);\n",
       "            observer.disconnect();\n",
       "        }}\n",
       "}});\n",
       "\n",
       "// Listen for the removal of the full notebook cells\n",
       "var notebookContainer = gd.closest('#notebook-container');\n",
       "if (notebookContainer) {{\n",
       "    x.observe(notebookContainer, {childList: true});\n",
       "}}\n",
       "\n",
       "// Listen for the clearing of the current output cell\n",
       "var outputEl = gd.closest('.output');\n",
       "if (outputEl) {{\n",
       "    x.observe(outputEl, {childList: true});\n",
       "}}\n",
       "\n",
       "                        })                };                });            </script>        </div>"
      ]
     },
     "metadata": {},
     "output_type": "display_data"
    }
   ],
   "source": [
    "# Create a dataframe containing the caste distribution of winners\n",
    "winner_caste = df[df['WINNER'] == 1].groupby('CATEGORY')['WINNER'].size()\n",
    "winner_caste_df = pd.DataFrame(data=winner_caste)\n",
    "winner_caste_df.reset_index(level=0, inplace=True)\n",
    "winner_caste_df['Category'] = 'Winner'\n",
    "\n",
    "# Create a dataframe containing the caste distribution of total number of candidates\n",
    "total_caste = df.groupby('CATEGORY').size()\n",
    "total_caste_df = pd.DataFrame(data=total_caste)\n",
    "total_caste_df.reset_index(level=0, inplace=True)\n",
    "total_caste_df['Category'] = 'Total'\n",
    "total_caste_df.rename(columns={0: \"WINNER\"}, inplace=True)\n",
    "\n",
    "# Concatenate the two dataframes\n",
    "winner_caste_df = pd.concat((winner_caste_df, total_caste_df))\n",
    "\n",
    "# Visualize the results\n",
    "caste_fig = px.bar(winner_caste_df, \n",
    "                   x='CATEGORY', \n",
    "                   y='WINNER',\n",
    "                   color='Category', \n",
    "                   barmode='group')\n",
    "caste_fig.update_layout(font_family=\"Courier New\",\n",
    "                        font_color=\"#351f39\",\n",
    "                        title_text='Caste distribution of candidates',\n",
    "                        title_font_family=\"Courier New\",\n",
    "                        title_font_color=\"#351f39\",\n",
    "                        xaxis_title='Caste',\n",
    "                        yaxis_title='Count')\n",
    "caste_fig.show()"
   ]
  },
  {
   "cell_type": "code",
   "execution_count": 30,
   "metadata": {},
   "outputs": [
    {
     "name": "stderr",
     "output_type": "stream",
     "text": [
      "C:\\Users\\Hp\\AppData\\Local\\Packages\\PythonSoftwareFoundation.Python.3.11_qbz5n2kfra8p0\\LocalCache\\local-packages\\Python311\\site-packages\\plotly\\express\\_core.py:2065: FutureWarning:\n",
      "\n",
      "When grouping with a length-1 list-like, you will need to pass a length-1 tuple to get_group in a future version of pandas. Pass `(name,)` instead of `name` to silence this warning.\n",
      "\n"
     ]
    },
    {
     "data": {
      "application/vnd.plotly.v1+json": {
       "config": {
        "plotlyServerURL": "https://plot.ly"
       },
       "data": [
        {
         "hovertemplate": "PARTY=%{x}<br>CRIMINALCASES=%{marker.size}<extra></extra>",
         "legendgroup": "BJP",
         "marker": {
          "color": "#636efa",
          "size": [
           403
          ],
          "sizemode": "area",
          "sizeref": 1.0075,
          "symbol": "circle"
         },
         "mode": "markers",
         "name": "BJP",
         "orientation": "v",
         "showlegend": true,
         "type": "scatter",
         "x": [
          "BJP"
         ],
         "xaxis": "x",
         "y": [
          403
         ],
         "yaxis": "y"
        },
        {
         "hovertemplate": "PARTY=%{x}<br>CRIMINALCASES=%{marker.size}<extra></extra>",
         "legendgroup": "INC",
         "marker": {
          "color": "#EF553B",
          "size": [
           355
          ],
          "sizemode": "area",
          "sizeref": 1.0075,
          "symbol": "circle"
         },
         "mode": "markers",
         "name": "INC",
         "orientation": "v",
         "showlegend": true,
         "type": "scatter",
         "x": [
          "INC"
         ],
         "xaxis": "x",
         "y": [
          355
         ],
         "yaxis": "y"
        },
        {
         "hovertemplate": "PARTY=%{x}<br>CRIMINALCASES=%{marker.size}<extra></extra>",
         "legendgroup": "SHS",
         "marker": {
          "color": "#00cc96",
          "size": [
           35
          ],
          "sizemode": "area",
          "sizeref": 1.0075,
          "symbol": "circle"
         },
         "mode": "markers",
         "name": "SHS",
         "orientation": "v",
         "showlegend": true,
         "type": "scatter",
         "x": [
          "SHS"
         ],
         "xaxis": "x",
         "y": [
          35
         ],
         "yaxis": "y"
        },
        {
         "hovertemplate": "PARTY=%{x}<br>CRIMINALCASES=%{marker.size}<extra></extra>",
         "legendgroup": "BSP",
         "marker": {
          "color": "#ab63fa",
          "size": [
           32
          ],
          "sizemode": "area",
          "sizeref": 1.0075,
          "symbol": "circle"
         },
         "mode": "markers",
         "name": "BSP",
         "orientation": "v",
         "showlegend": true,
         "type": "scatter",
         "x": [
          "BSP"
         ],
         "xaxis": "x",
         "y": [
          32
         ],
         "yaxis": "y"
        },
        {
         "hovertemplate": "PARTY=%{x}<br>CRIMINALCASES=%{marker.size}<extra></extra>",
         "legendgroup": "JD(U)",
         "marker": {
          "color": "#FFA15A",
          "size": [
           31
          ],
          "sizemode": "area",
          "sizeref": 1.0075,
          "symbol": "circle"
         },
         "mode": "markers",
         "name": "JD(U)",
         "orientation": "v",
         "showlegend": true,
         "type": "scatter",
         "x": [
          "JD(U)"
         ],
         "xaxis": "x",
         "y": [
          31
         ],
         "yaxis": "y"
        },
        {
         "hovertemplate": "PARTY=%{x}<br>CRIMINALCASES=%{marker.size}<extra></extra>",
         "legendgroup": "DMK",
         "marker": {
          "color": "#19d3f3",
          "size": [
           28
          ],
          "sizemode": "area",
          "sizeref": 1.0075,
          "symbol": "circle"
         },
         "mode": "markers",
         "name": "DMK",
         "orientation": "v",
         "showlegend": true,
         "type": "scatter",
         "x": [
          "DMK"
         ],
         "xaxis": "x",
         "y": [
          28
         ],
         "yaxis": "y"
        },
        {
         "hovertemplate": "PARTY=%{x}<br>CRIMINALCASES=%{marker.size}<extra></extra>",
         "legendgroup": "YSRCP",
         "marker": {
          "color": "#FF6692",
          "size": [
           24
          ],
          "sizemode": "area",
          "sizeref": 1.0075,
          "symbol": "circle"
         },
         "mode": "markers",
         "name": "YSRCP",
         "orientation": "v",
         "showlegend": true,
         "type": "scatter",
         "x": [
          "YSRCP"
         ],
         "xaxis": "x",
         "y": [
          24
         ],
         "yaxis": "y"
        },
        {
         "hovertemplate": "PARTY=%{x}<br>CRIMINALCASES=%{marker.size}<extra></extra>",
         "legendgroup": "TRS",
         "marker": {
          "color": "#B6E880",
          "size": [
           24
          ],
          "sizemode": "area",
          "sizeref": 1.0075,
          "symbol": "circle"
         },
         "mode": "markers",
         "name": "TRS",
         "orientation": "v",
         "showlegend": true,
         "type": "scatter",
         "x": [
          "TRS"
         ],
         "xaxis": "x",
         "y": [
          24
         ],
         "yaxis": "y"
        },
        {
         "hovertemplate": "PARTY=%{x}<br>CRIMINALCASES=%{marker.size}<extra></extra>",
         "legendgroup": "AITC",
         "marker": {
          "color": "#FF97FF",
          "size": [
           17
          ],
          "sizemode": "area",
          "sizeref": 1.0075,
          "symbol": "circle"
         },
         "mode": "markers",
         "name": "AITC",
         "orientation": "v",
         "showlegend": true,
         "type": "scatter",
         "x": [
          "AITC"
         ],
         "xaxis": "x",
         "y": [
          17
         ],
         "yaxis": "y"
        },
        {
         "hovertemplate": "PARTY=%{x}<br>CRIMINALCASES=%{marker.size}<extra></extra>",
         "legendgroup": "LJP",
         "marker": {
          "color": "#FECB52",
          "size": [
           12
          ],
          "sizemode": "area",
          "sizeref": 1.0075,
          "symbol": "circle"
         },
         "mode": "markers",
         "name": "LJP",
         "orientation": "v",
         "showlegend": true,
         "type": "scatter",
         "x": [
          "LJP"
         ],
         "xaxis": "x",
         "y": [
          12
         ],
         "yaxis": "y"
        }
       ],
       "layout": {
        "font": {
         "color": "#351f39",
         "family": "Courier New"
        },
        "legend": {
         "itemsizing": "constant",
         "title": {
          "text": "PARTY"
         },
         "tracegroupgap": 0
        },
        "margin": {
         "t": 60
        },
        "template": {
         "data": {
          "bar": [
           {
            "error_x": {
             "color": "#2a3f5f"
            },
            "error_y": {
             "color": "#2a3f5f"
            },
            "marker": {
             "line": {
              "color": "#E5ECF6",
              "width": 0.5
             },
             "pattern": {
              "fillmode": "overlay",
              "size": 10,
              "solidity": 0.2
             }
            },
            "type": "bar"
           }
          ],
          "barpolar": [
           {
            "marker": {
             "line": {
              "color": "#E5ECF6",
              "width": 0.5
             },
             "pattern": {
              "fillmode": "overlay",
              "size": 10,
              "solidity": 0.2
             }
            },
            "type": "barpolar"
           }
          ],
          "carpet": [
           {
            "aaxis": {
             "endlinecolor": "#2a3f5f",
             "gridcolor": "white",
             "linecolor": "white",
             "minorgridcolor": "white",
             "startlinecolor": "#2a3f5f"
            },
            "baxis": {
             "endlinecolor": "#2a3f5f",
             "gridcolor": "white",
             "linecolor": "white",
             "minorgridcolor": "white",
             "startlinecolor": "#2a3f5f"
            },
            "type": "carpet"
           }
          ],
          "choropleth": [
           {
            "colorbar": {
             "outlinewidth": 0,
             "ticks": ""
            },
            "type": "choropleth"
           }
          ],
          "contour": [
           {
            "colorbar": {
             "outlinewidth": 0,
             "ticks": ""
            },
            "colorscale": [
             [
              0,
              "#0d0887"
             ],
             [
              0.1111111111111111,
              "#46039f"
             ],
             [
              0.2222222222222222,
              "#7201a8"
             ],
             [
              0.3333333333333333,
              "#9c179e"
             ],
             [
              0.4444444444444444,
              "#bd3786"
             ],
             [
              0.5555555555555556,
              "#d8576b"
             ],
             [
              0.6666666666666666,
              "#ed7953"
             ],
             [
              0.7777777777777778,
              "#fb9f3a"
             ],
             [
              0.8888888888888888,
              "#fdca26"
             ],
             [
              1,
              "#f0f921"
             ]
            ],
            "type": "contour"
           }
          ],
          "contourcarpet": [
           {
            "colorbar": {
             "outlinewidth": 0,
             "ticks": ""
            },
            "type": "contourcarpet"
           }
          ],
          "heatmap": [
           {
            "colorbar": {
             "outlinewidth": 0,
             "ticks": ""
            },
            "colorscale": [
             [
              0,
              "#0d0887"
             ],
             [
              0.1111111111111111,
              "#46039f"
             ],
             [
              0.2222222222222222,
              "#7201a8"
             ],
             [
              0.3333333333333333,
              "#9c179e"
             ],
             [
              0.4444444444444444,
              "#bd3786"
             ],
             [
              0.5555555555555556,
              "#d8576b"
             ],
             [
              0.6666666666666666,
              "#ed7953"
             ],
             [
              0.7777777777777778,
              "#fb9f3a"
             ],
             [
              0.8888888888888888,
              "#fdca26"
             ],
             [
              1,
              "#f0f921"
             ]
            ],
            "type": "heatmap"
           }
          ],
          "heatmapgl": [
           {
            "colorbar": {
             "outlinewidth": 0,
             "ticks": ""
            },
            "colorscale": [
             [
              0,
              "#0d0887"
             ],
             [
              0.1111111111111111,
              "#46039f"
             ],
             [
              0.2222222222222222,
              "#7201a8"
             ],
             [
              0.3333333333333333,
              "#9c179e"
             ],
             [
              0.4444444444444444,
              "#bd3786"
             ],
             [
              0.5555555555555556,
              "#d8576b"
             ],
             [
              0.6666666666666666,
              "#ed7953"
             ],
             [
              0.7777777777777778,
              "#fb9f3a"
             ],
             [
              0.8888888888888888,
              "#fdca26"
             ],
             [
              1,
              "#f0f921"
             ]
            ],
            "type": "heatmapgl"
           }
          ],
          "histogram": [
           {
            "marker": {
             "pattern": {
              "fillmode": "overlay",
              "size": 10,
              "solidity": 0.2
             }
            },
            "type": "histogram"
           }
          ],
          "histogram2d": [
           {
            "colorbar": {
             "outlinewidth": 0,
             "ticks": ""
            },
            "colorscale": [
             [
              0,
              "#0d0887"
             ],
             [
              0.1111111111111111,
              "#46039f"
             ],
             [
              0.2222222222222222,
              "#7201a8"
             ],
             [
              0.3333333333333333,
              "#9c179e"
             ],
             [
              0.4444444444444444,
              "#bd3786"
             ],
             [
              0.5555555555555556,
              "#d8576b"
             ],
             [
              0.6666666666666666,
              "#ed7953"
             ],
             [
              0.7777777777777778,
              "#fb9f3a"
             ],
             [
              0.8888888888888888,
              "#fdca26"
             ],
             [
              1,
              "#f0f921"
             ]
            ],
            "type": "histogram2d"
           }
          ],
          "histogram2dcontour": [
           {
            "colorbar": {
             "outlinewidth": 0,
             "ticks": ""
            },
            "colorscale": [
             [
              0,
              "#0d0887"
             ],
             [
              0.1111111111111111,
              "#46039f"
             ],
             [
              0.2222222222222222,
              "#7201a8"
             ],
             [
              0.3333333333333333,
              "#9c179e"
             ],
             [
              0.4444444444444444,
              "#bd3786"
             ],
             [
              0.5555555555555556,
              "#d8576b"
             ],
             [
              0.6666666666666666,
              "#ed7953"
             ],
             [
              0.7777777777777778,
              "#fb9f3a"
             ],
             [
              0.8888888888888888,
              "#fdca26"
             ],
             [
              1,
              "#f0f921"
             ]
            ],
            "type": "histogram2dcontour"
           }
          ],
          "mesh3d": [
           {
            "colorbar": {
             "outlinewidth": 0,
             "ticks": ""
            },
            "type": "mesh3d"
           }
          ],
          "parcoords": [
           {
            "line": {
             "colorbar": {
              "outlinewidth": 0,
              "ticks": ""
             }
            },
            "type": "parcoords"
           }
          ],
          "pie": [
           {
            "automargin": true,
            "type": "pie"
           }
          ],
          "scatter": [
           {
            "fillpattern": {
             "fillmode": "overlay",
             "size": 10,
             "solidity": 0.2
            },
            "type": "scatter"
           }
          ],
          "scatter3d": [
           {
            "line": {
             "colorbar": {
              "outlinewidth": 0,
              "ticks": ""
             }
            },
            "marker": {
             "colorbar": {
              "outlinewidth": 0,
              "ticks": ""
             }
            },
            "type": "scatter3d"
           }
          ],
          "scattercarpet": [
           {
            "marker": {
             "colorbar": {
              "outlinewidth": 0,
              "ticks": ""
             }
            },
            "type": "scattercarpet"
           }
          ],
          "scattergeo": [
           {
            "marker": {
             "colorbar": {
              "outlinewidth": 0,
              "ticks": ""
             }
            },
            "type": "scattergeo"
           }
          ],
          "scattergl": [
           {
            "marker": {
             "colorbar": {
              "outlinewidth": 0,
              "ticks": ""
             }
            },
            "type": "scattergl"
           }
          ],
          "scattermapbox": [
           {
            "marker": {
             "colorbar": {
              "outlinewidth": 0,
              "ticks": ""
             }
            },
            "type": "scattermapbox"
           }
          ],
          "scatterpolar": [
           {
            "marker": {
             "colorbar": {
              "outlinewidth": 0,
              "ticks": ""
             }
            },
            "type": "scatterpolar"
           }
          ],
          "scatterpolargl": [
           {
            "marker": {
             "colorbar": {
              "outlinewidth": 0,
              "ticks": ""
             }
            },
            "type": "scatterpolargl"
           }
          ],
          "scatterternary": [
           {
            "marker": {
             "colorbar": {
              "outlinewidth": 0,
              "ticks": ""
             }
            },
            "type": "scatterternary"
           }
          ],
          "surface": [
           {
            "colorbar": {
             "outlinewidth": 0,
             "ticks": ""
            },
            "colorscale": [
             [
              0,
              "#0d0887"
             ],
             [
              0.1111111111111111,
              "#46039f"
             ],
             [
              0.2222222222222222,
              "#7201a8"
             ],
             [
              0.3333333333333333,
              "#9c179e"
             ],
             [
              0.4444444444444444,
              "#bd3786"
             ],
             [
              0.5555555555555556,
              "#d8576b"
             ],
             [
              0.6666666666666666,
              "#ed7953"
             ],
             [
              0.7777777777777778,
              "#fb9f3a"
             ],
             [
              0.8888888888888888,
              "#fdca26"
             ],
             [
              1,
              "#f0f921"
             ]
            ],
            "type": "surface"
           }
          ],
          "table": [
           {
            "cells": {
             "fill": {
              "color": "#EBF0F8"
             },
             "line": {
              "color": "white"
             }
            },
            "header": {
             "fill": {
              "color": "#C8D4E3"
             },
             "line": {
              "color": "white"
             }
            },
            "type": "table"
           }
          ]
         },
         "layout": {
          "annotationdefaults": {
           "arrowcolor": "#2a3f5f",
           "arrowhead": 0,
           "arrowwidth": 1
          },
          "autotypenumbers": "strict",
          "coloraxis": {
           "colorbar": {
            "outlinewidth": 0,
            "ticks": ""
           }
          },
          "colorscale": {
           "diverging": [
            [
             0,
             "#8e0152"
            ],
            [
             0.1,
             "#c51b7d"
            ],
            [
             0.2,
             "#de77ae"
            ],
            [
             0.3,
             "#f1b6da"
            ],
            [
             0.4,
             "#fde0ef"
            ],
            [
             0.5,
             "#f7f7f7"
            ],
            [
             0.6,
             "#e6f5d0"
            ],
            [
             0.7,
             "#b8e186"
            ],
            [
             0.8,
             "#7fbc41"
            ],
            [
             0.9,
             "#4d9221"
            ],
            [
             1,
             "#276419"
            ]
           ],
           "sequential": [
            [
             0,
             "#0d0887"
            ],
            [
             0.1111111111111111,
             "#46039f"
            ],
            [
             0.2222222222222222,
             "#7201a8"
            ],
            [
             0.3333333333333333,
             "#9c179e"
            ],
            [
             0.4444444444444444,
             "#bd3786"
            ],
            [
             0.5555555555555556,
             "#d8576b"
            ],
            [
             0.6666666666666666,
             "#ed7953"
            ],
            [
             0.7777777777777778,
             "#fb9f3a"
            ],
            [
             0.8888888888888888,
             "#fdca26"
            ],
            [
             1,
             "#f0f921"
            ]
           ],
           "sequentialminus": [
            [
             0,
             "#0d0887"
            ],
            [
             0.1111111111111111,
             "#46039f"
            ],
            [
             0.2222222222222222,
             "#7201a8"
            ],
            [
             0.3333333333333333,
             "#9c179e"
            ],
            [
             0.4444444444444444,
             "#bd3786"
            ],
            [
             0.5555555555555556,
             "#d8576b"
            ],
            [
             0.6666666666666666,
             "#ed7953"
            ],
            [
             0.7777777777777778,
             "#fb9f3a"
            ],
            [
             0.8888888888888888,
             "#fdca26"
            ],
            [
             1,
             "#f0f921"
            ]
           ]
          },
          "colorway": [
           "#636efa",
           "#EF553B",
           "#00cc96",
           "#ab63fa",
           "#FFA15A",
           "#19d3f3",
           "#FF6692",
           "#B6E880",
           "#FF97FF",
           "#FECB52"
          ],
          "font": {
           "color": "#2a3f5f"
          },
          "geo": {
           "bgcolor": "white",
           "lakecolor": "white",
           "landcolor": "#E5ECF6",
           "showlakes": true,
           "showland": true,
           "subunitcolor": "white"
          },
          "hoverlabel": {
           "align": "left"
          },
          "hovermode": "closest",
          "mapbox": {
           "style": "light"
          },
          "paper_bgcolor": "white",
          "plot_bgcolor": "#E5ECF6",
          "polar": {
           "angularaxis": {
            "gridcolor": "white",
            "linecolor": "white",
            "ticks": ""
           },
           "bgcolor": "#E5ECF6",
           "radialaxis": {
            "gridcolor": "white",
            "linecolor": "white",
            "ticks": ""
           }
          },
          "scene": {
           "xaxis": {
            "backgroundcolor": "#E5ECF6",
            "gridcolor": "white",
            "gridwidth": 2,
            "linecolor": "white",
            "showbackground": true,
            "ticks": "",
            "zerolinecolor": "white"
           },
           "yaxis": {
            "backgroundcolor": "#E5ECF6",
            "gridcolor": "white",
            "gridwidth": 2,
            "linecolor": "white",
            "showbackground": true,
            "ticks": "",
            "zerolinecolor": "white"
           },
           "zaxis": {
            "backgroundcolor": "#E5ECF6",
            "gridcolor": "white",
            "gridwidth": 2,
            "linecolor": "white",
            "showbackground": true,
            "ticks": "",
            "zerolinecolor": "white"
           }
          },
          "shapedefaults": {
           "line": {
            "color": "#2a3f5f"
           }
          },
          "ternary": {
           "aaxis": {
            "gridcolor": "white",
            "linecolor": "white",
            "ticks": ""
           },
           "baxis": {
            "gridcolor": "white",
            "linecolor": "white",
            "ticks": ""
           },
           "bgcolor": "#E5ECF6",
           "caxis": {
            "gridcolor": "white",
            "linecolor": "white",
            "ticks": ""
           }
          },
          "title": {
           "x": 0.05
          },
          "xaxis": {
           "automargin": true,
           "gridcolor": "white",
           "linecolor": "white",
           "ticks": "",
           "title": {
            "standoff": 15
           },
           "zerolinecolor": "white",
           "zerolinewidth": 2
          },
          "yaxis": {
           "automargin": true,
           "gridcolor": "white",
           "linecolor": "white",
           "ticks": "",
           "title": {
            "standoff": 15
           },
           "zerolinecolor": "white",
           "zerolinewidth": 2
          }
         }
        },
        "title": {
         "font": {
          "color": "#351f39",
          "family": "Courier New"
         },
         "text": "Top 10 Party-wise criminal records"
        },
        "xaxis": {
         "anchor": "y",
         "categoryarray": [
          "BJP",
          "INC",
          "SHS",
          "BSP",
          "JD(U)",
          "DMK",
          "YSRCP",
          "TRS",
          "AITC",
          "LJP"
         ],
         "categoryorder": "array",
         "domain": [
          0,
          1
         ],
         "title": {
          "text": "Party"
         }
        },
        "yaxis": {
         "anchor": "x",
         "domain": [
          0,
          1
         ],
         "title": {
          "text": "Criminal Records"
         }
        }
       }
      },
      "text/html": [
       "<div>                            <div id=\"1ed9d61b-2018-4594-9e60-18396c4478e2\" class=\"plotly-graph-div\" style=\"height:525px; width:100%;\"></div>            <script type=\"text/javascript\">                require([\"plotly\"], function(Plotly) {                    window.PLOTLYENV=window.PLOTLYENV || {};                                    if (document.getElementById(\"1ed9d61b-2018-4594-9e60-18396c4478e2\")) {                    Plotly.newPlot(                        \"1ed9d61b-2018-4594-9e60-18396c4478e2\",                        [{\"hovertemplate\":\"PARTY=%{x}\\u003cbr\\u003eCRIMINALCASES=%{marker.size}\\u003cextra\\u003e\\u003c\\u002fextra\\u003e\",\"legendgroup\":\"BJP\",\"marker\":{\"color\":\"#636efa\",\"size\":[403],\"sizemode\":\"area\",\"sizeref\":1.0075,\"symbol\":\"circle\"},\"mode\":\"markers\",\"name\":\"BJP\",\"orientation\":\"v\",\"showlegend\":true,\"x\":[\"BJP\"],\"xaxis\":\"x\",\"y\":[403],\"yaxis\":\"y\",\"type\":\"scatter\"},{\"hovertemplate\":\"PARTY=%{x}\\u003cbr\\u003eCRIMINALCASES=%{marker.size}\\u003cextra\\u003e\\u003c\\u002fextra\\u003e\",\"legendgroup\":\"INC\",\"marker\":{\"color\":\"#EF553B\",\"size\":[355],\"sizemode\":\"area\",\"sizeref\":1.0075,\"symbol\":\"circle\"},\"mode\":\"markers\",\"name\":\"INC\",\"orientation\":\"v\",\"showlegend\":true,\"x\":[\"INC\"],\"xaxis\":\"x\",\"y\":[355],\"yaxis\":\"y\",\"type\":\"scatter\"},{\"hovertemplate\":\"PARTY=%{x}\\u003cbr\\u003eCRIMINALCASES=%{marker.size}\\u003cextra\\u003e\\u003c\\u002fextra\\u003e\",\"legendgroup\":\"SHS\",\"marker\":{\"color\":\"#00cc96\",\"size\":[35],\"sizemode\":\"area\",\"sizeref\":1.0075,\"symbol\":\"circle\"},\"mode\":\"markers\",\"name\":\"SHS\",\"orientation\":\"v\",\"showlegend\":true,\"x\":[\"SHS\"],\"xaxis\":\"x\",\"y\":[35],\"yaxis\":\"y\",\"type\":\"scatter\"},{\"hovertemplate\":\"PARTY=%{x}\\u003cbr\\u003eCRIMINALCASES=%{marker.size}\\u003cextra\\u003e\\u003c\\u002fextra\\u003e\",\"legendgroup\":\"BSP\",\"marker\":{\"color\":\"#ab63fa\",\"size\":[32],\"sizemode\":\"area\",\"sizeref\":1.0075,\"symbol\":\"circle\"},\"mode\":\"markers\",\"name\":\"BSP\",\"orientation\":\"v\",\"showlegend\":true,\"x\":[\"BSP\"],\"xaxis\":\"x\",\"y\":[32],\"yaxis\":\"y\",\"type\":\"scatter\"},{\"hovertemplate\":\"PARTY=%{x}\\u003cbr\\u003eCRIMINALCASES=%{marker.size}\\u003cextra\\u003e\\u003c\\u002fextra\\u003e\",\"legendgroup\":\"JD(U)\",\"marker\":{\"color\":\"#FFA15A\",\"size\":[31],\"sizemode\":\"area\",\"sizeref\":1.0075,\"symbol\":\"circle\"},\"mode\":\"markers\",\"name\":\"JD(U)\",\"orientation\":\"v\",\"showlegend\":true,\"x\":[\"JD(U)\"],\"xaxis\":\"x\",\"y\":[31],\"yaxis\":\"y\",\"type\":\"scatter\"},{\"hovertemplate\":\"PARTY=%{x}\\u003cbr\\u003eCRIMINALCASES=%{marker.size}\\u003cextra\\u003e\\u003c\\u002fextra\\u003e\",\"legendgroup\":\"DMK\",\"marker\":{\"color\":\"#19d3f3\",\"size\":[28],\"sizemode\":\"area\",\"sizeref\":1.0075,\"symbol\":\"circle\"},\"mode\":\"markers\",\"name\":\"DMK\",\"orientation\":\"v\",\"showlegend\":true,\"x\":[\"DMK\"],\"xaxis\":\"x\",\"y\":[28],\"yaxis\":\"y\",\"type\":\"scatter\"},{\"hovertemplate\":\"PARTY=%{x}\\u003cbr\\u003eCRIMINALCASES=%{marker.size}\\u003cextra\\u003e\\u003c\\u002fextra\\u003e\",\"legendgroup\":\"YSRCP\",\"marker\":{\"color\":\"#FF6692\",\"size\":[24],\"sizemode\":\"area\",\"sizeref\":1.0075,\"symbol\":\"circle\"},\"mode\":\"markers\",\"name\":\"YSRCP\",\"orientation\":\"v\",\"showlegend\":true,\"x\":[\"YSRCP\"],\"xaxis\":\"x\",\"y\":[24],\"yaxis\":\"y\",\"type\":\"scatter\"},{\"hovertemplate\":\"PARTY=%{x}\\u003cbr\\u003eCRIMINALCASES=%{marker.size}\\u003cextra\\u003e\\u003c\\u002fextra\\u003e\",\"legendgroup\":\"TRS\",\"marker\":{\"color\":\"#B6E880\",\"size\":[24],\"sizemode\":\"area\",\"sizeref\":1.0075,\"symbol\":\"circle\"},\"mode\":\"markers\",\"name\":\"TRS\",\"orientation\":\"v\",\"showlegend\":true,\"x\":[\"TRS\"],\"xaxis\":\"x\",\"y\":[24],\"yaxis\":\"y\",\"type\":\"scatter\"},{\"hovertemplate\":\"PARTY=%{x}\\u003cbr\\u003eCRIMINALCASES=%{marker.size}\\u003cextra\\u003e\\u003c\\u002fextra\\u003e\",\"legendgroup\":\"AITC\",\"marker\":{\"color\":\"#FF97FF\",\"size\":[17],\"sizemode\":\"area\",\"sizeref\":1.0075,\"symbol\":\"circle\"},\"mode\":\"markers\",\"name\":\"AITC\",\"orientation\":\"v\",\"showlegend\":true,\"x\":[\"AITC\"],\"xaxis\":\"x\",\"y\":[17],\"yaxis\":\"y\",\"type\":\"scatter\"},{\"hovertemplate\":\"PARTY=%{x}\\u003cbr\\u003eCRIMINALCASES=%{marker.size}\\u003cextra\\u003e\\u003c\\u002fextra\\u003e\",\"legendgroup\":\"LJP\",\"marker\":{\"color\":\"#FECB52\",\"size\":[12],\"sizemode\":\"area\",\"sizeref\":1.0075,\"symbol\":\"circle\"},\"mode\":\"markers\",\"name\":\"LJP\",\"orientation\":\"v\",\"showlegend\":true,\"x\":[\"LJP\"],\"xaxis\":\"x\",\"y\":[12],\"yaxis\":\"y\",\"type\":\"scatter\"}],                        {\"template\":{\"data\":{\"histogram2dcontour\":[{\"type\":\"histogram2dcontour\",\"colorbar\":{\"outlinewidth\":0,\"ticks\":\"\"},\"colorscale\":[[0.0,\"#0d0887\"],[0.1111111111111111,\"#46039f\"],[0.2222222222222222,\"#7201a8\"],[0.3333333333333333,\"#9c179e\"],[0.4444444444444444,\"#bd3786\"],[0.5555555555555556,\"#d8576b\"],[0.6666666666666666,\"#ed7953\"],[0.7777777777777778,\"#fb9f3a\"],[0.8888888888888888,\"#fdca26\"],[1.0,\"#f0f921\"]]}],\"choropleth\":[{\"type\":\"choropleth\",\"colorbar\":{\"outlinewidth\":0,\"ticks\":\"\"}}],\"histogram2d\":[{\"type\":\"histogram2d\",\"colorbar\":{\"outlinewidth\":0,\"ticks\":\"\"},\"colorscale\":[[0.0,\"#0d0887\"],[0.1111111111111111,\"#46039f\"],[0.2222222222222222,\"#7201a8\"],[0.3333333333333333,\"#9c179e\"],[0.4444444444444444,\"#bd3786\"],[0.5555555555555556,\"#d8576b\"],[0.6666666666666666,\"#ed7953\"],[0.7777777777777778,\"#fb9f3a\"],[0.8888888888888888,\"#fdca26\"],[1.0,\"#f0f921\"]]}],\"heatmap\":[{\"type\":\"heatmap\",\"colorbar\":{\"outlinewidth\":0,\"ticks\":\"\"},\"colorscale\":[[0.0,\"#0d0887\"],[0.1111111111111111,\"#46039f\"],[0.2222222222222222,\"#7201a8\"],[0.3333333333333333,\"#9c179e\"],[0.4444444444444444,\"#bd3786\"],[0.5555555555555556,\"#d8576b\"],[0.6666666666666666,\"#ed7953\"],[0.7777777777777778,\"#fb9f3a\"],[0.8888888888888888,\"#fdca26\"],[1.0,\"#f0f921\"]]}],\"heatmapgl\":[{\"type\":\"heatmapgl\",\"colorbar\":{\"outlinewidth\":0,\"ticks\":\"\"},\"colorscale\":[[0.0,\"#0d0887\"],[0.1111111111111111,\"#46039f\"],[0.2222222222222222,\"#7201a8\"],[0.3333333333333333,\"#9c179e\"],[0.4444444444444444,\"#bd3786\"],[0.5555555555555556,\"#d8576b\"],[0.6666666666666666,\"#ed7953\"],[0.7777777777777778,\"#fb9f3a\"],[0.8888888888888888,\"#fdca26\"],[1.0,\"#f0f921\"]]}],\"contourcarpet\":[{\"type\":\"contourcarpet\",\"colorbar\":{\"outlinewidth\":0,\"ticks\":\"\"}}],\"contour\":[{\"type\":\"contour\",\"colorbar\":{\"outlinewidth\":0,\"ticks\":\"\"},\"colorscale\":[[0.0,\"#0d0887\"],[0.1111111111111111,\"#46039f\"],[0.2222222222222222,\"#7201a8\"],[0.3333333333333333,\"#9c179e\"],[0.4444444444444444,\"#bd3786\"],[0.5555555555555556,\"#d8576b\"],[0.6666666666666666,\"#ed7953\"],[0.7777777777777778,\"#fb9f3a\"],[0.8888888888888888,\"#fdca26\"],[1.0,\"#f0f921\"]]}],\"surface\":[{\"type\":\"surface\",\"colorbar\":{\"outlinewidth\":0,\"ticks\":\"\"},\"colorscale\":[[0.0,\"#0d0887\"],[0.1111111111111111,\"#46039f\"],[0.2222222222222222,\"#7201a8\"],[0.3333333333333333,\"#9c179e\"],[0.4444444444444444,\"#bd3786\"],[0.5555555555555556,\"#d8576b\"],[0.6666666666666666,\"#ed7953\"],[0.7777777777777778,\"#fb9f3a\"],[0.8888888888888888,\"#fdca26\"],[1.0,\"#f0f921\"]]}],\"mesh3d\":[{\"type\":\"mesh3d\",\"colorbar\":{\"outlinewidth\":0,\"ticks\":\"\"}}],\"scatter\":[{\"fillpattern\":{\"fillmode\":\"overlay\",\"size\":10,\"solidity\":0.2},\"type\":\"scatter\"}],\"parcoords\":[{\"type\":\"parcoords\",\"line\":{\"colorbar\":{\"outlinewidth\":0,\"ticks\":\"\"}}}],\"scatterpolargl\":[{\"type\":\"scatterpolargl\",\"marker\":{\"colorbar\":{\"outlinewidth\":0,\"ticks\":\"\"}}}],\"bar\":[{\"error_x\":{\"color\":\"#2a3f5f\"},\"error_y\":{\"color\":\"#2a3f5f\"},\"marker\":{\"line\":{\"color\":\"#E5ECF6\",\"width\":0.5},\"pattern\":{\"fillmode\":\"overlay\",\"size\":10,\"solidity\":0.2}},\"type\":\"bar\"}],\"scattergeo\":[{\"type\":\"scattergeo\",\"marker\":{\"colorbar\":{\"outlinewidth\":0,\"ticks\":\"\"}}}],\"scatterpolar\":[{\"type\":\"scatterpolar\",\"marker\":{\"colorbar\":{\"outlinewidth\":0,\"ticks\":\"\"}}}],\"histogram\":[{\"marker\":{\"pattern\":{\"fillmode\":\"overlay\",\"size\":10,\"solidity\":0.2}},\"type\":\"histogram\"}],\"scattergl\":[{\"type\":\"scattergl\",\"marker\":{\"colorbar\":{\"outlinewidth\":0,\"ticks\":\"\"}}}],\"scatter3d\":[{\"type\":\"scatter3d\",\"line\":{\"colorbar\":{\"outlinewidth\":0,\"ticks\":\"\"}},\"marker\":{\"colorbar\":{\"outlinewidth\":0,\"ticks\":\"\"}}}],\"scattermapbox\":[{\"type\":\"scattermapbox\",\"marker\":{\"colorbar\":{\"outlinewidth\":0,\"ticks\":\"\"}}}],\"scatterternary\":[{\"type\":\"scatterternary\",\"marker\":{\"colorbar\":{\"outlinewidth\":0,\"ticks\":\"\"}}}],\"scattercarpet\":[{\"type\":\"scattercarpet\",\"marker\":{\"colorbar\":{\"outlinewidth\":0,\"ticks\":\"\"}}}],\"carpet\":[{\"aaxis\":{\"endlinecolor\":\"#2a3f5f\",\"gridcolor\":\"white\",\"linecolor\":\"white\",\"minorgridcolor\":\"white\",\"startlinecolor\":\"#2a3f5f\"},\"baxis\":{\"endlinecolor\":\"#2a3f5f\",\"gridcolor\":\"white\",\"linecolor\":\"white\",\"minorgridcolor\":\"white\",\"startlinecolor\":\"#2a3f5f\"},\"type\":\"carpet\"}],\"table\":[{\"cells\":{\"fill\":{\"color\":\"#EBF0F8\"},\"line\":{\"color\":\"white\"}},\"header\":{\"fill\":{\"color\":\"#C8D4E3\"},\"line\":{\"color\":\"white\"}},\"type\":\"table\"}],\"barpolar\":[{\"marker\":{\"line\":{\"color\":\"#E5ECF6\",\"width\":0.5},\"pattern\":{\"fillmode\":\"overlay\",\"size\":10,\"solidity\":0.2}},\"type\":\"barpolar\"}],\"pie\":[{\"automargin\":true,\"type\":\"pie\"}]},\"layout\":{\"autotypenumbers\":\"strict\",\"colorway\":[\"#636efa\",\"#EF553B\",\"#00cc96\",\"#ab63fa\",\"#FFA15A\",\"#19d3f3\",\"#FF6692\",\"#B6E880\",\"#FF97FF\",\"#FECB52\"],\"font\":{\"color\":\"#2a3f5f\"},\"hovermode\":\"closest\",\"hoverlabel\":{\"align\":\"left\"},\"paper_bgcolor\":\"white\",\"plot_bgcolor\":\"#E5ECF6\",\"polar\":{\"bgcolor\":\"#E5ECF6\",\"angularaxis\":{\"gridcolor\":\"white\",\"linecolor\":\"white\",\"ticks\":\"\"},\"radialaxis\":{\"gridcolor\":\"white\",\"linecolor\":\"white\",\"ticks\":\"\"}},\"ternary\":{\"bgcolor\":\"#E5ECF6\",\"aaxis\":{\"gridcolor\":\"white\",\"linecolor\":\"white\",\"ticks\":\"\"},\"baxis\":{\"gridcolor\":\"white\",\"linecolor\":\"white\",\"ticks\":\"\"},\"caxis\":{\"gridcolor\":\"white\",\"linecolor\":\"white\",\"ticks\":\"\"}},\"coloraxis\":{\"colorbar\":{\"outlinewidth\":0,\"ticks\":\"\"}},\"colorscale\":{\"sequential\":[[0.0,\"#0d0887\"],[0.1111111111111111,\"#46039f\"],[0.2222222222222222,\"#7201a8\"],[0.3333333333333333,\"#9c179e\"],[0.4444444444444444,\"#bd3786\"],[0.5555555555555556,\"#d8576b\"],[0.6666666666666666,\"#ed7953\"],[0.7777777777777778,\"#fb9f3a\"],[0.8888888888888888,\"#fdca26\"],[1.0,\"#f0f921\"]],\"sequentialminus\":[[0.0,\"#0d0887\"],[0.1111111111111111,\"#46039f\"],[0.2222222222222222,\"#7201a8\"],[0.3333333333333333,\"#9c179e\"],[0.4444444444444444,\"#bd3786\"],[0.5555555555555556,\"#d8576b\"],[0.6666666666666666,\"#ed7953\"],[0.7777777777777778,\"#fb9f3a\"],[0.8888888888888888,\"#fdca26\"],[1.0,\"#f0f921\"]],\"diverging\":[[0,\"#8e0152\"],[0.1,\"#c51b7d\"],[0.2,\"#de77ae\"],[0.3,\"#f1b6da\"],[0.4,\"#fde0ef\"],[0.5,\"#f7f7f7\"],[0.6,\"#e6f5d0\"],[0.7,\"#b8e186\"],[0.8,\"#7fbc41\"],[0.9,\"#4d9221\"],[1,\"#276419\"]]},\"xaxis\":{\"gridcolor\":\"white\",\"linecolor\":\"white\",\"ticks\":\"\",\"title\":{\"standoff\":15},\"zerolinecolor\":\"white\",\"automargin\":true,\"zerolinewidth\":2},\"yaxis\":{\"gridcolor\":\"white\",\"linecolor\":\"white\",\"ticks\":\"\",\"title\":{\"standoff\":15},\"zerolinecolor\":\"white\",\"automargin\":true,\"zerolinewidth\":2},\"scene\":{\"xaxis\":{\"backgroundcolor\":\"#E5ECF6\",\"gridcolor\":\"white\",\"linecolor\":\"white\",\"showbackground\":true,\"ticks\":\"\",\"zerolinecolor\":\"white\",\"gridwidth\":2},\"yaxis\":{\"backgroundcolor\":\"#E5ECF6\",\"gridcolor\":\"white\",\"linecolor\":\"white\",\"showbackground\":true,\"ticks\":\"\",\"zerolinecolor\":\"white\",\"gridwidth\":2},\"zaxis\":{\"backgroundcolor\":\"#E5ECF6\",\"gridcolor\":\"white\",\"linecolor\":\"white\",\"showbackground\":true,\"ticks\":\"\",\"zerolinecolor\":\"white\",\"gridwidth\":2}},\"shapedefaults\":{\"line\":{\"color\":\"#2a3f5f\"}},\"annotationdefaults\":{\"arrowcolor\":\"#2a3f5f\",\"arrowhead\":0,\"arrowwidth\":1},\"geo\":{\"bgcolor\":\"white\",\"landcolor\":\"#E5ECF6\",\"subunitcolor\":\"white\",\"showland\":true,\"showlakes\":true,\"lakecolor\":\"white\"},\"title\":{\"x\":0.05},\"mapbox\":{\"style\":\"light\"}}},\"xaxis\":{\"anchor\":\"y\",\"domain\":[0.0,1.0],\"title\":{\"text\":\"Party\"},\"categoryorder\":\"array\",\"categoryarray\":[\"BJP\",\"INC\",\"SHS\",\"BSP\",\"JD(U)\",\"DMK\",\"YSRCP\",\"TRS\",\"AITC\",\"LJP\"]},\"yaxis\":{\"anchor\":\"x\",\"domain\":[0.0,1.0],\"title\":{\"text\":\"Criminal Records\"}},\"legend\":{\"title\":{\"text\":\"PARTY\"},\"tracegroupgap\":0,\"itemsizing\":\"constant\"},\"margin\":{\"t\":60},\"title\":{\"font\":{\"family\":\"Courier New\",\"color\":\"#351f39\"},\"text\":\"Top 10 Party-wise criminal records\"},\"font\":{\"family\":\"Courier New\",\"color\":\"#351f39\"}},                        {\"responsive\": true}                    ).then(function(){\n",
       "                            \n",
       "var gd = document.getElementById('1ed9d61b-2018-4594-9e60-18396c4478e2');\n",
       "var x = new MutationObserver(function (mutations, observer) {{\n",
       "        var display = window.getComputedStyle(gd).display;\n",
       "        if (!display || display === 'none') {{\n",
       "            console.log([gd, 'removed!']);\n",
       "            Plotly.purge(gd);\n",
       "            observer.disconnect();\n",
       "        }}\n",
       "}});\n",
       "\n",
       "// Listen for the removal of the full notebook cells\n",
       "var notebookContainer = gd.closest('#notebook-container');\n",
       "if (notebookContainer) {{\n",
       "    x.observe(notebookContainer, {childList: true});\n",
       "}}\n",
       "\n",
       "// Listen for the clearing of the current output cell\n",
       "var outputEl = gd.closest('.output');\n",
       "if (outputEl) {{\n",
       "    x.observe(outputEl, {childList: true});\n",
       "}}\n",
       "\n",
       "                        })                };                });            </script>        </div>"
      ]
     },
     "metadata": {},
     "output_type": "display_data"
    }
   ],
   "source": [
    "# Create a dataframe of criminal records\n",
    "criminal_df = pd.DataFrame(data=df[df['WINNER'] == 1].groupby('PARTY')['CRIMINALCASES'].sum())\n",
    "criminal_df.sort_values(by='CRIMINALCASES', ascending=False, inplace=True)\n",
    "criminal_df.reset_index(level=0, inplace=True)\n",
    "criminal_df\n",
    "\n",
    "# Visualize the criminal records\n",
    "criminal_fig = px.scatter(criminal_df[:10], \n",
    "                 x='PARTY', \n",
    "                 y='CRIMINALCASES', \n",
    "                 size='CRIMINALCASES',\n",
    "                 color='PARTY',\n",
    "                 hover_data=['CRIMINALCASES'])\n",
    "\n",
    "criminal_fig.update_layout(title_text='Top 10 Party-wise criminal records',\n",
    "                         font_family=\"Courier New\",\n",
    "                         font_color=\"#351f39\",\n",
    "                         title_font_family=\"Courier New\",\n",
    "                         title_font_color=\"#351f39\",\n",
    "                         xaxis_title=\"Party\",\n",
    "                         yaxis_title=\"Criminal Records\")\n",
    "\n",
    "criminal_fig.show()"
   ]
  },
  {
   "cell_type": "code",
   "execution_count": 35,
   "metadata": {
    "scrolled": true
   },
   "outputs": [
    {
     "data": {
      "text/html": [
       "<div>\n",
       "<style scoped>\n",
       "    .dataframe tbody tr th:only-of-type {\n",
       "        vertical-align: middle;\n",
       "    }\n",
       "\n",
       "    .dataframe tbody tr th {\n",
       "        vertical-align: top;\n",
       "    }\n",
       "\n",
       "    .dataframe thead th {\n",
       "        text-align: right;\n",
       "    }\n",
       "</style>\n",
       "<table border=\"1\" class=\"dataframe\">\n",
       "  <thead>\n",
       "    <tr style=\"text-align: right;\">\n",
       "      <th></th>\n",
       "      <th>STATE</th>\n",
       "      <th>CONSTITUENCY</th>\n",
       "      <th>NAME</th>\n",
       "      <th>WINNER</th>\n",
       "      <th>PARTY</th>\n",
       "      <th>SYMBOL</th>\n",
       "      <th>GENDER</th>\n",
       "      <th>CRIMINALCASES</th>\n",
       "      <th>AGE</th>\n",
       "      <th>CATEGORY</th>\n",
       "      <th>EDUCATION</th>\n",
       "      <th>ASSETS</th>\n",
       "      <th>LIABILITIES</th>\n",
       "      <th>GENERALVOTES</th>\n",
       "      <th>POSTALVOTES</th>\n",
       "      <th>TOTALVOTES</th>\n",
       "      <th>OVER TOTAL ELECTORS IN CONSTITUENCY</th>\n",
       "      <th>OVER TOTAL VOTES POLLED IN CONSTITUENCY</th>\n",
       "      <th>TOTAL ELECTORS</th>\n",
       "      <th>Party New</th>\n",
       "    </tr>\n",
       "  </thead>\n",
       "  <tbody>\n",
       "    <tr>\n",
       "      <th>0</th>\n",
       "      <td>Telangana</td>\n",
       "      <td>ADILABAD</td>\n",
       "      <td>SOYAM BAPU RAO</td>\n",
       "      <td>1</td>\n",
       "      <td>BJP</td>\n",
       "      <td>Lotus</td>\n",
       "      <td>MALE</td>\n",
       "      <td>52</td>\n",
       "      <td>52.0</td>\n",
       "      <td>ST</td>\n",
       "      <td>12th Pass</td>\n",
       "      <td>3099414.0</td>\n",
       "      <td>231450.0</td>\n",
       "      <td>376892</td>\n",
       "      <td>482</td>\n",
       "      <td>377374</td>\n",
       "      <td>25.330684</td>\n",
       "      <td>35.468248</td>\n",
       "      <td>1489790</td>\n",
       "      <td>BJP</td>\n",
       "    </tr>\n",
       "    <tr>\n",
       "      <th>1</th>\n",
       "      <td>Telangana</td>\n",
       "      <td>ADILABAD</td>\n",
       "      <td>Godam Nagesh</td>\n",
       "      <td>0</td>\n",
       "      <td>TRS</td>\n",
       "      <td>Car</td>\n",
       "      <td>MALE</td>\n",
       "      <td>0</td>\n",
       "      <td>54.0</td>\n",
       "      <td>ST</td>\n",
       "      <td>Post Graduate</td>\n",
       "      <td>18477888.0</td>\n",
       "      <td>847000.0</td>\n",
       "      <td>318665</td>\n",
       "      <td>149</td>\n",
       "      <td>318814</td>\n",
       "      <td>21.399929</td>\n",
       "      <td>29.964370</td>\n",
       "      <td>1489790</td>\n",
       "      <td>Other</td>\n",
       "    </tr>\n",
       "    <tr>\n",
       "      <th>2</th>\n",
       "      <td>Telangana</td>\n",
       "      <td>ADILABAD</td>\n",
       "      <td>RATHOD RAMESH</td>\n",
       "      <td>0</td>\n",
       "      <td>INC</td>\n",
       "      <td>Hand</td>\n",
       "      <td>MALE</td>\n",
       "      <td>3</td>\n",
       "      <td>52.0</td>\n",
       "      <td>ST</td>\n",
       "      <td>12th Pass</td>\n",
       "      <td>36491000.0</td>\n",
       "      <td>15300000.0</td>\n",
       "      <td>314057</td>\n",
       "      <td>181</td>\n",
       "      <td>314238</td>\n",
       "      <td>21.092771</td>\n",
       "      <td>29.534285</td>\n",
       "      <td>1489790</td>\n",
       "      <td>INC</td>\n",
       "    </tr>\n",
       "    <tr>\n",
       "      <th>4</th>\n",
       "      <td>Uttar Pradesh</td>\n",
       "      <td>AGRA</td>\n",
       "      <td>Satyapal Singh Baghel</td>\n",
       "      <td>1</td>\n",
       "      <td>BJP</td>\n",
       "      <td>Lotus</td>\n",
       "      <td>MALE</td>\n",
       "      <td>5</td>\n",
       "      <td>58.0</td>\n",
       "      <td>SC</td>\n",
       "      <td>Doctorate</td>\n",
       "      <td>74274036.0</td>\n",
       "      <td>8606522.0</td>\n",
       "      <td>644459</td>\n",
       "      <td>2416</td>\n",
       "      <td>646875</td>\n",
       "      <td>33.383823</td>\n",
       "      <td>56.464615</td>\n",
       "      <td>1937690</td>\n",
       "      <td>BJP</td>\n",
       "    </tr>\n",
       "    <tr>\n",
       "      <th>5</th>\n",
       "      <td>Uttar Pradesh</td>\n",
       "      <td>AGRA</td>\n",
       "      <td>Manoj Kumar Soni</td>\n",
       "      <td>0</td>\n",
       "      <td>BSP</td>\n",
       "      <td>Elephant</td>\n",
       "      <td>MALE</td>\n",
       "      <td>0</td>\n",
       "      <td>47.0</td>\n",
       "      <td>SC</td>\n",
       "      <td>Post Graduate</td>\n",
       "      <td>133784385.0</td>\n",
       "      <td>22251891.0</td>\n",
       "      <td>434199</td>\n",
       "      <td>1130</td>\n",
       "      <td>435329</td>\n",
       "      <td>22.466390</td>\n",
       "      <td>37.999125</td>\n",
       "      <td>1937690</td>\n",
       "      <td>BSP</td>\n",
       "    </tr>\n",
       "  </tbody>\n",
       "</table>\n",
       "</div>"
      ],
      "text/plain": [
       "           STATE CONSTITUENCY                   NAME  WINNER PARTY    SYMBOL  \\\n",
       "0      Telangana     ADILABAD         SOYAM BAPU RAO       1   BJP     Lotus   \n",
       "1      Telangana     ADILABAD           Godam Nagesh       0   TRS       Car   \n",
       "2      Telangana     ADILABAD          RATHOD RAMESH       0   INC      Hand   \n",
       "4  Uttar Pradesh         AGRA  Satyapal Singh Baghel       1   BJP     Lotus   \n",
       "5  Uttar Pradesh         AGRA       Manoj Kumar Soni       0   BSP  Elephant   \n",
       "\n",
       "  GENDER  CRIMINALCASES   AGE CATEGORY      EDUCATION       ASSETS  \\\n",
       "0   MALE             52  52.0       ST      12th Pass    3099414.0   \n",
       "1   MALE              0  54.0       ST  Post Graduate   18477888.0   \n",
       "2   MALE              3  52.0       ST      12th Pass   36491000.0   \n",
       "4   MALE              5  58.0       SC      Doctorate   74274036.0   \n",
       "5   MALE              0  47.0       SC  Post Graduate  133784385.0   \n",
       "\n",
       "   LIABILITIES  GENERALVOTES  POSTALVOTES  TOTALVOTES  \\\n",
       "0     231450.0        376892          482      377374   \n",
       "1     847000.0        318665          149      318814   \n",
       "2   15300000.0        314057          181      314238   \n",
       "4    8606522.0        644459         2416      646875   \n",
       "5   22251891.0        434199         1130      435329   \n",
       "\n",
       "   OVER TOTAL ELECTORS IN CONSTITUENCY  \\\n",
       "0                            25.330684   \n",
       "1                            21.399929   \n",
       "2                            21.092771   \n",
       "4                            33.383823   \n",
       "5                            22.466390   \n",
       "\n",
       "   OVER TOTAL VOTES POLLED IN CONSTITUENCY  TOTAL ELECTORS Party New  \n",
       "0                                35.468248         1489790       BJP  \n",
       "1                                29.964370         1489790     Other  \n",
       "2                                29.534285         1489790       INC  \n",
       "4                                56.464615         1937690       BJP  \n",
       "5                                37.999125         1937690       BSP  "
      ]
     },
     "execution_count": 35,
     "metadata": {},
     "output_type": "execute_result"
    }
   ],
   "source": [
    "# This is the dataset which will be used for fitting Machine Learning models\n",
    "df.head()"
   ]
  },
  {
   "cell_type": "code",
   "execution_count": 36,
   "metadata": {},
   "outputs": [
    {
     "data": {
      "text/plain": [
       "PARTY\n",
       "BJP       420\n",
       "INC       411\n",
       "Other     247\n",
       "IND       193\n",
       "BSP       161\n",
       "CPI(M)    100\n",
       "VBA        47\n",
       "AITC       47\n",
       "SP         39\n",
       "MNM        35\n",
       "NTK        34\n",
       "SHS        26\n",
       "AAP        25\n",
       "TDP        25\n",
       "YSRCP      25\n",
       "DMK        23\n",
       "NCP        21\n",
       "AIADMK     21\n",
       "RJD        21\n",
       "BJD        21\n",
       "JnP        19\n",
       "JD(U)      18\n",
       "TRS        17\n",
       "Name: count, dtype: int64"
      ]
     },
     "execution_count": 36,
     "metadata": {},
     "output_type": "execute_result"
    }
   ],
   "source": [
    "# Labeling parties with less than 10 candidates as others\n",
    "less_candidates = []\n",
    "for i, j in df['PARTY'].value_counts().items():\n",
    "    if j <= 10:\n",
    "        less_candidates.append(i)\n",
    "len(less_candidates)\n",
    "\n",
    "def small_party(data):\n",
    "    if data in less_candidates:\n",
    "        return 'Other'\n",
    "    return data\n",
    "df['PARTY'] = df['PARTY'].apply(small_party)\n",
    "df['PARTY'].value_counts()"
   ]
  },
  {
   "cell_type": "code",
   "execution_count": 37,
   "metadata": {},
   "outputs": [
    {
     "data": {
      "text/html": [
       "<div>\n",
       "<style scoped>\n",
       "    .dataframe tbody tr th:only-of-type {\n",
       "        vertical-align: middle;\n",
       "    }\n",
       "\n",
       "    .dataframe tbody tr th {\n",
       "        vertical-align: top;\n",
       "    }\n",
       "\n",
       "    .dataframe thead th {\n",
       "        text-align: right;\n",
       "    }\n",
       "</style>\n",
       "<table border=\"1\" class=\"dataframe\">\n",
       "  <thead>\n",
       "    <tr style=\"text-align: right;\">\n",
       "      <th></th>\n",
       "      <th>STATE</th>\n",
       "      <th>PARTY</th>\n",
       "      <th>GENDER</th>\n",
       "      <th>CRIMINALCASES</th>\n",
       "      <th>AGE</th>\n",
       "      <th>CATEGORY</th>\n",
       "      <th>EDUCATION</th>\n",
       "      <th>ASSETS</th>\n",
       "      <th>LIABILITIES</th>\n",
       "      <th>TOTAL ELECTORS</th>\n",
       "    </tr>\n",
       "  </thead>\n",
       "  <tbody>\n",
       "    <tr>\n",
       "      <th>0</th>\n",
       "      <td>Telangana</td>\n",
       "      <td>BJP</td>\n",
       "      <td>MALE</td>\n",
       "      <td>52</td>\n",
       "      <td>52.0</td>\n",
       "      <td>ST</td>\n",
       "      <td>12th Pass</td>\n",
       "      <td>3099414.0</td>\n",
       "      <td>231450.0</td>\n",
       "      <td>1489790</td>\n",
       "    </tr>\n",
       "    <tr>\n",
       "      <th>1</th>\n",
       "      <td>Telangana</td>\n",
       "      <td>TRS</td>\n",
       "      <td>MALE</td>\n",
       "      <td>0</td>\n",
       "      <td>54.0</td>\n",
       "      <td>ST</td>\n",
       "      <td>Post Graduate</td>\n",
       "      <td>18477888.0</td>\n",
       "      <td>847000.0</td>\n",
       "      <td>1489790</td>\n",
       "    </tr>\n",
       "    <tr>\n",
       "      <th>2</th>\n",
       "      <td>Telangana</td>\n",
       "      <td>INC</td>\n",
       "      <td>MALE</td>\n",
       "      <td>3</td>\n",
       "      <td>52.0</td>\n",
       "      <td>ST</td>\n",
       "      <td>12th Pass</td>\n",
       "      <td>36491000.0</td>\n",
       "      <td>15300000.0</td>\n",
       "      <td>1489790</td>\n",
       "    </tr>\n",
       "    <tr>\n",
       "      <th>4</th>\n",
       "      <td>Uttar Pradesh</td>\n",
       "      <td>BJP</td>\n",
       "      <td>MALE</td>\n",
       "      <td>5</td>\n",
       "      <td>58.0</td>\n",
       "      <td>SC</td>\n",
       "      <td>Doctorate</td>\n",
       "      <td>74274036.0</td>\n",
       "      <td>8606522.0</td>\n",
       "      <td>1937690</td>\n",
       "    </tr>\n",
       "    <tr>\n",
       "      <th>5</th>\n",
       "      <td>Uttar Pradesh</td>\n",
       "      <td>BSP</td>\n",
       "      <td>MALE</td>\n",
       "      <td>0</td>\n",
       "      <td>47.0</td>\n",
       "      <td>SC</td>\n",
       "      <td>Post Graduate</td>\n",
       "      <td>133784385.0</td>\n",
       "      <td>22251891.0</td>\n",
       "      <td>1937690</td>\n",
       "    </tr>\n",
       "  </tbody>\n",
       "</table>\n",
       "</div>"
      ],
      "text/plain": [
       "           STATE PARTY GENDER  CRIMINALCASES   AGE CATEGORY      EDUCATION  \\\n",
       "0      Telangana   BJP   MALE             52  52.0       ST      12th Pass   \n",
       "1      Telangana   TRS   MALE              0  54.0       ST  Post Graduate   \n",
       "2      Telangana   INC   MALE              3  52.0       ST      12th Pass   \n",
       "4  Uttar Pradesh   BJP   MALE              5  58.0       SC      Doctorate   \n",
       "5  Uttar Pradesh   BSP   MALE              0  47.0       SC  Post Graduate   \n",
       "\n",
       "        ASSETS  LIABILITIES  TOTAL ELECTORS  \n",
       "0    3099414.0     231450.0         1489790  \n",
       "1   18477888.0     847000.0         1489790  \n",
       "2   36491000.0   15300000.0         1489790  \n",
       "4   74274036.0    8606522.0         1937690  \n",
       "5  133784385.0   22251891.0         1937690  "
      ]
     },
     "execution_count": 37,
     "metadata": {},
     "output_type": "execute_result"
    }
   ],
   "source": [
    "X = df.drop(['NAME', 'SYMBOL', 'WINNER', 'GENERALVOTES', 'POSTALVOTES', 'TOTALVOTES', 'OVER TOTAL ELECTORS IN CONSTITUENCY', \n",
    "             'OVER TOTAL VOTES POLLED IN CONSTITUENCY', 'Party New', 'CONSTITUENCY'], axis=1)\n",
    "y = df['WINNER']\n",
    "X.head()"
   ]
  },
  {
   "cell_type": "code",
   "execution_count": 38,
   "metadata": {},
   "outputs": [],
   "source": [
    "# Creating training and test dataset\n",
    "X_train, X_test, y_train, y_test = train_test_split(X, y, test_size=0.30, random_state=42)"
   ]
  },
  {
   "cell_type": "code",
   "execution_count": 39,
   "metadata": {},
   "outputs": [],
   "source": [
    "categorical = []\n",
    "numerical = []\n",
    "\n",
    "# Converting Strings to Category\n",
    "for label, content in X.items():\n",
    "    if pd.api.types.is_string_dtype(content):\n",
    "        X[label] = content.astype(\"category\")\n",
    "        categorical.append(label)\n",
    "\n",
    "    if pd.api.types.is_numeric_dtype(content):\n",
    "        numerical.append(label)"
   ]
  },
  {
   "cell_type": "code",
   "execution_count": 40,
   "metadata": {},
   "outputs": [],
   "source": [
    "# Initializing the StandardScaler()\n",
    "scaler = MinMaxScaler()\n",
    "encoder = OrdinalEncoder()\n",
    "\n",
    "# Encoding the categorical columns\n",
    "for cat in categorical:\n",
    "    label_fit = encoder.fit(np.array(X[cat]).reshape(-1, 1))\n",
    "    X_train[cat] = label_fit.transform(np.array(X_train[cat]).reshape(-1, 1))\n",
    "    X_test[cat] = label_fit.transform(np.array(X_test[cat]).reshape(-1, 1))\n",
    "    \n",
    "# Scaling the dataset\n",
    "scaler_fit = scaler.fit(X[numerical])\n",
    "X_train[numerical] = scaler_fit.transform(X_train[numerical])\n",
    "X_test[numerical] = scaler_fit.transform(X_test[numerical])"
   ]
  },
  {
   "cell_type": "code",
   "execution_count": 41,
   "metadata": {},
   "outputs": [],
   "source": [
    "# Encoding the target\n",
    "target_enc = LabelEncoder().fit(y_train)\n",
    "y_train = target_enc.transform(y_train)\n",
    "y_test = target_enc.transform(y_test)"
   ]
  },
  {
   "cell_type": "code",
   "execution_count": 42,
   "metadata": {},
   "outputs": [
    {
     "data": {
      "text/plain": [
       "Counter({0: 1015, 1: 382})"
      ]
     },
     "execution_count": 42,
     "metadata": {},
     "output_type": "execute_result"
    }
   ],
   "source": [
    "Counter(y_train)"
   ]
  },
  {
   "cell_type": "code",
   "execution_count": 43,
   "metadata": {},
   "outputs": [
    {
     "name": "stdout",
     "output_type": "stream",
     "text": [
      "Counter({1: 1015, 0: 1015})\n"
     ]
    }
   ],
   "source": [
    "oversample = SMOTE()\n",
    "X_train, y_train = oversample.fit_resample(X_train, y_train)\n",
    "counter = Counter(y_train)\n",
    "print(counter)"
   ]
  },
  {
   "cell_type": "code",
   "execution_count": 44,
   "metadata": {},
   "outputs": [],
   "source": [
    "np.random.seed(42)\n",
    "\n",
    "# Create a dictionary of the models to experiment\n",
    "models = {\n",
    "          \"Random Forest\" : RandomForestClassifier(n_jobs=-1),\n",
    "          \"Support Vector Machines\" : SVC(),\n",
    "          \"K-Nearest Neighbors\" : KNeighborsClassifier(),\n",
    "          \"Logistic Regression\"  : LogisticRegression(),\n",
    "          \"XG Boosting\" : xgb.XGBClassifier(n_jobs=-1),\n",
    "          \"Cat Boosting\": CatBoostClassifier(),\n",
    "          \"Gradient Boosting\"  : GradientBoostingClassifier(),\n",
    "          \"ADA Boosting\" : AdaBoostClassifier(),\n",
    "          \"LG Boosting\" : lgb.LGBMClassifier(),\n",
    "          \"Decision Trees\" : DecisionTreeClassifier()\n",
    "         }\n",
    "\n",
    "# Create a function to fit and score the models\n",
    "def fit_and_score(models, X_train, y_train, X_test, y_test):\n",
    "    '''\n",
    "    Fits and evaluates the machine learning models.\n",
    "    models : a dict of different Scikit-Learn machine learning models.\n",
    "    X_train : training data (no labels)\n",
    "    y_train : training lables\n",
    "    X_test : testing data (no labels)\n",
    "    y_test : testing lables\n",
    "    '''\n",
    "    train_model_scores_acc = {}\n",
    "    train_model_scores_pre = {}\n",
    "    train_model_scores_rec = {}\n",
    "    train_model_scores_f1 = {}\n",
    "    \n",
    "    test_model_scores_acc = {}\n",
    "    test_model_scores_pre = {}\n",
    "    test_model_scores_rec = {}\n",
    "    test_model_scores_f1 = {}\n",
    "    \n",
    "    train_model_timing = {}\n",
    "    \n",
    "    for name, model in models.items():\n",
    "        start = time.time()\n",
    "        train_model_scores_acc[name] = np.mean(cross_val_score(model, X_train, y_train, cv=10, n_jobs=-1, scoring='accuracy')) * 100\n",
    "        train_model_scores_pre[name] = np.mean(cross_val_score(model, X_train, y_train, cv=10, n_jobs=-1, scoring='precision')) * 100\n",
    "        train_model_scores_rec[name] = np.mean(cross_val_score(model, X_train, y_train, cv=10, n_jobs=-1, scoring='recall')) * 100\n",
    "        train_model_scores_f1[name] = np.mean(cross_val_score(model, X_train, y_train, cv=10, n_jobs=-1, scoring='f1')) * 100\n",
    "        stop = time.time()\n",
    "        timing = stop - start\n",
    "        train_model_timing[name] = timing\n",
    "        \n",
    "        model.fit(X_train, y_train)\n",
    "        pred = model.predict(X_test)\n",
    "        \n",
    "        test_model_scores_acc[name] = accuracy_score(y_test, pred) * 100\n",
    "        test_model_scores_pre[name] = precision_score(y_test, pred) * 100\n",
    "        test_model_scores_rec[name] = recall_score(y_test, pred) * 100\n",
    "        test_model_scores_f1[name] = f1_score(y_test, pred) * 100\n",
    "        \n",
    "    # Create dictionary for oil scores\n",
    "    scores = {'Training Accuracy': train_model_scores_acc,\n",
    "              'Training Precision': train_model_scores_pre,\n",
    "              'Training Recall': train_model_scores_rec,\n",
    "              'Training F1': train_model_scores_f1,\n",
    "              'Test Accuracy':  test_model_scores_acc,\n",
    "              'Test Precision': test_model_scores_pre,\n",
    "              'Test Recall': test_model_scores_rec,\n",
    "              'Test F1': test_model_scores_f1,\n",
    "              '10-Fold CV Timing (seconds)': train_model_timing\n",
    "             }\n",
    "\n",
    "    # Create dataframe of scores\n",
    "    scores_df = pd.DataFrame(scores)\n",
    "\n",
    "    scores_df.rename_axis('Model', inplace=True)\n",
    "    scores_df.reset_index(inplace=True)\n",
    "    scores_df.sort_values('Test Accuracy', ascending=False, inplace=True)\n",
    "    return scores_df"
   ]
  },
  {
   "cell_type": "code",
   "execution_count": 45,
   "metadata": {},
   "outputs": [
    {
     "name": "stderr",
     "output_type": "stream",
     "text": [
      "C:\\Users\\Hp\\AppData\\Local\\Packages\\PythonSoftwareFoundation.Python.3.11_qbz5n2kfra8p0\\LocalCache\\local-packages\\Python311\\site-packages\\sklearn\\linear_model\\_logistic.py:465: ConvergenceWarning:\n",
      "\n",
      "lbfgs failed to converge (status=1):\n",
      "STOP: TOTAL NO. OF ITERATIONS REACHED LIMIT.\n",
      "\n",
      "Increase the number of iterations (max_iter) or scale the data as shown in:\n",
      "    https://scikit-learn.org/stable/modules/preprocessing.html\n",
      "Please also refer to the documentation for alternative solver options:\n",
      "    https://scikit-learn.org/stable/modules/linear_model.html#logistic-regression\n",
      "\n",
      "C:\\Users\\Hp\\AppData\\Local\\Packages\\PythonSoftwareFoundation.Python.3.11_qbz5n2kfra8p0\\LocalCache\\local-packages\\Python311\\site-packages\\sklearn\\model_selection\\_validation.py:528: FitFailedWarning:\n",
      "\n",
      "\n",
      "2 fits failed out of a total of 10.\n",
      "The score on these train-test partitions for these parameters will be set to nan.\n",
      "If these failures are not expected, you can try to debug them by setting error_score='raise'.\n",
      "\n",
      "Below are more details about the failures:\n",
      "--------------------------------------------------------------------------------\n",
      "1 fits failed with the following error:\n",
      "Traceback (most recent call last):\n",
      "  File \"C:\\Users\\Hp\\AppData\\Local\\Packages\\PythonSoftwareFoundation.Python.3.11_qbz5n2kfra8p0\\LocalCache\\local-packages\\Python311\\site-packages\\sklearn\\model_selection\\_validation.py\", line 866, in _fit_and_score\n",
      "    estimator.fit(X_train, y_train, **fit_params)\n",
      "  File \"C:\\Users\\Hp\\AppData\\Local\\Packages\\PythonSoftwareFoundation.Python.3.11_qbz5n2kfra8p0\\LocalCache\\local-packages\\Python311\\site-packages\\catboost\\core.py\", line 5245, in fit\n",
      "    self._fit(X, y, cat_features, text_features, embedding_features, None, graph, sample_weight, None, None, None, None, baseline, use_best_model,\n",
      "  File \"C:\\Users\\Hp\\AppData\\Local\\Packages\\PythonSoftwareFoundation.Python.3.11_qbz5n2kfra8p0\\LocalCache\\local-packages\\Python311\\site-packages\\catboost\\core.py\", line 2410, in _fit\n",
      "    self._train(\n",
      "  File \"C:\\Users\\Hp\\AppData\\Local\\Packages\\PythonSoftwareFoundation.Python.3.11_qbz5n2kfra8p0\\LocalCache\\local-packages\\Python311\\site-packages\\catboost\\core.py\", line 1790, in _train\n",
      "    self._object._train(train_pool, test_pool, params, allow_clear_pool, init_model._object if init_model else None)\n",
      "  File \"_catboost.pyx\", line 5017, in _catboost._CatBoost._train\n",
      "  File \"_catboost.pyx\", line 5066, in _catboost._CatBoost._train\n",
      "_catboost.CatBoostError: catboost/libs/train_lib/dir_helper.cpp:20: Can't create train working dir: catboost_info\n",
      "\n",
      "--------------------------------------------------------------------------------\n",
      "1 fits failed with the following error:\n",
      "Traceback (most recent call last):\n",
      "  File \"C:\\Users\\Hp\\AppData\\Local\\Packages\\PythonSoftwareFoundation.Python.3.11_qbz5n2kfra8p0\\LocalCache\\local-packages\\Python311\\site-packages\\sklearn\\model_selection\\_validation.py\", line 866, in _fit_and_score\n",
      "    estimator.fit(X_train, y_train, **fit_params)\n",
      "  File \"C:\\Users\\Hp\\AppData\\Local\\Packages\\PythonSoftwareFoundation.Python.3.11_qbz5n2kfra8p0\\LocalCache\\local-packages\\Python311\\site-packages\\catboost\\core.py\", line 5245, in fit\n",
      "    self._fit(X, y, cat_features, text_features, embedding_features, None, graph, sample_weight, None, None, None, None, baseline, use_best_model,\n",
      "  File \"C:\\Users\\Hp\\AppData\\Local\\Packages\\PythonSoftwareFoundation.Python.3.11_qbz5n2kfra8p0\\LocalCache\\local-packages\\Python311\\site-packages\\catboost\\core.py\", line 2410, in _fit\n",
      "    self._train(\n",
      "  File \"C:\\Users\\Hp\\AppData\\Local\\Packages\\PythonSoftwareFoundation.Python.3.11_qbz5n2kfra8p0\\LocalCache\\local-packages\\Python311\\site-packages\\catboost\\core.py\", line 1790, in _train\n",
      "    self._object._train(train_pool, test_pool, params, allow_clear_pool, init_model._object if init_model else None)\n",
      "  File \"_catboost.pyx\", line 5017, in _catboost._CatBoost._train\n",
      "  File \"_catboost.pyx\", line 5066, in _catboost._CatBoost._train\n",
      "_catboost.CatBoostError: catboost/libs/train_lib/dir_helper.cpp:26: Can't create train tmp dir: tmp\n",
      "\n",
      "\n"
     ]
    },
    {
     "name": "stdout",
     "output_type": "stream",
     "text": [
      "Learning rate set to 0.013939\n",
      "0:\tlearn: 0.6852326\ttotal: 95.5ms\tremaining: 1m 35s\n",
      "1:\tlearn: 0.6771533\ttotal: 103ms\tremaining: 51.5s\n",
      "2:\tlearn: 0.6704284\ttotal: 111ms\tremaining: 37s\n",
      "3:\tlearn: 0.6632001\ttotal: 118ms\tremaining: 29.5s\n",
      "4:\tlearn: 0.6547194\ttotal: 126ms\tremaining: 25.1s\n",
      "5:\tlearn: 0.6482203\ttotal: 133ms\tremaining: 22s\n",
      "6:\tlearn: 0.6413125\ttotal: 141ms\tremaining: 20s\n",
      "7:\tlearn: 0.6341504\ttotal: 148ms\tremaining: 18.3s\n",
      "8:\tlearn: 0.6283418\ttotal: 156ms\tremaining: 17.2s\n",
      "9:\tlearn: 0.6225855\ttotal: 164ms\tremaining: 16.2s\n",
      "10:\tlearn: 0.6173702\ttotal: 172ms\tremaining: 15.5s\n",
      "11:\tlearn: 0.6130043\ttotal: 179ms\tremaining: 14.7s\n",
      "12:\tlearn: 0.6069781\ttotal: 187ms\tremaining: 14.2s\n",
      "13:\tlearn: 0.6025557\ttotal: 194ms\tremaining: 13.7s\n",
      "14:\tlearn: 0.5980250\ttotal: 201ms\tremaining: 13.2s\n",
      "15:\tlearn: 0.5932456\ttotal: 208ms\tremaining: 12.8s\n",
      "16:\tlearn: 0.5882929\ttotal: 215ms\tremaining: 12.4s\n",
      "17:\tlearn: 0.5840444\ttotal: 222ms\tremaining: 12.1s\n",
      "18:\tlearn: 0.5781927\ttotal: 229ms\tremaining: 11.8s\n",
      "19:\tlearn: 0.5741420\ttotal: 237ms\tremaining: 11.6s\n",
      "20:\tlearn: 0.5703113\ttotal: 244ms\tremaining: 11.4s\n",
      "21:\tlearn: 0.5668162\ttotal: 251ms\tremaining: 11.2s\n",
      "22:\tlearn: 0.5626297\ttotal: 258ms\tremaining: 11s\n",
      "23:\tlearn: 0.5571687\ttotal: 266ms\tremaining: 10.8s\n",
      "24:\tlearn: 0.5535306\ttotal: 272ms\tremaining: 10.6s\n",
      "25:\tlearn: 0.5491001\ttotal: 280ms\tremaining: 10.5s\n",
      "26:\tlearn: 0.5449710\ttotal: 287ms\tremaining: 10.3s\n",
      "27:\tlearn: 0.5404251\ttotal: 294ms\tremaining: 10.2s\n",
      "28:\tlearn: 0.5375815\ttotal: 301ms\tremaining: 10.1s\n",
      "29:\tlearn: 0.5341743\ttotal: 308ms\tremaining: 9.97s\n",
      "30:\tlearn: 0.5312571\ttotal: 315ms\tremaining: 9.85s\n",
      "31:\tlearn: 0.5284075\ttotal: 321ms\tremaining: 9.72s\n",
      "32:\tlearn: 0.5255088\ttotal: 329ms\tremaining: 9.63s\n",
      "33:\tlearn: 0.5207628\ttotal: 335ms\tremaining: 9.52s\n",
      "34:\tlearn: 0.5182232\ttotal: 342ms\tremaining: 9.44s\n",
      "35:\tlearn: 0.5154726\ttotal: 349ms\tremaining: 9.36s\n",
      "36:\tlearn: 0.5120694\ttotal: 356ms\tremaining: 9.26s\n",
      "37:\tlearn: 0.5087744\ttotal: 363ms\tremaining: 9.19s\n",
      "38:\tlearn: 0.5048768\ttotal: 369ms\tremaining: 9.09s\n",
      "39:\tlearn: 0.5011151\ttotal: 376ms\tremaining: 9.02s\n",
      "40:\tlearn: 0.4987232\ttotal: 383ms\tremaining: 8.95s\n",
      "41:\tlearn: 0.4965774\ttotal: 390ms\tremaining: 8.9s\n",
      "42:\tlearn: 0.4942490\ttotal: 398ms\tremaining: 8.86s\n",
      "43:\tlearn: 0.4917089\ttotal: 405ms\tremaining: 8.81s\n",
      "44:\tlearn: 0.4889386\ttotal: 412ms\tremaining: 8.75s\n",
      "45:\tlearn: 0.4858940\ttotal: 419ms\tremaining: 8.69s\n",
      "46:\tlearn: 0.4836822\ttotal: 427ms\tremaining: 8.66s\n",
      "47:\tlearn: 0.4810935\ttotal: 434ms\tremaining: 8.6s\n",
      "48:\tlearn: 0.4791100\ttotal: 441ms\tremaining: 8.56s\n",
      "49:\tlearn: 0.4766742\ttotal: 448ms\tremaining: 8.5s\n",
      "50:\tlearn: 0.4745611\ttotal: 455ms\tremaining: 8.47s\n",
      "51:\tlearn: 0.4723833\ttotal: 462ms\tremaining: 8.42s\n",
      "52:\tlearn: 0.4706263\ttotal: 469ms\tremaining: 8.38s\n",
      "53:\tlearn: 0.4682735\ttotal: 476ms\tremaining: 8.34s\n",
      "54:\tlearn: 0.4661538\ttotal: 484ms\tremaining: 8.32s\n",
      "55:\tlearn: 0.4639043\ttotal: 491ms\tremaining: 8.28s\n",
      "56:\tlearn: 0.4605049\ttotal: 497ms\tremaining: 8.23s\n",
      "57:\tlearn: 0.4591546\ttotal: 505ms\tremaining: 8.21s\n",
      "58:\tlearn: 0.4578378\ttotal: 512ms\tremaining: 8.17s\n",
      "59:\tlearn: 0.4553111\ttotal: 521ms\tremaining: 8.16s\n",
      "60:\tlearn: 0.4531188\ttotal: 528ms\tremaining: 8.13s\n",
      "61:\tlearn: 0.4511380\ttotal: 536ms\tremaining: 8.11s\n",
      "62:\tlearn: 0.4496899\ttotal: 542ms\tremaining: 8.06s\n",
      "63:\tlearn: 0.4479086\ttotal: 549ms\tremaining: 8.04s\n",
      "64:\tlearn: 0.4455884\ttotal: 558ms\tremaining: 8.03s\n",
      "65:\tlearn: 0.4440396\ttotal: 566ms\tremaining: 8.01s\n",
      "66:\tlearn: 0.4421884\ttotal: 574ms\tremaining: 7.99s\n",
      "67:\tlearn: 0.4405054\ttotal: 585ms\tremaining: 8.02s\n",
      "68:\tlearn: 0.4388922\ttotal: 592ms\tremaining: 7.99s\n",
      "69:\tlearn: 0.4378073\ttotal: 604ms\tremaining: 8.03s\n",
      "70:\tlearn: 0.4365548\ttotal: 613ms\tremaining: 8.02s\n",
      "71:\tlearn: 0.4352149\ttotal: 623ms\tremaining: 8.03s\n",
      "72:\tlearn: 0.4340412\ttotal: 639ms\tremaining: 8.11s\n",
      "73:\tlearn: 0.4324992\ttotal: 653ms\tremaining: 8.17s\n",
      "74:\tlearn: 0.4311570\ttotal: 661ms\tremaining: 8.15s\n",
      "75:\tlearn: 0.4295957\ttotal: 672ms\tremaining: 8.17s\n",
      "76:\tlearn: 0.4285455\ttotal: 683ms\tremaining: 8.18s\n",
      "77:\tlearn: 0.4270910\ttotal: 692ms\tremaining: 8.18s\n",
      "78:\tlearn: 0.4255347\ttotal: 703ms\tremaining: 8.2s\n",
      "79:\tlearn: 0.4236257\ttotal: 712ms\tremaining: 8.19s\n",
      "80:\tlearn: 0.4226711\ttotal: 721ms\tremaining: 8.18s\n",
      "81:\tlearn: 0.4209655\ttotal: 734ms\tremaining: 8.22s\n",
      "82:\tlearn: 0.4198317\ttotal: 743ms\tremaining: 8.21s\n",
      "83:\tlearn: 0.4189176\ttotal: 753ms\tremaining: 8.21s\n",
      "84:\tlearn: 0.4180745\ttotal: 765ms\tremaining: 8.23s\n",
      "85:\tlearn: 0.4163468\ttotal: 772ms\tremaining: 8.2s\n",
      "86:\tlearn: 0.4154235\ttotal: 782ms\tremaining: 8.21s\n",
      "87:\tlearn: 0.4139428\ttotal: 790ms\tremaining: 8.18s\n",
      "88:\tlearn: 0.4133787\ttotal: 800ms\tremaining: 8.19s\n",
      "89:\tlearn: 0.4119210\ttotal: 812ms\tremaining: 8.21s\n",
      "90:\tlearn: 0.4104640\ttotal: 819ms\tremaining: 8.18s\n",
      "91:\tlearn: 0.4091569\ttotal: 830ms\tremaining: 8.19s\n",
      "92:\tlearn: 0.4081190\ttotal: 838ms\tremaining: 8.18s\n",
      "93:\tlearn: 0.4073457\ttotal: 846ms\tremaining: 8.15s\n",
      "94:\tlearn: 0.4062085\ttotal: 853ms\tremaining: 8.13s\n",
      "95:\tlearn: 0.4048586\ttotal: 861ms\tremaining: 8.1s\n",
      "96:\tlearn: 0.4036239\ttotal: 868ms\tremaining: 8.08s\n",
      "97:\tlearn: 0.4028735\ttotal: 875ms\tremaining: 8.05s\n",
      "98:\tlearn: 0.4020885\ttotal: 883ms\tremaining: 8.04s\n",
      "99:\tlearn: 0.4012669\ttotal: 891ms\tremaining: 8.02s\n",
      "100:\tlearn: 0.4004489\ttotal: 899ms\tremaining: 8.01s\n",
      "101:\tlearn: 0.3993550\ttotal: 906ms\tremaining: 7.98s\n",
      "102:\tlearn: 0.3983095\ttotal: 916ms\tremaining: 7.98s\n",
      "103:\tlearn: 0.3974030\ttotal: 924ms\tremaining: 7.96s\n",
      "104:\tlearn: 0.3963941\ttotal: 933ms\tremaining: 7.95s\n",
      "105:\tlearn: 0.3953684\ttotal: 940ms\tremaining: 7.92s\n",
      "106:\tlearn: 0.3938914\ttotal: 951ms\tremaining: 7.93s\n",
      "107:\tlearn: 0.3930353\ttotal: 958ms\tremaining: 7.91s\n",
      "108:\tlearn: 0.3921635\ttotal: 966ms\tremaining: 7.9s\n",
      "109:\tlearn: 0.3910823\ttotal: 975ms\tremaining: 7.89s\n",
      "110:\tlearn: 0.3902006\ttotal: 986ms\tremaining: 7.89s\n",
      "111:\tlearn: 0.3891751\ttotal: 994ms\tremaining: 7.88s\n",
      "112:\tlearn: 0.3885532\ttotal: 1s\tremaining: 7.87s\n",
      "113:\tlearn: 0.3876764\ttotal: 1.01s\tremaining: 7.85s\n",
      "114:\tlearn: 0.3870713\ttotal: 1.02s\tremaining: 7.85s\n",
      "115:\tlearn: 0.3861170\ttotal: 1.03s\tremaining: 7.87s\n",
      "116:\tlearn: 0.3853620\ttotal: 1.04s\tremaining: 7.85s\n",
      "117:\tlearn: 0.3846007\ttotal: 1.05s\tremaining: 7.87s\n",
      "118:\tlearn: 0.3837797\ttotal: 1.06s\tremaining: 7.89s\n",
      "119:\tlearn: 0.3834004\ttotal: 1.07s\tremaining: 7.88s\n",
      "120:\tlearn: 0.3829832\ttotal: 1.09s\tremaining: 7.89s\n",
      "121:\tlearn: 0.3822577\ttotal: 1.1s\tremaining: 7.91s\n",
      "122:\tlearn: 0.3817873\ttotal: 1.11s\tremaining: 7.9s\n",
      "123:\tlearn: 0.3803792\ttotal: 1.12s\tremaining: 7.9s\n",
      "124:\tlearn: 0.3796687\ttotal: 1.13s\tremaining: 7.92s\n",
      "125:\tlearn: 0.3789112\ttotal: 1.14s\tremaining: 7.9s\n",
      "126:\tlearn: 0.3783498\ttotal: 1.15s\tremaining: 7.91s\n",
      "127:\tlearn: 0.3775711\ttotal: 1.16s\tremaining: 7.92s\n",
      "128:\tlearn: 0.3768882\ttotal: 1.17s\tremaining: 7.93s\n",
      "129:\tlearn: 0.3765322\ttotal: 1.18s\tremaining: 7.91s\n",
      "130:\tlearn: 0.3755291\ttotal: 1.19s\tremaining: 7.92s\n",
      "131:\tlearn: 0.3747966\ttotal: 1.21s\tremaining: 7.93s\n",
      "132:\tlearn: 0.3739913\ttotal: 1.21s\tremaining: 7.91s\n",
      "133:\tlearn: 0.3731738\ttotal: 1.22s\tremaining: 7.9s\n",
      "134:\tlearn: 0.3720641\ttotal: 1.23s\tremaining: 7.88s\n",
      "135:\tlearn: 0.3709418\ttotal: 1.24s\tremaining: 7.87s\n",
      "136:\tlearn: 0.3703008\ttotal: 1.25s\tremaining: 7.85s\n",
      "137:\tlearn: 0.3694430\ttotal: 1.25s\tremaining: 7.83s\n",
      "138:\tlearn: 0.3685032\ttotal: 1.26s\tremaining: 7.81s\n",
      "139:\tlearn: 0.3680657\ttotal: 1.27s\tremaining: 7.81s\n",
      "140:\tlearn: 0.3677186\ttotal: 1.28s\tremaining: 7.78s\n",
      "141:\tlearn: 0.3670869\ttotal: 1.28s\tremaining: 7.76s\n",
      "142:\tlearn: 0.3660645\ttotal: 1.29s\tremaining: 7.75s\n",
      "143:\tlearn: 0.3655719\ttotal: 1.3s\tremaining: 7.74s\n",
      "144:\tlearn: 0.3650049\ttotal: 1.31s\tremaining: 7.72s\n",
      "145:\tlearn: 0.3643971\ttotal: 1.32s\tremaining: 7.71s\n",
      "146:\tlearn: 0.3634804\ttotal: 1.32s\tremaining: 7.68s\n",
      "147:\tlearn: 0.3629346\ttotal: 1.33s\tremaining: 7.67s\n",
      "148:\tlearn: 0.3625982\ttotal: 1.34s\tremaining: 7.66s\n",
      "149:\tlearn: 0.3616075\ttotal: 1.35s\tremaining: 7.64s\n",
      "150:\tlearn: 0.3608920\ttotal: 1.35s\tremaining: 7.62s\n",
      "151:\tlearn: 0.3603326\ttotal: 1.36s\tremaining: 7.6s\n",
      "152:\tlearn: 0.3599012\ttotal: 1.37s\tremaining: 7.58s\n",
      "153:\tlearn: 0.3591302\ttotal: 1.38s\tremaining: 7.57s\n",
      "154:\tlearn: 0.3586111\ttotal: 1.38s\tremaining: 7.55s\n",
      "155:\tlearn: 0.3579449\ttotal: 1.39s\tremaining: 7.53s\n",
      "156:\tlearn: 0.3571607\ttotal: 1.4s\tremaining: 7.52s\n",
      "157:\tlearn: 0.3562815\ttotal: 1.41s\tremaining: 7.5s\n",
      "158:\tlearn: 0.3553813\ttotal: 1.42s\tremaining: 7.49s\n",
      "159:\tlearn: 0.3549473\ttotal: 1.42s\tremaining: 7.48s\n",
      "160:\tlearn: 0.3544287\ttotal: 1.43s\tremaining: 7.47s\n",
      "161:\tlearn: 0.3537963\ttotal: 1.44s\tremaining: 7.46s\n",
      "162:\tlearn: 0.3528482\ttotal: 1.45s\tremaining: 7.44s\n",
      "163:\tlearn: 0.3519772\ttotal: 1.46s\tremaining: 7.42s\n",
      "164:\tlearn: 0.3511294\ttotal: 1.46s\tremaining: 7.41s\n",
      "165:\tlearn: 0.3506872\ttotal: 1.47s\tremaining: 7.39s\n",
      "166:\tlearn: 0.3499299\ttotal: 1.48s\tremaining: 7.38s\n",
      "167:\tlearn: 0.3495897\ttotal: 1.49s\tremaining: 7.36s\n",
      "168:\tlearn: 0.3490415\ttotal: 1.49s\tremaining: 7.35s\n",
      "169:\tlearn: 0.3482603\ttotal: 1.5s\tremaining: 7.33s\n",
      "170:\tlearn: 0.3469533\ttotal: 1.51s\tremaining: 7.32s\n",
      "171:\tlearn: 0.3463725\ttotal: 1.52s\tremaining: 7.3s\n",
      "172:\tlearn: 0.3458145\ttotal: 1.52s\tremaining: 7.29s\n",
      "173:\tlearn: 0.3454544\ttotal: 1.53s\tremaining: 7.27s\n",
      "174:\tlearn: 0.3451094\ttotal: 1.54s\tremaining: 7.26s\n",
      "175:\tlearn: 0.3442659\ttotal: 1.55s\tremaining: 7.25s\n",
      "176:\tlearn: 0.3434872\ttotal: 1.55s\tremaining: 7.23s\n",
      "177:\tlearn: 0.3428748\ttotal: 1.56s\tremaining: 7.21s\n",
      "178:\tlearn: 0.3423323\ttotal: 1.57s\tremaining: 7.2s\n",
      "179:\tlearn: 0.3419270\ttotal: 1.58s\tremaining: 7.21s\n",
      "180:\tlearn: 0.3413677\ttotal: 1.59s\tremaining: 7.19s\n",
      "181:\tlearn: 0.3409316\ttotal: 1.59s\tremaining: 7.17s\n",
      "182:\tlearn: 0.3402714\ttotal: 1.6s\tremaining: 7.16s\n",
      "183:\tlearn: 0.3394872\ttotal: 1.61s\tremaining: 7.14s\n",
      "184:\tlearn: 0.3391179\ttotal: 1.62s\tremaining: 7.13s\n",
      "185:\tlearn: 0.3387755\ttotal: 1.63s\tremaining: 7.12s\n",
      "186:\tlearn: 0.3381320\ttotal: 1.63s\tremaining: 7.1s\n",
      "187:\tlearn: 0.3376747\ttotal: 1.64s\tremaining: 7.09s\n",
      "188:\tlearn: 0.3373400\ttotal: 1.65s\tremaining: 7.08s\n",
      "189:\tlearn: 0.3367697\ttotal: 1.66s\tremaining: 7.06s\n",
      "190:\tlearn: 0.3360787\ttotal: 1.66s\tremaining: 7.04s\n",
      "191:\tlearn: 0.3357563\ttotal: 1.67s\tremaining: 7.03s\n",
      "192:\tlearn: 0.3351197\ttotal: 1.68s\tremaining: 7.01s\n",
      "193:\tlearn: 0.3343315\ttotal: 1.68s\tremaining: 7s\n",
      "194:\tlearn: 0.3339961\ttotal: 1.69s\tremaining: 6.98s\n",
      "195:\tlearn: 0.3335865\ttotal: 1.7s\tremaining: 6.97s\n",
      "196:\tlearn: 0.3329101\ttotal: 1.71s\tremaining: 6.95s\n",
      "197:\tlearn: 0.3322829\ttotal: 1.71s\tremaining: 6.94s\n",
      "198:\tlearn: 0.3318752\ttotal: 1.72s\tremaining: 6.92s\n",
      "199:\tlearn: 0.3313153\ttotal: 1.73s\tremaining: 6.91s\n",
      "200:\tlearn: 0.3306758\ttotal: 1.74s\tremaining: 6.9s\n",
      "201:\tlearn: 0.3303471\ttotal: 1.74s\tremaining: 6.89s\n",
      "202:\tlearn: 0.3300156\ttotal: 1.75s\tremaining: 6.87s\n",
      "203:\tlearn: 0.3295248\ttotal: 1.76s\tremaining: 6.86s\n",
      "204:\tlearn: 0.3290572\ttotal: 1.76s\tremaining: 6.85s\n",
      "205:\tlearn: 0.3284524\ttotal: 1.77s\tremaining: 6.84s\n",
      "206:\tlearn: 0.3282017\ttotal: 1.78s\tremaining: 6.83s\n",
      "207:\tlearn: 0.3275895\ttotal: 1.79s\tremaining: 6.81s\n",
      "208:\tlearn: 0.3270838\ttotal: 1.8s\tremaining: 6.8s\n",
      "209:\tlearn: 0.3265338\ttotal: 1.8s\tremaining: 6.79s\n",
      "210:\tlearn: 0.3263150\ttotal: 1.81s\tremaining: 6.78s\n",
      "211:\tlearn: 0.3258470\ttotal: 1.82s\tremaining: 6.77s\n",
      "212:\tlearn: 0.3254555\ttotal: 1.83s\tremaining: 6.75s\n",
      "213:\tlearn: 0.3249000\ttotal: 1.83s\tremaining: 6.74s\n",
      "214:\tlearn: 0.3246295\ttotal: 1.84s\tremaining: 6.73s\n",
      "215:\tlearn: 0.3242426\ttotal: 1.85s\tremaining: 6.72s\n",
      "216:\tlearn: 0.3238521\ttotal: 1.86s\tremaining: 6.7s\n",
      "217:\tlearn: 0.3235234\ttotal: 1.86s\tremaining: 6.69s\n",
      "218:\tlearn: 0.3231898\ttotal: 1.87s\tremaining: 6.67s\n",
      "219:\tlearn: 0.3228799\ttotal: 1.88s\tremaining: 6.66s\n",
      "220:\tlearn: 0.3224557\ttotal: 1.89s\tremaining: 6.65s\n",
      "221:\tlearn: 0.3221757\ttotal: 1.89s\tremaining: 6.63s\n",
      "222:\tlearn: 0.3218125\ttotal: 1.9s\tremaining: 6.62s\n",
      "223:\tlearn: 0.3212461\ttotal: 1.91s\tremaining: 6.61s\n",
      "224:\tlearn: 0.3204716\ttotal: 1.92s\tremaining: 6.61s\n",
      "225:\tlearn: 0.3201852\ttotal: 1.92s\tremaining: 6.59s\n",
      "226:\tlearn: 0.3197407\ttotal: 1.93s\tremaining: 6.58s\n",
      "227:\tlearn: 0.3194174\ttotal: 1.94s\tremaining: 6.56s\n",
      "228:\tlearn: 0.3191272\ttotal: 1.95s\tremaining: 6.55s\n",
      "229:\tlearn: 0.3189323\ttotal: 1.95s\tremaining: 6.53s\n",
      "230:\tlearn: 0.3183374\ttotal: 1.96s\tremaining: 6.52s\n",
      "231:\tlearn: 0.3180480\ttotal: 1.97s\tremaining: 6.51s\n",
      "232:\tlearn: 0.3177174\ttotal: 1.97s\tremaining: 6.49s\n",
      "233:\tlearn: 0.3172331\ttotal: 1.98s\tremaining: 6.49s\n",
      "234:\tlearn: 0.3168966\ttotal: 1.99s\tremaining: 6.47s\n",
      "235:\tlearn: 0.3166005\ttotal: 2s\tremaining: 6.46s\n",
      "236:\tlearn: 0.3163051\ttotal: 2s\tremaining: 6.44s\n",
      "237:\tlearn: 0.3158623\ttotal: 2.01s\tremaining: 6.43s\n",
      "238:\tlearn: 0.3154091\ttotal: 2.02s\tremaining: 6.42s\n",
      "239:\tlearn: 0.3150092\ttotal: 2.02s\tremaining: 6.41s\n",
      "240:\tlearn: 0.3147622\ttotal: 2.03s\tremaining: 6.4s\n",
      "241:\tlearn: 0.3143541\ttotal: 2.04s\tremaining: 6.39s\n",
      "242:\tlearn: 0.3137885\ttotal: 2.05s\tremaining: 6.38s\n",
      "243:\tlearn: 0.3134554\ttotal: 2.06s\tremaining: 6.37s\n",
      "244:\tlearn: 0.3129900\ttotal: 2.06s\tremaining: 6.36s\n",
      "245:\tlearn: 0.3126041\ttotal: 2.07s\tremaining: 6.34s\n",
      "246:\tlearn: 0.3121176\ttotal: 2.08s\tremaining: 6.33s\n",
      "247:\tlearn: 0.3119283\ttotal: 2.08s\tremaining: 6.32s\n",
      "248:\tlearn: 0.3115986\ttotal: 2.09s\tremaining: 6.31s\n",
      "249:\tlearn: 0.3111607\ttotal: 2.1s\tremaining: 6.29s\n",
      "250:\tlearn: 0.3108179\ttotal: 2.1s\tremaining: 6.28s\n",
      "251:\tlearn: 0.3106373\ttotal: 2.11s\tremaining: 6.27s\n",
      "252:\tlearn: 0.3102375\ttotal: 2.12s\tremaining: 6.26s\n",
      "253:\tlearn: 0.3100770\ttotal: 2.13s\tremaining: 6.25s\n",
      "254:\tlearn: 0.3095102\ttotal: 2.13s\tremaining: 6.23s\n",
      "255:\tlearn: 0.3090274\ttotal: 2.14s\tremaining: 6.22s\n",
      "256:\tlearn: 0.3086490\ttotal: 2.15s\tremaining: 6.2s\n",
      "257:\tlearn: 0.3083356\ttotal: 2.15s\tremaining: 6.19s\n",
      "258:\tlearn: 0.3079865\ttotal: 2.16s\tremaining: 6.18s\n",
      "259:\tlearn: 0.3075239\ttotal: 2.17s\tremaining: 6.17s\n",
      "260:\tlearn: 0.3073704\ttotal: 2.17s\tremaining: 6.15s\n",
      "261:\tlearn: 0.3070367\ttotal: 2.18s\tremaining: 6.14s\n",
      "262:\tlearn: 0.3066390\ttotal: 2.19s\tremaining: 6.13s\n",
      "263:\tlearn: 0.3061559\ttotal: 2.19s\tremaining: 6.12s\n",
      "264:\tlearn: 0.3055000\ttotal: 2.21s\tremaining: 6.12s\n",
      "265:\tlearn: 0.3052148\ttotal: 2.22s\tremaining: 6.13s\n",
      "266:\tlearn: 0.3049234\ttotal: 2.23s\tremaining: 6.12s\n",
      "267:\tlearn: 0.3046356\ttotal: 2.24s\tremaining: 6.11s\n",
      "268:\tlearn: 0.3040724\ttotal: 2.25s\tremaining: 6.11s\n",
      "269:\tlearn: 0.3038123\ttotal: 2.25s\tremaining: 6.1s\n",
      "270:\tlearn: 0.3035416\ttotal: 2.27s\tremaining: 6.09s\n",
      "271:\tlearn: 0.3031011\ttotal: 2.27s\tremaining: 6.08s\n",
      "272:\tlearn: 0.3026833\ttotal: 2.28s\tremaining: 6.08s\n",
      "273:\tlearn: 0.3023975\ttotal: 2.29s\tremaining: 6.06s\n",
      "274:\tlearn: 0.3020606\ttotal: 2.3s\tremaining: 6.05s\n",
      "275:\tlearn: 0.3016406\ttotal: 2.3s\tremaining: 6.04s\n",
      "276:\tlearn: 0.3013355\ttotal: 2.31s\tremaining: 6.04s\n",
      "277:\tlearn: 0.3009876\ttotal: 2.32s\tremaining: 6.03s\n",
      "278:\tlearn: 0.3008399\ttotal: 2.33s\tremaining: 6.02s\n",
      "279:\tlearn: 0.3004926\ttotal: 2.34s\tremaining: 6.01s\n",
      "280:\tlearn: 0.3001715\ttotal: 2.35s\tremaining: 6s\n",
      "281:\tlearn: 0.2999980\ttotal: 2.35s\tremaining: 5.99s\n",
      "282:\tlearn: 0.2997968\ttotal: 2.36s\tremaining: 5.98s\n",
      "283:\tlearn: 0.2995063\ttotal: 2.37s\tremaining: 5.97s\n",
      "284:\tlearn: 0.2991565\ttotal: 2.37s\tremaining: 5.96s\n",
      "285:\tlearn: 0.2987720\ttotal: 2.38s\tremaining: 5.95s\n",
      "286:\tlearn: 0.2981955\ttotal: 2.39s\tremaining: 5.93s\n",
      "287:\tlearn: 0.2978160\ttotal: 2.4s\tremaining: 5.92s\n",
      "288:\tlearn: 0.2972220\ttotal: 2.4s\tremaining: 5.91s\n",
      "289:\tlearn: 0.2968749\ttotal: 2.41s\tremaining: 5.91s\n",
      "290:\tlearn: 0.2966169\ttotal: 2.42s\tremaining: 5.89s\n",
      "291:\tlearn: 0.2962618\ttotal: 2.43s\tremaining: 5.88s\n",
      "292:\tlearn: 0.2958477\ttotal: 2.43s\tremaining: 5.87s\n",
      "293:\tlearn: 0.2954612\ttotal: 2.44s\tremaining: 5.86s\n",
      "294:\tlearn: 0.2950230\ttotal: 2.45s\tremaining: 5.85s\n",
      "295:\tlearn: 0.2946281\ttotal: 2.46s\tremaining: 5.84s\n",
      "296:\tlearn: 0.2943919\ttotal: 2.46s\tremaining: 5.83s\n",
      "297:\tlearn: 0.2939313\ttotal: 2.47s\tremaining: 5.82s\n",
      "298:\tlearn: 0.2936976\ttotal: 2.48s\tremaining: 5.81s\n",
      "299:\tlearn: 0.2932902\ttotal: 2.48s\tremaining: 5.8s\n",
      "300:\tlearn: 0.2929379\ttotal: 2.49s\tremaining: 5.79s\n",
      "301:\tlearn: 0.2923228\ttotal: 2.5s\tremaining: 5.77s\n",
      "302:\tlearn: 0.2920571\ttotal: 2.5s\tremaining: 5.76s\n",
      "303:\tlearn: 0.2917817\ttotal: 2.51s\tremaining: 5.75s\n",
      "304:\tlearn: 0.2910665\ttotal: 2.52s\tremaining: 5.74s\n",
      "305:\tlearn: 0.2907673\ttotal: 2.52s\tremaining: 5.73s\n",
      "306:\tlearn: 0.2903239\ttotal: 2.53s\tremaining: 5.71s\n",
      "307:\tlearn: 0.2899854\ttotal: 2.54s\tremaining: 5.7s\n",
      "308:\tlearn: 0.2898182\ttotal: 2.55s\tremaining: 5.69s\n",
      "309:\tlearn: 0.2894768\ttotal: 2.55s\tremaining: 5.68s\n",
      "310:\tlearn: 0.2892980\ttotal: 2.56s\tremaining: 5.67s\n",
      "311:\tlearn: 0.2891126\ttotal: 2.57s\tremaining: 5.66s\n",
      "312:\tlearn: 0.2885720\ttotal: 2.57s\tremaining: 5.65s\n",
      "313:\tlearn: 0.2881957\ttotal: 2.58s\tremaining: 5.64s\n",
      "314:\tlearn: 0.2879966\ttotal: 2.59s\tremaining: 5.63s\n",
      "315:\tlearn: 0.2876269\ttotal: 2.59s\tremaining: 5.62s\n",
      "316:\tlearn: 0.2873145\ttotal: 2.6s\tremaining: 5.6s\n",
      "317:\tlearn: 0.2866643\ttotal: 2.61s\tremaining: 5.59s\n",
      "318:\tlearn: 0.2863782\ttotal: 2.62s\tremaining: 5.58s\n",
      "319:\tlearn: 0.2860727\ttotal: 2.62s\tremaining: 5.57s\n",
      "320:\tlearn: 0.2857772\ttotal: 2.63s\tremaining: 5.56s\n",
      "321:\tlearn: 0.2853887\ttotal: 2.63s\tremaining: 5.55s\n",
      "322:\tlearn: 0.2849949\ttotal: 2.64s\tremaining: 5.54s\n",
      "323:\tlearn: 0.2844850\ttotal: 2.65s\tremaining: 5.53s\n",
      "324:\tlearn: 0.2842487\ttotal: 2.65s\tremaining: 5.51s\n",
      "325:\tlearn: 0.2840223\ttotal: 2.66s\tremaining: 5.5s\n",
      "326:\tlearn: 0.2835755\ttotal: 2.67s\tremaining: 5.49s\n",
      "327:\tlearn: 0.2831680\ttotal: 2.68s\tremaining: 5.48s\n",
      "328:\tlearn: 0.2827752\ttotal: 2.68s\tremaining: 5.47s\n",
      "329:\tlearn: 0.2825033\ttotal: 2.69s\tremaining: 5.46s\n",
      "330:\tlearn: 0.2822440\ttotal: 2.7s\tremaining: 5.45s\n",
      "331:\tlearn: 0.2820612\ttotal: 2.7s\tremaining: 5.44s\n",
      "332:\tlearn: 0.2818916\ttotal: 2.71s\tremaining: 5.43s\n",
      "333:\tlearn: 0.2817527\ttotal: 2.72s\tremaining: 5.42s\n",
      "334:\tlearn: 0.2815606\ttotal: 2.72s\tremaining: 5.41s\n",
      "335:\tlearn: 0.2812776\ttotal: 2.73s\tremaining: 5.39s\n",
      "336:\tlearn: 0.2810277\ttotal: 2.74s\tremaining: 5.38s\n",
      "337:\tlearn: 0.2808790\ttotal: 2.74s\tremaining: 5.37s\n",
      "338:\tlearn: 0.2804021\ttotal: 2.75s\tremaining: 5.36s\n",
      "339:\tlearn: 0.2802323\ttotal: 2.76s\tremaining: 5.35s\n",
      "340:\tlearn: 0.2800200\ttotal: 2.77s\tremaining: 5.34s\n",
      "341:\tlearn: 0.2796523\ttotal: 2.77s\tremaining: 5.33s\n",
      "342:\tlearn: 0.2793220\ttotal: 2.78s\tremaining: 5.32s\n",
      "343:\tlearn: 0.2789139\ttotal: 2.79s\tremaining: 5.31s\n",
      "344:\tlearn: 0.2786826\ttotal: 2.79s\tremaining: 5.3s\n",
      "345:\tlearn: 0.2784602\ttotal: 2.8s\tremaining: 5.29s\n",
      "346:\tlearn: 0.2782513\ttotal: 2.81s\tremaining: 5.28s\n",
      "347:\tlearn: 0.2778683\ttotal: 2.82s\tremaining: 5.28s\n",
      "348:\tlearn: 0.2777159\ttotal: 2.83s\tremaining: 5.27s\n",
      "349:\tlearn: 0.2773920\ttotal: 2.83s\tremaining: 5.26s\n",
      "350:\tlearn: 0.2772016\ttotal: 2.84s\tremaining: 5.26s\n",
      "351:\tlearn: 0.2767731\ttotal: 2.85s\tremaining: 5.26s\n",
      "352:\tlearn: 0.2764938\ttotal: 2.86s\tremaining: 5.25s\n",
      "353:\tlearn: 0.2759893\ttotal: 2.87s\tremaining: 5.24s\n",
      "354:\tlearn: 0.2758110\ttotal: 2.88s\tremaining: 5.24s\n",
      "355:\tlearn: 0.2754808\ttotal: 2.9s\tremaining: 5.24s\n",
      "356:\tlearn: 0.2749359\ttotal: 2.91s\tremaining: 5.24s\n",
      "357:\tlearn: 0.2747591\ttotal: 2.92s\tremaining: 5.24s\n",
      "358:\tlearn: 0.2744995\ttotal: 2.93s\tremaining: 5.24s\n",
      "359:\tlearn: 0.2742777\ttotal: 2.94s\tremaining: 5.23s\n",
      "360:\tlearn: 0.2741511\ttotal: 2.95s\tremaining: 5.23s\n",
      "361:\tlearn: 0.2739018\ttotal: 2.97s\tremaining: 5.23s\n",
      "362:\tlearn: 0.2734486\ttotal: 3s\tremaining: 5.26s\n",
      "363:\tlearn: 0.2731194\ttotal: 3.01s\tremaining: 5.25s\n",
      "364:\tlearn: 0.2729110\ttotal: 3.02s\tremaining: 5.25s\n",
      "365:\tlearn: 0.2726003\ttotal: 3.03s\tremaining: 5.25s\n",
      "366:\tlearn: 0.2723576\ttotal: 3.04s\tremaining: 5.25s\n",
      "367:\tlearn: 0.2718368\ttotal: 3.05s\tremaining: 5.24s\n",
      "368:\tlearn: 0.2716179\ttotal: 3.06s\tremaining: 5.23s\n",
      "369:\tlearn: 0.2714775\ttotal: 3.07s\tremaining: 5.22s\n",
      "370:\tlearn: 0.2711964\ttotal: 3.07s\tremaining: 5.21s\n",
      "371:\tlearn: 0.2709028\ttotal: 3.08s\tremaining: 5.2s\n",
      "372:\tlearn: 0.2706230\ttotal: 3.09s\tremaining: 5.19s\n",
      "373:\tlearn: 0.2701385\ttotal: 3.1s\tremaining: 5.19s\n",
      "374:\tlearn: 0.2699410\ttotal: 3.11s\tremaining: 5.19s\n",
      "375:\tlearn: 0.2697064\ttotal: 3.12s\tremaining: 5.18s\n",
      "376:\tlearn: 0.2693317\ttotal: 3.13s\tremaining: 5.18s\n",
      "377:\tlearn: 0.2692054\ttotal: 3.15s\tremaining: 5.18s\n",
      "378:\tlearn: 0.2689268\ttotal: 3.16s\tremaining: 5.17s\n",
      "379:\tlearn: 0.2687277\ttotal: 3.17s\tremaining: 5.17s\n",
      "380:\tlearn: 0.2685124\ttotal: 3.18s\tremaining: 5.16s\n",
      "381:\tlearn: 0.2682360\ttotal: 3.18s\tremaining: 5.15s\n",
      "382:\tlearn: 0.2680559\ttotal: 3.19s\tremaining: 5.14s\n",
      "383:\tlearn: 0.2678176\ttotal: 3.2s\tremaining: 5.13s\n",
      "384:\tlearn: 0.2676251\ttotal: 3.21s\tremaining: 5.13s\n",
      "385:\tlearn: 0.2673626\ttotal: 3.22s\tremaining: 5.12s\n",
      "386:\tlearn: 0.2671972\ttotal: 3.23s\tremaining: 5.11s\n",
      "387:\tlearn: 0.2670528\ttotal: 3.23s\tremaining: 5.1s\n",
      "388:\tlearn: 0.2667008\ttotal: 3.24s\tremaining: 5.09s\n",
      "389:\tlearn: 0.2663505\ttotal: 3.25s\tremaining: 5.08s\n",
      "390:\tlearn: 0.2660726\ttotal: 3.26s\tremaining: 5.07s\n",
      "391:\tlearn: 0.2658205\ttotal: 3.26s\tremaining: 5.06s\n",
      "392:\tlearn: 0.2655369\ttotal: 3.27s\tremaining: 5.05s\n",
      "393:\tlearn: 0.2649823\ttotal: 3.28s\tremaining: 5.04s\n",
      "394:\tlearn: 0.2647591\ttotal: 3.29s\tremaining: 5.03s\n",
      "395:\tlearn: 0.2643769\ttotal: 3.3s\tremaining: 5.03s\n",
      "396:\tlearn: 0.2639875\ttotal: 3.31s\tremaining: 5.02s\n",
      "397:\tlearn: 0.2637728\ttotal: 3.31s\tremaining: 5.01s\n",
      "398:\tlearn: 0.2636218\ttotal: 3.33s\tremaining: 5.01s\n",
      "399:\tlearn: 0.2632341\ttotal: 3.37s\tremaining: 5.05s\n",
      "400:\tlearn: 0.2630240\ttotal: 3.38s\tremaining: 5.06s\n",
      "401:\tlearn: 0.2626320\ttotal: 3.41s\tremaining: 5.07s\n",
      "402:\tlearn: 0.2622681\ttotal: 3.42s\tremaining: 5.07s\n",
      "403:\tlearn: 0.2618669\ttotal: 3.44s\tremaining: 5.07s\n",
      "404:\tlearn: 0.2615912\ttotal: 3.46s\tremaining: 5.08s\n",
      "405:\tlearn: 0.2611551\ttotal: 3.48s\tremaining: 5.09s\n",
      "406:\tlearn: 0.2608831\ttotal: 3.49s\tremaining: 5.09s\n",
      "407:\tlearn: 0.2605567\ttotal: 3.5s\tremaining: 5.08s\n",
      "408:\tlearn: 0.2602459\ttotal: 3.52s\tremaining: 5.08s\n",
      "409:\tlearn: 0.2599551\ttotal: 3.53s\tremaining: 5.08s\n",
      "410:\tlearn: 0.2596809\ttotal: 3.54s\tremaining: 5.08s\n",
      "411:\tlearn: 0.2594177\ttotal: 3.56s\tremaining: 5.08s\n",
      "412:\tlearn: 0.2592352\ttotal: 3.57s\tremaining: 5.08s\n",
      "413:\tlearn: 0.2590987\ttotal: 3.59s\tremaining: 5.08s\n",
      "414:\tlearn: 0.2589222\ttotal: 3.6s\tremaining: 5.08s\n",
      "415:\tlearn: 0.2587617\ttotal: 3.61s\tremaining: 5.07s\n",
      "416:\tlearn: 0.2585476\ttotal: 3.62s\tremaining: 5.06s\n",
      "417:\tlearn: 0.2582717\ttotal: 3.63s\tremaining: 5.06s\n",
      "418:\tlearn: 0.2580355\ttotal: 3.65s\tremaining: 5.05s\n",
      "419:\tlearn: 0.2575751\ttotal: 3.65s\tremaining: 5.05s\n",
      "420:\tlearn: 0.2573935\ttotal: 3.67s\tremaining: 5.04s\n",
      "421:\tlearn: 0.2571337\ttotal: 3.68s\tremaining: 5.04s\n",
      "422:\tlearn: 0.2569774\ttotal: 3.69s\tremaining: 5.03s\n",
      "423:\tlearn: 0.2567430\ttotal: 3.7s\tremaining: 5.03s\n",
      "424:\tlearn: 0.2563511\ttotal: 3.71s\tremaining: 5.02s\n",
      "425:\tlearn: 0.2561149\ttotal: 3.73s\tremaining: 5.02s\n",
      "426:\tlearn: 0.2559069\ttotal: 3.74s\tremaining: 5.02s\n",
      "427:\tlearn: 0.2551885\ttotal: 3.75s\tremaining: 5.02s\n",
      "428:\tlearn: 0.2548898\ttotal: 3.76s\tremaining: 5.01s\n",
      "429:\tlearn: 0.2546600\ttotal: 3.77s\tremaining: 5s\n",
      "430:\tlearn: 0.2545149\ttotal: 3.81s\tremaining: 5.03s\n",
      "431:\tlearn: 0.2542104\ttotal: 3.85s\tremaining: 5.06s\n",
      "432:\tlearn: 0.2540606\ttotal: 3.97s\tremaining: 5.2s\n",
      "433:\tlearn: 0.2538240\ttotal: 3.98s\tremaining: 5.19s\n",
      "434:\tlearn: 0.2535979\ttotal: 3.99s\tremaining: 5.18s\n",
      "435:\tlearn: 0.2533084\ttotal: 4s\tremaining: 5.18s\n",
      "436:\tlearn: 0.2531392\ttotal: 4.02s\tremaining: 5.18s\n",
      "437:\tlearn: 0.2528156\ttotal: 4.05s\tremaining: 5.2s\n",
      "438:\tlearn: 0.2526340\ttotal: 4.07s\tremaining: 5.19s\n",
      "439:\tlearn: 0.2524436\ttotal: 4.08s\tremaining: 5.19s\n",
      "440:\tlearn: 0.2521895\ttotal: 4.09s\tremaining: 5.18s\n",
      "441:\tlearn: 0.2519425\ttotal: 4.1s\tremaining: 5.18s\n",
      "442:\tlearn: 0.2517565\ttotal: 4.12s\tremaining: 5.17s\n",
      "443:\tlearn: 0.2516348\ttotal: 4.13s\tremaining: 5.17s\n",
      "444:\tlearn: 0.2512534\ttotal: 4.14s\tremaining: 5.16s\n",
      "445:\tlearn: 0.2510295\ttotal: 4.15s\tremaining: 5.15s\n",
      "446:\tlearn: 0.2507772\ttotal: 4.16s\tremaining: 5.14s\n",
      "447:\tlearn: 0.2505365\ttotal: 4.17s\tremaining: 5.13s\n",
      "448:\tlearn: 0.2502913\ttotal: 4.18s\tremaining: 5.13s\n",
      "449:\tlearn: 0.2500168\ttotal: 4.2s\tremaining: 5.13s\n",
      "450:\tlearn: 0.2497355\ttotal: 4.2s\tremaining: 5.12s\n",
      "451:\tlearn: 0.2495146\ttotal: 4.21s\tremaining: 5.11s\n",
      "452:\tlearn: 0.2492957\ttotal: 4.23s\tremaining: 5.1s\n",
      "453:\tlearn: 0.2488008\ttotal: 4.24s\tremaining: 5.1s\n",
      "454:\tlearn: 0.2486030\ttotal: 4.27s\tremaining: 5.11s\n",
      "455:\tlearn: 0.2483739\ttotal: 4.28s\tremaining: 5.11s\n",
      "456:\tlearn: 0.2481575\ttotal: 4.3s\tremaining: 5.11s\n",
      "457:\tlearn: 0.2479962\ttotal: 4.31s\tremaining: 5.1s\n",
      "458:\tlearn: 0.2477327\ttotal: 4.32s\tremaining: 5.09s\n",
      "459:\tlearn: 0.2475401\ttotal: 4.33s\tremaining: 5.08s\n",
      "460:\tlearn: 0.2474071\ttotal: 4.34s\tremaining: 5.08s\n",
      "461:\tlearn: 0.2471572\ttotal: 4.36s\tremaining: 5.08s\n",
      "462:\tlearn: 0.2468772\ttotal: 4.37s\tremaining: 5.07s\n",
      "463:\tlearn: 0.2466369\ttotal: 4.38s\tremaining: 5.06s\n",
      "464:\tlearn: 0.2464432\ttotal: 4.39s\tremaining: 5.05s\n",
      "465:\tlearn: 0.2461120\ttotal: 4.4s\tremaining: 5.04s\n",
      "466:\tlearn: 0.2456917\ttotal: 4.41s\tremaining: 5.03s\n",
      "467:\tlearn: 0.2451806\ttotal: 4.42s\tremaining: 5.02s\n",
      "468:\tlearn: 0.2449744\ttotal: 4.42s\tremaining: 5.01s\n",
      "469:\tlearn: 0.2446346\ttotal: 4.44s\tremaining: 5s\n",
      "470:\tlearn: 0.2444843\ttotal: 4.45s\tremaining: 4.99s\n",
      "471:\tlearn: 0.2443687\ttotal: 4.46s\tremaining: 4.99s\n",
      "472:\tlearn: 0.2441972\ttotal: 4.47s\tremaining: 4.99s\n",
      "473:\tlearn: 0.2440707\ttotal: 4.49s\tremaining: 4.98s\n",
      "474:\tlearn: 0.2438162\ttotal: 4.5s\tremaining: 4.98s\n",
      "475:\tlearn: 0.2436445\ttotal: 4.51s\tremaining: 4.97s\n",
      "476:\tlearn: 0.2433303\ttotal: 4.52s\tremaining: 4.96s\n",
      "477:\tlearn: 0.2432140\ttotal: 4.54s\tremaining: 4.96s\n",
      "478:\tlearn: 0.2430608\ttotal: 4.55s\tremaining: 4.95s\n",
      "479:\tlearn: 0.2428033\ttotal: 4.57s\tremaining: 4.95s\n",
      "480:\tlearn: 0.2425443\ttotal: 4.57s\tremaining: 4.93s\n",
      "481:\tlearn: 0.2421465\ttotal: 4.58s\tremaining: 4.93s\n",
      "482:\tlearn: 0.2419318\ttotal: 4.6s\tremaining: 4.92s\n",
      "483:\tlearn: 0.2417637\ttotal: 4.6s\tremaining: 4.91s\n",
      "484:\tlearn: 0.2416246\ttotal: 4.61s\tremaining: 4.9s\n",
      "485:\tlearn: 0.2414526\ttotal: 4.62s\tremaining: 4.89s\n",
      "486:\tlearn: 0.2411961\ttotal: 4.63s\tremaining: 4.88s\n",
      "487:\tlearn: 0.2410726\ttotal: 4.64s\tremaining: 4.87s\n",
      "488:\tlearn: 0.2408329\ttotal: 4.64s\tremaining: 4.85s\n",
      "489:\tlearn: 0.2406819\ttotal: 4.65s\tremaining: 4.84s\n",
      "490:\tlearn: 0.2405147\ttotal: 4.66s\tremaining: 4.83s\n",
      "491:\tlearn: 0.2403442\ttotal: 4.66s\tremaining: 4.82s\n",
      "492:\tlearn: 0.2402226\ttotal: 4.67s\tremaining: 4.81s\n",
      "493:\tlearn: 0.2401259\ttotal: 4.68s\tremaining: 4.79s\n",
      "494:\tlearn: 0.2399610\ttotal: 4.69s\tremaining: 4.78s\n",
      "495:\tlearn: 0.2398290\ttotal: 4.7s\tremaining: 4.77s\n",
      "496:\tlearn: 0.2395522\ttotal: 4.71s\tremaining: 4.76s\n",
      "497:\tlearn: 0.2394667\ttotal: 4.71s\tremaining: 4.75s\n",
      "498:\tlearn: 0.2392678\ttotal: 4.72s\tremaining: 4.74s\n",
      "499:\tlearn: 0.2388917\ttotal: 4.73s\tremaining: 4.73s\n",
      "500:\tlearn: 0.2386851\ttotal: 4.74s\tremaining: 4.72s\n",
      "501:\tlearn: 0.2383323\ttotal: 4.75s\tremaining: 4.71s\n",
      "502:\tlearn: 0.2381943\ttotal: 4.76s\tremaining: 4.7s\n",
      "503:\tlearn: 0.2378877\ttotal: 4.77s\tremaining: 4.69s\n",
      "504:\tlearn: 0.2376549\ttotal: 4.78s\tremaining: 4.68s\n",
      "505:\tlearn: 0.2372934\ttotal: 4.79s\tremaining: 4.68s\n",
      "506:\tlearn: 0.2371457\ttotal: 4.8s\tremaining: 4.67s\n",
      "507:\tlearn: 0.2369731\ttotal: 4.81s\tremaining: 4.66s\n",
      "508:\tlearn: 0.2367678\ttotal: 4.83s\tremaining: 4.66s\n",
      "509:\tlearn: 0.2366386\ttotal: 4.84s\tremaining: 4.65s\n",
      "510:\tlearn: 0.2364911\ttotal: 4.86s\tremaining: 4.65s\n",
      "511:\tlearn: 0.2363504\ttotal: 4.88s\tremaining: 4.65s\n",
      "512:\tlearn: 0.2358250\ttotal: 4.89s\tremaining: 4.65s\n",
      "513:\tlearn: 0.2356339\ttotal: 4.91s\tremaining: 4.64s\n",
      "514:\tlearn: 0.2354281\ttotal: 4.92s\tremaining: 4.63s\n",
      "515:\tlearn: 0.2352026\ttotal: 4.93s\tremaining: 4.63s\n",
      "516:\tlearn: 0.2349204\ttotal: 4.94s\tremaining: 4.62s\n",
      "517:\tlearn: 0.2347255\ttotal: 4.95s\tremaining: 4.61s\n",
      "518:\tlearn: 0.2346013\ttotal: 4.96s\tremaining: 4.6s\n",
      "519:\tlearn: 0.2344374\ttotal: 4.97s\tremaining: 4.59s\n",
      "520:\tlearn: 0.2342580\ttotal: 4.98s\tremaining: 4.58s\n",
      "521:\tlearn: 0.2338366\ttotal: 4.99s\tremaining: 4.57s\n",
      "522:\tlearn: 0.2337205\ttotal: 5s\tremaining: 4.56s\n",
      "523:\tlearn: 0.2334286\ttotal: 5s\tremaining: 4.55s\n",
      "524:\tlearn: 0.2331250\ttotal: 5.01s\tremaining: 4.54s\n",
      "525:\tlearn: 0.2328284\ttotal: 5.02s\tremaining: 4.53s\n",
      "526:\tlearn: 0.2326415\ttotal: 5.03s\tremaining: 4.51s\n",
      "527:\tlearn: 0.2323498\ttotal: 5.04s\tremaining: 4.51s\n",
      "528:\tlearn: 0.2319600\ttotal: 5.05s\tremaining: 4.49s\n",
      "529:\tlearn: 0.2317815\ttotal: 5.05s\tremaining: 4.48s\n",
      "530:\tlearn: 0.2316529\ttotal: 5.06s\tremaining: 4.47s\n",
      "531:\tlearn: 0.2313732\ttotal: 5.07s\tremaining: 4.46s\n",
      "532:\tlearn: 0.2311965\ttotal: 5.08s\tremaining: 4.45s\n",
      "533:\tlearn: 0.2311314\ttotal: 5.09s\tremaining: 4.44s\n",
      "534:\tlearn: 0.2309522\ttotal: 5.1s\tremaining: 4.43s\n",
      "535:\tlearn: 0.2308229\ttotal: 5.11s\tremaining: 4.42s\n",
      "536:\tlearn: 0.2306370\ttotal: 5.12s\tremaining: 4.42s\n",
      "537:\tlearn: 0.2302596\ttotal: 5.13s\tremaining: 4.4s\n",
      "538:\tlearn: 0.2300863\ttotal: 5.14s\tremaining: 4.39s\n",
      "539:\tlearn: 0.2297337\ttotal: 5.14s\tremaining: 4.38s\n",
      "540:\tlearn: 0.2294508\ttotal: 5.15s\tremaining: 4.37s\n",
      "541:\tlearn: 0.2292437\ttotal: 5.16s\tremaining: 4.36s\n",
      "542:\tlearn: 0.2290957\ttotal: 5.17s\tremaining: 4.35s\n",
      "543:\tlearn: 0.2289048\ttotal: 5.17s\tremaining: 4.34s\n",
      "544:\tlearn: 0.2286783\ttotal: 5.18s\tremaining: 4.33s\n",
      "545:\tlearn: 0.2284159\ttotal: 5.2s\tremaining: 4.32s\n",
      "546:\tlearn: 0.2280721\ttotal: 5.2s\tremaining: 4.31s\n",
      "547:\tlearn: 0.2279395\ttotal: 5.22s\tremaining: 4.3s\n",
      "548:\tlearn: 0.2277661\ttotal: 5.24s\tremaining: 4.31s\n",
      "549:\tlearn: 0.2275681\ttotal: 5.25s\tremaining: 4.3s\n",
      "550:\tlearn: 0.2273046\ttotal: 5.26s\tremaining: 4.29s\n",
      "551:\tlearn: 0.2271717\ttotal: 5.27s\tremaining: 4.28s\n",
      "552:\tlearn: 0.2269607\ttotal: 5.28s\tremaining: 4.27s\n",
      "553:\tlearn: 0.2268135\ttotal: 5.29s\tremaining: 4.26s\n",
      "554:\tlearn: 0.2266131\ttotal: 5.3s\tremaining: 4.25s\n",
      "555:\tlearn: 0.2264108\ttotal: 5.31s\tremaining: 4.24s\n",
      "556:\tlearn: 0.2262303\ttotal: 5.32s\tremaining: 4.23s\n",
      "557:\tlearn: 0.2260936\ttotal: 5.33s\tremaining: 4.22s\n",
      "558:\tlearn: 0.2258932\ttotal: 5.33s\tremaining: 4.21s\n",
      "559:\tlearn: 0.2257774\ttotal: 5.34s\tremaining: 4.2s\n",
      "560:\tlearn: 0.2255724\ttotal: 5.35s\tremaining: 4.19s\n",
      "561:\tlearn: 0.2253533\ttotal: 5.36s\tremaining: 4.18s\n",
      "562:\tlearn: 0.2251446\ttotal: 5.37s\tremaining: 4.17s\n",
      "563:\tlearn: 0.2249407\ttotal: 5.38s\tremaining: 4.16s\n",
      "564:\tlearn: 0.2247478\ttotal: 5.38s\tremaining: 4.14s\n",
      "565:\tlearn: 0.2245437\ttotal: 5.39s\tremaining: 4.13s\n",
      "566:\tlearn: 0.2242982\ttotal: 5.4s\tremaining: 4.12s\n",
      "567:\tlearn: 0.2240864\ttotal: 5.41s\tremaining: 4.12s\n",
      "568:\tlearn: 0.2239175\ttotal: 5.42s\tremaining: 4.11s\n",
      "569:\tlearn: 0.2236180\ttotal: 5.43s\tremaining: 4.09s\n",
      "570:\tlearn: 0.2233914\ttotal: 5.43s\tremaining: 4.08s\n",
      "571:\tlearn: 0.2231383\ttotal: 5.44s\tremaining: 4.07s\n",
      "572:\tlearn: 0.2230557\ttotal: 5.45s\tremaining: 4.06s\n",
      "573:\tlearn: 0.2228089\ttotal: 5.46s\tremaining: 4.05s\n",
      "574:\tlearn: 0.2226180\ttotal: 5.47s\tremaining: 4.04s\n",
      "575:\tlearn: 0.2224189\ttotal: 5.48s\tremaining: 4.03s\n",
      "576:\tlearn: 0.2222043\ttotal: 5.49s\tremaining: 4.02s\n",
      "577:\tlearn: 0.2220259\ttotal: 5.5s\tremaining: 4.01s\n",
      "578:\tlearn: 0.2217986\ttotal: 5.5s\tremaining: 4s\n",
      "579:\tlearn: 0.2216161\ttotal: 5.51s\tremaining: 3.99s\n",
      "580:\tlearn: 0.2213759\ttotal: 5.52s\tremaining: 3.98s\n",
      "581:\tlearn: 0.2212042\ttotal: 5.53s\tremaining: 3.97s\n",
      "582:\tlearn: 0.2209545\ttotal: 5.54s\tremaining: 3.96s\n",
      "583:\tlearn: 0.2206499\ttotal: 5.54s\tremaining: 3.95s\n",
      "584:\tlearn: 0.2203440\ttotal: 5.55s\tremaining: 3.94s\n",
      "585:\tlearn: 0.2202199\ttotal: 5.56s\tremaining: 3.93s\n",
      "586:\tlearn: 0.2198569\ttotal: 5.57s\tremaining: 3.92s\n",
      "587:\tlearn: 0.2197125\ttotal: 5.57s\tremaining: 3.9s\n",
      "588:\tlearn: 0.2194992\ttotal: 5.58s\tremaining: 3.9s\n",
      "589:\tlearn: 0.2194008\ttotal: 5.59s\tremaining: 3.88s\n",
      "590:\tlearn: 0.2190885\ttotal: 5.6s\tremaining: 3.87s\n",
      "591:\tlearn: 0.2188657\ttotal: 5.6s\tremaining: 3.86s\n",
      "592:\tlearn: 0.2187612\ttotal: 5.61s\tremaining: 3.85s\n",
      "593:\tlearn: 0.2184971\ttotal: 5.62s\tremaining: 3.84s\n",
      "594:\tlearn: 0.2183935\ttotal: 5.63s\tremaining: 3.83s\n",
      "595:\tlearn: 0.2182309\ttotal: 5.63s\tremaining: 3.82s\n",
      "596:\tlearn: 0.2179223\ttotal: 5.64s\tremaining: 3.81s\n",
      "597:\tlearn: 0.2177694\ttotal: 5.65s\tremaining: 3.79s\n",
      "598:\tlearn: 0.2175564\ttotal: 5.65s\tremaining: 3.79s\n",
      "599:\tlearn: 0.2173877\ttotal: 5.66s\tremaining: 3.77s\n",
      "600:\tlearn: 0.2172342\ttotal: 5.67s\tremaining: 3.76s\n",
      "601:\tlearn: 0.2171240\ttotal: 5.67s\tremaining: 3.75s\n",
      "602:\tlearn: 0.2168335\ttotal: 5.68s\tremaining: 3.74s\n",
      "603:\tlearn: 0.2166480\ttotal: 5.69s\tremaining: 3.73s\n",
      "604:\tlearn: 0.2164653\ttotal: 5.7s\tremaining: 3.72s\n",
      "605:\tlearn: 0.2162621\ttotal: 5.71s\tremaining: 3.71s\n",
      "606:\tlearn: 0.2160954\ttotal: 5.71s\tremaining: 3.7s\n",
      "607:\tlearn: 0.2159468\ttotal: 5.72s\tremaining: 3.69s\n",
      "608:\tlearn: 0.2157514\ttotal: 5.73s\tremaining: 3.68s\n",
      "609:\tlearn: 0.2153685\ttotal: 5.74s\tremaining: 3.67s\n",
      "610:\tlearn: 0.2151636\ttotal: 5.75s\tremaining: 3.66s\n",
      "611:\tlearn: 0.2150533\ttotal: 5.75s\tremaining: 3.65s\n",
      "612:\tlearn: 0.2149348\ttotal: 5.76s\tremaining: 3.64s\n",
      "613:\tlearn: 0.2147541\ttotal: 5.77s\tremaining: 3.63s\n",
      "614:\tlearn: 0.2145888\ttotal: 5.77s\tremaining: 3.61s\n",
      "615:\tlearn: 0.2140767\ttotal: 5.78s\tremaining: 3.6s\n",
      "616:\tlearn: 0.2138643\ttotal: 5.79s\tremaining: 3.59s\n",
      "617:\tlearn: 0.2136982\ttotal: 5.8s\tremaining: 3.58s\n",
      "618:\tlearn: 0.2135621\ttotal: 5.8s\tremaining: 3.57s\n",
      "619:\tlearn: 0.2131746\ttotal: 5.81s\tremaining: 3.56s\n",
      "620:\tlearn: 0.2128947\ttotal: 5.82s\tremaining: 3.55s\n",
      "621:\tlearn: 0.2128157\ttotal: 5.83s\tremaining: 3.54s\n",
      "622:\tlearn: 0.2126512\ttotal: 5.83s\tremaining: 3.53s\n",
      "623:\tlearn: 0.2124966\ttotal: 5.84s\tremaining: 3.52s\n",
      "624:\tlearn: 0.2123407\ttotal: 5.85s\tremaining: 3.51s\n",
      "625:\tlearn: 0.2117928\ttotal: 5.86s\tremaining: 3.5s\n",
      "626:\tlearn: 0.2116313\ttotal: 5.86s\tremaining: 3.49s\n",
      "627:\tlearn: 0.2115067\ttotal: 5.87s\tremaining: 3.48s\n",
      "628:\tlearn: 0.2111838\ttotal: 5.88s\tremaining: 3.46s\n",
      "629:\tlearn: 0.2109587\ttotal: 5.88s\tremaining: 3.46s\n",
      "630:\tlearn: 0.2108767\ttotal: 5.89s\tremaining: 3.44s\n",
      "631:\tlearn: 0.2106382\ttotal: 5.9s\tremaining: 3.44s\n",
      "632:\tlearn: 0.2104072\ttotal: 5.91s\tremaining: 3.42s\n",
      "633:\tlearn: 0.2102078\ttotal: 5.92s\tremaining: 3.42s\n",
      "634:\tlearn: 0.2100188\ttotal: 5.93s\tremaining: 3.41s\n",
      "635:\tlearn: 0.2098202\ttotal: 5.93s\tremaining: 3.4s\n",
      "636:\tlearn: 0.2094121\ttotal: 5.94s\tremaining: 3.38s\n",
      "637:\tlearn: 0.2091989\ttotal: 5.95s\tremaining: 3.38s\n",
      "638:\tlearn: 0.2090529\ttotal: 5.96s\tremaining: 3.37s\n",
      "639:\tlearn: 0.2088915\ttotal: 5.96s\tremaining: 3.35s\n",
      "640:\tlearn: 0.2086708\ttotal: 5.97s\tremaining: 3.34s\n",
      "641:\tlearn: 0.2084758\ttotal: 5.98s\tremaining: 3.33s\n",
      "642:\tlearn: 0.2083438\ttotal: 5.99s\tremaining: 3.32s\n",
      "643:\tlearn: 0.2081721\ttotal: 5.99s\tremaining: 3.31s\n",
      "644:\tlearn: 0.2079858\ttotal: 6s\tremaining: 3.3s\n",
      "645:\tlearn: 0.2077983\ttotal: 6.01s\tremaining: 3.29s\n",
      "646:\tlearn: 0.2076680\ttotal: 6.02s\tremaining: 3.28s\n",
      "647:\tlearn: 0.2074839\ttotal: 6.02s\tremaining: 3.27s\n",
      "648:\tlearn: 0.2072601\ttotal: 6.03s\tremaining: 3.26s\n",
      "649:\tlearn: 0.2070584\ttotal: 6.04s\tremaining: 3.25s\n",
      "650:\tlearn: 0.2068931\ttotal: 6.04s\tremaining: 3.24s\n",
      "651:\tlearn: 0.2066943\ttotal: 6.05s\tremaining: 3.23s\n",
      "652:\tlearn: 0.2064961\ttotal: 6.06s\tremaining: 3.22s\n",
      "653:\tlearn: 0.2063752\ttotal: 6.07s\tremaining: 3.21s\n",
      "654:\tlearn: 0.2062729\ttotal: 6.08s\tremaining: 3.2s\n",
      "655:\tlearn: 0.2060366\ttotal: 6.08s\tremaining: 3.19s\n",
      "656:\tlearn: 0.2058564\ttotal: 6.09s\tremaining: 3.18s\n",
      "657:\tlearn: 0.2053672\ttotal: 6.1s\tremaining: 3.17s\n",
      "658:\tlearn: 0.2051091\ttotal: 6.11s\tremaining: 3.16s\n",
      "659:\tlearn: 0.2048474\ttotal: 6.12s\tremaining: 3.15s\n",
      "660:\tlearn: 0.2046269\ttotal: 6.13s\tremaining: 3.14s\n",
      "661:\tlearn: 0.2043691\ttotal: 6.14s\tremaining: 3.13s\n",
      "662:\tlearn: 0.2042141\ttotal: 6.14s\tremaining: 3.12s\n",
      "663:\tlearn: 0.2040903\ttotal: 6.16s\tremaining: 3.11s\n",
      "664:\tlearn: 0.2039630\ttotal: 6.16s\tremaining: 3.1s\n",
      "665:\tlearn: 0.2038079\ttotal: 6.17s\tremaining: 3.09s\n",
      "666:\tlearn: 0.2036451\ttotal: 6.18s\tremaining: 3.08s\n",
      "667:\tlearn: 0.2034893\ttotal: 6.19s\tremaining: 3.08s\n",
      "668:\tlearn: 0.2033083\ttotal: 6.2s\tremaining: 3.06s\n",
      "669:\tlearn: 0.2031509\ttotal: 6.2s\tremaining: 3.06s\n",
      "670:\tlearn: 0.2028805\ttotal: 6.21s\tremaining: 3.04s\n",
      "671:\tlearn: 0.2027312\ttotal: 6.22s\tremaining: 3.04s\n",
      "672:\tlearn: 0.2025643\ttotal: 6.23s\tremaining: 3.02s\n",
      "673:\tlearn: 0.2024514\ttotal: 6.23s\tremaining: 3.02s\n",
      "674:\tlearn: 0.2023513\ttotal: 6.24s\tremaining: 3s\n",
      "675:\tlearn: 0.2022387\ttotal: 6.25s\tremaining: 2.99s\n",
      "676:\tlearn: 0.2021445\ttotal: 6.25s\tremaining: 2.98s\n",
      "677:\tlearn: 0.2019894\ttotal: 6.26s\tremaining: 2.97s\n",
      "678:\tlearn: 0.2019075\ttotal: 6.27s\tremaining: 2.96s\n",
      "679:\tlearn: 0.2018046\ttotal: 6.28s\tremaining: 2.95s\n",
      "680:\tlearn: 0.2015264\ttotal: 6.28s\tremaining: 2.94s\n",
      "681:\tlearn: 0.2014084\ttotal: 6.29s\tremaining: 2.93s\n",
      "682:\tlearn: 0.2013010\ttotal: 6.3s\tremaining: 2.92s\n",
      "683:\tlearn: 0.2011257\ttotal: 6.31s\tremaining: 2.91s\n",
      "684:\tlearn: 0.2009962\ttotal: 6.32s\tremaining: 2.9s\n",
      "685:\tlearn: 0.2008880\ttotal: 6.32s\tremaining: 2.89s\n",
      "686:\tlearn: 0.2006989\ttotal: 6.33s\tremaining: 2.88s\n",
      "687:\tlearn: 0.2005797\ttotal: 6.34s\tremaining: 2.87s\n",
      "688:\tlearn: 0.2004216\ttotal: 6.35s\tremaining: 2.86s\n",
      "689:\tlearn: 0.2002935\ttotal: 6.35s\tremaining: 2.85s\n",
      "690:\tlearn: 0.2001074\ttotal: 6.36s\tremaining: 2.85s\n",
      "691:\tlearn: 0.1999952\ttotal: 6.37s\tremaining: 2.83s\n",
      "692:\tlearn: 0.1998425\ttotal: 6.38s\tremaining: 2.82s\n",
      "693:\tlearn: 0.1997585\ttotal: 6.38s\tremaining: 2.81s\n",
      "694:\tlearn: 0.1995464\ttotal: 6.39s\tremaining: 2.8s\n",
      "695:\tlearn: 0.1994502\ttotal: 6.39s\tremaining: 2.79s\n",
      "696:\tlearn: 0.1992974\ttotal: 6.4s\tremaining: 2.78s\n",
      "697:\tlearn: 0.1991085\ttotal: 6.41s\tremaining: 2.77s\n",
      "698:\tlearn: 0.1989752\ttotal: 6.42s\tremaining: 2.76s\n",
      "699:\tlearn: 0.1988450\ttotal: 6.44s\tremaining: 2.76s\n",
      "700:\tlearn: 0.1987347\ttotal: 6.45s\tremaining: 2.75s\n",
      "701:\tlearn: 0.1986065\ttotal: 6.46s\tremaining: 2.74s\n",
      "702:\tlearn: 0.1983863\ttotal: 6.46s\tremaining: 2.73s\n",
      "703:\tlearn: 0.1983158\ttotal: 6.47s\tremaining: 2.72s\n",
      "704:\tlearn: 0.1981931\ttotal: 6.48s\tremaining: 2.71s\n",
      "705:\tlearn: 0.1980368\ttotal: 6.48s\tremaining: 2.7s\n",
      "706:\tlearn: 0.1978721\ttotal: 6.49s\tremaining: 2.69s\n",
      "707:\tlearn: 0.1977977\ttotal: 6.5s\tremaining: 2.68s\n",
      "708:\tlearn: 0.1976930\ttotal: 6.51s\tremaining: 2.67s\n",
      "709:\tlearn: 0.1974544\ttotal: 6.52s\tremaining: 2.66s\n",
      "710:\tlearn: 0.1970359\ttotal: 6.53s\tremaining: 2.65s\n",
      "711:\tlearn: 0.1969282\ttotal: 6.54s\tremaining: 2.65s\n",
      "712:\tlearn: 0.1967764\ttotal: 6.55s\tremaining: 2.64s\n",
      "713:\tlearn: 0.1967031\ttotal: 6.56s\tremaining: 2.63s\n",
      "714:\tlearn: 0.1965845\ttotal: 6.57s\tremaining: 2.62s\n",
      "715:\tlearn: 0.1963915\ttotal: 6.58s\tremaining: 2.61s\n",
      "716:\tlearn: 0.1960399\ttotal: 6.58s\tremaining: 2.6s\n",
      "717:\tlearn: 0.1958884\ttotal: 6.59s\tremaining: 2.59s\n",
      "718:\tlearn: 0.1957298\ttotal: 6.6s\tremaining: 2.58s\n",
      "719:\tlearn: 0.1954795\ttotal: 6.61s\tremaining: 2.57s\n",
      "720:\tlearn: 0.1953737\ttotal: 6.61s\tremaining: 2.56s\n",
      "721:\tlearn: 0.1951717\ttotal: 6.62s\tremaining: 2.55s\n",
      "722:\tlearn: 0.1949416\ttotal: 6.63s\tremaining: 2.54s\n",
      "723:\tlearn: 0.1948589\ttotal: 6.63s\tremaining: 2.53s\n",
      "724:\tlearn: 0.1947360\ttotal: 6.64s\tremaining: 2.52s\n",
      "725:\tlearn: 0.1945797\ttotal: 6.65s\tremaining: 2.51s\n",
      "726:\tlearn: 0.1944477\ttotal: 6.65s\tremaining: 2.5s\n",
      "727:\tlearn: 0.1943335\ttotal: 6.66s\tremaining: 2.49s\n",
      "728:\tlearn: 0.1940845\ttotal: 6.67s\tremaining: 2.48s\n",
      "729:\tlearn: 0.1939190\ttotal: 6.67s\tremaining: 2.47s\n",
      "730:\tlearn: 0.1938275\ttotal: 6.68s\tremaining: 2.46s\n",
      "731:\tlearn: 0.1936940\ttotal: 6.69s\tremaining: 2.45s\n",
      "732:\tlearn: 0.1935176\ttotal: 6.7s\tremaining: 2.44s\n",
      "733:\tlearn: 0.1930943\ttotal: 6.7s\tremaining: 2.43s\n",
      "734:\tlearn: 0.1929224\ttotal: 6.72s\tremaining: 2.42s\n",
      "735:\tlearn: 0.1927592\ttotal: 6.72s\tremaining: 2.41s\n",
      "736:\tlearn: 0.1925301\ttotal: 6.73s\tremaining: 2.4s\n",
      "737:\tlearn: 0.1923424\ttotal: 6.74s\tremaining: 2.39s\n",
      "738:\tlearn: 0.1920934\ttotal: 6.75s\tremaining: 2.38s\n",
      "739:\tlearn: 0.1917294\ttotal: 6.75s\tremaining: 2.37s\n",
      "740:\tlearn: 0.1916232\ttotal: 6.76s\tremaining: 2.36s\n",
      "741:\tlearn: 0.1913576\ttotal: 6.77s\tremaining: 2.35s\n",
      "742:\tlearn: 0.1912417\ttotal: 6.78s\tremaining: 2.34s\n",
      "743:\tlearn: 0.1910694\ttotal: 6.78s\tremaining: 2.33s\n",
      "744:\tlearn: 0.1909907\ttotal: 6.79s\tremaining: 2.33s\n",
      "745:\tlearn: 0.1905967\ttotal: 6.8s\tremaining: 2.31s\n",
      "746:\tlearn: 0.1903663\ttotal: 6.81s\tremaining: 2.31s\n",
      "747:\tlearn: 0.1902733\ttotal: 6.82s\tremaining: 2.3s\n",
      "748:\tlearn: 0.1900936\ttotal: 6.82s\tremaining: 2.29s\n",
      "749:\tlearn: 0.1899854\ttotal: 6.83s\tremaining: 2.28s\n",
      "750:\tlearn: 0.1898927\ttotal: 6.83s\tremaining: 2.27s\n",
      "751:\tlearn: 0.1897287\ttotal: 6.84s\tremaining: 2.26s\n",
      "752:\tlearn: 0.1896333\ttotal: 6.85s\tremaining: 2.25s\n",
      "753:\tlearn: 0.1894178\ttotal: 6.86s\tremaining: 2.24s\n",
      "754:\tlearn: 0.1893427\ttotal: 6.86s\tremaining: 2.23s\n",
      "755:\tlearn: 0.1891691\ttotal: 6.87s\tremaining: 2.22s\n",
      "756:\tlearn: 0.1889800\ttotal: 6.88s\tremaining: 2.21s\n",
      "757:\tlearn: 0.1888101\ttotal: 6.88s\tremaining: 2.2s\n",
      "758:\tlearn: 0.1886977\ttotal: 6.89s\tremaining: 2.19s\n",
      "759:\tlearn: 0.1886006\ttotal: 6.89s\tremaining: 2.18s\n",
      "760:\tlearn: 0.1882963\ttotal: 6.9s\tremaining: 2.17s\n",
      "761:\tlearn: 0.1881594\ttotal: 6.91s\tremaining: 2.16s\n",
      "762:\tlearn: 0.1880129\ttotal: 6.92s\tremaining: 2.15s\n",
      "763:\tlearn: 0.1879425\ttotal: 6.93s\tremaining: 2.14s\n",
      "764:\tlearn: 0.1878031\ttotal: 6.94s\tremaining: 2.13s\n",
      "765:\tlearn: 0.1876470\ttotal: 6.94s\tremaining: 2.12s\n",
      "766:\tlearn: 0.1874619\ttotal: 6.95s\tremaining: 2.11s\n",
      "767:\tlearn: 0.1873402\ttotal: 6.96s\tremaining: 2.1s\n",
      "768:\tlearn: 0.1872035\ttotal: 6.97s\tremaining: 2.09s\n",
      "769:\tlearn: 0.1869747\ttotal: 6.97s\tremaining: 2.08s\n",
      "770:\tlearn: 0.1865396\ttotal: 6.98s\tremaining: 2.07s\n",
      "771:\tlearn: 0.1864431\ttotal: 6.99s\tremaining: 2.06s\n",
      "772:\tlearn: 0.1863560\ttotal: 7s\tremaining: 2.05s\n",
      "773:\tlearn: 0.1861711\ttotal: 7s\tremaining: 2.04s\n",
      "774:\tlearn: 0.1860862\ttotal: 7.01s\tremaining: 2.04s\n",
      "775:\tlearn: 0.1859826\ttotal: 7.02s\tremaining: 2.03s\n",
      "776:\tlearn: 0.1858014\ttotal: 7.03s\tremaining: 2.02s\n",
      "777:\tlearn: 0.1854371\ttotal: 7.03s\tremaining: 2.01s\n",
      "778:\tlearn: 0.1851896\ttotal: 7.04s\tremaining: 2s\n",
      "779:\tlearn: 0.1850375\ttotal: 7.05s\tremaining: 1.99s\n",
      "780:\tlearn: 0.1849063\ttotal: 7.05s\tremaining: 1.98s\n",
      "781:\tlearn: 0.1844382\ttotal: 7.06s\tremaining: 1.97s\n",
      "782:\tlearn: 0.1842243\ttotal: 7.07s\tremaining: 1.96s\n",
      "783:\tlearn: 0.1839911\ttotal: 7.08s\tremaining: 1.95s\n",
      "784:\tlearn: 0.1838548\ttotal: 7.08s\tremaining: 1.94s\n",
      "785:\tlearn: 0.1837300\ttotal: 7.09s\tremaining: 1.93s\n",
      "786:\tlearn: 0.1836215\ttotal: 7.1s\tremaining: 1.92s\n",
      "787:\tlearn: 0.1834587\ttotal: 7.11s\tremaining: 1.91s\n",
      "788:\tlearn: 0.1833629\ttotal: 7.12s\tremaining: 1.9s\n",
      "789:\tlearn: 0.1830019\ttotal: 7.13s\tremaining: 1.9s\n",
      "790:\tlearn: 0.1828027\ttotal: 7.14s\tremaining: 1.89s\n",
      "791:\tlearn: 0.1826505\ttotal: 7.14s\tremaining: 1.88s\n",
      "792:\tlearn: 0.1824723\ttotal: 7.15s\tremaining: 1.87s\n",
      "793:\tlearn: 0.1823273\ttotal: 7.16s\tremaining: 1.86s\n",
      "794:\tlearn: 0.1820876\ttotal: 7.17s\tremaining: 1.85s\n",
      "795:\tlearn: 0.1819883\ttotal: 7.17s\tremaining: 1.84s\n",
      "796:\tlearn: 0.1818835\ttotal: 7.18s\tremaining: 1.83s\n",
      "797:\tlearn: 0.1817398\ttotal: 7.19s\tremaining: 1.82s\n",
      "798:\tlearn: 0.1815094\ttotal: 7.19s\tremaining: 1.81s\n",
      "799:\tlearn: 0.1813751\ttotal: 7.2s\tremaining: 1.8s\n",
      "800:\tlearn: 0.1812498\ttotal: 7.21s\tremaining: 1.79s\n",
      "801:\tlearn: 0.1811546\ttotal: 7.22s\tremaining: 1.78s\n",
      "802:\tlearn: 0.1809778\ttotal: 7.22s\tremaining: 1.77s\n",
      "803:\tlearn: 0.1808905\ttotal: 7.23s\tremaining: 1.76s\n",
      "804:\tlearn: 0.1807458\ttotal: 7.24s\tremaining: 1.75s\n",
      "805:\tlearn: 0.1806776\ttotal: 7.25s\tremaining: 1.74s\n",
      "806:\tlearn: 0.1805538\ttotal: 7.25s\tremaining: 1.73s\n",
      "807:\tlearn: 0.1803727\ttotal: 7.26s\tremaining: 1.73s\n",
      "808:\tlearn: 0.1800489\ttotal: 7.27s\tremaining: 1.72s\n",
      "809:\tlearn: 0.1799351\ttotal: 7.28s\tremaining: 1.71s\n",
      "810:\tlearn: 0.1798091\ttotal: 7.29s\tremaining: 1.7s\n",
      "811:\tlearn: 0.1793629\ttotal: 7.29s\tremaining: 1.69s\n",
      "812:\tlearn: 0.1791965\ttotal: 7.3s\tremaining: 1.68s\n",
      "813:\tlearn: 0.1790179\ttotal: 7.31s\tremaining: 1.67s\n",
      "814:\tlearn: 0.1785388\ttotal: 7.32s\tremaining: 1.66s\n",
      "815:\tlearn: 0.1784750\ttotal: 7.33s\tremaining: 1.65s\n",
      "816:\tlearn: 0.1783761\ttotal: 7.33s\tremaining: 1.64s\n",
      "817:\tlearn: 0.1782741\ttotal: 7.34s\tremaining: 1.63s\n",
      "818:\tlearn: 0.1781159\ttotal: 7.35s\tremaining: 1.62s\n",
      "819:\tlearn: 0.1780002\ttotal: 7.36s\tremaining: 1.61s\n",
      "820:\tlearn: 0.1777713\ttotal: 7.36s\tremaining: 1.6s\n",
      "821:\tlearn: 0.1776696\ttotal: 7.37s\tremaining: 1.59s\n",
      "822:\tlearn: 0.1774674\ttotal: 7.38s\tremaining: 1.59s\n",
      "823:\tlearn: 0.1773492\ttotal: 7.38s\tremaining: 1.58s\n",
      "824:\tlearn: 0.1772087\ttotal: 7.39s\tremaining: 1.57s\n",
      "825:\tlearn: 0.1771256\ttotal: 7.39s\tremaining: 1.56s\n",
      "826:\tlearn: 0.1769019\ttotal: 7.4s\tremaining: 1.55s\n",
      "827:\tlearn: 0.1766248\ttotal: 7.41s\tremaining: 1.54s\n",
      "828:\tlearn: 0.1765272\ttotal: 7.42s\tremaining: 1.53s\n",
      "829:\tlearn: 0.1764253\ttotal: 7.42s\tremaining: 1.52s\n",
      "830:\tlearn: 0.1763174\ttotal: 7.43s\tremaining: 1.51s\n",
      "831:\tlearn: 0.1760518\ttotal: 7.44s\tremaining: 1.5s\n",
      "832:\tlearn: 0.1759640\ttotal: 7.44s\tremaining: 1.49s\n",
      "833:\tlearn: 0.1758326\ttotal: 7.45s\tremaining: 1.48s\n",
      "834:\tlearn: 0.1757223\ttotal: 7.46s\tremaining: 1.47s\n",
      "835:\tlearn: 0.1756030\ttotal: 7.46s\tremaining: 1.46s\n",
      "836:\tlearn: 0.1754771\ttotal: 7.47s\tremaining: 1.46s\n",
      "837:\tlearn: 0.1752234\ttotal: 7.48s\tremaining: 1.45s\n",
      "838:\tlearn: 0.1750596\ttotal: 7.49s\tremaining: 1.44s\n",
      "839:\tlearn: 0.1749096\ttotal: 7.5s\tremaining: 1.43s\n",
      "840:\tlearn: 0.1748483\ttotal: 7.51s\tremaining: 1.42s\n",
      "841:\tlearn: 0.1746822\ttotal: 7.51s\tremaining: 1.41s\n",
      "842:\tlearn: 0.1746069\ttotal: 7.52s\tremaining: 1.4s\n",
      "843:\tlearn: 0.1743922\ttotal: 7.53s\tremaining: 1.39s\n",
      "844:\tlearn: 0.1742169\ttotal: 7.54s\tremaining: 1.38s\n",
      "845:\tlearn: 0.1741391\ttotal: 7.54s\tremaining: 1.37s\n",
      "846:\tlearn: 0.1738959\ttotal: 7.55s\tremaining: 1.36s\n",
      "847:\tlearn: 0.1735971\ttotal: 7.56s\tremaining: 1.35s\n",
      "848:\tlearn: 0.1735041\ttotal: 7.57s\tremaining: 1.34s\n",
      "849:\tlearn: 0.1733082\ttotal: 7.57s\tremaining: 1.34s\n",
      "850:\tlearn: 0.1730703\ttotal: 7.58s\tremaining: 1.33s\n",
      "851:\tlearn: 0.1730203\ttotal: 7.59s\tremaining: 1.32s\n",
      "852:\tlearn: 0.1728100\ttotal: 7.59s\tremaining: 1.31s\n",
      "853:\tlearn: 0.1726617\ttotal: 7.6s\tremaining: 1.3s\n",
      "854:\tlearn: 0.1725306\ttotal: 7.61s\tremaining: 1.29s\n",
      "855:\tlearn: 0.1724230\ttotal: 7.62s\tremaining: 1.28s\n",
      "856:\tlearn: 0.1723522\ttotal: 7.62s\tremaining: 1.27s\n",
      "857:\tlearn: 0.1720616\ttotal: 7.63s\tremaining: 1.26s\n",
      "858:\tlearn: 0.1719574\ttotal: 7.64s\tremaining: 1.25s\n",
      "859:\tlearn: 0.1718871\ttotal: 7.65s\tremaining: 1.25s\n",
      "860:\tlearn: 0.1717448\ttotal: 7.66s\tremaining: 1.24s\n",
      "861:\tlearn: 0.1716479\ttotal: 7.66s\tremaining: 1.23s\n",
      "862:\tlearn: 0.1715483\ttotal: 7.67s\tremaining: 1.22s\n",
      "863:\tlearn: 0.1712925\ttotal: 7.67s\tremaining: 1.21s\n",
      "864:\tlearn: 0.1709618\ttotal: 7.68s\tremaining: 1.2s\n",
      "865:\tlearn: 0.1707229\ttotal: 7.69s\tremaining: 1.19s\n",
      "866:\tlearn: 0.1703120\ttotal: 7.7s\tremaining: 1.18s\n",
      "867:\tlearn: 0.1702032\ttotal: 7.71s\tremaining: 1.17s\n",
      "868:\tlearn: 0.1700882\ttotal: 7.72s\tremaining: 1.16s\n",
      "869:\tlearn: 0.1699032\ttotal: 7.73s\tremaining: 1.15s\n",
      "870:\tlearn: 0.1697458\ttotal: 7.73s\tremaining: 1.15s\n",
      "871:\tlearn: 0.1696339\ttotal: 7.74s\tremaining: 1.14s\n",
      "872:\tlearn: 0.1695569\ttotal: 7.75s\tremaining: 1.13s\n",
      "873:\tlearn: 0.1694345\ttotal: 7.75s\tremaining: 1.12s\n",
      "874:\tlearn: 0.1692670\ttotal: 7.76s\tremaining: 1.11s\n",
      "875:\tlearn: 0.1690669\ttotal: 7.77s\tremaining: 1.1s\n",
      "876:\tlearn: 0.1689393\ttotal: 7.78s\tremaining: 1.09s\n",
      "877:\tlearn: 0.1688502\ttotal: 7.78s\tremaining: 1.08s\n",
      "878:\tlearn: 0.1686765\ttotal: 7.79s\tremaining: 1.07s\n",
      "879:\tlearn: 0.1685900\ttotal: 7.79s\tremaining: 1.06s\n",
      "880:\tlearn: 0.1682070\ttotal: 7.8s\tremaining: 1.05s\n",
      "881:\tlearn: 0.1680942\ttotal: 7.81s\tremaining: 1.04s\n",
      "882:\tlearn: 0.1679533\ttotal: 7.82s\tremaining: 1.03s\n",
      "883:\tlearn: 0.1678637\ttotal: 7.83s\tremaining: 1.03s\n",
      "884:\tlearn: 0.1677420\ttotal: 7.83s\tremaining: 1.02s\n",
      "885:\tlearn: 0.1676447\ttotal: 7.84s\tremaining: 1.01s\n",
      "886:\tlearn: 0.1674519\ttotal: 7.85s\tremaining: 1000ms\n",
      "887:\tlearn: 0.1670853\ttotal: 7.86s\tremaining: 991ms\n",
      "888:\tlearn: 0.1670029\ttotal: 7.86s\tremaining: 982ms\n",
      "889:\tlearn: 0.1668616\ttotal: 7.87s\tremaining: 973ms\n",
      "890:\tlearn: 0.1666220\ttotal: 7.88s\tremaining: 964ms\n",
      "891:\tlearn: 0.1665563\ttotal: 7.89s\tremaining: 955ms\n",
      "892:\tlearn: 0.1664610\ttotal: 7.89s\tremaining: 946ms\n",
      "893:\tlearn: 0.1663244\ttotal: 7.9s\tremaining: 937ms\n",
      "894:\tlearn: 0.1661386\ttotal: 7.91s\tremaining: 928ms\n",
      "895:\tlearn: 0.1659424\ttotal: 7.92s\tremaining: 919ms\n",
      "896:\tlearn: 0.1658066\ttotal: 7.92s\tremaining: 910ms\n",
      "897:\tlearn: 0.1657338\ttotal: 7.93s\tremaining: 901ms\n",
      "898:\tlearn: 0.1655463\ttotal: 7.94s\tremaining: 892ms\n",
      "899:\tlearn: 0.1653490\ttotal: 7.95s\tremaining: 883ms\n",
      "900:\tlearn: 0.1651749\ttotal: 7.95s\tremaining: 874ms\n",
      "901:\tlearn: 0.1650085\ttotal: 7.96s\tremaining: 865ms\n",
      "902:\tlearn: 0.1647148\ttotal: 7.97s\tremaining: 856ms\n",
      "903:\tlearn: 0.1646652\ttotal: 7.98s\tremaining: 847ms\n",
      "904:\tlearn: 0.1644547\ttotal: 7.98s\tremaining: 838ms\n",
      "905:\tlearn: 0.1643529\ttotal: 7.99s\tremaining: 829ms\n",
      "906:\tlearn: 0.1642702\ttotal: 8s\tremaining: 820ms\n",
      "907:\tlearn: 0.1641588\ttotal: 8.01s\tremaining: 811ms\n",
      "908:\tlearn: 0.1641195\ttotal: 8.01s\tremaining: 802ms\n",
      "909:\tlearn: 0.1639117\ttotal: 8.02s\tremaining: 793ms\n",
      "910:\tlearn: 0.1636500\ttotal: 8.03s\tremaining: 784ms\n",
      "911:\tlearn: 0.1634876\ttotal: 8.04s\tremaining: 775ms\n",
      "912:\tlearn: 0.1633740\ttotal: 8.04s\tremaining: 766ms\n",
      "913:\tlearn: 0.1632359\ttotal: 8.05s\tremaining: 757ms\n",
      "914:\tlearn: 0.1630938\ttotal: 8.06s\tremaining: 748ms\n",
      "915:\tlearn: 0.1630073\ttotal: 8.06s\tremaining: 739ms\n",
      "916:\tlearn: 0.1627913\ttotal: 8.07s\tremaining: 730ms\n",
      "917:\tlearn: 0.1625822\ttotal: 8.08s\tremaining: 722ms\n",
      "918:\tlearn: 0.1625264\ttotal: 8.08s\tremaining: 713ms\n",
      "919:\tlearn: 0.1623929\ttotal: 8.09s\tremaining: 704ms\n",
      "920:\tlearn: 0.1622130\ttotal: 8.1s\tremaining: 695ms\n",
      "921:\tlearn: 0.1620335\ttotal: 8.11s\tremaining: 686ms\n",
      "922:\tlearn: 0.1619032\ttotal: 8.11s\tremaining: 677ms\n",
      "923:\tlearn: 0.1617043\ttotal: 8.12s\tremaining: 668ms\n",
      "924:\tlearn: 0.1615757\ttotal: 8.13s\tremaining: 659ms\n",
      "925:\tlearn: 0.1614368\ttotal: 8.14s\tremaining: 650ms\n",
      "926:\tlearn: 0.1612518\ttotal: 8.14s\tremaining: 641ms\n",
      "927:\tlearn: 0.1611609\ttotal: 8.15s\tremaining: 633ms\n",
      "928:\tlearn: 0.1610768\ttotal: 8.16s\tremaining: 624ms\n",
      "929:\tlearn: 0.1609398\ttotal: 8.17s\tremaining: 615ms\n",
      "930:\tlearn: 0.1607557\ttotal: 8.18s\tremaining: 606ms\n",
      "931:\tlearn: 0.1604667\ttotal: 8.19s\tremaining: 597ms\n",
      "932:\tlearn: 0.1603513\ttotal: 8.19s\tremaining: 588ms\n",
      "933:\tlearn: 0.1602002\ttotal: 8.2s\tremaining: 580ms\n",
      "934:\tlearn: 0.1600678\ttotal: 8.21s\tremaining: 571ms\n",
      "935:\tlearn: 0.1599841\ttotal: 8.22s\tremaining: 562ms\n",
      "936:\tlearn: 0.1598096\ttotal: 8.22s\tremaining: 553ms\n",
      "937:\tlearn: 0.1597381\ttotal: 8.23s\tremaining: 544ms\n",
      "938:\tlearn: 0.1595646\ttotal: 8.24s\tremaining: 535ms\n",
      "939:\tlearn: 0.1594101\ttotal: 8.25s\tremaining: 526ms\n",
      "940:\tlearn: 0.1592330\ttotal: 8.26s\tremaining: 518ms\n",
      "941:\tlearn: 0.1591202\ttotal: 8.26s\tremaining: 509ms\n",
      "942:\tlearn: 0.1589965\ttotal: 8.27s\tremaining: 500ms\n",
      "943:\tlearn: 0.1589256\ttotal: 8.28s\tremaining: 491ms\n",
      "944:\tlearn: 0.1588443\ttotal: 8.29s\tremaining: 482ms\n",
      "945:\tlearn: 0.1587645\ttotal: 8.29s\tremaining: 473ms\n",
      "946:\tlearn: 0.1585501\ttotal: 8.3s\tremaining: 465ms\n",
      "947:\tlearn: 0.1581963\ttotal: 8.31s\tremaining: 456ms\n",
      "948:\tlearn: 0.1579956\ttotal: 8.32s\tremaining: 447ms\n",
      "949:\tlearn: 0.1578237\ttotal: 8.33s\tremaining: 438ms\n",
      "950:\tlearn: 0.1577608\ttotal: 8.34s\tremaining: 430ms\n",
      "951:\tlearn: 0.1576498\ttotal: 8.34s\tremaining: 421ms\n",
      "952:\tlearn: 0.1575447\ttotal: 8.35s\tremaining: 412ms\n",
      "953:\tlearn: 0.1574637\ttotal: 8.36s\tremaining: 403ms\n",
      "954:\tlearn: 0.1572965\ttotal: 8.36s\tremaining: 394ms\n",
      "955:\tlearn: 0.1572194\ttotal: 8.37s\tremaining: 385ms\n",
      "956:\tlearn: 0.1570226\ttotal: 8.38s\tremaining: 376ms\n",
      "957:\tlearn: 0.1568805\ttotal: 8.38s\tremaining: 368ms\n",
      "958:\tlearn: 0.1567881\ttotal: 8.39s\tremaining: 359ms\n",
      "959:\tlearn: 0.1566750\ttotal: 8.4s\tremaining: 350ms\n",
      "960:\tlearn: 0.1564838\ttotal: 8.41s\tremaining: 341ms\n",
      "961:\tlearn: 0.1563284\ttotal: 8.41s\tremaining: 332ms\n",
      "962:\tlearn: 0.1561273\ttotal: 8.42s\tremaining: 324ms\n",
      "963:\tlearn: 0.1560401\ttotal: 8.43s\tremaining: 315ms\n",
      "964:\tlearn: 0.1559026\ttotal: 8.44s\tremaining: 306ms\n",
      "965:\tlearn: 0.1557572\ttotal: 8.44s\tremaining: 297ms\n",
      "966:\tlearn: 0.1556482\ttotal: 8.45s\tremaining: 288ms\n",
      "967:\tlearn: 0.1554809\ttotal: 8.46s\tremaining: 280ms\n",
      "968:\tlearn: 0.1553510\ttotal: 8.46s\tremaining: 271ms\n",
      "969:\tlearn: 0.1552069\ttotal: 8.47s\tremaining: 262ms\n",
      "970:\tlearn: 0.1551261\ttotal: 8.47s\tremaining: 253ms\n",
      "971:\tlearn: 0.1549764\ttotal: 8.48s\tremaining: 244ms\n",
      "972:\tlearn: 0.1548821\ttotal: 8.49s\tremaining: 236ms\n",
      "973:\tlearn: 0.1548496\ttotal: 8.49s\tremaining: 227ms\n",
      "974:\tlearn: 0.1547061\ttotal: 8.5s\tremaining: 218ms\n",
      "975:\tlearn: 0.1546321\ttotal: 8.51s\tremaining: 209ms\n",
      "976:\tlearn: 0.1545796\ttotal: 8.52s\tremaining: 201ms\n",
      "977:\tlearn: 0.1545278\ttotal: 8.53s\tremaining: 192ms\n",
      "978:\tlearn: 0.1544277\ttotal: 8.54s\tremaining: 183ms\n",
      "979:\tlearn: 0.1543401\ttotal: 8.54s\tremaining: 174ms\n",
      "980:\tlearn: 0.1541476\ttotal: 8.55s\tremaining: 166ms\n",
      "981:\tlearn: 0.1540460\ttotal: 8.56s\tremaining: 157ms\n",
      "982:\tlearn: 0.1537384\ttotal: 8.57s\tremaining: 148ms\n",
      "983:\tlearn: 0.1536462\ttotal: 8.57s\tremaining: 139ms\n",
      "984:\tlearn: 0.1535331\ttotal: 8.58s\tremaining: 131ms\n",
      "985:\tlearn: 0.1534360\ttotal: 8.59s\tremaining: 122ms\n",
      "986:\tlearn: 0.1534045\ttotal: 8.6s\tremaining: 113ms\n",
      "987:\tlearn: 0.1533254\ttotal: 8.6s\tremaining: 105ms\n",
      "988:\tlearn: 0.1532762\ttotal: 8.61s\tremaining: 95.8ms\n",
      "989:\tlearn: 0.1531490\ttotal: 8.62s\tremaining: 87.1ms\n",
      "990:\tlearn: 0.1531008\ttotal: 8.62s\tremaining: 78.3ms\n",
      "991:\tlearn: 0.1528726\ttotal: 8.63s\tremaining: 69.6ms\n",
      "992:\tlearn: 0.1526341\ttotal: 8.64s\tremaining: 60.9ms\n",
      "993:\tlearn: 0.1525271\ttotal: 8.64s\tremaining: 52.2ms\n",
      "994:\tlearn: 0.1524487\ttotal: 8.65s\tremaining: 43.5ms\n",
      "995:\tlearn: 0.1522167\ttotal: 8.66s\tremaining: 34.8ms\n",
      "996:\tlearn: 0.1519772\ttotal: 8.66s\tremaining: 26.1ms\n",
      "997:\tlearn: 0.1519126\ttotal: 8.67s\tremaining: 17.4ms\n",
      "998:\tlearn: 0.1518467\ttotal: 8.68s\tremaining: 8.69ms\n",
      "999:\tlearn: 0.1517785\ttotal: 8.69s\tremaining: 0us\n",
      "[LightGBM] [Warning] Found whitespace in feature_names, replace with underlines\n",
      "[LightGBM] [Info] Number of positive: 1015, number of negative: 1015\n",
      "[LightGBM] [Info] Auto-choosing col-wise multi-threading, the overhead of testing was 0.001058 seconds.\n",
      "You can set `force_col_wise=true` to remove the overhead.\n",
      "[LightGBM] [Info] Total Bins 1578\n",
      "[LightGBM] [Info] Number of data points in the train set: 2030, number of used features: 10\n",
      "[LightGBM] [Info] [binary:BoostFromScore]: pavg=0.500000 -> initscore=0.000000\n"
     ]
    }
   ],
   "source": [
    "score_df = fit_and_score(models, X_train, y_train, X_test, y_test)"
   ]
  },
  {
   "cell_type": "code",
   "execution_count": 46,
   "metadata": {},
   "outputs": [
    {
     "data": {
      "text/html": [
       "<div>\n",
       "<style scoped>\n",
       "    .dataframe tbody tr th:only-of-type {\n",
       "        vertical-align: middle;\n",
       "    }\n",
       "\n",
       "    .dataframe tbody tr th {\n",
       "        vertical-align: top;\n",
       "    }\n",
       "\n",
       "    .dataframe thead th {\n",
       "        text-align: right;\n",
       "    }\n",
       "</style>\n",
       "<table border=\"1\" class=\"dataframe\">\n",
       "  <thead>\n",
       "    <tr style=\"text-align: right;\">\n",
       "      <th></th>\n",
       "      <th>Model</th>\n",
       "      <th>Training Accuracy</th>\n",
       "      <th>Training Precision</th>\n",
       "      <th>Training Recall</th>\n",
       "      <th>Training F1</th>\n",
       "      <th>Test Accuracy</th>\n",
       "      <th>Test Precision</th>\n",
       "      <th>Test Recall</th>\n",
       "      <th>Test F1</th>\n",
       "      <th>10-Fold CV Timing (seconds)</th>\n",
       "    </tr>\n",
       "  </thead>\n",
       "  <tbody>\n",
       "    <tr>\n",
       "      <th>0</th>\n",
       "      <td>Random Forest</td>\n",
       "      <td>88.620690</td>\n",
       "      <td>88.501165</td>\n",
       "      <td>87.234518</td>\n",
       "      <td>88.118014</td>\n",
       "      <td>86.477462</td>\n",
       "      <td>75.000000</td>\n",
       "      <td>72.611465</td>\n",
       "      <td>73.786408</td>\n",
       "      <td>22.078050</td>\n",
       "    </tr>\n",
       "    <tr>\n",
       "      <th>4</th>\n",
       "      <td>XG Boosting</td>\n",
       "      <td>88.669951</td>\n",
       "      <td>88.556571</td>\n",
       "      <td>88.816735</td>\n",
       "      <td>88.308415</td>\n",
       "      <td>86.310518</td>\n",
       "      <td>75.510204</td>\n",
       "      <td>70.700637</td>\n",
       "      <td>73.026316</td>\n",
       "      <td>3.741716</td>\n",
       "    </tr>\n",
       "    <tr>\n",
       "      <th>8</th>\n",
       "      <td>LG Boosting</td>\n",
       "      <td>88.669951</td>\n",
       "      <td>88.448549</td>\n",
       "      <td>89.304019</td>\n",
       "      <td>88.456955</td>\n",
       "      <td>86.143573</td>\n",
       "      <td>73.417722</td>\n",
       "      <td>73.885350</td>\n",
       "      <td>73.650794</td>\n",
       "      <td>10.462875</td>\n",
       "    </tr>\n",
       "    <tr>\n",
       "      <th>5</th>\n",
       "      <td>Cat Boosting</td>\n",
       "      <td>NaN</td>\n",
       "      <td>88.825299</td>\n",
       "      <td>89.205979</td>\n",
       "      <td>88.580473</td>\n",
       "      <td>85.976628</td>\n",
       "      <td>73.248408</td>\n",
       "      <td>73.248408</td>\n",
       "      <td>73.248408</td>\n",
       "      <td>149.181539</td>\n",
       "    </tr>\n",
       "    <tr>\n",
       "      <th>6</th>\n",
       "      <td>Gradient Boosting</td>\n",
       "      <td>86.502463</td>\n",
       "      <td>87.668297</td>\n",
       "      <td>85.256261</td>\n",
       "      <td>86.088718</td>\n",
       "      <td>85.976628</td>\n",
       "      <td>72.121212</td>\n",
       "      <td>75.796178</td>\n",
       "      <td>73.913043</td>\n",
       "      <td>10.993851</td>\n",
       "    </tr>\n",
       "    <tr>\n",
       "      <th>7</th>\n",
       "      <td>ADA Boosting</td>\n",
       "      <td>79.310345</td>\n",
       "      <td>83.517410</td>\n",
       "      <td>73.129489</td>\n",
       "      <td>77.750937</td>\n",
       "      <td>83.806344</td>\n",
       "      <td>70.833333</td>\n",
       "      <td>64.968153</td>\n",
       "      <td>67.774086</td>\n",
       "      <td>3.826760</td>\n",
       "    </tr>\n",
       "    <tr>\n",
       "      <th>2</th>\n",
       "      <td>K-Nearest Neighbors</td>\n",
       "      <td>84.039409</td>\n",
       "      <td>80.570713</td>\n",
       "      <td>89.856339</td>\n",
       "      <td>84.905673</td>\n",
       "      <td>82.971619</td>\n",
       "      <td>63.285024</td>\n",
       "      <td>83.439490</td>\n",
       "      <td>71.978022</td>\n",
       "      <td>0.823149</td>\n",
       "    </tr>\n",
       "    <tr>\n",
       "      <th>9</th>\n",
       "      <td>Decision Trees</td>\n",
       "      <td>83.940887</td>\n",
       "      <td>84.111088</td>\n",
       "      <td>84.077849</td>\n",
       "      <td>83.814721</td>\n",
       "      <td>82.303840</td>\n",
       "      <td>64.571429</td>\n",
       "      <td>71.974522</td>\n",
       "      <td>68.072289</td>\n",
       "      <td>0.473471</td>\n",
       "    </tr>\n",
       "    <tr>\n",
       "      <th>1</th>\n",
       "      <td>Support Vector Machines</td>\n",
       "      <td>66.650246</td>\n",
       "      <td>66.829493</td>\n",
       "      <td>66.099786</td>\n",
       "      <td>66.393077</td>\n",
       "      <td>70.784641</td>\n",
       "      <td>46.456693</td>\n",
       "      <td>75.159236</td>\n",
       "      <td>57.420925</td>\n",
       "      <td>4.459060</td>\n",
       "    </tr>\n",
       "    <tr>\n",
       "      <th>3</th>\n",
       "      <td>Logistic Regression</td>\n",
       "      <td>63.546798</td>\n",
       "      <td>62.487034</td>\n",
       "      <td>67.679091</td>\n",
       "      <td>64.916437</td>\n",
       "      <td>61.769616</td>\n",
       "      <td>37.837838</td>\n",
       "      <td>71.337580</td>\n",
       "      <td>49.448124</td>\n",
       "      <td>1.086406</td>\n",
       "    </tr>\n",
       "  </tbody>\n",
       "</table>\n",
       "</div>"
      ],
      "text/plain": [
       "                     Model  Training Accuracy  Training Precision  \\\n",
       "0            Random Forest          88.620690           88.501165   \n",
       "4              XG Boosting          88.669951           88.556571   \n",
       "8              LG Boosting          88.669951           88.448549   \n",
       "5             Cat Boosting                NaN           88.825299   \n",
       "6        Gradient Boosting          86.502463           87.668297   \n",
       "7             ADA Boosting          79.310345           83.517410   \n",
       "2      K-Nearest Neighbors          84.039409           80.570713   \n",
       "9           Decision Trees          83.940887           84.111088   \n",
       "1  Support Vector Machines          66.650246           66.829493   \n",
       "3      Logistic Regression          63.546798           62.487034   \n",
       "\n",
       "   Training Recall  Training F1  Test Accuracy  Test Precision  Test Recall  \\\n",
       "0        87.234518    88.118014      86.477462       75.000000    72.611465   \n",
       "4        88.816735    88.308415      86.310518       75.510204    70.700637   \n",
       "8        89.304019    88.456955      86.143573       73.417722    73.885350   \n",
       "5        89.205979    88.580473      85.976628       73.248408    73.248408   \n",
       "6        85.256261    86.088718      85.976628       72.121212    75.796178   \n",
       "7        73.129489    77.750937      83.806344       70.833333    64.968153   \n",
       "2        89.856339    84.905673      82.971619       63.285024    83.439490   \n",
       "9        84.077849    83.814721      82.303840       64.571429    71.974522   \n",
       "1        66.099786    66.393077      70.784641       46.456693    75.159236   \n",
       "3        67.679091    64.916437      61.769616       37.837838    71.337580   \n",
       "\n",
       "     Test F1  10-Fold CV Timing (seconds)  \n",
       "0  73.786408                    22.078050  \n",
       "4  73.026316                     3.741716  \n",
       "8  73.650794                    10.462875  \n",
       "5  73.248408                   149.181539  \n",
       "6  73.913043                    10.993851  \n",
       "7  67.774086                     3.826760  \n",
       "2  71.978022                     0.823149  \n",
       "9  68.072289                     0.473471  \n",
       "1  57.420925                     4.459060  \n",
       "3  49.448124                     1.086406  "
      ]
     },
     "execution_count": 46,
     "metadata": {},
     "output_type": "execute_result"
    }
   ],
   "source": [
    "score_df"
   ]
  },
  {
   "cell_type": "code",
   "execution_count": 47,
   "metadata": {},
   "outputs": [],
   "source": [
    "# Fitting the final model\n",
    "final_model = xgb.XGBClassifier(n_jobs=-1)\n",
    "final_model.fit(X_train, y_train)\n",
    "\n",
    "# Making predictions\n",
    "pred = final_model.predict(X_test)"
   ]
  },
  {
   "cell_type": "code",
   "execution_count": 48,
   "metadata": {},
   "outputs": [
    {
     "data": {
      "text/plain": [
       "<Axes: title={'center': 'Feature importance'}, xlabel='F score', ylabel='Features'>"
      ]
     },
     "execution_count": 48,
     "metadata": {},
     "output_type": "execute_result"
    },
    {
     "data": {
      "image/png": "[encoded data removed]",
      "text/plain": [
       "<Figure size 640x480 with 1 Axes>"
      ]
     },
     "metadata": {},
     "output_type": "display_data"
    }
   ],
   "source": [
    "xgb.plot_importance(final_model)"
   ]
  },
  {
   "cell_type": "code",
   "execution_count": 49,
   "metadata": {},
   "outputs": [
    {
     "name": "stdout",
     "output_type": "stream",
     "text": [
      "              precision    recall  f1-score   support\n",
      "\n",
      "           0       0.90      0.92      0.91       442\n",
      "           1       0.76      0.71      0.73       157\n",
      "\n",
      "    accuracy                           0.86       599\n",
      "   macro avg       0.83      0.81      0.82       599\n",
      "weighted avg       0.86      0.86      0.86       599\n",
      "\n"
     ]
    }
   ],
   "source": [
    "print(classification_report(y_test, pred))"
   ]
  },
  {
   "cell_type": "code",
   "execution_count": 50,
   "metadata": {},
   "outputs": [
    {
     "data": {
      "text/plain": [
       "<Axes: >"
      ]
     },
     "execution_count": 50,
     "metadata": {},
     "output_type": "execute_result"
    },
    {
     "data": {
      "image/png": "[encoded data removed]",
      "text/plain": [
       "<Figure size 640x480 with 2 Axes>"
      ]
     },
     "metadata": {},
     "output_type": "display_data"
    }
   ],
   "source": [
    "sns.heatmap(confusion_matrix(y_test, pred), cmap= \"Blues\", annot=True, fmt='')"
   ]
  }
 ],
 "metadata": {
  "kernelspec": {
   "display_name": "Python 3",
   "language": "python",
   "name": "python3"
  },
  "language_info": {
   "codemirror_mode": {
    "name": "ipython",
    "version": 3
   },
   "file_extension": ".py",
   "mimetype": "text/x-python",
   "name": "python",
   "nbconvert_exporter": "python",
   "pygments_lexer": "ipython3",
   "version": "3.11.9"
  }
 },
 "nbformat": 4,
 "nbformat_minor": 4
}
